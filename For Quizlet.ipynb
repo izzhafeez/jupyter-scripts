{
 "cells": [
  {
   "cell_type": "code",
   "execution_count": 2,
   "metadata": {},
   "outputs": [],
   "source": [
    "from wilcoxon.sheets import *"
   ]
  },
  {
   "cell_type": "code",
   "execution_count": 4,
   "metadata": {},
   "outputs": [],
   "source": [
    "c = getVocab(\"Chinese\")"
   ]
  },
  {
   "cell_type": "code",
   "execution_count": 59,
   "metadata": {},
   "outputs": [],
   "source": [
    "d = c[c.Level == \"Important\"]\n",
    "e = c[c.Purposes == \"Grammar\"]\n",
    "f = c[(c.Word.str.len() == 4) | (c.Purposes == \"Idiom\")]\n",
    "g = c[c.Level.fillna(\"\").str.contains(\"HSK 6\")]"
   ]
  },
  {
   "cell_type": "code",
   "execution_count": 60,
   "metadata": {},
   "outputs": [],
   "source": [
    "text = \"###\".join((g.Word + \"$$$\" + g.Usages).tolist())"
   ]
  },
  {
   "cell_type": "code",
   "execution_count": 10,
   "metadata": {},
   "outputs": [],
   "source": [
    "import pyperclip"
   ]
  },
  {
   "cell_type": "code",
   "execution_count": 62,
   "metadata": {},
   "outputs": [],
   "source": [
    "pyperclip.copy(text)"
   ]
  },
  {
   "cell_type": "code",
   "execution_count": 61,
   "metadata": {},
   "outputs": [
    {
     "data": {
      "text/plain": [
       "118398"
      ]
     },
     "execution_count": 61,
     "metadata": {},
     "output_type": "execute_result"
    }
   ],
   "source": [
    "len(text)"
   ]
  },
  {
   "cell_type": "code",
   "execution_count": 63,
   "metadata": {},
   "outputs": [
    {
     "data": {
      "text/plain": [
       "2597"
      ]
     },
     "execution_count": 63,
     "metadata": {},
     "output_type": "execute_result"
    }
   ],
   "source": [
    "text.count(\"$$$\")"
   ]
  },
  {
   "cell_type": "code",
   "execution_count": 52,
   "metadata": {},
   "outputs": [
    {
     "data": {
      "text/html": [
       "<div>\n",
       "<style scoped>\n",
       "    .dataframe tbody tr th:only-of-type {\n",
       "        vertical-align: middle;\n",
       "    }\n",
       "\n",
       "    .dataframe tbody tr th {\n",
       "        vertical-align: top;\n",
       "    }\n",
       "\n",
       "    .dataframe thead th {\n",
       "        text-align: right;\n",
       "    }\n",
       "</style>\n",
       "<table border=\"1\" class=\"dataframe\">\n",
       "  <thead>\n",
       "    <tr style=\"text-align: right;\">\n",
       "      <th></th>\n",
       "      <th>Word</th>\n",
       "      <th>Traditional</th>\n",
       "      <th>Word Pinyin</th>\n",
       "      <th>Purposes</th>\n",
       "      <th>Usages</th>\n",
       "      <th>Examples</th>\n",
       "      <th>Example pinyin</th>\n",
       "      <th>Example translation</th>\n",
       "      <th>Level</th>\n",
       "      <th>Occurrences</th>\n",
       "    </tr>\n",
       "  </thead>\n",
       "  <tbody>\n",
       "    <tr>\n",
       "      <th>223</th>\n",
       "      <td>人家</td>\n",
       "      <td>人傢</td>\n",
       "      <td>rénjiā</td>\n",
       "      <td>NaN</td>\n",
       "      <td>other; other people; him(her, them); i</td>\n",
       "      <td>我不想跟人家一样。</td>\n",
       "      <td>wǒ bù xiǎng gēn rénjiā yīyàng。</td>\n",
       "      <td>I don't want to be the same as other people.</td>\n",
       "      <td>HSK 6</td>\n",
       "      <td>337.5</td>\n",
       "    </tr>\n",
       "    <tr>\n",
       "      <th>224</th>\n",
       "      <td>啦</td>\n",
       "      <td>啦</td>\n",
       "      <td>la</td>\n",
       "      <td>NaN</td>\n",
       "      <td>a phrase-final particle</td>\n",
       "      <td>NaN</td>\n",
       "      <td>NaN</td>\n",
       "      <td>NaN</td>\n",
       "      <td>HSK 6</td>\n",
       "      <td>258.0</td>\n",
       "    </tr>\n",
       "    <tr>\n",
       "      <th>225</th>\n",
       "      <td>二氧化碳</td>\n",
       "      <td>二氧化碳</td>\n",
       "      <td>èryǎnghuàtàn</td>\n",
       "      <td>NaN</td>\n",
       "      <td>carbon dioxide; co2</td>\n",
       "      <td>你想想啊，首先，煤电厂排放的不只是二氧化碳，还有其它有害气体，比如氧化氮和二氧化硫，这些有害...</td>\n",
       "      <td>nǐ xiǎngxiang ā，shǒuxiān，méidiànchǎng páifàng ...</td>\n",
       "      <td>Think about it. First, coal-fired power plants...</td>\n",
       "      <td>HSK 6</td>\n",
       "      <td>220.5</td>\n",
       "    </tr>\n",
       "    <tr>\n",
       "      <th>226</th>\n",
       "      <td>战略</td>\n",
       "      <td>戰略</td>\n",
       "      <td>zhànlvè</td>\n",
       "      <td>NaN</td>\n",
       "      <td>strategy</td>\n",
       "      <td>中国正在实施的乡村振兴战略中推进乡村绿色发展，打造人与自然和谐共生发展新格局成为重要内容。</td>\n",
       "      <td>Zhōngguó zhèngzài shíshī de xiāngcūn zhènxīng ...</td>\n",
       "      <td>Green development in the countryside is part o...</td>\n",
       "      <td>HSK 6</td>\n",
       "      <td>216.0</td>\n",
       "    </tr>\n",
       "    <tr>\n",
       "      <th>227</th>\n",
       "      <td>政策</td>\n",
       "      <td>政策</td>\n",
       "      <td>zhèngcè</td>\n",
       "      <td>NaN</td>\n",
       "      <td>policy; cl:个</td>\n",
       "      <td>我也看了，他们的外交政策都很保守，但是李德文的国防政策就很大胆，张美瑜的教育政策我个人也觉得...</td>\n",
       "      <td>wǒ yě kàn le，tāmen de wàijiāo zhèngcè dōu hěn ...</td>\n",
       "      <td>I saw it too, both of their foreign policy pla...</td>\n",
       "      <td>HSK 6</td>\n",
       "      <td>202.5</td>\n",
       "    </tr>\n",
       "    <tr>\n",
       "      <th>...</th>\n",
       "      <td>...</td>\n",
       "      <td>...</td>\n",
       "      <td>...</td>\n",
       "      <td>...</td>\n",
       "      <td>...</td>\n",
       "      <td>...</td>\n",
       "      <td>...</td>\n",
       "      <td>...</td>\n",
       "      <td>...</td>\n",
       "      <td>...</td>\n",
       "    </tr>\n",
       "    <tr>\n",
       "      <th>6200</th>\n",
       "      <td>吃惊</td>\n",
       "      <td>吃驚</td>\n",
       "      <td>chīliáng</td>\n",
       "      <td>Adjective</td>\n",
       "      <td>Amazing</td>\n",
       "      <td>NaN</td>\n",
       "      <td>NaN</td>\n",
       "      <td>NaN</td>\n",
       "      <td>HSK 4</td>\n",
       "      <td>3.0</td>\n",
       "    </tr>\n",
       "    <tr>\n",
       "      <th>6201</th>\n",
       "      <td>(由，从，自)——而</td>\n",
       "      <td>(由，從，自)——而</td>\n",
       "      <td>(yóu，cóng，zì)——ér</td>\n",
       "      <td>Conjunction</td>\n",
       "      <td>from that to that</td>\n",
       "      <td>而且还有奖金。</td>\n",
       "      <td>érqiě hái yǒu jiǎngjīn。</td>\n",
       "      <td>Plus there's a prize.</td>\n",
       "      <td>HSK 4</td>\n",
       "      <td>0.0</td>\n",
       "    </tr>\n",
       "    <tr>\n",
       "      <th>6202</th>\n",
       "      <td>占线</td>\n",
       "      <td>占綫</td>\n",
       "      <td>zhānxiàn</td>\n",
       "      <td>Verb</td>\n",
       "      <td>to be busy on the phone</td>\n",
       "      <td>NaN</td>\n",
       "      <td>NaN</td>\n",
       "      <td>NaN</td>\n",
       "      <td>HSK 4</td>\n",
       "      <td>0.0</td>\n",
       "    </tr>\n",
       "    <tr>\n",
       "      <th>6203</th>\n",
       "      <td>证名</td>\n",
       "      <td>證名</td>\n",
       "      <td>zhèngmíng</td>\n",
       "      <td>Noun</td>\n",
       "      <td>certificate, identification</td>\n",
       "      <td>NaN</td>\n",
       "      <td>NaN</td>\n",
       "      <td>NaN</td>\n",
       "      <td>HSK 4</td>\n",
       "      <td>0.0</td>\n",
       "    </tr>\n",
       "    <tr>\n",
       "      <th>6204</th>\n",
       "      <td>证名</td>\n",
       "      <td>證名</td>\n",
       "      <td>zhèngmíng</td>\n",
       "      <td>Verb</td>\n",
       "      <td>to prove, to testify</td>\n",
       "      <td>NaN</td>\n",
       "      <td>NaN</td>\n",
       "      <td>NaN</td>\n",
       "      <td>HSK 4</td>\n",
       "      <td>0.0</td>\n",
       "    </tr>\n",
       "  </tbody>\n",
       "</table>\n",
       "<p>5982 rows × 10 columns</p>\n",
       "</div>"
      ],
      "text/plain": [
       "            Word Traditional        Word Pinyin     Purposes  \\\n",
       "223           人家          人傢             rénjiā          NaN   \n",
       "224            啦           啦                 la          NaN   \n",
       "225         二氧化碳        二氧化碳       èryǎnghuàtàn          NaN   \n",
       "226           战略          戰略            zhànlvè          NaN   \n",
       "227           政策          政策            zhèngcè          NaN   \n",
       "...          ...         ...                ...          ...   \n",
       "6200          吃惊          吃驚           chīliáng    Adjective   \n",
       "6201  (由，从，自)——而  (由，從，自)——而  (yóu，cóng，zì)——ér  Conjunction   \n",
       "6202          占线          占綫           zhānxiàn         Verb   \n",
       "6203          证名          證名          zhèngmíng         Noun   \n",
       "6204          证名          證名          zhèngmíng         Verb   \n",
       "\n",
       "                                      Usages  \\\n",
       "223   other; other people; him(her, them); i   \n",
       "224                  a phrase-final particle   \n",
       "225                      carbon dioxide; co2   \n",
       "226                                 strategy   \n",
       "227                             policy; cl:个   \n",
       "...                                      ...   \n",
       "6200                                 Amazing   \n",
       "6201                       from that to that   \n",
       "6202                 to be busy on the phone   \n",
       "6203             certificate, identification   \n",
       "6204                    to prove, to testify   \n",
       "\n",
       "                                               Examples  \\\n",
       "223                                           我不想跟人家一样。   \n",
       "224                                                 NaN   \n",
       "225   你想想啊，首先，煤电厂排放的不只是二氧化碳，还有其它有害气体，比如氧化氮和二氧化硫，这些有害...   \n",
       "226       中国正在实施的乡村振兴战略中推进乡村绿色发展，打造人与自然和谐共生发展新格局成为重要内容。   \n",
       "227   我也看了，他们的外交政策都很保守，但是李德文的国防政策就很大胆，张美瑜的教育政策我个人也觉得...   \n",
       "...                                                 ...   \n",
       "6200                                                NaN   \n",
       "6201                                            而且还有奖金。   \n",
       "6202                                                NaN   \n",
       "6203                                                NaN   \n",
       "6204                                                NaN   \n",
       "\n",
       "                                         Example pinyin  \\\n",
       "223                      wǒ bù xiǎng gēn rénjiā yīyàng。   \n",
       "224                                                 NaN   \n",
       "225   nǐ xiǎngxiang ā，shǒuxiān，méidiànchǎng páifàng ...   \n",
       "226   Zhōngguó zhèngzài shíshī de xiāngcūn zhènxīng ...   \n",
       "227   wǒ yě kàn le，tāmen de wàijiāo zhèngcè dōu hěn ...   \n",
       "...                                                 ...   \n",
       "6200                                                NaN   \n",
       "6201                            érqiě hái yǒu jiǎngjīn。   \n",
       "6202                                                NaN   \n",
       "6203                                                NaN   \n",
       "6204                                                NaN   \n",
       "\n",
       "                                    Example translation  Level  Occurrences  \n",
       "223        I don't want to be the same as other people.  HSK 6        337.5  \n",
       "224                                                 NaN  HSK 6        258.0  \n",
       "225   Think about it. First, coal-fired power plants...  HSK 6        220.5  \n",
       "226   Green development in the countryside is part o...  HSK 6        216.0  \n",
       "227   I saw it too, both of their foreign policy pla...  HSK 6        202.5  \n",
       "...                                                 ...    ...          ...  \n",
       "6200                                                NaN  HSK 4          3.0  \n",
       "6201                              Plus there's a prize.  HSK 4          0.0  \n",
       "6202                                                NaN  HSK 4          0.0  \n",
       "6203                                                NaN  HSK 4          0.0  \n",
       "6204                                                NaN  HSK 4          0.0  \n",
       "\n",
       "[5982 rows x 10 columns]"
      ]
     },
     "execution_count": 52,
     "metadata": {},
     "output_type": "execute_result"
    }
   ],
   "source": [
    "g"
   ]
  },
  {
   "cell_type": "code",
   "execution_count": 45,
   "metadata": {},
   "outputs": [
    {
     "data": {
      "text/plain": [
       "0        False\n",
       "1        False\n",
       "2        False\n",
       "3        False\n",
       "4        False\n",
       "         ...  \n",
       "25250      NaN\n",
       "25251      NaN\n",
       "25252      NaN\n",
       "25253      NaN\n",
       "25254      NaN\n",
       "Name: Level, Length: 25255, dtype: object"
      ]
     },
     "execution_count": 45,
     "metadata": {},
     "output_type": "execute_result"
    }
   ],
   "source": [
    "c[c.Level.str.contains(\"HSK\")]"
   ]
  },
  {
   "cell_type": "code",
   "execution_count": null,
   "metadata": {},
   "outputs": [],
   "source": []
  }
 ],
 "metadata": {
  "kernelspec": {
   "display_name": "Python 3",
   "language": "python",
   "name": "python3"
  },
  "language_info": {
   "codemirror_mode": {
    "name": "ipython",
    "version": 3
   },
   "file_extension": ".py",
   "mimetype": "text/x-python",
   "name": "python",
   "nbconvert_exporter": "python",
   "pygments_lexer": "ipython3",
   "version": "3.8.5"
  }
 },
 "nbformat": 4,
 "nbformat_minor": 4
}
