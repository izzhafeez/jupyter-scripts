{
 "cells": [
  {
   "cell_type": "code",
   "execution_count": 1,
   "id": "55618561",
   "metadata": {},
   "outputs": [],
   "source": [
    "import requests\n",
    "from geo.locations.mall import Malls\n",
    "from geo.locations.school import Schools\n",
    "from geo.locations.network import Network\n",
    "from tqdm import tqdm\n",
    "from itertools import combinations\n",
    "import numpy as np"
   ]
  },
  {
   "cell_type": "code",
   "execution_count": 2,
   "id": "afb44556",
   "metadata": {},
   "outputs": [],
   "source": [
    "malls = Malls.get()\n",
    "# for mall in tqdm(malls):\n",
    "#     data = {\n",
    "#         \"name\": mall.name,\n",
    "#         \"lat\": mall.lat,\n",
    "#         \"lon\": mall.lon,\n",
    "#         \"location_type\": \"MALL\"\n",
    "#     }\n",
    "#     r = requests.post(\"http://meetup-maker.herokuapp.com/locations/create/\", data=data)\n",
    "    \n",
    "# schools = Schools.get()\n",
    "# for school in tqdm(schools):\n",
    "#     data = {\n",
    "#         \"name\": school.name,\n",
    "#         \"lat\": school.lat,\n",
    "#         \"lon\": school.lon,\n",
    "#         \"location_type\": \"SCHOOL\"\n",
    "#     }\n",
    "#     requests.post(\"http://localhost:8000/locations/create/\", data=data)\n",
    "\n",
    "network = Network(year = 2022)\n",
    "# for station in tqdm(network.stations):\n",
    "#     data = {\n",
    "#         \"name\": station.name,\n",
    "#         \"lat\": station.lat,\n",
    "#         \"lon\": station.lon,\n",
    "#         \"location_type\": \"MRT\"\n",
    "#     }\n",
    "#     requests.post(\"http://localhost:8000/locations/create/\", data=data)"
   ]
  },
  {
   "cell_type": "code",
   "execution_count": 88,
   "id": "cf11698d",
   "metadata": {},
   "outputs": [
    {
     "name": "stderr",
     "output_type": "stream",
     "text": [
      "224it [05:32,  1.49s/it]\n"
     ]
    }
   ],
   "source": [
    "for station in tqdm(network.stations):\n",
    "    station_dict = {\n",
    "        \"lat\": station.lat,\n",
    "        \"lon\": station.lon,\n",
    "        \"name\": station.name,\n",
    "        \"code\": \", \".join(map(lambda x: x.name, station.platforms))\n",
    "    }\n",
    "    requests.post(\"http://localhost:8000/locations/mrt/create/\", data=station_dict)"
   ]
  },
  {
   "cell_type": "code",
   "execution_count": 30,
   "id": "33d02600",
   "metadata": {},
   "outputs": [
    {
     "data": {
      "text/plain": [
       "[('100 AM', (<Station: Tanjong Pagar>, 0.2324)),\n",
       " ('313@Somerset', (<Station: Somerset>, 0.0387)),\n",
       " ('321 Clementi', (<Station: Clementi>, 0.3396)),\n",
       " ('Alexandra Retail Centre', (<Station: Labrador Park>, 0.1358)),\n",
       " ('AMK Hub', (<Station: Ang Mo Kio>, 0.0678)),\n",
       " ('Anchorpoint', (<Station: Queenstown>, 0.42)),\n",
       " ('Aperia', (<Station: Lavender>, 0.2587)),\n",
       " ('Bedok Mall', (<Station: Bedok>, 0.0323)),\n",
       " ('Bedok Point', (<Station: Bedok>, 0.256)),\n",
       " ('Buangkok Square', (<Station: Tongkang>, 0.644)),\n",
       " ('Bugis Junction', (<Station: Bugis>, 0.0168)),\n",
       " ('Bugis Street', (<Station: Bugis>, 0.0916)),\n",
       " ('Bugis+', (<Station: Bugis>, 0.1639)),\n",
       " ('Bukit Panjang Plaza', (<Station: Bukit Panjang>, 0.3136)),\n",
       " ('Canberra Plaza', (<Station: Canberra>, 0.0642)),\n",
       " ('Capitol Singapore', (<Station: City Hall>, 0.0854)),\n",
       " ('Cathay Cineleisure Orchard', (<Station: Somerset>, 0.256)),\n",
       " ('Causeway Point', (<Station: Woodlands>, 0.0531)),\n",
       " ('Century Square', (<Station: Tampines>, 0.2292)),\n",
       " ('Changi Airport T3', (<Station: Changi Airport>, 0.0707)),\n",
       " ('Changi Airport T4', (<Station: Xilin>, 2.0787)),\n",
       " ('Changi City Point', (<Station: Expo>, 0.0806)),\n",
       " ('Chinatown Point', (<Station: Chinatown>, 0.0538)),\n",
       " ('City Gate Mall', (<Station: Nicoll Highway>, 0.27)),\n",
       " ('City Square Mall', (<Station: Farrer Park>, 0.2229)),\n",
       " ('CityLink Mall', (<Station: Esplanade>, 0.2159)),\n",
       " ('Clarke Quay Central', (<Station: Clarke Quay>, 0)),\n",
       " ('Clementi Mall', (<Station: Clementi>, 0.0457)),\n",
       " ('Compass One', (<Station: Sengkang>, 0.0435)),\n",
       " ('Eastpoint Mall', (<Station: Simei>, 0.0447)),\n",
       " ('Elias Mall', (<Station: Elias>, 0.6616)),\n",
       " ('FairPrice Hub', (<Station: Joo Koon>, 0.0209)),\n",
       " ('Fajar Shopping Centre', (<Station: Fajar>, 0.0021)),\n",
       " ('Far East Plaza', (<Station: Orchard>, 0.419)),\n",
       " ('Funan', (<Station: City Hall>, 0.2697)),\n",
       " ('Golden Mile Complex', (<Station: Nicoll Highway>, 0.2843)),\n",
       " ('Grandstand Car Mall', (<Station: Sixth Avenue>, 0.1933)),\n",
       " ('Great World City', (<Station: Great World>, 0.1933)),\n",
       " ('Greenwich V', (<Station: Fernvale>, 0.8012)),\n",
       " ('HarbourFront Centre', (<Station: HarbourFront>, 0.1614)),\n",
       " ('Heartland Mall', (<Station: Kovan>, 0.0533)),\n",
       " ('Hillion Mall', (<Station: Bukit Panjang>, 0.0874)),\n",
       " ('HillV2', (<Station: Hillview>, 0.3247)),\n",
       " ('Holland Road Shopping Centre', (<Station: Holland Village>, 0.1702)),\n",
       " ('Hougang 1', (<Station: Serangoon North>, 0.7838)),\n",
       " ('Hougang Mall', (<Station: Hougang>, 0.1651)),\n",
       " ('I12 Katong', (<Station: Marine Parade>, 0.2338)),\n",
       " ('Icon Village', (<Station: Tanjong Pagar>, 0.1458)),\n",
       " ('IKEA Tampines', (<Station: Tampines North>, 0.6957)),\n",
       " ('IMM', (<Station: Jurong East>, 0.3651)),\n",
       " ('ION Orchard', (<Station: Orchard>, 0.0205)),\n",
       " ('JCube', (<Station: Jurong East>, 0.1754)),\n",
       " ('Jem', (<Station: Jurong East>, 0.0308)),\n",
       " ('Jewel Changi Airport', (<Station: Changi Airport>, 0.2526)),\n",
       " ('Jubilee Square', (<Station: Ang Mo Kio>, 0.2423)),\n",
       " ('Junction 10', (<Station: Ten Mile Junction>, 0)),\n",
       " ('Junction 8 Shopping Centre', (<Station: Bishan>, 0)),\n",
       " ('Junction 9', (<Station: Yishun>, 0.7516)),\n",
       " ('Jurong Point Shopping Mall', (<Station: Boon Lay>, 0.0177)),\n",
       " ('Kallang Wave Mall', (<Station: Stadium>, 0.0519)),\n",
       " ('Katong Shopping Centre', (<Station: Marine Parade>, 0.3902)),\n",
       " ('Katong V', (<Station: Marine Parade>, 0.1271)),\n",
       " ('KINEX', (<Station: Paya Lebar>, 0.3382)),\n",
       " ('Le Quest', (<Station: Tengah Park>, 0.5907)),\n",
       " ('Leisure Park Kallang', (<Station: Stadium>, 0.0665)),\n",
       " ('Liang Court', (<Station: Fort Canning>, 0.035)),\n",
       " ('Lot One', (<Station: Choa Chu Kang>, 0.0192)),\n",
       " ('Loyang Point', (<Station: Pasir Ris East>, 0.3151)),\n",
       " ('Lucky Plaza', (<Station: Orchard>, 0.2285)),\n",
       " ('Mandarin Gallery', (<Station: Somerset>, 0.2484)),\n",
       " ('Marina Bay Link Mall', (<Station: Downtown>, 0.0341)),\n",
       " ('Marina Bay Sands Shoppes', (<Station: Bayfront>, 0.0778)),\n",
       " ('Marina One', (<Station: Marina Bay>, 0.1489)),\n",
       " ('Marina Square', (<Station: Esplanade>, 0.1572)),\n",
       " ('Millenia Walk', (<Station: Promenade>, 0.0497)),\n",
       " ('Mustafa Centre', (<Station: Farrer Park>, 0.3087)),\n",
       " ('Nex', (<Station: Serangoon>, 0)),\n",
       " ('Ngee Ann City', (<Station: Orchard>, 0.2002)),\n",
       " ('Northpoint City', (<Station: Yishun>, 0.0489)),\n",
       " ('Northshore Plaza', (<Station: Samudera>, 0.0379)),\n",
       " ('Velocity @ Novena Square', (<Station: Novena>, 0)),\n",
       " ('Downtown East', (<Station: Pasir Ris>, 0.73)),\n",
       " ('Oasis Terraces', (<Station: Oasis>, 0.034)),\n",
       " ('One Fullerton', (<Station: Raffles Place>, 0.253)),\n",
       " ('One Raffles Place', (<Station: Raffles Place>, 0.0312)),\n",
       " ('Orchard Central', (<Station: Somerset>, 0.0213)),\n",
       " ('Orchard Gateway', (<Station: Somerset>, 0)),\n",
       " ('Our Tampines Hub', (<Station: Tampines>, 0.1618)),\n",
       " ('Parkway Parade', (<Station: Marine Parade>, 0.0141)),\n",
       " ('Paya Lebar Quarter', (<Station: Paya Lebar>, 0)),\n",
       " ('Paya Lebar Square', (<Station: Paya Lebar>, 0.0541)),\n",
       " (\"People's Park Complex\", (<Station: Chinatown>, 0.0888)),\n",
       " ('Plaza Singapura', (<Station: Dhoby Ghaut>, 0.1485)),\n",
       " ('Punggol Plaza', (<Station: Coral Edge>, 0.0244)),\n",
       " ('Queensway Shopping Centre', (<Station: Queenstown>, 0.7549)),\n",
       " ('Raffles City Singapore', (<Station: City Hall>, 0.0446)),\n",
       " ('Rail Mall', (<Station: Hume>, 0.3366)),\n",
       " ('Resorts World Sentosa', (<Station: HarbourFront>, 0.7963)),\n",
       " ('Rivervale Mall', (<Station: Rumbia>, 0.114)),\n",
       " ('Seletar Mall', (<Station: Fernvale>, 0.0219)),\n",
       " ('Sembawang Shopping Centre', (<Station: Canberra>, 0.4915)),\n",
       " ('Shaw Centre', (<Station: Orchard>, 0.2771)),\n",
       " ('Sim Lim Square', (<Station: Rochor>, 0.0474)),\n",
       " ('Singpost Centre', (<Station: Paya Lebar>, 0.128)),\n",
       " ('Square 2', (<Station: Novena>, 0.0351)),\n",
       " ('Sun Plaza', (<Station: Sembawang>, 0.0532)),\n",
       " ('Suntec City', (<Station: Promenade>, 0.0935)),\n",
       " ('Taman Jurong Shopping Centre', (<Station: Lakeside>, 1.0096)),\n",
       " ('Tampines 1', (<Station: Tampines>, 0.233)),\n",
       " ('Tampines Mall', (<Station: Tampines>, 0.2703)),\n",
       " ('Tampines Mart', (<Station: Tampines East>, 0.5383)),\n",
       " ('Tanjong Pagar Centre', (<Station: Tanjong Pagar>, 0)),\n",
       " ('Tekka Place', (<Station: Rochor>, 0.1638)),\n",
       " ('The Centrepoint', (<Station: Somerset>, 0.0959)),\n",
       " ('The Paragon', (<Station: Orchard>, 0.357)),\n",
       " ('The Star Vista', (<Station: Buona Vista>, 0.1671)),\n",
       " ('Thomson Plaza', (<Station: Upper Thomson>, 0.1789)),\n",
       " ('Tiong Bahru Plaza', (<Station: Tiong Bahru>, 0.0282)),\n",
       " ('United Square', (<Station: Novena>, 0.2739)),\n",
       " ('Viva Vista', (<Station: Haw Par Villa>, 0.5137)),\n",
       " ('VivoCity', (<Station: HarbourFront>, 0)),\n",
       " ('Waterway Point', (<Station: Punggol>, 0.028)),\n",
       " ('West Coast Plaza', (<Station: Clementi>, 1.2386)),\n",
       " ('West Mall', (<Station: Bukit Batok>, 0.0251)),\n",
       " ('Westgate', (<Station: Jurong East>, 0.0308)),\n",
       " ('Wheelock Place', (<Station: Orchard>, 0.1433)),\n",
       " ('White Sands', (<Station: Pasir Ris>, 0.14)),\n",
       " ('Wisma Atria', (<Station: Orchard>, 0.1225)),\n",
       " ('Wisteria Mall', (<Station: Khatib>, 0.8764)),\n",
       " ('Woods Square', (<Station: Woodlands>, 0.2273)),\n",
       " ('Yew Tee Point', (<Station: Yew Tee>, 0.0296))]"
      ]
     },
     "execution_count": 30,
     "metadata": {},
     "output_type": "execute_result"
    }
   ],
   "source": [
    "malls.map_nearest_to(network.stations)"
   ]
  },
  {
   "cell_type": "code",
   "execution_count": 98,
   "id": "507d0f38",
   "metadata": {},
   "outputs": [
    {
     "name": "stderr",
     "output_type": "stream",
     "text": [
      "\r",
      "0it [00:00, ?it/s]"
     ]
    },
    {
     "name": "stdout",
     "output_type": "stream",
     "text": [
      "Tanjong Pagar\n"
     ]
    },
    {
     "name": "stderr",
     "output_type": "stream",
     "text": [
      "0it [00:01, ?it/s]\n"
     ]
    }
   ],
   "source": [
    "for mall in tqdm(malls):\n",
    "    mall_dict = {\n",
    "        \"lat\": mall.lat,\n",
    "        \"lon\": mall.lon,\n",
    "        \"name\": mall.name,\n",
    "        \"stores\": int(mall.stores),\n",
    "        \"mrt\": mall.nearest_station.name\n",
    "    }\n",
    "    print(mall_dict[\"mrt\"])\n",
    "    r = requests.post(\"http://localhost:8000/locations/malls/create/\", data=mall_dict)\n",
    "    break\n",
    "    "
   ]
  },
  {
   "cell_type": "code",
   "execution_count": 99,
   "id": "b55bda37",
   "metadata": {},
   "outputs": [
    {
     "data": {
      "text/plain": [
       "{'err': 'invalid input syntax for type integer: \"Tanjong Pagar\"\\nLINE 1: ...\"lon\" = 103.84350000 AND \"locations_mall\".\"mrt\" = \\'Tanjong P...\\n                                                             ^\\n'}"
      ]
     },
     "execution_count": 99,
     "metadata": {},
     "output_type": "execute_result"
    }
   ],
   "source": [
    "r.json()"
   ]
  },
  {
   "cell_type": "code",
   "execution_count": 16,
   "id": "d9b98ebb",
   "metadata": {},
   "outputs": [],
   "source": [
    "r = requests.post(\"http://localhost:8000/locations/mrt/create/\", data={\"name\": \"Choa Chu Kang\"})"
   ]
  },
  {
   "cell_type": "code",
   "execution_count": 18,
   "id": "3b5b0462",
   "metadata": {},
   "outputs": [
    {
     "data": {
      "text/plain": [
       "{'err': \"'lat'\"}"
      ]
     },
     "execution_count": 18,
     "metadata": {},
     "output_type": "execute_result"
    }
   ],
   "source": [
    "r.json()"
   ]
  },
  {
   "cell_type": "code",
   "execution_count": 49,
   "id": "e3a930da",
   "metadata": {},
   "outputs": [
    {
     "data": {
      "text/plain": [
       "[('100 AM', (<Station: Tanjong Pagar>, 0.2324)),\n",
       " ('313@Somerset', (<Station: Somerset>, 0.0387)),\n",
       " ('321 Clementi', (<Station: Clementi>, 0.3396)),\n",
       " ('Alexandra Retail Centre', (<Station: Labrador Park>, 0.1358)),\n",
       " ('AMK Hub', (<Station: Ang Mo Kio>, 0.0678)),\n",
       " ('Anchorpoint', (<Station: Queenstown>, 0.42)),\n",
       " ('Aperia', (<Station: Lavender>, 0.2587)),\n",
       " ('Bedok Mall', (<Station: Bedok>, 0.0323)),\n",
       " ('Bedok Point', (<Station: Bedok>, 0.256)),\n",
       " ('Buangkok Square', (<Station: Tongkang>, 0.644)),\n",
       " ('Bugis Junction', (<Station: Bugis>, 0.0168)),\n",
       " ('Bugis Street', (<Station: Bugis>, 0.0916)),\n",
       " ('Bugis+', (<Station: Bugis>, 0.1639)),\n",
       " ('Bukit Panjang Plaza', (<Station: Bukit Panjang>, 0.3136)),\n",
       " ('Canberra Plaza', (<Station: Canberra>, 0.0642)),\n",
       " ('Capitol Singapore', (<Station: City Hall>, 0.0854)),\n",
       " ('Cathay Cineleisure Orchard', (<Station: Somerset>, 0.256)),\n",
       " ('Causeway Point', (<Station: Woodlands>, 0.0531)),\n",
       " ('Century Square', (<Station: Tampines>, 0.2292)),\n",
       " ('Changi Airport T3', (<Station: Changi Airport>, 0.0707)),\n",
       " ('Changi Airport T4', (<Station: Xilin>, 2.0787)),\n",
       " ('Changi City Point', (<Station: Expo>, 0.0806)),\n",
       " ('Chinatown Point', (<Station: Chinatown>, 0.0538)),\n",
       " ('City Gate Mall', (<Station: Nicoll Highway>, 0.27)),\n",
       " ('City Square Mall', (<Station: Farrer Park>, 0.2229)),\n",
       " ('CityLink Mall', (<Station: Esplanade>, 0.2159)),\n",
       " ('Clarke Quay Central', (<Station: Clarke Quay>, 0)),\n",
       " ('Clementi Mall', (<Station: Clementi>, 0.0457)),\n",
       " ('Compass One', (<Station: Sengkang>, 0.0435)),\n",
       " ('Eastpoint Mall', (<Station: Simei>, 0.0447)),\n",
       " ('Elias Mall', (<Station: Elias>, 0.6616)),\n",
       " ('FairPrice Hub', (<Station: Joo Koon>, 0.0209)),\n",
       " ('Fajar Shopping Centre', (<Station: Fajar>, 0.0021)),\n",
       " ('Far East Plaza', (<Station: Orchard>, 0.419)),\n",
       " ('Funan', (<Station: City Hall>, 0.2697)),\n",
       " ('Golden Mile Complex', (<Station: Nicoll Highway>, 0.2843)),\n",
       " ('Grandstand Car Mall', (<Station: Sixth Avenue>, 0.1933)),\n",
       " ('Great World City', (<Station: Great World>, 0.1933)),\n",
       " ('Greenwich V', (<Station: Fernvale>, 0.8012)),\n",
       " ('HarbourFront Centre', (<Station: HarbourFront>, 0.1614)),\n",
       " ('Heartland Mall', (<Station: Kovan>, 0.0533)),\n",
       " ('Hillion Mall', (<Station: Bukit Panjang>, 0.0874)),\n",
       " ('HillV2', (<Station: Hillview>, 0.3247)),\n",
       " ('Holland Road Shopping Centre', (<Station: Holland Village>, 0.1702)),\n",
       " ('Hougang 1', (<Station: Serangoon North>, 0.7838)),\n",
       " ('Hougang Mall', (<Station: Hougang>, 0.1651)),\n",
       " ('I12 Katong', (<Station: Marine Parade>, 0.2338)),\n",
       " ('Icon Village', (<Station: Tanjong Pagar>, 0.1458)),\n",
       " ('IKEA Tampines', (<Station: Tampines North>, 0.6957)),\n",
       " ('IMM', (<Station: Jurong East>, 0.3651)),\n",
       " ('ION Orchard', (<Station: Orchard>, 0.0205)),\n",
       " ('JCube', (<Station: Jurong East>, 0.1754)),\n",
       " ('Jem', (<Station: Jurong East>, 0.0308)),\n",
       " ('Jewel Changi Airport', (<Station: Changi Airport>, 0.2526)),\n",
       " ('Jubilee Square', (<Station: Ang Mo Kio>, 0.2423)),\n",
       " ('Junction 10', (<Station: Ten Mile Junction>, 0)),\n",
       " ('Junction 8 Shopping Centre', (<Station: Bishan>, 0)),\n",
       " ('Junction 9', (<Station: Yishun>, 0.7516)),\n",
       " ('Jurong Point Shopping Mall', (<Station: Boon Lay>, 0.0177)),\n",
       " ('Kallang Wave Mall', (<Station: Stadium>, 0.0519)),\n",
       " ('Katong Shopping Centre', (<Station: Marine Parade>, 0.3902)),\n",
       " ('Katong V', (<Station: Marine Parade>, 0.1271)),\n",
       " ('KINEX', (<Station: Paya Lebar>, 0.3382)),\n",
       " ('Le Quest', (<Station: Tengah Park>, 0.5907)),\n",
       " ('Leisure Park Kallang', (<Station: Stadium>, 0.0665)),\n",
       " ('Liang Court', (<Station: Fort Canning>, 0.035)),\n",
       " ('Lot One', (<Station: Choa Chu Kang>, 0.0192)),\n",
       " ('Loyang Point', (<Station: Pasir Ris East>, 0.3151)),\n",
       " ('Lucky Plaza', (<Station: Orchard>, 0.2285)),\n",
       " ('Mandarin Gallery', (<Station: Somerset>, 0.2484)),\n",
       " ('Marina Bay Link Mall', (<Station: Downtown>, 0.0341)),\n",
       " ('Marina Bay Sands Shoppes', (<Station: Bayfront>, 0.0778)),\n",
       " ('Marina One', (<Station: Marina Bay>, 0.1489)),\n",
       " ('Marina Square', (<Station: Esplanade>, 0.1572)),\n",
       " ('Millenia Walk', (<Station: Promenade>, 0.0497)),\n",
       " ('Mustafa Centre', (<Station: Farrer Park>, 0.3087)),\n",
       " ('Nex', (<Station: Serangoon>, 0)),\n",
       " ('Ngee Ann City', (<Station: Orchard>, 0.2002)),\n",
       " ('Northpoint City', (<Station: Yishun>, 0.0489)),\n",
       " ('Northshore Plaza', (<Station: Samudera>, 0.0379)),\n",
       " ('Velocity @ Novena Square', (<Station: Novena>, 0)),\n",
       " ('Downtown East', (<Station: Pasir Ris>, 0.73)),\n",
       " ('Oasis Terraces', (<Station: Oasis>, 0.034)),\n",
       " ('One Fullerton', (<Station: Raffles Place>, 0.253)),\n",
       " ('One Raffles Place', (<Station: Raffles Place>, 0.0312)),\n",
       " ('Orchard Central', (<Station: Somerset>, 0.0213)),\n",
       " ('Orchard Gateway', (<Station: Somerset>, 0)),\n",
       " ('Our Tampines Hub', (<Station: Tampines>, 0.1618)),\n",
       " ('Parkway Parade', (<Station: Marine Parade>, 0.0141)),\n",
       " ('Paya Lebar Quarter', (<Station: Paya Lebar>, 0)),\n",
       " ('Paya Lebar Square', (<Station: Paya Lebar>, 0.0541)),\n",
       " (\"People's Park Complex\", (<Station: Chinatown>, 0.0888)),\n",
       " ('Plaza Singapura', (<Station: Dhoby Ghaut>, 0.1485)),\n",
       " ('Punggol Plaza', (<Station: Coral Edge>, 0.0244)),\n",
       " ('Queensway Shopping Centre', (<Station: Queenstown>, 0.7549)),\n",
       " ('Raffles City Singapore', (<Station: City Hall>, 0.0446)),\n",
       " ('Rail Mall', (<Station: Hume>, 0.3366)),\n",
       " ('Resorts World Sentosa', (<Station: HarbourFront>, 0.7963)),\n",
       " ('Rivervale Mall', (<Station: Rumbia>, 0.114)),\n",
       " ('Seletar Mall', (<Station: Fernvale>, 0.0219)),\n",
       " ('Sembawang Shopping Centre', (<Station: Canberra>, 0.4915)),\n",
       " ('Shaw Centre', (<Station: Orchard>, 0.2771)),\n",
       " ('Sim Lim Square', (<Station: Rochor>, 0.0474)),\n",
       " ('Singpost Centre', (<Station: Paya Lebar>, 0.128)),\n",
       " ('Square 2', (<Station: Novena>, 0.0351)),\n",
       " ('Sun Plaza', (<Station: Sembawang>, 0.0532)),\n",
       " ('Suntec City', (<Station: Promenade>, 0.0935)),\n",
       " ('Taman Jurong Shopping Centre', (<Station: Lakeside>, 1.0096)),\n",
       " ('Tampines 1', (<Station: Tampines>, 0.233)),\n",
       " ('Tampines Mall', (<Station: Tampines>, 0.2703)),\n",
       " ('Tampines Mart', (<Station: Tampines East>, 0.5383)),\n",
       " ('Tanjong Pagar Centre', (<Station: Tanjong Pagar>, 0)),\n",
       " ('Tekka Place', (<Station: Rochor>, 0.1638)),\n",
       " ('The Centrepoint', (<Station: Somerset>, 0.0959)),\n",
       " ('The Paragon', (<Station: Orchard>, 0.357)),\n",
       " ('The Star Vista', (<Station: Buona Vista>, 0.1671)),\n",
       " ('Thomson Plaza', (<Station: Upper Thomson>, 0.1789)),\n",
       " ('Tiong Bahru Plaza', (<Station: Tiong Bahru>, 0.0282)),\n",
       " ('United Square', (<Station: Novena>, 0.2739)),\n",
       " ('Viva Vista', (<Station: Haw Par Villa>, 0.5137)),\n",
       " ('VivoCity', (<Station: HarbourFront>, 0)),\n",
       " ('Waterway Point', (<Station: Punggol>, 0.028)),\n",
       " ('West Coast Plaza', (<Station: Clementi>, 1.2386)),\n",
       " ('West Mall', (<Station: Bukit Batok>, 0.0251)),\n",
       " ('Westgate', (<Station: Jurong East>, 0.0308)),\n",
       " ('Wheelock Place', (<Station: Orchard>, 0.1433)),\n",
       " ('White Sands', (<Station: Pasir Ris>, 0.14)),\n",
       " ('Wisma Atria', (<Station: Orchard>, 0.1225)),\n",
       " ('Wisteria Mall', (<Station: Khatib>, 0.8764)),\n",
       " ('Woods Square', (<Station: Woodlands>, 0.2273)),\n",
       " ('Yew Tee Point', (<Station: Yew Tee>, 0.0296))]"
      ]
     },
     "execution_count": 49,
     "metadata": {},
     "output_type": "execute_result"
    }
   ],
   "source": [
    "# malls.map_nearest_to(network.stations)\n",
    "for mall in malls:\n",
    "    station = mall.nearest_station\n",
    "    if not hasattr(station, \"malls\"):\n",
    "        station[\"malls\"] = [mall.name]"
   ]
  },
  {
   "cell_type": "code",
   "execution_count": 60,
   "id": "325c208a",
   "metadata": {},
   "outputs": [
    {
     "data": {
      "text/plain": [
       "0.644"
      ]
     },
     "execution_count": 60,
     "metadata": {},
     "output_type": "execute_result"
    }
   ],
   "source": [
    "malls[\"Buangkok\"].distance_to_station"
   ]
  },
  {
   "cell_type": "markdown",
   "id": "f537fac4",
   "metadata": {},
   "source": [
    "r.json()"
   ]
  },
  {
   "cell_type": "code",
   "execution_count": 32,
   "id": "b6799472",
   "metadata": {},
   "outputs": [],
   "source": [
    "search_results = requests.post(\"http://localhost:8000/locations/find_closest/\", data={\"lat\": \"1.3735\", \"lon\": \"103.8524\"})#.json()[\"search_results\"]\n"
   ]
  },
  {
   "cell_type": "code",
   "execution_count": 45,
   "id": "3d697f3e",
   "metadata": {},
   "outputs": [],
   "source": [
    "r = requests.post(\"http://meetup-maker.herokuapp.com/locations/search/\", data={\"name\": \"\"})\n"
   ]
  },
  {
   "cell_type": "code",
   "execution_count": 46,
   "id": "d295218c",
   "metadata": {},
   "outputs": [
    {
     "data": {
      "text/plain": [
       "{'search_results': [{'id': 1,\n",
       "   'name': '100 AM',\n",
       "   'lat': '1.27490000',\n",
       "   'lon': '103.84350000',\n",
       "   'location_type': 'MALL'},\n",
       "  {'id': 2,\n",
       "   'name': '313@Somerset',\n",
       "   'lat': '1.30090000',\n",
       "   'lon': '103.83840000',\n",
       "   'location_type': 'MALL'},\n",
       "  {'id': 3,\n",
       "   'name': '321 Clementi',\n",
       "   'lat': '1.31200000',\n",
       "   'lon': '103.76500000',\n",
       "   'location_type': 'MALL'},\n",
       "  {'id': 4,\n",
       "   'name': 'Alexandra Retail Centre',\n",
       "   'lat': '1.27390000',\n",
       "   'lon': '103.80150000',\n",
       "   'location_type': 'MALL'},\n",
       "  {'id': 5,\n",
       "   'name': 'AMK Hub',\n",
       "   'lat': '1.36960000',\n",
       "   'lon': '103.84850000',\n",
       "   'location_type': 'MALL'},\n",
       "  {'id': 6,\n",
       "   'name': 'Anchorpoint',\n",
       "   'lat': '1.28880000',\n",
       "   'lon': '103.80510000',\n",
       "   'location_type': 'MALL'},\n",
       "  {'id': 7,\n",
       "   'name': 'Aperia',\n",
       "   'lat': '1.31050000',\n",
       "   'lon': '103.86420000',\n",
       "   'location_type': 'MALL'},\n",
       "  {'id': 8,\n",
       "   'name': 'Bedok Mall',\n",
       "   'lat': '1.32470000',\n",
       "   'lon': '103.92930000',\n",
       "   'location_type': 'MALL'}]}"
      ]
     },
     "execution_count": 46,
     "metadata": {},
     "output_type": "execute_result"
    }
   ],
   "source": [
    "r.json()"
   ]
  },
  {
   "cell_type": "code",
   "execution_count": 21,
   "id": "9b83279c",
   "metadata": {},
   "outputs": [
    {
     "data": {
      "text/plain": [
       "{'err': 'Expression contains mixed types: DecimalField, CharField. You must set output_field.'}"
      ]
     },
     "execution_count": 21,
     "metadata": {},
     "output_type": "execute_result"
    }
   ],
   "source": [
    "search_results.json()"
   ]
  },
  {
   "cell_type": "code",
   "execution_count": 174,
   "id": "7e0c8619",
   "metadata": {},
   "outputs": [],
   "source": [
    "circles = [\n",
    "    {\n",
    "        \"r\": 2,\n",
    "        \"x\": 0,\n",
    "        \"y\": 1\n",
    "    },\n",
    "    {\n",
    "        \"r\": 1,\n",
    "        \"x\": 1,\n",
    "        \"y\": 0\n",
    "    },\n",
    "    {\n",
    "        \"r\": 1.5,\n",
    "        \"x\": -1,\n",
    "        \"y\": -1\n",
    "    },\n",
    "    {\n",
    "        \"r\": 2.5,\n",
    "        \"x\": 2,\n",
    "        \"y\": 2.5\n",
    "    }\n",
    "]\n",
    "\n",
    "def find_circle_intersections(circles):\n",
    "    r1 = circles[0][\"r\"]\n",
    "    x1 = circles[0][\"x\"]\n",
    "    y1 = circles[0][\"y\"]\n",
    "    r2 = circles[1][\"r\"]\n",
    "    x2 = circles[1][\"x\"]\n",
    "    y2 = circles[1][\"y\"]\n",
    "    R = ((x2-x1)**2 + (y2-y1)**2)**0.5\n",
    "    c1 = (r1**2-r2**2)/(2*R**2)\n",
    "    c2 = 0.5*(2*(r1**2 + r2**2)/R**2 - ((r1**2-r2**2)**2)/R**4 - 1)**0.5\n",
    "    \n",
    "    x = 0.5*(x1+x2) + c1*(x2-x1)\n",
    "    dx = c2*(y2-y1)\n",
    "    y = 0.5*(y1+y2) + c1*(y2-y1)\n",
    "    dy = c2*(x1-x2)\n",
    "    if type(dx) == complex or type(dy) == complex:\n",
    "        return [(x, y), (x, y)]\n",
    "    return [(x-dx, y-dy), (x+dx, y+dy)]\n",
    "\n",
    "def is_within(circle, point):\n",
    "    r = circle[\"r\"]\n",
    "    x1 = circle[\"x\"]\n",
    "    y1 = circle[\"y\"]\n",
    "    x2 = point[0]\n",
    "    y2 = point[1]\n",
    "    R = ((x2-x1)**2 + (y2-y1)**2)**0.5\n",
    "    return R <= r\n",
    "\n",
    "def find_center_from_circles(circles):\n",
    "    points = []\n",
    "    for c in combinations(circles, 2):\n",
    "        points.extend(find_circle_intersections(c))\n",
    "\n",
    "    passable_points = []\n",
    "    for point in points:\n",
    "        passable = True\n",
    "        for circle in circles:\n",
    "            if not is_within(circle, point):\n",
    "                passable = False\n",
    "        if passable:\n",
    "            passable_points.append(point)\n",
    "\n",
    "    if len(passable_points) == 0:\n",
    "        return (0,0)\n",
    "    else:           \n",
    "        return (\n",
    "            np.mean([point[0] for point in passable_points]),\n",
    "            np.mean([point[1] for point in passable_points])\n",
    "        )"
   ]
  },
  {
   "cell_type": "code",
   "execution_count": 203,
   "id": "9ca508a1",
   "metadata": {},
   "outputs": [],
   "source": [
    "departures = [\n",
    "    {\n",
    "        \"time\": 15,\n",
    "        \"location\": \"Bedok\"\n",
    "    },\n",
    "    {\n",
    "        \"time\": 15.5,\n",
    "        \"location\": \"Buona Vista\"\n",
    "    },\n",
    "    {\n",
    "        \"time\": 16,\n",
    "        \"location\": \"Hougang\"\n",
    "    }\n",
    "]"
   ]
  },
  {
   "cell_type": "code",
   "execution_count": 182,
   "id": "af543dc1",
   "metadata": {},
   "outputs": [],
   "source": [
    "def get_latlong(name):\n",
    "    r = requests.post(\"http://localhost:8000/locations/read/\", data={\"name\": name}).json()\n",
    "    fields = r[\"location\"][0][\"fields\"]\n",
    "    return (float(fields[\"lat\"]), float(fields[\"lon\"]))\n",
    "\n",
    "def find_center_from_departures(departures):\n",
    "    start_time = max([departure[\"time\"] for departure in departures])\n",
    "    latlongs = [{\n",
    "        \"time\": departure[\"time\"],\n",
    "        \"latlong\": get_latlong(departure[\"location\"])\n",
    "    } for departure in departures]\n",
    "    return find_center_from_time(latlongs, start_time)\n",
    "\n",
    "def find_center_from_time(latlongs, start_time):\n",
    "    speed = 12/111.33\n",
    "    inc = 0.25\n",
    "    point = (0, 0)\n",
    "    time = start_time\n",
    "    count = 0\n",
    "    while point == (0, 0):\n",
    "        if count > 100:\n",
    "            return point\n",
    "        circles = []\n",
    "        for latlong in latlongs:\n",
    "            r = (time-latlong[\"time\"])*speed\n",
    "            circles.append({\n",
    "                \"r\": r,\n",
    "                \"x\": latlong[\"latlong\"][0],\n",
    "                \"y\": latlong[\"latlong\"][1]\n",
    "            })\n",
    "        time += inc\n",
    "        count += 1\n",
    "        point = find_center_from_circles(circles)\n",
    "    return (point, time-inc)"
   ]
  },
  {
   "cell_type": "code",
   "execution_count": 183,
   "id": "d4f9874a",
   "metadata": {},
   "outputs": [
    {
     "data": {
      "text/plain": [
       "((1.317793894231612, 103.89788978118123), 16.5)"
      ]
     },
     "execution_count": 183,
     "metadata": {},
     "output_type": "execute_result"
    }
   ],
   "source": [
    "find_center_from_departures(departures)\n",
    "# get_latlong(\"Bedok\")"
   ]
  },
  {
   "cell_type": "code",
   "execution_count": 192,
   "id": "59a14955",
   "metadata": {},
   "outputs": [],
   "source": [
    "r = requests.post(\"http://localhost:8000/locations/read/\", data={\"name\": \"Bedok\"}).json()"
   ]
  },
  {
   "cell_type": "code",
   "execution_count": 190,
   "id": "62688115",
   "metadata": {},
   "outputs": [],
   "source": [
    "r = requests.post(\"http://localhost:8000/locations/find_closest/\", data={\"lat\": 1.317793894231612, \"lon\": 103.89788978118123}).json()"
   ]
  },
  {
   "cell_type": "code",
   "execution_count": 239,
   "id": "3a2b65ce",
   "metadata": {},
   "outputs": [
    {
     "data": {
      "text/plain": [
       "{'locations': [{'id': 104,\n",
       "   'name': 'Singpost Centre',\n",
       "   'lat': '1.31900000',\n",
       "   'lon': '103.89440000',\n",
       "   'location_type': 'MALL',\n",
       "   'dist': '0.00369232498805367'},\n",
       "  {'id': 63,\n",
       "   'name': 'KINEX',\n",
       "   'lat': '1.31470000',\n",
       "   'lon': '103.89480000',\n",
       "   'location_type': 'MALL',\n",
       "   'dist': '0.00437251978432248'},\n",
       "  {'id': 90,\n",
       "   'name': 'Paya Lebar Quarter',\n",
       "   'lat': '1.31750000',\n",
       "   'lon': '103.89280000',\n",
       "   'location_type': 'MALL',\n",
       "   'dist': '0.00509825914330418'},\n",
       "  {'id': 91,\n",
       "   'name': 'Paya Lebar Square',\n",
       "   'lat': '1.31880000',\n",
       "   'lon': '103.89260000',\n",
       "   'location_type': 'MALL',\n",
       "   'dist': '0.00538461082739591'},\n",
       "  {'id': 61,\n",
       "   'name': 'Katong Shopping Centre',\n",
       "   'lat': '1.30390000',\n",
       "   'lon': '103.90120000',\n",
       "   'location_type': 'MALL',\n",
       "   'dist': '0.0142827814359581'},\n",
       "  {'id': 47,\n",
       "   'name': 'I12 Katong',\n",
       "   'lat': '1.30500000',\n",
       "   'lon': '103.90510000',\n",
       "   'location_type': 'MALL',\n",
       "   'dist': '0.0146857408742025'},\n",
       "  {'id': 62,\n",
       "   'name': 'Katong V',\n",
       "   'lat': '1.30360000',\n",
       "   'lon': '103.90300000',\n",
       "   'location_type': 'MALL',\n",
       "   'dist': '0.0150857870140710'},\n",
       "  {'id': 89,\n",
       "   'name': 'Parkway Parade',\n",
       "   'lat': '1.30130000',\n",
       "   'lon': '103.90520000',\n",
       "   'location_type': 'MALL',\n",
       "   'dist': '0.0180412817200372'},\n",
       "  {'id': 65,\n",
       "   'name': 'Leisure Park Kallang',\n",
       "   'lat': '1.30220000',\n",
       "   'lon': '103.87640000',\n",
       "   'location_type': 'MALL',\n",
       "   'dist': '0.0265514638489835'},\n",
       "  {'id': 60,\n",
       "   'name': 'Kallang Wave Mall',\n",
       "   'lat': '1.30320000',\n",
       "   'lon': '103.87290000',\n",
       "   'location_type': 'MALL',\n",
       "   'dist': '0.0289390896942077'}]}"
      ]
     },
     "execution_count": 239,
     "metadata": {},
     "output_type": "execute_result"
    }
   ],
   "source": [
    "import json\n",
    "requests.post(\"http://localhost:8000/meetup/\", json=departures).json()"
   ]
  },
  {
   "cell_type": "code",
   "execution_count": 233,
   "id": "5a570669",
   "metadata": {},
   "outputs": [
    {
     "data": {
      "text/plain": [
       "[{'time': 15, 'location': 'Bedok'},\n",
       " {'time': 15.5, 'location': 'Buona Vista'},\n",
       " {'time': 16, 'location': 'Hougang'}]"
      ]
     },
     "execution_count": 233,
     "metadata": {},
     "output_type": "execute_result"
    }
   ],
   "source": [
    "b = b'[{\"time\": 15, \"location\": \"Bedok\"}, {\"time\": 15.5, \"location\": \"Buona Vista\"}, {\"time\": 16, \"location\": \"Hougang\"}]'\n",
    "ast.literal_eval(b.decode('utf-8'))"
   ]
  },
  {
   "cell_type": "code",
   "execution_count": null,
   "id": "674cd9a0",
   "metadata": {},
   "outputs": [],
   "source": []
  }
 ],
 "metadata": {
  "kernelspec": {
   "display_name": "Python 3",
   "language": "python",
   "name": "python3"
  },
  "language_info": {
   "codemirror_mode": {
    "name": "ipython",
    "version": 3
   },
   "file_extension": ".py",
   "mimetype": "text/x-python",
   "name": "python",
   "nbconvert_exporter": "python",
   "pygments_lexer": "ipython3",
   "version": "3.8.2"
  }
 },
 "nbformat": 4,
 "nbformat_minor": 5
}
