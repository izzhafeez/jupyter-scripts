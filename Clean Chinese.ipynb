{
 "cells": [
  {
   "cell_type": "code",
   "execution_count": 1,
   "metadata": {},
   "outputs": [],
   "source": [
    "from wilcoxon import *\n",
    "import re\n",
    "import pandas as pd"
   ]
  },
  {
   "cell_type": "code",
   "execution_count": 3,
   "metadata": {},
   "outputs": [],
   "source": [
    "chinese = vocab.getVocab('Chinese')"
   ]
  },
  {
   "cell_type": "code",
   "execution_count": 4,
   "metadata": {},
   "outputs": [],
   "source": [
    "chinese['Pinyin'] = chinese['Word'].apply(language.tryPinyin)"
   ]
  },
  {
   "cell_type": "code",
   "execution_count": 65,
   "metadata": {},
   "outputs": [],
   "source": [
    "## PINYIN\n",
    "regexes = []\n",
    "for row in chinese.to_numpy():\n",
    "    traditional = string.tryTraditional(row[0])\n",
    "    pinyin = string.tryPinyin(row[0])\n",
    "    wrongPinyin = pinyin not in str(row[6])\n",
    "    try:\n",
    "        if wrongPinyin:\n",
    "            regex = re.findall(re.compile(re.sub('[^a-zA-Z\\W]','.',row[6].replace(' ',''))),str(row[2]))[0]\n",
    "            regexes.append(regex)\n",
    "        else:\n",
    "            if str(row[2]) == 'nan': regexes.append(string.tryPinyin(row[0]))\n",
    "            else: regexes.append(str(row[2]))\n",
    "    except: \n",
    "        if str(row[2]) == 'nan': regexes.append(string.tryPinyin(row[0]))\n",
    "        else: regexes.append(str(row[2]))\n",
    "    simplified = string.trySimplified(row[0])\n",
    "#     if simplified != row[0]:\n",
    "#         print(row)\n",
    "pd.Series(regexes).to_clipboard()"
   ]
  },
  {
   "cell_type": "code",
   "execution_count": 72,
   "metadata": {},
   "outputs": [],
   "source": [
    "## TRADITIONAL\n",
    "traditionals = []\n",
    "for row in chinese.to_numpy():\n",
    "    traditionals.append(string.tryTraditional(row[0]))\n",
    "pd.Series(traditionals).to_clipboard()"
   ]
  },
  {
   "cell_type": "code",
   "execution_count": 7,
   "metadata": {},
   "outputs": [],
   "source": [
    "chinese['Pinyin'].to_clipboard()"
   ]
  },
  {
   "cell_type": "code",
   "execution_count": null,
   "metadata": {},
   "outputs": [],
   "source": []
  }
 ],
 "metadata": {
  "kernelspec": {
   "display_name": "Python 3",
   "language": "python",
   "name": "python3"
  },
  "language_info": {
   "codemirror_mode": {
    "name": "ipython",
    "version": 3
   },
   "file_extension": ".py",
   "mimetype": "text/x-python",
   "name": "python",
   "nbconvert_exporter": "python",
   "pygments_lexer": "ipython3",
   "version": "3.7.2"
  }
 },
 "nbformat": 4,
 "nbformat_minor": 4
}
