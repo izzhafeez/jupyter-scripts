{
 "cells": [
  {
   "cell_type": "code",
   "execution_count": null,
   "metadata": {},
   "outputs": [],
   "source": [
    "import cv2\n",
    "import numpy as np\n",
    "import skimage.exposure\n",
    "\n",
    "# specify desired bgr color for new face and make into array\n",
    "desired_color = (180, 128, 200)\n",
    "desired_color = np.asarray(desired_color, dtype=np.float64)\n",
    "\n",
    "# create swatch\n",
    "swatch = np.full((200,200,3), desired_color, dtype=np.uint8)\n",
    "\n",
    "# read image\n",
    "img = cv2.imread(\"zelda1.jpg\")\n",
    "\n",
    "# read face mask as grayscale and threshold to binary\n",
    "facemask = cv2.imread(\"zelda1_facemask.png\", cv2.IMREAD_GRAYSCALE)\n",
    "facemask = cv2.threshold(facemask, 128, 255, cv2.THRESH_BINARY)[1]\n",
    "\n",
    "# get average bgr color of face\n",
    "ave_color = cv2.mean(img, mask=facemask)[:3]\n",
    "print(ave_color)\n",
    "\n",
    "# compute difference colors and make into an image the same size as input\n",
    "diff_color = desired_color - ave_color\n",
    "diff_color = np.full_like(img, diff_color, dtype=np.uint8)\n",
    "\n",
    "# shift input image color\n",
    "# cv2.add clips automatically\n",
    "new_img = cv2.add(img, diff_color)\n",
    "\n",
    "# antialias mask, convert to float in range 0 to 1 and make 3-channels\n",
    "facemask = cv2.GaussianBlur(facemask, (0,0), sigmaX=3, sigmaY=3, borderType = cv2.BORDER_DEFAULT)\n",
    "facemask = skimage.exposure.rescale_intensity(facemask, in_range=(100,150), out_range=(0,1)).astype(np.float32)\n",
    "facemask = cv2.merge([facemask,facemask,facemask])\n",
    "\n",
    "# combine img and new_img using mask\n",
    "result = (img * (1 - facemask) + new_img * facemask)\n",
    "result = result.clip(0,255).astype(np.uint8)\n",
    "\n",
    "# save result\n",
    "cv2.imwrite('zelda1_swatch.png', swatch)\n",
    "cv2.imwrite('zelda1_recolor.png', result)\n",
    "\n",
    "cv2.imshow('swatch', swatch)\n",
    "cv2.imshow('result', result)\n",
    "cv2.waitKey(0)\n",
    "cv2.destroyAllWindows()"
   ]
  },
  {
   "cell_type": "code",
   "execution_count": null,
   "metadata": {},
   "outputs": [],
   "source": []
  }
 ],
 "metadata": {
  "kernelspec": {
   "display_name": "Python 3",
   "language": "python",
   "name": "python3"
  }
 },
 "nbformat": 4,
 "nbformat_minor": 4
}
