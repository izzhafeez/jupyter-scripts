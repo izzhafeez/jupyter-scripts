{
 "cells": [
  {
   "cell_type": "code",
   "execution_count": 111,
   "metadata": {},
   "outputs": [],
   "source": [
    "from wilcoxon import *\n",
    "import pandas as pd\n",
    "import re\n",
    "from tqdm import tqdm\n",
    "import itertools"
   ]
  },
  {
   "cell_type": "code",
   "execution_count": 235,
   "metadata": {},
   "outputs": [
    {
     "name": "stderr",
     "output_type": "stream",
     "text": [
      " 10%|█         | 1/10 [00:00<00:01,  8.31it/s]"
     ]
    },
    {
     "name": "stdout",
     "output_type": "stream",
     "text": [
      "['You may create this project page.\\n\\nhttps://en.wiktionary.org/w/index.php?title=Wiktionary:Spanish1-1000&action=edit', 'You can also look for pages within Wiktionary linking to this project page.\\n\\nhttp://wiktionary.org/wiki/Special:WhatLinksHere/Wiktionary:Spanish1-1000', 'Perhaps there is a page Wiktionary:Spanish1-1000 in our sister encyclopedia project, Wikipedia.\\n\\nhttps://en.wikipedia.org/wiki/Wiktionary:Spanish1-1000', 'Try searching Wiktionary:  \\xa0', 'If you have created this page in the past few minutes and it has not yet appeared, it may not be visible due to a delay in updating the database. Try refreshing the page, otherwise please wait and check again later before attempting to recreate the page.\\n\\nhttps://en.wiktionary.org/w/index.php?title=Wiktionary:Spanish1-1000&action=purge', 'If you created a page under this title previously, it may have been deleted.  Check for Wiktionary:Spanish1-1000 in the deletion log.  Alternately, check here.\\n\\nhttps://en.wiktionary.org/w/index.php?title=Special:Log&type=delete&page=Wiktionary:Spanish1-1000']\n"
     ]
    },
    {
     "name": "stderr",
     "output_type": "stream",
     "text": [
      " 30%|███       | 3/10 [00:00<00:01,  6.58it/s]"
     ]
    },
    {
     "name": "stdout",
     "output_type": "stream",
     "text": [
      "['You may create this project page.\\n\\nhttps://en.wiktionary.org/w/index.php?title=Wiktionary:Spanish1001-2000&action=edit', 'You can also look for pages within Wiktionary linking to this project page.\\n\\nhttp://wiktionary.org/wiki/Special:WhatLinksHere/Wiktionary:Spanish1001-2000', 'Perhaps there is a page Wiktionary:Spanish1001-2000 in our sister encyclopedia project, Wikipedia.\\n\\nhttps://en.wikipedia.org/wiki/Wiktionary:Spanish1001-2000', 'Try searching Wiktionary:  \\xa0', 'If you have created this page in the past few minutes and it has not yet appeared, it may not be visible due to a delay in updating the database. Try refreshing the page, otherwise please wait and check again later before attempting to recreate the page.\\n\\nhttps://en.wiktionary.org/w/index.php?title=Wiktionary:Spanish1001-2000&action=purge', 'If you created a page under this title previously, it may have been deleted.  Check for Wiktionary:Spanish1001-2000 in the deletion log.  Alternately, check here.\\n\\nhttps://en.wiktionary.org/w/index.php?title=Special:Log&type=delete&page=Wiktionary:Spanish1001-2000']\n",
      "['You may create this project page.\\n\\nhttps://en.wiktionary.org/w/index.php?title=Wiktionary:Spanish2001-3000&action=edit', 'You can also look for pages within Wiktionary linking to this project page.\\n\\nhttp://wiktionary.org/wiki/Special:WhatLinksHere/Wiktionary:Spanish2001-3000', 'Perhaps there is a page Wiktionary:Spanish2001-3000 in our sister encyclopedia project, Wikipedia.\\n\\nhttps://en.wikipedia.org/wiki/Wiktionary:Spanish2001-3000', 'Try searching Wiktionary:  \\xa0', 'If you have created this page in the past few minutes and it has not yet appeared, it may not be visible due to a delay in updating the database. Try refreshing the page, otherwise please wait and check again later before attempting to recreate the page.\\n\\nhttps://en.wiktionary.org/w/index.php?title=Wiktionary:Spanish2001-3000&action=purge', 'If you created a page under this title previously, it may have been deleted.  Check for Wiktionary:Spanish2001-3000 in the deletion log.  Alternately, check here.\\n\\nhttps://en.wiktionary.org/w/index.php?title=Special:Log&type=delete&page=Wiktionary:Spanish2001-3000']\n"
     ]
    },
    {
     "name": "stderr",
     "output_type": "stream",
     "text": [
      " 50%|█████     | 5/10 [00:00<00:00,  5.37it/s]"
     ]
    },
    {
     "name": "stdout",
     "output_type": "stream",
     "text": [
      "['You may create this project page.\\n\\nhttps://en.wiktionary.org/w/index.php?title=Wiktionary:Spanish3001-4000&action=edit', 'You can also look for pages within Wiktionary linking to this project page.\\n\\nhttp://wiktionary.org/wiki/Special:WhatLinksHere/Wiktionary:Spanish3001-4000', 'Perhaps there is a page Wiktionary:Spanish3001-4000 in our sister encyclopedia project, Wikipedia.\\n\\nhttps://en.wikipedia.org/wiki/Wiktionary:Spanish3001-4000', 'Try searching Wiktionary:  \\xa0', 'If you have created this page in the past few minutes and it has not yet appeared, it may not be visible due to a delay in updating the database. Try refreshing the page, otherwise please wait and check again later before attempting to recreate the page.\\n\\nhttps://en.wiktionary.org/w/index.php?title=Wiktionary:Spanish3001-4000&action=purge', 'If you created a page under this title previously, it may have been deleted.  Check for Wiktionary:Spanish3001-4000 in the deletion log.  Alternately, check here.\\n\\nhttps://en.wiktionary.org/w/index.php?title=Special:Log&type=delete&page=Wiktionary:Spanish3001-4000']\n",
      "['You may create this project page.\\n\\nhttps://en.wiktionary.org/w/index.php?title=Wiktionary:Spanish4001-5000&action=edit', 'You can also look for pages within Wiktionary linking to this project page.\\n\\nhttp://wiktionary.org/wiki/Special:WhatLinksHere/Wiktionary:Spanish4001-5000', 'Perhaps there is a page Wiktionary:Spanish4001-5000 in our sister encyclopedia project, Wikipedia.\\n\\nhttps://en.wikipedia.org/wiki/Wiktionary:Spanish4001-5000', 'Try searching Wiktionary:  \\xa0', 'If you have created this page in the past few minutes and it has not yet appeared, it may not be visible due to a delay in updating the database. Try refreshing the page, otherwise please wait and check again later before attempting to recreate the page.\\n\\nhttps://en.wiktionary.org/w/index.php?title=Wiktionary:Spanish4001-5000&action=purge', 'If you created a page under this title previously, it may have been deleted.  Check for Wiktionary:Spanish4001-5000 in the deletion log.  Alternately, check here.\\n\\nhttps://en.wiktionary.org/w/index.php?title=Special:Log&type=delete&page=Wiktionary:Spanish4001-5000']\n"
     ]
    },
    {
     "name": "stderr",
     "output_type": "stream",
     "text": [
      " 80%|████████  | 8/10 [00:01<00:00,  6.07it/s]"
     ]
    },
    {
     "name": "stdout",
     "output_type": "stream",
     "text": [
      "['You may create this project page.\\n\\nhttps://en.wiktionary.org/w/index.php?title=Wiktionary:Spanish5001-6000&action=edit', 'You can also look for pages within Wiktionary linking to this project page.\\n\\nhttp://wiktionary.org/wiki/Special:WhatLinksHere/Wiktionary:Spanish5001-6000', 'Perhaps there is a page Wiktionary:Spanish5001-6000 in our sister encyclopedia project, Wikipedia.\\n\\nhttps://en.wikipedia.org/wiki/Wiktionary:Spanish5001-6000', 'Try searching Wiktionary:  \\xa0', 'If you have created this page in the past few minutes and it has not yet appeared, it may not be visible due to a delay in updating the database. Try refreshing the page, otherwise please wait and check again later before attempting to recreate the page.\\n\\nhttps://en.wiktionary.org/w/index.php?title=Wiktionary:Spanish5001-6000&action=purge', 'If you created a page under this title previously, it may have been deleted.  Check for Wiktionary:Spanish5001-6000 in the deletion log.  Alternately, check here.\\n\\nhttps://en.wiktionary.org/w/index.php?title=Special:Log&type=delete&page=Wiktionary:Spanish5001-6000']\n",
      "['You may create this project page.\\n\\nhttps://en.wiktionary.org/w/index.php?title=Wiktionary:Spanish6001-7000&action=edit', 'You can also look for pages within Wiktionary linking to this project page.\\n\\nhttp://wiktionary.org/wiki/Special:WhatLinksHere/Wiktionary:Spanish6001-7000', 'Perhaps there is a page Wiktionary:Spanish6001-7000 in our sister encyclopedia project, Wikipedia.\\n\\nhttps://en.wikipedia.org/wiki/Wiktionary:Spanish6001-7000', 'Try searching Wiktionary:  \\xa0', 'If you have created this page in the past few minutes and it has not yet appeared, it may not be visible due to a delay in updating the database. Try refreshing the page, otherwise please wait and check again later before attempting to recreate the page.\\n\\nhttps://en.wiktionary.org/w/index.php?title=Wiktionary:Spanish6001-7000&action=purge', 'If you created a page under this title previously, it may have been deleted.  Check for Wiktionary:Spanish6001-7000 in the deletion log.  Alternately, check here.\\n\\nhttps://en.wiktionary.org/w/index.php?title=Special:Log&type=delete&page=Wiktionary:Spanish6001-7000']\n",
      "['You may create this project page.\\n\\nhttps://en.wiktionary.org/w/index.php?title=Wiktionary:Spanish7001-8000&action=edit', 'You can also look for pages within Wiktionary linking to this project page.\\n\\nhttp://wiktionary.org/wiki/Special:WhatLinksHere/Wiktionary:Spanish7001-8000', 'Perhaps there is a page Wiktionary:Spanish7001-8000 in our sister encyclopedia project, Wikipedia.\\n\\nhttps://en.wikipedia.org/wiki/Wiktionary:Spanish7001-8000', 'Try searching Wiktionary:  \\xa0', 'If you have created this page in the past few minutes and it has not yet appeared, it may not be visible due to a delay in updating the database. Try refreshing the page, otherwise please wait and check again later before attempting to recreate the page.\\n\\nhttps://en.wiktionary.org/w/index.php?title=Wiktionary:Spanish7001-8000&action=purge', 'If you created a page under this title previously, it may have been deleted.  Check for Wiktionary:Spanish7001-8000 in the deletion log.  Alternately, check here.\\n\\nhttps://en.wiktionary.org/w/index.php?title=Special:Log&type=delete&page=Wiktionary:Spanish7001-8000']\n"
     ]
    },
    {
     "name": "stderr",
     "output_type": "stream",
     "text": [
      "100%|██████████| 10/10 [00:01<00:00,  6.33it/s]"
     ]
    },
    {
     "name": "stdout",
     "output_type": "stream",
     "text": [
      "['You may create this project page.\\n\\nhttps://en.wiktionary.org/w/index.php?title=Wiktionary:Spanish8001-9000&action=edit', 'You can also look for pages within Wiktionary linking to this project page.\\n\\nhttp://wiktionary.org/wiki/Special:WhatLinksHere/Wiktionary:Spanish8001-9000', 'Perhaps there is a page Wiktionary:Spanish8001-9000 in our sister encyclopedia project, Wikipedia.\\n\\nhttps://en.wikipedia.org/wiki/Wiktionary:Spanish8001-9000', 'Try searching Wiktionary:  \\xa0', 'If you have created this page in the past few minutes and it has not yet appeared, it may not be visible due to a delay in updating the database. Try refreshing the page, otherwise please wait and check again later before attempting to recreate the page.\\n\\nhttps://en.wiktionary.org/w/index.php?title=Wiktionary:Spanish8001-9000&action=purge', 'If you created a page under this title previously, it may have been deleted.  Check for Wiktionary:Spanish8001-9000 in the deletion log.  Alternately, check here.\\n\\nhttps://en.wiktionary.org/w/index.php?title=Special:Log&type=delete&page=Wiktionary:Spanish8001-9000']\n",
      "['You may create this project page.\\n\\nhttps://en.wiktionary.org/w/index.php?title=Wiktionary:Spanish9001-10000&action=edit', 'You can also look for pages within Wiktionary linking to this project page.\\n\\nhttp://wiktionary.org/wiki/Special:WhatLinksHere/Wiktionary:Spanish9001-10000', 'Perhaps there is a page Wiktionary:Spanish9001-10000 in our sister encyclopedia project, Wikipedia.\\n\\nhttps://en.wikipedia.org/wiki/Wiktionary:Spanish9001-10000', 'Try searching Wiktionary:  \\xa0', 'If you have created this page in the past few minutes and it has not yet appeared, it may not be visible due to a delay in updating the database. Try refreshing the page, otherwise please wait and check again later before attempting to recreate the page.\\n\\nhttps://en.wiktionary.org/w/index.php?title=Wiktionary:Spanish9001-10000&action=purge', 'If you created a page under this title previously, it may have been deleted.  Check for Wiktionary:Spanish9001-10000 in the deletion log.  Alternately, check here.\\n\\nhttps://en.wiktionary.org/w/index.php?title=Special:Log&type=delete&page=Wiktionary:Spanish9001-10000']\n"
     ]
    },
    {
     "name": "stderr",
     "output_type": "stream",
     "text": [
      "\n"
     ]
    }
   ],
   "source": [
    "## Getting wordslist(itertools.chain.from_iterable(a))\n",
    "\n",
    "masterDf = pd.DataFrame()\n",
    "\n",
    "for i in tqdm(range(0,10)):\n",
    "    startingNumber = str(1000 * i + 1)\n",
    "    endingNumber = str(1000 * i + 1000)\n",
    "    site = spiderman.website('https://en.wiktionary.org/wiki/Wiktionary:French' + startingNumber + '-' + endingNumber)\n",
    "    site.getLists()\n",
    "    siteLists = list(itertools.chain.from_iterable(site.lists[:4]))\n",
    "    ser = pd.Series(siteLists).str.replace('^\\d*\\. ','')\n",
    "    df = ser.str.split('\\n\\n',expand = True)\n",
    "    masterDf = pd.concat([masterDf, df])"
   ]
  },
  {
   "cell_type": "code",
   "execution_count": 247,
   "metadata": {},
   "outputs": [
    {
     "name": "stderr",
     "output_type": "stream",
     "text": [
      "100%|██████████| 10/10 [00:13<00:00,  1.33s/it]\n"
     ]
    }
   ],
   "source": [
    "masterDf = pd.DataFrame()\n",
    "\n",
    "for i in tqdm(range(0,10)):\n",
    "    startingNumber = str(1000 * i + 1)\n",
    "    endingNumber = str(1000 * i + 1000)\n",
    "    if startingNumber == '1': site = spiderman.website('https://en.wiktionary.org/wiki/Wiktionary:Frequency_lists/Spanish1000')\n",
    "    else: site = spiderman.website('https://en.wiktionary.org/wiki/Wiktionary:Frequency_lists/Spanish' + startingNumber + '-' + endingNumber)\n",
    "    site.getTables()\n",
    "    df = site.dfs[0]\n",
    "    masterDf = pd.concat([masterDf, df])"
   ]
  },
  {
   "cell_type": "code",
   "execution_count": 248,
   "metadata": {},
   "outputs": [
    {
     "data": {
      "text/html": [
       "<div>\n",
       "<style scoped>\n",
       "    .dataframe tbody tr th:only-of-type {\n",
       "        vertical-align: middle;\n",
       "    }\n",
       "\n",
       "    .dataframe tbody tr th {\n",
       "        vertical-align: top;\n",
       "    }\n",
       "\n",
       "    .dataframe thead th {\n",
       "        text-align: right;\n",
       "    }\n",
       "</style>\n",
       "<table border=\"1\" class=\"dataframe\">\n",
       "  <thead>\n",
       "    <tr style=\"text-align: right;\">\n",
       "      <th></th>\n",
       "      <th>rank</th>\n",
       "      <th>word</th>\n",
       "      <th>occurrences (ppm)</th>\n",
       "      <th>lemma forms</th>\n",
       "    </tr>\n",
       "  </thead>\n",
       "  <tbody>\n",
       "    <tr>\n",
       "      <th>0</th>\n",
       "      <td>1.</td>\n",
       "      <td>que\\n\\n\\nhttp://wiktionary.org/wiki/que</td>\n",
       "      <td>32894</td>\n",
       "      <td>que\\n\\n\\nhttp://wiktionary.org/wiki/que</td>\n",
       "    </tr>\n",
       "    <tr>\n",
       "      <th>1</th>\n",
       "      <td>2.</td>\n",
       "      <td>de\\n\\n\\nhttp://wiktionary.org/wiki/de</td>\n",
       "      <td>32116</td>\n",
       "      <td>de\\n\\n\\nhttp://wiktionary.org/wiki/de</td>\n",
       "    </tr>\n",
       "    <tr>\n",
       "      <th>2</th>\n",
       "      <td>3.</td>\n",
       "      <td>no\\n\\n\\nhttp://wiktionary.org/wiki/no</td>\n",
       "      <td>29897</td>\n",
       "      <td>no\\n\\n\\nhttp://wiktionary.org/wiki/no</td>\n",
       "    </tr>\n",
       "    <tr>\n",
       "      <th>3</th>\n",
       "      <td>4.</td>\n",
       "      <td>a\\n\\n\\nhttp://wiktionary.org/wiki/a</td>\n",
       "      <td>22313</td>\n",
       "      <td>a\\n\\n\\nhttp://wiktionary.org/wiki/a</td>\n",
       "    </tr>\n",
       "    <tr>\n",
       "      <th>4</th>\n",
       "      <td>5.</td>\n",
       "      <td>la\\n\\n\\nhttp://wiktionary.org/wiki/la</td>\n",
       "      <td>21127</td>\n",
       "      <td>la\\n\\n\\nhttp://wiktionary.org/wiki/la</td>\n",
       "    </tr>\n",
       "    <tr>\n",
       "      <th>...</th>\n",
       "      <td>...</td>\n",
       "      <td>...</td>\n",
       "      <td>...</td>\n",
       "      <td>...</td>\n",
       "    </tr>\n",
       "    <tr>\n",
       "      <th>995</th>\n",
       "      <td>9996.</td>\n",
       "      <td>enoja\\n\\n\\nhttp://wiktionary.org/wiki/enoja</td>\n",
       "      <td>5</td>\n",
       "      <td>enojar\\n\\n\\nhttp://wiktionary.org/wiki/enojar</td>\n",
       "    </tr>\n",
       "    <tr>\n",
       "      <th>996</th>\n",
       "      <td>9997.</td>\n",
       "      <td>empujó\\n\\n\\nhttp://wiktionary.org/wiki/empuj%C...</td>\n",
       "      <td>5</td>\n",
       "      <td>empujar\\n\\n\\nhttp://wiktionary.org/wiki/empujar</td>\n",
       "    </tr>\n",
       "    <tr>\n",
       "      <th>997</th>\n",
       "      <td>9998.</td>\n",
       "      <td>dilema\\n\\n\\nhttp://wiktionary.org/wiki/dilema</td>\n",
       "      <td>5</td>\n",
       "      <td>dilema\\n\\n\\nhttp://wiktionary.org/wiki/dilema</td>\n",
       "    </tr>\n",
       "    <tr>\n",
       "      <th>998</th>\n",
       "      <td>9999.</td>\n",
       "      <td>desconectado\\n\\n\\nhttp://wiktionary.org/wiki/d...</td>\n",
       "      <td>5</td>\n",
       "      <td>desconectado\\n\\n\\nhttp://wiktionary.org/wiki/d...</td>\n",
       "    </tr>\n",
       "    <tr>\n",
       "      <th>999</th>\n",
       "      <td>10000.</td>\n",
       "      <td>deprimida\\n\\n\\nhttp://wiktionary.org/wiki/depr...</td>\n",
       "      <td>5</td>\n",
       "      <td>deprimido\\n\\n\\nhttp://wiktionary.org/wiki/depr...</td>\n",
       "    </tr>\n",
       "  </tbody>\n",
       "</table>\n",
       "<p>10000 rows × 4 columns</p>\n",
       "</div>"
      ],
      "text/plain": [
       "       rank                                               word  \\\n",
       "0        1.            que\\n\\n\\nhttp://wiktionary.org/wiki/que   \n",
       "1        2.              de\\n\\n\\nhttp://wiktionary.org/wiki/de   \n",
       "2        3.              no\\n\\n\\nhttp://wiktionary.org/wiki/no   \n",
       "3        4.                a\\n\\n\\nhttp://wiktionary.org/wiki/a   \n",
       "4        5.              la\\n\\n\\nhttp://wiktionary.org/wiki/la   \n",
       "..      ...                                                ...   \n",
       "995   9996.        enoja\\n\\n\\nhttp://wiktionary.org/wiki/enoja   \n",
       "996   9997.  empujó\\n\\n\\nhttp://wiktionary.org/wiki/empuj%C...   \n",
       "997   9998.      dilema\\n\\n\\nhttp://wiktionary.org/wiki/dilema   \n",
       "998   9999.  desconectado\\n\\n\\nhttp://wiktionary.org/wiki/d...   \n",
       "999  10000.  deprimida\\n\\n\\nhttp://wiktionary.org/wiki/depr...   \n",
       "\n",
       "    occurrences (ppm)                                        lemma forms  \n",
       "0               32894            que\\n\\n\\nhttp://wiktionary.org/wiki/que  \n",
       "1               32116              de\\n\\n\\nhttp://wiktionary.org/wiki/de  \n",
       "2               29897              no\\n\\n\\nhttp://wiktionary.org/wiki/no  \n",
       "3               22313                a\\n\\n\\nhttp://wiktionary.org/wiki/a  \n",
       "4               21127              la\\n\\n\\nhttp://wiktionary.org/wiki/la  \n",
       "..                ...                                                ...  \n",
       "995                 5      enojar\\n\\n\\nhttp://wiktionary.org/wiki/enojar  \n",
       "996                 5    empujar\\n\\n\\nhttp://wiktionary.org/wiki/empujar  \n",
       "997                 5      dilema\\n\\n\\nhttp://wiktionary.org/wiki/dilema  \n",
       "998                 5  desconectado\\n\\n\\nhttp://wiktionary.org/wiki/d...  \n",
       "999                 5  deprimido\\n\\n\\nhttp://wiktionary.org/wiki/depr...  \n",
       "\n",
       "[10000 rows x 4 columns]"
      ]
     },
     "execution_count": 248,
     "metadata": {},
     "output_type": "execute_result"
    }
   ],
   "source": [
    "masterDf"
   ]
  },
  {
   "cell_type": "code",
   "execution_count": 230,
   "metadata": {},
   "outputs": [],
   "source": [
    "def findWordInfo(x):\n",
    "    site = spiderman.website(x)\n",
    "    Ls = []\n",
    "    for ol in site.site('ol'):\n",
    "        if 'Spanish' in ol.find_previous('h2').getText():\n",
    "            L = []\n",
    "            try: L.append(ol.find_previous('h4').getText()[:-6])\n",
    "            except: L.append(ol.find_previous('h3').getText()[:-6])\n",
    "            L.append(ol.getText())\n",
    "            Ls.append(L)\n",
    "    return Ls"
   ]
  },
  {
   "cell_type": "code",
   "execution_count": 231,
   "metadata": {},
   "outputs": [
    {
     "name": "stderr",
     "output_type": "stream",
     "text": [
      "100%|██████████| 65/65 [01:03<00:00,  1.03it/s]\n"
     ]
    }
   ],
   "source": [
    "results = []\n",
    "for url in tqdm(masterDf[1].tolist()):\n",
    "    try: results.append(findWordInfo(url))\n",
    "    except: results.append('')"
   ]
  },
  {
   "cell_type": "code",
   "execution_count": 232,
   "metadata": {},
   "outputs": [
    {
     "data": {
      "text/plain": [
       "[[],\n",
       " [],\n",
       " [],\n",
       " '',\n",
       " [],\n",
       " [],\n",
       " '',\n",
       " [],\n",
       " [],\n",
       " [],\n",
       " [],\n",
       " [],\n",
       " [],\n",
       " [],\n",
       " [],\n",
       " [],\n",
       " '',\n",
       " [],\n",
       " [],\n",
       " '',\n",
       " [],\n",
       " [],\n",
       " [],\n",
       " [],\n",
       " [],\n",
       " [],\n",
       " [],\n",
       " [],\n",
       " [],\n",
       " '',\n",
       " [],\n",
       " [],\n",
       " '',\n",
       " [],\n",
       " [],\n",
       " [],\n",
       " [],\n",
       " [],\n",
       " [],\n",
       " [],\n",
       " [],\n",
       " [],\n",
       " '',\n",
       " [],\n",
       " [],\n",
       " '',\n",
       " [],\n",
       " [],\n",
       " [],\n",
       " [],\n",
       " [],\n",
       " [],\n",
       " [],\n",
       " [],\n",
       " [],\n",
       " '',\n",
       " [],\n",
       " [],\n",
       " '',\n",
       " [],\n",
       " [],\n",
       " [],\n",
       " [],\n",
       " [],\n",
       " []]"
      ]
     },
     "execution_count": 232,
     "metadata": {},
     "output_type": "execute_result"
    }
   ],
   "source": [
    "results"
   ]
  },
  {
   "cell_type": "code",
   "execution_count": 129,
   "metadata": {},
   "outputs": [
    {
     "name": "stdout",
     "output_type": "stream",
     "text": [
      "Stored 'results' (list)\n"
     ]
    }
   ],
   "source": [
    "%store results"
   ]
  },
  {
   "cell_type": "code",
   "execution_count": 140,
   "metadata": {},
   "outputs": [],
   "source": [
    "masterDf[2] = results\n",
    "masterDf = masterDf.explode(2)"
   ]
  },
  {
   "cell_type": "code",
   "execution_count": 171,
   "metadata": {},
   "outputs": [],
   "source": [
    "exploded = masterDf.fillna('')[2].tolist()"
   ]
  },
  {
   "cell_type": "code",
   "execution_count": 178,
   "metadata": {},
   "outputs": [],
   "source": [
    "Ls = []\n",
    "for explode in exploded:\n",
    "    L = []\n",
    "    for start in range(int(len(explode) / 2)):\n",
    "        L.append('\\n'.join(explode[start*2:start*2 + 2]))\n",
    "    Ls.append(L)\n",
    "masterDf[3] = Ls"
   ]
  },
  {
   "cell_type": "code",
   "execution_count": 201,
   "metadata": {},
   "outputs": [],
   "source": [
    "masterDf[[4,5,6]] = masterDf[3].explode().str.split('\\n',n=2,expand=True)"
   ]
  },
  {
   "cell_type": "code",
   "execution_count": 210,
   "metadata": {},
   "outputs": [
    {
     "name": "stderr",
     "output_type": "stream",
     "text": [
      "/Library/Frameworks/Python.framework/Versions/3.7/lib/python3.7/site-packages/ipykernel_launcher.py:3: SettingWithCopyWarning: \n",
      "A value is trying to be set on a copy of a slice from a DataFrame.\n",
      "Try using .loc[row_indexer,col_indexer] = value instead\n",
      "\n",
      "See the caveats in the documentation: https://pandas.pydata.org/pandas-docs/stable/user_guide/indexing.html#returning-a-view-versus-a-copy\n",
      "  This is separate from the ipykernel package so we can avoid doing imports until\n"
     ]
    }
   ],
   "source": [
    "finalDf = masterDf[[0,4,5,6,1]]\n",
    "finalDf.columns = ['Word','Purpose','Meaning','Sentence','Link']\n",
    "finalDf['Sentence'] = finalDf['Sentence'].apply(lambda x: str(x).split('.')[0])"
   ]
  },
  {
   "cell_type": "code",
   "execution_count": 227,
   "metadata": {},
   "outputs": [],
   "source": [
    "finalDf.reset_index().loc[5001:8000].to_clipboard()"
   ]
  },
  {
   "cell_type": "code",
   "execution_count": 223,
   "metadata": {},
   "outputs": [],
   "source": [
    "finalDf.to_csv('French Vocab.csv')"
   ]
  },
  {
   "cell_type": "code",
   "execution_count": 226,
   "metadata": {},
   "outputs": [
    {
     "ename": "TypeError",
     "evalue": "dropna() got multiple values for argument 'axis'",
     "output_type": "error",
     "traceback": [
      "\u001b[0;31m---------------------------------------------------------------------------\u001b[0m",
      "\u001b[0;31mTypeError\u001b[0m                                 Traceback (most recent call last)",
      "\u001b[0;32m<ipython-input-226-6c0fdab57973>\u001b[0m in \u001b[0;36m<module>\u001b[0;34m\u001b[0m\n\u001b[0;32m----> 1\u001b[0;31m \u001b[0mfinalDf\u001b[0m\u001b[0;34m.\u001b[0m\u001b[0mdropna\u001b[0m\u001b[0;34m(\u001b[0m\u001b[0;34m'Meaning'\u001b[0m\u001b[0;34m,\u001b[0m\u001b[0maxis\u001b[0m\u001b[0;34m=\u001b[0m\u001b[0;36m0\u001b[0m\u001b[0;34m)\u001b[0m\u001b[0;34m\u001b[0m\u001b[0;34m\u001b[0m\u001b[0m\n\u001b[0m",
      "\u001b[0;31mTypeError\u001b[0m: dropna() got multiple values for argument 'axis'"
     ]
    }
   ],
   "source": [
    "finalDf.dropna('Meaning')"
   ]
  },
  {
   "cell_type": "code",
   "execution_count": 228,
   "metadata": {},
   "outputs": [
    {
     "name": "stdout",
     "output_type": "stream",
     "text": [
      "Stored 'finalDf' (DataFrame)\n"
     ]
    }
   ],
   "source": [
    "%store finalDf"
   ]
  },
  {
   "cell_type": "code",
   "execution_count": null,
   "metadata": {},
   "outputs": [],
   "source": []
  }
 ],
 "metadata": {
  "kernelspec": {
   "display_name": "Python 3",
   "language": "python",
   "name": "python3"
  },
  "language_info": {
   "codemirror_mode": {
    "name": "ipython",
    "version": 3
   },
   "file_extension": ".py",
   "mimetype": "text/x-python",
   "name": "python",
   "nbconvert_exporter": "python",
   "pygments_lexer": "ipython3",
   "version": "3.7.2"
  }
 },
 "nbformat": 4,
 "nbformat_minor": 4
}
