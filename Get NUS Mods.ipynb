{
 "cells": [
  {
   "cell_type": "code",
   "execution_count": 40,
   "metadata": {},
   "outputs": [],
   "source": [
    "from wilcoxon.spiderman import *\n",
    "import re\n",
    "import pandas as pd\n",
    "import numpy as np"
   ]
  },
  {
   "cell_type": "code",
   "execution_count": 38,
   "metadata": {},
   "outputs": [
    {
     "data": {
      "text/plain": [
       "'Algorithms & Theory'"
      ]
     },
     "execution_count": 38,
     "metadata": {},
     "output_type": "execute_result"
    }
   ],
   "source": [
    "allStrings(findPreviouses(site.html.find(itemprop=\"articleBody\")(\"ul\")[0],6))"
   ]
  },
  {
   "cell_type": "code",
   "execution_count": 113,
   "metadata": {},
   "outputs": [],
   "source": [
    "## MODS\n",
    "\n",
    "site = website(\"https://www.comp.nus.edu.sg/programmes/ug/focus/\")\n",
    "\n",
    "Ls = []\n",
    "for i,ul in enumerate(site.html.find(itemprop=\"articleBody\")(\"ul\")):\n",
    "    \n",
    "    if i%2 == 0:\n",
    "        primary = \"P\"\n",
    "        focus = allStrings(ul.find_previous(\"h3\"))\n",
    "    else:\n",
    "        primary = \"E\"\n",
    "        focus = np.nan\n",
    "            \n",
    "    for li in ul(\"li\"):\n",
    "        \n",
    "        L = {\"Code\":strippedStrings(li)[0],\n",
    "            \"Name\":strippedStrings(li)[-1],\n",
    "            \"Focus\":focus,\n",
    "            \"Primary\":primary}\n",
    "        Ls.append(L)\n",
    "        \n",
    "mods = pd.DataFrame(Ls)\n",
    "mods = mods.fillna(method = \"pad\")\n",
    "\n",
    "mods.Focus = mods.Focus + \" (\" + mods.Primary + \")\"\n",
    "mods.Focus = mods.groupby(\"Code\").Focus.transform(lambda x: \", \".join(x))\n",
    "\n",
    "mods = mods.drop_duplicates(\"Code\")"
   ]
  },
  {
   "cell_type": "code",
   "execution_count": 114,
   "metadata": {},
   "outputs": [],
   "source": [
    "## REQUIREMENTS\n",
    "\n",
    "site = website(\"https://www.comp.nus.edu.sg/cug/catalogue/csmodules/#_CS4275_Programming\")\n",
    "\n",
    "Ls = []\n",
    "\n",
    "for b in site.html(\"b\"):\n",
    "    try:\n",
    "        code = strippedStrings(b)[0].split()[0]\n",
    "        name = \" \".join(strippedStrings(b)[0].split()[1:])\n",
    "        info = strippedStrings(findNexts(b,2))\n",
    "        mc = \" \".join(info[0].split(\":\")[1:])\n",
    "        workload = \" \".join(info[1].split(\":\")[1:])\n",
    "        req = \" \".join(info[2].split(\":\")[1:])\n",
    "        clu = \" \".join(info[3].split(\":\")[1:])\n",
    "        cross = \" \".join(info[4].split(\":\")[1:])\n",
    "        details = \"\\n\".join(info[5:])\n",
    "        L = {\"Code\":code,\n",
    "            \"Name\":name,\n",
    "            \"MC\":mc,\n",
    "            \"Workload\":workload,\n",
    "            \"Requirement\":req,\n",
    "            \"Reclusion\":clu,\n",
    "            \"Cross\":cross,\n",
    "            \"Details\":details}\n",
    "        Ls.append(L)\n",
    "    except: continue\n",
    "        \n",
    "reqs = pd.DataFrame(Ls)"
   ]
  },
  {
   "cell_type": "code",
   "execution_count": 115,
   "metadata": {},
   "outputs": [],
   "source": [
    "reqs = reqs.merge(mods[[\"Code\",\"Focus\",\"Primary\"]],how=\"left\",on=\"Code\")\n",
    "reqs = reqs.applymap(lambda x: str(x).strip())\n",
    "reqs.to_clipboard(index=False)"
   ]
  },
  {
   "cell_type": "code",
   "execution_count": null,
   "metadata": {},
   "outputs": [],
   "source": []
  }
 ],
 "metadata": {
  "kernelspec": {
   "display_name": "Python 3",
   "language": "python",
   "name": "python3"
  },
  "language_info": {
   "codemirror_mode": {
    "name": "ipython",
    "version": 3
   },
   "file_extension": ".py",
   "mimetype": "text/x-python",
   "name": "python",
   "nbconvert_exporter": "python",
   "pygments_lexer": "ipython3",
   "version": "3.7.2"
  }
 },
 "nbformat": 4,
 "nbformat_minor": 4
}
