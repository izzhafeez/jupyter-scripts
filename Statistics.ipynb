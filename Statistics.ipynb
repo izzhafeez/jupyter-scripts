{
 "cells": [
  {
   "cell_type": "code",
   "execution_count": 32,
   "id": "ab504b6c",
   "metadata": {},
   "outputs": [],
   "source": [
    "import math\n",
    "# from scipy.stats import binom, nbinom, poisson, expon, geom, chi2_contingency, norm, chi2, t\n",
    "from scipy import stats\n",
    "from scipy import integrate\n",
    "from fractions import Fraction\n",
    "import numpy as np\n",
    "import sympy as sp"
   ]
  },
  {
   "cell_type": "code",
   "execution_count": 2,
   "id": "4a2879b3",
   "metadata": {
    "code_folding": [
     0,
     11,
     25,
     37,
     62,
     90,
     117,
     134,
     156,
     174
    ]
   },
   "outputs": [],
   "source": [
    "class Stat:\n",
    "    @property\n",
    "    def std(self):\n",
    "        return self.var**0.5\n",
    "    def more_than(self, x):\n",
    "        return 1-self.cdf(x)\n",
    "    def between(self, start, end):\n",
    "        return self.cdf(end)-self.cdf(start)\n",
    "    def chebyshev(self, n):\n",
    "        return (self.exp-n*self.std, self.exp+n*self.std)\n",
    "\n",
    "class B(Stat):\n",
    "    def __init__(self, n, p):\n",
    "        self.n = n\n",
    "        self.p = p\n",
    "        self.dist = stats.binom(n, p)\n",
    "    @property\n",
    "    def exp(self):\n",
    "        return self.n*self.p\n",
    "    @property\n",
    "    def var(self):\n",
    "        return self.n*self.p*(1-self.p)\n",
    "    def cdf(self, x):\n",
    "        print(f\"<= {x}\")\n",
    "        return self.dist.cdf(x)\n",
    "    def inv_cdf(self, p):\n",
    "        print(f\"First n such that p > {p}\")\n",
    "        i = 0\n",
    "        total = 0\n",
    "        while(True):\n",
    "            total += self.pdf(i)\n",
    "            if total >= p:\n",
    "                return i\n",
    "            i += 1\n",
    "    def pdf(self, x):\n",
    "        return self.dist.pmf(x)\n",
    "    \n",
    "class P(Stat):\n",
    "    def __init__(self, L):\n",
    "        self.L = L\n",
    "        self.dist = stats.poisson(L)\n",
    "    @property\n",
    "    def exp(self):\n",
    "        return self.L\n",
    "    @property\n",
    "    def var(self):\n",
    "        return self.L\n",
    "    def cdf(self, x):\n",
    "        print(f\"<= {x}\")\n",
    "        return self.dist.cdf(x)\n",
    "    def inv_cdf(self, p):\n",
    "        print(f\"First n such that p > {p}\")\n",
    "        i = 0\n",
    "        total = 0\n",
    "        while(True):\n",
    "            total += self.pdf(i)\n",
    "            if total >= p:\n",
    "                return i\n",
    "            i += 1\n",
    "    def pdf(self, x):\n",
    "        return self.dist.pmf(x)\n",
    "    \n",
    "class NB(Stat):\n",
    "    def __init__(self, k, p):\n",
    "        self.k = k\n",
    "        self.p = p\n",
    "    @property\n",
    "    def exp(self):\n",
    "        return self.k/self.p\n",
    "    @property\n",
    "    def var(self):\n",
    "        return self.k*(1-self.p)/self.p**2\n",
    "    def cdf(self, x):\n",
    "        print(f\"<= {x}\")\n",
    "        total = 0\n",
    "        for i in range(1, x+1):\n",
    "            total += self.pdf(i)\n",
    "        return total\n",
    "    def inv_cdf(self, p):\n",
    "        print(f\"First n such that p > {p}\")\n",
    "        i = 1\n",
    "        total = 0\n",
    "        while(True):\n",
    "            total += self.pdf(i)\n",
    "            if total >= p:\n",
    "                return i\n",
    "            i += 1\n",
    "    def pdf(self, x):\n",
    "        return math.comb(x-1, self.k-1)*(p)**self.k*(1-p)**(x-self.k)\n",
    "    \n",
    "class GEOM(Stat):\n",
    "    def __init__(self, p):\n",
    "        self.p = p\n",
    "    @property\n",
    "    def exp(self):\n",
    "        return (1-self.p)/self.p\n",
    "    @property\n",
    "    def var(self):\n",
    "        return (1-self.p)/self.p**2\n",
    "    def cdf(self, x):\n",
    "        total = 0\n",
    "        for i in range(1, x+1):\n",
    "            total += self.pdf(i)\n",
    "        return total\n",
    "    def inv_cdf(self, p):\n",
    "        print(f\"First n such that p > {p}\")\n",
    "        i = 1\n",
    "        total = 0\n",
    "        while(True):\n",
    "            total += self.pdf(i)\n",
    "            if total >= p:\n",
    "                return i\n",
    "            i += 1\n",
    "    def pdf(self, x):\n",
    "        print(f\"< {x}\")\n",
    "        return self.p*(1-self.p)**(x-1)\n",
    "    \n",
    "class EXP(Stat):\n",
    "    def __init__(self, L):\n",
    "        print(\"If average, then 1/average.\")\n",
    "        self.L = L\n",
    "    @property\n",
    "    def exp(self):\n",
    "        return 1/self.L\n",
    "    @property\n",
    "    def var(self):\n",
    "        return 1/self.L**2\n",
    "    def cdf(self, x):\n",
    "        return stats.expon.cdf(x, scale=1/self.L)\n",
    "    def inv_cdf(self, p):\n",
    "        return stats.expon.ppf(p, scale=1/self.L)\n",
    "    def pdf(self, x):\n",
    "        return stats.expon.pmf(x, scale=1/self.L)\n",
    "\n",
    "class UNIFORM(Stat):\n",
    "    def __init__(self, a, b):\n",
    "        self.a = a\n",
    "        self.b = b\n",
    "    @property\n",
    "    def exp(self):\n",
    "        return (self.a+self.b)/2\n",
    "    @property\n",
    "    def var(self):\n",
    "        return (self.b-self.a)**2/12\n",
    "    def cdf(self, x):\n",
    "        if x < self.a:\n",
    "            return 0\n",
    "        elif x > self.b:\n",
    "            return 1\n",
    "        else:\n",
    "            return (x-self.a)/(self.b-self.a)\n",
    "    def inv_cdf(self, p):\n",
    "        return p*(self.b-self.a)+self.a\n",
    "    def pdf(self, x):\n",
    "        return 1/(self.b-self.a)\n",
    "\n",
    "class NORM(Stat):\n",
    "    def __init__(self, mu, sigma):\n",
    "        self.mu = mu\n",
    "        self.sigma = sigma\n",
    "        self.dist = stats.norm(mu, sigma)\n",
    "    @property\n",
    "    def exp(self):\n",
    "        return self.mu\n",
    "    @property\n",
    "    def var(self):\n",
    "        return self.sigma**2\n",
    "    def cdf(self, x):\n",
    "        return self.dist.cdf(x)\n",
    "    def inv_cdf(self, p):\n",
    "        return self.dist.ppf(p)\n",
    "    def pdf(self, x):\n",
    "        return self.dist.pmf(x)\n",
    "\n",
    "class CHISQUARE(Stat):\n",
    "    def __init__(self, n):\n",
    "        self.n = n\n",
    "    @property\n",
    "    def exp(self):\n",
    "        return self.n\n",
    "    @property\n",
    "    def var(self):\n",
    "        return 2*self.n\n",
    "    def cdf(self, x):\n",
    "        return self.chi2.cdf(x, n-1)\n",
    "    def inv_cdf(self, p):\n",
    "        return self.chi2.ppf(p, n-1)\n",
    "    def pdf(self, x):\n",
    "        return self.chi2.pdf(x, n-1)\n"
   ]
  },
  {
   "cell_type": "code",
   "execution_count": 22,
   "id": "68796f37",
   "metadata": {
    "code_folding": [
     0,
     6,
     14,
     18,
     34,
     40,
     50,
     54,
     58,
     63,
     73,
     78,
     82,
     85,
     88,
     95,
     99,
     108,
     115,
     118,
     122,
     126,
     130,
     139,
     143,
     147,
     152
    ]
   },
   "outputs": [],
   "source": [
    "def e_mean(L1, L2):\n",
    "    total = 0\n",
    "    for a, b in zip(L1, L2):\n",
    "        total += a*b\n",
    "    return total\n",
    "\n",
    "def e_var(L1, L2):\n",
    "    mean = e_mean(L1, L2)\n",
    "    total = 0\n",
    "    for a, b in zip(L1, L2):\n",
    "        total += (a-mean)**2*b\n",
    "    return total\n",
    "\n",
    "# Xbar\n",
    "def s_mean(list_):\n",
    "    return np.mean(list_)\n",
    "\n",
    "# stdev is not known\n",
    "def s_s(list_):\n",
    "    mean = np.mean(list_)\n",
    "    total = 0\n",
    "    for item in list_:\n",
    "        total += (item-mean)**2\n",
    "    return (total/(len(list_)-1))**0.5\n",
    "\n",
    "# stdev is known\n",
    "def s_sigma(list_):\n",
    "    mean = np.mean(list_)\n",
    "    total = 0\n",
    "    for item in list_:\n",
    "        total += (item-mean)**2\n",
    "    return (total/len(list_))**0.5\n",
    "\n",
    "# Chi Square\n",
    "def s_chi_stat(list_):\n",
    "    mean = np.mean(list_)\n",
    "    return [(a-mean)**2/mean for a in list_]\n",
    "\n",
    "# Chi Square independence stat\n",
    "# independence(np.array([[10, 10, 20], [20, 20, 20]]))\n",
    "def independence(array):\n",
    "    d = {}\n",
    "    results = stats.chi2_contingency(array)\n",
    "    d[\"chi_square\"] = results[0]\n",
    "    d[\"p_value\"] = results[1]\n",
    "    d[\"dof\"] = results[2]\n",
    "    d[\"expectation\"] = results[3]\n",
    "    return d\n",
    "\n",
    "# Underlying distribution is normal or paired or std is known\n",
    "def known_stat(xbar, mu, s, n):\n",
    "    return (xbar-mu)/(s/n**0.5)\n",
    "\n",
    "# Underlying distribution is not normal or paired and std is unknown\n",
    "def unknown_stat(xbar, mu, s, n):\n",
    "    return (xbar-mu)/(s/(n-1)**0.5)\n",
    "\n",
    "# Underlying distribution is normal or std is known\n",
    "def two_known_stat(xdiff, mudiff, s1, s2, n1, n2):\n",
    "    var_ = (s1**2/n1+s2**2/n2)\n",
    "    return (xdiff-mudiff)/var_**0.5\n",
    "\n",
    "# Underlying distribution is not normal and std is unknown\n",
    "def two_unknown_stat(xdiff, mudiff, s1, s2, n1, n2):\n",
    "    var_ = (s1**2/(n1-1)+s2**2/(n2-1))\n",
    "    return (xdiff-mudiff)/var_**0.5\n",
    "\n",
    "# Underlying distribution is normal and std is unknown but equal\n",
    "def two_equal_stat(xdiff, mudiff, s1, s2, n1, n2):\n",
    "    pooled = pooled_s(s1, s2, n1, n2)\n",
    "    return (xdiff-mudiff)/(pooled**2/n1+pooled**2/n2)**0.5\n",
    "\n",
    "# Two populations are normal with same variance\n",
    "def two_equal_stat_chi(s1, s2, sigma, n1, n2):\n",
    "    print(f\"CHISQUARE[{n1+n2-2} dof]\")\n",
    "    return ((n1-1)*s1**2+(n2-1)*s2**2)/sigma**2\n",
    "\n",
    "# Used for single sigma test\n",
    "def chi_stat(s, sigma, n):\n",
    "    return (n-1)*s**2/sigma**2\n",
    "\n",
    "# Used for double sigma test\n",
    "def f_stat(s1, s2, sigma1, sigma2):\n",
    "    return (s1**2*sigma2**2)/(s2**2*sigma1**2)\n",
    "\n",
    "def known_var(s, n):\n",
    "    return s/n**0.5\n",
    "\n",
    "def two_known_var(s1, s2, n1, n2):\n",
    "    return (s1**2/n1+s2**2/n2)**0.5\n",
    "\n",
    "def two_equal_var(s1, s2, n1, n2):\n",
    "    pooled = pooled_s(s1, s2, n1, n2)\n",
    "    return (pooled**2/n1+pooled**2/n2)**0.5\n",
    "\n",
    "def ci_z(xbar, var_, confidence):\n",
    "    dev = z_mult((1-confidence)/2)*(var_)\n",
    "    return (xbar-dev, xbar+dev)\n",
    "\n",
    "def ci_t(xbar, var_, confidence, dof):\n",
    "    print(\"DOF\")\n",
    "    dev = t_mult((1-confidence)/2, dof)*(var_)\n",
    "    return (xbar-dev, xbar+dev)\n",
    "\n",
    "def ci_chi(s, confidence, n):\n",
    "    alpha = (1-confidence)/2\n",
    "    return ((n-1)*s**2/chi_mult(n-1, alpha), (n-1)*s**2/chi_mult(n-1, 1-alpha))\n",
    "\n",
    "def ci_f(s1, s2, confidence, n1, n2):\n",
    "    f = s1**2/s2**2\n",
    "    alpha = (1-confidence)/2\n",
    "    mult1 = f_mult(alpha, n1, n2)[1]\n",
    "    mult2 = f_mult(alpha, n2, n1)[1]\n",
    "    return (f/mult1, f*mult2)\n",
    "\n",
    "def pooled_s(s1, s2, n1, n2):\n",
    "    return (((n1-1)*s1**2 + (n2-1)*s2**2)/(n1+n2-2))**0.5\n",
    "\n",
    "def z_mult(alpha):\n",
    "    print(\"ALPHA:\", alpha)\n",
    "    return stats.norm.ppf(1-alpha)\n",
    "\n",
    "def z_p_value(x):\n",
    "    return stats.norm.cdf(x)\n",
    "\n",
    "# Test stat between t_mult(dof, a) and t_mult(dof, 1-a)\n",
    "def t_mult(alpha, dof):\n",
    "    print(\"DOF\")\n",
    "    return stats.t(dof).ppf(1-alpha)\n",
    "\n",
    "def t_p_value(x, dof):\n",
    "    print(\"DOF\")\n",
    "    return stats.t(dof).cdf(x)\n",
    "\n",
    "# Test stat between chi_mult(dof, a) and chi_mult(dof, 1-a)\n",
    "def chi_mult(alpha, dof):\n",
    "    print(\"DOF\")\n",
    "    return stats.chi2(dof).ppf(1-alpha)\n",
    "\n",
    "def chi_p_value(x, n):\n",
    "    return stats.chi2(n-1).cdf(x)\n",
    "\n",
    "# Test stat between f_mult(n1, a) and f_mult(n2, 1-a)\n",
    "def f_mult(alpha, n1, n2):\n",
    "    f = stats.f(n1-1, n2-1)\n",
    "    return (f.ppf(alpha), f.ppf(1-alpha))\n",
    "\n",
    "def f_p_value(x, n1, n2):\n",
    "    return stats.f(n1-1, n2-1).cdf(x)\n",
    "\n",
    "# TYPE 1 ERROR is when you reject a true null hypothesis\n",
    "# TYPE 2 ERROR is when you fail to reject a null hypothesis\n",
    "def power(type_2_error):\n",
    "    return 1-type_2_error\n"
   ]
  },
  {
   "cell_type": "code",
   "execution_count": 4,
   "id": "30ae9206",
   "metadata": {
    "code_folding": [
     0
    ]
   },
   "outputs": [],
   "source": [
    "# TABLE([2, 4], [1, 3, 5], [0.1, 0.15, 0.2, 0.3, 0.1, 0.15])\n",
    "class TABLE:\n",
    "    def __init__(self, x, y, values):\n",
    "        self.x = x\n",
    "        self.y = y\n",
    "        self.values = np.array(values).reshape((len(y), len(x)))\n",
    "        print(self.values)\n",
    "    def exp(self, mapper=lambda x, y: x*y):\n",
    "        total = 0\n",
    "        for row in range(len(self.y)):\n",
    "            for col in range(len(self.x)):\n",
    "                total += self.values[row][col]*mapper(self.x[col], self.y[row])\n",
    "        return total\n",
    "    @property\n",
    "    def exp_x(self):\n",
    "        return self.exp(lambda x, y: x)\n",
    "    @property\n",
    "    def exp_y(self):\n",
    "        return self.exp(lambda x, y: y)\n",
    "    @property\n",
    "    def cov(self):\n",
    "        return self.exp() - self.exp_x*self.exp_y\n",
    "    # table.filter_(pred_x=lambda x: x==3)\n",
    "    def filter_(self, pred_x=lambda x: True, pred_y=lambda y: True):\n",
    "        X = []\n",
    "        Y = []\n",
    "        values = []\n",
    "        total_value = 0\n",
    "        for x in self.x:\n",
    "            if pred_x(x):\n",
    "                X.append(x)\n",
    "        for y in self.y:\n",
    "            if pred_y(y):\n",
    "                Y.append(y)\n",
    "        for row in range(len(self.y)):\n",
    "            for col in range(len(self.x)):\n",
    "                if pred_x(self.x[col]) and pred_y(self.y[row]):\n",
    "                    values.append(self.values[row][col])\n",
    "                    total_value += self.values[row][col]\n",
    "        values = [val/total_value for val in values]\n",
    "        return TABLE(X, Y, values)\n",
    "    @property\n",
    "    def var_x(self):\n",
    "        return self.exp(lambda x, y: x**2) - (self.exp_x)**2\n",
    "    @property\n",
    "    def var_y(self):\n",
    "        return self.exp(lambda x, y: y**2) - (self.exp_y)**2\n",
    "    def var(self, a, b):\n",
    "        print(f\"Var({a}X + {b}Y)\")\n",
    "        return a**2*self.var_x + b**2*self.var_y + 2*a*b*self.cov\n",
    "    @property\n",
    "    def cor(self):\n",
    "        return self.cov/(self.var_x*self.var_y)**0.5\n",
    "    def p(self, pred_x=lambda x: True, pred_y=lambda y: True):\n",
    "        total_p = 0\n",
    "        for row in range(len(self.y)):\n",
    "            for col in range(len(self.x)):\n",
    "                if pred_x(self.x[col]) and pred_y(self.y[row]):\n",
    "                    total_p += self.values[row][col]\n",
    "        return total_p\n",
    "    @property\n",
    "    def mar_x(self):\n",
    "        return [sum([self.values[row][col] for row in range(len(self.y))]) for col in range(len(self.x))]\n",
    "    @property\n",
    "    def mar_y(self):\n",
    "        return [sum(self.values[row]) for row in range(len(self.y))]\n",
    "        "
   ]
  },
  {
   "cell_type": "code",
   "execution_count": 5,
   "id": "03dd32ea",
   "metadata": {
    "code_folding": [
     0
    ]
   },
   "outputs": [],
   "source": [
    "# INTEGRAL(lambda x, y: x*y, lambda y: [[0, y], [1, 4]])\n",
    "class INTEGRAL:\n",
    "    def __init__(self, f, bounds_x, bounds_y):\n",
    "        self.f = f\n",
    "        self.bounds_x = bounds_x\n",
    "        self.bounds_y = bounds_y\n",
    "    @staticmethod\n",
    "    def itg(f, bounds_x, bounds_y):\n",
    "        return Fraction((integrate.nquad(f, [bounds_x, bounds_y])[0])).limit_denominator()\n",
    "    def integrate_between(f, a, b):\n",
    "        x = sp.Symbol(\"x\")\n",
    "        return sp.integrate(f(x), (x, a, b))\n",
    "    def partial_integrate_x(f, a, b):\n",
    "        x = sp.Symbol(\"x\")\n",
    "        y = sp.Symbol(\"y\")\n",
    "        return sp.integrate(f(x, y), (x, a(y), b(y)))\n",
    "    def partial_integrate_y(f, a, b):\n",
    "        x = sp.Symbol(\"x\")\n",
    "        y = sp.Symbol(\"y\")\n",
    "        return sp.integrate(f(x, y), (y, a(x), b(x)))\n",
    "    def exp(self, mapper=lambda x, y: x*y):\n",
    "        g = lambda x, y: mapper(x, y)*self.f(x, y)\n",
    "        return INTEGRAL.itg(g, self.bounds_x, self.bounds_y)\n",
    "    @property\n",
    "    def total(self):\n",
    "        return INTEGRAL.itg(self.f, self.bounds_x, self.bounds_y)\n",
    "    @property\n",
    "    def exp_x(self):\n",
    "        return self.exp(lambda x, y: x)\n",
    "    @property\n",
    "    def var_x(self):\n",
    "        return self.exp(lambda x, y: x**2) - (self.exp_x)**2\n",
    "    @property\n",
    "    def exp_y(self):\n",
    "        return self.exp(lambda x, y: y)\n",
    "    @property\n",
    "    def var_y(self):\n",
    "        return self.exp(lambda x, y: y**2) - (self.exp_y)**2\n",
    "    @property\n",
    "    def cov(self):\n",
    "        return self.exp() - self.exp_x*self.exp_y\n",
    "    @property\n",
    "    def cor(self):\n",
    "        return self.cov/(self.var_x*self.var_y)**0.5\n",
    "    def var(self, a, b):\n",
    "        print(f\"Var({a}X + {b}Y)\")\n",
    "        return a**2*self.var_x + b**2*self.var_y + 2*a*b*self.cov\n",
    "    def given_x_equals(self, value):\n",
    "        filtered = INTEGRAL(lambda x, y: self.f(value, y), self.bounds_x, self.bounds_y)\n",
    "        normalised = INTEGRAL(lambda x, y: filtered.f(x, y)/filtered.total, filtered.bounds_x, filtered.bounds_y)\n",
    "        return normalised\n",
    "    def given_y_equals(self, value):\n",
    "        filtered = INTEGRAL(lambda x, y: self.f(x, value), self.bounds_x, self.bounds_y)\n",
    "        normalised = INTEGRAL(lambda x, y: filtered.f(x, y)/filtered.total, filtered.bounds_x, filtered.bounds_y)\n",
    "        return normalised\n",
    "    "
   ]
  },
  {
   "cell_type": "code",
   "execution_count": 8,
   "id": "ef16d829",
   "metadata": {
    "code_folding": [
     0
    ]
   },
   "outputs": [],
   "source": [
    "def comb(n, r):\n",
    "    return math.comb(n, r)\n"
   ]
  },
  {
   "cell_type": "code",
   "execution_count": 13,
   "id": "e38e7ba0",
   "metadata": {},
   "outputs": [
    {
     "name": "stdout",
     "output_type": "stream",
     "text": [
      "<= 2\n"
     ]
    },
    {
     "data": {
      "text/plain": [
       "0.938031195583341"
      ]
     },
     "execution_count": 13,
     "metadata": {},
     "output_type": "execute_result"
    }
   ],
   "source": [
    "p = P(6)\n",
    "1-p.cdf(2)"
   ]
  },
  {
   "cell_type": "code",
   "execution_count": 14,
   "id": "253b1f3f",
   "metadata": {},
   "outputs": [
    {
     "name": "stdout",
     "output_type": "stream",
     "text": [
      "<= 1\n"
     ]
    },
    {
     "data": {
      "text/plain": [
       "0.7358395249438502"
      ]
     },
     "execution_count": 14,
     "metadata": {},
     "output_type": "execute_result"
    }
   ],
   "source": [
    "b = B(20, 0.05)\n",
    "b.cdf(1)"
   ]
  },
  {
   "cell_type": "code",
   "execution_count": 79,
   "id": "d4250d63",
   "metadata": {},
   "outputs": [
    {
     "name": "stdout",
     "output_type": "stream",
     "text": [
      "10.0125\n",
      "0.2642374473299129\n",
      "0.09342204542520229\n",
      "DOF\n",
      "DOF\n"
     ]
    },
    {
     "data": {
      "text/plain": [
       "(9.79159196580858, 10.233408034191418)"
      ]
     },
     "execution_count": 79,
     "metadata": {},
     "output_type": "execute_result"
    }
   ],
   "source": [
    "# 12\n",
    "L = [10.1, 9.8, 10.2, 10.4, 9.8, 10, 10.2, 9.6]\n",
    "xbar = np.mean(L)\n",
    "print(xbar)\n",
    "s = s_s(L)\n",
    "print(s)\n",
    "n = len(L)\n",
    "var = known_var(s, n)\n",
    "print(var)\n",
    "ci_t(xbar, var, 0.95, n-1)"
   ]
  },
  {
   "cell_type": "code",
   "execution_count": 80,
   "id": "73df8533",
   "metadata": {},
   "outputs": [
    {
     "name": "stdout",
     "output_type": "stream",
     "text": [
      "46.22222222222222 0.4521553322083516\n",
      "DOF\n",
      "DOF\n"
     ]
    },
    {
     "data": {
      "text/plain": [
       "0.7503475177459534"
      ]
     },
     "execution_count": 80,
     "metadata": {},
     "output_type": "execute_result"
    }
   ],
   "source": [
    "# 13\n",
    "L = [46.4, 46.1, 45.8, 47, 46.1, 45.9, 45.8, 46.9, 46]\n",
    "n = len(L)\n",
    "xbar = np.mean(L)\n",
    "s = s_s(L)\n",
    "print(xbar, s)\n",
    "((n-1)*(s**2)/(chi_mult(n-1, 0.95)), (n-1)*(s**2)/(chi_mult(n-1, 1-0.95)))\n",
    "(n-1)*(s**2)/(stats.chi2(n-1).ppf(1-0.975))"
   ]
  },
  {
   "cell_type": "code",
   "execution_count": 81,
   "id": "b7c2495d",
   "metadata": {},
   "outputs": [
    {
     "name": "stdout",
     "output_type": "stream",
     "text": [
      "46 5.9 -1.9175777116923325\n",
      "DOF\n"
     ]
    },
    {
     "data": {
      "text/plain": [
       "0.045728267689901826"
      ]
     },
     "execution_count": 81,
     "metadata": {},
     "output_type": "execute_result"
    }
   ],
   "source": [
    "# 14\n",
    "mu = 50\n",
    "n = 9\n",
    "xbar = 46\n",
    "s = 5.9\n",
    "stat = unknown_stat(xbar, mu, s, n)\n",
    "print(xbar, s, stat)\n",
    "t_p_value(stat, n-1)"
   ]
  },
  {
   "cell_type": "code",
   "execution_count": 82,
   "id": "d8d6f139",
   "metadata": {},
   "outputs": [
    {
     "name": "stdout",
     "output_type": "stream",
     "text": [
      "16.4320987654321\n"
     ]
    },
    {
     "data": {
      "text/plain": [
       "0.12583223208498928"
      ]
     },
     "execution_count": 82,
     "metadata": {},
     "output_type": "execute_result"
    }
   ],
   "source": [
    "# 15\n",
    "sigma = 0.9\n",
    "n = 12\n",
    "s = 1.1\n",
    "stat = chi_stat(s, sigma, n)\n",
    "print(stat)\n",
    "1 - chi_p_value(stat, n)"
   ]
  },
  {
   "cell_type": "code",
   "execution_count": 53,
   "id": "5e594871",
   "metadata": {},
   "outputs": [
    {
     "data": {
      "text/plain": [
       "0.3445782583896758"
      ]
     },
     "execution_count": 53,
     "metadata": {},
     "output_type": "execute_result"
    }
   ],
   "source": [
    "# 20\n",
    "x1 = 170\n",
    "s1 = 20\n",
    "x2 = 160\n",
    "s2 = 15\n",
    "dist = NORM(10, 25)\n",
    "dist.cdf(0)"
   ]
  },
  {
   "cell_type": "code",
   "execution_count": 55,
   "id": "4d8de6c5",
   "metadata": {},
   "outputs": [
    {
     "data": {
      "text/plain": [
       "125.0"
      ]
     },
     "execution_count": 55,
     "metadata": {},
     "output_type": "execute_result"
    }
   ],
   "source": [
    "# 24\n",
    "dist = NB(25, 0.2)\n",
    "dist.exp"
   ]
  },
  {
   "cell_type": "code",
   "execution_count": 63,
   "id": "aa6d6d2f",
   "metadata": {},
   "outputs": [
    {
     "name": "stdout",
     "output_type": "stream",
     "text": [
      "ALPHA: 0.025000000000000022\n"
     ]
    },
    {
     "data": {
      "text/plain": [
       "(-0.9995394024677559, 0.9995394024677559)"
      ]
     },
     "execution_count": 63,
     "metadata": {},
     "output_type": "execute_result"
    }
   ],
   "source": [
    "# 26\n",
    "n = 769\n",
    "var = two_equal_var(10, 10, n, n)\n",
    "ci_z(0, var, 0.95)"
   ]
  },
  {
   "cell_type": "code",
   "execution_count": 66,
   "id": "bd103e83",
   "metadata": {},
   "outputs": [
    {
     "name": "stdout",
     "output_type": "stream",
     "text": [
      "DOF\n",
      "DOF\n"
     ]
    },
    {
     "data": {
      "text/plain": [
       "(-1.7390436226488983, 1.7390436226488983)"
      ]
     },
     "execution_count": 66,
     "metadata": {},
     "output_type": "execute_result"
    }
   ],
   "source": [
    "# 27\n",
    "n = 10\n",
    "var = known_var(3, n)\n",
    "ci_t(0, var, 0.9, n-1)"
   ]
  },
  {
   "cell_type": "code",
   "execution_count": 76,
   "id": "eb0fac29",
   "metadata": {},
   "outputs": [
    {
     "name": "stdout",
     "output_type": "stream",
     "text": [
      "DOF\n"
     ]
    },
    {
     "data": {
      "text/plain": [
       "0.8562894777177515"
      ]
     },
     "execution_count": 76,
     "metadata": {},
     "output_type": "execute_result"
    }
   ],
   "source": [
    "# 28\n",
    "n = 25\n",
    "s = 10\n",
    "xbar = 2.56\n",
    "mu = 1.5\n",
    "stat = unknown_stat(xbar, mu, s, n)\n",
    "p_value = t_p_value(stat, n-1)\n",
    "type_2_error = 0.1/p_value\n",
    "1-type_2_error"
   ]
  },
  {
   "cell_type": "code",
   "execution_count": 83,
   "id": "e4955dd2",
   "metadata": {},
   "outputs": [
    {
     "name": "stdout",
     "output_type": "stream",
     "text": [
      "-1.8\n",
      "DOF\n"
     ]
    },
    {
     "data": {
      "text/plain": [
       "0.9452234956779358"
      ]
     },
     "execution_count": 83,
     "metadata": {},
     "output_type": "execute_result"
    }
   ],
   "source": [
    "# 29\n",
    "n = 9\n",
    "xbar = 0.4\n",
    "mu = 1\n",
    "sigma = 1\n",
    "stat = known_stat(xbar, mu, sigma, n)\n",
    "print(stat)\n",
    "1 - t_p_value(stat, n-1)"
   ]
  },
  {
   "cell_type": "code",
   "execution_count": 78,
   "id": "044d1ef5",
   "metadata": {},
   "outputs": [
    {
     "name": "stdout",
     "output_type": "stream",
     "text": [
      "0.08422433748856832\n"
     ]
    },
    {
     "data": {
      "text/plain": [
       "0.014778622969558862"
      ]
     },
     "execution_count": 78,
     "metadata": {},
     "output_type": "execute_result"
    }
   ],
   "source": [
    "# 33\n",
    "y1 = P(2+3)\n",
    "y2 = P(3+2)\n",
    "y1.pdf(2)*y2.pdf(4)"
   ]
  },
  {
   "cell_type": "code",
   "execution_count": null,
   "id": "c354c505",
   "metadata": {},
   "outputs": [],
   "source": [
    "# 34\n"
   ]
  }
 ],
 "metadata": {
  "kernelspec": {
   "display_name": "Python 3",
   "language": "python",
   "name": "python3"
  },
  "language_info": {
   "codemirror_mode": {
    "name": "ipython",
    "version": 3
   },
   "file_extension": ".py",
   "mimetype": "text/x-python",
   "name": "python",
   "nbconvert_exporter": "python",
   "pygments_lexer": "ipython3",
   "version": "3.8.2"
  }
 },
 "nbformat": 4,
 "nbformat_minor": 5
}
