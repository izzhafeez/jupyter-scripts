{
 "cells": [
  {
   "cell_type": "code",
   "execution_count": 2,
   "metadata": {},
   "outputs": [],
   "source": [
    "import re\n",
    "import pandas as pd\n",
    "    \n",
    "chineseRegex = r'[\\u4e00-\\u9fff]+'\n",
    "\n",
    "def regOR(keywords, toCompile = True, flags = None):\n",
    "    \n",
    "    if type(keywords) == str:\n",
    "        keywords = [keywords]\n",
    "    elif type(keywords) != list:\n",
    "        raise Exception(\"'keywords' must be a list/str\")      \n",
    "        \n",
    "    if toCompile:\n",
    "        return re.compile('(' + '|'.join(keywords) + ')', flags = flags)\n",
    "    else:\n",
    "        return '(' + '|'.join(keywords) + ')'\n",
    "    \n",
    "def keywordFilter(sentences, include = [], exclude = [], flags = None):\n",
    "    \n",
    "    if type(include) == str:\n",
    "        include = [include]\n",
    "    elif type(include) != list:\n",
    "        raise Exception(\"'include' must be a list/str\")\n",
    "        \n",
    "    if type(exclude) == str:\n",
    "        exclude = [exclude]\n",
    "    elif type(exclude) != list:\n",
    "        raise Exception(\"'exclude' must be a list/str\")\n",
    "    \n",
    "    if len(include) != 0: sentences = list(filter(lambda x: regex.OR(include, flags=flags).search(x), sentences))\n",
    "    if len(exclude) != 0: sentences = list(filter(lambda x: not regex.OR(exclude, flags=flags).search(x), sentences))\n",
    "\n",
    "    return sentences\n",
    "\n",
    "def headerDown(df):\n",
    "    return df.reset_index(drop=True).T.reset_index().T\n",
    "\n",
    "def headerUp(df):\n",
    "    tempDf = df.copy()\n",
    "    tempDf.columns = tempDf.iloc[0]\n",
    "    tempDf = tempDf.drop(tempDf.index[0])\n",
    "    return tempDf\n",
    "\n",
    "def mergePivot(pvt1,pvt2):\n",
    "    \n",
    "    pvt1df = pd.DataFrame(pvt1)\n",
    "    pvt1df.fillna(0,inplace=True)\n",
    "    pvt1df.reset_index(inplace=True)\n",
    "    pvt2df = pd.DataFrame(pvt2)\n",
    "    pvt2df.fillna(0,inplace=True)\n",
    "    pvt2df.reset_index(inplace=True)\n",
    "    alldata = pvt1df.merge(pvt2df, how='left')\n",
    "    return alldata"
   ]
  },
  {
   "cell_type": "code",
   "execution_count": 9,
   "metadata": {},
   "outputs": [],
   "source": [
    "def minimumSatisfy(yesKeywords,string,noKeywords=[],threshold=0,subtractNoKeywords=False):\n",
    "\n",
    "    if type(yesKeywords) == str:\n",
    "        yesKeywords = [yesKeywords]\n",
    "    elif type(yesKeywords) != list:\n",
    "        raise Exception(\"'yesKeywords' must be a list/str\")  \n",
    "    if type(noKeywords) == str:\n",
    "        noKeywords = [noKeywords]\n",
    "    elif type(noKeywords) != list:\n",
    "        raise Exception(\"'noKeywords' must be a list/str\")\n",
    "\n",
    "    total = 0\n",
    "    total += sum(s in string for s in yesKeywords)\n",
    "    if subtractNoKeywords:\n",
    "        total -= sum(s in string for s in noKeywords)\n",
    "    else:\n",
    "        total += sum(s not in string for s in noKeywords)\n",
    "\n",
    "    return total >= threshold"
   ]
  },
  {
   "cell_type": "code",
   "execution_count": 13,
   "metadata": {},
   "outputs": [
    {
     "data": {
      "text/plain": [
       "False"
      ]
     },
     "execution_count": 13,
     "metadata": {},
     "output_type": "execute_result"
    }
   ],
   "source": [
    "minimumSatisfy('aejhgkrabbfd',['a','b','c'],threshold=3)"
   ]
  },
  {
   "cell_type": "code",
   "execution_count": null,
   "metadata": {},
   "outputs": [],
   "source": []
  }
 ],
 "metadata": {
  "kernelspec": {
   "display_name": "Python 3",
   "language": "python",
   "name": "python3"
  },
  "language_info": {
   "codemirror_mode": {
    "name": "ipython",
    "version": 3
   },
   "file_extension": ".py",
   "mimetype": "text/x-python",
   "name": "python",
   "nbconvert_exporter": "python",
   "pygments_lexer": "ipython3",
   "version": "3.7.2"
  }
 },
 "nbformat": 4,
 "nbformat_minor": 4
}
