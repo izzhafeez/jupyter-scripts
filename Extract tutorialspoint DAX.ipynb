{
 "cells": [
  {
   "cell_type": "code",
   "execution_count": 173,
   "metadata": {},
   "outputs": [],
   "source": [
    "from wilcoxon.spiderman import *\n",
    "import re\n",
    "import pandas as pd\n",
    "from tqdm import tqdm"
   ]
  },
  {
   "cell_type": "code",
   "execution_count": 246,
   "metadata": {},
   "outputs": [],
   "source": [
    "site = website(\"https://www.tutorialspoint.com/dax_functions/dax_functions_other.htm\")"
   ]
  },
  {
   "cell_type": "code",
   "execution_count": 247,
   "metadata": {},
   "outputs": [],
   "source": [
    "links = [\"https://www.tutorialspoint.com\" + x['href'] for x in site.html('a',string=re.compile(\"function$\"))]"
   ]
  },
  {
   "cell_type": "code",
   "execution_count": 248,
   "metadata": {},
   "outputs": [],
   "source": [
    "def getData(link):\n",
    "\n",
    "    subsite = website(link)\n",
    "    software = \"Power BI\"\n",
    "    explanation = subsite.html.find(\"h2\",text=\"Description\").find_next(\"p\").text\n",
    "    subject = list(subsite.html.find(\"h2\",text=\"Syntax\").find_next(\"pre\").stripped_strings)[0]\n",
    "\n",
    "    para = pd.read_html(str(subsite.html.find(\"h2\",text=\"Parameters\").find_next(\"table\")))[0]\n",
    "    para['Subject'] = para.iloc[:,1].apply(lambda x: re.split(r\"\\s(?=[A-Z])\",x,1)[0])\n",
    "    para['Explanation'] = para.iloc[:,1].apply(lambda x: re.split(r\"\\s(?=[A-Z])\",x,1)[1])\n",
    "\n",
    "    para = para.iloc[:,2:]\n",
    "    para = para.to_dict(\"records\")\n",
    "\n",
    "    for x in para:\n",
    "        x[\"Software\"] = software\n",
    "        x[\"Type\"] = \"parameter\"\n",
    "        x[\"Link\"] = link\n",
    "        x[\"Subject\"] = re.findall(\"(.*)\\s\\(\", subject)[0] + f\"(<{x['Subject']}>)\"\n",
    "\n",
    "    returnVal = subsite.html.find(\"h2\",text=\"Return Value\").find_next(\"p\").text\n",
    "    example = list(subsite.html.find(\"h2\",text=\"Example\").find_next(\"pre\").stripped_strings)[0]\n",
    "    example = example[2:] if example[0] == \"=\" else example\n",
    "    remarks = subsite.html.find(\"h2\",text=\"Remarks\").find_next(\"p\").text\n",
    "\n",
    "    firstRow = [{\"Software\":software,\"Type\":\"function\",\"Subject\":subject,\"Explanation\":explanation,\"Example\":example,\"Remarks\":remarks,\"Return\":returnVal,\"Link\":link}]\n",
    "    df = pd.DataFrame(firstRow,columns = ['Software', 'Subject', 'Type', 'Explanation', 'Return', 'Example', 'Remarks', 'Package', 'Level', 'Link'])\n",
    "    df = df.append(para)\n",
    "    \n",
    "    return df\n"
   ]
  },
  {
   "cell_type": "code",
   "execution_count": 249,
   "metadata": {},
   "outputs": [
    {
     "name": "stderr",
     "output_type": "stream",
     "text": [
      "100%|██████████| 8/8 [00:04<00:00,  1.78it/s]"
     ]
    },
    {
     "name": "stdout",
     "output_type": "stream",
     "text": [
      "https://www.tutorialspoint.com/dax_functions/dax_var_function.htm\n",
      "list index out of range\n"
     ]
    },
    {
     "name": "stderr",
     "output_type": "stream",
     "text": [
      "\n"
     ]
    }
   ],
   "source": [
    "dfs = []\n",
    "for link in tqdm(links):\n",
    "    try:\n",
    "        dfs.append(getData(link))\n",
    "    except Exception as e:\n",
    "        print(link)\n",
    "        print(e)"
   ]
  },
  {
   "cell_type": "code",
   "execution_count": 250,
   "metadata": {},
   "outputs": [],
   "source": [
    "pd.concat(dfs).to_clipboard()"
   ]
  },
  {
   "cell_type": "code",
   "execution_count": 201,
   "metadata": {},
   "outputs": [
    {
     "data": {
      "text/plain": [
       "0    table The table over which all context filters...\n",
       "1    column One or more columns that are specified ...\n",
       "Name: Parameter & Description, dtype: object"
      ]
     },
     "execution_count": 201,
     "metadata": {},
     "output_type": "execute_result"
    }
   ],
   "source": [
    "para.iloc[:,1]"
   ]
  },
  {
   "cell_type": "code",
   "execution_count": null,
   "metadata": {},
   "outputs": [],
   "source": []
  }
 ],
 "metadata": {
  "kernelspec": {
   "display_name": "Python 3",
   "language": "python",
   "name": "python3"
  },
  "language_info": {
   "codemirror_mode": {
    "name": "ipython",
    "version": 3
   },
   "file_extension": ".py",
   "mimetype": "text/x-python",
   "name": "python",
   "nbconvert_exporter": "python",
   "pygments_lexer": "ipython3",
   "version": "3.7.2"
  }
 },
 "nbformat": 4,
 "nbformat_minor": 4
}
