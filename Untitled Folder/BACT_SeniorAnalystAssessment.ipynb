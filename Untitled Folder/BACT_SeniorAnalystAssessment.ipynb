{
 "cells": [
  {
   "cell_type": "markdown",
   "id": "Q9c1i8PV3e2w",
   "metadata": {
    "id": "Q9c1i8PV3e2w"
   },
   "source": [
    "Please upload your submission into the google forms with the file named in the format of fullname_role.ipynb. For instance, JohnTan_SeniorAnalyst.ipynb"
   ]
  },
  {
   "cell_type": "markdown",
   "id": "3c86435f",
   "metadata": {
    "id": "3c86435f"
   },
   "source": [
    "## Question 1"
   ]
  },
  {
   "cell_type": "markdown",
   "id": "4415e40f",
   "metadata": {
    "id": "4415e40f"
   },
   "source": [
    "Scrape all listings in the first 5 pages of the SRX website (https://www.srx.com.sg/singapore-property-listings/hdb-for-sale). </b>\n",
    "<br>\n",
    "<br>\n",
    "The columns to scrape are:\n",
    "<ul>\n",
    "  <li>listing title</li>\n",
    "  <li>listing price</li>\n",
    "  <li>room size</li>\n",
    "  <li>psf</li>\n",
    "  <li>number of rooms</li>\n",
    "  <li>agent name</li>\n",
    "  <li>listing description</li>\n",
    "</ul>\n",
    "<br>\n",
    "Refer to the \"webscrape_format.png\" file to see the expected output. "
   ]
  },
  {
   "cell_type": "code",
   "execution_count": null,
   "id": "a8ed2241",
   "metadata": {
    "id": "a8ed2241"
   },
   "outputs": [],
   "source": [
    ""
   ]
  },
  {
   "cell_type": "markdown",
   "id": "36542410",
   "metadata": {
    "id": "36542410"
   },
   "source": [
    "## Question 2"
   ]
  },
  {
   "cell_type": "markdown",
   "id": "edb2b121",
   "metadata": {
    "id": "edb2b121"
   },
   "source": [
    "The dataset below contains data on AirBnB listings, as well as their price per night. \n",
    "<br>\n",
    "<br>\n",
    "Using the dataset below, come up with <b> 2 interesting visualisations </b> and describe the key insights derived from them."
   ]
  },
  {
   "cell_type": "code",
   "execution_count": null,
   "id": "e75a5576",
   "metadata": {
    "id": "e75a5576"
   },
   "outputs": [],
   "source": [
    "import pandas as pd"
   ]
  },
  {
   "cell_type": "code",
   "execution_count": null,
   "id": "89f68bf2",
   "metadata": {
    "id": "89f68bf2"
   },
   "outputs": [],
   "source": [
    "df = pd.read_csv(\"senioranalyst_train.csv\")"
   ]
  },
  {
   "cell_type": "code",
   "execution_count": null,
   "id": "6e588e00",
   "metadata": {
    "id": "6e588e00",
    "outputId": "6d17517e-9bc7-4e66-edff-540a27a54371"
   },
   "outputs": [
    {
     "data": {
      "text/html": [
       "<div>\n",
       "<style scoped>\n",
       "    .dataframe tbody tr th:only-of-type {\n",
       "        vertical-align: middle;\n",
       "    }\n",
       "\n",
       "    .dataframe tbody tr th {\n",
       "        vertical-align: top;\n",
       "    }\n",
       "\n",
       "    .dataframe thead th {\n",
       "        text-align: right;\n",
       "    }\n",
       "</style>\n",
       "<table border=\"1\" class=\"dataframe\">\n",
       "  <thead>\n",
       "    <tr style=\"text-align: right;\">\n",
       "      <th></th>\n",
       "      <th>id</th>\n",
       "      <th>price</th>\n",
       "      <th>property_type</th>\n",
       "      <th>room_type</th>\n",
       "      <th>amenities</th>\n",
       "      <th>accommodates</th>\n",
       "      <th>bathrooms</th>\n",
       "      <th>bed_type</th>\n",
       "      <th>cancellation_policy</th>\n",
       "      <th>cleaning_fee</th>\n",
       "      <th>...</th>\n",
       "      <th>latitude</th>\n",
       "      <th>longitude</th>\n",
       "      <th>name</th>\n",
       "      <th>neighbourhood</th>\n",
       "      <th>number_of_reviews</th>\n",
       "      <th>review_scores_rating</th>\n",
       "      <th>thumbnail_url</th>\n",
       "      <th>zipcode</th>\n",
       "      <th>bedrooms</th>\n",
       "      <th>beds</th>\n",
       "    </tr>\n",
       "  </thead>\n",
       "  <tbody>\n",
       "    <tr>\n",
       "      <th>0</th>\n",
       "      <td>16147000</td>\n",
       "      <td>170</td>\n",
       "      <td>Apartment</td>\n",
       "      <td>Entire home/apt</td>\n",
       "      <td>{TV,\"Wireless Internet\",Kitchen,\"Free parking ...</td>\n",
       "      <td>2</td>\n",
       "      <td>1.0</td>\n",
       "      <td>Real Bed</td>\n",
       "      <td>strict</td>\n",
       "      <td>True</td>\n",
       "      <td>...</td>\n",
       "      <td>34.026022</td>\n",
       "      <td>-118.491287</td>\n",
       "      <td>1BD Close to ocean and restaurants</td>\n",
       "      <td>Santa Monica</td>\n",
       "      <td>11</td>\n",
       "      <td>98.0</td>\n",
       "      <td>https://a0.muscache.com/im/pictures/031fc850-0...</td>\n",
       "      <td>90403</td>\n",
       "      <td>1.0</td>\n",
       "      <td>1.0</td>\n",
       "    </tr>\n",
       "    <tr>\n",
       "      <th>1</th>\n",
       "      <td>12657888</td>\n",
       "      <td>100</td>\n",
       "      <td>House</td>\n",
       "      <td>Entire home/apt</td>\n",
       "      <td>{TV,\"Cable TV\",\"Wireless Internet\",Kitchen,\"Fr...</td>\n",
       "      <td>4</td>\n",
       "      <td>1.0</td>\n",
       "      <td>Real Bed</td>\n",
       "      <td>strict</td>\n",
       "      <td>True</td>\n",
       "      <td>...</td>\n",
       "      <td>34.109430</td>\n",
       "      <td>-118.327577</td>\n",
       "      <td>Bohemian Hollywood Hills Studio</td>\n",
       "      <td>Hollywood Hills</td>\n",
       "      <td>50</td>\n",
       "      <td>92.0</td>\n",
       "      <td>https://a0.muscache.com/im/pictures/14554404/f...</td>\n",
       "      <td>90068</td>\n",
       "      <td>1.0</td>\n",
       "      <td>1.0</td>\n",
       "    </tr>\n",
       "    <tr>\n",
       "      <th>2</th>\n",
       "      <td>5495026</td>\n",
       "      <td>108</td>\n",
       "      <td>Apartment</td>\n",
       "      <td>Private room</td>\n",
       "      <td>{Internet,\"Air conditioning\",Pool,Kitchen,\"Fre...</td>\n",
       "      <td>2</td>\n",
       "      <td>2.0</td>\n",
       "      <td>Real Bed</td>\n",
       "      <td>flexible</td>\n",
       "      <td>False</td>\n",
       "      <td>...</td>\n",
       "      <td>34.409711</td>\n",
       "      <td>-118.443744</td>\n",
       "      <td>Master in Townhome in Cyn Country.</td>\n",
       "      <td>NaN</td>\n",
       "      <td>0</td>\n",
       "      <td>NaN</td>\n",
       "      <td>https://a0.muscache.com/im/pictures/78581068/4...</td>\n",
       "      <td>91387</td>\n",
       "      <td>1.0</td>\n",
       "      <td>1.0</td>\n",
       "    </tr>\n",
       "    <tr>\n",
       "      <th>3</th>\n",
       "      <td>12972292</td>\n",
       "      <td>80</td>\n",
       "      <td>Apartment</td>\n",
       "      <td>Private room</td>\n",
       "      <td>{TV,\"Cable TV\",Internet,\"Wireless Internet\",\"A...</td>\n",
       "      <td>2</td>\n",
       "      <td>2.0</td>\n",
       "      <td>Real Bed</td>\n",
       "      <td>flexible</td>\n",
       "      <td>True</td>\n",
       "      <td>...</td>\n",
       "      <td>40.815739</td>\n",
       "      <td>-73.948769</td>\n",
       "      <td>Spacious rm 15 mins from downtown!</td>\n",
       "      <td>Harlem</td>\n",
       "      <td>5</td>\n",
       "      <td>90.0</td>\n",
       "      <td>https://a0.muscache.com/im/pictures/68229735/4...</td>\n",
       "      <td>10027</td>\n",
       "      <td>1.0</td>\n",
       "      <td>1.0</td>\n",
       "    </tr>\n",
       "    <tr>\n",
       "      <th>4</th>\n",
       "      <td>13494070</td>\n",
       "      <td>150</td>\n",
       "      <td>House</td>\n",
       "      <td>Entire home/apt</td>\n",
       "      <td>{TV,\"Wireless Internet\",\"Air conditioning\",\"Fr...</td>\n",
       "      <td>2</td>\n",
       "      <td>1.0</td>\n",
       "      <td>Real Bed</td>\n",
       "      <td>flexible</td>\n",
       "      <td>False</td>\n",
       "      <td>...</td>\n",
       "      <td>40.597005</td>\n",
       "      <td>-73.952849</td>\n",
       "      <td>Private basement (2 bedrooms) w/ Private Bath</td>\n",
       "      <td>Sheepshead Bay</td>\n",
       "      <td>1</td>\n",
       "      <td>100.0</td>\n",
       "      <td>https://a0.muscache.com/im/pictures/d2cf896d-b...</td>\n",
       "      <td>11229</td>\n",
       "      <td>2.0</td>\n",
       "      <td>1.0</td>\n",
       "    </tr>\n",
       "  </tbody>\n",
       "</table>\n",
       "<p>5 rows × 29 columns</p>\n",
       "</div>"
      ],
      "text/plain": [
       "         id  price property_type        room_type  \\\n",
       "0  16147000    170     Apartment  Entire home/apt   \n",
       "1  12657888    100         House  Entire home/apt   \n",
       "2   5495026    108     Apartment     Private room   \n",
       "3  12972292     80     Apartment     Private room   \n",
       "4  13494070    150         House  Entire home/apt   \n",
       "\n",
       "                                           amenities  accommodates  bathrooms  \\\n",
       "0  {TV,\"Wireless Internet\",Kitchen,\"Free parking ...             2        1.0   \n",
       "1  {TV,\"Cable TV\",\"Wireless Internet\",Kitchen,\"Fr...             4        1.0   \n",
       "2  {Internet,\"Air conditioning\",Pool,Kitchen,\"Fre...             2        2.0   \n",
       "3  {TV,\"Cable TV\",Internet,\"Wireless Internet\",\"A...             2        2.0   \n",
       "4  {TV,\"Wireless Internet\",\"Air conditioning\",\"Fr...             2        1.0   \n",
       "\n",
       "   bed_type cancellation_policy  cleaning_fee  ...   latitude   longitude  \\\n",
       "0  Real Bed              strict          True  ...  34.026022 -118.491287   \n",
       "1  Real Bed              strict          True  ...  34.109430 -118.327577   \n",
       "2  Real Bed            flexible         False  ...  34.409711 -118.443744   \n",
       "3  Real Bed            flexible          True  ...  40.815739  -73.948769   \n",
       "4  Real Bed            flexible         False  ...  40.597005  -73.952849   \n",
       "\n",
       "                                            name    neighbourhood  \\\n",
       "0             1BD Close to ocean and restaurants     Santa Monica   \n",
       "1               Bohemian Hollywood Hills Studio   Hollywood Hills   \n",
       "2             Master in Townhome in Cyn Country.              NaN   \n",
       "3             Spacious rm 15 mins from downtown!           Harlem   \n",
       "4  Private basement (2 bedrooms) w/ Private Bath   Sheepshead Bay   \n",
       "\n",
       "  number_of_reviews review_scores_rating  \\\n",
       "0                11                 98.0   \n",
       "1                50                 92.0   \n",
       "2                 0                  NaN   \n",
       "3                 5                 90.0   \n",
       "4                 1                100.0   \n",
       "\n",
       "                                       thumbnail_url zipcode bedrooms  beds  \n",
       "0  https://a0.muscache.com/im/pictures/031fc850-0...   90403      1.0   1.0  \n",
       "1  https://a0.muscache.com/im/pictures/14554404/f...   90068      1.0   1.0  \n",
       "2  https://a0.muscache.com/im/pictures/78581068/4...   91387      1.0   1.0  \n",
       "3  https://a0.muscache.com/im/pictures/68229735/4...   10027      1.0   1.0  \n",
       "4  https://a0.muscache.com/im/pictures/d2cf896d-b...   11229      2.0   1.0  \n",
       "\n",
       "[5 rows x 29 columns]"
      ]
     },
     "execution_count": 25,
     "metadata": {},
     "output_type": "execute_result"
    }
   ],
   "source": [
    "df.head()"
   ]
  },
  {
   "cell_type": "code",
   "execution_count": null,
   "id": "c0355618",
   "metadata": {
    "id": "c0355618"
   },
   "outputs": [],
   "source": [
    ""
   ]
  },
  {
   "cell_type": "markdown",
   "id": "b3041752",
   "metadata": {
    "id": "b3041752"
   },
   "source": [
    "## Question 3"
   ]
  },
  {
   "cell_type": "markdown",
   "id": "f974a671",
   "metadata": {
    "id": "f974a671"
   },
   "source": [
    "Using the same dataset from Question 2, build a model (or multiple models) that predicts the price per night (variable \"price\"). \n",
    "<br>\n",
    "<br>\n",
    "Run the best model selected on the test dataset (senioranalyst_test.csv) to generate predictions. Save these predictions into a CSV file following the format of \"senioranalyst_sample.csv\" (ID column and price prediction). The evaluation metric for the predictions is the R2 score.\n",
    "<br>\n",
    "<br>\n",
    "Upload the submission csv into the google forms with the format \"[full name]_SeniorAnalyst_predictions\" (without the brackets)"
   ]
  },
  {
   "cell_type": "code",
   "execution_count": null,
   "id": "6a27bc93",
   "metadata": {
    "id": "6a27bc93"
   },
   "outputs": [],
   "source": [
    ""
   ]
  },
  {
   "cell_type": "code",
   "execution_count": null,
   "id": "b95d8d63",
   "metadata": {
    "id": "b95d8d63"
   },
   "outputs": [],
   "source": [
    ""
   ]
  }
 ],
 "metadata": {
  "colab": {
   "collapsed_sections": [],
   "name": "BACT_SeniorAnalyst.ipynb",
   "provenance": []
  },
  "kernelspec": {
   "display_name": "Python 3 (ipykernel)",
   "language": "python",
   "name": "python3"
  },
  "language_info": {
   "codemirror_mode": {
    "name": "ipython",
    "version": 3
   },
   "file_extension": ".py",
   "mimetype": "text/x-python",
   "name": "python",
   "nbconvert_exporter": "python",
   "pygments_lexer": "ipython3",
   "version": "3.9.7"
  }
 },
 "nbformat": 4,
 "nbformat_minor": 5
}
