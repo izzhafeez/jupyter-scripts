{
 "cells": [
  {
   "cell_type": "code",
   "execution_count": 19,
   "metadata": {},
   "outputs": [
    {
     "name": "stdout",
     "output_type": "stream",
     "text": [
      "2020-11-01 13:09:40,610 INFO sqlalchemy.engine.base.Engine SELECT CAST('test plain returns' AS VARCHAR(60)) AS anon_1\n",
      "2020-11-01 13:09:40,613 INFO sqlalchemy.engine.base.Engine ()\n",
      "2020-11-01 13:09:40,615 INFO sqlalchemy.engine.base.Engine SELECT CAST('test unicode returns' AS VARCHAR(60)) AS anon_1\n",
      "2020-11-01 13:09:40,616 INFO sqlalchemy.engine.base.Engine ()\n",
      "2020-11-01 13:09:40,618 INFO sqlalchemy.engine.base.Engine PRAGMA main.table_info(\"students\")\n",
      "2020-11-01 13:09:40,619 INFO sqlalchemy.engine.base.Engine ()\n",
      "2020-11-01 13:09:40,623 INFO sqlalchemy.engine.base.Engine PRAGMA temp.table_info(\"students\")\n",
      "2020-11-01 13:09:40,652 INFO sqlalchemy.engine.base.Engine ()\n",
      "2020-11-01 13:09:40,675 INFO sqlalchemy.engine.base.Engine \n",
      "CREATE TABLE students (\n",
      "\tid INTEGER NOT NULL, \n",
      "\tname VARCHAR, \n",
      "\tlastname VARCHAR, \n",
      "\tPRIMARY KEY (id)\n",
      ")\n",
      "\n",
      "\n",
      "2020-11-01 13:09:40,679 INFO sqlalchemy.engine.base.Engine ()\n",
      "2020-11-01 13:09:40,688 INFO sqlalchemy.engine.base.Engine COMMIT\n",
      "2020-11-01 13:09:40,700 INFO sqlalchemy.engine.base.Engine INSERT INTO students (name, lastname) VALUES (?, ?)\n",
      "2020-11-01 13:09:40,703 INFO sqlalchemy.engine.base.Engine (('Rajiv', 'Khanna'), ('Komal', 'Bhandari'), ('Abdul', 'Sattar'), ('Priya', 'Rajhans'))\n",
      "2020-11-01 13:09:40,706 INFO sqlalchemy.engine.base.Engine COMMIT\n",
      "2020-11-01 13:09:40,718 INFO sqlalchemy.engine.base.Engine SELECT students.id, students.name, students.lastname \n",
      "FROM students \n",
      "WHERE students.id > ?\n",
      "2020-11-01 13:09:40,720 INFO sqlalchemy.engine.base.Engine (2,)\n",
      "(3, 'Abdul', 'Sattar')\n",
      "(4, 'Priya', 'Rajhans')\n"
     ]
    }
   ],
   "source": [
    "from sqlalchemy import create_engine, MetaData, Table, Column, Integer, String\n",
    "engine = create_engine('sqlite:///college.db', echo = True)\n",
    "meta = MetaData()\n",
    "\n",
    "students = Table(\n",
    "   'students', meta, \n",
    "   Column('id', Integer, primary_key = True), \n",
    "   Column('name', String), \n",
    "   Column('lastname', String), \n",
    ")\n",
    "\n",
    "meta.create_all(engine)\n",
    "\n",
    "conn = engine.connect()\n",
    "\n",
    "result = conn.execute(students.insert(), [\n",
    "   {'name':'Rajiv', 'lastname' : 'Khanna'},\n",
    "   {'name':'Komal','lastname' : 'Bhandari'},\n",
    "   {'name':'Abdul','lastname' : 'Sattar'},\n",
    "   {'name':'Priya','lastname' : 'Rajhans'},\n",
    "])\n",
    "\n",
    "s = students.select().where(students.c.id>2)\n",
    "result = conn.execute(s)\n",
    "\n",
    "for row in result:\n",
    "    print (row)"
   ]
  },
  {
   "cell_type": "code",
   "execution_count": 17,
   "metadata": {},
   "outputs": [
    {
     "name": "stdout",
     "output_type": "stream",
     "text": [
      "2020-11-01 13:05:03,463 INFO sqlalchemy.engine.base.Engine DROP TABLE students\n",
      "2020-11-01 13:05:03,466 INFO sqlalchemy.engine.base.Engine ()\n",
      "2020-11-01 13:05:03,477 INFO sqlalchemy.engine.base.Engine COMMIT\n"
     ]
    }
   ],
   "source": [
    "from sqlalchemy import text\n",
    "t = text(\"DROP TABLE students\")\n",
    "result = conn.execute(t)"
   ]
  },
  {
   "cell_type": "code",
   "execution_count": 20,
   "metadata": {},
   "outputs": [
    {
     "name": "stdout",
     "output_type": "stream",
     "text": [
      "2020-11-01 13:09:48,610 INFO sqlalchemy.engine.base.Engine select students.name, students.lastname from students where students.name between ? and ?\n",
      "2020-11-01 13:09:48,613 INFO sqlalchemy.engine.base.Engine ('A', 'L')\n"
     ]
    },
    {
     "data": {
      "text/plain": [
       "[('Komal', 'Bhandari'), ('Abdul', 'Sattar')]"
      ]
     },
     "execution_count": 20,
     "metadata": {},
     "output_type": "execute_result"
    }
   ],
   "source": [
    "s = text(\"select students.name, students.lastname from students where students.name between :x and :y\")\n",
    "conn.execute(s, x = 'A', y = 'L').fetchall()"
   ]
  },
  {
   "cell_type": "code",
   "execution_count": 23,
   "metadata": {},
   "outputs": [
    {
     "name": "stdout",
     "output_type": "stream",
     "text": [
      "2020-11-01 13:11:37,211 INFO sqlalchemy.engine.base.Engine SELECT students.id, students.name, students.lastname \n",
      "FROM students \n",
      "WHERE students.name = ?\n",
      "2020-11-01 13:11:37,215 INFO sqlalchemy.engine.base.Engine ('Abdul',)\n",
      "(3, 'Abdul', 'Sattar')\n"
     ]
    }
   ],
   "source": [
    "result = conn.execute(students.select().where(students.c.name == 'Abdul'))\n",
    "for r in result:\n",
    "    print(r)"
   ]
  }
 ],
 "metadata": {
  "kernelspec": {
   "display_name": "Python 3",
   "language": "python",
   "name": "python3"
  },
  "language_info": {
   "codemirror_mode": {
    "name": "ipython",
    "version": 3
   },
   "file_extension": ".py",
   "mimetype": "text/x-python",
   "name": "python",
   "nbconvert_exporter": "python",
   "pygments_lexer": "ipython3",
   "version": "3.7.2"
  }
 },
 "nbformat": 4,
 "nbformat_minor": 4
}
