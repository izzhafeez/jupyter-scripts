{
 "cells": [
  {
   "cell_type": "code",
   "execution_count": 507,
   "metadata": {},
   "outputs": [],
   "source": [
    "import telepot\n",
    "from datetime import datetime as dt\n",
    "import numpy as np\n",
    "from wilcoxon.spiderman import *\n",
    "import json\n",
    "import requests"
   ]
  },
  {
   "cell_type": "code",
   "execution_count": 476,
   "metadata": {},
   "outputs": [],
   "source": [
    "def getChatIds(botId,onlyId = False):\n",
    "    data = json.loads(requests.get(f'https://api.telegram.org/bot{botId}/getUpdates').text)\n",
    "    if onlyId:\n",
    "        return list(set(x['message']['chat']['id'] for x in data['result']))\n",
    "    else:\n",
    "        return list(set([(x['message']['chat']['username'], x['message']['chat']['id']) for x in data['result']]))\n",
    "\n",
    "class Telegram:\n",
    "    \n",
    "    def __init__(self,\n",
    "                 iterable,\n",
    "                 chatIds = None,\n",
    "                 botId = None,\n",
    "                 params = {},\n",
    "                 start = None,\n",
    "                 middle = None,\n",
    "                 timing = 0,\n",
    "                 end = None,\n",
    "                 date = '%H:%M:%S %d %b %y'):\n",
    "        \n",
    "        Params = {'chatIds': chatIds,\n",
    "                  'botId': botId,\n",
    "                  'start': start,\n",
    "                  'middle': middle,\n",
    "                  'timing': timing,\n",
    "                  'end': end,\n",
    "                  'date': date}\n",
    "        \n",
    "        Params.update(params)\n",
    "        chatIds = Params['chatIds']\n",
    "        Params['chatIds'] = [chatIds] if type(chatIds) != list else chatIds\n",
    "        Params['bot'] = telepot.Bot(Params['botId'])\n",
    "        \n",
    "        self.iterable = iterable\n",
    "        self.params = Params\n",
    "        \n",
    "        \n",
    "    def __iter__(self):\n",
    "        \n",
    "        self.startTime = dt.now()\n",
    "        self.periodStartTime = self.startTime\n",
    "        \n",
    "        if self.params['start'] != None:\n",
    "            print(self.params['start'])\n",
    "            for chatId in self.params['chatIds']:\n",
    "                self.params['bot'].sendMessage(chatId,self.params['start'])\n",
    "        \n",
    "        try:\n",
    "            print('Started: %s' % self.startTime.strftime(self.params['date']))\n",
    "        except: pass\n",
    "        \n",
    "        if type(self.iterable) == list:\n",
    "            self.len = len(self.iterable)\n",
    "            \n",
    "        elif type(self.iterable) == int:\n",
    "            self.len = self.iterable\n",
    "        \n",
    "        else:\n",
    "            raise Exception('iterable must be int or list')\n",
    "            \n",
    "        print('Total: %d' % self.len)\n",
    "        \n",
    "        self.n = 0\n",
    "        return self\n",
    "    \n",
    "    def __next__(self):\n",
    "        \n",
    "        now = dt.now()\n",
    "        timeElapsed = (now - self.periodStartTime).total_seconds()/60\n",
    "        \n",
    "        if self.n < self.len:\n",
    "            \n",
    "            if self.params['timing'] <= 0:\n",
    "                pass\n",
    "            \n",
    "            elif type(self.params['timing']) not in [float,int]:\n",
    "                print('invalid timing')\n",
    "            \n",
    "            elif timeElapsed > self.params['timing']:\n",
    "                \n",
    "                totalTimeElapsed = (now - self.startTime).total_seconds()/60\n",
    "                percentageDone = str(round(self.n / self.len * 100, 1))\n",
    "                \n",
    "                try:\n",
    "                    for chatId in self.params['chatIds']:\n",
    "                        self.params['bot'].sendMessage(chatId,str(percentageDone) + self.params['middle'])\n",
    "                except Exception as e:\n",
    "                    print(e)\n",
    "\n",
    "                timeToAdd = totalTimeElapsed - totalTimeElapsed % self.params['timing']\n",
    "                self.periodStartTime = self.startTime + td(minutes = timeToAdd)\n",
    "            \n",
    "            if type(self.iterable) == list:\n",
    "                current = self.iterable[self.n]\n",
    "            else:\n",
    "                current = self.n\n",
    "            \n",
    "            self.n += 1\n",
    "            return current\n",
    "        \n",
    "        else: \n",
    "            \n",
    "            if self.params['end'] != None:\n",
    "                print(self.params['end'])\n",
    "                for chatId in self.params['chatIds']:\n",
    "                    self.params['bot'].sendMessage(chatId,self.params['end'])\n",
    "                    \n",
    "            totalTimeElapsed = (dt.now() - self.startTime).total_seconds()/60\n",
    "            try: print('Duration: %f mins' % totalTimeElapsed)\n",
    "            except Exception as e: print(e)\n",
    "            try: print('Ended: %s' % dt.now().strftime(self.params['date']))\n",
    "            except: pass\n",
    "            raise StopIteration\n",
    "            "
   ]
  },
  {
   "cell_type": "code",
   "execution_count": 481,
   "metadata": {},
   "outputs": [],
   "source": [
    "id_='1383233269'\n",
    "params={'chatIds':242141394,'botId':id_+':AAFj7nsp4fAq9EYQ7cSLpHyTaulQrcK7IVY','timing':0.05,'middle':'%'}\n"
   ]
  },
  {
   "cell_type": "code",
   "execution_count": 483,
   "metadata": {},
   "outputs": [
    {
     "name": "stdout",
     "output_type": "stream",
     "text": [
      "Started: 20:49:22 11 Nov 20\n",
      "Total: 10000000\n",
      "Duration: 0.414780 mins\n",
      "Ended: 20:49:47 11 Nov 20\n"
     ]
    }
   ],
   "source": [
    "s = 0\n",
    "for i in Telegram(10000000,params = params):\n",
    "    s += i"
   ]
  },
  {
   "cell_type": "code",
   "execution_count": 548,
   "metadata": {},
   "outputs": [],
   "source": [
    "def getChatIds(botId,onlyId = False):\n",
    "    data = json.loads(requests.get(f'https://api.telegram.org/bot{botId}/getUpdates').text)\n",
    "    if onlyId:\n",
    "        return list(set(x['message']['chat']['id'] for x in data['result']))\n",
    "    else:\n",
    "        return list(set([(x['message']['chat']['username'], x['message']['chat']['id']) for x in data['result']]))\n"
   ]
  },
  {
   "cell_type": "code",
   "execution_count": 549,
   "metadata": {},
   "outputs": [
    {
     "data": {
      "text/plain": [
       "[242141394]"
      ]
     },
     "execution_count": 549,
     "metadata": {},
     "output_type": "execute_result"
    }
   ],
   "source": [
    "id_='1383233269'\n",
    "getChatIds(id_+':AAFj7nsp4fAq9EYQ7cSLpHyTaulQrcK7IVY',onlyId=True)"
   ]
  },
  {
   "cell_type": "code",
   "execution_count": 538,
   "metadata": {},
   "outputs": [
    {
     "data": {
      "text/plain": [
       "[(242141394, 'mynameizzhafeez')]"
      ]
     },
     "execution_count": 538,
     "metadata": {},
     "output_type": "execute_result"
    }
   ],
   "source": [
    "list(set([(x['message']['chat']['id'],x['message']['chat']['username']) for x in ss['result']]))\n"
   ]
  },
  {
   "cell_type": "code",
   "execution_count": null,
   "metadata": {},
   "outputs": [],
   "source": []
  }
 ],
 "metadata": {
  "kernelspec": {
   "display_name": "Python 3",
   "language": "python",
   "name": "python3"
  },
  "language_info": {
   "codemirror_mode": {
    "name": "ipython",
    "version": 3
   },
   "file_extension": ".py",
   "mimetype": "text/x-python",
   "name": "python",
   "nbconvert_exporter": "python",
   "pygments_lexer": "ipython3",
   "version": "3.7.2"
  }
 },
 "nbformat": 4,
 "nbformat_minor": 4
}
