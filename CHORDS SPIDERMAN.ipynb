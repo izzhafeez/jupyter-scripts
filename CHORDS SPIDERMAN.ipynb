{
 "cells": [
  {
   "cell_type": "code",
   "execution_count": 1,
   "metadata": {},
   "outputs": [],
   "source": [
    "from wilcoxon.spiderman import *\n",
    "import re\n",
    "import json\n",
    "import numpy as np\n",
    "import pychord\n",
    "import operator\n",
    "import copy\n",
    "import pandas as pd\n",
    "import collections\n",
    "from tqdm import tqdm\n",
    "import time"
   ]
  },
  {
   "cell_type": "code",
   "execution_count": 2,
   "metadata": {},
   "outputs": [],
   "source": [
    "scales = {\n",
    "    \"C\": {\"C\",\"D\",\"E\",\"F\",\"G\",\"A\",\"B\"},\n",
    "    \"C#\": {\"Db\",\"Eb\",\"F\",\"Gb\",\"Ab\",\"Bb\",\"C\",\"C#\",\"D#\",\"F#\",\"G#\",\"A#\"},\n",
    "    \"Db\": {\"Db\",\"Eb\",\"F\",\"Gb\",\"Ab\",\"Bb\",\"C\",\"C#\",\"D#\",\"F#\",\"G#\",\"A#\"},\n",
    "    \"D\": {\"D\",\"E\",\"F#\",\"G\",\"A\",\"B\",\"C#\",\"Gb\",\"Db\"},\n",
    "    \"D#\": {\"Eb\",\"F\",\"G\",\"Ab\",\"Bb\",\"C\",\"D\",\"D#\",\"G#\",\"A#\"},\n",
    "    \"Eb\": {\"Eb\",\"F\",\"G\",\"Ab\",\"Bb\",\"C\",\"D\",\"D#\",\"G#\",\"A#\"},\n",
    "    \"E\": {\"E\",\"F#\",\"G#\",\"A\",\"B\",\"C#\",\"D#\",\"Gb\",\"Ab\",\"Db\",\"Eb\"},\n",
    "    \"F\": {\"F\",\"G\",\"A\",\"Bb\",\"C\",\"D\",\"E\",\"A#\"},\n",
    "    \"F#\": {\"F#\",\"G#\",\"A#\",\"B\",\"C#\",\"D#\",\"E#\",\"Gb\",\"Ab\",\"Db\",\"Eb\",\"F\"},\n",
    "    \"Gb\": {\"F#\",\"G#\",\"A#\",\"B\",\"C#\",\"D#\",\"E#\",\"Gb\",\"Ab\",\"Db\",\"Eb\",\"F\"},\n",
    "    \"G\": {\"G\",\"A\",\"B\",\"C\",\"D\",\"E\",\"F#\",\"Gb\"},\n",
    "    \"G#\": {\"Ab\",\"Bb\",\"C\",\"Db\",\"Eb\",\"F\",\"G\",\"G#\",\"A#\",\"C#\",\"D#\"},\n",
    "    \"Ab\": {\"Ab\",\"Bb\",\"C\",\"Db\",\"Eb\",\"F\",\"G\",\"G#\",\"A#\",\"C#\",\"D#\"},\n",
    "    \"A\": {\"A\",\"B\",\"C#\",\"D\",\"E\",\"F#\",\"G#\",\"Db\",\"Gb\",\"Ab\"},\n",
    "    \"A#\": {\"Bb\",\"C\",\"D\",\"Eb\",\"F\",\"G\",\"A\",\"A#\",\"D#\"},\n",
    "    \"Bb\": {\"Bb\",\"C\",\"D\",\"Eb\",\"F\",\"G\",\"A\",\"A#\",\"D#\"},\n",
    "    \"B\": {\"B\",\"C#\",\"D#\",\"E\",\"F#\",\"G#\",\"A#\",\"Db\",\"Eb\",\"Gb\",\"Ab\",\"Bb\"}\n",
    "}\n",
    "\n",
    "def guessLen(seq):\n",
    "    max_len = int((len(seq) - (len(seq) % 2)) / 2) + 1\n",
    "    for x in range(2, max_len):\n",
    "        if seq[0:x] == seq[x:2*x]:\n",
    "            return x\n",
    "    return len(seq)\n",
    "\n",
    "def searchSong(song, artist):\n",
    "    \n",
    "    fullLinkResults = []\n",
    "    searchParam = \"+\".join(artist.split()) + \"+\" + \"+\".join(song.split())\n",
    "    page = 1\n",
    "    \n",
    "    while (True):\n",
    "        \n",
    "        site = website(f\"https://www.ultimate-guitar.com/search.php?title={searchParam}&page={page}&type=300\")\n",
    "        \n",
    "        try:\n",
    "            linkResults = json.loads(site.html(class_=\"js-store\")[0][\"data-content\"])[\"store\"][\"page\"][\"data\"][\"results\"]\n",
    "            linkResults = list(filter(lambda x: \"id\" in x, linkResults))\n",
    "        except: break\n",
    "            \n",
    "        page += 1\n",
    "        \n",
    "        fullLinkResults.extend(linkResults)\n",
    "    \n",
    "    endResults = []\n",
    "    \n",
    "    for index, link in enumerate(fullLinkResults):\n",
    "        \n",
    "        try:\n",
    "        \n",
    "            link = link[\"tab_url\"]\n",
    "\n",
    "            subsite = website(link)\n",
    "\n",
    "            tabJson = json.loads(subsite.html(class_=\"js-store\")[0][\"data-content\"])[\"store\"][\"page\"][\"data\"][\"tab_view\"][\"wiki_tab\"][\"content\"]\n",
    "            statsJson = json.loads(subsite.html(class_=\"js-store\")[0][\"data-content\"])[\"store\"][\"page\"][\"data\"][\"tab_view\"][\"stats\"]\n",
    "            htmlTitle = subsite.html.find(\"title\").string\n",
    "            songName = htmlTitle.split(\"CHORDS\")[0].strip().capitalize()\n",
    "            artistName = htmlTitle.split(\" by \", 1)[1].split(\"@\")[0].strip()\n",
    "\n",
    "            # Finds all section names and chords\n",
    "            allResults = re.findall(\"((?<=\\[ch\\]).*?(?=\\[/ch\\])|\\[[A-Z].+\\])\", tabJson)\n",
    "            # Finds all section names with enumeration\n",
    "            filteredResults = [(i, x.replace(\"[\", \"\").replace(\"]\", \"\")) for i, x in enumerate(allResults) if re.compile(\"\\[.*\\]\").search(x)]\n",
    "            # Section names only\n",
    "            sectionNames = [x[1] for x in filteredResults]\n",
    "\n",
    "            sections = {}\n",
    "            for sectionNumber in range(len(filteredResults)):\n",
    "                try:\n",
    "                    chordsInSection = allResults[filteredResults[sectionNumber][0] + 1 : filteredResults[sectionNumber + 1][0]]\n",
    "                    sectionName = filteredResults[sectionNumber][1]\n",
    "                    if sectionNames.count(sectionName) != 1:\n",
    "                        sectionName = sectionName + \" \" + str(sectionNames[:sectionNumber + 1].count(sectionName))\n",
    "                    if len(chordsInSection) % 7 == 0 and chordsInSection[0:3] == chordsInSection[4:7]:\n",
    "                        sections[sectionName] = chordsInSection[0:4]\n",
    "                    else:\n",
    "                        guessedLen = guessLen(chordsInSection)\n",
    "                        if guessedLen > 8 and guessLen(chordsInSection[:-1]) < 8:\n",
    "                            sections[sectionName] = chordsInSection[:guessLen(chordsInSection[:-1])]\n",
    "                        else:\n",
    "                            sections[sectionName] = chordsInSection[:guessedLen]\n",
    "\n",
    "                except Exception as e:\n",
    "                    chordsInSection = allResults[filteredResults[sectionNumber][0] + 1: ]\n",
    "                    sectionName = filteredResults[sectionNumber][1]\n",
    "                    if sectionNames.count(sectionName) != 1:\n",
    "                        sectionName = sectionName + \" \" + str(sectionNames[:sectionNumber + 1].count(sectionName))\n",
    "                    if len(chordsInSection) % 7 == 0 and chordsInSection[0:3] == chordsInSection[4:7]:\n",
    "                        sections[sectionName] = chordsInSection[0:4]\n",
    "                    else:\n",
    "                        guessedLen = guessLen(chordsInSection)\n",
    "                        if guessedLen > 8 and guessLen(chordsInSection[:-1]) < 8:\n",
    "                            sections[sectionName] = chordsInSection[:guessLen(chordsInSection[:-1])]\n",
    "                        else:\n",
    "                            sections[sectionName] = chordsInSection[:guessedLen]\n",
    "\n",
    "            # Average chord length of section\n",
    "            simplicity = np.mean(list(filter(lambda x: x > 0, [len(sections[section]) for section in sections])))\n",
    "\n",
    "            # Average word length of chords\n",
    "            allChordsInBrackets = [sections[section] for section in sections]\n",
    "            allChords = [item for sublist in allChordsInBrackets for item in sublist]\n",
    "            complexity = np.mean([len(chord\n",
    "                                      .replace(\"m\", \"\")\n",
    "                                      .replace(\"b\", \"\")\n",
    "                                      .replace(\"#\", \"\")) for chord in allChords])\n",
    "            \n",
    "            views = int(statsJson[\"view_total\"])\n",
    "            favorites = int(statsJson[\"favorites_count\"])\n",
    "            popularity = favorites / views\n",
    "\n",
    "            endResults.append({\"Song\": songName,\n",
    "                               \"Artist\": artistName,\n",
    "                               \"Tabs\": sections,\n",
    "                               \"Simplicity\": simplicity,\n",
    "                               \"Complexity\": complexity,\n",
    "                               \"Views\": views,\n",
    "                               \"Favorites\": favorites,\n",
    "                               \"Popularity\": popularity,\n",
    "                               \"Link\": link})\n",
    "        \n",
    "        except Exception as e: print(e)\n",
    "        \n",
    "    setOfWorks = list(filter(lambda x: not np.isnan(x[\"Simplicity\"]) and not \"Mashup\" in x[\"Artist\"] and all([len(x) <= 16 and \"ch\" not in \"\".join(x) for x in x[\"Tabs\"].values()]), endResults))\n",
    "    \n",
    "    return setOfWorks\n",
    "\n",
    "def cleanSong(setOfWorks):\n",
    "    \n",
    "    newSetOfWorks = copy.deepcopy(setOfWorks)\n",
    "\n",
    "    for index, work in enumerate(setOfWorks):\n",
    "\n",
    "        try:\n",
    "\n",
    "            progression = pychord.ChordProgression(\n",
    "                [item for sublist in list(work[\"Tabs\"].values()) for item in sublist])\n",
    "            noteSet = set([item for sublist in [x.components() for x in progression] for item in sublist])\n",
    "            notesUsed = collections.Counter([item for sublist in [x.components() for x in progression] for item in sublist])\n",
    "            \n",
    "            while len(noteSet) > 7:\n",
    "                noteSet = noteSet - {min(notesUsed.items(),key=operator.itemgetter(1))[0]}\n",
    "                \n",
    "            notesUsedSorted = list(dict(sorted(notesUsed.items(), key = operator.itemgetter(1), reverse = True)).keys())\n",
    "            # print(notesUsedSorted)\n",
    "            scaleDiff = {x: noteSet - scales[x] for x in scales.keys()}\n",
    "            # print(scaleDiff)\n",
    "            scaleMinNum = min([len(noteSet - scales[x]) for x in scales.keys()])\n",
    "            # print(scaleMinNum)\n",
    "            scaleWithMinNum = [x for x in scaleDiff.keys() if len(scaleDiff[x]) == scaleMinNum]\n",
    "            # print(scaleWithMinNum)\n",
    "            scaleMin = [tuple for x in notesUsedSorted for tuple in scaleWithMinNum if tuple[0] == x][0]\n",
    "            # print(scaleMin)\n",
    "            \n",
    "            toTranspose = pychord.analyzer.notes_to_positions([scaleMin], \"C\")[0]\n",
    "\n",
    "            newSetOfWorks[index].pop(\"Tabs\", None)\n",
    "\n",
    "            for section in work[\"Tabs\"]:\n",
    "\n",
    "                if section[0] == \"I\":\n",
    "                    cleanedSection = section[:5].capitalize()\n",
    "                else:\n",
    "                    cleanedSection = section[0] + re.findall(\"\\d*$\", section)[0]\n",
    "\n",
    "                sectionProgression = pychord.ChordProgression(work[\"Tabs\"][section])\n",
    "                sectionProgression.transpose(-toTranspose)\n",
    "                newSetOfWorks[index][cleanedSection] = {\"-\".join([str(chord) for chord in sectionProgression])}\n",
    "                try:\n",
    "                    newSetOfWorks[index][re.sub(\"\\d*\", \"\", cleanedSection)].append(\"-\".join([str(chord) for chord in sectionProgression]))\n",
    "                except:\n",
    "                    newSetOfWorks[index][re.sub(\"\\d*\", \"\", cleanedSection)] = {\"-\".join([str(chord) for chord in sectionProgression])}\n",
    "        except: continue\n",
    "    \n",
    "    return newSetOfWorks\n",
    "\n",
    "# def compileSong(newSetOfWorks):\n",
    "    \n",
    "    \n",
    "\n",
    "def findBPM(song, artist):\n",
    "    \n",
    "    searchParam = \"+\".join(artist.split()) + \"+\" + \"+\".join(song.split())\n",
    "    site = website(f\"https://tunebat.com/Search?q={searchParam}\")\n",
    "    \n",
    "    try: \n",
    "        bpm = int(site.html(class_ = \"search-attribute-value\")[2].string)\n",
    "        scale = site.html(class_ = \"search-attribute-value\")[0].string\n",
    "        return {\"BPM\": bpm, \"Scale\": scale}\n",
    "    except: return {\"BPM\": 0, \"Scale\": \"\"}"
   ]
  },
  {
   "cell_type": "code",
   "execution_count": 14,
   "metadata": {},
   "outputs": [
    {
     "data": {
      "text/plain": [
       "{'BPM': 0, 'Scale': ''}"
      ]
     },
     "execution_count": 14,
     "metadata": {},
     "output_type": "execute_result"
    }
   ],
   "source": [
    "findBPM(\"you belong with me\",\"taylor swift\")"
   ]
  },
  {
   "cell_type": "code",
   "execution_count": 12,
   "metadata": {},
   "outputs": [
    {
     "name": "stderr",
     "output_type": "stream",
     "text": [
      "/Users/izzhafeez/opt/anaconda3/envs/Python-R/lib/python3.8/site-packages/numpy/core/fromnumeric.py:3440: RuntimeWarning: Mean of empty slice.\n",
      "  return _methods._mean(a, axis=axis, dtype=dtype,\n",
      "/Users/izzhafeez/opt/anaconda3/envs/Python-R/lib/python3.8/site-packages/numpy/core/_methods.py:189: RuntimeWarning: invalid value encountered in double_scalars\n",
      "  ret = ret.dtype.type(ret / rcount)\n"
     ]
    }
   ],
   "source": [
    "setOfWorks = searchSong(\"Mine\",\"Taylor Swift\")"
   ]
  },
  {
   "cell_type": "code",
   "execution_count": 13,
   "metadata": {},
   "outputs": [
    {
     "data": {
      "text/plain": [
       "[{'Song': 'Mine',\n",
       "  'Artist': 'Taylor Swift',\n",
       "  'Tabs': {'Intro': ['Cadd9',\n",
       "    'G',\n",
       "    'Em7',\n",
       "    'D',\n",
       "    'Dsus4',\n",
       "    'D',\n",
       "    'Dsus2',\n",
       "    'Cadd9',\n",
       "    'G',\n",
       "    'Em7',\n",
       "    'D'],\n",
       "   'Verse 1': ['Cadd9', 'G', 'Em7', 'D'],\n",
       "   'Pre-Chorus 1': ['Cadd9', 'G', 'Em7', 'D'],\n",
       "   'Chorus 1': ['Cadd9', 'G', 'Em7', 'D'],\n",
       "   'Verse 2': ['Cadd9', 'G', 'Em7', 'D'],\n",
       "   'Pre-Chorus 2': ['Cadd9', 'G', 'Em7', 'D'],\n",
       "   'Chorus 2': ['Cadd9', 'G', 'Em7', 'D'],\n",
       "   'Bridge': ['Em7', 'Cadd9', 'G', 'D'],\n",
       "   'Chorus 3': ['Cadd9', 'G', 'Em7', 'D']},\n",
       "  'Simplicity': 4.777777777777778,\n",
       "  'Complexity': 2.3488372093023258,\n",
       "  'Views': 1030629,\n",
       "  'Favorites': 2769,\n",
       "  'Popularity': 0.002686708796278777,\n",
       "  'Link': 'https://tabs.ultimate-guitar.com/tab/taylor-swift/mine-chords-975150'},\n",
       " {'Song': 'Mine',\n",
       "  'Artist': 'Taylor Swift',\n",
       "  'Tabs': {'Intro': ['Cadd9', 'G', 'D', 'Em7'],\n",
       "   'Verse 1': ['Cadd9', 'G', 'D', 'Em7'],\n",
       "   'Pre-Chorus 1': ['Cadd9', 'G', 'D'],\n",
       "   'Chorus 1': ['Cadd9', 'G', 'D', 'Em7', 'D'],\n",
       "   'Verse 2': ['Cadd9', 'G', 'D', 'Em7'],\n",
       "   'Pre-Chorus 2': ['Cadd9', 'G', 'D'],\n",
       "   'Chorus 2': ['Cadd9', 'G', 'D', 'Em7', 'D'],\n",
       "   'Bridge': ['Em', 'Cadd9', 'D'],\n",
       "   'Outro': ['Cadd9', 'G', 'D', 'Em7']},\n",
       "  'Simplicity': 3.888888888888889,\n",
       "  'Complexity': 2.2,\n",
       "  'Views': 137396,\n",
       "  'Favorites': 1237,\n",
       "  'Popularity': 0.009003173309266645,\n",
       "  'Link': 'https://tabs.ultimate-guitar.com/tab/taylor-swift/mine-chords-975374'},\n",
       " {'Song': 'Mine',\n",
       "  'Artist': 'Taylor Swift',\n",
       "  'Tabs': {'Verse 1': ['D', 'A', 'Em', 'G'],\n",
       "   'Pre-Chorus 1': ['G', 'D', 'A', 'Em'],\n",
       "   'Chorus 1': ['D', 'A', 'Em', 'G'],\n",
       "   'Verse 2': ['D', 'A', 'Em', 'G'],\n",
       "   'Pre-Chorus 2': ['D', 'A', 'Em', 'G', 'D', 'A'],\n",
       "   'Chorus 2': ['D', 'A', 'Em', 'G'],\n",
       "   'Bridge': ['Em', 'G', 'D', 'A'],\n",
       "   'Outro': ['D', 'A', 'Em', 'G']},\n",
       "  'Simplicity': 4.25,\n",
       "  'Complexity': 1.0,\n",
       "  'Views': 232,\n",
       "  'Favorites': 49,\n",
       "  'Popularity': 0.21120689655172414,\n",
       "  'Link': 'https://tabs.ultimate-guitar.com/tab/taylor-swift/mine-chords-3312968'}]"
      ]
     },
     "execution_count": 13,
     "metadata": {},
     "output_type": "execute_result"
    }
   ],
   "source": [
    "setOfWorks"
   ]
  },
  {
   "cell_type": "code",
   "execution_count": 3,
   "metadata": {},
   "outputs": [],
   "source": [
    "def getBillboard(year):\n",
    "    \n",
    "    site = website(f\"https://www.billboard.com/charts/year-end/{year}/hot-100-songs\")\n",
    "    return pd.DataFrame(\n",
    "    [{\"Song\": list(x(class_ = \"ye-chart-item__title\")[0].stripped_strings)[0]\n",
    "     ,\"Artist\": re.sub(\"[fF]eat.*$\", \"\", list(x(class_ = \"ye-chart-item__artist\")[0].stripped_strings)[0])\n",
    "     ,\"Year\": year}\n",
    "     for x in site.html(class_ = \"ye-chart-item__text\")]\n",
    "    )"
   ]
  },
  {
   "cell_type": "code",
   "execution_count": 4,
   "metadata": {},
   "outputs": [],
   "source": [
    "billboard = pd.concat([getBillboard(x) for x in range(2006, 2021)])"
   ]
  },
  {
   "cell_type": "code",
   "execution_count": 139,
   "metadata": {},
   "outputs": [
    {
     "name": "stderr",
     "output_type": "stream",
     "text": [
      "  0%|          | 0/1192 [00:00<?, ?it/s]/Library/Frameworks/Python.framework/Versions/3.7/lib/python3.7/site-packages/numpy/core/fromnumeric.py:3420: RuntimeWarning: Mean of empty slice.\n",
      "  out=out, **kwargs)\n",
      "/Library/Frameworks/Python.framework/Versions/3.7/lib/python3.7/site-packages/numpy/core/_methods.py:188: RuntimeWarning: invalid value encountered in double_scalars\n",
      "  ret = ret.dtype.type(ret / rcount)\n",
      " 33%|███▎      | 392/1192 [1:33:32<2:39:30, 11.96s/it] "
     ]
    },
    {
     "name": "stdout",
     "output_type": "stream",
     "text": [
      "('Connection aborted.', ConnectionResetError(54, 'Connection reset by peer'))\n"
     ]
    },
    {
     "name": "stderr",
     "output_type": "stream",
     "text": [
      " 35%|███▍      | 415/1192 [1:44:29<2:00:58,  9.34s/it]  "
     ]
    },
    {
     "name": "stdout",
     "output_type": "stream",
     "text": [
      "list index out of range\n"
     ]
    },
    {
     "name": "stderr",
     "output_type": "stream",
     "text": [
      " 40%|███▉      | 473/1192 [3:15:20<4:56:55, 24.78s/it]  \n"
     ]
    },
    {
     "ename": "KeyboardInterrupt",
     "evalue": "",
     "output_type": "error",
     "traceback": [
      "\u001b[0;31m---------------------------------------------------------------------------\u001b[0m",
      "\u001b[0;31mTypeError\u001b[0m                                 Traceback (most recent call last)",
      "\u001b[0;32m/Library/Frameworks/Python.framework/Versions/3.7/lib/python3.7/site-packages/urllib3/connectionpool.py\u001b[0m in \u001b[0;36m_make_request\u001b[0;34m(self, conn, method, url, timeout, chunked, **httplib_request_kw)\u001b[0m\n\u001b[1;32m    376\u001b[0m             \u001b[0;32mtry\u001b[0m\u001b[0;34m:\u001b[0m  \u001b[0;31m# Python 2.7, use buffering of HTTP responses\u001b[0m\u001b[0;34m\u001b[0m\u001b[0;34m\u001b[0m\u001b[0m\n\u001b[0;32m--> 377\u001b[0;31m                 \u001b[0mhttplib_response\u001b[0m \u001b[0;34m=\u001b[0m \u001b[0mconn\u001b[0m\u001b[0;34m.\u001b[0m\u001b[0mgetresponse\u001b[0m\u001b[0;34m(\u001b[0m\u001b[0mbuffering\u001b[0m\u001b[0;34m=\u001b[0m\u001b[0;32mTrue\u001b[0m\u001b[0;34m)\u001b[0m\u001b[0;34m\u001b[0m\u001b[0;34m\u001b[0m\u001b[0m\n\u001b[0m\u001b[1;32m    378\u001b[0m             \u001b[0;32mexcept\u001b[0m \u001b[0mTypeError\u001b[0m\u001b[0;34m:\u001b[0m  \u001b[0;31m# Python 3\u001b[0m\u001b[0;34m\u001b[0m\u001b[0;34m\u001b[0m\u001b[0m\n",
      "\u001b[0;31mTypeError\u001b[0m: getresponse() got an unexpected keyword argument 'buffering'",
      "\nDuring handling of the above exception, another exception occurred:\n",
      "\u001b[0;31mKeyboardInterrupt\u001b[0m                         Traceback (most recent call last)",
      "\u001b[0;32m<ipython-input-139-b0b811231afb>\u001b[0m in \u001b[0;36m<module>\u001b[0;34m\u001b[0m\n\u001b[1;32m      1\u001b[0m \u001b[0msongs\u001b[0m \u001b[0;34m=\u001b[0m \u001b[0;34m[\u001b[0m\u001b[0;34m]\u001b[0m\u001b[0;34m\u001b[0m\u001b[0;34m\u001b[0m\u001b[0m\n\u001b[1;32m      2\u001b[0m \u001b[0;32mfor\u001b[0m \u001b[0mrow\u001b[0m \u001b[0;32min\u001b[0m \u001b[0mtqdm\u001b[0m\u001b[0;34m(\u001b[0m\u001b[0mbillboard\u001b[0m\u001b[0;34m.\u001b[0m\u001b[0mto_dict\u001b[0m\u001b[0;34m(\u001b[0m\u001b[0;34m\"records\"\u001b[0m\u001b[0;34m)\u001b[0m\u001b[0;34m[\u001b[0m\u001b[0;36m306\u001b[0m\u001b[0;34m:\u001b[0m\u001b[0;34m]\u001b[0m\u001b[0;34m)\u001b[0m\u001b[0;34m:\u001b[0m\u001b[0;34m\u001b[0m\u001b[0;34m\u001b[0m\u001b[0m\n\u001b[0;32m----> 3\u001b[0;31m     \u001b[0msongs\u001b[0m\u001b[0;34m.\u001b[0m\u001b[0mappend\u001b[0m\u001b[0;34m(\u001b[0m\u001b[0mcleanSong\u001b[0m\u001b[0;34m(\u001b[0m\u001b[0msearchSong\u001b[0m\u001b[0;34m(\u001b[0m\u001b[0mrow\u001b[0m\u001b[0;34m[\u001b[0m\u001b[0;34m\"Song\"\u001b[0m\u001b[0;34m]\u001b[0m\u001b[0;34m,\u001b[0m \u001b[0mrow\u001b[0m\u001b[0;34m[\u001b[0m\u001b[0;34m\"Artist\"\u001b[0m\u001b[0;34m]\u001b[0m\u001b[0;34m)\u001b[0m\u001b[0;34m)\u001b[0m\u001b[0;34m)\u001b[0m\u001b[0;34m\u001b[0m\u001b[0;34m\u001b[0m\u001b[0m\n\u001b[0m",
      "\u001b[0;32m<ipython-input-117-ffaf3ee40b78>\u001b[0m in \u001b[0;36msearchSong\u001b[0;34m(song, artist)\u001b[0m\n\u001b[1;32m     34\u001b[0m     \u001b[0;32mwhile\u001b[0m \u001b[0;34m(\u001b[0m\u001b[0;32mTrue\u001b[0m\u001b[0;34m)\u001b[0m\u001b[0;34m:\u001b[0m\u001b[0;34m\u001b[0m\u001b[0;34m\u001b[0m\u001b[0m\n\u001b[1;32m     35\u001b[0m \u001b[0;34m\u001b[0m\u001b[0m\n\u001b[0;32m---> 36\u001b[0;31m         \u001b[0msite\u001b[0m \u001b[0;34m=\u001b[0m \u001b[0mwebsite\u001b[0m\u001b[0;34m(\u001b[0m\u001b[0;34mf\"https://www.ultimate-guitar.com/search.php?title={searchParam}&page={page}&type=300\"\u001b[0m\u001b[0;34m)\u001b[0m\u001b[0;34m\u001b[0m\u001b[0;34m\u001b[0m\u001b[0m\n\u001b[0m\u001b[1;32m     37\u001b[0m \u001b[0;34m\u001b[0m\u001b[0m\n\u001b[1;32m     38\u001b[0m         \u001b[0;32mtry\u001b[0m\u001b[0;34m:\u001b[0m\u001b[0;34m\u001b[0m\u001b[0;34m\u001b[0m\u001b[0m\n",
      "\u001b[0;32m/Library/Frameworks/Python.framework/Versions/3.7/lib/python3.7/site-packages/wilcoxon/spiderman.py\u001b[0m in \u001b[0;36m__init__\u001b[0;34m(self, url)\u001b[0m\n\u001b[1;32m     13\u001b[0m         \u001b[0mself\u001b[0m\u001b[0;34m.\u001b[0m\u001b[0murl\u001b[0m \u001b[0;34m=\u001b[0m \u001b[0murl\u001b[0m\u001b[0;34m\u001b[0m\u001b[0;34m\u001b[0m\u001b[0m\n\u001b[1;32m     14\u001b[0m         \u001b[0mself\u001b[0m\u001b[0;34m.\u001b[0m\u001b[0mdomain\u001b[0m \u001b[0;34m=\u001b[0m \u001b[0mget_tld\u001b[0m\u001b[0;34m(\u001b[0m\u001b[0murl\u001b[0m\u001b[0;34m,\u001b[0m\u001b[0mas_object\u001b[0m \u001b[0;34m=\u001b[0m \u001b[0;32mTrue\u001b[0m\u001b[0;34m)\u001b[0m\u001b[0;34m.\u001b[0m\u001b[0mfld\u001b[0m\u001b[0;34m\u001b[0m\u001b[0;34m\u001b[0m\u001b[0m\n\u001b[0;32m---> 15\u001b[0;31m         \u001b[0mself\u001b[0m\u001b[0;34m.\u001b[0m\u001b[0mhtml\u001b[0m \u001b[0;34m=\u001b[0m \u001b[0mbs\u001b[0m\u001b[0;34m(\u001b[0m\u001b[0mrequests\u001b[0m\u001b[0;34m.\u001b[0m\u001b[0mget\u001b[0m\u001b[0;34m(\u001b[0m\u001b[0murl\u001b[0m\u001b[0;34m)\u001b[0m\u001b[0;34m.\u001b[0m\u001b[0mtext\u001b[0m\u001b[0;34m,\u001b[0m\u001b[0;34m'html.parser'\u001b[0m\u001b[0;34m)\u001b[0m\u001b[0;34m\u001b[0m\u001b[0;34m\u001b[0m\u001b[0m\n\u001b[0m\u001b[1;32m     16\u001b[0m         \u001b[0mself\u001b[0m\u001b[0;34m.\u001b[0m\u001b[0mhrefs\u001b[0m \u001b[0;34m=\u001b[0m \u001b[0;34m[\u001b[0m\u001b[0ma\u001b[0m\u001b[0;34m[\u001b[0m\u001b[0;34m'href'\u001b[0m\u001b[0;34m]\u001b[0m \u001b[0;32mfor\u001b[0m \u001b[0ma\u001b[0m \u001b[0;32min\u001b[0m \u001b[0mself\u001b[0m\u001b[0;34m.\u001b[0m\u001b[0mhtml\u001b[0m\u001b[0;34m(\u001b[0m\u001b[0mhref\u001b[0m\u001b[0;34m=\u001b[0m\u001b[0;32mTrue\u001b[0m\u001b[0;34m)\u001b[0m\u001b[0;34m]\u001b[0m\u001b[0;34m\u001b[0m\u001b[0;34m\u001b[0m\u001b[0m\n\u001b[1;32m     17\u001b[0m \u001b[0;34m\u001b[0m\u001b[0m\n",
      "\u001b[0;32m/Library/Frameworks/Python.framework/Versions/3.7/lib/python3.7/site-packages/requests/api.py\u001b[0m in \u001b[0;36mget\u001b[0;34m(url, params, **kwargs)\u001b[0m\n\u001b[1;32m     74\u001b[0m \u001b[0;34m\u001b[0m\u001b[0m\n\u001b[1;32m     75\u001b[0m     \u001b[0mkwargs\u001b[0m\u001b[0;34m.\u001b[0m\u001b[0msetdefault\u001b[0m\u001b[0;34m(\u001b[0m\u001b[0;34m'allow_redirects'\u001b[0m\u001b[0;34m,\u001b[0m \u001b[0;32mTrue\u001b[0m\u001b[0;34m)\u001b[0m\u001b[0;34m\u001b[0m\u001b[0;34m\u001b[0m\u001b[0m\n\u001b[0;32m---> 76\u001b[0;31m     \u001b[0;32mreturn\u001b[0m \u001b[0mrequest\u001b[0m\u001b[0;34m(\u001b[0m\u001b[0;34m'get'\u001b[0m\u001b[0;34m,\u001b[0m \u001b[0murl\u001b[0m\u001b[0;34m,\u001b[0m \u001b[0mparams\u001b[0m\u001b[0;34m=\u001b[0m\u001b[0mparams\u001b[0m\u001b[0;34m,\u001b[0m \u001b[0;34m**\u001b[0m\u001b[0mkwargs\u001b[0m\u001b[0;34m)\u001b[0m\u001b[0;34m\u001b[0m\u001b[0;34m\u001b[0m\u001b[0m\n\u001b[0m\u001b[1;32m     77\u001b[0m \u001b[0;34m\u001b[0m\u001b[0m\n\u001b[1;32m     78\u001b[0m \u001b[0;34m\u001b[0m\u001b[0m\n",
      "\u001b[0;32m/Library/Frameworks/Python.framework/Versions/3.7/lib/python3.7/site-packages/requests/api.py\u001b[0m in \u001b[0;36mrequest\u001b[0;34m(method, url, **kwargs)\u001b[0m\n\u001b[1;32m     59\u001b[0m     \u001b[0;31m# cases, and look like a memory leak in others.\u001b[0m\u001b[0;34m\u001b[0m\u001b[0;34m\u001b[0m\u001b[0;34m\u001b[0m\u001b[0m\n\u001b[1;32m     60\u001b[0m     \u001b[0;32mwith\u001b[0m \u001b[0msessions\u001b[0m\u001b[0;34m.\u001b[0m\u001b[0mSession\u001b[0m\u001b[0;34m(\u001b[0m\u001b[0;34m)\u001b[0m \u001b[0;32mas\u001b[0m \u001b[0msession\u001b[0m\u001b[0;34m:\u001b[0m\u001b[0;34m\u001b[0m\u001b[0;34m\u001b[0m\u001b[0m\n\u001b[0;32m---> 61\u001b[0;31m         \u001b[0;32mreturn\u001b[0m \u001b[0msession\u001b[0m\u001b[0;34m.\u001b[0m\u001b[0mrequest\u001b[0m\u001b[0;34m(\u001b[0m\u001b[0mmethod\u001b[0m\u001b[0;34m=\u001b[0m\u001b[0mmethod\u001b[0m\u001b[0;34m,\u001b[0m \u001b[0murl\u001b[0m\u001b[0;34m=\u001b[0m\u001b[0murl\u001b[0m\u001b[0;34m,\u001b[0m \u001b[0;34m**\u001b[0m\u001b[0mkwargs\u001b[0m\u001b[0;34m)\u001b[0m\u001b[0;34m\u001b[0m\u001b[0;34m\u001b[0m\u001b[0m\n\u001b[0m\u001b[1;32m     62\u001b[0m \u001b[0;34m\u001b[0m\u001b[0m\n\u001b[1;32m     63\u001b[0m \u001b[0;34m\u001b[0m\u001b[0m\n",
      "\u001b[0;32m/Library/Frameworks/Python.framework/Versions/3.7/lib/python3.7/site-packages/requests/sessions.py\u001b[0m in \u001b[0;36mrequest\u001b[0;34m(self, method, url, params, data, headers, cookies, files, auth, timeout, allow_redirects, proxies, hooks, stream, verify, cert, json)\u001b[0m\n\u001b[1;32m    528\u001b[0m         }\n\u001b[1;32m    529\u001b[0m         \u001b[0msend_kwargs\u001b[0m\u001b[0;34m.\u001b[0m\u001b[0mupdate\u001b[0m\u001b[0;34m(\u001b[0m\u001b[0msettings\u001b[0m\u001b[0;34m)\u001b[0m\u001b[0;34m\u001b[0m\u001b[0;34m\u001b[0m\u001b[0m\n\u001b[0;32m--> 530\u001b[0;31m         \u001b[0mresp\u001b[0m \u001b[0;34m=\u001b[0m \u001b[0mself\u001b[0m\u001b[0;34m.\u001b[0m\u001b[0msend\u001b[0m\u001b[0;34m(\u001b[0m\u001b[0mprep\u001b[0m\u001b[0;34m,\u001b[0m \u001b[0;34m**\u001b[0m\u001b[0msend_kwargs\u001b[0m\u001b[0;34m)\u001b[0m\u001b[0;34m\u001b[0m\u001b[0;34m\u001b[0m\u001b[0m\n\u001b[0m\u001b[1;32m    531\u001b[0m \u001b[0;34m\u001b[0m\u001b[0m\n\u001b[1;32m    532\u001b[0m         \u001b[0;32mreturn\u001b[0m \u001b[0mresp\u001b[0m\u001b[0;34m\u001b[0m\u001b[0;34m\u001b[0m\u001b[0m\n",
      "\u001b[0;32m/Library/Frameworks/Python.framework/Versions/3.7/lib/python3.7/site-packages/requests/sessions.py\u001b[0m in \u001b[0;36msend\u001b[0;34m(self, request, **kwargs)\u001b[0m\n\u001b[1;32m    641\u001b[0m \u001b[0;34m\u001b[0m\u001b[0m\n\u001b[1;32m    642\u001b[0m         \u001b[0;31m# Send the request\u001b[0m\u001b[0;34m\u001b[0m\u001b[0;34m\u001b[0m\u001b[0;34m\u001b[0m\u001b[0m\n\u001b[0;32m--> 643\u001b[0;31m         \u001b[0mr\u001b[0m \u001b[0;34m=\u001b[0m \u001b[0madapter\u001b[0m\u001b[0;34m.\u001b[0m\u001b[0msend\u001b[0m\u001b[0;34m(\u001b[0m\u001b[0mrequest\u001b[0m\u001b[0;34m,\u001b[0m \u001b[0;34m**\u001b[0m\u001b[0mkwargs\u001b[0m\u001b[0;34m)\u001b[0m\u001b[0;34m\u001b[0m\u001b[0;34m\u001b[0m\u001b[0m\n\u001b[0m\u001b[1;32m    644\u001b[0m \u001b[0;34m\u001b[0m\u001b[0m\n\u001b[1;32m    645\u001b[0m         \u001b[0;31m# Total elapsed time of the request (approximately)\u001b[0m\u001b[0;34m\u001b[0m\u001b[0;34m\u001b[0m\u001b[0;34m\u001b[0m\u001b[0m\n",
      "\u001b[0;32m/Library/Frameworks/Python.framework/Versions/3.7/lib/python3.7/site-packages/requests/adapters.py\u001b[0m in \u001b[0;36msend\u001b[0;34m(self, request, stream, timeout, verify, cert, proxies)\u001b[0m\n\u001b[1;32m    447\u001b[0m                     \u001b[0mdecode_content\u001b[0m\u001b[0;34m=\u001b[0m\u001b[0;32mFalse\u001b[0m\u001b[0;34m,\u001b[0m\u001b[0;34m\u001b[0m\u001b[0;34m\u001b[0m\u001b[0m\n\u001b[1;32m    448\u001b[0m                     \u001b[0mretries\u001b[0m\u001b[0;34m=\u001b[0m\u001b[0mself\u001b[0m\u001b[0;34m.\u001b[0m\u001b[0mmax_retries\u001b[0m\u001b[0;34m,\u001b[0m\u001b[0;34m\u001b[0m\u001b[0;34m\u001b[0m\u001b[0m\n\u001b[0;32m--> 449\u001b[0;31m                     \u001b[0mtimeout\u001b[0m\u001b[0;34m=\u001b[0m\u001b[0mtimeout\u001b[0m\u001b[0;34m\u001b[0m\u001b[0;34m\u001b[0m\u001b[0m\n\u001b[0m\u001b[1;32m    450\u001b[0m                 )\n\u001b[1;32m    451\u001b[0m \u001b[0;34m\u001b[0m\u001b[0m\n",
      "\u001b[0;32m/Library/Frameworks/Python.framework/Versions/3.7/lib/python3.7/site-packages/urllib3/connectionpool.py\u001b[0m in \u001b[0;36murlopen\u001b[0;34m(self, method, url, body, headers, retries, redirect, assert_same_host, timeout, pool_timeout, release_conn, chunked, body_pos, **response_kw)\u001b[0m\n\u001b[1;32m    598\u001b[0m                                                   \u001b[0mtimeout\u001b[0m\u001b[0;34m=\u001b[0m\u001b[0mtimeout_obj\u001b[0m\u001b[0;34m,\u001b[0m\u001b[0;34m\u001b[0m\u001b[0;34m\u001b[0m\u001b[0m\n\u001b[1;32m    599\u001b[0m                                                   \u001b[0mbody\u001b[0m\u001b[0;34m=\u001b[0m\u001b[0mbody\u001b[0m\u001b[0;34m,\u001b[0m \u001b[0mheaders\u001b[0m\u001b[0;34m=\u001b[0m\u001b[0mheaders\u001b[0m\u001b[0;34m,\u001b[0m\u001b[0;34m\u001b[0m\u001b[0;34m\u001b[0m\u001b[0m\n\u001b[0;32m--> 600\u001b[0;31m                                                   chunked=chunked)\n\u001b[0m\u001b[1;32m    601\u001b[0m \u001b[0;34m\u001b[0m\u001b[0m\n\u001b[1;32m    602\u001b[0m             \u001b[0;31m# If we're going to release the connection in ``finally:``, then\u001b[0m\u001b[0;34m\u001b[0m\u001b[0;34m\u001b[0m\u001b[0;34m\u001b[0m\u001b[0m\n",
      "\u001b[0;32m/Library/Frameworks/Python.framework/Versions/3.7/lib/python3.7/site-packages/urllib3/connectionpool.py\u001b[0m in \u001b[0;36m_make_request\u001b[0;34m(self, conn, method, url, timeout, chunked, **httplib_request_kw)\u001b[0m\n\u001b[1;32m    378\u001b[0m             \u001b[0;32mexcept\u001b[0m \u001b[0mTypeError\u001b[0m\u001b[0;34m:\u001b[0m  \u001b[0;31m# Python 3\u001b[0m\u001b[0;34m\u001b[0m\u001b[0;34m\u001b[0m\u001b[0m\n\u001b[1;32m    379\u001b[0m                 \u001b[0;32mtry\u001b[0m\u001b[0;34m:\u001b[0m\u001b[0;34m\u001b[0m\u001b[0;34m\u001b[0m\u001b[0m\n\u001b[0;32m--> 380\u001b[0;31m                     \u001b[0mhttplib_response\u001b[0m \u001b[0;34m=\u001b[0m \u001b[0mconn\u001b[0m\u001b[0;34m.\u001b[0m\u001b[0mgetresponse\u001b[0m\u001b[0;34m(\u001b[0m\u001b[0;34m)\u001b[0m\u001b[0;34m\u001b[0m\u001b[0;34m\u001b[0m\u001b[0m\n\u001b[0m\u001b[1;32m    381\u001b[0m                 \u001b[0;32mexcept\u001b[0m \u001b[0mException\u001b[0m \u001b[0;32mas\u001b[0m \u001b[0me\u001b[0m\u001b[0;34m:\u001b[0m\u001b[0;34m\u001b[0m\u001b[0;34m\u001b[0m\u001b[0m\n\u001b[1;32m    382\u001b[0m                     \u001b[0;31m# Remove the TypeError from the exception chain in Python 3;\u001b[0m\u001b[0;34m\u001b[0m\u001b[0;34m\u001b[0m\u001b[0;34m\u001b[0m\u001b[0m\n",
      "\u001b[0;32m/Library/Frameworks/Python.framework/Versions/3.7/lib/python3.7/http/client.py\u001b[0m in \u001b[0;36mgetresponse\u001b[0;34m(self)\u001b[0m\n\u001b[1;32m   1319\u001b[0m         \u001b[0;32mtry\u001b[0m\u001b[0;34m:\u001b[0m\u001b[0;34m\u001b[0m\u001b[0;34m\u001b[0m\u001b[0m\n\u001b[1;32m   1320\u001b[0m             \u001b[0;32mtry\u001b[0m\u001b[0;34m:\u001b[0m\u001b[0;34m\u001b[0m\u001b[0;34m\u001b[0m\u001b[0m\n\u001b[0;32m-> 1321\u001b[0;31m                 \u001b[0mresponse\u001b[0m\u001b[0;34m.\u001b[0m\u001b[0mbegin\u001b[0m\u001b[0;34m(\u001b[0m\u001b[0;34m)\u001b[0m\u001b[0;34m\u001b[0m\u001b[0;34m\u001b[0m\u001b[0m\n\u001b[0m\u001b[1;32m   1322\u001b[0m             \u001b[0;32mexcept\u001b[0m \u001b[0mConnectionError\u001b[0m\u001b[0;34m:\u001b[0m\u001b[0;34m\u001b[0m\u001b[0;34m\u001b[0m\u001b[0m\n\u001b[1;32m   1323\u001b[0m                 \u001b[0mself\u001b[0m\u001b[0;34m.\u001b[0m\u001b[0mclose\u001b[0m\u001b[0;34m(\u001b[0m\u001b[0;34m)\u001b[0m\u001b[0;34m\u001b[0m\u001b[0;34m\u001b[0m\u001b[0m\n",
      "\u001b[0;32m/Library/Frameworks/Python.framework/Versions/3.7/lib/python3.7/http/client.py\u001b[0m in \u001b[0;36mbegin\u001b[0;34m(self)\u001b[0m\n\u001b[1;32m    294\u001b[0m         \u001b[0;31m# read until we get a non-100 response\u001b[0m\u001b[0;34m\u001b[0m\u001b[0;34m\u001b[0m\u001b[0;34m\u001b[0m\u001b[0m\n\u001b[1;32m    295\u001b[0m         \u001b[0;32mwhile\u001b[0m \u001b[0;32mTrue\u001b[0m\u001b[0;34m:\u001b[0m\u001b[0;34m\u001b[0m\u001b[0;34m\u001b[0m\u001b[0m\n\u001b[0;32m--> 296\u001b[0;31m             \u001b[0mversion\u001b[0m\u001b[0;34m,\u001b[0m \u001b[0mstatus\u001b[0m\u001b[0;34m,\u001b[0m \u001b[0mreason\u001b[0m \u001b[0;34m=\u001b[0m \u001b[0mself\u001b[0m\u001b[0;34m.\u001b[0m\u001b[0m_read_status\u001b[0m\u001b[0;34m(\u001b[0m\u001b[0;34m)\u001b[0m\u001b[0;34m\u001b[0m\u001b[0;34m\u001b[0m\u001b[0m\n\u001b[0m\u001b[1;32m    297\u001b[0m             \u001b[0;32mif\u001b[0m \u001b[0mstatus\u001b[0m \u001b[0;34m!=\u001b[0m \u001b[0mCONTINUE\u001b[0m\u001b[0;34m:\u001b[0m\u001b[0;34m\u001b[0m\u001b[0;34m\u001b[0m\u001b[0m\n\u001b[1;32m    298\u001b[0m                 \u001b[0;32mbreak\u001b[0m\u001b[0;34m\u001b[0m\u001b[0;34m\u001b[0m\u001b[0m\n",
      "\u001b[0;32m/Library/Frameworks/Python.framework/Versions/3.7/lib/python3.7/http/client.py\u001b[0m in \u001b[0;36m_read_status\u001b[0;34m(self)\u001b[0m\n\u001b[1;32m    255\u001b[0m \u001b[0;34m\u001b[0m\u001b[0m\n\u001b[1;32m    256\u001b[0m     \u001b[0;32mdef\u001b[0m \u001b[0m_read_status\u001b[0m\u001b[0;34m(\u001b[0m\u001b[0mself\u001b[0m\u001b[0;34m)\u001b[0m\u001b[0;34m:\u001b[0m\u001b[0;34m\u001b[0m\u001b[0;34m\u001b[0m\u001b[0m\n\u001b[0;32m--> 257\u001b[0;31m         \u001b[0mline\u001b[0m \u001b[0;34m=\u001b[0m \u001b[0mstr\u001b[0m\u001b[0;34m(\u001b[0m\u001b[0mself\u001b[0m\u001b[0;34m.\u001b[0m\u001b[0mfp\u001b[0m\u001b[0;34m.\u001b[0m\u001b[0mreadline\u001b[0m\u001b[0;34m(\u001b[0m\u001b[0m_MAXLINE\u001b[0m \u001b[0;34m+\u001b[0m \u001b[0;36m1\u001b[0m\u001b[0;34m)\u001b[0m\u001b[0;34m,\u001b[0m \u001b[0;34m\"iso-8859-1\"\u001b[0m\u001b[0;34m)\u001b[0m\u001b[0;34m\u001b[0m\u001b[0;34m\u001b[0m\u001b[0m\n\u001b[0m\u001b[1;32m    258\u001b[0m         \u001b[0;32mif\u001b[0m \u001b[0mlen\u001b[0m\u001b[0;34m(\u001b[0m\u001b[0mline\u001b[0m\u001b[0;34m)\u001b[0m \u001b[0;34m>\u001b[0m \u001b[0m_MAXLINE\u001b[0m\u001b[0;34m:\u001b[0m\u001b[0;34m\u001b[0m\u001b[0;34m\u001b[0m\u001b[0m\n\u001b[1;32m    259\u001b[0m             \u001b[0;32mraise\u001b[0m \u001b[0mLineTooLong\u001b[0m\u001b[0;34m(\u001b[0m\u001b[0;34m\"status line\"\u001b[0m\u001b[0;34m)\u001b[0m\u001b[0;34m\u001b[0m\u001b[0;34m\u001b[0m\u001b[0m\n",
      "\u001b[0;32m/Library/Frameworks/Python.framework/Versions/3.7/lib/python3.7/socket.py\u001b[0m in \u001b[0;36mreadinto\u001b[0;34m(self, b)\u001b[0m\n\u001b[1;32m    587\u001b[0m         \u001b[0;32mwhile\u001b[0m \u001b[0;32mTrue\u001b[0m\u001b[0;34m:\u001b[0m\u001b[0;34m\u001b[0m\u001b[0;34m\u001b[0m\u001b[0m\n\u001b[1;32m    588\u001b[0m             \u001b[0;32mtry\u001b[0m\u001b[0;34m:\u001b[0m\u001b[0;34m\u001b[0m\u001b[0;34m\u001b[0m\u001b[0m\n\u001b[0;32m--> 589\u001b[0;31m                 \u001b[0;32mreturn\u001b[0m \u001b[0mself\u001b[0m\u001b[0;34m.\u001b[0m\u001b[0m_sock\u001b[0m\u001b[0;34m.\u001b[0m\u001b[0mrecv_into\u001b[0m\u001b[0;34m(\u001b[0m\u001b[0mb\u001b[0m\u001b[0;34m)\u001b[0m\u001b[0;34m\u001b[0m\u001b[0;34m\u001b[0m\u001b[0m\n\u001b[0m\u001b[1;32m    590\u001b[0m             \u001b[0;32mexcept\u001b[0m \u001b[0mtimeout\u001b[0m\u001b[0;34m:\u001b[0m\u001b[0;34m\u001b[0m\u001b[0;34m\u001b[0m\u001b[0m\n\u001b[1;32m    591\u001b[0m                 \u001b[0mself\u001b[0m\u001b[0;34m.\u001b[0m\u001b[0m_timeout_occurred\u001b[0m \u001b[0;34m=\u001b[0m \u001b[0;32mTrue\u001b[0m\u001b[0;34m\u001b[0m\u001b[0;34m\u001b[0m\u001b[0m\n",
      "\u001b[0;32m/Library/Frameworks/Python.framework/Versions/3.7/lib/python3.7/ssl.py\u001b[0m in \u001b[0;36mrecv_into\u001b[0;34m(self, buffer, nbytes, flags)\u001b[0m\n\u001b[1;32m   1050\u001b[0m                   \u001b[0;34m\"non-zero flags not allowed in calls to recv_into() on %s\"\u001b[0m \u001b[0;34m%\u001b[0m\u001b[0;34m\u001b[0m\u001b[0;34m\u001b[0m\u001b[0m\n\u001b[1;32m   1051\u001b[0m                   self.__class__)\n\u001b[0;32m-> 1052\u001b[0;31m             \u001b[0;32mreturn\u001b[0m \u001b[0mself\u001b[0m\u001b[0;34m.\u001b[0m\u001b[0mread\u001b[0m\u001b[0;34m(\u001b[0m\u001b[0mnbytes\u001b[0m\u001b[0;34m,\u001b[0m \u001b[0mbuffer\u001b[0m\u001b[0;34m)\u001b[0m\u001b[0;34m\u001b[0m\u001b[0;34m\u001b[0m\u001b[0m\n\u001b[0m\u001b[1;32m   1053\u001b[0m         \u001b[0;32melse\u001b[0m\u001b[0;34m:\u001b[0m\u001b[0;34m\u001b[0m\u001b[0;34m\u001b[0m\u001b[0m\n\u001b[1;32m   1054\u001b[0m             \u001b[0;32mreturn\u001b[0m \u001b[0msuper\u001b[0m\u001b[0;34m(\u001b[0m\u001b[0;34m)\u001b[0m\u001b[0;34m.\u001b[0m\u001b[0mrecv_into\u001b[0m\u001b[0;34m(\u001b[0m\u001b[0mbuffer\u001b[0m\u001b[0;34m,\u001b[0m \u001b[0mnbytes\u001b[0m\u001b[0;34m,\u001b[0m \u001b[0mflags\u001b[0m\u001b[0;34m)\u001b[0m\u001b[0;34m\u001b[0m\u001b[0;34m\u001b[0m\u001b[0m\n",
      "\u001b[0;32m/Library/Frameworks/Python.framework/Versions/3.7/lib/python3.7/ssl.py\u001b[0m in \u001b[0;36mread\u001b[0;34m(self, len, buffer)\u001b[0m\n\u001b[1;32m    909\u001b[0m         \u001b[0;32mtry\u001b[0m\u001b[0;34m:\u001b[0m\u001b[0;34m\u001b[0m\u001b[0;34m\u001b[0m\u001b[0m\n\u001b[1;32m    910\u001b[0m             \u001b[0;32mif\u001b[0m \u001b[0mbuffer\u001b[0m \u001b[0;32mis\u001b[0m \u001b[0;32mnot\u001b[0m \u001b[0;32mNone\u001b[0m\u001b[0;34m:\u001b[0m\u001b[0;34m\u001b[0m\u001b[0;34m\u001b[0m\u001b[0m\n\u001b[0;32m--> 911\u001b[0;31m                 \u001b[0;32mreturn\u001b[0m \u001b[0mself\u001b[0m\u001b[0;34m.\u001b[0m\u001b[0m_sslobj\u001b[0m\u001b[0;34m.\u001b[0m\u001b[0mread\u001b[0m\u001b[0;34m(\u001b[0m\u001b[0mlen\u001b[0m\u001b[0;34m,\u001b[0m \u001b[0mbuffer\u001b[0m\u001b[0;34m)\u001b[0m\u001b[0;34m\u001b[0m\u001b[0;34m\u001b[0m\u001b[0m\n\u001b[0m\u001b[1;32m    912\u001b[0m             \u001b[0;32melse\u001b[0m\u001b[0;34m:\u001b[0m\u001b[0;34m\u001b[0m\u001b[0;34m\u001b[0m\u001b[0m\n\u001b[1;32m    913\u001b[0m                 \u001b[0;32mreturn\u001b[0m \u001b[0mself\u001b[0m\u001b[0;34m.\u001b[0m\u001b[0m_sslobj\u001b[0m\u001b[0;34m.\u001b[0m\u001b[0mread\u001b[0m\u001b[0;34m(\u001b[0m\u001b[0mlen\u001b[0m\u001b[0;34m)\u001b[0m\u001b[0;34m\u001b[0m\u001b[0;34m\u001b[0m\u001b[0m\n",
      "\u001b[0;31mKeyboardInterrupt\u001b[0m: "
     ]
    }
   ],
   "source": [
    "songs = []\n",
    "for row in tqdm(billboard.to_dict(\"records\")[306:]):\n",
    "    songs.append(cleanSong(searchSong(row[\"Song\"], row[\"Artist\"])))"
   ]
  },
  {
   "cell_type": "code",
   "execution_count": 140,
   "metadata": {},
   "outputs": [],
   "source": [
    "pd.DataFrame([item for sublist in songs for item in sublist]).to_clipboard()"
   ]
  },
  {
   "cell_type": "code",
   "execution_count": 35,
   "metadata": {},
   "outputs": [
    {
     "data": {
      "text/plain": [
       "dict_items([('C', {'C', 'B', 'G', 'E', 'D', 'A', 'F'}), ('C#', {'Db', 'C', 'C#', 'Ab', 'Eb', 'F#', 'Bb', 'Gb', 'G#', 'F', 'A#', 'D#'}), ('Db', {'Db', 'C', 'C#', 'Ab', 'Eb', 'F#', 'Bb', 'Gb', 'G#', 'F', 'A#', 'D#'}), ('D', {'Db', 'B', 'C#', 'G', 'F#', 'E', 'A', 'D', 'Gb'}), ('D#', {'C', 'F', 'G', 'Eb', 'Bb', 'D', 'G#', 'Ab', 'A#', 'D#'}), ('Eb', {'C', 'F', 'G', 'Eb', 'Bb', 'D', 'G#', 'Ab', 'A#', 'D#'}), ('E', {'Db', 'B', 'C#', 'F#', 'Eb', 'E', 'A', 'Gb', 'G#', 'Ab', 'D#'}), ('F', {'C', 'G', 'Bb', 'A', 'D', 'E', 'F', 'A#'}), ('F#', {'Db', 'F', 'B', 'C#', 'E#', 'F#', 'Eb', 'Gb', 'G#', 'Ab', 'A#', 'D#'}), ('Gb', {'Db', 'F', 'B', 'C#', 'E#', 'F#', 'Eb', 'Gb', 'G#', 'Ab', 'A#', 'D#'}), ('G', {'C', 'B', 'G', 'F#', 'E', 'A', 'D', 'Gb'}), ('G#', {'Db', 'C', 'F', 'C#', 'G', 'Eb', 'Bb', 'G#', 'Ab', 'A#', 'D#'}), ('Ab', {'Db', 'C', 'F', 'C#', 'G', 'Eb', 'Bb', 'G#', 'Ab', 'A#', 'D#'}), ('A', {'Db', 'B', 'C#', 'F#', 'E', 'D', 'A', 'Gb', 'G#', 'Ab'}), ('A#', {'C', 'G', 'Eb', 'Bb', 'D', 'A', 'F', 'A#', 'D#'}), ('Bb', {'C', 'G', 'Eb', 'Bb', 'D', 'A', 'F', 'A#', 'D#'}), ('B', {'Db', 'B', 'C#', 'F#', 'Eb', 'E', 'Gb', 'Bb', 'G#', 'Ab', 'A#', 'D#'})])"
      ]
     },
     "execution_count": 35,
     "metadata": {},
     "output_type": "execute_result"
    }
   ],
   "source": [
    "scales.items()"
   ]
  },
  {
   "cell_type": "code",
   "execution_count": 19,
   "metadata": {},
   "outputs": [
    {
     "data": {
      "text/plain": [
       "<Chord: C/G>"
      ]
     },
     "execution_count": 19,
     "metadata": {},
     "output_type": "execute_result"
    }
   ],
   "source": [
    "pychord.Chord(\"C/G\")"
   ]
  },
  {
   "cell_type": "code",
   "execution_count": null,
   "metadata": {},
   "outputs": [],
   "source": []
  }
 ],
 "metadata": {
  "kernelspec": {
   "display_name": "Python 3",
   "language": "python",
   "name": "python3"
  },
  "language_info": {
   "codemirror_mode": {
    "name": "ipython",
    "version": 3
   },
   "file_extension": ".py",
   "mimetype": "text/x-python",
   "name": "python",
   "nbconvert_exporter": "python",
   "pygments_lexer": "ipython3",
   "version": "3.8.2"
  }
 },
 "nbformat": 4,
 "nbformat_minor": 4
}
