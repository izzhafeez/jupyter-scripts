{
 "cells": [
  {
   "cell_type": "code",
   "execution_count": 154,
   "id": "acc3248c",
   "metadata": {},
   "outputs": [],
   "source": [
    "import requests\n",
    "from wilcoxon import spiderman\n",
    "from wilcoxon import sheets\n",
    "from tqdm import tqdm\n",
    "import time\n",
    "import re\n",
    "import random"
   ]
  },
  {
   "cell_type": "code",
   "execution_count": 227,
   "id": "0d5cf73c",
   "metadata": {},
   "outputs": [],
   "source": [
    "trending_start = spiderman.website(\"https://github.com/trending\")\n",
    "\n",
    "trending_subpages = []\n",
    "for a in trending_start.html(href=re.compile(\"/trending/.+\\?\")):\n",
    "    trending_subpages.append(\"https://github.com\" + a[\"href\"])"
   ]
  },
  {
   "cell_type": "code",
   "execution_count": 328,
   "id": "92871438",
   "metadata": {},
   "outputs": [
    {
     "name": "stderr",
     "output_type": "stream",
     "text": [
      "100%|██████████| 392/392 [08:37<00:00,  1.32s/it]\n"
     ]
    }
   ],
   "source": [
    "repo_links = []\n",
    "for trending_subpage in tqdm(trending_subpages[265:]):\n",
    "    trending_subsite = spiderman.website(trending_subpage)\n",
    "    for href in trending_subsite.hrefs:\n",
    "        if \"stargazers\" in href:\n",
    "            repo_links.append(href[:-10])"
   ]
  },
  {
   "cell_type": "code",
   "execution_count": 338,
   "id": "af4f5c3a",
   "metadata": {},
   "outputs": [
    {
     "name": "stderr",
     "output_type": "stream",
     "text": [
      "100%|██████████| 1541/1541 [11:16<00:00,  2.28it/s]\n"
     ]
    }
   ],
   "source": [
    "contents = []\n",
    "for repo_link in tqdm(repo_links):\n",
    "    repo_readme = spiderman.website(f\"https://raw.githubusercontent.com{repo_link}main/README.md\")\n",
    "    content = []\n",
    "    for s in repo_readme.html:\n",
    "        if \"Tag\" not in str(type(s)):\n",
    "            content.append(s)\n",
    "    contents.append(content)"
   ]
  },
  {
   "cell_type": "code",
   "execution_count": 420,
   "id": "ad443024",
   "metadata": {},
   "outputs": [],
   "source": [
    "cleaned_contents = []\n",
    "for content in contents:\n",
    "    cleaned_content = \"\"\n",
    "    for line in content:\n",
    "        cleaned_content += line.lstrip()\n",
    "    cleaned_contents.append(cleaned_content)"
   ]
  },
  {
   "cell_type": "code",
   "execution_count": 9,
   "id": "208feb0a",
   "metadata": {},
   "outputs": [],
   "source": [
    "for note_data in note_datas:\n",
    "    note_data[\"title\"] = \" \".join([x.capitalize() for x in note_data[\"link\"].split(\"/\")[2].split(\"-\")])"
   ]
  },
  {
   "cell_type": "code",
   "execution_count": 386,
   "id": "6c947bf9",
   "metadata": {},
   "outputs": [],
   "source": [
    "note_datas = []\n",
    "for repo_link, cleaned_content in zip(repo_links, cleaned_contents):\n",
    "    note_data = {}\n",
    "    note_data[\"title\"] = repo_link.split(\"/\")[2]\n",
    "    note_data[\"link\"] = repo_link\n",
    "    note_data[\"content\"] = cleaned_content\n",
    "    if cleaned_content != \"404: Not Found\":\n",
    "        note_datas.append(note_data)"
   ]
  },
  {
   "cell_type": "code",
   "execution_count": 5,
   "id": "f05796ac",
   "metadata": {},
   "outputs": [
    {
     "name": "stderr",
     "output_type": "stream",
     "text": [
      "  2%|▏         | 8/470 [00:07<06:43,  1.15it/s]"
     ]
    },
    {
     "name": "stdout",
     "output_type": "stream",
     "text": [
      "css-exercises\n"
     ]
    },
    {
     "name": "stderr",
     "output_type": "stream",
     "text": [
      "  2%|▏         | 11/470 [00:10<07:05,  1.08it/s]"
     ]
    },
    {
     "name": "stdout",
     "output_type": "stream",
     "text": [
      "keycloak-documentation\n"
     ]
    },
    {
     "name": "stderr",
     "output_type": "stream",
     "text": [
      "  5%|▌         | 24/470 [00:23<06:53,  1.08it/s]"
     ]
    },
    {
     "name": "stdout",
     "output_type": "stream",
     "text": [
      "KR\n"
     ]
    },
    {
     "name": "stderr",
     "output_type": "stream",
     "text": [
      "  6%|▌         | 29/470 [00:27<06:21,  1.16it/s]"
     ]
    },
    {
     "name": "stdout",
     "output_type": "stream",
     "text": [
      "shopify-api-php\n"
     ]
    },
    {
     "name": "stderr",
     "output_type": "stream",
     "text": [
      " 11%|█         | 51/470 [00:49<06:53,  1.01it/s]"
     ]
    },
    {
     "name": "stdout",
     "output_type": "stream",
     "text": [
      "BountyTricks\n"
     ]
    },
    {
     "name": "stderr",
     "output_type": "stream",
     "text": [
      " 12%|█▏        | 58/470 [00:56<06:53,  1.00s/it]"
     ]
    },
    {
     "name": "stdout",
     "output_type": "stream",
     "text": [
      "awesome-tips\n"
     ]
    },
    {
     "name": "stderr",
     "output_type": "stream",
     "text": [
      " 13%|█▎        | 60/470 [00:58<06:21,  1.08it/s]"
     ]
    },
    {
     "name": "stdout",
     "output_type": "stream",
     "text": [
      "persistence-info.github.io\n"
     ]
    },
    {
     "name": "stderr",
     "output_type": "stream",
     "text": [
      " 16%|█▌        | 76/470 [01:13<05:49,  1.13it/s]"
     ]
    },
    {
     "name": "stdout",
     "output_type": "stream",
     "text": [
      "WindowsServerFreeVPS\n"
     ]
    },
    {
     "name": "stderr",
     "output_type": "stream",
     "text": [
      " 17%|█▋        | 80/470 [01:16<05:16,  1.23it/s]"
     ]
    },
    {
     "name": "stdout",
     "output_type": "stream",
     "text": [
      "rdpfree\n"
     ]
    },
    {
     "name": "stderr",
     "output_type": "stream",
     "text": [
      "\r",
      " 17%|█▋        | 81/470 [01:17<05:07,  1.26it/s]"
     ]
    },
    {
     "name": "stdout",
     "output_type": "stream",
     "text": [
      "WindowsRDP-1\n"
     ]
    },
    {
     "name": "stderr",
     "output_type": "stream",
     "text": [
      " 18%|█▊        | 85/470 [01:20<05:16,  1.22it/s]"
     ]
    },
    {
     "name": "stdout",
     "output_type": "stream",
     "text": [
      "FreeRDP\n"
     ]
    },
    {
     "name": "stderr",
     "output_type": "stream",
     "text": [
      " 19%|█▊        | 87/470 [01:22<05:35,  1.14it/s]"
     ]
    },
    {
     "name": "stdout",
     "output_type": "stream",
     "text": [
      "rdp\n"
     ]
    },
    {
     "name": "stderr",
     "output_type": "stream",
     "text": [
      " 20%|█▉        | 93/470 [01:28<05:53,  1.07it/s]"
     ]
    },
    {
     "name": "stdout",
     "output_type": "stream",
     "text": [
      "azure-docs-bicep-samples\n"
     ]
    },
    {
     "name": "stderr",
     "output_type": "stream",
     "text": [
      " 24%|██▍       | 112/470 [01:49<06:57,  1.17s/it]"
     ]
    },
    {
     "name": "stdout",
     "output_type": "stream",
     "text": [
      "ZombieThread\n"
     ]
    },
    {
     "name": "stderr",
     "output_type": "stream",
     "text": [
      " 26%|██▋       | 124/470 [02:00<05:45,  1.00it/s]"
     ]
    },
    {
     "name": "stdout",
     "output_type": "stream",
     "text": [
      "sample_vehicle_launch\n"
     ]
    },
    {
     "name": "stderr",
     "output_type": "stream",
     "text": [
      " 28%|██▊       | 131/470 [02:06<04:39,  1.21it/s]"
     ]
    },
    {
     "name": "stdout",
     "output_type": "stream",
     "text": [
      "learn-grid-the-easy-way\n"
     ]
    },
    {
     "name": "stderr",
     "output_type": "stream",
     "text": [
      " 33%|███▎      | 157/470 [02:32<05:03,  1.03it/s]"
     ]
    },
    {
     "name": "stdout",
     "output_type": "stream",
     "text": [
      "hello-world\n"
     ]
    },
    {
     "name": "stderr",
     "output_type": "stream",
     "text": [
      "\r",
      " 34%|███▎      | 158/470 [02:33<04:58,  1.04it/s]"
     ]
    },
    {
     "name": "stdout",
     "output_type": "stream",
     "text": [
      "haikus-for-codespaces\n"
     ]
    },
    {
     "name": "stderr",
     "output_type": "stream",
     "text": [
      " 45%|████▌     | 213/470 [03:28<04:02,  1.06it/s]"
     ]
    },
    {
     "name": "stdout",
     "output_type": "stream",
     "text": [
      "PE-0.5.1-mobile-html5\n"
     ]
    },
    {
     "name": "stderr",
     "output_type": "stream",
     "text": [
      " 46%|████▌     | 215/470 [03:30<03:49,  1.11it/s]"
     ]
    },
    {
     "name": "stdout",
     "output_type": "stream",
     "text": [
      "ourple-guy\n"
     ]
    },
    {
     "name": "stderr",
     "output_type": "stream",
     "text": [
      " 47%|████▋     | 221/470 [03:36<04:30,  1.09s/it]"
     ]
    },
    {
     "name": "stdout",
     "output_type": "stream",
     "text": [
      "typroaction\n"
     ]
    },
    {
     "name": "stderr",
     "output_type": "stream",
     "text": [
      " 49%|████▊     | 229/470 [03:45<04:06,  1.02s/it]"
     ]
    },
    {
     "name": "stdout",
     "output_type": "stream",
     "text": [
      "vision_transformer\n"
     ]
    },
    {
     "name": "stderr",
     "output_type": "stream",
     "text": [
      "\r",
      " 49%|████▉     | 230/470 [03:46<03:48,  1.05it/s]"
     ]
    },
    {
     "name": "stdout",
     "output_type": "stream",
     "text": [
      "tensorflow-1-public\n"
     ]
    },
    {
     "name": "stderr",
     "output_type": "stream",
     "text": [
      "\r",
      " 49%|████▉     | 231/470 [03:47<03:57,  1.01it/s]"
     ]
    },
    {
     "name": "stdout",
     "output_type": "stream",
     "text": [
      "TFODCourse\n"
     ]
    },
    {
     "name": "stderr",
     "output_type": "stream",
     "text": [
      " 50%|████▉     | 234/470 [03:50<03:37,  1.09it/s]"
     ]
    },
    {
     "name": "stdout",
     "output_type": "stream",
     "text": [
      "PortfolioProjects\n"
     ]
    },
    {
     "name": "stderr",
     "output_type": "stream",
     "text": [
      " 58%|█████▊    | 274/470 [04:29<03:03,  1.07it/s]"
     ]
    },
    {
     "name": "stdout",
     "output_type": "stream",
     "text": [
      "extendable-token\n"
     ]
    },
    {
     "name": "stderr",
     "output_type": "stream",
     "text": [
      " 61%|██████▏   | 288/470 [04:41<02:31,  1.20it/s]"
     ]
    },
    {
     "name": "stdout",
     "output_type": "stream",
     "text": [
      "cardano-token-registry\n"
     ]
    },
    {
     "name": "stderr",
     "output_type": "stream",
     "text": [
      " 63%|██████▎   | 295/470 [04:47<02:30,  1.16it/s]"
     ]
    },
    {
     "name": "stdout",
     "output_type": "stream",
     "text": [
      "GoogleUtilities\n"
     ]
    },
    {
     "name": "stderr",
     "output_type": "stream",
     "text": [
      "\r",
      " 63%|██████▎   | 296/470 [04:49<02:49,  1.03it/s]"
     ]
    },
    {
     "name": "stdout",
     "output_type": "stream",
     "text": [
      "GoogleDataTransport\n"
     ]
    },
    {
     "name": "stderr",
     "output_type": "stream",
     "text": [
      " 66%|██████▌   | 311/470 [05:04<02:40,  1.01s/it]"
     ]
    },
    {
     "name": "stdout",
     "output_type": "stream",
     "text": [
      "power-automate-docs\n"
     ]
    },
    {
     "name": "stderr",
     "output_type": "stream",
     "text": [
      " 67%|██████▋   | 315/470 [05:07<02:10,  1.19it/s]"
     ]
    },
    {
     "name": "stdout",
     "output_type": "stream",
     "text": [
      "shakrdp\n"
     ]
    },
    {
     "name": "stderr",
     "output_type": "stream",
     "text": [
      "\r",
      " 67%|██████▋   | 316/470 [05:08<02:17,  1.12it/s]"
     ]
    },
    {
     "name": "stdout",
     "output_type": "stream",
     "text": [
      "azure-stack-docs\n"
     ]
    },
    {
     "name": "stderr",
     "output_type": "stream",
     "text": [
      " 73%|███████▎  | 343/470 [05:36<01:59,  1.06it/s]"
     ]
    },
    {
     "name": "stdout",
     "output_type": "stream",
     "text": [
      "gluten\n"
     ]
    },
    {
     "name": "stderr",
     "output_type": "stream",
     "text": [
      " 77%|███████▋  | 362/470 [05:57<02:41,  1.49s/it]"
     ]
    },
    {
     "name": "stdout",
     "output_type": "stream",
     "text": [
      "platformer-movement\n"
     ]
    },
    {
     "name": "stderr",
     "output_type": "stream",
     "text": [
      " 82%|████████▏ | 385/470 [06:23<01:58,  1.39s/it]"
     ]
    },
    {
     "name": "stdout",
     "output_type": "stream",
     "text": [
      "helm-charts\n"
     ]
    },
    {
     "name": "stderr",
     "output_type": "stream",
     "text": [
      " 83%|████████▎ | 388/470 [06:27<01:48,  1.32s/it]"
     ]
    },
    {
     "name": "stdout",
     "output_type": "stream",
     "text": [
      "charts\n"
     ]
    },
    {
     "name": "stderr",
     "output_type": "stream",
     "text": [
      " 84%|████████▍ | 397/470 [06:37<01:32,  1.26s/it]"
     ]
    },
    {
     "name": "stdout",
     "output_type": "stream",
     "text": [
      "simple-storage-fcc\n"
     ]
    },
    {
     "name": "stderr",
     "output_type": "stream",
     "text": [
      " 85%|████████▌ | 400/470 [06:40<01:15,  1.08s/it]"
     ]
    },
    {
     "name": "stdout",
     "output_type": "stream",
     "text": [
      "fund-me-fcc\n"
     ]
    },
    {
     "name": "stderr",
     "output_type": "stream",
     "text": [
      " 88%|████████▊ | 414/470 [06:53<00:49,  1.13it/s]"
     ]
    },
    {
     "name": "stdout",
     "output_type": "stream",
     "text": [
      "macos-web\n"
     ]
    },
    {
     "name": "stderr",
     "output_type": "stream",
     "text": [
      " 93%|█████████▎| 436/470 [07:14<00:32,  1.03it/s]"
     ]
    },
    {
     "name": "stdout",
     "output_type": "stream",
     "text": [
      "FHIR-Analytics-Pipelines\n"
     ]
    },
    {
     "name": "stderr",
     "output_type": "stream",
     "text": [
      " 99%|█████████▉| 467/470 [07:44<00:02,  1.11it/s]"
     ]
    },
    {
     "name": "stdout",
     "output_type": "stream",
     "text": [
      "function-runner\n"
     ]
    },
    {
     "name": "stderr",
     "output_type": "stream",
     "text": [
      "100%|██████████| 470/470 [07:48<00:00,  1.00it/s]\n"
     ]
    }
   ],
   "source": [
    "for note_data in tqdm(note_datas):\n",
    "    repo_site = spiderman.website(\"https://github.com\"+note_data[\"link\"])\n",
    "    try:\n",
    "        note_data[\"tagline\"] = repo_site.html(\"title\")[0].text.split(\": \", 1)[1]\n",
    "    except:\n",
    "        print(note_data[\"title\"])\n",
    "        continue"
   ]
  },
  {
   "cell_type": "code",
   "execution_count": 6,
   "id": "2a0060d3",
   "metadata": {},
   "outputs": [],
   "source": [
    "for note_data in note_datas:\n",
    "    try:\n",
    "        note_data[\"title\"] = \" \".join(re.split(\"[,.]\", note_data[\"tagline\"])[0].split()[:4][:32])\n",
    "    except:\n",
    "        note_data[\"title\"] = note_data[\"title\"][:32]"
   ]
  },
  {
   "cell_type": "code",
   "execution_count": 2,
   "id": "365f2dcf",
   "metadata": {},
   "outputs": [],
   "source": [
    "mrt = sheets.getGeo(\"MRT\")\n",
    "schools = sheets.getGeo(\"Schools\")"
   ]
  },
  {
   "cell_type": "code",
   "execution_count": 3,
   "id": "06d180a6",
   "metadata": {},
   "outputs": [],
   "source": [
    "names = []\n",
    "for name in list(schools.Name):\n",
    "    if \"Primary\" in name:\n",
    "        names.append(name.split(\" Primary\")[0])\n",
    "    elif \"Secondary\" in name:\n",
    "        names.append(name.split(\" Secondary\")[0])\n",
    "        \n",
    "for name in list(mrt.Name):\n",
    "    names.append(name)\n",
    "    \n",
    "names = list(set(names))"
   ]
  },
  {
   "cell_type": "code",
   "execution_count": 4,
   "id": "7e91c96a",
   "metadata": {},
   "outputs": [
    {
     "data": {
      "text/plain": [
       "['Sengkang Green',\n",
       " 'Fernvale',\n",
       " 'Pei Tong',\n",
       " 'Springleaf',\n",
       " 'Elias Park',\n",
       " \"St. Margaret's\",\n",
       " 'Temasek',\n",
       " 'Christ Church',\n",
       " 'Dhoby Ghaut',\n",
       " 'Xingnan',\n",
       " 'Shuqun',\n",
       " 'Xinghua',\n",
       " 'Evergreen',\n",
       " 'Canossa Catholic',\n",
       " 'Loyang',\n",
       " 'Whitley',\n",
       " 'Riverside',\n",
       " 'Pei Hwa',\n",
       " 'Tampines West',\n",
       " 'Boon Keng',\n",
       " 'Cashew',\n",
       " 'Beauty World',\n",
       " 'Punggol View',\n",
       " 'Expo',\n",
       " 'City Hall',\n",
       " 'Ubi',\n",
       " 'Gul Circle',\n",
       " 'Yishun',\n",
       " 'Clarke Quay',\n",
       " 'Choa Chu Kang West',\n",
       " 'Peng Kang Hill',\n",
       " 'Oasis',\n",
       " 'Aljunied',\n",
       " 'Endeavour',\n",
       " 'Clementi',\n",
       " 'Bayshore',\n",
       " 'Orchard',\n",
       " \"St. Hilda's\",\n",
       " 'Jurong East',\n",
       " 'Tuas West Road',\n",
       " 'Bangkit',\n",
       " \"Cedar Girls'\",\n",
       " 'Stadium',\n",
       " 'Caldecott',\n",
       " 'Promenade',\n",
       " 'Montfort',\n",
       " 'Hougang',\n",
       " 'Bukit Timah',\n",
       " 'Bishan',\n",
       " 'Fengshan',\n",
       " 'Manjusri',\n",
       " 'Changkat',\n",
       " 'Yangzheng',\n",
       " 'Tuas Link',\n",
       " 'Nanyang Gateway',\n",
       " 'Farmway',\n",
       " 'Beatty',\n",
       " 'Holland Village',\n",
       " 'Kallang',\n",
       " 'White Sands',\n",
       " 'Park View',\n",
       " 'Cedar',\n",
       " 'one-north',\n",
       " 'Kovan',\n",
       " 'Sengkang',\n",
       " 'Tongkang',\n",
       " 'Jurong Town Hall',\n",
       " 'Bakau',\n",
       " 'Compassvale',\n",
       " 'Dover',\n",
       " 'Senja',\n",
       " 'Brickland',\n",
       " 'Telok Ayer',\n",
       " 'Chongzheng',\n",
       " 'Kent Ridge',\n",
       " 'Bartley',\n",
       " 'Gan Eng Seng',\n",
       " 'Ngee Ann',\n",
       " 'Teck Lee',\n",
       " 'Balestier Hill',\n",
       " 'Haw Par Villa',\n",
       " 'Jalan Besar',\n",
       " 'Wellington',\n",
       " 'Naval Base',\n",
       " 'Kupang',\n",
       " 'Khatib',\n",
       " 'HarbourFront',\n",
       " 'Gek Poh',\n",
       " 'Tawas',\n",
       " 'Nibong',\n",
       " 'Serangoon North',\n",
       " 'Gardens by the Bay',\n",
       " 'Bedok View',\n",
       " 'Punggol',\n",
       " 'Tampines',\n",
       " 'Pasir Ris East',\n",
       " 'Keppel',\n",
       " 'Pioneer',\n",
       " 'Woodgrove',\n",
       " 'Rulang',\n",
       " 'Ranggung',\n",
       " 'Ang Mo Kio',\n",
       " 'Sembawang',\n",
       " 'Ahmad Ibrahim',\n",
       " 'River Valley',\n",
       " 'Stevens',\n",
       " 'Nan Chiau',\n",
       " 'Sungei Kadut',\n",
       " 'Lentor',\n",
       " 'Xinmin',\n",
       " 'Cantonment',\n",
       " 'Great World',\n",
       " 'Commonwealth',\n",
       " 'Huamin',\n",
       " 'Bukit Brown',\n",
       " 'Rivervale',\n",
       " 'Farrer Park',\n",
       " 'Xishan',\n",
       " 'Tengah Plantation',\n",
       " 'Upper Thomson',\n",
       " 'Fajar',\n",
       " 'Sam Kee',\n",
       " 'Hume',\n",
       " 'Bowen',\n",
       " 'Sungei Bedok',\n",
       " 'Corporation',\n",
       " 'Zhenghua',\n",
       " 'Outram',\n",
       " \"St. Anthony's Canossian\",\n",
       " 'Anderson',\n",
       " 'Dunman',\n",
       " 'Mattar',\n",
       " 'Queenstown',\n",
       " 'Jurong Pier',\n",
       " 'Serangoon',\n",
       " 'Potong Pasir',\n",
       " 'Kangkar',\n",
       " 'Bright Hill',\n",
       " 'Bayfront',\n",
       " 'Casuarina',\n",
       " 'Marine Parade',\n",
       " 'Hua Yi',\n",
       " 'Henry Park',\n",
       " 'New Town',\n",
       " 'Serangoon Garden',\n",
       " 'Changkat Changi',\n",
       " 'Chinatown',\n",
       " 'Katong Park',\n",
       " 'Peicai',\n",
       " 'Layar',\n",
       " 'Edgefield',\n",
       " 'Napier',\n",
       " 'Tanjong Katong',\n",
       " 'Zhonghua',\n",
       " 'Changi Airport',\n",
       " 'MacPherson',\n",
       " 'Tampines North',\n",
       " 'Marine Terrace',\n",
       " 'Waterway',\n",
       " 'Nicoll Highway',\n",
       " 'Yu Neng',\n",
       " 'Jurong',\n",
       " 'Damai',\n",
       " 'Eunos',\n",
       " 'North Vista',\n",
       " 'Yio Chu Kang',\n",
       " 'Enterprise',\n",
       " 'Beacon',\n",
       " 'Mayflower',\n",
       " 'Teck Whye',\n",
       " 'Junyuan',\n",
       " 'West Spring',\n",
       " 'Jiemin',\n",
       " 'Juying',\n",
       " 'Deyi',\n",
       " 'Alexandra',\n",
       " 'Kadaloor',\n",
       " 'Yuhua',\n",
       " 'Springfield',\n",
       " 'Nanyang Crescent',\n",
       " 'Tavistock',\n",
       " 'Concord',\n",
       " 'Gongshang',\n",
       " 'Shenton Way',\n",
       " 'Marina South',\n",
       " 'Bedok South',\n",
       " 'Tiong Bahru',\n",
       " 'Palm View',\n",
       " 'Horizon',\n",
       " 'Bedok',\n",
       " 'First Toa Payoh',\n",
       " 'Tukang',\n",
       " 'Downtown',\n",
       " 'Rochor',\n",
       " 'Blangah Rise',\n",
       " 'Angsana',\n",
       " 'Tampines East',\n",
       " 'Seng Kang',\n",
       " 'Queensway',\n",
       " 'Bedok Reservoir',\n",
       " 'Innova',\n",
       " 'Tanjong Pagar',\n",
       " 'Sumang',\n",
       " 'Qihua',\n",
       " 'Boon Lay',\n",
       " 'Bencoolen',\n",
       " 'Anchor Green',\n",
       " 'Newton',\n",
       " 'Sixth Avenue',\n",
       " 'Marsiling',\n",
       " 'Bukit Batok West',\n",
       " 'Tengah Park',\n",
       " 'Pei Hwa Presbyterian',\n",
       " 'Greenwood',\n",
       " 'Chua Chu Kang',\n",
       " 'Loyang View',\n",
       " 'CHIJ (Katong)',\n",
       " 'Defu',\n",
       " 'Bugis',\n",
       " 'Cheng Lim',\n",
       " 'Outram Park',\n",
       " 'Yishun Town',\n",
       " 'Bukit View',\n",
       " 'Farrer Road',\n",
       " 'Mount Pleasant',\n",
       " 'Canberra',\n",
       " 'Peirce',\n",
       " 'Valour',\n",
       " 'Bendemeer',\n",
       " 'Maxwell',\n",
       " 'Unity',\n",
       " 'Havelock',\n",
       " \"Holy Innocents'\",\n",
       " 'Springdale',\n",
       " 'Phoenix',\n",
       " 'Toa Payoh',\n",
       " 'Boon Lay Garden',\n",
       " 'Meridian',\n",
       " 'Bedok Green',\n",
       " 'West Grove',\n",
       " 'Greenridge',\n",
       " 'Bukit Gombak',\n",
       " 'East Coast',\n",
       " 'Regent',\n",
       " 'Tuas Crescent',\n",
       " 'Redhill',\n",
       " 'Siglap',\n",
       " 'Mountbatten',\n",
       " 'Esplanade',\n",
       " 'Yuying',\n",
       " \"St. Andrew's\",\n",
       " 'Prince Edward Road',\n",
       " 'Lakeside',\n",
       " 'Aviation Park',\n",
       " 'Marina South Pier',\n",
       " 'Bahar Junction',\n",
       " 'Orchid Park',\n",
       " 'Da Qiao',\n",
       " 'Qifa',\n",
       " 'Jurong West',\n",
       " 'Coral Edge',\n",
       " 'Northland',\n",
       " 'Lavender',\n",
       " 'Woodleigh',\n",
       " 'Soo Teck',\n",
       " 'Dazhong',\n",
       " 'CHIJ',\n",
       " 'Pending',\n",
       " 'Punggol Coast',\n",
       " 'Buona Vista',\n",
       " 'Swiss Cottage',\n",
       " 'Radin Mas',\n",
       " 'West View',\n",
       " 'Xilin',\n",
       " 'Rumbia',\n",
       " 'Petir',\n",
       " 'Simei',\n",
       " 'Marina Bay',\n",
       " 'Broadrick',\n",
       " 'Yusof Ishak',\n",
       " 'Marymount',\n",
       " 'Princess Elizabeth',\n",
       " \"St. Gabriel's\",\n",
       " 'Clementi Town',\n",
       " 'Yew Tee',\n",
       " 'Woodlands',\n",
       " 'Punggol Green',\n",
       " 'South View',\n",
       " 'Jurongville',\n",
       " 'Telok Blangah',\n",
       " 'Fort Canning',\n",
       " 'Jing Shan',\n",
       " 'Raffles Place',\n",
       " 'Punggol Cove',\n",
       " 'King Albert Park',\n",
       " 'Guangyang',\n",
       " 'Elias',\n",
       " 'Samudera',\n",
       " 'Kembangan',\n",
       " 'Bukit Batok',\n",
       " 'Cove',\n",
       " 'Lorong Chuan',\n",
       " 'Pasir Ris Crest',\n",
       " 'Pandan Reservoir',\n",
       " 'Fairfield Methodist',\n",
       " 'Woodlands South',\n",
       " 'Pasir Panjang',\n",
       " 'Peiying',\n",
       " 'Bukit Panjang',\n",
       " 'Yumin',\n",
       " 'Hillgrove',\n",
       " 'Braddell',\n",
       " 'Geylang Bahru',\n",
       " 'Keat Hong',\n",
       " 'East View',\n",
       " 'Little India',\n",
       " 'Tanglin',\n",
       " 'Townsville',\n",
       " 'Admiralty',\n",
       " 'Paya Lebar',\n",
       " 'Dakota',\n",
       " 'Kaki Bukit',\n",
       " 'Ten Mile Junction',\n",
       " 'Woodlands Ring',\n",
       " 'Coral',\n",
       " 'Segar',\n",
       " 'Greendale',\n",
       " 'Ping Yi',\n",
       " 'Kranji',\n",
       " 'Fuhua',\n",
       " 'Punggol Point',\n",
       " 'Opera Estate',\n",
       " 'Novena',\n",
       " 'Tanah Merah',\n",
       " 'Orchard Boulevard',\n",
       " 'Botanic Gardens',\n",
       " 'Choa Chu Kang',\n",
       " 'Kuo Chuan Presbyterian',\n",
       " 'Tan Kah Kee',\n",
       " 'North Spring',\n",
       " 'Hong Kah',\n",
       " 'Telok Kurau',\n",
       " 'Yuan Ching',\n",
       " 'Lianhua',\n",
       " 'Pasir Ris',\n",
       " 'Keming',\n",
       " \"St. Anthony's\",\n",
       " 'Buangkok',\n",
       " 'East Spring',\n",
       " 'Joo Koon',\n",
       " 'Si Ling',\n",
       " 'Toh Guan',\n",
       " 'Tanjong Rhu',\n",
       " 'Dunearn',\n",
       " 'Chinese Garden',\n",
       " 'Thanggam',\n",
       " 'Nan Hua',\n",
       " 'Jelapang',\n",
       " 'Woodlands North',\n",
       " 'Frontier',\n",
       " 'Upper Changi',\n",
       " \"Founders' Memorial\",\n",
       " 'Hillview',\n",
       " 'Renjong',\n",
       " 'Bukit Merah',\n",
       " 'Northoaks',\n",
       " 'Bedok North',\n",
       " 'Teck Ghee',\n",
       " 'Tai Seng',\n",
       " 'Bras Basah',\n",
       " 'Jurong Hill',\n",
       " 'North View',\n",
       " 'Nanyang',\n",
       " 'Northbrooks',\n",
       " 'Zhangde',\n",
       " 'Stamford',\n",
       " 'Somerset',\n",
       " 'Tengah',\n",
       " 'Fuchun',\n",
       " 'Riviera',\n",
       " \"Raffles Girls'\",\n",
       " 'Westwood',\n",
       " 'Labrador Park']"
      ]
     },
     "execution_count": 4,
     "metadata": {},
     "output_type": "execute_result"
    }
   ],
   "source": [
    "names"
   ]
  },
  {
   "cell_type": "code",
   "execution_count": 155,
   "id": "bed51eb0",
   "metadata": {},
   "outputs": [],
   "source": [
    "accounts = {}\n",
    "for name in names:\n",
    "    if len(name) > 12:\n",
    "        continue\n",
    "    account = {}\n",
    "    account[\"username\"] = name\n",
    "    account[\"email\"] = name.replace(\" \", \".\").lower() + \"@gmail.com\"\n",
    "    account[\"password\"] = name.replace(\" \", \"\").lower() + \"1234\"\n",
    "    accounts[name] = account"
   ]
  },
  {
   "cell_type": "code",
   "execution_count": 156,
   "id": "7a68701b",
   "metadata": {},
   "outputs": [
    {
     "data": {
      "text/plain": [
       "{'Bukit Gombak': {'username': 'Bukit Gombak',\n",
       "  'email': 'bukit.gombak@gmail.com',\n",
       "  'password': 'bukitgombak1234'},\n",
       " 'Dakota': {'username': 'Dakota',\n",
       "  'email': 'dakota@gmail.com',\n",
       "  'password': 'dakota1234'},\n",
       " 'Marymount': {'username': 'Marymount',\n",
       "  'email': 'marymount@gmail.com',\n",
       "  'password': 'marymount1234'},\n",
       " 'Jelapang': {'username': 'Jelapang',\n",
       "  'email': 'jelapang@gmail.com',\n",
       "  'password': 'jelapang1234'},\n",
       " 'Jalan Besar': {'username': 'Jalan Besar',\n",
       "  'email': 'jalan.besar@gmail.com',\n",
       "  'password': 'jalanbesar1234'},\n",
       " 'Stevens': {'username': 'Stevens',\n",
       "  'email': 'stevens@gmail.com',\n",
       "  'password': 'stevens1234'},\n",
       " 'Toa Payoh': {'username': 'Toa Payoh',\n",
       "  'email': 'toa.payoh@gmail.com',\n",
       "  'password': 'toapayoh1234'},\n",
       " 'Zhenghua': {'username': 'Zhenghua',\n",
       "  'email': 'zhenghua@gmail.com',\n",
       "  'password': 'zhenghua1234'},\n",
       " 'Concord': {'username': 'Concord',\n",
       "  'email': 'concord@gmail.com',\n",
       "  'password': 'concord1234'},\n",
       " 'North Vista': {'username': 'North Vista',\n",
       "  'email': 'north.vista@gmail.com',\n",
       "  'password': 'northvista1234'},\n",
       " 'Orchard': {'username': 'Orchard',\n",
       "  'email': 'orchard@gmail.com',\n",
       "  'password': 'orchard1234'},\n",
       " \"Cedar Girls'\": {'username': \"Cedar Girls'\",\n",
       "  'email': \"cedar.girls'@gmail.com\",\n",
       "  'password': \"cedargirls'1234\"},\n",
       " 'Khatib': {'username': 'Khatib',\n",
       "  'email': 'khatib@gmail.com',\n",
       "  'password': 'khatib1234'},\n",
       " 'Jurong': {'username': 'Jurong',\n",
       "  'email': 'jurong@gmail.com',\n",
       "  'password': 'jurong1234'},\n",
       " 'Newton': {'username': 'Newton',\n",
       "  'email': 'newton@gmail.com',\n",
       "  'password': 'newton1234'},\n",
       " 'Guangyang': {'username': 'Guangyang',\n",
       "  'email': 'guangyang@gmail.com',\n",
       "  'password': 'guangyang1234'},\n",
       " 'Sixth Avenue': {'username': 'Sixth Avenue',\n",
       "  'email': 'sixth.avenue@gmail.com',\n",
       "  'password': 'sixthavenue1234'},\n",
       " 'Broadrick': {'username': 'Broadrick',\n",
       "  'email': 'broadrick@gmail.com',\n",
       "  'password': 'broadrick1234'},\n",
       " 'Kaki Bukit': {'username': 'Kaki Bukit',\n",
       "  'email': 'kaki.bukit@gmail.com',\n",
       "  'password': 'kakibukit1234'},\n",
       " 'Mayflower': {'username': 'Mayflower',\n",
       "  'email': 'mayflower@gmail.com',\n",
       "  'password': 'mayflower1234'},\n",
       " 'Frontier': {'username': 'Frontier',\n",
       "  'email': 'frontier@gmail.com',\n",
       "  'password': 'frontier1234'},\n",
       " 'Admiralty': {'username': 'Admiralty',\n",
       "  'email': 'admiralty@gmail.com',\n",
       "  'password': 'admiralty1234'},\n",
       " 'Bright Hill': {'username': 'Bright Hill',\n",
       "  'email': 'bright.hill@gmail.com',\n",
       "  'password': 'brighthill1234'},\n",
       " 'Keming': {'username': 'Keming',\n",
       "  'email': 'keming@gmail.com',\n",
       "  'password': 'keming1234'},\n",
       " 'Telok Kurau': {'username': 'Telok Kurau',\n",
       "  'email': 'telok.kurau@gmail.com',\n",
       "  'password': 'telokkurau1234'},\n",
       " 'Jing Shan': {'username': 'Jing Shan',\n",
       "  'email': 'jing.shan@gmail.com',\n",
       "  'password': 'jingshan1234'},\n",
       " 'Riverside': {'username': 'Riverside',\n",
       "  'email': 'riverside@gmail.com',\n",
       "  'password': 'riverside1234'},\n",
       " 'Peicai': {'username': 'Peicai',\n",
       "  'email': 'peicai@gmail.com',\n",
       "  'password': 'peicai1234'},\n",
       " 'Tan Kah Kee': {'username': 'Tan Kah Kee',\n",
       "  'email': 'tan.kah.kee@gmail.com',\n",
       "  'password': 'tankahkee1234'},\n",
       " 'Henry Park': {'username': 'Henry Park',\n",
       "  'email': 'henry.park@gmail.com',\n",
       "  'password': 'henrypark1234'},\n",
       " 'Xilin': {'username': 'Xilin',\n",
       "  'email': 'xilin@gmail.com',\n",
       "  'password': 'xilin1234'},\n",
       " 'Corporation': {'username': 'Corporation',\n",
       "  'email': 'corporation@gmail.com',\n",
       "  'password': 'corporation1234'},\n",
       " 'Pending': {'username': 'Pending',\n",
       "  'email': 'pending@gmail.com',\n",
       "  'password': 'pending1234'},\n",
       " 'Riviera': {'username': 'Riviera',\n",
       "  'email': 'riviera@gmail.com',\n",
       "  'password': 'riviera1234'},\n",
       " 'Bendemeer': {'username': 'Bendemeer',\n",
       "  'email': 'bendemeer@gmail.com',\n",
       "  'password': 'bendemeer1234'},\n",
       " 'Compassvale': {'username': 'Compassvale',\n",
       "  'email': 'compassvale@gmail.com',\n",
       "  'password': 'compassvale1234'},\n",
       " 'Ranggung': {'username': 'Ranggung',\n",
       "  'email': 'ranggung@gmail.com',\n",
       "  'password': 'ranggung1234'},\n",
       " 'Temasek': {'username': 'Temasek',\n",
       "  'email': 'temasek@gmail.com',\n",
       "  'password': 'temasek1234'},\n",
       " 'Aljunied': {'username': 'Aljunied',\n",
       "  'email': 'aljunied@gmail.com',\n",
       "  'password': 'aljunied1234'},\n",
       " 'Springdale': {'username': 'Springdale',\n",
       "  'email': 'springdale@gmail.com',\n",
       "  'password': 'springdale1234'},\n",
       " 'Damai': {'username': 'Damai',\n",
       "  'email': 'damai@gmail.com',\n",
       "  'password': 'damai1234'},\n",
       " 'Endeavour': {'username': 'Endeavour',\n",
       "  'email': 'endeavour@gmail.com',\n",
       "  'password': 'endeavour1234'},\n",
       " 'Yuhua': {'username': 'Yuhua',\n",
       "  'email': 'yuhua@gmail.com',\n",
       "  'password': 'yuhua1234'},\n",
       " 'Enterprise': {'username': 'Enterprise',\n",
       "  'email': 'enterprise@gmail.com',\n",
       "  'password': 'enterprise1234'},\n",
       " 'Renjong': {'username': 'Renjong',\n",
       "  'email': 'renjong@gmail.com',\n",
       "  'password': 'renjong1234'},\n",
       " 'Bayshore': {'username': 'Bayshore',\n",
       "  'email': 'bayshore@gmail.com',\n",
       "  'password': 'bayshore1234'},\n",
       " 'Keat Hong': {'username': 'Keat Hong',\n",
       "  'email': 'keat.hong@gmail.com',\n",
       "  'password': 'keathong1234'},\n",
       " 'Cheng Lim': {'username': 'Cheng Lim',\n",
       "  'email': 'cheng.lim@gmail.com',\n",
       "  'password': 'chenglim1234'},\n",
       " 'Shuqun': {'username': 'Shuqun',\n",
       "  'email': 'shuqun@gmail.com',\n",
       "  'password': 'shuqun1234'},\n",
       " 'Chinatown': {'username': 'Chinatown',\n",
       "  'email': 'chinatown@gmail.com',\n",
       "  'password': 'chinatown1234'},\n",
       " 'one-north': {'username': 'one-north',\n",
       "  'email': 'one-north@gmail.com',\n",
       "  'password': 'one-north1234'},\n",
       " 'Novena': {'username': 'Novena',\n",
       "  'email': 'novena@gmail.com',\n",
       "  'password': 'novena1234'},\n",
       " 'Queenstown': {'username': 'Queenstown',\n",
       "  'email': 'queenstown@gmail.com',\n",
       "  'password': 'queenstown1234'},\n",
       " 'Tawas': {'username': 'Tawas',\n",
       "  'email': 'tawas@gmail.com',\n",
       "  'password': 'tawas1234'},\n",
       " 'Lavender': {'username': 'Lavender',\n",
       "  'email': 'lavender@gmail.com',\n",
       "  'password': 'lavender1234'},\n",
       " 'Tiong Bahru': {'username': 'Tiong Bahru',\n",
       "  'email': 'tiong.bahru@gmail.com',\n",
       "  'password': 'tiongbahru1234'},\n",
       " 'Loyang': {'username': 'Loyang',\n",
       "  'email': 'loyang@gmail.com',\n",
       "  'password': 'loyang1234'},\n",
       " 'Northbrooks': {'username': 'Northbrooks',\n",
       "  'email': 'northbrooks@gmail.com',\n",
       "  'password': 'northbrooks1234'},\n",
       " 'Bukit Brown': {'username': 'Bukit Brown',\n",
       "  'email': 'bukit.brown@gmail.com',\n",
       "  'password': 'bukitbrown1234'},\n",
       " 'North Spring': {'username': 'North Spring',\n",
       "  'email': 'north.spring@gmail.com',\n",
       "  'password': 'northspring1234'},\n",
       " 'Caldecott': {'username': 'Caldecott',\n",
       "  'email': 'caldecott@gmail.com',\n",
       "  'password': 'caldecott1234'},\n",
       " 'Xinmin': {'username': 'Xinmin',\n",
       "  'email': 'xinmin@gmail.com',\n",
       "  'password': 'xinmin1234'},\n",
       " 'Woodleigh': {'username': 'Woodleigh',\n",
       "  'email': 'woodleigh@gmail.com',\n",
       "  'password': 'woodleigh1234'},\n",
       " 'Yumin': {'username': 'Yumin',\n",
       "  'email': 'yumin@gmail.com',\n",
       "  'password': 'yumin1234'},\n",
       " 'Orchid Park': {'username': 'Orchid Park',\n",
       "  'email': 'orchid.park@gmail.com',\n",
       "  'password': 'orchidpark1234'},\n",
       " 'Beauty World': {'username': 'Beauty World',\n",
       "  'email': 'beauty.world@gmail.com',\n",
       "  'password': 'beautyworld1234'},\n",
       " 'Tanah Merah': {'username': 'Tanah Merah',\n",
       "  'email': 'tanah.merah@gmail.com',\n",
       "  'password': 'tanahmerah1234'},\n",
       " 'Springfield': {'username': 'Springfield',\n",
       "  'email': 'springfield@gmail.com',\n",
       "  'password': 'springfield1234'},\n",
       " 'Jiemin': {'username': 'Jiemin',\n",
       "  'email': 'jiemin@gmail.com',\n",
       "  'password': 'jiemin1234'},\n",
       " 'Sungei Bedok': {'username': 'Sungei Bedok',\n",
       "  'email': 'sungei.bedok@gmail.com',\n",
       "  'password': 'sungeibedok1234'},\n",
       " 'Outram Park': {'username': 'Outram Park',\n",
       "  'email': 'outram.park@gmail.com',\n",
       "  'password': 'outrampark1234'},\n",
       " 'Nan Chiau': {'username': 'Nan Chiau',\n",
       "  'email': 'nan.chiau@gmail.com',\n",
       "  'password': 'nanchiau1234'},\n",
       " 'Tukang': {'username': 'Tukang',\n",
       "  'email': 'tukang@gmail.com',\n",
       "  'password': 'tukang1234'},\n",
       " 'Manjusri': {'username': 'Manjusri',\n",
       "  'email': 'manjusri@gmail.com',\n",
       "  'password': 'manjusri1234'},\n",
       " 'Boon Keng': {'username': 'Boon Keng',\n",
       "  'email': 'boon.keng@gmail.com',\n",
       "  'password': 'boonkeng1234'},\n",
       " 'Fernvale': {'username': 'Fernvale',\n",
       "  'email': 'fernvale@gmail.com',\n",
       "  'password': 'fernvale1234'},\n",
       " 'Edgefield': {'username': 'Edgefield',\n",
       "  'email': 'edgefield@gmail.com',\n",
       "  'password': 'edgefield1234'},\n",
       " 'Valour': {'username': 'Valour',\n",
       "  'email': 'valour@gmail.com',\n",
       "  'password': 'valour1234'},\n",
       " 'Fuhua': {'username': 'Fuhua',\n",
       "  'email': 'fuhua@gmail.com',\n",
       "  'password': 'fuhua1234'},\n",
       " 'Seng Kang': {'username': 'Seng Kang',\n",
       "  'email': 'seng.kang@gmail.com',\n",
       "  'password': 'sengkang1234'},\n",
       " 'Kovan': {'username': 'Kovan',\n",
       "  'email': 'kovan@gmail.com',\n",
       "  'password': 'kovan1234'},\n",
       " 'Queensway': {'username': 'Queensway',\n",
       "  'email': 'queensway@gmail.com',\n",
       "  'password': 'queensway1234'},\n",
       " 'Yusof Ishak': {'username': 'Yusof Ishak',\n",
       "  'email': 'yusof.ishak@gmail.com',\n",
       "  'password': 'yusofishak1234'},\n",
       " 'Waterway': {'username': 'Waterway',\n",
       "  'email': 'waterway@gmail.com',\n",
       "  'password': 'waterway1234'},\n",
       " 'Kangkar': {'username': 'Kangkar',\n",
       "  'email': 'kangkar@gmail.com',\n",
       "  'password': 'kangkar1234'},\n",
       " 'Yishun': {'username': 'Yishun',\n",
       "  'email': 'yishun@gmail.com',\n",
       "  'password': 'yishun1234'},\n",
       " 'Greenwood': {'username': 'Greenwood',\n",
       "  'email': 'greenwood@gmail.com',\n",
       "  'password': 'greenwood1234'},\n",
       " 'River Valley': {'username': 'River Valley',\n",
       "  'email': 'river.valley@gmail.com',\n",
       "  'password': 'rivervalley1234'},\n",
       " 'Cove': {'username': 'Cove',\n",
       "  'email': 'cove@gmail.com',\n",
       "  'password': 'cove1234'},\n",
       " 'Buona Vista': {'username': 'Buona Vista',\n",
       "  'email': 'buona.vista@gmail.com',\n",
       "  'password': 'buonavista1234'},\n",
       " 'Loyang View': {'username': 'Loyang View',\n",
       "  'email': 'loyang.view@gmail.com',\n",
       "  'password': 'loyangview1234'},\n",
       " 'Ngee Ann': {'username': 'Ngee Ann',\n",
       "  'email': 'ngee.ann@gmail.com',\n",
       "  'password': 'ngeeann1234'},\n",
       " 'CHIJ': {'username': 'CHIJ',\n",
       "  'email': 'chij@gmail.com',\n",
       "  'password': 'chij1234'},\n",
       " 'Promenade': {'username': 'Promenade',\n",
       "  'email': 'promenade@gmail.com',\n",
       "  'password': 'promenade1234'},\n",
       " 'Brickland': {'username': 'Brickland',\n",
       "  'email': 'brickland@gmail.com',\n",
       "  'password': 'brickland1234'},\n",
       " 'East Spring': {'username': 'East Spring',\n",
       "  'email': 'east.spring@gmail.com',\n",
       "  'password': 'eastspring1234'},\n",
       " 'Woodgrove': {'username': 'Woodgrove',\n",
       "  'email': 'woodgrove@gmail.com',\n",
       "  'password': 'woodgrove1234'},\n",
       " 'Little India': {'username': 'Little India',\n",
       "  'email': 'little.india@gmail.com',\n",
       "  'password': 'littleindia1234'},\n",
       " 'Gan Eng Seng': {'username': 'Gan Eng Seng',\n",
       "  'email': 'gan.eng.seng@gmail.com',\n",
       "  'password': 'ganengseng1234'},\n",
       " 'Whitley': {'username': 'Whitley',\n",
       "  'email': 'whitley@gmail.com',\n",
       "  'password': 'whitley1234'},\n",
       " 'North View': {'username': 'North View',\n",
       "  'email': 'north.view@gmail.com',\n",
       "  'password': 'northview1234'},\n",
       " 'Bencoolen': {'username': 'Bencoolen',\n",
       "  'email': 'bencoolen@gmail.com',\n",
       "  'password': 'bencoolen1234'},\n",
       " 'Yuan Ching': {'username': 'Yuan Ching',\n",
       "  'email': 'yuan.ching@gmail.com',\n",
       "  'password': 'yuanching1234'},\n",
       " 'Naval Base': {'username': 'Naval Base',\n",
       "  'email': 'naval.base@gmail.com',\n",
       "  'password': 'navalbase1234'},\n",
       " 'Dazhong': {'username': 'Dazhong',\n",
       "  'email': 'dazhong@gmail.com',\n",
       "  'password': 'dazhong1234'},\n",
       " 'Lentor': {'username': 'Lentor',\n",
       "  'email': 'lentor@gmail.com',\n",
       "  'password': 'lentor1234'},\n",
       " 'Pasir Ris': {'username': 'Pasir Ris',\n",
       "  'email': 'pasir.ris@gmail.com',\n",
       "  'password': 'pasirris1234'},\n",
       " 'Bedok View': {'username': 'Bedok View',\n",
       "  'email': 'bedok.view@gmail.com',\n",
       "  'password': 'bedokview1234'},\n",
       " 'Teck Ghee': {'username': 'Teck Ghee',\n",
       "  'email': 'teck.ghee@gmail.com',\n",
       "  'password': 'teckghee1234'},\n",
       " 'Wellington': {'username': 'Wellington',\n",
       "  'email': 'wellington@gmail.com',\n",
       "  'password': 'wellington1234'},\n",
       " 'West View': {'username': 'West View',\n",
       "  'email': 'west.view@gmail.com',\n",
       "  'password': 'westview1234'},\n",
       " 'Segar': {'username': 'Segar',\n",
       "  'email': 'segar@gmail.com',\n",
       "  'password': 'segar1234'},\n",
       " 'Havelock': {'username': 'Havelock',\n",
       "  'email': 'havelock@gmail.com',\n",
       "  'password': 'havelock1234'},\n",
       " 'Northland': {'username': 'Northland',\n",
       "  'email': 'northland@gmail.com',\n",
       "  'password': 'northland1234'},\n",
       " 'Hougang': {'username': 'Hougang',\n",
       "  'email': 'hougang@gmail.com',\n",
       "  'password': 'hougang1234'},\n",
       " 'Si Ling': {'username': 'Si Ling',\n",
       "  'email': 'si.ling@gmail.com',\n",
       "  'password': 'siling1234'},\n",
       " 'Bukit Timah': {'username': 'Bukit Timah',\n",
       "  'email': 'bukit.timah@gmail.com',\n",
       "  'password': 'bukittimah1234'},\n",
       " 'Kembangan': {'username': 'Kembangan',\n",
       "  'email': 'kembangan@gmail.com',\n",
       "  'password': 'kembangan1234'},\n",
       " 'Stamford': {'username': 'Stamford',\n",
       "  'email': 'stamford@gmail.com',\n",
       "  'password': 'stamford1234'},\n",
       " 'Zhangde': {'username': 'Zhangde',\n",
       "  'email': 'zhangde@gmail.com',\n",
       "  'password': 'zhangde1234'},\n",
       " 'Kranji': {'username': 'Kranji',\n",
       "  'email': 'kranji@gmail.com',\n",
       "  'password': 'kranji1234'},\n",
       " 'Peirce': {'username': 'Peirce',\n",
       "  'email': 'peirce@gmail.com',\n",
       "  'password': 'peirce1234'},\n",
       " 'Hong Kah': {'username': 'Hong Kah',\n",
       "  'email': 'hong.kah@gmail.com',\n",
       "  'password': 'hongkah1234'},\n",
       " 'Dhoby Ghaut': {'username': 'Dhoby Ghaut',\n",
       "  'email': 'dhoby.ghaut@gmail.com',\n",
       "  'password': 'dhobyghaut1234'},\n",
       " 'Marsiling': {'username': 'Marsiling',\n",
       "  'email': 'marsiling@gmail.com',\n",
       "  'password': 'marsiling1234'},\n",
       " 'Chongzheng': {'username': 'Chongzheng',\n",
       "  'email': 'chongzheng@gmail.com',\n",
       "  'password': 'chongzheng1234'},\n",
       " 'Petir': {'username': 'Petir',\n",
       "  'email': 'petir@gmail.com',\n",
       "  'password': 'petir1234'},\n",
       " 'Dunearn': {'username': 'Dunearn',\n",
       "  'email': 'dunearn@gmail.com',\n",
       "  'password': 'dunearn1234'},\n",
       " 'Defu': {'username': 'Defu',\n",
       "  'email': 'defu@gmail.com',\n",
       "  'password': 'defu1234'},\n",
       " 'Bukit View': {'username': 'Bukit View',\n",
       "  'email': 'bukit.view@gmail.com',\n",
       "  'password': 'bukitview1234'},\n",
       " 'Coral': {'username': 'Coral',\n",
       "  'email': 'coral@gmail.com',\n",
       "  'password': 'coral1234'},\n",
       " 'Blangah Rise': {'username': 'Blangah Rise',\n",
       "  'email': 'blangah.rise@gmail.com',\n",
       "  'password': 'blangahrise1234'},\n",
       " 'Marina South': {'username': 'Marina South',\n",
       "  'email': 'marina.south@gmail.com',\n",
       "  'password': 'marinasouth1234'},\n",
       " 'Elias': {'username': 'Elias',\n",
       "  'email': 'elias@gmail.com',\n",
       "  'password': 'elias1234'},\n",
       " 'Townsville': {'username': 'Townsville',\n",
       "  'email': 'townsville@gmail.com',\n",
       "  'password': 'townsville1234'},\n",
       " 'Nibong': {'username': 'Nibong',\n",
       "  'email': 'nibong@gmail.com',\n",
       "  'password': 'nibong1234'},\n",
       " 'Farmway': {'username': 'Farmway',\n",
       "  'email': 'farmway@gmail.com',\n",
       "  'password': 'farmway1234'},\n",
       " 'Serangoon': {'username': 'Serangoon',\n",
       "  'email': 'serangoon@gmail.com',\n",
       "  'password': 'serangoon1234'},\n",
       " 'Pioneer': {'username': 'Pioneer',\n",
       "  'email': 'pioneer@gmail.com',\n",
       "  'password': 'pioneer1234'},\n",
       " 'Nanyang': {'username': 'Nanyang',\n",
       "  'email': 'nanyang@gmail.com',\n",
       "  'password': 'nanyang1234'},\n",
       " 'Greenridge': {'username': 'Greenridge',\n",
       "  'email': 'greenridge@gmail.com',\n",
       "  'password': 'greenridge1234'},\n",
       " 'Xingnan': {'username': 'Xingnan',\n",
       "  'email': 'xingnan@gmail.com',\n",
       "  'password': 'xingnan1234'},\n",
       " 'White Sands': {'username': 'White Sands',\n",
       "  'email': 'white.sands@gmail.com',\n",
       "  'password': 'whitesands1234'},\n",
       " 'Hillgrove': {'username': 'Hillgrove',\n",
       "  'email': 'hillgrove@gmail.com',\n",
       "  'password': 'hillgrove1234'},\n",
       " 'Somerset': {'username': 'Somerset',\n",
       "  'email': 'somerset@gmail.com',\n",
       "  'password': 'somerset1234'},\n",
       " 'Boon Lay': {'username': 'Boon Lay',\n",
       "  'email': 'boon.lay@gmail.com',\n",
       "  'password': 'boonlay1234'},\n",
       " 'Napier': {'username': 'Napier',\n",
       "  'email': 'napier@gmail.com',\n",
       "  'password': 'napier1234'},\n",
       " 'Junyuan': {'username': 'Junyuan',\n",
       "  'email': 'junyuan@gmail.com',\n",
       "  'password': 'junyuan1234'},\n",
       " 'Commonwealth': {'username': 'Commonwealth',\n",
       "  'email': 'commonwealth@gmail.com',\n",
       "  'password': 'commonwealth1234'},\n",
       " 'Jurong West': {'username': 'Jurong West',\n",
       "  'email': 'jurong.west@gmail.com',\n",
       "  'password': 'jurongwest1234'},\n",
       " 'Bras Basah': {'username': 'Bras Basah',\n",
       "  'email': 'bras.basah@gmail.com',\n",
       "  'password': 'brasbasah1234'},\n",
       " 'Redhill': {'username': 'Redhill',\n",
       "  'email': 'redhill@gmail.com',\n",
       "  'password': 'redhill1234'},\n",
       " 'Layar': {'username': 'Layar',\n",
       "  'email': 'layar@gmail.com',\n",
       "  'password': 'layar1234'},\n",
       " 'Yio Chu Kang': {'username': 'Yio Chu Kang',\n",
       "  'email': 'yio.chu.kang@gmail.com',\n",
       "  'password': 'yiochukang1234'},\n",
       " 'Bugis': {'username': 'Bugis',\n",
       "  'email': 'bugis@gmail.com',\n",
       "  'password': 'bugis1234'},\n",
       " 'Woodlands': {'username': 'Woodlands',\n",
       "  'email': 'woodlands@gmail.com',\n",
       "  'password': 'woodlands1234'},\n",
       " 'Rulang': {'username': 'Rulang',\n",
       "  'email': 'rulang@gmail.com',\n",
       "  'password': 'rulang1234'},\n",
       " 'Bukit Merah': {'username': 'Bukit Merah',\n",
       "  'email': 'bukit.merah@gmail.com',\n",
       "  'password': 'bukitmerah1234'},\n",
       " 'Rivervale': {'username': 'Rivervale',\n",
       "  'email': 'rivervale@gmail.com',\n",
       "  'password': 'rivervale1234'},\n",
       " 'Gek Poh': {'username': 'Gek Poh',\n",
       "  'email': 'gek.poh@gmail.com',\n",
       "  'password': 'gekpoh1234'},\n",
       " \"St. Andrew's\": {'username': \"St. Andrew's\",\n",
       "  'email': \"st..andrew's@gmail.com\",\n",
       "  'password': \"st.andrew's1234\"},\n",
       " 'Changkat': {'username': 'Changkat',\n",
       "  'email': 'changkat@gmail.com',\n",
       "  'password': 'changkat1234'},\n",
       " 'Clarke Quay': {'username': 'Clarke Quay',\n",
       "  'email': 'clarke.quay@gmail.com',\n",
       "  'password': 'clarkequay1234'},\n",
       " 'Rumbia': {'username': 'Rumbia',\n",
       "  'email': 'rumbia@gmail.com',\n",
       "  'password': 'rumbia1234'},\n",
       " 'Da Qiao': {'username': 'Da Qiao',\n",
       "  'email': 'da.qiao@gmail.com',\n",
       "  'password': 'daqiao1234'},\n",
       " 'Potong Pasir': {'username': 'Potong Pasir',\n",
       "  'email': 'potong.pasir@gmail.com',\n",
       "  'password': 'potongpasir1234'},\n",
       " 'Clementi': {'username': 'Clementi',\n",
       "  'email': 'clementi@gmail.com',\n",
       "  'password': 'clementi1234'},\n",
       " 'Hua Yi': {'username': 'Hua Yi',\n",
       "  'email': 'hua.yi@gmail.com',\n",
       "  'password': 'huayi1234'},\n",
       " 'Beacon': {'username': 'Beacon',\n",
       "  'email': 'beacon@gmail.com',\n",
       "  'password': 'beacon1234'},\n",
       " 'Teck Lee': {'username': 'Teck Lee',\n",
       "  'email': 'teck.lee@gmail.com',\n",
       "  'password': 'tecklee1234'},\n",
       " 'Yuying': {'username': 'Yuying',\n",
       "  'email': 'yuying@gmail.com',\n",
       "  'password': 'yuying1234'},\n",
       " 'Ang Mo Kio': {'username': 'Ang Mo Kio',\n",
       "  'email': 'ang.mo.kio@gmail.com',\n",
       "  'password': 'angmokio1234'},\n",
       " 'Lorong Chuan': {'username': 'Lorong Chuan',\n",
       "  'email': 'lorong.chuan@gmail.com',\n",
       "  'password': 'lorongchuan1234'},\n",
       " 'Tai Seng': {'username': 'Tai Seng',\n",
       "  'email': 'tai.seng@gmail.com',\n",
       "  'password': 'taiseng1234'},\n",
       " 'New Town': {'username': 'New Town',\n",
       "  'email': 'new.town@gmail.com',\n",
       "  'password': 'newtown1234'},\n",
       " 'Stadium': {'username': 'Stadium',\n",
       "  'email': 'stadium@gmail.com',\n",
       "  'password': 'stadium1234'},\n",
       " 'HarbourFront': {'username': 'HarbourFront',\n",
       "  'email': 'harbourfront@gmail.com',\n",
       "  'password': 'harbourfront1234'},\n",
       " 'Rochor': {'username': 'Rochor',\n",
       "  'email': 'rochor@gmail.com',\n",
       "  'password': 'rochor1234'},\n",
       " 'Kupang': {'username': 'Kupang',\n",
       "  'email': 'kupang@gmail.com',\n",
       "  'password': 'kupang1234'},\n",
       " 'Yu Neng': {'username': 'Yu Neng',\n",
       "  'email': 'yu.neng@gmail.com',\n",
       "  'password': 'yuneng1234'},\n",
       " 'Tanjong Rhu': {'username': 'Tanjong Rhu',\n",
       "  'email': 'tanjong.rhu@gmail.com',\n",
       "  'password': 'tanjongrhu1234'},\n",
       " 'Jurongville': {'username': 'Jurongville',\n",
       "  'email': 'jurongville@gmail.com',\n",
       "  'password': 'jurongville1234'},\n",
       " 'Pei Hwa': {'username': 'Pei Hwa',\n",
       "  'email': 'pei.hwa@gmail.com',\n",
       "  'password': 'peihwa1234'},\n",
       " 'Phoenix': {'username': 'Phoenix',\n",
       "  'email': 'phoenix@gmail.com',\n",
       "  'password': 'phoenix1234'},\n",
       " 'Huamin': {'username': 'Huamin',\n",
       "  'email': 'huamin@gmail.com',\n",
       "  'password': 'huamin1234'},\n",
       " 'Marina Bay': {'username': 'Marina Bay',\n",
       "  'email': 'marina.bay@gmail.com',\n",
       "  'password': 'marinabay1234'},\n",
       " 'Anchor Green': {'username': 'Anchor Green',\n",
       "  'email': 'anchor.green@gmail.com',\n",
       "  'password': 'anchorgreen1234'},\n",
       " 'Anderson': {'username': 'Anderson',\n",
       "  'email': 'anderson@gmail.com',\n",
       "  'password': 'anderson1234'},\n",
       " 'Bowen': {'username': 'Bowen',\n",
       "  'email': 'bowen@gmail.com',\n",
       "  'password': 'bowen1234'},\n",
       " 'Canberra': {'username': 'Canberra',\n",
       "  'email': 'canberra@gmail.com',\n",
       "  'password': 'canberra1234'},\n",
       " 'Bishan': {'username': 'Bishan',\n",
       "  'email': 'bishan@gmail.com',\n",
       "  'password': 'bishan1234'},\n",
       " 'Punggol View': {'username': 'Punggol View',\n",
       "  'email': 'punggol.view@gmail.com',\n",
       "  'password': 'punggolview1234'},\n",
       " 'Bartley': {'username': 'Bartley',\n",
       "  'email': 'bartley@gmail.com',\n",
       "  'password': 'bartley1234'},\n",
       " 'Joo Koon': {'username': 'Joo Koon',\n",
       "  'email': 'joo.koon@gmail.com',\n",
       "  'password': 'jookoon1234'},\n",
       " 'Dunman': {'username': 'Dunman',\n",
       "  'email': 'dunman@gmail.com',\n",
       "  'password': 'dunman1234'},\n",
       " 'West Grove': {'username': 'West Grove',\n",
       "  'email': 'west.grove@gmail.com',\n",
       "  'password': 'westgrove1234'},\n",
       " 'South View': {'username': 'South View',\n",
       "  'email': 'south.view@gmail.com',\n",
       "  'password': 'southview1234'},\n",
       " 'Springleaf': {'username': 'Springleaf',\n",
       "  'email': 'springleaf@gmail.com',\n",
       "  'password': 'springleaf1234'},\n",
       " 'Yew Tee': {'username': 'Yew Tee',\n",
       "  'email': 'yew.tee@gmail.com',\n",
       "  'password': 'yewtee1234'},\n",
       " 'Tengah Park': {'username': 'Tengah Park',\n",
       "  'email': 'tengah.park@gmail.com',\n",
       "  'password': 'tengahpark1234'},\n",
       " 'Simei': {'username': 'Simei',\n",
       "  'email': 'simei@gmail.com',\n",
       "  'password': 'simei1234'},\n",
       " 'Radin Mas': {'username': 'Radin Mas',\n",
       "  'email': 'radin.mas@gmail.com',\n",
       "  'password': 'radinmas1234'},\n",
       " 'Westwood': {'username': 'Westwood',\n",
       "  'email': 'westwood@gmail.com',\n",
       "  'password': 'westwood1234'},\n",
       " 'Oasis': {'username': 'Oasis',\n",
       "  'email': 'oasis@gmail.com',\n",
       "  'password': 'oasis1234'},\n",
       " 'Kallang': {'username': 'Kallang',\n",
       "  'email': 'kallang@gmail.com',\n",
       "  'password': 'kallang1234'},\n",
       " 'Jurong East': {'username': 'Jurong East',\n",
       "  'email': 'jurong.east@gmail.com',\n",
       "  'password': 'jurongeast1234'},\n",
       " 'Sumang': {'username': 'Sumang',\n",
       "  'email': 'sumang@gmail.com',\n",
       "  'password': 'sumang1234'},\n",
       " 'Katong Park': {'username': 'Katong Park',\n",
       "  'email': 'katong.park@gmail.com',\n",
       "  'password': 'katongpark1234'},\n",
       " 'Expo': {'username': 'Expo',\n",
       "  'email': 'expo@gmail.com',\n",
       "  'password': 'expo1234'},\n",
       " 'Meridian': {'username': 'Meridian',\n",
       "  'email': 'meridian@gmail.com',\n",
       "  'password': 'meridian1234'},\n",
       " 'Punggol': {'username': 'Punggol',\n",
       "  'email': 'punggol@gmail.com',\n",
       "  'password': 'punggol1234'},\n",
       " 'Paya Lebar': {'username': 'Paya Lebar',\n",
       "  'email': 'paya.lebar@gmail.com',\n",
       "  'password': 'payalebar1234'},\n",
       " 'Northoaks': {'username': 'Northoaks',\n",
       "  'email': 'northoaks@gmail.com',\n",
       "  'password': 'northoaks1234'},\n",
       " 'Keppel': {'username': 'Keppel',\n",
       "  'email': 'keppel@gmail.com',\n",
       "  'password': 'keppel1234'},\n",
       " 'Peiying': {'username': 'Peiying',\n",
       "  'email': 'peiying@gmail.com',\n",
       "  'password': 'peiying1234'},\n",
       " 'Gongshang': {'username': 'Gongshang',\n",
       "  'email': 'gongshang@gmail.com',\n",
       "  'password': 'gongshang1234'},\n",
       " 'Qihua': {'username': 'Qihua',\n",
       "  'email': 'qihua@gmail.com',\n",
       "  'password': 'qihua1234'},\n",
       " 'Lakeside': {'username': 'Lakeside',\n",
       "  'email': 'lakeside@gmail.com',\n",
       "  'password': 'lakeside1234'},\n",
       " 'Deyi': {'username': 'Deyi',\n",
       "  'email': 'deyi@gmail.com',\n",
       "  'password': 'deyi1234'},\n",
       " 'Senja': {'username': 'Senja',\n",
       "  'email': 'senja@gmail.com',\n",
       "  'password': 'senja1234'},\n",
       " 'Kadaloor': {'username': 'Kadaloor',\n",
       "  'email': 'kadaloor@gmail.com',\n",
       "  'password': 'kadaloor1234'},\n",
       " 'Shenton Way': {'username': 'Shenton Way',\n",
       "  'email': 'shenton.way@gmail.com',\n",
       "  'password': 'shentonway1234'},\n",
       " 'Cashew': {'username': 'Cashew',\n",
       "  'email': 'cashew@gmail.com',\n",
       "  'password': 'cashew1234'},\n",
       " 'Teck Whye': {'username': 'Teck Whye',\n",
       "  'email': 'teck.whye@gmail.com',\n",
       "  'password': 'teckwhye1234'},\n",
       " 'Montfort': {'username': 'Montfort',\n",
       "  'email': 'montfort@gmail.com',\n",
       "  'password': 'montfort1234'},\n",
       " 'Upper Changi': {'username': 'Upper Changi',\n",
       "  'email': 'upper.changi@gmail.com',\n",
       "  'password': 'upperchangi1234'},\n",
       " 'Sengkang': {'username': 'Sengkang',\n",
       "  'email': 'sengkang@gmail.com',\n",
       "  'password': 'sengkang1234'},\n",
       " 'Maxwell': {'username': 'Maxwell',\n",
       "  'email': 'maxwell@gmail.com',\n",
       "  'password': 'maxwell1234'},\n",
       " 'Beatty': {'username': 'Beatty',\n",
       "  'email': 'beatty@gmail.com',\n",
       "  'password': 'beatty1234'},\n",
       " 'Xinghua': {'username': 'Xinghua',\n",
       "  'email': 'xinghua@gmail.com',\n",
       "  'password': 'xinghua1234'},\n",
       " 'Nan Hua': {'username': 'Nan Hua',\n",
       "  'email': 'nan.hua@gmail.com',\n",
       "  'password': 'nanhua1234'},\n",
       " 'Palm View': {'username': 'Palm View',\n",
       "  'email': 'palm.view@gmail.com',\n",
       "  'password': 'palmview1234'},\n",
       " 'Outram': {'username': 'Outram',\n",
       "  'email': 'outram@gmail.com',\n",
       "  'password': 'outram1234'},\n",
       " 'Bedok Green': {'username': 'Bedok Green',\n",
       "  'email': 'bedok.green@gmail.com',\n",
       "  'password': 'bedokgreen1234'},\n",
       " 'MacPherson': {'username': 'MacPherson',\n",
       "  'email': 'macpherson@gmail.com',\n",
       "  'password': 'macpherson1234'},\n",
       " 'Jurong Hill': {'username': 'Jurong Hill',\n",
       "  'email': 'jurong.hill@gmail.com',\n",
       "  'password': 'juronghill1234'},\n",
       " 'Alexandra': {'username': 'Alexandra',\n",
       "  'email': 'alexandra@gmail.com',\n",
       "  'password': 'alexandra1234'},\n",
       " 'Bayfront': {'username': 'Bayfront',\n",
       "  'email': 'bayfront@gmail.com',\n",
       "  'password': 'bayfront1234'},\n",
       " 'Elias Park': {'username': 'Elias Park',\n",
       "  'email': 'elias.park@gmail.com',\n",
       "  'password': 'eliaspark1234'},\n",
       " 'Coral Edge': {'username': 'Coral Edge',\n",
       "  'email': 'coral.edge@gmail.com',\n",
       "  'password': 'coraledge1234'},\n",
       " 'East View': {'username': 'East View',\n",
       "  'email': 'east.view@gmail.com',\n",
       "  'password': 'eastview1234'},\n",
       " 'Greendale': {'username': 'Greendale',\n",
       "  'email': 'greendale@gmail.com',\n",
       "  'password': 'greendale1234'},\n",
       " 'City Hall': {'username': 'City Hall',\n",
       "  'email': 'city.hall@gmail.com',\n",
       "  'password': 'cityhall1234'},\n",
       " 'Sungei Kadut': {'username': 'Sungei Kadut',\n",
       "  'email': 'sungei.kadut@gmail.com',\n",
       "  'password': 'sungeikadut1234'},\n",
       " 'Tampines': {'username': 'Tampines',\n",
       "  'email': 'tampines@gmail.com',\n",
       "  'password': 'tampines1234'},\n",
       " 'Xishan': {'username': 'Xishan',\n",
       "  'email': 'xishan@gmail.com',\n",
       "  'password': 'xishan1234'},\n",
       " 'Toh Guan': {'username': 'Toh Guan',\n",
       "  'email': 'toh.guan@gmail.com',\n",
       "  'password': 'tohguan1234'},\n",
       " 'Great World': {'username': 'Great World',\n",
       "  'email': 'great.world@gmail.com',\n",
       "  'password': 'greatworld1234'},\n",
       " 'Cedar': {'username': 'Cedar',\n",
       "  'email': 'cedar@gmail.com',\n",
       "  'password': 'cedar1234'},\n",
       " 'Fuchun': {'username': 'Fuchun',\n",
       "  'email': 'fuchun@gmail.com',\n",
       "  'password': 'fuchun1234'},\n",
       " 'Juying': {'username': 'Juying',\n",
       "  'email': 'juying@gmail.com',\n",
       "  'password': 'juying1234'},\n",
       " 'Pei Tong': {'username': 'Pei Tong',\n",
       "  'email': 'pei.tong@gmail.com',\n",
       "  'password': 'peitong1234'},\n",
       " 'Eunos': {'username': 'Eunos',\n",
       "  'email': 'eunos@gmail.com',\n",
       "  'password': 'eunos1234'},\n",
       " 'Regent': {'username': 'Regent',\n",
       "  'email': 'regent@gmail.com',\n",
       "  'password': 'regent1234'},\n",
       " 'Buangkok': {'username': 'Buangkok',\n",
       "  'email': 'buangkok@gmail.com',\n",
       "  'password': 'buangkok1234'},\n",
       " 'Kent Ridge': {'username': 'Kent Ridge',\n",
       "  'email': 'kent.ridge@gmail.com',\n",
       "  'password': 'kentridge1234'},\n",
       " 'Farrer Park': {'username': 'Farrer Park',\n",
       "  'email': 'farrer.park@gmail.com',\n",
       "  'password': 'farrerpark1234'},\n",
       " 'Soo Teck': {'username': 'Soo Teck',\n",
       "  'email': 'soo.teck@gmail.com',\n",
       "  'password': 'sooteck1234'},\n",
       " 'Unity': {'username': 'Unity',\n",
       "  'email': 'unity@gmail.com',\n",
       "  'password': 'unity1234'},\n",
       " 'Downtown': {'username': 'Downtown',\n",
       "  'email': 'downtown@gmail.com',\n",
       "  'password': 'downtown1234'},\n",
       " 'Angsana': {'username': 'Angsana',\n",
       "  'email': 'angsana@gmail.com',\n",
       "  'password': 'angsana1234'},\n",
       " 'Cantonment': {'username': 'Cantonment',\n",
       "  'email': 'cantonment@gmail.com',\n",
       "  'password': 'cantonment1234'},\n",
       " 'Mattar': {'username': 'Mattar',\n",
       "  'email': 'mattar@gmail.com',\n",
       "  'password': 'mattar1234'},\n",
       " 'Fort Canning': {'username': 'Fort Canning',\n",
       "  'email': 'fort.canning@gmail.com',\n",
       "  'password': 'fortcanning1234'},\n",
       " 'Tongkang': {'username': 'Tongkang',\n",
       "  'email': 'tongkang@gmail.com',\n",
       "  'password': 'tongkang1234'},\n",
       " 'Tuas Link': {'username': 'Tuas Link',\n",
       "  'email': 'tuas.link@gmail.com',\n",
       "  'password': 'tuaslink1234'},\n",
       " 'Yangzheng': {'username': 'Yangzheng',\n",
       "  'email': 'yangzheng@gmail.com',\n",
       "  'password': 'yangzheng1234'},\n",
       " 'Bedok South': {'username': 'Bedok South',\n",
       "  'email': 'bedok.south@gmail.com',\n",
       "  'password': 'bedoksouth1234'},\n",
       " 'Bangkit': {'username': 'Bangkit',\n",
       "  'email': 'bangkit@gmail.com',\n",
       "  'password': 'bangkit1234'},\n",
       " 'Telok Ayer': {'username': 'Telok Ayer',\n",
       "  'email': 'telok.ayer@gmail.com',\n",
       "  'password': 'telokayer1234'},\n",
       " 'Braddell': {'username': 'Braddell',\n",
       "  'email': 'braddell@gmail.com',\n",
       "  'password': 'braddell1234'},\n",
       " 'Bedok': {'username': 'Bedok',\n",
       "  'email': 'bedok@gmail.com',\n",
       "  'password': 'bedok1234'},\n",
       " 'Punggol Cove': {'username': 'Punggol Cove',\n",
       "  'email': 'punggol.cove@gmail.com',\n",
       "  'password': 'punggolcove1234'},\n",
       " 'Sembawang': {'username': 'Sembawang',\n",
       "  'email': 'sembawang@gmail.com',\n",
       "  'password': 'sembawang1234'},\n",
       " 'West Spring': {'username': 'West Spring',\n",
       "  'email': 'west.spring@gmail.com',\n",
       "  'password': 'westspring1234'},\n",
       " 'Yishun Town': {'username': 'Yishun Town',\n",
       "  'email': 'yishun.town@gmail.com',\n",
       "  'password': 'yishuntown1234'},\n",
       " 'Evergreen': {'username': 'Evergreen',\n",
       "  'email': 'evergreen@gmail.com',\n",
       "  'password': 'evergreen1234'},\n",
       " 'Hume': {'username': 'Hume',\n",
       "  'email': 'hume@gmail.com',\n",
       "  'password': 'hume1234'},\n",
       " 'Tanglin': {'username': 'Tanglin',\n",
       "  'email': 'tanglin@gmail.com',\n",
       "  'password': 'tanglin1234'},\n",
       " 'Siglap': {'username': 'Siglap',\n",
       "  'email': 'siglap@gmail.com',\n",
       "  'password': 'siglap1234'},\n",
       " 'Dover': {'username': 'Dover',\n",
       "  'email': 'dover@gmail.com',\n",
       "  'password': 'dover1234'},\n",
       " 'Esplanade': {'username': 'Esplanade',\n",
       "  'email': 'esplanade@gmail.com',\n",
       "  'password': 'esplanade1234'},\n",
       " 'Hillview': {'username': 'Hillview',\n",
       "  'email': 'hillview@gmail.com',\n",
       "  'password': 'hillview1234'},\n",
       " \"St. Hilda's\": {'username': \"St. Hilda's\",\n",
       "  'email': \"st..hilda's@gmail.com\",\n",
       "  'password': \"st.hilda's1234\"},\n",
       " 'East Coast': {'username': 'East Coast',\n",
       "  'email': 'east.coast@gmail.com',\n",
       "  'password': 'eastcoast1234'},\n",
       " 'Fajar': {'username': 'Fajar',\n",
       "  'email': 'fajar@gmail.com',\n",
       "  'password': 'fajar1234'},\n",
       " 'Opera Estate': {'username': 'Opera Estate',\n",
       "  'email': 'opera.estate@gmail.com',\n",
       "  'password': 'operaestate1234'},\n",
       " 'Ubi': {'username': 'Ubi', 'email': 'ubi@gmail.com', 'password': 'ubi1234'},\n",
       " 'Zhonghua': {'username': 'Zhonghua',\n",
       "  'email': 'zhonghua@gmail.com',\n",
       "  'password': 'zhonghua1234'},\n",
       " 'Samudera': {'username': 'Samudera',\n",
       "  'email': 'samudera@gmail.com',\n",
       "  'password': 'samudera1234'},\n",
       " 'Fengshan': {'username': 'Fengshan',\n",
       "  'email': 'fengshan@gmail.com',\n",
       "  'password': 'fengshan1234'},\n",
       " 'Thanggam': {'username': 'Thanggam',\n",
       "  'email': 'thanggam@gmail.com',\n",
       "  'password': 'thanggam1234'},\n",
       " 'Bakau': {'username': 'Bakau',\n",
       "  'email': 'bakau@gmail.com',\n",
       "  'password': 'bakau1234'},\n",
       " 'Bukit Batok': {'username': 'Bukit Batok',\n",
       "  'email': 'bukit.batok@gmail.com',\n",
       "  'password': 'bukitbatok1234'},\n",
       " 'Lianhua': {'username': 'Lianhua',\n",
       "  'email': 'lianhua@gmail.com',\n",
       "  'password': 'lianhua1234'},\n",
       " 'Gul Circle': {'username': 'Gul Circle',\n",
       "  'email': 'gul.circle@gmail.com',\n",
       "  'password': 'gulcircle1234'},\n",
       " 'Horizon': {'username': 'Horizon',\n",
       "  'email': 'horizon@gmail.com',\n",
       "  'password': 'horizon1234'},\n",
       " 'Park View': {'username': 'Park View',\n",
       "  'email': 'park.view@gmail.com',\n",
       "  'password': 'parkview1234'},\n",
       " 'Farrer Road': {'username': 'Farrer Road',\n",
       "  'email': 'farrer.road@gmail.com',\n",
       "  'password': 'farrerroad1234'},\n",
       " 'Tengah': {'username': 'Tengah',\n",
       "  'email': 'tengah@gmail.com',\n",
       "  'password': 'tengah1234'},\n",
       " 'Casuarina': {'username': 'Casuarina',\n",
       "  'email': 'casuarina@gmail.com',\n",
       "  'password': 'casuarina1234'},\n",
       " 'Jurong Pier': {'username': 'Jurong Pier',\n",
       "  'email': 'jurong.pier@gmail.com',\n",
       "  'password': 'jurongpier1234'},\n",
       " 'Ping Yi': {'username': 'Ping Yi',\n",
       "  'email': 'ping.yi@gmail.com',\n",
       "  'password': 'pingyi1234'},\n",
       " 'Innova': {'username': 'Innova',\n",
       "  'email': 'innova@gmail.com',\n",
       "  'password': 'innova1234'},\n",
       " 'Bedok North': {'username': 'Bedok North',\n",
       "  'email': 'bedok.north@gmail.com',\n",
       "  'password': 'bedoknorth1234'},\n",
       " 'Qifa': {'username': 'Qifa',\n",
       "  'email': 'qifa@gmail.com',\n",
       "  'password': 'qifa1234'},\n",
       " 'Tavistock': {'username': 'Tavistock',\n",
       "  'email': 'tavistock@gmail.com',\n",
       "  'password': 'tavistock1234'},\n",
       " 'Mountbatten': {'username': 'Mountbatten',\n",
       "  'email': 'mountbatten@gmail.com',\n",
       "  'password': 'mountbatten1234'},\n",
       " 'Sam Kee': {'username': 'Sam Kee',\n",
       "  'email': 'sam.kee@gmail.com',\n",
       "  'password': 'samkee1234'}}"
      ]
     },
     "execution_count": 156,
     "metadata": {},
     "output_type": "execute_result"
    }
   ],
   "source": [
    "accounts"
   ]
  },
  {
   "cell_type": "code",
   "execution_count": 13,
   "id": "72f7b0ad",
   "metadata": {},
   "outputs": [],
   "source": [
    "def register(acc_data):\n",
    "    r = requests.post(\"http://localhost:4000/user/register\", data=acc_data).json()\n",
    "        \n",
    "def register_all(acc_datas):\n",
    "    for name, acc_data in tqdm(acc_datas.items()):\n",
    "        register(acc_data)"
   ]
  },
  {
   "cell_type": "code",
   "execution_count": 157,
   "id": "f5b8b229",
   "metadata": {},
   "outputs": [],
   "source": [
    "def login(acc_data):\n",
    "    r = requests.post(\"http://localhost:4000/user/login\", data=acc_data).json()\n",
    "    acc_data[\"token\"] = r[\"user\"][\"tokens\"][-1][\"token\"]\n",
    "    \n",
    "def login_all(acc_datas):\n",
    "    for name, acc_data in tqdm(acc_datas.items()):\n",
    "        login(acc_data)"
   ]
  },
  {
   "cell_type": "code",
   "execution_count": 158,
   "id": "15c23a63",
   "metadata": {},
   "outputs": [],
   "source": [
    "def header(acc_data):\n",
    "    return {\"Authorization\": \"Bearer \" + acc_data[\"token\"]}"
   ]
  },
  {
   "cell_type": "code",
   "execution_count": 187,
   "id": "1ade2afa",
   "metadata": {},
   "outputs": [],
   "source": [
    "def me(acc_data):\n",
    "    return requests.post(\"http://localhost:4000/user/me\", headers=header(acc_data)).json()\n",
    "\n",
    "def best(acc_data):\n",
    "    return requests.post(\"http://localhost:4000/user/best\", headers=header(acc_data)).json()\n",
    "\n",
    "def created_notes(acc_data):\n",
    "    return requests.post(\"http://localhost:4000/user/notes/created\", headers=header(acc_data)).json()\n",
    "\n",
    "def published_notes(acc_data):\n",
    "    return requests.post(\"http://localhost:4000/user/notes/published\", headers=header(acc_data)).json()\n",
    "\n",
    "def favourited_notes(acc_data):\n",
    "    return requests.post(\"http://localhost:4000/user/notes/favourited\", headers=header(acc_data)).json()\n",
    "\n",
    "def purchased_notes(acc_data):\n",
    "    return requests.post(\"http://localhost:4000/user/notes/purchased\", headers=header(acc_data)).json()"
   ]
  },
  {
   "cell_type": "code",
   "execution_count": 167,
   "id": "22326f5b",
   "metadata": {},
   "outputs": [],
   "source": [
    "def create(acc_data, note_data):\n",
    "    r = requests.post(\"http://localhost:4000/note/create\",\n",
    "                      data=note_data,\n",
    "                      headers=header(acc_data)).json()\n",
    "    try:\n",
    "        return r[\"note\"][\"_id\"]\n",
    "    except:\n",
    "        print(note_data[\"title\"])\n",
    "\n",
    "def read(acc_data, note_id):\n",
    "    r = requests.post(\"http://localhost:4000/note/read\",\n",
    "                      data={\"noteId\": note_id},\n",
    "                      headers=header(acc_data)).json()\n",
    "    return r\n",
    "\n",
    "def update(acc_data, note_id, title, content):\n",
    "    note_data = {\n",
    "        \"noteId\": note_id,\n",
    "        \"title\": title,\n",
    "        \"content\": content\n",
    "    }\n",
    "    r = requests.post(\"http://localhost:4000/note/update\",\n",
    "                      data=note_data,\n",
    "                      headers=header(acc_data)).json()\n",
    "    return r[\"note\"][\"_id\"]\n",
    "\n",
    "def delete(acc_data, note_id):\n",
    "    r = requests.post(\"http://localhost:4000/note/delete\",\n",
    "                      data={\"noteId\": note_id},\n",
    "                      headers=header(acc_data)).json()\n",
    "    return r\n",
    "\n",
    "def publish(acc_data, note_id):\n",
    "    try:\n",
    "        r = requests.post(\"http://localhost:4000/note/publish\",\n",
    "                          data={\"noteId\": note_id},\n",
    "                          headers=header(acc_data)).json()\n",
    "    except:\n",
    "        return None\n",
    "    try:\n",
    "        return r[\"note\"][\"_id\"]\n",
    "    except:\n",
    "        print(note_id)\n",
    "\n",
    "def create_publish(acc_data, note_data):\n",
    "    note_id = create(acc_data, note_data)\n",
    "    return publish(acc_data, note_id)\n",
    "\n",
    "def create_publish_all(acc_datas, note_datas):\n",
    "    items = list(acc_datas.items())\n",
    "    for note_data in tqdm(note_datas):\n",
    "        acc_data = random.choice(items)[1]\n",
    "        create_publish(acc_data, note_data)\n",
    "\n",
    "def search(acc_data, search_term, page=1):\n",
    "    r = requests.post(\"http://localhost:4000/note/search\",\n",
    "                      data={\"searchTerm\": search_term, \"page\": page},\n",
    "                      headers=header(acc_data)).json()\n",
    "    return r"
   ]
  },
  {
   "cell_type": "code",
   "execution_count": 175,
   "id": "3fbea822",
   "metadata": {},
   "outputs": [],
   "source": [
    "def upvote(acc_data, note_id):\n",
    "    try:\n",
    "        r = requests.post(\"http://localhost:4000/note/upvote\",\n",
    "                          data={\"noteId\": note_id},\n",
    "                          headers=header(acc_data)).json()\n",
    "        return r\n",
    "    except:\n",
    "        return None\n",
    "    \n",
    "def downvote(acc_data, note_id):\n",
    "    try:\n",
    "        r = requests.post(\"http://localhost:4000/note/downvote\",\n",
    "                          data={\"noteId\": note_id},\n",
    "                          headers=header(acc_data)).json()\n",
    "        return r\n",
    "    except:\n",
    "        return None\n",
    "    \n",
    "def favourite(acc_data, note_id):\n",
    "    try:\n",
    "        r = requests.post(\"http://localhost:4000/note/favourite\",\n",
    "                          data={\"noteId\": note_id},\n",
    "                          headers=header(acc_data)).json()\n",
    "    except:\n",
    "        return None"
   ]
  },
  {
   "cell_type": "code",
   "execution_count": 162,
   "id": "22a695ae",
   "metadata": {},
   "outputs": [],
   "source": [
    "def vote_review(acc_data, review_id):\n",
    "    try:\n",
    "        r = requests.post(\"http://localhost:4000/review/upvote\",\n",
    "                          data={\"reviewId\": review_id},\n",
    "                          headers=header(acc_data)).json()\n",
    "    except:\n",
    "        return None\n",
    "\n",
    "def review(acc_data, note_id, content):\n",
    "    try:\n",
    "        r = requests.post(\"http://localhost:4000/review/create\",\n",
    "                          data={\"noteId\": note_id, \"content\": content},\n",
    "                          headers=header(acc_data)).json()\n",
    "        return r[\"review\"][\"_id\"]\n",
    "    except:\n",
    "        return None"
   ]
  },
  {
   "cell_type": "code",
   "execution_count": 255,
   "id": "f866cabd",
   "metadata": {},
   "outputs": [],
   "source": [
    "login(accounts[\"Gul Circle\"])"
   ]
  },
  {
   "cell_type": "code",
   "execution_count": 256,
   "id": "f71b4704",
   "metadata": {},
   "outputs": [],
   "source": [
    "c = created_notes(accounts[\"Gul Circle\"])\n",
    "f = favourited_notes(accounts[\"Gul Circle\"])\n",
    "p = purchased_notes(accounts[\"Gul Circle\"])"
   ]
  },
  {
   "cell_type": "code",
   "execution_count": 264,
   "id": "6382afde",
   "metadata": {},
   "outputs": [
    {
     "data": {
      "text/plain": [
       "dict_keys(['published', 'unpublished'])"
      ]
     },
     "execution_count": 264,
     "metadata": {},
     "output_type": "execute_result"
    }
   ],
   "source": [
    "c.keys()"
   ]
  },
  {
   "cell_type": "code",
   "execution_count": 153,
   "id": "59362173",
   "metadata": {},
   "outputs": [
    {
     "name": "stdout",
     "output_type": "stream",
     "text": [
      "Gul Circle\n",
      "Gul Circle\n",
      "Gul Circle\n",
      "Gul Circle\n",
      "Gul Circle\n",
      "Gul Circle\n",
      "Gul Circle\n",
      "Gul Circle\n",
      "Gul Circle\n",
      "Gul Circle\n",
      "Gul Circle\n",
      "Gul Circle\n"
     ]
    }
   ],
   "source": [
    "for n in gc_notes[\"notes\"][\"notes\"]:\n",
    "    print(n[\"userId\"][\"username\"])"
   ]
  },
  {
   "cell_type": "code",
   "execution_count": 62,
   "id": "5d4234da",
   "metadata": {},
   "outputs": [
    {
     "name": "stderr",
     "output_type": "stream",
     "text": [
      "100%|██████████| 309/309 [00:29<00:00, 10.60it/s]\n"
     ]
    }
   ],
   "source": [
    "# register_all(accounts)\n",
    "login_all(accounts)"
   ]
  },
  {
   "cell_type": "code",
   "execution_count": 21,
   "id": "c8cc1563",
   "metadata": {},
   "outputs": [
    {
     "name": "stderr",
     "output_type": "stream",
     "text": [
      "100%|██████████| 470/470 [01:25<00:00,  5.52it/s]\n"
     ]
    }
   ],
   "source": [
    "create_publish_all(accounts, note_datas)"
   ]
  },
  {
   "cell_type": "code",
   "execution_count": 72,
   "id": "79210533",
   "metadata": {},
   "outputs": [],
   "source": [
    "published = []\n",
    "n = 1\n",
    "search_results = [\"\"]\n",
    "while len(search_results) > 0:\n",
    "    search_results = search(accounts[\"Segar\"], \"\", n)[\"searchResults\"]\n",
    "    for search_result in search_results:\n",
    "        published.append(search_result[\"_id\"])\n",
    "    n += 1"
   ]
  },
  {
   "cell_type": "code",
   "execution_count": 23,
   "id": "5d147f93",
   "metadata": {},
   "outputs": [
    {
     "name": "stderr",
     "output_type": "stream",
     "text": [
      "100%|██████████| 470/470 [04:41<00:00,  1.67it/s]\n"
     ]
    }
   ],
   "source": [
    "items = accounts.items()\n",
    "for note_id in tqdm(published):\n",
    "    num_upvotes = int((random.randint(0, len(accounts)) ** 3) / (len(accounts) ** 2.5))\n",
    "    upvotes = random.sample(items, num_upvotes)\n",
    "    for upvote_data in upvotes:\n",
    "        upvote(upvote_data[1], note_id)\n",
    "    num_downvotes = int(((random.randint(0, len(accounts))/4) ** 3) / (len(accounts) ** 2.5))\n",
    "    downvotes = random.sample(items, num_downvotes)\n",
    "    for downvote_data in downvotes:\n",
    "        downvote(downvote_data[1], note_id)\n",
    "    num_favourites = int(num_upvotes * random.randint(0, len(accounts)) / len(accounts))\n",
    "    favourites = random.sample(items, num_favourites)\n",
    "    for favourite_data in favourites:\n",
    "        favourite(favourite_data[1], note_id)"
   ]
  },
  {
   "cell_type": "code",
   "execution_count": 67,
   "id": "cd181d47",
   "metadata": {},
   "outputs": [],
   "source": [
    "published_voted = []\n",
    "n = 1\n",
    "search_results = [\"\"]\n",
    "while len(search_results) > 0:\n",
    "    search_results = search(accounts[\"Segar\"], \"\", n)[\"searchResults\"]\n",
    "    for search_result in search_results:\n",
    "        published_voted.append((search_result[\"title\"], search_result[\"_id\"]))\n",
    "    n += 1"
   ]
  },
  {
   "cell_type": "code",
   "execution_count": 25,
   "id": "3ac2aa8b",
   "metadata": {},
   "outputs": [],
   "source": [
    "note_datas_dict = {}\n",
    "for note_data in note_datas:\n",
    "    note_datas_dict[note_data[\"title\"]] = note_data"
   ]
  },
  {
   "cell_type": "code",
   "execution_count": 105,
   "id": "e3b2bf4d",
   "metadata": {},
   "outputs": [],
   "source": [
    "values = list(accounts.values())"
   ]
  },
  {
   "cell_type": "code",
   "execution_count": 68,
   "id": "3a87eac4",
   "metadata": {},
   "outputs": [
    {
     "name": "stderr",
     "output_type": "stream",
     "text": [
      "564it [00:23, 23.51it/s]\n"
     ]
    }
   ],
   "source": [
    "for i, note_data in tqdm(enumerate(published_voted)):\n",
    "    if i < len(published_voted) / 5:\n",
    "        old_note_data = note_datas_dict[note_data[0]]\n",
    "        old_note_data[\"forkOf\"] = note_data[1]\n",
    "        user = random.choice(values)\n",
    "        create_publish(user, old_note_data)"
   ]
  },
  {
   "cell_type": "code",
   "execution_count": 69,
   "id": "5e61280e",
   "metadata": {},
   "outputs": [],
   "source": [
    "published_forked = []\n",
    "n = 1\n",
    "search_results = [\"\"]\n",
    "while len(search_results) > 0:\n",
    "    search_results = search(accounts[\"Segar\"], \"\", n)[\"searchResults\"]\n",
    "    for search_result in search_results:\n",
    "        if \"forkOf\" in search_result:\n",
    "            published_forked.append(search_result[\"_id\"])\n",
    "    n += 1"
   ]
  },
  {
   "cell_type": "code",
   "execution_count": 48,
   "id": "5b67bb1d",
   "metadata": {},
   "outputs": [
    {
     "data": {
      "text/plain": [
       "88"
      ]
     },
     "execution_count": 48,
     "metadata": {},
     "output_type": "execute_result"
    }
   ],
   "source": [
    "len(published_forked)"
   ]
  },
  {
   "cell_type": "code",
   "execution_count": 70,
   "id": "c1a06586",
   "metadata": {},
   "outputs": [
    {
     "name": "stderr",
     "output_type": "stream",
     "text": [
      "100%|██████████| 131/131 [02:07<00:00,  1.02it/s]\n"
     ]
    }
   ],
   "source": [
    "items = accounts.items()\n",
    "for note_id in tqdm(published_forked):\n",
    "    num_upvotes = int((random.randint(0, len(accounts)) ** 3.1) / (len(accounts) ** 2.5))\n",
    "    upvotes = random.sample(items, num_upvotes)\n",
    "    for upvote_data in upvotes:\n",
    "        upvote(upvote_data[1], note_id)\n",
    "    num_downvotes = int(((random.randint(0, len(accounts))/4) ** 3) / (len(accounts) ** 2.5))\n",
    "    downvotes = random.sample(items, num_downvotes)\n",
    "    for downvote_data in downvotes:\n",
    "        downvote(downvote_data[1], note_id)\n",
    "    num_favourites = int(num_upvotes * random.randint(0, len(accounts)) / len(accounts))\n",
    "    favourites = random.sample(items, num_favourites)\n",
    "    for favourite_data in favourites:\n",
    "        favourite(favourite_data[1], note_id)"
   ]
  },
  {
   "cell_type": "code",
   "execution_count": 33,
   "id": "bdda7d11",
   "metadata": {},
   "outputs": [],
   "source": [
    "%store -r text\n",
    "reviews = [line[1:] for line in text.split(\"\\n\") if \".\" in line and line[0] == \" \"]"
   ]
  },
  {
   "cell_type": "code",
   "execution_count": 65,
   "id": "477d37f5",
   "metadata": {},
   "outputs": [
    {
     "name": "stdout",
     "output_type": "stream",
     "text": [
      "{'noteId': '62d8c0846f348231cf14dbf4', 'title': 'Onnx', 'dateLastUpdated': '2022-07-21T02:57:08.167Z', 'dateCreated': '2022-07-21T02:57:08.167Z', 'votes': 138, 'favourites': 62, 'tier': 'gold', 'price': 4, 'reviewCount': 0, 'isCheatsheet': False, 'username': 'Yuying', 'isFavourited': False, 'isLocked': True, 'voteStatus': 'no vote', 'reviews': [], 'err': 'Need to purchase', 'preview': ['- SPDX-License-Identifier: Apache-2.0 [![Build Status](https://dev.azure.com/onnx-pipelines/onnx/_apis/build/status/Windows-CI?branchName=main)](https://dev.azure.com/onnx-pipelines/onnx/_build/latest?definitionId=5&branchName=main)', '[![Build Status](https://dev.azure.com/onnx-pipelines/onnx/_apis/build/status/Linux-CI?branchName=main)](https://dev.azure.com/onnx-pipelines/onnx/_build/latest?definitionId=7&branchName=main)', '[![Build Status](https://dev.azure.com/onnx-pipelines/onnx/_apis/build/status/MacOS-CI?branchName=main)](https://dev.azure.com/onnx-pipelines/onnx/_build/latest?definitionId=6&branchName=main)', '[![CII Best Practices](https://bestpractices.coreinfrastructure.org/projects/3313/badge)](https://bestpractices.coreinfrastructure.org/projects/3313)', '']}\n"
     ]
    }
   ],
   "source": [
    "paid = \"62d8c0846f348231cf14dbf4\"\n",
    "free = \"62d8c0886f348231cf14dce4\"\n",
    "print(read(accounts[\"Segar\"], paid))"
   ]
  },
  {
   "cell_type": "code",
   "execution_count": 109,
   "id": "c2e7ed19",
   "metadata": {},
   "outputs": [
    {
     "name": "stderr",
     "output_type": "stream",
     "text": [
      "677it [00:26, 25.92it/s]\n"
     ]
    }
   ],
   "source": [
    "for i, note_id in tqdm(enumerate(published)):\n",
    "    num_reviews = int((len(published) - i)**50.5/len(published)**50.2)\n",
    "    for _ in range(num_reviews):\n",
    "        user = random.choice(values)\n",
    "        content = random.choice(reviews)\n",
    "        review_id = review(user, note_id, content)\n",
    "        num_upvotes = int((random.randint(0, len(accounts)) ** 3) / (len(accounts) ** 2.5))\n",
    "        for _ in range(num_upvotes):\n",
    "            voter = random.choice(values)\n",
    "            vote_review(voter, review_id)"
   ]
  },
  {
   "cell_type": "code",
   "execution_count": 103,
   "id": "88e17121",
   "metadata": {},
   "outputs": [
    {
     "data": {
      "text/plain": [
       "{'review': {'votes': 0,\n",
       "  'isDeleted': False,\n",
       "  'creditedVote': [],\n",
       "  '_id': '62d90e0abbb415befbbcbd3b',\n",
       "  'content': 'There is some evidence and some details are given.',\n",
       "  'userId': '62d8c0526f348231cf14d143',\n",
       "  'noteId': '62d8c0886f348231cf14dce4',\n",
       "  'dateCreated': '2022-07-21T08:27:54.603Z',\n",
       "  'dateLastUpdated': '2022-07-21T08:27:54.603Z',\n",
       "  '__v': 0}}"
      ]
     },
     "execution_count": 103,
     "metadata": {},
     "output_type": "execute_result"
    }
   ],
   "source": [
    "review(accounts[\"Eunos\"], free, reviews[10])"
   ]
  },
  {
   "cell_type": "code",
   "execution_count": 116,
   "id": "933ede39",
   "metadata": {},
   "outputs": [
    {
     "data": {
      "text/plain": [
       "{'hasPreviousPage': False,\n",
       " 'hasNextPage': True,\n",
       " 'searchResults': [{'_id': '62d8c2196f348231cf154e2d',\n",
       "   'isCheatsheet': False,\n",
       "   'votes': 309,\n",
       "   'favourites': 164,\n",
       "   'reviewCount': 14,\n",
       "   'title': 'Keycloak Documentation',\n",
       "   'userId': {'_id': '62d8c0576f348231cf14d269', 'username': 'Chinatown'},\n",
       "   'length': 2320,\n",
       "   'forkOf': '62d8c0866f348231cf14dc6c',\n",
       "   'dateLastUpdated': '2022-07-21T03:03:53.376Z',\n",
       "   'tier': 'gold',\n",
       "   'price': 4,\n",
       "   'username': 'Chinatown, Gul Circle',\n",
       "   'isFavourited': True,\n",
       "   'isLocked': True,\n",
       "   'voteStatus': 'no vote'},\n",
       "  {'_id': '62d8c2186f348231cf154e03',\n",
       "   'isCheatsheet': False,\n",
       "   'votes': 306,\n",
       "   'favourites': 168,\n",
       "   'reviewCount': 12,\n",
       "   'title': 'Haikus For Codespaces',\n",
       "   'userId': {'_id': '62d8c0606f348231cf14d4bb', 'username': 'Tongkang'},\n",
       "   'length': 203,\n",
       "   'forkOf': '62d8c0a06f348231cf14e350',\n",
       "   'dateLastUpdated': '2022-07-21T03:03:52.849Z',\n",
       "   'tier': 'gold',\n",
       "   'price': 4,\n",
       "   'username': 'Tongkang, Huamin',\n",
       "   'isFavourited': True,\n",
       "   'isLocked': True,\n",
       "   'voteStatus': 'no vote'},\n",
       "  {'_id': '62d8c21a6f348231cf154e81',\n",
       "   'isCheatsheet': False,\n",
       "   'votes': 304,\n",
       "   'favourites': 255,\n",
       "   'reviewCount': 12,\n",
       "   'title': 'Full Blockchain Solidity Course Js',\n",
       "   'userId': {'_id': '62d8c0696f348231cf14d6e3', 'username': 'Kovan'},\n",
       "   'length': 59891,\n",
       "   'forkOf': '62d8c08e6f348231cf14de88',\n",
       "   'dateLastUpdated': '2022-07-21T03:03:54.563Z',\n",
       "   'tier': 'gold',\n",
       "   'price': 4,\n",
       "   'username': 'Kovan, Pei Hwa',\n",
       "   'isFavourited': True,\n",
       "   'isLocked': True,\n",
       "   'voteStatus': 'no vote'},\n",
       "  {'_id': '62d8c2196f348231cf154e1f',\n",
       "   'isCheatsheet': False,\n",
       "   'votes': 303,\n",
       "   'favourites': 267,\n",
       "   'reviewCount': 10,\n",
       "   'title': '1337 Piscine 42',\n",
       "   'userId': {'_id': '62d8c06d6f348231cf14d7f1', 'username': 'Woodlands'},\n",
       "   'length': 726,\n",
       "   'forkOf': '62d8c0966f348231cf14e098',\n",
       "   'dateLastUpdated': '2022-07-21T03:03:53.203Z',\n",
       "   'tier': 'gold',\n",
       "   'price': 4,\n",
       "   'username': 'Woodlands, Segar',\n",
       "   'isFavourited': True,\n",
       "   'isLocked': False,\n",
       "   'voteStatus': 'no vote'},\n",
       "  {'_id': '62d8c2156f348231cf154d07',\n",
       "   'isCheatsheet': False,\n",
       "   'votes': 293,\n",
       "   'favourites': 291,\n",
       "   'reviewCount': 10,\n",
       "   'title': 'Starrocks',\n",
       "   'userId': {'_id': '62d8c05c6f348231cf14d38f', 'username': 'Westwood'},\n",
       "   'length': 5469,\n",
       "   'forkOf': '62d8c0846f348231cf14dc0c',\n",
       "   'dateLastUpdated': '2022-07-21T03:03:49.442Z',\n",
       "   'tier': 'gold',\n",
       "   'price': 4,\n",
       "   'username': 'Westwood, Xingnan',\n",
       "   'isFavourited': True,\n",
       "   'isLocked': True,\n",
       "   'voteStatus': 'no vote'},\n",
       "  {'_id': '62d8c2196f348231cf154e3b',\n",
       "   'isCheatsheet': False,\n",
       "   'votes': 258,\n",
       "   'favourites': 179,\n",
       "   'reviewCount': 8,\n",
       "   'title': 'Haikus For Codespaces',\n",
       "   'userId': {'_id': '62d8c0536f348231cf14d179', 'username': 'Stamford'},\n",
       "   'length': 203,\n",
       "   'forkOf': '62d8c0a06f348231cf14e350',\n",
       "   'dateLastUpdated': '2022-07-21T03:03:53.556Z',\n",
       "   'tier': 'gold',\n",
       "   'price': 4,\n",
       "   'username': 'Stamford, Huamin',\n",
       "   'isFavourited': False,\n",
       "   'isLocked': True,\n",
       "   'voteStatus': 'no vote'},\n",
       "  {'_id': '62d8c2226f348231cf1550b1',\n",
       "   'isCheatsheet': False,\n",
       "   'votes': 256,\n",
       "   'favourites': 214,\n",
       "   'reviewCount': 8,\n",
       "   'title': 'Translated Content',\n",
       "   'userId': {'_id': '62d8c05a6f348231cf14d305', 'username': 'Kallang'},\n",
       "   'length': 3911,\n",
       "   'forkOf': '62d8c0866f348231cf14dc78',\n",
       "   'dateLastUpdated': '2022-07-21T03:04:02.125Z',\n",
       "   'tier': 'gold',\n",
       "   'price': 4,\n",
       "   'username': 'Kallang, Boon Keng',\n",
       "   'isFavourited': True,\n",
       "   'isLocked': True,\n",
       "   'voteStatus': 'no vote'},\n",
       "  {'_id': '62d8c2186f348231cf154dd9',\n",
       "   'isCheatsheet': False,\n",
       "   'votes': 232,\n",
       "   'favourites': 211,\n",
       "   'reviewCount': 8,\n",
       "   'title': 'Sidekiq',\n",
       "   'userId': {'_id': '62d8c0696f348231cf14d6ef', 'username': 'Frontier'},\n",
       "   'length': 3868,\n",
       "   'forkOf': '62d8c08b6f348231cf14ddc8',\n",
       "   'dateLastUpdated': '2022-07-21T03:03:52.253Z',\n",
       "   'tier': 'gold',\n",
       "   'price': 4,\n",
       "   'username': 'Frontier, Petir',\n",
       "   'isFavourited': False,\n",
       "   'isLocked': True,\n",
       "   'voteStatus': 'no vote'},\n",
       "  {'_id': '62d8c2276f348231cf15520f',\n",
       "   'isCheatsheet': False,\n",
       "   'votes': 231,\n",
       "   'favourites': 83,\n",
       "   'reviewCount': 6,\n",
       "   'title': 'Attribution Reporting Api',\n",
       "   'userId': {'_id': '62d8c05a6f348231cf14d30b', 'username': 'Kangkar'},\n",
       "   'length': 4584,\n",
       "   'forkOf': '62d8c0966f348231cf14e080',\n",
       "   'dateLastUpdated': '2022-07-21T03:04:07.131Z',\n",
       "   'tier': 'gold',\n",
       "   'price': 4,\n",
       "   'username': 'Kangkar, River Valley',\n",
       "   'isFavourited': True,\n",
       "   'isLocked': True,\n",
       "   'voteStatus': 'no vote'},\n",
       "  {'_id': '62d8c21a6f348231cf154e73',\n",
       "   'isCheatsheet': False,\n",
       "   'votes': 228,\n",
       "   'favourites': 62,\n",
       "   'reviewCount': 6,\n",
       "   'title': 'Supportarticles Docs',\n",
       "   'userId': {'_id': '62d8c05b6f348231cf14d365', 'username': 'Cheng Lim'},\n",
       "   'length': 373,\n",
       "   'forkOf': '62d8c0bc6f348231cf14ea70',\n",
       "   'dateLastUpdated': '2022-07-21T03:03:54.327Z',\n",
       "   'tier': 'gold',\n",
       "   'price': 4,\n",
       "   'username': 'Cheng Lim, MacPherson',\n",
       "   'isFavourited': True,\n",
       "   'isLocked': False,\n",
       "   'voteStatus': 'no vote'}]}"
      ]
     },
     "execution_count": 116,
     "metadata": {},
     "output_type": "execute_result"
    }
   ],
   "source": [
    "search(accounts[\"Segar\"], \"\")"
   ]
  },
  {
   "cell_type": "code",
   "execution_count": 118,
   "id": "ff209b85",
   "metadata": {},
   "outputs": [
    {
     "data": {
      "text/plain": [
       "309"
      ]
     },
     "execution_count": 118,
     "metadata": {},
     "output_type": "execute_result"
    }
   ],
   "source": [
    "len(accounts)"
   ]
  },
  {
   "cell_type": "code",
   "execution_count": null,
   "id": "03b17e60",
   "metadata": {},
   "outputs": [],
   "source": []
  }
 ],
 "metadata": {
  "kernelspec": {
   "display_name": "Python 3",
   "language": "python",
   "name": "python3"
  },
  "language_info": {
   "codemirror_mode": {
    "name": "ipython",
    "version": 3
   },
   "file_extension": ".py",
   "mimetype": "text/x-python",
   "name": "python",
   "nbconvert_exporter": "python",
   "pygments_lexer": "ipython3",
   "version": "3.8.2"
  }
 },
 "nbformat": 4,
 "nbformat_minor": 5
}
