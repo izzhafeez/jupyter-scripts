{
 "cells": [
  {
   "cell_type": "code",
   "execution_count": 1,
   "metadata": {},
   "outputs": [],
   "source": [
    "from wilcoxon import *"
   ]
  },
  {
   "cell_type": "code",
   "execution_count": 63,
   "metadata": {},
   "outputs": [],
   "source": [
    "site = spiderman.website('https://itazuraneko.neocities.org/grammar/imabi.html')"
   ]
  },
  {
   "cell_type": "code",
   "execution_count": 80,
   "metadata": {},
   "outputs": [],
   "source": [
    "links = []\n",
    "for a in site.site('a',href=re.compile('imabi')):\n",
    "    try:\n",
    "        if '#' not in a['href']:\n",
    "            links.append('https://itazuraneko.neocities.org/grammar/' + a['href'])\n",
    "    except: continue\n",
    "links = links[1:]"
   ]
  },
  {
   "cell_type": "code",
   "execution_count": 81,
   "metadata": {},
   "outputs": [
    {
     "data": {
      "text/plain": [
       "['https://itazuraneko.neocities.org/grammar/imabi/imabi_full.html',\n",
       " 'https://itazuraneko.neocities.org/grammar/imabi/imabi_beginners1.html',\n",
       " 'https://itazuraneko.neocities.org/grammar/imabi/imabi_beginners2.html',\n",
       " 'https://itazuraneko.neocities.org/grammar/imabi/imabi_intermediate1.html',\n",
       " 'https://itazuraneko.neocities.org/grammar/imabi/imabi_intermediate2.html',\n",
       " 'https://itazuraneko.neocities.org/grammar/imabi/imabi_advanced1.html',\n",
       " 'https://itazuraneko.neocities.org/grammar/imabi/imabi_advanced2.html',\n",
       " 'https://itazuraneko.neocities.org/grammar/imabi/imabi_veteran1.html',\n",
       " 'https://itazuraneko.neocities.org/grammar/imabi/imabi_veteran2.html',\n",
       " 'https://itazuraneko.neocities.org/grammar/imabi/imabi_classical.html',\n",
       " 'https://itazuraneko.neocities.org/grammar/imabi/imabi_okinawan_script.html',\n",
       " 'https://itazuraneko.neocities.org/grammar/imabi/imabi_kanji.html']"
      ]
     },
     "execution_count": 81,
     "metadata": {},
     "output_type": "execute_result"
    }
   ],
   "source": [
    "links"
   ]
  },
  {
   "cell_type": "code",
   "execution_count": null,
   "metadata": {},
   "outputs": [],
   "source": []
  }
 ],
 "metadata": {
  "kernelspec": {
   "display_name": "Python 3",
   "language": "python",
   "name": "python3"
  },
  "language_info": {
   "codemirror_mode": {
    "name": "ipython",
    "version": 3
   },
   "file_extension": ".py",
   "mimetype": "text/x-python",
   "name": "python",
   "nbconvert_exporter": "python",
   "pygments_lexer": "ipython3",
   "version": "3.7.2"
  }
 },
 "nbformat": 4,
 "nbformat_minor": 4
}
