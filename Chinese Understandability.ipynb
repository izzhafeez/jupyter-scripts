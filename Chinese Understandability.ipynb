{
 "cells": [
  {
   "cell_type": "code",
   "execution_count": 7,
   "metadata": {},
   "outputs": [],
   "source": [
    "import requests\n",
    "from bs4 import BeautifulSoup as bs\n",
    "import re\n",
    "import json\n",
    "from wilcoxon.spiderman import *\n",
    "from wilcoxon.language import *\n",
    "from wilcoxon.vocab import *\n",
    "import numpy as np\n",
    "import chinese\n",
    "from tqdm import tqdm"
   ]
  },
  {
   "cell_type": "code",
   "execution_count": 4,
   "metadata": {},
   "outputs": [],
   "source": [
    "chineseV = getVocab('Chinese')"
   ]
  },
  {
   "cell_type": "code",
   "execution_count": 12,
   "metadata": {},
   "outputs": [],
   "source": [
    "def chineseUnderstandability(text):\n",
    "\n",
    "    ## converts into simplified characters\n",
    "    text = trySimplified(text.replace(' ',''))\n",
    "\n",
    "    ## creates chinese text parser\n",
    "    analyser = chinese.ChineseAnalyzer()\n",
    "    totalAnaL = analyser.parse(re.sub('[^\\u4e00-\\u9fff]+','',text))\n",
    "\n",
    "    ## evaluates importance and understandability of each token\n",
    "    chineseV['Importance'] = chineseV['Level'].replace({'HSK 1':0.4,'HSK 2':0.6,'HSK 3':0.8, 'HSK 4':1, 'HSK 5':1, 'HSK 6':0.8, 'Important':1, np.nan:0.5})\n",
    "    chineseV['Understandability'] = chineseV['Level'].replace({'HSK 1':1,'HSK 2':1,'HSK 3':1, 'HSK 4':0.9, 'HSK 5':0.8, 'HSK 6':0.7, 'Important':0.8, np.nan:0.5})\n",
    "    \n",
    "    # converts df into dictionary for word-to-score mapping\n",
    "    chineseDict = chineseV[['Word','Importance','Understandability']].drop_duplicates('Word').set_index('Word').to_dict('index')\n",
    "\n",
    "    ## this is to find the characters which should be quite understandable\n",
    "    lowhsk = chineseV[chineseV['Understandability'] > 0.8].copy()\n",
    "    lowhsk['Word'] = lowhsk['Word'].apply(lambda x: list(x))\n",
    "    lowhsk = lowhsk.explode('Word')[['Word','Importance','Understandability']].drop_duplicates('Word').set_index('Word').to_dict('index')\n",
    "    words = chineseV['Word'].unique()\n",
    "\n",
    "    ## \n",
    "    for word in lowhsk:\n",
    "        if len(re.findall('[\\u4e00-\\u9fff]+',word)) > 0:\n",
    "            chineseDict.update({word:lowhsk[word]})\n",
    "\n",
    "    understandability = 0\n",
    "    importance = 0\n",
    "    reinforcedWords = []\n",
    "    newWords = []\n",
    "\n",
    "    for token in list(set(totalAnaL.tokens())):\n",
    "        try:\n",
    "            understandability += chineseDict[token]['Understandability']\n",
    "            importance += chineseDict[token]['Importance']\n",
    "            if chineseDict[token]['Understandability'] < 1 and chineseDict[token]['Importance'] > 0.5:\n",
    "                reinforcedWords.append(token)\n",
    "        except: \n",
    "            understandings = []\n",
    "            for x in token:\n",
    "                try: understandings.append(chineseDict[x]['Understandability'])\n",
    "                except: understandings.append(0)\n",
    "            minUnderstanding = min(understandings)\n",
    "            if minUnderstanding < 0.8: newWords.append(token)\n",
    "\n",
    "    understandability = int(understandability / len(list(set(totalAnaL.tokens()))) * 100)\n",
    "    importance = int(importance / len(list(set(totalAnaL.tokens()))) * 100)\n",
    "    score = importance - understandability\n",
    "\n",
    "    return {'Understandability':understandability,\n",
    "            'Importance':importance,\n",
    "            'Score':score,\n",
    "            'New Words':newWords,\n",
    "            'Text': text}"
   ]
  },
  {
   "cell_type": "code",
   "execution_count": 13,
   "metadata": {},
   "outputs": [
    {
     "data": {
      "text/plain": [
       "{'Understandability': 52,\n",
       " 'Importance': 54,\n",
       " 'Score': 2,\n",
       " 'New Words': ['竹脚',\n",
       "  '妇幼医院',\n",
       "  '药剂师',\n",
       "  '和善',\n",
       "  '早报讯',\n",
       "  '淡马锡',\n",
       "  '保健品',\n",
       "  '未雨绸缪',\n",
       "  '药丸',\n",
       "  '产',\n",
       "  '巴斯夫',\n",
       "  '弱势',\n",
       "  '溶化',\n",
       "  '含在口中',\n",
       "  '含颗',\n",
       "  '遮阳',\n",
       "  '橙色',\n",
       "  '剂量'],\n",
       " 'Text': '（早报讯）淡马锡基金会将发放超过10万瓶维生素D3保健品给低收入者、年长者以及适合服用维生素D的孕妇，协助他们增强免疫力和保持骨骼和肌肉的健康。\\n\\n从3月15日至28日，持橙色和蓝色社保援助计划（CHAS）卡或接受社区援助计划的新加坡人，可到参与的Guardian,Unity或Watsons药局领取维生素D。\\n\\n维生素D对于增强免疫力和保持骨骼和肌肉的健康扮演重要的角色，公众在领取维生素D前，药局内的药剂师也会检查申请者是否适合服用。\\n\\n竹脚妇幼医院和善达社区保健机构（SATACommHealth）则会分别为5000名进行产前护理的孕妇以及1500名弱势年长者提供维生素D保健品。\\n\\n这款维生素D是淡马锡基金会委任德国化工公司巴斯夫（BASF）所研发，含在口中即会溶化。每瓶含100颗药丸，为一名成年人约两个月的剂量。\\n\\n研究显示，虽然晒太阳能帮助人体获得维生素D，但大多数新加坡人由于习惯遮阳，并在疫情期间留在室内，因此出现缺乏维生素D的情况。\\n\\n这是淡马锡关怀基金“未雨绸缪”（StayPrepared）计划下，帮助本地社群在疫情期间，提升紧急事故应对能力的一项措施。'}"
      ]
     },
     "execution_count": 13,
     "metadata": {},
     "output_type": "execute_result"
    }
   ],
   "source": [
    "chineseUnderstandability(\"\"\"（早报讯）淡马锡基金会将发放超过10万瓶维生素D3保健品给低收入者、年长者以及适合服用维生素D的孕妇，协助他们增强免疫力和保持骨骼和肌肉的健康。\n",
    "\n",
    "从3月15日至28日，持橙色和蓝色社保援助计划（CHAS）卡或接受社区援助计划的新加坡人，可到参与的Guardian, Unity或Watsons药局领取维生素D。\n",
    "\n",
    "维生素D对于增强免疫力和保持骨骼和肌肉的健康扮演重要的角色，公众在领取维生素D前，药局内的药剂师也会检查申请者是否适合服用。\n",
    "\n",
    "竹脚妇幼医院和善达社区保健机构（SATA CommHealth）则会分别为5000名进行产前护理的孕妇以及1500名弱势年长者提供维生素D保健品。\n",
    "\n",
    "这款维生素D是淡马锡基金会委任德国化工公司巴斯夫（BASF）所研发，含在口中即会溶化。每瓶含100颗药丸，为一名成年人约两个月的剂量。\n",
    "\n",
    "研究显示，虽然晒太阳能帮助人体获得维生素D，但大多数新加坡人由于习惯遮阳，并在疫情期间留在室内，因此出现缺乏维生素D的情况。  \n",
    "\n",
    "这是淡马锡关怀基金“未雨绸缪”（Stay Prepared）计划下，帮助本地社群在疫情期间，提升紧急事故应对能力的一项措施。\"\"\")"
   ]
  },
  {
   "cell_type": "code",
   "execution_count": null,
   "metadata": {},
   "outputs": [],
   "source": []
  }
 ],
 "metadata": {
  "kernelspec": {
   "display_name": "Python 3",
   "language": "python",
   "name": "python3"
  },
  "language_info": {
   "codemirror_mode": {
    "name": "ipython",
    "version": 3
   },
   "file_extension": ".py",
   "mimetype": "text/x-python",
   "name": "python",
   "nbconvert_exporter": "python",
   "pygments_lexer": "ipython3",
   "version": "3.7.2"
  }
 },
 "nbformat": 4,
 "nbformat_minor": 4
}
