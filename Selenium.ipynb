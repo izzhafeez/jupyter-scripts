{
 "cells": [
  {
   "cell_type": "code",
   "execution_count": 10,
   "metadata": {},
   "outputs": [],
   "source": [
    "from selenium import webdriver\n",
    "import os"
   ]
  },
  {
   "cell_type": "code",
   "execution_count": 14,
   "metadata": {},
   "outputs": [
    {
     "name": "stderr",
     "output_type": "stream",
     "text": [
      "<ipython-input-14-58df79691945>:2: DeprecationWarning: executable_path has been deprecated, please pass in a Service object\n",
      "  driver = webdriver.Chrome(PATH)\n"
     ]
    }
   ],
   "source": [
    "PATH = \"../../Desktop/chromedriver\"\n",
    "driver = webdriver.Chrome(PATH)\n",
    "driver.get(\"https://techwithtim.net\")\n",
    "\n",
    "# Close tab: driver.close()\n",
    "# Close browser: driver.quit()\n",
    "# Get title of website: driver.title"
   ]
  },
  {
   "cell_type": "code",
   "execution_count": null,
   "metadata": {},
   "outputs": [],
   "source": [
    "PATH = \"../../Desktop/chromedriver\"\n",
    "driver = webdriver.Chrome(PATH)\n",
    "driver.get(\"https://localhost:8080/search\")\n",
    "\n",
    "def test_search(search_term):\n",
    "    results = {}\n",
    "    search_bar = driver.find_element_by_id(\"search-bar\")\n",
    "    search_bar.clear()\n",
    "    search_bar.send_keys(search_term)\n",
    "    search_results = driver.find_element_by_class(\"search-result\")\n",
    "    results[\"length_match\"] = len(search_results) == len(find(notes_data, search_term))\n",
    "    \n",
    "    results[\"content_match\"] = {}\n",
    "    results[\"votes_match\"] = {}\n",
    "    results[\"favourites_match\"] = {}\n",
    "    for search_result in search_results:\n",
    "        title = search_result[\"title\"]\n",
    "        note_data = notes_data[title]\n",
    "        results[\"content_match\"][title] = note_data[\"content\"] == search_result[\"content\"]\n",
    "        results[\"votes_match\"][title] = note_data[\"votes\"] == search_result[\"votes\"]\n",
    "        results[\"favourites_match\"][title] = note_data[\"favourites\"] == search_result[\"favourites\"]\n",
    "        \n",
    "    return results"
   ]
  },
  {
   "cell_type": "code",
   "execution_count": null,
   "metadata": {},
   "outputs": [],
   "source": [
    "PATH = \"../../Desktop/chromedriver\"\n",
    "driver = webdriver.Chrome(PATH)\n",
    "driver.get(\"https://localhost:8080/search\")\n",
    "\n",
    "def test_tier(search_term):\n",
    "    results = {}\n",
    "    search_bar = driver.find_element_by_id(\"search-bar\")\n",
    "    search_bar.clear()\n",
    "    search_bar.send_keys(search_term)\n",
    "    search_results = driver.find_element_by_class(\"search-result\")\n",
    "    \n",
    "    results[\"tier_match\"] = {}\n",
    "    for search_result in search_results:\n",
    "        title = search_result[\"title\"]\n",
    "        note_data = notes_data[title]\n",
    "        results[\"tier_match\"][title] = note_data[\"tier\"] == search_result[\"tier\"]\n",
    "        \n",
    "    return results\n",
    "\n",
    "vote_results = test_votes(accounts, note_datas)\n",
    "tier_results = test_tier(\"data\")"
   ]
  },
  {
   "cell_type": "code",
   "execution_count": null,
   "metadata": {},
   "outputs": [],
   "source": [
    "search_terms = [\"data\", \"js\", \"py\", \"geo\"]\n",
    "failed = {search_term: [] for search_term in search_terms}\n",
    "\n",
    "for search_term in search_terms:\n",
    "    results = test_search(search_term)\n",
    "    if not results[\"length_match\"]:\n",
    "        failed[search_term].append(\"length_match\")\n",
    "    if not all(results[\"votes_match\"]):\n",
    "        failed[search_term].append(\"votes_match\")\n",
    "    if not all(results[\"favourites_match\"]):\n",
    "        failed[search_term].append(\"favourites_match\")\n",
    "        \n",
    "failed"
   ]
  },
  {
   "cell_type": "code",
   "execution_count": null,
   "metadata": {},
   "outputs": [],
   "source": [
    "name: dev\n",
    "\n",
    "on:\n",
    "  push:\n",
    "    branches: [ dev ]\n",
    "  pull_request:\n",
    "    branches: [ dev ]\n",
    "\n",
    "jobs:\n",
    "  build:\n",
    "\n",
    "    runs-on: macos-latest\n",
    "    steps:\n",
    "      - uses: actions/checkout@v3\n",
    "\n",
    "      - name: Use Node.js\n",
    "        uses: actions/setup-node@v3\n",
    "        with:\n",
    "          node-version: '12.x'\n",
    "\n",
    "      - run: npm ci\n",
    "        working-directory: ./server/\n",
    "\n",
    "      - run: npm run build --if-present\n",
    "        working-directory: ./server/\n",
    "        \n",
    "      - run: python tests/test-authenticate.py\n",
    "        working-directory: ./server/\n",
    "        \n",
    "      - run: python tests/test-populate.py\n",
    "        working-directory: ./server/\n",
    "        \n",
    "      - run: python tests/test-vote-favourite.py\n",
    "        working-directory: ./server/\n",
    "        \n",
    "      - run: python tests/test-review.py\n",
    "        working-directory: ./server/"
   ]
  }
 ],
 "metadata": {
  "kernelspec": {
   "display_name": "Python 3",
   "language": "python",
   "name": "python3"
  },
  "language_info": {
   "codemirror_mode": {
    "name": "ipython",
    "version": 3
   },
   "file_extension": ".py",
   "mimetype": "text/x-python",
   "name": "python",
   "nbconvert_exporter": "python",
   "pygments_lexer": "ipython3",
   "version": "3.8.2"
  }
 },
 "nbformat": 4,
 "nbformat_minor": 4
}
