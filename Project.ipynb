{
 "cells": [
  {
   "cell_type": "code",
   "execution_count": 2,
   "metadata": {},
   "outputs": [],
   "source": [
    "from PIL import Image, ImageFont, ImageDraw\n",
    "import os\n",
    "import re\n",
    "import math"
   ]
  },
  {
   "cell_type": "code",
   "execution_count": 136,
   "metadata": {},
   "outputs": [],
   "source": [
    "memesRaw = [x for x in os.listdir(\"../Memes\") if \"jpeg\" in x]\n",
    "cropped = []\n",
    "for meme in memesRaw:\n",
    "    name = meme.replace(\"jpeg\",\"png\")\n",
    "    details = (int(meme.split()[0]), re.findall(\"(.*)\\(\",\" \".join(meme.split()[1:]))[0].strip(), re.findall(\"\\((.+)\\)\",meme)[0])\n",
    "    meme = Image.open(f\"../Memes/{meme}\")\n",
    "    width, height = meme.size\n",
    "    minLength = min(meme.size)\n",
    "    meme = meme.crop(((width - minLength) / 2, (height - minLength) / 2, width - (width - minLength) / 2, height - (height - minLength) / 2)).resize((135,135))\n",
    "\n",
    "    template = Image.new('RGBA',(1920,1080),color=(0,0,0,0))\n",
    "    template.paste(meme,(50,50))\n",
    "    draw = ImageDraw.Draw(template)\n",
    "    kbd = ImageFont.truetype(\"Chalkduster.ttf\",35)\n",
    "    draw.text((50, 375),f\"Meme {details[0]}\\n{details[1]}\\n{details[2]}\",(255,255,255),font=kbd)\n",
    "    cropped.append((details,meme))\n",
    "    template.save(f\"../Memes Final/{name}\")\n",
    "    "
   ]
  },
  {
   "cell_type": "code",
   "execution_count": 102,
   "metadata": {},
   "outputs": [],
   "source": [
    "cropped.sort(key=lambda x: x[0][0])\n",
    "chosen1 = cropped[25]\n",
    "chosen2 = cropped[24]\n",
    "template = Image.new('RGBA',(1920,1080),color=(0,0,0,0))\n",
    "template.paste(chosen1[1],(50,50))\n",
    "template.paste(chosen2[1],(1420,50))\n",
    "draw = ImageDraw.Draw(template)\n",
    "kbd = ImageFont.truetype(\"Chalkduster.ttf\",35)\n",
    "draw.text((50, 375),f\"Meme {chosen1[0][0]}\\n{chosen1[0][1]}\\n{chosen1[0][2]}\",(255,255,255),font=kbd)\n",
    "draw.text((1420, 375),f\"Meme {chosen2[0][0]}\\n{chosen2[0][1]}\\n{chosen2[0][2]}\",(255,255,255),font=kbd)"
   ]
  },
  {
   "cell_type": "code",
   "execution_count": 125,
   "metadata": {},
   "outputs": [],
   "source": [
    "target.save(\"../Memes Final/Target.png\")"
   ]
  },
  {
   "cell_type": "code",
   "execution_count": 131,
   "metadata": {},
   "outputs": [],
   "source": [
    "cropped.sort(key=lambda x: x[0][0])\n",
    "thumbnail = Image.open(\"../Memes Final/Memes Raw Thumbnail.png\")\n",
    "thumbnail = thumbnail.resize((1920,1080))\n",
    "target = Image.new('RGBA',(1920,1080),color=(0,0,0,0))\n",
    "# target.paste(thumbnail)\n",
    "for details in cropped:\n",
    "    num = details[0][0] - 1\n",
    "    img = details[1]\n",
    "    target.paste(img,(60 + (num - 10*math.floor(num/10))*180, 90 + math.floor(num/10)*180))"
   ]
  },
  {
   "cell_type": "code",
   "execution_count": 43,
   "metadata": {},
   "outputs": [],
   "source": [
    "# cropped.sort(key=lambda x: x[0][0])\n",
    "thumbnail = Image.open(\"../Recordings/The Road Ahead Raw Thumbnail.png\")\n",
    "# thumbnail = thumbnail.crop((0,90,2700,2000))\n",
    "thumbnail = thumbnail.resize((1920,1270))\n",
    "target = Image.new('RGBA',(1920,1080),color=(0,0,0,0))\n",
    "target.paste(thumbnail)\n",
    "# for details in cropped[:24]:\n",
    "#     num = details[0][0] - 1\n",
    "#     img = details[1]\n",
    "#     target.paste(img,(math.floor(num/8)*135, (num - 8*math.floor(num/8))*135))\n",
    "# for details in cropped[26:]:\n",
    "#     num = details[0][0] - 27\n",
    "#     img = details[1]\n",
    "#     target.paste(img,(1515 + math.floor(num/8)*135, (num - 8*math.floor(num/8))*135))\n",
    "    \n",
    "# target.paste(cropped[24][1],(405,945))\n",
    "# target.paste(cropped[25][1],(1380,945))\n",
    "\n",
    "draw = ImageDraw.Draw(target)\n",
    "kbd = ImageFont.truetype(\"Impact.ttf\",150)\n",
    "msg = \"The Road Ahead\"\n",
    "msg2 = \"NDP 2021\"\n",
    "draw.text((700,200),msg,font=kbd)\n",
    "draw.text((700,500),msg2,font=kbd)"
   ]
  },
  {
   "cell_type": "code",
   "execution_count": 44,
   "metadata": {},
   "outputs": [],
   "source": [
    "target.save(\"../Recordings/The Road Ahead Thumbnail.png\")"
   ]
  },
  {
   "cell_type": "code",
   "execution_count": 28,
   "metadata": {},
   "outputs": [],
   "source": [
    "text = [\"FACED BAGGED EGG\"\n",
    "       ,\"GAGGED FED\"\n",
    "       ,\"EFFACED EDGED DEFACED ABBA\"\n",
    "       ,\"ACE EGG\"\n",
    "       ,\"GAGGED CAGED EGG\"\n",
    "       ,\"DABBED AGE EGG\"\n",
    "       ,\"GAGGED CAB DEAD EGG\"\n",
    "       ,\"BEGGED CABBAGE\"\n",
    "       ,\"BEGGED CAB BAD DEED\"\n",
    "       ,\"CEDED BEEFED CAFE GAG\"\n",
    "       ,\"EFFACED EDGED DEFACED ABBA\"\n",
    "       ,\"GAGA FACADE\"\n",
    "       ,\"GAGA BAG DECADE\"\n",
    "       ,\"FADED ACCEDED EFFACED\"\n",
    "       ,\"CEDED DEAD CAGE GAG\"\n",
    "       ,\"EFFACED EDGED DEFACED ABBA\"\n",
    "       ,\"EFFACED EDGED DEFACED ABBA\"]\n",
    "\n",
    "for ind1,ctext in enumerate(text):\n",
    "    ctext = ctext.replace(\" \",\"\\n\")\n",
    "    for i in range(len(ctext)):\n",
    "        ftext = ctext[:i+1]\n",
    "        target = Image.new('RGBA',(1920,1080),color=(0,0,0,0))\n",
    "        draw = ImageDraw.Draw(target)\n",
    "        kbd = ImageFont.truetype(\"Arial.ttf\",90)\n",
    "        draw.text((75, 375),ftext,(255,255,255),font=kbd)\n",
    "        if ftext[-1] != \"\\n\":\n",
    "            target.save(f\"../ABBA/{str(ind1)}.{str(i)} {ftext}.png\")\n"
   ]
  },
  {
   "cell_type": "code",
   "execution_count": 30,
   "metadata": {},
   "outputs": [
    {
     "name": "stdout",
     "output_type": "stream",
     "text": [
      "FACED BAGGED EGG\n",
      "GAGGED FED\n",
      "EFFACED EDGED DEFACED ABBA\n",
      "ACE EGG\n",
      "GAGGED CAGED EGG\n",
      "DABBED AGE EGG\n",
      "GAGGED CAB DEAD EGG\n",
      "BEGGED CABBAGE\n",
      "BEGGED CAB BAD DEED\n",
      "CEDED BEEFED CAFE GAG\n",
      "EFFACED EDGED DEFACED ABBA\n",
      "GAGA FACADE\n",
      "GAGA BAG DECADE\n",
      "FADED ACCEDED EFFACED\n",
      "CEDED DEAD CAGE GAG\n",
      "EFFACED EDGED DEFACED ABBA\n",
      "EFFACED EDGED DEFACED ABBA\n"
     ]
    }
   ],
   "source": [
    "print(\"\\n\".join(text))"
   ]
  },
  {
   "cell_type": "code",
   "execution_count": 21,
   "metadata": {},
   "outputs": [
    {
     "data": {
      "text/plain": [
       "306"
      ]
     },
     "execution_count": 21,
     "metadata": {},
     "output_type": "execute_result"
    }
   ],
   "source": [
    "sum([len(x) for x in text])"
   ]
  },
  {
   "cell_type": "code",
   "execution_count": 27,
   "metadata": {},
   "outputs": [
    {
     "data": {
      "text/plain": [
       "'\\n'"
      ]
     },
     "execution_count": 27,
     "metadata": {},
     "output_type": "execute_result"
    }
   ],
   "source": [
    "\"hello\\n\"[5]"
   ]
  },
  {
   "cell_type": "code",
   "execution_count": null,
   "metadata": {},
   "outputs": [],
   "source": []
  }
 ],
 "metadata": {
  "kernelspec": {
   "display_name": "Python 3",
   "language": "python",
   "name": "python3"
  },
  "language_info": {
   "codemirror_mode": {
    "name": "ipython",
    "version": 3
   },
   "file_extension": ".py",
   "mimetype": "text/x-python",
   "name": "python",
   "nbconvert_exporter": "python",
   "pygments_lexer": "ipython3",
   "version": "3.8.2"
  }
 },
 "nbformat": 4,
 "nbformat_minor": 4
}
