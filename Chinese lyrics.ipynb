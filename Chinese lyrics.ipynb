{
 "cells": [
  {
   "cell_type": "code",
   "execution_count": 1,
   "metadata": {},
   "outputs": [],
   "source": [
    "import requests\n",
    "from bs4 import BeautifulSoup as bs\n",
    "import re\n",
    "import json\n",
    "from wilcoxon.spiderman import *\n",
    "from wilcoxon.string import *\n",
    "from wilcoxon.vocab import *\n",
    "import numpy as np\n",
    "import chinese\n",
    "from tqdm import tqdm"
   ]
  },
  {
   "cell_type": "code",
   "execution_count": 48,
   "metadata": {},
   "outputs": [],
   "source": [
    "getSheets()\n",
    "chineseV = getVocab('Chinese')"
   ]
  },
  {
   "cell_type": "code",
   "execution_count": 36,
   "metadata": {},
   "outputs": [],
   "source": [
    "def analyseLyrics(link):\n",
    "\n",
    "    try:\n",
    "        site = website(link)\n",
    "        titleArtist = re.split('( By | Pinyin )',site.html('title')[0].get_text())\n",
    "        title = titleArtist[0]\n",
    "        artist = titleArtist[2]\n",
    "\n",
    "        totalL = ''\n",
    "        for trans in site.html(style=\"color: #0000ff;\"):\n",
    "            chineseL = trans.parent.find_previous('p').find_previous('p').get_text()\n",
    "            translitL = trans.parent.find_previous('p').get_text()\n",
    "            transL = trans.get_text()\n",
    "            totalL += chineseL\n",
    "\n",
    "        if len(totalL) == 0:\n",
    "            for a in site.html('p',string=re.compile('[\\u4e00-\\u9fff]+')):\n",
    "                nextText = a.find_next('p').get_text()\n",
    "                if bool(re.match('[a-z]',nextText)):\n",
    "                    totalL += a.get_text()\n",
    "\n",
    "        totalL = trySimplified(totalL.replace(' ',''))\n",
    "\n",
    "        analyser = chinese.ChineseAnalyzer()\n",
    "        totalAnaL = analyser.parse(re.sub('[^\\u4e00-\\u9fff]+','',totalL))\n",
    "\n",
    "        chineseV['Importance'] = chineseV['Level'].replace({'HSK 1':0.4,'HSK 2':0.6,'HSK 3':0.8, 'HSK 4':1, 'HSK 5':1, 'HSK 6':0.8, 'Important':1, np.nan:0.5})\n",
    "        chineseV['Understandability'] = chineseV['Level'].replace({'HSK 1':1,'HSK 2':1,'HSK 3':1, 'HSK 4':0.9, 'HSK 5':0.8, 'HSK 6':0.7, 'Important':0.8, np.nan:0.5})\n",
    "        chineseDict = chineseV[['Word','Importance','Understandability']].drop_duplicates('Word').set_index('Word').to_dict('index')\n",
    "\n",
    "        lowhsk = chineseV[chineseV['Understandability'] > 0.8].copy()\n",
    "        lowhsk['Word'] = lowhsk['Word'].apply(lambda x: list(x))\n",
    "        lowhsk = lowhsk.explode('Word')[['Word','Importance','Understandability']].drop_duplicates('Word').set_index('Word').to_dict('index')\n",
    "        words = chineseV['Word'].unique()\n",
    "\n",
    "        for word in lowhsk:\n",
    "            if len(re.findall('[\\u4e00-\\u9fff]+',word)) > 0:\n",
    "                chineseDict.update({word:lowhsk[word]})\n",
    "\n",
    "        understandability = 0\n",
    "        importance = 0\n",
    "        reinforcedWords = []\n",
    "        newWords = []\n",
    "\n",
    "        for token in list(set(totalAnaL.tokens())):\n",
    "            try:\n",
    "                understandability += chineseDict[token]['Understandability']\n",
    "                importance += chineseDict[token]['Importance']\n",
    "                if chineseDict[token]['Understandability'] < 1 and chineseDict[token]['Importance'] > 0.5:\n",
    "                    reinforcedWords.append(token)\n",
    "            except: \n",
    "                understandings = []\n",
    "                for x in token:\n",
    "                    try: understandings.append(chineseDict[x]['Understandability'])\n",
    "                    except: understandings.append(0)\n",
    "                minUnderstanding = min(understandings)\n",
    "                if minUnderstanding < 0.8: newWords.append(token)\n",
    "\n",
    "        understandability = int(understandability / len(list(set(totalAnaL.tokens()))) * 100)\n",
    "        importance = int(importance / len(list(set(totalAnaL.tokens()))) * 100)\n",
    "        score = importance - understandability\n",
    "        \n",
    "        print(score)\n",
    "\n",
    "        return {'Title':title,\n",
    "                'Artist':artist,\n",
    "                'Understandability':understandability,\n",
    "                'Importance':importance,\n",
    "                'Score':score,\n",
    "                'New Words':newWords,\n",
    "                'Lyrics': totalL,\n",
    "                'Link':link}\n",
    "    except: \n",
    "        return {'Title':'',\n",
    "                'Artist':'',\n",
    "                'Understandability':'',\n",
    "                'Importance':'',\n",
    "                'Score':'',\n",
    "                'New Words':'',\n",
    "                'Lyrics': '',\n",
    "                'Link':link}"
   ]
  },
  {
   "cell_type": "code",
   "execution_count": 12,
   "metadata": {},
   "outputs": [],
   "source": [
    "site = website('https://lyricspinyin.com/')\n",
    "artists = [a['href'] for a in site.html('ul')[3]('a') if a['href'].count('/') > 5]"
   ]
  },
  {
   "cell_type": "code",
   "execution_count": 13,
   "metadata": {},
   "outputs": [
    {
     "name": "stderr",
     "output_type": "stream",
     "text": [
      "100%|██████████| 485/485 [10:12<00:00,  1.26s/it]\n"
     ]
    }
   ],
   "source": [
    "allLinks = []\n",
    "for artist in tqdm(artists):\n",
    "    site = website(artist)\n",
    "    for entry in site.html(class_='entry-title'):\n",
    "        allLinks.append(entry('a')[0]['href'])"
   ]
  },
  {
   "cell_type": "code",
   "execution_count": 37,
   "metadata": {},
   "outputs": [
    {
     "name": "stderr",
     "output_type": "stream",
     "text": [
      "  0%|          | 1/1148 [00:05<1:52:14,  5.87s/it]"
     ]
    },
    {
     "name": "stdout",
     "output_type": "stream",
     "text": [
      "-3\n"
     ]
    },
    {
     "name": "stderr",
     "output_type": "stream",
     "text": [
      "\r",
      "  0%|          | 2/1148 [00:09<1:39:20,  5.20s/it]"
     ]
    },
    {
     "name": "stdout",
     "output_type": "stream",
     "text": [
      "-4\n"
     ]
    },
    {
     "name": "stderr",
     "output_type": "stream",
     "text": [
      "\r",
      "  0%|          | 3/1148 [00:14<1:35:53,  5.03s/it]"
     ]
    },
    {
     "name": "stdout",
     "output_type": "stream",
     "text": [
      "-6\n"
     ]
    },
    {
     "name": "stderr",
     "output_type": "stream",
     "text": [
      "\r",
      "  0%|          | 4/1148 [00:18<1:33:54,  4.93s/it]"
     ]
    },
    {
     "name": "stdout",
     "output_type": "stream",
     "text": [
      "-1\n"
     ]
    },
    {
     "name": "stderr",
     "output_type": "stream",
     "text": [
      "\r",
      "  0%|          | 5/1148 [00:22<1:25:01,  4.46s/it]"
     ]
    },
    {
     "name": "stdout",
     "output_type": "stream",
     "text": [
      "-1\n"
     ]
    },
    {
     "name": "stderr",
     "output_type": "stream",
     "text": [
      "\r",
      "  1%|          | 6/1148 [00:25<1:18:43,  4.14s/it]"
     ]
    },
    {
     "name": "stdout",
     "output_type": "stream",
     "text": [
      "-1\n"
     ]
    },
    {
     "name": "stderr",
     "output_type": "stream",
     "text": [
      "\r",
      "  1%|          | 7/1148 [00:29<1:14:58,  3.94s/it]"
     ]
    },
    {
     "name": "stdout",
     "output_type": "stream",
     "text": [
      "-2\n"
     ]
    },
    {
     "name": "stderr",
     "output_type": "stream",
     "text": [
      "\r",
      "  1%|          | 8/1148 [00:33<1:15:56,  4.00s/it]"
     ]
    },
    {
     "name": "stdout",
     "output_type": "stream",
     "text": [
      "-3\n"
     ]
    },
    {
     "name": "stderr",
     "output_type": "stream",
     "text": [
      "\r",
      "  1%|          | 9/1148 [00:38<1:22:39,  4.35s/it]"
     ]
    },
    {
     "name": "stdout",
     "output_type": "stream",
     "text": [
      "-4\n"
     ]
    },
    {
     "name": "stderr",
     "output_type": "stream",
     "text": [
      "\r",
      "  1%|          | 10/1148 [00:43<1:25:17,  4.50s/it]"
     ]
    },
    {
     "name": "stdout",
     "output_type": "stream",
     "text": [
      "-3\n"
     ]
    },
    {
     "name": "stderr",
     "output_type": "stream",
     "text": [
      "\r",
      "  1%|          | 11/1148 [00:47<1:25:29,  4.51s/it]"
     ]
    },
    {
     "name": "stdout",
     "output_type": "stream",
     "text": [
      "-1\n"
     ]
    },
    {
     "name": "stderr",
     "output_type": "stream",
     "text": [
      "\r",
      "  1%|          | 12/1148 [00:51<1:21:17,  4.29s/it]"
     ]
    },
    {
     "name": "stdout",
     "output_type": "stream",
     "text": [
      "-2\n"
     ]
    },
    {
     "name": "stderr",
     "output_type": "stream",
     "text": [
      "\r",
      "  1%|          | 13/1148 [00:54<1:16:01,  4.02s/it]"
     ]
    },
    {
     "name": "stdout",
     "output_type": "stream",
     "text": [
      "-4\n"
     ]
    },
    {
     "name": "stderr",
     "output_type": "stream",
     "text": [
      "\r",
      "  1%|          | 14/1148 [00:58<1:12:16,  3.82s/it]"
     ]
    },
    {
     "name": "stdout",
     "output_type": "stream",
     "text": [
      "-2\n"
     ]
    },
    {
     "name": "stderr",
     "output_type": "stream",
     "text": [
      "\r",
      "  1%|▏         | 15/1148 [01:01<1:07:13,  3.56s/it]"
     ]
    },
    {
     "name": "stdout",
     "output_type": "stream",
     "text": [
      "-3\n"
     ]
    },
    {
     "name": "stderr",
     "output_type": "stream",
     "text": [
      "\r",
      "  1%|▏         | 16/1148 [01:04<1:05:20,  3.46s/it]"
     ]
    },
    {
     "name": "stdout",
     "output_type": "stream",
     "text": [
      "-2\n"
     ]
    },
    {
     "name": "stderr",
     "output_type": "stream",
     "text": [
      "\r",
      "  1%|▏         | 17/1148 [01:07<1:03:15,  3.36s/it]"
     ]
    },
    {
     "name": "stdout",
     "output_type": "stream",
     "text": [
      "-2\n"
     ]
    },
    {
     "name": "stderr",
     "output_type": "stream",
     "text": [
      "\r",
      "  2%|▏         | 18/1148 [01:10<1:02:21,  3.31s/it]"
     ]
    },
    {
     "name": "stdout",
     "output_type": "stream",
     "text": [
      "-4\n"
     ]
    },
    {
     "name": "stderr",
     "output_type": "stream",
     "text": [
      "\r",
      "  2%|▏         | 19/1148 [01:13<1:01:15,  3.26s/it]"
     ]
    },
    {
     "name": "stdout",
     "output_type": "stream",
     "text": [
      "-2\n"
     ]
    },
    {
     "name": "stderr",
     "output_type": "stream",
     "text": [
      "\r",
      "  2%|▏         | 20/1148 [01:17<1:01:15,  3.26s/it]"
     ]
    },
    {
     "name": "stdout",
     "output_type": "stream",
     "text": [
      "-2\n"
     ]
    },
    {
     "name": "stderr",
     "output_type": "stream",
     "text": [
      "\r",
      "  2%|▏         | 21/1148 [01:19<58:35,  3.12s/it]  "
     ]
    },
    {
     "name": "stdout",
     "output_type": "stream",
     "text": [
      "-7\n"
     ]
    },
    {
     "name": "stderr",
     "output_type": "stream",
     "text": [
      "\r",
      "  2%|▏         | 22/1148 [01:23<58:50,  3.14s/it]"
     ]
    },
    {
     "name": "stdout",
     "output_type": "stream",
     "text": [
      "-4\n"
     ]
    },
    {
     "name": "stderr",
     "output_type": "stream",
     "text": [
      "\r",
      "  2%|▏         | 23/1148 [01:26<1:01:29,  3.28s/it]"
     ]
    },
    {
     "name": "stdout",
     "output_type": "stream",
     "text": [
      "-3\n"
     ]
    },
    {
     "name": "stderr",
     "output_type": "stream",
     "text": [
      "\r",
      "  2%|▏         | 24/1148 [01:30<1:01:26,  3.28s/it]"
     ]
    },
    {
     "name": "stdout",
     "output_type": "stream",
     "text": [
      "-5\n"
     ]
    },
    {
     "name": "stderr",
     "output_type": "stream",
     "text": [
      "\r",
      "  2%|▏         | 25/1148 [01:33<1:04:56,  3.47s/it]"
     ]
    },
    {
     "name": "stdout",
     "output_type": "stream",
     "text": [
      "-3\n"
     ]
    },
    {
     "name": "stderr",
     "output_type": "stream",
     "text": [
      "\r",
      "  2%|▏         | 26/1148 [01:37<1:03:21,  3.39s/it]"
     ]
    },
    {
     "name": "stdout",
     "output_type": "stream",
     "text": [
      "-4\n"
     ]
    },
    {
     "name": "stderr",
     "output_type": "stream",
     "text": [
      "\r",
      "  2%|▏         | 27/1148 [01:40<1:01:57,  3.32s/it]"
     ]
    },
    {
     "name": "stdout",
     "output_type": "stream",
     "text": [
      "-4\n"
     ]
    },
    {
     "name": "stderr",
     "output_type": "stream",
     "text": [
      "\r",
      "  2%|▏         | 28/1148 [01:43<1:02:46,  3.36s/it]"
     ]
    },
    {
     "name": "stdout",
     "output_type": "stream",
     "text": [
      "-2\n"
     ]
    },
    {
     "name": "stderr",
     "output_type": "stream",
     "text": [
      "\r",
      "  3%|▎         | 29/1148 [01:46<1:01:20,  3.29s/it]"
     ]
    },
    {
     "name": "stdout",
     "output_type": "stream",
     "text": [
      "-2\n"
     ]
    },
    {
     "name": "stderr",
     "output_type": "stream",
     "text": [
      "\r",
      "  3%|▎         | 30/1148 [01:50<1:02:03,  3.33s/it]"
     ]
    },
    {
     "name": "stdout",
     "output_type": "stream",
     "text": [
      "-3\n"
     ]
    },
    {
     "name": "stderr",
     "output_type": "stream",
     "text": [
      "\r",
      "  3%|▎         | 31/1148 [01:53<1:01:01,  3.28s/it]"
     ]
    },
    {
     "name": "stdout",
     "output_type": "stream",
     "text": [
      "-3\n"
     ]
    },
    {
     "name": "stderr",
     "output_type": "stream",
     "text": [
      "\r",
      "  3%|▎         | 32/1148 [01:57<1:05:39,  3.53s/it]"
     ]
    },
    {
     "name": "stdout",
     "output_type": "stream",
     "text": [
      "-4\n"
     ]
    },
    {
     "name": "stderr",
     "output_type": "stream",
     "text": [
      "\r",
      "  3%|▎         | 33/1148 [02:00<1:04:26,  3.47s/it]"
     ]
    },
    {
     "name": "stdout",
     "output_type": "stream",
     "text": [
      "-4\n"
     ]
    },
    {
     "name": "stderr",
     "output_type": "stream",
     "text": [
      "\r",
      "  3%|▎         | 34/1148 [02:05<1:12:27,  3.90s/it]"
     ]
    },
    {
     "name": "stdout",
     "output_type": "stream",
     "text": [
      "-2\n"
     ]
    },
    {
     "name": "stderr",
     "output_type": "stream",
     "text": [
      "\r",
      "  3%|▎         | 35/1148 [02:08<1:07:52,  3.66s/it]"
     ]
    },
    {
     "name": "stdout",
     "output_type": "stream",
     "text": [
      "-4\n"
     ]
    },
    {
     "name": "stderr",
     "output_type": "stream",
     "text": [
      "\r",
      "  3%|▎         | 36/1148 [02:12<1:08:22,  3.69s/it]"
     ]
    },
    {
     "name": "stdout",
     "output_type": "stream",
     "text": [
      "-5\n"
     ]
    },
    {
     "name": "stderr",
     "output_type": "stream",
     "text": [
      "\r",
      "  3%|▎         | 37/1148 [02:16<1:07:11,  3.63s/it]"
     ]
    },
    {
     "name": "stdout",
     "output_type": "stream",
     "text": [
      "-4\n"
     ]
    },
    {
     "name": "stderr",
     "output_type": "stream",
     "text": [
      "\r",
      "  3%|▎         | 38/1148 [02:20<1:09:32,  3.76s/it]"
     ]
    },
    {
     "name": "stdout",
     "output_type": "stream",
     "text": [
      "-4\n"
     ]
    },
    {
     "name": "stderr",
     "output_type": "stream",
     "text": [
      "\r",
      "  3%|▎         | 39/1148 [02:23<1:06:44,  3.61s/it]"
     ]
    },
    {
     "name": "stdout",
     "output_type": "stream",
     "text": [
      "-1\n"
     ]
    },
    {
     "name": "stderr",
     "output_type": "stream",
     "text": [
      "\r",
      "  3%|▎         | 40/1148 [02:28<1:11:45,  3.89s/it]"
     ]
    },
    {
     "name": "stdout",
     "output_type": "stream",
     "text": [
      "-2\n"
     ]
    },
    {
     "name": "stderr",
     "output_type": "stream",
     "text": [
      "\r",
      "  4%|▎         | 41/1148 [02:31<1:06:45,  3.62s/it]"
     ]
    },
    {
     "name": "stdout",
     "output_type": "stream",
     "text": [
      "0\n"
     ]
    },
    {
     "name": "stderr",
     "output_type": "stream",
     "text": [
      "\r",
      "  4%|▎         | 42/1148 [02:37<1:20:43,  4.38s/it]"
     ]
    },
    {
     "name": "stdout",
     "output_type": "stream",
     "text": [
      "-6\n"
     ]
    },
    {
     "name": "stderr",
     "output_type": "stream",
     "text": [
      "\r",
      "  4%|▎         | 43/1148 [02:41<1:17:43,  4.22s/it]"
     ]
    },
    {
     "name": "stdout",
     "output_type": "stream",
     "text": [
      "-1\n"
     ]
    },
    {
     "name": "stderr",
     "output_type": "stream",
     "text": [
      "\r",
      "  4%|▍         | 44/1148 [02:44<1:12:58,  3.97s/it]"
     ]
    },
    {
     "name": "stdout",
     "output_type": "stream",
     "text": [
      "-5\n"
     ]
    },
    {
     "name": "stderr",
     "output_type": "stream",
     "text": [
      "\r",
      "  4%|▍         | 45/1148 [02:47<1:09:13,  3.77s/it]"
     ]
    },
    {
     "name": "stdout",
     "output_type": "stream",
     "text": [
      "-7\n"
     ]
    },
    {
     "name": "stderr",
     "output_type": "stream",
     "text": [
      "\r",
      "  4%|▍         | 46/1148 [02:50<1:05:08,  3.55s/it]"
     ]
    },
    {
     "name": "stdout",
     "output_type": "stream",
     "text": [
      "0\n"
     ]
    },
    {
     "name": "stderr",
     "output_type": "stream",
     "text": [
      "\r",
      "  4%|▍         | 47/1148 [02:53<1:01:53,  3.37s/it]"
     ]
    },
    {
     "name": "stdout",
     "output_type": "stream",
     "text": [
      "-5\n"
     ]
    },
    {
     "name": "stderr",
     "output_type": "stream",
     "text": [
      "\r",
      "  4%|▍         | 48/1148 [02:57<1:04:41,  3.53s/it]"
     ]
    },
    {
     "name": "stdout",
     "output_type": "stream",
     "text": [
      "-4\n"
     ]
    },
    {
     "name": "stderr",
     "output_type": "stream",
     "text": [
      "\r",
      "  4%|▍         | 49/1148 [03:04<1:24:13,  4.60s/it]"
     ]
    },
    {
     "name": "stdout",
     "output_type": "stream",
     "text": [
      "-2\n"
     ]
    },
    {
     "name": "stderr",
     "output_type": "stream",
     "text": [
      "\r",
      "  4%|▍         | 50/1148 [03:08<1:21:17,  4.44s/it]"
     ]
    },
    {
     "name": "stdout",
     "output_type": "stream",
     "text": [
      "-6\n"
     ]
    },
    {
     "name": "stderr",
     "output_type": "stream",
     "text": [
      "\r",
      "  4%|▍         | 51/1148 [03:12<1:18:58,  4.32s/it]"
     ]
    },
    {
     "name": "stdout",
     "output_type": "stream",
     "text": [
      "-5\n"
     ]
    },
    {
     "name": "stderr",
     "output_type": "stream",
     "text": [
      "\r",
      "  5%|▍         | 52/1148 [03:15<1:11:31,  3.92s/it]"
     ]
    },
    {
     "name": "stdout",
     "output_type": "stream",
     "text": [
      "-4\n"
     ]
    },
    {
     "name": "stderr",
     "output_type": "stream",
     "text": [
      "\r",
      "  5%|▍         | 53/1148 [03:19<1:11:06,  3.90s/it]"
     ]
    },
    {
     "name": "stdout",
     "output_type": "stream",
     "text": [
      "-11\n"
     ]
    },
    {
     "name": "stderr",
     "output_type": "stream",
     "text": [
      "\r",
      "  5%|▍         | 54/1148 [03:23<1:11:35,  3.93s/it]"
     ]
    },
    {
     "name": "stdout",
     "output_type": "stream",
     "text": [
      "-4\n"
     ]
    },
    {
     "name": "stderr",
     "output_type": "stream",
     "text": [
      "\r",
      "  5%|▍         | 55/1148 [03:27<1:09:06,  3.79s/it]"
     ]
    },
    {
     "name": "stdout",
     "output_type": "stream",
     "text": [
      "-3\n"
     ]
    },
    {
     "name": "stderr",
     "output_type": "stream",
     "text": [
      "\r",
      "  5%|▍         | 56/1148 [03:30<1:08:05,  3.74s/it]"
     ]
    },
    {
     "name": "stdout",
     "output_type": "stream",
     "text": [
      "-2\n"
     ]
    },
    {
     "name": "stderr",
     "output_type": "stream",
     "text": [
      "\r",
      "  5%|▍         | 57/1148 [03:33<1:04:38,  3.55s/it]"
     ]
    },
    {
     "name": "stdout",
     "output_type": "stream",
     "text": [
      "-4\n"
     ]
    },
    {
     "name": "stderr",
     "output_type": "stream",
     "text": [
      "\r",
      "  5%|▌         | 58/1148 [03:37<1:04:27,  3.55s/it]"
     ]
    },
    {
     "name": "stdout",
     "output_type": "stream",
     "text": [
      "-2\n"
     ]
    },
    {
     "name": "stderr",
     "output_type": "stream",
     "text": [
      "\r",
      "  5%|▌         | 59/1148 [03:40<1:04:33,  3.56s/it]"
     ]
    },
    {
     "name": "stdout",
     "output_type": "stream",
     "text": [
      "-6\n"
     ]
    },
    {
     "name": "stderr",
     "output_type": "stream",
     "text": [
      "\r",
      "  5%|▌         | 60/1148 [03:44<1:05:37,  3.62s/it]"
     ]
    },
    {
     "name": "stdout",
     "output_type": "stream",
     "text": [
      "-1\n"
     ]
    },
    {
     "name": "stderr",
     "output_type": "stream",
     "text": [
      "\r",
      "  5%|▌         | 61/1148 [03:47<1:03:01,  3.48s/it]"
     ]
    },
    {
     "name": "stdout",
     "output_type": "stream",
     "text": [
      "-4\n"
     ]
    },
    {
     "name": "stderr",
     "output_type": "stream",
     "text": [
      "\r",
      "  5%|▌         | 62/1148 [03:51<1:02:34,  3.46s/it]"
     ]
    },
    {
     "name": "stdout",
     "output_type": "stream",
     "text": [
      "-4\n"
     ]
    },
    {
     "name": "stderr",
     "output_type": "stream",
     "text": [
      "\r",
      "  5%|▌         | 63/1148 [03:54<1:02:38,  3.46s/it]"
     ]
    },
    {
     "name": "stdout",
     "output_type": "stream",
     "text": [
      "-6\n"
     ]
    },
    {
     "name": "stderr",
     "output_type": "stream",
     "text": [
      "\r",
      "  6%|▌         | 64/1148 [03:58<1:02:25,  3.46s/it]"
     ]
    },
    {
     "name": "stdout",
     "output_type": "stream",
     "text": [
      "-7\n"
     ]
    },
    {
     "name": "stderr",
     "output_type": "stream",
     "text": [
      "\r",
      "  6%|▌         | 65/1148 [04:01<1:01:12,  3.39s/it]"
     ]
    },
    {
     "name": "stdout",
     "output_type": "stream",
     "text": [
      "-7\n"
     ]
    },
    {
     "name": "stderr",
     "output_type": "stream",
     "text": [
      "\r",
      "  6%|▌         | 66/1148 [04:05<1:04:52,  3.60s/it]"
     ]
    },
    {
     "name": "stdout",
     "output_type": "stream",
     "text": [
      "-3\n"
     ]
    },
    {
     "name": "stderr",
     "output_type": "stream",
     "text": [
      "\r",
      "  6%|▌         | 67/1148 [04:08<1:02:51,  3.49s/it]"
     ]
    },
    {
     "name": "stdout",
     "output_type": "stream",
     "text": [
      "-7\n"
     ]
    },
    {
     "name": "stderr",
     "output_type": "stream",
     "text": [
      "\r",
      "  6%|▌         | 68/1148 [04:12<1:02:06,  3.45s/it]"
     ]
    },
    {
     "name": "stdout",
     "output_type": "stream",
     "text": [
      "-5\n"
     ]
    },
    {
     "name": "stderr",
     "output_type": "stream",
     "text": [
      "\r",
      "  6%|▌         | 69/1148 [04:15<1:03:16,  3.52s/it]"
     ]
    },
    {
     "name": "stdout",
     "output_type": "stream",
     "text": [
      "-6\n"
     ]
    },
    {
     "name": "stderr",
     "output_type": "stream",
     "text": [
      "\r",
      "  6%|▌         | 70/1148 [04:19<1:03:28,  3.53s/it]"
     ]
    },
    {
     "name": "stdout",
     "output_type": "stream",
     "text": [
      "-1\n"
     ]
    },
    {
     "name": "stderr",
     "output_type": "stream",
     "text": [
      "\r",
      "  6%|▌         | 71/1148 [04:22<1:00:26,  3.37s/it]"
     ]
    },
    {
     "name": "stdout",
     "output_type": "stream",
     "text": [
      "-7\n"
     ]
    },
    {
     "name": "stderr",
     "output_type": "stream",
     "text": [
      "\r",
      "  6%|▋         | 72/1148 [04:25<1:00:25,  3.37s/it]"
     ]
    },
    {
     "name": "stdout",
     "output_type": "stream",
     "text": [
      "-4\n"
     ]
    },
    {
     "name": "stderr",
     "output_type": "stream",
     "text": [
      "\r",
      "  6%|▋         | 73/1148 [04:29<1:02:05,  3.47s/it]"
     ]
    },
    {
     "name": "stdout",
     "output_type": "stream",
     "text": [
      "-2\n"
     ]
    },
    {
     "name": "stderr",
     "output_type": "stream",
     "text": [
      "\r",
      "  6%|▋         | 74/1148 [04:33<1:06:15,  3.70s/it]"
     ]
    },
    {
     "name": "stdout",
     "output_type": "stream",
     "text": [
      "-4\n"
     ]
    },
    {
     "name": "stderr",
     "output_type": "stream",
     "text": [
      "\r",
      "  7%|▋         | 75/1148 [04:37<1:09:09,  3.87s/it]"
     ]
    },
    {
     "name": "stdout",
     "output_type": "stream",
     "text": [
      "-4\n"
     ]
    },
    {
     "name": "stderr",
     "output_type": "stream",
     "text": [
      "\r",
      "  7%|▋         | 76/1148 [04:41<1:05:47,  3.68s/it]"
     ]
    },
    {
     "name": "stdout",
     "output_type": "stream",
     "text": [
      "-5\n"
     ]
    },
    {
     "name": "stderr",
     "output_type": "stream",
     "text": [
      "\r",
      "  7%|▋         | 77/1148 [04:44<1:05:25,  3.66s/it]"
     ]
    },
    {
     "name": "stdout",
     "output_type": "stream",
     "text": [
      "-4\n"
     ]
    },
    {
     "name": "stderr",
     "output_type": "stream",
     "text": [
      "\r",
      "  7%|▋         | 78/1148 [04:48<1:04:47,  3.63s/it]"
     ]
    },
    {
     "name": "stdout",
     "output_type": "stream",
     "text": [
      "-4\n"
     ]
    },
    {
     "name": "stderr",
     "output_type": "stream",
     "text": [
      "\r",
      "  7%|▋         | 79/1148 [04:52<1:06:54,  3.76s/it]"
     ]
    },
    {
     "name": "stdout",
     "output_type": "stream",
     "text": [
      "-5\n"
     ]
    },
    {
     "name": "stderr",
     "output_type": "stream",
     "text": [
      "\r",
      "  7%|▋         | 80/1148 [04:56<1:06:32,  3.74s/it]"
     ]
    },
    {
     "name": "stdout",
     "output_type": "stream",
     "text": [
      "-4\n"
     ]
    },
    {
     "name": "stderr",
     "output_type": "stream",
     "text": [
      "\r",
      "  7%|▋         | 81/1148 [04:59<1:06:47,  3.76s/it]"
     ]
    },
    {
     "name": "stdout",
     "output_type": "stream",
     "text": [
      "-5\n"
     ]
    },
    {
     "name": "stderr",
     "output_type": "stream",
     "text": [
      "\r",
      "  7%|▋         | 82/1148 [05:04<1:12:33,  4.08s/it]"
     ]
    },
    {
     "name": "stdout",
     "output_type": "stream",
     "text": [
      "-9\n"
     ]
    },
    {
     "name": "stderr",
     "output_type": "stream",
     "text": [
      "\r",
      "  7%|▋         | 83/1148 [05:08<1:09:42,  3.93s/it]"
     ]
    },
    {
     "name": "stdout",
     "output_type": "stream",
     "text": [
      "0\n"
     ]
    },
    {
     "name": "stderr",
     "output_type": "stream",
     "text": [
      "\r",
      "  7%|▋         | 84/1148 [05:11<1:06:14,  3.74s/it]"
     ]
    },
    {
     "name": "stdout",
     "output_type": "stream",
     "text": [
      "-3\n"
     ]
    },
    {
     "name": "stderr",
     "output_type": "stream",
     "text": [
      "\r",
      "  7%|▋         | 85/1148 [05:15<1:09:08,  3.90s/it]"
     ]
    },
    {
     "name": "stdout",
     "output_type": "stream",
     "text": [
      "-3\n"
     ]
    },
    {
     "name": "stderr",
     "output_type": "stream",
     "text": [
      "\r",
      "  7%|▋         | 86/1148 [05:19<1:08:48,  3.89s/it]"
     ]
    },
    {
     "name": "stdout",
     "output_type": "stream",
     "text": [
      "-6\n"
     ]
    },
    {
     "name": "stderr",
     "output_type": "stream",
     "text": [
      "\r",
      "  8%|▊         | 87/1148 [05:23<1:06:43,  3.77s/it]"
     ]
    },
    {
     "name": "stdout",
     "output_type": "stream",
     "text": [
      "-3\n"
     ]
    },
    {
     "name": "stderr",
     "output_type": "stream",
     "text": [
      "\r",
      "  8%|▊         | 88/1148 [05:26<1:03:48,  3.61s/it]"
     ]
    },
    {
     "name": "stdout",
     "output_type": "stream",
     "text": [
      "-3\n"
     ]
    },
    {
     "name": "stderr",
     "output_type": "stream",
     "text": [
      "\r",
      "  8%|▊         | 89/1148 [05:29<1:02:53,  3.56s/it]"
     ]
    },
    {
     "name": "stdout",
     "output_type": "stream",
     "text": [
      "-3\n"
     ]
    },
    {
     "name": "stderr",
     "output_type": "stream",
     "text": [
      "\r",
      "  8%|▊         | 90/1148 [05:33<1:01:55,  3.51s/it]"
     ]
    },
    {
     "name": "stdout",
     "output_type": "stream",
     "text": [
      "-2\n"
     ]
    },
    {
     "name": "stderr",
     "output_type": "stream",
     "text": [
      "\r",
      "  8%|▊         | 91/1148 [05:36<59:32,  3.38s/it]  "
     ]
    },
    {
     "name": "stdout",
     "output_type": "stream",
     "text": [
      "-4\n"
     ]
    },
    {
     "name": "stderr",
     "output_type": "stream",
     "text": [
      "\r",
      "  8%|▊         | 92/1148 [05:39<57:30,  3.27s/it]"
     ]
    },
    {
     "name": "stdout",
     "output_type": "stream",
     "text": [
      "-4\n"
     ]
    },
    {
     "name": "stderr",
     "output_type": "stream",
     "text": [
      "\r",
      "  8%|▊         | 93/1148 [05:42<57:01,  3.24s/it]"
     ]
    },
    {
     "name": "stdout",
     "output_type": "stream",
     "text": [
      "-5\n"
     ]
    },
    {
     "name": "stderr",
     "output_type": "stream",
     "text": [
      "\r",
      "  8%|▊         | 94/1148 [05:45<57:12,  3.26s/it]"
     ]
    },
    {
     "name": "stdout",
     "output_type": "stream",
     "text": [
      "-2\n"
     ]
    },
    {
     "name": "stderr",
     "output_type": "stream",
     "text": [
      "\r",
      "  8%|▊         | 95/1148 [05:49<57:47,  3.29s/it]"
     ]
    },
    {
     "name": "stdout",
     "output_type": "stream",
     "text": [
      "-6\n"
     ]
    },
    {
     "name": "stderr",
     "output_type": "stream",
     "text": [
      "\r",
      "  8%|▊         | 96/1148 [05:52<57:58,  3.31s/it]"
     ]
    },
    {
     "name": "stdout",
     "output_type": "stream",
     "text": [
      "-6\n"
     ]
    },
    {
     "name": "stderr",
     "output_type": "stream",
     "text": [
      "\r",
      "  8%|▊         | 97/1148 [05:56<59:55,  3.42s/it]"
     ]
    },
    {
     "name": "stdout",
     "output_type": "stream",
     "text": [
      "-3\n"
     ]
    },
    {
     "name": "stderr",
     "output_type": "stream",
     "text": [
      "\r",
      "  9%|▊         | 98/1148 [05:59<59:03,  3.37s/it]"
     ]
    },
    {
     "name": "stdout",
     "output_type": "stream",
     "text": [
      "-2\n"
     ]
    },
    {
     "name": "stderr",
     "output_type": "stream",
     "text": [
      "\r",
      "  9%|▊         | 99/1148 [06:02<58:14,  3.33s/it]"
     ]
    },
    {
     "name": "stdout",
     "output_type": "stream",
     "text": [
      "0\n"
     ]
    },
    {
     "name": "stderr",
     "output_type": "stream",
     "text": [
      "\r",
      "  9%|▊         | 100/1148 [06:06<59:35,  3.41s/it]"
     ]
    },
    {
     "name": "stdout",
     "output_type": "stream",
     "text": [
      "-4\n"
     ]
    },
    {
     "name": "stderr",
     "output_type": "stream",
     "text": [
      "\r",
      "  9%|▉         | 101/1148 [06:12<1:13:51,  4.23s/it]"
     ]
    },
    {
     "name": "stdout",
     "output_type": "stream",
     "text": [
      "-6\n"
     ]
    },
    {
     "name": "stderr",
     "output_type": "stream",
     "text": [
      "\r",
      "  9%|▉         | 102/1148 [06:16<1:12:50,  4.18s/it]"
     ]
    },
    {
     "name": "stdout",
     "output_type": "stream",
     "text": [
      "-2\n"
     ]
    },
    {
     "name": "stderr",
     "output_type": "stream",
     "text": [
      "\r",
      "  9%|▉         | 103/1148 [06:19<1:06:35,  3.82s/it]"
     ]
    },
    {
     "name": "stdout",
     "output_type": "stream",
     "text": [
      "-2\n"
     ]
    },
    {
     "name": "stderr",
     "output_type": "stream",
     "text": [
      "\r",
      "  9%|▉         | 104/1148 [06:22<1:03:38,  3.66s/it]"
     ]
    },
    {
     "name": "stdout",
     "output_type": "stream",
     "text": [
      "-2\n"
     ]
    },
    {
     "name": "stderr",
     "output_type": "stream",
     "text": [
      "\r",
      "  9%|▉         | 105/1148 [06:27<1:07:46,  3.90s/it]"
     ]
    },
    {
     "name": "stdout",
     "output_type": "stream",
     "text": [
      "-1\n"
     ]
    },
    {
     "name": "stderr",
     "output_type": "stream",
     "text": [
      "\r",
      "  9%|▉         | 106/1148 [06:31<1:07:26,  3.88s/it]"
     ]
    },
    {
     "name": "stdout",
     "output_type": "stream",
     "text": [
      "-5\n"
     ]
    },
    {
     "name": "stderr",
     "output_type": "stream",
     "text": [
      "\r",
      "  9%|▉         | 107/1148 [06:36<1:15:37,  4.36s/it]"
     ]
    },
    {
     "name": "stdout",
     "output_type": "stream",
     "text": [
      "-4\n"
     ]
    },
    {
     "name": "stderr",
     "output_type": "stream",
     "text": [
      "\r",
      "  9%|▉         | 108/1148 [06:41<1:18:04,  4.50s/it]"
     ]
    },
    {
     "name": "stdout",
     "output_type": "stream",
     "text": [
      "-1\n"
     ]
    },
    {
     "name": "stderr",
     "output_type": "stream",
     "text": [
      "\r",
      "  9%|▉         | 109/1148 [06:45<1:16:42,  4.43s/it]"
     ]
    },
    {
     "name": "stdout",
     "output_type": "stream",
     "text": [
      "-6\n"
     ]
    },
    {
     "name": "stderr",
     "output_type": "stream",
     "text": [
      "\r",
      " 10%|▉         | 110/1148 [06:49<1:12:42,  4.20s/it]"
     ]
    },
    {
     "name": "stdout",
     "output_type": "stream",
     "text": [
      "-4\n"
     ]
    },
    {
     "name": "stderr",
     "output_type": "stream",
     "text": [
      "\r",
      " 10%|▉         | 111/1148 [06:53<1:09:50,  4.04s/it]"
     ]
    },
    {
     "name": "stdout",
     "output_type": "stream",
     "text": [
      "-6\n"
     ]
    },
    {
     "name": "stderr",
     "output_type": "stream",
     "text": [
      "\r",
      " 10%|▉         | 112/1148 [06:56<1:07:38,  3.92s/it]"
     ]
    },
    {
     "name": "stdout",
     "output_type": "stream",
     "text": [
      "-5\n"
     ]
    },
    {
     "name": "stderr",
     "output_type": "stream",
     "text": [
      "\r",
      " 10%|▉         | 113/1148 [07:00<1:08:08,  3.95s/it]"
     ]
    },
    {
     "name": "stdout",
     "output_type": "stream",
     "text": [
      "-4\n"
     ]
    },
    {
     "name": "stderr",
     "output_type": "stream",
     "text": [
      "\r",
      " 10%|▉         | 114/1148 [07:04<1:07:16,  3.90s/it]"
     ]
    },
    {
     "name": "stdout",
     "output_type": "stream",
     "text": [
      "-3\n"
     ]
    },
    {
     "name": "stderr",
     "output_type": "stream",
     "text": [
      "\r",
      " 10%|█         | 115/1148 [07:07<1:03:24,  3.68s/it]"
     ]
    },
    {
     "name": "stdout",
     "output_type": "stream",
     "text": [
      "-6\n"
     ]
    },
    {
     "name": "stderr",
     "output_type": "stream",
     "text": [
      "\r",
      " 10%|█         | 116/1148 [07:11<1:04:18,  3.74s/it]"
     ]
    },
    {
     "name": "stdout",
     "output_type": "stream",
     "text": [
      "-16\n"
     ]
    },
    {
     "name": "stderr",
     "output_type": "stream",
     "text": [
      "\r",
      " 10%|█         | 117/1148 [07:14<1:01:27,  3.58s/it]"
     ]
    },
    {
     "name": "stdout",
     "output_type": "stream",
     "text": [
      "-4\n"
     ]
    },
    {
     "name": "stderr",
     "output_type": "stream",
     "text": [
      "\r",
      " 10%|█         | 118/1148 [07:18<1:00:53,  3.55s/it]"
     ]
    },
    {
     "name": "stdout",
     "output_type": "stream",
     "text": [
      "-4\n"
     ]
    },
    {
     "name": "stderr",
     "output_type": "stream",
     "text": [
      "\r",
      " 10%|█         | 119/1148 [07:21<58:12,  3.39s/it]  "
     ]
    },
    {
     "name": "stdout",
     "output_type": "stream",
     "text": [
      "-3\n"
     ]
    },
    {
     "name": "stderr",
     "output_type": "stream",
     "text": [
      "\r",
      " 10%|█         | 120/1148 [07:24<56:25,  3.29s/it]"
     ]
    },
    {
     "name": "stdout",
     "output_type": "stream",
     "text": [
      "-5\n"
     ]
    },
    {
     "name": "stderr",
     "output_type": "stream",
     "text": [
      "\r",
      " 11%|█         | 121/1148 [07:28<1:02:53,  3.67s/it]"
     ]
    },
    {
     "name": "stdout",
     "output_type": "stream",
     "text": [
      "-3\n"
     ]
    },
    {
     "name": "stderr",
     "output_type": "stream",
     "text": [
      "\r",
      " 11%|█         | 122/1148 [07:33<1:07:19,  3.94s/it]"
     ]
    },
    {
     "name": "stdout",
     "output_type": "stream",
     "text": [
      "-6\n",
      "-4\n"
     ]
    },
    {
     "name": "stderr",
     "output_type": "stream",
     "text": [
      " 11%|█         | 124/1148 [07:41<1:06:42,  3.91s/it]"
     ]
    },
    {
     "name": "stdout",
     "output_type": "stream",
     "text": [
      "-4\n"
     ]
    },
    {
     "name": "stderr",
     "output_type": "stream",
     "text": [
      "\r",
      " 11%|█         | 125/1148 [07:44<1:03:19,  3.71s/it]"
     ]
    },
    {
     "name": "stdout",
     "output_type": "stream",
     "text": [
      "-5\n"
     ]
    },
    {
     "name": "stderr",
     "output_type": "stream",
     "text": [
      "\r",
      " 11%|█         | 126/1148 [07:48<1:04:10,  3.77s/it]"
     ]
    },
    {
     "name": "stdout",
     "output_type": "stream",
     "text": [
      "-6\n"
     ]
    },
    {
     "name": "stderr",
     "output_type": "stream",
     "text": [
      "\r",
      " 11%|█         | 127/1148 [07:51<1:03:15,  3.72s/it]"
     ]
    },
    {
     "name": "stdout",
     "output_type": "stream",
     "text": [
      "-5\n"
     ]
    },
    {
     "name": "stderr",
     "output_type": "stream",
     "text": [
      "\r",
      " 11%|█         | 128/1148 [07:56<1:06:24,  3.91s/it]"
     ]
    },
    {
     "name": "stdout",
     "output_type": "stream",
     "text": [
      "-4\n"
     ]
    },
    {
     "name": "stderr",
     "output_type": "stream",
     "text": [
      "\r",
      " 11%|█         | 129/1148 [07:59<1:05:22,  3.85s/it]"
     ]
    },
    {
     "name": "stdout",
     "output_type": "stream",
     "text": [
      "-10\n"
     ]
    },
    {
     "name": "stderr",
     "output_type": "stream",
     "text": [
      "\r",
      " 11%|█▏        | 130/1148 [08:03<1:04:35,  3.81s/it]"
     ]
    },
    {
     "name": "stdout",
     "output_type": "stream",
     "text": [
      "-5\n"
     ]
    },
    {
     "name": "stderr",
     "output_type": "stream",
     "text": [
      "\r",
      " 11%|█▏        | 131/1148 [08:06<1:01:34,  3.63s/it]"
     ]
    },
    {
     "name": "stdout",
     "output_type": "stream",
     "text": [
      "-3\n"
     ]
    },
    {
     "name": "stderr",
     "output_type": "stream",
     "text": [
      "\r",
      " 11%|█▏        | 132/1148 [08:10<1:01:15,  3.62s/it]"
     ]
    },
    {
     "name": "stdout",
     "output_type": "stream",
     "text": [
      "-4\n"
     ]
    },
    {
     "name": "stderr",
     "output_type": "stream",
     "text": [
      "\r",
      " 12%|█▏        | 133/1148 [08:13<57:37,  3.41s/it]  "
     ]
    },
    {
     "name": "stdout",
     "output_type": "stream",
     "text": [
      "-3\n"
     ]
    },
    {
     "name": "stderr",
     "output_type": "stream",
     "text": [
      "\r",
      " 12%|█▏        | 134/1148 [08:16<57:41,  3.41s/it]"
     ]
    },
    {
     "name": "stdout",
     "output_type": "stream",
     "text": [
      "-5\n"
     ]
    },
    {
     "name": "stderr",
     "output_type": "stream",
     "text": [
      "\r",
      " 12%|█▏        | 135/1148 [08:20<58:51,  3.49s/it]"
     ]
    },
    {
     "name": "stdout",
     "output_type": "stream",
     "text": [
      "-2\n"
     ]
    },
    {
     "name": "stderr",
     "output_type": "stream",
     "text": [
      "\r",
      " 12%|█▏        | 136/1148 [08:23<56:51,  3.37s/it]"
     ]
    },
    {
     "name": "stdout",
     "output_type": "stream",
     "text": [
      "-4\n"
     ]
    },
    {
     "name": "stderr",
     "output_type": "stream",
     "text": [
      "\r",
      " 12%|█▏        | 137/1148 [08:27<58:24,  3.47s/it]"
     ]
    },
    {
     "name": "stdout",
     "output_type": "stream",
     "text": [
      "-1\n"
     ]
    },
    {
     "name": "stderr",
     "output_type": "stream",
     "text": [
      "\r",
      " 12%|█▏        | 138/1148 [08:30<59:04,  3.51s/it]"
     ]
    },
    {
     "name": "stdout",
     "output_type": "stream",
     "text": [
      "-2\n"
     ]
    },
    {
     "name": "stderr",
     "output_type": "stream",
     "text": [
      "\r",
      " 12%|█▏        | 139/1148 [08:34<1:01:30,  3.66s/it]"
     ]
    },
    {
     "name": "stdout",
     "output_type": "stream",
     "text": [
      "-6\n"
     ]
    },
    {
     "name": "stderr",
     "output_type": "stream",
     "text": [
      "\r",
      " 12%|█▏        | 140/1148 [08:37<58:22,  3.47s/it]  "
     ]
    },
    {
     "name": "stdout",
     "output_type": "stream",
     "text": [
      "-4\n"
     ]
    },
    {
     "name": "stderr",
     "output_type": "stream",
     "text": [
      "\r",
      " 12%|█▏        | 141/1148 [08:41<58:17,  3.47s/it]"
     ]
    },
    {
     "name": "stdout",
     "output_type": "stream",
     "text": [
      "-4\n"
     ]
    },
    {
     "name": "stderr",
     "output_type": "stream",
     "text": [
      "\r",
      " 12%|█▏        | 142/1148 [08:45<1:00:29,  3.61s/it]"
     ]
    },
    {
     "name": "stdout",
     "output_type": "stream",
     "text": [
      "-2\n"
     ]
    },
    {
     "name": "stderr",
     "output_type": "stream",
     "text": [
      "\r",
      " 12%|█▏        | 143/1148 [08:48<58:16,  3.48s/it]  "
     ]
    },
    {
     "name": "stdout",
     "output_type": "stream",
     "text": [
      "-5\n"
     ]
    },
    {
     "name": "stderr",
     "output_type": "stream",
     "text": [
      "\r",
      " 13%|█▎        | 144/1148 [08:51<54:52,  3.28s/it]"
     ]
    },
    {
     "name": "stdout",
     "output_type": "stream",
     "text": [
      "-4\n"
     ]
    },
    {
     "name": "stderr",
     "output_type": "stream",
     "text": [
      "\r",
      " 13%|█▎        | 145/1148 [08:55<56:56,  3.41s/it]"
     ]
    },
    {
     "name": "stdout",
     "output_type": "stream",
     "text": [
      "-2\n"
     ]
    },
    {
     "name": "stderr",
     "output_type": "stream",
     "text": [
      "\r",
      " 13%|█▎        | 146/1148 [08:58<58:25,  3.50s/it]"
     ]
    },
    {
     "name": "stdout",
     "output_type": "stream",
     "text": [
      "-4\n"
     ]
    },
    {
     "name": "stderr",
     "output_type": "stream",
     "text": [
      "\r",
      " 13%|█▎        | 147/1148 [09:02<58:30,  3.51s/it]"
     ]
    },
    {
     "name": "stdout",
     "output_type": "stream",
     "text": [
      "-2\n"
     ]
    },
    {
     "name": "stderr",
     "output_type": "stream",
     "text": [
      "\r",
      " 13%|█▎        | 148/1148 [09:06<1:00:35,  3.64s/it]"
     ]
    },
    {
     "name": "stdout",
     "output_type": "stream",
     "text": [
      "-5\n"
     ]
    },
    {
     "name": "stderr",
     "output_type": "stream",
     "text": [
      "\r",
      " 13%|█▎        | 149/1148 [09:09<59:04,  3.55s/it]  "
     ]
    },
    {
     "name": "stdout",
     "output_type": "stream",
     "text": [
      "-10\n"
     ]
    },
    {
     "name": "stderr",
     "output_type": "stream",
     "text": [
      "\r",
      " 13%|█▎        | 150/1148 [09:13<1:01:20,  3.69s/it]"
     ]
    },
    {
     "name": "stdout",
     "output_type": "stream",
     "text": [
      "-4\n"
     ]
    },
    {
     "name": "stderr",
     "output_type": "stream",
     "text": [
      "\r",
      " 13%|█▎        | 151/1148 [09:17<1:00:17,  3.63s/it]"
     ]
    },
    {
     "name": "stdout",
     "output_type": "stream",
     "text": [
      "-4\n"
     ]
    },
    {
     "name": "stderr",
     "output_type": "stream",
     "text": [
      "\r",
      " 13%|█▎        | 152/1148 [09:19<56:43,  3.42s/it]  "
     ]
    },
    {
     "name": "stdout",
     "output_type": "stream",
     "text": [
      "-6\n"
     ]
    },
    {
     "name": "stderr",
     "output_type": "stream",
     "text": [
      "\r",
      " 13%|█▎        | 153/1148 [09:24<59:38,  3.60s/it]"
     ]
    },
    {
     "name": "stdout",
     "output_type": "stream",
     "text": [
      "-5\n"
     ]
    },
    {
     "name": "stderr",
     "output_type": "stream",
     "text": [
      "\r",
      " 13%|█▎        | 154/1148 [09:27<59:35,  3.60s/it]"
     ]
    },
    {
     "name": "stdout",
     "output_type": "stream",
     "text": [
      "-5\n"
     ]
    },
    {
     "name": "stderr",
     "output_type": "stream",
     "text": [
      "\r",
      " 14%|█▎        | 155/1148 [09:31<59:15,  3.58s/it]"
     ]
    },
    {
     "name": "stdout",
     "output_type": "stream",
     "text": [
      "-5\n"
     ]
    },
    {
     "name": "stderr",
     "output_type": "stream",
     "text": [
      "\r",
      " 14%|█▎        | 156/1148 [09:34<58:38,  3.55s/it]"
     ]
    },
    {
     "name": "stdout",
     "output_type": "stream",
     "text": [
      "-4\n"
     ]
    },
    {
     "name": "stderr",
     "output_type": "stream",
     "text": [
      "\r",
      " 14%|█▎        | 157/1148 [09:37<56:14,  3.40s/it]"
     ]
    },
    {
     "name": "stdout",
     "output_type": "stream",
     "text": [
      "-2\n"
     ]
    },
    {
     "name": "stderr",
     "output_type": "stream",
     "text": [
      "\r",
      " 14%|█▍        | 158/1148 [09:41<56:40,  3.43s/it]"
     ]
    },
    {
     "name": "stdout",
     "output_type": "stream",
     "text": [
      "-4\n"
     ]
    },
    {
     "name": "stderr",
     "output_type": "stream",
     "text": [
      "\r",
      " 14%|█▍        | 159/1148 [09:45<1:00:08,  3.65s/it]"
     ]
    },
    {
     "name": "stdout",
     "output_type": "stream",
     "text": [
      "-1\n"
     ]
    },
    {
     "name": "stderr",
     "output_type": "stream",
     "text": [
      "\r",
      " 14%|█▍        | 160/1148 [09:48<59:14,  3.60s/it]  "
     ]
    },
    {
     "name": "stdout",
     "output_type": "stream",
     "text": [
      "-4\n"
     ]
    },
    {
     "name": "stderr",
     "output_type": "stream",
     "text": [
      "\r",
      " 14%|█▍        | 161/1148 [09:52<1:01:22,  3.73s/it]"
     ]
    },
    {
     "name": "stdout",
     "output_type": "stream",
     "text": [
      "-5\n"
     ]
    },
    {
     "name": "stderr",
     "output_type": "stream",
     "text": [
      "\r",
      " 14%|█▍        | 162/1148 [09:57<1:03:58,  3.89s/it]"
     ]
    },
    {
     "name": "stdout",
     "output_type": "stream",
     "text": [
      "-4\n"
     ]
    },
    {
     "name": "stderr",
     "output_type": "stream",
     "text": [
      "\r",
      " 14%|█▍        | 163/1148 [10:00<1:01:20,  3.74s/it]"
     ]
    },
    {
     "name": "stdout",
     "output_type": "stream",
     "text": [
      "-2\n"
     ]
    },
    {
     "name": "stderr",
     "output_type": "stream",
     "text": [
      "\r",
      " 14%|█▍        | 164/1148 [10:03<59:31,  3.63s/it]  "
     ]
    },
    {
     "name": "stdout",
     "output_type": "stream",
     "text": [
      "-6\n"
     ]
    },
    {
     "name": "stderr",
     "output_type": "stream",
     "text": [
      "\r",
      " 14%|█▍        | 165/1148 [10:07<1:01:41,  3.77s/it]"
     ]
    },
    {
     "name": "stdout",
     "output_type": "stream",
     "text": [
      "-4\n"
     ]
    },
    {
     "name": "stderr",
     "output_type": "stream",
     "text": [
      "\r",
      " 14%|█▍        | 166/1148 [10:11<1:02:28,  3.82s/it]"
     ]
    },
    {
     "name": "stdout",
     "output_type": "stream",
     "text": [
      "-5\n"
     ]
    },
    {
     "name": "stderr",
     "output_type": "stream",
     "text": [
      "\r",
      " 15%|█▍        | 167/1148 [10:15<1:00:51,  3.72s/it]"
     ]
    },
    {
     "name": "stdout",
     "output_type": "stream",
     "text": [
      "-5\n"
     ]
    },
    {
     "name": "stderr",
     "output_type": "stream",
     "text": [
      "\r",
      " 15%|█▍        | 168/1148 [10:18<59:25,  3.64s/it]  "
     ]
    },
    {
     "name": "stdout",
     "output_type": "stream",
     "text": [
      "-1\n"
     ]
    },
    {
     "name": "stderr",
     "output_type": "stream",
     "text": [
      "\r",
      " 15%|█▍        | 169/1148 [10:22<59:04,  3.62s/it]"
     ]
    },
    {
     "name": "stdout",
     "output_type": "stream",
     "text": [
      "-2\n"
     ]
    },
    {
     "name": "stderr",
     "output_type": "stream",
     "text": [
      "\r",
      " 15%|█▍        | 170/1148 [10:26<1:03:26,  3.89s/it]"
     ]
    },
    {
     "name": "stdout",
     "output_type": "stream",
     "text": [
      "-5\n"
     ]
    },
    {
     "name": "stderr",
     "output_type": "stream",
     "text": [
      "\r",
      " 15%|█▍        | 171/1148 [10:30<1:01:06,  3.75s/it]"
     ]
    },
    {
     "name": "stdout",
     "output_type": "stream",
     "text": [
      "-2\n"
     ]
    },
    {
     "name": "stderr",
     "output_type": "stream",
     "text": [
      "\r",
      " 15%|█▍        | 172/1148 [10:34<1:01:29,  3.78s/it]"
     ]
    },
    {
     "name": "stdout",
     "output_type": "stream",
     "text": [
      "-4\n"
     ]
    },
    {
     "name": "stderr",
     "output_type": "stream",
     "text": [
      "\r",
      " 15%|█▌        | 173/1148 [10:37<57:03,  3.51s/it]  "
     ]
    },
    {
     "name": "stdout",
     "output_type": "stream",
     "text": [
      "-5\n"
     ]
    },
    {
     "name": "stderr",
     "output_type": "stream",
     "text": [
      "\r",
      " 15%|█▌        | 174/1148 [10:41<1:03:03,  3.88s/it]"
     ]
    },
    {
     "name": "stdout",
     "output_type": "stream",
     "text": [
      "-6\n"
     ]
    },
    {
     "name": "stderr",
     "output_type": "stream",
     "text": [
      "\r",
      " 15%|█▌        | 175/1148 [10:45<1:00:56,  3.76s/it]"
     ]
    },
    {
     "name": "stdout",
     "output_type": "stream",
     "text": [
      "-5\n"
     ]
    },
    {
     "name": "stderr",
     "output_type": "stream",
     "text": [
      "\r",
      " 15%|█▌        | 176/1148 [10:49<1:00:37,  3.74s/it]"
     ]
    },
    {
     "name": "stdout",
     "output_type": "stream",
     "text": [
      "-5\n"
     ]
    },
    {
     "name": "stderr",
     "output_type": "stream",
     "text": [
      "\r",
      " 15%|█▌        | 177/1148 [10:52<59:55,  3.70s/it]  "
     ]
    },
    {
     "name": "stdout",
     "output_type": "stream",
     "text": [
      "-6\n"
     ]
    },
    {
     "name": "stderr",
     "output_type": "stream",
     "text": [
      "\r",
      " 16%|█▌        | 178/1148 [10:56<1:02:35,  3.87s/it]"
     ]
    },
    {
     "name": "stdout",
     "output_type": "stream",
     "text": [
      "-3\n"
     ]
    },
    {
     "name": "stderr",
     "output_type": "stream",
     "text": [
      "\r",
      " 16%|█▌        | 179/1148 [11:01<1:04:59,  4.02s/it]"
     ]
    },
    {
     "name": "stdout",
     "output_type": "stream",
     "text": [
      "-5\n"
     ]
    },
    {
     "name": "stderr",
     "output_type": "stream",
     "text": [
      "\r",
      " 16%|█▌        | 180/1148 [11:05<1:05:28,  4.06s/it]"
     ]
    },
    {
     "name": "stdout",
     "output_type": "stream",
     "text": [
      "-5\n"
     ]
    },
    {
     "name": "stderr",
     "output_type": "stream",
     "text": [
      "\r",
      " 16%|█▌        | 181/1148 [11:09<1:04:22,  3.99s/it]"
     ]
    },
    {
     "name": "stdout",
     "output_type": "stream",
     "text": [
      "-3\n"
     ]
    },
    {
     "name": "stderr",
     "output_type": "stream",
     "text": [
      "\r",
      " 16%|█▌        | 182/1148 [11:12<1:00:48,  3.78s/it]"
     ]
    },
    {
     "name": "stdout",
     "output_type": "stream",
     "text": [
      "-2\n"
     ]
    },
    {
     "name": "stderr",
     "output_type": "stream",
     "text": [
      "\r",
      " 16%|█▌        | 183/1148 [11:16<1:01:16,  3.81s/it]"
     ]
    },
    {
     "name": "stdout",
     "output_type": "stream",
     "text": [
      "-7\n"
     ]
    },
    {
     "name": "stderr",
     "output_type": "stream",
     "text": [
      "\r",
      " 16%|█▌        | 184/1148 [11:20<1:02:08,  3.87s/it]"
     ]
    },
    {
     "name": "stdout",
     "output_type": "stream",
     "text": [
      "-5\n"
     ]
    },
    {
     "name": "stderr",
     "output_type": "stream",
     "text": [
      "\r",
      " 16%|█▌        | 185/1148 [11:24<1:00:39,  3.78s/it]"
     ]
    },
    {
     "name": "stdout",
     "output_type": "stream",
     "text": [
      "-3\n"
     ]
    },
    {
     "name": "stderr",
     "output_type": "stream",
     "text": [
      "\r",
      " 16%|█▌        | 186/1148 [11:28<1:04:36,  4.03s/it]"
     ]
    },
    {
     "name": "stdout",
     "output_type": "stream",
     "text": [
      "-5\n"
     ]
    },
    {
     "name": "stderr",
     "output_type": "stream",
     "text": [
      "\r",
      " 16%|█▋        | 187/1148 [11:32<1:04:58,  4.06s/it]"
     ]
    },
    {
     "name": "stdout",
     "output_type": "stream",
     "text": [
      "-11\n"
     ]
    },
    {
     "name": "stderr",
     "output_type": "stream",
     "text": [
      "\r",
      " 16%|█▋        | 188/1148 [11:36<1:05:41,  4.11s/it]"
     ]
    },
    {
     "name": "stdout",
     "output_type": "stream",
     "text": [
      "-4\n"
     ]
    },
    {
     "name": "stderr",
     "output_type": "stream",
     "text": [
      "\r",
      " 16%|█▋        | 189/1148 [11:41<1:08:44,  4.30s/it]"
     ]
    },
    {
     "name": "stdout",
     "output_type": "stream",
     "text": [
      "-4\n"
     ]
    },
    {
     "name": "stderr",
     "output_type": "stream",
     "text": [
      "\r",
      " 17%|█▋        | 190/1148 [11:45<1:06:00,  4.13s/it]"
     ]
    },
    {
     "name": "stdout",
     "output_type": "stream",
     "text": [
      "-5\n"
     ]
    },
    {
     "name": "stderr",
     "output_type": "stream",
     "text": [
      "\r",
      " 17%|█▋        | 191/1148 [11:48<1:02:54,  3.94s/it]"
     ]
    },
    {
     "name": "stdout",
     "output_type": "stream",
     "text": [
      "-4\n"
     ]
    },
    {
     "name": "stderr",
     "output_type": "stream",
     "text": [
      "\r",
      " 17%|█▋        | 192/1148 [11:52<1:00:31,  3.80s/it]"
     ]
    },
    {
     "name": "stdout",
     "output_type": "stream",
     "text": [
      "-1\n"
     ]
    },
    {
     "name": "stderr",
     "output_type": "stream",
     "text": [
      "\r",
      " 17%|█▋        | 193/1148 [11:56<1:00:39,  3.81s/it]"
     ]
    },
    {
     "name": "stdout",
     "output_type": "stream",
     "text": [
      "-5\n"
     ]
    },
    {
     "name": "stderr",
     "output_type": "stream",
     "text": [
      "\r",
      " 17%|█▋        | 194/1148 [12:00<1:04:54,  4.08s/it]"
     ]
    },
    {
     "name": "stdout",
     "output_type": "stream",
     "text": [
      "-2\n"
     ]
    },
    {
     "name": "stderr",
     "output_type": "stream",
     "text": [
      "\r",
      " 17%|█▋        | 195/1148 [12:04<1:01:24,  3.87s/it]"
     ]
    },
    {
     "name": "stdout",
     "output_type": "stream",
     "text": [
      "-4\n"
     ]
    },
    {
     "name": "stderr",
     "output_type": "stream",
     "text": [
      "\r",
      " 17%|█▋        | 196/1148 [12:08<1:03:13,  3.98s/it]"
     ]
    },
    {
     "name": "stdout",
     "output_type": "stream",
     "text": [
      "-7\n"
     ]
    },
    {
     "name": "stderr",
     "output_type": "stream",
     "text": [
      "\r",
      " 17%|█▋        | 197/1148 [12:13<1:08:41,  4.33s/it]"
     ]
    },
    {
     "name": "stdout",
     "output_type": "stream",
     "text": [
      "-6\n"
     ]
    },
    {
     "name": "stderr",
     "output_type": "stream",
     "text": [
      "\r",
      " 17%|█▋        | 198/1148 [12:17<1:04:43,  4.09s/it]"
     ]
    },
    {
     "name": "stdout",
     "output_type": "stream",
     "text": [
      "-3\n"
     ]
    },
    {
     "name": "stderr",
     "output_type": "stream",
     "text": [
      "\r",
      " 17%|█▋        | 199/1148 [12:20<1:00:03,  3.80s/it]"
     ]
    },
    {
     "name": "stdout",
     "output_type": "stream",
     "text": [
      "-2\n"
     ]
    },
    {
     "name": "stderr",
     "output_type": "stream",
     "text": [
      "\r",
      " 17%|█▋        | 200/1148 [12:23<58:21,  3.69s/it]  "
     ]
    },
    {
     "name": "stdout",
     "output_type": "stream",
     "text": [
      "-4\n"
     ]
    },
    {
     "name": "stderr",
     "output_type": "stream",
     "text": [
      "\r",
      " 18%|█▊        | 201/1148 [12:27<58:43,  3.72s/it]"
     ]
    },
    {
     "name": "stdout",
     "output_type": "stream",
     "text": [
      "-5\n"
     ]
    },
    {
     "name": "stderr",
     "output_type": "stream",
     "text": [
      "\r",
      " 18%|█▊        | 202/1148 [12:31<59:41,  3.79s/it]"
     ]
    },
    {
     "name": "stdout",
     "output_type": "stream",
     "text": [
      "-3\n"
     ]
    },
    {
     "name": "stderr",
     "output_type": "stream",
     "text": [
      "\r",
      " 18%|█▊        | 203/1148 [12:34<56:43,  3.60s/it]"
     ]
    },
    {
     "name": "stdout",
     "output_type": "stream",
     "text": [
      "-3\n"
     ]
    },
    {
     "name": "stderr",
     "output_type": "stream",
     "text": [
      "\r",
      " 18%|█▊        | 204/1148 [12:38<56:54,  3.62s/it]"
     ]
    },
    {
     "name": "stdout",
     "output_type": "stream",
     "text": [
      "-7\n"
     ]
    },
    {
     "name": "stderr",
     "output_type": "stream",
     "text": [
      "\r",
      " 18%|█▊        | 205/1148 [12:42<57:41,  3.67s/it]"
     ]
    },
    {
     "name": "stdout",
     "output_type": "stream",
     "text": [
      "-4\n"
     ]
    },
    {
     "name": "stderr",
     "output_type": "stream",
     "text": [
      "\r",
      " 18%|█▊        | 206/1148 [12:46<1:00:07,  3.83s/it]"
     ]
    },
    {
     "name": "stdout",
     "output_type": "stream",
     "text": [
      "-6\n"
     ]
    },
    {
     "name": "stderr",
     "output_type": "stream",
     "text": [
      "\r",
      " 18%|█▊        | 207/1148 [12:50<1:00:45,  3.87s/it]"
     ]
    },
    {
     "name": "stdout",
     "output_type": "stream",
     "text": [
      "-3\n"
     ]
    },
    {
     "name": "stderr",
     "output_type": "stream",
     "text": [
      "\r",
      " 18%|█▊        | 208/1148 [12:53<57:16,  3.66s/it]  "
     ]
    },
    {
     "name": "stdout",
     "output_type": "stream",
     "text": [
      "-4\n"
     ]
    },
    {
     "name": "stderr",
     "output_type": "stream",
     "text": [
      "\r",
      " 18%|█▊        | 209/1148 [12:57<59:12,  3.78s/it]"
     ]
    },
    {
     "name": "stdout",
     "output_type": "stream",
     "text": [
      "-3\n"
     ]
    },
    {
     "name": "stderr",
     "output_type": "stream",
     "text": [
      "\r",
      " 18%|█▊        | 210/1148 [13:02<1:04:51,  4.15s/it]"
     ]
    },
    {
     "name": "stdout",
     "output_type": "stream",
     "text": [
      "-5\n"
     ]
    },
    {
     "name": "stderr",
     "output_type": "stream",
     "text": [
      "\r",
      " 18%|█▊        | 211/1148 [13:06<1:02:26,  4.00s/it]"
     ]
    },
    {
     "name": "stdout",
     "output_type": "stream",
     "text": [
      "-4\n"
     ]
    },
    {
     "name": "stderr",
     "output_type": "stream",
     "text": [
      "\r",
      " 18%|█▊        | 212/1148 [13:10<1:04:04,  4.11s/it]"
     ]
    },
    {
     "name": "stdout",
     "output_type": "stream",
     "text": [
      "-2\n"
     ]
    },
    {
     "name": "stderr",
     "output_type": "stream",
     "text": [
      "\r",
      " 19%|█▊        | 213/1148 [13:14<1:01:47,  3.96s/it]"
     ]
    },
    {
     "name": "stdout",
     "output_type": "stream",
     "text": [
      "-5\n"
     ]
    },
    {
     "name": "stderr",
     "output_type": "stream",
     "text": [
      "\r",
      " 19%|█▊        | 214/1148 [13:18<1:01:51,  3.97s/it]"
     ]
    },
    {
     "name": "stdout",
     "output_type": "stream",
     "text": [
      "-5\n"
     ]
    },
    {
     "name": "stderr",
     "output_type": "stream",
     "text": [
      "\r",
      " 19%|█▊        | 215/1148 [13:21<59:20,  3.82s/it]  "
     ]
    },
    {
     "name": "stdout",
     "output_type": "stream",
     "text": [
      "-5\n"
     ]
    },
    {
     "name": "stderr",
     "output_type": "stream",
     "text": [
      "\r",
      " 19%|█▉        | 216/1148 [13:24<56:44,  3.65s/it]"
     ]
    },
    {
     "name": "stdout",
     "output_type": "stream",
     "text": [
      "-8\n"
     ]
    },
    {
     "name": "stderr",
     "output_type": "stream",
     "text": [
      "\r",
      " 19%|█▉        | 217/1148 [13:28<57:22,  3.70s/it]"
     ]
    },
    {
     "name": "stdout",
     "output_type": "stream",
     "text": [
      "-7\n"
     ]
    },
    {
     "name": "stderr",
     "output_type": "stream",
     "text": [
      "\r",
      " 19%|█▉        | 218/1148 [13:33<1:00:28,  3.90s/it]"
     ]
    },
    {
     "name": "stdout",
     "output_type": "stream",
     "text": [
      "-3\n"
     ]
    },
    {
     "name": "stderr",
     "output_type": "stream",
     "text": [
      "\r",
      " 19%|█▉        | 219/1148 [13:37<1:04:31,  4.17s/it]"
     ]
    },
    {
     "name": "stdout",
     "output_type": "stream",
     "text": [
      "-6\n"
     ]
    },
    {
     "name": "stderr",
     "output_type": "stream",
     "text": [
      "\r",
      " 19%|█▉        | 220/1148 [13:41<1:02:49,  4.06s/it]"
     ]
    },
    {
     "name": "stdout",
     "output_type": "stream",
     "text": [
      "-4\n"
     ]
    },
    {
     "name": "stderr",
     "output_type": "stream",
     "text": [
      "\r",
      " 19%|█▉        | 221/1148 [13:46<1:03:54,  4.14s/it]"
     ]
    },
    {
     "name": "stdout",
     "output_type": "stream",
     "text": [
      "-5\n"
     ]
    },
    {
     "name": "stderr",
     "output_type": "stream",
     "text": [
      "\r",
      " 19%|█▉        | 222/1148 [13:50<1:03:26,  4.11s/it]"
     ]
    },
    {
     "name": "stdout",
     "output_type": "stream",
     "text": [
      "-2\n"
     ]
    },
    {
     "name": "stderr",
     "output_type": "stream",
     "text": [
      "\r",
      " 19%|█▉        | 223/1148 [13:53<1:00:59,  3.96s/it]"
     ]
    },
    {
     "name": "stdout",
     "output_type": "stream",
     "text": [
      "-3\n"
     ]
    },
    {
     "name": "stderr",
     "output_type": "stream",
     "text": [
      "\r",
      " 20%|█▉        | 224/1148 [13:57<59:20,  3.85s/it]  "
     ]
    },
    {
     "name": "stdout",
     "output_type": "stream",
     "text": [
      "-6\n"
     ]
    },
    {
     "name": "stderr",
     "output_type": "stream",
     "text": [
      "\r",
      " 20%|█▉        | 225/1148 [14:01<1:00:04,  3.91s/it]"
     ]
    },
    {
     "name": "stdout",
     "output_type": "stream",
     "text": [
      "-3\n"
     ]
    },
    {
     "name": "stderr",
     "output_type": "stream",
     "text": [
      "\r",
      " 20%|█▉        | 226/1148 [14:05<1:00:19,  3.93s/it]"
     ]
    },
    {
     "name": "stdout",
     "output_type": "stream",
     "text": [
      "-4\n"
     ]
    },
    {
     "name": "stderr",
     "output_type": "stream",
     "text": [
      "\r",
      " 20%|█▉        | 227/1148 [14:08<58:56,  3.84s/it]  "
     ]
    },
    {
     "name": "stdout",
     "output_type": "stream",
     "text": [
      "-4\n"
     ]
    },
    {
     "name": "stderr",
     "output_type": "stream",
     "text": [
      "\r",
      " 20%|█▉        | 228/1148 [14:12<58:35,  3.82s/it]"
     ]
    },
    {
     "name": "stdout",
     "output_type": "stream",
     "text": [
      "-2\n"
     ]
    },
    {
     "name": "stderr",
     "output_type": "stream",
     "text": [
      "\r",
      " 20%|█▉        | 229/1148 [14:16<58:43,  3.83s/it]"
     ]
    },
    {
     "name": "stdout",
     "output_type": "stream",
     "text": [
      "-4\n"
     ]
    },
    {
     "name": "stderr",
     "output_type": "stream",
     "text": [
      "\r",
      " 20%|██        | 230/1148 [14:20<59:24,  3.88s/it]"
     ]
    },
    {
     "name": "stdout",
     "output_type": "stream",
     "text": [
      "-6\n"
     ]
    },
    {
     "name": "stderr",
     "output_type": "stream",
     "text": [
      "\r",
      " 20%|██        | 231/1148 [14:24<58:57,  3.86s/it]"
     ]
    },
    {
     "name": "stdout",
     "output_type": "stream",
     "text": [
      "-12\n"
     ]
    },
    {
     "name": "stderr",
     "output_type": "stream",
     "text": [
      "\r",
      " 20%|██        | 232/1148 [14:27<55:49,  3.66s/it]"
     ]
    },
    {
     "name": "stdout",
     "output_type": "stream",
     "text": [
      "-2\n"
     ]
    },
    {
     "name": "stderr",
     "output_type": "stream",
     "text": [
      "\r",
      " 20%|██        | 233/1148 [14:31<55:58,  3.67s/it]"
     ]
    },
    {
     "name": "stdout",
     "output_type": "stream",
     "text": [
      "-2\n"
     ]
    },
    {
     "name": "stderr",
     "output_type": "stream",
     "text": [
      "\r",
      " 20%|██        | 234/1148 [14:35<58:24,  3.83s/it]"
     ]
    },
    {
     "name": "stdout",
     "output_type": "stream",
     "text": [
      "-7\n"
     ]
    },
    {
     "name": "stderr",
     "output_type": "stream",
     "text": [
      "\r",
      " 20%|██        | 235/1148 [14:39<57:16,  3.76s/it]"
     ]
    },
    {
     "name": "stdout",
     "output_type": "stream",
     "text": [
      "-3\n"
     ]
    },
    {
     "name": "stderr",
     "output_type": "stream",
     "text": [
      "\r",
      " 21%|██        | 236/1148 [14:43<1:00:58,  4.01s/it]"
     ]
    },
    {
     "name": "stdout",
     "output_type": "stream",
     "text": [
      "-2\n"
     ]
    },
    {
     "name": "stderr",
     "output_type": "stream",
     "text": [
      "\r",
      " 21%|██        | 237/1148 [14:47<58:18,  3.84s/it]  "
     ]
    },
    {
     "name": "stdout",
     "output_type": "stream",
     "text": [
      "-4\n"
     ]
    },
    {
     "name": "stderr",
     "output_type": "stream",
     "text": [
      "\r",
      " 21%|██        | 238/1148 [14:51<58:37,  3.87s/it]"
     ]
    },
    {
     "name": "stdout",
     "output_type": "stream",
     "text": [
      "-5\n"
     ]
    },
    {
     "name": "stderr",
     "output_type": "stream",
     "text": [
      "\r",
      " 21%|██        | 239/1148 [14:56<1:05:45,  4.34s/it]"
     ]
    },
    {
     "name": "stdout",
     "output_type": "stream",
     "text": [
      "-3\n"
     ]
    },
    {
     "name": "stderr",
     "output_type": "stream",
     "text": [
      "\r",
      " 21%|██        | 240/1148 [15:00<1:04:24,  4.26s/it]"
     ]
    },
    {
     "name": "stdout",
     "output_type": "stream",
     "text": [
      "-4\n"
     ]
    },
    {
     "name": "stderr",
     "output_type": "stream",
     "text": [
      "\r",
      " 21%|██        | 241/1148 [15:04<1:02:01,  4.10s/it]"
     ]
    },
    {
     "name": "stdout",
     "output_type": "stream",
     "text": [
      "1\n"
     ]
    },
    {
     "name": "stderr",
     "output_type": "stream",
     "text": [
      "\r",
      " 21%|██        | 242/1148 [15:08<1:00:21,  4.00s/it]"
     ]
    },
    {
     "name": "stdout",
     "output_type": "stream",
     "text": [
      "-2\n"
     ]
    },
    {
     "name": "stderr",
     "output_type": "stream",
     "text": [
      "\r",
      " 21%|██        | 243/1148 [15:12<1:01:55,  4.11s/it]"
     ]
    },
    {
     "name": "stdout",
     "output_type": "stream",
     "text": [
      "-5\n"
     ]
    },
    {
     "name": "stderr",
     "output_type": "stream",
     "text": [
      "\r",
      " 21%|██▏       | 244/1148 [15:16<1:01:11,  4.06s/it]"
     ]
    },
    {
     "name": "stdout",
     "output_type": "stream",
     "text": [
      "-3\n"
     ]
    },
    {
     "name": "stderr",
     "output_type": "stream",
     "text": [
      "\r",
      " 21%|██▏       | 245/1148 [15:19<57:08,  3.80s/it]  "
     ]
    },
    {
     "name": "stdout",
     "output_type": "stream",
     "text": [
      "-4\n"
     ]
    },
    {
     "name": "stderr",
     "output_type": "stream",
     "text": [
      "\r",
      " 21%|██▏       | 246/1148 [15:25<1:06:14,  4.41s/it]"
     ]
    },
    {
     "name": "stdout",
     "output_type": "stream",
     "text": [
      "-2\n"
     ]
    },
    {
     "name": "stderr",
     "output_type": "stream",
     "text": [
      "\r",
      " 22%|██▏       | 247/1148 [15:28<59:57,  3.99s/it]  "
     ]
    },
    {
     "name": "stdout",
     "output_type": "stream",
     "text": [
      "-2\n"
     ]
    },
    {
     "name": "stderr",
     "output_type": "stream",
     "text": [
      "\r",
      " 22%|██▏       | 248/1148 [15:31<56:17,  3.75s/it]"
     ]
    },
    {
     "name": "stdout",
     "output_type": "stream",
     "text": [
      "-4\n"
     ]
    },
    {
     "name": "stderr",
     "output_type": "stream",
     "text": [
      "\r",
      " 22%|██▏       | 249/1148 [15:35<56:51,  3.79s/it]"
     ]
    },
    {
     "name": "stdout",
     "output_type": "stream",
     "text": [
      "-5\n"
     ]
    },
    {
     "name": "stderr",
     "output_type": "stream",
     "text": [
      "\r",
      " 22%|██▏       | 250/1148 [15:39<55:56,  3.74s/it]"
     ]
    },
    {
     "name": "stdout",
     "output_type": "stream",
     "text": [
      "-2\n"
     ]
    },
    {
     "name": "stderr",
     "output_type": "stream",
     "text": [
      "\r",
      " 22%|██▏       | 251/1148 [15:42<55:12,  3.69s/it]"
     ]
    },
    {
     "name": "stdout",
     "output_type": "stream",
     "text": [
      "-2\n"
     ]
    },
    {
     "name": "stderr",
     "output_type": "stream",
     "text": [
      "\r",
      " 22%|██▏       | 252/1148 [15:46<54:20,  3.64s/it]"
     ]
    },
    {
     "name": "stdout",
     "output_type": "stream",
     "text": [
      "0\n"
     ]
    },
    {
     "name": "stderr",
     "output_type": "stream",
     "text": [
      "\r",
      " 22%|██▏       | 253/1148 [15:49<51:47,  3.47s/it]"
     ]
    },
    {
     "name": "stdout",
     "output_type": "stream",
     "text": [
      "-2\n"
     ]
    },
    {
     "name": "stderr",
     "output_type": "stream",
     "text": [
      "\r",
      " 22%|██▏       | 254/1148 [15:53<53:33,  3.59s/it]"
     ]
    },
    {
     "name": "stdout",
     "output_type": "stream",
     "text": [
      "-7\n"
     ]
    },
    {
     "name": "stderr",
     "output_type": "stream",
     "text": [
      "\r",
      " 22%|██▏       | 255/1148 [15:56<52:48,  3.55s/it]"
     ]
    },
    {
     "name": "stdout",
     "output_type": "stream",
     "text": [
      "-5\n"
     ]
    },
    {
     "name": "stderr",
     "output_type": "stream",
     "text": [
      "\r",
      " 22%|██▏       | 256/1148 [16:01<59:51,  4.03s/it]"
     ]
    },
    {
     "name": "stdout",
     "output_type": "stream",
     "text": [
      "-5\n"
     ]
    },
    {
     "name": "stderr",
     "output_type": "stream",
     "text": [
      "\r",
      " 22%|██▏       | 257/1148 [16:04<55:37,  3.75s/it]"
     ]
    },
    {
     "name": "stdout",
     "output_type": "stream",
     "text": [
      "-6\n"
     ]
    },
    {
     "name": "stderr",
     "output_type": "stream",
     "text": [
      "\r",
      " 22%|██▏       | 258/1148 [16:08<54:36,  3.68s/it]"
     ]
    },
    {
     "name": "stdout",
     "output_type": "stream",
     "text": [
      "-3\n"
     ]
    },
    {
     "name": "stderr",
     "output_type": "stream",
     "text": [
      "\r",
      " 23%|██▎       | 259/1148 [16:11<52:51,  3.57s/it]"
     ]
    },
    {
     "name": "stdout",
     "output_type": "stream",
     "text": [
      "-6\n"
     ]
    },
    {
     "name": "stderr",
     "output_type": "stream",
     "text": [
      "\r",
      " 23%|██▎       | 260/1148 [16:14<50:48,  3.43s/it]"
     ]
    },
    {
     "name": "stdout",
     "output_type": "stream",
     "text": [
      "-3\n"
     ]
    },
    {
     "name": "stderr",
     "output_type": "stream",
     "text": [
      "\r",
      " 23%|██▎       | 261/1148 [16:18<53:40,  3.63s/it]"
     ]
    },
    {
     "name": "stdout",
     "output_type": "stream",
     "text": [
      "-2\n"
     ]
    },
    {
     "name": "stderr",
     "output_type": "stream",
     "text": [
      "\r",
      " 23%|██▎       | 262/1148 [16:22<52:33,  3.56s/it]"
     ]
    },
    {
     "name": "stdout",
     "output_type": "stream",
     "text": [
      "-6\n"
     ]
    },
    {
     "name": "stderr",
     "output_type": "stream",
     "text": [
      "\r",
      " 23%|██▎       | 263/1148 [16:26<54:44,  3.71s/it]"
     ]
    },
    {
     "name": "stdout",
     "output_type": "stream",
     "text": [
      "-3\n"
     ]
    },
    {
     "name": "stderr",
     "output_type": "stream",
     "text": [
      "\r",
      " 23%|██▎       | 264/1148 [16:30<56:44,  3.85s/it]"
     ]
    },
    {
     "name": "stdout",
     "output_type": "stream",
     "text": [
      "-3\n"
     ]
    },
    {
     "name": "stderr",
     "output_type": "stream",
     "text": [
      "\r",
      " 23%|██▎       | 265/1148 [16:33<53:58,  3.67s/it]"
     ]
    },
    {
     "name": "stdout",
     "output_type": "stream",
     "text": [
      "-3\n"
     ]
    },
    {
     "name": "stderr",
     "output_type": "stream",
     "text": [
      "\r",
      " 23%|██▎       | 266/1148 [16:37<55:54,  3.80s/it]"
     ]
    },
    {
     "name": "stdout",
     "output_type": "stream",
     "text": [
      "-3\n"
     ]
    },
    {
     "name": "stderr",
     "output_type": "stream",
     "text": [
      "\r",
      " 23%|██▎       | 267/1148 [16:41<53:40,  3.66s/it]"
     ]
    },
    {
     "name": "stdout",
     "output_type": "stream",
     "text": [
      "-5\n"
     ]
    },
    {
     "name": "stderr",
     "output_type": "stream",
     "text": [
      "\r",
      " 23%|██▎       | 268/1148 [16:44<52:09,  3.56s/it]"
     ]
    },
    {
     "name": "stdout",
     "output_type": "stream",
     "text": [
      "-5\n"
     ]
    },
    {
     "name": "stderr",
     "output_type": "stream",
     "text": [
      "\r",
      " 23%|██▎       | 269/1148 [16:48<51:58,  3.55s/it]"
     ]
    },
    {
     "name": "stdout",
     "output_type": "stream",
     "text": [
      "-5\n"
     ]
    },
    {
     "name": "stderr",
     "output_type": "stream",
     "text": [
      "\r",
      " 24%|██▎       | 270/1148 [16:51<52:21,  3.58s/it]"
     ]
    },
    {
     "name": "stdout",
     "output_type": "stream",
     "text": [
      "-3\n"
     ]
    },
    {
     "name": "stderr",
     "output_type": "stream",
     "text": [
      "\r",
      " 24%|██▎       | 271/1148 [16:55<51:34,  3.53s/it]"
     ]
    },
    {
     "name": "stdout",
     "output_type": "stream",
     "text": [
      "-2\n"
     ]
    },
    {
     "name": "stderr",
     "output_type": "stream",
     "text": [
      "\r",
      " 24%|██▎       | 272/1148 [16:59<53:34,  3.67s/it]"
     ]
    },
    {
     "name": "stdout",
     "output_type": "stream",
     "text": [
      "-5\n"
     ]
    },
    {
     "name": "stderr",
     "output_type": "stream",
     "text": [
      "\r",
      " 24%|██▍       | 273/1148 [17:02<53:27,  3.67s/it]"
     ]
    },
    {
     "name": "stdout",
     "output_type": "stream",
     "text": [
      "-4\n"
     ]
    },
    {
     "name": "stderr",
     "output_type": "stream",
     "text": [
      "\r",
      " 24%|██▍       | 274/1148 [17:07<57:31,  3.95s/it]"
     ]
    },
    {
     "name": "stdout",
     "output_type": "stream",
     "text": [
      "-2\n"
     ]
    },
    {
     "name": "stderr",
     "output_type": "stream",
     "text": [
      "\r",
      " 24%|██▍       | 275/1148 [17:10<54:34,  3.75s/it]"
     ]
    },
    {
     "name": "stdout",
     "output_type": "stream",
     "text": [
      "-3\n"
     ]
    },
    {
     "name": "stderr",
     "output_type": "stream",
     "text": [
      "\r",
      " 24%|██▍       | 276/1148 [17:14<54:20,  3.74s/it]"
     ]
    },
    {
     "name": "stdout",
     "output_type": "stream",
     "text": [
      "-6\n"
     ]
    },
    {
     "name": "stderr",
     "output_type": "stream",
     "text": [
      "\r",
      " 24%|██▍       | 277/1148 [17:18<53:57,  3.72s/it]"
     ]
    },
    {
     "name": "stdout",
     "output_type": "stream",
     "text": [
      "-8\n"
     ]
    },
    {
     "name": "stderr",
     "output_type": "stream",
     "text": [
      "\r",
      " 24%|██▍       | 278/1148 [17:21<52:15,  3.60s/it]"
     ]
    },
    {
     "name": "stdout",
     "output_type": "stream",
     "text": [
      "-5\n"
     ]
    },
    {
     "name": "stderr",
     "output_type": "stream",
     "text": [
      "\r",
      " 24%|██▍       | 279/1148 [17:24<51:06,  3.53s/it]"
     ]
    },
    {
     "name": "stdout",
     "output_type": "stream",
     "text": [
      "-6\n"
     ]
    },
    {
     "name": "stderr",
     "output_type": "stream",
     "text": [
      "\r",
      " 24%|██▍       | 280/1148 [17:28<52:40,  3.64s/it]"
     ]
    },
    {
     "name": "stdout",
     "output_type": "stream",
     "text": [
      "-6\n"
     ]
    },
    {
     "name": "stderr",
     "output_type": "stream",
     "text": [
      "\r",
      " 24%|██▍       | 281/1148 [17:31<50:02,  3.46s/it]"
     ]
    },
    {
     "name": "stdout",
     "output_type": "stream",
     "text": [
      "-2\n"
     ]
    },
    {
     "name": "stderr",
     "output_type": "stream",
     "text": [
      "\r",
      " 25%|██▍       | 282/1148 [17:35<52:41,  3.65s/it]"
     ]
    },
    {
     "name": "stdout",
     "output_type": "stream",
     "text": [
      "-10\n"
     ]
    },
    {
     "name": "stderr",
     "output_type": "stream",
     "text": [
      "\r",
      " 25%|██▍       | 283/1148 [17:39<54:24,  3.77s/it]"
     ]
    },
    {
     "name": "stdout",
     "output_type": "stream",
     "text": [
      "-3\n"
     ]
    },
    {
     "name": "stderr",
     "output_type": "stream",
     "text": [
      "\r",
      " 25%|██▍       | 284/1148 [17:43<54:10,  3.76s/it]"
     ]
    },
    {
     "name": "stdout",
     "output_type": "stream",
     "text": [
      "-3\n"
     ]
    },
    {
     "name": "stderr",
     "output_type": "stream",
     "text": [
      "\r",
      " 25%|██▍       | 285/1148 [17:47<54:53,  3.82s/it]"
     ]
    },
    {
     "name": "stdout",
     "output_type": "stream",
     "text": [
      "-4\n"
     ]
    },
    {
     "name": "stderr",
     "output_type": "stream",
     "text": [
      "\r",
      " 25%|██▍       | 286/1148 [17:51<55:38,  3.87s/it]"
     ]
    },
    {
     "name": "stdout",
     "output_type": "stream",
     "text": [
      "-3\n"
     ]
    },
    {
     "name": "stderr",
     "output_type": "stream",
     "text": [
      "\r",
      " 25%|██▌       | 287/1148 [17:54<52:20,  3.65s/it]"
     ]
    },
    {
     "name": "stdout",
     "output_type": "stream",
     "text": [
      "-1\n"
     ]
    },
    {
     "name": "stderr",
     "output_type": "stream",
     "text": [
      "\r",
      " 25%|██▌       | 288/1148 [17:58<54:46,  3.82s/it]"
     ]
    },
    {
     "name": "stdout",
     "output_type": "stream",
     "text": [
      "-5\n"
     ]
    },
    {
     "name": "stderr",
     "output_type": "stream",
     "text": [
      "\r",
      " 25%|██▌       | 289/1148 [18:02<52:43,  3.68s/it]"
     ]
    },
    {
     "name": "stdout",
     "output_type": "stream",
     "text": [
      "-7\n"
     ]
    },
    {
     "name": "stderr",
     "output_type": "stream",
     "text": [
      "\r",
      " 25%|██▌       | 290/1148 [18:06<53:51,  3.77s/it]"
     ]
    },
    {
     "name": "stdout",
     "output_type": "stream",
     "text": [
      "-5\n"
     ]
    },
    {
     "name": "stderr",
     "output_type": "stream",
     "text": [
      "\r",
      " 25%|██▌       | 291/1148 [18:13<1:09:19,  4.85s/it]"
     ]
    },
    {
     "name": "stdout",
     "output_type": "stream",
     "text": [
      "-6\n"
     ]
    },
    {
     "name": "stderr",
     "output_type": "stream",
     "text": [
      "\r",
      " 25%|██▌       | 292/1148 [18:17<1:04:48,  4.54s/it]"
     ]
    },
    {
     "name": "stdout",
     "output_type": "stream",
     "text": [
      "-2\n"
     ]
    },
    {
     "name": "stderr",
     "output_type": "stream",
     "text": [
      "\r",
      " 26%|██▌       | 293/1148 [18:21<1:01:02,  4.28s/it]"
     ]
    },
    {
     "name": "stdout",
     "output_type": "stream",
     "text": [
      "-2\n"
     ]
    },
    {
     "name": "stderr",
     "output_type": "stream",
     "text": [
      "\r",
      " 26%|██▌       | 294/1148 [18:24<58:56,  4.14s/it]  "
     ]
    },
    {
     "name": "stdout",
     "output_type": "stream",
     "text": [
      "-4\n"
     ]
    },
    {
     "name": "stderr",
     "output_type": "stream",
     "text": [
      "\r",
      " 26%|██▌       | 295/1148 [18:28<55:47,  3.92s/it]"
     ]
    },
    {
     "name": "stdout",
     "output_type": "stream",
     "text": [
      "-5\n"
     ]
    },
    {
     "name": "stderr",
     "output_type": "stream",
     "text": [
      "\r",
      " 26%|██▌       | 296/1148 [18:31<54:34,  3.84s/it]"
     ]
    },
    {
     "name": "stdout",
     "output_type": "stream",
     "text": [
      "-5\n"
     ]
    },
    {
     "name": "stderr",
     "output_type": "stream",
     "text": [
      "\r",
      " 26%|██▌       | 297/1148 [18:36<55:55,  3.94s/it]"
     ]
    },
    {
     "name": "stdout",
     "output_type": "stream",
     "text": [
      "0\n"
     ]
    },
    {
     "name": "stderr",
     "output_type": "stream",
     "text": [
      "\r",
      " 26%|██▌       | 298/1148 [18:39<55:19,  3.91s/it]"
     ]
    },
    {
     "name": "stdout",
     "output_type": "stream",
     "text": [
      "-9\n"
     ]
    },
    {
     "name": "stderr",
     "output_type": "stream",
     "text": [
      "\r",
      " 26%|██▌       | 299/1148 [18:43<52:24,  3.70s/it]"
     ]
    },
    {
     "name": "stdout",
     "output_type": "stream",
     "text": [
      "-5\n"
     ]
    },
    {
     "name": "stderr",
     "output_type": "stream",
     "text": [
      "\r",
      " 26%|██▌       | 300/1148 [18:46<52:53,  3.74s/it]"
     ]
    },
    {
     "name": "stdout",
     "output_type": "stream",
     "text": [
      "-6\n"
     ]
    },
    {
     "name": "stderr",
     "output_type": "stream",
     "text": [
      "\r",
      " 26%|██▌       | 301/1148 [18:50<52:29,  3.72s/it]"
     ]
    },
    {
     "name": "stdout",
     "output_type": "stream",
     "text": [
      "-2\n"
     ]
    },
    {
     "name": "stderr",
     "output_type": "stream",
     "text": [
      "\r",
      " 26%|██▋       | 302/1148 [18:54<51:33,  3.66s/it]"
     ]
    },
    {
     "name": "stdout",
     "output_type": "stream",
     "text": [
      "-5\n"
     ]
    },
    {
     "name": "stderr",
     "output_type": "stream",
     "text": [
      "\r",
      " 26%|██▋       | 303/1148 [18:57<51:15,  3.64s/it]"
     ]
    },
    {
     "name": "stdout",
     "output_type": "stream",
     "text": [
      "-3\n"
     ]
    },
    {
     "name": "stderr",
     "output_type": "stream",
     "text": [
      "\r",
      " 26%|██▋       | 304/1148 [19:00<48:43,  3.46s/it]"
     ]
    },
    {
     "name": "stdout",
     "output_type": "stream",
     "text": [
      "-4\n"
     ]
    },
    {
     "name": "stderr",
     "output_type": "stream",
     "text": [
      "\r",
      " 27%|██▋       | 305/1148 [19:04<48:42,  3.47s/it]"
     ]
    },
    {
     "name": "stdout",
     "output_type": "stream",
     "text": [
      "-2\n"
     ]
    },
    {
     "name": "stderr",
     "output_type": "stream",
     "text": [
      "\r",
      " 27%|██▋       | 306/1148 [19:08<50:40,  3.61s/it]"
     ]
    },
    {
     "name": "stdout",
     "output_type": "stream",
     "text": [
      "-7\n"
     ]
    },
    {
     "name": "stderr",
     "output_type": "stream",
     "text": [
      "\r",
      " 27%|██▋       | 307/1148 [19:11<49:03,  3.50s/it]"
     ]
    },
    {
     "name": "stdout",
     "output_type": "stream",
     "text": [
      "-6\n"
     ]
    },
    {
     "name": "stderr",
     "output_type": "stream",
     "text": [
      "\r",
      " 27%|██▋       | 308/1148 [19:14<47:52,  3.42s/it]"
     ]
    },
    {
     "name": "stdout",
     "output_type": "stream",
     "text": [
      "-3\n"
     ]
    },
    {
     "name": "stderr",
     "output_type": "stream",
     "text": [
      "\r",
      " 27%|██▋       | 309/1148 [19:18<50:02,  3.58s/it]"
     ]
    },
    {
     "name": "stdout",
     "output_type": "stream",
     "text": [
      "-6\n"
     ]
    },
    {
     "name": "stderr",
     "output_type": "stream",
     "text": [
      "\r",
      " 27%|██▋       | 310/1148 [19:22<51:19,  3.67s/it]"
     ]
    },
    {
     "name": "stdout",
     "output_type": "stream",
     "text": [
      "-1\n"
     ]
    },
    {
     "name": "stderr",
     "output_type": "stream",
     "text": [
      "\r",
      " 27%|██▋       | 311/1148 [19:26<53:00,  3.80s/it]"
     ]
    },
    {
     "name": "stdout",
     "output_type": "stream",
     "text": [
      "3\n"
     ]
    },
    {
     "name": "stderr",
     "output_type": "stream",
     "text": [
      "\r",
      " 27%|██▋       | 312/1148 [19:30<51:37,  3.71s/it]"
     ]
    },
    {
     "name": "stdout",
     "output_type": "stream",
     "text": [
      "-5\n"
     ]
    },
    {
     "name": "stderr",
     "output_type": "stream",
     "text": [
      "\r",
      " 27%|██▋       | 313/1148 [19:33<48:48,  3.51s/it]"
     ]
    },
    {
     "name": "stdout",
     "output_type": "stream",
     "text": [
      "-6\n"
     ]
    },
    {
     "name": "stderr",
     "output_type": "stream",
     "text": [
      "\r",
      " 27%|██▋       | 314/1148 [19:38<54:32,  3.92s/it]"
     ]
    },
    {
     "name": "stdout",
     "output_type": "stream",
     "text": [
      "-4\n"
     ]
    },
    {
     "name": "stderr",
     "output_type": "stream",
     "text": [
      "\r",
      " 27%|██▋       | 315/1148 [19:41<53:03,  3.82s/it]"
     ]
    },
    {
     "name": "stdout",
     "output_type": "stream",
     "text": [
      "-3\n"
     ]
    },
    {
     "name": "stderr",
     "output_type": "stream",
     "text": [
      "\r",
      " 28%|██▊       | 316/1148 [19:44<48:49,  3.52s/it]"
     ]
    },
    {
     "name": "stdout",
     "output_type": "stream",
     "text": [
      "-5\n"
     ]
    },
    {
     "name": "stderr",
     "output_type": "stream",
     "text": [
      "\r",
      " 28%|██▊       | 317/1148 [19:48<50:10,  3.62s/it]"
     ]
    },
    {
     "name": "stdout",
     "output_type": "stream",
     "text": [
      "-5\n"
     ]
    },
    {
     "name": "stderr",
     "output_type": "stream",
     "text": [
      "\r",
      " 28%|██▊       | 318/1148 [19:52<51:26,  3.72s/it]"
     ]
    },
    {
     "name": "stdout",
     "output_type": "stream",
     "text": [
      "-3\n"
     ]
    },
    {
     "name": "stderr",
     "output_type": "stream",
     "text": [
      "\r",
      " 28%|██▊       | 319/1148 [19:55<49:58,  3.62s/it]"
     ]
    },
    {
     "name": "stdout",
     "output_type": "stream",
     "text": [
      "-2\n"
     ]
    },
    {
     "name": "stderr",
     "output_type": "stream",
     "text": [
      "\r",
      " 28%|██▊       | 320/1148 [19:59<51:26,  3.73s/it]"
     ]
    },
    {
     "name": "stdout",
     "output_type": "stream",
     "text": [
      "-5\n"
     ]
    },
    {
     "name": "stderr",
     "output_type": "stream",
     "text": [
      "\r",
      " 28%|██▊       | 321/1148 [20:04<57:59,  4.21s/it]"
     ]
    },
    {
     "name": "stdout",
     "output_type": "stream",
     "text": [
      "-1\n"
     ]
    },
    {
     "name": "stderr",
     "output_type": "stream",
     "text": [
      "\r",
      " 28%|██▊       | 322/1148 [20:08<54:42,  3.97s/it]"
     ]
    },
    {
     "name": "stdout",
     "output_type": "stream",
     "text": [
      "-4\n"
     ]
    },
    {
     "name": "stderr",
     "output_type": "stream",
     "text": [
      "\r",
      " 28%|██▊       | 323/1148 [20:11<52:00,  3.78s/it]"
     ]
    },
    {
     "name": "stdout",
     "output_type": "stream",
     "text": [
      "-4\n"
     ]
    },
    {
     "name": "stderr",
     "output_type": "stream",
     "text": [
      "\r",
      " 28%|██▊       | 324/1148 [20:14<49:40,  3.62s/it]"
     ]
    },
    {
     "name": "stdout",
     "output_type": "stream",
     "text": [
      "-6\n"
     ]
    },
    {
     "name": "stderr",
     "output_type": "stream",
     "text": [
      "\r",
      " 28%|██▊       | 325/1148 [20:18<49:56,  3.64s/it]"
     ]
    },
    {
     "name": "stdout",
     "output_type": "stream",
     "text": [
      "0\n"
     ]
    },
    {
     "name": "stderr",
     "output_type": "stream",
     "text": [
      "\r",
      " 28%|██▊       | 326/1148 [20:23<55:16,  4.03s/it]"
     ]
    },
    {
     "name": "stdout",
     "output_type": "stream",
     "text": [
      "-5\n"
     ]
    },
    {
     "name": "stderr",
     "output_type": "stream",
     "text": [
      "\r",
      " 28%|██▊       | 327/1148 [20:27<55:03,  4.02s/it]"
     ]
    },
    {
     "name": "stdout",
     "output_type": "stream",
     "text": [
      "-2\n"
     ]
    },
    {
     "name": "stderr",
     "output_type": "stream",
     "text": [
      "\r",
      " 29%|██▊       | 328/1148 [20:32<59:59,  4.39s/it]"
     ]
    },
    {
     "name": "stdout",
     "output_type": "stream",
     "text": [
      "-1\n"
     ]
    },
    {
     "name": "stderr",
     "output_type": "stream",
     "text": [
      "\r",
      " 29%|██▊       | 329/1148 [20:36<57:17,  4.20s/it]"
     ]
    },
    {
     "name": "stdout",
     "output_type": "stream",
     "text": [
      "-5\n"
     ]
    },
    {
     "name": "stderr",
     "output_type": "stream",
     "text": [
      "\r",
      " 29%|██▊       | 330/1148 [20:40<55:14,  4.05s/it]"
     ]
    },
    {
     "name": "stdout",
     "output_type": "stream",
     "text": [
      "-6\n"
     ]
    },
    {
     "name": "stderr",
     "output_type": "stream",
     "text": [
      "\r",
      " 29%|██▉       | 331/1148 [20:44<53:58,  3.96s/it]"
     ]
    },
    {
     "name": "stdout",
     "output_type": "stream",
     "text": [
      "-5\n"
     ]
    },
    {
     "name": "stderr",
     "output_type": "stream",
     "text": [
      "\r",
      " 29%|██▉       | 332/1148 [20:47<51:10,  3.76s/it]"
     ]
    },
    {
     "name": "stdout",
     "output_type": "stream",
     "text": [
      "-9\n"
     ]
    },
    {
     "name": "stderr",
     "output_type": "stream",
     "text": [
      "\r",
      " 29%|██▉       | 333/1148 [20:50<49:07,  3.62s/it]"
     ]
    },
    {
     "name": "stdout",
     "output_type": "stream",
     "text": [
      "-5\n"
     ]
    },
    {
     "name": "stderr",
     "output_type": "stream",
     "text": [
      "\r",
      " 29%|██▉       | 334/1148 [20:54<49:00,  3.61s/it]"
     ]
    },
    {
     "name": "stdout",
     "output_type": "stream",
     "text": [
      "-4\n"
     ]
    },
    {
     "name": "stderr",
     "output_type": "stream",
     "text": [
      "\r",
      " 29%|██▉       | 335/1148 [20:57<48:36,  3.59s/it]"
     ]
    },
    {
     "name": "stdout",
     "output_type": "stream",
     "text": [
      "-7\n"
     ]
    },
    {
     "name": "stderr",
     "output_type": "stream",
     "text": [
      "\r",
      " 29%|██▉       | 336/1148 [21:01<48:32,  3.59s/it]"
     ]
    },
    {
     "name": "stdout",
     "output_type": "stream",
     "text": [
      "-1\n"
     ]
    },
    {
     "name": "stderr",
     "output_type": "stream",
     "text": [
      "\r",
      " 29%|██▉       | 337/1148 [21:04<47:06,  3.49s/it]"
     ]
    },
    {
     "name": "stdout",
     "output_type": "stream",
     "text": [
      "-2\n"
     ]
    },
    {
     "name": "stderr",
     "output_type": "stream",
     "text": [
      "\r",
      " 29%|██▉       | 338/1148 [21:08<47:31,  3.52s/it]"
     ]
    },
    {
     "name": "stdout",
     "output_type": "stream",
     "text": [
      "-8\n"
     ]
    },
    {
     "name": "stderr",
     "output_type": "stream",
     "text": [
      "\r",
      " 30%|██▉       | 339/1148 [21:11<45:44,  3.39s/it]"
     ]
    },
    {
     "name": "stdout",
     "output_type": "stream",
     "text": [
      "-4\n"
     ]
    },
    {
     "name": "stderr",
     "output_type": "stream",
     "text": [
      "\r",
      " 30%|██▉       | 340/1148 [21:15<48:23,  3.59s/it]"
     ]
    },
    {
     "name": "stdout",
     "output_type": "stream",
     "text": [
      "-1\n"
     ]
    },
    {
     "name": "stderr",
     "output_type": "stream",
     "text": [
      "\r",
      " 30%|██▉       | 341/1148 [21:18<46:36,  3.47s/it]"
     ]
    },
    {
     "name": "stdout",
     "output_type": "stream",
     "text": [
      "-10\n"
     ]
    },
    {
     "name": "stderr",
     "output_type": "stream",
     "text": [
      "\r",
      " 30%|██▉       | 342/1148 [21:21<44:30,  3.31s/it]"
     ]
    },
    {
     "name": "stdout",
     "output_type": "stream",
     "text": [
      "-1\n"
     ]
    },
    {
     "name": "stderr",
     "output_type": "stream",
     "text": [
      "\r",
      " 30%|██▉       | 343/1148 [21:25<45:37,  3.40s/it]"
     ]
    },
    {
     "name": "stdout",
     "output_type": "stream",
     "text": [
      "-3\n"
     ]
    },
    {
     "name": "stderr",
     "output_type": "stream",
     "text": [
      "\r",
      " 30%|██▉       | 344/1148 [21:28<45:26,  3.39s/it]"
     ]
    },
    {
     "name": "stdout",
     "output_type": "stream",
     "text": [
      "-3\n"
     ]
    },
    {
     "name": "stderr",
     "output_type": "stream",
     "text": [
      "\r",
      " 30%|███       | 345/1148 [21:31<45:10,  3.37s/it]"
     ]
    },
    {
     "name": "stdout",
     "output_type": "stream",
     "text": [
      "-7\n"
     ]
    },
    {
     "name": "stderr",
     "output_type": "stream",
     "text": [
      "\r",
      " 30%|███       | 346/1148 [21:35<45:10,  3.38s/it]"
     ]
    },
    {
     "name": "stdout",
     "output_type": "stream",
     "text": [
      "-6\n"
     ]
    },
    {
     "name": "stderr",
     "output_type": "stream",
     "text": [
      "\r",
      " 30%|███       | 347/1148 [21:38<45:01,  3.37s/it]"
     ]
    },
    {
     "name": "stdout",
     "output_type": "stream",
     "text": [
      "-6\n"
     ]
    },
    {
     "name": "stderr",
     "output_type": "stream",
     "text": [
      "\r",
      " 30%|███       | 348/1148 [21:42<48:09,  3.61s/it]"
     ]
    },
    {
     "name": "stdout",
     "output_type": "stream",
     "text": [
      "-3\n"
     ]
    },
    {
     "name": "stderr",
     "output_type": "stream",
     "text": [
      "\r",
      " 30%|███       | 349/1148 [21:46<47:54,  3.60s/it]"
     ]
    },
    {
     "name": "stdout",
     "output_type": "stream",
     "text": [
      "-4\n"
     ]
    },
    {
     "name": "stderr",
     "output_type": "stream",
     "text": [
      "\r",
      " 30%|███       | 350/1148 [21:49<46:10,  3.47s/it]"
     ]
    },
    {
     "name": "stdout",
     "output_type": "stream",
     "text": [
      "-4\n"
     ]
    },
    {
     "name": "stderr",
     "output_type": "stream",
     "text": [
      "\r",
      " 31%|███       | 351/1148 [21:53<47:31,  3.58s/it]"
     ]
    },
    {
     "name": "stdout",
     "output_type": "stream",
     "text": [
      "-4\n"
     ]
    },
    {
     "name": "stderr",
     "output_type": "stream",
     "text": [
      "\r",
      " 31%|███       | 352/1148 [21:57<49:45,  3.75s/it]"
     ]
    },
    {
     "name": "stdout",
     "output_type": "stream",
     "text": [
      "-4\n"
     ]
    },
    {
     "name": "stderr",
     "output_type": "stream",
     "text": [
      "\r",
      " 31%|███       | 353/1148 [22:00<48:29,  3.66s/it]"
     ]
    },
    {
     "name": "stdout",
     "output_type": "stream",
     "text": [
      "-4\n"
     ]
    },
    {
     "name": "stderr",
     "output_type": "stream",
     "text": [
      "\r",
      " 31%|███       | 354/1148 [22:04<47:25,  3.58s/it]"
     ]
    },
    {
     "name": "stdout",
     "output_type": "stream",
     "text": [
      "-4\n"
     ]
    },
    {
     "name": "stderr",
     "output_type": "stream",
     "text": [
      "\r",
      " 31%|███       | 355/1148 [22:07<45:48,  3.47s/it]"
     ]
    },
    {
     "name": "stdout",
     "output_type": "stream",
     "text": [
      "-6\n"
     ]
    },
    {
     "name": "stderr",
     "output_type": "stream",
     "text": [
      "\r",
      " 31%|███       | 356/1148 [22:11<48:26,  3.67s/it]"
     ]
    },
    {
     "name": "stdout",
     "output_type": "stream",
     "text": [
      "-5\n"
     ]
    },
    {
     "name": "stderr",
     "output_type": "stream",
     "text": [
      "\r",
      " 31%|███       | 357/1148 [22:15<47:54,  3.63s/it]"
     ]
    },
    {
     "name": "stdout",
     "output_type": "stream",
     "text": [
      "-8\n"
     ]
    },
    {
     "name": "stderr",
     "output_type": "stream",
     "text": [
      "\r",
      " 31%|███       | 358/1148 [22:18<48:17,  3.67s/it]"
     ]
    },
    {
     "name": "stdout",
     "output_type": "stream",
     "text": [
      "-4\n"
     ]
    },
    {
     "name": "stderr",
     "output_type": "stream",
     "text": [
      "\r",
      " 31%|███▏      | 359/1148 [22:22<46:31,  3.54s/it]"
     ]
    },
    {
     "name": "stdout",
     "output_type": "stream",
     "text": [
      "-4\n"
     ]
    },
    {
     "name": "stderr",
     "output_type": "stream",
     "text": [
      "\r",
      " 31%|███▏      | 360/1148 [22:25<46:38,  3.55s/it]"
     ]
    },
    {
     "name": "stdout",
     "output_type": "stream",
     "text": [
      "-3\n"
     ]
    },
    {
     "name": "stderr",
     "output_type": "stream",
     "text": [
      "\r",
      " 31%|███▏      | 361/1148 [22:30<50:15,  3.83s/it]"
     ]
    },
    {
     "name": "stdout",
     "output_type": "stream",
     "text": [
      "-4\n"
     ]
    },
    {
     "name": "stderr",
     "output_type": "stream",
     "text": [
      "\r",
      " 32%|███▏      | 362/1148 [22:33<48:06,  3.67s/it]"
     ]
    },
    {
     "name": "stdout",
     "output_type": "stream",
     "text": [
      "-4\n"
     ]
    },
    {
     "name": "stderr",
     "output_type": "stream",
     "text": [
      "\r",
      " 32%|███▏      | 363/1148 [22:37<49:03,  3.75s/it]"
     ]
    },
    {
     "name": "stdout",
     "output_type": "stream",
     "text": [
      "-4\n"
     ]
    },
    {
     "name": "stderr",
     "output_type": "stream",
     "text": [
      "\r",
      " 32%|███▏      | 364/1148 [22:41<50:09,  3.84s/it]"
     ]
    },
    {
     "name": "stdout",
     "output_type": "stream",
     "text": [
      "-2\n"
     ]
    },
    {
     "name": "stderr",
     "output_type": "stream",
     "text": [
      "\r",
      " 32%|███▏      | 365/1148 [22:44<47:29,  3.64s/it]"
     ]
    },
    {
     "name": "stdout",
     "output_type": "stream",
     "text": [
      "-3\n"
     ]
    },
    {
     "name": "stderr",
     "output_type": "stream",
     "text": [
      "\r",
      " 32%|███▏      | 366/1148 [22:48<47:07,  3.62s/it]"
     ]
    },
    {
     "name": "stdout",
     "output_type": "stream",
     "text": [
      "-1\n"
     ]
    },
    {
     "name": "stderr",
     "output_type": "stream",
     "text": [
      "\r",
      " 32%|███▏      | 367/1148 [22:51<45:04,  3.46s/it]"
     ]
    },
    {
     "name": "stdout",
     "output_type": "stream",
     "text": [
      "-7\n"
     ]
    },
    {
     "name": "stderr",
     "output_type": "stream",
     "text": [
      "\r",
      " 32%|███▏      | 368/1148 [22:55<45:46,  3.52s/it]"
     ]
    },
    {
     "name": "stdout",
     "output_type": "stream",
     "text": [
      "-5\n"
     ]
    },
    {
     "name": "stderr",
     "output_type": "stream",
     "text": [
      "\r",
      " 32%|███▏      | 369/1148 [22:58<47:21,  3.65s/it]"
     ]
    },
    {
     "name": "stdout",
     "output_type": "stream",
     "text": [
      "-4\n"
     ]
    },
    {
     "name": "stderr",
     "output_type": "stream",
     "text": [
      "\r",
      " 32%|███▏      | 370/1148 [23:02<47:21,  3.65s/it]"
     ]
    },
    {
     "name": "stdout",
     "output_type": "stream",
     "text": [
      "0\n"
     ]
    },
    {
     "name": "stderr",
     "output_type": "stream",
     "text": [
      "\r",
      " 32%|███▏      | 371/1148 [23:06<47:48,  3.69s/it]"
     ]
    },
    {
     "name": "stdout",
     "output_type": "stream",
     "text": [
      "-10\n"
     ]
    },
    {
     "name": "stderr",
     "output_type": "stream",
     "text": [
      "\r",
      " 32%|███▏      | 372/1148 [23:09<46:33,  3.60s/it]"
     ]
    },
    {
     "name": "stdout",
     "output_type": "stream",
     "text": [
      "-3\n"
     ]
    },
    {
     "name": "stderr",
     "output_type": "stream",
     "text": [
      "\r",
      " 32%|███▏      | 373/1148 [23:13<47:11,  3.65s/it]"
     ]
    },
    {
     "name": "stdout",
     "output_type": "stream",
     "text": [
      "-1\n"
     ]
    },
    {
     "name": "stderr",
     "output_type": "stream",
     "text": [
      "\r",
      " 33%|███▎      | 374/1148 [23:17<48:02,  3.72s/it]"
     ]
    },
    {
     "name": "stdout",
     "output_type": "stream",
     "text": [
      "-4\n"
     ]
    },
    {
     "name": "stderr",
     "output_type": "stream",
     "text": [
      "\r",
      " 33%|███▎      | 375/1148 [23:20<46:07,  3.58s/it]"
     ]
    },
    {
     "name": "stdout",
     "output_type": "stream",
     "text": [
      "-3\n"
     ]
    },
    {
     "name": "stderr",
     "output_type": "stream",
     "text": [
      "\r",
      " 33%|███▎      | 376/1148 [23:24<46:53,  3.64s/it]"
     ]
    },
    {
     "name": "stdout",
     "output_type": "stream",
     "text": [
      "-2\n"
     ]
    },
    {
     "name": "stderr",
     "output_type": "stream",
     "text": [
      "\r",
      " 33%|███▎      | 377/1148 [23:28<46:42,  3.64s/it]"
     ]
    },
    {
     "name": "stdout",
     "output_type": "stream",
     "text": [
      "-6\n"
     ]
    },
    {
     "name": "stderr",
     "output_type": "stream",
     "text": [
      "\r",
      " 33%|███▎      | 378/1148 [23:32<49:20,  3.84s/it]"
     ]
    },
    {
     "name": "stdout",
     "output_type": "stream",
     "text": [
      "-4\n"
     ]
    },
    {
     "name": "stderr",
     "output_type": "stream",
     "text": [
      "\r",
      " 33%|███▎      | 379/1148 [23:36<49:38,  3.87s/it]"
     ]
    },
    {
     "name": "stdout",
     "output_type": "stream",
     "text": [
      "0\n"
     ]
    },
    {
     "name": "stderr",
     "output_type": "stream",
     "text": [
      "\r",
      " 33%|███▎      | 380/1148 [23:40<50:10,  3.92s/it]"
     ]
    },
    {
     "name": "stdout",
     "output_type": "stream",
     "text": [
      "0\n"
     ]
    },
    {
     "name": "stderr",
     "output_type": "stream",
     "text": [
      "\r",
      " 33%|███▎      | 381/1148 [23:44<48:58,  3.83s/it]"
     ]
    },
    {
     "name": "stdout",
     "output_type": "stream",
     "text": [
      "-4\n"
     ]
    },
    {
     "name": "stderr",
     "output_type": "stream",
     "text": [
      "\r",
      " 33%|███▎      | 382/1148 [23:47<49:05,  3.85s/it]"
     ]
    },
    {
     "name": "stdout",
     "output_type": "stream",
     "text": [
      "-5\n"
     ]
    },
    {
     "name": "stderr",
     "output_type": "stream",
     "text": [
      "\r",
      " 33%|███▎      | 383/1148 [23:51<46:56,  3.68s/it]"
     ]
    },
    {
     "name": "stdout",
     "output_type": "stream",
     "text": [
      "-4\n"
     ]
    },
    {
     "name": "stderr",
     "output_type": "stream",
     "text": [
      "\r",
      " 33%|███▎      | 384/1148 [23:54<46:58,  3.69s/it]"
     ]
    },
    {
     "name": "stdout",
     "output_type": "stream",
     "text": [
      "-6\n"
     ]
    },
    {
     "name": "stderr",
     "output_type": "stream",
     "text": [
      "\r",
      " 34%|███▎      | 385/1148 [23:58<45:09,  3.55s/it]"
     ]
    },
    {
     "name": "stdout",
     "output_type": "stream",
     "text": [
      "-3\n"
     ]
    },
    {
     "name": "stderr",
     "output_type": "stream",
     "text": [
      "\r",
      " 34%|███▎      | 386/1148 [24:01<45:32,  3.59s/it]"
     ]
    },
    {
     "name": "stdout",
     "output_type": "stream",
     "text": [
      "-1\n"
     ]
    },
    {
     "name": "stderr",
     "output_type": "stream",
     "text": [
      "\r",
      " 34%|███▎      | 387/1148 [24:07<53:43,  4.24s/it]"
     ]
    },
    {
     "name": "stdout",
     "output_type": "stream",
     "text": [
      "-4\n"
     ]
    },
    {
     "name": "stderr",
     "output_type": "stream",
     "text": [
      "\r",
      " 34%|███▍      | 388/1148 [24:11<51:03,  4.03s/it]"
     ]
    },
    {
     "name": "stdout",
     "output_type": "stream",
     "text": [
      "-4\n"
     ]
    },
    {
     "name": "stderr",
     "output_type": "stream",
     "text": [
      "\r",
      " 34%|███▍      | 389/1148 [24:14<48:54,  3.87s/it]"
     ]
    },
    {
     "name": "stdout",
     "output_type": "stream",
     "text": [
      "-6\n"
     ]
    },
    {
     "name": "stderr",
     "output_type": "stream",
     "text": [
      "\r",
      " 34%|███▍      | 390/1148 [24:17<46:55,  3.71s/it]"
     ]
    },
    {
     "name": "stdout",
     "output_type": "stream",
     "text": [
      "-8\n"
     ]
    },
    {
     "name": "stderr",
     "output_type": "stream",
     "text": [
      "\r",
      " 34%|███▍      | 391/1148 [24:20<44:08,  3.50s/it]"
     ]
    },
    {
     "name": "stdout",
     "output_type": "stream",
     "text": [
      "-4\n"
     ]
    },
    {
     "name": "stderr",
     "output_type": "stream",
     "text": [
      "\r",
      " 34%|███▍      | 392/1148 [24:24<44:23,  3.52s/it]"
     ]
    },
    {
     "name": "stdout",
     "output_type": "stream",
     "text": [
      "-2\n"
     ]
    },
    {
     "name": "stderr",
     "output_type": "stream",
     "text": [
      "\r",
      " 34%|███▍      | 393/1148 [24:29<48:56,  3.89s/it]"
     ]
    },
    {
     "name": "stdout",
     "output_type": "stream",
     "text": [
      "-2\n"
     ]
    },
    {
     "name": "stderr",
     "output_type": "stream",
     "text": [
      "\r",
      " 34%|███▍      | 394/1148 [24:34<54:49,  4.36s/it]"
     ]
    },
    {
     "name": "stdout",
     "output_type": "stream",
     "text": [
      "-3\n"
     ]
    },
    {
     "name": "stderr",
     "output_type": "stream",
     "text": [
      "\r",
      " 34%|███▍      | 395/1148 [24:38<50:52,  4.05s/it]"
     ]
    },
    {
     "name": "stdout",
     "output_type": "stream",
     "text": [
      "-7\n"
     ]
    },
    {
     "name": "stderr",
     "output_type": "stream",
     "text": [
      "\r",
      " 34%|███▍      | 396/1148 [24:43<54:14,  4.33s/it]"
     ]
    },
    {
     "name": "stdout",
     "output_type": "stream",
     "text": [
      "-6\n"
     ]
    },
    {
     "name": "stderr",
     "output_type": "stream",
     "text": [
      "\r",
      " 35%|███▍      | 397/1148 [24:46<50:03,  4.00s/it]"
     ]
    },
    {
     "name": "stdout",
     "output_type": "stream",
     "text": [
      "-8\n"
     ]
    },
    {
     "name": "stderr",
     "output_type": "stream",
     "text": [
      "\r",
      " 35%|███▍      | 398/1148 [24:49<46:38,  3.73s/it]"
     ]
    },
    {
     "name": "stdout",
     "output_type": "stream",
     "text": [
      "-3\n"
     ]
    },
    {
     "name": "stderr",
     "output_type": "stream",
     "text": [
      "\r",
      " 35%|███▍      | 399/1148 [24:52<45:17,  3.63s/it]"
     ]
    },
    {
     "name": "stdout",
     "output_type": "stream",
     "text": [
      "-2\n"
     ]
    },
    {
     "name": "stderr",
     "output_type": "stream",
     "text": [
      "\r",
      " 35%|███▍      | 400/1148 [24:55<42:57,  3.45s/it]"
     ]
    },
    {
     "name": "stdout",
     "output_type": "stream",
     "text": [
      "-7\n"
     ]
    },
    {
     "name": "stderr",
     "output_type": "stream",
     "text": [
      "\r",
      " 35%|███▍      | 401/1148 [25:01<49:32,  3.98s/it]"
     ]
    },
    {
     "name": "stdout",
     "output_type": "stream",
     "text": [
      "-6\n"
     ]
    },
    {
     "name": "stderr",
     "output_type": "stream",
     "text": [
      "\r",
      " 35%|███▌      | 402/1148 [25:05<52:05,  4.19s/it]"
     ]
    },
    {
     "name": "stdout",
     "output_type": "stream",
     "text": [
      "-7\n"
     ]
    },
    {
     "name": "stderr",
     "output_type": "stream",
     "text": [
      "\r",
      " 35%|███▌      | 403/1148 [25:09<51:00,  4.11s/it]"
     ]
    },
    {
     "name": "stdout",
     "output_type": "stream",
     "text": [
      "-9\n"
     ]
    },
    {
     "name": "stderr",
     "output_type": "stream",
     "text": [
      "\r",
      " 35%|███▌      | 404/1148 [25:13<51:41,  4.17s/it]"
     ]
    },
    {
     "name": "stdout",
     "output_type": "stream",
     "text": [
      "-4\n"
     ]
    },
    {
     "name": "stderr",
     "output_type": "stream",
     "text": [
      "\r",
      " 35%|███▌      | 405/1148 [25:17<47:45,  3.86s/it]"
     ]
    },
    {
     "name": "stdout",
     "output_type": "stream",
     "text": [
      "-3\n"
     ]
    },
    {
     "name": "stderr",
     "output_type": "stream",
     "text": [
      "\r",
      " 35%|███▌      | 406/1148 [25:21<49:01,  3.96s/it]"
     ]
    },
    {
     "name": "stdout",
     "output_type": "stream",
     "text": [
      "-2\n"
     ]
    },
    {
     "name": "stderr",
     "output_type": "stream",
     "text": [
      "\r",
      " 35%|███▌      | 407/1148 [25:24<47:16,  3.83s/it]"
     ]
    },
    {
     "name": "stdout",
     "output_type": "stream",
     "text": [
      "-4\n"
     ]
    },
    {
     "name": "stderr",
     "output_type": "stream",
     "text": [
      "\r",
      " 36%|███▌      | 408/1148 [25:28<47:02,  3.81s/it]"
     ]
    },
    {
     "name": "stdout",
     "output_type": "stream",
     "text": [
      "-3\n"
     ]
    },
    {
     "name": "stderr",
     "output_type": "stream",
     "text": [
      "\r",
      " 36%|███▌      | 409/1148 [25:32<47:21,  3.84s/it]"
     ]
    },
    {
     "name": "stdout",
     "output_type": "stream",
     "text": [
      "-6\n"
     ]
    },
    {
     "name": "stderr",
     "output_type": "stream",
     "text": [
      "\r",
      " 36%|███▌      | 410/1148 [25:36<46:40,  3.79s/it]"
     ]
    },
    {
     "name": "stdout",
     "output_type": "stream",
     "text": [
      "0\n"
     ]
    },
    {
     "name": "stderr",
     "output_type": "stream",
     "text": [
      "\r",
      " 36%|███▌      | 411/1148 [25:39<44:42,  3.64s/it]"
     ]
    },
    {
     "name": "stdout",
     "output_type": "stream",
     "text": [
      "-6\n"
     ]
    },
    {
     "name": "stderr",
     "output_type": "stream",
     "text": [
      "\r",
      " 36%|███▌      | 412/1148 [25:43<46:08,  3.76s/it]"
     ]
    },
    {
     "name": "stdout",
     "output_type": "stream",
     "text": [
      "-4\n"
     ]
    },
    {
     "name": "stderr",
     "output_type": "stream",
     "text": [
      "\r",
      " 36%|███▌      | 413/1148 [25:47<48:12,  3.94s/it]"
     ]
    },
    {
     "name": "stdout",
     "output_type": "stream",
     "text": [
      "-5\n"
     ]
    },
    {
     "name": "stderr",
     "output_type": "stream",
     "text": [
      "\r",
      " 36%|███▌      | 414/1148 [25:51<48:54,  4.00s/it]"
     ]
    },
    {
     "name": "stdout",
     "output_type": "stream",
     "text": [
      "-5\n"
     ]
    },
    {
     "name": "stderr",
     "output_type": "stream",
     "text": [
      "\r",
      " 36%|███▌      | 415/1148 [25:55<45:51,  3.75s/it]"
     ]
    },
    {
     "name": "stdout",
     "output_type": "stream",
     "text": [
      "-4\n"
     ]
    },
    {
     "name": "stderr",
     "output_type": "stream",
     "text": [
      "\r",
      " 36%|███▌      | 416/1148 [25:58<44:53,  3.68s/it]"
     ]
    },
    {
     "name": "stdout",
     "output_type": "stream",
     "text": [
      "-4\n"
     ]
    },
    {
     "name": "stderr",
     "output_type": "stream",
     "text": [
      "\r",
      " 36%|███▋      | 417/1148 [26:02<44:52,  3.68s/it]"
     ]
    },
    {
     "name": "stdout",
     "output_type": "stream",
     "text": [
      "-6\n"
     ]
    },
    {
     "name": "stderr",
     "output_type": "stream",
     "text": [
      " 36%|███▋      | 419/1148 [26:10<45:53,  3.78s/it]"
     ]
    },
    {
     "name": "stdout",
     "output_type": "stream",
     "text": [
      "-11\n"
     ]
    },
    {
     "name": "stderr",
     "output_type": "stream",
     "text": [
      "\r",
      " 37%|███▋      | 420/1148 [26:13<45:08,  3.72s/it]"
     ]
    },
    {
     "name": "stdout",
     "output_type": "stream",
     "text": [
      "-2\n"
     ]
    },
    {
     "name": "stderr",
     "output_type": "stream",
     "text": [
      "\r",
      " 37%|███▋      | 421/1148 [26:17<44:07,  3.64s/it]"
     ]
    },
    {
     "name": "stdout",
     "output_type": "stream",
     "text": [
      "0\n"
     ]
    },
    {
     "name": "stderr",
     "output_type": "stream",
     "text": [
      "\r",
      " 37%|███▋      | 422/1148 [26:21<44:52,  3.71s/it]"
     ]
    },
    {
     "name": "stdout",
     "output_type": "stream",
     "text": [
      "-6\n"
     ]
    },
    {
     "name": "stderr",
     "output_type": "stream",
     "text": [
      "\r",
      " 37%|███▋      | 423/1148 [26:24<43:17,  3.58s/it]"
     ]
    },
    {
     "name": "stdout",
     "output_type": "stream",
     "text": [
      "-3\n"
     ]
    },
    {
     "name": "stderr",
     "output_type": "stream",
     "text": [
      "\r",
      " 37%|███▋      | 424/1148 [26:27<40:50,  3.38s/it]"
     ]
    },
    {
     "name": "stdout",
     "output_type": "stream",
     "text": [
      "1\n"
     ]
    },
    {
     "name": "stderr",
     "output_type": "stream",
     "text": [
      "\r",
      " 37%|███▋      | 425/1148 [26:30<41:12,  3.42s/it]"
     ]
    },
    {
     "name": "stdout",
     "output_type": "stream",
     "text": [
      "-4\n"
     ]
    },
    {
     "name": "stderr",
     "output_type": "stream",
     "text": [
      "\r",
      " 37%|███▋      | 426/1148 [26:34<43:09,  3.59s/it]"
     ]
    },
    {
     "name": "stdout",
     "output_type": "stream",
     "text": [
      "-7\n"
     ]
    },
    {
     "name": "stderr",
     "output_type": "stream",
     "text": [
      "\r",
      " 37%|███▋      | 427/1148 [26:38<41:36,  3.46s/it]"
     ]
    },
    {
     "name": "stdout",
     "output_type": "stream",
     "text": [
      "-3\n"
     ]
    },
    {
     "name": "stderr",
     "output_type": "stream",
     "text": [
      "\r",
      " 37%|███▋      | 428/1148 [26:41<41:56,  3.49s/it]"
     ]
    },
    {
     "name": "stdout",
     "output_type": "stream",
     "text": [
      "-7\n"
     ]
    },
    {
     "name": "stderr",
     "output_type": "stream",
     "text": [
      "\r",
      " 37%|███▋      | 429/1148 [26:44<40:49,  3.41s/it]"
     ]
    },
    {
     "name": "stdout",
     "output_type": "stream",
     "text": [
      "-5\n"
     ]
    },
    {
     "name": "stderr",
     "output_type": "stream",
     "text": [
      "\r",
      " 37%|███▋      | 430/1148 [26:48<40:48,  3.41s/it]"
     ]
    },
    {
     "name": "stdout",
     "output_type": "stream",
     "text": [
      "-5\n"
     ]
    },
    {
     "name": "stderr",
     "output_type": "stream",
     "text": [
      "\r",
      " 38%|███▊      | 431/1148 [26:51<40:37,  3.40s/it]"
     ]
    },
    {
     "name": "stdout",
     "output_type": "stream",
     "text": [
      "-3\n"
     ]
    },
    {
     "name": "stderr",
     "output_type": "stream",
     "text": [
      "\r",
      " 38%|███▊      | 432/1148 [26:54<39:30,  3.31s/it]"
     ]
    },
    {
     "name": "stdout",
     "output_type": "stream",
     "text": [
      "-5\n"
     ]
    },
    {
     "name": "stderr",
     "output_type": "stream",
     "text": [
      "\r",
      " 38%|███▊      | 433/1148 [26:59<43:41,  3.67s/it]"
     ]
    },
    {
     "name": "stdout",
     "output_type": "stream",
     "text": [
      "-7\n"
     ]
    },
    {
     "name": "stderr",
     "output_type": "stream",
     "text": [
      "\r",
      " 38%|███▊      | 434/1148 [27:02<43:15,  3.64s/it]"
     ]
    },
    {
     "name": "stdout",
     "output_type": "stream",
     "text": [
      "-6\n"
     ]
    },
    {
     "name": "stderr",
     "output_type": "stream",
     "text": [
      "\r",
      " 38%|███▊      | 435/1148 [27:05<41:21,  3.48s/it]"
     ]
    },
    {
     "name": "stdout",
     "output_type": "stream",
     "text": [
      "-3\n"
     ]
    },
    {
     "name": "stderr",
     "output_type": "stream",
     "text": [
      "\r",
      " 38%|███▊      | 436/1148 [27:10<45:30,  3.83s/it]"
     ]
    },
    {
     "name": "stdout",
     "output_type": "stream",
     "text": [
      "-5\n"
     ]
    },
    {
     "name": "stderr",
     "output_type": "stream",
     "text": [
      "\r",
      " 38%|███▊      | 437/1148 [27:13<43:26,  3.67s/it]"
     ]
    },
    {
     "name": "stdout",
     "output_type": "stream",
     "text": [
      "-5\n"
     ]
    },
    {
     "name": "stderr",
     "output_type": "stream",
     "text": [
      "\r",
      " 38%|███▊      | 438/1148 [27:17<43:39,  3.69s/it]"
     ]
    },
    {
     "name": "stdout",
     "output_type": "stream",
     "text": [
      "-5\n"
     ]
    },
    {
     "name": "stderr",
     "output_type": "stream",
     "text": [
      "\r",
      " 38%|███▊      | 439/1148 [27:21<42:53,  3.63s/it]"
     ]
    },
    {
     "name": "stdout",
     "output_type": "stream",
     "text": [
      "-7\n"
     ]
    },
    {
     "name": "stderr",
     "output_type": "stream",
     "text": [
      "\r",
      " 38%|███▊      | 440/1148 [27:24<41:47,  3.54s/it]"
     ]
    },
    {
     "name": "stdout",
     "output_type": "stream",
     "text": [
      "-5\n"
     ]
    },
    {
     "name": "stderr",
     "output_type": "stream",
     "text": [
      "\r",
      " 38%|███▊      | 441/1148 [27:28<44:20,  3.76s/it]"
     ]
    },
    {
     "name": "stdout",
     "output_type": "stream",
     "text": [
      "-3\n"
     ]
    },
    {
     "name": "stderr",
     "output_type": "stream",
     "text": [
      "\r",
      " 39%|███▊      | 442/1148 [27:33<47:47,  4.06s/it]"
     ]
    },
    {
     "name": "stdout",
     "output_type": "stream",
     "text": [
      "-5\n"
     ]
    },
    {
     "name": "stderr",
     "output_type": "stream",
     "text": [
      "\r",
      " 39%|███▊      | 443/1148 [27:36<45:12,  3.85s/it]"
     ]
    },
    {
     "name": "stdout",
     "output_type": "stream",
     "text": [
      "-3\n"
     ]
    },
    {
     "name": "stderr",
     "output_type": "stream",
     "text": [
      "\r",
      " 39%|███▊      | 444/1148 [27:40<43:03,  3.67s/it]"
     ]
    },
    {
     "name": "stdout",
     "output_type": "stream",
     "text": [
      "-7\n"
     ]
    },
    {
     "name": "stderr",
     "output_type": "stream",
     "text": [
      "\r",
      " 39%|███▉      | 445/1148 [27:44<43:53,  3.75s/it]"
     ]
    },
    {
     "name": "stdout",
     "output_type": "stream",
     "text": [
      "-6\n"
     ]
    },
    {
     "name": "stderr",
     "output_type": "stream",
     "text": [
      "\r",
      " 39%|███▉      | 446/1148 [27:47<43:53,  3.75s/it]"
     ]
    },
    {
     "name": "stdout",
     "output_type": "stream",
     "text": [
      "-9\n"
     ]
    },
    {
     "name": "stderr",
     "output_type": "stream",
     "text": [
      "\r",
      " 39%|███▉      | 447/1148 [27:51<44:32,  3.81s/it]"
     ]
    },
    {
     "name": "stdout",
     "output_type": "stream",
     "text": [
      "-6\n"
     ]
    },
    {
     "name": "stderr",
     "output_type": "stream",
     "text": [
      "\r",
      " 39%|███▉      | 448/1148 [27:55<43:06,  3.70s/it]"
     ]
    },
    {
     "name": "stdout",
     "output_type": "stream",
     "text": [
      "-3\n"
     ]
    },
    {
     "name": "stderr",
     "output_type": "stream",
     "text": [
      "\r",
      " 39%|███▉      | 449/1148 [27:58<42:31,  3.65s/it]"
     ]
    },
    {
     "name": "stdout",
     "output_type": "stream",
     "text": [
      "-4\n"
     ]
    },
    {
     "name": "stderr",
     "output_type": "stream",
     "text": [
      "\r",
      " 39%|███▉      | 450/1148 [28:02<42:51,  3.68s/it]"
     ]
    },
    {
     "name": "stdout",
     "output_type": "stream",
     "text": [
      "-2\n"
     ]
    },
    {
     "name": "stderr",
     "output_type": "stream",
     "text": [
      "\r",
      " 39%|███▉      | 451/1148 [28:06<42:18,  3.64s/it]"
     ]
    },
    {
     "name": "stdout",
     "output_type": "stream",
     "text": [
      "-6\n"
     ]
    },
    {
     "name": "stderr",
     "output_type": "stream",
     "text": [
      "\r",
      " 39%|███▉      | 452/1148 [28:10<45:28,  3.92s/it]"
     ]
    },
    {
     "name": "stdout",
     "output_type": "stream",
     "text": [
      "-1\n"
     ]
    },
    {
     "name": "stderr",
     "output_type": "stream",
     "text": [
      "\r",
      " 39%|███▉      | 453/1148 [28:14<45:35,  3.94s/it]"
     ]
    },
    {
     "name": "stdout",
     "output_type": "stream",
     "text": [
      "-7\n"
     ]
    },
    {
     "name": "stderr",
     "output_type": "stream",
     "text": [
      "\r",
      " 40%|███▉      | 454/1148 [28:18<44:44,  3.87s/it]"
     ]
    },
    {
     "name": "stdout",
     "output_type": "stream",
     "text": [
      "-1\n"
     ]
    },
    {
     "name": "stderr",
     "output_type": "stream",
     "text": [
      "\r",
      " 40%|███▉      | 455/1148 [28:21<42:19,  3.67s/it]"
     ]
    },
    {
     "name": "stdout",
     "output_type": "stream",
     "text": [
      "-5\n"
     ]
    },
    {
     "name": "stderr",
     "output_type": "stream",
     "text": [
      "\r",
      " 40%|███▉      | 456/1148 [28:24<40:38,  3.52s/it]"
     ]
    },
    {
     "name": "stdout",
     "output_type": "stream",
     "text": [
      "-3\n"
     ]
    },
    {
     "name": "stderr",
     "output_type": "stream",
     "text": [
      "\r",
      " 40%|███▉      | 457/1148 [28:28<41:44,  3.62s/it]"
     ]
    },
    {
     "name": "stdout",
     "output_type": "stream",
     "text": [
      "-5\n"
     ]
    },
    {
     "name": "stderr",
     "output_type": "stream",
     "text": [
      "\r",
      " 40%|███▉      | 458/1148 [28:32<42:29,  3.69s/it]"
     ]
    },
    {
     "name": "stdout",
     "output_type": "stream",
     "text": [
      "-5\n"
     ]
    },
    {
     "name": "stderr",
     "output_type": "stream",
     "text": [
      "\r",
      " 40%|███▉      | 459/1148 [28:35<40:34,  3.53s/it]"
     ]
    },
    {
     "name": "stdout",
     "output_type": "stream",
     "text": [
      "-6\n"
     ]
    },
    {
     "name": "stderr",
     "output_type": "stream",
     "text": [
      "\r",
      " 40%|████      | 460/1148 [28:39<41:49,  3.65s/it]"
     ]
    },
    {
     "name": "stdout",
     "output_type": "stream",
     "text": [
      "-2\n"
     ]
    },
    {
     "name": "stderr",
     "output_type": "stream",
     "text": [
      "\r",
      " 40%|████      | 461/1148 [28:43<41:30,  3.62s/it]"
     ]
    },
    {
     "name": "stdout",
     "output_type": "stream",
     "text": [
      "-4\n"
     ]
    },
    {
     "name": "stderr",
     "output_type": "stream",
     "text": [
      "\r",
      " 40%|████      | 462/1148 [28:47<42:45,  3.74s/it]"
     ]
    },
    {
     "name": "stdout",
     "output_type": "stream",
     "text": [
      "-5\n"
     ]
    },
    {
     "name": "stderr",
     "output_type": "stream",
     "text": [
      "\r",
      " 40%|████      | 463/1148 [28:49<39:44,  3.48s/it]"
     ]
    },
    {
     "name": "stdout",
     "output_type": "stream",
     "text": [
      "-2\n"
     ]
    },
    {
     "name": "stderr",
     "output_type": "stream",
     "text": [
      "\r",
      " 40%|████      | 464/1148 [28:53<38:56,  3.42s/it]"
     ]
    },
    {
     "name": "stdout",
     "output_type": "stream",
     "text": [
      "-5\n"
     ]
    },
    {
     "name": "stderr",
     "output_type": "stream",
     "text": [
      "\r",
      " 41%|████      | 465/1148 [28:57<40:28,  3.56s/it]"
     ]
    },
    {
     "name": "stdout",
     "output_type": "stream",
     "text": [
      "-3\n"
     ]
    },
    {
     "name": "stderr",
     "output_type": "stream",
     "text": [
      "\r",
      " 41%|████      | 466/1148 [29:01<42:09,  3.71s/it]"
     ]
    },
    {
     "name": "stdout",
     "output_type": "stream",
     "text": [
      "-2\n"
     ]
    },
    {
     "name": "stderr",
     "output_type": "stream",
     "text": [
      "\r",
      " 41%|████      | 467/1148 [29:04<40:49,  3.60s/it]"
     ]
    },
    {
     "name": "stdout",
     "output_type": "stream",
     "text": [
      "-5\n"
     ]
    },
    {
     "name": "stderr",
     "output_type": "stream",
     "text": [
      "\r",
      " 41%|████      | 468/1148 [29:08<41:19,  3.65s/it]"
     ]
    },
    {
     "name": "stdout",
     "output_type": "stream",
     "text": [
      "-3\n"
     ]
    },
    {
     "name": "stderr",
     "output_type": "stream",
     "text": [
      "\r",
      " 41%|████      | 469/1148 [29:11<40:38,  3.59s/it]"
     ]
    },
    {
     "name": "stdout",
     "output_type": "stream",
     "text": [
      "-3\n"
     ]
    },
    {
     "name": "stderr",
     "output_type": "stream",
     "text": [
      "\r",
      " 41%|████      | 470/1148 [29:17<46:47,  4.14s/it]"
     ]
    },
    {
     "name": "stdout",
     "output_type": "stream",
     "text": [
      "-5\n"
     ]
    },
    {
     "name": "stderr",
     "output_type": "stream",
     "text": [
      "\r",
      " 41%|████      | 471/1148 [29:20<43:57,  3.90s/it]"
     ]
    },
    {
     "name": "stdout",
     "output_type": "stream",
     "text": [
      "-4\n"
     ]
    },
    {
     "name": "stderr",
     "output_type": "stream",
     "text": [
      "\r",
      " 41%|████      | 472/1148 [29:23<41:33,  3.69s/it]"
     ]
    },
    {
     "name": "stdout",
     "output_type": "stream",
     "text": [
      "-3\n"
     ]
    },
    {
     "name": "stderr",
     "output_type": "stream",
     "text": [
      "\r",
      " 41%|████      | 473/1148 [29:28<46:42,  4.15s/it]"
     ]
    },
    {
     "name": "stdout",
     "output_type": "stream",
     "text": [
      "-7\n"
     ]
    },
    {
     "name": "stderr",
     "output_type": "stream",
     "text": [
      "\r",
      " 41%|████▏     | 474/1148 [29:33<49:29,  4.41s/it]"
     ]
    },
    {
     "name": "stdout",
     "output_type": "stream",
     "text": [
      "-1\n"
     ]
    },
    {
     "name": "stderr",
     "output_type": "stream",
     "text": [
      "\r",
      " 41%|████▏     | 475/1148 [29:37<46:35,  4.15s/it]"
     ]
    },
    {
     "name": "stdout",
     "output_type": "stream",
     "text": [
      "-1\n"
     ]
    },
    {
     "name": "stderr",
     "output_type": "stream",
     "text": [
      "\r",
      " 41%|████▏     | 476/1148 [29:41<45:04,  4.02s/it]"
     ]
    },
    {
     "name": "stdout",
     "output_type": "stream",
     "text": [
      "-5\n"
     ]
    },
    {
     "name": "stderr",
     "output_type": "stream",
     "text": [
      "\r",
      " 42%|████▏     | 477/1148 [29:44<42:43,  3.82s/it]"
     ]
    },
    {
     "name": "stdout",
     "output_type": "stream",
     "text": [
      "-6\n"
     ]
    },
    {
     "name": "stderr",
     "output_type": "stream",
     "text": [
      "\r",
      " 42%|████▏     | 478/1148 [29:47<40:54,  3.66s/it]"
     ]
    },
    {
     "name": "stdout",
     "output_type": "stream",
     "text": [
      "-1\n"
     ]
    },
    {
     "name": "stderr",
     "output_type": "stream",
     "text": [
      "\r",
      " 42%|████▏     | 479/1148 [29:51<42:15,  3.79s/it]"
     ]
    },
    {
     "name": "stdout",
     "output_type": "stream",
     "text": [
      "0\n"
     ]
    },
    {
     "name": "stderr",
     "output_type": "stream",
     "text": [
      "\r",
      " 42%|████▏     | 480/1148 [29:55<42:29,  3.82s/it]"
     ]
    },
    {
     "name": "stdout",
     "output_type": "stream",
     "text": [
      "-5\n"
     ]
    },
    {
     "name": "stderr",
     "output_type": "stream",
     "text": [
      "\r",
      " 42%|████▏     | 481/1148 [29:59<42:22,  3.81s/it]"
     ]
    },
    {
     "name": "stdout",
     "output_type": "stream",
     "text": [
      "-4\n"
     ]
    },
    {
     "name": "stderr",
     "output_type": "stream",
     "text": [
      "\r",
      " 42%|████▏     | 482/1148 [30:03<44:01,  3.97s/it]"
     ]
    },
    {
     "name": "stdout",
     "output_type": "stream",
     "text": [
      "-2\n"
     ]
    },
    {
     "name": "stderr",
     "output_type": "stream",
     "text": [
      "\r",
      " 42%|████▏     | 483/1148 [30:08<44:53,  4.05s/it]"
     ]
    },
    {
     "name": "stdout",
     "output_type": "stream",
     "text": [
      "-1\n"
     ]
    },
    {
     "name": "stderr",
     "output_type": "stream",
     "text": [
      "\r",
      " 42%|████▏     | 484/1148 [30:11<42:55,  3.88s/it]"
     ]
    },
    {
     "name": "stdout",
     "output_type": "stream",
     "text": [
      "-1\n"
     ]
    },
    {
     "name": "stderr",
     "output_type": "stream",
     "text": [
      "\r",
      " 42%|████▏     | 485/1148 [30:14<40:18,  3.65s/it]"
     ]
    },
    {
     "name": "stdout",
     "output_type": "stream",
     "text": [
      "-1\n"
     ]
    },
    {
     "name": "stderr",
     "output_type": "stream",
     "text": [
      "\r",
      " 42%|████▏     | 486/1148 [30:17<38:37,  3.50s/it]"
     ]
    },
    {
     "name": "stdout",
     "output_type": "stream",
     "text": [
      "-1\n"
     ]
    },
    {
     "name": "stderr",
     "output_type": "stream",
     "text": [
      "\r",
      " 42%|████▏     | 487/1148 [30:23<46:00,  4.18s/it]"
     ]
    },
    {
     "name": "stdout",
     "output_type": "stream",
     "text": [
      "-4\n"
     ]
    },
    {
     "name": "stderr",
     "output_type": "stream",
     "text": [
      "\r",
      " 43%|████▎     | 488/1148 [30:28<47:08,  4.29s/it]"
     ]
    },
    {
     "name": "stdout",
     "output_type": "stream",
     "text": [
      "-4\n"
     ]
    },
    {
     "name": "stderr",
     "output_type": "stream",
     "text": [
      "\r",
      " 43%|████▎     | 489/1148 [30:32<47:32,  4.33s/it]"
     ]
    },
    {
     "name": "stdout",
     "output_type": "stream",
     "text": [
      "-7\n"
     ]
    },
    {
     "name": "stderr",
     "output_type": "stream",
     "text": [
      "\r",
      " 43%|████▎     | 490/1148 [30:36<45:49,  4.18s/it]"
     ]
    },
    {
     "name": "stdout",
     "output_type": "stream",
     "text": [
      "-4\n"
     ]
    },
    {
     "name": "stderr",
     "output_type": "stream",
     "text": [
      "\r",
      " 43%|████▎     | 491/1148 [30:39<42:10,  3.85s/it]"
     ]
    },
    {
     "name": "stdout",
     "output_type": "stream",
     "text": [
      "-1\n"
     ]
    },
    {
     "name": "stderr",
     "output_type": "stream",
     "text": [
      "\r",
      " 43%|████▎     | 492/1148 [30:43<42:32,  3.89s/it]"
     ]
    },
    {
     "name": "stdout",
     "output_type": "stream",
     "text": [
      "-7\n"
     ]
    },
    {
     "name": "stderr",
     "output_type": "stream",
     "text": [
      "\r",
      " 43%|████▎     | 493/1148 [30:46<39:29,  3.62s/it]"
     ]
    },
    {
     "name": "stdout",
     "output_type": "stream",
     "text": [
      "-5\n"
     ]
    },
    {
     "name": "stderr",
     "output_type": "stream",
     "text": [
      "\r",
      " 43%|████▎     | 494/1148 [30:49<38:22,  3.52s/it]"
     ]
    },
    {
     "name": "stdout",
     "output_type": "stream",
     "text": [
      "-6\n"
     ]
    },
    {
     "name": "stderr",
     "output_type": "stream",
     "text": [
      "\r",
      " 43%|████▎     | 495/1148 [30:54<40:39,  3.74s/it]"
     ]
    },
    {
     "name": "stdout",
     "output_type": "stream",
     "text": [
      "-4\n"
     ]
    },
    {
     "name": "stderr",
     "output_type": "stream",
     "text": [
      "\r",
      " 43%|████▎     | 496/1148 [30:57<39:49,  3.67s/it]"
     ]
    },
    {
     "name": "stdout",
     "output_type": "stream",
     "text": [
      "-1\n"
     ]
    },
    {
     "name": "stderr",
     "output_type": "stream",
     "text": [
      "\r",
      " 43%|████▎     | 497/1148 [31:01<40:00,  3.69s/it]"
     ]
    },
    {
     "name": "stdout",
     "output_type": "stream",
     "text": [
      "-9\n"
     ]
    },
    {
     "name": "stderr",
     "output_type": "stream",
     "text": [
      "\r",
      " 43%|████▎     | 498/1148 [31:06<44:03,  4.07s/it]"
     ]
    },
    {
     "name": "stdout",
     "output_type": "stream",
     "text": [
      "-11\n"
     ]
    },
    {
     "name": "stderr",
     "output_type": "stream",
     "text": [
      "\r",
      " 43%|████▎     | 499/1148 [31:09<42:02,  3.89s/it]"
     ]
    },
    {
     "name": "stdout",
     "output_type": "stream",
     "text": [
      "-3\n"
     ]
    },
    {
     "name": "stderr",
     "output_type": "stream",
     "text": [
      "\r",
      " 44%|████▎     | 500/1148 [31:13<42:33,  3.94s/it]"
     ]
    },
    {
     "name": "stdout",
     "output_type": "stream",
     "text": [
      "-3\n"
     ]
    },
    {
     "name": "stderr",
     "output_type": "stream",
     "text": [
      "\r",
      " 44%|████▎     | 501/1148 [31:17<43:24,  4.02s/it]"
     ]
    },
    {
     "name": "stdout",
     "output_type": "stream",
     "text": [
      "-3\n"
     ]
    },
    {
     "name": "stderr",
     "output_type": "stream",
     "text": [
      "\r",
      " 44%|████▎     | 502/1148 [31:21<43:09,  4.01s/it]"
     ]
    },
    {
     "name": "stdout",
     "output_type": "stream",
     "text": [
      "-6\n"
     ]
    },
    {
     "name": "stderr",
     "output_type": "stream",
     "text": [
      "\r",
      " 44%|████▍     | 503/1148 [31:25<42:51,  3.99s/it]"
     ]
    },
    {
     "name": "stdout",
     "output_type": "stream",
     "text": [
      "-4\n"
     ]
    },
    {
     "name": "stderr",
     "output_type": "stream",
     "text": [
      "\r",
      " 44%|████▍     | 504/1148 [31:30<45:12,  4.21s/it]"
     ]
    },
    {
     "name": "stdout",
     "output_type": "stream",
     "text": [
      "-3\n"
     ]
    },
    {
     "name": "stderr",
     "output_type": "stream",
     "text": [
      "\r",
      " 44%|████▍     | 505/1148 [31:34<44:25,  4.14s/it]"
     ]
    },
    {
     "name": "stdout",
     "output_type": "stream",
     "text": [
      "-1\n"
     ]
    },
    {
     "name": "stderr",
     "output_type": "stream",
     "text": [
      "\r",
      " 44%|████▍     | 506/1148 [31:38<43:30,  4.07s/it]"
     ]
    },
    {
     "name": "stdout",
     "output_type": "stream",
     "text": [
      "0\n"
     ]
    },
    {
     "name": "stderr",
     "output_type": "stream",
     "text": [
      "\r",
      " 44%|████▍     | 507/1148 [31:42<43:19,  4.06s/it]"
     ]
    },
    {
     "name": "stdout",
     "output_type": "stream",
     "text": [
      "-4\n"
     ]
    },
    {
     "name": "stderr",
     "output_type": "stream",
     "text": [
      "\r",
      " 44%|████▍     | 508/1148 [31:46<41:43,  3.91s/it]"
     ]
    },
    {
     "name": "stdout",
     "output_type": "stream",
     "text": [
      "-5\n"
     ]
    },
    {
     "name": "stderr",
     "output_type": "stream",
     "text": [
      "\r",
      " 44%|████▍     | 509/1148 [31:49<38:56,  3.66s/it]"
     ]
    },
    {
     "name": "stdout",
     "output_type": "stream",
     "text": [
      "-2\n"
     ]
    },
    {
     "name": "stderr",
     "output_type": "stream",
     "text": [
      "\r",
      " 44%|████▍     | 510/1148 [31:53<39:27,  3.71s/it]"
     ]
    },
    {
     "name": "stdout",
     "output_type": "stream",
     "text": [
      "1\n"
     ]
    },
    {
     "name": "stderr",
     "output_type": "stream",
     "text": [
      "\r",
      " 45%|████▍     | 511/1148 [31:56<38:12,  3.60s/it]"
     ]
    },
    {
     "name": "stdout",
     "output_type": "stream",
     "text": [
      "-5\n"
     ]
    },
    {
     "name": "stderr",
     "output_type": "stream",
     "text": [
      "\r",
      " 45%|████▍     | 512/1148 [31:59<36:28,  3.44s/it]"
     ]
    },
    {
     "name": "stdout",
     "output_type": "stream",
     "text": [
      "-4\n"
     ]
    },
    {
     "name": "stderr",
     "output_type": "stream",
     "text": [
      "\r",
      " 45%|████▍     | 513/1148 [32:03<36:58,  3.49s/it]"
     ]
    },
    {
     "name": "stdout",
     "output_type": "stream",
     "text": [
      "-7\n"
     ]
    },
    {
     "name": "stderr",
     "output_type": "stream",
     "text": [
      "\r",
      " 45%|████▍     | 514/1148 [32:06<36:58,  3.50s/it]"
     ]
    },
    {
     "name": "stdout",
     "output_type": "stream",
     "text": [
      "-1\n"
     ]
    },
    {
     "name": "stderr",
     "output_type": "stream",
     "text": [
      "\r",
      " 45%|████▍     | 515/1148 [32:10<39:04,  3.70s/it]"
     ]
    },
    {
     "name": "stdout",
     "output_type": "stream",
     "text": [
      "-3\n"
     ]
    },
    {
     "name": "stderr",
     "output_type": "stream",
     "text": [
      "\r",
      " 45%|████▍     | 516/1148 [32:15<42:21,  4.02s/it]"
     ]
    },
    {
     "name": "stdout",
     "output_type": "stream",
     "text": [
      "-5\n"
     ]
    },
    {
     "name": "stderr",
     "output_type": "stream",
     "text": [
      "\r",
      " 45%|████▌     | 517/1148 [32:19<40:54,  3.89s/it]"
     ]
    },
    {
     "name": "stdout",
     "output_type": "stream",
     "text": [
      "-5\n"
     ]
    },
    {
     "name": "stderr",
     "output_type": "stream",
     "text": [
      "\r",
      " 45%|████▌     | 518/1148 [32:22<39:33,  3.77s/it]"
     ]
    },
    {
     "name": "stdout",
     "output_type": "stream",
     "text": [
      "-2\n"
     ]
    },
    {
     "name": "stderr",
     "output_type": "stream",
     "text": [
      "\r",
      " 45%|████▌     | 519/1148 [32:26<41:23,  3.95s/it]"
     ]
    },
    {
     "name": "stdout",
     "output_type": "stream",
     "text": [
      "-5\n"
     ]
    },
    {
     "name": "stderr",
     "output_type": "stream",
     "text": [
      "\r",
      " 45%|████▌     | 520/1148 [32:30<39:54,  3.81s/it]"
     ]
    },
    {
     "name": "stdout",
     "output_type": "stream",
     "text": [
      "-4\n"
     ]
    },
    {
     "name": "stderr",
     "output_type": "stream",
     "text": [
      "\r",
      " 45%|████▌     | 521/1148 [32:33<37:47,  3.62s/it]"
     ]
    },
    {
     "name": "stdout",
     "output_type": "stream",
     "text": [
      "-4\n"
     ]
    },
    {
     "name": "stderr",
     "output_type": "stream",
     "text": [
      "\r",
      " 45%|████▌     | 522/1148 [32:37<38:08,  3.66s/it]"
     ]
    },
    {
     "name": "stdout",
     "output_type": "stream",
     "text": [
      "-4\n"
     ]
    },
    {
     "name": "stderr",
     "output_type": "stream",
     "text": [
      "\r",
      " 46%|████▌     | 523/1148 [32:40<37:59,  3.65s/it]"
     ]
    },
    {
     "name": "stdout",
     "output_type": "stream",
     "text": [
      "-2\n"
     ]
    },
    {
     "name": "stderr",
     "output_type": "stream",
     "text": [
      "\r",
      " 46%|████▌     | 524/1148 [32:46<42:27,  4.08s/it]"
     ]
    },
    {
     "name": "stdout",
     "output_type": "stream",
     "text": [
      "-5\n"
     ]
    },
    {
     "name": "stderr",
     "output_type": "stream",
     "text": [
      "\r",
      " 46%|████▌     | 525/1148 [32:51<45:33,  4.39s/it]"
     ]
    },
    {
     "name": "stdout",
     "output_type": "stream",
     "text": [
      "0\n"
     ]
    },
    {
     "name": "stderr",
     "output_type": "stream",
     "text": [
      "\r",
      " 46%|████▌     | 526/1148 [32:55<45:58,  4.43s/it]"
     ]
    },
    {
     "name": "stdout",
     "output_type": "stream",
     "text": [
      "-4\n"
     ]
    },
    {
     "name": "stderr",
     "output_type": "stream",
     "text": [
      "\r",
      " 46%|████▌     | 527/1148 [32:58<41:42,  4.03s/it]"
     ]
    },
    {
     "name": "stdout",
     "output_type": "stream",
     "text": [
      "-4\n"
     ]
    },
    {
     "name": "stderr",
     "output_type": "stream",
     "text": [
      "\r",
      " 46%|████▌     | 528/1148 [33:02<40:51,  3.95s/it]"
     ]
    },
    {
     "name": "stdout",
     "output_type": "stream",
     "text": [
      "-5\n"
     ]
    },
    {
     "name": "stderr",
     "output_type": "stream",
     "text": [
      "\r",
      " 46%|████▌     | 529/1148 [33:05<38:02,  3.69s/it]"
     ]
    },
    {
     "name": "stdout",
     "output_type": "stream",
     "text": [
      "-2\n"
     ]
    },
    {
     "name": "stderr",
     "output_type": "stream",
     "text": [
      "\r",
      " 46%|████▌     | 530/1148 [33:09<38:10,  3.71s/it]"
     ]
    },
    {
     "name": "stdout",
     "output_type": "stream",
     "text": [
      "-2\n"
     ]
    },
    {
     "name": "stderr",
     "output_type": "stream",
     "text": [
      "\r",
      " 46%|████▋     | 531/1148 [33:12<36:19,  3.53s/it]"
     ]
    },
    {
     "name": "stdout",
     "output_type": "stream",
     "text": [
      "-4\n"
     ]
    },
    {
     "name": "stderr",
     "output_type": "stream",
     "text": [
      "\r",
      " 46%|████▋     | 532/1148 [33:16<38:05,  3.71s/it]"
     ]
    },
    {
     "name": "stdout",
     "output_type": "stream",
     "text": [
      "-3\n"
     ]
    },
    {
     "name": "stderr",
     "output_type": "stream",
     "text": [
      "\r",
      " 46%|████▋     | 533/1148 [33:20<38:28,  3.75s/it]"
     ]
    },
    {
     "name": "stdout",
     "output_type": "stream",
     "text": [
      "-9\n"
     ]
    },
    {
     "name": "stderr",
     "output_type": "stream",
     "text": [
      "\r",
      " 47%|████▋     | 534/1148 [33:23<36:38,  3.58s/it]"
     ]
    },
    {
     "name": "stdout",
     "output_type": "stream",
     "text": [
      "-7\n"
     ]
    },
    {
     "name": "stderr",
     "output_type": "stream",
     "text": [
      "\r",
      " 47%|████▋     | 535/1148 [33:26<35:38,  3.49s/it]"
     ]
    },
    {
     "name": "stdout",
     "output_type": "stream",
     "text": [
      "-2\n"
     ]
    },
    {
     "name": "stderr",
     "output_type": "stream",
     "text": [
      "\r",
      " 47%|████▋     | 536/1148 [33:30<35:49,  3.51s/it]"
     ]
    },
    {
     "name": "stdout",
     "output_type": "stream",
     "text": [
      "-3\n"
     ]
    },
    {
     "name": "stderr",
     "output_type": "stream",
     "text": [
      "\r",
      " 47%|████▋     | 537/1148 [33:34<36:33,  3.59s/it]"
     ]
    },
    {
     "name": "stdout",
     "output_type": "stream",
     "text": [
      "-2\n"
     ]
    },
    {
     "name": "stderr",
     "output_type": "stream",
     "text": [
      "\r",
      " 47%|████▋     | 538/1148 [33:37<36:41,  3.61s/it]"
     ]
    },
    {
     "name": "stdout",
     "output_type": "stream",
     "text": [
      "-1\n"
     ]
    },
    {
     "name": "stderr",
     "output_type": "stream",
     "text": [
      "\r",
      " 47%|████▋     | 539/1148 [33:41<35:36,  3.51s/it]"
     ]
    },
    {
     "name": "stdout",
     "output_type": "stream",
     "text": [
      "-1\n"
     ]
    },
    {
     "name": "stderr",
     "output_type": "stream",
     "text": [
      "\r",
      " 47%|████▋     | 540/1148 [33:44<36:12,  3.57s/it]"
     ]
    },
    {
     "name": "stdout",
     "output_type": "stream",
     "text": [
      "-5\n"
     ]
    },
    {
     "name": "stderr",
     "output_type": "stream",
     "text": [
      "\r",
      " 47%|████▋     | 541/1148 [33:49<39:08,  3.87s/it]"
     ]
    },
    {
     "name": "stdout",
     "output_type": "stream",
     "text": [
      "-6\n"
     ]
    },
    {
     "name": "stderr",
     "output_type": "stream",
     "text": [
      "\r",
      " 47%|████▋     | 542/1148 [33:54<41:47,  4.14s/it]"
     ]
    },
    {
     "name": "stdout",
     "output_type": "stream",
     "text": [
      "-3\n"
     ]
    },
    {
     "name": "stderr",
     "output_type": "stream",
     "text": [
      "\r",
      " 47%|████▋     | 543/1148 [33:57<39:15,  3.89s/it]"
     ]
    },
    {
     "name": "stdout",
     "output_type": "stream",
     "text": [
      "-2\n"
     ]
    },
    {
     "name": "stderr",
     "output_type": "stream",
     "text": [
      "\r",
      " 47%|████▋     | 544/1148 [34:00<36:27,  3.62s/it]"
     ]
    },
    {
     "name": "stdout",
     "output_type": "stream",
     "text": [
      "-5\n"
     ]
    },
    {
     "name": "stderr",
     "output_type": "stream",
     "text": [
      "\r",
      " 47%|████▋     | 545/1148 [34:04<37:33,  3.74s/it]"
     ]
    },
    {
     "name": "stdout",
     "output_type": "stream",
     "text": [
      "-3\n"
     ]
    },
    {
     "name": "stderr",
     "output_type": "stream",
     "text": [
      "\r",
      " 48%|████▊     | 546/1148 [34:08<37:58,  3.79s/it]"
     ]
    },
    {
     "name": "stdout",
     "output_type": "stream",
     "text": [
      "-3\n"
     ]
    },
    {
     "name": "stderr",
     "output_type": "stream",
     "text": [
      "\r",
      " 48%|████▊     | 547/1148 [34:12<37:59,  3.79s/it]"
     ]
    },
    {
     "name": "stdout",
     "output_type": "stream",
     "text": [
      "-1\n"
     ]
    },
    {
     "name": "stderr",
     "output_type": "stream",
     "text": [
      "\r",
      " 48%|████▊     | 548/1148 [34:15<36:46,  3.68s/it]"
     ]
    },
    {
     "name": "stdout",
     "output_type": "stream",
     "text": [
      "-3\n"
     ]
    },
    {
     "name": "stderr",
     "output_type": "stream",
     "text": [
      "\r",
      " 48%|████▊     | 549/1148 [34:18<35:06,  3.52s/it]"
     ]
    },
    {
     "name": "stdout",
     "output_type": "stream",
     "text": [
      "-2\n"
     ]
    },
    {
     "name": "stderr",
     "output_type": "stream",
     "text": [
      "\r",
      " 48%|████▊     | 550/1148 [34:22<35:11,  3.53s/it]"
     ]
    },
    {
     "name": "stdout",
     "output_type": "stream",
     "text": [
      "-3\n"
     ]
    },
    {
     "name": "stderr",
     "output_type": "stream",
     "text": [
      "\r",
      " 48%|████▊     | 551/1148 [34:25<34:28,  3.47s/it]"
     ]
    },
    {
     "name": "stdout",
     "output_type": "stream",
     "text": [
      "-8\n"
     ]
    },
    {
     "name": "stderr",
     "output_type": "stream",
     "text": [
      "\r",
      " 48%|████▊     | 552/1148 [34:30<37:41,  3.79s/it]"
     ]
    },
    {
     "name": "stdout",
     "output_type": "stream",
     "text": [
      "-3\n"
     ]
    },
    {
     "name": "stderr",
     "output_type": "stream",
     "text": [
      "\r",
      " 48%|████▊     | 553/1148 [34:34<39:28,  3.98s/it]"
     ]
    },
    {
     "name": "stdout",
     "output_type": "stream",
     "text": [
      "-8\n"
     ]
    },
    {
     "name": "stderr",
     "output_type": "stream",
     "text": [
      "\r",
      " 48%|████▊     | 554/1148 [34:38<38:16,  3.87s/it]"
     ]
    },
    {
     "name": "stdout",
     "output_type": "stream",
     "text": [
      "-9\n"
     ]
    },
    {
     "name": "stderr",
     "output_type": "stream",
     "text": [
      "\r",
      " 48%|████▊     | 555/1148 [34:41<37:01,  3.75s/it]"
     ]
    },
    {
     "name": "stdout",
     "output_type": "stream",
     "text": [
      "-4\n"
     ]
    },
    {
     "name": "stderr",
     "output_type": "stream",
     "text": [
      "\r",
      " 48%|████▊     | 556/1148 [34:47<42:23,  4.30s/it]"
     ]
    },
    {
     "name": "stdout",
     "output_type": "stream",
     "text": [
      "-6\n"
     ]
    },
    {
     "name": "stderr",
     "output_type": "stream",
     "text": [
      "\r",
      " 49%|████▊     | 557/1148 [34:51<41:36,  4.22s/it]"
     ]
    },
    {
     "name": "stdout",
     "output_type": "stream",
     "text": [
      "-5\n"
     ]
    },
    {
     "name": "stderr",
     "output_type": "stream",
     "text": [
      "\r",
      " 49%|████▊     | 558/1148 [34:55<40:14,  4.09s/it]"
     ]
    },
    {
     "name": "stdout",
     "output_type": "stream",
     "text": [
      "-5\n"
     ]
    },
    {
     "name": "stderr",
     "output_type": "stream",
     "text": [
      "\r",
      " 49%|████▊     | 559/1148 [34:59<40:55,  4.17s/it]"
     ]
    },
    {
     "name": "stdout",
     "output_type": "stream",
     "text": [
      "-4\n"
     ]
    },
    {
     "name": "stderr",
     "output_type": "stream",
     "text": [
      "\r",
      " 49%|████▉     | 560/1148 [35:03<40:45,  4.16s/it]"
     ]
    },
    {
     "name": "stdout",
     "output_type": "stream",
     "text": [
      "-4\n"
     ]
    },
    {
     "name": "stderr",
     "output_type": "stream",
     "text": [
      "\r",
      " 49%|████▉     | 561/1148 [35:07<40:23,  4.13s/it]"
     ]
    },
    {
     "name": "stdout",
     "output_type": "stream",
     "text": [
      "0\n"
     ]
    },
    {
     "name": "stderr",
     "output_type": "stream",
     "text": [
      "\r",
      " 49%|████▉     | 562/1148 [35:11<39:18,  4.02s/it]"
     ]
    },
    {
     "name": "stdout",
     "output_type": "stream",
     "text": [
      "-2\n"
     ]
    },
    {
     "name": "stderr",
     "output_type": "stream",
     "text": [
      "\r",
      " 49%|████▉     | 563/1148 [35:15<40:20,  4.14s/it]"
     ]
    },
    {
     "name": "stdout",
     "output_type": "stream",
     "text": [
      "-10\n"
     ]
    },
    {
     "name": "stderr",
     "output_type": "stream",
     "text": [
      "\r",
      " 49%|████▉     | 564/1148 [35:20<40:19,  4.14s/it]"
     ]
    },
    {
     "name": "stdout",
     "output_type": "stream",
     "text": [
      "-5\n"
     ]
    },
    {
     "name": "stderr",
     "output_type": "stream",
     "text": [
      "\r",
      " 49%|████▉     | 565/1148 [35:23<36:52,  3.79s/it]"
     ]
    },
    {
     "name": "stdout",
     "output_type": "stream",
     "text": [
      "-3\n"
     ]
    },
    {
     "name": "stderr",
     "output_type": "stream",
     "text": [
      "\r",
      " 49%|████▉     | 566/1148 [35:26<36:05,  3.72s/it]"
     ]
    },
    {
     "name": "stdout",
     "output_type": "stream",
     "text": [
      "-5\n"
     ]
    },
    {
     "name": "stderr",
     "output_type": "stream",
     "text": [
      "\r",
      " 49%|████▉     | 567/1148 [35:29<35:08,  3.63s/it]"
     ]
    },
    {
     "name": "stdout",
     "output_type": "stream",
     "text": [
      "-5\n"
     ]
    },
    {
     "name": "stderr",
     "output_type": "stream",
     "text": [
      "\r",
      " 49%|████▉     | 568/1148 [35:34<37:17,  3.86s/it]"
     ]
    },
    {
     "name": "stdout",
     "output_type": "stream",
     "text": [
      "-5\n"
     ]
    },
    {
     "name": "stderr",
     "output_type": "stream",
     "text": [
      "\r",
      " 50%|████▉     | 569/1148 [35:38<38:31,  3.99s/it]"
     ]
    },
    {
     "name": "stdout",
     "output_type": "stream",
     "text": [
      "-3\n"
     ]
    },
    {
     "name": "stderr",
     "output_type": "stream",
     "text": [
      "\r",
      " 50%|████▉     | 570/1148 [35:42<38:11,  3.96s/it]"
     ]
    },
    {
     "name": "stdout",
     "output_type": "stream",
     "text": [
      "-9\n"
     ]
    },
    {
     "name": "stderr",
     "output_type": "stream",
     "text": [
      "\r",
      " 50%|████▉     | 571/1148 [35:45<35:46,  3.72s/it]"
     ]
    },
    {
     "name": "stdout",
     "output_type": "stream",
     "text": [
      "-3\n"
     ]
    },
    {
     "name": "stderr",
     "output_type": "stream",
     "text": [
      "\r",
      " 50%|████▉     | 572/1148 [35:48<34:11,  3.56s/it]"
     ]
    },
    {
     "name": "stdout",
     "output_type": "stream",
     "text": [
      "-5\n"
     ]
    },
    {
     "name": "stderr",
     "output_type": "stream",
     "text": [
      "\r",
      " 50%|████▉     | 573/1148 [35:52<34:27,  3.60s/it]"
     ]
    },
    {
     "name": "stdout",
     "output_type": "stream",
     "text": [
      "-6\n"
     ]
    },
    {
     "name": "stderr",
     "output_type": "stream",
     "text": [
      "\r",
      " 50%|█████     | 574/1148 [35:56<34:48,  3.64s/it]"
     ]
    },
    {
     "name": "stdout",
     "output_type": "stream",
     "text": [
      "-6\n"
     ]
    },
    {
     "name": "stderr",
     "output_type": "stream",
     "text": [
      "\r",
      " 50%|█████     | 575/1148 [35:59<33:59,  3.56s/it]"
     ]
    },
    {
     "name": "stdout",
     "output_type": "stream",
     "text": [
      "-5\n"
     ]
    },
    {
     "name": "stderr",
     "output_type": "stream",
     "text": [
      "\r",
      " 50%|█████     | 576/1148 [36:03<34:32,  3.62s/it]"
     ]
    },
    {
     "name": "stdout",
     "output_type": "stream",
     "text": [
      "-2\n"
     ]
    },
    {
     "name": "stderr",
     "output_type": "stream",
     "text": [
      "\r",
      " 50%|█████     | 577/1148 [36:09<41:36,  4.37s/it]"
     ]
    },
    {
     "name": "stdout",
     "output_type": "stream",
     "text": [
      "-2\n"
     ]
    },
    {
     "name": "stderr",
     "output_type": "stream",
     "text": [
      "\r",
      " 50%|█████     | 578/1148 [36:13<39:24,  4.15s/it]"
     ]
    },
    {
     "name": "stdout",
     "output_type": "stream",
     "text": [
      "-3\n"
     ]
    },
    {
     "name": "stderr",
     "output_type": "stream",
     "text": [
      "\r",
      " 50%|█████     | 579/1148 [36:17<38:47,  4.09s/it]"
     ]
    },
    {
     "name": "stdout",
     "output_type": "stream",
     "text": [
      "-7\n"
     ]
    },
    {
     "name": "stderr",
     "output_type": "stream",
     "text": [
      "\r",
      " 51%|█████     | 580/1148 [36:20<37:38,  3.98s/it]"
     ]
    },
    {
     "name": "stdout",
     "output_type": "stream",
     "text": [
      "-1\n"
     ]
    },
    {
     "name": "stderr",
     "output_type": "stream",
     "text": [
      "\r",
      " 51%|█████     | 581/1148 [36:24<36:09,  3.83s/it]"
     ]
    },
    {
     "name": "stdout",
     "output_type": "stream",
     "text": [
      "-2\n"
     ]
    },
    {
     "name": "stderr",
     "output_type": "stream",
     "text": [
      "\r",
      " 51%|█████     | 582/1148 [36:28<37:20,  3.96s/it]"
     ]
    },
    {
     "name": "stdout",
     "output_type": "stream",
     "text": [
      "-8\n"
     ]
    },
    {
     "name": "stderr",
     "output_type": "stream",
     "text": [
      "\r",
      " 51%|█████     | 583/1148 [36:32<36:29,  3.88s/it]"
     ]
    },
    {
     "name": "stdout",
     "output_type": "stream",
     "text": [
      "-5\n"
     ]
    },
    {
     "name": "stderr",
     "output_type": "stream",
     "text": [
      "\r",
      " 51%|█████     | 584/1148 [36:37<39:33,  4.21s/it]"
     ]
    },
    {
     "name": "stdout",
     "output_type": "stream",
     "text": [
      "-3\n"
     ]
    },
    {
     "name": "stderr",
     "output_type": "stream",
     "text": [
      "\r",
      " 51%|█████     | 585/1148 [36:40<36:39,  3.91s/it]"
     ]
    },
    {
     "name": "stdout",
     "output_type": "stream",
     "text": [
      "-3\n"
     ]
    },
    {
     "name": "stderr",
     "output_type": "stream",
     "text": [
      "\r",
      " 51%|█████     | 586/1148 [36:43<35:18,  3.77s/it]"
     ]
    },
    {
     "name": "stdout",
     "output_type": "stream",
     "text": [
      "-10\n"
     ]
    },
    {
     "name": "stderr",
     "output_type": "stream",
     "text": [
      "\r",
      " 51%|█████     | 587/1148 [36:48<36:15,  3.88s/it]"
     ]
    },
    {
     "name": "stdout",
     "output_type": "stream",
     "text": [
      "-5\n"
     ]
    },
    {
     "name": "stderr",
     "output_type": "stream",
     "text": [
      "\r",
      " 51%|█████     | 588/1148 [36:51<33:35,  3.60s/it]"
     ]
    },
    {
     "name": "stdout",
     "output_type": "stream",
     "text": [
      "-3\n"
     ]
    },
    {
     "name": "stderr",
     "output_type": "stream",
     "text": [
      "\r",
      " 51%|█████▏    | 589/1148 [36:55<37:12,  3.99s/it]"
     ]
    },
    {
     "name": "stdout",
     "output_type": "stream",
     "text": [
      "-2\n"
     ]
    },
    {
     "name": "stderr",
     "output_type": "stream",
     "text": [
      "\r",
      " 51%|█████▏    | 590/1148 [36:59<35:42,  3.84s/it]"
     ]
    },
    {
     "name": "stdout",
     "output_type": "stream",
     "text": [
      "-6\n"
     ]
    },
    {
     "name": "stderr",
     "output_type": "stream",
     "text": [
      "\r",
      " 51%|█████▏    | 591/1148 [37:02<32:22,  3.49s/it]"
     ]
    },
    {
     "name": "stdout",
     "output_type": "stream",
     "text": [
      "-5\n"
     ]
    },
    {
     "name": "stderr",
     "output_type": "stream",
     "text": [
      "\r",
      " 52%|█████▏    | 592/1148 [37:05<32:26,  3.50s/it]"
     ]
    },
    {
     "name": "stdout",
     "output_type": "stream",
     "text": [
      "-6\n"
     ]
    },
    {
     "name": "stderr",
     "output_type": "stream",
     "text": [
      "\r",
      " 52%|█████▏    | 593/1148 [37:08<32:01,  3.46s/it]"
     ]
    },
    {
     "name": "stdout",
     "output_type": "stream",
     "text": [
      "-2\n"
     ]
    },
    {
     "name": "stderr",
     "output_type": "stream",
     "text": [
      "\r",
      " 52%|█████▏    | 594/1148 [37:12<32:55,  3.57s/it]"
     ]
    },
    {
     "name": "stdout",
     "output_type": "stream",
     "text": [
      "-4\n"
     ]
    },
    {
     "name": "stderr",
     "output_type": "stream",
     "text": [
      "\r",
      " 52%|█████▏    | 595/1148 [37:16<31:50,  3.45s/it]"
     ]
    },
    {
     "name": "stdout",
     "output_type": "stream",
     "text": [
      "-2\n"
     ]
    },
    {
     "name": "stderr",
     "output_type": "stream",
     "text": [
      "\r",
      " 52%|█████▏    | 596/1148 [37:19<32:17,  3.51s/it]"
     ]
    },
    {
     "name": "stdout",
     "output_type": "stream",
     "text": [
      "-2\n"
     ]
    },
    {
     "name": "stderr",
     "output_type": "stream",
     "text": [
      "\r",
      " 52%|█████▏    | 597/1148 [37:22<31:31,  3.43s/it]"
     ]
    },
    {
     "name": "stdout",
     "output_type": "stream",
     "text": [
      "-6\n"
     ]
    },
    {
     "name": "stderr",
     "output_type": "stream",
     "text": [
      "\r",
      " 52%|█████▏    | 598/1148 [37:26<31:32,  3.44s/it]"
     ]
    },
    {
     "name": "stdout",
     "output_type": "stream",
     "text": [
      "-5\n"
     ]
    },
    {
     "name": "stderr",
     "output_type": "stream",
     "text": [
      "\r",
      " 52%|█████▏    | 599/1148 [37:29<30:31,  3.34s/it]"
     ]
    },
    {
     "name": "stdout",
     "output_type": "stream",
     "text": [
      "-5\n"
     ]
    },
    {
     "name": "stderr",
     "output_type": "stream",
     "text": [
      "\r",
      " 52%|█████▏    | 600/1148 [37:33<32:55,  3.60s/it]"
     ]
    },
    {
     "name": "stdout",
     "output_type": "stream",
     "text": [
      "-5\n"
     ]
    },
    {
     "name": "stderr",
     "output_type": "stream",
     "text": [
      "\r",
      " 52%|█████▏    | 601/1148 [37:36<31:18,  3.43s/it]"
     ]
    },
    {
     "name": "stdout",
     "output_type": "stream",
     "text": [
      "-3\n"
     ]
    },
    {
     "name": "stderr",
     "output_type": "stream",
     "text": [
      "\r",
      " 52%|█████▏    | 602/1148 [37:40<32:16,  3.55s/it]"
     ]
    },
    {
     "name": "stdout",
     "output_type": "stream",
     "text": [
      "-3\n"
     ]
    },
    {
     "name": "stderr",
     "output_type": "stream",
     "text": [
      "\r",
      " 53%|█████▎    | 603/1148 [37:44<32:25,  3.57s/it]"
     ]
    },
    {
     "name": "stdout",
     "output_type": "stream",
     "text": [
      "-1\n"
     ]
    },
    {
     "name": "stderr",
     "output_type": "stream",
     "text": [
      "\r",
      " 53%|█████▎    | 604/1148 [37:46<30:24,  3.35s/it]"
     ]
    },
    {
     "name": "stdout",
     "output_type": "stream",
     "text": [
      "-1\n"
     ]
    },
    {
     "name": "stderr",
     "output_type": "stream",
     "text": [
      "\r",
      " 53%|█████▎    | 605/1148 [37:50<30:35,  3.38s/it]"
     ]
    },
    {
     "name": "stdout",
     "output_type": "stream",
     "text": [
      "-2\n"
     ]
    },
    {
     "name": "stderr",
     "output_type": "stream",
     "text": [
      "\r",
      " 53%|█████▎    | 606/1148 [37:53<30:59,  3.43s/it]"
     ]
    },
    {
     "name": "stdout",
     "output_type": "stream",
     "text": [
      "-4\n"
     ]
    },
    {
     "name": "stderr",
     "output_type": "stream",
     "text": [
      "\r",
      " 53%|█████▎    | 607/1148 [37:57<30:22,  3.37s/it]"
     ]
    },
    {
     "name": "stdout",
     "output_type": "stream",
     "text": [
      "-4\n"
     ]
    },
    {
     "name": "stderr",
     "output_type": "stream",
     "text": [
      "\r",
      " 53%|█████▎    | 608/1148 [38:01<31:41,  3.52s/it]"
     ]
    },
    {
     "name": "stdout",
     "output_type": "stream",
     "text": [
      "-9\n"
     ]
    },
    {
     "name": "stderr",
     "output_type": "stream",
     "text": [
      "\r",
      " 53%|█████▎    | 609/1148 [38:04<32:21,  3.60s/it]"
     ]
    },
    {
     "name": "stdout",
     "output_type": "stream",
     "text": [
      "-6\n"
     ]
    },
    {
     "name": "stderr",
     "output_type": "stream",
     "text": [
      "\r",
      " 53%|█████▎    | 610/1148 [38:10<36:53,  4.11s/it]"
     ]
    },
    {
     "name": "stdout",
     "output_type": "stream",
     "text": [
      "-3\n"
     ]
    },
    {
     "name": "stderr",
     "output_type": "stream",
     "text": [
      "\r",
      " 53%|█████▎    | 611/1148 [38:14<38:41,  4.32s/it]"
     ]
    },
    {
     "name": "stdout",
     "output_type": "stream",
     "text": [
      "-7\n"
     ]
    },
    {
     "name": "stderr",
     "output_type": "stream",
     "text": [
      "\r",
      " 53%|█████▎    | 612/1148 [38:18<37:25,  4.19s/it]"
     ]
    },
    {
     "name": "stdout",
     "output_type": "stream",
     "text": [
      "-4\n"
     ]
    },
    {
     "name": "stderr",
     "output_type": "stream",
     "text": [
      "\r",
      " 53%|█████▎    | 613/1148 [38:22<36:45,  4.12s/it]"
     ]
    },
    {
     "name": "stdout",
     "output_type": "stream",
     "text": [
      "-2\n"
     ]
    },
    {
     "name": "stderr",
     "output_type": "stream",
     "text": [
      "\r",
      " 53%|█████▎    | 614/1148 [38:27<37:25,  4.20s/it]"
     ]
    },
    {
     "name": "stdout",
     "output_type": "stream",
     "text": [
      "-4\n"
     ]
    },
    {
     "name": "stderr",
     "output_type": "stream",
     "text": [
      "\r",
      " 54%|█████▎    | 615/1148 [38:30<34:34,  3.89s/it]"
     ]
    },
    {
     "name": "stdout",
     "output_type": "stream",
     "text": [
      "-4\n"
     ]
    },
    {
     "name": "stderr",
     "output_type": "stream",
     "text": [
      "\r",
      " 54%|█████▎    | 616/1148 [38:35<37:54,  4.27s/it]"
     ]
    },
    {
     "name": "stdout",
     "output_type": "stream",
     "text": [
      "-4\n"
     ]
    },
    {
     "name": "stderr",
     "output_type": "stream",
     "text": [
      "\r",
      " 54%|█████▎    | 617/1148 [38:38<35:08,  3.97s/it]"
     ]
    },
    {
     "name": "stdout",
     "output_type": "stream",
     "text": [
      "-2\n"
     ]
    },
    {
     "name": "stderr",
     "output_type": "stream",
     "text": [
      "\r",
      " 54%|█████▍    | 618/1148 [38:42<34:02,  3.85s/it]"
     ]
    },
    {
     "name": "stdout",
     "output_type": "stream",
     "text": [
      "-2\n"
     ]
    },
    {
     "name": "stderr",
     "output_type": "stream",
     "text": [
      "\r",
      " 54%|█████▍    | 619/1148 [38:45<32:22,  3.67s/it]"
     ]
    },
    {
     "name": "stdout",
     "output_type": "stream",
     "text": [
      "-2\n"
     ]
    },
    {
     "name": "stderr",
     "output_type": "stream",
     "text": [
      "\r",
      " 54%|█████▍    | 620/1148 [38:49<31:34,  3.59s/it]"
     ]
    },
    {
     "name": "stdout",
     "output_type": "stream",
     "text": [
      "-3\n"
     ]
    },
    {
     "name": "stderr",
     "output_type": "stream",
     "text": [
      "\r",
      " 54%|█████▍    | 621/1148 [38:52<31:31,  3.59s/it]"
     ]
    },
    {
     "name": "stdout",
     "output_type": "stream",
     "text": [
      "-2\n"
     ]
    },
    {
     "name": "stderr",
     "output_type": "stream",
     "text": [
      "\r",
      " 54%|█████▍    | 622/1148 [38:57<35:22,  4.03s/it]"
     ]
    },
    {
     "name": "stdout",
     "output_type": "stream",
     "text": [
      "-3\n"
     ]
    },
    {
     "name": "stderr",
     "output_type": "stream",
     "text": [
      "\r",
      " 54%|█████▍    | 623/1148 [39:01<33:39,  3.85s/it]"
     ]
    },
    {
     "name": "stdout",
     "output_type": "stream",
     "text": [
      "-3\n"
     ]
    },
    {
     "name": "stderr",
     "output_type": "stream",
     "text": [
      "\r",
      " 54%|█████▍    | 624/1148 [39:04<32:56,  3.77s/it]"
     ]
    },
    {
     "name": "stdout",
     "output_type": "stream",
     "text": [
      "-4\n"
     ]
    },
    {
     "name": "stderr",
     "output_type": "stream",
     "text": [
      "\r",
      " 54%|█████▍    | 625/1148 [39:07<31:24,  3.60s/it]"
     ]
    },
    {
     "name": "stdout",
     "output_type": "stream",
     "text": [
      "-1\n"
     ]
    },
    {
     "name": "stderr",
     "output_type": "stream",
     "text": [
      "\r",
      " 55%|█████▍    | 626/1148 [39:11<31:42,  3.64s/it]"
     ]
    },
    {
     "name": "stdout",
     "output_type": "stream",
     "text": [
      "-4\n"
     ]
    },
    {
     "name": "stderr",
     "output_type": "stream",
     "text": [
      "\r",
      " 55%|█████▍    | 627/1148 [39:16<35:31,  4.09s/it]"
     ]
    },
    {
     "name": "stdout",
     "output_type": "stream",
     "text": [
      "-6\n"
     ]
    },
    {
     "name": "stderr",
     "output_type": "stream",
     "text": [
      "\r",
      " 55%|█████▍    | 628/1148 [39:20<34:24,  3.97s/it]"
     ]
    },
    {
     "name": "stdout",
     "output_type": "stream",
     "text": [
      "-4\n"
     ]
    },
    {
     "name": "stderr",
     "output_type": "stream",
     "text": [
      "\r",
      " 55%|█████▍    | 629/1148 [39:23<32:38,  3.77s/it]"
     ]
    },
    {
     "name": "stdout",
     "output_type": "stream",
     "text": [
      "-6\n"
     ]
    },
    {
     "name": "stderr",
     "output_type": "stream",
     "text": [
      "\r",
      " 55%|█████▍    | 630/1148 [39:27<32:32,  3.77s/it]"
     ]
    },
    {
     "name": "stdout",
     "output_type": "stream",
     "text": [
      "-5\n"
     ]
    },
    {
     "name": "stderr",
     "output_type": "stream",
     "text": [
      "\r",
      " 55%|█████▍    | 631/1148 [39:31<33:19,  3.87s/it]"
     ]
    },
    {
     "name": "stdout",
     "output_type": "stream",
     "text": [
      "-10\n"
     ]
    },
    {
     "name": "stderr",
     "output_type": "stream",
     "text": [
      "\r",
      " 55%|█████▌    | 632/1148 [39:35<32:55,  3.83s/it]"
     ]
    },
    {
     "name": "stdout",
     "output_type": "stream",
     "text": [
      "-7\n"
     ]
    },
    {
     "name": "stderr",
     "output_type": "stream",
     "text": [
      "\r",
      " 55%|█████▌    | 633/1148 [39:38<31:26,  3.66s/it]"
     ]
    },
    {
     "name": "stdout",
     "output_type": "stream",
     "text": [
      "-5\n"
     ]
    },
    {
     "name": "stderr",
     "output_type": "stream",
     "text": [
      "\r",
      " 55%|█████▌    | 634/1148 [39:42<32:07,  3.75s/it]"
     ]
    },
    {
     "name": "stdout",
     "output_type": "stream",
     "text": [
      "-4\n"
     ]
    },
    {
     "name": "stderr",
     "output_type": "stream",
     "text": [
      "\r",
      " 55%|█████▌    | 635/1148 [39:46<31:38,  3.70s/it]"
     ]
    },
    {
     "name": "stdout",
     "output_type": "stream",
     "text": [
      "-8\n"
     ]
    },
    {
     "name": "stderr",
     "output_type": "stream",
     "text": [
      "\r",
      " 55%|█████▌    | 636/1148 [39:49<29:45,  3.49s/it]"
     ]
    },
    {
     "name": "stdout",
     "output_type": "stream",
     "text": [
      "-3\n"
     ]
    },
    {
     "name": "stderr",
     "output_type": "stream",
     "text": [
      "\r",
      " 55%|█████▌    | 637/1148 [39:53<31:58,  3.75s/it]"
     ]
    },
    {
     "name": "stdout",
     "output_type": "stream",
     "text": [
      "-5\n"
     ]
    },
    {
     "name": "stderr",
     "output_type": "stream",
     "text": [
      "\r",
      " 56%|█████▌    | 638/1148 [39:57<32:52,  3.87s/it]"
     ]
    },
    {
     "name": "stdout",
     "output_type": "stream",
     "text": [
      "-6\n"
     ]
    },
    {
     "name": "stderr",
     "output_type": "stream",
     "text": [
      "\r",
      " 56%|█████▌    | 639/1148 [40:01<32:11,  3.79s/it]"
     ]
    },
    {
     "name": "stdout",
     "output_type": "stream",
     "text": [
      "-7\n"
     ]
    },
    {
     "name": "stderr",
     "output_type": "stream",
     "text": [
      "\r",
      " 56%|█████▌    | 640/1148 [40:05<33:25,  3.95s/it]"
     ]
    },
    {
     "name": "stdout",
     "output_type": "stream",
     "text": [
      "-7\n"
     ]
    },
    {
     "name": "stderr",
     "output_type": "stream",
     "text": [
      "\r",
      " 56%|█████▌    | 641/1148 [40:09<32:01,  3.79s/it]"
     ]
    },
    {
     "name": "stdout",
     "output_type": "stream",
     "text": [
      "-3\n"
     ]
    },
    {
     "name": "stderr",
     "output_type": "stream",
     "text": [
      "\r",
      " 56%|█████▌    | 642/1148 [40:12<31:49,  3.77s/it]"
     ]
    },
    {
     "name": "stdout",
     "output_type": "stream",
     "text": [
      "-4\n"
     ]
    },
    {
     "name": "stderr",
     "output_type": "stream",
     "text": [
      "\r",
      " 56%|█████▌    | 643/1148 [40:16<30:45,  3.65s/it]"
     ]
    },
    {
     "name": "stdout",
     "output_type": "stream",
     "text": [
      "-2\n"
     ]
    },
    {
     "name": "stderr",
     "output_type": "stream",
     "text": [
      "\r",
      " 56%|█████▌    | 644/1148 [40:20<31:57,  3.80s/it]"
     ]
    },
    {
     "name": "stdout",
     "output_type": "stream",
     "text": [
      "-1\n"
     ]
    },
    {
     "name": "stderr",
     "output_type": "stream",
     "text": [
      "\r",
      " 56%|█████▌    | 645/1148 [40:24<33:06,  3.95s/it]"
     ]
    },
    {
     "name": "stdout",
     "output_type": "stream",
     "text": [
      "-2\n"
     ]
    },
    {
     "name": "stderr",
     "output_type": "stream",
     "text": [
      "\r",
      " 56%|█████▋    | 646/1148 [40:27<30:39,  3.66s/it]"
     ]
    },
    {
     "name": "stdout",
     "output_type": "stream",
     "text": [
      "-1\n"
     ]
    },
    {
     "name": "stderr",
     "output_type": "stream",
     "text": [
      "\r",
      " 56%|█████▋    | 647/1148 [40:34<37:42,  4.52s/it]"
     ]
    },
    {
     "name": "stdout",
     "output_type": "stream",
     "text": [
      "-5\n"
     ]
    },
    {
     "name": "stderr",
     "output_type": "stream",
     "text": [
      "\r",
      " 56%|█████▋    | 648/1148 [40:37<35:47,  4.30s/it]"
     ]
    },
    {
     "name": "stdout",
     "output_type": "stream",
     "text": [
      "-6\n"
     ]
    },
    {
     "name": "stderr",
     "output_type": "stream",
     "text": [
      "\r",
      " 57%|█████▋    | 649/1148 [40:40<32:31,  3.91s/it]"
     ]
    },
    {
     "name": "stdout",
     "output_type": "stream",
     "text": [
      "-2\n"
     ]
    },
    {
     "name": "stderr",
     "output_type": "stream",
     "text": [
      "\r",
      " 57%|█████▋    | 650/1148 [40:44<31:53,  3.84s/it]"
     ]
    },
    {
     "name": "stdout",
     "output_type": "stream",
     "text": [
      "-2\n"
     ]
    },
    {
     "name": "stderr",
     "output_type": "stream",
     "text": [
      "\r",
      " 57%|█████▋    | 651/1148 [40:48<31:15,  3.77s/it]"
     ]
    },
    {
     "name": "stdout",
     "output_type": "stream",
     "text": [
      "-2\n"
     ]
    },
    {
     "name": "stderr",
     "output_type": "stream",
     "text": [
      "\r",
      " 57%|█████▋    | 652/1148 [40:51<30:54,  3.74s/it]"
     ]
    },
    {
     "name": "stdout",
     "output_type": "stream",
     "text": [
      "-8\n"
     ]
    },
    {
     "name": "stderr",
     "output_type": "stream",
     "text": [
      "\r",
      " 57%|█████▋    | 653/1148 [40:55<30:10,  3.66s/it]"
     ]
    },
    {
     "name": "stdout",
     "output_type": "stream",
     "text": [
      "-1\n"
     ]
    },
    {
     "name": "stderr",
     "output_type": "stream",
     "text": [
      "\r",
      " 57%|█████▋    | 654/1148 [40:58<29:02,  3.53s/it]"
     ]
    },
    {
     "name": "stdout",
     "output_type": "stream",
     "text": [
      "-7\n"
     ]
    },
    {
     "name": "stderr",
     "output_type": "stream",
     "text": [
      "\r",
      " 57%|█████▋    | 655/1148 [41:02<29:58,  3.65s/it]"
     ]
    },
    {
     "name": "stdout",
     "output_type": "stream",
     "text": [
      "-6\n"
     ]
    },
    {
     "name": "stderr",
     "output_type": "stream",
     "text": [
      "\r",
      " 57%|█████▋    | 656/1148 [41:06<29:50,  3.64s/it]"
     ]
    },
    {
     "name": "stdout",
     "output_type": "stream",
     "text": [
      "-1\n"
     ]
    },
    {
     "name": "stderr",
     "output_type": "stream",
     "text": [
      "\r",
      " 57%|█████▋    | 657/1148 [41:09<28:43,  3.51s/it]"
     ]
    },
    {
     "name": "stdout",
     "output_type": "stream",
     "text": [
      "-2\n"
     ]
    },
    {
     "name": "stderr",
     "output_type": "stream",
     "text": [
      "\r",
      " 57%|█████▋    | 658/1148 [41:13<29:50,  3.65s/it]"
     ]
    },
    {
     "name": "stdout",
     "output_type": "stream",
     "text": [
      "-5\n"
     ]
    },
    {
     "name": "stderr",
     "output_type": "stream",
     "text": [
      "\r",
      " 57%|█████▋    | 659/1148 [41:16<29:05,  3.57s/it]"
     ]
    },
    {
     "name": "stdout",
     "output_type": "stream",
     "text": [
      "-4\n"
     ]
    },
    {
     "name": "stderr",
     "output_type": "stream",
     "text": [
      "\r",
      " 57%|█████▋    | 660/1148 [41:21<32:15,  3.97s/it]"
     ]
    },
    {
     "name": "stdout",
     "output_type": "stream",
     "text": [
      "-4\n"
     ]
    },
    {
     "name": "stderr",
     "output_type": "stream",
     "text": [
      "\r",
      " 58%|█████▊    | 661/1148 [41:24<30:23,  3.74s/it]"
     ]
    },
    {
     "name": "stdout",
     "output_type": "stream",
     "text": [
      "-1\n"
     ]
    },
    {
     "name": "stderr",
     "output_type": "stream",
     "text": [
      "\r",
      " 58%|█████▊    | 662/1148 [41:27<28:32,  3.52s/it]"
     ]
    },
    {
     "name": "stdout",
     "output_type": "stream",
     "text": [
      "-4\n"
     ]
    },
    {
     "name": "stderr",
     "output_type": "stream",
     "text": [
      "\r",
      " 58%|█████▊    | 663/1148 [41:31<29:13,  3.62s/it]"
     ]
    },
    {
     "name": "stdout",
     "output_type": "stream",
     "text": [
      "-4\n"
     ]
    },
    {
     "name": "stderr",
     "output_type": "stream",
     "text": [
      "\r",
      " 58%|█████▊    | 664/1148 [41:35<28:53,  3.58s/it]"
     ]
    },
    {
     "name": "stdout",
     "output_type": "stream",
     "text": [
      "-3\n"
     ]
    },
    {
     "name": "stderr",
     "output_type": "stream",
     "text": [
      "\r",
      " 58%|█████▊    | 665/1148 [41:38<27:46,  3.45s/it]"
     ]
    },
    {
     "name": "stdout",
     "output_type": "stream",
     "text": [
      "-1\n"
     ]
    },
    {
     "name": "stderr",
     "output_type": "stream",
     "text": [
      "\r",
      " 58%|█████▊    | 666/1148 [41:43<32:45,  4.08s/it]"
     ]
    },
    {
     "name": "stdout",
     "output_type": "stream",
     "text": [
      "-6\n"
     ]
    },
    {
     "name": "stderr",
     "output_type": "stream",
     "text": [
      "\r",
      " 58%|█████▊    | 667/1148 [41:47<31:30,  3.93s/it]"
     ]
    },
    {
     "name": "stdout",
     "output_type": "stream",
     "text": [
      "-4\n"
     ]
    },
    {
     "name": "stderr",
     "output_type": "stream",
     "text": [
      "\r",
      " 58%|█████▊    | 668/1148 [41:51<31:01,  3.88s/it]"
     ]
    },
    {
     "name": "stdout",
     "output_type": "stream",
     "text": [
      "-3\n"
     ]
    },
    {
     "name": "stderr",
     "output_type": "stream",
     "text": [
      "\r",
      " 58%|█████▊    | 669/1148 [41:54<29:00,  3.63s/it]"
     ]
    },
    {
     "name": "stdout",
     "output_type": "stream",
     "text": [
      "-3\n"
     ]
    },
    {
     "name": "stderr",
     "output_type": "stream",
     "text": [
      "\r",
      " 58%|█████▊    | 670/1148 [41:57<27:53,  3.50s/it]"
     ]
    },
    {
     "name": "stdout",
     "output_type": "stream",
     "text": [
      "-6\n"
     ]
    },
    {
     "name": "stderr",
     "output_type": "stream",
     "text": [
      "\r",
      " 58%|█████▊    | 671/1148 [42:01<28:04,  3.53s/it]"
     ]
    },
    {
     "name": "stdout",
     "output_type": "stream",
     "text": [
      "-6\n"
     ]
    },
    {
     "name": "stderr",
     "output_type": "stream",
     "text": [
      "\r",
      " 59%|█████▊    | 672/1148 [42:04<28:57,  3.65s/it]"
     ]
    },
    {
     "name": "stdout",
     "output_type": "stream",
     "text": [
      "-6\n"
     ]
    },
    {
     "name": "stderr",
     "output_type": "stream",
     "text": [
      "\r",
      " 59%|█████▊    | 673/1148 [42:08<27:45,  3.51s/it]"
     ]
    },
    {
     "name": "stdout",
     "output_type": "stream",
     "text": [
      "-8\n"
     ]
    },
    {
     "name": "stderr",
     "output_type": "stream",
     "text": [
      "\r",
      " 59%|█████▊    | 674/1148 [42:11<28:16,  3.58s/it]"
     ]
    },
    {
     "name": "stdout",
     "output_type": "stream",
     "text": [
      "-2\n"
     ]
    },
    {
     "name": "stderr",
     "output_type": "stream",
     "text": [
      "\r",
      " 59%|█████▉    | 675/1148 [42:15<27:10,  3.45s/it]"
     ]
    },
    {
     "name": "stdout",
     "output_type": "stream",
     "text": [
      "-5\n"
     ]
    },
    {
     "name": "stderr",
     "output_type": "stream",
     "text": [
      "\r",
      " 59%|█████▉    | 676/1148 [42:19<28:30,  3.62s/it]"
     ]
    },
    {
     "name": "stdout",
     "output_type": "stream",
     "text": [
      "-7\n"
     ]
    },
    {
     "name": "stderr",
     "output_type": "stream",
     "text": [
      "\r",
      " 59%|█████▉    | 677/1148 [42:22<27:48,  3.54s/it]"
     ]
    },
    {
     "name": "stdout",
     "output_type": "stream",
     "text": [
      "-1\n"
     ]
    },
    {
     "name": "stderr",
     "output_type": "stream",
     "text": [
      "\r",
      " 59%|█████▉    | 678/1148 [42:27<32:01,  4.09s/it]"
     ]
    },
    {
     "name": "stdout",
     "output_type": "stream",
     "text": [
      "-5\n"
     ]
    },
    {
     "name": "stderr",
     "output_type": "stream",
     "text": [
      "\r",
      " 59%|█████▉    | 679/1148 [42:30<29:33,  3.78s/it]"
     ]
    },
    {
     "name": "stdout",
     "output_type": "stream",
     "text": [
      "-2\n"
     ]
    },
    {
     "name": "stderr",
     "output_type": "stream",
     "text": [
      "\r",
      " 59%|█████▉    | 680/1148 [42:35<31:47,  4.08s/it]"
     ]
    },
    {
     "name": "stdout",
     "output_type": "stream",
     "text": [
      "-3\n"
     ]
    },
    {
     "name": "stderr",
     "output_type": "stream",
     "text": [
      "\r",
      " 59%|█████▉    | 681/1148 [42:39<30:44,  3.95s/it]"
     ]
    },
    {
     "name": "stdout",
     "output_type": "stream",
     "text": [
      "-7\n"
     ]
    },
    {
     "name": "stderr",
     "output_type": "stream",
     "text": [
      "\r",
      " 59%|█████▉    | 682/1148 [42:42<29:44,  3.83s/it]"
     ]
    },
    {
     "name": "stdout",
     "output_type": "stream",
     "text": [
      "-1\n"
     ]
    },
    {
     "name": "stderr",
     "output_type": "stream",
     "text": [
      "\r",
      " 59%|█████▉    | 683/1148 [42:46<28:41,  3.70s/it]"
     ]
    },
    {
     "name": "stdout",
     "output_type": "stream",
     "text": [
      "-3\n"
     ]
    },
    {
     "name": "stderr",
     "output_type": "stream",
     "text": [
      "\r",
      " 60%|█████▉    | 684/1148 [42:51<32:40,  4.23s/it]"
     ]
    },
    {
     "name": "stdout",
     "output_type": "stream",
     "text": [
      "-4\n"
     ]
    },
    {
     "name": "stderr",
     "output_type": "stream",
     "text": [
      "\r",
      " 60%|█████▉    | 685/1148 [42:54<30:23,  3.94s/it]"
     ]
    },
    {
     "name": "stdout",
     "output_type": "stream",
     "text": [
      "-8\n"
     ]
    },
    {
     "name": "stderr",
     "output_type": "stream",
     "text": [
      "\r",
      " 60%|█████▉    | 686/1148 [42:58<30:05,  3.91s/it]"
     ]
    },
    {
     "name": "stdout",
     "output_type": "stream",
     "text": [
      "-6\n"
     ]
    },
    {
     "name": "stderr",
     "output_type": "stream",
     "text": [
      "\r",
      " 60%|█████▉    | 687/1148 [43:02<29:34,  3.85s/it]"
     ]
    },
    {
     "name": "stdout",
     "output_type": "stream",
     "text": [
      "-9\n"
     ]
    },
    {
     "name": "stderr",
     "output_type": "stream",
     "text": [
      "\r",
      " 60%|█████▉    | 688/1148 [43:06<29:34,  3.86s/it]"
     ]
    },
    {
     "name": "stdout",
     "output_type": "stream",
     "text": [
      "-3\n"
     ]
    },
    {
     "name": "stderr",
     "output_type": "stream",
     "text": [
      "\r",
      " 60%|██████    | 689/1148 [43:10<30:00,  3.92s/it]"
     ]
    },
    {
     "name": "stdout",
     "output_type": "stream",
     "text": [
      "-1\n"
     ]
    },
    {
     "name": "stderr",
     "output_type": "stream",
     "text": [
      "\r",
      " 60%|██████    | 690/1148 [43:14<29:21,  3.85s/it]"
     ]
    },
    {
     "name": "stdout",
     "output_type": "stream",
     "text": [
      "-4\n"
     ]
    },
    {
     "name": "stderr",
     "output_type": "stream",
     "text": [
      "\r",
      " 60%|██████    | 691/1148 [43:17<27:59,  3.68s/it]"
     ]
    },
    {
     "name": "stdout",
     "output_type": "stream",
     "text": [
      "-5\n"
     ]
    },
    {
     "name": "stderr",
     "output_type": "stream",
     "text": [
      "\r",
      " 60%|██████    | 692/1148 [43:21<28:02,  3.69s/it]"
     ]
    },
    {
     "name": "stdout",
     "output_type": "stream",
     "text": [
      "-4\n"
     ]
    },
    {
     "name": "stderr",
     "output_type": "stream",
     "text": [
      "\r",
      " 60%|██████    | 693/1148 [43:24<27:15,  3.59s/it]"
     ]
    },
    {
     "name": "stdout",
     "output_type": "stream",
     "text": [
      "-4\n"
     ]
    },
    {
     "name": "stderr",
     "output_type": "stream",
     "text": [
      "\r",
      " 60%|██████    | 694/1148 [43:27<26:38,  3.52s/it]"
     ]
    },
    {
     "name": "stdout",
     "output_type": "stream",
     "text": [
      "-3\n"
     ]
    },
    {
     "name": "stderr",
     "output_type": "stream",
     "text": [
      "\r",
      " 61%|██████    | 695/1148 [43:31<27:38,  3.66s/it]"
     ]
    },
    {
     "name": "stdout",
     "output_type": "stream",
     "text": [
      "-11\n"
     ]
    },
    {
     "name": "stderr",
     "output_type": "stream",
     "text": [
      "\r",
      " 61%|██████    | 696/1148 [43:34<26:32,  3.52s/it]"
     ]
    },
    {
     "name": "stdout",
     "output_type": "stream",
     "text": [
      "-4\n"
     ]
    },
    {
     "name": "stderr",
     "output_type": "stream",
     "text": [
      "\r",
      " 61%|██████    | 697/1148 [43:39<28:58,  3.85s/it]"
     ]
    },
    {
     "name": "stdout",
     "output_type": "stream",
     "text": [
      "-2\n"
     ]
    },
    {
     "name": "stderr",
     "output_type": "stream",
     "text": [
      "\r",
      " 61%|██████    | 698/1148 [43:43<29:19,  3.91s/it]"
     ]
    },
    {
     "name": "stdout",
     "output_type": "stream",
     "text": [
      "-3\n"
     ]
    },
    {
     "name": "stderr",
     "output_type": "stream",
     "text": [
      "\r",
      " 61%|██████    | 699/1148 [43:47<28:14,  3.77s/it]"
     ]
    },
    {
     "name": "stdout",
     "output_type": "stream",
     "text": [
      "-9\n"
     ]
    },
    {
     "name": "stderr",
     "output_type": "stream",
     "text": [
      "\r",
      " 61%|██████    | 700/1148 [43:51<29:07,  3.90s/it]"
     ]
    },
    {
     "name": "stdout",
     "output_type": "stream",
     "text": [
      "-5\n"
     ]
    },
    {
     "name": "stderr",
     "output_type": "stream",
     "text": [
      "\r",
      " 61%|██████    | 701/1148 [43:54<27:58,  3.75s/it]"
     ]
    },
    {
     "name": "stdout",
     "output_type": "stream",
     "text": [
      "-3\n"
     ]
    },
    {
     "name": "stderr",
     "output_type": "stream",
     "text": [
      "\r",
      " 61%|██████    | 702/1148 [43:58<28:04,  3.78s/it]"
     ]
    },
    {
     "name": "stdout",
     "output_type": "stream",
     "text": [
      "-4\n"
     ]
    },
    {
     "name": "stderr",
     "output_type": "stream",
     "text": [
      "\r",
      " 61%|██████    | 703/1148 [44:01<27:10,  3.66s/it]"
     ]
    },
    {
     "name": "stdout",
     "output_type": "stream",
     "text": [
      "-5\n"
     ]
    },
    {
     "name": "stderr",
     "output_type": "stream",
     "text": [
      "\r",
      " 61%|██████▏   | 704/1148 [44:05<27:38,  3.74s/it]"
     ]
    },
    {
     "name": "stdout",
     "output_type": "stream",
     "text": [
      "-4\n"
     ]
    },
    {
     "name": "stderr",
     "output_type": "stream",
     "text": [
      "\r",
      " 61%|██████▏   | 705/1148 [44:08<25:39,  3.47s/it]"
     ]
    },
    {
     "name": "stdout",
     "output_type": "stream",
     "text": [
      "-9\n"
     ]
    },
    {
     "name": "stderr",
     "output_type": "stream",
     "text": [
      "\r",
      " 61%|██████▏   | 706/1148 [44:12<26:38,  3.62s/it]"
     ]
    },
    {
     "name": "stdout",
     "output_type": "stream",
     "text": [
      "-5\n"
     ]
    },
    {
     "name": "stderr",
     "output_type": "stream",
     "text": [
      "\r",
      " 62%|██████▏   | 707/1148 [44:16<26:29,  3.60s/it]"
     ]
    },
    {
     "name": "stdout",
     "output_type": "stream",
     "text": [
      "-2\n"
     ]
    },
    {
     "name": "stderr",
     "output_type": "stream",
     "text": [
      "\r",
      " 62%|██████▏   | 708/1148 [44:20<27:05,  3.70s/it]"
     ]
    },
    {
     "name": "stdout",
     "output_type": "stream",
     "text": [
      "-5\n"
     ]
    },
    {
     "name": "stderr",
     "output_type": "stream",
     "text": [
      "\r",
      " 62%|██████▏   | 709/1148 [44:23<25:49,  3.53s/it]"
     ]
    },
    {
     "name": "stdout",
     "output_type": "stream",
     "text": [
      "-3\n"
     ]
    },
    {
     "name": "stderr",
     "output_type": "stream",
     "text": [
      "\r",
      " 62%|██████▏   | 710/1148 [44:27<27:05,  3.71s/it]"
     ]
    },
    {
     "name": "stdout",
     "output_type": "stream",
     "text": [
      "-5\n"
     ]
    },
    {
     "name": "stderr",
     "output_type": "stream",
     "text": [
      "\r",
      " 62%|██████▏   | 711/1148 [44:32<29:34,  4.06s/it]"
     ]
    },
    {
     "name": "stdout",
     "output_type": "stream",
     "text": [
      "-6\n"
     ]
    },
    {
     "name": "stderr",
     "output_type": "stream",
     "text": [
      "\r",
      " 62%|██████▏   | 712/1148 [44:35<28:10,  3.88s/it]"
     ]
    },
    {
     "name": "stdout",
     "output_type": "stream",
     "text": [
      "-4\n"
     ]
    },
    {
     "name": "stderr",
     "output_type": "stream",
     "text": [
      "\r",
      " 62%|██████▏   | 713/1148 [44:39<27:23,  3.78s/it]"
     ]
    },
    {
     "name": "stdout",
     "output_type": "stream",
     "text": [
      "-5\n"
     ]
    },
    {
     "name": "stderr",
     "output_type": "stream",
     "text": [
      "\r",
      " 62%|██████▏   | 714/1148 [44:43<27:13,  3.76s/it]"
     ]
    },
    {
     "name": "stdout",
     "output_type": "stream",
     "text": [
      "-5\n"
     ]
    },
    {
     "name": "stderr",
     "output_type": "stream",
     "text": [
      "\r",
      " 62%|██████▏   | 715/1148 [44:46<26:56,  3.73s/it]"
     ]
    },
    {
     "name": "stdout",
     "output_type": "stream",
     "text": [
      "-3\n"
     ]
    },
    {
     "name": "stderr",
     "output_type": "stream",
     "text": [
      "\r",
      " 62%|██████▏   | 716/1148 [44:50<26:28,  3.68s/it]"
     ]
    },
    {
     "name": "stdout",
     "output_type": "stream",
     "text": [
      "-3\n"
     ]
    },
    {
     "name": "stderr",
     "output_type": "stream",
     "text": [
      "\r",
      " 62%|██████▏   | 717/1148 [44:54<26:48,  3.73s/it]"
     ]
    },
    {
     "name": "stdout",
     "output_type": "stream",
     "text": [
      "-5\n"
     ]
    },
    {
     "name": "stderr",
     "output_type": "stream",
     "text": [
      "\r",
      " 63%|██████▎   | 718/1148 [44:58<27:16,  3.80s/it]"
     ]
    },
    {
     "name": "stdout",
     "output_type": "stream",
     "text": [
      "-4\n"
     ]
    },
    {
     "name": "stderr",
     "output_type": "stream",
     "text": [
      "\r",
      " 63%|██████▎   | 719/1148 [45:02<29:15,  4.09s/it]"
     ]
    },
    {
     "name": "stdout",
     "output_type": "stream",
     "text": [
      "-7\n"
     ]
    },
    {
     "name": "stderr",
     "output_type": "stream",
     "text": [
      "\r",
      " 63%|██████▎   | 720/1148 [45:05<27:07,  3.80s/it]"
     ]
    },
    {
     "name": "stdout",
     "output_type": "stream",
     "text": [
      "-6\n"
     ]
    },
    {
     "name": "stderr",
     "output_type": "stream",
     "text": [
      "\r",
      " 63%|██████▎   | 721/1148 [45:09<26:29,  3.72s/it]"
     ]
    },
    {
     "name": "stdout",
     "output_type": "stream",
     "text": [
      "-7\n"
     ]
    },
    {
     "name": "stderr",
     "output_type": "stream",
     "text": [
      "\r",
      " 63%|██████▎   | 722/1148 [45:13<26:20,  3.71s/it]"
     ]
    },
    {
     "name": "stdout",
     "output_type": "stream",
     "text": [
      "-2\n"
     ]
    },
    {
     "name": "stderr",
     "output_type": "stream",
     "text": [
      "\r",
      " 63%|██████▎   | 723/1148 [45:16<26:19,  3.72s/it]"
     ]
    },
    {
     "name": "stdout",
     "output_type": "stream",
     "text": [
      "-2\n"
     ]
    },
    {
     "name": "stderr",
     "output_type": "stream",
     "text": [
      "\r",
      " 63%|██████▎   | 724/1148 [45:20<25:46,  3.65s/it]"
     ]
    },
    {
     "name": "stdout",
     "output_type": "stream",
     "text": [
      "-3\n"
     ]
    },
    {
     "name": "stderr",
     "output_type": "stream",
     "text": [
      "\r",
      " 63%|██████▎   | 725/1148 [45:23<25:16,  3.58s/it]"
     ]
    },
    {
     "name": "stdout",
     "output_type": "stream",
     "text": [
      "-1\n"
     ]
    },
    {
     "name": "stderr",
     "output_type": "stream",
     "text": [
      "\r",
      " 63%|██████▎   | 726/1148 [45:27<25:48,  3.67s/it]"
     ]
    },
    {
     "name": "stdout",
     "output_type": "stream",
     "text": [
      "-4\n"
     ]
    },
    {
     "name": "stderr",
     "output_type": "stream",
     "text": [
      "\r",
      " 63%|██████▎   | 727/1148 [45:31<26:12,  3.73s/it]"
     ]
    },
    {
     "name": "stdout",
     "output_type": "stream",
     "text": [
      "-8\n"
     ]
    },
    {
     "name": "stderr",
     "output_type": "stream",
     "text": [
      "\r",
      " 63%|██████▎   | 728/1148 [45:34<24:51,  3.55s/it]"
     ]
    },
    {
     "name": "stdout",
     "output_type": "stream",
     "text": [
      "-5\n"
     ]
    },
    {
     "name": "stderr",
     "output_type": "stream",
     "text": [
      "\r",
      " 64%|██████▎   | 729/1148 [45:38<25:49,  3.70s/it]"
     ]
    },
    {
     "name": "stdout",
     "output_type": "stream",
     "text": [
      "-4\n"
     ]
    },
    {
     "name": "stderr",
     "output_type": "stream",
     "text": [
      "\r",
      " 64%|██████▎   | 730/1148 [45:43<27:15,  3.91s/it]"
     ]
    },
    {
     "name": "stdout",
     "output_type": "stream",
     "text": [
      "-6\n"
     ]
    },
    {
     "name": "stderr",
     "output_type": "stream",
     "text": [
      "\r",
      " 64%|██████▎   | 731/1148 [45:46<25:50,  3.72s/it]"
     ]
    },
    {
     "name": "stdout",
     "output_type": "stream",
     "text": [
      "-3\n"
     ]
    },
    {
     "name": "stderr",
     "output_type": "stream",
     "text": [
      "\r",
      " 64%|██████▍   | 732/1148 [45:50<25:37,  3.70s/it]"
     ]
    },
    {
     "name": "stdout",
     "output_type": "stream",
     "text": [
      "-4\n"
     ]
    },
    {
     "name": "stderr",
     "output_type": "stream",
     "text": [
      "\r",
      " 64%|██████▍   | 733/1148 [45:53<24:27,  3.54s/it]"
     ]
    },
    {
     "name": "stdout",
     "output_type": "stream",
     "text": [
      "-3\n"
     ]
    },
    {
     "name": "stderr",
     "output_type": "stream",
     "text": [
      "\r",
      " 64%|██████▍   | 734/1148 [45:56<24:12,  3.51s/it]"
     ]
    },
    {
     "name": "stdout",
     "output_type": "stream",
     "text": [
      "-5\n"
     ]
    },
    {
     "name": "stderr",
     "output_type": "stream",
     "text": [
      "\r",
      " 64%|██████▍   | 735/1148 [46:00<24:07,  3.50s/it]"
     ]
    },
    {
     "name": "stdout",
     "output_type": "stream",
     "text": [
      "-4\n"
     ]
    },
    {
     "name": "stderr",
     "output_type": "stream",
     "text": [
      "\r",
      " 64%|██████▍   | 736/1148 [46:03<23:41,  3.45s/it]"
     ]
    },
    {
     "name": "stdout",
     "output_type": "stream",
     "text": [
      "-2\n"
     ]
    },
    {
     "name": "stderr",
     "output_type": "stream",
     "text": [
      "\r",
      " 64%|██████▍   | 737/1148 [46:06<23:20,  3.41s/it]"
     ]
    },
    {
     "name": "stdout",
     "output_type": "stream",
     "text": [
      "-8\n"
     ]
    },
    {
     "name": "stderr",
     "output_type": "stream",
     "text": [
      "\r",
      " 64%|██████▍   | 738/1148 [46:10<23:44,  3.48s/it]"
     ]
    },
    {
     "name": "stdout",
     "output_type": "stream",
     "text": [
      "-3\n"
     ]
    },
    {
     "name": "stderr",
     "output_type": "stream",
     "text": [
      "\r",
      " 64%|██████▍   | 739/1148 [46:13<22:49,  3.35s/it]"
     ]
    },
    {
     "name": "stdout",
     "output_type": "stream",
     "text": [
      "-5\n"
     ]
    },
    {
     "name": "stderr",
     "output_type": "stream",
     "text": [
      "\r",
      " 64%|██████▍   | 740/1148 [46:17<23:15,  3.42s/it]"
     ]
    },
    {
     "name": "stdout",
     "output_type": "stream",
     "text": [
      "-6\n"
     ]
    },
    {
     "name": "stderr",
     "output_type": "stream",
     "text": [
      "\r",
      " 65%|██████▍   | 741/1148 [46:20<23:42,  3.50s/it]"
     ]
    },
    {
     "name": "stdout",
     "output_type": "stream",
     "text": [
      "-7\n"
     ]
    },
    {
     "name": "stderr",
     "output_type": "stream",
     "text": [
      "\r",
      " 65%|██████▍   | 742/1148 [46:24<24:17,  3.59s/it]"
     ]
    },
    {
     "name": "stdout",
     "output_type": "stream",
     "text": [
      "0\n"
     ]
    },
    {
     "name": "stderr",
     "output_type": "stream",
     "text": [
      "\r",
      " 65%|██████▍   | 743/1148 [46:27<23:52,  3.54s/it]"
     ]
    },
    {
     "name": "stdout",
     "output_type": "stream",
     "text": [
      "-5\n"
     ]
    },
    {
     "name": "stderr",
     "output_type": "stream",
     "text": [
      "\r",
      " 65%|██████▍   | 744/1148 [46:32<24:51,  3.69s/it]"
     ]
    },
    {
     "name": "stdout",
     "output_type": "stream",
     "text": [
      "-3\n"
     ]
    },
    {
     "name": "stderr",
     "output_type": "stream",
     "text": [
      "\r",
      " 65%|██████▍   | 745/1148 [46:35<24:18,  3.62s/it]"
     ]
    },
    {
     "name": "stdout",
     "output_type": "stream",
     "text": [
      "-6\n"
     ]
    },
    {
     "name": "stderr",
     "output_type": "stream",
     "text": [
      "\r",
      " 65%|██████▍   | 746/1148 [46:38<23:54,  3.57s/it]"
     ]
    },
    {
     "name": "stdout",
     "output_type": "stream",
     "text": [
      "-10\n"
     ]
    },
    {
     "name": "stderr",
     "output_type": "stream",
     "text": [
      "\r",
      " 65%|██████▌   | 747/1148 [46:42<24:19,  3.64s/it]"
     ]
    },
    {
     "name": "stdout",
     "output_type": "stream",
     "text": [
      "-7\n"
     ]
    },
    {
     "name": "stderr",
     "output_type": "stream",
     "text": [
      "\r",
      " 65%|██████▌   | 748/1148 [46:46<25:22,  3.81s/it]"
     ]
    },
    {
     "name": "stdout",
     "output_type": "stream",
     "text": [
      "-8\n"
     ]
    },
    {
     "name": "stderr",
     "output_type": "stream",
     "text": [
      "\r",
      " 65%|██████▌   | 749/1148 [46:51<26:33,  3.99s/it]"
     ]
    },
    {
     "name": "stdout",
     "output_type": "stream",
     "text": [
      "-6\n"
     ]
    },
    {
     "name": "stderr",
     "output_type": "stream",
     "text": [
      "\r",
      " 65%|██████▌   | 750/1148 [46:54<25:40,  3.87s/it]"
     ]
    },
    {
     "name": "stdout",
     "output_type": "stream",
     "text": [
      "-7\n"
     ]
    },
    {
     "name": "stderr",
     "output_type": "stream",
     "text": [
      "\r",
      " 65%|██████▌   | 751/1148 [46:58<24:47,  3.75s/it]"
     ]
    },
    {
     "name": "stdout",
     "output_type": "stream",
     "text": [
      "-4\n"
     ]
    },
    {
     "name": "stderr",
     "output_type": "stream",
     "text": [
      "\r",
      " 66%|██████▌   | 752/1148 [47:02<24:52,  3.77s/it]"
     ]
    },
    {
     "name": "stdout",
     "output_type": "stream",
     "text": [
      "-2\n"
     ]
    },
    {
     "name": "stderr",
     "output_type": "stream",
     "text": [
      "\r",
      " 66%|██████▌   | 753/1148 [47:05<24:22,  3.70s/it]"
     ]
    },
    {
     "name": "stdout",
     "output_type": "stream",
     "text": [
      "-5\n"
     ]
    },
    {
     "name": "stderr",
     "output_type": "stream",
     "text": [
      "\r",
      " 66%|██████▌   | 754/1148 [47:09<24:25,  3.72s/it]"
     ]
    },
    {
     "name": "stdout",
     "output_type": "stream",
     "text": [
      "-4\n"
     ]
    },
    {
     "name": "stderr",
     "output_type": "stream",
     "text": [
      "\r",
      " 66%|██████▌   | 755/1148 [47:13<23:53,  3.65s/it]"
     ]
    },
    {
     "name": "stdout",
     "output_type": "stream",
     "text": [
      "-3\n"
     ]
    },
    {
     "name": "stderr",
     "output_type": "stream",
     "text": [
      "\r",
      " 66%|██████▌   | 756/1148 [47:17<24:59,  3.82s/it]"
     ]
    },
    {
     "name": "stdout",
     "output_type": "stream",
     "text": [
      "-6\n"
     ]
    },
    {
     "name": "stderr",
     "output_type": "stream",
     "text": [
      "\r",
      " 66%|██████▌   | 757/1148 [47:20<23:09,  3.55s/it]"
     ]
    },
    {
     "name": "stdout",
     "output_type": "stream",
     "text": [
      "-5\n"
     ]
    },
    {
     "name": "stderr",
     "output_type": "stream",
     "text": [
      "\r",
      " 66%|██████▌   | 758/1148 [47:23<23:14,  3.58s/it]"
     ]
    },
    {
     "name": "stdout",
     "output_type": "stream",
     "text": [
      "-4\n"
     ]
    },
    {
     "name": "stderr",
     "output_type": "stream",
     "text": [
      "\r",
      " 66%|██████▌   | 759/1148 [47:27<23:18,  3.59s/it]"
     ]
    },
    {
     "name": "stdout",
     "output_type": "stream",
     "text": [
      "-4\n"
     ]
    },
    {
     "name": "stderr",
     "output_type": "stream",
     "text": [
      "\r",
      " 66%|██████▌   | 760/1148 [47:31<24:46,  3.83s/it]"
     ]
    },
    {
     "name": "stdout",
     "output_type": "stream",
     "text": [
      "-6\n"
     ]
    },
    {
     "name": "stderr",
     "output_type": "stream",
     "text": [
      "\r",
      " 66%|██████▋   | 761/1148 [47:39<31:39,  4.91s/it]"
     ]
    },
    {
     "name": "stdout",
     "output_type": "stream",
     "text": [
      "-3\n"
     ]
    },
    {
     "name": "stderr",
     "output_type": "stream",
     "text": [
      "\r",
      " 66%|██████▋   | 762/1148 [47:42<28:27,  4.42s/it]"
     ]
    },
    {
     "name": "stdout",
     "output_type": "stream",
     "text": [
      "-4\n"
     ]
    },
    {
     "name": "stderr",
     "output_type": "stream",
     "text": [
      "\r",
      " 66%|██████▋   | 763/1148 [47:46<26:34,  4.14s/it]"
     ]
    },
    {
     "name": "stdout",
     "output_type": "stream",
     "text": [
      "-7\n"
     ]
    },
    {
     "name": "stderr",
     "output_type": "stream",
     "text": [
      "\r",
      " 67%|██████▋   | 764/1148 [47:49<25:50,  4.04s/it]"
     ]
    },
    {
     "name": "stdout",
     "output_type": "stream",
     "text": [
      "-4\n"
     ]
    },
    {
     "name": "stderr",
     "output_type": "stream",
     "text": [
      "\r",
      " 67%|██████▋   | 765/1148 [47:53<25:02,  3.92s/it]"
     ]
    },
    {
     "name": "stdout",
     "output_type": "stream",
     "text": [
      "1\n"
     ]
    },
    {
     "name": "stderr",
     "output_type": "stream",
     "text": [
      "\r",
      " 67%|██████▋   | 766/1148 [47:57<25:01,  3.93s/it]"
     ]
    },
    {
     "name": "stdout",
     "output_type": "stream",
     "text": [
      "-7\n"
     ]
    },
    {
     "name": "stderr",
     "output_type": "stream",
     "text": [
      "\r",
      " 67%|██████▋   | 767/1148 [48:01<24:58,  3.93s/it]"
     ]
    },
    {
     "name": "stdout",
     "output_type": "stream",
     "text": [
      "-3\n"
     ]
    },
    {
     "name": "stderr",
     "output_type": "stream",
     "text": [
      "\r",
      " 67%|██████▋   | 768/1148 [48:06<26:15,  4.15s/it]"
     ]
    },
    {
     "name": "stdout",
     "output_type": "stream",
     "text": [
      "-2\n"
     ]
    },
    {
     "name": "stderr",
     "output_type": "stream",
     "text": [
      "\r",
      " 67%|██████▋   | 769/1148 [48:08<23:53,  3.78s/it]"
     ]
    },
    {
     "name": "stdout",
     "output_type": "stream",
     "text": [
      "-9\n"
     ]
    },
    {
     "name": "stderr",
     "output_type": "stream",
     "text": [
      "\r",
      " 67%|██████▋   | 770/1148 [48:12<23:44,  3.77s/it]"
     ]
    },
    {
     "name": "stdout",
     "output_type": "stream",
     "text": [
      "-4\n"
     ]
    },
    {
     "name": "stderr",
     "output_type": "stream",
     "text": [
      "\r",
      " 67%|██████▋   | 771/1148 [48:16<23:39,  3.77s/it]"
     ]
    },
    {
     "name": "stdout",
     "output_type": "stream",
     "text": [
      "-1\n"
     ]
    },
    {
     "name": "stderr",
     "output_type": "stream",
     "text": [
      "\r",
      " 67%|██████▋   | 772/1148 [48:20<23:14,  3.71s/it]"
     ]
    },
    {
     "name": "stdout",
     "output_type": "stream",
     "text": [
      "-4\n"
     ]
    },
    {
     "name": "stderr",
     "output_type": "stream",
     "text": [
      "\r",
      " 67%|██████▋   | 773/1148 [48:23<22:38,  3.62s/it]"
     ]
    },
    {
     "name": "stdout",
     "output_type": "stream",
     "text": [
      "-2\n"
     ]
    },
    {
     "name": "stderr",
     "output_type": "stream",
     "text": [
      "\r",
      " 67%|██████▋   | 774/1148 [48:26<20:44,  3.33s/it]"
     ]
    },
    {
     "name": "stdout",
     "output_type": "stream",
     "text": [
      "-5\n"
     ]
    },
    {
     "name": "stderr",
     "output_type": "stream",
     "text": [
      "\r",
      " 68%|██████▊   | 775/1148 [48:29<20:16,  3.26s/it]"
     ]
    },
    {
     "name": "stdout",
     "output_type": "stream",
     "text": [
      "-7\n"
     ]
    },
    {
     "name": "stderr",
     "output_type": "stream",
     "text": [
      "\r",
      " 68%|██████▊   | 776/1148 [48:32<20:41,  3.34s/it]"
     ]
    },
    {
     "name": "stdout",
     "output_type": "stream",
     "text": [
      "-5\n"
     ]
    },
    {
     "name": "stderr",
     "output_type": "stream",
     "text": [
      "\r",
      " 68%|██████▊   | 777/1148 [48:36<21:43,  3.51s/it]"
     ]
    },
    {
     "name": "stdout",
     "output_type": "stream",
     "text": [
      "-8\n"
     ]
    },
    {
     "name": "stderr",
     "output_type": "stream",
     "text": [
      " 68%|██████▊   | 779/1148 [48:43<21:54,  3.56s/it]"
     ]
    },
    {
     "name": "stdout",
     "output_type": "stream",
     "text": [
      "-5\n"
     ]
    },
    {
     "name": "stderr",
     "output_type": "stream",
     "text": [
      " 68%|██████▊   | 781/1148 [48:50<21:14,  3.47s/it]"
     ]
    },
    {
     "name": "stdout",
     "output_type": "stream",
     "text": [
      "-4\n"
     ]
    },
    {
     "name": "stderr",
     "output_type": "stream",
     "text": [
      "\r",
      " 68%|██████▊   | 782/1148 [48:54<21:27,  3.52s/it]"
     ]
    },
    {
     "name": "stdout",
     "output_type": "stream",
     "text": [
      "-1\n"
     ]
    },
    {
     "name": "stderr",
     "output_type": "stream",
     "text": [
      "\r",
      " 68%|██████▊   | 783/1148 [48:57<21:22,  3.51s/it]"
     ]
    },
    {
     "name": "stdout",
     "output_type": "stream",
     "text": [
      "-8\n"
     ]
    },
    {
     "name": "stderr",
     "output_type": "stream",
     "text": [
      "\r",
      " 68%|██████▊   | 784/1148 [49:01<21:02,  3.47s/it]"
     ]
    },
    {
     "name": "stdout",
     "output_type": "stream",
     "text": [
      "-1\n"
     ]
    },
    {
     "name": "stderr",
     "output_type": "stream",
     "text": [
      "\r",
      " 68%|██████▊   | 785/1148 [49:04<21:50,  3.61s/it]"
     ]
    },
    {
     "name": "stdout",
     "output_type": "stream",
     "text": [
      "0\n"
     ]
    },
    {
     "name": "stderr",
     "output_type": "stream",
     "text": [
      "\r",
      " 68%|██████▊   | 786/1148 [49:08<20:59,  3.48s/it]"
     ]
    },
    {
     "name": "stdout",
     "output_type": "stream",
     "text": [
      "-6\n"
     ]
    },
    {
     "name": "stderr",
     "output_type": "stream",
     "text": [
      "\r",
      " 69%|██████▊   | 787/1148 [49:11<21:00,  3.49s/it]"
     ]
    },
    {
     "name": "stdout",
     "output_type": "stream",
     "text": [
      "-6\n"
     ]
    },
    {
     "name": "stderr",
     "output_type": "stream",
     "text": [
      "\r",
      " 69%|██████▊   | 788/1148 [49:14<20:04,  3.35s/it]"
     ]
    },
    {
     "name": "stdout",
     "output_type": "stream",
     "text": [
      "-1\n"
     ]
    },
    {
     "name": "stderr",
     "output_type": "stream",
     "text": [
      "\r",
      " 69%|██████▊   | 789/1148 [49:18<21:09,  3.54s/it]"
     ]
    },
    {
     "name": "stdout",
     "output_type": "stream",
     "text": [
      "0\n"
     ]
    },
    {
     "name": "stderr",
     "output_type": "stream",
     "text": [
      "\r",
      " 69%|██████▉   | 790/1148 [49:21<20:31,  3.44s/it]"
     ]
    },
    {
     "name": "stdout",
     "output_type": "stream",
     "text": [
      "1\n"
     ]
    },
    {
     "name": "stderr",
     "output_type": "stream",
     "text": [
      "\r",
      " 69%|██████▉   | 791/1148 [49:26<22:17,  3.75s/it]"
     ]
    },
    {
     "name": "stdout",
     "output_type": "stream",
     "text": [
      "-5\n"
     ]
    },
    {
     "name": "stderr",
     "output_type": "stream",
     "text": [
      "\r",
      " 69%|██████▉   | 792/1148 [49:30<22:29,  3.79s/it]"
     ]
    },
    {
     "name": "stdout",
     "output_type": "stream",
     "text": [
      "-6\n"
     ]
    },
    {
     "name": "stderr",
     "output_type": "stream",
     "text": [
      "\r",
      " 69%|██████▉   | 793/1148 [49:34<23:32,  3.98s/it]"
     ]
    },
    {
     "name": "stdout",
     "output_type": "stream",
     "text": [
      "-1\n"
     ]
    },
    {
     "name": "stderr",
     "output_type": "stream",
     "text": [
      "\r",
      " 69%|██████▉   | 794/1148 [49:37<21:59,  3.73s/it]"
     ]
    },
    {
     "name": "stdout",
     "output_type": "stream",
     "text": [
      "-3\n"
     ]
    },
    {
     "name": "stderr",
     "output_type": "stream",
     "text": [
      "\r",
      " 69%|██████▉   | 795/1148 [49:41<22:18,  3.79s/it]"
     ]
    },
    {
     "name": "stdout",
     "output_type": "stream",
     "text": [
      "-6\n"
     ]
    },
    {
     "name": "stderr",
     "output_type": "stream",
     "text": [
      "\r",
      " 69%|██████▉   | 796/1148 [49:44<20:57,  3.57s/it]"
     ]
    },
    {
     "name": "stdout",
     "output_type": "stream",
     "text": [
      "-7\n"
     ]
    },
    {
     "name": "stderr",
     "output_type": "stream",
     "text": [
      "\r",
      " 69%|██████▉   | 797/1148 [49:48<21:08,  3.61s/it]"
     ]
    },
    {
     "name": "stdout",
     "output_type": "stream",
     "text": [
      "-5\n"
     ]
    },
    {
     "name": "stderr",
     "output_type": "stream",
     "text": [
      "\r",
      " 70%|██████▉   | 798/1148 [49:52<21:07,  3.62s/it]"
     ]
    },
    {
     "name": "stdout",
     "output_type": "stream",
     "text": [
      "-3\n"
     ]
    },
    {
     "name": "stderr",
     "output_type": "stream",
     "text": [
      "\r",
      " 70%|██████▉   | 799/1148 [49:55<19:56,  3.43s/it]"
     ]
    },
    {
     "name": "stdout",
     "output_type": "stream",
     "text": [
      "-9\n"
     ]
    },
    {
     "name": "stderr",
     "output_type": "stream",
     "text": [
      "\r",
      " 70%|██████▉   | 800/1148 [49:59<22:07,  3.81s/it]"
     ]
    },
    {
     "name": "stdout",
     "output_type": "stream",
     "text": [
      "-4\n"
     ]
    },
    {
     "name": "stderr",
     "output_type": "stream",
     "text": [
      "\r",
      " 70%|██████▉   | 801/1148 [50:03<22:04,  3.82s/it]"
     ]
    },
    {
     "name": "stdout",
     "output_type": "stream",
     "text": [
      "-6\n"
     ]
    },
    {
     "name": "stderr",
     "output_type": "stream",
     "text": [
      "\r",
      " 70%|██████▉   | 802/1148 [50:06<20:42,  3.59s/it]"
     ]
    },
    {
     "name": "stdout",
     "output_type": "stream",
     "text": [
      "-3\n"
     ]
    },
    {
     "name": "stderr",
     "output_type": "stream",
     "text": [
      "\r",
      " 70%|██████▉   | 803/1148 [50:10<21:18,  3.71s/it]"
     ]
    },
    {
     "name": "stdout",
     "output_type": "stream",
     "text": [
      "-3\n"
     ]
    },
    {
     "name": "stderr",
     "output_type": "stream",
     "text": [
      "\r",
      " 70%|███████   | 804/1148 [50:14<20:46,  3.62s/it]"
     ]
    },
    {
     "name": "stdout",
     "output_type": "stream",
     "text": [
      "-3\n"
     ]
    },
    {
     "name": "stderr",
     "output_type": "stream",
     "text": [
      "\r",
      " 70%|███████   | 805/1148 [50:18<21:24,  3.74s/it]"
     ]
    },
    {
     "name": "stdout",
     "output_type": "stream",
     "text": [
      "-5\n"
     ]
    },
    {
     "name": "stderr",
     "output_type": "stream",
     "text": [
      "\r",
      " 70%|███████   | 806/1148 [50:21<20:56,  3.68s/it]"
     ]
    },
    {
     "name": "stdout",
     "output_type": "stream",
     "text": [
      "-3\n"
     ]
    },
    {
     "name": "stderr",
     "output_type": "stream",
     "text": [
      "\r",
      " 70%|███████   | 807/1148 [50:25<20:23,  3.59s/it]"
     ]
    },
    {
     "name": "stdout",
     "output_type": "stream",
     "text": [
      "-2\n"
     ]
    },
    {
     "name": "stderr",
     "output_type": "stream",
     "text": [
      "\r",
      " 70%|███████   | 808/1148 [50:28<20:46,  3.67s/it]"
     ]
    },
    {
     "name": "stdout",
     "output_type": "stream",
     "text": [
      "-2\n"
     ]
    },
    {
     "name": "stderr",
     "output_type": "stream",
     "text": [
      "\r",
      " 70%|███████   | 809/1148 [50:32<20:35,  3.64s/it]"
     ]
    },
    {
     "name": "stdout",
     "output_type": "stream",
     "text": [
      "-4\n"
     ]
    },
    {
     "name": "stderr",
     "output_type": "stream",
     "text": [
      "\r",
      " 71%|███████   | 810/1148 [50:35<20:10,  3.58s/it]"
     ]
    },
    {
     "name": "stdout",
     "output_type": "stream",
     "text": [
      "-4\n"
     ]
    },
    {
     "name": "stderr",
     "output_type": "stream",
     "text": [
      "\r",
      " 71%|███████   | 811/1148 [50:39<20:31,  3.65s/it]"
     ]
    },
    {
     "name": "stdout",
     "output_type": "stream",
     "text": [
      "-5\n"
     ]
    },
    {
     "name": "stderr",
     "output_type": "stream",
     "text": [
      "\r",
      " 71%|███████   | 812/1148 [50:43<20:32,  3.67s/it]"
     ]
    },
    {
     "name": "stdout",
     "output_type": "stream",
     "text": [
      "-6\n"
     ]
    },
    {
     "name": "stderr",
     "output_type": "stream",
     "text": [
      "\r",
      " 71%|███████   | 813/1148 [50:47<20:27,  3.66s/it]"
     ]
    },
    {
     "name": "stdout",
     "output_type": "stream",
     "text": [
      "-6\n"
     ]
    },
    {
     "name": "stderr",
     "output_type": "stream",
     "text": [
      "\r",
      " 71%|███████   | 814/1148 [50:50<19:35,  3.52s/it]"
     ]
    },
    {
     "name": "stdout",
     "output_type": "stream",
     "text": [
      "-8\n"
     ]
    },
    {
     "name": "stderr",
     "output_type": "stream",
     "text": [
      "\r",
      " 71%|███████   | 815/1148 [50:53<19:09,  3.45s/it]"
     ]
    },
    {
     "name": "stdout",
     "output_type": "stream",
     "text": [
      "-3\n"
     ]
    },
    {
     "name": "stderr",
     "output_type": "stream",
     "text": [
      "\r",
      " 71%|███████   | 816/1148 [50:56<19:02,  3.44s/it]"
     ]
    },
    {
     "name": "stdout",
     "output_type": "stream",
     "text": [
      "-2\n"
     ]
    },
    {
     "name": "stderr",
     "output_type": "stream",
     "text": [
      "\r",
      " 71%|███████   | 817/1148 [51:00<19:15,  3.49s/it]"
     ]
    },
    {
     "name": "stdout",
     "output_type": "stream",
     "text": [
      "-2\n"
     ]
    },
    {
     "name": "stderr",
     "output_type": "stream",
     "text": [
      "\r",
      " 71%|███████▏  | 818/1148 [51:03<18:41,  3.40s/it]"
     ]
    },
    {
     "name": "stdout",
     "output_type": "stream",
     "text": [
      "-2\n"
     ]
    },
    {
     "name": "stderr",
     "output_type": "stream",
     "text": [
      "\r",
      " 71%|███████▏  | 819/1148 [51:07<18:28,  3.37s/it]"
     ]
    },
    {
     "name": "stdout",
     "output_type": "stream",
     "text": [
      "-4\n"
     ]
    },
    {
     "name": "stderr",
     "output_type": "stream",
     "text": [
      "\r",
      " 71%|███████▏  | 820/1148 [51:10<18:11,  3.33s/it]"
     ]
    },
    {
     "name": "stdout",
     "output_type": "stream",
     "text": [
      "-5\n"
     ]
    },
    {
     "name": "stderr",
     "output_type": "stream",
     "text": [
      "\r",
      " 72%|███████▏  | 821/1148 [51:14<19:39,  3.61s/it]"
     ]
    },
    {
     "name": "stdout",
     "output_type": "stream",
     "text": [
      "-4\n"
     ]
    },
    {
     "name": "stderr",
     "output_type": "stream",
     "text": [
      "\r",
      " 72%|███████▏  | 822/1148 [51:17<19:04,  3.51s/it]"
     ]
    },
    {
     "name": "stdout",
     "output_type": "stream",
     "text": [
      "-4\n"
     ]
    },
    {
     "name": "stderr",
     "output_type": "stream",
     "text": [
      "\r",
      " 72%|███████▏  | 823/1148 [51:21<19:37,  3.62s/it]"
     ]
    },
    {
     "name": "stdout",
     "output_type": "stream",
     "text": [
      "-5\n"
     ]
    },
    {
     "name": "stderr",
     "output_type": "stream",
     "text": [
      "\r",
      " 72%|███████▏  | 824/1148 [51:25<19:29,  3.61s/it]"
     ]
    },
    {
     "name": "stdout",
     "output_type": "stream",
     "text": [
      "-8\n"
     ]
    },
    {
     "name": "stderr",
     "output_type": "stream",
     "text": [
      "\r",
      " 72%|███████▏  | 825/1148 [51:28<19:17,  3.58s/it]"
     ]
    },
    {
     "name": "stdout",
     "output_type": "stream",
     "text": [
      "-3\n"
     ]
    },
    {
     "name": "stderr",
     "output_type": "stream",
     "text": [
      "\r",
      " 72%|███████▏  | 826/1148 [51:32<18:39,  3.48s/it]"
     ]
    },
    {
     "name": "stdout",
     "output_type": "stream",
     "text": [
      "-5\n"
     ]
    },
    {
     "name": "stderr",
     "output_type": "stream",
     "text": [
      "\r",
      " 72%|███████▏  | 827/1148 [51:36<19:35,  3.66s/it]"
     ]
    },
    {
     "name": "stdout",
     "output_type": "stream",
     "text": [
      "-5\n"
     ]
    },
    {
     "name": "stderr",
     "output_type": "stream",
     "text": [
      "\r",
      " 72%|███████▏  | 828/1148 [51:40<20:10,  3.78s/it]"
     ]
    },
    {
     "name": "stdout",
     "output_type": "stream",
     "text": [
      "-3\n"
     ]
    },
    {
     "name": "stderr",
     "output_type": "stream",
     "text": [
      "\r",
      " 72%|███████▏  | 829/1148 [51:43<19:47,  3.72s/it]"
     ]
    },
    {
     "name": "stdout",
     "output_type": "stream",
     "text": [
      "-1\n"
     ]
    },
    {
     "name": "stderr",
     "output_type": "stream",
     "text": [
      "\r",
      " 72%|███████▏  | 830/1148 [51:51<25:23,  4.79s/it]"
     ]
    },
    {
     "name": "stdout",
     "output_type": "stream",
     "text": [
      "-3\n"
     ]
    },
    {
     "name": "stderr",
     "output_type": "stream",
     "text": [
      "\r",
      " 72%|███████▏  | 831/1148 [51:54<23:39,  4.48s/it]"
     ]
    },
    {
     "name": "stdout",
     "output_type": "stream",
     "text": [
      "-4\n"
     ]
    },
    {
     "name": "stderr",
     "output_type": "stream",
     "text": [
      "\r",
      " 72%|███████▏  | 832/1148 [51:57<21:30,  4.08s/it]"
     ]
    },
    {
     "name": "stdout",
     "output_type": "stream",
     "text": [
      "-4\n"
     ]
    },
    {
     "name": "stderr",
     "output_type": "stream",
     "text": [
      "\r",
      " 73%|███████▎  | 833/1148 [52:02<21:43,  4.14s/it]"
     ]
    },
    {
     "name": "stdout",
     "output_type": "stream",
     "text": [
      "-2\n"
     ]
    },
    {
     "name": "stderr",
     "output_type": "stream",
     "text": [
      "\r",
      " 73%|███████▎  | 834/1148 [52:05<19:45,  3.77s/it]"
     ]
    },
    {
     "name": "stdout",
     "output_type": "stream",
     "text": [
      "-3\n"
     ]
    },
    {
     "name": "stderr",
     "output_type": "stream",
     "text": [
      "\r",
      " 73%|███████▎  | 835/1148 [52:08<18:39,  3.58s/it]"
     ]
    },
    {
     "name": "stdout",
     "output_type": "stream",
     "text": [
      "-5\n"
     ]
    },
    {
     "name": "stderr",
     "output_type": "stream",
     "text": [
      "\r",
      " 73%|███████▎  | 836/1148 [52:11<17:48,  3.43s/it]"
     ]
    },
    {
     "name": "stdout",
     "output_type": "stream",
     "text": [
      "-4\n"
     ]
    },
    {
     "name": "stderr",
     "output_type": "stream",
     "text": [
      "\r",
      " 73%|███████▎  | 837/1148 [52:15<18:10,  3.51s/it]"
     ]
    },
    {
     "name": "stdout",
     "output_type": "stream",
     "text": [
      "-4\n"
     ]
    },
    {
     "name": "stderr",
     "output_type": "stream",
     "text": [
      "\r",
      " 73%|███████▎  | 838/1148 [52:18<18:15,  3.53s/it]"
     ]
    },
    {
     "name": "stdout",
     "output_type": "stream",
     "text": [
      "-4\n"
     ]
    },
    {
     "name": "stderr",
     "output_type": "stream",
     "text": [
      "\r",
      " 73%|███████▎  | 839/1148 [52:22<18:45,  3.64s/it]"
     ]
    },
    {
     "name": "stdout",
     "output_type": "stream",
     "text": [
      "-2\n"
     ]
    },
    {
     "name": "stderr",
     "output_type": "stream",
     "text": [
      "\r",
      " 73%|███████▎  | 840/1148 [52:26<19:23,  3.78s/it]"
     ]
    },
    {
     "name": "stdout",
     "output_type": "stream",
     "text": [
      "-4\n"
     ]
    },
    {
     "name": "stderr",
     "output_type": "stream",
     "text": [
      "\r",
      " 73%|███████▎  | 841/1148 [52:30<18:51,  3.69s/it]"
     ]
    },
    {
     "name": "stdout",
     "output_type": "stream",
     "text": [
      "-3\n"
     ]
    },
    {
     "name": "stderr",
     "output_type": "stream",
     "text": [
      "\r",
      " 73%|███████▎  | 842/1148 [52:33<18:59,  3.72s/it]"
     ]
    },
    {
     "name": "stdout",
     "output_type": "stream",
     "text": [
      "-8\n"
     ]
    },
    {
     "name": "stderr",
     "output_type": "stream",
     "text": [
      "\r",
      " 73%|███████▎  | 843/1148 [52:37<18:22,  3.61s/it]"
     ]
    },
    {
     "name": "stdout",
     "output_type": "stream",
     "text": [
      "-6\n"
     ]
    },
    {
     "name": "stderr",
     "output_type": "stream",
     "text": [
      "\r",
      " 74%|███████▎  | 844/1148 [52:40<18:07,  3.58s/it]"
     ]
    },
    {
     "name": "stdout",
     "output_type": "stream",
     "text": [
      "-5\n"
     ]
    },
    {
     "name": "stderr",
     "output_type": "stream",
     "text": [
      "\r",
      " 74%|███████▎  | 845/1148 [52:44<18:55,  3.75s/it]"
     ]
    },
    {
     "name": "stdout",
     "output_type": "stream",
     "text": [
      "-6\n"
     ]
    },
    {
     "name": "stderr",
     "output_type": "stream",
     "text": [
      "\r",
      " 74%|███████▎  | 846/1148 [52:48<18:26,  3.66s/it]"
     ]
    },
    {
     "name": "stdout",
     "output_type": "stream",
     "text": [
      "-2\n"
     ]
    },
    {
     "name": "stderr",
     "output_type": "stream",
     "text": [
      "\r",
      " 74%|███████▍  | 847/1148 [52:52<18:29,  3.68s/it]"
     ]
    },
    {
     "name": "stdout",
     "output_type": "stream",
     "text": [
      "-18\n"
     ]
    },
    {
     "name": "stderr",
     "output_type": "stream",
     "text": [
      "\r",
      " 74%|███████▍  | 848/1148 [52:55<17:34,  3.52s/it]"
     ]
    },
    {
     "name": "stdout",
     "output_type": "stream",
     "text": [
      "-7\n"
     ]
    },
    {
     "name": "stderr",
     "output_type": "stream",
     "text": [
      "\r",
      " 74%|███████▍  | 849/1148 [52:59<18:23,  3.69s/it]"
     ]
    },
    {
     "name": "stdout",
     "output_type": "stream",
     "text": [
      "-4\n"
     ]
    },
    {
     "name": "stderr",
     "output_type": "stream",
     "text": [
      "\r",
      " 74%|███████▍  | 850/1148 [53:02<17:58,  3.62s/it]"
     ]
    },
    {
     "name": "stdout",
     "output_type": "stream",
     "text": [
      "-2\n"
     ]
    },
    {
     "name": "stderr",
     "output_type": "stream",
     "text": [
      "\r",
      " 74%|███████▍  | 851/1148 [53:06<17:57,  3.63s/it]"
     ]
    },
    {
     "name": "stdout",
     "output_type": "stream",
     "text": [
      "0\n"
     ]
    },
    {
     "name": "stderr",
     "output_type": "stream",
     "text": [
      "\r",
      " 74%|███████▍  | 852/1148 [53:09<16:58,  3.44s/it]"
     ]
    },
    {
     "name": "stdout",
     "output_type": "stream",
     "text": [
      "-2\n"
     ]
    },
    {
     "name": "stderr",
     "output_type": "stream",
     "text": [
      "\r",
      " 74%|███████▍  | 853/1148 [53:12<16:25,  3.34s/it]"
     ]
    },
    {
     "name": "stdout",
     "output_type": "stream",
     "text": [
      "-3\n"
     ]
    },
    {
     "name": "stderr",
     "output_type": "stream",
     "text": [
      "\r",
      " 74%|███████▍  | 854/1148 [53:15<16:26,  3.36s/it]"
     ]
    },
    {
     "name": "stdout",
     "output_type": "stream",
     "text": [
      "-4\n"
     ]
    },
    {
     "name": "stderr",
     "output_type": "stream",
     "text": [
      "\r",
      " 74%|███████▍  | 855/1148 [53:19<17:06,  3.50s/it]"
     ]
    },
    {
     "name": "stdout",
     "output_type": "stream",
     "text": [
      "-4\n"
     ]
    },
    {
     "name": "stderr",
     "output_type": "stream",
     "text": [
      "\r",
      " 75%|███████▍  | 856/1148 [53:23<16:40,  3.43s/it]"
     ]
    },
    {
     "name": "stdout",
     "output_type": "stream",
     "text": [
      "-6\n"
     ]
    },
    {
     "name": "stderr",
     "output_type": "stream",
     "text": [
      "\r",
      " 75%|███████▍  | 857/1148 [53:26<16:53,  3.48s/it]"
     ]
    },
    {
     "name": "stdout",
     "output_type": "stream",
     "text": [
      "-3\n"
     ]
    },
    {
     "name": "stderr",
     "output_type": "stream",
     "text": [
      "\r",
      " 75%|███████▍  | 858/1148 [53:30<17:03,  3.53s/it]"
     ]
    },
    {
     "name": "stdout",
     "output_type": "stream",
     "text": [
      "-3\n"
     ]
    },
    {
     "name": "stderr",
     "output_type": "stream",
     "text": [
      "\r",
      " 75%|███████▍  | 859/1148 [53:33<16:49,  3.49s/it]"
     ]
    },
    {
     "name": "stdout",
     "output_type": "stream",
     "text": [
      "-3\n"
     ]
    },
    {
     "name": "stderr",
     "output_type": "stream",
     "text": [
      "\r",
      " 75%|███████▍  | 860/1148 [53:36<16:25,  3.42s/it]"
     ]
    },
    {
     "name": "stdout",
     "output_type": "stream",
     "text": [
      "-4\n"
     ]
    },
    {
     "name": "stderr",
     "output_type": "stream",
     "text": [
      "\r",
      " 75%|███████▌  | 861/1148 [53:40<16:32,  3.46s/it]"
     ]
    },
    {
     "name": "stdout",
     "output_type": "stream",
     "text": [
      "-2\n"
     ]
    },
    {
     "name": "stderr",
     "output_type": "stream",
     "text": [
      "\r",
      " 75%|███████▌  | 862/1148 [53:44<16:56,  3.56s/it]"
     ]
    },
    {
     "name": "stdout",
     "output_type": "stream",
     "text": [
      "-5\n"
     ]
    },
    {
     "name": "stderr",
     "output_type": "stream",
     "text": [
      "\r",
      " 75%|███████▌  | 863/1148 [53:47<17:04,  3.59s/it]"
     ]
    },
    {
     "name": "stdout",
     "output_type": "stream",
     "text": [
      "-6\n"
     ]
    },
    {
     "name": "stderr",
     "output_type": "stream",
     "text": [
      "\r",
      " 75%|███████▌  | 864/1148 [53:51<16:40,  3.52s/it]"
     ]
    },
    {
     "name": "stdout",
     "output_type": "stream",
     "text": [
      "-5\n"
     ]
    },
    {
     "name": "stderr",
     "output_type": "stream",
     "text": [
      "\r",
      " 75%|███████▌  | 865/1148 [53:55<17:24,  3.69s/it]"
     ]
    },
    {
     "name": "stdout",
     "output_type": "stream",
     "text": [
      "-7\n"
     ]
    },
    {
     "name": "stderr",
     "output_type": "stream",
     "text": [
      "\r",
      " 75%|███████▌  | 866/1148 [53:58<16:41,  3.55s/it]"
     ]
    },
    {
     "name": "stdout",
     "output_type": "stream",
     "text": [
      "-4\n"
     ]
    },
    {
     "name": "stderr",
     "output_type": "stream",
     "text": [
      "\r",
      " 76%|███████▌  | 867/1148 [54:02<16:51,  3.60s/it]"
     ]
    },
    {
     "name": "stdout",
     "output_type": "stream",
     "text": [
      "-6\n"
     ]
    },
    {
     "name": "stderr",
     "output_type": "stream",
     "text": [
      "\r",
      " 76%|███████▌  | 868/1148 [54:04<15:18,  3.28s/it]"
     ]
    },
    {
     "name": "stdout",
     "output_type": "stream",
     "text": [
      "-27\n"
     ]
    },
    {
     "name": "stderr",
     "output_type": "stream",
     "text": [
      "\r",
      " 76%|███████▌  | 869/1148 [54:08<15:57,  3.43s/it]"
     ]
    },
    {
     "name": "stdout",
     "output_type": "stream",
     "text": [
      "-5\n"
     ]
    },
    {
     "name": "stderr",
     "output_type": "stream",
     "text": [
      "\r",
      " 76%|███████▌  | 870/1148 [54:12<16:05,  3.47s/it]"
     ]
    },
    {
     "name": "stdout",
     "output_type": "stream",
     "text": [
      "-7\n"
     ]
    },
    {
     "name": "stderr",
     "output_type": "stream",
     "text": [
      "\r",
      " 76%|███████▌  | 871/1148 [54:15<15:34,  3.37s/it]"
     ]
    },
    {
     "name": "stdout",
     "output_type": "stream",
     "text": [
      "-5\n"
     ]
    },
    {
     "name": "stderr",
     "output_type": "stream",
     "text": [
      "\r",
      " 76%|███████▌  | 872/1148 [54:19<16:28,  3.58s/it]"
     ]
    },
    {
     "name": "stdout",
     "output_type": "stream",
     "text": [
      "-4\n"
     ]
    },
    {
     "name": "stderr",
     "output_type": "stream",
     "text": [
      "\r",
      " 76%|███████▌  | 873/1148 [54:23<16:35,  3.62s/it]"
     ]
    },
    {
     "name": "stdout",
     "output_type": "stream",
     "text": [
      "-3\n"
     ]
    },
    {
     "name": "stderr",
     "output_type": "stream",
     "text": [
      "\r",
      " 76%|███████▌  | 874/1148 [54:26<16:21,  3.58s/it]"
     ]
    },
    {
     "name": "stdout",
     "output_type": "stream",
     "text": [
      "-1\n"
     ]
    },
    {
     "name": "stderr",
     "output_type": "stream",
     "text": [
      "\r",
      " 76%|███████▌  | 875/1148 [54:30<16:34,  3.64s/it]"
     ]
    },
    {
     "name": "stdout",
     "output_type": "stream",
     "text": [
      "-3\n"
     ]
    },
    {
     "name": "stderr",
     "output_type": "stream",
     "text": [
      "\r",
      " 76%|███████▋  | 876/1148 [54:34<16:44,  3.69s/it]"
     ]
    },
    {
     "name": "stdout",
     "output_type": "stream",
     "text": [
      "-4\n"
     ]
    },
    {
     "name": "stderr",
     "output_type": "stream",
     "text": [
      "\r",
      " 76%|███████▋  | 877/1148 [54:38<17:06,  3.79s/it]"
     ]
    },
    {
     "name": "stdout",
     "output_type": "stream",
     "text": [
      "-7\n"
     ]
    },
    {
     "name": "stderr",
     "output_type": "stream",
     "text": [
      "\r",
      " 76%|███████▋  | 878/1148 [54:43<18:41,  4.15s/it]"
     ]
    },
    {
     "name": "stdout",
     "output_type": "stream",
     "text": [
      "-3\n"
     ]
    },
    {
     "name": "stderr",
     "output_type": "stream",
     "text": [
      "\r",
      " 77%|███████▋  | 879/1148 [54:46<17:50,  3.98s/it]"
     ]
    },
    {
     "name": "stdout",
     "output_type": "stream",
     "text": [
      "-6\n"
     ]
    },
    {
     "name": "stderr",
     "output_type": "stream",
     "text": [
      "\r",
      " 77%|███████▋  | 880/1148 [54:50<17:11,  3.85s/it]"
     ]
    },
    {
     "name": "stdout",
     "output_type": "stream",
     "text": [
      "-6\n"
     ]
    },
    {
     "name": "stderr",
     "output_type": "stream",
     "text": [
      "\r",
      " 77%|███████▋  | 881/1148 [54:53<16:17,  3.66s/it]"
     ]
    },
    {
     "name": "stdout",
     "output_type": "stream",
     "text": [
      "-2\n"
     ]
    },
    {
     "name": "stderr",
     "output_type": "stream",
     "text": [
      "\r",
      " 77%|███████▋  | 882/1148 [54:57<16:05,  3.63s/it]"
     ]
    },
    {
     "name": "stdout",
     "output_type": "stream",
     "text": [
      "-6\n"
     ]
    },
    {
     "name": "stderr",
     "output_type": "stream",
     "text": [
      "\r",
      " 77%|███████▋  | 883/1148 [55:01<16:53,  3.83s/it]"
     ]
    },
    {
     "name": "stdout",
     "output_type": "stream",
     "text": [
      "-7\n"
     ]
    },
    {
     "name": "stderr",
     "output_type": "stream",
     "text": [
      "\r",
      " 77%|███████▋  | 884/1148 [55:05<16:36,  3.77s/it]"
     ]
    },
    {
     "name": "stdout",
     "output_type": "stream",
     "text": [
      "-5\n"
     ]
    },
    {
     "name": "stderr",
     "output_type": "stream",
     "text": [
      "\r",
      " 77%|███████▋  | 885/1148 [55:07<15:22,  3.51s/it]"
     ]
    },
    {
     "name": "stdout",
     "output_type": "stream",
     "text": [
      "-5\n"
     ]
    },
    {
     "name": "stderr",
     "output_type": "stream",
     "text": [
      "\r",
      " 77%|███████▋  | 886/1148 [55:11<15:48,  3.62s/it]"
     ]
    },
    {
     "name": "stdout",
     "output_type": "stream",
     "text": [
      "-2\n"
     ]
    },
    {
     "name": "stderr",
     "output_type": "stream",
     "text": [
      "\r",
      " 77%|███████▋  | 887/1148 [55:15<16:07,  3.71s/it]"
     ]
    },
    {
     "name": "stdout",
     "output_type": "stream",
     "text": [
      "-3\n"
     ]
    },
    {
     "name": "stderr",
     "output_type": "stream",
     "text": [
      "\r",
      " 77%|███████▋  | 888/1148 [55:19<15:55,  3.67s/it]"
     ]
    },
    {
     "name": "stdout",
     "output_type": "stream",
     "text": [
      "-2\n"
     ]
    },
    {
     "name": "stderr",
     "output_type": "stream",
     "text": [
      "\r",
      " 77%|███████▋  | 889/1148 [55:22<15:16,  3.54s/it]"
     ]
    },
    {
     "name": "stdout",
     "output_type": "stream",
     "text": [
      "-4\n"
     ]
    },
    {
     "name": "stderr",
     "output_type": "stream",
     "text": [
      "\r",
      " 78%|███████▊  | 890/1148 [55:26<15:36,  3.63s/it]"
     ]
    },
    {
     "name": "stdout",
     "output_type": "stream",
     "text": [
      "-4\n"
     ]
    },
    {
     "name": "stderr",
     "output_type": "stream",
     "text": [
      "\r",
      " 78%|███████▊  | 891/1148 [55:29<15:14,  3.56s/it]"
     ]
    },
    {
     "name": "stdout",
     "output_type": "stream",
     "text": [
      "-4\n"
     ]
    },
    {
     "name": "stderr",
     "output_type": "stream",
     "text": [
      "\r",
      " 78%|███████▊  | 892/1148 [55:33<15:01,  3.52s/it]"
     ]
    },
    {
     "name": "stdout",
     "output_type": "stream",
     "text": [
      "-6\n"
     ]
    },
    {
     "name": "stderr",
     "output_type": "stream",
     "text": [
      "\r",
      " 78%|███████▊  | 893/1148 [55:36<15:01,  3.53s/it]"
     ]
    },
    {
     "name": "stdout",
     "output_type": "stream",
     "text": [
      "-3\n"
     ]
    },
    {
     "name": "stderr",
     "output_type": "stream",
     "text": [
      "\r",
      " 78%|███████▊  | 894/1148 [55:40<15:31,  3.67s/it]"
     ]
    },
    {
     "name": "stdout",
     "output_type": "stream",
     "text": [
      "-5\n"
     ]
    },
    {
     "name": "stderr",
     "output_type": "stream",
     "text": [
      "\r",
      " 78%|███████▊  | 895/1148 [55:44<15:40,  3.72s/it]"
     ]
    },
    {
     "name": "stdout",
     "output_type": "stream",
     "text": [
      "-3\n"
     ]
    },
    {
     "name": "stderr",
     "output_type": "stream",
     "text": [
      "\r",
      " 78%|███████▊  | 896/1148 [55:48<15:43,  3.74s/it]"
     ]
    },
    {
     "name": "stdout",
     "output_type": "stream",
     "text": [
      "-4\n"
     ]
    },
    {
     "name": "stderr",
     "output_type": "stream",
     "text": [
      "\r",
      " 78%|███████▊  | 897/1148 [55:51<15:00,  3.59s/it]"
     ]
    },
    {
     "name": "stdout",
     "output_type": "stream",
     "text": [
      "-4\n"
     ]
    },
    {
     "name": "stderr",
     "output_type": "stream",
     "text": [
      "\r",
      " 78%|███████▊  | 898/1148 [55:55<15:43,  3.77s/it]"
     ]
    },
    {
     "name": "stdout",
     "output_type": "stream",
     "text": [
      "-2\n"
     ]
    },
    {
     "name": "stderr",
     "output_type": "stream",
     "text": [
      "\r",
      " 78%|███████▊  | 899/1148 [55:59<15:30,  3.74s/it]"
     ]
    },
    {
     "name": "stdout",
     "output_type": "stream",
     "text": [
      "-5\n"
     ]
    },
    {
     "name": "stderr",
     "output_type": "stream",
     "text": [
      "\r",
      " 78%|███████▊  | 900/1148 [56:03<15:39,  3.79s/it]"
     ]
    },
    {
     "name": "stdout",
     "output_type": "stream",
     "text": [
      "-7\n"
     ]
    },
    {
     "name": "stderr",
     "output_type": "stream",
     "text": [
      "\r",
      " 78%|███████▊  | 901/1148 [56:06<15:04,  3.66s/it]"
     ]
    },
    {
     "name": "stdout",
     "output_type": "stream",
     "text": [
      "1\n"
     ]
    },
    {
     "name": "stderr",
     "output_type": "stream",
     "text": [
      "\r",
      " 79%|███████▊  | 902/1148 [56:10<14:34,  3.56s/it]"
     ]
    },
    {
     "name": "stdout",
     "output_type": "stream",
     "text": [
      "-5\n"
     ]
    },
    {
     "name": "stderr",
     "output_type": "stream",
     "text": [
      "\r",
      " 79%|███████▊  | 903/1148 [56:13<14:15,  3.49s/it]"
     ]
    },
    {
     "name": "stdout",
     "output_type": "stream",
     "text": [
      "-5\n"
     ]
    },
    {
     "name": "stderr",
     "output_type": "stream",
     "text": [
      "\r",
      " 79%|███████▊  | 904/1148 [56:16<13:58,  3.44s/it]"
     ]
    },
    {
     "name": "stdout",
     "output_type": "stream",
     "text": [
      "-4\n"
     ]
    },
    {
     "name": "stderr",
     "output_type": "stream",
     "text": [
      "\r",
      " 79%|███████▉  | 905/1148 [56:20<13:58,  3.45s/it]"
     ]
    },
    {
     "name": "stdout",
     "output_type": "stream",
     "text": [
      "-10\n"
     ]
    },
    {
     "name": "stderr",
     "output_type": "stream",
     "text": [
      "\r",
      " 79%|███████▉  | 906/1148 [56:23<14:13,  3.53s/it]"
     ]
    },
    {
     "name": "stdout",
     "output_type": "stream",
     "text": [
      "-3\n"
     ]
    },
    {
     "name": "stderr",
     "output_type": "stream",
     "text": [
      "\r",
      " 79%|███████▉  | 907/1148 [56:27<13:39,  3.40s/it]"
     ]
    },
    {
     "name": "stdout",
     "output_type": "stream",
     "text": [
      "-4\n"
     ]
    },
    {
     "name": "stderr",
     "output_type": "stream",
     "text": [
      "\r",
      " 79%|███████▉  | 908/1148 [56:30<13:57,  3.49s/it]"
     ]
    },
    {
     "name": "stdout",
     "output_type": "stream",
     "text": [
      "-5\n"
     ]
    },
    {
     "name": "stderr",
     "output_type": "stream",
     "text": [
      "\r",
      " 79%|███████▉  | 909/1148 [56:34<13:58,  3.51s/it]"
     ]
    },
    {
     "name": "stdout",
     "output_type": "stream",
     "text": [
      "-6\n"
     ]
    },
    {
     "name": "stderr",
     "output_type": "stream",
     "text": [
      "\r",
      " 79%|███████▉  | 910/1148 [56:37<13:30,  3.41s/it]"
     ]
    },
    {
     "name": "stdout",
     "output_type": "stream",
     "text": [
      "-6\n"
     ]
    },
    {
     "name": "stderr",
     "output_type": "stream",
     "text": [
      "\r",
      " 79%|███████▉  | 911/1148 [56:41<13:43,  3.48s/it]"
     ]
    },
    {
     "name": "stdout",
     "output_type": "stream",
     "text": [
      "-2\n"
     ]
    },
    {
     "name": "stderr",
     "output_type": "stream",
     "text": [
      "\r",
      " 79%|███████▉  | 912/1148 [56:44<13:54,  3.54s/it]"
     ]
    },
    {
     "name": "stdout",
     "output_type": "stream",
     "text": [
      "-5\n"
     ]
    },
    {
     "name": "stderr",
     "output_type": "stream",
     "text": [
      "\r",
      " 80%|███████▉  | 913/1148 [56:48<13:47,  3.52s/it]"
     ]
    },
    {
     "name": "stdout",
     "output_type": "stream",
     "text": [
      "-5\n"
     ]
    },
    {
     "name": "stderr",
     "output_type": "stream",
     "text": [
      "\r",
      " 80%|███████▉  | 914/1148 [56:51<13:56,  3.58s/it]"
     ]
    },
    {
     "name": "stdout",
     "output_type": "stream",
     "text": [
      "-3\n"
     ]
    },
    {
     "name": "stderr",
     "output_type": "stream",
     "text": [
      "\r",
      " 80%|███████▉  | 915/1148 [56:55<13:27,  3.47s/it]"
     ]
    },
    {
     "name": "stdout",
     "output_type": "stream",
     "text": [
      "-5\n"
     ]
    },
    {
     "name": "stderr",
     "output_type": "stream",
     "text": [
      "\r",
      " 80%|███████▉  | 916/1148 [56:58<13:33,  3.51s/it]"
     ]
    },
    {
     "name": "stdout",
     "output_type": "stream",
     "text": [
      "-10\n"
     ]
    },
    {
     "name": "stderr",
     "output_type": "stream",
     "text": [
      "\r",
      " 80%|███████▉  | 917/1148 [57:02<13:23,  3.48s/it]"
     ]
    },
    {
     "name": "stdout",
     "output_type": "stream",
     "text": [
      "-4\n"
     ]
    },
    {
     "name": "stderr",
     "output_type": "stream",
     "text": [
      "\r",
      " 80%|███████▉  | 918/1148 [57:05<13:05,  3.42s/it]"
     ]
    },
    {
     "name": "stdout",
     "output_type": "stream",
     "text": [
      "-3\n"
     ]
    },
    {
     "name": "stderr",
     "output_type": "stream",
     "text": [
      "\r",
      " 80%|████████  | 919/1148 [57:09<13:24,  3.51s/it]"
     ]
    },
    {
     "name": "stdout",
     "output_type": "stream",
     "text": [
      "-1\n"
     ]
    },
    {
     "name": "stderr",
     "output_type": "stream",
     "text": [
      "\r",
      " 80%|████████  | 920/1148 [57:12<13:01,  3.43s/it]"
     ]
    },
    {
     "name": "stdout",
     "output_type": "stream",
     "text": [
      "-4\n"
     ]
    },
    {
     "name": "stderr",
     "output_type": "stream",
     "text": [
      "\r",
      " 80%|████████  | 921/1148 [57:15<12:55,  3.42s/it]"
     ]
    },
    {
     "name": "stdout",
     "output_type": "stream",
     "text": [
      "-3\n"
     ]
    },
    {
     "name": "stderr",
     "output_type": "stream",
     "text": [
      "\r",
      " 80%|████████  | 922/1148 [57:19<13:21,  3.55s/it]"
     ]
    },
    {
     "name": "stdout",
     "output_type": "stream",
     "text": [
      "-2\n"
     ]
    },
    {
     "name": "stderr",
     "output_type": "stream",
     "text": [
      "\r",
      " 80%|████████  | 923/1148 [57:22<12:26,  3.32s/it]"
     ]
    },
    {
     "name": "stdout",
     "output_type": "stream",
     "text": [
      "-3\n"
     ]
    },
    {
     "name": "stderr",
     "output_type": "stream",
     "text": [
      "\r",
      " 80%|████████  | 924/1148 [57:26<13:04,  3.50s/it]"
     ]
    },
    {
     "name": "stdout",
     "output_type": "stream",
     "text": [
      "-4\n"
     ]
    },
    {
     "name": "stderr",
     "output_type": "stream",
     "text": [
      "\r",
      " 81%|████████  | 925/1148 [57:29<13:02,  3.51s/it]"
     ]
    },
    {
     "name": "stdout",
     "output_type": "stream",
     "text": [
      "-4\n"
     ]
    },
    {
     "name": "stderr",
     "output_type": "stream",
     "text": [
      "\r",
      " 81%|████████  | 926/1148 [57:33<12:34,  3.40s/it]"
     ]
    },
    {
     "name": "stdout",
     "output_type": "stream",
     "text": [
      "-2\n"
     ]
    },
    {
     "name": "stderr",
     "output_type": "stream",
     "text": [
      "\r",
      " 81%|████████  | 927/1148 [57:36<12:29,  3.39s/it]"
     ]
    },
    {
     "name": "stdout",
     "output_type": "stream",
     "text": [
      "1\n"
     ]
    },
    {
     "name": "stderr",
     "output_type": "stream",
     "text": [
      "\r",
      " 81%|████████  | 928/1148 [57:39<12:30,  3.41s/it]"
     ]
    },
    {
     "name": "stdout",
     "output_type": "stream",
     "text": [
      "-3\n"
     ]
    },
    {
     "name": "stderr",
     "output_type": "stream",
     "text": [
      "\r",
      " 81%|████████  | 929/1148 [57:43<12:29,  3.42s/it]"
     ]
    },
    {
     "name": "stdout",
     "output_type": "stream",
     "text": [
      "-2\n"
     ]
    },
    {
     "name": "stderr",
     "output_type": "stream",
     "text": [
      "\r",
      " 81%|████████  | 930/1148 [57:46<12:39,  3.49s/it]"
     ]
    },
    {
     "name": "stdout",
     "output_type": "stream",
     "text": [
      "-2\n"
     ]
    },
    {
     "name": "stderr",
     "output_type": "stream",
     "text": [
      "\r",
      " 81%|████████  | 931/1148 [57:50<12:25,  3.43s/it]"
     ]
    },
    {
     "name": "stdout",
     "output_type": "stream",
     "text": [
      "-1\n"
     ]
    },
    {
     "name": "stderr",
     "output_type": "stream",
     "text": [
      "\r",
      " 81%|████████  | 932/1148 [57:53<11:54,  3.31s/it]"
     ]
    },
    {
     "name": "stdout",
     "output_type": "stream",
     "text": [
      "-5\n"
     ]
    },
    {
     "name": "stderr",
     "output_type": "stream",
     "text": [
      "\r",
      " 81%|████████▏ | 933/1148 [57:56<11:48,  3.30s/it]"
     ]
    },
    {
     "name": "stdout",
     "output_type": "stream",
     "text": [
      "-3\n"
     ]
    },
    {
     "name": "stderr",
     "output_type": "stream",
     "text": [
      "\r",
      " 81%|████████▏ | 934/1148 [58:00<12:27,  3.50s/it]"
     ]
    },
    {
     "name": "stdout",
     "output_type": "stream",
     "text": [
      "-1\n"
     ]
    },
    {
     "name": "stderr",
     "output_type": "stream",
     "text": [
      "\r",
      " 81%|████████▏ | 935/1148 [58:05<13:43,  3.87s/it]"
     ]
    },
    {
     "name": "stdout",
     "output_type": "stream",
     "text": [
      "-2\n"
     ]
    },
    {
     "name": "stderr",
     "output_type": "stream",
     "text": [
      "\r",
      " 82%|████████▏ | 936/1148 [58:08<12:50,  3.63s/it]"
     ]
    },
    {
     "name": "stdout",
     "output_type": "stream",
     "text": [
      "-6\n"
     ]
    },
    {
     "name": "stderr",
     "output_type": "stream",
     "text": [
      "\r",
      " 82%|████████▏ | 937/1148 [58:12<13:08,  3.74s/it]"
     ]
    },
    {
     "name": "stdout",
     "output_type": "stream",
     "text": [
      "-3\n"
     ]
    },
    {
     "name": "stderr",
     "output_type": "stream",
     "text": [
      "\r",
      " 82%|████████▏ | 938/1148 [58:16<13:41,  3.91s/it]"
     ]
    },
    {
     "name": "stdout",
     "output_type": "stream",
     "text": [
      "-7\n"
     ]
    },
    {
     "name": "stderr",
     "output_type": "stream",
     "text": [
      "\r",
      " 82%|████████▏ | 939/1148 [58:20<13:06,  3.76s/it]"
     ]
    },
    {
     "name": "stdout",
     "output_type": "stream",
     "text": [
      "-4\n"
     ]
    },
    {
     "name": "stderr",
     "output_type": "stream",
     "text": [
      "\r",
      " 82%|████████▏ | 940/1148 [58:23<12:43,  3.67s/it]"
     ]
    },
    {
     "name": "stdout",
     "output_type": "stream",
     "text": [
      "-4\n"
     ]
    },
    {
     "name": "stderr",
     "output_type": "stream",
     "text": [
      "\r",
      " 82%|████████▏ | 941/1148 [58:26<12:23,  3.59s/it]"
     ]
    },
    {
     "name": "stdout",
     "output_type": "stream",
     "text": [
      "-3\n"
     ]
    },
    {
     "name": "stderr",
     "output_type": "stream",
     "text": [
      "\r",
      " 82%|████████▏ | 942/1148 [58:30<12:32,  3.65s/it]"
     ]
    },
    {
     "name": "stdout",
     "output_type": "stream",
     "text": [
      "-6\n"
     ]
    },
    {
     "name": "stderr",
     "output_type": "stream",
     "text": [
      "\r",
      " 82%|████████▏ | 943/1148 [58:33<12:03,  3.53s/it]"
     ]
    },
    {
     "name": "stdout",
     "output_type": "stream",
     "text": [
      "-4\n"
     ]
    },
    {
     "name": "stderr",
     "output_type": "stream",
     "text": [
      "\r",
      " 82%|████████▏ | 944/1148 [58:37<11:38,  3.43s/it]"
     ]
    },
    {
     "name": "stdout",
     "output_type": "stream",
     "text": [
      "-7\n"
     ]
    },
    {
     "name": "stderr",
     "output_type": "stream",
     "text": [
      "\r",
      " 82%|████████▏ | 945/1148 [58:40<11:28,  3.39s/it]"
     ]
    },
    {
     "name": "stdout",
     "output_type": "stream",
     "text": [
      "-3\n"
     ]
    },
    {
     "name": "stderr",
     "output_type": "stream",
     "text": [
      "\r",
      " 82%|████████▏ | 946/1148 [58:43<11:31,  3.42s/it]"
     ]
    },
    {
     "name": "stdout",
     "output_type": "stream",
     "text": [
      "-5\n"
     ]
    },
    {
     "name": "stderr",
     "output_type": "stream",
     "text": [
      "\r",
      " 82%|████████▏ | 947/1148 [58:46<10:40,  3.18s/it]"
     ]
    },
    {
     "name": "stdout",
     "output_type": "stream",
     "text": [
      "-3\n"
     ]
    },
    {
     "name": "stderr",
     "output_type": "stream",
     "text": [
      "\r",
      " 83%|████████▎ | 948/1148 [58:51<12:10,  3.65s/it]"
     ]
    },
    {
     "name": "stdout",
     "output_type": "stream",
     "text": [
      "-3\n"
     ]
    },
    {
     "name": "stderr",
     "output_type": "stream",
     "text": [
      "\r",
      " 83%|████████▎ | 949/1148 [58:54<11:35,  3.50s/it]"
     ]
    },
    {
     "name": "stdout",
     "output_type": "stream",
     "text": [
      "-4\n"
     ]
    },
    {
     "name": "stderr",
     "output_type": "stream",
     "text": [
      "\r",
      " 83%|████████▎ | 950/1148 [58:57<11:23,  3.45s/it]"
     ]
    },
    {
     "name": "stdout",
     "output_type": "stream",
     "text": [
      "-4\n"
     ]
    },
    {
     "name": "stderr",
     "output_type": "stream",
     "text": [
      "\r",
      " 83%|████████▎ | 951/1148 [59:00<10:39,  3.24s/it]"
     ]
    },
    {
     "name": "stdout",
     "output_type": "stream",
     "text": [
      "-3\n"
     ]
    },
    {
     "name": "stderr",
     "output_type": "stream",
     "text": [
      "\r",
      " 83%|████████▎ | 952/1148 [59:03<10:27,  3.20s/it]"
     ]
    },
    {
     "name": "stdout",
     "output_type": "stream",
     "text": [
      "-3\n"
     ]
    },
    {
     "name": "stderr",
     "output_type": "stream",
     "text": [
      "\r",
      " 83%|████████▎ | 953/1148 [59:07<10:34,  3.25s/it]"
     ]
    },
    {
     "name": "stdout",
     "output_type": "stream",
     "text": [
      "0\n"
     ]
    },
    {
     "name": "stderr",
     "output_type": "stream",
     "text": [
      "\r",
      " 83%|████████▎ | 954/1148 [59:10<10:42,  3.31s/it]"
     ]
    },
    {
     "name": "stdout",
     "output_type": "stream",
     "text": [
      "-4\n"
     ]
    },
    {
     "name": "stderr",
     "output_type": "stream",
     "text": [
      "\r",
      " 83%|████████▎ | 955/1148 [59:14<11:35,  3.60s/it]"
     ]
    },
    {
     "name": "stdout",
     "output_type": "stream",
     "text": [
      "0\n"
     ]
    },
    {
     "name": "stderr",
     "output_type": "stream",
     "text": [
      "\r",
      " 83%|████████▎ | 956/1148 [59:18<11:30,  3.60s/it]"
     ]
    },
    {
     "name": "stdout",
     "output_type": "stream",
     "text": [
      "-4\n"
     ]
    },
    {
     "name": "stderr",
     "output_type": "stream",
     "text": [
      "\r",
      " 83%|████████▎ | 957/1148 [59:21<10:52,  3.42s/it]"
     ]
    },
    {
     "name": "stdout",
     "output_type": "stream",
     "text": [
      "-4\n"
     ]
    },
    {
     "name": "stderr",
     "output_type": "stream",
     "text": [
      "\r",
      " 83%|████████▎ | 958/1148 [59:24<10:59,  3.47s/it]"
     ]
    },
    {
     "name": "stdout",
     "output_type": "stream",
     "text": [
      "-2\n"
     ]
    },
    {
     "name": "stderr",
     "output_type": "stream",
     "text": [
      "\r",
      " 84%|████████▎ | 959/1148 [59:27<10:21,  3.29s/it]"
     ]
    },
    {
     "name": "stdout",
     "output_type": "stream",
     "text": [
      "-2\n"
     ]
    },
    {
     "name": "stderr",
     "output_type": "stream",
     "text": [
      "\r",
      " 84%|████████▎ | 960/1148 [59:31<10:30,  3.35s/it]"
     ]
    },
    {
     "name": "stdout",
     "output_type": "stream",
     "text": [
      "-7\n"
     ]
    },
    {
     "name": "stderr",
     "output_type": "stream",
     "text": [
      "\r",
      " 84%|████████▎ | 961/1148 [59:34<10:22,  3.33s/it]"
     ]
    },
    {
     "name": "stdout",
     "output_type": "stream",
     "text": [
      "-4\n"
     ]
    },
    {
     "name": "stderr",
     "output_type": "stream",
     "text": [
      "\r",
      " 84%|████████▍ | 962/1148 [59:39<11:47,  3.80s/it]"
     ]
    },
    {
     "name": "stdout",
     "output_type": "stream",
     "text": [
      "-7\n"
     ]
    },
    {
     "name": "stderr",
     "output_type": "stream",
     "text": [
      "\r",
      " 84%|████████▍ | 963/1148 [59:42<11:00,  3.57s/it]"
     ]
    },
    {
     "name": "stdout",
     "output_type": "stream",
     "text": [
      "-3\n"
     ]
    },
    {
     "name": "stderr",
     "output_type": "stream",
     "text": [
      "\r",
      " 84%|████████▍ | 964/1148 [59:44<09:48,  3.20s/it]"
     ]
    },
    {
     "name": "stdout",
     "output_type": "stream",
     "text": [
      "-5\n"
     ]
    },
    {
     "name": "stderr",
     "output_type": "stream",
     "text": [
      "\r",
      " 84%|████████▍ | 965/1148 [59:48<09:51,  3.23s/it]"
     ]
    },
    {
     "name": "stdout",
     "output_type": "stream",
     "text": [
      "-3\n"
     ]
    },
    {
     "name": "stderr",
     "output_type": "stream",
     "text": [
      "\r",
      " 84%|████████▍ | 966/1148 [59:51<09:59,  3.29s/it]"
     ]
    },
    {
     "name": "stdout",
     "output_type": "stream",
     "text": [
      "-5\n"
     ]
    },
    {
     "name": "stderr",
     "output_type": "stream",
     "text": [
      "\r",
      " 84%|████████▍ | 967/1148 [59:55<10:09,  3.37s/it]"
     ]
    },
    {
     "name": "stdout",
     "output_type": "stream",
     "text": [
      "-14\n"
     ]
    },
    {
     "name": "stderr",
     "output_type": "stream",
     "text": [
      "\r",
      " 84%|████████▍ | 968/1148 [59:58<10:25,  3.48s/it]"
     ]
    },
    {
     "name": "stdout",
     "output_type": "stream",
     "text": [
      "-5\n"
     ]
    },
    {
     "name": "stderr",
     "output_type": "stream",
     "text": [
      "\r",
      " 84%|████████▍ | 969/1148 [1:00:01<09:58,  3.34s/it]"
     ]
    },
    {
     "name": "stdout",
     "output_type": "stream",
     "text": [
      "-3\n"
     ]
    },
    {
     "name": "stderr",
     "output_type": "stream",
     "text": [
      "\r",
      " 84%|████████▍ | 970/1148 [1:00:05<09:58,  3.36s/it]"
     ]
    },
    {
     "name": "stdout",
     "output_type": "stream",
     "text": [
      "-4\n"
     ]
    },
    {
     "name": "stderr",
     "output_type": "stream",
     "text": [
      "\r",
      " 85%|████████▍ | 971/1148 [1:00:08<09:43,  3.30s/it]"
     ]
    },
    {
     "name": "stdout",
     "output_type": "stream",
     "text": [
      "-4\n"
     ]
    },
    {
     "name": "stderr",
     "output_type": "stream",
     "text": [
      "\r",
      " 85%|████████▍ | 972/1148 [1:00:11<09:24,  3.21s/it]"
     ]
    },
    {
     "name": "stdout",
     "output_type": "stream",
     "text": [
      "-3\n"
     ]
    },
    {
     "name": "stderr",
     "output_type": "stream",
     "text": [
      "\r",
      " 85%|████████▍ | 973/1148 [1:00:15<09:41,  3.32s/it]"
     ]
    },
    {
     "name": "stdout",
     "output_type": "stream",
     "text": [
      "-5\n"
     ]
    },
    {
     "name": "stderr",
     "output_type": "stream",
     "text": [
      "\r",
      " 85%|████████▍ | 974/1148 [1:00:18<09:38,  3.32s/it]"
     ]
    },
    {
     "name": "stdout",
     "output_type": "stream",
     "text": [
      "-5\n"
     ]
    },
    {
     "name": "stderr",
     "output_type": "stream",
     "text": [
      "\r",
      " 85%|████████▍ | 975/1148 [1:00:21<09:40,  3.36s/it]"
     ]
    },
    {
     "name": "stdout",
     "output_type": "stream",
     "text": [
      "-3\n"
     ]
    },
    {
     "name": "stderr",
     "output_type": "stream",
     "text": [
      "\r",
      " 85%|████████▌ | 976/1148 [1:00:25<09:29,  3.31s/it]"
     ]
    },
    {
     "name": "stdout",
     "output_type": "stream",
     "text": [
      "-5\n"
     ]
    },
    {
     "name": "stderr",
     "output_type": "stream",
     "text": [
      "\r",
      " 85%|████████▌ | 977/1148 [1:00:28<09:14,  3.25s/it]"
     ]
    },
    {
     "name": "stdout",
     "output_type": "stream",
     "text": [
      "-7\n"
     ]
    },
    {
     "name": "stderr",
     "output_type": "stream",
     "text": [
      "\r",
      " 85%|████████▌ | 978/1148 [1:00:31<09:39,  3.41s/it]"
     ]
    },
    {
     "name": "stdout",
     "output_type": "stream",
     "text": [
      "-5\n"
     ]
    },
    {
     "name": "stderr",
     "output_type": "stream",
     "text": [
      "\r",
      " 85%|████████▌ | 979/1148 [1:00:34<09:19,  3.31s/it]"
     ]
    },
    {
     "name": "stdout",
     "output_type": "stream",
     "text": [
      "-2\n"
     ]
    },
    {
     "name": "stderr",
     "output_type": "stream",
     "text": [
      "\r",
      " 85%|████████▌ | 980/1148 [1:00:38<09:30,  3.39s/it]"
     ]
    },
    {
     "name": "stdout",
     "output_type": "stream",
     "text": [
      "-1\n"
     ]
    },
    {
     "name": "stderr",
     "output_type": "stream",
     "text": [
      "\r",
      " 85%|████████▌ | 981/1148 [1:00:41<09:14,  3.32s/it]"
     ]
    },
    {
     "name": "stdout",
     "output_type": "stream",
     "text": [
      "-7\n"
     ]
    },
    {
     "name": "stderr",
     "output_type": "stream",
     "text": [
      "\r",
      " 86%|████████▌ | 982/1148 [1:00:44<08:51,  3.20s/it]"
     ]
    },
    {
     "name": "stdout",
     "output_type": "stream",
     "text": [
      "-5\n"
     ]
    },
    {
     "name": "stderr",
     "output_type": "stream",
     "text": [
      "\r",
      " 86%|████████▌ | 983/1148 [1:00:48<08:58,  3.27s/it]"
     ]
    },
    {
     "name": "stdout",
     "output_type": "stream",
     "text": [
      "-3\n"
     ]
    },
    {
     "name": "stderr",
     "output_type": "stream",
     "text": [
      "\r",
      " 86%|████████▌ | 984/1148 [1:00:52<09:28,  3.47s/it]"
     ]
    },
    {
     "name": "stdout",
     "output_type": "stream",
     "text": [
      "-5\n"
     ]
    },
    {
     "name": "stderr",
     "output_type": "stream",
     "text": [
      "\r",
      " 86%|████████▌ | 985/1148 [1:00:55<09:18,  3.43s/it]"
     ]
    },
    {
     "name": "stdout",
     "output_type": "stream",
     "text": [
      "-5\n"
     ]
    },
    {
     "name": "stderr",
     "output_type": "stream",
     "text": [
      "\r",
      " 86%|████████▌ | 986/1148 [1:00:59<09:58,  3.69s/it]"
     ]
    },
    {
     "name": "stdout",
     "output_type": "stream",
     "text": [
      "-2\n"
     ]
    },
    {
     "name": "stderr",
     "output_type": "stream",
     "text": [
      "\r",
      " 86%|████████▌ | 987/1148 [1:01:02<09:25,  3.51s/it]"
     ]
    },
    {
     "name": "stdout",
     "output_type": "stream",
     "text": [
      "-1\n"
     ]
    },
    {
     "name": "stderr",
     "output_type": "stream",
     "text": [
      "\r",
      " 86%|████████▌ | 988/1148 [1:01:06<09:32,  3.58s/it]"
     ]
    },
    {
     "name": "stdout",
     "output_type": "stream",
     "text": [
      "-2\n"
     ]
    },
    {
     "name": "stderr",
     "output_type": "stream",
     "text": [
      "\r",
      " 86%|████████▌ | 989/1148 [1:01:09<09:14,  3.49s/it]"
     ]
    },
    {
     "name": "stdout",
     "output_type": "stream",
     "text": [
      "-2\n"
     ]
    },
    {
     "name": "stderr",
     "output_type": "stream",
     "text": [
      "\r",
      " 86%|████████▌ | 990/1148 [1:01:13<09:16,  3.52s/it]"
     ]
    },
    {
     "name": "stdout",
     "output_type": "stream",
     "text": [
      "-3\n"
     ]
    },
    {
     "name": "stderr",
     "output_type": "stream",
     "text": [
      "\r",
      " 86%|████████▋ | 991/1148 [1:01:16<08:51,  3.38s/it]"
     ]
    },
    {
     "name": "stdout",
     "output_type": "stream",
     "text": [
      "-2\n"
     ]
    },
    {
     "name": "stderr",
     "output_type": "stream",
     "text": [
      "\r",
      " 86%|████████▋ | 992/1148 [1:01:19<08:35,  3.31s/it]"
     ]
    },
    {
     "name": "stdout",
     "output_type": "stream",
     "text": [
      "-7\n"
     ]
    },
    {
     "name": "stderr",
     "output_type": "stream",
     "text": [
      "\r",
      " 86%|████████▋ | 993/1148 [1:01:22<08:02,  3.12s/it]"
     ]
    },
    {
     "name": "stdout",
     "output_type": "stream",
     "text": [
      "-2\n"
     ]
    },
    {
     "name": "stderr",
     "output_type": "stream",
     "text": [
      "\r",
      " 87%|████████▋ | 994/1148 [1:01:26<08:31,  3.32s/it]"
     ]
    },
    {
     "name": "stdout",
     "output_type": "stream",
     "text": [
      "-5\n"
     ]
    },
    {
     "name": "stderr",
     "output_type": "stream",
     "text": [
      "\r",
      " 87%|████████▋ | 995/1148 [1:01:29<08:30,  3.34s/it]"
     ]
    },
    {
     "name": "stdout",
     "output_type": "stream",
     "text": [
      "-3\n"
     ]
    },
    {
     "name": "stderr",
     "output_type": "stream",
     "text": [
      "\r",
      " 87%|████████▋ | 996/1148 [1:01:32<08:17,  3.27s/it]"
     ]
    },
    {
     "name": "stdout",
     "output_type": "stream",
     "text": [
      "-3\n"
     ]
    },
    {
     "name": "stderr",
     "output_type": "stream",
     "text": [
      "\r",
      " 87%|████████▋ | 997/1148 [1:01:36<08:30,  3.38s/it]"
     ]
    },
    {
     "name": "stdout",
     "output_type": "stream",
     "text": [
      "-1\n"
     ]
    },
    {
     "name": "stderr",
     "output_type": "stream",
     "text": [
      "\r",
      " 87%|████████▋ | 998/1148 [1:01:39<08:28,  3.39s/it]"
     ]
    },
    {
     "name": "stdout",
     "output_type": "stream",
     "text": [
      "-3\n"
     ]
    },
    {
     "name": "stderr",
     "output_type": "stream",
     "text": [
      "\r",
      " 87%|████████▋ | 999/1148 [1:01:42<08:00,  3.22s/it]"
     ]
    },
    {
     "name": "stdout",
     "output_type": "stream",
     "text": [
      "-2\n"
     ]
    },
    {
     "name": "stderr",
     "output_type": "stream",
     "text": [
      "\r",
      " 87%|████████▋ | 1000/1148 [1:01:46<08:22,  3.40s/it]"
     ]
    },
    {
     "name": "stdout",
     "output_type": "stream",
     "text": [
      "-2\n"
     ]
    },
    {
     "name": "stderr",
     "output_type": "stream",
     "text": [
      "\r",
      " 87%|████████▋ | 1001/1148 [1:01:49<08:15,  3.37s/it]"
     ]
    },
    {
     "name": "stdout",
     "output_type": "stream",
     "text": [
      "-3\n"
     ]
    },
    {
     "name": "stderr",
     "output_type": "stream",
     "text": [
      "\r",
      " 87%|████████▋ | 1002/1148 [1:01:52<07:56,  3.26s/it]"
     ]
    },
    {
     "name": "stdout",
     "output_type": "stream",
     "text": [
      "-1\n"
     ]
    },
    {
     "name": "stderr",
     "output_type": "stream",
     "text": [
      "\r",
      " 87%|████████▋ | 1003/1148 [1:01:55<07:53,  3.26s/it]"
     ]
    },
    {
     "name": "stdout",
     "output_type": "stream",
     "text": [
      "-1\n"
     ]
    },
    {
     "name": "stderr",
     "output_type": "stream",
     "text": [
      "\r",
      " 87%|████████▋ | 1004/1148 [1:01:59<08:02,  3.35s/it]"
     ]
    },
    {
     "name": "stdout",
     "output_type": "stream",
     "text": [
      "-4\n"
     ]
    },
    {
     "name": "stderr",
     "output_type": "stream",
     "text": [
      "\r",
      " 88%|████████▊ | 1005/1148 [1:02:02<07:42,  3.23s/it]"
     ]
    },
    {
     "name": "stdout",
     "output_type": "stream",
     "text": [
      "-4\n"
     ]
    },
    {
     "name": "stderr",
     "output_type": "stream",
     "text": [
      "\r",
      " 88%|████████▊ | 1006/1148 [1:02:05<07:48,  3.30s/it]"
     ]
    },
    {
     "name": "stdout",
     "output_type": "stream",
     "text": [
      "-6\n"
     ]
    },
    {
     "name": "stderr",
     "output_type": "stream",
     "text": [
      "\r",
      " 88%|████████▊ | 1007/1148 [1:02:09<07:49,  3.33s/it]"
     ]
    },
    {
     "name": "stdout",
     "output_type": "stream",
     "text": [
      "-6\n"
     ]
    },
    {
     "name": "stderr",
     "output_type": "stream",
     "text": [
      "\r",
      " 88%|████████▊ | 1008/1148 [1:02:12<07:44,  3.32s/it]"
     ]
    },
    {
     "name": "stdout",
     "output_type": "stream",
     "text": [
      "-6\n"
     ]
    },
    {
     "name": "stderr",
     "output_type": "stream",
     "text": [
      "\r",
      " 88%|████████▊ | 1009/1148 [1:02:15<07:37,  3.29s/it]"
     ]
    },
    {
     "name": "stdout",
     "output_type": "stream",
     "text": [
      "-3\n"
     ]
    },
    {
     "name": "stderr",
     "output_type": "stream",
     "text": [
      "\r",
      " 88%|████████▊ | 1010/1148 [1:02:19<07:49,  3.40s/it]"
     ]
    },
    {
     "name": "stdout",
     "output_type": "stream",
     "text": [
      "-6\n"
     ]
    },
    {
     "name": "stderr",
     "output_type": "stream",
     "text": [
      "\r",
      " 88%|████████▊ | 1011/1148 [1:02:22<07:47,  3.41s/it]"
     ]
    },
    {
     "name": "stdout",
     "output_type": "stream",
     "text": [
      "0\n"
     ]
    },
    {
     "name": "stderr",
     "output_type": "stream",
     "text": [
      "\r",
      " 88%|████████▊ | 1012/1148 [1:02:26<07:49,  3.46s/it]"
     ]
    },
    {
     "name": "stdout",
     "output_type": "stream",
     "text": [
      "-7\n"
     ]
    },
    {
     "name": "stderr",
     "output_type": "stream",
     "text": [
      "\r",
      " 88%|████████▊ | 1013/1148 [1:02:29<07:26,  3.31s/it]"
     ]
    },
    {
     "name": "stdout",
     "output_type": "stream",
     "text": [
      "-7\n"
     ]
    },
    {
     "name": "stderr",
     "output_type": "stream",
     "text": [
      "\r",
      " 88%|████████▊ | 1014/1148 [1:02:32<07:07,  3.19s/it]"
     ]
    },
    {
     "name": "stdout",
     "output_type": "stream",
     "text": [
      "-4\n"
     ]
    },
    {
     "name": "stderr",
     "output_type": "stream",
     "text": [
      "\r",
      " 88%|████████▊ | 1015/1148 [1:02:34<06:26,  2.91s/it]"
     ]
    },
    {
     "name": "stdout",
     "output_type": "stream",
     "text": [
      "-1\n"
     ]
    },
    {
     "name": "stderr",
     "output_type": "stream",
     "text": [
      "\r",
      " 89%|████████▊ | 1016/1148 [1:02:38<07:03,  3.21s/it]"
     ]
    },
    {
     "name": "stdout",
     "output_type": "stream",
     "text": [
      "-6\n"
     ]
    },
    {
     "name": "stderr",
     "output_type": "stream",
     "text": [
      "\r",
      " 89%|████████▊ | 1017/1148 [1:02:42<07:19,  3.35s/it]"
     ]
    },
    {
     "name": "stdout",
     "output_type": "stream",
     "text": [
      "-3\n"
     ]
    },
    {
     "name": "stderr",
     "output_type": "stream",
     "text": [
      "\r",
      " 89%|████████▊ | 1018/1148 [1:02:45<07:23,  3.41s/it]"
     ]
    },
    {
     "name": "stdout",
     "output_type": "stream",
     "text": [
      "-1\n"
     ]
    },
    {
     "name": "stderr",
     "output_type": "stream",
     "text": [
      "\r",
      " 89%|████████▉ | 1019/1148 [1:02:49<07:20,  3.41s/it]"
     ]
    },
    {
     "name": "stdout",
     "output_type": "stream",
     "text": [
      "-6\n"
     ]
    },
    {
     "name": "stderr",
     "output_type": "stream",
     "text": [
      "\r",
      " 89%|████████▉ | 1020/1148 [1:02:52<07:01,  3.29s/it]"
     ]
    },
    {
     "name": "stdout",
     "output_type": "stream",
     "text": [
      "-6\n"
     ]
    },
    {
     "name": "stderr",
     "output_type": "stream",
     "text": [
      "\r",
      " 89%|████████▉ | 1021/1148 [1:02:55<07:24,  3.50s/it]"
     ]
    },
    {
     "name": "stdout",
     "output_type": "stream",
     "text": [
      "-4\n"
     ]
    },
    {
     "name": "stderr",
     "output_type": "stream",
     "text": [
      "\r",
      " 89%|████████▉ | 1022/1148 [1:02:59<07:33,  3.60s/it]"
     ]
    },
    {
     "name": "stdout",
     "output_type": "stream",
     "text": [
      "-4\n"
     ]
    },
    {
     "name": "stderr",
     "output_type": "stream",
     "text": [
      "\r",
      " 89%|████████▉ | 1023/1148 [1:03:03<07:35,  3.65s/it]"
     ]
    },
    {
     "name": "stdout",
     "output_type": "stream",
     "text": [
      "-3\n"
     ]
    },
    {
     "name": "stderr",
     "output_type": "stream",
     "text": [
      "\r",
      " 89%|████████▉ | 1024/1148 [1:03:07<07:32,  3.65s/it]"
     ]
    },
    {
     "name": "stdout",
     "output_type": "stream",
     "text": [
      "-3\n"
     ]
    },
    {
     "name": "stderr",
     "output_type": "stream",
     "text": [
      "\r",
      " 89%|████████▉ | 1025/1148 [1:03:10<07:24,  3.61s/it]"
     ]
    },
    {
     "name": "stdout",
     "output_type": "stream",
     "text": [
      "-6\n"
     ]
    },
    {
     "name": "stderr",
     "output_type": "stream",
     "text": [
      "\r",
      " 89%|████████▉ | 1026/1148 [1:03:13<07:05,  3.49s/it]"
     ]
    },
    {
     "name": "stdout",
     "output_type": "stream",
     "text": [
      "-3\n"
     ]
    },
    {
     "name": "stderr",
     "output_type": "stream",
     "text": [
      "\r",
      " 89%|████████▉ | 1027/1148 [1:03:18<07:24,  3.67s/it]"
     ]
    },
    {
     "name": "stdout",
     "output_type": "stream",
     "text": [
      "-5\n"
     ]
    },
    {
     "name": "stderr",
     "output_type": "stream",
     "text": [
      "\r",
      " 90%|████████▉ | 1028/1148 [1:03:21<06:57,  3.48s/it]"
     ]
    },
    {
     "name": "stdout",
     "output_type": "stream",
     "text": [
      "-2\n"
     ]
    },
    {
     "name": "stderr",
     "output_type": "stream",
     "text": [
      "\r",
      " 90%|████████▉ | 1029/1148 [1:03:24<06:58,  3.52s/it]"
     ]
    },
    {
     "name": "stdout",
     "output_type": "stream",
     "text": [
      "-3\n"
     ]
    },
    {
     "name": "stderr",
     "output_type": "stream",
     "text": [
      "\r",
      " 90%|████████▉ | 1030/1148 [1:03:28<06:48,  3.47s/it]"
     ]
    },
    {
     "name": "stdout",
     "output_type": "stream",
     "text": [
      "-4\n"
     ]
    },
    {
     "name": "stderr",
     "output_type": "stream",
     "text": [
      "\r",
      " 90%|████████▉ | 1031/1148 [1:03:32<07:15,  3.72s/it]"
     ]
    },
    {
     "name": "stdout",
     "output_type": "stream",
     "text": [
      "-9\n"
     ]
    },
    {
     "name": "stderr",
     "output_type": "stream",
     "text": [
      "\r",
      " 90%|████████▉ | 1032/1148 [1:03:35<06:52,  3.56s/it]"
     ]
    },
    {
     "name": "stdout",
     "output_type": "stream",
     "text": [
      "-2\n"
     ]
    },
    {
     "name": "stderr",
     "output_type": "stream",
     "text": [
      "\r",
      " 90%|████████▉ | 1033/1148 [1:03:38<06:45,  3.52s/it]"
     ]
    },
    {
     "name": "stdout",
     "output_type": "stream",
     "text": [
      "-4\n"
     ]
    },
    {
     "name": "stderr",
     "output_type": "stream",
     "text": [
      "\r",
      " 90%|█████████ | 1034/1148 [1:03:42<06:53,  3.63s/it]"
     ]
    },
    {
     "name": "stdout",
     "output_type": "stream",
     "text": [
      "-3\n"
     ]
    },
    {
     "name": "stderr",
     "output_type": "stream",
     "text": [
      "\r",
      " 90%|█████████ | 1035/1148 [1:03:45<06:28,  3.44s/it]"
     ]
    },
    {
     "name": "stdout",
     "output_type": "stream",
     "text": [
      "-2\n"
     ]
    },
    {
     "name": "stderr",
     "output_type": "stream",
     "text": [
      "\r",
      " 90%|█████████ | 1036/1148 [1:03:49<06:24,  3.43s/it]"
     ]
    },
    {
     "name": "stdout",
     "output_type": "stream",
     "text": [
      "-1\n"
     ]
    },
    {
     "name": "stderr",
     "output_type": "stream",
     "text": [
      "\r",
      " 90%|█████████ | 1037/1148 [1:03:52<06:16,  3.39s/it]"
     ]
    },
    {
     "name": "stdout",
     "output_type": "stream",
     "text": [
      "-2\n"
     ]
    },
    {
     "name": "stderr",
     "output_type": "stream",
     "text": [
      "\r",
      " 90%|█████████ | 1038/1148 [1:03:55<05:58,  3.26s/it]"
     ]
    },
    {
     "name": "stdout",
     "output_type": "stream",
     "text": [
      "-5\n"
     ]
    },
    {
     "name": "stderr",
     "output_type": "stream",
     "text": [
      "\r",
      " 91%|█████████ | 1039/1148 [1:03:59<06:11,  3.41s/it]"
     ]
    },
    {
     "name": "stdout",
     "output_type": "stream",
     "text": [
      "0\n"
     ]
    },
    {
     "name": "stderr",
     "output_type": "stream",
     "text": [
      "\r",
      " 91%|█████████ | 1040/1148 [1:04:02<06:09,  3.42s/it]"
     ]
    },
    {
     "name": "stdout",
     "output_type": "stream",
     "text": [
      "-8\n"
     ]
    },
    {
     "name": "stderr",
     "output_type": "stream",
     "text": [
      "\r",
      " 91%|█████████ | 1041/1148 [1:04:06<06:04,  3.41s/it]"
     ]
    },
    {
     "name": "stdout",
     "output_type": "stream",
     "text": [
      "-8\n"
     ]
    },
    {
     "name": "stderr",
     "output_type": "stream",
     "text": [
      "\r",
      " 91%|█████████ | 1042/1148 [1:04:09<06:11,  3.51s/it]"
     ]
    },
    {
     "name": "stdout",
     "output_type": "stream",
     "text": [
      "-1\n"
     ]
    },
    {
     "name": "stderr",
     "output_type": "stream",
     "text": [
      "\r",
      " 91%|█████████ | 1043/1148 [1:04:12<05:54,  3.38s/it]"
     ]
    },
    {
     "name": "stdout",
     "output_type": "stream",
     "text": [
      "-4\n"
     ]
    },
    {
     "name": "stderr",
     "output_type": "stream",
     "text": [
      "\r",
      " 91%|█████████ | 1044/1148 [1:04:16<05:45,  3.32s/it]"
     ]
    },
    {
     "name": "stdout",
     "output_type": "stream",
     "text": [
      "-4\n"
     ]
    },
    {
     "name": "stderr",
     "output_type": "stream",
     "text": [
      "\r",
      " 91%|█████████ | 1045/1148 [1:04:19<05:39,  3.30s/it]"
     ]
    },
    {
     "name": "stdout",
     "output_type": "stream",
     "text": [
      "-5\n"
     ]
    },
    {
     "name": "stderr",
     "output_type": "stream",
     "text": [
      "\r",
      " 91%|█████████ | 1046/1148 [1:04:23<05:51,  3.45s/it]"
     ]
    },
    {
     "name": "stdout",
     "output_type": "stream",
     "text": [
      "-1\n"
     ]
    },
    {
     "name": "stderr",
     "output_type": "stream",
     "text": [
      "\r",
      " 91%|█████████ | 1047/1148 [1:04:28<06:33,  3.89s/it]"
     ]
    },
    {
     "name": "stdout",
     "output_type": "stream",
     "text": [
      "-3\n"
     ]
    },
    {
     "name": "stderr",
     "output_type": "stream",
     "text": [
      "\r",
      " 91%|█████████▏| 1048/1148 [1:04:31<06:09,  3.70s/it]"
     ]
    },
    {
     "name": "stdout",
     "output_type": "stream",
     "text": [
      "-8\n"
     ]
    },
    {
     "name": "stderr",
     "output_type": "stream",
     "text": [
      "\r",
      " 91%|█████████▏| 1049/1148 [1:04:35<06:17,  3.81s/it]"
     ]
    },
    {
     "name": "stdout",
     "output_type": "stream",
     "text": [
      "-5\n"
     ]
    },
    {
     "name": "stderr",
     "output_type": "stream",
     "text": [
      "\r",
      " 91%|█████████▏| 1050/1148 [1:04:38<06:02,  3.70s/it]"
     ]
    },
    {
     "name": "stdout",
     "output_type": "stream",
     "text": [
      "-4\n"
     ]
    },
    {
     "name": "stderr",
     "output_type": "stream",
     "text": [
      "\r",
      " 92%|█████████▏| 1051/1148 [1:04:42<05:49,  3.60s/it]"
     ]
    },
    {
     "name": "stdout",
     "output_type": "stream",
     "text": [
      "-3\n"
     ]
    },
    {
     "name": "stderr",
     "output_type": "stream",
     "text": [
      "\r",
      " 92%|█████████▏| 1052/1148 [1:04:45<05:26,  3.40s/it]"
     ]
    },
    {
     "name": "stdout",
     "output_type": "stream",
     "text": [
      "-2\n"
     ]
    },
    {
     "name": "stderr",
     "output_type": "stream",
     "text": [
      "\r",
      " 92%|█████████▏| 1053/1148 [1:04:49<05:52,  3.71s/it]"
     ]
    },
    {
     "name": "stdout",
     "output_type": "stream",
     "text": [
      "-6\n"
     ]
    },
    {
     "name": "stderr",
     "output_type": "stream",
     "text": [
      "\r",
      " 92%|█████████▏| 1054/1148 [1:04:53<05:41,  3.64s/it]"
     ]
    },
    {
     "name": "stdout",
     "output_type": "stream",
     "text": [
      "-2\n"
     ]
    },
    {
     "name": "stderr",
     "output_type": "stream",
     "text": [
      "\r",
      " 92%|█████████▏| 1055/1148 [1:04:56<05:27,  3.52s/it]"
     ]
    },
    {
     "name": "stdout",
     "output_type": "stream",
     "text": [
      "-6\n"
     ]
    },
    {
     "name": "stderr",
     "output_type": "stream",
     "text": [
      "\r",
      " 92%|█████████▏| 1056/1148 [1:04:59<05:19,  3.47s/it]"
     ]
    },
    {
     "name": "stdout",
     "output_type": "stream",
     "text": [
      "-1\n"
     ]
    },
    {
     "name": "stderr",
     "output_type": "stream",
     "text": [
      "\r",
      " 92%|█████████▏| 1057/1148 [1:05:03<05:24,  3.56s/it]"
     ]
    },
    {
     "name": "stdout",
     "output_type": "stream",
     "text": [
      "-2\n"
     ]
    },
    {
     "name": "stderr",
     "output_type": "stream",
     "text": [
      "\r",
      " 92%|█████████▏| 1058/1148 [1:05:06<05:16,  3.52s/it]"
     ]
    },
    {
     "name": "stdout",
     "output_type": "stream",
     "text": [
      "1\n"
     ]
    },
    {
     "name": "stderr",
     "output_type": "stream",
     "text": [
      "\r",
      " 92%|█████████▏| 1059/1148 [1:05:10<05:10,  3.49s/it]"
     ]
    },
    {
     "name": "stdout",
     "output_type": "stream",
     "text": [
      "-2\n"
     ]
    },
    {
     "name": "stderr",
     "output_type": "stream",
     "text": [
      "\r",
      " 92%|█████████▏| 1060/1148 [1:05:14<05:37,  3.84s/it]"
     ]
    },
    {
     "name": "stdout",
     "output_type": "stream",
     "text": [
      "5\n"
     ]
    },
    {
     "name": "stderr",
     "output_type": "stream",
     "text": [
      "\r",
      " 92%|█████████▏| 1061/1148 [1:05:17<05:13,  3.60s/it]"
     ]
    },
    {
     "name": "stdout",
     "output_type": "stream",
     "text": [
      "-2\n"
     ]
    },
    {
     "name": "stderr",
     "output_type": "stream",
     "text": [
      "\r",
      " 93%|█████████▎| 1062/1148 [1:05:21<05:04,  3.54s/it]"
     ]
    },
    {
     "name": "stdout",
     "output_type": "stream",
     "text": [
      "1\n"
     ]
    },
    {
     "name": "stderr",
     "output_type": "stream",
     "text": [
      "\r",
      " 93%|█████████▎| 1063/1148 [1:05:25<05:11,  3.66s/it]"
     ]
    },
    {
     "name": "stdout",
     "output_type": "stream",
     "text": [
      "-2\n"
     ]
    },
    {
     "name": "stderr",
     "output_type": "stream",
     "text": [
      "\r",
      " 93%|█████████▎| 1064/1148 [1:05:29<05:09,  3.69s/it]"
     ]
    },
    {
     "name": "stdout",
     "output_type": "stream",
     "text": [
      "-6\n"
     ]
    },
    {
     "name": "stderr",
     "output_type": "stream",
     "text": [
      "\r",
      " 93%|█████████▎| 1065/1148 [1:05:33<05:15,  3.81s/it]"
     ]
    },
    {
     "name": "stdout",
     "output_type": "stream",
     "text": [
      "-3\n"
     ]
    },
    {
     "name": "stderr",
     "output_type": "stream",
     "text": [
      "\r",
      " 93%|█████████▎| 1066/1148 [1:05:36<04:51,  3.55s/it]"
     ]
    },
    {
     "name": "stdout",
     "output_type": "stream",
     "text": [
      "-4\n"
     ]
    },
    {
     "name": "stderr",
     "output_type": "stream",
     "text": [
      "\r",
      " 93%|█████████▎| 1067/1148 [1:05:39<04:47,  3.54s/it]"
     ]
    },
    {
     "name": "stdout",
     "output_type": "stream",
     "text": [
      "-7\n"
     ]
    },
    {
     "name": "stderr",
     "output_type": "stream",
     "text": [
      "\r",
      " 93%|█████████▎| 1068/1148 [1:05:43<04:39,  3.50s/it]"
     ]
    },
    {
     "name": "stdout",
     "output_type": "stream",
     "text": [
      "-4\n"
     ]
    },
    {
     "name": "stderr",
     "output_type": "stream",
     "text": [
      "\r",
      " 93%|█████████▎| 1069/1148 [1:05:46<04:24,  3.35s/it]"
     ]
    },
    {
     "name": "stdout",
     "output_type": "stream",
     "text": [
      "-5\n"
     ]
    },
    {
     "name": "stderr",
     "output_type": "stream",
     "text": [
      "\r",
      " 93%|█████████▎| 1070/1148 [1:05:48<04:12,  3.23s/it]"
     ]
    },
    {
     "name": "stdout",
     "output_type": "stream",
     "text": [
      "-3\n"
     ]
    },
    {
     "name": "stderr",
     "output_type": "stream",
     "text": [
      "\r",
      " 93%|█████████▎| 1071/1148 [1:05:52<04:11,  3.27s/it]"
     ]
    },
    {
     "name": "stdout",
     "output_type": "stream",
     "text": [
      "-4\n"
     ]
    },
    {
     "name": "stderr",
     "output_type": "stream",
     "text": [
      "\r",
      " 93%|█████████▎| 1072/1148 [1:05:55<04:03,  3.20s/it]"
     ]
    },
    {
     "name": "stdout",
     "output_type": "stream",
     "text": [
      "-6\n"
     ]
    },
    {
     "name": "stderr",
     "output_type": "stream",
     "text": [
      "\r",
      " 93%|█████████▎| 1073/1148 [1:05:58<03:57,  3.17s/it]"
     ]
    },
    {
     "name": "stdout",
     "output_type": "stream",
     "text": [
      "-7\n"
     ]
    },
    {
     "name": "stderr",
     "output_type": "stream",
     "text": [
      "\r",
      " 94%|█████████▎| 1074/1148 [1:06:01<03:55,  3.18s/it]"
     ]
    },
    {
     "name": "stdout",
     "output_type": "stream",
     "text": [
      "-2\n"
     ]
    },
    {
     "name": "stderr",
     "output_type": "stream",
     "text": [
      "\r",
      " 94%|█████████▎| 1075/1148 [1:06:04<03:55,  3.22s/it]"
     ]
    },
    {
     "name": "stdout",
     "output_type": "stream",
     "text": [
      "-3\n"
     ]
    },
    {
     "name": "stderr",
     "output_type": "stream",
     "text": [
      "\r",
      " 94%|█████████▎| 1076/1148 [1:06:07<03:44,  3.11s/it]"
     ]
    },
    {
     "name": "stdout",
     "output_type": "stream",
     "text": [
      "-6\n"
     ]
    },
    {
     "name": "stderr",
     "output_type": "stream",
     "text": [
      "\r",
      " 94%|█████████▍| 1077/1148 [1:06:11<03:49,  3.23s/it]"
     ]
    },
    {
     "name": "stdout",
     "output_type": "stream",
     "text": [
      "-4\n"
     ]
    },
    {
     "name": "stderr",
     "output_type": "stream",
     "text": [
      "\r",
      " 94%|█████████▍| 1078/1148 [1:06:15<03:57,  3.39s/it]"
     ]
    },
    {
     "name": "stdout",
     "output_type": "stream",
     "text": [
      "-4\n"
     ]
    },
    {
     "name": "stderr",
     "output_type": "stream",
     "text": [
      "\r",
      " 94%|█████████▍| 1079/1148 [1:06:18<03:59,  3.47s/it]"
     ]
    },
    {
     "name": "stdout",
     "output_type": "stream",
     "text": [
      "-5\n"
     ]
    },
    {
     "name": "stderr",
     "output_type": "stream",
     "text": [
      "\r",
      " 94%|█████████▍| 1080/1148 [1:06:21<03:45,  3.32s/it]"
     ]
    },
    {
     "name": "stdout",
     "output_type": "stream",
     "text": [
      "-4\n"
     ]
    },
    {
     "name": "stderr",
     "output_type": "stream",
     "text": [
      "\r",
      " 94%|█████████▍| 1081/1148 [1:06:25<03:43,  3.34s/it]"
     ]
    },
    {
     "name": "stdout",
     "output_type": "stream",
     "text": [
      "-5\n"
     ]
    },
    {
     "name": "stderr",
     "output_type": "stream",
     "text": [
      "\r",
      " 94%|█████████▍| 1082/1148 [1:06:29<03:51,  3.50s/it]"
     ]
    },
    {
     "name": "stdout",
     "output_type": "stream",
     "text": [
      "-5\n"
     ]
    },
    {
     "name": "stderr",
     "output_type": "stream",
     "text": [
      "\r",
      " 94%|█████████▍| 1083/1148 [1:06:33<04:00,  3.71s/it]"
     ]
    },
    {
     "name": "stdout",
     "output_type": "stream",
     "text": [
      "-4\n"
     ]
    },
    {
     "name": "stderr",
     "output_type": "stream",
     "text": [
      "\r",
      " 94%|█████████▍| 1084/1148 [1:06:36<03:54,  3.67s/it]"
     ]
    },
    {
     "name": "stdout",
     "output_type": "stream",
     "text": [
      "-1\n"
     ]
    },
    {
     "name": "stderr",
     "output_type": "stream",
     "text": [
      "\r",
      " 95%|█████████▍| 1085/1148 [1:06:40<03:56,  3.76s/it]"
     ]
    },
    {
     "name": "stdout",
     "output_type": "stream",
     "text": [
      "-3\n"
     ]
    },
    {
     "name": "stderr",
     "output_type": "stream",
     "text": [
      "\r",
      " 95%|█████████▍| 1086/1148 [1:06:44<03:55,  3.79s/it]"
     ]
    },
    {
     "name": "stdout",
     "output_type": "stream",
     "text": [
      "-4\n"
     ]
    },
    {
     "name": "stderr",
     "output_type": "stream",
     "text": [
      "\r",
      " 95%|█████████▍| 1087/1148 [1:06:47<03:43,  3.66s/it]"
     ]
    },
    {
     "name": "stdout",
     "output_type": "stream",
     "text": [
      "-4\n"
     ]
    },
    {
     "name": "stderr",
     "output_type": "stream",
     "text": [
      "\r",
      " 95%|█████████▍| 1088/1148 [1:06:51<03:39,  3.66s/it]"
     ]
    },
    {
     "name": "stdout",
     "output_type": "stream",
     "text": [
      "-4\n"
     ]
    },
    {
     "name": "stderr",
     "output_type": "stream",
     "text": [
      "\r",
      " 95%|█████████▍| 1089/1148 [1:06:54<03:21,  3.42s/it]"
     ]
    },
    {
     "name": "stdout",
     "output_type": "stream",
     "text": [
      "-5\n"
     ]
    },
    {
     "name": "stderr",
     "output_type": "stream",
     "text": [
      "\r",
      " 95%|█████████▍| 1090/1148 [1:06:57<03:09,  3.27s/it]"
     ]
    },
    {
     "name": "stdout",
     "output_type": "stream",
     "text": [
      "-2\n"
     ]
    },
    {
     "name": "stderr",
     "output_type": "stream",
     "text": [
      "\r",
      " 95%|█████████▌| 1091/1148 [1:07:01<03:14,  3.41s/it]"
     ]
    },
    {
     "name": "stdout",
     "output_type": "stream",
     "text": [
      "-4\n"
     ]
    },
    {
     "name": "stderr",
     "output_type": "stream",
     "text": [
      "\r",
      " 95%|█████████▌| 1092/1148 [1:07:04<03:15,  3.50s/it]"
     ]
    },
    {
     "name": "stdout",
     "output_type": "stream",
     "text": [
      "-3\n"
     ]
    },
    {
     "name": "stderr",
     "output_type": "stream",
     "text": [
      "\r",
      " 95%|█████████▌| 1093/1148 [1:07:08<03:09,  3.45s/it]"
     ]
    },
    {
     "name": "stdout",
     "output_type": "stream",
     "text": [
      "-5\n"
     ]
    },
    {
     "name": "stderr",
     "output_type": "stream",
     "text": [
      "\r",
      " 95%|█████████▌| 1094/1148 [1:07:11<03:03,  3.40s/it]"
     ]
    },
    {
     "name": "stdout",
     "output_type": "stream",
     "text": [
      "-7\n"
     ]
    },
    {
     "name": "stderr",
     "output_type": "stream",
     "text": [
      "\r",
      " 95%|█████████▌| 1095/1148 [1:07:15<03:03,  3.45s/it]"
     ]
    },
    {
     "name": "stdout",
     "output_type": "stream",
     "text": [
      "-7\n"
     ]
    },
    {
     "name": "stderr",
     "output_type": "stream",
     "text": [
      "\r",
      " 95%|█████████▌| 1096/1148 [1:07:18<03:03,  3.53s/it]"
     ]
    },
    {
     "name": "stdout",
     "output_type": "stream",
     "text": [
      "-5\n"
     ]
    },
    {
     "name": "stderr",
     "output_type": "stream",
     "text": [
      "\r",
      " 96%|█████████▌| 1097/1148 [1:07:21<02:53,  3.41s/it]"
     ]
    },
    {
     "name": "stdout",
     "output_type": "stream",
     "text": [
      "-3\n"
     ]
    },
    {
     "name": "stderr",
     "output_type": "stream",
     "text": [
      "\r",
      " 96%|█████████▌| 1098/1148 [1:07:24<02:45,  3.31s/it]"
     ]
    },
    {
     "name": "stdout",
     "output_type": "stream",
     "text": [
      "-7\n"
     ]
    },
    {
     "name": "stderr",
     "output_type": "stream",
     "text": [
      "\r",
      " 96%|█████████▌| 1099/1148 [1:07:29<02:54,  3.56s/it]"
     ]
    },
    {
     "name": "stdout",
     "output_type": "stream",
     "text": [
      "-6\n"
     ]
    },
    {
     "name": "stderr",
     "output_type": "stream",
     "text": [
      "\r",
      " 96%|█████████▌| 1100/1148 [1:07:32<02:43,  3.40s/it]"
     ]
    },
    {
     "name": "stdout",
     "output_type": "stream",
     "text": [
      "-4\n"
     ]
    },
    {
     "name": "stderr",
     "output_type": "stream",
     "text": [
      "\r",
      " 96%|█████████▌| 1101/1148 [1:07:35<02:36,  3.32s/it]"
     ]
    },
    {
     "name": "stdout",
     "output_type": "stream",
     "text": [
      "-4\n"
     ]
    },
    {
     "name": "stderr",
     "output_type": "stream",
     "text": [
      "\r",
      " 96%|█████████▌| 1102/1148 [1:07:38<02:28,  3.23s/it]"
     ]
    },
    {
     "name": "stdout",
     "output_type": "stream",
     "text": [
      "-6\n"
     ]
    },
    {
     "name": "stderr",
     "output_type": "stream",
     "text": [
      "\r",
      " 96%|█████████▌| 1103/1148 [1:07:41<02:26,  3.26s/it]"
     ]
    },
    {
     "name": "stdout",
     "output_type": "stream",
     "text": [
      "-4\n"
     ]
    },
    {
     "name": "stderr",
     "output_type": "stream",
     "text": [
      "\r",
      " 96%|█████████▌| 1104/1148 [1:07:44<02:19,  3.18s/it]"
     ]
    },
    {
     "name": "stdout",
     "output_type": "stream",
     "text": [
      "-2\n"
     ]
    },
    {
     "name": "stderr",
     "output_type": "stream",
     "text": [
      "\r",
      " 96%|█████████▋| 1105/1148 [1:07:48<02:21,  3.29s/it]"
     ]
    },
    {
     "name": "stdout",
     "output_type": "stream",
     "text": [
      "-3\n"
     ]
    },
    {
     "name": "stderr",
     "output_type": "stream",
     "text": [
      "\r",
      " 96%|█████████▋| 1106/1148 [1:07:51<02:18,  3.30s/it]"
     ]
    },
    {
     "name": "stdout",
     "output_type": "stream",
     "text": [
      "-4\n"
     ]
    },
    {
     "name": "stderr",
     "output_type": "stream",
     "text": [
      "\r",
      " 96%|█████████▋| 1107/1148 [1:07:55<02:20,  3.43s/it]"
     ]
    },
    {
     "name": "stdout",
     "output_type": "stream",
     "text": [
      "-5\n"
     ]
    },
    {
     "name": "stderr",
     "output_type": "stream",
     "text": [
      "\r",
      " 97%|█████████▋| 1108/1148 [1:07:58<02:14,  3.37s/it]"
     ]
    },
    {
     "name": "stdout",
     "output_type": "stream",
     "text": [
      "-5\n"
     ]
    },
    {
     "name": "stderr",
     "output_type": "stream",
     "text": [
      "\r",
      " 97%|█████████▋| 1109/1148 [1:08:01<02:08,  3.31s/it]"
     ]
    },
    {
     "name": "stdout",
     "output_type": "stream",
     "text": [
      "-3\n"
     ]
    },
    {
     "name": "stderr",
     "output_type": "stream",
     "text": [
      "\r",
      " 97%|█████████▋| 1110/1148 [1:08:04<02:06,  3.33s/it]"
     ]
    },
    {
     "name": "stdout",
     "output_type": "stream",
     "text": [
      "-3\n"
     ]
    },
    {
     "name": "stderr",
     "output_type": "stream",
     "text": [
      "\r",
      " 97%|█████████▋| 1111/1148 [1:08:08<02:03,  3.35s/it]"
     ]
    },
    {
     "name": "stdout",
     "output_type": "stream",
     "text": [
      "-3\n"
     ]
    },
    {
     "name": "stderr",
     "output_type": "stream",
     "text": [
      "\r",
      " 97%|█████████▋| 1112/1148 [1:08:11<02:00,  3.35s/it]"
     ]
    },
    {
     "name": "stdout",
     "output_type": "stream",
     "text": [
      "-5\n"
     ]
    },
    {
     "name": "stderr",
     "output_type": "stream",
     "text": [
      "\r",
      " 97%|█████████▋| 1113/1148 [1:08:15<02:00,  3.45s/it]"
     ]
    },
    {
     "name": "stdout",
     "output_type": "stream",
     "text": [
      "-3\n"
     ]
    },
    {
     "name": "stderr",
     "output_type": "stream",
     "text": [
      "\r",
      " 97%|█████████▋| 1114/1148 [1:08:18<01:53,  3.35s/it]"
     ]
    },
    {
     "name": "stdout",
     "output_type": "stream",
     "text": [
      "-6\n"
     ]
    },
    {
     "name": "stderr",
     "output_type": "stream",
     "text": [
      "\r",
      " 97%|█████████▋| 1115/1148 [1:08:21<01:46,  3.23s/it]"
     ]
    },
    {
     "name": "stdout",
     "output_type": "stream",
     "text": [
      "-10\n"
     ]
    },
    {
     "name": "stderr",
     "output_type": "stream",
     "text": [
      "\r",
      " 97%|█████████▋| 1116/1148 [1:08:24<01:40,  3.13s/it]"
     ]
    },
    {
     "name": "stdout",
     "output_type": "stream",
     "text": [
      "-2\n"
     ]
    },
    {
     "name": "stderr",
     "output_type": "stream",
     "text": [
      "\r",
      " 97%|█████████▋| 1117/1148 [1:08:27<01:34,  3.06s/it]"
     ]
    },
    {
     "name": "stdout",
     "output_type": "stream",
     "text": [
      "-2\n"
     ]
    },
    {
     "name": "stderr",
     "output_type": "stream",
     "text": [
      "\r",
      " 97%|█████████▋| 1118/1148 [1:08:30<01:37,  3.25s/it]"
     ]
    },
    {
     "name": "stdout",
     "output_type": "stream",
     "text": [
      "-5\n"
     ]
    },
    {
     "name": "stderr",
     "output_type": "stream",
     "text": [
      "\r",
      " 97%|█████████▋| 1119/1148 [1:08:34<01:37,  3.34s/it]"
     ]
    },
    {
     "name": "stdout",
     "output_type": "stream",
     "text": [
      "-6\n"
     ]
    },
    {
     "name": "stderr",
     "output_type": "stream",
     "text": [
      "\r",
      " 98%|█████████▊| 1120/1148 [1:08:38<01:35,  3.40s/it]"
     ]
    },
    {
     "name": "stdout",
     "output_type": "stream",
     "text": [
      "-5\n"
     ]
    },
    {
     "name": "stderr",
     "output_type": "stream",
     "text": [
      "\r",
      " 98%|█████████▊| 1121/1148 [1:08:41<01:31,  3.37s/it]"
     ]
    },
    {
     "name": "stdout",
     "output_type": "stream",
     "text": [
      "-4\n"
     ]
    },
    {
     "name": "stderr",
     "output_type": "stream",
     "text": [
      "\r",
      " 98%|█████████▊| 1122/1148 [1:08:44<01:25,  3.27s/it]"
     ]
    },
    {
     "name": "stdout",
     "output_type": "stream",
     "text": [
      "-1\n"
     ]
    },
    {
     "name": "stderr",
     "output_type": "stream",
     "text": [
      "\r",
      " 98%|█████████▊| 1123/1148 [1:08:48<01:27,  3.51s/it]"
     ]
    },
    {
     "name": "stdout",
     "output_type": "stream",
     "text": [
      "-3\n"
     ]
    },
    {
     "name": "stderr",
     "output_type": "stream",
     "text": [
      "\r",
      " 98%|█████████▊| 1124/1148 [1:08:51<01:21,  3.41s/it]"
     ]
    },
    {
     "name": "stdout",
     "output_type": "stream",
     "text": [
      "-4\n"
     ]
    },
    {
     "name": "stderr",
     "output_type": "stream",
     "text": [
      "\r",
      " 98%|█████████▊| 1125/1148 [1:08:54<01:16,  3.31s/it]"
     ]
    },
    {
     "name": "stdout",
     "output_type": "stream",
     "text": [
      "-3\n"
     ]
    },
    {
     "name": "stderr",
     "output_type": "stream",
     "text": [
      "\r",
      " 98%|█████████▊| 1126/1148 [1:08:58<01:13,  3.33s/it]"
     ]
    },
    {
     "name": "stdout",
     "output_type": "stream",
     "text": [
      "-3\n"
     ]
    },
    {
     "name": "stderr",
     "output_type": "stream",
     "text": [
      "\r",
      " 98%|█████████▊| 1127/1148 [1:09:01<01:11,  3.43s/it]"
     ]
    },
    {
     "name": "stdout",
     "output_type": "stream",
     "text": [
      "-1\n"
     ]
    },
    {
     "name": "stderr",
     "output_type": "stream",
     "text": [
      "\r",
      " 98%|█████████▊| 1128/1148 [1:09:04<01:05,  3.30s/it]"
     ]
    },
    {
     "name": "stdout",
     "output_type": "stream",
     "text": [
      "-4\n"
     ]
    },
    {
     "name": "stderr",
     "output_type": "stream",
     "text": [
      "\r",
      " 98%|█████████▊| 1129/1148 [1:09:08<01:03,  3.35s/it]"
     ]
    },
    {
     "name": "stdout",
     "output_type": "stream",
     "text": [
      "-1\n"
     ]
    },
    {
     "name": "stderr",
     "output_type": "stream",
     "text": [
      "\r",
      " 98%|█████████▊| 1130/1148 [1:09:11<01:01,  3.41s/it]"
     ]
    },
    {
     "name": "stdout",
     "output_type": "stream",
     "text": [
      "-4\n"
     ]
    },
    {
     "name": "stderr",
     "output_type": "stream",
     "text": [
      "\r",
      " 99%|█████████▊| 1131/1148 [1:09:15<01:00,  3.56s/it]"
     ]
    },
    {
     "name": "stdout",
     "output_type": "stream",
     "text": [
      "-2\n"
     ]
    },
    {
     "name": "stderr",
     "output_type": "stream",
     "text": [
      "\r",
      " 99%|█████████▊| 1132/1148 [1:09:18<00:55,  3.45s/it]"
     ]
    },
    {
     "name": "stdout",
     "output_type": "stream",
     "text": [
      "1\n"
     ]
    },
    {
     "name": "stderr",
     "output_type": "stream",
     "text": [
      "\r",
      " 99%|█████████▊| 1133/1148 [1:09:21<00:49,  3.30s/it]"
     ]
    },
    {
     "name": "stdout",
     "output_type": "stream",
     "text": [
      "-4\n"
     ]
    },
    {
     "name": "stderr",
     "output_type": "stream",
     "text": [
      "\r",
      " 99%|█████████▉| 1134/1148 [1:09:25<00:45,  3.28s/it]"
     ]
    },
    {
     "name": "stdout",
     "output_type": "stream",
     "text": [
      "-2\n"
     ]
    },
    {
     "name": "stderr",
     "output_type": "stream",
     "text": [
      "\r",
      " 99%|█████████▉| 1135/1148 [1:09:28<00:42,  3.31s/it]"
     ]
    },
    {
     "name": "stdout",
     "output_type": "stream",
     "text": [
      "-4\n"
     ]
    },
    {
     "name": "stderr",
     "output_type": "stream",
     "text": [
      "\r",
      " 99%|█████████▉| 1136/1148 [1:09:32<00:41,  3.49s/it]"
     ]
    },
    {
     "name": "stdout",
     "output_type": "stream",
     "text": [
      "-5\n"
     ]
    },
    {
     "name": "stderr",
     "output_type": "stream",
     "text": [
      "\r",
      " 99%|█████████▉| 1137/1148 [1:09:36<00:40,  3.65s/it]"
     ]
    },
    {
     "name": "stdout",
     "output_type": "stream",
     "text": [
      "-3\n"
     ]
    },
    {
     "name": "stderr",
     "output_type": "stream",
     "text": [
      "\r",
      " 99%|█████████▉| 1138/1148 [1:09:39<00:34,  3.50s/it]"
     ]
    },
    {
     "name": "stdout",
     "output_type": "stream",
     "text": [
      "-6\n"
     ]
    },
    {
     "name": "stderr",
     "output_type": "stream",
     "text": [
      "\r",
      " 99%|█████████▉| 1139/1148 [1:09:43<00:33,  3.76s/it]"
     ]
    },
    {
     "name": "stdout",
     "output_type": "stream",
     "text": [
      "-4\n"
     ]
    },
    {
     "name": "stderr",
     "output_type": "stream",
     "text": [
      "\r",
      " 99%|█████████▉| 1140/1148 [1:09:46<00:27,  3.49s/it]"
     ]
    },
    {
     "name": "stdout",
     "output_type": "stream",
     "text": [
      "-5\n"
     ]
    },
    {
     "name": "stderr",
     "output_type": "stream",
     "text": [
      "\r",
      " 99%|█████████▉| 1141/1148 [1:09:49<00:23,  3.31s/it]"
     ]
    },
    {
     "name": "stdout",
     "output_type": "stream",
     "text": [
      "-3\n"
     ]
    },
    {
     "name": "stderr",
     "output_type": "stream",
     "text": [
      "\r",
      " 99%|█████████▉| 1142/1148 [1:09:53<00:20,  3.45s/it]"
     ]
    },
    {
     "name": "stdout",
     "output_type": "stream",
     "text": [
      "-4\n"
     ]
    },
    {
     "name": "stderr",
     "output_type": "stream",
     "text": [
      "\r",
      "100%|█████████▉| 1143/1148 [1:09:58<00:19,  3.84s/it]"
     ]
    },
    {
     "name": "stdout",
     "output_type": "stream",
     "text": [
      "-4\n"
     ]
    },
    {
     "name": "stderr",
     "output_type": "stream",
     "text": [
      "\r",
      "100%|█████████▉| 1144/1148 [1:10:01<00:14,  3.65s/it]"
     ]
    },
    {
     "name": "stdout",
     "output_type": "stream",
     "text": [
      "-2\n"
     ]
    },
    {
     "name": "stderr",
     "output_type": "stream",
     "text": [
      "\r",
      "100%|█████████▉| 1145/1148 [1:10:05<00:11,  3.79s/it]"
     ]
    },
    {
     "name": "stdout",
     "output_type": "stream",
     "text": [
      "-4\n"
     ]
    },
    {
     "name": "stderr",
     "output_type": "stream",
     "text": [
      "\r",
      "100%|█████████▉| 1146/1148 [1:10:08<00:07,  3.61s/it]"
     ]
    },
    {
     "name": "stdout",
     "output_type": "stream",
     "text": [
      "-4\n"
     ]
    },
    {
     "name": "stderr",
     "output_type": "stream",
     "text": [
      "\r",
      "100%|█████████▉| 1147/1148 [1:10:12<00:03,  3.57s/it]"
     ]
    },
    {
     "name": "stdout",
     "output_type": "stream",
     "text": [
      "-8\n"
     ]
    },
    {
     "name": "stderr",
     "output_type": "stream",
     "text": [
      "100%|██████████| 1148/1148 [1:10:15<00:00,  3.67s/it]"
     ]
    },
    {
     "name": "stdout",
     "output_type": "stream",
     "text": [
      "0\n"
     ]
    },
    {
     "name": "stderr",
     "output_type": "stream",
     "text": [
      "\n"
     ]
    }
   ],
   "source": [
    "results = []\n",
    "for link in tqdm(allLinks):\n",
    "    results.append(analyseLyrics(link))"
   ]
  },
  {
   "cell_type": "code",
   "execution_count": 28,
   "metadata": {},
   "outputs": [
    {
     "data": {
      "text/plain": [
       "{'Title': 'Ke Le 渴了By 八三夭 831 feat. 柯佳嬿 Alice Ko',\n",
       " 'Artist': 'Lyrics\\xa0 - Lyrics Pinyin',\n",
       " 'Understandability': 55,\n",
       " 'Importance': 52,\n",
       " 'Score': -3,\n",
       " 'New Words': ['一嗝',\n",
       "  '负荷',\n",
       "  '卸',\n",
       "  '干涸',\n",
       "  '载',\n",
       "  '餵',\n",
       "  '嫌多',\n",
       "  '浏海',\n",
       "  '指甲油',\n",
       "  '紧握着',\n",
       "  '忐忑',\n",
       "  '流览'],\n",
       " 'Link': 'https://lyricspinyin.com/2020/09/10/ke-le-%e6%b8%b4%e4%ba%86by-%e5%85%ab%e4%b8%89%e5%a4%ad-831-feat-%e6%9f%af%e4%bd%b3%e5%ac%bf-alice-ko-pinyin-lyrics/'}"
      ]
     },
     "execution_count": 28,
     "metadata": {},
     "output_type": "execute_result"
    }
   ],
   "source": [
    "analyseLyrics('https://lyricspinyin.com/2020/09/10/ke-le-%e6%b8%b4%e4%ba%86by-%e5%85%ab%e4%b8%89%e5%a4%ad-831-feat-%e6%9f%af%e4%bd%b3%e5%ac%bf-alice-ko-pinyin-lyrics/')"
   ]
  },
  {
   "cell_type": "code",
   "execution_count": 39,
   "metadata": {},
   "outputs": [],
   "source": [
    "df = pd.DataFrame(results)\n",
    "df['Score'].replace('',0,inplace=True)\n",
    "df['Importance'].replace('',0,inplace=True)\n",
    "df['Understandability'].replace('',0,inplace=True)\n",
    "df.sort_values('Score',ascending=False).to_clipboard()"
   ]
  },
  {
   "cell_type": "code",
   "execution_count": 31,
   "metadata": {},
   "outputs": [
    {
     "data": {
      "text/plain": [
       "[{'Title': 'Ke Le 渴了By 八三夭 831 feat. 柯佳嬿 Alice Ko',\n",
       "  'Artist': 'Lyrics\\xa0 - Lyrics Pinyin',\n",
       "  'Understandability': 55,\n",
       "  'Importance': 52,\n",
       "  'Score': -3,\n",
       "  'New Words': ['一嗝',\n",
       "   '负荷',\n",
       "   '卸',\n",
       "   '干涸',\n",
       "   '载',\n",
       "   '餵',\n",
       "   '嫌多',\n",
       "   '浏海',\n",
       "   '指甲油',\n",
       "   '紧握着',\n",
       "   '忐忑',\n",
       "   '流览'],\n",
       "  'Link': 'https://lyricspinyin.com/2020/09/10/ke-le-%e6%b8%b4%e4%ba%86by-%e5%85%ab%e4%b8%89%e5%a4%ad-831-feat-%e6%9f%af%e4%bd%b3%e5%ac%bf-alice-ko-pinyin-lyrics/'},\n",
       " {'Title': 'Po Yun 破雲',\n",
       "  'Artist': '831 八三夭',\n",
       "  'Understandability': 53,\n",
       "  'Importance': 49,\n",
       "  'Score': -4,\n",
       "  'New Words': ['荒野',\n",
       "   '消沉',\n",
       "   '千疮百孔',\n",
       "   '牢笼',\n",
       "   '揭雾',\n",
       "   '侧身',\n",
       "   '余晖',\n",
       "   '追寻',\n",
       "   '愿承其重',\n",
       "   '逆光',\n",
       "   '视死如归',\n",
       "   '附庸',\n",
       "   '浮尘',\n",
       "   '破云',\n",
       "   '未央',\n",
       "   '热忱',\n",
       "   '未',\n",
       "   '温存'],\n",
       "  'Link': 'https://lyricspinyin.com/2020/04/29/po-yun-%e7%a0%b4%e9%9b%b2-by-831-%e5%85%ab%e4%b8%89%e5%a4%ad-pinyin-lyrics-and-english-translation/'},\n",
       " {'Title': 'You Yi Zhong Bei Shang Jiao Chun Dan 有一種悲傷叫蠢蛋',\n",
       "  'Artist': '八三夭 A-Lin',\n",
       "  'Understandability': 61,\n",
       "  'Importance': 55,\n",
       "  'Score': -6,\n",
       "  'New Words': ['煳', '蠢蛋', '刀割', '义无反顾', '总蠢', '自我安慰'],\n",
       "  'Link': 'https://lyricspinyin.com/2019/12/10/you-yi-zhong-bei-shang-jiao-chun-dan-%e6%9c%89%e4%b8%80%e7%a8%ae%e6%82%b2%e5%82%b7%e5%8f%ab%e8%a0%a2%e8%9b%8b-by-%e5%85%ab%e4%b8%89%e5%a4%ad-a-lin-pinyin-lyrics-and-english-translation/'},\n",
       " {'Title': 'Xiang Jian Ni Xiang Jian Ni Xiang Jian Ni 想見你想見你想見你',\n",
       "  'Artist': '八三夭',\n",
       "  'Understandability': 53,\n",
       "  'Importance': 52,\n",
       "  'Score': -1,\n",
       "  'New Words': ['遗落',\n",
       "   '更迭',\n",
       "   '刻骨铭心',\n",
       "   '多疗',\n",
       "   '谜',\n",
       "   '蹟',\n",
       "   '妳',\n",
       "   '若能',\n",
       "   '遗迹',\n",
       "   '象形',\n",
       "   '甦',\n",
       "   '癒',\n",
       "   '模拟',\n",
       "   '星移',\n",
       "   '朝夕',\n",
       "   '青涩'],\n",
       "  'Link': 'https://lyricspinyin.com/2019/11/11/xiang-jian-ni-xiang-jian-ni-xiang-jian-ni-%e6%83%b3%e8%a6%8b%e4%bd%a0%e6%83%b3%e8%a6%8b%e4%bd%a0%e6%83%b3%e8%a6%8b%e4%bd%a0-by-%e5%85%ab%e4%b8%89%e5%a4%ad-pinyin-lyrics-and-english-translation/'},\n",
       " {'Title': 'Bu Yao Gun 不搖滾',\n",
       "  'Artist': '八三夭 feat. 房東的貓',\n",
       "  'Understandability': 56,\n",
       "  'Importance': 55,\n",
       "  'Score': -1,\n",
       "  'New Words': ['枕边', '独自一人', '一瞬', '得逞', '相伴', '不知分寸', '悖论', '无休止', '未'],\n",
       "  'Link': 'https://lyricspinyin.com/2019/10/25/bu-yao-gun-%e4%b8%8d%e6%90%96%e6%bb%be-by-%e5%85%ab%e4%b8%89%e5%a4%ad-feat-%e6%88%bf%e6%9d%b1%e7%9a%84%e8%b2%93-pinyin-lyrics-and-english-translation/'},\n",
       " {'Title': 'Xin Shi Jie 新世界',\n",
       "  'Artist': 'Accusefive 告五 feat. ABAO 阿爆',\n",
       "  'Understandability': 54,\n",
       "  'Importance': 53,\n",
       "  'Score': -1,\n",
       "  'New Words': ['萌生', '啰嗦', '抵挡不住'],\n",
       "  'Link': 'https://lyricspinyin.com/2020/08/22/xin-shi-jie-%e6%96%b0%e4%b8%96%e7%95%8c-by-accusefive-%e5%91%8a%e4%ba%94-feat-abao-%e9%98%bf%e7%88%86-pinyin-lyrics-and-english-translation/'},\n",
       " {'Title': 'Shuo Wo Ai Ni De Yi Bai Zhong Fang Shi 說我愛你的一百種方式',\n",
       "  'Artist': 'Accusefive 告五人',\n",
       "  'Understandability': 51,\n",
       "  'Importance': 49,\n",
       "  'Score': -2,\n",
       "  'New Words': ['倾翻', '另一端', '若无其事', '甜言蜜语', '欲言又止', '稀薄', '代名词', '唱腔', '未'],\n",
       "  'Link': 'https://lyricspinyin.com/2020/04/27/shuo-wo-ai-ni-de-yi-bai-zhong-fang-shi-%e8%aa%aa%e6%88%91%e6%84%9b%e4%bd%a0%e7%9a%84%e4%b8%80%e7%99%be%e7%a8%ae%e6%96%b9%e5%bc%8f-by-accusefive-%e5%91%8a%e4%ba%94%e4%ba%ba-pinyin-lyrics-and-english-tr/'},\n",
       " {'Title': 'Dai Wo Qu Zhao Ye Sheng Huo 帶我去找夜生活',\n",
       "  'Artist': 'Accusefive 告五人',\n",
       "  'Understandability': 53,\n",
       "  'Importance': 50,\n",
       "  'Score': -3,\n",
       "  'New Words': ['承载',\n",
       "   '称谓',\n",
       "   '追寻',\n",
       "   '时过境迁',\n",
       "   '伤悲',\n",
       "   '形同虚设',\n",
       "   '种罪',\n",
       "   '无限',\n",
       "   '怨怼',\n",
       "   '不眠',\n",
       "   '心无眠',\n",
       "   '宣洩'],\n",
       "  'Link': 'https://lyricspinyin.com/2020/01/02/dai-wo-qu-zhao-ye-sheng-huo-%e5%b8%b6%e6%88%91%e5%8e%bb%e6%89%be%e5%a4%9c%e7%94%9f%e6%b4%bb-by-accusefive-%e5%91%8a%e4%ba%94%e4%ba%ba-pinyin-lyrics-and-english-translation/'},\n",
       " {'Title': 'Zai Yi Ci Jiu Hao 再一次就好',\n",
       "  'Artist': 'Bestards 理想混蛋',\n",
       "  'Understandability': 52,\n",
       "  'Importance': 48,\n",
       "  'Score': -4,\n",
       "  'New Words': ['记忆里',\n",
       "   '眼泪',\n",
       "   '独处',\n",
       "   '干涸',\n",
       "   '反覆',\n",
       "   '微风',\n",
       "   '侧耳',\n",
       "   '云淡',\n",
       "   '漩涡',\n",
       "   '温习',\n",
       "   '漾',\n",
       "   '涟漪'],\n",
       "  'Link': 'https://lyricspinyin.com/2020/10/27/zai-yi-ci-jiu-hao-%e5%86%8d%e4%b8%80%e6%ac%a1%e5%b0%b1%e5%a5%bd-by-bestards-%e7%90%86%e6%83%b3%e6%b7%b7%e8%9b%8b-pinyin-lyrics-and-english-translation/'},\n",
       " {'Title': 'Bu Shi Yin Wei Tian Qi Qing Lang Cai Ai Ni 不是因為天氣晴朗才愛你',\n",
       "  'Artist': 'Bestards 理想混蛋',\n",
       "  'Understandability': 57,\n",
       "  'Importance': 54,\n",
       "  'Score': -3,\n",
       "  'New Words': ['天气晴朗', '牵着手'],\n",
       "  'Link': 'https://lyricspinyin.com/2020/07/01/bu-shi-yin-wei-tian-qi-qing-lang-cai-ai-ni-%e4%b8%8d%e6%98%af%e5%9b%a0%e7%82%ba%e5%a4%a9%e6%b0%a3%e6%99%b4%e6%9c%97%e6%89%8d%e6%84%9b%e4%bd%a0-by-bestards-%e7%90%86%e6%83%b3%e6%b7%b7%e8%9b%8b-pinyin-l/'},\n",
       " {'Title': 'Yu Zhe 愚者',\n",
       "  'Artist': 'Bestards 理想混蛋',\n",
       "  'Understandability': 55,\n",
       "  'Importance': 54,\n",
       "  'Score': -1,\n",
       "  'New Words': ['与生俱来', '跨过', '行囊', '汇集', '愚者', '眼泪', '混蛋'],\n",
       "  'Link': 'https://lyricspinyin.com/2020/05/22/yu-zhe-%e6%84%9a%e8%80%85-by-bestards-%e7%90%86%e6%83%b3%e6%b7%b7%e8%9b%8b-pinyin-lyrics-and-english-translation/'},\n",
       " {'Title': 'Jue Di Hua Yuan 絕地花園',\n",
       "  'Artist': 'Bestards 理想混蛋',\n",
       "  'Understandability': 54,\n",
       "  'Importance': 52,\n",
       "  'Score': -2,\n",
       "  'New Words': ['玫瑰',\n",
       "   '蜕变',\n",
       "   '无畏',\n",
       "   '遍寻',\n",
       "   '值得纪念',\n",
       "   '风光明媚',\n",
       "   '溃堤',\n",
       "   '歧见',\n",
       "   '原野',\n",
       "   '脸孔',\n",
       "   '白昼',\n",
       "   '坦然',\n",
       "   '伪善'],\n",
       "  'Link': 'https://lyricspinyin.com/2020/05/09/jue-di-hua-yuan-%e7%b5%95%e5%9c%b0%e8%8a%b1%e5%9c%92-by-bestards-%e7%90%86%e6%83%b3%e6%b7%b7%e8%9b%8b-pinyin-lyrics-and-english-translation/'},\n",
       " {'Title': 'Ying Yao Ying 硬要赢',\n",
       "  'Artist': 'BonBon Girls 硬糖少女303',\n",
       "  'Understandability': 51,\n",
       "  'Importance': 47,\n",
       "  'Score': -4,\n",
       "  'New Words': ['踉踉跄跄',\n",
       "   '摩拳擦掌',\n",
       "   '闪着',\n",
       "   '呛',\n",
       "   '映着',\n",
       "   '淌',\n",
       "   '狂奔',\n",
       "   '额头',\n",
       "   '万丈光芒',\n",
       "   '荧光',\n",
       "   '宝藏',\n",
       "   '绿茵场',\n",
       "   '击个',\n",
       "   '盛放'],\n",
       "  'Link': 'https://lyricspinyin.com/2020/08/16/ying-yao-ying-%e7%a1%ac%e8%a6%81%e8%b5%a2-by-bonbon-girls-%e7%a1%ac%e7%b3%96%e5%b0%91%e5%a5%b3303-pinyin-lyrics/'},\n",
       " {'Title': 'BONBON GIRLS',\n",
       "  'Artist': 'BonBon Girls 硬糖少女303',\n",
       "  'Understandability': 55,\n",
       "  'Importance': 53,\n",
       "  'Score': -2,\n",
       "  'New Words': ['个中滋味',\n",
       "   '闪亮',\n",
       "   '沉甸甸',\n",
       "   '灼伤',\n",
       "   '酸爽',\n",
       "   '弧度',\n",
       "   '要酷',\n",
       "   '渐渐',\n",
       "   '锋芒',\n",
       "   '手掌',\n",
       "   '刺耳',\n",
       "   '嘴巴',\n",
       "   '品味',\n",
       "   '全神',\n",
       "   '多毒'],\n",
       "  'Link': 'https://lyricspinyin.com/2020/08/13/bonbon-girls-by-bonbon-girls-%e7%a1%ac%e7%b3%96%e5%b0%91%e5%a5%b3303-pinyin-lyrics/'},\n",
       " {'Title': 'Yi Di Lian Ren 異地戀人',\n",
       "  'Artist': 'BY2',\n",
       "  'Understandability': 58,\n",
       "  'Importance': 55,\n",
       "  'Score': -3,\n",
       "  'New Words': ['出此下策',\n",
       "   '训炼',\n",
       "   '眼泪',\n",
       "   '扑火',\n",
       "   '遮',\n",
       "   '分割',\n",
       "   '飞蛾',\n",
       "   '崩断',\n",
       "   '灌醉',\n",
       "   '隔岸观火',\n",
       "   '发洩',\n",
       "   '沖',\n",
       "   '无奈何',\n",
       "   '萤幕',\n",
       "   '聚少离多',\n",
       "   '孤单',\n",
       "   '遮不住',\n",
       "   '束手无策'],\n",
       "  'Link': 'https://lyricspinyin.com/2020/07/07/yi-di-lian-ren-%e7%95%b0%e5%9c%b0%e6%88%80%e4%ba%ba-by-by2-pinyin-lyrics-and-english-translation/'},\n",
       " {'Title': 'You Dian Tian 有點甜',\n",
       "  'Artist': 'Silence Wang 汪蘇瀧 & BY2',\n",
       "  'Understandability': 54,\n",
       "  'Importance': 52,\n",
       "  'Score': -2,\n",
       "  'New Words': ['副歌', '米开朗基罗', '心窝', '週末', '粉红色', '干枯', '癒'],\n",
       "  'Link': 'https://lyricspinyin.com/2020/05/10/you-dian-tian-%e6%9c%89%e9%bb%9e%e7%94%9c-by-silence-wang-%e6%b1%aa%e8%98%87%e7%80%a7-by2-pinyin-lyrics-and-english-translation/'},\n",
       " {'Title': 'Han Chu Wo De Ming Zi 喊出我的名字',\n",
       "  'Artist': 'CHUANG 2020 創造營',\n",
       "  'Understandability': 64,\n",
       "  'Importance': 62,\n",
       "  'Score': -2,\n",
       "  'New Words': ['壮志', '赤诚', '相拥'],\n",
       "  'Link': 'https://lyricspinyin.com/2020/07/09/han-chu-wo-de-ming-zi-%e5%96%8a%e5%87%ba%e6%88%91%e7%9a%84%e5%90%8d%e5%ad%97-by-chuang-2020-%e5%89%b5%e9%80%a0%e7%87%9f-pinyin-lyrics-and-english-translation/'},\n",
       " {'Title': 'Wo Men De Ming Tian 我們的明天',\n",
       "  'Artist': 'CHUANG 2020 創造營 徐藝洋',\n",
       "  'Understandability': 61,\n",
       "  'Importance': 57,\n",
       "  'Score': -4,\n",
       "  'New Words': [],\n",
       "  'Link': 'https://lyricspinyin.com/2020/07/09/wo-men-de-ming-tian-%e6%88%91%e5%80%91%e7%9a%84%e6%98%8e%e5%a4%a9-by-chuang-2020-%e5%89%b5%e9%80%a0%e7%87%9f-%e5%be%90%e8%97%9d%e6%b4%8b-pinyin-lyrics-and-english-translation/'},\n",
       " {'Title': 'Huo Yu 火羽',\n",
       "  'Artist': 'CHUANG 2020 創造營',\n",
       "  'Understandability': 43,\n",
       "  'Importance': 41,\n",
       "  'Score': -2,\n",
       "  'New Words': ['断翼',\n",
       "   '凤凰',\n",
       "   '涅槃',\n",
       "   '九霄云外',\n",
       "   '血脉',\n",
       "   '赤焰',\n",
       "   '灼伤',\n",
       "   '燃尽',\n",
       "   '宛若',\n",
       "   '穹顶',\n",
       "   '残存',\n",
       "   '浓烈',\n",
       "   '炙热',\n",
       "   '坠落',\n",
       "   '双翼',\n",
       "   '折翼',\n",
       "   '献祭',\n",
       "   '飞达',\n",
       "   '唤醒',\n",
       "   '浴火',\n",
       "   '剪断',\n",
       "   '星辰',\n",
       "   '昂起',\n",
       "   '炽热',\n",
       "   '神采',\n",
       "   '云才',\n",
       "   '庇佑',\n",
       "   '振翅',\n",
       "   '漆黑',\n",
       "   '火羽',\n",
       "   '狂风暴雨',\n",
       "   '浸染',\n",
       "   '流光溢彩',\n",
       "   '殷红',\n",
       "   '跃过',\n",
       "   '羽毛',\n",
       "   '浴火重生',\n",
       "   '入云'],\n",
       "  'Link': 'https://lyricspinyin.com/2020/07/06/huo-yu-%e7%81%ab%e7%be%bd-by-chuang-2020-%e5%89%b5%e9%80%a0%e7%87%9f-pinyin-lyrics/'},\n",
       " {'Title': 'Mo Deng Tian Hou 摩登天后',\n",
       "  'Artist': 'CHUANG 2020 創造營',\n",
       "  'Understandability': 50,\n",
       "  'Importance': 48,\n",
       "  'Score': -2,\n",
       "  'New Words': ['夺路',\n",
       "   '作呕',\n",
       "   '遮罩',\n",
       "   '浓烈',\n",
       "   '买帐',\n",
       "   '无可比拟',\n",
       "   '戳穿',\n",
       "   '痴心妄想',\n",
       "   '糗',\n",
       "   '绽放',\n",
       "   '轻蔑',\n",
       "   '锈蚀',\n",
       "   '坠饰',\n",
       "   '群嘲',\n",
       "   '仪表',\n",
       "   '镀金',\n",
       "   '对淑芬',\n",
       "   '标配',\n",
       "   '钻',\n",
       "   '恶臭'],\n",
       "  'Link': 'https://lyricspinyin.com/2020/07/05/mo-deng-tian-hou-%e6%91%a9%e7%99%bb%e5%a4%a9%e5%90%8e-by-chuang-2020-%e5%89%b5%e9%80%a0%e7%87%9f-pinyin-lyrics/'},\n",
       " {'Title': 'Bing Ji Ling 冰激凌',\n",
       "  'Artist': 'CHUANG 2020 創造營',\n",
       "  'Understandability': 62,\n",
       "  'Importance': 55,\n",
       "  'Score': -7,\n",
       "  'New Words': ['唿吸', '闭上'],\n",
       "  'Link': 'https://lyricspinyin.com/2020/07/05/bing-ji-ling-%e5%86%b0%e6%bf%80%e5%87%8c-by-chuang-2020-%e5%89%b5%e9%80%a0%e7%87%9f-pinyin-lyrics-and-english-translation/'},\n",
       " {'Title': 'Ice Queen',\n",
       "  'Artist': 'CHUANG 2020 創造營',\n",
       "  'Understandability': 52,\n",
       "  'Importance': 48,\n",
       "  'Score': -4,\n",
       "  'New Words': ['吝惜',\n",
       "   '无罪',\n",
       "   '礼仪',\n",
       "   '摔碎',\n",
       "   '冠冕',\n",
       "   '罪责',\n",
       "   '轻佻',\n",
       "   '流言蜚语',\n",
       "   '避讳',\n",
       "   '奉承',\n",
       "   '旨意',\n",
       "   '尊崇',\n",
       "   '腹剑口',\n",
       "   '攻讦',\n",
       "   '俯首认错',\n",
       "   '作祟',\n",
       "   '保持沉默',\n",
       "   '袭来',\n",
       "   '浑浊',\n",
       "   '睥睨',\n",
       "   '蜜',\n",
       "   '滑稽',\n",
       "   '车驾',\n",
       "   '承袭',\n",
       "   '樑',\n",
       "   '未',\n",
       "   '青睐'],\n",
       "  'Link': 'https://lyricspinyin.com/2020/06/28/ice-queen-by-chuang-2020-%e5%89%b5%e9%80%a0%e7%87%9f-pinyin-lyrics/'},\n",
       " {'Title': 'Zhe Mi 著迷',\n",
       "  'Artist': 'CHUANG 2020 創造營',\n",
       "  'Understandability': 50,\n",
       "  'Importance': 47,\n",
       "  'Score': -3,\n",
       "  'New Words': ['攻破',\n",
       "   '伪装',\n",
       "   '若想',\n",
       "   '一招',\n",
       "   '甘做',\n",
       "   '棋差',\n",
       "   '一秒',\n",
       "   '心防',\n",
       "   '自欺欺人',\n",
       "   '自拔',\n",
       "   '猎物',\n",
       "   '归咎',\n",
       "   '沉醉',\n",
       "   '落荒而逃',\n",
       "   '欲盖弥彰',\n",
       "   '神魂颠倒',\n",
       "   '忌惮',\n",
       "   '迷途',\n",
       "   '卸下',\n",
       "   '熊熊燃烧'],\n",
       "  'Link': 'https://lyricspinyin.com/2020/06/28/zhe-mi-%e8%91%97%e8%bf%b7-by-chuang-2020-%e5%89%b5%e9%80%a0%e7%87%9f-pinyin-lyrics/'},\n",
       " {'Title': 'Mei Tian Qi Lai Chang Yi Bian 每天起來唱一遍',\n",
       "  'Artist': 'CHUANG 2020 創造營',\n",
       "  'Understandability': 42,\n",
       "  'Importance': 37,\n",
       "  'Score': -5,\n",
       "  'New Words': ['异香扑鼻',\n",
       "   '被窝',\n",
       "   '唤醒',\n",
       "   '魂儿',\n",
       "   '映得',\n",
       "   '仙气',\n",
       "   '嚼',\n",
       "   '炸',\n",
       "   '蛤蟆',\n",
       "   '要强',\n",
       "   '四溢',\n",
       "   '闭嘴',\n",
       "   '一曲',\n",
       "   '膨胀',\n",
       "   '拂',\n",
       "   '光芒万丈',\n",
       "   '旺',\n",
       "   '宛若',\n",
       "   '平湖',\n",
       "   '涟漪',\n",
       "   '哼哼',\n",
       "   '碧波'],\n",
       "  'Link': 'https://lyricspinyin.com/2020/06/25/mei-tian-qi-lai-chang-yi-bian-%e6%af%8f%e5%a4%a9%e8%b5%b7%e4%be%86%e5%94%b1%e4%b8%80%e9%81%8d-by-chuang-2020-%e5%89%b5%e9%80%a0%e7%87%9f-pinyin-lyrics/'},\n",
       " {'Title': 'Guai Nu Hai 怪女孩',\n",
       "  'Artist': 'CHUANG 2020 創造營',\n",
       "  'Understandability': 41,\n",
       "  'Importance': 38,\n",
       "  'Score': -3,\n",
       "  'New Words': ['荒诞',\n",
       "   '伪装',\n",
       "   '提线木偶',\n",
       "   '擅于',\n",
       "   '优雅',\n",
       "   '冠冕堂皇',\n",
       "   '可憎',\n",
       "   '诋毁',\n",
       "   '作祟',\n",
       "   '吞下',\n",
       "   '潜意识',\n",
       "   '油彩',\n",
       "   '搭讪',\n",
       "   '婉转',\n",
       "   '各式',\n",
       "   '蟑螂',\n",
       "   '盔甲',\n",
       "   '枯',\n",
       "   '藏匿',\n",
       "   '装模作样',\n",
       "   '幻象',\n",
       "   '磁场',\n",
       "   '奇形怪状',\n",
       "   '呢喃',\n",
       "   '烹制',\n",
       "   '寻隙',\n",
       "   '涂画',\n",
       "   '魔法',\n",
       "   '倾注',\n",
       "   '无妨'],\n",
       "  'Link': 'https://lyricspinyin.com/2020/06/24/guai-nu-hai-%e6%80%aa%e5%a5%b3%e5%ad%a9-by-chuang-2020-%e5%89%b5%e9%80%a0%e7%87%9f-pinyin-lyrics/'},\n",
       " {'Title': 'Zhe Shi Wo Yi Zhi Xiang Dui Ni Shuo De Hua 這是我一直想對你說的話',\n",
       "  'Artist': 'CHUANG 2020 創造營',\n",
       "  'Understandability': 50,\n",
       "  'Importance': 46,\n",
       "  'Score': -4,\n",
       "  'New Words': ['偌大',\n",
       "   '温当',\n",
       "   '熄',\n",
       "   '一瞬',\n",
       "   '浑噩',\n",
       "   '阔别',\n",
       "   '云层',\n",
       "   '黯淡',\n",
       "   '未曾',\n",
       "   '捱过',\n",
       "   '刺破',\n",
       "   '相拥',\n",
       "   '初春',\n",
       "   '一盏',\n",
       "   '未',\n",
       "   '重归'],\n",
       "  'Link': 'https://lyricspinyin.com/2020/06/24/zhe-shi-wo-yi-zhi-xiang-dui-ni-shuo-de-hua-%e9%80%99%e6%98%af%e6%88%91%e4%b8%80%e7%9b%b4%e6%83%b3%e5%b0%8d%e4%bd%a0%e8%aa%aa%e7%9a%84%e8%a9%b1-by-chuang-2020-%e5%89%b5%e9%80%a0%e7%87%9f-pinyin-lyrics/'},\n",
       " {'Title': 'Shi Jie Bu Hui Qing Yi Beng Ta 世界不會輕易崩塌',\n",
       "  'Artist': 'CHUANG 2020 創造營',\n",
       "  'Understandability': 59,\n",
       "  'Importance': 55,\n",
       "  'Score': -4,\n",
       "  'New Words': ['褪去', '佈', '渐渐', '寻托言太多', '放映'],\n",
       "  'Link': 'https://lyricspinyin.com/2020/06/06/shi-jie-bu-hui-qing-yi-beng-ta-%e4%b8%96%e7%95%8c%e4%b8%8d%e6%9c%83%e8%bc%95%e6%98%93%e5%b4%a9%e5%a1%8c-by-chuang-2020-%e5%89%b5%e9%80%a0%e7%87%9f-pinyin-lyrics-and-english-translation/'},\n",
       " {'Title': 'Ni Zui Zui Zui Zhong Yao 你最最最重要',\n",
       "  'Artist': 'CHUANG2020 創造營',\n",
       "  'Understandability': 49,\n",
       "  'Importance': 47,\n",
       "  'Score': -2,\n",
       "  'New Words': ['眉间', '拼敢', '三秒', '立正', '每一秒', '怦怦', '屋檐下', '稍息'],\n",
       "  'Link': 'https://lyricspinyin.com/2020/05/11/ni-zui-zui-zui-zhong-yao-%e4%bd%a0%e6%9c%80%e6%9c%80%e6%9c%80%e9%87%8d%e8%a6%81-by-chuang2020-%e5%89%b5%e9%80%a0%e7%87%9f-pinyin-lyrics/'},\n",
       " {'Title': 'Wo Bu Xiang La La 我不想啦啦',\n",
       "  'Artist': 'cococola',\n",
       "  'Understandability': 66,\n",
       "  'Importance': 64,\n",
       "  'Score': -2,\n",
       "  'New Words': [],\n",
       "  'Link': 'https://lyricspinyin.com/2020/06/22/wo-bu-xiang-la-la-%e6%88%91%e4%b8%8d%e6%83%b3%e5%95%a6%e5%95%a6-by-cococola-pinyin-lyrics-and-english-translation/'},\n",
       " {'Title': 'Ni De Yu Zhou 你的宇宙',\n",
       "  'Artist': 'CosmosPeople 宇宙人',\n",
       "  'Understandability': 53,\n",
       "  'Importance': 50,\n",
       "  'Score': -3,\n",
       "  'New Words': ['永恆', '纯真无邪', '渐渐', '微弱', '漆黑', '讯号', '喘息', '闭上', '忽明忽灭'],\n",
       "  'Link': 'https://lyricspinyin.com/2019/11/16/ni-de-yu-zhou-%e4%bd%a0%e7%9a%84%e5%ae%87%e5%ae%99-by-cosmospeople-%e5%ae%87%e5%ae%99%e4%ba%ba-pinyin-lyrics-and-english-translation/'},\n",
       " {'Title': 'Zhuan Quan Quan 轉圈圈',\n",
       "  'Artist': 'Crispy脆樂團',\n",
       "  'Understandability': 55,\n",
       "  'Importance': 52,\n",
       "  'Score': -3,\n",
       "  'New Words': ['牢笼', '墙壁', '心磨', '平均分配', '陷在', '转轮', '座标轴', '体温', '萤幕上'],\n",
       "  'Link': 'https://lyricspinyin.com/2020/02/14/zhuan-quan-quan-%e8%bd%89%e5%9c%88%e5%9c%88-by-crispy%e8%84%86%e6%a8%82%e5%9c%98-pinyin-lyrics-and-english-translation/'},\n",
       " {'Title': 'Mi Ren De Wei Xian 迷人的危險',\n",
       "  'Artist': 'Dance Flow',\n",
       "  'Understandability': 55,\n",
       "  'Importance': 51,\n",
       "  'Score': -4,\n",
       "  'New Words': ['盼望着', '锐利', '贪心', '伤悲', '一拳', '痴心', '不配', '暗恋', '孤单', '淹灭'],\n",
       "  'Link': 'https://lyricspinyin.com/2020/03/26/mi-ren-de-wei-xian-%e8%bf%b7%e4%ba%ba%e7%9a%84%e5%8d%b1%e9%9a%aa-by-dance-flow-pinyin-lyrics-and-english-translation/'},\n",
       " {'Title': 'You Du Bu Hui 有毒不回',\n",
       "  'Artist': 'DD52 菱格世代',\n",
       "  'Understandability': 54,\n",
       "  'Importance': 50,\n",
       "  'Score': -4,\n",
       "  'New Words': ['女巫', '蛇毒', '任人宰割', '叮咚', '白马王子', '限时', '毒不愿', '法老王', '初恋'],\n",
       "  'Link': 'https://lyricspinyin.com/2020/07/06/you-du-bu-hui-%e6%9c%89%e6%af%92%e4%b8%8d%e5%9b%9e-by-dd52-%e8%8f%b1%e6%a0%bc%e4%b8%96%e4%bb%a3-pinyin-lyrics/'},\n",
       " {'Title': 'Oi Dik Mei Deun Syu 哀的美敦書',\n",
       "  'Artist': 'Dear Jane Cantonese',\n",
       "  'Understandability': 49,\n",
       "  'Importance': 47,\n",
       "  'Score': -2,\n",
       "  'New Words': ['美敦',\n",
       "   '饲过',\n",
       "   '恋歌',\n",
       "   '抱拥',\n",
       "   '蹟',\n",
       "   '截住',\n",
       "   '赏个',\n",
       "   '以功补过',\n",
       "   '纵坏',\n",
       "   '得益',\n",
       "   '堕',\n",
       "   '餵',\n",
       "   '拔河',\n",
       "   '讲价',\n",
       "   '最强',\n",
       "   '后盾',\n",
       "   '倒卧'],\n",
       "  'Link': 'https://lyricspinyin.com/2020/07/10/oi-dik-mei-deun-syu-%e5%93%80%e7%9a%84%e7%be%8e%e6%95%a6%e6%9b%b8-by-dear-jane-cantonese-pinyin-lyrics-and-english-translation/'},\n",
       " {'Title': 'Ngan Ho Sau Lei Jyun 銀河修理員',\n",
       "  'Artist': 'Dear Jane Cantonese',\n",
       "  'Understandability': 54,\n",
       "  'Importance': 50,\n",
       "  'Score': -4,\n",
       "  'New Words': ['补钉',\n",
       "   '狂雨',\n",
       "   '跌宕',\n",
       "   '偕老',\n",
       "   '百孔千疮',\n",
       "   '俊朗',\n",
       "   '熄',\n",
       "   '苍老',\n",
       "   '不致',\n",
       "   '暴雪',\n",
       "   '胶纸',\n",
       "   '会痛',\n",
       "   '清朗',\n",
       "   '推倒',\n",
       "   '残破',\n",
       "   '修修补补',\n",
       "   '心慌',\n",
       "   '洪荒',\n",
       "   '奔往',\n",
       "   '坚壮',\n",
       "   '巨匠',\n",
       "   '贴着',\n",
       "   '坏透',\n",
       "   '坚壮非'],\n",
       "  'Link': 'https://lyricspinyin.com/2020/03/27/ngan-ho-sau-lei-jyun-%e9%8a%80%e6%b2%b3%e4%bf%ae%e7%90%86%e5%93%a1-by-dear-jane-cantonese-pinyin-lyrics/'},\n",
       " {'Title': 'Wu Xian Qing Chun 無限青春',\n",
       "  'Artist': 'F.I.R. 飛兒樂團 Do As Infinity 大無限樂團',\n",
       "  'Understandability': 59,\n",
       "  'Importance': 54,\n",
       "  'Score': -5,\n",
       "  'New Words': ['转弯', '孤单', '凡人', '辗转', '吶喊', '不甘'],\n",
       "  'Link': 'https://lyricspinyin.com/2019/11/21/wu-xian-qing-chun-%e7%84%a1%e9%99%90%e9%9d%92%e6%98%a5-by-f-i-r-%e9%a3%9b%e5%85%92%e6%a8%82%e5%9c%98-do-as-infinity-%e5%a4%a7%e7%84%a1%e9%99%90%e6%a8%82%e5%9c%98-pinyin-lyrics-and-english-translation/'},\n",
       " {'Title': 'Gu Du De Ren Wo Men Yi Qi Chu Fa 孤獨的人我們一起出發',\n",
       "  'Artist': 'EggPlantEgg 茄子蛋',\n",
       "  'Understandability': 55,\n",
       "  'Importance': 51,\n",
       "  'Score': -4,\n",
       "  'New Words': ['永恆', '长眠', '巨人', '纷扰'],\n",
       "  'Link': 'https://lyricspinyin.com/2020/09/30/gu-du-de-ren-wo-men-yi-qi-chu-fa-%e5%ad%a4%e7%8d%a8%e7%9a%84%e4%ba%ba%e6%88%91%e5%80%91%e4%b8%80%e8%b5%b7%e5%87%ba%e7%99%bc-by-eggplantegg-%e8%8c%84%e5%ad%90%e8%9b%8b-pinyin-lyrics-and-english-transla/'},\n",
       " {'Title': 'Qia Si Ni De Wen Rou 恰似你的溫柔',\n",
       "  'Artist': 'EggPlantEgg 茄子蛋',\n",
       "  'Understandability': 60,\n",
       "  'Importance': 56,\n",
       "  'Score': -4,\n",
       "  'New Words': ['辗转', '恰似', '疏于', '不寐', '紧握', '诺许'],\n",
       "  'Link': 'https://lyricspinyin.com/2020/09/28/qia-si-ni-de-wen-rou-%e6%81%b0%e4%bc%bc%e4%bd%a0%e7%9a%84%e6%ba%ab%e6%9f%94-by-eggplantegg-%e8%8c%84%e5%ad%90%e8%9b%8b-pinyin-lyrics-and-english-translation/'},\n",
       " {'Title': 'Wo Dong Wo De ZOOM 我懂我的ZOOM',\n",
       "  'Artist': '李英宏 DJ Didilong 茄子蛋 EggPlantEgg',\n",
       "  'Understandability': 59,\n",
       "  'Importance': 58,\n",
       "  'Score': -1,\n",
       "  'New Words': ['牢靠',\n",
       "   '毋',\n",
       "   '稳稳',\n",
       "   '咧',\n",
       "   '缩放',\n",
       "   '目珠',\n",
       "   '知影雄',\n",
       "   '稳帅',\n",
       "   '框住',\n",
       "   '看予',\n",
       "   '阁来',\n",
       "   '拢'],\n",
       "  'Link': 'https://lyricspinyin.com/2020/05/08/wo-dong-wo-de-zoom-%e6%88%91%e6%87%82%e6%88%91%e7%9a%84zoom-by-%e6%9d%8e%e8%8b%b1%e5%ae%8f-dj-didilong-%e8%8c%84%e5%ad%90%e8%9b%8b-eggplantegg-pinyin-lyrics/'},\n",
       " {'Title': 'Wo De Wei Lai Bu Shi Meng 我的未來不是夢',\n",
       "  'Artist': 'EggPlantEgg 茄子蛋',\n",
       "  'Understandability': 61,\n",
       "  'Importance': 59,\n",
       "  'Score': -2,\n",
       "  'New Words': ['爲', '茫然失措', '认眞的'],\n",
       "  'Link': 'https://lyricspinyin.com/2020/04/26/wo-de-wei-lai-bu-shi-meng-%e6%88%91%e7%9a%84%e6%9c%aa%e4%be%86%e4%b8%8d%e6%98%af%e5%a4%a2-by-eggplantegg-%e8%8c%84%e5%ad%90%e8%9b%8b-pinyin-lyrics-and-english-translation/'},\n",
       " {'Title': 'Wei Da De You Yi 偉大的友誼',\n",
       "  'Artist': 'Escape Plan 逃跑計劃',\n",
       "  'Understandability': 56,\n",
       "  'Importance': 56,\n",
       "  'Score': 0,\n",
       "  'New Words': ['往昔',\n",
       "   '玫瑰',\n",
       "   '沈痛',\n",
       "   '谷底',\n",
       "   '狂风暴雨',\n",
       "   '喘息',\n",
       "   '神灵',\n",
       "   '身躯',\n",
       "   '俯身',\n",
       "   '紧握着',\n",
       "   '不惧'],\n",
       "  'Link': 'https://lyricspinyin.com/2020/04/07/wei-da-de-you-yi-%e5%81%89%e5%a4%a7%e7%9a%84%e5%8f%8b%e8%aa%bc-by-escape-plan-%e9%80%83%e8%b7%91%e8%a8%88%e5%8a%83-pinyin-lyrics-and-english-translation/'},\n",
       " {'Title': 'Ye Kong Zhong Zui Liang De Xing 夜空中最亮的星',\n",
       "  'Artist': 'Escape Plan 逃跑計劃',\n",
       "  'Understandability': 60,\n",
       "  'Importance': 54,\n",
       "  'Score': -6,\n",
       "  'New Words': ['仰望', '叹息'],\n",
       "  'Link': 'https://lyricspinyin.com/2020/02/06/ye-kong-zhong-zui-liang-de-xing-%e5%a4%9c%e7%a9%ba%e4%b8%ad%e6%9c%80%e4%ba%ae%e7%9a%84%e6%98%9f-by-escape-plan-%e9%80%83%e8%b7%91%e8%a8%88%e5%8a%83-pinyin-lyrics-and-english-translation/'},\n",
       " {'Title': 'Hai Wu 海霧',\n",
       "  'Artist': 'F.I.R. feat. Spark 皇毅',\n",
       "  'Understandability': 44,\n",
       "  'Importance': 43,\n",
       "  'Score': -1,\n",
       "  'New Words': ['毒瘤',\n",
       "   '成囚',\n",
       "   '蛰伏',\n",
       "   '随波逐流',\n",
       "   '惊心动魄',\n",
       "   '那噬',\n",
       "   '巨浪',\n",
       "   '忏悔',\n",
       "   '嘶吼',\n",
       "   '卑躬',\n",
       "   '恶梦',\n",
       "   '恶魔',\n",
       "   '残破',\n",
       "   '看守',\n",
       "   '蜉蝣',\n",
       "   '牠',\n",
       "   '海市蜃楼',\n",
       "   '予取',\n",
       "   '卑微',\n",
       "   '割破',\n",
       "   '予求',\n",
       "   '野兽',\n",
       "   '蛆般',\n",
       "   '枷锁'],\n",
       "  'Link': 'https://lyricspinyin.com/2020/09/05/hai-wu-%e6%b5%b7%e9%9c%a7-by-f-i-r-feat-spark-%e7%9a%87%e6%af%85-pinyin-lyrics-and-english-translation/'},\n",
       " {'Title': 'Yue Ya Wan 月牙灣',\n",
       "  'Artist': 'F.I.R. 飛兒樂團',\n",
       "  'Understandability': 55,\n",
       "  'Importance': 50,\n",
       "  'Score': -5,\n",
       "  'New Words': ['弯曲',\n",
       "   '西域',\n",
       "   '永恆',\n",
       "   '唿唤',\n",
       "   '禅意',\n",
       "   '丝路',\n",
       "   '泪光',\n",
       "   '敦煌',\n",
       "   '沙砾',\n",
       "   '孤单',\n",
       "   '找寻'],\n",
       "  'Link': 'https://lyricspinyin.com/2020/03/14/yue-ya-wan-%e6%9c%88%e7%89%99%e7%81%a3-by-f-i-r-%e9%a3%9b%e5%85%92%e6%a8%82%e5%9c%98-pinyin-lyrics-and-english-translation/'},\n",
       " {'Title': 'Wo Men De Ai 我們的愛',\n",
       "  'Artist': 'F.I.R.飛兒樂團',\n",
       "  'Understandability': 61,\n",
       "  'Importance': 54,\n",
       "  'Score': -7,\n",
       "  'New Words': ['眼泪', '綑', '唿吸', '云朵', '彿', '手牵手'],\n",
       "  'Link': 'https://lyricspinyin.com/2020/02/03/wo-men-de-ai-%e6%88%91%e5%80%91%e7%9a%84%e6%84%9b-by-f-i-r-%e9%a3%9b%e5%85%92%e6%a8%82%e5%9c%98-pinyin-lyrics-and-english-translation/'},\n",
       " {'Title': 'Zi You Zhi Ge 自由之歌',\n",
       "  'Artist': 'F.I.R. 飛兒樂團',\n",
       "  'Understandability': 52,\n",
       "  'Importance': 52,\n",
       "  'Score': 0,\n",
       "  'New Words': ['山盟海誓',\n",
       "   '飞奔',\n",
       "   '燃尽',\n",
       "   '迷惘',\n",
       "   '无畏',\n",
       "   '夺走',\n",
       "   '用壮游',\n",
       "   '返航',\n",
       "   '逃亡',\n",
       "   '退潮',\n",
       "   '抱牢',\n",
       "   '无惧',\n",
       "   '坠跌任',\n",
       "   '每一秒',\n",
       "   '巨浪',\n",
       "   '无怨无悔',\n",
       "   '羽毛',\n",
       "   '相拥'],\n",
       "  'Link': 'https://lyricspinyin.com/2019/11/21/zi-you-zhi-ge-%e8%87%aa%e7%94%b1%e4%b9%8b%e6%ad%8c-by-f-i-r-%e9%a3%9b%e5%85%92%e6%a8%82%e5%9c%98-pinyin-lyrics-and-english-translation/'},\n",
       " {'Title': 'Wu Xian Qing Chun 無限青春',\n",
       "  'Artist': 'F.I.R. 飛兒樂團 Do As Infinity 大無限樂團',\n",
       "  'Understandability': 59,\n",
       "  'Importance': 54,\n",
       "  'Score': -5,\n",
       "  'New Words': ['转弯', '孤单', '凡人', '辗转', '吶喊', '不甘'],\n",
       "  'Link': 'https://lyricspinyin.com/2019/11/21/wu-xian-qing-chun-%e7%84%a1%e9%99%90%e9%9d%92%e6%98%a5-by-f-i-r-%e9%a3%9b%e5%85%92%e6%a8%82%e5%9c%98-do-as-infinity-%e5%a4%a7%e7%84%a1%e9%99%90%e6%a8%82%e5%9c%98-pinyin-lyrics-and-english-translation/'},\n",
       " {'Title': 'Ai Shang Shu Yu Ni De Tian Kong 愛上屬於你的天空',\n",
       "  'Artist': 'F.I.R.飛兒樂團',\n",
       "  'Understandability': 63,\n",
       "  'Importance': 59,\n",
       "  'Score': -4,\n",
       "  'New Words': ['烽火', '褪成', '振翅'],\n",
       "  'Link': 'https://lyricspinyin.com/2019/11/03/ai-shang-shu-yu-ni-de-tian-kong-%e6%84%9b%e4%b8%8a%e5%b1%ac%e6%96%bc%e4%bd%a0%e7%9a%84%e5%a4%a9%e7%a9%ba-by-f-i-r-%e9%a3%9b%e5%85%92%e6%a8%82%e5%9c%98-pinyin-lyrics-and-english-translation/'},\n",
       " {'Title': 'Suo Nian Jie Xing He 所念皆星河',\n",
       "  'Artist': 'Fang Dong De Mao 房東的貓',\n",
       "  'Understandability': 51,\n",
       "  'Importance': 49,\n",
       "  'Score': -2,\n",
       "  'New Words': ['恒星',\n",
       "   '投射',\n",
       "   '身侧',\n",
       "   '辗转',\n",
       "   '无垠',\n",
       "   '反侧',\n",
       "   '返航',\n",
       "   '周旋',\n",
       "   '心绪',\n",
       "   '捎去',\n",
       "   '未曾',\n",
       "   '浩瀚',\n",
       "   '呢喃',\n",
       "   '触手'],\n",
       "  'Link': 'https://lyricspinyin.com/2020/09/12/suo-nian-jie-xing-he-%e6%89%80%e5%bf%b5%e7%9a%86%e6%98%9f%e6%b2%b3-by-fang-dong-de-mao-%e6%88%bf%e6%9d%b1%e7%9a%84%e8%b2%93-pinyin-lyrics-and-english-translation/'},\n",
       " {'Title': 'Chun Feng Shi Li 春風十里',\n",
       "  'Artist': 'Fang Dong De Mao 房東的貓',\n",
       "  'Understandability': 51,\n",
       "  'Importance': 45,\n",
       "  'Score': -6,\n",
       "  'New Words': ['言语', '情愫'],\n",
       "  'Link': 'https://lyricspinyin.com/2020/08/23/chun-feng-shi-li-%e6%98%a5%e9%a2%a8%e5%8d%81%e9%87%8c-by-fang-dong-de-mao-%e6%88%bf%e6%9d%b1%e7%9a%84%e8%b2%93-pinyin-lyrics-and-english-translation/'},\n",
       " {'Title': 'Ba Yue Shi Wu 八月十五',\n",
       "  'Artist': 'Fang Dong De Mao 房東的貓',\n",
       "  'Understandability': 42,\n",
       "  'Importance': 37,\n",
       "  'Score': -5,\n",
       "  'New Words': ['渔火',\n",
       "   '琵琶',\n",
       "   '遗落',\n",
       "   '芙蓉镇',\n",
       "   '披萨',\n",
       "   '江枫',\n",
       "   '脸颊',\n",
       "   '云下',\n",
       "   '野百合',\n",
       "   '燕子',\n",
       "   '古道',\n",
       "   '牵挂',\n",
       "   '轻纱',\n",
       "   '街隔',\n",
       "   '褪去',\n",
       "   '浪迹天涯',\n",
       "   '江犹唱',\n",
       "   '轻舟',\n",
       "   '青石板'],\n",
       "  'Link': 'https://lyricspinyin.com/2020/08/17/ba-yue-shi-wu-%e5%85%ab%e6%9c%88%e5%8d%81%e4%ba%94-by-fang-dong-de-mao-%e6%88%bf%e6%9d%b1%e7%9a%84%e8%b2%93-pinyin-lyrics-and-english-translation/'},\n",
       " {'Title': 'Qing Mei 青梅',\n",
       "  'Artist': 'Fang Dong De Mao 房東的貓',\n",
       "  'Understandability': 54,\n",
       "  'Importance': 50,\n",
       "  'Score': -4,\n",
       "  'New Words': ['青梅', '熟透', '兜兜', '预谋', '酿成', '浪迹', '青涩', '隔绝'],\n",
       "  'Link': 'https://lyricspinyin.com/2020/08/10/qing-mei-%e9%9d%92%e6%a2%85-by-fang-dong-de-mao-%e6%88%bf%e6%9d%b1%e7%9a%84%e8%b2%93-pinyin-lyrics-and-english-translation/'},\n",
       " {'Title': 'Hai 海',\n",
       "  'Artist': 'Fang Dong De Mao 房東的貓',\n",
       "  'Understandability': 57,\n",
       "  'Importance': 46,\n",
       "  'Score': -11,\n",
       "  'New Words': ['流淌', '潮汐', '唿吸要'],\n",
       "  'Link': 'https://lyricspinyin.com/2020/03/17/hai-%e6%b5%b7-by-fang-dong-de-mao-%e6%88%bf%e6%9d%b1%e7%9a%84%e8%b2%93-pinyin-lyrics-and-english-translation/'},\n",
       " {'Title': 'Ni Shi Wo Zui Yu Chun De Yi Ci Lang Man 你是我最愚蠢的一次浪漫',\n",
       "  'Artist': 'Fang Dong De Mao 房東的貓',\n",
       "  'Understandability': 44,\n",
       "  'Importance': 40,\n",
       "  'Score': -4,\n",
       "  'New Words': ['彼岸',\n",
       "   '风尘',\n",
       "   '无返',\n",
       "   '余晖',\n",
       "   '仙',\n",
       "   '淙淙',\n",
       "   '款款',\n",
       "   '湖边',\n",
       "   '簌簌',\n",
       "   '失神',\n",
       "   '船微',\n",
       "   '潺潺',\n",
       "   '黯然',\n",
       "   '纷乱',\n",
       "   '复燃',\n",
       "   '浩瀚',\n",
       "   '孤单',\n",
       "   '娓娓',\n",
       "   '波澜',\n",
       "   '未'],\n",
       "  'Link': 'https://lyricspinyin.com/2020/02/03/ni-shi-wo-zui-yu-chun-de-yi-ci-lang-man-%e4%bd%a0%e6%98%af%e6%88%91%e6%9c%80%e6%84%9a%e8%a0%a2%e7%9a%84%e4%b8%80%e6%ac%a1%e6%b5%aa%e6%bc%ab-by-fang-dong-de-mao-%e6%88%bf%e6%9d%b1%e7%9a%84%e8%b2%93-pin/'},\n",
       " {'Title': 'Yue Liang Yong Bao Wo 月亮擁抱我',\n",
       "  'Artist': 'Fang Dong De Mao 房東的貓',\n",
       "  'Understandability': 61,\n",
       "  'Importance': 58,\n",
       "  'Score': -3,\n",
       "  'New Words': ['拥抱着', '旅途', '漩涡', '闷热', '闪躲'],\n",
       "  'Link': 'https://lyricspinyin.com/2020/02/03/yue-liang-yong-bao-wo-%e6%9c%88%e4%ba%ae%e6%93%81%e6%8a%b1%e6%88%91-by-fang-dong-de-mao-%e6%88%bf%e6%9d%b1%e7%9a%84%e8%b2%93-pinyin-lyrics-and-english-translation/'},\n",
       " {'Title': 'Yue Liang Yong Bao Wo 月亮擁抱我',\n",
       "  'Artist': 'Fang Dong De Mao 房東的貓',\n",
       "  'Understandability': 59,\n",
       "  'Importance': 57,\n",
       "  'Score': -2,\n",
       "  'New Words': ['闷热', '拥抱着', '漩涡', '闪躲', '沈默', '旅途'],\n",
       "  'Link': 'https://lyricspinyin.com/2020/01/12/1346/'},\n",
       " {'Title': 'Wo Ke Yi 我可以',\n",
       "  'Artist': '房東的貓',\n",
       "  'Understandability': 66,\n",
       "  'Importance': 62,\n",
       "  'Score': -4,\n",
       "  'New Words': [],\n",
       "  'Link': 'https://lyricspinyin.com/2019/11/09/wo-ke-yi-%e6%88%91%e5%8f%af%e4%bb%a5-by-%e6%88%bf%e6%9d%b1%e7%9a%84%e8%b2%93-pinyin-lyrics-and-english-translation/'},\n",
       " {'Title': 'Tan Lian Ai Qian Bu Ru Xian Yang Mao 談戀愛前不如先養貓',\n",
       "  'Artist': '房東的貓',\n",
       "  'Understandability': 54,\n",
       "  'Importance': 52,\n",
       "  'Score': -2,\n",
       "  'New Words': ['蹑脚',\n",
       "   '邋遢',\n",
       "   '一屋',\n",
       "   '蜷缩',\n",
       "   '恰好',\n",
       "   '毛绒',\n",
       "   '柔软',\n",
       "   '蹑手',\n",
       "   '叩开',\n",
       "   '眉眼',\n",
       "   '谈恋爱',\n",
       "   '打瞌睡',\n",
       "   '嫌弃',\n",
       "   '亲暱',\n",
       "   '瞳中',\n",
       "   '执拗',\n",
       "   '天荒地老',\n",
       "   '涂鸦',\n",
       "   '惬意',\n",
       "   '傲娇',\n",
       "   '邂逅'],\n",
       "  'Link': 'https://lyricspinyin.com/2019/11/01/tan-lian-ai-qian-bu-ru-xian-yang-mao-%e8%ab%87%e6%88%80%e6%84%9b%e5%89%8d%e4%b8%8d%e5%a6%82%e5%85%88%e9%a4%8a%e8%b2%93-by-%e6%88%bf%e6%9d%b1%e7%9a%84%e8%b2%93-pinyin-lyrics-and-english-translation/'},\n",
       " {'Title': 'Xia Tian De Yan Se 夏天的顏色',\n",
       "  'Artist': 'Fine樂團',\n",
       "  'Understandability': 59,\n",
       "  'Importance': 53,\n",
       "  'Score': -6,\n",
       "  'New Words': ['优雅', '邂逅', '流露出', '斑驳', '慵懒', '热恋', '手牵手'],\n",
       "  'Link': 'https://lyricspinyin.com/2020/07/28/xia-tian-de-yan-se-%e5%a4%8f%e5%a4%a9%e7%9a%84%e9%a1%8f%e8%89%b2-by-fine%e6%a8%82%e5%9c%98-pinyin-lyrics-and-english-translation/'},\n",
       " {'Title': 'Ta Men Shuo Wo Shi Mei You Yong De Nian Qing Ren 他們說我是沒有用的年輕人',\n",
       "  'Artist': 'GoodBand 好樂團',\n",
       "  'Understandability': 63,\n",
       "  'Importance': 62,\n",
       "  'Score': -1,\n",
       "  'New Words': ['託', '喃喃自语'],\n",
       "  'Link': 'https://lyricspinyin.com/2020/08/04/ta-men-shuo-wo-shi-mei-you-yong-de-nian-qing-ren-%e4%bb%96%e5%80%91%e8%aa%aa%e6%88%91%e6%98%af%e6%b2%92%e6%9c%89%e7%94%a8%e7%9a%84%e5%b9%b4%e8%bc%95%e4%ba%ba-by-goodband-%e5%a5%bd%e6%a8%82%e5%9c%98-pi/'},\n",
       " {'Title': 'Xi Bo Li Ya 西伯利亞',\n",
       "  'Artist': '許含光 Hello Nico',\n",
       "  'Understandability': 50,\n",
       "  'Importance': 46,\n",
       "  'Score': -4,\n",
       "  'New Words': ['遗落',\n",
       "   '闭',\n",
       "   '吶不',\n",
       "   '沉睡',\n",
       "   '绽放',\n",
       "   '善变',\n",
       "   '漆黑',\n",
       "   '哀伤',\n",
       "   '荒原',\n",
       "   '灰飞烟灭',\n",
       "   '天旋地转',\n",
       "   '吶'],\n",
       "  'Link': 'https://lyricspinyin.com/2019/11/25/xi-bo-li-ya-%e8%a5%bf%e4%bc%af%e5%88%a9%e4%ba%9e-by-%e8%a8%b1%e5%90%ab%e5%85%89-hello-nico-pinyin-lyrics-and-english-translation/'},\n",
       " {'Title': 'Best kept secret',\n",
       "  'Artist': 'Karencici\\xa0',\n",
       "  'Understandability': 60,\n",
       "  'Importance': 56,\n",
       "  'Score': -4,\n",
       "  'New Words': ['妳在', '唿吸', '妳', '闭上眼'],\n",
       "  'Link': 'https://lyricspinyin.com/2020/08/08/best-kept-secret-by-karencici-pinyin-lyrics-and-english-translation/'},\n",
       " {'Title': 'ihateyou1000',\n",
       "  'Artist': 'Karencici',\n",
       "  'Understandability': 67,\n",
       "  'Importance': 61,\n",
       "  'Score': -6,\n",
       "  'New Words': [],\n",
       "  'Link': 'https://lyricspinyin.com/2020/06/18/ihateyou1000-by-karencici-pinyin-lyrics-and-english-translation/'},\n",
       " {'Title': 'Bie Nong Hua Wo De Zhuang 別弄花我的妝',\n",
       "  'Artist': 'Sharon Kwan 關詩敏 feat. Karencici',\n",
       "  'Understandability': 59,\n",
       "  'Importance': 52,\n",
       "  'Score': -7,\n",
       "  'New Words': ['轮不到', '伤疤', '刺青', '白马王子', '战利品', '何妨', '出击', '眼泪', '盛事'],\n",
       "  'Link': 'https://lyricspinyin.com/2020/06/17/bie-nong-hua-wo-de-zhuang-%e5%88%a5%e5%bc%84%e8%8a%b1%e6%88%91%e7%9a%84%e5%a6%9d-by-sharon-kwan-%e9%97%9c%e8%a9%a9%e6%95%8f-feat-karencici-pinyin-lyrics-and-english-translation/'},\n",
       " {'Title': 'Shui 誰',\n",
       "  'Artist': 'Karencici',\n",
       "  'Understandability': 61,\n",
       "  'Importance': 54,\n",
       "  'Score': -7,\n",
       "  'New Words': [],\n",
       "  'Link': 'https://lyricspinyin.com/2020/05/03/shui-%e8%aa%b0-by-karencici-pinyin-lyrics-and-english-translation/'},\n",
       " {'Title': 'Di Yi Yan 第一眼',\n",
       "  'Artist': 'LION 獅子',\n",
       "  'Understandability': 61,\n",
       "  'Importance': 58,\n",
       "  'Score': -3,\n",
       "  'New Words': ['闪亮', '蹟', '自怨', '纷乱', '转移视线'],\n",
       "  'Link': 'https://lyricspinyin.com/2020/02/15/di-yi-yan-%e7%ac%ac%e4%b8%80%e7%9c%bc-by-lion-%e7%8d%85%e5%ad%90-pinyin-lyrics-and-english-translation/'},\n",
       " {'Title': 'Mei Li 、Chou Yu Wo 美麗、醜與我',\n",
       "  'Artist': 'LION 獅子Pinyin Lyrics And English Translation\\xa0 - Lyrics Pinyin',\n",
       "  'Understandability': 56,\n",
       "  'Importance': 49,\n",
       "  'Score': -7,\n",
       "  'New Words': ['掩盖着', '佈', '永恆', '酿成', '引燃', '暴风雨'],\n",
       "  'Link': 'https://lyricspinyin.com/2019/12/02/mei-li-%e3%80%81chou-yu-wo-%e7%be%8e%e9%ba%97%e3%80%81%e9%86%9c%e8%88%87%e6%88%91-by-lion-%e7%8d%85%e5%ad%90pinyin-lyrics-and-english-translation/'},\n",
       " {'Title': 'Xiao Zhi Da 蕭志達',\n",
       "  'Artist': 'LION 獅子',\n",
       "  'Understandability': 59,\n",
       "  'Importance': 54,\n",
       "  'Score': -5,\n",
       "  'New Words': ['阖', '唿吸', '泪痕', '闭住', '彿'],\n",
       "  'Link': 'https://lyricspinyin.com/2019/11/23/xiao-zhi-da-%e8%95%ad%e5%bf%97%e9%81%94-by-lion-%e7%8d%85%e5%ad%90-pinyin-lyrics-and-english-translation/'},\n",
       " {'Title': 'Zhi Zu 知足',\n",
       "  'Artist': 'MAYDAY 五月天',\n",
       "  'Understandability': 64,\n",
       "  'Importance': 58,\n",
       "  'Score': -6,\n",
       "  'New Words': ['最痛', '风筝', '山丘'],\n",
       "  'Link': 'https://lyricspinyin.com/2020/06/05/zhi-zu-%e7%9f%a5%e8%b6%b3-by-mayday-%e4%ba%94%e6%9c%88%e5%a4%a9-pinyin-lyrics-and-english-translation/'},\n",
       " {'Title': 'Nuo Ya Fang Zhou 諾亞方舟',\n",
       "  'Artist': 'MAYDAY 五月天',\n",
       "  'Understandability': 46,\n",
       "  'Importance': 45,\n",
       "  'Score': -1,\n",
       "  'New Words': ['草莓',\n",
       "   '彗星',\n",
       "   '塔顶',\n",
       "   '诺亚方舟',\n",
       "   '浓烈',\n",
       "   '血缘',\n",
       "   '自由女神',\n",
       "   '同类',\n",
       "   '初识',\n",
       "   '鹦鹉',\n",
       "   '沉浮',\n",
       "   '拨给',\n",
       "   '埋进',\n",
       "   '孔雀',\n",
       "   '花豹',\n",
       "   '屋檐',\n",
       "   '无限',\n",
       "   '跃出',\n",
       "   '杜拜',\n",
       "   '陨石',\n",
       "   '塔尖'],\n",
       "  'Link': 'https://lyricspinyin.com/2020/06/01/nuo-ya-fang-zhou-%e8%ab%be%e4%ba%9e%e6%96%b9%e8%88%9f-by-mayday-%e4%ba%94%e6%9c%88%e5%a4%a9-pinyin-lyrics-and-english-translation/'},\n",
       " {'Title': 'Bu Wei Shui Er Zuo De Ge 不為誰而作的歌',\n",
       "  'Artist': 'MAYDAY 五月天',\n",
       "  'Understandability': 56,\n",
       "  'Importance': 49,\n",
       "  'Score': -7,\n",
       "  'New Words': ['瞒过', '避过', '闪过', '彿', '探究', '推当'],\n",
       "  'Link': 'https://lyricspinyin.com/2020/04/17/bu-wei-shui-er-zuo-de-ge-%e4%b8%8d%e7%82%ba%e8%aa%b0%e8%80%8c%e4%bd%9c%e7%9a%84%e6%ad%8c-by-mayday-%e4%ba%94%e6%9c%88%e5%a4%a9-pinyin-lyrics-and-english-translation/'},\n",
       " {'Title': 'Wen Rou 溫柔',\n",
       "  'Artist': 'Mayday 五月天',\n",
       "  'Understandability': 68,\n",
       "  'Importance': 64,\n",
       "  'Score': -4,\n",
       "  'New Words': ['绮丽', '巷子口', '孤单'],\n",
       "  'Link': 'https://lyricspinyin.com/2020/01/03/wen-rou-%e6%ba%ab%e6%9f%94-by-mayday-%e4%ba%94%e6%9c%88%e5%a4%a9-pinyin-lyrics-and-english-translation/'},\n",
       " {'Title': 'Tu Ran Hao Xiang Ni 突然好想你',\n",
       "  'Artist': '五月天',\n",
       "  'Understandability': 63,\n",
       "  'Importance': 61,\n",
       "  'Score': -2,\n",
       "  'New Words': ['眼泪', '最痛', '纪念品', '绞痛'],\n",
       "  'Link': 'https://lyricspinyin.com/2019/11/05/tu-ran-hao-xiang-ni-%e7%aa%81%e7%84%b6%e5%a5%bd%e6%83%b3%e4%bd%a0-by-%e4%ba%94%e6%9c%88%e5%a4%a9-pinyin-lyrics-and-english-translation/'},\n",
       " {'Title': 'Jue Qiang 倔強',\n",
       "  'Artist': '五月天',\n",
       "  'Understandability': 61,\n",
       "  'Importance': 57,\n",
       "  'Score': -4,\n",
       "  'New Words': ['凤凰', '握紧'],\n",
       "  'Link': 'https://lyricspinyin.com/2019/10/30/jue-qiang-%e5%80%94%e5%bc%b7-by-%e4%ba%94%e6%9c%88%e5%a4%a9-pinyin-lyrics-and-english-translation/'},\n",
       " {'Title': 'Chun Zhen 純真',\n",
       "  'Artist': 'Mayday 五月天',\n",
       "  'Understandability': 58,\n",
       "  'Importance': 54,\n",
       "  'Score': -4,\n",
       "  'New Words': ['湖面', '皎洁', '照不透', '波光'],\n",
       "  'Link': 'https://lyricspinyin.com/2019/10/09/chun-zhen-%e7%b4%94%e7%9c%9f-by-mayday-%e4%ba%94%e6%9c%88%e5%a4%a9-pinyin-lyrics-and-english-translation/'},\n",
       " {'Title': 'Yin Xing De Ji Nian 隱形的紀念',\n",
       "  'Artist': 'Mayday 五月天',\n",
       "  'Understandability': 61,\n",
       "  'Importance': 56,\n",
       "  'Score': -5,\n",
       "  'New Words': ['旅途', '悄悄的', '莫忘'],\n",
       "  'Link': 'https://lyricspinyin.com/2019/10/09/yin-xing-de-ji-nian-%e9%9a%b1%e5%bd%a2%e7%9a%84%e7%b4%80%e5%bf%b5-by-mayday-%e4%ba%94%e6%9c%88%e5%a4%a9-pinyin-lyrics-and-english-translation/'},\n",
       " {'Title': 'Mei Gui Shao Nian 玫瑰少年',\n",
       "  'Artist': 'Mayday 五月天',\n",
       "  'Understandability': 54,\n",
       "  'Importance': 50,\n",
       "  'Score': -4,\n",
       "  'New Words': ['囹圄',\n",
       "   '倾诉',\n",
       "   '玫瑰',\n",
       "   '有罪',\n",
       "   '无罪',\n",
       "   '妳',\n",
       "   '绽放',\n",
       "   '荆棘',\n",
       "   '唤醒',\n",
       "   '朵玫瑰',\n",
       "   '传奇',\n",
       "   '罪愆'],\n",
       "  'Link': 'https://lyricspinyin.com/2019/10/09/mei-gui-shao-nian-%e7%8e%ab%e7%91%b0%e5%b0%91%e5%b9%b4-by-mayday-%e4%ba%94%e6%9c%88%e5%a4%a9-pinyin-lyrics-and-english-translation/'},\n",
       " {'Title': 'Lu Hang Gong Lu 旅行公路',\n",
       "  'Artist': 'Men Envy Children 小男孩樂團',\n",
       "  'Understandability': 48,\n",
       "  'Importance': 44,\n",
       "  'Score': -4,\n",
       "  'New Words': ['飒飒',\n",
       "   '呜呜',\n",
       "   '救赎',\n",
       "   '旅途',\n",
       "   '后轮',\n",
       "   '轮回',\n",
       "   '桎梏',\n",
       "   '斑驳',\n",
       "   '荒芜',\n",
       "   '唿',\n",
       "   '每一秒',\n",
       "   '额头',\n",
       "   '吞蚀',\n",
       "   '加速度',\n",
       "   '汗珠',\n",
       "   '谬误',\n",
       "   '泛出',\n",
       "   '反骨'],\n",
       "  'Link': 'https://lyricspinyin.com/2020/01/01/lu-hang-gong-lu-%e6%97%85%e8%a1%8c%e5%85%ac%e8%b7%af-by-men-envy-children-%e5%b0%8f%e7%94%b7%e5%ad%a9%e6%a8%82%e5%9c%98-pinyin-lyrics-and-english-translation/'},\n",
       " {'Title': 'Huo Zai Zi Ji De Shi Jie 活在自己的世界',\n",
       "  'Artist': '守夜人樂團',\n",
       "  'Understandability': 57,\n",
       "  'Importance': 52,\n",
       "  'Score': -5,\n",
       "  'New Words': ['碎裂', '泪液', '眼泪', '咒语', '收讯', '唿吸', '低速'],\n",
       "  'Link': 'https://lyricspinyin.com/2019/11/07/huo-zai-zi-ji-de-shi-jie-%e6%b4%bb%e5%9c%a8%e8%87%aa%e5%b7%b1%e7%9a%84%e4%b8%96%e7%95%8c-by-%e5%ae%88%e5%a4%9c%e4%ba%ba%e6%a8%82%e5%9c%98-pinyin-lyrics-and-english-translation/'},\n",
       " {'Title': 'Wo Shui Bu Zhe 我睡不著',\n",
       "  'Artist': 'Night Keepers 守夜人樂團',\n",
       "  'Understandability': 58,\n",
       "  'Importance': 54,\n",
       "  'Score': -4,\n",
       "  'New Words': ['蹟', '疏离'],\n",
       "  'Link': 'https://lyricspinyin.com/2019/10/30/wo-shui-bu-zhe-%e6%88%91%e7%9d%a1%e4%b8%8d%e8%91%97-by-night-keepers-%e5%ae%88%e5%a4%9c%e4%ba%ba%e6%a8%82%e5%9c%98-pinyin-lyrics-and-english-translation/'},\n",
       " {'Title': 'Ou Xi Fan Ni 偶喜翻你',\n",
       "  'Artist': 'Nine One One 玖壹壹',\n",
       "  'Understandability': 58,\n",
       "  'Importance': 53,\n",
       "  'Score': -5,\n",
       "  'New Words': ['呕美红感', '岛里', '眼泪', '心窝', '笑呵呵', '敞篷车', '呦', '憨慢', '草枝', '孤单'],\n",
       "  'Link': 'https://lyricspinyin.com/2020/03/08/ou-xi-fan-ni-%e5%81%b6%e5%96%9c%e7%bf%bb%e4%bd%a0-by-nine-one-one-%e7%8e%96%e5%a3%b9%e5%a3%b9-pinyin-lyrics-and-english-translation/'},\n",
       " {'Title': 'Ru Chang 如常',\n",
       "  'Artist': 'No Party for Cao Dong 草東沒有派對',\n",
       "  'Understandability': 54,\n",
       "  'Importance': 45,\n",
       "  'Score': -9,\n",
       "  'New Words': ['眼泪'],\n",
       "  'Link': 'https://lyricspinyin.com/2020/06/30/ru-chang-%e5%a6%82%e5%b8%b8-by-no-party-for-cao-dong-%e8%8d%89%e6%9d%b1%e6%b2%92%e6%9c%89%e6%b4%be%e5%b0%8d-pinyin-lyrics-and-english-translation/'},\n",
       " {'Title': 'Zhong Yu Ming Bai 終於明白',\n",
       "  'Artist': 'Power Station 動力火車',\n",
       "  'Understandability': 57,\n",
       "  'Importance': 57,\n",
       "  'Score': 0,\n",
       "  'New Words': ['命中注定', '莫失', '宿命', '飘浮', '唿吸', '潮水般', '渐渐', '莫忘', '云彩'],\n",
       "  'Link': 'https://lyricspinyin.com/2020/08/23/zhong-yu-ming-bai-%e7%b5%82%e6%96%bc%e6%98%8e%e7%99%bd-by-power-station-%e5%8b%95%e5%8a%9b%e7%81%ab%e8%bb%8a-pinyin-lyrics-and-english-translation/'},\n",
       " {'Title': 'Yong Yuan Bu Zai 永遠不再',\n",
       "  'Artist': 'Power Station 動力火車',\n",
       "  'Understandability': 63,\n",
       "  'Importance': 60,\n",
       "  'Score': -3,\n",
       "  'New Words': ['炙热', '夺走', '孤单'],\n",
       "  'Link': 'https://lyricspinyin.com/2020/06/04/yong-yuan-bu-zai-%e6%b0%b8%e9%81%a0%e4%b8%8d%e5%86%8d-by-power-station-%e5%8b%95%e5%8a%9b%e7%81%ab%e8%bb%8a-pinyin-lyrics-and-english-translation/'},\n",
       " {'Title': 'Wo Yao Fei 我要飛',\n",
       "  'Artist': 'Rocket Girls 火箭少女',\n",
       "  'Understandability': 54,\n",
       "  'Importance': 51,\n",
       "  'Score': -3,\n",
       "  'New Words': ['如履薄冰',\n",
       "   '无忧',\n",
       "   '欲言又止',\n",
       "   '痛过',\n",
       "   '栖身',\n",
       "   '轻盈',\n",
       "   '喜极而泣',\n",
       "   '蠢蠢欲动',\n",
       "   '襁褓',\n",
       "   '顶峰',\n",
       "   '枷锁',\n",
       "   '陆行',\n",
       "   '追奔',\n",
       "   '不朽',\n",
       "   '羽毛'],\n",
       "  'Link': 'https://lyricspinyin.com/2020/07/12/wo-yao-fei-%e6%88%91%e8%a6%81%e9%a3%9b-by-rocket-girls-%e7%81%ab%e7%ae%ad%e5%b0%91%e5%a5%b3-pinyin-lyrics-and-english-translation/'},\n",
       " {'Title': '5452830',\n",
       "  'Artist': 'Rocket Girls 101火箭少女',\n",
       "  'Understandability': 59,\n",
       "  'Importance': 53,\n",
       "  'Score': -6,\n",
       "  'New Words': ['放胆', '封信', '含着泪'],\n",
       "  'Link': 'https://lyricspinyin.com/2020/06/26/5452830-by-rocket-girls-101%e7%81%ab%e7%ae%ad%e5%b0%91%e5%a5%b3-pinyin-lyrics-and-english-translation/'},\n",
       " {'Title': 'Guai Mei De 怪美的',\n",
       "  'Artist': 'Rocket Girls 101 火箭少女',\n",
       "  'Understandability': 64,\n",
       "  'Importance': 61,\n",
       "  'Score': -3,\n",
       "  'New Words': ['显耀', '站稳', '婉转', '邪恶', '神丑', '伪善', '坑疤', '会喘任', '恶'],\n",
       "  'Link': 'https://lyricspinyin.com/2020/06/20/guai-mei-de-%e6%80%aa%e7%be%8e%e7%9a%84-by-rocket-girls-101-%e7%81%ab%e7%ae%ad%e5%b0%91%e5%a5%b3-pinyin-lyrics-and-english-translation/'},\n",
       " {'Title': 'Ying Tang 硬糖',\n",
       "  'Artist': 'Rocket Girls 101 火箭少女',\n",
       "  'Understandability': 45,\n",
       "  'Importance': 42,\n",
       "  'Score': -3,\n",
       "  'New Words': ['势不可挡',\n",
       "   '灼伤',\n",
       "   '酸爽',\n",
       "   '踏过',\n",
       "   '豁上',\n",
       "   '涂装',\n",
       "   '胡思乱想',\n",
       "   '巴掌',\n",
       "   '女王',\n",
       "   '本命',\n",
       "   '不爽',\n",
       "   '堂皇',\n",
       "   '戎装',\n",
       "   '痴心妄想',\n",
       "   '回敬',\n",
       "   '脚尖',\n",
       "   '痛过',\n",
       "   '捧场',\n",
       "   '逆着',\n",
       "   '上膛',\n",
       "   '耗光',\n",
       "   '坐拥',\n",
       "   '血浆',\n",
       "   '飒爽',\n",
       "   '战狼',\n",
       "   '狂妄',\n",
       "   '涂鸦'],\n",
       "  'Link': 'https://lyricspinyin.com/2020/06/20/ying-tang-%e7%a1%ac%e7%b3%96-by-rocket-girls-101-%e7%81%ab%e7%ae%ad%e5%b0%91%e5%a5%b3-pinyin-lyrics/'},\n",
       " {'Title': 'My Dear',\n",
       "  'Artist': 'sis',\n",
       "  'Understandability': 50,\n",
       "  'Importance': 47,\n",
       "  'Score': -3,\n",
       "  'New Words': ['初次见面', '柔软', '浩瀚', '并肩', '弥长', '初冬', '眺望', '称谓', '疏离'],\n",
       "  'Link': 'https://lyricspinyin.com/2020/01/06/my-dear-by-sis-pinyin-lyrics-and-english-translation/'},\n",
       " {'Title': 'Yang Shi Er Lai 仰世而来',\n",
       "  'Artist': 'Sisters Who Make Waves 乘風破浪的姐姐',\n",
       "  'Understandability': 51,\n",
       "  'Importance': 49,\n",
       "  'Score': -2,\n",
       "  'New Words': ['闯荡',\n",
       "   '肆意',\n",
       "   '破晓',\n",
       "   '尘埃',\n",
       "   '握空',\n",
       "   '胶着',\n",
       "   '仰世而来',\n",
       "   '风帆',\n",
       "   '踏浪',\n",
       "   '懦弱',\n",
       "   '潮起潮落',\n",
       "   '紧握',\n",
       "   '盖世英雄',\n",
       "   '不卑不亢',\n",
       "   '忠于'],\n",
       "  'Link': 'https://lyricspinyin.com/2020/07/12/yang-shi-er-lai-%e4%bb%b0%e4%b8%96%e8%80%8c%e6%9d%a5-by-sisters-who-make-waves-%e4%b9%98%e9%a2%a8%e7%a0%b4%e6%b5%aa%e7%9a%84%e5%a7%90%e5%a7%90-pinyin-lyrics/'},\n",
       " {'Title': 'Xiao Qing Ge 小情歌',\n",
       "  'Artist': 'sodagreen 蘇打綠',\n",
       "  'Understandability': 51,\n",
       "  'Importance': 47,\n",
       "  'Score': -4,\n",
       "  'New Words': ['温热', '离骚', '绑票', '心肠', '捱', '白鸽', '苍老'],\n",
       "  'Link': 'https://lyricspinyin.com/2020/10/27/xiao-qing-ge-%e5%b0%8f%e6%83%85%e6%ad%8c-by-sodagreen-%e8%98%87%e6%89%93%e7%b6%a0-pinyin-lyrics-and-english-translation/'},\n",
       " {'Title': 'Ni Bei Xie Zai Wo De Ge Li 你被寫在我的歌裡',\n",
       "  'Artist': 'sodagreen 蘇打綠 feat. Ella',\n",
       "  'Understandability': 56,\n",
       "  'Importance': 52,\n",
       "  'Score': -4,\n",
       "  'New Words': ['忧伤', '干涸', '吟唱', '彿', '两串', '盛放'],\n",
       "  'Link': 'https://lyricspinyin.com/2020/03/15/ni-bei-xie-zai-wo-de-ge-li-%e4%bd%a0%e8%a2%ab%e5%af%ab%e5%9c%a8%e6%88%91%e7%9a%84%e6%ad%8c%e8%a3%a1-by-sodagreen-%e8%98%87%e6%89%93%e7%b6%a0-feat-ella-pinyin-lyrics-and-english-translation/'},\n",
       " {'Title': 'Tomorrow will be fine',\n",
       "  'Artist': 'Sodagreen 蘇打綠',\n",
       "  'Understandability': 55,\n",
       "  'Importance': 50,\n",
       "  'Score': -5,\n",
       "  'New Words': ['一搏', '放胆', '把酒言欢', '云间', '地老天荒'],\n",
       "  'Link': 'https://lyricspinyin.com/2020/03/01/tomorrow-will-be-fine-by-sodagreen-%e8%98%87%e6%89%93%e7%b6%a0-pinyin-lyrics-and-english-translation/'},\n",
       " {'Title': 'Wo Hao Xiang Ni 我好想你',\n",
       "  'Artist': 'Sodagreen 蘇打綠',\n",
       "  'Understandability': 50,\n",
       "  'Importance': 48,\n",
       "  'Score': -2,\n",
       "  'New Words': ['偌大', '耶耶', '不露痕迹', '随麻痺', '渺无音讯', '闭', '踮着'],\n",
       "  'Link': 'https://lyricspinyin.com/2020/02/10/wo-hao-xiang-ni-%e6%88%91%e5%a5%bd%e6%83%b3%e4%bd%a0-by-sodagreen-%e8%98%87%e6%89%93%e7%b6%a0-pinyin-lyrics-and-english-translation/'},\n",
       " {'Title': 'My Boo',\n",
       "  'Artist': 'TFBOYS 易烊千璽 (Jackson Yee)',\n",
       "  'Understandability': 61,\n",
       "  'Importance': 55,\n",
       "  'Score': -6,\n",
       "  'New Words': ['唐突', '唿', '原地踏步', '太含', '煳'],\n",
       "  'Link': 'https://lyricspinyin.com/2020/08/20/my-boo-by-tfboys-%e6%98%93%e7%83%8a%e5%8d%83%e7%92%bd-jackson-yee-pinyin-lyrics/'},\n",
       " {'Title': 'Deng Huo 燈火',\n",
       "  'Artist': 'TFBOYS',\n",
       "  'Understandability': 57,\n",
       "  'Importance': 51,\n",
       "  'Score': -6,\n",
       "  'New Words': ['拥抱着',\n",
       "   '久违',\n",
       "   '一扇',\n",
       "   '撑住',\n",
       "   '坠落',\n",
       "   '心窝',\n",
       "   '星辰',\n",
       "   '驱走',\n",
       "   '微弱',\n",
       "   '已痛',\n",
       "   '仰望',\n",
       "   '一盏盏'],\n",
       "  'Link': 'https://lyricspinyin.com/2020/08/20/deng-huo-%e7%87%88%e7%81%ab-by-tfboys-pinyin-lyrics-and-english-translation/'},\n",
       " {'Title': 'He Ni Zai Yi Qi 和你在一起',\n",
       "  'Artist': 'TFBOYS',\n",
       "  'Understandability': 54,\n",
       "  'Importance': 51,\n",
       "  'Score': -3,\n",
       "  'New Words': ['毫不在意',\n",
       "   '云层',\n",
       "   '拨开',\n",
       "   '宠爱',\n",
       "   '温习',\n",
       "   '佔据',\n",
       "   '默契',\n",
       "   '兑成',\n",
       "   '攀比',\n",
       "   '唉声叹气',\n",
       "   '无与伦比'],\n",
       "  'Link': 'https://lyricspinyin.com/2020/08/16/he-ni-zai-yi-qi-%e5%92%8c%e4%bd%a0%e5%9c%a8%e4%b8%80%e8%b5%b7-by-tfboys-pinyin-lyrics-and-english-translation/'},\n",
       " {'Title': 'Fen Wu Hai 粉霧海',\n",
       "  'Artist': 'TFBOYS',\n",
       "  'Understandability': 50,\n",
       "  'Importance': 48,\n",
       "  'Score': -2,\n",
       "  'New Words': ['深邃',\n",
       "   '重置',\n",
       "   '轻抚',\n",
       "   '弥散',\n",
       "   '灼热',\n",
       "   '每秒',\n",
       "   '焰火',\n",
       "   '叹息',\n",
       "   '暗恋',\n",
       "   '荡起',\n",
       "   '握紧',\n",
       "   '行踪',\n",
       "   '对焦',\n",
       "   '邂逅'],\n",
       "  'Link': 'https://lyricspinyin.com/2020/08/14/fen-wu-hai-%e7%b2%89%e9%9c%a7%e6%b5%b7-by-tfboys-pinyin-lyrics-and-english-translation/'},\n",
       " {'Title': 'Xiang Yu 相遇',\n",
       "  'Artist': 'TNT時代少年團',\n",
       "  'Understandability': 52,\n",
       "  'Importance': 52,\n",
       "  'Score': 0,\n",
       "  'New Words': ['拥抱着',\n",
       "   '正等待',\n",
       "   '流言蜚语',\n",
       "   '抛开',\n",
       "   '追寻',\n",
       "   '扑空',\n",
       "   '沙哑',\n",
       "   '恶语',\n",
       "   '栖息',\n",
       "   '荆棘',\n",
       "   '不堪一击',\n",
       "   '遮住',\n",
       "   '俯瞰',\n",
       "   '苟同',\n",
       "   '闭上眼',\n",
       "   '唿喊',\n",
       "   '聆听',\n",
       "   '捉弄',\n",
       "   '晨曦',\n",
       "   '癒',\n",
       "   '裂口',\n",
       "   '无影无踪',\n",
       "   '压抑着',\n",
       "   '刺痛'],\n",
       "  'Link': 'https://lyricspinyin.com/2020/08/30/xiang-yu-%e7%9b%b8%e9%81%87-by-tnt%e6%99%82%e4%bb%a3%e5%b0%91%e5%b9%b4%e5%9c%98-pinyin-lyrics/'},\n",
       " {'Title': 'Jie Jie Zhen Piao Liang 姐姐真漂亮',\n",
       "  'Artist': 'TNT時代少年團',\n",
       "  'Understandability': 54,\n",
       "  'Importance': 50,\n",
       "  'Score': -4,\n",
       "  'New Words': ['有罪', '奥里', '註', '胡思乱想', '哟', '遮住', '唿吸', '命中', '超音速', '有滋有味'],\n",
       "  'Link': 'https://lyricspinyin.com/2020/08/16/jie-jie-zhen-piao-liang-%e5%a7%90%e5%a7%90%e7%9c%9f%e6%bc%82%e4%ba%ae-by-tnt%e6%99%82%e4%bb%a3%e5%b0%91%e5%b9%b4%e5%9c%98-pinyin-lyrics-and-english-translation/'},\n",
       " {'Title': 'Xi Wang Ni Hui Lai 希望你回來',\n",
       "  'Artist': 'TRASH',\n",
       "  'Understandability': 61,\n",
       "  'Importance': 55,\n",
       "  'Score': -6,\n",
       "  'New Words': ['坎坎坷坷', '骨气', '苛责', '不舍', '崩坏', '躯壳', '凡人'],\n",
       "  'Link': 'https://lyricspinyin.com/2019/11/20/xi-wang-ni-hui-lai-%e5%b8%8c%e6%9c%9b%e4%bd%a0%e5%9b%9e%e4%be%86-by-trash-pinyin-lyrics-and-english-translation/'},\n",
       " {'Title': 'Zhong Gan Qing De Fei Wu 重感情的廢物',\n",
       "  'Artist': 'Trash',\n",
       "  'Understandability': 57,\n",
       "  'Importance': 55,\n",
       "  'Score': -2,\n",
       "  'New Words': ['孤寂', '香槟', '谎话', '沈重', '曲终人散', '荒芜', '一哩路', '盃'],\n",
       "  'Link': 'https://lyricspinyin.com/2019/10/24/zhong-gan-qing-de-fei-wu-%e9%87%8d%e6%84%9f%e6%83%85%e7%9a%84%e5%bb%a2%e7%89%a9-by-trash-pinyin-lyrics-and-english-translation/'},\n",
       " {'Title': 'ALL DAY',\n",
       "  'Artist': 'W0LF(S) 五堅情',\n",
       "  'Understandability': 55,\n",
       "  'Importance': 53,\n",
       "  'Score': -2,\n",
       "  'New Words': ['邋遢',\n",
       "   '那余温',\n",
       "   '暴风圈',\n",
       "   '沈醉',\n",
       "   '无畏',\n",
       "   '过腻',\n",
       "   '口令',\n",
       "   '讯号',\n",
       "   '生闷气',\n",
       "   '挚友',\n",
       "   '乐悠悠'],\n",
       "  'Link': 'https://lyricspinyin.com/2020/07/23/all-day-by-w0lfs-%e4%ba%94%e5%a0%85%e6%83%85-pinyin-lyrics-and-english-translation/'},\n",
       " {'Title': 'Zhe Yang Jiu Hao Zhe Yang Jiu Hao 這樣就好 這樣就好',\n",
       "  'Artist': 'Your Woman Sleep with Others 老王樂隊',\n",
       "  'Understandability': 59,\n",
       "  'Importance': 57,\n",
       "  'Score': -2,\n",
       "  'New Words': ['眉头', '紧皱', '握拳', '渐渐'],\n",
       "  'Link': 'https://lyricspinyin.com/2020/07/07/zhe-yang-jiu-hao-zhe-yang-jiu-hao-%e9%80%99%e6%a8%a3%e5%b0%b1%e5%a5%bd-%e9%80%99%e6%a8%a3%e5%b0%b1%e5%a5%bd-by-your-woman-sleep-with-others-%e8%80%81%e7%8e%8b%e6%a8%82%e9%9a%8a-pinyin-lyrics-and-engli/'},\n",
       " {'Title': 'Lie 獵',\n",
       "  'Artist': 'Youth With You 青春有你',\n",
       "  'Understandability': 55,\n",
       "  'Importance': 54,\n",
       "  'Score': -1,\n",
       "  'New Words': ['恍惚',\n",
       "   '猎手',\n",
       "   '声东击西',\n",
       "   '匍匐',\n",
       "   '轻佻',\n",
       "   '一秒',\n",
       "   '追寻',\n",
       "   '猎物',\n",
       "   '禁锢',\n",
       "   '声势浩大',\n",
       "   '升温',\n",
       "   '一击',\n",
       "   '瞄准镜',\n",
       "   '上膛',\n",
       "   '唿吸',\n",
       "   '飒',\n",
       "   '稍后',\n",
       "   '追击',\n",
       "   '狡诈',\n",
       "   '击西',\n",
       "   '轻敌',\n",
       "   '闭上',\n",
       "   '屏住'],\n",
       "  'Link': 'https://lyricspinyin.com/2020/06/20/lie-%e7%8d%b5-by-youth-with-you-%e9%9d%92%e6%98%a5%e6%9c%89%e4%bd%a0-pinyin-lyrics/'},\n",
       " {'Title': 'YES! OK!',\n",
       "  'Artist': 'Youth With You 青春有你',\n",
       "  'Understandability': 60,\n",
       "  'Importance': 55,\n",
       "  'Score': -5,\n",
       "  'New Words': ['绽放'],\n",
       "  'Link': 'https://lyricspinyin.com/2020/06/07/yes-ok-by-youth-with-you-%e9%9d%92%e6%98%a5%e6%9c%89%e4%bd%a0-pinyin-lyrics-and-english-translation/'},\n",
       " {'Title': 'Bu Yong Qu Cai 不用去猜',\n",
       "  'Artist': 'Youth With You 青春有你 & JONY J',\n",
       "  'Understandability': 57,\n",
       "  'Importance': 53,\n",
       "  'Score': -4,\n",
       "  'New Words': ['大富翁',\n",
       "   '感叹号',\n",
       "   '氾',\n",
       "   '丧气',\n",
       "   '悠然',\n",
       "   '低谷',\n",
       "   '限量',\n",
       "   '归宿',\n",
       "   '加点油',\n",
       "   '沖',\n",
       "   '仗义',\n",
       "   '拼图'],\n",
       "  'Link': 'https://lyricspinyin.com/2020/05/27/bu-yong-qu-cai-%e4%b8%8d%e7%94%a8%e5%8e%bb%e7%8c%9c-by-youth-with-you-%e9%9d%92%e6%98%a5%e6%9c%89%e4%bd%a0-jony-j-pinyin-lyrics-and-english-translation/'},\n",
       " {'Title': 'Bu Fu 不服',\n",
       "  'Artist': 'Youth With You 青春有你 & Silence Wang\\xa0汪蘇瀧',\n",
       "  'Understandability': 49,\n",
       "  'Importance': 48,\n",
       "  'Score': -1,\n",
       "  'New Words': ['傲骨',\n",
       "   '眼泪',\n",
       "   '谜',\n",
       "   '醍醐灌顶',\n",
       "   '煳',\n",
       "   '偏当',\n",
       "   '自言自语',\n",
       "   '尖刺',\n",
       "   '忍住',\n",
       "   '扛起',\n",
       "   '赌',\n",
       "   '悲怆',\n",
       "   '退缩',\n",
       "   '懦弱',\n",
       "   '唿吸',\n",
       "   '不嫉妒',\n",
       "   '歇斯底里',\n",
       "   '嵴',\n",
       "   '双肺',\n",
       "   '反骨',\n",
       "   '疯子',\n",
       "   '暴风雨',\n",
       "   '归途',\n",
       "   '窒息'],\n",
       "  'Link': 'https://lyricspinyin.com/2020/05/26/bu-fu-%e4%b8%8d%e6%9c%8d-by-youth-with-you-%e9%9d%92%e6%98%a5%e6%9c%89%e4%bd%a0-silence-wang-%e6%b1%aa%e8%98%87%e7%80%a7-pinyin-lyrics-and-english-translation/'},\n",
       " {'Title': 'Bu Feng Pei 不奉陪',\n",
       "  'Artist': 'Youth With You 青春有你',\n",
       "  'Understandability': 65,\n",
       "  'Importance': 59,\n",
       "  'Score': -6,\n",
       "  'New Words': ['刺猬', '击退', '缥缈', '回馈', '原委', '嘘', '颓废', '坦然', '三言两语'],\n",
       "  'Link': 'https://lyricspinyin.com/2020/05/12/bu-feng-pei-%e4%b8%8d%e5%a5%89%e9%99%aa-by-youth-with-you-%e9%9d%92%e6%98%a5%e6%9c%89%e4%bd%a0-pinyin-lyrics/'},\n",
       " {'Title': 'Qian Ju Se Gu Dao 淺橘色孤島',\n",
       "  'Artist': 'Youth with You 青春有你',\n",
       "  'Understandability': 51,\n",
       "  'Importance': 47,\n",
       "  'Score': -4,\n",
       "  'New Words': ['一幕',\n",
       "   '唿吸学',\n",
       "   '指尖',\n",
       "   '一秒',\n",
       "   '发梢',\n",
       "   '橘色',\n",
       "   '唿吸',\n",
       "   '微风',\n",
       "   '温习',\n",
       "   '偏要',\n",
       "   '羽毛'],\n",
       "  'Link': 'https://lyricspinyin.com/2020/05/12/qian-ju-se-gu-dao-%e6%b7%ba%e6%a9%98%e8%89%b2%e5%ad%a4%e5%b3%b6-by-youth-with-you-%e9%9d%92%e6%98%a5%e6%9c%89%e4%bd%a0-pinyin-lyrics-and-english-translation/'},\n",
       " {'Title': 'Wo Shi Yi Zhi Yu 我是一隻魚',\n",
       "  'Artist': 'Sunset Rollercoaster 落日飛車',\n",
       "  'Understandability': 50,\n",
       "  'Importance': 44,\n",
       "  'Score': -6,\n",
       "  'New Words': ['振作'],\n",
       "  'Link': 'https://lyricspinyin.com/2020/07/23/wo-shi-yi-zhi-yu-%e6%88%91%e6%98%af%e4%b8%80%e9%9a%bb%e9%ad%9a-by-sunset-rollercoaster-%e8%90%bd%e6%97%a5%e9%a3%9b%e8%bb%8a-pinyin-lyrics-and-english-translation/'},\n",
       " {'Title': 'Hello Bye Bye',\n",
       "  'Artist': '9m88',\n",
       "  'Understandability': 49,\n",
       "  'Importance': 44,\n",
       "  'Score': -5,\n",
       "  'New Words': ['玫瑰',\n",
       "   '不归',\n",
       "   '防漏',\n",
       "   '坠落',\n",
       "   '妳',\n",
       "   '往下坠',\n",
       "   '暗潮汹涌',\n",
       "   '森巴舞',\n",
       "   '泉涌',\n",
       "   '唇印',\n",
       "   '腹部'],\n",
       "  'Link': 'https://lyricspinyin.com/2020/08/08/hello-bye-bye-by-9m88-pinyin-lyrics-and-english-translation/'},\n",
       " {'Title': 'Bu Xiang 不想',\n",
       "  'Artist': 'A Han 阿涵',\n",
       "  'Understandability': 61,\n",
       "  'Importance': 57,\n",
       "  'Score': -4,\n",
       "  'New Words': ['痛裹', '挤出', '眼泪'],\n",
       "  'Link': 'https://lyricspinyin.com/2020/06/07/bu-xiang-%e4%b8%8d%e6%83%b3-by-a-han-%e9%98%bf%e6%b6%b5-pinyin-lyrics-and-english-translation/'},\n",
       " {'Title': 'Shuo Yi Ju Wo Bu Zou Le 說一句我不走了',\n",
       "  'Artist': 'A Han 阿涵',\n",
       "  'Understandability': 67,\n",
       "  'Importance': 64,\n",
       "  'Score': -3,\n",
       "  'New Words': ['痛加', '眼泪', '挽留'],\n",
       "  'Link': 'https://lyricspinyin.com/2020/02/21/shuo-yi-ju-wo-bu-zou-le-%e8%aa%aa%e4%b8%80%e5%8f%a5%e6%88%91%e4%b8%8d%e8%b5%b0%e4%ba%86-by-a-han-%e9%98%bf%e6%b6%b5-pinyin-lyrics-and-english-translation/'},\n",
       " {'Title': 'Gan Xie Ni Ceng Lai Guo 感謝你曾來過',\n",
       "  'Artist': 'Ayo97 feat. A Han 阿涵',\n",
       "  'Understandability': 57,\n",
       "  'Importance': 51,\n",
       "  'Score': -6,\n",
       "  'New Words': ['淋伤', '痛过', '一幕幕', '游荡', '浮现', '吉他'],\n",
       "  'Link': 'https://lyricspinyin.com/2020/02/21/gan-xie-ni-ceng-lai-guo-%e6%84%9f%e8%ac%9d%e4%bd%a0%e6%9b%be%e4%be%86%e9%81%8e-by-ayo97-feat-a-han-%e9%98%bf%e6%b6%b5-pinyin-lyrics-and-english-translation/'},\n",
       " {'Title': 'Guo Ke 過客',\n",
       "  'Artist': 'A Han 阿涵',\n",
       "  'Understandability': 70,\n",
       "  'Importance': 54,\n",
       "  'Score': -16,\n",
       "  'New Words': [],\n",
       "  'Link': 'https://lyricspinyin.com/2019/10/10/guo-ke-%e9%81%8e%e5%ae%a2-by-a-han-%e9%98%bf%e6%b6%b5-pinyin-lyrics-and-english-translation/'},\n",
       " {'Title': 'Hai Hai Hai 海海海',\n",
       "  'Artist': 'A Qiao 阿悄',\n",
       "  'Understandability': 53,\n",
       "  'Importance': 49,\n",
       "  'Score': -4,\n",
       "  'New Words': ['流淌', '执迷', '伪装', '刺疼', '沉沦', '风云变幻', '哮来', '游荡', '微响'],\n",
       "  'Link': 'https://lyricspinyin.com/2020/08/25/hai-hai-hai-%e6%b5%b7%e6%b5%b7%e6%b5%b7-by-a-qiao-%e9%98%bf%e6%82%84-pinyin-lyrics/'},\n",
       " {'Title': 'Ren Wei Qing Tan 人為情嘆',\n",
       "  'Artist': 'A You You 阿悠悠',\n",
       "  'Understandability': 42,\n",
       "  'Importance': 38,\n",
       "  'Score': -4,\n",
       "  'New Words': ['红尘',\n",
       "   '看透',\n",
       "   '落魄',\n",
       "   '陌路',\n",
       "   '相怨',\n",
       "   '两端',\n",
       "   '相恋',\n",
       "   '无眠',\n",
       "   '年轮',\n",
       "   '善变',\n",
       "   '造物',\n",
       "   '帆',\n",
       "   '相拥',\n",
       "   '无缘'],\n",
       "  'Link': 'https://lyricspinyin.com/2020/09/07/ren-wei-qing-tan-%e4%ba%ba%e7%82%ba%e6%83%85%e5%98%86-by-a-you-you-%e9%98%bf%e6%82%a0%e6%82%a0-pinyin-lyrics/'},\n",
       " {'Title': 'Jiu Meng Yi Chang 舊夢一場',\n",
       "  'Artist': 'A You You 阿悠悠',\n",
       "  'Understandability': 35,\n",
       "  'Importance': 32,\n",
       "  'Score': -3,\n",
       "  'New Words': ['悟出',\n",
       "   '红尘',\n",
       "   '泪微',\n",
       "   '水淌',\n",
       "   '一刹',\n",
       "   '昙花',\n",
       "   '一抹',\n",
       "   '缘本',\n",
       "   '惊鸿',\n",
       "   '莫叹心',\n",
       "   '山岗',\n",
       "   '惆怅',\n",
       "   '痴狂',\n",
       "   '浮想',\n",
       "   '过缘',\n",
       "   '芬芳'],\n",
       "  'Link': 'https://lyricspinyin.com/2020/05/25/jiu-meng-yi-chang-%e8%88%8a%e5%a4%a2%e4%b8%80%e5%a0%b4-by-a-you-you-%e9%98%bf%e6%82%a0%e6%82%a0-pinyin-lyrics/'},\n",
       " {'Title': 'Bao Qian Wo Bu Bao Qian 抱歉 我不抱歉',\n",
       "  'Artist': 'A-Lin',\n",
       "  'Understandability': 59,\n",
       "  'Importance': 54,\n",
       "  'Score': -5,\n",
       "  'New Words': ['不眠不休',\n",
       "   '兵荒马乱',\n",
       "   '每枝',\n",
       "   '公审',\n",
       "   '蹟',\n",
       "   '坚忍',\n",
       "   '哀艳',\n",
       "   '缠绵',\n",
       "   '蒙羞',\n",
       "   '飞溅',\n",
       "   '剪',\n",
       "   '忠于'],\n",
       "  'Link': 'https://lyricspinyin.com/2020/09/25/bao-qian-wo-bu-bao-qian-%e6%8a%b1%e6%ad%89-%e6%88%91%e4%b8%8d%e6%8a%b1%e6%ad%89-by-a-lin-pinyin-lyrics-and-english-translation/'},\n",
       " {'Title': 'Na Zou Le Shi Me 拿走了什麼',\n",
       "  'Artist': 'A-Lin',\n",
       "  'Understandability': 66,\n",
       "  'Importance': 63,\n",
       "  'Score': -3,\n",
       "  'New Words': ['隐身', '瞒不过', '贴心'],\n",
       "  'Link': 'https://lyricspinyin.com/2020/03/02/na-zou-le-shi-me-%e6%8b%bf%e8%b5%b0%e4%ba%86%e4%bb%80%e9%ba%bc-by-a-lin-pinyin-lyrics-and-english-translation/'},\n",
       " {'Title': 'You Yi Zhong Bei Shang Jiao Chun Dan 有一種悲傷叫蠢蛋',\n",
       "  'Artist': '八三夭 A-Lin',\n",
       "  'Understandability': 61,\n",
       "  'Importance': 55,\n",
       "  'Score': -6,\n",
       "  'New Words': ['煳', '蠢蛋', '刀割', '义无反顾', '总蠢', '自我安慰'],\n",
       "  'Link': 'https://lyricspinyin.com/2019/12/10/you-yi-zhong-bei-shang-jiao-chun-dan-%e6%9c%89%e4%b8%80%e7%a8%ae%e6%82%b2%e5%82%b7%e5%8f%ab%e8%a0%a2%e8%9b%8b-by-%e5%85%ab%e4%b8%89%e5%a4%ad-a-lin-pinyin-lyrics-and-english-translation/'},\n",
       " {'Title': 'Xing Fu Tai Duan 幸福太短',\n",
       "  'Artist': 'A-Lin',\n",
       "  'Understandability': 50,\n",
       "  'Importance': 46,\n",
       "  'Score': -4,\n",
       "  'New Words': ['耳畔', '心坎', '转弯', '孤单'],\n",
       "  'Link': 'https://lyricspinyin.com/2019/11/08/xing-fu-tai-duan-%e5%b9%b8%e7%a6%8f%e5%a4%aa%e7%9f%ad-by-a-lin-pinyin-lyrics-and-english-translation/'},\n",
       " {'Title': 'You Yi Zhong Bei Shang 有一種悲傷',\n",
       "  'Artist': 'A-Lin',\n",
       "  'Understandability': 67,\n",
       "  'Importance': 63,\n",
       "  'Score': -4,\n",
       "  'New Words': ['义无反顾', '唿吸'],\n",
       "  'Link': 'https://lyricspinyin.com/2019/10/08/you-yi-zhong-bei-shang-%e6%9c%89%e4%b8%80%e7%a8%ae%e6%82%b2%e5%82%b7-by-a-lin-pinyin-lyrics-and-english-translation/'},\n",
       " {'Title': 'Ren Zhi 人質',\n",
       "  'Artist': 'A-Mei 張惠妹',\n",
       "  'Understandability': 58,\n",
       "  'Importance': 53,\n",
       "  'Score': -5,\n",
       "  'New Words': ['巨响', '归零', '沉溺', '唿吸越', '猜忌', '挟持', '憋着'],\n",
       "  'Link': 'https://lyricspinyin.com/2020/08/03/ren-zhi-%e4%ba%ba%e8%b3%aa-by-a-mei-%e5%bc%b5%e6%83%a0%e5%a6%b9-pinyin-lyrics-and-english-translation/'},\n",
       " {'Title': 'Zai Wo Men De Xing Qiu Yan Lei Bu Chao Guo San Miao在我們的星球眼淚不超過三秒',\n",
       "  'Artist': 'AFÜ 鄧福如',\n",
       "  'Understandability': 58,\n",
       "  'Importance': 52,\n",
       "  'Score': -6,\n",
       "  'New Words': ['黏多爱', '棉被', '忌口', '三秒', '慵懒', '抖抖', '弯弯的'],\n",
       "  'Link': 'https://lyricspinyin.com/2020/03/19/zai-wo-men-de-xing-qiu-yan-lei-bu-chao-guo-san-miao%e5%9c%a8%e6%88%91%e5%80%91%e7%9a%84%e6%98%9f%e7%90%83%e7%9c%bc%e6%b7%9a%e4%b8%8d%e8%b6%85%e9%81%8e%e4%b8%89%e7%a7%92-by-afu-%e9%84%a7%e7%a6%8f/'},\n",
       " {'Title': 'Xiang Ni 想你',\n",
       "  'Artist': 'Ai Chen 艾辰',\n",
       "  'Understandability': 58,\n",
       "  'Importance': 53,\n",
       "  'Score': -5,\n",
       "  'New Words': ['温热', '抽泣', '行渐', '哼唱', '渐渐', '周旋', '奢望', '弹奏', '残破'],\n",
       "  'Link': 'https://lyricspinyin.com/2020/05/13/xiang-ni-%e6%83%b3%e4%bd%a0-by-ai-chen-%e8%89%be%e8%be%b0-pinyin-lyrics-and-english-translation/'},\n",
       " {'Title': 'Hui Dao Xia Tian 回到夏天',\n",
       "  'Artist': '愛寫歌的小田 & 傲七爺',\n",
       "  'Understandability': 54,\n",
       "  'Importance': 50,\n",
       "  'Score': -4,\n",
       "  'New Words': ['蝉鸣',\n",
       "   '伴着',\n",
       "   '扑闪',\n",
       "   '爱恋',\n",
       "   '蝶舞',\n",
       "   '和弦',\n",
       "   '别来无恙',\n",
       "   '撩拨',\n",
       "   '单曲',\n",
       "   '翩翩',\n",
       "   '田边',\n",
       "   '操场上',\n",
       "   '初夏',\n",
       "   '心弦'],\n",
       "  'Link': 'https://lyricspinyin.com/2020/05/30/hui-dao-xia-tian-%e5%9b%9e%e5%88%b0%e5%a4%8f%e5%a4%a9-by-%e6%84%9b%e5%af%ab%e6%ad%8c%e7%9a%84%e5%b0%8f%e7%94%b0-%e5%82%b2%e4%b8%83%e7%88%ba-pinyin-lyrics-and-english-translation/'},\n",
       " {'Title': 'Ai Bi Si Geng Ji Mo (愛比死更寂寞)',\n",
       "  'Artist': 'Ai Yi Liang 艾怡良',\n",
       "  'Understandability': 68,\n",
       "  'Importance': 58,\n",
       "  'Score': -10,\n",
       "  'New Words': ['唿唤', '海阔天空'],\n",
       "  'Link': 'https://lyricspinyin.com/2019/09/25/ai-bi-si-geng-ji-mo-%e6%84%9b%e6%af%94%e6%ad%bb%e6%9b%b4%e5%af%82%e5%af%9e-by-ai-yi-liang-%e8%89%be%e6%80%a1%e8%89%af-pinyin-lyrics-and-english-translation/'},\n",
       " {'Title': 'San San Xin Hao Ma 散散心好嗎',\n",
       "  'Artist': 'Amanda 王欣晨',\n",
       "  'Understandability': 49,\n",
       "  'Importance': 44,\n",
       "  'Score': -5,\n",
       "  'New Words': ['维持现状',\n",
       "   '深邃',\n",
       "   '温热',\n",
       "   '相框',\n",
       "   '言语',\n",
       "   '游荡',\n",
       "   '摊开',\n",
       "   '胡思乱想',\n",
       "   '撑起',\n",
       "   '手掌',\n",
       "   '心慌',\n",
       "   '冗长'],\n",
       "  'Link': 'https://lyricspinyin.com/2019/10/21/san-san-xin-hao-ma-%e6%95%a3%e6%95%a3%e5%bf%83%e5%a5%bd%e5%97%8e-by-amanda-%e7%8e%8b%e6%ac%a3%e6%99%a8-pinyin-lyrics-and-english-translation/'},\n",
       " {'Title': 'Ai De Qi 愛得起',\n",
       "  'Artist': 'Amber An 安心亞',\n",
       "  'Understandability': 56,\n",
       "  'Importance': 53,\n",
       "  'Score': -3,\n",
       "  'New Words': ['宿命',\n",
       "   '註',\n",
       "   '胜者',\n",
       "   '紧拥',\n",
       "   '自言自语',\n",
       "   '独享',\n",
       "   '宠爱',\n",
       "   '认命',\n",
       "   '刀剑',\n",
       "   '认领',\n",
       "   '逆袭'],\n",
       "  'Link': 'https://lyricspinyin.com/2020/09/02/ai-de-qi-%e6%84%9b%e5%be%97%e8%b5%b7-by-amber-an-%e5%ae%89%e5%bf%83%e4%ba%9e-pinyin-lyrics-and-english-translation/'},\n",
       " {'Title': 'Lai Zhui Wo Nan You Ba 來追我男友吧',\n",
       "  'Artist': 'Amber An 安心亞',\n",
       "  'Understandability': 53,\n",
       "  'Importance': 49,\n",
       "  'Score': -4,\n",
       "  'New Words': ['兄道妹',\n",
       "   '姊',\n",
       "   '打探',\n",
       "   '老神在在',\n",
       "   '谈恋爱',\n",
       "   '週末',\n",
       "   '强酸',\n",
       "   '不赖',\n",
       "   '还构',\n",
       "   '黏得',\n",
       "   '放闪',\n",
       "   '审美观',\n",
       "   '陨石',\n",
       "   '铁粉'],\n",
       "  'Link': 'https://lyricspinyin.com/2020/07/18/lai-zhui-wo-nan-you-ba-%e4%be%86%e8%bf%bd%e6%88%91%e7%94%b7%e5%8f%8b%e5%90%a7-by-amber-an-%e5%ae%89%e5%bf%83%e4%ba%9e-pinyin-lyrics-and-english-translation/'},\n",
       " {'Title': 'Di Tou Zhan 低頭戰',\n",
       "  'Artist': 'Amber An 安心亞 feat 宋柏緯',\n",
       "  'Understandability': 51,\n",
       "  'Importance': 48,\n",
       "  'Score': -3,\n",
       "  'New Words': ['高姿态',\n",
       "   '扳回',\n",
       "   '心善',\n",
       "   '面善',\n",
       "   '愿挨',\n",
       "   '战爱',\n",
       "   '亏',\n",
       "   '造反',\n",
       "   '绝招',\n",
       "   '不赖',\n",
       "   '宠坏',\n",
       "   '溺爱',\n",
       "   '胜算',\n",
       "   '鸡毛蒜皮',\n",
       "   '唸',\n",
       "   '小屁孩',\n",
       "   '口头禅'],\n",
       "  'Link': 'https://lyricspinyin.com/2020/03/26/di-tou-zhan-%e4%bd%8e%e9%a0%ad%e6%88%b0-by-amber-an-%e5%ae%89%e5%bf%83%e4%ba%9e-feat-%e5%ae%8b%e6%9f%8f%e7%b7%af-pinyin-lyrics/'},\n",
       " {'Title': 'Xi Bao 喜寶',\n",
       "  'Artist': 'Amber 郭采潔',\n",
       "  'Understandability': 60,\n",
       "  'Importance': 55,\n",
       "  'Score': -5,\n",
       "  'New Words': ['犯错', '各奔', '指缝', '狂妄', '奔忙', '暗恋', '祭奠', '珍藏'],\n",
       "  'Link': 'https://lyricspinyin.com/2020/10/23/xi-bao-%e5%96%9c%e5%af%b6-by-amber-%e9%83%ad%e9%87%87%e6%bd%94-pinyin-lyrics-and-english-translation/'},\n",
       " {'Title': 'Diao Le 掉了',\n",
       "  'Artist': 'A-MIT 張惠妹',\n",
       "  'Understandability': 57,\n",
       "  'Importance': 55,\n",
       "  'Score': -2,\n",
       "  'New Words': ['玫瑰', '眼泪', '风筝', '白鸽', '笑靥', '微弱', '泪痕', '花蕊', '缠线', '瞳孔'],\n",
       "  'Link': 'https://lyricspinyin.com/2020/06/03/diao-le-%e6%8e%89%e4%ba%86-by-a-mit-%e5%bc%b5%e6%83%a0%e5%a6%b9-pinyin-lyrics-and-english-translation/'},\n",
       " {'Title': 'Lian Ming Dai Xing 連名帶姓',\n",
       "  'Artist': 'AMEI 張惠妹',\n",
       "  'Understandability': 61,\n",
       "  'Importance': 57,\n",
       "  'Score': -4,\n",
       "  'New Words': ['偷窃', '不甘寂寞', '默契'],\n",
       "  'Link': 'https://lyricspinyin.com/2020/03/07/lian-ming-dai-xing-%e9%80%a3%e5%90%8d%e5%b8%b6%e5%a7%93-by-amei-%e5%bc%b5%e6%83%a0%e5%a6%b9-pinyin-lyrics-and-english-translation/'},\n",
       " {'Title': 'Hui Jia De Lu 回家的路',\n",
       "  'Artist': 'Ann Bai 白安',\n",
       "  'Understandability': 58,\n",
       "  'Importance': 57,\n",
       "  'Score': -1,\n",
       "  'New Words': ['稜', '无畏', '云层', '牵绊', '拨开', '宽阔', '糟想', '消逝', '奢求'],\n",
       "  'Link': 'https://lyricspinyin.com/2020/07/19/hui-jia-de-lu-%e5%9b%9e%e5%ae%b6%e7%9a%84%e8%b7%af-by-ann-bai-%e7%99%bd%e5%ae%89-pinyin-lyrics-and-english-translation/'},\n",
       " {'Title': 'Suo Ai Zhi Chu 所愛之初',\n",
       "  'Artist': 'Ann 白安',\n",
       "  'Understandability': 55,\n",
       "  'Importance': 53,\n",
       "  'Score': -2,\n",
       "  'New Words': ['归土', '追寻', '风筝', '宠爱'],\n",
       "  'Link': 'https://lyricspinyin.com/2019/11/14/suo-ai-zhi-chu-%e6%89%80%e6%84%9b%e4%b9%8b%e5%88%9d-by-ann-%e7%99%bd%e5%ae%89-pinyin-lyrics-and-english-translation/'},\n",
       " {'Title': 'Wu Ai Wu Ai 吾愛無愛',\n",
       "  'Artist': 'Ann 白安',\n",
       "  'Understandability': 66,\n",
       "  'Importance': 60,\n",
       "  'Score': -6,\n",
       "  'New Words': ['眼泪', '谎话', '稍纵即逝'],\n",
       "  'Link': 'https://lyricspinyin.com/2019/10/29/wu-ai-wu-ai-%e5%90%be%e6%84%9b%e7%84%a1%e6%84%9b-by-ann-%e7%99%bd%e5%ae%89-pinyin-lyrics-and-english-translation/'},\n",
       " {'Title': 'Xiang He Ni Yi Qi 想和你一起',\n",
       "  'Artist': 'Yo Lee 李友廷 feat Anni Hung 洪安妮',\n",
       "  'Understandability': 68,\n",
       "  'Importance': 64,\n",
       "  'Score': -4,\n",
       "  'New Words': ['兜圈', '渡过', '窒息'],\n",
       "  'Link': 'https://lyricspinyin.com/2020/06/16/xiang-he-ni-yi-qi-%e6%83%b3%e5%92%8c%e4%bd%a0%e4%b8%80%e8%b5%b7-by-yo-lee-%e6%9d%8e%e5%8f%8b%e5%bb%b7-feat-anni-hung-%e6%b4%aa%e5%ae%89%e5%a6%ae-pinyin-lyrics-and-english-translation/'},\n",
       " {'Title': 'Xian De Ge Chang 蘚的歌唱',\n",
       "  'Artist': 'anpu 安溥',\n",
       "  'Understandability': 62,\n",
       "  'Importance': 58,\n",
       "  'Score': -4,\n",
       "  'New Words': ['昇', '藓', '寸土寸金', '爱欲生', '喑哑', '奔走', '猎食'],\n",
       "  'Link': 'https://lyricspinyin.com/2020/06/01/xian-de-ge-chang-%e8%98%9a%e7%9a%84%e6%ad%8c%e5%94%b1-by-anpu-%e5%ae%89%e6%ba%a5-pinyin-lyrics/'},\n",
       " {'Title': 'Ni Bu Zai Gu Shi Li 你不在故事裡',\n",
       "  'Artist': 'Ao Qi Ye 傲七爺',\n",
       "  'Understandability': 56,\n",
       "  'Importance': 54,\n",
       "  'Score': -2,\n",
       "  'New Words': ['转捩点', '最佳人选', '预埋', '一不留神', '擦肩', '倒推', '拐角', '制造悬念', '推敲'],\n",
       "  'Link': 'https://lyricspinyin.com/2020/10/04/ni-bu-zai-gu-shi-li-%e4%bd%a0%e4%b8%8d%e5%9c%a8%e6%95%85%e4%ba%8b%e8%a3%a1-by-ao-qi-ye-%e5%82%b2%e4%b8%83%e7%88%ba-pinyin-lyrics-and-english-translation/'},\n",
       " {'Title': 'Shi Xiang Ni De Sheng Yin A 是想你的聲音啊',\n",
       "  'Artist': 'Ao Qi Ye 傲七爺',\n",
       "  'Understandability': 69,\n",
       "  'Importance': 64,\n",
       "  'Score': -5,\n",
       "  'New Words': [],\n",
       "  'Link': 'https://lyricspinyin.com/2020/09/13/shi-xiang-ni-de-sheng-yin-a-%e6%98%af%e6%83%b3%e4%bd%a0%e7%9a%84%e8%81%b2%e9%9f%b3%e5%95%8a-by-ao-qi-ye-%e5%82%b2%e4%b8%83%e7%88%ba-pinyin-lyrics-and-english-translation/'},\n",
       " {'Title': 'Hui Dao Xia Tian 回到夏天',\n",
       "  'Artist': '愛寫歌的小田 & 傲七爺',\n",
       "  'Understandability': 54,\n",
       "  'Importance': 50,\n",
       "  'Score': -4,\n",
       "  'New Words': ['蝉鸣',\n",
       "   '伴着',\n",
       "   '扑闪',\n",
       "   '爱恋',\n",
       "   '蝶舞',\n",
       "   '和弦',\n",
       "   '别来无恙',\n",
       "   '撩拨',\n",
       "   '单曲',\n",
       "   '翩翩',\n",
       "   '田边',\n",
       "   '操场上',\n",
       "   '初夏',\n",
       "   '心弦'],\n",
       "  'Link': 'https://lyricspinyin.com/2020/05/30/hui-dao-xia-tian-%e5%9b%9e%e5%88%b0%e5%a4%8f%e5%a4%a9-by-%e6%84%9b%e5%af%ab%e6%ad%8c%e7%9a%84%e5%b0%8f%e7%94%b0-%e5%82%b2%e4%b8%83%e7%88%ba-pinyin-lyrics-and-english-translation/'},\n",
       " {'Title': 'Bu Ai Zi Ji De Ren 不愛自己的人',\n",
       "  'Artist': 'Ariel Tsai 蔡佩軒',\n",
       "  'Understandability': 59,\n",
       "  'Importance': 57,\n",
       "  'Score': -2,\n",
       "  'New Words': ['漫延', '孤单'],\n",
       "  'Link': 'https://lyricspinyin.com/2020/08/29/bu-ai-zi-ji-de-ren-%e4%b8%8d%e6%84%9b%e8%87%aa%e5%b7%b1%e7%9a%84%e4%ba%ba-by-ariel-tsai-%e8%94%a1%e4%bd%a9%e8%bb%92-pinyin-lyrics-and-english-translation/'},\n",
       " {'Title': 'Hui Bu Qu De Hai 回不去的海',\n",
       "  'Artist': 'Ariel 蔡佩軒',\n",
       "  'Understandability': 55,\n",
       "  'Importance': 51,\n",
       "  'Score': -4,\n",
       "  'New Words': ['深邃', '永恆', '赤足', '浮载', '催泪', '载', '额头', '沉入', '孤单', '抵销'],\n",
       "  'Link': 'https://lyricspinyin.com/2020/07/24/hui-bu-qu-de-hai-%e5%9b%9e%e4%b8%8d%e5%8e%bb%e7%9a%84%e6%b5%b7-by-ariel-%e8%94%a1%e4%bd%a9%e8%bb%92-pinyin-lyrics-and-english-translation/'},\n",
       " {'Title': 'Ji De She Bu De 記得捨不得',\n",
       "  'Artist': 'Ariel Tsai 蔡佩軒',\n",
       "  'Understandability': 57,\n",
       "  'Importance': 55,\n",
       "  'Score': -2,\n",
       "  'New Words': ['绝配', '舍不得你', '眼泪', '洄游', '逞强', '顽美', '荒岛', '伤涂点', '讯号'],\n",
       "  'Link': 'https://lyricspinyin.com/2020/06/04/ji-de-she-bu-de-%e8%a8%98%e5%be%97%e6%8d%a8%e4%b8%8d%e5%be%97-by-ariel-tsai-%e8%94%a1%e4%bd%a9%e8%bb%92-pinyin-lyrics-and-english-translation/'},\n",
       " {'Title': 'Xi Huan Wo Ba 喜歡我吧',\n",
       "  'Artist': 'Arrow Wei 魏嘉瑩',\n",
       "  'Understandability': 58,\n",
       "  'Importance': 53,\n",
       "  'Score': -5,\n",
       "  'New Words': ['斑驳', '手掌', '行囊'],\n",
       "  'Link': 'https://lyricspinyin.com/2020/10/06/xi-huan-wo-ba-%e5%96%9c%e6%ad%a1%e6%88%91%e5%90%a7-by-arrow-wei-%e9%ad%8f%e5%98%89%e7%91%a9-pinyin-lyrics-and-english-translation/'},\n",
       " {'Title': 'Ta Cong Bu Zheng Zha 他從不掙扎',\n",
       "  'Artist': 'Arrow Wei 魏嘉瑩',\n",
       "  'Understandability': 66,\n",
       "  'Importance': 56,\n",
       "  'Score': -10,\n",
       "  'New Words': ['随风飘荡', '眼泪'],\n",
       "  'Link': 'https://lyricspinyin.com/2020/05/12/ta-cong-bu-zheng-zha-%e4%bb%96%e5%be%9e%e4%b8%8d%e6%8e%99%e6%89%8e-by-arrow-wei-%e9%ad%8f%e5%98%89%e7%91%a9-pinyin-lyrics-and-english-translation/'},\n",
       " {'Title': 'You Mei You Xiang Guo Wo 有沒有想過我',\n",
       "  'Artist': 'Arrow Wei 魏嘉瑩',\n",
       "  'Understandability': 57,\n",
       "  'Importance': 53,\n",
       "  'Score': -4,\n",
       "  'New Words': ['千疮百孔', '受委屈', '包扎', '泪流', '连贯', '癒', '结痂'],\n",
       "  'Link': 'https://lyricspinyin.com/2019/11/12/you-mei-you-xiang-guo-wo-%e6%9c%89%e6%b2%92%e6%9c%89%e6%83%b3%e9%81%8e%e6%88%91-by-arrow-wei-%e9%ad%8f%e5%98%89%e7%91%a9-pinyin-lyrics-and-english-translation/'},\n",
       " {'Title': 'Wo Hai Shi Bu Dong 我還是不懂',\n",
       "  'Artist': 'Arrow Wei 魏嘉瑩',\n",
       "  'Understandability': 61,\n",
       "  'Importance': 57,\n",
       "  'Score': -4,\n",
       "  'New Words': ['眼泪', '眷恋', '眷恋着', '星辰', '云朵'],\n",
       "  'Link': 'https://lyricspinyin.com/2019/11/11/wo-hai-shi-bu-dong-%e6%88%91%e9%82%84%e6%98%af%e4%b8%8d%e6%87%82-by-arrow-wei-%e9%ad%8f%e5%98%89%e7%91%a9-pinyin-lyrics-and-english-translation/'},\n",
       " {'Title': 'Dao Shi Jian 到時見',\n",
       "  'Artist': 'Azora Chin 尤長靖',\n",
       "  'Understandability': 62,\n",
       "  'Importance': 56,\n",
       "  'Score': -6,\n",
       "  'New Words': ['尘埃', '飘浮', '脸孔', '重逢', '相拥'],\n",
       "  'Link': 'https://lyricspinyin.com/2020/01/20/dao-shi-jian-%e5%88%b0%e6%99%82%e8%a6%8b-by-azora-chin-%e5%b0%a4%e9%95%b7%e9%9d%96-pinyin-lyrics-and-english-translation/'},\n",
       " {'Title': 'Jing Luo 鯨落',\n",
       "  'Artist': 'Bae Lin 林采欣',\n",
       "  'Understandability': 48,\n",
       "  'Importance': 43,\n",
       "  'Score': -5,\n",
       "  'New Words': ['坠落', '深渊', '沉陷', '闭上眼', '洁白', '云朵', '吟唱', '擦肩而过'],\n",
       "  'Link': 'https://lyricspinyin.com/2020/06/11/jing-luo-%e9%af%a8%e8%90%bd-by-bae-lin-%e6%9e%97%e9%87%87%e6%ac%a3-pinyin-lyrics-and-english-translation/'},\n",
       " {'Title': 'Messed Up',\n",
       "  'Artist': 'Boon Hui Lu 文慧如 feat. Feng Ze 邱鋒澤',\n",
       "  'Understandability': 62,\n",
       "  'Importance': 57,\n",
       "  'Score': -5,\n",
       "  'New Words': ['妳是', '憧憬', '搞砸'],\n",
       "  'Link': 'https://lyricspinyin.com/2020/09/22/messed-up-by-boon-hui-lu-%e6%96%87%e6%85%a7%e5%a6%82-feat-feng-ze-%e9%82%b1%e9%8b%92%e6%be%a4-pinyin-lyrics-and-english-translation/'},\n",
       " {'Title': 'Sunny Day',\n",
       "  'Artist': 'Cai Zai 采子 & Boon Hui Lu 文慧如',\n",
       "  'Understandability': 49,\n",
       "  'Importance': 44,\n",
       "  'Score': -5,\n",
       "  'New Words': ['一缕',\n",
       "   '疯癫',\n",
       "   '温湿度',\n",
       "   '慵懒',\n",
       "   '眼眸',\n",
       "   '明媚',\n",
       "   '忆起',\n",
       "   '翩翩',\n",
       "   '侧颜',\n",
       "   '甦',\n",
       "   '曲中',\n",
       "   '行踪',\n",
       "   '依依不舍'],\n",
       "  'Link': 'https://lyricspinyin.com/2020/08/26/sunny-day-by-cai-zai-%e9%87%87%e5%ad%90-boon-hui-lu-%e6%96%87%e6%85%a7%e5%a6%82-pinyin-lyrics-and-english-translation/'},\n",
       " {'Title': 'Quan Fang Kong 全放空',\n",
       "  'Artist': 'Boon Hui Lu 文慧如',\n",
       "  'Understandability': 61,\n",
       "  'Importance': 57,\n",
       "  'Score': -4,\n",
       "  'New Words': ['塌下来', '眼泪', '卧房', '恶梦', '痛要', '黏着', '游荡', '桑田沧海'],\n",
       "  'Link': 'https://lyricspinyin.com/2020/04/02/quan-fang-kong-%e5%85%a8%e6%94%be%e7%a9%ba-by-boon-hui-lu-%e6%96%87%e6%85%a7%e5%a6%82-pinyin-lyrics-and-english-translation/'},\n",
       " {'Title': 'Duo Yi Dian Guan Xin 多一點關心',\n",
       "  'Artist': 'Boon Hui Lu 文慧如',\n",
       "  'Understandability': 54,\n",
       "  'Importance': 52,\n",
       "  'Score': -2,\n",
       "  'New Words': ['非凡',\n",
       "   '烈火',\n",
       "   '悲鸣',\n",
       "   '丧尸',\n",
       "   '霸凌',\n",
       "   '权与利',\n",
       "   '战衣',\n",
       "   '需盾',\n",
       "   '冰川',\n",
       "   '擦肩',\n",
       "   '横行',\n",
       "   '惯式',\n",
       "   '微弱',\n",
       "   '聆听',\n",
       "   '癒',\n",
       "   '沉入',\n",
       "   '屏后',\n",
       "   '筑成'],\n",
       "  'Link': 'https://lyricspinyin.com/2020/03/26/duo-yi-dian-guan-xin-%e5%a4%9a%e4%b8%80%e9%bb%9e%e9%97%9c%e5%bf%83-by-boon-hui-lu-%e6%96%87%e6%85%a7%e5%a6%82-pinyin-lyrics-and-english-translation/'},\n",
       " {'Title': 'Bu Rang Ni Zai 不讓你再',\n",
       "  'Artist': 'Boon Hui Lu 文慧如',\n",
       "  'Understandability': 57,\n",
       "  'Importance': 53,\n",
       "  'Score': -4,\n",
       "  'New Words': ['孤寂', '心虚', '眼泪', '空壳', '佈', '叹息', '握紧', '监牢'],\n",
       "  'Link': 'https://lyricspinyin.com/2020/03/10/bu-rang-ni-zai-%e4%b8%8d%e8%ae%93%e4%bd%a0%e5%86%8d-by-boon-hui-lu-%e6%96%87%e6%85%a7%e5%a6%82-pinyin-lyrics-and-english-translation/'},\n",
       " {'Title': 'Tong Hang 同行',\n",
       "  'Artist': 'Boon Hui Lu 文慧如',\n",
       "  'Understandability': 58,\n",
       "  'Importance': 57,\n",
       "  'Score': -1,\n",
       "  'New Words': ['初见', '路途', '徬徨', '星辰', '缘份', '顶峰', '攀爬', '浩瀚', '艰辛', '仰望'],\n",
       "  'Link': 'https://lyricspinyin.com/2020/03/09/tong-hang-%e5%90%8c%e8%a1%8c-by-boon-hui-lu-%e6%96%87%e6%85%a7%e5%a6%82-pinyin-lyrics-and-english-translation/'},\n",
       " {'Title': 'Lian Ren Sha 戀人殺',\n",
       "  'Artist': 'Nine Chen 陳零九 feat Butterfly 愷樂',\n",
       "  'Understandability': 54,\n",
       "  'Importance': 50,\n",
       "  'Score': -4,\n",
       "  'New Words': ['电尬',\n",
       "   '尬',\n",
       "   '无法控制',\n",
       "   '膜拜',\n",
       "   '宣叫',\n",
       "   '梗',\n",
       "   '噗通',\n",
       "   '腻在一起',\n",
       "   '配粥',\n",
       "   '太萌',\n",
       "   '命中',\n",
       "   '掰掰',\n",
       "   '菸',\n",
       "   '爆米花',\n",
       "   '毒药',\n",
       "   '孤单',\n",
       "   '废在'],\n",
       "  'Link': 'https://lyricspinyin.com/2020/09/03/lian-ren-sha-%e6%88%80%e4%ba%ba%e6%ae%ba-by-nine-chen-%e9%99%b3%e9%9b%b6%e4%b9%9d-feat-butterfly-%e6%84%b7%e6%a8%82-pinyin-lyrics-and-english-translation/'},\n",
       " {'Title': 'Sunny Day',\n",
       "  'Artist': 'Cai Zai 采子 & Boon Hui Lu 文慧如',\n",
       "  'Understandability': 49,\n",
       "  'Importance': 44,\n",
       "  'Score': -5,\n",
       "  'New Words': ['一缕',\n",
       "   '疯癫',\n",
       "   '温湿度',\n",
       "   '慵懒',\n",
       "   '眼眸',\n",
       "   '明媚',\n",
       "   '忆起',\n",
       "   '翩翩',\n",
       "   '侧颜',\n",
       "   '甦',\n",
       "   '曲中',\n",
       "   '行踪',\n",
       "   '依依不舍'],\n",
       "  'Link': 'https://lyricspinyin.com/2020/08/26/sunny-day-by-cai-zai-%e9%87%87%e5%ad%90-boon-hui-lu-%e6%96%87%e6%85%a7%e5%a6%82-pinyin-lyrics-and-english-translation/'},\n",
       " {'Title': 'Qian Ren 前任',\n",
       "  'Artist': 'Cai Zi 采子 & Wayne 黃偉晉',\n",
       "  'Understandability': 60,\n",
       "  'Importance': 56,\n",
       "  'Score': -4,\n",
       "  'New Words': ['眼泪',\n",
       "   '空寂',\n",
       "   '缩影',\n",
       "   '避重就轻',\n",
       "   '细微末节',\n",
       "   '憧憬',\n",
       "   '迫不得已',\n",
       "   '却触',\n",
       "   '瓜葛',\n",
       "   '言一语'],\n",
       "  'Link': 'https://lyricspinyin.com/2020/06/04/qian-ren-%e5%89%8d%e4%bb%bb-by-cai-zi-%e9%87%87%e5%ad%90-wayne-%e9%bb%83%e5%81%89%e6%99%89-pinyin-lyrics-and-english-translation/'},\n",
       " {'Title': 'Xian Fen Kai 先分開',\n",
       "  'Artist': 'Cai Zi 采子',\n",
       "  'Understandability': 58,\n",
       "  'Importance': 56,\n",
       "  'Score': -2,\n",
       "  'New Words': ['影集', '烟消云散', '限时', '多愁善感', '优柔寡断', '孤单', '喝采'],\n",
       "  'Link': 'https://lyricspinyin.com/2020/04/18/xian-fen-kai-%e5%85%88%e5%88%86%e9%96%8b-by-cai-zi-%e9%87%87%e5%ad%90-pinyin-lyrics-and-english-translation/'},\n",
       " {'Title': 'Ting Cong 聽從',\n",
       "  'Artist': '倉央龍措',\n",
       "  'Understandability': 68,\n",
       "  'Importance': 62,\n",
       "  'Score': -6,\n",
       "  'New Words': ['天旋'],\n",
       "  'Link': 'https://lyricspinyin.com/2019/10/26/ting-cong-%e8%81%bd%e5%be%9e-by-%e5%80%89%e5%a4%ae%e9%be%8d%e6%8e%aa-pinyin-lyrics-and-english-translation/'},\n",
       " {'Title': 'Shi Yi De Yu 失憶的魚',\n",
       "  'Artist': 'Cath Wong 黃妍',\n",
       "  'Understandability': 57,\n",
       "  'Importance': 53,\n",
       "  'Score': -4,\n",
       "  'New Words': ['待续', '寻回', '泸是', '佔', '唿吸', '遗下', '漆黑', '失忆', '身躯'],\n",
       "  'Link': 'https://lyricspinyin.com/2020/04/04/shi-yi-de-yu-%e5%a4%b1%e6%86%b6%e7%9a%84%e9%ad%9a-by-cath-wong-%e9%bb%83%e5%a6%8d-pinyin-lyrics-and-english-translation/'},\n",
       " {'Title': 'Chu Wen 初吻',\n",
       "  'Artist': 'Ceng Yi Ke 曾軼可',\n",
       "  'Understandability': 53,\n",
       "  'Importance': 48,\n",
       "  'Score': -5,\n",
       "  'New Words': ['唯壹', '唿吸', '情不自禁', '妳', '壹', '沈默', '闭上眼睛', '这壹刻', '触碰'],\n",
       "  'Link': 'https://lyricspinyin.com/2020/01/14/chu-wen-%e5%88%9d%e5%90%bb-by-ceng-yi-ke-%e6%9b%be%e8%bb%bc%e5%8f%af-pinyin-lyrics-and-english-translation/'},\n",
       " {'Title': 'Zou Ma 走馬',\n",
       "  'Artist': 'Chen Li 陳粒',\n",
       "  'Understandability': 59,\n",
       "  'Importance': 54,\n",
       "  'Score': -5,\n",
       "  'New Words': ['焦灼', '伴着', '假寐', '紧握', '空荡荡', '云朵', '消磨', '屋里', '迷离扑朔', '凋落'],\n",
       "  'Link': 'https://lyricspinyin.com/2020/08/26/zou-ma-%e8%b5%b0%e9%a6%ac-by-chen-li-%e9%99%b3%e7%b2%92-pinyin-lyrics-and-english-translation/'},\n",
       " {'Title': 'Yi Ran Yi Bao Zha 易燃易爆炸',\n",
       "  'Artist': 'Chen Li 陳粒',\n",
       "  'Understandability': 40,\n",
       "  'Importance': 39,\n",
       "  'Score': -1,\n",
       "  'New Words': ['缺氧',\n",
       "   '懒倦',\n",
       "   '枯木',\n",
       "   '臣',\n",
       "   '无忧',\n",
       "   '私奔',\n",
       "   '不渡',\n",
       "   '不糜',\n",
       "   '蹉跎',\n",
       "   '颓看',\n",
       "   '独活',\n",
       "   '沉睡',\n",
       "   '疯魔',\n",
       "   '失神',\n",
       "   '泪流',\n",
       "   '销魂',\n",
       "   '眼波',\n",
       "   '还怨',\n",
       "   '渗似',\n",
       "   '含苞待放',\n",
       "   '双眸',\n",
       "   '痴狂',\n",
       "   '孑孓',\n",
       "   '杀人不眨眼',\n",
       "   '欲盖弥彰',\n",
       "   '断肠',\n",
       "   '我曼丽',\n",
       "   '盛放'],\n",
       "  'Link': 'https://lyricspinyin.com/2020/06/22/yi-ran-yi-bao-zha-%e6%98%93%e7%87%83%e6%98%93%e7%88%86%e7%82%b8-by-chen-li-%e9%99%b3%e7%b2%92-pinyin-lyrics/'},\n",
       " {'Title': 'Zi Ran Huan Jing 自然環境',\n",
       "  'Artist': 'Chen Li 陳粒',\n",
       "  'Understandability': 48,\n",
       "  'Importance': 46,\n",
       "  'Score': -2,\n",
       "  'New Words': ['云霞', '翻来覆去', '站立', '天涯', '栖息', '玩不腻', '云海', '唿吸', '吶'],\n",
       "  'Link': 'https://lyricspinyin.com/2020/05/02/zi-ran-huan-jing-%e8%87%aa%e7%84%b6%e7%92%b0%e5%a2%83-by-chen-li-%e9%99%b3%e7%b2%92-pinyin-lyrics-and-english-translation/'},\n",
       " {'Title': 'Kong Kong 空空',\n",
       "  'Artist': 'Chen Li 陳粒',\n",
       "  'Understandability': 61,\n",
       "  'Importance': 56,\n",
       "  'Score': -5,\n",
       "  'New Words': ['无言', '啰嗦', '凝视着', '凝成', '一秒钟', '中庸', '古老'],\n",
       "  'Link': 'https://lyricspinyin.com/2020/04/26/kong-kong-%e7%a9%ba%e7%a9%ba-by-chen-li-%e9%99%b3%e7%b2%92-pinyin-lyrics-and-english-translation/'},\n",
       " {'Title': 'Bao Qian Bao Qian 抱歉抱歉',\n",
       "  'Artist': 'Chen Li 陳粒',\n",
       "  'Understandability': 57,\n",
       "  'Importance': 55,\n",
       "  'Score': -2,\n",
       "  'New Words': ['泛起', '潦草', '斑驳', '难缠', '若不爱', '最狠', '决裂', '臃肿'],\n",
       "  'Link': 'https://lyricspinyin.com/2020/04/18/bao-qian-bao-qian-%e6%8a%b1%e6%ad%89%e6%8a%b1%e6%ad%89-by-chen-li-%e9%99%b3%e7%b2%92-pinyin-lyrics-and-english-translation/'},\n",
       " {'Title': 'Na Ge Sha Gua 那個傻瓜',\n",
       "  'Artist': 'Chen Xue Ning 陳雪凝',\n",
       "  'Understandability': 56,\n",
       "  'Importance': 52,\n",
       "  'Score': -4,\n",
       "  'New Words': ['眼泪', '扎起', '发芽', '捅破', '晚霞', '哑', '羞涩', '邂逅'],\n",
       "  'Link': 'https://lyricspinyin.com/2019/12/12/na-ge-sha-gua-%e9%82%a3%e5%80%8b%e5%82%bb%e7%93%9c-by-chen-xue-ning-%e9%99%b3%e9%9b%aa%e5%87%9d-pinyin-lyrics-and-english-translation/'},\n",
       " {'Title': 'Hui Gu Niang 灰姑娘',\n",
       "  'Artist': 'Chen Xue Ning 陳雪凝',\n",
       "  'Understandability': 58,\n",
       "  'Importance': 53,\n",
       "  'Score': -5,\n",
       "  'New Words': ['衷肠', '跌跌撞撞', '逃荒', '灰姑娘', '渐渐', '荆棘', '赌', '光芒万丈'],\n",
       "  'Link': 'https://lyricspinyin.com/2019/11/30/hui-gu-niang-%e7%81%b0%e5%a7%91%e5%a8%98-by-chen-xue-ning-%e9%99%b3%e9%9b%aa%e5%87%9d-pinyin-lyrics-and-english-translation/'},\n",
       " {'Title': 'Ni De Jiu Guan Dui Wo Da Liao Yang 你的酒馆对我打了烊 by Chen Xue Ning',\n",
       "  'Artist': 'Lyrics - Lyrics Pinyin',\n",
       "  'Understandability': 59,\n",
       "  'Importance': 53,\n",
       "  'Score': -6,\n",
       "  'New Words': ['沉醉', '荒诞', '麟', '膛', '我敬', '无关痛痒'],\n",
       "  'Link': 'https://lyricspinyin.com/2019/09/23/ni-de-jiu-guan-dui-wo-da-liao-yang-%e4%bd%a0%e7%9a%84%e9%85%92%e9%a6%86%e5%af%b9%e6%88%91%e6%89%93%e4%ba%86%e7%83%8a-by-chen-xue-ning-pinyin-lyrics/'},\n",
       " {'Title': 'Lu Se 綠色',\n",
       "  'Artist': 'Chen Xue Ning 陳雪凝',\n",
       "  'Understandability': 63,\n",
       "  'Importance': 58,\n",
       "  'Score': -5,\n",
       "  'New Words': ['刺穿', '躯壳', '死守', '甜言蜜语'],\n",
       "  'Link': 'https://lyricspinyin.com/2019/09/23/lu-se-%e7%b6%a0%e8%89%b2-by-chen-xue-ning-%e9%99%b3%e9%9b%aa%e5%87%9d-pinyin-lyrics-and-english-translation/'},\n",
       " {'Title': 'Wu Ming Zhi Bei\\xa0無名之輩',\n",
       "  'Artist': 'Chen Xue Ran 陳雪燃',\n",
       "  'Understandability': 59,\n",
       "  'Importance': 54,\n",
       "  'Score': -5,\n",
       "  'New Words': ['伴着',\n",
       "   '无人问津',\n",
       "   '奢求',\n",
       "   '模仿者',\n",
       "   '无名之辈',\n",
       "   '拼了命',\n",
       "   '卑微',\n",
       "   '眼泪',\n",
       "   '绽放',\n",
       "   '枷锁'],\n",
       "  'Link': 'https://lyricspinyin.com/2020/02/22/wu-ming-zhi-bei-%e7%84%a1%e5%90%8d%e4%b9%8b%e8%bc%a9-by-chen-xue-ran-%e9%99%b3%e9%9b%aa%e7%87%83-pinyin-lyrics/'},\n",
       " {'Title': 'Hao Bu Rong Yi 好不容易',\n",
       "  'Artist': 'Chen Yi Qian 陳壹千',\n",
       "  'Understandability': 61,\n",
       "  'Importance': 55,\n",
       "  'Score': -6,\n",
       "  'New Words': ['心不痛', '忍心', '擦肩而过'],\n",
       "  'Link': 'https://lyricspinyin.com/2020/09/09/hao-bu-rong-yi-%e5%a5%bd%e4%b8%8d%e5%ae%b9%e6%98%93-by-chen-yi-qian-%e9%99%b3%e5%a3%b9%e5%8d%83-pinyin-lyrics-and-english-translation/'},\n",
       " {'Title': 'Ru Guo Shuo Hai You Shi Me Neng Gou Rang Wo Kuai Le 如果說還有什麼能夠讓我快樂',\n",
       "  'Artist': 'Chen Yi Qian 陳壹千',\n",
       "  'Understandability': 62,\n",
       "  'Importance': 59,\n",
       "  'Score': -3,\n",
       "  'New Words': ['棱角', '刺伤', '热络', '晓得', '孤身一人'],\n",
       "  'Link': 'https://lyricspinyin.com/2020/06/15/ru-guo-shuo-hai-you-shi-me-neng-gou-rang-wo-kuai-le-%e5%a6%82%e6%9e%9c%e8%aa%aa%e9%82%84%e6%9c%89%e4%bb%80%e9%ba%bc%e8%83%bd%e5%a4%a0%e8%ae%93%e6%88%91%e5%bf%ab%e6%a8%82-by-chen-yi-qian-%e9%99%b3/'},\n",
       " {'Title': 'Bi Ni Geng Ai Wo De Ren 比你更愛我的人',\n",
       "  'Artist': 'Chen Yi Qian 陳壹千',\n",
       "  'Understandability': 60,\n",
       "  'Importance': 55,\n",
       "  'Score': -5,\n",
       "  'New Words': ['已模', '太狠', '煳', '一叠', '奢求', '强求'],\n",
       "  'Link': 'https://lyricspinyin.com/2020/04/09/bi-ni-geng-ai-wo-de-ren-%e6%af%94%e4%bd%a0%e6%9b%b4%e6%84%9b%e6%88%91%e7%9a%84%e4%ba%ba-by-chen-yi-qian-%e9%99%b3%e5%a3%b9%e5%8d%83-pinyin-lyrics-and-english-translation/'},\n",
       " {'Title': 'Li Kai Ni De Cheng Shi Hou 離開你的城市後',\n",
       "  'Artist': 'Chen Yi Qian 陳壹千',\n",
       "  'Understandability': 59,\n",
       "  'Importance': 54,\n",
       "  'Score': -5,\n",
       "  'New Words': ['伪装', '辗转反侧', '眼泪', '誓约', '最多撑', '不甘', '刺痛'],\n",
       "  'Link': 'https://lyricspinyin.com/2020/03/31/li-kai-ni-de-cheng-shi-hou-%e9%9b%a2%e9%96%8b%e4%bd%a0%e7%9a%84%e5%9f%8e%e5%b8%82%e5%be%8c-by-chen-yi-qian-%e9%99%b3%e5%a3%b9%e5%8d%83-pinyin-lyrics-and-english-translation/'},\n",
       " {'Title': 'Yi Ge 一個',\n",
       "  'Artist': 'Chen Yi Qian 陳壹千',\n",
       "  'Understandability': 52,\n",
       "  'Importance': 49,\n",
       "  'Score': -3,\n",
       "  'New Words': ['翻来覆去',\n",
       "   '伪装',\n",
       "   '香槟',\n",
       "   '听杰伦',\n",
       "   '眼泪',\n",
       "   '秒针',\n",
       "   '多愁善感',\n",
       "   '凋谢',\n",
       "   '垂死',\n",
       "   '嬉皮笑脸',\n",
       "   '暗恋',\n",
       "   '奢求'],\n",
       "  'Link': 'https://lyricspinyin.com/2020/03/24/yi-ge-%e4%b8%80%e5%80%8b-by-chen-yi-qian-%e9%99%b3%e5%a3%b9%e5%8d%83-pinyin-lyrics-and-english-translation/'},\n",
       " {'Title': 'Du Li Ge Ti 獨立個體',\n",
       "  'Artist': 'Chen Yi Qian 陳壹千',\n",
       "  'Understandability': 56,\n",
       "  'Importance': 54,\n",
       "  'Score': -2,\n",
       "  'New Words': ['伪装',\n",
       "   '伤疤',\n",
       "   '逆境',\n",
       "   '一丝',\n",
       "   '碌碌',\n",
       "   '自闭',\n",
       "   '独奏',\n",
       "   '熬过',\n",
       "   '透出',\n",
       "   '凋谢',\n",
       "   '狼狈不堪',\n",
       "   '泸',\n",
       "   '初心',\n",
       "   '卸下',\n",
       "   '昏昏'],\n",
       "  'Link': 'https://lyricspinyin.com/2020/03/12/du-li-ge-ti-%e7%8d%a8%e7%ab%8b%e5%80%8b%e9%ab%94-by-chen-yi-qian-%e9%99%b3%e5%a3%b9%e5%8d%83-pinyin-lyrics-and-english-translation/'},\n",
       " {'Title': 'Shuo Bu Ding Ming Tian Ta Jiu Lai Le 說不定明天他就來了',\n",
       "  'Artist': 'Chen Yi Qian 陳壹千',\n",
       "  'Understandability': 62,\n",
       "  'Importance': 55,\n",
       "  'Score': -7,\n",
       "  'New Words': ['矫揉造作', '优雅', '异样', '坦荡'],\n",
       "  'Link': 'https://lyricspinyin.com/2020/03/07/shuo-bu-ding-ming-tian-ta-jiu-lai-le-%e8%aa%aa%e4%b8%8d%e5%ae%9a%e6%98%8e%e5%a4%a9%e4%bb%96%e5%b0%b1%e4%be%86%e4%ba%86-by-chen-yi-qian-%e9%99%b3%e5%a3%b9%e5%8d%83-pinyin-lyrics-and-english-translation/'},\n",
       " {'Title': 'Jiu Dang Ta Mei Lai Guo 就當他沒來過',\n",
       "  'Artist': 'Chen Yi Qian 陳壹千',\n",
       "  'Understandability': 62,\n",
       "  'Importance': 57,\n",
       "  'Score': -5,\n",
       "  'New Words': ['沉沦', '蠢', '不痛'],\n",
       "  'Link': 'https://lyricspinyin.com/2020/02/25/jiu-dang-ta-mei-lai-guo-%e5%b0%b1%e7%95%b6%e4%bb%96%e6%b2%92%e4%be%86%e9%81%8e-by-chen-yi-qian-%e9%99%b3%e5%a3%b9%e5%8d%83-pinyin-lyrics-and-english-translation/'},\n",
       " {'Title': 'Lian Ai Ri Ji 戀愛日記',\n",
       "  'Artist': 'Chen Yi Qian 陳壹千',\n",
       "  'Understandability': 51,\n",
       "  'Importance': 48,\n",
       "  'Score': -3,\n",
       "  'New Words': ['倾诉', '嘟嘴', '圆珠笔', '契约', '胎记'],\n",
       "  'Link': 'https://lyricspinyin.com/2020/02/09/lian-ai-ri-ji-%e6%88%80%e6%84%9b%e6%97%a5%e8%a8%98-by-chen-yi-qian-%e9%99%b3%e5%a3%b9%e5%8d%83-pinyin-lyrics-and-english-translation/'},\n",
       " {'Title': 'Xi Guan 習慣',\n",
       "  'Artist': 'Chen Yi Qian 陳壹千',\n",
       "  'Understandability': 59,\n",
       "  'Importance': 54,\n",
       "  'Score': -5,\n",
       "  'New Words': ['撕扯', '唿吸', '癒'],\n",
       "  'Link': 'https://lyricspinyin.com/2020/01/22/xi-guan-%e7%bf%92%e6%85%a3-by-chen-yi-qian-%e9%99%b3%e5%a3%b9%e5%8d%83-pinyin-lyrics-and-english-translation/'},\n",
       " {'Title': 'Zen Me Neng Wang Le 怎麼能忘了',\n",
       "  'Artist': 'Cheng Xiang 程響',\n",
       "  'Understandability': 66,\n",
       "  'Importance': 55,\n",
       "  'Score': -11,\n",
       "  'New Words': [],\n",
       "  'Link': 'https://lyricspinyin.com/2020/04/12/zen-me-neng-wang-le-%e6%80%8e%e9%ba%bc%e8%83%bd%e5%bf%98%e4%ba%86-by-cheng-xiang-%e7%a8%8b%e9%9f%bf-pinyin-lyrics-and-english-translation/'},\n",
       " {'Title': 'Che Wu 徹悟',\n",
       "  'Artist': 'Cheng Xiang 程響',\n",
       "  'Understandability': 58,\n",
       "  'Importance': 54,\n",
       "  'Score': -4,\n",
       "  'New Words': ['付别', '眼泪', '旅途', '不舍', '毫无保留', '枉付', '大彻大悟', '掏心', '付用'],\n",
       "  'Link': 'https://lyricspinyin.com/2020/03/24/che-wu-%e5%be%b9%e6%82%9f-by-cheng-xiang-%e7%a8%8b%e9%9f%bf-pinyin-lyrics-and-english-translation/'},\n",
       " {'Title': 'Bu Zai Lian Ji 不再聯繫',\n",
       "  'Artist': 'Cheng Xiang 程響',\n",
       "  'Understandability': 62,\n",
       "  'Importance': 58,\n",
       "  'Score': -4,\n",
       "  'New Words': ['一败涂地', '此情可待', '交集'],\n",
       "  'Link': 'https://lyricspinyin.com/2020/03/05/bu-zai-lian-ji-%e4%b8%8d%e5%86%8d%e8%81%af%e7%b9%ab-by-cheng-xiang-%e7%a8%8b%e9%9f%bf-pinyin-lyrics-and-english-translation/'},\n",
       " {'Title': 'Shi Jie Zhe Me Da Hai Shi Yu Jian Ni 世界這麼大還是遇見你',\n",
       "  'Artist': 'Cheng Xiang 程響',\n",
       "  'Understandability': 53,\n",
       "  'Importance': 48,\n",
       "  'Score': -5,\n",
       "  'New Words': ['相逢', '重逢', '青涩'],\n",
       "  'Link': 'https://lyricspinyin.com/2020/02/28/shi-jie-zhe-me-da-hai-shi-yu-jian-ni-%e4%b8%96%e7%95%8c%e9%80%99%e9%ba%bc%e5%a4%a7%e9%82%84%e6%98%af%e9%81%87%e8%a6%8b%e4%bd%a0-by-cheng-xiang-%e7%a8%8b%e9%9f%bf-pinyin-lyrics-and-english-translation/'},\n",
       " {'Title': 'Er Shi Yi Tian 21天',\n",
       "  'Artist': 'Cindy Yen 袁詠琳',\n",
       "  'Understandability': 62,\n",
       "  'Importance': 58,\n",
       "  'Score': -4,\n",
       "  'New Words': ['难熬', '棉田', '一秒'],\n",
       "  'Link': 'https://lyricspinyin.com/2020/08/30/er-shi-yi-tian-21%e5%a4%a9-by-cindy-yen-%e8%a2%81%e8%a9%a0%e7%90%b3-pinyin-lyrics-and-english-translation/'},\n",
       " {'Title': 'Cheng Feng Po Lang 乘風破浪',\n",
       "  'Artist': 'Cindy Yen 袁詠琳',\n",
       "  'Understandability': 57,\n",
       "  'Importance': 56,\n",
       "  'Score': -1,\n",
       "  'New Words': ['超飒', '绽放', '一副', '狂风暴雨', '不卑不亢', '孤单', '牠', '兰花草'],\n",
       "  'Link': 'https://lyricspinyin.com/2020/08/21/cheng-feng-po-lang-%e4%b9%98%e9%a2%a8%e7%a0%b4%e6%b5%aa-by-cindy-yen-%e8%a2%81%e8%a9%a0%e7%90%b3-pinyin-lyrics-and-english-translation/'},\n",
       " {'Title': 'Wo Xiang Xin Ni Le 我相信你了',\n",
       "  'Artist': 'Cindy Yen 袁詠琳',\n",
       "  'Understandability': 64,\n",
       "  'Importance': 59,\n",
       "  'Score': -5,\n",
       "  'New Words': ['紧扣', '齐黑', '孤单', '拼图', '眼泪'],\n",
       "  'Link': 'https://lyricspinyin.com/2019/11/13/wo-xiang-xin-ni-le-%e6%88%91%e7%9b%b8%e4%bf%a1%e4%bd%a0%e4%ba%86-by-cindy-yen-%e8%a2%81%e8%a9%a0%e7%90%b3-pinyin-lyrics-and-english-translation/'},\n",
       " {'Title': 'Duan Le 斷了',\n",
       "  'Artist': 'CoCo Lee 李玟',\n",
       "  'Understandability': 60,\n",
       "  'Importance': 58,\n",
       "  'Score': -2,\n",
       "  'New Words': ['玫瑰',\n",
       "   '棉被',\n",
       "   '轮回',\n",
       "   '最痛',\n",
       "   '初见',\n",
       "   '每寸',\n",
       "   '无言以对',\n",
       "   '掏空',\n",
       "   '牵挂',\n",
       "   '无怨无悔'],\n",
       "  'Link': 'https://lyricspinyin.com/2020/02/08/duan-le-%e6%96%b7%e4%ba%86-by-coco-lee-%e6%9d%8e%e7%8e%9f-pinyin-lyrics-and-english-translation/'},\n",
       " {'Title': 'Mei Yi Ge Wo 每一個我',\n",
       "  'Artist': 'Crown Du 滴妹',\n",
       "  'Understandability': 60,\n",
       "  'Importance': 56,\n",
       "  'Score': -4,\n",
       "  'New Words': ['看透', '坠落', '毫无保留', '迷宫'],\n",
       "  'Link': 'https://lyricspinyin.com/2020/03/23/mei-yi-ge-wo-%e6%af%8f%e4%b8%80%e5%80%8b%e6%88%91-by-crown-du-%e6%bb%b4%e5%a6%b9-pinyin-lyrics-and-english-translation/'},\n",
       " {'Title': 'Nu Hai Men 女孩們',\n",
       "  'Artist': '楊丞琳 Rainie Yang\\xa0 feat. 王心凌 Cyndi Wang',\n",
       "  'Understandability': 52,\n",
       "  'Importance': 45,\n",
       "  'Score': -7,\n",
       "  'New Words': ['避难',\n",
       "   '现形',\n",
       "   '谐音',\n",
       "   '同工不同酬',\n",
       "   '飞沫',\n",
       "   '甜言蜜语',\n",
       "   '泪滴',\n",
       "   '大器',\n",
       "   '雕琢',\n",
       "   '胸襟',\n",
       "   '善后',\n",
       "   '品味',\n",
       "   '担待',\n",
       "   '恶魔'],\n",
       "  'Link': 'https://lyricspinyin.com/2020/10/15/nu-hai-men-%e5%a5%b3%e5%ad%a9%e5%80%91-by-%e6%a5%8a%e4%b8%9e%e7%90%b3-rainie-yang-feat-%e7%8e%8b%e5%bf%83%e5%87%8c-cyndi-wang-pinyin-lyrics-and-english-translation/'},\n",
       " {'Title': 'Wo Hui Hao Hao De 我會好好的',\n",
       "  'Artist': 'Pinyin Lyrics And English Translation - Lyrics Pinyin',\n",
       "  'Understandability': 65,\n",
       "  'Importance': 59,\n",
       "  'Score': -6,\n",
       "  'New Words': [],\n",
       "  'Link': 'https://lyricspinyin.com/2020/09/14/wo-hui-hao-hao-de-%e6%88%91%e6%9c%83%e5%a5%bd%e5%a5%bd%e7%9a%84-by-pinyin-lyrics-and-english-translation/'},\n",
       " {'Title': 'Da Mian 大眠',\n",
       "  'Artist': 'Cyndi Wang 王心凌',\n",
       "  'Understandability': 58,\n",
       "  'Importance': 55,\n",
       "  'Score': -3,\n",
       "  'New Words': ['沈醉个', '挟持', '虚度'],\n",
       "  'Link': 'https://lyricspinyin.com/2020/01/09/da-mian-%e5%a4%a7%e7%9c%a0-by-cyndi-wang-%e7%8e%8b%e5%bf%83%e5%87%8c-pinyin-lyrics-and-english-translation/'},\n",
       " {'Title': 'Jing Qiao Qiao 靜悄悄',\n",
       "  'Artist': 'Da Xuan 大泫',\n",
       "  'Understandability': 45,\n",
       "  'Importance': 43,\n",
       "  'Score': -2,\n",
       "  'New Words': ['唿吸', '拥入'],\n",
       "  'Link': 'https://lyricspinyin.com/2019/11/25/jing-qiao-qiao-%e9%9d%9c%e6%82%84%e6%82%84-by-da-xuan-%e5%a4%a7%e6%b3%ab-pinyin-lyrics-and-english-translation/'},\n",
       " {'Title': 'Xiang Feng Le Yi Yang 像瘋了一樣',\n",
       "  'Artist': 'Dai Yu Tong 戴羽彤',\n",
       "  'Understandability': 64,\n",
       "  'Importance': 60,\n",
       "  'Score': -4,\n",
       "  'New Words': ['魔掌'],\n",
       "  'Link': 'https://lyricspinyin.com/2020/03/22/xiang-feng-le-yi-yang-%e5%83%8f%e7%98%8b%e4%ba%86%e4%b8%80%e6%a8%a3-by-dai-yu-tong-%e6%88%b4%e7%be%bd%e5%bd%a4-pinyin-lyrics-and-english-translation/'},\n",
       " {'Title': 'Ni Zen Me She De Wo Nan Guo 你怎麼捨得我難過',\n",
       "  'Artist': '虎二 feat. 戴羽彤',\n",
       "  'Understandability': 67,\n",
       "  'Importance': 62,\n",
       "  'Score': -5,\n",
       "  'New Words': ['孤单'],\n",
       "  'Link': 'https://lyricspinyin.com/2019/11/07/ni-zen-me-she-de-wo-nan-guo-%e4%bd%a0%e6%80%8e%e9%ba%bc%e6%8d%a8%e5%be%97%e6%88%91%e9%9b%a3%e9%81%8e-by-%e8%99%8e%e4%ba%8c-feat-%e6%88%b4%e7%be%bd%e5%bd%a4-pinyin-lyrics-and-english-translation/'},\n",
       " {'Title': 'Gu Du 孤獨',\n",
       "  'Artist': 'G.E.M.鄧紫棋',\n",
       "  'Understandability': 52,\n",
       "  'Importance': 49,\n",
       "  'Score': -3,\n",
       "  'New Words': ['热可炙手',\n",
       "   '墨',\n",
       "   '喃喃自语',\n",
       "   '泥足陷',\n",
       "   '吞下',\n",
       "   '扑空',\n",
       "   '柜子',\n",
       "   '辗转难眠',\n",
       "   '瞩目',\n",
       "   '铁柱',\n",
       "   '捂住',\n",
       "   '强迫症',\n",
       "   '皎洁',\n",
       "   '枯树',\n",
       "   '恆心'],\n",
       "  'Link': 'https://lyricspinyin.com/2020/10/08/gu-du-%e5%ad%a4%e7%8d%a8-by-g-e-m-%e9%84%a7%e7%b4%ab%e6%a3%8b-pinyin-lyrics-and-english-translation/'},\n",
       " {'Title': 'Cha Bu Duo Gu Niang 差不多姑娘',\n",
       "  'Artist': 'G.E.M.鄧紫棋',\n",
       "  'Understandability': 60,\n",
       "  'Importance': 57,\n",
       "  'Score': -3,\n",
       "  'New Words': ['乌鸦',\n",
       "   '嘻嘻哈哈',\n",
       "   '啃着',\n",
       "   '吱吱',\n",
       "   '强',\n",
       "   '卦',\n",
       "   '闪光',\n",
       "   '基尼',\n",
       "   '牵着',\n",
       "   '呛',\n",
       "   '忧伤',\n",
       "   '撒着',\n",
       "   '骚靠',\n",
       "   '喳喳',\n",
       "   '审美观',\n",
       "   '炸八着',\n",
       "   '赞为'],\n",
       "  'Link': 'https://lyricspinyin.com/2020/06/06/cha-bu-duo-gu-niang-%e5%b7%ae%e4%b8%8d%e5%a4%9a%e5%a7%91%e5%a8%98-by-g-e-m-%e9%84%a7%e7%b4%ab%e6%a3%8b-pinyin-lyrics/'},\n",
       " {'Title': 'Duo Mei Li 多美麗',\n",
       "  'Artist': 'G.E.M. 鄧紫棋',\n",
       "  'Understandability': 64,\n",
       "  'Importance': 57,\n",
       "  'Score': -7,\n",
       "  'New Words': ['最永恆', '湖面', '遐想', '纱'],\n",
       "  'Link': 'https://lyricspinyin.com/2020/05/20/duo-mei-li-%e5%a4%9a%e7%be%8e%e9%ba%97-by-g-e-m-%e9%84%a7%e7%b4%ab%e6%a3%8b-pinyin-lyrics-and-english-translation/'},\n",
       " {'Title': 'Ying Huo 螢火',\n",
       "  'Artist': 'G.E.M. 鄧紫棋',\n",
       "  'Understandability': 58,\n",
       "  'Importance': 54,\n",
       "  'Score': -4,\n",
       "  'New Words': ['宝宝',\n",
       "   '撑过',\n",
       "   '割肚牵肠',\n",
       "   '忧伤',\n",
       "   '织毛衣',\n",
       "   '嫌弃',\n",
       "   '赌',\n",
       "   '曲来',\n",
       "   '滑稽',\n",
       "   '牵挂',\n",
       "   '慈母',\n",
       "   '萤火',\n",
       "   '未停',\n",
       "   '肩上'],\n",
       "  'Link': 'https://lyricspinyin.com/2020/02/25/ying-huo-%e8%9e%a2%e7%81%ab-by-g-e-m-%e9%84%a7%e7%b4%ab%e6%a3%8b-pinyin-lyrics-and-english-translation/'},\n",
       " {'Title': 'Wo De Mi Mi 我的秘密',\n",
       "  'Artist': 'G.E.M. 鄧紫棋',\n",
       "  'Understandability': 63,\n",
       "  'Importance': 57,\n",
       "  'Score': -6,\n",
       "  'New Words': ['这模', '煳', '忽近', '忽远'],\n",
       "  'Link': 'https://lyricspinyin.com/2020/02/23/wo-de-mi-mi-%e6%88%91%e7%9a%84%e7%a7%98%e5%af%86-by-g-e-m-%e9%84%a7%e7%b4%ab%e6%a3%8b-pinyin-lyrics-and-english-translation/'},\n",
       " {'Title': 'Du Ping Guo 毒蘋果',\n",
       "  'Artist': 'G.E.M.鄧紫棋',\n",
       "  'Understandability': 52,\n",
       "  'Importance': 49,\n",
       "  'Score': -3,\n",
       "  'New Words': ['宁人息事',\n",
       "   '闭',\n",
       "   '你额',\n",
       "   '无私',\n",
       "   '臣服',\n",
       "   '放肆',\n",
       "   '木偶',\n",
       "   '魔障',\n",
       "   '闪躲',\n",
       "   '纵容',\n",
       "   '怯懦',\n",
       "   '嚥'],\n",
       "  'Link': 'https://lyricspinyin.com/2020/02/17/du-ping-guo-%e6%af%92%e8%98%8b%e6%9e%9c-by-g-e-m-%e9%84%a7%e7%b4%ab%e6%a3%8b-pinyin-lyrics-and-english-translation/'},\n",
       " {'Title': 'Ling Yi Ge Tong Hua 另一個童話',\n",
       "  'Artist': 'G.E.M. 鄧紫棋',\n",
       "  'Understandability': 59,\n",
       "  'Importance': 55,\n",
       "  'Score': -4,\n",
       "  'New Words': ['乌鸦', '强', '抹掉', '泪流', '勒住', '刺伤', '天鹅', '未变', '未'],\n",
       "  'Link': 'https://lyricspinyin.com/2020/02/12/ling-yi-ge-tong-hua-%e5%8f%a6%e4%b8%80%e5%80%8b%e7%ab%a5%e8%a9%b1-by-g-e-m-%e9%84%a7%e7%b4%ab%e6%a3%8b-pinyin-lyrics-and-english-translation/'},\n",
       " {'Title': 'Dao Shu 倒數 TIK TOK',\n",
       "  'Artist': 'G.E.M. 鄧紫棋',\n",
       "  'Understandability': 55,\n",
       "  'Importance': 52,\n",
       "  'Score': -3,\n",
       "  'New Words': ['旅途',\n",
       "   '铁塔',\n",
       "   '樱花季',\n",
       "   '温热',\n",
       "   '牵着',\n",
       "   '泪流',\n",
       "   '漆黑',\n",
       "   '旭日',\n",
       "   '止息',\n",
       "   '相拥',\n",
       "   '未'],\n",
       "  'Link': 'https://lyricspinyin.com/2020/02/12/dao-shu-%e5%80%92%e6%95%b8-tik-tok-by-g-e-m-%e9%84%a7%e7%b4%ab%e6%a3%8b-pinyin-lyrics-and-english-translation/'},\n",
       " {'Title': 'Tu Ran Zhi Jian 突然之間',\n",
       "  'Artist': 'G.E.M. 鄧紫棋',\n",
       "  'Understandability': 57,\n",
       "  'Importance': 52,\n",
       "  'Score': -5,\n",
       "  'New Words': ['无拘无束', '无牵无挂', '唤醒', '随缘', '微风', '蜃楼', '悬空', '独来独往'],\n",
       "  'Link': 'https://lyricspinyin.com/2020/02/12/tu-ran-zhi-jian-%e7%aa%81%e7%84%b6%e4%b9%8b%e9%96%93-by-g-e-m-%e9%84%a7%e7%b4%ab%e6%a3%8b-pinyin-lyrics-and-english-translation/'},\n",
       " {'Title': 'Ping Fan Tian Shi 平凡天使',\n",
       "  'Artist': 'G.E.M.鄧紫棋',\n",
       "  'Understandability': 54,\n",
       "  'Importance': 50,\n",
       "  'Score': -4,\n",
       "  'New Words': ['并肩', '大雨滂沱', '退缩', '蹟', '带泪', '同舟', '渡过', '痛里'],\n",
       "  'Link': 'https://lyricspinyin.com/2020/02/02/ping-fan-tian-shi-%e5%b9%b3%e5%87%a1%e5%a4%a9%e4%bd%bf-by-g-e-m-%e9%84%a7%e7%b4%ab%e6%a3%8b-pinyin-lyrics-and-english-translation/'},\n",
       " {'Title': 'Pian Pian 偏偏',\n",
       "  'Artist': '迪麗熱巴 汪蘇瀧',\n",
       "  'Understandability': 46,\n",
       "  'Importance': 44,\n",
       "  'Score': -2,\n",
       "  'New Words': ['情亦',\n",
       "   '挂牵',\n",
       "   '更迭',\n",
       "   '未了',\n",
       "   '成茧',\n",
       "   '红尘',\n",
       "   '隔世',\n",
       "   '缠缠绵绵',\n",
       "   '摇曳',\n",
       "   '褪尽',\n",
       "   '亏欠',\n",
       "   '蜕变',\n",
       "   '初见',\n",
       "   '成卷',\n",
       "   '润色',\n",
       "   '重逢',\n",
       "   '孤单',\n",
       "   '心弦'],\n",
       "  'Link': 'https://lyricspinyin.com/2020/03/12/pian-pian-%e5%81%8f%e5%81%8f-by-%e8%bf%aa%e9%ba%97%e7%86%b1%e5%b7%b4-%e6%b1%aa%e8%98%87%e7%80%a7-pinyin-lyrics/'},\n",
       " {'Title': 'Ming Zhong Zhu Ding 命中注定',\n",
       "  'Artist': 'Della 丁噹',\n",
       "  'Understandability': 57,\n",
       "  'Importance': 52,\n",
       "  'Score': -5,\n",
       "  'New Words': ['唿唤', '蹟', '茫茫人海', '眺望', '命中注定', '默契', '弃守'],\n",
       "  'Link': 'https://lyricspinyin.com/2020/06/10/ming-zhong-zhu-ding-%e5%91%bd%e4%b8%ad%e6%b3%a8%e5%ae%9a-by-della-%e4%b8%81%e5%99%b9-pinyin-lyrics-and-english-translation/'},\n",
       " {'Title': 'Tian Shi 天使',\n",
       "  'Artist': 'DELLA 丁噹',\n",
       "  'Understandability': 67,\n",
       "  'Importance': 62,\n",
       "  'Score': -5,\n",
       "  'New Words': ['宝藏', '忧伤', '眼泪'],\n",
       "  'Link': 'https://lyricspinyin.com/2020/05/22/tian-shi-%e5%a4%a9%e4%bd%bf-by-della-%e4%b8%81%e5%99%b9-pinyin-lyrics-and-english-translation/'},\n",
       " {'Title': 'Cheng Yin 成癮 Ding Dang 丁噹',\n",
       "  'Artist': 'Pinyin Lyrics And English Translation - Lyrics Pinyin',\n",
       "  'Understandability': 53,\n",
       "  'Importance': 48,\n",
       "  'Score': -5,\n",
       "  'New Words': ['心虚', '佔', '沉溺', '唿吸', '贪图', '找寻', '成瘾'],\n",
       "  'Link': 'https://lyricspinyin.com/2019/10/12/cheng-yin-%e6%88%90%e7%99%ae-ding-dang-%e4%b8%81%e5%99%b9-by-pinyin-lyrics-and-english-translation/'},\n",
       " {'Title': 'Zen Me 怎麼',\n",
       "  'Artist': 'Ding Fu Ni 丁芙妮',\n",
       "  'Understandability': 66,\n",
       "  'Importance': 58,\n",
       "  'Score': -8,\n",
       "  'New Words': ['冥冥之中', '恋旧', '感情纠缠'],\n",
       "  'Link': 'https://lyricspinyin.com/2020/08/13/zen-me-%e6%80%8e%e9%ba%bc-by-ding-fu-ni-%e4%b8%81%e8%8a%99%e5%a6%ae-pinyin-lyrics-and-english-translation/'},\n",
       " {'Title': 'Wo Hao Xi Huan Ni 我好喜歡你',\n",
       "  'Artist': 'Ding Fu Ni',\n",
       "  'Understandability': 59,\n",
       "  'Importance': 52,\n",
       "  'Score': -7,\n",
       "  'New Words': ['相隔', '唿吸', '搭配着', '香槟', '佔'],\n",
       "  'Link': 'https://lyricspinyin.com/2020/04/22/wo-hao-xi-huan-ni-%e6%88%91%e5%a5%bd%e5%96%9c%e6%ad%a1%e4%bd%a0-by-ding-fu-ni-pinyin-lyrics-and-english-translation/'},\n",
       " {'Title': 'Wo Bu Tong 我不痛',\n",
       "  'Artist': 'Ding Fu Ni 丁芙妮',\n",
       "  'Understandability': 55,\n",
       "  'Importance': 52,\n",
       "  'Score': -3,\n",
       "  'New Words': ['痛够',\n",
       "   '优雅',\n",
       "   '指尖',\n",
       "   '刺透',\n",
       "   '飞蛾扑火',\n",
       "   '针尖',\n",
       "   '裂口',\n",
       "   '红豆',\n",
       "   '刺下来',\n",
       "   '穿透',\n",
       "   '缝补'],\n",
       "  'Link': 'https://lyricspinyin.com/2020/01/30/wo-bu-tong-%e6%88%91%e4%b8%8d%e7%97%9b-by-ding-fu-ni-%e4%b8%81%e8%8a%99%e5%a6%ae-pinyin-lyrics-and-english-translation/'},\n",
       " {'Title': 'Zhi Shi Tai Ai Ni 只是太愛你',\n",
       "  'Artist': 'Ding Fu Ni 丁芙妮',\n",
       "  'Understandability': 63,\n",
       "  'Importance': 57,\n",
       "  'Score': -6,\n",
       "  'New Words': ['窒息', '吞噬'],\n",
       "  'Link': 'https://lyricspinyin.com/2019/12/05/zhi-shi-tai-ai-ni-%e5%8f%aa%e6%98%af%e5%a4%aa%e6%84%9b%e4%bd%a0-by-ding-fu-ni-%e4%b8%81%e8%8a%99%e5%a6%ae-pinyin-lyrics-and-english-translation/'},\n",
       " {'Title': 'Xu 敘',\n",
       "  'Artist': 'Duan Ao Juan 段奧娟',\n",
       "  'Understandability': 40,\n",
       "  'Importance': 36,\n",
       "  'Score': -4,\n",
       "  'New Words': ['流霞',\n",
       "   '优柔',\n",
       "   '嗟',\n",
       "   '秋云',\n",
       "   '幻灭',\n",
       "   '一曲',\n",
       "   '缱绻',\n",
       "   '辗转',\n",
       "   '折柳芽',\n",
       "   '画卷',\n",
       "   '繁花',\n",
       "   '若水',\n",
       "   '念一庭',\n",
       "   '叙情',\n",
       "   '前尘',\n",
       "   '枝别',\n",
       "   '潸然泪下',\n",
       "   '无眠',\n",
       "   '自编',\n",
       "   '缠绵',\n",
       "   '丹霞',\n",
       "   '枉自',\n",
       "   '牵挂',\n",
       "   '唇齿',\n",
       "   '江山如画',\n",
       "   '一盏',\n",
       "   '咫尺天涯',\n",
       "   '踏遍'],\n",
       "  'Link': 'https://lyricspinyin.com/2020/07/19/xu-%e6%95%98-by-duan-ao-juan-%e6%ae%b5%e5%a5%a7%e5%a8%9f-pinyin-lyrics/'},\n",
       " {'Title': 'Mei You Li You 沒有理由',\n",
       "  'Artist': 'Ryan.B & Effie 周延英',\n",
       "  'Understandability': 68,\n",
       "  'Importance': 63,\n",
       "  'Score': -5,\n",
       "  'New Words': ['挽留'],\n",
       "  'Link': 'https://lyricspinyin.com/2019/11/21/mei-you-li-you-%e6%b2%92%e6%9c%89%e7%90%86%e7%94%b1-by-ryan-b-effie-%e5%91%a8%e5%bb%b6%e8%8b%b1-pinyin-lyrics-and-english-translation/'},\n",
       " {'Title': 'Ke Bu Ke Ai 可不可愛',\n",
       "  'Artist': 'Elaine Ho 何紫妍',\n",
       "  'Understandability': 53,\n",
       "  'Importance': 51,\n",
       "  'Score': -2,\n",
       "  'New Words': ['作伴',\n",
       "   '用尬',\n",
       "   '归属感',\n",
       "   '攻城',\n",
       "   '胡思乱想',\n",
       "   '连载故事',\n",
       "   '忠实听众',\n",
       "   '蜕变',\n",
       "   '肩',\n",
       "   '何止',\n",
       "   '神采',\n",
       "   '依恋',\n",
       "   '抖抖',\n",
       "   '食言',\n",
       "   '移不开',\n",
       "   '宠'],\n",
       "  'Link': 'https://lyricspinyin.com/2020/04/24/ke-bu-ke-ai-%e5%8f%af%e4%b8%8d%e5%8f%af%e6%84%9b-by-elaine-ho-%e4%bd%95%e7%b4%ab%e5%a6%8d-pinyin-lyrics-and-english-translation/'},\n",
       " {'Title': 'Zui Hao De Xing Yun 最好的幸運',\n",
       "  'Artist': 'Eleanor 李凱馨',\n",
       "  'Understandability': 53,\n",
       "  'Importance': 50,\n",
       "  'Score': -3,\n",
       "  'New Words': ['橱窗',\n",
       "   '唿唤',\n",
       "   '守望',\n",
       "   '无所畏惧',\n",
       "   '手掌',\n",
       "   '霓虹',\n",
       "   '呢喃',\n",
       "   '遥不可及',\n",
       "   '紧握着',\n",
       "   '忐忑'],\n",
       "  'Link': 'https://lyricspinyin.com/2020/06/02/zui-hao-de-xing-yun-%e6%9c%80%e5%a5%bd%e7%9a%84%e5%b9%b8%e9%81%8b-by-eleanor-%e6%9d%8e%e5%87%b1%e9%a6%a8-pinyin-lyrics-and-english-translation/'},\n",
       " {'Title': 'Wan An Ge 晚安歌',\n",
       "  'Artist': 'Ella 陳嘉樺',\n",
       "  'Understandability': 68,\n",
       "  'Importance': 62,\n",
       "  'Score': -6,\n",
       "  'New Words': ['唿吸', '灭熄'],\n",
       "  'Link': 'https://lyricspinyin.com/2020/05/19/wan-an-ge-%e6%99%9a%e5%ae%89%e6%ad%8c-by-ella-%e9%99%b3%e5%98%89%e6%a8%ba-pinyin-lyrics-and-english-translation/'},\n",
       " {'Title': 'Zhong Yu Ai Qing 終於愛情',\n",
       "  'Artist': 'ELLA 陳嘉樺',\n",
       "  'Understandability': 58,\n",
       "  'Importance': 55,\n",
       "  'Score': -3,\n",
       "  'New Words': ['海潮', '推开', '逞强', '淬炼', '唿吸', '贴着', '孤单', '託'],\n",
       "  'Link': 'https://lyricspinyin.com/2020/05/01/zhong-yu-ai-qing-%e7%b5%82%e6%96%bc%e6%84%9b%e6%83%85-by-ella-%e9%99%b3%e5%98%89%e6%a8%ba-pinyin-lyrics-and-english-translation/'},\n",
       " {'Title': 'Dou Ji Sui Le 都幾歲了',\n",
       "  'Artist': 'Ella 陳嘉樺',\n",
       "  'Understandability': 50,\n",
       "  'Importance': 46,\n",
       "  'Score': -4,\n",
       "  'New Words': ['一片汪洋', '一扇', '氾', '遮蔽', '谎话', '堤防', '逞强', '滥成', '遮住', '綑'],\n",
       "  'Link': 'https://lyricspinyin.com/2020/03/30/dou-ji-sui-le-%e9%83%bd%e5%b9%be%e6%ad%b2%e4%ba%86-by-ella-%e9%99%b3%e5%98%89%e6%a8%ba-pinyin-lyrics-and-english-translation/'},\n",
       " {'Title': 'Cuo De Ren 錯的人',\n",
       "  'Artist': 'Elva Hsiao 蕭亞軒',\n",
       "  'Understandability': 57,\n",
       "  'Importance': 53,\n",
       "  'Score': -4,\n",
       "  'New Words': ['牢靠', '缘分', '永恆', '沉沦', '假惺惺', '监牢'],\n",
       "  'Link': 'https://lyricspinyin.com/2020/04/02/cuo-de-ren-%e9%8c%af%e7%9a%84%e4%ba%ba-by-elva-hsiao-%e8%95%ad%e4%ba%9e%e8%bb%92-pinyin-lyrics-and-english-translation/'},\n",
       " {'Title': 'Bu Ru Xian Qing Zhu Neng Zai Yi Qi 不如先慶祝能在一起',\n",
       "  'Artist': 'Elva Hsiao 蕭亞軒',\n",
       "  'Understandability': 61,\n",
       "  'Importance': 59,\n",
       "  'Score': -2,\n",
       "  'New Words': ['甜甜蜜蜜', '眼泪', '寻寻觅觅', '真谛', '热恋', '痛醒', '窃窃私语', '失焦', '微醺'],\n",
       "  'Link': 'https://lyricspinyin.com/2020/03/23/bu-ru-xian-qing-zhu-neng-zai-yi-qi-%e4%b8%8d%e5%a6%82%e5%85%88%e6%85%b6%e7%a5%9d%e8%83%bd%e5%9c%a8%e4%b8%80%e8%b5%b7-by-elva-hsiao-%e8%95%ad%e4%ba%9e%e8%bb%92-pinyin-lyrics/'},\n",
       " {'Title': 'Dang Ni He Xin Tiao Yi Qi Chu Xian 當你和心跳一起出現',\n",
       "  'Artist': 'Elva Hsiao 蕭亞軒',\n",
       "  'Understandability': 53,\n",
       "  'Importance': 49,\n",
       "  'Score': -4,\n",
       "  'New Words': ['呜呜', '眨眼', '迷蒙', '浮上', '几秒钟', '幻觉', '人赖', '被窝', '邪', '託'],\n",
       "  'Link': 'https://lyricspinyin.com/2020/02/01/dang-ni-he-xin-tiao-yi-qi-chu-xian-%e7%95%b6%e4%bd%a0%e5%92%8c%e5%bf%83%e8%b7%b3%e4%b8%80%e8%b5%b7%e5%87%ba%e7%8f%be-by-elva-hsiao-%e8%95%ad%e4%ba%9e%e8%bb%92-pinyin-lyrics-and-english-translation/'},\n",
       " {'Title': 'Li Kai Zhe Yang De Sheng Huo 離開這樣的生活',\n",
       "  'Artist': '卜星慧',\n",
       "  'Understandability': 56,\n",
       "  'Importance': 50,\n",
       "  'Score': -6,\n",
       "  'New Words': ['我治', '涂掉', '烟灭', '癒'],\n",
       "  'Link': 'https://lyricspinyin.com/2019/10/22/li-kai-zhe-yang-de-sheng-huo-%e9%9b%a2%e9%96%8b%e9%80%99%e6%a8%a3%e7%9a%84%e7%94%9f%e6%b4%bb-by-%e5%8d%9c%e6%98%9f%e6%85%a7-pinyin-lyrics-and-english-translation/'},\n",
       " {'Title': 'Yao Guai Ren Jian 妖怪人間',\n",
       "  'Artist': 'Enno Cheng 鄭宜農',\n",
       "  'Understandability': 64,\n",
       "  'Importance': 52,\n",
       "  'Score': -12,\n",
       "  'New Words': ['畸型', '慾', '併'],\n",
       "  'Link': 'https://lyricspinyin.com/2020/04/12/yao-guai-ren-jian-%e5%a6%96%e6%80%aa%e4%ba%ba%e9%96%93-by-enno-cheng-%e9%84%ad%e5%ae%9c%e8%be%b2-pinyin-lyrics-and-english-translation/'},\n",
       " {'Title': 'Be My Valentine',\n",
       "  'Artist': 'Er Ke 二珂',\n",
       "  'Understandability': 53,\n",
       "  'Importance': 51,\n",
       "  'Score': -2,\n",
       "  'New Words': ['比拟', '蹟', '一触', '唿吸', '眼眸', '沉迷', '指尖', '映出', '闪烁着'],\n",
       "  'Link': 'https://lyricspinyin.com/2019/11/27/be-my-valentine-by-er-ke-%e4%ba%8c%e7%8f%82-pinyin-lyrics-and-english-translation/'},\n",
       " {'Title': 'Ni Zou Yi Hou 你走以後',\n",
       "  'Artist': '王恩信 Est & 二胖 u',\n",
       "  'Understandability': 54,\n",
       "  'Importance': 52,\n",
       "  'Score': -2,\n",
       "  'New Words': ['雨淋', '空荡', '柜子', '匕首', '静止', '暴躁', '三言两语'],\n",
       "  'Link': 'https://lyricspinyin.com/2020/07/20/ni-zou-yi-hou-%e4%bd%a0%e8%b5%b0%e4%bb%a5%e5%be%8c-by-%e7%8e%8b%e6%81%a9%e4%bf%a1-est-%e4%ba%8c%e8%83%96-u-pinyin-lyrics-and-english-translation/'},\n",
       " {'Title': 'Bu Neng Hu Xi De Ai 不能呼吸的愛',\n",
       "  'Artist': 'Evangeline 王艷薇',\n",
       "  'Understandability': 60,\n",
       "  'Importance': 53,\n",
       "  'Score': -7,\n",
       "  'New Words': ['无法自拔', '浮过', '伤悲', '唿吸', '紧握', '牵挂'],\n",
       "  'Link': 'https://lyricspinyin.com/2020/10/24/bu-neng-hu-xi-de-ai-%e4%b8%8d%e8%83%bd%e5%91%bc%e5%90%b8%e7%9a%84%e6%84%9b-by-evangeline-%e7%8e%8b%e8%89%b7%e8%96%87-pinyin-lyrics-and-english-translation/'},\n",
       " {'Title': 'Li Kai Wo De Yi Lai 離開我的依賴',\n",
       "  'Artist': 'Evangeline 王艷薇',\n",
       "  'Understandability': 58,\n",
       "  'Importance': 55,\n",
       "  'Score': -3,\n",
       "  'New Words': ['渐暗', '谎话', '沖', '忍痛', '我蒙上', '憔悴'],\n",
       "  'Link': 'https://lyricspinyin.com/2020/03/19/li-kai-wo-de-yi-lai-%e9%9b%a2%e9%96%8b%e6%88%91%e7%9a%84%e4%be%9d%e8%b3%b4-by-evangeline-%e7%8e%8b%e8%89%b7%e8%96%87-pinyin-lyrics-and-english-translation/'},\n",
       " {'Title': 'Piao Yang Guo Hai Lai Kan Ni 飄洋過海來看你',\n",
       "  'Artist': 'Fish Leong 梁靜茹 Eve Ai 艾怡良',\n",
       "  'Understandability': 52,\n",
       "  'Importance': 50,\n",
       "  'Score': -2,\n",
       "  'New Words': ['多盼', '言语', '反覆', '唿吸', '叹息', '送君', '相拥'],\n",
       "  'Link': 'https://lyricspinyin.com/2020/05/01/piao-yang-guo-hai-lai-kan-ni-%e9%a3%84%e6%b4%8b%e9%81%8e%e6%b5%b7%e4%be%86%e7%9c%8b%e4%bd%a0-by-fish-leong-%e6%a2%81%e9%9d%9c%e8%8c%b9-eve-ai-%e8%89%be%e6%80%a1%e8%89%af-pinyin-lyrics-and-english-tran/'},\n",
       " {'Title': 'Forever Young',\n",
       "  'Artist': 'Eve Ai 艾怡良',\n",
       "  'Understandability': 54,\n",
       "  'Importance': 50,\n",
       "  'Score': -4,\n",
       "  'New Words': ['一横',\n",
       "   '一剪',\n",
       "   '卧着',\n",
       "   '永恆',\n",
       "   '折成',\n",
       "   '妳',\n",
       "   '遥望',\n",
       "   '描上',\n",
       "   '盪呀',\n",
       "   '高亢',\n",
       "   '合掌',\n",
       "   '握紧',\n",
       "   '轻狂',\n",
       "   '不枉',\n",
       "   '沈稳',\n",
       "   '妳会'],\n",
       "  'Link': 'https://lyricspinyin.com/2019/11/12/forever-young-by-eve-ai-%e8%89%be%e6%80%a1%e8%89%af-pinyin-lyrics-and-english-translation/'},\n",
       " {'Title': 'Qi Yue Qi Ri Qing 七月七日晴',\n",
       "  'Artist': 'Evonne Hsu 許慧欣',\n",
       "  'Understandability': 51,\n",
       "  'Importance': 46,\n",
       "  'Score': -5,\n",
       "  'New Words': ['拼贴', '幻觉', '眼泪'],\n",
       "  'Link': 'https://lyricspinyin.com/2020/07/09/qi-yue-qi-ri-qing-%e4%b8%83%e6%9c%88%e4%b8%83%e6%97%a5%e6%99%b4-by-evonne-hsu-%e8%a8%b1%e6%85%a7%e6%ac%a3-pinyin-lyrics-and-english-translation/'},\n",
       " {'Title': 'Ke Bu Ke Yi Bu Yong Gan 可不可以不勇敢',\n",
       "  'Artist': 'Christine Fan 范瑋琪',\n",
       "  'Understandability': 58,\n",
       "  'Importance': 55,\n",
       "  'Score': -3,\n",
       "  'New Words': ['贴心'],\n",
       "  'Link': 'https://lyricspinyin.com/2020/02/07/ke-bu-ke-yi-bu-yong-gan-%e5%8f%af%e4%b8%8d%e5%8f%af%e4%bb%a5%e4%b8%8d%e5%8b%87%e6%95%a2-by-christine-fan-%e8%8c%83%e7%91%8b%e7%90%aa-pinyin-lyrics-and-english-translation/'},\n",
       " {'Title': 'Bu Wang 不忘',\n",
       "  'Artist': 'FanFan 范瑋琪',\n",
       "  'Understandability': 54,\n",
       "  'Importance': 50,\n",
       "  'Score': -4,\n",
       "  'New Words': ['相隔', '一秒', '微弱', '漆黑', '肩上', '迷途'],\n",
       "  'Link': 'https://lyricspinyin.com/2019/12/25/bu-wang-%e4%b8%8d%e5%bf%98-by-fanfan-%e8%8c%83%e7%91%8b%e7%90%aa-pinyin-lyrics-and-english-translation/'},\n",
       " {'Title': 'Sheng Ming Zhi He 生命之河',\n",
       "  'Artist': 'Faye Wong 王菲 Na Ying 那英',\n",
       "  'Understandability': 56,\n",
       "  'Importance': 57,\n",
       "  'Score': 1,\n",
       "  'New Words': ['过泪', '天空海阔', '蹉跎', '坠落', '泪比汗', '徬徨', '磊落', '如出一辙', '仰望'],\n",
       "  'Link': 'https://lyricspinyin.com/2020/01/22/sheng-ming-zhi-he-%e7%94%9f%e5%91%bd%e4%b9%8b%e6%b2%b3-by-faye-wong-%e7%8e%8b%e8%8f%b2-na-ying-%e9%82%a3%e8%8b%b1-pinyin-lyrics-and-english-translation/'},\n",
       " {'Title': 'Chu Tian 初甜',\n",
       "  'Artist': 'Feng Ming Jiong Jun 封茗囧菌',\n",
       "  'Understandability': 52,\n",
       "  'Importance': 50,\n",
       "  'Score': -2,\n",
       "  'New Words': ['彼岸',\n",
       "   '碰触',\n",
       "   '肩',\n",
       "   '初见',\n",
       "   '穿梭',\n",
       "   '置身',\n",
       "   '擦肩',\n",
       "   '长眠',\n",
       "   '浩瀚',\n",
       "   '赖上',\n",
       "   '一粒',\n",
       "   '孤单',\n",
       "   '赴约'],\n",
       "  'Link': 'https://lyricspinyin.com/2020/02/06/chu-tian-%e5%88%9d%e7%94%9c-by-feng-ming-jiong-jun-%e5%b0%81%e8%8c%97%e5%9b%a7%e8%8f%8c-pinyin-lyrics-and-english-translation/'},\n",
       " {'Title': 'Yue Lai Yue Bu Dong 越來越不懂',\n",
       "  'Artist': 'Feng Ming Jiong Jun 封茗囧菌',\n",
       "  'Understandability': 58,\n",
       "  'Importance': 53,\n",
       "  'Score': -5,\n",
       "  'New Words': ['稳重', '谈恋爱', '伤悲', '惊鸿一瞥', '自我安慰'],\n",
       "  'Link': 'https://lyricspinyin.com/2019/12/10/yue-lai-yue-bu-dong-%e8%b6%8a%e4%be%86%e8%b6%8a%e4%b8%8d%e6%87%82-by-feng-ming-jiong-jun-%e5%b0%81%e8%8c%97%e5%9b%a7%e8%8f%8c-pinyin-lyrics-and-english-translation/'},\n",
       " {'Title': 'Mou Nian Mou Yue Mou Ri Jian 某年某月某日見',\n",
       "  'Artist': '封茗囧菌',\n",
       "  'Understandability': 49,\n",
       "  'Importance': 46,\n",
       "  'Score': -3,\n",
       "  'New Words': ['沉进',\n",
       "   '湖面',\n",
       "   '旅途',\n",
       "   '铺满',\n",
       "   '追寻着',\n",
       "   '肩',\n",
       "   '同伴',\n",
       "   '言语',\n",
       "   '爬山越岭',\n",
       "   '海鸥',\n",
       "   '默契',\n",
       "   '跃过',\n",
       "   '下坠',\n",
       "   '珍藏',\n",
       "   '找寻'],\n",
       "  'Link': 'https://lyricspinyin.com/2019/10/14/mou-nian-mou-yue-mou-ri-jian-%e6%9f%90%e5%b9%b4%e6%9f%90%e6%9c%88%e6%9f%90%e6%97%a5%e8%a6%8b-by-%e5%b0%81%e8%8c%97%e5%9b%a7%e8%8f%8c-pinyin-lyrics-and-english-translation-%e4%bd%9c/'},\n",
       " {'Title': 'Nuan Nuan 暖暖',\n",
       "  'Artist': 'Fish Leong 梁靜茹',\n",
       "  'Understandability': 60,\n",
       "  'Importance': 56,\n",
       "  'Score': -4,\n",
       "  'New Words': ['手掌', '细腻'],\n",
       "  'Link': 'https://lyricspinyin.com/2020/10/03/nuan-nuan-%e6%9a%96%e6%9a%96-by-fish-leong-%e6%a2%81%e9%9d%9c%e8%8c%b9-pinyin-lyrics/'},\n",
       " {'Title': 'Yong Qi 勇氣',\n",
       "  'Artist': 'Fish Leong 梁靜茹',\n",
       "  'Understandability': 61,\n",
       "  'Importance': 59,\n",
       "  'Score': -2,\n",
       "  'New Words': ['天涯海角', '温习', '流言蜚语'],\n",
       "  'Link': 'https://lyricspinyin.com/2020/05/13/yong-qi-%e5%8b%87%e6%b0%a3-by-fish-leong-%e6%a2%81%e9%9d%9c%e8%8c%b9-pinyin-lyrics-and-english-translation/'},\n",
       " {'Title': 'Piao Yang Guo Hai Lai Kan Ni 飄洋過海來看你',\n",
       "  'Artist': 'Fish Leong 梁靜茹 Eve Ai 艾怡良',\n",
       "  'Understandability': 52,\n",
       "  'Importance': 50,\n",
       "  'Score': -2,\n",
       "  'New Words': ['多盼', '言语', '反覆', '唿吸', '叹息', '送君', '相拥'],\n",
       "  'Link': 'https://lyricspinyin.com/2020/05/01/piao-yang-guo-hai-lai-kan-ni-%e9%a3%84%e6%b4%8b%e9%81%8e%e6%b5%b7%e4%be%86%e7%9c%8b%e4%bd%a0-by-fish-leong-%e6%a2%81%e9%9d%9c%e8%8c%b9-eve-ai-%e8%89%be%e6%80%a1%e8%89%af-pinyin-lyrics-and-english-tran/'},\n",
       " {'Title': 'Ke Xi Bu Shi Ni 可惜不是你',\n",
       "  'Artist': 'Fish Leong 梁靜茹',\n",
       "  'Understandability': 59,\n",
       "  'Importance': 55,\n",
       "  'Score': -4,\n",
       "  'New Words': ['但闭', '彿', '伏线', '牵过', '贴着', '投影'],\n",
       "  'Link': 'https://lyricspinyin.com/2020/01/14/ke-xi-bu-shi-ni-%e5%8f%af%e6%83%9c%e4%b8%8d%e6%98%af%e4%bd%a0-by-fish-leong-%e6%a2%81%e9%9d%9c%e8%8c%b9-pinyin-lyrics-and-english-translation/'},\n",
       " {'Title': 'Wo Hao Ma 我好嗎',\n",
       "  'Artist': 'Fish Leong 梁靜茹',\n",
       "  'Understandability': 63,\n",
       "  'Importance': 58,\n",
       "  'Score': -5,\n",
       "  'New Words': ['碾碎', '刻骨铭心', '眷恋', '唿唤', '一言为定', '沈溺', '银杏树', '无涉', '託'],\n",
       "  'Link': 'https://lyricspinyin.com/2019/10/10/wo-hao-ma-%e6%88%91%e5%a5%bd%e5%97%8e-by-fish-leong-%e6%a2%81%e9%9d%9c%e8%8c%b9-pinyin-lyrics-and-english-translation/'},\n",
       " {'Title': 'Wei Guang 微光',\n",
       "  'Artist': 'Fish Leong 梁靜茹',\n",
       "  'Understandability': 50,\n",
       "  'Importance': 48,\n",
       "  'Score': -2,\n",
       "  'New Words': ['缺憾',\n",
       "   '烟消云散',\n",
       "   '芦苇',\n",
       "   '璀璨',\n",
       "   '微光',\n",
       "   '泪光',\n",
       "   '萤光',\n",
       "   '露珠',\n",
       "   '空荡荡',\n",
       "   '萤火虫',\n",
       "   '稳当',\n",
       "   '苦心经营',\n",
       "   '盪漾',\n",
       "   '为剎',\n",
       "   '孤单',\n",
       "   '扰攘',\n",
       "   '瞌睡'],\n",
       "  'Link': 'https://lyricspinyin.com/2019/10/09/wei-guang-%e5%be%ae%e5%85%89-by-fish-leong-%e6%a2%81%e9%9d%9c%e8%8c%b9-pinyin-lyrics-and-english-translation/'},\n",
       " {'Title': 'Yan Huo 煙火',\n",
       "  'Artist': 'Flo 蔡黄汝',\n",
       "  'Understandability': 59,\n",
       "  'Importance': 57,\n",
       "  'Score': -2,\n",
       "  'New Words': ['璀璨', '毫无保留', '眼眸', '麻痺'],\n",
       "  'Link': 'https://lyricspinyin.com/2020/09/01/yan-huo-%e7%85%99%e7%81%ab-by-flo-%e8%94%a1%e9%bb%84%e6%b1%9d-pinyin-lyrics-and-english-translation/'},\n",
       " {'Title': 'Lang Man Ti Zhi 浪漫體質',\n",
       "  'Artist': 'Freya Lim 林凡',\n",
       "  'Understandability': 47,\n",
       "  'Importance': 47,\n",
       "  'Score': 0,\n",
       "  'New Words': ['作伴',\n",
       "   '梦唤',\n",
       "   '氾',\n",
       "   '船帆',\n",
       "   '医治',\n",
       "   '乘载',\n",
       "   '止不住',\n",
       "   '放肆',\n",
       "   '成灾',\n",
       "   '呢喃',\n",
       "   '孤单'],\n",
       "  'Link': 'https://lyricspinyin.com/2020/06/25/lang-man-ti-zhi-%e6%b5%aa%e6%bc%ab%e9%ab%94%e8%b3%aa-by-freya-lim-%e6%9e%97%e5%87%a1-pinyin-lyrics-and-english-translation/'},\n",
       " {'Title': 'Xing Fu Zhi Qian 幸福之前',\n",
       "  'Artist': 'Freya Lim 林凡',\n",
       "  'Understandability': 57,\n",
       "  'Importance': 55,\n",
       "  'Score': -2,\n",
       "  'New Words': ['祕', '巧遇', '浓烈', '癒', '会疗'],\n",
       "  'Link': 'https://lyricspinyin.com/2020/06/02/xing-fu-zhi-qian-%e5%b9%b8%e7%a6%8f%e4%b9%8b%e5%89%8d-by-freya-lim-%e6%9e%97%e5%87%a1-pinyin-lyrics-and-english-translation/'},\n",
       " {'Title': 'Ru Yuan Yi Chang 如願以償',\n",
       "  'Artist': 'Freya Lim 林凡',\n",
       "  'Understandability': 59,\n",
       "  'Importance': 52,\n",
       "  'Score': -7,\n",
       "  'New Words': ['如愿以偿', '暴风雨'],\n",
       "  'Link': 'https://lyricspinyin.com/2019/11/29/ru-yuan-yi-chang-%e5%a6%82%e9%a1%98%e4%bb%a5%e5%84%9f-by-freya-lim-%e6%9e%97%e5%87%a1-pinyin-lyrics-and-english-translation/'},\n",
       " {'Title': 'Xie Xie Ni Gei Wo De 謝謝你給我的',\n",
       "  'Artist': 'Fu Ru Qiao 傅如喬',\n",
       "  'Understandability': 64,\n",
       "  'Importance': 59,\n",
       "  'Score': -5,\n",
       "  'New Words': ['宿命', '猜忌', '太古', '流言蜚语'],\n",
       "  'Link': 'https://lyricspinyin.com/2020/05/15/xie-xie-ni-gei-wo-de-%e8%ac%9d%e8%ac%9d%e4%bd%a0%e7%b5%a6%e6%88%91%e7%9a%84-by-fu-ru-qiao-%e5%82%85%e5%a6%82%e5%96%ac-pinyin-lyrics-and-english-translation/'},\n",
       " {'Title': 'Wei Wei 微微',\n",
       "  'Artist': 'Fu Ru Qiao 傅如喬',\n",
       "  'Understandability': 57,\n",
       "  'Importance': 52,\n",
       "  'Score': -5,\n",
       "  'New Words': ['跌跌撞撞', '跌倒', '每一秒', '晨光'],\n",
       "  'Link': 'https://lyricspinyin.com/2020/04/08/wei-wei-%e5%be%ae%e5%be%ae-by-fu-ru-qiao-%e5%82%85%e5%a6%82%e5%96%ac-pinyin-lyrics-and-english-translation/'},\n",
       " {'Title': 'Ni Wei Le Wo Cheng Ba San 你為了我撐把傘',\n",
       "  'Artist': 'Gali 蓋兒',\n",
       "  'Understandability': 61,\n",
       "  'Importance': 55,\n",
       "  'Score': -6,\n",
       "  'New Words': ['我赖', '我撑', '孤单', '啰'],\n",
       "  'Link': 'https://lyricspinyin.com/2020/05/29/ni-wei-le-wo-cheng-ba-san-%e4%bd%a0%e7%82%ba%e4%ba%86%e6%88%91%e6%92%90%e6%8a%8a%e5%82%98-by-gali-%e8%93%8b%e5%85%92-pinyin-lyrics-and-english-translation/'},\n",
       " {'Title': 'Yi Ge Zhen Shi De Gu Shi 一個真實的故事',\n",
       "  'Artist': 'Gan Ping 甘萍',\n",
       "  'Understandability': 39,\n",
       "  'Importance': 36,\n",
       "  'Score': -3,\n",
       "  'New Words': ['养鹤', '唔', '丹顶鹤', '芦苇', '白云', '沼泽地'],\n",
       "  'Link': 'https://lyricspinyin.com/2020/10/02/yi-ge-zhen-shi-de-gu-shi-%e4%b8%80%e5%80%8b%e7%9c%9f%e5%af%a6%e7%9a%84%e6%95%85%e4%ba%8b-by-gan-ping-%e7%94%98%e8%90%8d-pinyin-lyrics-and-english-translation/'},\n",
       " {'Title': 'Hui Yi Zhi He 回憶之河',\n",
       "  'Artist': 'Gina Alice 吉娜·愛麗絲',\n",
       "  'Understandability': 57,\n",
       "  'Importance': 51,\n",
       "  'Score': -6,\n",
       "  'New Words': ['唿唤', '漩涡', '天空海阔'],\n",
       "  'Link': 'https://lyricspinyin.com/2019/11/30/hui-yi-zhi-he-%e5%9b%9e%e6%86%b6%e4%b9%8b%e6%b2%b3-by-gina-alice-%e5%90%89%e5%a8%9c%c2%b7%e6%84%9b%e9%ba%97%e7%b5%b2-pinyin-lyrics-and-english-translation/'},\n",
       " {'Title': 'Xing Xing Shi Mian 星星失眠',\n",
       "  'Artist': 'Halleeee 哈利',\n",
       "  'Understandability': 37,\n",
       "  'Importance': 34,\n",
       "  'Score': -3,\n",
       "  'New Words': ['心田',\n",
       "   '唤醒',\n",
       "   '形同虚设',\n",
       "   '空盪',\n",
       "   '坠落',\n",
       "   '设限',\n",
       "   '绵绵',\n",
       "   '睡眠',\n",
       "   '无限',\n",
       "   '虚无',\n",
       "   '云间'],\n",
       "  'Link': 'https://lyricspinyin.com/2020/05/04/xing-xing-shi-mian-%e6%98%9f%e6%98%9f%e5%a4%b1%e7%9c%a0-by-halleeee-%e5%93%88%e5%88%a9-pinyin-lyrics-and-english-translation/'},\n",
       " {'Title': 'Du Jiao Xi 獨角戲',\n",
       "  'Artist': 'Halleeee 哈利',\n",
       "  'Understandability': 52,\n",
       "  'Importance': 50,\n",
       "  'Score': -2,\n",
       "  'New Words': ['痛意', '标准答案', '无关痛痒', '幻觉', '不返', '独角戏', '踏遍'],\n",
       "  'Link': 'https://lyricspinyin.com/2020/05/04/du-jiao-xi-%e7%8d%a8%e8%a7%92%e6%88%b2-by-halleeee-%e5%93%88%e5%88%a9-pinyin-lyrics-and-english-translation/'},\n",
       " {'Title': 'Xiao Jian Jian 小尖尖',\n",
       "  'Artist': 'Joker Xue 薛之謙 & Han Hong 韓紅',\n",
       "  'Understandability': 54,\n",
       "  'Importance': 48,\n",
       "  'Score': -6,\n",
       "  'New Words': ['玫瑰',\n",
       "   '私奔',\n",
       "   '踮起',\n",
       "   '舍弃',\n",
       "   '相恋',\n",
       "   '脚尖',\n",
       "   '小尖',\n",
       "   '惹人嫌',\n",
       "   '泛情',\n",
       "   '尖会',\n",
       "   '霓虹',\n",
       "   '遮掩',\n",
       "   '心照不宣'],\n",
       "  'Link': 'https://lyricspinyin.com/2020/08/29/xiao-jian-jian-%e5%b0%8f%e5%b0%96%e5%b0%96-by-joker-xue-%e8%96%9b%e4%b9%8b%e8%ac%99-han-hong-%e9%9f%93%e7%b4%85-pinyin-lyrics/'},\n",
       " {'Title': 'Biao Zhun Jie Ju 標準結局',\n",
       "  'Artist': 'Han Shang Fei 韓尚霏',\n",
       "  'Understandability': 56,\n",
       "  'Importance': 53,\n",
       "  'Score': -3,\n",
       "  'New Words': ['记忆里',\n",
       "   '註',\n",
       "   '无法控制',\n",
       "   '残存',\n",
       "   '忍住',\n",
       "   '渐渐',\n",
       "   '诺大',\n",
       "   '每秒',\n",
       "   '覆水难收',\n",
       "   '无懈可击',\n",
       "   '强求'],\n",
       "  'Link': 'https://lyricspinyin.com/2020/09/06/biao-zhun-jie-ju-%e6%a8%99%e6%ba%96%e7%b5%90%e5%b1%80-by-han-shang-fei-%e9%9f%93%e5%b0%9a%e9%9c%8f-pinyin-lyrics-and-english-translation/'},\n",
       " {'Title': 'Ngo Bat Si Ta 我不是她',\n",
       "  'Artist': 'HANA 菊梓喬 Cantonese',\n",
       "  'Understandability': 59,\n",
       "  'Importance': 56,\n",
       "  'Score': -3,\n",
       "  'New Words': ['凝望', '神似', '最痛', '婚纱', '牵挂', '沉迷', '振作', '模拟', '蒙着'],\n",
       "  'Link': 'https://lyricspinyin.com/2020/02/19/ngo-bat-si-ta-%e6%88%91%e4%b8%8d%e6%98%af%e5%a5%b9-by-hana-%e8%8f%8a%e6%a2%93%e5%96%ac-cantonese-pinyin-lyrics-and-english-translation/'},\n",
       " {'Title': 'Nei Hei Fun Syut Fong 你喜歡說謊',\n",
       "  'Artist': 'HANA 菊梓喬 Cantonese',\n",
       "  'Understandability': 56,\n",
       "  'Importance': 53,\n",
       "  'Score': -3,\n",
       "  'New Words': ['风波',\n",
       "   '犯错',\n",
       "   '燃熊',\n",
       "   '天塌',\n",
       "   '疯魔',\n",
       "   '一刹那',\n",
       "   '漩涡',\n",
       "   '如梦初醒',\n",
       "   '地老天荒',\n",
       "   '罪过',\n",
       "   '漆黑',\n",
       "   '遮掩',\n",
       "   '赎罪',\n",
       "   '抚心自问',\n",
       "   '蒙着'],\n",
       "  'Link': 'https://lyricspinyin.com/2020/01/27/nei-hei-fun-syut-fong-%e4%bd%a0%e5%96%9c%e6%ad%a1%e8%aa%aa%e8%ac%8a-by-hana-%e8%8f%8a%e6%a2%93%e5%96%ac-cantonese-pinyin-lyrics-and-english-translation/'},\n",
       " {'Title': 'Jik Gwong Fei Coeng 逆光飛翔',\n",
       "  'Artist': 'HANA 菊梓喬 Cantonese',\n",
       "  'Understandability': 55,\n",
       "  'Importance': 52,\n",
       "  'Score': -3,\n",
       "  'New Words': ['博弈',\n",
       "   '守望',\n",
       "   '逆光',\n",
       "   '牵到',\n",
       "   '义不反顾',\n",
       "   '烽火',\n",
       "   '叹息',\n",
       "   '羽翼',\n",
       "   '风霜',\n",
       "   '生不怯',\n",
       "   '康庄',\n",
       "   '悲动盪'],\n",
       "  'Link': 'https://lyricspinyin.com/2019/12/07/jik-gwong-fei-coeng-%e9%80%86%e5%85%89%e9%a3%9b%e7%bf%94-by-hana-%e8%8f%8a%e6%a2%93%e5%96%ac-cantonese-pinyin-lyrics-and-english-translation/'},\n",
       " {'Title': 'Zou Xin 走心',\n",
       "  'Artist': 'He Jing Xuan 賀敬軒',\n",
       "  'Understandability': 59,\n",
       "  'Importance': 54,\n",
       "  'Score': -5,\n",
       "  'New Words': ['摩天轮', '疏离', '隔为', '贪图'],\n",
       "  'Link': 'https://lyricspinyin.com/2020/02/02/zou-xin-%e8%b5%b0%e5%bf%83-by-he-jing-xuan-%e8%b3%80%e6%95%ac%e8%bb%92-pinyin-lyrics-and-english-translation/'},\n",
       " {'Title': 'Zai Yu Bu Dao Ni Zhe Yang De Ren 再遇不到你這樣的人',\n",
       "  'Artist': '莊心妍',\n",
       "  'Understandability': 52,\n",
       "  'Importance': 47,\n",
       "  'Score': -5,\n",
       "  'New Words': ['耗尽',\n",
       "   '记忆里',\n",
       "   '执迷',\n",
       "   '痛不欲生',\n",
       "   '祛除',\n",
       "   '痛多深',\n",
       "   '后遗症',\n",
       "   '未',\n",
       "   '余温',\n",
       "   '怪症',\n",
       "   '日渐',\n",
       "   '疗伤'],\n",
       "  'Link': 'https://lyricspinyin.com/2019/12/04/zai-yu-bu-dao-ni-zhe-yang-de-ren-%e5%86%8d%e9%81%87%e4%b8%8d%e5%88%b0%e4%bd%a0%e9%80%99%e6%a8%a3%e7%9a%84%e4%ba%ba-by-%e8%8e%8a%e5%bf%83%e5%a6%8d-pinyin-lyrics-and-english-translation/'},\n",
       " {'Title': 'Su Yan 素顏',\n",
       "  'Artist': 'Xu Song 許嵩 & He Man Ting 何曼婷',\n",
       "  'Understandability': 54,\n",
       "  'Importance': 49,\n",
       "  'Score': -5,\n",
       "  'New Words': ['喜怒哀乐', '素面朝天', '豪雨', '抹匀', '粉底液', '人窝', '舞池', '掺', '託', '流逝'],\n",
       "  'Link': 'https://lyricspinyin.com/2020/05/12/su-yan-%e7%b4%a0%e9%a1%8f-by-xu-song-%e8%a8%b1%e5%b5%a9-he-man-ting-%e4%bd%95%e6%9b%bc%e5%a9%b7-pinyin-lyrics-and-english-translation/'},\n",
       " {'Title': 'Bing Tian Xue Di 冰天雪地',\n",
       "  'Artist': 'He Xuan Lin 何宣林',\n",
       "  'Understandability': 55,\n",
       "  'Importance': 52,\n",
       "  'Score': -3,\n",
       "  'New Words': ['指尖', '精疲力尽', '踮起', '脚尖', '已裂', '翩翩', '肩非'],\n",
       "  'Link': 'https://lyricspinyin.com/2020/04/01/bing-tian-xue-di-%e5%86%b0%e5%a4%a9%e9%9b%aa%e5%9c%b0-by-he-xuan-lin-%e4%bd%95%e5%ae%a3%e6%9e%97-pinyin-lyrics-and-english-translation/'},\n",
       " {'Title': 'Di Li Xie Si 底里歇斯',\n",
       "  'Artist': 'Hebe 田馥甄',\n",
       "  'Understandability': 54,\n",
       "  'Importance': 52,\n",
       "  'Score': -2,\n",
       "  'New Words': ['翻来覆去', '翻天覆地', '歇斯', '散聚能', '潜意识', '唿吸', '唿喊', '歇斯底里'],\n",
       "  'Link': 'https://lyricspinyin.com/2020/10/22/di-li-xie-si-%e5%ba%95%e9%87%8c%e6%ad%87%e6%96%af-by-hebe-%e7%94%b0%e9%a6%a5%e7%94%84-pinyin-lyrics-and-english-translation/'},\n",
       " {'Title': 'Wu Ren Zhi Xiao 無人知曉',\n",
       "  'Artist': 'Hebe Tien 田馥甄',\n",
       "  'Understandability': 57,\n",
       "  'Importance': 52,\n",
       "  'Score': -5,\n",
       "  'New Words': ['踏着',\n",
       "   '註',\n",
       "   '称谓',\n",
       "   '避嫌',\n",
       "   '亏欠',\n",
       "   '消遣',\n",
       "   '痛彻',\n",
       "   '同类',\n",
       "   '矫情',\n",
       "   '收敛',\n",
       "   '无人知晓',\n",
       "   '赌赢',\n",
       "   '倖',\n",
       "   '兄弟姐妹',\n",
       "   '心扉',\n",
       "   '贪图',\n",
       "   '昭告',\n",
       "   '逾越'],\n",
       "  'Link': 'https://lyricspinyin.com/2020/10/02/wu-ren-zhi-xiao-%e7%84%a1%e4%ba%ba%e7%9f%a5%e6%9b%89-by-hebe-tien-%e7%94%b0%e9%a6%a5%e7%94%84-pinyin-lyrics-and-english-translation/'},\n",
       " {'Title': 'Feng Ci De Qing Shu 諷刺的情書',\n",
       "  'Artist': 'Hebe Tien 田馥甄',\n",
       "  'Understandability': 53,\n",
       "  'Importance': 49,\n",
       "  'Score': -4,\n",
       "  'New Words': ['执迷',\n",
       "   '祇',\n",
       "   '言情',\n",
       "   '莫非',\n",
       "   '止疼',\n",
       "   '笃定',\n",
       "   '落款',\n",
       "   '失温',\n",
       "   '虔诚',\n",
       "   '塞翁',\n",
       "   '绽放',\n",
       "   '寓所',\n",
       "   '泪痕',\n",
       "   '讳莫如深',\n",
       "   '晓得',\n",
       "   '焚烧',\n",
       "   '窒息'],\n",
       "  'Link': 'https://lyricspinyin.com/2020/09/08/feng-ci-de-qing-shu-%e8%ab%b7%e5%88%ba%e7%9a%84%e6%83%85%e6%9b%b8-by-hebe-tien-%e7%94%b0%e9%a6%a5%e7%94%84-pinyin-lyrics-and-english-translation/'},\n",
       " {'Title': 'Huo Shi Yi Shou Ge 或是一首歌',\n",
       "  'Artist': 'Hebe Tien 田馥甄',\n",
       "  'Understandability': 53,\n",
       "  'Importance': 51,\n",
       "  'Score': -2,\n",
       "  'New Words': ['拚命', '自言自语', '毫无保留'],\n",
       "  'Link': 'https://lyricspinyin.com/2020/08/24/huo-shi-yi-shou-ge-%e6%88%96%e6%98%af%e4%b8%80%e9%a6%96%e6%ad%8c-by-hebe-tien-%e7%94%b0%e9%a6%a5%e7%94%84-pinyin-lyrics-and-english-translation/'},\n",
       " {'Title': 'Xian Zhi 先知',\n",
       "  'Artist': 'Hebe Tien 田馥甄',\n",
       "  'Understandability': 60,\n",
       "  'Importance': 57,\n",
       "  'Score': -3,\n",
       "  'New Words': ['记忆里', '呜呜', '全归', '呜', '对齐', '佔', '钻进', '时辰', '晓得', '挑个'],\n",
       "  'Link': 'https://lyricspinyin.com/2020/07/29/xian-zhi-%e5%85%88%e7%9f%a5-by-hebe-tien-%e7%94%b0%e9%a6%a5%e7%94%84-pinyin-lyrics-and-english-translation/'},\n",
       " {'Title': 'Xiao Xing Yun 小幸運',\n",
       "  'Artist': 'Hebe Tien 田馥甄',\n",
       "  'Understandability': 61,\n",
       "  'Importance': 55,\n",
       "  'Score': -6,\n",
       "  'New Words': ['刻骨铭心', '跌跌撞撞', '註', '泪流满面', '一尘不染', '唿唤', '双翼', '一幕幕'],\n",
       "  'Link': 'https://lyricspinyin.com/2020/07/14/xiao-xing-yun-%e5%b0%8f%e5%b9%b8%e9%81%8b-by-hebe-tien-%e7%94%b0%e9%a6%a5%e7%94%84-pinyin-lyrics-and-english-translation/'},\n",
       " {'Title': 'Yi Yi 一一',\n",
       "  'Artist': 'Hebe Tien 田馥甄',\n",
       "  'Understandability': 54,\n",
       "  'Importance': 46,\n",
       "  'Score': -8,\n",
       "  'New Words': ['宠爱', '膜拜', '青睐'],\n",
       "  'Link': 'https://lyricspinyin.com/2020/07/04/yi-yi-%e4%b8%80%e4%b8%80-by-hebe-tien-%e7%94%b0%e9%a6%a5%e7%94%84-pinyin-lyrics-and-english-translation/'},\n",
       " {'Title': 'Jie Ke 皆可',\n",
       "  'Artist': 'Hebe 田馥甄',\n",
       "  'Understandability': 57,\n",
       "  'Importance': 52,\n",
       "  'Score': -5,\n",
       "  'New Words': ['瓦砾', '一粒', '偏去', '碎裂', '沦为', '唿吸', '看透', '哄哄', '飘荡'],\n",
       "  'Link': 'https://lyricspinyin.com/2020/06/12/jie-ke-%e7%9a%86%e5%8f%af-by-hebe-%e7%94%b0%e9%a6%a5%e7%94%84-pinyin-lyrics-and-english-translation/'},\n",
       " {'Title': 'Mo Gui Zhong De Tian Shi 魔鬼中的天使',\n",
       "  'Artist': 'Hebe Tien 田馥甄',\n",
       "  'Understandability': 54,\n",
       "  'Importance': 48,\n",
       "  'Score': -6,\n",
       "  'New Words': ['碎裂', '求饶', '一秒', '吼叫', '割掉', '监牢', '疯子'],\n",
       "  'Link': 'https://lyricspinyin.com/2020/02/29/mo-gui-zhong-de-tian-shi-%e9%ad%94%e9%ac%bc%e4%b8%ad%e7%9a%84%e5%a4%a9%e4%bd%bf-by-hebe-tien-%e7%94%b0%e9%a6%a5%e7%94%84-pinyin-lyrics-and-english-translation/'},\n",
       " {'Title': 'Zi Ji De Fang Jian 自己的房間',\n",
       "  'Artist': 'Hebe Tien 田馥甄',\n",
       "  'Understandability': 55,\n",
       "  'Importance': 49,\n",
       "  'Score': -6,\n",
       "  'New Words': ['胀痛', '堂皇', '慾', '虚度'],\n",
       "  'Link': 'https://lyricspinyin.com/2020/02/17/zi-ji-de-fang-jian-%e8%87%aa%e5%b7%b1%e7%9a%84%e6%88%bf%e9%96%93-by-hebe-tien-%e7%94%b0%e9%a6%a5%e7%94%84-pinyin-lyrics-and-english-translation/'},\n",
       " {'Title': 'Dian Qi Jiao Jian Ai 踮起腳尖愛',\n",
       "  'Artist': 'Hong Pei Yu 洪佩瑜',\n",
       "  'Understandability': 55,\n",
       "  'Importance': 53,\n",
       "  'Score': -2,\n",
       "  'New Words': ['绷',\n",
       "   '洞裂',\n",
       "   '踮起',\n",
       "   '惶恐',\n",
       "   '脚尖',\n",
       "   '痛要',\n",
       "   '衷',\n",
       "   '遮住',\n",
       "   '脸孔',\n",
       "   '空折',\n",
       "   '影踪',\n",
       "   '找寻'],\n",
       "  'Link': 'https://lyricspinyin.com/2020/06/21/dian-qi-jiao-jian-ai-%e8%b8%ae%e8%b5%b7%e8%85%b3%e5%b0%96%e6%84%9b-by-hong-pei-yu-%e6%b4%aa%e4%bd%a9%e7%91%9c-pinyin-lyrics-and-english-translation/'},\n",
       " {'Title': 'Jia Ru Wo Shi Zhen De 假如我是真的',\n",
       "  'Artist': 'Hong Yi Nuo 洪一諾',\n",
       "  'Understandability': 66,\n",
       "  'Importance': 56,\n",
       "  'Score': -10,\n",
       "  'New Words': ['烦忧', '泪儿流'],\n",
       "  'Link': 'https://lyricspinyin.com/2019/12/04/jia-ru-wo-shi-zhen-de-%e5%81%87%e5%a6%82%e6%88%91%e6%98%af%e7%9c%9f%e7%9a%84-by-hong-yi-nuo-%e6%b4%aa%e4%b8%80%e8%ab%be-pinyin-lyrics-and-english-translation/'},\n",
       " {'Title': 'Qi Ye Zhi Dou Xie Bu Wan De Qing Su 七頁紙都寫不完的傾訴',\n",
       "  'Artist': '洪一諾',\n",
       "  'Understandability': 45,\n",
       "  'Importance': 42,\n",
       "  'Score': -3,\n",
       "  'New Words': ['信笺',\n",
       "   '倾诉',\n",
       "   '凝望',\n",
       "   '笔迹',\n",
       "   '泛起',\n",
       "   '手掌心',\n",
       "   '那封',\n",
       "   '唿吸',\n",
       "   '唿',\n",
       "   '绣球花',\n",
       "   '成谱',\n",
       "   '并肩',\n",
       "   '一封',\n",
       "   '哼唱',\n",
       "   '涟漪',\n",
       "   '盛放'],\n",
       "  'Link': 'https://lyricspinyin.com/2019/11/03/qi-ye-zhi-dou-xie-bu-wan-de-qing-su-%e4%b8%83%e9%a0%81%e7%b4%99%e9%83%bd%e5%af%ab%e4%b8%8d%e5%ae%8c%e7%9a%84%e5%82%be%e8%a8%b4-by-%e6%b4%aa%e4%b8%80%e8%ab%be-pinyin-lyrics-and-english-translation/'},\n",
       " {'Title': 'Jiu Zhe Yang Ai Zhe Ni 就這樣愛著你',\n",
       "  'Artist': 'Hu Liu Liu 胡66',\n",
       "  'Understandability': 63,\n",
       "  'Importance': 60,\n",
       "  'Score': -3,\n",
       "  'New Words': ['不值一提', '初心', '仲夏'],\n",
       "  'Link': 'https://lyricspinyin.com/2020/10/25/jiu-zhe-yang-ai-zhe-ni-%e5%b0%b1%e9%80%99%e6%a8%a3%e6%84%9b%e8%91%97%e4%bd%a0-by-hu-liu-liu-%e8%83%a166-pinyin-lyrics-and-english-translation/'},\n",
       " {'Title': 'Zhen 針',\n",
       "  'Artist': 'Hu Liu Liu 胡66',\n",
       "  'Understandability': 64,\n",
       "  'Importance': 60,\n",
       "  'Score': -4,\n",
       "  'New Words': ['剪断', '针扎', '伤疤', '包扎'],\n",
       "  'Link': 'https://lyricspinyin.com/2020/09/10/zhen-%e9%87%9d-by-hu-liu-liu-%e8%83%a166-pinyin-lyrics-and-english-translation/'},\n",
       " {'Title': 'Biao Xiang 表象',\n",
       "  'Artist': 'Hu Liu Liu 胡66',\n",
       "  'Understandability': 52,\n",
       "  'Importance': 49,\n",
       "  'Score': -3,\n",
       "  'New Words': ['寻访',\n",
       "   '打烊',\n",
       "   '置换',\n",
       "   '泪光',\n",
       "   '逞强',\n",
       "   '躁动',\n",
       "   '回盪',\n",
       "   '欲盖弥彰',\n",
       "   '佯装',\n",
       "   '墻',\n",
       "   '粉饰'],\n",
       "  'Link': 'https://lyricspinyin.com/2020/07/11/biao-xiang-%e8%a1%a8%e8%b1%a1-by-hu-liu-liu-%e8%83%a166-pinyin-lyrics-and-english-translation/'},\n",
       " {'Title': 'Mian Ju 面具',\n",
       "  'Artist': 'Hu Liu Liu 胡66',\n",
       "  'Understandability': 64,\n",
       "  'Importance': 63,\n",
       "  'Score': -1,\n",
       "  'New Words': ['眼泪', '未结', '癒', '抚慰', '掺杂', '撑起', '自我安慰', '憔悴'],\n",
       "  'Link': 'https://lyricspinyin.com/2020/04/16/mian-ju-%e9%9d%a2%e5%85%b7-by-hu-liu-liu-%e8%83%a166-pinyin-lyrics-and-english-translation/'},\n",
       " {'Title': 'Dou Guai Wo 都怪我',\n",
       "  'Artist': 'Hu Liu Liu 胡66',\n",
       "  'Understandability': 65,\n",
       "  'Importance': 60,\n",
       "  'Score': -5,\n",
       "  'New Words': ['抹掉', '消耗掉', '一团糟', '眼泪'],\n",
       "  'Link': 'https://lyricspinyin.com/2020/04/16/dou-guai-wo-%e9%83%bd%e6%80%aa%e6%88%91-by-hu-liu-liu-%e8%83%a166-pinyin-lyrics-and-english-translation/'},\n",
       " {'Title': 'Hou Lai Yu Jian Ta 後來遇見他',\n",
       "  'Artist': '胡66',\n",
       "  'Understandability': 59,\n",
       "  'Importance': 52,\n",
       "  'Score': -7,\n",
       "  'New Words': ['伤疤', '于事无补', '反覆', '癒'],\n",
       "  'Link': 'https://lyricspinyin.com/2020/04/14/hou-lai-yu-jian-ta-%e5%be%8c%e4%be%86%e9%81%87%e8%a6%8b%e4%bb%96-by-%e8%83%a166-pinyin-lyrics-and-english-translation/'},\n",
       " {'Title': 'Xiao Na 笑納',\n",
       "  'Artist': 'Hua Tong 花僮',\n",
       "  'Understandability': 34,\n",
       "  'Importance': 29,\n",
       "  'Score': -5,\n",
       "  'New Words': ['结伴',\n",
       "   '流霞',\n",
       "   '红尘',\n",
       "   '枝丫',\n",
       "   '一曲',\n",
       "   '微凉',\n",
       "   '一缕',\n",
       "   '马蹄',\n",
       "   '一池',\n",
       "   '抚',\n",
       "   '窃语',\n",
       "   '烛影',\n",
       "   '临摹',\n",
       "   '牵挂',\n",
       "   '白胡子',\n",
       "   '佳人',\n",
       "   '琵琶',\n",
       "   '仲夏夜',\n",
       "   '暮夜',\n",
       "   '悠歌',\n",
       "   '撑伞',\n",
       "   '挑灯'],\n",
       "  'Link': 'https://lyricspinyin.com/2020/10/25/xiao-na-%e7%ac%91%e7%b4%8d-by-hua-tong-%e8%8a%b1%e5%83%ae-pinyin-lyrics/'},\n",
       " {'Title': 'Hai Ke Yi Ai Ma 還可以愛嗎',\n",
       "  'Artist': 'Huang Xiao Yun 黃霄雲',\n",
       "  'Understandability': 64,\n",
       "  'Importance': 58,\n",
       "  'Score': -6,\n",
       "  'New Words': ['幻觉', '下坠', '孤单', '一股', '牵着手'],\n",
       "  'Link': 'https://lyricspinyin.com/2020/10/24/hai-ke-yi-ai-ma-%e9%82%84%e5%8f%af%e4%bb%a5%e6%84%9b%e5%97%8e-by-huang-xiao-yun-%e9%bb%83%e9%9c%84%e9%9b%b2-pinyin-lyrics-and-english-translation/'},\n",
       " {'Title': 'RAPSTAR',\n",
       "  'Artist': '吳亦凡 潘瑋柏 張靚穎 GAI周延 朴宰範',\n",
       "  'Understandability': 46,\n",
       "  'Importance': 44,\n",
       "  'Score': -2,\n",
       "  'New Words': ['执念',\n",
       "   '舰队',\n",
       "   '紫棋',\n",
       "   '呐喊',\n",
       "   '古人',\n",
       "   '万人空巷',\n",
       "   '王者',\n",
       "   '心慌',\n",
       "   '大堂',\n",
       "   '舞剑',\n",
       "   '阿岳',\n",
       "   '无所畏',\n",
       "   '水军',\n",
       "   '入席',\n",
       "   '臣服',\n",
       "   '静止',\n",
       "   '英里',\n",
       "   '朴宰范',\n",
       "   '一触即发',\n",
       "   '玉液琼浆',\n",
       "   '势在必得',\n",
       "   '醍醐灌顶',\n",
       "   '熔断',\n",
       "   '唿唤',\n",
       "   '咽下去',\n",
       "   '好字旗',\n",
       "   '装腔',\n",
       "   '战神',\n",
       "   '掌舵',\n",
       "   '眺望',\n",
       "   '稿子',\n",
       "   '看齐',\n",
       "   '枷锁',\n",
       "   '问价',\n",
       "   '谜题',\n",
       "   '硬骨头',\n",
       "   '託',\n",
       "   '啥子',\n",
       "   '炸',\n",
       "   '孔乙己',\n",
       "   '狂人',\n",
       "   '敬来',\n",
       "   '遮羞布',\n",
       "   '战友',\n",
       "   '旗号',\n",
       "   '随你挑',\n",
       "   '搭理'],\n",
       "  'Link': 'https://lyricspinyin.com/2020/08/11/rapstar-by-%e5%90%b3%e4%ba%a6%e5%87%a1-%e6%bd%98%e7%91%8b%e6%9f%8f-%e5%bc%b5%e9%9d%9a%e7%a9%8e-gai%e5%91%a8%e5%bb%b6-%e6%9c%b4%e5%ae%b0%e7%af%84-pinyin-lyrics/'},\n",
       " {'Title': 'Zhi Wo Men Zhong Jiang Shi Qu De Qing Chun 致我們終將逝去的青春',\n",
       "  'Artist': 'Jane Zhang 張靚穎',\n",
       "  'Understandability': 49,\n",
       "  'Importance': 47,\n",
       "  'Score': -2,\n",
       "  'New Words': ['凋零',\n",
       "   '刻骨铭心',\n",
       "   '逝去',\n",
       "   '无怨无悔',\n",
       "   '初吻',\n",
       "   '风筝',\n",
       "   '註',\n",
       "   '身致',\n",
       "   '触目惊心',\n",
       "   '忧伤',\n",
       "   '明媚',\n",
       "   '荼'],\n",
       "  'Link': 'https://lyricspinyin.com/2020/07/31/zhi-wo-men-zhong-jiang-shi-qu-de-qing-chun-%e8%87%b4%e6%88%91%e5%80%91%e7%b5%82%e5%b0%87%e9%80%9d%e5%8e%bb%e7%9a%84%e9%9d%92%e6%98%a5-by-jane-zhang-%e5%bc%b5%e9%9d%9a%e7%a9%8e-pinyin-lyrics-and-englis/'},\n",
       " {'Title': 'Xing Tu 星途',\n",
       "  'Artist': 'Jane Zhang 張靚穎',\n",
       "  'Understandability': 55,\n",
       "  'Importance': 51,\n",
       "  'Score': -4,\n",
       "  'New Words': ['唤醒', '孤寂', '不胜感激', '狂奔', '晨曦', '星途'],\n",
       "  'Link': 'https://lyricspinyin.com/2019/11/16/xing-tu-%e6%98%9f%e9%80%94-by-jane-zhang-%e5%bc%b5%e9%9d%9a%e7%a9%8e-pinyin-lyrics-and-english-translation/'},\n",
       " {'Title': 'Dai Zhe Zou 帶著走',\n",
       "  'Artist': 'Jane 黃美珍',\n",
       "  'Understandability': 65,\n",
       "  'Importance': 60,\n",
       "  'Score': -5,\n",
       "  'New Words': ['无私'],\n",
       "  'Link': 'https://lyricspinyin.com/2020/07/30/dai-zhe-zou-%e5%b8%b6%e8%91%97%e8%b5%b0-by-jane-%e9%bb%83%e7%be%8e%e7%8f%8d-pinyin-lyrics-and-english-translation/'},\n",
       " {'Title': 'Ta Jing Maan Joi Se Seun 她整晚在寫信',\n",
       "  'Artist': 'Janice Vidal 衛蘭 Cantonese',\n",
       "  'Understandability': 52,\n",
       "  'Importance': 47,\n",
       "  'Score': -5,\n",
       "  'New Words': ['眉头',\n",
       "   '犹像',\n",
       "   '未心',\n",
       "   '悠然',\n",
       "   '啖',\n",
       "   '誓约',\n",
       "   '舍弃',\n",
       "   '渐盲',\n",
       "   '同僚',\n",
       "   '唿气',\n",
       "   '尚有',\n",
       "   '失忆',\n",
       "   '未先',\n",
       "   '战地',\n",
       "   '悠长',\n",
       "   '初恋',\n",
       "   '未',\n",
       "   '守侯'],\n",
       "  'Link': 'https://lyricspinyin.com/2020/05/14/ta-jing-maan-joi-se-seun-%e5%a5%b9%e6%95%b4%e6%99%9a%e5%9c%a8%e5%af%ab%e4%bf%a1-by-janice-vidal-%e8%a1%9b%e8%98%ad-cantonese-pinyin-lyrics-and-english-translation/'},\n",
       " {'Title': 'Cong Ci Guo Zhe Xing Fu Kuai Le De Ri Zi 從此過著幸福快樂的日子',\n",
       "  'Artist': '閻奕格 Janice Yan\\xa0feat. J.Sheon',\n",
       "  'Understandability': 59,\n",
       "  'Importance': 59,\n",
       "  'Score': 0,\n",
       "  'New Words': ['吹奏', '罚单', '褔', '奇幻', '糖霜', '残害', '陶笛', '邪恶', '牠', '屁事'],\n",
       "  'Link': 'https://lyricspinyin.com/2020/10/10/cong-ci-guo-zhe-xing-fu-kuai-le-de-ri-zi-%e5%be%9e%e6%ad%a4%e9%81%8e%e8%91%97%e5%b9%b8%e7%a6%8f%e5%bf%ab%e6%a8%82%e7%9a%84%e6%97%a5%e5%ad%90-by-%e9%96%bb%e5%a5%95%e6%a0%bc-janice-yan-feat-j-sheo/'},\n",
       " {'Title': 'You Yi Zhong Mi Mi 有一種秘密',\n",
       "  'Artist': 'Darren Chiu 邱凱偉 & Janice Yan 閻奕格',\n",
       "  'Understandability': 69,\n",
       "  'Importance': 60,\n",
       "  'Score': -9,\n",
       "  'New Words': ['妳'],\n",
       "  'Link': 'https://lyricspinyin.com/2020/09/18/you-yi-zhong-mi-mi-%e6%9c%89%e4%b8%80%e7%a8%ae%e7%a7%98%e5%af%86-by-darren-chiu-%e9%82%b1%e5%87%b1%e5%81%89-janice-yan-%e9%96%bb%e5%a5%95%e6%a0%bc-pinyin-lyrics-and-english-translation/'},\n",
       " {'Title': 'Shao Le Yi Jian Niu Zai Ku 少了一件牛仔褲',\n",
       "  'Artist': 'Janice Yan 閻奕格',\n",
       "  'Understandability': 63,\n",
       "  'Importance': 58,\n",
       "  'Score': -5,\n",
       "  'New Words': ['看透', '苍老', '佈', '渐渐', '跤'],\n",
       "  'Link': 'https://lyricspinyin.com/2020/03/20/shao-le-yi-jian-niu-zai-ku-%e5%b0%91%e4%ba%86%e4%b8%80%e4%bb%b6%e7%89%9b%e4%bb%94%e8%a4%b2-by-janice-yan-%e9%96%bb%e5%a5%95%e6%a0%bc-pinyin-lyrics-and-english-translation/'},\n",
       " {'Title': 'Fen Jiu Fen Le 分就分了',\n",
       "  'Artist': 'Janice Yan 閻奕格',\n",
       "  'Understandability': 54,\n",
       "  'Importance': 48,\n",
       "  'Score': -6,\n",
       "  'New Words': ['撤别', '褪去', '岂', '哩程', '衣柜', '透彻', '新款', '模特儿'],\n",
       "  'Link': 'https://lyricspinyin.com/2020/03/19/fen-jiu-fen-le-%e5%88%86%e5%b0%b1%e5%88%86%e4%ba%86-by-janice-yan-%e9%96%bb%e5%a5%95%e6%a0%bc-pinyin-lyrics-and-english-translation/'},\n",
       " {'Title': 'Ning Shi 凝視',\n",
       "  'Artist': 'Janice Yan 閻奕格',\n",
       "  'Understandability': 58,\n",
       "  'Importance': 56,\n",
       "  'Score': -2,\n",
       "  'New Words': ['猜不透', '忍住', '泪光', '凌乱', '无惧', '贪玩', '孤单', '瞳孔', '炯炯有神', '倒映'],\n",
       "  'Link': 'https://lyricspinyin.com/2020/02/15/ning-shi-%e5%87%9d%e8%a6%96-by-janice-yan-%e9%96%bb%e5%a5%95%e6%a0%bc-pinyin-lyrics-and-english-translation/'},\n",
       " {'Title': 'Ai Shang Xian Zai De Wo 愛上現在的我',\n",
       "  'Artist': '閻奕格 feat. 高爾宣OSN',\n",
       "  'Understandability': 59,\n",
       "  'Importance': 54,\n",
       "  'Score': -5,\n",
       "  'New Words': ['麻雀', '问心无愧', '透路', '变凤凰', '我订', '泪痕', '天鹅', '犯了错'],\n",
       "  'Link': 'https://lyricspinyin.com/2020/02/14/ai-shang-xian-zai-de-wo-%e6%84%9b%e4%b8%8a%e7%8f%be%e5%9c%a8%e7%9a%84%e6%88%91-by-%e9%96%bb%e5%a5%95%e6%a0%bc-feat-%e9%ab%98%e7%88%be%e5%ae%a3osn-pinyin-lyrics/'},\n",
       " {'Title': 'Hello&Goodbye',\n",
       "  'Artist': 'Janice Yan 閻奕格',\n",
       "  'Understandability': 50,\n",
       "  'Importance': 47,\n",
       "  'Score': -3,\n",
       "  'New Words': ['微酸',\n",
       "   '轻抚',\n",
       "   '眼泪',\n",
       "   '深埋在',\n",
       "   '抚平',\n",
       "   '若有',\n",
       "   '风筝',\n",
       "   '闪光',\n",
       "   '爱闭',\n",
       "   '沖',\n",
       "   '微风',\n",
       "   '沈溺',\n",
       "   '闭上眼',\n",
       "   '唿喊',\n",
       "   '彿',\n",
       "   '公英',\n",
       "   '畅游',\n",
       "   '放映',\n",
       "   '伤痛'],\n",
       "  'Link': 'https://lyricspinyin.com/2019/12/12/hellogoodbye-by-janice-yan-%e9%96%bb%e5%a5%95%e6%a0%bc-pinyin-lyrics-and-english-translation/'},\n",
       " {'Title': 'You Ya Dao Bie 優雅道別',\n",
       "  'Artist': 'Janice Yan 閻奕格',\n",
       "  'Understandability': 60,\n",
       "  'Importance': 56,\n",
       "  'Score': -4,\n",
       "  'New Words': ['优雅', '轻狂', '枉费', '毫无保留', '眼泪'],\n",
       "  'Link': 'https://lyricspinyin.com/2019/11/06/you-ya-dao-bie-%e5%84%aa%e9%9b%85%e9%81%93%e5%88%a5-by-janice-yan-%e9%96%bb%e5%a5%95%e6%a0%bc-pinyin-lyrics-and-english-translation/'},\n",
       " {'Title': 'Wo Ke Yi Wang Ji Ni 我可以忘記你',\n",
       "  'Artist': 'JC 陳詠桐 Chen Yong Tong',\n",
       "  'Understandability': 58,\n",
       "  'Importance': 56,\n",
       "  'Score': -2,\n",
       "  'New Words': ['眼泪', '伤悲', '卑微'],\n",
       "  'Link': 'https://lyricspinyin.com/2019/10/01/wo-ke-yi-wang-ji-ni-%e6%88%91%e5%8f%af%e4%bb%a5%e5%bf%98%e8%a8%98%e4%bd%a0-by-jc-%e9%99%b3%e8%a9%a0%e6%a1%90-chen-yong-tong-pinyin-lyrics-and-english-translation/'},\n",
       " {'Title': 'Shuo San Jiu San (说散就散) by JC',\n",
       "  'Artist': 'Lyrics and English Translation - Lyrics Pinyin',\n",
       "  'Understandability': 69,\n",
       "  'Importance': 62,\n",
       "  'Score': -7,\n",
       "  'New Words': ['忽尔间'],\n",
       "  'Link': 'https://lyricspinyin.com/2019/09/22/shuo-san-jiu-san-%e8%af%b4%e6%95%a3%e5%b0%b1%e6%95%a3-jc-pinyin-lyrics/'},\n",
       " {'Title': 'Jian Ao 煎熬',\n",
       "  'Artist': 'Jess Lee 李佳薇',\n",
       "  'Understandability': 58,\n",
       "  'Importance': 52,\n",
       "  'Score': -6,\n",
       "  'New Words': ['陷得', '玫瑰', '乞讨', '每一秒', '羽毛'],\n",
       "  'Link': 'https://lyricspinyin.com/2020/08/28/jian-ao-%e7%85%8e%e7%86%ac-by-jess-lee-%e6%9d%8e%e4%bd%b3%e8%96%87-pinyin-lyrics-and-english-translation/'},\n",
       " {'Title': 'Ru Guo Ru Guo 如果如果',\n",
       "  'Artist': 'Jess Lee 李佳薇',\n",
       "  'Understandability': 52,\n",
       "  'Importance': 49,\n",
       "  'Score': -3,\n",
       "  'New Words': ['唿拥', '穿梭', '泪流', '怪兽', '微风', '蜿蜒', '落寞', '营火', '海阔天空', '折起'],\n",
       "  'Link': 'https://lyricspinyin.com/2020/03/18/ru-guo-ru-guo-%e5%a6%82%e6%9e%9c%e5%a6%82%e6%9e%9c-by-jess-lee-%e6%9d%8e%e4%bd%b3%e8%96%87-pinyin-lyrics-and-english-translation/'},\n",
       " {'Title': 'Zui Hou Yi Ye 最後一頁',\n",
       "  'Artist': 'Jessie Chiang 江語晨',\n",
       "  'Understandability': 58,\n",
       "  'Importance': 52,\n",
       "  'Score': -6,\n",
       "  'New Words': ['凋零', '海潮', '拥抱着', '不舍', '体温', '温存'],\n",
       "  'Link': 'https://lyricspinyin.com/2020/07/03/zui-hou-yi-ye-%e6%9c%80%e5%be%8c%e4%b8%80%e9%a0%81-by-jessie-chiang-%e6%b1%9f%e8%aa%9e%e6%99%a8-pinyin-lyrics-and-english-translation/'},\n",
       " {'Title': 'Chang Shi Wen Rou 嘗試溫柔',\n",
       "  'Artist': 'JessieG 龔子婕',\n",
       "  'Understandability': 62,\n",
       "  'Importance': 61,\n",
       "  'Score': -1,\n",
       "  'New Words': ['再痛',\n",
       "   '潦草',\n",
       "   '推开',\n",
       "   '改变现状',\n",
       "   '全宇宙',\n",
       "   '融会',\n",
       "   '牵挂',\n",
       "   '放肆',\n",
       "   '那一剎',\n",
       "   '不痛',\n",
       "   '拨动',\n",
       "   '一秒钟'],\n",
       "  'Link': 'https://lyricspinyin.com/2020/06/22/chang-shi-wen-rou-%e5%98%97%e8%a9%a6%e6%ba%ab%e6%9f%94-by-jessieg-%e9%be%94%e5%ad%90%e5%a9%95-pinyin-lyrics-and-english-translation/'},\n",
       " {'Title': 'Yong Bao Tai Nan 擁抱太難',\n",
       "  'Artist': 'Ji Yan Lin 季彥霖',\n",
       "  'Understandability': 53,\n",
       "  'Importance': 56,\n",
       "  'Score': 3,\n",
       "  'New Words': ['烟消云散', '孤单', '雀跃', '氾', '沾染'],\n",
       "  'Link': 'https://lyricspinyin.com/2020/10/26/yong-bao-tai-nan-%e6%93%81%e6%8a%b1%e5%a4%aa%e9%9b%a3-by-ji-yan-lin-%e5%ad%a3%e5%bd%a5%e9%9c%96-pinyin-lyrics-and-english-translation/'},\n",
       " {'Title': 'Yu Shi Wo Dong Le 於是我懂了',\n",
       "  'Artist': 'Ji Yan Lin 季彥霖',\n",
       "  'Understandability': 58,\n",
       "  'Importance': 53,\n",
       "  'Score': -5,\n",
       "  'New Words': ['结伴', '缘分', '枷锁'],\n",
       "  'Link': 'https://lyricspinyin.com/2020/07/15/yu-shi-wo-dong-le-%e6%96%bc%e6%98%af%e6%88%91%e6%87%82%e4%ba%86-by-ji-yan-lin-%e5%ad%a3%e5%bd%a5%e9%9c%96-pinyin-lyrics-and-english-translation/'},\n",
       " {'Title': 'Zhuan Shu Ju Li 專屬距離',\n",
       "  'Artist': 'Ji Yan Lin 季彥霖',\n",
       "  'Understandability': 60,\n",
       "  'Importance': 54,\n",
       "  'Score': -6,\n",
       "  'New Words': [],\n",
       "  'Link': 'https://lyricspinyin.com/2020/07/03/zhuan-shu-ju-li-%e5%b0%88%e5%b1%ac%e8%b7%9d%e9%9b%a2-by-ji-yan-lin-%e5%ad%a3%e5%bd%a5%e9%9c%96-pinyin-lyrics-and-english-translation/'},\n",
       " {'Title': 'Shan Shuo Zhe 閃爍著',\n",
       "  'Artist': 'Ji Yan Lin 季彥霖',\n",
       "  'Understandability': 50,\n",
       "  'Importance': 46,\n",
       "  'Score': -4,\n",
       "  'New Words': ['这若素',\n",
       "   '璀璨',\n",
       "   '凝视着',\n",
       "   '坚守',\n",
       "   '泪流',\n",
       "   '冷言冷语',\n",
       "   '退缩',\n",
       "   '闪烁着',\n",
       "   '癒',\n",
       "   '未尝不可',\n",
       "   '握紧',\n",
       "   '刺破',\n",
       "   '执迷不悔',\n",
       "   '仰望',\n",
       "   '不甘'],\n",
       "  'Link': 'https://lyricspinyin.com/2020/05/07/shan-shuo-zhe-%e9%96%83%e7%88%8d%e8%91%97-by-ji-yan-lin-%e5%ad%a3%e5%bd%a5%e9%9c%96-pinyin-lyrics-and-english-translation/'},\n",
       " {'Title': 'Bu Xiao Xin 不小心',\n",
       "  'Artist': 'Ji Yan Lin 季彥霖',\n",
       "  'Understandability': 57,\n",
       "  'Importance': 54,\n",
       "  'Score': -3,\n",
       "  'New Words': ['情窦初开', '负罪', '眼泪', '亏欠', '异想天开', '奴才', '一枚'],\n",
       "  'Link': 'https://lyricspinyin.com/2020/05/05/bu-xiao-xin-%e4%b8%8d%e5%b0%8f%e5%bf%83-by-ji-yan-lin-%e5%ad%a3%e5%bd%a5%e9%9c%96-pinyin-lyrics-and-english-translation/'},\n",
       " {'Title': 'Ceng Jing Ai Guo 曾經愛過',\n",
       "  'Artist': 'Ji Yan Lin 季彥霖',\n",
       "  'Understandability': 70,\n",
       "  'Importance': 65,\n",
       "  'Score': -5,\n",
       "  'New Words': ['祸', '擦肩而过'],\n",
       "  'Link': 'https://lyricspinyin.com/2020/01/30/ceng-jing-ai-guo-%e6%9b%be%e7%b6%93%e6%84%9b%e9%81%8e-by-ji-yan-lin-%e5%ad%a3%e5%bd%a5%e9%9c%96-pinyin-lyrics-and-english-translation/'},\n",
       " {'Title': 'Wo Men Hui Bu Qu Le 我們回不去了',\n",
       "  'Artist': 'Ji Yan Lin 季彥霖',\n",
       "  'Understandability': 60,\n",
       "  'Importance': 55,\n",
       "  'Score': -5,\n",
       "  'New Words': ['舐', '伪装', '掀开', '蜕变', '时过境迁', '逞强'],\n",
       "  'Link': 'https://lyricspinyin.com/2019/12/05/wo-men-hui-bu-qu-le-%e6%88%91%e5%80%91%e5%9b%9e%e4%b8%8d%e5%8e%bb%e4%ba%86-by-ji-yan-lin-%e5%ad%a3%e5%bd%a5%e9%9c%96-pinyin-lyrics-and-english-translation/'},\n",
       " {'Title': 'Duo Xiang Ai Ni 多想愛你',\n",
       "  'Artist': 'Ji Yan Lin 季彥霖',\n",
       "  'Understandability': 61,\n",
       "  'Importance': 58,\n",
       "  'Score': -3,\n",
       "  'New Words': ['註', '唿吸', '命中', '繁星', '漆黑', '温软'],\n",
       "  'Link': 'https://lyricspinyin.com/2019/12/01/duo-xiang-ai-ni-%e5%a4%9a%e6%83%b3%e6%84%9b%e4%bd%a0-by-ji-yan-lin-%e5%ad%a3%e5%bd%a5%e9%9c%96-pinyin-lyrics-and-english-translation/'},\n",
       " {'Title': 'Dao Bu Ru Shuo Fen Kai 倒不如說分開',\n",
       "  'Artist': '季彥霖 蘇琛',\n",
       "  'Understandability': 58,\n",
       "  'Importance': 56,\n",
       "  'Score': -2,\n",
       "  'New Words': ['几轮', '退缩', '重温'],\n",
       "  'Link': 'https://lyricspinyin.com/2019/11/29/dao-bu-ru-shuo-fen-kai-%e5%80%92%e4%b8%8d%e5%a6%82%e8%aa%aa%e5%88%86%e9%96%8b-by-%e5%ad%a3%e5%bd%a5%e9%9c%96-%e8%98%87%e7%90%9b-pinyin-lyrics-and-english-translation/'},\n",
       " {'Title': 'Meng Jing 夢境',\n",
       "  'Artist': 'Ji Yan Lin 季彥霖',\n",
       "  'Understandability': 52,\n",
       "  'Importance': 47,\n",
       "  'Score': -5,\n",
       "  'New Words': ['忽远', '忽近', '虚无缥缈', '触碰', '泡影', '可泣'],\n",
       "  'Link': 'https://lyricspinyin.com/2019/11/26/meng-jing-%e5%a4%a2%e5%a2%83-by-ji-yan-lin-%e5%ad%a3%e5%bd%a5%e9%9c%96-pinyin-lyrics-and-english-translation/'},\n",
       " {'Title': 'Xia Tian De Lang Hua 夏天的浪花',\n",
       "  'Artist': 'JiaJia 家家',\n",
       "  'Understandability': 49,\n",
       "  'Importance': 48,\n",
       "  'Score': -1,\n",
       "  'New Words': ['恋情', '云儿', '水珠'],\n",
       "  'Link': 'https://lyricspinyin.com/2020/10/23/xia-tian-de-lang-hua-%e5%a4%8f%e5%a4%a9%e7%9a%84%e6%b5%aa%e8%8a%b1-by-jiajia-%e5%ae%b6%e5%ae%b6-pinyin-lyrics-and-english-translation/'},\n",
       " {'Title': 'Zhu Wo Xing Fu 祝我幸福',\n",
       "  'Artist': 'JiaJia 家家',\n",
       "  'Understandability': 56,\n",
       "  'Importance': 52,\n",
       "  'Score': -4,\n",
       "  'New Words': ['微风', '眨眼', '一枚', '翻箱倒柜', '眼泪', '依依不舍'],\n",
       "  'Link': 'https://lyricspinyin.com/2020/08/21/zhu-wo-xing-fu-%e7%a5%9d%e6%88%91%e5%b9%b8%e7%a6%8f-by-jiajia-%e5%ae%b6%e5%ae%b6-pinyin-lyrics-and-english-translation/'},\n",
       " {'Title': 'Chen Ai 塵埃',\n",
       "  'Artist': 'JiaJia 家家',\n",
       "  'Understandability': 64,\n",
       "  'Importance': 60,\n",
       "  'Score': -4,\n",
       "  'New Words': ['尘埃', '边疆地带', '微弱', '云海', '白云'],\n",
       "  'Link': 'https://lyricspinyin.com/2020/07/16/chen-ai-%e5%a1%b5%e5%9f%83-by-jiajia-%e5%ae%b6%e5%ae%b6-pinyin-lyrics-and-english-translation/'},\n",
       " {'Title': 'Jia Jia Jiu 家家酒',\n",
       "  'Artist': '家家 JiaJia',\n",
       "  'Understandability': 65,\n",
       "  'Importance': 59,\n",
       "  'Score': -6,\n",
       "  'New Words': ['优雅', '眼泪', '恶趣味', '洋娃娃', '玩腻'],\n",
       "  'Link': 'https://lyricspinyin.com/2020/04/09/jia-jia-jiu-%e5%ae%b6%e5%ae%b6%e9%85%92-by-%e5%ae%b6%e5%ae%b6-jiajia-pinyin-lyrics-and-english-translation/'},\n",
       " {'Title': 'Bu Xiang Ren Shu 不想認輸',\n",
       "  'Artist': 'JiaJia 家家',\n",
       "  'Understandability': 53,\n",
       "  'Importance': 53,\n",
       "  'Score': 0,\n",
       "  'New Words': ['作痛', '翱翔', '沈默', '泪眼', '泛红', '映入', '一幕幕', '呵护', '枷锁', '瞳孔'],\n",
       "  'Link': 'https://lyricspinyin.com/2019/12/02/bu-xiang-ren-shu-%e4%b8%8d%e6%83%b3%e8%aa%8d%e8%bc%b8-by-jiajia-%e5%ae%b6%e5%ae%b6-pinyin-lyrics-and-english-translation/'},\n",
       " {'Title': 'Mei You Cuo 沒有錯',\n",
       "  'Artist': 'JiaJia 家家',\n",
       "  'Understandability': 55,\n",
       "  'Importance': 50,\n",
       "  'Score': -5,\n",
       "  'New Words': ['大雨滂沱', '沖', '迷宫', '悬在空中', '眼泪', '癒'],\n",
       "  'Link': 'https://lyricspinyin.com/2019/10/03/mei-you-cuo-%e6%b2%92%e6%9c%89%e9%8c%af-by-jiajia-%e5%ae%b6%e5%ae%b6-pinyin-lyrics-and-english-translation/'},\n",
       " {'Title': 'Wei Lai 未來',\n",
       "  'Artist': 'Jiang Jing 江靜',\n",
       "  'Understandability': 58,\n",
       "  'Importance': 56,\n",
       "  'Score': -2,\n",
       "  'New Words': ['推开', '坎坷', '掏空'],\n",
       "  'Link': 'https://lyricspinyin.com/2020/09/27/wei-lai-%e6%9c%aa%e4%be%86-by-jiang-jing-%e6%b1%9f%e9%9d%9c-pinyin-lyrics-and-english-translation/'},\n",
       " {'Title': 'Dou Ting Hao De 都挺好的',\n",
       "  'Artist': 'ayal komod 張震嶽 & Jiang Jing 江靜',\n",
       "  'Understandability': 57,\n",
       "  'Importance': 56,\n",
       "  'Score': -1,\n",
       "  'New Words': ['罪人', '推开', '彻彻底底', '缠绵', '阵痛', '捏碎', '猜忌', '反增'],\n",
       "  'Link': 'https://lyricspinyin.com/2020/08/04/dou-ting-hao-de-%e9%83%bd%e6%8c%ba%e5%a5%bd%e7%9a%84-by-ayal-komod-%e5%bc%b5%e9%9c%87%e5%b6%bd-jiang-jing-%e6%b1%9f%e9%9d%9c-pinyin-lyrics-and-english-translation/'},\n",
       " {'Title': 'Mo Wen Gui Qi 莫問歸期',\n",
       "  'Artist': 'Jiang Xue Er 蔣雪兒',\n",
       "  'Understandability': 35,\n",
       "  'Importance': 30,\n",
       "  'Score': -5,\n",
       "  'New Words': ['诀别', '成疾莫问', '天涯', '妳', '沈默', '放肆', '莫问', '归期', '浓墨'],\n",
       "  'Link': 'https://lyricspinyin.com/2020/05/30/mo-wen-gui-qi-%e8%8e%ab%e5%95%8f%e6%ad%b8%e6%9c%9f-by-jiang-xue-er-%e8%94%a3%e9%9b%aa%e5%85%92-pinyin-lyrics/'},\n",
       " {'Title': 'Ru Ci Ke Ai De Wo Men 如此可愛的我們',\n",
       "  'Artist': 'Jill 閻其兒',\n",
       "  'Understandability': 57,\n",
       "  'Importance': 51,\n",
       "  'Score': -6,\n",
       "  'New Words': ['巷口'],\n",
       "  'Link': 'https://lyricspinyin.com/2020/08/09/ru-ci-ke-ai-de-wo-men-%e5%a6%82%e6%ad%a4%e5%8f%af%e6%84%9b%e7%9a%84%e6%88%91%e5%80%91-by-jill-%e9%96%bb%e5%85%b6%e5%85%92-pinyin-lyrics-and-english-translation/'},\n",
       " {'Title': 'Shui Bu Shi 誰不是',\n",
       "  'Artist': 'Jin Chi 金池',\n",
       "  'Understandability': 55,\n",
       "  'Importance': 50,\n",
       "  'Score': -5,\n",
       "  'New Words': ['淋雨', '归宿', '归路', '蓦然回首', '善解人意', '李宗盛', '太痛'],\n",
       "  'Link': 'https://lyricspinyin.com/2020/09/26/shui-bu-shi-%e8%aa%b0%e4%b8%8d%e6%98%af-by-jin-chi-%e9%87%91%e6%b1%a0-pinyin-lyrics-and-english-translation/'},\n",
       " {'Title': 'Xiang Xiang Nian Nian 想想念念',\n",
       "  'Artist': 'Jin Ling 錦零',\n",
       "  'Understandability': 56,\n",
       "  'Importance': 47,\n",
       "  'Score': -9,\n",
       "  'New Words': ['温热', '翻来覆去', '唿吸', '时过境迁', '闭不上'],\n",
       "  'Link': 'https://lyricspinyin.com/2020/05/18/xiang-xiang-nian-nian-%e6%83%b3%e6%83%b3%e5%bf%b5%e5%bf%b5-by-jin-ling-%e9%8c%a6%e9%9b%b6-pinyin-lyrics-and-english-translation/'},\n",
       " {'Title': 'Wu Guan Xing Fu 無關幸福',\n",
       "  'Artist': 'Jin Wen 曾靜玟',\n",
       "  'Understandability': 54,\n",
       "  'Importance': 49,\n",
       "  'Score': -5,\n",
       "  'New Words': ['若无其事', '忍住', '沈默', '太仓促', '好聚好散', '眼泪', '余温'],\n",
       "  'Link': 'https://lyricspinyin.com/2020/02/20/wu-guan-xing-fu-%e7%84%a1%e9%97%9c%e5%b9%b8%e7%a6%8f-by-jin-wen-%e6%9b%be%e9%9d%9c%e7%8e%9f-pinyin-lyrics-and-english-translation/'},\n",
       " {'Title': 'Yan Huo San Luo 煙火散落',\n",
       "  'Artist': 'Jin Wenqi 金玟岐',\n",
       "  'Understandability': 59,\n",
       "  'Importance': 55,\n",
       "  'Score': -4,\n",
       "  'New Words': ['执念', '形形色色', '落寞', '淹埋', '独白'],\n",
       "  'Link': 'https://lyricspinyin.com/2020/07/02/yan-huo-san-luo-%e7%85%99%e7%81%ab%e6%95%a3%e8%90%bd-by-jin-wenqi-%e9%87%91%e7%8e%9f%e5%b2%90-pinyin-lyrics-and-english-translation/'},\n",
       " {'Title': 'Wan An Ba Tai Yang 晚安吧 太陽',\n",
       "  'Artist': 'Jin Wenqi 金玟岐',\n",
       "  'Understandability': 56,\n",
       "  'Importance': 49,\n",
       "  'Score': -7,\n",
       "  'New Words': ['筑起', '撑住', '我触', '迷惘', '名状', '避风港', '手掌', '孱弱', '刺痛'],\n",
       "  'Link': 'https://lyricspinyin.com/2020/04/09/wan-an-ba-tai-yang-%e6%99%9a%e5%ae%89%e5%90%a7-%e5%a4%aa%e9%99%bd-by-jin-wenqi-%e9%87%91%e7%8e%9f%e5%b2%90-pinyin-lyrics-and-english-translation/'},\n",
       " {'Title': 'Feng De Lai Xin 風的來信',\n",
       "  'Artist': 'Jin Wenqi 金玟岐',\n",
       "  'Understandability': 61,\n",
       "  'Importance': 60,\n",
       "  'Score': -1,\n",
       "  'New Words': ['唿', '山谷', '交托'],\n",
       "  'Link': 'https://lyricspinyin.com/2020/03/03/feng-de-lai-xin-%e9%a2%a8%e7%9a%84%e4%be%86%e4%bf%a1-by-jin-wenqi-%e9%87%91%e7%8e%9f%e5%b2%90-pinyin-lyrics-and-english-translation/'},\n",
       " {'Title': 'Yao Ba Ling Er San Yi 180231',\n",
       "  'Artist': 'Jin Zi 今子',\n",
       "  'Understandability': 59,\n",
       "  'Importance': 57,\n",
       "  'Score': -2,\n",
       "  'New Words': ['宣', '佈', '悄悄的', '忐忑不安'],\n",
       "  'Link': 'https://lyricspinyin.com/2020/06/05/yao-ba-ling-er-san-yi-180231-by-jin-zi-%e4%bb%8a%e5%ad%90-pinyin-lyrics-and-english-translation/'},\n",
       " {'Title': 'Pian Ai 偏愛',\n",
       "  'Artist': 'Jing Chang 張芸京',\n",
       "  'Understandability': 68,\n",
       "  'Importance': 60,\n",
       "  'Score': -8,\n",
       "  'New Words': ['有把握', '闪躲', '爱痛', '偏要'],\n",
       "  'Link': 'https://lyricspinyin.com/2020/09/05/pian-ai-%e5%81%8f%e6%84%9b-by-jing-chang-%e5%bc%b5%e8%8a%b8%e4%ba%ac-pinyin-lyrics-and-english-translation/'},\n",
       " {'Title': 'Yut Naan Yut Oi 越難越愛',\n",
       "  'Artist': 'Jinny Ng 吳若希 Cantonese',\n",
       "  'Understandability': 56,\n",
       "  'Importance': 52,\n",
       "  'Score': -4,\n",
       "  'New Words': ['踏前',\n",
       "   '途上',\n",
       "   '割开',\n",
       "   '眼泪',\n",
       "   '半秒钟',\n",
       "   '肩膊',\n",
       "   '无惧',\n",
       "   '命途',\n",
       "   '綑',\n",
       "   '跌盪',\n",
       "   '气慨'],\n",
       "  'Link': 'https://lyricspinyin.com/2020/05/01/yut-naan-yut-oi-%e8%b6%8a%e9%9b%a3%e8%b6%8a%e6%84%9b-by-jinny-ng-%e5%90%b3%e8%8b%a5%e5%b8%8c-cantonese-pinyin-lyrics-and-english-translation/'},\n",
       " {'Title': 'Wo Zhi Zai Hu Ni 我只在乎你',\n",
       "  'Artist': 'Joana Wang 王若琳',\n",
       "  'Understandability': 53,\n",
       "  'Importance': 52,\n",
       "  'Score': -1,\n",
       "  'New Words': ['蜜任', '一丝丝'],\n",
       "  'Link': 'https://lyricspinyin.com/2019/12/24/wo-zhi-zai-hu-ni-%e6%88%91%e5%8f%aa%e5%9c%a8%e4%b9%8e%e4%bd%a0-by-joana-wang-%e7%8e%8b%e8%8b%a5%e7%90%b3-pinyin-lyrics-and-english-translation/'},\n",
       " {'Title': 'Nai He 奈何',\n",
       "  'Artist': 'Joanna Wang 王若琳',\n",
       "  'Understandability': 56,\n",
       "  'Importance': 46,\n",
       "  'Score': -10,\n",
       "  'New Words': ['常相忆', '有缘', '无缘', '欺到'],\n",
       "  'Link': 'https://lyricspinyin.com/2019/10/22/nai-he-%e5%a5%88%e4%bd%95-by-joanna-wang-%e7%8e%8b%e8%8b%a5%e7%90%b3-pinyin-lyrics-and-english-translation/'},\n",
       " {'Title': 'Na Xie Mei Shuo Chu Kou De Hua 那些沒說出口的話',\n",
       "  'Artist': 'Joey Yung 容祖兒',\n",
       "  'Understandability': 63,\n",
       "  'Importance': 62,\n",
       "  'Score': -1,\n",
       "  'New Words': ['震盪', '禁得起', '奢望', '逆着'],\n",
       "  'Link': 'https://lyricspinyin.com/2020/03/04/na-xie-mei-shuo-chu-kou-de-hua-%e9%82%a3%e4%ba%9b%e6%b2%92%e8%aa%aa%e5%87%ba%e5%8f%a3%e7%9a%84%e8%a9%b1-by-joey-yung-%e5%ae%b9%e7%a5%96%e5%85%92-pinyin-lyrics-and-english-translation/'},\n",
       " {'Title': 'Miss Trouble',\n",
       "  'Artist': 'Jolin Tsai 蔡依林',\n",
       "  'Understandability': 54,\n",
       "  'Importance': 51,\n",
       "  'Score': -3,\n",
       "  'New Words': ['姊妹',\n",
       "   '假睫毛',\n",
       "   '型录',\n",
       "   '谈恋爱',\n",
       "   '甜言蜜语',\n",
       "   '拍美妆',\n",
       "   '梦寐以求',\n",
       "   '粉丝团',\n",
       "   '女神',\n",
       "   '浓妆',\n",
       "   '哪招',\n",
       "   '三宝',\n",
       "   '石榴裙'],\n",
       "  'Link': 'https://lyricspinyin.com/2020/07/05/miss-trouble-by-jolin-tsai-%e8%94%a1%e4%be%9d%e6%9e%97-pinyin-lyrics-and-english-translation/'},\n",
       " {'Title': 'Xin Yin Li 心引力',\n",
       "  'Artist': '王俊凱 蔡依林',\n",
       "  'Understandability': 60,\n",
       "  'Importance': 57,\n",
       "  'Score': -3,\n",
       "  'New Words': ['找寻', '踮起', '脚尖', '窒息'],\n",
       "  'Link': 'https://lyricspinyin.com/2019/11/13/xin-yin-li-%e5%bf%83%e5%bc%95%e5%8a%9b-by-%e7%8e%8b%e4%bf%8a%e5%87%b1-%e8%94%a1%e4%be%9d%e6%9e%97-pinyin-lyrics-and-english-translation/'},\n",
       " {'Title': 'Zuo Meng 做夢',\n",
       "  'Artist': 'Joyce Chu 朱主愛',\n",
       "  'Understandability': 49,\n",
       "  'Importance': 42,\n",
       "  'Score': -7,\n",
       "  'New Words': ['皱眉头',\n",
       "   '甘休',\n",
       "   '狂风',\n",
       "   '罩',\n",
       "   '浇熄',\n",
       "   '徬徨失措',\n",
       "   '糗',\n",
       "   '逆着',\n",
       "   '垂头',\n",
       "   '随波逐流',\n",
       "   '退缩',\n",
       "   '懦弱',\n",
       "   '沖',\n",
       "   '缄默',\n",
       "   '啰嗦',\n",
       "   '放映',\n",
       "   '青涩'],\n",
       "  'Link': 'https://lyricspinyin.com/2020/07/23/zuo-meng-%e5%81%9a%e5%a4%a2-by-joyce-chu-%e6%9c%b1%e4%b8%bb%e6%84%9b-pinyin-lyrics-and-english-translation/'},\n",
       " {'Title': 'Lao Gong Gong Lao Po Po 老公公老婆婆',\n",
       "  'Artist': 'Joyce Chu 朱主愛',\n",
       "  'Understandability': 46,\n",
       "  'Importance': 40,\n",
       "  'Score': -6,\n",
       "  'New Words': ['老婆婆', '不眠不休', '泛黄', '拔腿', '妈咪'],\n",
       "  'Link': 'https://lyricspinyin.com/2020/05/11/lao-gong-gong-lao-po-po-%e8%80%81%e5%85%ac%e5%85%ac%e8%80%81%e5%a9%86%e5%a9%86-by-joyce-chu-%e6%9c%b1%e4%b8%bb%e6%84%9b-pinyin-lyrics-and-english-translation/'},\n",
       " {'Title': 'Luo Luo Da Fang 落落大方',\n",
       "  'Artist': '路嘉欣',\n",
       "  'Understandability': 56,\n",
       "  'Importance': 50,\n",
       "  'Score': -6,\n",
       "  'New Words': ['岛沉', '坠落', '贴标签', '唿吸', '幻觉', '呜咽', '肝肠寸断'],\n",
       "  'Link': 'https://lyricspinyin.com/2019/10/24/luo-luo-da-fang-%e8%90%bd%e8%90%bd%e5%a4%a7%e6%96%b9-by-%e8%b7%af%e5%98%89%e6%ac%a3-pinyin-lyrics-and-english-translation/'},\n",
       " {'Title': 'Tan Yun Xi 嘆雲兮',\n",
       "  'Artist': 'Ju Jing Yi 鞠婧禕',\n",
       "  'Understandability': 51,\n",
       "  'Importance': 48,\n",
       "  'Score': -3,\n",
       "  'New Words': ['别怨',\n",
       "   '註',\n",
       "   '沈默',\n",
       "   '沧海',\n",
       "   '笺',\n",
       "   '踱',\n",
       "   '崩裂',\n",
       "   '看梅海',\n",
       "   '不舍',\n",
       "   '八荒',\n",
       "   '命中',\n",
       "   '天宁',\n",
       "   '唇齿',\n",
       "   '淍',\n",
       "   '万语千言',\n",
       "   '一言谱'],\n",
       "  'Link': 'https://lyricspinyin.com/2020/07/04/tan-yun-xi-%e5%98%86%e9%9b%b2%e5%85%ae-by-ju-jing-yi-%e9%9e%a0%e5%a9%a7%e7%a6%95-pinyin-lyrics-and-english-translation/'},\n",
       " {'Title': 'Meng De Sheng Yin 夢的聲音',\n",
       "  'Artist': 'Julia Peng 彭佳慧',\n",
       "  'Understandability': 56,\n",
       "  'Importance': 52,\n",
       "  'Score': -4,\n",
       "  'New Words': ['拥抱着',\n",
       "   '踌躇',\n",
       "   '无畏',\n",
       "   '蹟',\n",
       "   '荒芜',\n",
       "   '深陷',\n",
       "   '休止符',\n",
       "   '无惧',\n",
       "   '懦弱',\n",
       "   '聆听',\n",
       "   '拔河'],\n",
       "  'Link': 'https://lyricspinyin.com/2020/03/20/meng-de-sheng-yin-%e5%a4%a2%e7%9a%84%e8%81%b2%e9%9f%b3-by-julia-peng-%e5%bd%ad%e4%bd%b3%e6%85%a7-pinyin-lyrics-and-english-translation/'},\n",
       " {'Title': 'Re:PLAY',\n",
       "  'Artist': 'Juila Wu 吳卓源',\n",
       "  'Understandability': 49,\n",
       "  'Importance': 45,\n",
       "  'Score': -4,\n",
       "  'New Words': ['落肩', '潮由', '编跳', '微醺', '封锁线'],\n",
       "  'Link': 'https://lyricspinyin.com/2020/10/07/replay-by-juila-wu-%e5%90%b3%e5%8d%93%e6%ba%90-pinyin-lyrics/'},\n",
       " {'Title': 'Wan Jia 玩家',\n",
       "  'Artist': 'Julia Wu 吳卓源 & ChrisFlow 唐仲彣',\n",
       "  'Understandability': 57,\n",
       "  'Importance': 53,\n",
       "  'Score': -4,\n",
       "  'New Words': ['腾云驾雾', '佈', '入神', '牵着手', '星辰', '透彻', '探听', '攀上'],\n",
       "  'Link': 'https://lyricspinyin.com/2020/05/29/wan-jia-%e7%8e%a9%e5%ae%b6-by-julia-wu-%e5%90%b3%e5%8d%93%e6%ba%90-chrisflow-%e5%94%90%e4%bb%b2%e5%bd%a3-pinyin-lyrics-and-english-translation/'},\n",
       " {'Title': 'Better',\n",
       "  'Artist': 'Julia Wu 吳卓源 feat Kimberley Chen 陳芳語',\n",
       "  'Understandability': 50,\n",
       "  'Importance': 46,\n",
       "  'Score': -4,\n",
       "  'New Words': ['退缩', '妳', '心太倦', '遮盖', '佔', '渡过', '战友', '遮风'],\n",
       "  'Link': 'https://lyricspinyin.com/2020/04/10/better-by-julia-wu-%e5%90%b3%e5%8d%93%e6%ba%90-feat-kimberley-chen-%e9%99%b3%e8%8a%b3%e8%aa%9e-pinyin-lyrics-and-english-translation/'},\n",
       " {'Title': 'Qi Shi Yi Fen Zhi Yi Jia Yi 七十億分之一加一',\n",
       "  'Artist': 'Julia Wu 吳卓源 feat. 婁峻碩 SHOU',\n",
       "  'Understandability': 59,\n",
       "  'Importance': 55,\n",
       "  'Score': -4,\n",
       "  'New Words': ['更待何时', '尼古丁', '热恋', '机率', '晃来晃去'],\n",
       "  'Link': 'https://lyricspinyin.com/2020/03/06/qi-shi-yi-fen-zhi-yi-jia-yi-%e4%b8%83%e5%8d%81%e5%84%84%e5%88%86%e4%b9%8b%e4%b8%80%e5%8a%a0%e4%b8%80-by-julia-wu-%e5%90%b3%e5%8d%93%e6%ba%90-feat-%e5%a9%81%e5%b3%bb%e7%a2%a9-shou-pinyin-lyrics-and-en/'},\n",
       " {'Title': 'Quan Shi Jie De Peng You Dou Rang Wo Shi Wang 全世界的朋友都讓我失望',\n",
       "  'Artist': '吳卓源',\n",
       "  'Understandability': 55,\n",
       "  'Importance': 51,\n",
       "  'Score': -4,\n",
       "  'New Words': ['多强', '泪流', '菸', '越痛', '伤痛'],\n",
       "  'Link': 'https://lyricspinyin.com/2019/12/14/quan-shi-jie-de-peng-you-dou-rang-wo-shi-wang-%e5%85%a8%e4%b8%96%e7%95%8c%e7%9a%84%e6%9c%8b%e5%8f%8b%e9%83%bd%e8%ae%93%e6%88%91%e5%a4%b1%e6%9c%9b-by-%e5%90%b3%e5%8d%93%e6%ba%90-pinyin-lyrics-and-engli/'},\n",
       " {'Title': 'Sa Ye 撒野',\n",
       "  'Artist': 'Kaiser Meow 凱瑟喵',\n",
       "  'Understandability': 55,\n",
       "  'Importance': 49,\n",
       "  'Score': -6,\n",
       "  'New Words': ['撒野', '抹掉', '肩', '空荡', '盪', '右肩', '归途'],\n",
       "  'Link': 'https://lyricspinyin.com/2020/08/13/sa-ye-%e6%92%92%e9%87%8e-by-kaiser-meow-%e5%87%b1%e7%91%9f%e5%96%b5-pinyin-lyrics-and-english-translation/'},\n",
       " {'Title': 'Ta Bu Ai Wo 他不愛我',\n",
       "  'Artist': 'Karen Mok 莫文蔚',\n",
       "  'Understandability': 57,\n",
       "  'Importance': 52,\n",
       "  'Score': -5,\n",
       "  'New Words': ['看透', '沈默'],\n",
       "  'Link': 'https://lyricspinyin.com/2020/04/01/ta-bu-ai-wo-%e4%bb%96%e4%b8%8d%e6%84%9b%e6%88%91-by-karen-mok-%e8%8e%ab%e6%96%87%e8%94%9a-pinyin-lyrics-and-english-translation/'},\n",
       " {'Title': 'Man Man Xi Huan Ni 慢慢喜歡你',\n",
       "  'Artist': 'Karen Mok 莫文蔚',\n",
       "  'Understandability': 63,\n",
       "  'Importance': 55,\n",
       "  'Score': -8,\n",
       "  'New Words': ['红砖', '柳树', '好聚好散', '青苔', '绿瓦'],\n",
       "  'Link': 'https://lyricspinyin.com/2019/11/28/man-man-xi-huan-ni-%e6%85%a2%e6%85%a2%e5%96%9c%e6%ad%a1%e4%bd%a0-by-karen-mok-%e8%8e%ab%e6%96%87%e8%94%9a-pinyin-lyrics-and-english-translation/'},\n",
       " {'Title': '可惜了 Ke Xi Le',\n",
       "  'Artist': '齊秦 莫文蔚',\n",
       "  'Understandability': 60,\n",
       "  'Importance': 56,\n",
       "  'Score': -4,\n",
       "  'New Words': ['棋逢对手', '跌跌撞撞', '坠落在', '沈默', '千推雪', '可悲', '付诸流水', '寸心', '失速'],\n",
       "  'Link': 'https://lyricspinyin.com/2019/11/06/%e5%8f%af%e6%83%9c%e4%ba%86-ke-xi-le-by-%e9%bd%8a%e7%a7%a6-%e8%8e%ab%e6%96%87%e8%94%9a-pinyin-lyrics-and-english-translation/'},\n",
       " {'Title': 'Ru Guo De Shi 如果的事',\n",
       "  'Artist': '李佳歡 feat 許維芳',\n",
       "  'Understandability': 67,\n",
       "  'Importance': 63,\n",
       "  'Score': -4,\n",
       "  'New Words': ['坎坷', '放肆', '矜持'],\n",
       "  'Link': 'https://lyricspinyin.com/2020/04/22/ru-guo-de-shi-%e5%a6%82%e6%9e%9c%e7%9a%84%e4%ba%8b-by-%e6%9d%8e%e4%bd%b3%e6%ad%a1-feat-%e8%a8%b1%e7%b6%ad%e8%8a%b3-pinyin-lyrics-and-english-translation/'},\n",
       " {'Title': 'Duo Xiang Wei Ni Chang Ge 多想為你唱歌',\n",
       "  'Artist': 'KarFun 李佳歡',\n",
       "  'Understandability': 63,\n",
       "  'Importance': 60,\n",
       "  'Score': -3,\n",
       "  'New Words': ['仰望'],\n",
       "  'Link': 'https://lyricspinyin.com/2020/03/31/duo-xiang-wei-ni-chang-ge-%e5%a4%9a%e6%83%b3%e7%82%ba%e4%bd%a0%e5%94%b1%e6%ad%8c-by-karfun-%e6%9d%8e%e4%bd%b3%e6%ad%a1-pinyin-lyrics-and-english-translation/'},\n",
       " {'Title': 'Guo Qi Le 過期了',\n",
       "  'Artist': 'Kar Fun 李佳歡',\n",
       "  'Understandability': 63,\n",
       "  'Importance': 59,\n",
       "  'Score': -4,\n",
       "  'New Words': ['永恆', '云淡风轻'],\n",
       "  'Link': 'https://lyricspinyin.com/2019/10/31/guo-qi-le-%e9%81%8e%e6%9c%9f%e4%ba%86-by-kar-fun-%e6%9d%8e%e4%bd%b3%e6%ad%a1-pinyin-lyrics-and-english-translation/'},\n",
       " {'Title': 'Kai Fang Shi Jie 開放世界 (Journey)',\n",
       "  'Artist': 'KarFun 李佳歡',\n",
       "  'Understandability': 60,\n",
       "  'Importance': 56,\n",
       "  'Score': -4,\n",
       "  'New Words': ['忽远', '野性', '逆光', '未', '喊救命'],\n",
       "  'Link': 'https://lyricspinyin.com/2019/10/16/kai-fang-shi-jie-%e9%96%8b%e6%94%be%e4%b8%96%e7%95%8c-journey-by-karfun-%e6%9d%8e%e4%bd%b3%e6%ad%a1-pinyin-lyrics-and-english-translation/'},\n",
       " {'Title': 'Yun Loi Yau Oi 原來有愛',\n",
       "  'Artist': 'Kayee 譚嘉儀 Cantonese',\n",
       "  'Understandability': 58,\n",
       "  'Importance': 54,\n",
       "  'Score': -4,\n",
       "  'New Words': ['无惧', '缘份', '晦暗', '无限', '滔滔', '相拥', '初春', '闪来', '赠'],\n",
       "  'Link': 'https://lyricspinyin.com/2020/06/08/yun-loi-yau-oi-%e5%8e%9f%e4%be%86%e6%9c%89%e6%84%9b-by-kayee-%e8%ad%9a%e5%98%89%e5%84%80-cantonese-pinyin-lyrics/'},\n",
       " {'Title': 'Shuang Yu You Yong 雙魚游泳',\n",
       "  'Artist': 'Keanna Taiyh feat 雞二兄弟',\n",
       "  'Understandability': 45,\n",
       "  'Importance': 43,\n",
       "  'Score': -2,\n",
       "  'New Words': ['彗星',\n",
       "   '眼泪',\n",
       "   '若无其事',\n",
       "   '土星',\n",
       "   '心窝',\n",
       "   '溺水',\n",
       "   '佔',\n",
       "   '搜寻',\n",
       "   '鱼缸',\n",
       "   '郁金香',\n",
       "   '潜入',\n",
       "   '宵夜',\n",
       "   '案发现场',\n",
       "   '好柔',\n",
       "   '酒窝',\n",
       "   '薄荷香'],\n",
       "  'Link': 'https://lyricspinyin.com/2020/03/25/shuang-yu-you-yong-%e9%9b%99%e9%ad%9a%e6%b8%b8%e6%b3%b3-by-keanna-taiyh-feat-%e9%9b%9e%e4%ba%8c%e5%85%84%e5%bc%9f-pinyin-lyrics-and-english-translation/'},\n",
       " {'Title': 'Xing Fu Cang Zai Na Li 幸福藏在哪裡',\n",
       "  'Artist': 'Kelly Cheng 鄭心慈',\n",
       "  'Understandability': 60,\n",
       "  'Importance': 57,\n",
       "  'Score': -3,\n",
       "  'New Words': ['唿', '握紧', '孤单', '穿透'],\n",
       "  'Link': 'https://lyricspinyin.com/2019/11/20/xing-fu-cang-zai-na-li-%e5%b9%b8%e7%a6%8f%e8%97%8f%e5%9c%a8%e5%93%aa%e8%a3%a1-by-kelly-cheng-%e9%84%ad%e5%bf%83%e6%85%88-pinyin-lyrics-and-english-translation/'},\n",
       " {'Title': 'Bai Yi Shao Nian 白衣少年',\n",
       "  'Artist': 'Kelly Yu 于文文',\n",
       "  'Understandability': 40,\n",
       "  'Importance': 39,\n",
       "  'Score': -1,\n",
       "  'New Words': ['扼住',\n",
       "   '星斗',\n",
       "   '呜呜',\n",
       "   '善恶',\n",
       "   '仰起',\n",
       "   '轻舟',\n",
       "   '烦忧',\n",
       "   '明媚',\n",
       "   '野兽',\n",
       "   '兇',\n",
       "   '慢悠悠',\n",
       "   '淌',\n",
       "   '醉卧',\n",
       "   '流言',\n",
       "   '击碎',\n",
       "   '晨曦',\n",
       "   '通透',\n",
       "   '海鸥',\n",
       "   '沾染',\n",
       "   '诅咒',\n",
       "   '白昼',\n",
       "   '沙丘',\n",
       "   '不枉',\n",
       "   '何惧',\n",
       "   '噬人',\n",
       "   '勐',\n",
       "   '邂逅'],\n",
       "  'Link': 'https://lyricspinyin.com/2020/09/22/bai-yi-shao-nian-%e7%99%bd%e8%a1%a3%e5%b0%91%e5%b9%b4-by-kelly-yu-%e4%ba%8e%e6%96%87%e6%96%87-pinyin-lyrics/'},\n",
       " {'Title': 'Zai Jian Yi Mian 再見一面',\n",
       "  'Artist': 'Kelly Yu 于文文',\n",
       "  'Understandability': 63,\n",
       "  'Importance': 56,\n",
       "  'Score': -7,\n",
       "  'New Words': ['拨通', '若隐若现', '磨平', '眷恋', '不舍', '叹息'],\n",
       "  'Link': 'https://lyricspinyin.com/2020/04/20/zai-jian-yi-mian-%e5%86%8d%e8%a6%8b%e4%b8%80%e9%9d%a2-by-kelly-yu-%e4%ba%8e%e6%96%87%e6%96%87-pinyin-lyrics-and-english-translation/'},\n",
       " {'Title': 'Ti Mian 體面',\n",
       "  'Artist': 'Kelly Yu 于文文',\n",
       "  'Understandability': 57,\n",
       "  'Importance': 52,\n",
       "  'Score': -5,\n",
       "  'New Words': ['茧', '哽咽'],\n",
       "  'Link': 'https://lyricspinyin.com/2019/10/08/ti-mian-%e9%ab%94%e9%9d%a2-by-kelly-yu-%e4%ba%8e%e6%96%87%e6%96%87-pinyin-lyrics-and-english-translation/'},\n",
       " {'Title': 'Wo Men Mei You Ai Cuo 我們沒有愛錯',\n",
       "  'Artist': 'Kelly 潘嘉麗',\n",
       "  'Understandability': 58,\n",
       "  'Importance': 54,\n",
       "  'Score': -4,\n",
       "  'New Words': ['刻骨铭心', '坠落', '遮雨', '逆着', '回握', '被窝', '贴着', '仰望', '牵着手'],\n",
       "  'Link': 'https://lyricspinyin.com/2020/03/06/wo-men-mei-you-ai-cuo-%e6%88%91%e5%80%91%e6%b2%92%e6%9c%89%e6%84%9b%e9%8c%af-by-kelly-%e6%bd%98%e5%98%89%e9%ba%97-pinyin-lyrics-and-english-translation/'},\n",
       " {'Title': 'Hua Bu Hao Shuo 話不好說',\n",
       "  'Artist': 'Kimberley 陳芳語Pinyin Lyrics And English Translation - Lyrics Pinyin',\n",
       "  'Understandability': 64,\n",
       "  'Importance': 64,\n",
       "  'Score': 0,\n",
       "  'New Words': ['虚弱'],\n",
       "  'Link': 'https://lyricspinyin.com/2020/10/16/hua-bu-hao-shuo-%e8%a9%b1%e4%b8%8d%e5%a5%bd%e8%aa%aa-by-kimberley-%e9%99%b3%e8%8a%b3%e8%aa%9epinyin-lyrics-and-english-translation/'},\n",
       " {'Title': '4AM CALLS',\n",
       "  'Artist': 'Kimberley Chen 陳芳語',\n",
       "  'Understandability': 69,\n",
       "  'Importance': 59,\n",
       "  'Score': -10,\n",
       "  'New Words': ['传来'],\n",
       "  'Link': 'https://lyricspinyin.com/2020/08/14/4am-calls-by-kimberley-chen-%e9%99%b3%e8%8a%b3%e8%aa%9e-pinyin-lyrics-and-english-translation/'},\n",
       " {'Title': 'Ai Ni 愛你',\n",
       "  'Artist': 'Kimberley Chen 陳芳語',\n",
       "  'Understandability': 61,\n",
       "  'Importance': 58,\n",
       "  'Score': -3,\n",
       "  'New Words': ['互扣', '唿吸', '钮扣', '每一秒', '初吻', '勾', '贴着', '闭上眼睛'],\n",
       "  'Link': 'https://lyricspinyin.com/2020/07/21/ai-ni-%e6%84%9b%e4%bd%a0-by-kimberley-chen-%e9%99%b3%e8%8a%b3%e8%aa%9e-pinyin-lyrics-and-english-translation/'},\n",
       " {'Title': 'Ni Guang 逆光',\n",
       "  'Artist': 'Kimberley Chen 陳芳語',\n",
       "  'Understandability': 52,\n",
       "  'Importance': 51,\n",
       "  'Score': -1,\n",
       "  'New Words': ['痛得', '推开', '忍住', '泪光', '挤散', '刺眼', '漆黑'],\n",
       "  'Link': 'https://lyricspinyin.com/2020/05/29/ni-guang-%e9%80%86%e5%85%89-by-kimberley-chen-%e9%99%b3%e8%8a%b3%e8%aa%9e-pinyin-lyrics-and-english-translation/'},\n",
       " {'Title': 'Better',\n",
       "  'Artist': 'Julia Wu 吳卓源 feat Kimberley Chen 陳芳語',\n",
       "  'Understandability': 50,\n",
       "  'Importance': 46,\n",
       "  'Score': -4,\n",
       "  'New Words': ['退缩', '妳', '心太倦', '遮盖', '佔', '渡过', '战友', '遮风'],\n",
       "  'Link': 'https://lyricspinyin.com/2020/04/10/better-by-julia-wu-%e5%90%b3%e5%8d%93%e6%ba%90-feat-kimberley-chen-%e9%99%b3%e8%8a%b3%e8%aa%9e-pinyin-lyrics-and-english-translation/'},\n",
       " {'Title': '摩卡摩卡Mo Ka Mo Ka',\n",
       "  'Artist': 'Kimberley Chen 陳芳語',\n",
       "  'Understandability': 56,\n",
       "  'Importance': 53,\n",
       "  'Score': -3,\n",
       "  'New Words': ['涩', '摩卡', '省略号', '陌路', '癒', '伤悲'],\n",
       "  'Link': 'https://lyricspinyin.com/2019/10/18/%e6%91%a9%e5%8d%a1%e6%91%a9%e5%8d%a1mo-ka-mo-ka-by-kimberley-chen-%e9%99%b3%e8%8a%b3%e8%aa%9e-pinyin-lyrics-and-english-translation/'},\n",
       " {'Title': 'Bu Pu Tong De Pu Tong Nu Hai 不普通的普通女孩',\n",
       "  'Artist': 'La Bi Xiao Xin 蠟筆小心',\n",
       "  'Understandability': 52,\n",
       "  'Importance': 50,\n",
       "  'Score': -2,\n",
       "  'New Words': ['长膘',\n",
       "   '翻来覆去',\n",
       "   '下厨',\n",
       "   '数学公式',\n",
       "   '幼稚园',\n",
       "   '补习班',\n",
       "   '逞能',\n",
       "   '跷课',\n",
       "   '钻进',\n",
       "   '贪玩',\n",
       "   '草稿本',\n",
       "   '无与伦比',\n",
       "   '网瘾',\n",
       "   '狂妄'],\n",
       "  'Link': 'https://lyricspinyin.com/2020/10/05/bu-pu-tong-de-pu-tong-nu-hai-%e4%b8%8d%e6%99%ae%e9%80%9a%e7%9a%84%e6%99%ae%e9%80%9a%e5%a5%b3%e5%ad%a9-by-la-bi-xiao-xin-%e8%a0%9f%e7%ad%86%e5%b0%8f%e5%bf%83-pinyin-lyrics/'},\n",
       " {'Title': 'Mom',\n",
       "  'Artist': 'La Bi Xiao Xin 蠟筆小心',\n",
       "  'Understandability': 46,\n",
       "  'Importance': 40,\n",
       "  'Score': -6,\n",
       "  'New Words': ['卡壳',\n",
       "   '蔚蓝色',\n",
       "   '虹',\n",
       "   '一丝',\n",
       "   '吉他',\n",
       "   '橡皮筋',\n",
       "   '千纸鹤',\n",
       "   '蓝兔',\n",
       "   '扛起',\n",
       "   '玫瑰花',\n",
       "   '门卫',\n",
       "   '红领巾'],\n",
       "  'Link': 'https://lyricspinyin.com/2020/04/03/mom-by-la-bi-xiao-xin-%e8%a0%9f%e7%ad%86%e5%b0%8f%e5%bf%83-pinyin-lyrics-and-english-translation/'},\n",
       " {'Title': 'Xing Kong Jian Ying 星空剪影',\n",
       "  'Artist': 'Lan Xin Yu 藍心羽',\n",
       "  'Understandability': 60,\n",
       "  'Importance': 56,\n",
       "  'Score': -4,\n",
       "  'New Words': ['狂风暴雨', '甜腻', '云朵'],\n",
       "  'Link': 'https://lyricspinyin.com/2020/09/22/xing-kong-jian-ying-%e6%98%9f%e7%a9%ba%e5%89%aa%e5%bd%b1-by-lan-xin-yu-%e8%97%8d%e5%bf%83%e7%be%bd-pinyin-lyrics-and-english-translation/'},\n",
       " {'Title': 'Xin Zhi Suo Xiang 心之所向',\n",
       "  'Artist': 'Lara 梁心頤',\n",
       "  'Understandability': 51,\n",
       "  'Importance': 51,\n",
       "  'Score': 0,\n",
       "  'New Words': ['跌跌撞撞',\n",
       "   '一缕',\n",
       "   '难以名状',\n",
       "   '一扇',\n",
       "   '缘分',\n",
       "   '限量',\n",
       "   '牵引',\n",
       "   '闪耀着',\n",
       "   '笃定',\n",
       "   '回荡',\n",
       "   '绽放',\n",
       "   '义无反顾',\n",
       "   '蓄积',\n",
       "   '拨开',\n",
       "   '未曾',\n",
       "   '莽撞',\n",
       "   '卑微',\n",
       "   '默契',\n",
       "   '初恋',\n",
       "   '镀上'],\n",
       "  'Link': 'https://lyricspinyin.com/2020/08/27/xin-zhi-suo-xiang-%e5%bf%83%e4%b9%8b%e6%89%80%e5%90%91-by-lara-%e6%a2%81%e5%bf%83%e9%a0%a4-pinyin-lyrics-and-english-translation/'},\n",
       " {'Title': 'Hai Shi Fen Kai 還是分開',\n",
       "  'Artist': 'Leafy Zhang 張葉蕾',\n",
       "  'Understandability': 58,\n",
       "  'Importance': 58,\n",
       "  'Score': 0,\n",
       "  'New Words': ['呜', '惹人厌', '彿', '掠过', '挽留', '掐灭'],\n",
       "  'Link': 'https://lyricspinyin.com/2020/01/24/hai-shi-fen-kai-%e9%82%84%e6%98%af%e5%88%86%e9%96%8b-by-leafy-zhang-%e5%bc%b5%e8%91%89%e8%95%be-pinyin-lyrics-and-english-translation/'},\n",
       " {'Title': 'Yu Shui 雨水',\n",
       "  'Artist': 'Li Jia Si 李佳思 音闕詩聽',\n",
       "  'Understandability': 36,\n",
       "  'Importance': 32,\n",
       "  'Score': -4,\n",
       "  'New Words': ['雁来',\n",
       "   '勾',\n",
       "   '俯仰',\n",
       "   '等闲',\n",
       "   '困篱围',\n",
       "   '斯人',\n",
       "   '眼眉',\n",
       "   '几寸',\n",
       "   '江北',\n",
       "   '率性',\n",
       "   '不归',\n",
       "   '挂冬尾',\n",
       "   '落魄',\n",
       "   '露水',\n",
       "   '身侧',\n",
       "   '料峭',\n",
       "   '眼泪',\n",
       "   '怪罪',\n",
       "   '草长莺飞',\n",
       "   '沧海',\n",
       "   '晨起',\n",
       "   '心绪',\n",
       "   '埋名',\n",
       "   '尘灰',\n",
       "   '喃喃',\n",
       "   '事与愿违',\n",
       "   '浪荡'],\n",
       "  'Link': 'https://lyricspinyin.com/2020/02/20/yu-shui-%e9%9b%a8%e6%b0%b4-by-li-jia-si-%e6%9d%8e%e4%bd%b3%e6%80%9d-%e9%9f%b3%e9%97%95%e8%a9%a9%e8%81%bd-pinyin-lyrics/'},\n",
       " {'Title': 'Mu Hou Zhe 幕後者',\n",
       "  'Artist': 'Li Jun 李俊Pinyin Lyrics And English Translation\\xa0 - Lyrics Pinyin',\n",
       "  'Understandability': 60,\n",
       "  'Importance': 55,\n",
       "  'Score': -5,\n",
       "  'New Words': [],\n",
       "  'Link': 'https://lyricspinyin.com/2020/01/17/mu-hou-zhe-%e5%b9%95%e5%be%8c%e8%80%85-by-li-jun-%e6%9d%8e%e4%bf%8apinyin-lyrics-and-english-translation/'},\n",
       " {'Title': 'Yu Xia De Shun Jian 雨下的瞬間',\n",
       "  'Artist': 'Li Meng Yin 李夢尹',\n",
       "  'Understandability': 57,\n",
       "  'Importance': 53,\n",
       "  'Score': -4,\n",
       "  'New Words': ['无谓', '哽咽', '浮现', '霓虹', '渐渐', '重温'],\n",
       "  'Link': 'https://lyricspinyin.com/2020/01/04/yu-xia-de-shun-jian-%e9%9b%a8%e4%b8%8b%e7%9a%84%e7%9e%ac%e9%96%93-by-li-meng-yin-%e6%9d%8e%e5%a4%a2%e5%b0%b9-pinyin-lyrics-and-english-translation/'},\n",
       " {'Title': 'Wo Men De Ji Nian 我們的紀念',\n",
       "  'Artist': 'Li Ya Wei 李雅微',\n",
       "  'Understandability': 54,\n",
       "  'Importance': 48,\n",
       "  'Score': -6,\n",
       "  'New Words': ['幻化成', '凋谢', '渐渐', '埋藏', '轮回', '唤不醒'],\n",
       "  'Link': 'https://lyricspinyin.com/2020/05/26/wo-men-de-ji-nian-%e6%88%91%e5%80%91%e7%9a%84%e7%b4%80%e5%bf%b5-by-li-ya-wei-%e6%9d%8e%e9%9b%85%e5%be%ae-pinyin-lyrics-and-english-translation/'},\n",
       " {'Title': 'Ni Shi Ai Wo De 你是愛我的',\n",
       "  'Artist': 'Li Zhi Ting 李芷婷',\n",
       "  'Understandability': 54,\n",
       "  'Importance': 51,\n",
       "  'Score': -3,\n",
       "  'New Words': ['唿吸', '太多泪'],\n",
       "  'Link': 'https://lyricspinyin.com/2019/11/05/ni-shi-ai-wo-de-%e4%bd%a0%e6%98%af%e6%84%9b%e6%88%91%e7%9a%84-by-li-zhi-ting-%e6%9d%8e%e8%8a%b7%e5%a9%b7-pinyin-lyrics-and-english-translation/'},\n",
       " {'Title': 'Chen Zui De Qing Si 沉醉的青絲',\n",
       "  'Artist': 'Lin Bao Xin 林寶馨',\n",
       "  'Understandability': 57,\n",
       "  'Importance': 56,\n",
       "  'Score': -1,\n",
       "  'New Words': ['沉醉', '牢记', '默守', '青丝', '一缕', '荼'],\n",
       "  'Link': 'https://lyricspinyin.com/2020/10/17/chen-zui-de-qing-si-%e6%b2%89%e9%86%89%e7%9a%84%e9%9d%92%e7%b5%b2-by-lin-bao-xin-%e6%9e%97%e5%af%b6%e9%a6%a8-pinyin-lyrics-and-english-translation/'},\n",
       " {'Title': 'Wen Quan 温泉',\n",
       "  'Artist': 'Xu Song 許嵩 Liu Mei Lin 劉美麟',\n",
       "  'Understandability': 50,\n",
       "  'Importance': 46,\n",
       "  'Score': -4,\n",
       "  'New Words': ['几轮',\n",
       "   '针灸',\n",
       "   '手臂',\n",
       "   '疗愈',\n",
       "   '阴翳',\n",
       "   '深巷',\n",
       "   '小镇',\n",
       "   '遨游',\n",
       "   '醇厚',\n",
       "   '绽放',\n",
       "   '鼓囊',\n",
       "   '温泉',\n",
       "   '悸动',\n",
       "   '下坡',\n",
       "   '弯住',\n",
       "   '戳'],\n",
       "  'Link': 'https://lyricspinyin.com/2020/05/22/wen-quan-%e6%b8%a9%e6%b3%89-by-xu-song-%e8%a8%b1%e5%b5%a9-liu-mei-lin-%e5%8a%89%e7%be%8e%e9%ba%9f-pinyin-lyrics-and-english-translation/'},\n",
       " {'Title': 'Ai Shang Wei Lai De Ni 愛上未來的你',\n",
       "  'Artist': 'Liu Rui Qi 劉瑞琦',\n",
       "  'Understandability': 59,\n",
       "  'Importance': 55,\n",
       "  'Score': -4,\n",
       "  'New Words': ['谜', '柔软', '捉摸不定', '惊心动魄', '唿吸', '谜题', '传奇'],\n",
       "  'Link': 'https://lyricspinyin.com/2020/09/12/ai-shang-wei-lai-de-ni-%e6%84%9b%e4%b8%8a%e6%9c%aa%e4%be%86%e7%9a%84%e4%bd%a0-by-liu-rui-qi-%e5%8a%89%e7%91%9e%e7%90%a6-pinyin-lyrics-and-english-translation/'},\n",
       " {'Title': 'Hai Yu Dao 海與島',\n",
       "  'Artist': 'Rachael Liu 劉瑞琦',\n",
       "  'Understandability': 59,\n",
       "  'Importance': 53,\n",
       "  'Score': -6,\n",
       "  'New Words': ['我凝盼', '愁眉苦脸', '花蕊', '弧线'],\n",
       "  'Link': 'https://lyricspinyin.com/2020/06/09/hai-yu-dao-%e6%b5%b7%e8%88%87%e5%b3%b6-by-rachael-liu-%e5%8a%89%e7%91%9e%e7%90%a6-pinyin-lyrics-and-english-translation/'},\n",
       " {'Title': 'Lai Bu Ji 來不及',\n",
       "  'Artist': 'Liu Rui Qi 劉瑞琦',\n",
       "  'Understandability': 53,\n",
       "  'Importance': 45,\n",
       "  'Score': -8,\n",
       "  'New Words': ['有恃无恐', '失宠', '惶恐', '弧度', '牵住', '电话筒', '相拥', '紧绷'],\n",
       "  'Link': 'https://lyricspinyin.com/2019/12/20/lai-bu-ji-%e4%be%86%e4%b8%8d%e5%8f%8a-by-liu-rui-qi-%e5%8a%89%e7%91%9e%e7%90%a6-pinyin-lyrics-and-english-translation/'},\n",
       " {'Title': 'Zi Ji 自己',\n",
       "  'Artist': 'Liu Yifei 劉亦菲',\n",
       "  'Understandability': 64,\n",
       "  'Importance': 60,\n",
       "  'Score': -4,\n",
       "  'New Words': ['追寻', '每一秒', '波光'],\n",
       "  'Link': 'https://lyricspinyin.com/2020/03/09/zi-ji-%e8%87%aa%e5%b7%b1-by-liu-yifei-%e5%8a%89%e4%ba%a6%e8%8f%b2-pinyin-lyrics-and-english-translation/'},\n",
       " {'Title': 'Jie Zou Bing 節奏病',\n",
       "  'Artist': 'Liu Yu Xin 劉雨昕',\n",
       "  'Understandability': 57,\n",
       "  'Importance': 55,\n",
       "  'Score': -2,\n",
       "  'New Words': ['我躁', '岔路', '牌价', '强', '伪善', '掺假', '穿透', '节拍器'],\n",
       "  'Link': 'https://lyricspinyin.com/2020/06/03/jie-zou-bing-%e7%af%80%e5%a5%8f%e7%97%85-by-liu-yu-xin-%e5%8a%89%e9%9b%a8%e6%98%95-pinyin-lyrics/'},\n",
       " {'Title': 'Shi Wo Huo Gai 是我活該',\n",
       "  'Artist': 'Liu Zeng Tong 劉增瞳',\n",
       "  'Understandability': 58,\n",
       "  'Importance': 56,\n",
       "  'Score': -2,\n",
       "  'New Words': ['吞噬', '独守', '慾', '上膛', '谎话'],\n",
       "  'Link': 'https://lyricspinyin.com/2020/10/14/shi-wo-huo-gai-%e6%98%af%e6%88%91%e6%b4%bb%e8%a9%b2-by-liu-zeng-tong-%e5%8a%89%e5%a2%9e%e7%9e%b3-pinyin-lyrics-and-english-translation/'},\n",
       " {'Title': 'Jiao Wo Wang Ji 教我忘記',\n",
       "  'Artist': 'Liu Zeng Tong 劉增瞳',\n",
       "  'Understandability': 61,\n",
       "  'Importance': 58,\n",
       "  'Score': -3,\n",
       "  'New Words': ['註', '无关痛痒', '失忆'],\n",
       "  'Link': 'https://lyricspinyin.com/2020/05/05/jiao-wo-wang-ji-%e6%95%99%e6%88%91%e5%bf%98%e8%a8%98-by-liu-zeng-tong-%e5%8a%89%e5%a2%9e%e7%9e%b3-pinyin-lyrics-and-english-translation/'},\n",
       " {'Title': 'Zhong Chang 終場',\n",
       "  'Artist': 'Liu Zeng Tong 劉增瞳',\n",
       "  'Understandability': 66,\n",
       "  'Importance': 59,\n",
       "  'Score': -7,\n",
       "  'New Words': ['潦草', '预判', '握紧'],\n",
       "  'Link': 'https://lyricspinyin.com/2020/03/13/zhong-chang-%e7%b5%82%e5%a0%b4-by-liu-zeng-tong-%e5%8a%89%e5%a2%9e%e7%9e%b3-pinyin-lyrics-and-english-translation/'},\n",
       " {'Title': 'Zhuang Sha 裝傻',\n",
       "  'Artist': 'Liu Zeng Tong 劉增瞳',\n",
       "  'Understandability': 60,\n",
       "  'Importance': 54,\n",
       "  'Score': -6,\n",
       "  'New Words': ['坠落', '反覆', '牵挂'],\n",
       "  'Link': 'https://lyricspinyin.com/2020/02/27/zhuang-sha-%e8%a3%9d%e5%82%bb-by-liu-zeng-tong-%e5%8a%89%e5%a2%9e%e7%9e%b3-pinyin-lyrics-and-english-translation/'},\n",
       " {'Title': 'Wo Shi Zhen De Ai Guo Ni 我是真的愛過你',\n",
       "  'Artist': 'Liu Zeng Tong 劉增瞳',\n",
       "  'Understandability': 57,\n",
       "  'Importance': 49,\n",
       "  'Score': -8,\n",
       "  'New Words': ['泪滴', '伪装', '憧憬'],\n",
       "  'Link': 'https://lyricspinyin.com/2019/12/03/wo-shi-zhen-de-ai-guo-ni-%e6%88%91%e6%98%af%e7%9c%9f%e7%9a%84%e6%84%9b%e9%81%8e%e4%bd%a0-by-liu-zeng-tong-%e5%8a%89%e5%a2%9e%e7%9e%b3-pinyin-lyrics-and-english-translation/'},\n",
       " {'Title': 'Wei Lai Na Ge Ni 未來那個你',\n",
       "  'Artist': 'Liu Zeng Tong 劉增瞳',\n",
       "  'Understandability': 52,\n",
       "  'Importance': 49,\n",
       "  'Score': -3,\n",
       "  'New Words': ['拈花',\n",
       "   '言情小说',\n",
       "   '缘分',\n",
       "   '浓烈',\n",
       "   '斑驳',\n",
       "   '树荫',\n",
       "   '打野',\n",
       "   '潮起潮落',\n",
       "   '霓虹',\n",
       "   '我恋',\n",
       "   '熙攘',\n",
       "   '孤单',\n",
       "   '宠',\n",
       "   '擦肩而过'],\n",
       "  'Link': 'https://lyricspinyin.com/2019/11/09/wei-lai-na-ge-ni-%e6%9c%aa%e4%be%86%e9%82%a3%e5%80%8b%e4%bd%a0-by-liu-zeng-tong-%e5%8a%89%e5%a2%9e%e7%9e%b3-pinyin-lyrics/'},\n",
       " {'Title': 'Xiao Xing Xing 小星星',\n",
       "  'Artist': 'Liya 莉婭 feat R-Chord 謝和弦Pinyin Lyrics And English Translation\\xa0 - Lyrics Pinyin',\n",
       "  'Understandability': 51,\n",
       "  'Importance': 49,\n",
       "  'Score': -2,\n",
       "  'New Words': ['肩', '佔', '亮晶晶', '一闪', '垄罩', '透出', '仰望'],\n",
       "  'Link': 'https://lyricspinyin.com/2020/04/23/xiao-xing-xing-%e5%b0%8f%e6%98%9f%e6%98%9f-by-liya-%e8%8e%89%e5%a9%ad-feat-r-chord-%e8%ac%9d%e5%92%8c%e5%bc%a6pinyin-lyrics-and-english-translation/'},\n",
       " {'Title': 'Meng Zhong 夢中',\n",
       "  'Artist': 'Lu Kou Kou 呂口口',\n",
       "  'Understandability': 59,\n",
       "  'Importance': 52,\n",
       "  'Score': -7,\n",
       "  'New Words': ['猜不透', '抑制', '紧绷', '颤动', '要涂'],\n",
       "  'Link': 'https://lyricspinyin.com/2020/04/15/meng-zhong-%e5%a4%a2%e4%b8%ad-by-lu-kou-kou-%e5%91%82%e5%8f%a3%e5%8f%a3-pinyin-lyrics-and-english-translation/'},\n",
       " {'Title': 'Ge Zi Cheng Quan 各自成全',\n",
       "  'Artist': 'Lu Kou Kou 呂口口',\n",
       "  'Understandability': 58,\n",
       "  'Importance': 52,\n",
       "  'Score': -6,\n",
       "  'New Words': ['叨扰', '幻觉', '自虐', '逞强'],\n",
       "  'Link': 'https://lyricspinyin.com/2020/04/10/ge-zi-cheng-quan-%e5%90%84%e8%87%aa%e6%88%90%e5%85%a8-by-lu-kou-kou-%e5%91%82%e5%8f%a3%e5%8f%a3-pinyin-lyrics-and-english-translation/'},\n",
       " {'Title': 'Ban Jia 搬家',\n",
       "  'Artist': 'LULU 黄路梓茵',\n",
       "  'Understandability': 54,\n",
       "  'Importance': 47,\n",
       "  'Score': -7,\n",
       "  'New Words': ['吟唱', '情侣装', '空荡荡', '未', '矫情'],\n",
       "  'Link': 'https://lyricspinyin.com/2020/09/01/ban-jia-%e6%90%ac%e5%ae%b6-by-lulu-%e9%bb%84%e8%b7%af%e6%a2%93%e8%8c%b5-pinyin-lyrics-and-english-translation/'},\n",
       " {'Title': 'Rang Wo Men Zai Yi Qi Ba 讓我們在一起吧',\n",
       "  'Artist': 'Lulu 黃路梓茵',\n",
       "  'Understandability': 64,\n",
       "  'Importance': 55,\n",
       "  'Score': -9,\n",
       "  'New Words': ['默契', '恩', '言喻', '一秒'],\n",
       "  'Link': 'https://lyricspinyin.com/2020/08/26/rang-wo-men-zai-yi-qi-ba-%e8%ae%93%e6%88%91%e5%80%91%e5%9c%a8%e4%b8%80%e8%b5%b7%e5%90%a7-by-lulu-%e9%bb%83%e8%b7%af%e6%a2%93%e8%8c%b5-pinyin-lyrics-and-english-translation/'},\n",
       " {'Title': 'Bu Suan Shi Wan Mei 不算是完美',\n",
       "  'Artist': 'LuLu 黃路梓茵',\n",
       "  'Understandability': 61,\n",
       "  'Importance': 57,\n",
       "  'Score': -4,\n",
       "  'New Words': ['站稳', '掌声', '螺丝钉', '反覆', '喘息', '紧握着', '仰望'],\n",
       "  'Link': 'https://lyricspinyin.com/2019/10/17/bu-suan-shi-wan-mei-%e4%b8%8d%e7%ae%97%e6%98%af%e5%ae%8c%e7%be%8e-by-lulu-%e9%bb%83%e8%b7%af%e6%a2%93%e8%8c%b5-pinyin-lyrics-and-english-translation/'},\n",
       " {'Title': 'Sui Xin Suo Yu 隨心所欲',\n",
       "  'Artist': 'Luo Qi 羅琦',\n",
       "  'Understandability': 61,\n",
       "  'Importance': 58,\n",
       "  'Score': -3,\n",
       "  'New Words': ['随心所欲', '强求'],\n",
       "  'Link': 'https://lyricspinyin.com/2020/06/20/sui-xin-suo-yu-%e9%9a%a8%e5%bf%83%e6%89%80%e6%ac%b2-by-luo-qi-%e7%be%85%e7%90%a6-pinyin-lyrics-and-english-translation/'},\n",
       " {'Title': 'Da La Beng Ba 達拉崩吧',\n",
       "  'Artist': 'Luo Tianyi 洛天依 feat. Joker Xue 薛之謙',\n",
       "  'Understandability': 47,\n",
       "  'Importance': 45,\n",
       "  'Score': -2,\n",
       "  'New Words': ['莫拉',\n",
       "   '陛下',\n",
       "   '硫斯伯古',\n",
       "   '宝箱',\n",
       "   '达拉',\n",
       "   '金币',\n",
       "   '鲁克',\n",
       "   '蛋塔',\n",
       "   '苏打',\n",
       "   '比鲁翁',\n",
       "   '崩巴',\n",
       "   '斑得',\n",
       "   '巨龙',\n",
       "   '昆',\n",
       "   '米娅',\n",
       "   '崩巴斑',\n",
       "   '拔出',\n",
       "   '渐渐',\n",
       "   '崩巴骑',\n",
       "   '怪兽',\n",
       "   '图库',\n",
       "   '村庄',\n",
       "   '蒙达',\n",
       "   '苏娜',\n",
       "   '丹妮',\n",
       "   '巴勒',\n",
       "   '王',\n",
       "   '昆特',\n",
       "   '宝剑',\n",
       "   '浩然',\n",
       "   '苏瓦',\n",
       "   '谢莉红',\n",
       "   '塔卡',\n",
       "   '风霜',\n",
       "   '贝迪卜多'],\n",
       "  'Link': 'https://lyricspinyin.com/2020/04/05/da-la-beng-ba-%e9%81%94%e6%8b%89%e5%b4%a9%e5%90%a7-by-luo-tianyi-%e6%b4%9b%e5%a4%a9%e4%be%9d-feat-joker-xue-%e8%96%9b%e4%b9%8b%e8%ac%99-pinyin-lyrics/'},\n",
       " {'Title': 'Ji Zhou Qing Chun 極晝青春',\n",
       "  'Artist': 'Mai La Jiao Ye Yong Quan 買辣椒也用券',\n",
       "  'Understandability': 57,\n",
       "  'Importance': 53,\n",
       "  'Score': -4,\n",
       "  'New Words': ['晃眼',\n",
       "   '树梢',\n",
       "   '眼泪',\n",
       "   '振臂',\n",
       "   '唿太难',\n",
       "   '坠落',\n",
       "   '炽热',\n",
       "   '沖',\n",
       "   '唿',\n",
       "   '摔痛',\n",
       "   '塑胶跑道',\n",
       "   '伤痛',\n",
       "   '怯懦',\n",
       "   '青涩',\n",
       "   '手牵着'],\n",
       "  'Link': 'https://lyricspinyin.com/2020/07/25/ji-zhou-qing-chun-%e6%a5%b5%e6%99%9d%e9%9d%92%e6%98%a5-by-mai-la-jiao-ye-yong-quan-%e8%b2%b7%e8%be%a3%e6%a4%92%e4%b9%9f%e7%94%a8%e5%88%b8-pinyin-lyrics-and-english-translation/'},\n",
       " {'Title': 'Qi Feng Le 起風了',\n",
       "  'Artist': 'Mai La Jiao Ye Yong Quan 買辣椒也用券',\n",
       "  'Understandability': 45,\n",
       "  'Importance': 42,\n",
       "  'Score': -3,\n",
       "  'New Words': ['无谓',\n",
       "   '迈出',\n",
       "   '赴汤蹈火',\n",
       "   '微凉',\n",
       "   '乡',\n",
       "   '指尖',\n",
       "   '自拔',\n",
       "   '长野',\n",
       "   '抚平',\n",
       "   '脸措',\n",
       "   '翻涌',\n",
       "   '鬓间',\n",
       "   '无可避免',\n",
       "   '沉溺于',\n",
       "   '初识',\n",
       "   '情怯',\n",
       "   '遮住',\n",
       "   '随缘',\n",
       "   '盛夏',\n",
       "   '晨光',\n",
       "   '沉醉于',\n",
       "   '暮色'],\n",
       "  'Link': 'https://lyricspinyin.com/2020/05/11/qi-feng-le-%e8%b5%b7%e9%a2%a8%e4%ba%86-by-mai-la-jiao-ye-yong-quan-%e8%b2%b7%e8%be%a3%e6%a4%92%e4%b9%9f%e7%94%a8%e5%88%b8-pinyin-lyrics-and-english-translation/'},\n",
       " {'Title': 'Zhen De 真的',\n",
       "  'Artist': 'Mai Xiao Dou 麥小兜',\n",
       "  'Understandability': 61,\n",
       "  'Importance': 55,\n",
       "  'Score': -6,\n",
       "  'New Words': ['唿吸'],\n",
       "  'Link': 'https://lyricspinyin.com/2020/06/03/zhen-de-%e7%9c%9f%e7%9a%84-by-mai-xiao-dou-%e9%ba%a5%e5%b0%8f%e5%85%9c-pinyin-lyrics-and-english-translation/'},\n",
       " {'Title': '9420',\n",
       "  'Artist': 'Mai Xiao Dou 麥小兜',\n",
       "  'Understandability': 51,\n",
       "  'Importance': 51,\n",
       "  'Score': 0,\n",
       "  'New Words': ['玫瑰',\n",
       "   '薄荷',\n",
       "   '做媒',\n",
       "   '金蝉',\n",
       "   '比翼双飞',\n",
       "   '沉醉',\n",
       "   '炽热',\n",
       "   '微风',\n",
       "   '震碎',\n",
       "   '缓缓的',\n",
       "   '心扉',\n",
       "   '流淌',\n",
       "   '呢喃',\n",
       "   '手牵手',\n",
       "   '孤单',\n",
       "   '天造地设'],\n",
       "  'Link': 'https://lyricspinyin.com/2020/02/01/9420-by-mai-xiao-dou-%e9%ba%a5%e5%b0%8f%e5%85%9c-pinyin-lyrics-and-english-translation/'},\n",
       " {'Title': 'Xia Shan 下山',\n",
       "  'Artist': 'Yao Bu Yao Mai Cai 要不要買菜 Mai Xiao Dou 麥小兜',\n",
       "  'Understandability': 48,\n",
       "  'Importance': 42,\n",
       "  'Score': -6,\n",
       "  'New Words': ['除暴安良',\n",
       "   '异脉力',\n",
       "   '这招',\n",
       "   '一剑',\n",
       "   '刺身',\n",
       "   '乌龙',\n",
       "   '飞燕',\n",
       "   '孜然',\n",
       "   '炎夏',\n",
       "   '奇筋',\n",
       "   '红嘿',\n",
       "   '绝世武功'],\n",
       "  'Link': 'https://lyricspinyin.com/2020/02/01/xia-shan-%e4%b8%8b%e5%b1%b1-by-mai-xiao-dou-%e9%ba%a5%e5%b0%8f%e5%85%9c-pinyin-lyrics/'},\n",
       " {'Title': 'Bu Zhi Shi Xiang Ni 不只是想你',\n",
       "  'Artist': 'Meng Ran 夢然',\n",
       "  'Understandability': 66,\n",
       "  'Importance': 62,\n",
       "  'Score': -4,\n",
       "  'New Words': ['归零'],\n",
       "  'Link': 'https://lyricspinyin.com/2020/04/28/bu-zhi-shi-xiang-ni-%e4%b8%8d%e5%8f%aa%e6%98%af%e6%83%b3%e4%bd%a0-by-meng-ran-%e5%a4%a2%e7%84%b6-pinyin-lyrics-and-english-translation/'},\n",
       " {'Title': 'Shi Chong 失寵',\n",
       "  'Artist': 'Meng Ran 夢然',\n",
       "  'Understandability': 59,\n",
       "  'Importance': 54,\n",
       "  'Score': -5,\n",
       "  'New Words': ['淋雨', '帮凶', '狂奔', '宠', '闲聊'],\n",
       "  'Link': 'https://lyricspinyin.com/2020/04/08/shi-chong-%e5%a4%b1%e5%af%b5-by-meng-ran-%e5%a4%a2%e7%84%b6-pinyin-lyrics-and-english-translation/'},\n",
       " {'Title': 'Shao Nian 少年',\n",
       "  'Artist': 'Meng Ran 夢然',\n",
       "  'Understandability': 61,\n",
       "  'Importance': 56,\n",
       "  'Score': -5,\n",
       "  'New Words': ['闪亮', '磨难', '盛举', '艰险', '谎话', '未减', '一丝丝'],\n",
       "  'Link': 'https://lyricspinyin.com/2020/03/16/shao-nian-%e5%b0%91%e5%b9%b4-by-meng-ran-%e5%a4%a2%e7%84%b6-pinyin-lyrics-and-english-translation/'},\n",
       " {'Title': 'Bu Yao Zai Yu Jian 不要再遇見',\n",
       "  'Artist': 'Mian Zi 棉子',\n",
       "  'Understandability': 58,\n",
       "  'Importance': 54,\n",
       "  'Score': -4,\n",
       "  'New Words': ['转弯', '心未变'],\n",
       "  'Link': 'https://lyricspinyin.com/2020/06/27/bu-yao-zai-yu-jian-%e4%b8%8d%e8%a6%81%e5%86%8d%e9%81%87%e8%a6%8b-by-mian-zi-%e6%a3%89%e5%ad%90-pinyin-lyrics-and-english-translation/'},\n",
       " {'Title': 'Yin Wei Ai Ni 因為愛你',\n",
       "  'Artist': 'Mian Zi 棉子',\n",
       "  'Understandability': 58,\n",
       "  'Importance': 54,\n",
       "  'Score': -4,\n",
       "  'New Words': ['扎根', '放映', '毫无保留', '毫不在意'],\n",
       "  'Link': 'https://lyricspinyin.com/2020/05/04/yin-wei-ai-ni-%e5%9b%a0%e7%82%ba%e6%84%9b%e4%bd%a0-by-mian-zi-%e6%a3%89%e5%ad%90-pinyin-lyrics-and-english-translation/'},\n",
       " {'Title': 'Yong Qi 勇氣',\n",
       "  'Artist': 'Mian Zi 棉子',\n",
       "  'Understandability': 53,\n",
       "  'Importance': 47,\n",
       "  'Score': -6,\n",
       "  'New Words': ['足矣', '无畏', '陨落', '棋不惧', '朝夕', '忐忑'],\n",
       "  'Link': 'https://lyricspinyin.com/2019/12/23/yong-qi-%e5%8b%87%e6%b0%a3-by-mian-zi-%e6%a3%89%e5%ad%90-pinyin-lyrics-and-english-translation/'},\n",
       " {'Title': '',\n",
       "  'Artist': '',\n",
       "  'Understandability': '',\n",
       "  'Importance': '',\n",
       "  'Score': '',\n",
       "  'New Words': '',\n",
       "  'Link': 'https://lyricspinyin.com/2019/10/05/deng-ni-gao-bai-%e7%ad%89%e4%bd%a0%e5%91%8a%e7%99%bd-by-michiyo-%e4%bd%95%e6%88%80%e6%85%88-pinyin-lyrics-and-english-translation/'},\n",
       " {'Title': 'Lai Bu Ji 來不及',\n",
       "  'Artist': 'MinChen 林明禎',\n",
       "  'Understandability': 56,\n",
       "  'Importance': 45,\n",
       "  'Score': -11,\n",
       "  'New Words': ['讯号', '蹟', '尼配', '爵士', '言语', '迷惘', '曼哈顿', '布朗'],\n",
       "  'Link': 'https://lyricspinyin.com/2020/08/28/lai-bu-ji-%e4%be%86%e4%b8%8d%e5%8f%8a-by-minchen-%e6%9e%97%e6%98%8e%e7%a6%8e-pinyin-lyrics-and-english-translation/'},\n",
       " {'Title': 'Yan Huo 煙火',\n",
       "  'Artist': 'Mini Tsai 蔡黃汝',\n",
       "  'Understandability': 59,\n",
       "  'Importance': 57,\n",
       "  'Score': -2,\n",
       "  'New Words': ['沈默', '璀璨', '毫无保留', '眼眸', '麻痺'],\n",
       "  'Link': 'https://lyricspinyin.com/2020/09/15/yan-huo-%e7%85%99%e7%81%ab-by-mini-tsai-%e8%94%a1%e9%bb%83%e6%b1%9d-pinyin-lyrics-and-english-translation/'},\n",
       " {'Title': 'Ga Kap Oi Ching 嫁給愛情',\n",
       "  'Artist': 'Miriam Yeung 楊千嬅 Cantonese',\n",
       "  'Understandability': 53,\n",
       "  'Importance': 53,\n",
       "  'Score': 0,\n",
       "  'New Words': ['亦可',\n",
       "   '极致',\n",
       "   '誓约',\n",
       "   '拨过',\n",
       "   '相伴',\n",
       "   '甘于',\n",
       "   '无憾',\n",
       "   '缘份',\n",
       "   '游荡',\n",
       "   '贪新',\n",
       "   '嫌旧',\n",
       "   '独来独往'],\n",
       "  'Link': 'https://lyricspinyin.com/2020/01/26/ga-kap-oi-ching-%e5%ab%81%e7%b5%a6%e6%84%9b%e6%83%85-by-miriam-yeung-%e6%a5%8a%e5%8d%83%e5%ac%85-cantonese-pinyin-lyrics-and-english-translation/'},\n",
       " {'Title': 'Xia Yu Tian 下雨天',\n",
       "  'Artist': '芝麻Mochi',\n",
       "  'Understandability': 66,\n",
       "  'Importance': 60,\n",
       "  'Score': -6,\n",
       "  'New Words': ['沉溺', '人擦泪', '撑伞'],\n",
       "  'Link': 'https://lyricspinyin.com/2020/08/02/xia-yu-tian-%e4%b8%8b%e9%9b%a8%e5%a4%a9-by-%e8%8a%9d%e9%ba%bbmochi-pinyin-lyrics-and-english-translation/'},\n",
       " {'Title': 'Mo 默',\n",
       "  'Artist': 'Na Ying 那英',\n",
       "  'Understandability': 50,\n",
       "  'Importance': 47,\n",
       "  'Score': -3,\n",
       "  'New Words': ['眉头', '孤寂', '週', '命中', '劫', '虔诚', '重温'],\n",
       "  'Link': 'https://lyricspinyin.com/2020/02/18/mo-%e9%bb%98-by-na-ying-%e9%82%a3%e8%8b%b1-pinyin-lyrics-and-english-translation/'},\n",
       " {'Title': 'Sheng Ming Zhi He 生命之河',\n",
       "  'Artist': 'Faye Wong 王菲 Na Ying 那英',\n",
       "  'Understandability': 56,\n",
       "  'Importance': 57,\n",
       "  'Score': 1,\n",
       "  'New Words': ['过泪', '天空海阔', '蹉跎', '坠落', '泪比汗', '徬徨', '磊落', '如出一辙', '仰望'],\n",
       "  'Link': 'https://lyricspinyin.com/2020/01/22/sheng-ming-zhi-he-%e7%94%9f%e5%91%bd%e4%b9%8b%e6%b2%b3-by-faye-wong-%e7%8e%8b%e8%8f%b2-na-ying-%e9%82%a3%e8%8b%b1-pinyin-lyrics-and-english-translation/'},\n",
       " {'Title': 'Gui Zu De Wan Ge 貴族的輓歌',\n",
       "  'Artist': 'Naiwen Yang 楊乃文',\n",
       "  'Understandability': 57,\n",
       "  'Importance': 53,\n",
       "  'Score': -4,\n",
       "  'New Words': ['荒野', '輓', '暴烈', '冥河', '唿', '治不好', '有剎', '痛着'],\n",
       "  'Link': 'https://lyricspinyin.com/2020/05/24/gui-zu-de-wan-ge-%e8%b2%b4%e6%97%8f%e7%9a%84%e8%bc%93%e6%ad%8c-by-naiwen-yang-%e6%a5%8a%e4%b9%83%e6%96%87-pinyin-lyrics-and-english-translation/'},\n",
       " {'Title': 'Shi Fei Zhi Di 是非之地',\n",
       "  'Artist': 'Naiwen Yang 楊乃文',\n",
       "  'Understandability': 67,\n",
       "  'Importance': 60,\n",
       "  'Score': -7,\n",
       "  'New Words': ['造反', '不明朗'],\n",
       "  'Link': 'https://lyricspinyin.com/2020/02/14/shi-fei-zhi-di-%e6%98%af%e9%9d%9e%e4%b9%8b%e5%9c%b0-by-naiwen-yang-%e6%a5%8a%e4%b9%83%e6%96%87-pinyin-lyrics-and-english-translation/'},\n",
       " {'Title': 'Hui Guo Shu 悔過書',\n",
       "  'Artist': 'Naiwen Yang 楊乃文',\n",
       "  'Understandability': 60,\n",
       "  'Importance': 57,\n",
       "  'Score': -3,\n",
       "  'New Words': ['收敛', '与生俱来', '託', '孳生', '踰越'],\n",
       "  'Link': 'https://lyricspinyin.com/2019/10/29/hui-guo-shu-%e6%82%94%e9%81%8e%e6%9b%b8-by-naiwen-yang-%e6%a5%8a%e4%b9%83%e6%96%87-pinyin-lyrics-and-english-translation/'},\n",
       " {'Title': 'Bu Gan Ting De Ge 不敢聽的歌',\n",
       "  'Artist': 'Nana Lee 李千那',\n",
       "  'Understandability': 59,\n",
       "  'Importance': 52,\n",
       "  'Score': -7,\n",
       "  'New Words': ['包厢', '癒', '哪扇', '晓得'],\n",
       "  'Link': 'https://lyricspinyin.com/2020/05/10/bu-gan-ting-de-ge-%e4%b8%8d%e6%95%a2%e8%81%bd%e7%9a%84%e6%ad%8c-by-nana-lee-%e6%9d%8e%e5%8d%83%e9%82%a3-pinyin-lyrics-and-english-translation/'},\n",
       " {'Title': 'Hao Bu Rong Yi 好不容易',\n",
       "  'Artist': 'Nana Lee 李千那',\n",
       "  'Understandability': 65,\n",
       "  'Importance': 60,\n",
       "  'Score': -5,\n",
       "  'New Words': ['恶作剧', '捉模'],\n",
       "  'Link': 'https://lyricspinyin.com/2020/01/08/hao-bu-rong-yi-%e5%a5%bd%e4%b8%8d%e5%ae%b9%e6%98%93-by-nana-lee-%e6%9d%8e%e5%8d%83%e9%82%a3-pinyin-lyrics-and-english-translation/'},\n",
       " {'Title': 'Feng De Yan Se 風的顏色',\n",
       "  'Artist': 'NINEONE',\n",
       "  'Understandability': 55,\n",
       "  'Importance': 50,\n",
       "  'Score': -5,\n",
       "  'New Words': ['枫叶',\n",
       "   '梦幻般',\n",
       "   '眼泪',\n",
       "   '手臂',\n",
       "   '橙红色',\n",
       "   '稚气未脱',\n",
       "   '狡黠',\n",
       "   '形容词',\n",
       "   '晾干',\n",
       "   '光明磊落',\n",
       "   '凄婉',\n",
       "   '三脚架',\n",
       "   '握紧',\n",
       "   '託',\n",
       "   '未'],\n",
       "  'Link': 'https://lyricspinyin.com/2020/06/07/feng-de-yan-se-%e9%a2%a8%e7%9a%84%e9%a1%8f%e8%89%b2-by-nineone-pinyin-lyrics-and-english-translation/'},\n",
       " {'Title': 'Zan Ting 暫停',\n",
       "  'Artist': 'Ou Yang Duo 歐陽朵',\n",
       "  'Understandability': 58,\n",
       "  'Importance': 55,\n",
       "  'Score': -3,\n",
       "  'New Words': ['蜕变', '陷得', '有分寸', '唐突', '降温', '忧伤', '余温'],\n",
       "  'Link': 'https://lyricspinyin.com/2019/11/02/zan-ting-%e6%9a%ab%e5%81%9c-by-ou-yang-duo-%e6%ad%90%e9%99%bd%e6%9c%b5-pinyin-lyrics-and-english-translation/'},\n",
       " {'Title': 'Shi Qu Cai Dong 失去才懂',\n",
       "  'Artist': 'Ou Yang Duo 歐陽朵',\n",
       "  'Understandability': 65,\n",
       "  'Importance': 60,\n",
       "  'Score': -5,\n",
       "  'New Words': ['懦弱', '女神'],\n",
       "  'Link': 'https://lyricspinyin.com/2019/10/27/shi-qu-cai-dong-%e5%a4%b1%e5%8e%bb%e6%89%8d%e6%87%82-by-ou-yang-duo-%e6%ad%90%e9%99%bd%e6%9c%b5-pinyin-lyrics-and-english-translation/'},\n",
       " {'Title': 'Qiao Bian Gu Hiang 橋邊姑娘',\n",
       "  'Artist': '泡小椒 海倫',\n",
       "  'Understandability': 38,\n",
       "  'Importance': 31,\n",
       "  'Score': -7,\n",
       "  'New Words': ['流淌', '抚琴', '膛', '风华', '小鹿', '小姑娘', '忧伤', '逞强', '芬芳'],\n",
       "  'Link': 'https://lyricspinyin.com/2019/11/28/qiao-bian-gu-hiang-%e6%a9%8b%e9%82%8a%e5%a7%91%e5%a8%98-by-hai-lun-%e6%b5%b7%e5%80%ab-pinyin-lyrics-and-english-translation/'},\n",
       " {'Title': 'Jie Jiao De Zhu Fu 街角的祝福',\n",
       "  'Artist': 'Penny Tai 戴佩妮',\n",
       "  'Understandability': 63,\n",
       "  'Importance': 57,\n",
       "  'Score': -6,\n",
       "  'New Words': ['被治', '问若', '若真', '癒'],\n",
       "  'Link': 'https://lyricspinyin.com/2020/08/15/jie-jiao-de-zhu-fu-%e8%a1%97%e8%a7%92%e7%9a%84%e7%a5%9d%e7%a6%8f-by-penny-tai-%e6%88%b4%e4%bd%a9%e5%a6%ae-pinyin-lyrics-and-english-translation/'},\n",
       " {'Title': 'Wu Jie 誤解',\n",
       "  'Artist': 'Penny Tai 戴佩妮',\n",
       "  'Understandability': 56,\n",
       "  'Importance': 53,\n",
       "  'Score': -3,\n",
       "  'New Words': ['渐行', '忽灭', '在模', '推到', '凝结', '渐远', '微凉', '忽明', '煳'],\n",
       "  'Link': 'https://lyricspinyin.com/2020/03/13/wu-jie-%e8%aa%a4%e8%a7%a3-by-penny-tai-%e6%88%b4%e4%bd%a9%e5%a6%ae-pinyin-lyrics-and-english-translation/'},\n",
       " {'Title': 'Bu Ren Shu De Deng 不認輸的等',\n",
       "  'Artist': 'Pet Tseng 曾沛慈',\n",
       "  'Understandability': 60,\n",
       "  'Importance': 55,\n",
       "  'Score': -5,\n",
       "  'New Words': ['拥抱着', '苦闷', '温热', '晚归', '不舍', '狂奔', '魂夜', '孤单'],\n",
       "  'Link': 'https://lyricspinyin.com/2019/12/04/bu-ren-shu-de-deng-%e4%b8%8d%e8%aa%8d%e8%bc%b8%e7%9a%84%e7%ad%89-by-pet-tseng-%e6%9b%be%e6%b2%9b%e6%85%88-pinyin-lyrics-and-english-translation/'},\n",
       " {'Title': 'Zen Me Neng Zhe Yang 怎麼能這樣',\n",
       "  'Artist': '曾沛慈',\n",
       "  'Understandability': 58,\n",
       "  'Importance': 53,\n",
       "  'Score': -5,\n",
       "  'New Words': ['剧集', '优雅', '强', '亏欠', '独处', '情绪化', '贪图'],\n",
       "  'Link': 'https://lyricspinyin.com/2019/11/07/zen-me-neng-zhe-yang-%e6%80%8e%e9%ba%bc%e8%83%bd%e9%80%99%e6%a8%a3-by-%e6%9b%be%e6%b2%9b%e6%85%88-pinyin-lyrics-and-english-translation/'},\n",
       " {'Title': 'Da Feng Chui 大風吹',\n",
       "  'Artist': 'Pets Tseng 曾沛慈',\n",
       "  'Understandability': 57,\n",
       "  'Importance': 52,\n",
       "  'Score': -5,\n",
       "  'New Words': ['缘分', '问心无愧', '亏欠', '拼了命', '好聚好散'],\n",
       "  'Link': 'https://lyricspinyin.com/2019/11/07/da-feng-chui-%e5%a4%a7%e9%a2%a8%e5%90%b9-by-pets-tseng-%e6%9b%be%e6%b2%9b%e6%85%88-pinyin-lyrics-and-english-translation/'},\n",
       " {'Title': 'Mi Zhi Yin 謎之音',\n",
       "  'Artist': 'Pets Tseng 曾沛慈',\n",
       "  'Understandability': 67,\n",
       "  'Importance': 60,\n",
       "  'Score': -7,\n",
       "  'New Words': ['豁出去', '谜'],\n",
       "  'Link': 'https://lyricspinyin.com/2019/10/09/mi-zhi-yin-%e8%ac%8e%e4%b9%8b%e9%9f%b3-by-pets-tseng-%e6%9b%be%e6%b2%9b%e6%85%88-pinyin-lyrics-and-english-translation/'},\n",
       " {'Title': 'Zan Shi Ai Zhe Wo 暫時愛著我',\n",
       "  'Artist': 'Princess Ai 戴愛玲',\n",
       "  'Understandability': 71,\n",
       "  'Importance': 66,\n",
       "  'Score': -5,\n",
       "  'New Words': ['微弱', '拥抱着'],\n",
       "  'Link': 'https://lyricspinyin.com/2019/12/06/zan-shi-ai-zhe-wo-%e6%9a%ab%e6%99%82%e6%84%9b%e8%91%97%e6%88%91-by-princess-ai-%e6%88%b4%e6%84%9b%e7%8e%b2-pinyin-lyrics-and-english-translation/'},\n",
       " {'Title': 'Xiao Shi Guang 小時光',\n",
       "  'Artist': 'Priscilla Abby 蔡恩雨',\n",
       "  'Understandability': 58,\n",
       "  'Importance': 55,\n",
       "  'Score': -3,\n",
       "  'New Words': ['塞满',\n",
       "   '不腻',\n",
       "   '不拘小节',\n",
       "   '黏着',\n",
       "   '嫌弃',\n",
       "   '浪迹',\n",
       "   '消磨',\n",
       "   '默契',\n",
       "   '彿',\n",
       "   '并肩',\n",
       "   '大疯大癫'],\n",
       "  'Link': 'https://lyricspinyin.com/2019/10/16/xiao-shi-guang-%e5%b0%8f%e6%99%82%e5%85%89-by-priscilla-abby-%e8%94%a1%e6%81%a9%e9%9b%a8-pinyin-lyrics-and-english-translation/'},\n",
       " {'Title': 'Hou Yan Wu Chi 厚顏無恥',\n",
       "  'Artist': 'Qu Xiao Bing 曲肖冰',\n",
       "  'Understandability': 56,\n",
       "  'Importance': 51,\n",
       "  'Score': -5,\n",
       "  'New Words': ['穷追不舍', '厚颜无耻', '驱赶', '妳', '封存', '壹次', '搁置', '适可而止'],\n",
       "  'Link': 'https://lyricspinyin.com/2020/09/14/hou-yan-wu-chi-%e5%8e%9a%e9%a1%8f%e7%84%a1%e6%81%a5-by-qu-xiao-bing-%e6%9b%b2%e8%82%96%e5%86%b0-pinyin-lyrics-and-english-translation/'},\n",
       " {'Title': 'Ni Cun Zai 你存在',\n",
       "  'Artist': 'Rachel Liang 梁文音',\n",
       "  'Understandability': 56,\n",
       "  'Importance': 53,\n",
       "  'Score': -3,\n",
       "  'New Words': ['握住', '坠落', '泪滴', '癒', '叹息', '闭上眼睛'],\n",
       "  'Link': 'https://lyricspinyin.com/2020/04/17/ni-cun-zai-%e4%bd%a0%e5%ad%98%e5%9c%a8-by-rachel-liang-%e6%a2%81%e6%96%87%e9%9f%b3-pinyin-lyrics-and-english-translation/'},\n",
       " {'Title': 'Nu Hai Men 女孩們',\n",
       "  'Artist': '楊丞琳 Rainie Yang\\xa0 feat. 王心凌 Cyndi Wang',\n",
       "  'Understandability': 52,\n",
       "  'Importance': 45,\n",
       "  'Score': -7,\n",
       "  'New Words': ['避难',\n",
       "   '现形',\n",
       "   '谐音',\n",
       "   '同工不同酬',\n",
       "   '飞沫',\n",
       "   '甜言蜜语',\n",
       "   '泪滴',\n",
       "   '大器',\n",
       "   '雕琢',\n",
       "   '胸襟',\n",
       "   '善后',\n",
       "   '品味',\n",
       "   '担待',\n",
       "   '恶魔'],\n",
       "  'Link': 'https://lyricspinyin.com/2020/10/15/nu-hai-men-%e5%a5%b3%e5%ad%a9%e5%80%91-by-%e6%a5%8a%e4%b8%9e%e7%90%b3-rainie-yang-feat-%e7%8e%8b%e5%bf%83%e5%87%8c-cyndi-wang-pinyin-lyrics-and-english-translation/'},\n",
       " {'Title': 'Singing In The Rain',\n",
       "  'Artist': 'Rainie Yang 楊丞琳',\n",
       "  'Understandability': 55,\n",
       "  'Importance': 49,\n",
       "  'Score': -6,\n",
       "  'New Words': ['唿吸', '无限'],\n",
       "  'Link': 'https://lyricspinyin.com/2020/09/30/singing-in-the-rain-by-rainie-yang-%e6%a5%8a%e4%b8%9e%e7%90%b3-pinyin-lyrics-and-english-translation/'},\n",
       " {'Title': 'Bad Lady',\n",
       "  'Artist': 'Rainie Yang 楊丞琳',\n",
       "  'Understandability': 57,\n",
       "  'Importance': 48,\n",
       "  'Score': -9,\n",
       "  'New Words': ['皮囊'],\n",
       "  'Link': 'https://lyricspinyin.com/2020/09/11/bad-lady-by-rainie-yang-%e6%a5%8a%e4%b8%9e%e7%90%b3-pinyin-lyrics/'},\n",
       " {'Title': 'Xiang Shi Yi Ke Xing Xing 像是一顆星星',\n",
       "  'Artist': 'Rainie Yang 楊丞琳',\n",
       "  'Understandability': 65,\n",
       "  'Importance': 59,\n",
       "  'Score': -6,\n",
       "  'New Words': ['跌倒'],\n",
       "  'Link': 'https://lyricspinyin.com/2020/08/18/xiang-shi-yi-ke-xing-xing-%e5%83%8f%e6%98%af%e4%b8%80%e9%a1%86%e6%98%9f%e6%98%9f-by-rainie-yang-%e6%a5%8a%e4%b8%9e%e7%90%b3-pinyin-lyrics-and-english-translation/'},\n",
       " {'Title': 'Lian Kong 臉孔',\n",
       "  'Artist': 'Rainie Yang 楊丞琳',\n",
       "  'Understandability': 49,\n",
       "  'Importance': 46,\n",
       "  'Score': -3,\n",
       "  'New Words': ['凋零',\n",
       "   '千疮百孔',\n",
       "   '註',\n",
       "   '煽动',\n",
       "   '纹理',\n",
       "   '抚平',\n",
       "   '掌心',\n",
       "   '缝成',\n",
       "   '不灭',\n",
       "   '埋藏',\n",
       "   '脸孔'],\n",
       "  'Link': 'https://lyricspinyin.com/2020/06/06/lian-kong-%e8%87%89%e5%ad%94-by-rainie-yang-%e6%a5%8a%e4%b8%9e%e7%90%b3-pinyin-lyrics-and-english-translation/'},\n",
       " {'Title': 'Yu Ai 雨愛',\n",
       "  'Artist': 'Rainie Yang 楊丞琳',\n",
       "  'Understandability': 52,\n",
       "  'Importance': 48,\n",
       "  'Score': -4,\n",
       "  'New Words': ['不忍', '屋内', '泪流', '唿吸', '唿', '湿气', '揭晓', '窒息'],\n",
       "  'Link': 'https://lyricspinyin.com/2020/05/06/yu-ai-%e9%9b%a8%e6%84%9b-by-rainie-yang-%e6%a5%8a%e4%b8%9e%e7%90%b3-pinyin-lyrics-and-english-translation/'},\n",
       " {'Title': 'Qing Chun Zhu Le Shui 青春住了誰',\n",
       "  'Artist': 'Rainie Yang 楊丞琳',\n",
       "  'Understandability': 59,\n",
       "  'Importance': 57,\n",
       "  'Score': -2,\n",
       "  'New Words': ['湍急', '毁坏', '船帆', '河川', '缅怀', '乘载', '彿', '孤单', '雏鸟'],\n",
       "  'Link': 'https://lyricspinyin.com/2020/02/26/qing-chun-zhu-le-shui-%e9%9d%92%e6%98%a5%e4%bd%8f%e4%ba%86%e8%aa%b0-by-rainie-yang-%e6%a5%8a%e4%b8%9e%e7%90%b3-pinyin-lyrics-and-english-translation/'},\n",
       " {'Title': 'Ni Tu 泥土',\n",
       "  'Artist': 'Rainie Yang 楊丞琳',\n",
       "  'Understandability': 58,\n",
       "  'Importance': 52,\n",
       "  'Score': -6,\n",
       "  'New Words': ['泥土', '牵着', '反覆', '唿吸', '紧握', '小苗', '静止'],\n",
       "  'Link': 'https://lyricspinyin.com/2020/02/19/ni-tu-%e6%b3%a5%e5%9c%9f-by-rainie-yang-%e6%a5%8a%e4%b8%9e%e7%90%b3-pinyin-lyrics-and-english-translation/'},\n",
       " {'Title': 'Lan Ai 煉愛',\n",
       "  'Artist': 'Rainie Yang 楊丞琳',\n",
       "  'Understandability': 56,\n",
       "  'Importance': 55,\n",
       "  'Score': -1,\n",
       "  'New Words': ['腐化', '昇', '投下', '哀艳', '蠢蠢欲动', '杀敌', '佳话', '声嘶力竭', '战帖', '萃取'],\n",
       "  'Link': 'https://lyricspinyin.com/2020/01/09/lan-ai-%e7%85%89%e6%84%9b-by-rainie-yang-%e6%a5%8a%e4%b8%9e%e7%90%b3-pinyin-lyrics-and-english-translation/'},\n",
       " {'Title': 'Love is Love',\n",
       "  'Artist': 'Rainie Yang 楊丞琳',\n",
       "  'Understandability': 52,\n",
       "  'Importance': 45,\n",
       "  'Score': -7,\n",
       "  'New Words': ['无法自拔', '嗜好', '唇彩', '狠狠', '毒好'],\n",
       "  'Link': 'https://lyricspinyin.com/2019/12/06/love-is-love-by-rainie-yang-%e6%a5%8a%e4%b8%9e%e7%90%b3-pinyin-lyrics-and-english-translation/'},\n",
       " {'Title': 'Luo Mu Ren 落幕人',\n",
       "  'Artist': 'Ren Ran 任然',\n",
       "  'Understandability': 55,\n",
       "  'Importance': 54,\n",
       "  'Score': -1,\n",
       "  'New Words': ['颓废', '轰鸣', '掌声', '落幕', '黯淡', '放肆', '癒', '事与愿违'],\n",
       "  'Link': 'https://lyricspinyin.com/2020/10/19/luo-mu-ren-%e8%90%bd%e5%b9%95%e4%ba%ba-by-ren-ran-%e4%bb%bb%e7%84%b6-pinyin-lyrics-and-english-translation/'},\n",
       " {'Title': 'Diao Zuan 刁鑽',\n",
       "  'Artist': 'Ren Ran 任然',\n",
       "  'Understandability': 55,\n",
       "  'Importance': 50,\n",
       "  'Score': -5,\n",
       "  'New Words': ['苟且偷安', '奢望', '滥情', '触景', '惯犯', '破绽', '刁钻', '惶惶不安', '一盏'],\n",
       "  'Link': 'https://lyricspinyin.com/2020/10/13/diao-zuan-%e5%88%81%e9%91%bd-by-ren-ran-%e4%bb%bb%e7%84%b6-pinyin-lyrics-and-english-translation/'},\n",
       " {'Title': 'Yi Bu Zhi Yao 一步之遙',\n",
       "  'Artist': 'Ren Ran 任然',\n",
       "  'Understandability': 40,\n",
       "  'Importance': 37,\n",
       "  'Score': -3,\n",
       "  'New Words': ['玩伴',\n",
       "   '青丝',\n",
       "   '难言',\n",
       "   '幻幻',\n",
       "   '採访',\n",
       "   '旅途',\n",
       "   '算一卦',\n",
       "   '轻褛',\n",
       "   '丝丝',\n",
       "   '不染一尘',\n",
       "   '侃侃',\n",
       "   '贪',\n",
       "   '弯弯',\n",
       "   '纤',\n",
       "   '命数',\n",
       "   '秉烛',\n",
       "   '蜉蝣',\n",
       "   '巨山',\n",
       "   '年华',\n",
       "   '坎坎',\n",
       "   '堪堪',\n",
       "   '参透',\n",
       "   '蔓蔓',\n",
       "   '俯瞰',\n",
       "   '餵',\n",
       "   '被遗弃',\n",
       "   '禅',\n",
       "   '再多赏',\n",
       "   '解惑',\n",
       "   '这刹',\n",
       "   '迷宫',\n",
       "   '浮世',\n",
       "   '老伴',\n",
       "   '贪吃蛇',\n",
       "   '一盏'],\n",
       "  'Link': 'https://lyricspinyin.com/2020/10/12/yi-bu-zhi-yao-%e4%b8%80%e6%ad%a5%e4%b9%8b%e9%81%99-by-ren-ran-%e4%bb%bb%e7%84%b6-pinyin-lyrics-and-english-translation/'},\n",
       " {'Title': 'Yi Xin Bing 疑心病',\n",
       "  'Artist': 'Ren Ran 任然',\n",
       "  'Understandability': 61,\n",
       "  'Importance': 56,\n",
       "  'Score': -5,\n",
       "  'New Words': ['怪异', '余温', '额头'],\n",
       "  'Link': 'https://lyricspinyin.com/2020/10/11/yi-xin-bing-%e7%96%91%e5%bf%83%e7%97%85-by-ren-ran-%e4%bb%bb%e7%84%b6-pinyin-lyrics-and-english-translation/'},\n",
       " {'Title': 'Zhu Sha 硃砂',\n",
       "  'Artist': 'Ren Ran 任然 & Xun 易碩成',\n",
       "  'Understandability': 29,\n",
       "  'Importance': 24,\n",
       "  'Score': -5,\n",
       "  'New Words': ['眉黛',\n",
       "   '红尘',\n",
       "   '无瑕',\n",
       "   '朱砂',\n",
       "   '蝶恋花',\n",
       "   '厮守',\n",
       "   '篱笆',\n",
       "   '唯恋',\n",
       "   '喑哑',\n",
       "   '绝代',\n",
       "   '廊檐',\n",
       "   '一抹',\n",
       "   '蓬莱',\n",
       "   '铅华',\n",
       "   '烛花',\n",
       "   '结庐',\n",
       "   '绣花',\n",
       "   '贪',\n",
       "   '剪下',\n",
       "   '天涯',\n",
       "   '皓月',\n",
       "   '恣意',\n",
       "   '紫砂',\n",
       "   '偏安',\n",
       "   '浮华',\n",
       "   '年华',\n",
       "   '尘世间',\n",
       "   '抚琴',\n",
       "   '发梳',\n",
       "   '携',\n",
       "   '人归家',\n",
       "   '牵挂',\n",
       "   '无涯',\n",
       "   '岂怕',\n",
       "   '刀剑',\n",
       "   '江山如画',\n",
       "   '倾踏',\n",
       "   '水云间',\n",
       "   '两鬓',\n",
       "   '芳华',\n",
       "   '风华',\n",
       "   '古道',\n",
       "   '掠尽',\n",
       "   '执子',\n",
       "   '岂管',\n",
       "   '风雅'],\n",
       "  'Link': 'https://lyricspinyin.com/2020/09/24/zhu-sha-%e7%a1%83%e7%a0%82-by-ren-ran-%e4%bb%bb%e7%84%b6-xun-%e6%98%93%e7%a2%a9%e6%88%90-pinyin-lyrics/'},\n",
       " {'Title': 'Fang Ren Huang Liang 放任荒涼',\n",
       "  'Artist': 'Ren Ran 任然',\n",
       "  'Understandability': 58,\n",
       "  'Importance': 52,\n",
       "  'Score': -6,\n",
       "  'New Words': ['枯黄', '坠落', '消融', '每一秒', '飞蛾扑火'],\n",
       "  'Link': 'https://lyricspinyin.com/2020/09/04/fang-ren-huang-liang-%e6%94%be%e4%bb%bb%e8%8d%92%e6%b6%bc-by-ren-ran-%e4%bb%bb%e7%84%b6-pinyin-lyrics-and-english-translation/'},\n",
       " {'Title': 'Suo Zai Lun Hui 鎖在輪回',\n",
       "  'Artist': 'Ren Ran 任然',\n",
       "  'Understandability': 36,\n",
       "  'Importance': 34,\n",
       "  'Score': -2,\n",
       "  'New Words': ['阵云',\n",
       "   '孤鸟',\n",
       "   '青苔',\n",
       "   '枯叶',\n",
       "   '註',\n",
       "   '拨不开',\n",
       "   '浊酒',\n",
       "   '败羽羽',\n",
       "   '寐',\n",
       "   '陈年',\n",
       "   '辗转',\n",
       "   '倦夜',\n",
       "   '翼翼',\n",
       "   '盼不来',\n",
       "   '陌路',\n",
       "   '寻不回',\n",
       "   '自诩',\n",
       "   '聚散',\n",
       "   '弦音',\n",
       "   '轮回',\n",
       "   '徊'],\n",
       "  'Link': 'https://lyricspinyin.com/2020/09/02/suo-zai-lun-hui-%e9%8e%96%e5%9c%a8%e8%bc%aa%e5%9b%9e-by-ren-ran-%e4%bb%bb%e7%84%b6-pinyin-lyrics/'},\n",
       " {'Title': 'Kong Que 孔雀',\n",
       "  'Artist': 'Ren Ran 任然',\n",
       "  'Understandability': 52,\n",
       "  'Importance': 48,\n",
       "  'Score': -4,\n",
       "  'New Words': ['麻雀',\n",
       "   '趴着',\n",
       "   '称谓',\n",
       "   '谜',\n",
       "   '目眩',\n",
       "   '配对',\n",
       "   '游刃',\n",
       "   '尾羽',\n",
       "   '同类',\n",
       "   '孔雀',\n",
       "   '神迷',\n",
       "   '翡翠',\n",
       "   '别出心裁',\n",
       "   '隔绝'],\n",
       "  'Link': 'https://lyricspinyin.com/2020/08/10/kong-que-%e5%ad%94%e9%9b%80-by-ren-ran-%e4%bb%bb%e7%84%b6-pinyin-lyrics/'},\n",
       " {'Title': 'You Ke Neng De Ye Wan 有可能的夜晚',\n",
       "  'Artist': 'Ren Ran 任然',\n",
       "  'Understandability': 61,\n",
       "  'Importance': 56,\n",
       "  'Score': -5,\n",
       "  'New Words': ['眉头', '言语', '无限', '胜有声'],\n",
       "  'Link': 'https://lyricspinyin.com/2020/07/14/you-ke-neng-de-ye-wan-%e6%9c%89%e5%8f%af%e8%83%bd%e7%9a%84%e5%a4%9c%e6%99%9a-by-ren-ran-%e4%bb%bb%e7%84%b6-pinyin-lyrics-and-english-translation/'},\n",
       " {'Title': 'Fei Niao He Chan 飛鳥和蟬',\n",
       "  'Artist': 'Ren Ran 任然',\n",
       "  'Understandability': 46,\n",
       "  'Importance': 44,\n",
       "  'Score': -2,\n",
       "  'New Words': ['沧海', '羽化', '鸣唱', '初恋', '栖息', '青涩', '未', '北纬'],\n",
       "  'Link': 'https://lyricspinyin.com/2020/07/13/fei-niao-he-chan-%e9%a3%9b%e9%b3%a5%e5%92%8c%e8%9f%ac-by-ren-ran-%e4%bb%bb%e7%84%b6-pinyin-lyrics-and-english-translation/'},\n",
       " {'Title': 'Bu Ying Ye De Ri Chang 不營業的日常',\n",
       "  'Artist': 'Rene 劉若英',\n",
       "  'Understandability': 64,\n",
       "  'Importance': 59,\n",
       "  'Score': -5,\n",
       "  'New Words': ['一幕', '一秒', '极致', '订好', '唿', '排版'],\n",
       "  'Link': 'https://lyricspinyin.com/2020/08/23/bu-ying-ye-de-ri-chang-%e4%b8%8d%e7%87%9f%e6%a5%ad%e7%9a%84%e6%97%a5%e5%b8%b8-by-rene-%e5%8a%89%e8%8b%a5%e8%8b%b1-pinyin-lyrics-and-english-translation/'},\n",
       " {'Title': 'Cheng Quan 成全',\n",
       "  'Artist': 'Rene 劉若英',\n",
       "  'Understandability': 57,\n",
       "  'Importance': 54,\n",
       "  'Score': -3,\n",
       "  'New Words': ['蜜语', '海誓山盟', '碧海', '妳', '甜言'],\n",
       "  'Link': 'https://lyricspinyin.com/2020/05/03/cheng-quan-%e6%88%90%e5%85%a8-by-rene-%e5%8a%89%e8%8b%a5%e8%8b%b1-pinyin-lyrics-and-english-translation/'},\n",
       " {'Title': 'Kuai Le Tian Tang 快樂天堂',\n",
       "  'Artist': 'Rene 劉若英',\n",
       "  'Understandability': 59,\n",
       "  'Importance': 57,\n",
       "  'Score': -2,\n",
       "  'New Words': ['孔雀', '老鹰', '碧丽', '牠', '吞掉', '扰攘'],\n",
       "  'Link': 'https://lyricspinyin.com/2020/04/26/kuai-le-tian-tang-%e5%bf%ab%e6%a8%82%e5%a4%a9%e5%a0%82-by-rene-%e5%8a%89%e8%8b%a5%e8%8b%b1-pinyin-lyrics-and-english-translation/'},\n",
       " {'Title': 'Ma Ma 媽媽',\n",
       "  'Artist': 'Rene Liu 劉若英',\n",
       "  'Understandability': 54,\n",
       "  'Importance': 49,\n",
       "  'Score': -5,\n",
       "  'New Words': ['岂',\n",
       "   '绿意盎然',\n",
       "   '妳',\n",
       "   '初生',\n",
       "   '下盪',\n",
       "   '干枯',\n",
       "   '夕阳余晖',\n",
       "   '繁星',\n",
       "   '梦乡',\n",
       "   '孤身',\n",
       "   '彿',\n",
       "   '流淌',\n",
       "   '再触'],\n",
       "  'Link': 'https://lyricspinyin.com/2020/04/21/ma-ma-%e5%aa%bd%e5%aa%bd-by-rene-liu-%e5%8a%89%e8%8b%a5%e8%8b%b1-pinyin-lyrics-and-english-translation/'},\n",
       " {'Title': 'Fan Fan Fu Fu 反反覆覆',\n",
       "  'Artist': 'Rennie Wang 王笠人',\n",
       "  'Understandability': 57,\n",
       "  'Importance': 54,\n",
       "  'Score': -3,\n",
       "  'New Words': ['无形中', '佔据分', '心绞痛', '捉摸不定', '反覆', '狠狠'],\n",
       "  'Link': 'https://lyricspinyin.com/2020/04/06/fan-fan-fu-fu-%e5%8f%8d%e5%8f%8d%e8%a6%86%e8%a6%86-by-rennie-wang-%e7%8e%8b%e7%ac%a0%e4%ba%ba-pinyin-lyrics-and-english-translation/'},\n",
       " {'Title': 'Yi Shou Nuan Nuan De 一首暖暖的',\n",
       "  'Artist': 'Reyi 劉人語',\n",
       "  'Understandability': 48,\n",
       "  'Importance': 45,\n",
       "  'Score': -3,\n",
       "  'New Words': ['就握', '看透', '抚', '涟漪', '泛起', '闭上'],\n",
       "  'Link': 'https://lyricspinyin.com/2020/06/02/yi-shou-nuan-nuan-de-%e4%b8%80%e9%a6%96%e6%9a%96%e6%9a%96%e7%9a%84-by-reyi-%e5%8a%89%e4%ba%ba%e8%aa%9e-pinyin-lyrics-and-english-translation/'},\n",
       " {'Title': 'Yi Jing Jie Shu De 已經結束的',\n",
       "  'Artist': 'RuoFan 張若凡',\n",
       "  'Understandability': 57,\n",
       "  'Importance': 52,\n",
       "  'Score': -5,\n",
       "  'New Words': ['淋雨', '煳', '续集', '泪痕', '并肩', '虚度', '流逝'],\n",
       "  'Link': 'https://lyricspinyin.com/2020/01/05/yi-jing-jie-shu-de-%e5%b7%b2%e7%b6%93%e7%b5%90%e6%9d%9f%e7%9a%84-by-ruofan-%e5%bc%b5%e8%8b%a5%e5%87%a1-pinyin-lyrics-and-english-translation/'},\n",
       " {'Title': 'Ru He Wang Ji Ni如何忘記你',\n",
       "  'Artist': 'Ruo Fan Chang 張若凡',\n",
       "  'Understandability': 60,\n",
       "  'Importance': 56,\n",
       "  'Score': -4,\n",
       "  'New Words': ['眼泪', '弧线', '并肩', '仰望'],\n",
       "  'Link': 'https://lyricspinyin.com/2019/10/15/ru-he-wang-ji-ni%e5%a6%82%e4%bd%95%e5%bf%98%e8%a8%98%e4%bd%a0-by-ruo-fan-chang-%e5%bc%b5%e8%8b%a5%e5%87%a1-pinyin-lyrics-and-english-translation/'},\n",
       " {'Title': 'Ke La Fu La De Ji Mo 克拉夫拉的寂寞',\n",
       "  'Artist': 'Ruth Kueo 魏妙如',\n",
       "  'Understandability': 61,\n",
       "  'Importance': 58,\n",
       "  'Score': -3,\n",
       "  'New Words': ['耕耘', '一丝', '沈默', '蛹', '沙洲'],\n",
       "  'Link': 'https://lyricspinyin.com/2020/06/19/ke-la-fu-la-de-ji-mo-%e5%85%8b%e6%8b%89%e5%a4%ab%e6%8b%89%e7%9a%84%e5%af%82%e5%af%9e-by-ruth-kueo-%e9%ad%8f%e5%a6%99%e5%a6%82-pinyin-lyrics-and-english-translation/'},\n",
       " {'Title': 'Dang Yi Ke Xing Zhui Luo 當一顆星墜落',\n",
       "  'Artist': 'Ruth Kueo 魏妙如',\n",
       "  'Understandability': 69,\n",
       "  'Importance': 62,\n",
       "  'Score': -7,\n",
       "  'New Words': ['坠落', '抹灭'],\n",
       "  'Link': 'https://lyricspinyin.com/2020/05/27/dang-yi-ke-xing-zhui-luo-%e7%95%b6%e4%b8%80%e9%a1%86%e6%98%9f%e5%a2%9c%e8%90%bd-by-ruth-kueo-%e9%ad%8f%e5%a6%99%e5%a6%82-pinyin-lyrics-and-english-translation/'},\n",
       " {'Title': 'Shi Jian Jiao Hui Wo Men De Shi 時間教會我們的事',\n",
       "  'Artist': 'Ruth Kueo 魏妙如',\n",
       "  'Understandability': 52,\n",
       "  'Importance': 51,\n",
       "  'Score': -1,\n",
       "  'New Words': ['闯荡',\n",
       "   '巧遇',\n",
       "   '迷惘',\n",
       "   '无畏',\n",
       "   '凝视着',\n",
       "   '完美无瑕',\n",
       "   '狂妄',\n",
       "   '暗恋',\n",
       "   '微醺',\n",
       "   '青涩',\n",
       "   '几丝'],\n",
       "  'Link': 'https://lyricspinyin.com/2020/05/06/shi-jian-jiao-hui-wo-men-de-shi-%e6%99%82%e9%96%93%e6%95%99%e6%9c%83%e6%88%91%e5%80%91%e7%9a%84%e4%ba%8b-by-ruth-kueo-%e9%ad%8f%e5%a6%99%e5%a6%82-pinyin-lyrics-and-english-translation/'},\n",
       " {'Title': 'Dang Yu Jian Ni 當遇見你',\n",
       "  'Artist': 'Sa Dingding 薩頂頂',\n",
       "  'Understandability': 55,\n",
       "  'Importance': 54,\n",
       "  'Score': -1,\n",
       "  'New Words': ['註',\n",
       "   '触电',\n",
       "   '一秒',\n",
       "   '微甜',\n",
       "   '水蜜桃',\n",
       "   '绽放',\n",
       "   '唿吸',\n",
       "   '蜜',\n",
       "   '微风',\n",
       "   '命中',\n",
       "   '握紧'],\n",
       "  'Link': 'https://lyricspinyin.com/2020/03/25/dang-yu-jian-ni-%e7%95%b6%e9%81%87%e8%a6%8b%e4%bd%a0-by-sa-dingding-%e8%96%a9%e9%a0%82%e9%a0%82-pinyin-lyrics-and-english-translation/'},\n",
       " {'Title': 'Zuo Shou Zhi Yue 左手指月',\n",
       "  'Artist': 'Sa Ding Ding 薩頂頂',\n",
       "  'Understandability': 43,\n",
       "  'Importance': 38,\n",
       "  'Score': -5,\n",
       "  'New Words': ['拈着',\n",
       "   '眉间',\n",
       "   '红莲',\n",
       "   '尘世',\n",
       "   '微尘',\n",
       "   '一炷香',\n",
       "   '莫',\n",
       "   '赐予',\n",
       "   '裂出',\n",
       "   '摆渡',\n",
       "   '忘川',\n",
       "   '合掌',\n",
       "   '鳞片',\n",
       "   '一粒',\n",
       "   '手握着',\n",
       "   '浮现',\n",
       "   '云上',\n",
       "   '舟楫',\n",
       "   '掌纹'],\n",
       "  'Link': 'https://lyricspinyin.com/2020/02/16/zuo-shou-zhi-yue-%e5%b7%a6%e6%89%8b%e6%8c%87%e6%9c%88-by-sa-ding-ding-%e8%96%a9%e9%a0%82%e9%a0%82-pinyin-lyrics/'},\n",
       " {'Title': 'Wo Men 我們',\n",
       "  'Artist': 'Sammy 張語噥',\n",
       "  'Understandability': 59,\n",
       "  'Importance': 53,\n",
       "  'Score': -6,\n",
       "  'New Words': ['手勾', '烙印', '揹', '锅碗瓢盆', '孤单', '恋人'],\n",
       "  'Link': 'https://lyricspinyin.com/2020/09/25/wo-men-%e6%88%91%e5%80%91-by-sammy-%e5%bc%b5%e8%aa%9e%e5%99%a5-pinyin-lyrics-and-english-translation/'},\n",
       " {'Title': 'Se Cai 色彩',\n",
       "  'Artist': 'Sammy 張語噥',\n",
       "  'Understandability': 55,\n",
       "  'Importance': 54,\n",
       "  'Score': -1,\n",
       "  'New Words': ['抛开', '省判', '无限', '奉陪', '浮躁', '涂鸦', '隔绝'],\n",
       "  'Link': 'https://lyricspinyin.com/2020/08/04/se-cai-%e8%89%b2%e5%bd%a9-by-sammy-%e5%bc%b5%e8%aa%9e%e5%99%a5-pinyin-lyrics-and-english-translation/'},\n",
       " {'Title': 'Jie Zou 節奏',\n",
       "  'Artist': 'Sammy 張語噥',\n",
       "  'Understandability': 56,\n",
       "  'Importance': 56,\n",
       "  'Score': 0,\n",
       "  'New Words': ['随波逐流', '鍊', '秒针', '喷香', '受控'],\n",
       "  'Link': 'https://lyricspinyin.com/2020/06/09/jie-zou-%e7%af%80%e5%a5%8f-by-sammy-%e5%bc%b5%e8%aa%9e%e5%99%a5-pinyin-lyrics-and-english-translation/'},\n",
       " {'Title': 'Bu Zai Hu 不在乎',\n",
       "  'Artist': 'Sammy 張語噥',\n",
       "  'Understandability': 63,\n",
       "  'Importance': 58,\n",
       "  'Score': -5,\n",
       "  'New Words': ['剪断', '行踪', '光源', '瘾'],\n",
       "  'Link': 'https://lyricspinyin.com/2020/05/23/bu-zai-hu-%e4%b8%8d%e5%9c%a8%e4%b9%8e-by-sammy-%e5%bc%b5%e8%aa%9e%e5%99%a5-pinyin-lyrics-and-english-translation/'},\n",
       " {'Title': 'No more',\n",
       "  'Artist': 'Sammy 張語噥',\n",
       "  'Understandability': 68,\n",
       "  'Importance': 64,\n",
       "  'Score': -4,\n",
       "  'New Words': ['抛开', '般配'],\n",
       "  'Link': 'https://lyricspinyin.com/2020/05/09/no-more-by-sammy-%e5%bc%b5%e8%aa%9e%e5%99%a5-pinyin-lyrics-and-english-translation/'},\n",
       " {'Title': 'Yuan Zou Gao Fei 遠走高飛',\n",
       "  'Artist': 'Sandy Lam 林憶蓮',\n",
       "  'Understandability': 61,\n",
       "  'Importance': 59,\n",
       "  'Score': -2,\n",
       "  'New Words': ['一扇', '一盏灯'],\n",
       "  'Link': 'https://lyricspinyin.com/2019/12/21/yuan-zou-gao-fei-%e9%81%a0%e8%b5%b0%e9%ab%98%e9%a3%9b-by-sandy-lam-%e6%9e%97%e6%86%b6%e8%93%ae-pinyin-lyrics-and-english-translation/'},\n",
       " {'Title': 'Liao Biao Xin Yi 聊表心意',\n",
       "  'Artist': '薛之謙 feat. 劉惜君',\n",
       "  'Understandability': 60,\n",
       "  'Importance': 59,\n",
       "  'Score': -1,\n",
       "  'New Words': ['耸起', '一览无遗'],\n",
       "  'Link': 'https://lyricspinyin.com/2019/12/29/liao-biao-xin-yi-%e8%81%8a%e8%a1%a8%e5%bf%83%e6%84%8f-by-%e8%96%9b%e4%b9%8b%e8%ac%99-feat-%e5%8a%89%e6%83%9c%e5%90%9b-pinyin-lyrics-and-english-translation/'},\n",
       " {'Title': 'Si Ji 四季',\n",
       "  'Artist': 'Selina Ren 任家萱',\n",
       "  'Understandability': 53,\n",
       "  'Importance': 52,\n",
       "  'Score': -1,\n",
       "  'New Words': ['抚平', '巷中', '透气', '一朝一夕', '精灵', '拖鞋', '皱折', '烈日当空', '顽皮'],\n",
       "  'Link': 'https://lyricspinyin.com/2020/10/11/si-ji-%e5%9b%9b%e5%ad%a3-by-selina-ren-%e4%bb%bb%e5%ae%b6%e8%90%b1-pinyin-lyrics-and-english-translation/'},\n",
       " {'Title': 'Ceng Jing Tai Nian Qing 曾經太年輕',\n",
       "  'Artist': 'Shadya Lan 藍又時',\n",
       "  'Understandability': 58,\n",
       "  'Importance': 57,\n",
       "  'Score': -1,\n",
       "  'New Words': ['宿命', '封信', '恋人', '聆听'],\n",
       "  'Link': 'https://lyricspinyin.com/2020/02/10/ceng-jing-tai-nian-qing-%e6%9b%be%e7%b6%93%e5%a4%aa%e5%b9%b4%e8%bc%95-by-shadya-lan-%e8%97%8d%e5%8f%88%e6%99%82-pinyin-lyrics-and-english-translation/'},\n",
       " {'Title': 'Tao Tai 淘汰',\n",
       "  'Artist': 'Shang Guan Xi Ai 上官喜愛',\n",
       "  'Understandability': 56,\n",
       "  'Importance': 55,\n",
       "  'Score': -1,\n",
       "  'New Words': ['押韵', '皱褶', '歌之王', '收尾'],\n",
       "  'Link': 'https://lyricspinyin.com/2020/06/29/tao-tai-%e6%b7%98%e6%b1%b0-by-shang-guan-xi-ai-%e4%b8%8a%e5%ae%98%e5%96%9c%e6%84%9b-pinyin-lyrics-and-english-translation/'},\n",
       " {'Title': 'Bie Zai Wen Wo Zen Me Ban 別再問我怎麼辦',\n",
       "  'Artist': 'Sharon Kwan 關詩敏',\n",
       "  'Understandability': 62,\n",
       "  'Importance': 58,\n",
       "  'Score': -4,\n",
       "  'New Words': ['奉献给', '强悍', '悲情', '柔软', '糗', '滥情', '洁癖', '好聚好散'],\n",
       "  'Link': 'https://lyricspinyin.com/2020/08/08/bie-zai-wen-wo-zen-me-ban-%e5%88%a5%e5%86%8d%e5%95%8f%e6%88%91%e6%80%8e%e9%ba%bc%e8%be%a6-by-sharon-kwan-%e9%97%9c%e8%a9%a9%e6%95%8f-pinyin-lyrics-and-english-translation/'},\n",
       " {'Title': 'Mei Li De Wo Bu Peng Jiu Shi Le 美麗的 我不碰就是了',\n",
       "  'Artist': 'Sharon Kwan 關詩敏',\n",
       "  'Understandability': 68,\n",
       "  'Importance': 64,\n",
       "  'Score': -4,\n",
       "  'New Words': ['短痛算', '默契'],\n",
       "  'Link': 'https://lyricspinyin.com/2020/07/06/mei-li-de-wo-bu-peng-jiu-shi-le-%e7%be%8e%e9%ba%97%e7%9a%84-%e6%88%91%e4%b8%8d%e7%a2%b0%e5%b0%b1%e6%98%af%e4%ba%86-by-sharon-kwan-%e9%97%9c%e8%a9%a9%e6%95%8f-pinyin-lyrics-and-english-translation/'},\n",
       " {'Title': 'Bie Nong Hua Wo De Zhuang 別弄花我的妝',\n",
       "  'Artist': 'Sharon Kwan 關詩敏 feat. Karencici',\n",
       "  'Understandability': 59,\n",
       "  'Importance': 52,\n",
       "  'Score': -7,\n",
       "  'New Words': ['轮不到', '伤疤', '刺青', '白马王子', '战利品', '何妨', '出击', '眼泪', '盛事'],\n",
       "  'Link': 'https://lyricspinyin.com/2020/06/17/bie-nong-hua-wo-de-zhuang-%e5%88%a5%e5%bc%84%e8%8a%b1%e6%88%91%e7%9a%84%e5%a6%9d-by-sharon-kwan-%e9%97%9c%e8%a9%a9%e6%95%8f-feat-karencici-pinyin-lyrics-and-english-translation/'},\n",
       " {'Title': 'Wo Hao Xi Huan Ni 我好喜歡你',\n",
       "  'Artist': 'Jerry Yan 言承旭 & Shen Yue 沈月',\n",
       "  'Understandability': 56,\n",
       "  'Importance': 52,\n",
       "  'Score': -4,\n",
       "  'New Words': ['推向', '指尖', '微光', '肩', '小鹿', '唿吸', '佔据', '勾'],\n",
       "  'Link': 'https://lyricspinyin.com/2020/08/05/wo-hao-xi-huan-ni-%e6%88%91%e5%a5%bd%e5%96%9c%e6%ad%a1%e4%bd%a0-by-jerry-yan-%e8%a8%80%e6%89%bf%e6%97%ad-shen-yue-%e6%b2%88%e6%9c%88-pinyin-lyrics-and-english-translation/'},\n",
       " {'Title': 'Be Alright',\n",
       "  'Artist': 'Shennio Lin 林芯儀',\n",
       "  'Understandability': 51,\n",
       "  'Importance': 50,\n",
       "  'Score': -1,\n",
       "  'New Words': ['抛开', '拖鞋', '全村人', '与生俱来', '钻', '雀跃', '吉他'],\n",
       "  'Link': 'https://lyricspinyin.com/2020/05/01/be-alright-by-shennio-lin-%e6%9e%97%e8%8a%af%e5%84%80-pinyin-lyrics-and-english-translation/'},\n",
       " {'Title': 'Lan 藍',\n",
       "  'Artist': 'Shi Bai Qi 石白其',\n",
       "  'Understandability': 59,\n",
       "  'Importance': 52,\n",
       "  'Score': -7,\n",
       "  'New Words': ['让模', '隐隐作痛', '遥不可及', '翻涌', '煳', '淋过'],\n",
       "  'Link': 'https://lyricspinyin.com/2020/03/05/lan-%e8%97%8d-by-shi-bai-qi-%e7%9f%b3%e7%99%bd%e5%85%b6-pinyin-lyrics-and-english-translation/'},\n",
       " {'Title': 'Zhe Jiu Shi Ai Ma 這就是愛嗎',\n",
       "  'Artist': 'Shi Dou San 十豆彡',\n",
       "  'Understandability': 55,\n",
       "  'Importance': 50,\n",
       "  'Score': -5,\n",
       "  'New Words': ['猜不透', '眺望', '手牵着', '已泪'],\n",
       "  'Link': 'https://lyricspinyin.com/2020/01/20/zhe-jiu-shi-ai-ma-%e9%80%99%e5%b0%b1%e6%98%af%e6%84%9b%e5%97%8e-by-shi-dou-san-%e5%8d%81%e8%b1%86%e5%bd%a1-pinyin-lyrics-and-english-translation/'},\n",
       " {'Title': 'Shao Yi Dian Tian Fen 少一點天份',\n",
       "  'Artist': 'Shi Shi 孫盛希',\n",
       "  'Understandability': 56,\n",
       "  'Importance': 50,\n",
       "  'Score': -6,\n",
       "  'New Words': ['跌跌撞撞', '眼泪', '陪伴着', '缘份', '癒', '耗尽', '晓得', '孤单'],\n",
       "  'Link': 'https://lyricspinyin.com/2020/06/15/shao-yi-dian-tian-fen-%e5%b0%91%e4%b8%80%e9%bb%9e%e5%a4%a9%e4%bb%bd-by-shi-shi-%e5%ad%ab%e7%9b%9b%e5%b8%8c-pinyin-lyrics-and-english-translation/'},\n",
       " {'Title': 'Ai 曖',\n",
       "  'Artist': 'Shi Shi 孫盛希',\n",
       "  'Understandability': 60,\n",
       "  'Importance': 56,\n",
       "  'Score': -4,\n",
       "  'New Words': ['合乎逻辑', '隐隐约约', '妳', '神情', '欲擒故纵', '诱引', '柔柔的'],\n",
       "  'Link': 'https://lyricspinyin.com/2020/02/25/ai-%e6%9b%96-by-shi-shi-%e5%ad%ab%e7%9b%9b%e5%b8%8c-pinyin-lyrics/'},\n",
       " {'Title': 'Heng Wen 恆溫',\n",
       "  'Artist': 'Shi Shi 孫盛希',\n",
       "  'Understandability': 59,\n",
       "  'Importance': 58,\n",
       "  'Score': -1,\n",
       "  'New Words': ['原地踏步', '荒芜', '泪恆温', '懦弱', '唿吸', '呵护', '恆温'],\n",
       "  'Link': 'https://lyricspinyin.com/2020/02/16/heng-wen-%e6%81%86%e6%ba%ab-by-shi-shi-%e5%ad%ab%e7%9b%9b%e5%b8%8c-pinyin-lyrics-and-english-translation/'},\n",
       " {'Title': 'Tao 逃',\n",
       "  'Artist': 'Shi Shi 孫盛希',\n",
       "  'Understandability': 63,\n",
       "  'Importance': 54,\n",
       "  'Score': -9,\n",
       "  'New Words': ['陪伴着', '唿吸', '累赘'],\n",
       "  'Link': 'https://lyricspinyin.com/2020/02/12/tao-%e9%80%83-by-shi-shi-%e5%ad%ab%e7%9b%9b%e5%b8%8c-pinyin-lyrics-and-english-translation/'},\n",
       " {'Title': 'Let Me Fall',\n",
       "  'Artist': 'Shi Shi 孫盛希',\n",
       "  'Understandability': 70,\n",
       "  'Importance': 59,\n",
       "  'Score': -11,\n",
       "  'New Words': ['沈没', '能永恆'],\n",
       "  'Link': 'https://lyricspinyin.com/2019/10/16/let-me-fall-by-shi-shi-%e5%ad%ab%e7%9b%9b%e5%b8%8c-pinyin-lyrics-and-english-translation/'},\n",
       " {'Title': 'Qian Nian Zhi Lian 千年之戀',\n",
       "  'Artist': 'Shuang Sheng 雙笙',\n",
       "  'Understandability': 40,\n",
       "  'Importance': 37,\n",
       "  'Score': -3,\n",
       "  'New Words': ['明灭',\n",
       "   '送缘',\n",
       "   '註',\n",
       "   '愚勇',\n",
       "   '奔流',\n",
       "   '暗涌',\n",
       "   '照无眠',\n",
       "   '魂魄',\n",
       "   '婵娟',\n",
       "   '沦落',\n",
       "   '皓月',\n",
       "   '沉睡',\n",
       "   '山丘',\n",
       "   '共勉',\n",
       "   '云海',\n",
       "   '微风',\n",
       "   '涧',\n",
       "   '朱红',\n",
       "   '唇齿',\n",
       "   '悲悯',\n",
       "   '顽劣',\n",
       "   '不朽',\n",
       "   '伏线刻',\n",
       "   '愁动',\n",
       "   '情劫',\n",
       "   '一厢情愿'],\n",
       "  'Link': 'https://lyricspinyin.com/2020/08/12/qian-nian-zhi-lian-%e5%8d%83%e5%b9%b4%e4%b9%8b%e6%88%80-by-shuang-sheng-%e9%9b%99%e7%ac%99-pinyin-lyrics/'},\n",
       " {'Title': 'Nu Hai Ni Wei He Dian Jiao Jian 女孩你為何踮腳尖',\n",
       "  'Artist': 'Shuang Sheng 雙笙',\n",
       "  'Understandability': 45,\n",
       "  'Importance': 42,\n",
       "  'Score': -3,\n",
       "  'New Words': ['木马',\n",
       "   '推向',\n",
       "   '一丝',\n",
       "   '跷跷板',\n",
       "   '幕布',\n",
       "   '蹊跷',\n",
       "   '华灯',\n",
       "   '推开',\n",
       "   '脚尖',\n",
       "   '尖笑',\n",
       "   '英寸',\n",
       "   '踮',\n",
       "   '封印',\n",
       "   '善变',\n",
       "   '微启',\n",
       "   '精灵',\n",
       "   '闭上眼',\n",
       "   '滑稽',\n",
       "   '叹息',\n",
       "   '暮色',\n",
       "   '水晶球',\n",
       "   '迷宫',\n",
       "   '晦涩'],\n",
       "  'Link': 'https://lyricspinyin.com/2020/06/25/nu-hai-ni-wei-he-dian-jiao-jian-%e5%a5%b3%e5%ad%a9%e4%bd%a0%e7%82%ba%e4%bd%95%e8%b8%ae%e8%85%b3%e5%b0%96-by-shuang-sheng-%e9%9b%99%e7%ac%99-pinyin-lyrics-and-english-translation/'},\n",
       " {'Title': 'Chui Mie Xiao Shan He 吹滅小山河',\n",
       "  'Artist': 'Guo Feng Tang 國風堂 & Si Nan 司南',\n",
       "  'Understandability': 37,\n",
       "  'Importance': 34,\n",
       "  'Score': -3,\n",
       "  'New Words': ['眼馋',\n",
       "   '撒野',\n",
       "   '星斗',\n",
       "   '寡夕淡',\n",
       "   '苗乍明',\n",
       "   '他绘',\n",
       "   '正挈',\n",
       "   '灯盏',\n",
       "   '贪过',\n",
       "   '横看',\n",
       "   '觅风',\n",
       "   '人杰',\n",
       "   '一席',\n",
       "   '独他',\n",
       "   '山川',\n",
       "   '笔忆话',\n",
       "   '闲云野鹤',\n",
       "   '相伴',\n",
       "   '秉烛',\n",
       "   '缠绵',\n",
       "   '潦倒',\n",
       "   '竖成',\n",
       "   '舍近求远',\n",
       "   '觊觎',\n",
       "   '海纳百川',\n",
       "   '难辨',\n",
       "   '江南',\n",
       "   '山眉海',\n",
       "   '云烟',\n",
       "   '凛冽',\n",
       "   '一株',\n",
       "   '风闲',\n",
       "   '赴宴',\n",
       "   '并肩',\n",
       "   '烛火',\n",
       "   '萦怀',\n",
       "   '轻狂',\n",
       "   '重逢',\n",
       "   '始忆',\n",
       "   '水仙',\n",
       "   '寻到',\n",
       "   '悲欢',\n",
       "   '挑灯'],\n",
       "  'Link': 'https://lyricspinyin.com/2020/07/28/chui-mie-xiao-shan-he-%e5%90%b9%e6%bb%85%e5%b0%8f%e5%b1%b1%e6%b2%b3-by-guo-feng-tang-%e5%9c%8b%e9%a2%a8%e5%a0%82-si-nan-%e5%8f%b8%e5%8d%97-pinyin-lyrics/'},\n",
       " {'Title': 'Li You 離憂',\n",
       "  'Artist': 'Si Nan 司南',\n",
       "  'Understandability': 44,\n",
       "  'Importance': 38,\n",
       "  'Score': -6,\n",
       "  'New Words': ['怅惘',\n",
       "   '流淌',\n",
       "   '跌跌撞撞',\n",
       "   '忧思',\n",
       "   '黯然神伤',\n",
       "   '之桑',\n",
       "   '炎凉',\n",
       "   '凝霜',\n",
       "   '地老天荒',\n",
       "   '泛黄',\n",
       "   '之桑任',\n",
       "   '何妨',\n",
       "   '喜怒哀乐',\n",
       "   '同享',\n",
       "   '沧海',\n",
       "   '沈浮间',\n",
       "   '哀伤'],\n",
       "  'Link': 'https://lyricspinyin.com/2020/02/11/li-you-%e9%9b%a2%e6%86%82-by-si-nan-%e5%8f%b8%e5%8d%97-pinyin-lyrics/'},\n",
       " {'Title': 'Dong Mian 冬眠',\n",
       "  'Artist': 'Si Nan 司南',\n",
       "  'Understandability': 49,\n",
       "  'Importance': 45,\n",
       "  'Score': -4,\n",
       "  'New Words': ['巷口',\n",
       "   '蜷缩',\n",
       "   '偷窃',\n",
       "   '仲夏',\n",
       "   '融解',\n",
       "   '凝结',\n",
       "   '笑靥',\n",
       "   '领略',\n",
       "   '叹息',\n",
       "   '哽咽',\n",
       "   '孤单',\n",
       "   '忽明忽灭'],\n",
       "  'Link': 'https://lyricspinyin.com/2019/11/22/dong-mian-%e5%86%ac%e7%9c%a0-by-si-nan-%e5%8f%b8%e5%8d%97-pinyin-lyrics-and-english-translation/'},\n",
       " {'Title': 'Wo De Shi Jie Mei You Ni 我的世界沒有你',\n",
       "  'Artist': 'Su Han 蘇晗',\n",
       "  'Understandability': 61,\n",
       "  'Importance': 58,\n",
       "  'Score': -3,\n",
       "  'New Words': ['未见', '抹不掉'],\n",
       "  'Link': 'https://lyricspinyin.com/2020/08/01/wo-de-shi-jie-mei-you-ni-%e6%88%91%e7%9a%84%e4%b8%96%e7%95%8c%e6%b2%92%e6%9c%89%e4%bd%a0-by-su-han-%e8%98%87%e6%99%97-pinyin-lyrics-and-english-translation/'},\n",
       " {'Title': 'Li An 離岸',\n",
       "  'Artist': 'Su Han 蘇晗',\n",
       "  'Understandability': 54,\n",
       "  'Importance': 53,\n",
       "  'Score': -1,\n",
       "  'New Words': ['渐远', '一刀斩', '渐行', '好聚好散', '长眠', '翘首以盼', '人揽'],\n",
       "  'Link': 'https://lyricspinyin.com/2020/04/30/li-an-%e9%9b%a2%e5%b2%b8-by-su-han-%e8%98%87%e6%99%97-pinyin-lyrics-and-english-translation/'},\n",
       " {'Title': 'Xing 醒',\n",
       "  'Artist': 'Su Shi Ding 蘇詩丁',\n",
       "  'Understandability': 56,\n",
       "  'Importance': 56,\n",
       "  'Score': 0,\n",
       "  'New Words': ['置身事外', '宿命', '尘埃', '认真对待'],\n",
       "  'Link': 'https://lyricspinyin.com/2020/04/01/xing-%e9%86%92-by-su-shi-ding-%e8%98%87%e8%a9%a9%e4%b8%81-pinyin-lyrics-and-english-translation/'},\n",
       " {'Title': 'Yuan Zi Shu 緣字書',\n",
       "  'Artist': 'Su Shi Ding 蘇詩丁',\n",
       "  'Understandability': 38,\n",
       "  'Importance': 34,\n",
       "  'Score': -4,\n",
       "  'New Words': ['眉目',\n",
       "   '入骨',\n",
       "   '淋漓',\n",
       "   '端倪',\n",
       "   '缘分',\n",
       "   '菩提',\n",
       "   '踱',\n",
       "   '美景良辰',\n",
       "   '弯弯',\n",
       "   '彻骨',\n",
       "   '疏影',\n",
       "   '离愁',\n",
       "   '缘字',\n",
       "   '惆怅',\n",
       "   '难觅',\n",
       "   '佛铃空',\n",
       "   '木',\n",
       "   '人悟',\n",
       "   '几番',\n",
       "   '倾城',\n",
       "   '墨香'],\n",
       "  'Link': 'https://lyricspinyin.com/2020/02/06/yuan-zi-shu-%e7%b7%a3%e5%ad%97%e6%9b%b8-by-su-shi-ding-%e8%98%87%e8%a9%a9%e4%b8%81-pinyin-lyrics/'},\n",
       " {'Title': 'Zhi Jiao 直覺',\n",
       "  'Artist': 'Superluckyqi',\n",
       "  'Understandability': 46,\n",
       "  'Importance': 41,\n",
       "  'Score': -5,\n",
       "  'New Words': ['花绽放', '更配', '轮回', '睫毛', '沉醉', '王国里', '扫帚', '嘴巴'],\n",
       "  'Link': 'https://lyricspinyin.com/2019/11/24/zhi-jiao-%e7%9b%b4%e8%a6%ba-by-superluckyqi-pinyin-lyrics-and-english-translation/'},\n",
       " {'Title': 'Xin De Qi Dao 心的祈禱',\n",
       "  'Artist': 'Tan Wei Wei 譚維維',\n",
       "  'Understandability': 55,\n",
       "  'Importance': 53,\n",
       "  'Score': -2,\n",
       "  'New Words': ['歌谣', '天涯海角', '无言', '天涯', '遥遥', '止住', '泪流'],\n",
       "  'Link': 'https://lyricspinyin.com/2020/06/12/xin-de-qi-dao-%e5%bf%83%e7%9a%84%e7%a5%88%e7%a6%b1-by-tan-wei-wei-%e8%ad%9a%e7%b6%ad%e7%b6%ad-pinyin-lyrics-and-english-translation/'},\n",
       " {'Title': 'Zhui 追',\n",
       "  'Artist': 'Tan Wei Wei 譚維維 feat. Han Lei 韓磊',\n",
       "  'Understandability': 40,\n",
       "  'Importance': 41,\n",
       "  'Score': 1,\n",
       "  'New Words': ['嫦娥',\n",
       "   '凤凰',\n",
       "   '涅槃',\n",
       "   '江河',\n",
       "   '彩云',\n",
       "   '帆',\n",
       "   '翱翔',\n",
       "   '土',\n",
       "   '雪莲',\n",
       "   '雄鹰',\n",
       "   '绽放'],\n",
       "  'Link': 'https://lyricspinyin.com/2020/03/09/zhui-%e8%bf%bd-by-tan-wei-wei-%e8%ad%9a%e7%b6%ad%e7%b6%ad-feat-han-lei-%e9%9f%93%e7%a3%8a-pinyin-lyrics/'},\n",
       " {'Title': 'E Zuo Ju 惡作劇',\n",
       "  'Artist': 'Tangerine Wong 王藍茵',\n",
       "  'Understandability': 63,\n",
       "  'Importance': 58,\n",
       "  'Score': -5,\n",
       "  'New Words': ['不壹', '爱恋', '妳', '恶作剧', '奇异', '壹切', '这壹切'],\n",
       "  'Link': 'https://lyricspinyin.com/2020/06/27/e-zuo-ju-%e6%83%a1%e4%bd%9c%e5%8a%87-by-tangerine-wong-%e7%8e%8b%e8%97%8d%e8%8c%b5-pinyin-lyrics-and-english-translation/'},\n",
       " {'Title': 'Shi Yu Zhe 失語者',\n",
       "  'Artist': 'Tanya Chua 蔡健雅',\n",
       "  'Understandability': 62,\n",
       "  'Importance': 58,\n",
       "  'Score': -4,\n",
       "  'New Words': ['箔', '潜意识', '懦弱', '藏匿'],\n",
       "  'Link': 'https://lyricspinyin.com/2020/04/14/shi-yu-zhe-%e5%a4%b1%e8%aa%9e%e8%80%85-by-tanya-chua-%e8%94%a1%e5%81%a5%e9%9b%85-pinyin-lyrics-and-english-translation/'},\n",
       " {'Title': 'Hong Se Gao Gen Xie 紅色高跟鞋',\n",
       "  'Artist': 'Tanya Chua 蔡健雅',\n",
       "  'Understandability': 65,\n",
       "  'Importance': 58,\n",
       "  'Score': -7,\n",
       "  'New Words': ['贴切', '手腕'],\n",
       "  'Link': 'https://lyricspinyin.com/2020/01/24/hong-se-gao-gen-xie-%e7%b4%85%e8%89%b2%e9%ab%98%e8%b7%9f%e9%9e%8b-by-tanya-chua-%e8%94%a1%e5%81%a5%e9%9b%85-pinyin-lyrics-and-english-translation/'},\n",
       " {'Title': 'Zhui Luo 墜落',\n",
       "  'Artist': 'Tanya Chua 蔡健雅',\n",
       "  'Understandability': 59,\n",
       "  'Importance': 58,\n",
       "  'Score': -1,\n",
       "  'New Words': ['坠落', '伤悲', '振作', '擦肩而过'],\n",
       "  'Link': 'https://lyricspinyin.com/2019/12/08/zhui-luo-%e5%a2%9c%e8%90%bd-by-tanya-chua-%e8%94%a1%e5%81%a5%e9%9b%85-pinyin-lyrics-and-english-translation/'},\n",
       " {'Title': 'Yong Yuan De Yi Tian 永遠的一天',\n",
       "  'Artist': 'Tarcy Su 蘇慧倫',\n",
       "  'Understandability': 53,\n",
       "  'Importance': 50,\n",
       "  'Score': -3,\n",
       "  'New Words': ['无谓',\n",
       "   '百无聊赖',\n",
       "   '称谓',\n",
       "   '探险',\n",
       "   '床佐',\n",
       "   '一面之缘',\n",
       "   '夺走',\n",
       "   '松懈',\n",
       "   '过敏原',\n",
       "   '屋檐',\n",
       "   '心照不宣',\n",
       "   '邂逅'],\n",
       "  'Link': 'https://lyricspinyin.com/2020/04/28/yong-yuan-de-yi-tian-%e6%b0%b8%e9%81%a0%e7%9a%84%e4%b8%80%e5%a4%a9-by-tarcy-su-%e8%98%87%e6%85%a7%e5%80%ab-pinyin-lyrics-and-english-translation/'},\n",
       " {'Title': 'Qi Wen 37 Du De Xia Xiang 氣溫37度的遐想',\n",
       "  'Artist': 'Tarcy Su 蘇慧倫 feat Waa Wei 魏如萱',\n",
       "  'Understandability': 54,\n",
       "  'Importance': 49,\n",
       "  'Score': -5,\n",
       "  'New Words': ['冰镇',\n",
       "   '遐想',\n",
       "   '窃喜',\n",
       "   '蜜瓜',\n",
       "   '薄粉',\n",
       "   '分致',\n",
       "   '虔诚',\n",
       "   '潮红',\n",
       "   '恤',\n",
       "   '诺贝尔',\n",
       "   '体温',\n",
       "   '几罐',\n",
       "   '贴身',\n",
       "   '盛夏',\n",
       "   '倾国倾城',\n",
       "   '闲适',\n",
       "   '呢喃',\n",
       "   '闷热',\n",
       "   '略施'],\n",
       "  'Link': 'https://lyricspinyin.com/2020/04/03/qi-wen-37-du-de-xia-xiang-%e6%b0%a3%e6%ba%ab37%e5%ba%a6%e7%9a%84%e9%81%90%e6%83%b3-by-tarcy-su-%e8%98%87%e6%85%a7%e5%80%ab-feat-waa-wei-%e9%ad%8f%e5%a6%82%e8%90%b1-pinyin-lyrics/'},\n",
       " {'Title': 'Zhen Mian Mu 真面目',\n",
       "  'Artist': 'Tarcy Su 蘇慧倫',\n",
       "  'Understandability': 61,\n",
       "  'Importance': 56,\n",
       "  'Score': -5,\n",
       "  'New Words': ['幻灭', '优雅', '妥贴', '负荷', '多愁善感', '舍离', '喘息', '短兵相接'],\n",
       "  'Link': 'https://lyricspinyin.com/2020/03/10/zhen-mian-mu-%e7%9c%9f%e9%9d%a2%e7%9b%ae-by-tracy-su-%e8%98%87%e6%85%a7%e5%80%ab-pinyin-lyrics-and-english-translation/'},\n",
       " {'Title': 'An He 安和',\n",
       "  'Artist': 'Tarcy Su 蘇慧倫',\n",
       "  'Understandability': 57,\n",
       "  'Importance': 55,\n",
       "  'Score': -2,\n",
       "  'New Words': ['打烊', '游荡', '遐想'],\n",
       "  'Link': 'https://lyricspinyin.com/2020/03/10/an-he-%e5%ae%89%e5%92%8c-by-tarcy-su-%e8%98%87%e6%85%a7%e5%80%ab-pinyin-lyrics-and-english-translation/'},\n",
       " {'Title': 'Lu Nang Zhong Wang Ji 旅行中忘記',\n",
       "  'Artist': 'Tia Ray 袁婭維',\n",
       "  'Understandability': 58,\n",
       "  'Importance': 53,\n",
       "  'Score': -5,\n",
       "  'New Words': ['眼泪', '云雾', '泪滴', '迈步', '孤单'],\n",
       "  'Link': 'https://lyricspinyin.com/2020/03/29/lu-nang-zhong-wang-ji-%e6%97%85%e8%a1%8c%e4%b8%ad%e5%bf%98%e8%a8%98-by-tia-ray-%e8%a2%81%e5%a9%ad%e7%b6%ad-pinyin-lyrics-and-english-translation/'},\n",
       " {'Title': 'Bu Kui Bu Qian 不虧不欠',\n",
       "  'Artist': 'TIA 袁婭維',\n",
       "  'Understandability': 61,\n",
       "  'Importance': 57,\n",
       "  'Score': -4,\n",
       "  'New Words': ['不亏'],\n",
       "  'Link': 'https://lyricspinyin.com/2019/11/28/bu-kui-bu-qian-%e4%b8%8d%e8%99%a7%e4%b8%8d%e6%ac%a0-by-tia-%e8%a2%81%e5%a9%ad%e7%b6%ad-pinyin-lyrics-and-english-translation/'},\n",
       " {'Title': 'Bu Zai Hu 不在乎',\n",
       "  'Artist': 'Tien 張天',\n",
       "  'Understandability': 60,\n",
       "  'Importance': 56,\n",
       "  'Score': -4,\n",
       "  'New Words': ['贪图', '救赎', '很酷', '偏要', '赌注'],\n",
       "  'Link': 'https://lyricspinyin.com/2020/07/04/bu-zai-hu-%e4%b8%8d%e5%9c%a8%e4%b9%8e-by-tien-%e5%bc%b5%e5%a4%a9-pinyin-lyrics-and-english-translation/'},\n",
       " {'Title': 'Ai Zhe Mei Tian De Ni 愛著每天的你',\n",
       "  'Artist': 'Timo Feng 馮提莫',\n",
       "  'Understandability': 60,\n",
       "  'Importance': 56,\n",
       "  'Score': -4,\n",
       "  'New Words': ['缺氧', '相守', '遐想', '闪耀着', '手掌'],\n",
       "  'Link': 'https://lyricspinyin.com/2020/10/06/ai-zhe-mei-tian-de-ni-%e6%84%9b%e8%91%97%e6%af%8f%e5%a4%a9%e7%9a%84%e4%bd%a0-by-timo-feng-%e9%a6%ae%e6%8f%90%e8%8e%ab-pinyin-lyrics-and-english-translation/'},\n",
       " {'Title': 'Lian Xia Ji 戀夏記',\n",
       "  'Artist': 'Feng Timo 馮提莫',\n",
       "  'Understandability': 60,\n",
       "  'Importance': 58,\n",
       "  'Score': -2,\n",
       "  'New Words': ['玩伴', '玫瑰', '笔迹', '脚尖', '蒙眼', '彿', '妖怪', '孤单', '呜咽'],\n",
       "  'Link': 'https://lyricspinyin.com/2020/09/21/lian-xia-ji-%e6%88%80%e5%a4%8f%e8%a8%98-by-feng-timo-%e9%a6%ae%e6%8f%90%e8%8e%ab-pinyin-lyrics-and-english-translation/'},\n",
       " {'Title': 'Xie Xie Ai Guo 謝謝愛過',\n",
       "  'Artist': 'Timo Feng 馮提莫',\n",
       "  'Understandability': 67,\n",
       "  'Importance': 62,\n",
       "  'Score': -5,\n",
       "  'New Words': [],\n",
       "  'Link': 'https://lyricspinyin.com/2020/08/14/xie-xie-ai-guo-%e8%ac%9d%e8%ac%9d%e6%84%9b%e9%81%8e-by-timo-feng-%e9%a6%ae%e6%8f%90%e8%8e%ab-pinyin-lyrics-and-english-translation/'},\n",
       " {'Title': 'Minimanimo',\n",
       "  'Artist': 'Feng Timo 馮提莫 (Feat.Haee / Prod.Advanced)',\n",
       "  'Understandability': 61,\n",
       "  'Importance': 61,\n",
       "  'Score': 0,\n",
       "  'New Words': ['崩坏', '唿', '宠坏', '轰烈', '讯号'],\n",
       "  'Link': 'https://lyricspinyin.com/2020/05/09/minimanimo-by-feng-timo-%e9%a6%ae%e6%8f%90%e8%8e%ab-feat-haee-prod-advanced-pinyin-lyrics-and-english-translation/'},\n",
       " {'Title': 'Wo Shi Zhen De Ai Shang Ni 我是真的愛上你',\n",
       "  'Artist': 'Timo Feng 馮提莫',\n",
       "  'Understandability': 58,\n",
       "  'Importance': 54,\n",
       "  'Score': -4,\n",
       "  'New Words': ['善解人意', '翻天覆地', '奢求'],\n",
       "  'Link': 'https://lyricspinyin.com/2020/03/03/wo-shi-zhen-de-ai-shang-ni-%e6%88%91%e6%98%af%e7%9c%9f%e7%9a%84%e6%84%9b%e4%b8%8a%e4%bd%a0-by-timo-feng-%e9%a6%ae%e6%8f%90%e8%8e%ab-pinyin-lyrics-and-english-translation/'},\n",
       " {'Title': 'Mi Lu 迷路',\n",
       "  'Artist': 'Timo Feng 馮提莫',\n",
       "  'Understandability': 48,\n",
       "  'Importance': 44,\n",
       "  'Score': -4,\n",
       "  'New Words': ['一幕',\n",
       "   '击溃',\n",
       "   '坠毁',\n",
       "   '旅途',\n",
       "   '铁塔',\n",
       "   '轮回',\n",
       "   '煳',\n",
       "   '余晖',\n",
       "   '温热',\n",
       "   '唐突',\n",
       "   '拥着',\n",
       "   '停驻',\n",
       "   '晨昏',\n",
       "   '臂弯',\n",
       "   '藏匿',\n",
       "   '拼接',\n",
       "   '击碎',\n",
       "   '并肩',\n",
       "   '太模',\n",
       "   '恋人',\n",
       "   '微醺',\n",
       "   '绵延',\n",
       "   '掌纹'],\n",
       "  'Link': 'https://lyricspinyin.com/2020/02/05/mi-lu-%e8%bf%b7%e8%b7%af-by-timo-feng-%e9%a6%ae%e6%8f%90%e8%8e%ab-pinyin-lyrics-and-english-translation/'},\n",
       " {'Title': 'Yi Ban Tian Liang 一半天亮',\n",
       "  'Artist': 'Tong Jun 童珺',\n",
       "  'Understandability': 54,\n",
       "  'Importance': 49,\n",
       "  'Score': -5,\n",
       "  'New Words': ['游盪', '永恆', '谜', '翻山越岭', '孤单'],\n",
       "  'Link': 'https://lyricspinyin.com/2020/05/07/yi-ban-tian-liang-%e4%b8%80%e5%8d%8a%e5%a4%a9%e4%ba%ae-by-tong-jun-%e7%ab%a5%e7%8f%ba-pinyin-lyrics-and-english-translation/'},\n",
       " {'Title': 'Man Man 慢慢',\n",
       "  'Artist': 'Uu',\n",
       "  'Understandability': 57,\n",
       "  'Importance': 55,\n",
       "  'Score': -2,\n",
       "  'New Words': ['尘埃', '坠落', '置身事外', '惆怅', '宠爱'],\n",
       "  'Link': 'https://lyricspinyin.com/2020/09/06/man-man-%e6%85%a2%e6%85%a2-by-uu-pinyin-lyrics-and-english-translation/'},\n",
       " {'Title': 'Sha Sha 傻傻',\n",
       "  'Artist': 'Uu',\n",
       "  'Understandability': 50,\n",
       "  'Importance': 48,\n",
       "  'Score': -2,\n",
       "  'New Words': ['煽情',\n",
       "   '独有',\n",
       "   '悲喜',\n",
       "   '橘色',\n",
       "   '甜而不腻',\n",
       "   '唿吸',\n",
       "   '热恋',\n",
       "   '憧憬',\n",
       "   '洁白',\n",
       "   '默契',\n",
       "   '哼唱',\n",
       "   '三言两语'],\n",
       "  'Link': 'https://lyricspinyin.com/2020/05/25/sha-sha-%e5%82%bb%e5%82%bb-by-uu-pinyin-lyrics-and-english-translation/'},\n",
       " {'Title': 'Xia Tian De Feng 夏天的風',\n",
       "  'Artist': 'Uu',\n",
       "  'Understandability': 52,\n",
       "  'Importance': 48,\n",
       "  'Score': -4,\n",
       "  'New Words': ['腼腆', '连云', '酷酷', '山峰', '锋吹成', '云后', '贴着', '温', '闷闷', '闭上'],\n",
       "  'Link': 'https://lyricspinyin.com/2020/04/25/xia-tian-de-feng-%e5%a4%8f%e5%a4%a9%e7%9a%84%e9%a2%a8-by-uu-pinyin-lyrics-and-english-translation/'},\n",
       " {'Title': 'Bie Zai Dui Wo Hao 別再對我好',\n",
       "  'Artist': 'Uu',\n",
       "  'Understandability': 59,\n",
       "  'Importance': 56,\n",
       "  'Score': -3,\n",
       "  'New Words': ['强颜欢笑', '控制不了', '抹不掉', '眼泪', '疯掉'],\n",
       "  'Link': 'https://lyricspinyin.com/2020/02/19/bie-zai-dui-wo-hao-%e5%88%a5%e5%86%8d%e5%b0%8d%e6%88%91%e5%a5%bd-by-uu-pinyin-lyrics-and-english-translation/'},\n",
       " {'Title': 'Na Nan Hai Hai Hao Ma 那男孩還好嗎',\n",
       "  'Artist': 'Uu',\n",
       "  'Understandability': 64,\n",
       "  'Importance': 55,\n",
       "  'Score': -9,\n",
       "  'New Words': ['挨过', '挚爱', '闭眼', '事过境迁', '婚纱', '樱花', '牵挂'],\n",
       "  'Link': 'https://lyricspinyin.com/2019/11/15/na-nan-hai-hai-hao-ma-%e9%82%a3%e7%94%b7%e5%ad%a9%e9%82%84%e5%a5%bd%e5%97%8e-by-uu-pinyin-lyrics-and-english-translation/'},\n",
       " {'Title': 'Na Nu Hai Dui Wo Shuo 那女孩對我說',\n",
       "  'Artist': 'Huang Yi Da 黃義達/Uu',\n",
       "  'Understandability': 59,\n",
       "  'Importance': 52,\n",
       "  'Score': -7,\n",
       "  'New Words': ['晓得', '孤单', '渐渐', '塞进', '揹', '眼泪'],\n",
       "  'Link': 'https://lyricspinyin.com/2019/09/30/na-nu-hai-dui-wo-shuo-%e9%82%a3%e5%a5%b3%e5%ad%a9%e5%b0%8d%e6%88%91%e8%aa%aa-by-huang-yi-da-%e9%bb%83%e7%be%a9%e9%81%94-uu-pinyin-lyrics-and-english-translation/'},\n",
       " {'Title': 'Lie',\n",
       "  'Artist': 'VaVa 毛衍七',\n",
       "  'Understandability': 59,\n",
       "  'Importance': 57,\n",
       "  'Score': -2,\n",
       "  'New Words': ['缘分', '荒芜', '左右逢源', '拼图', '捱', '青睐'],\n",
       "  'Link': 'https://lyricspinyin.com/2019/10/18/lie-by-vava-%e6%af%9b%e8%a1%8d%e4%b8%83-pinyin-lyrics-and-english-translation/'},\n",
       " {'Title': 'Zhu Ni Ai Wo Dao Tian Huang Di Lao 祝你愛我到天荒地老',\n",
       "  'Artist': 'VAVA 顏人中',\n",
       "  'Understandability': 55,\n",
       "  'Importance': 52,\n",
       "  'Score': -3,\n",
       "  'New Words': ['怪异', '渐晚', '眉梢', '分神', '简讯', '荒芜', '牢牢记', '时辰', '猜透', '矜持'],\n",
       "  'Link': 'https://lyricspinyin.com/2019/10/18/zhu-ni-ai-wo-dao-tian-huang-di-lao-%e7%a5%9d%e4%bd%a0%e6%84%9b%e6%88%91%e5%88%b0%e5%a4%a9%e8%8d%92%e5%9c%b0%e8%80%81-by-vava-%e9%a1%8f%e4%ba%ba%e4%b8%ad-pinyin-lyrics-and-english-translation/'},\n",
       " {'Title': 'Sheng Huo 生活',\n",
       "  'Artist': 'Vicky Chen 陳忻玥',\n",
       "  'Understandability': 55,\n",
       "  'Importance': 53,\n",
       "  'Score': -2,\n",
       "  'New Words': ['烈日', '云和雾', '发芽', '谷底', '枝叶', '晨曦', '穿透'],\n",
       "  'Link': 'https://lyricspinyin.com/2020/07/01/sheng-huo-%e7%94%9f%e6%b4%bb-by-vicky-chen-%e9%99%b3%e5%bf%bb%e7%8e%a5-pinyin-lyrics-and-english-translation/'},\n",
       " {'Title': 'Yan Mu 煙幕',\n",
       "  'Artist': 'Vicky Chen 陳忻玥',\n",
       "  'Understandability': 62,\n",
       "  'Importance': 61,\n",
       "  'Score': -1,\n",
       "  'New Words': ['坍塌', '沈默', '火上加油', '看不透', '渐渐', '唿', '唿吸要'],\n",
       "  'Link': 'https://lyricspinyin.com/2020/05/20/yan-mu-%e7%85%99%e5%b9%95-by-vicky-chen-%e9%99%b3%e5%bf%bb%e7%8e%a5-pinyin-lyrics-and-english-translation/'},\n",
       " {'Title': 'Zhi Ai 炙愛',\n",
       "  'Artist': 'Vicky Chen 陳忻玥',\n",
       "  'Understandability': 54,\n",
       "  'Importance': 53,\n",
       "  'Score': -1,\n",
       "  'New Words': ['妳', '挚爱', '交集'],\n",
       "  'Link': 'https://lyricspinyin.com/2020/03/21/zhi-ai-%e7%82%99%e6%84%9b-by-vicky-chen-%e9%99%b3%e5%bf%bb%e7%8e%a5-pinyin-lyrics-and-english-translation/'},\n",
       " {'Title': 'Jin Xiao Duo Zhen Zhong 今宵多珍重',\n",
       "  'Artist': '谷婭溦',\n",
       "  'Understandability': 50,\n",
       "  'Importance': 45,\n",
       "  'Score': -5,\n",
       "  'New Words': ['紧偎', '昇', '迷蒙', '相送恋', '今宵', '珍重'],\n",
       "  'Link': 'https://lyricspinyin.com/2019/10/16/jin-xiao-duo-zhen-zhong-%e4%bb%8a%e5%ae%b5%e5%a4%9a%e7%8f%8d%e9%87%8d-by-%e8%b0%b7%e5%a9%ad%e6%ba%a6-pinyin-lyrics-and-english-translation/'},\n",
       " {'Title': 'Bu Bai De 不敗的',\n",
       "  'Artist': 'Vivian Hsu 徐若瑄',\n",
       "  'Understandability': 61,\n",
       "  'Importance': 55,\n",
       "  'Score': -6,\n",
       "  'New Words': ['无谓', '永远的痛', '伪装', '狂风', '眼泪', '説', '莽撞', '迷宫', '卸下'],\n",
       "  'Link': 'https://lyricspinyin.com/2020/09/11/bu-bai-de-%e4%b8%8d%e6%95%97%e7%9a%84-by-vivian-hsu-%e5%be%90%e8%8b%a5%e7%91%84-pinyin-lyrics-and-english-translation/'},\n",
       " {'Title': 'Zai Jian Cuo De Ren 再見錯的人',\n",
       "  'Artist': 'Vivian 徐若瑄',\n",
       "  'Understandability': 63,\n",
       "  'Importance': 60,\n",
       "  'Score': -3,\n",
       "  'New Words': ['心虚', '谎话', '吞忍装', '狂奔', '泪痕'],\n",
       "  'Link': 'https://lyricspinyin.com/2020/08/18/zai-jian-cuo-de-ren-%e5%86%8d%e8%a6%8b%e9%8c%af%e7%9a%84%e4%ba%ba-by-vivian-%e5%be%90%e8%8b%a5%e7%91%84-pinyin-lyrics-and-english-translation/'},\n",
       " {'Title': 'Xiang Zen Yang 想怎樣',\n",
       "  'Artist': 'Yo Lee 李友廷 feat. waa wei 魏如萱',\n",
       "  'Understandability': 62,\n",
       "  'Importance': 60,\n",
       "  'Score': -2,\n",
       "  'New Words': ['老娘', '赌', '献殷勤'],\n",
       "  'Link': 'https://lyricspinyin.com/2020/10/01/xiang-zen-yang-%e6%83%b3%e6%80%8e%e6%a8%a3-by-yo-lee-%e6%9d%8e%e5%8f%8b%e5%bb%b7-feat-waa-wei-%e9%ad%8f%e5%a6%82%e8%90%b1-pinyin-lyrics-and-english-translation/'},\n",
       " {'Title': 'Qi Wen 37 Du De Xia Xiang 氣溫37度的遐想',\n",
       "  'Artist': 'Tarcy Su 蘇慧倫 feat Waa Wei 魏如萱',\n",
       "  'Understandability': 54,\n",
       "  'Importance': 49,\n",
       "  'Score': -5,\n",
       "  'New Words': ['冰镇',\n",
       "   '遐想',\n",
       "   '窃喜',\n",
       "   '蜜瓜',\n",
       "   '薄粉',\n",
       "   '分致',\n",
       "   '虔诚',\n",
       "   '潮红',\n",
       "   '恤',\n",
       "   '诺贝尔',\n",
       "   '体温',\n",
       "   '几罐',\n",
       "   '贴身',\n",
       "   '盛夏',\n",
       "   '倾国倾城',\n",
       "   '闲适',\n",
       "   '呢喃',\n",
       "   '闷热',\n",
       "   '略施'],\n",
       "  'Link': 'https://lyricspinyin.com/2020/04/03/qi-wen-37-du-de-xia-xiang-%e6%b0%a3%e6%ba%ab37%e5%ba%a6%e7%9a%84%e9%81%90%e6%83%b3-by-tarcy-su-%e8%98%87%e6%85%a7%e5%80%ab-feat-waa-wei-%e9%ad%8f%e5%a6%82%e8%90%b1-pinyin-lyrics/'},\n",
       " {'Title': 'Pei Zhe Ni 陪著你',\n",
       "  'Artist': 'waa wei 魏如萱',\n",
       "  'Understandability': 61,\n",
       "  'Importance': 58,\n",
       "  'Score': -3,\n",
       "  'New Words': ['孤鸟', '斑马线', '树枝'],\n",
       "  'Link': 'https://lyricspinyin.com/2019/11/29/pei-zhe-ni-%e9%99%aa%e8%91%97%e4%bd%a0-by-waa-wei-%e9%ad%8f%e5%a6%82%e8%90%b1-pinyin-lyrics-and-english-translation/'},\n",
       " {'Title': 'Yuan Ni Yu Sheng Man Zhang 願你餘生漫長',\n",
       "  'Artist': 'Wang Er Lang 王貳浪',\n",
       "  'Understandability': 46,\n",
       "  'Importance': 43,\n",
       "  'Score': -3,\n",
       "  'New Words': ['磨平',\n",
       "   '伤疤',\n",
       "   '辗转反侧',\n",
       "   '抵作',\n",
       "   '掌心',\n",
       "   '崩裂',\n",
       "   '渐渐',\n",
       "   '荒沙',\n",
       "   '跋涉',\n",
       "   '捧雪寒',\n",
       "   '飞蛾扑火',\n",
       "   '轻叹',\n",
       "   '颤',\n",
       "   '不甘'],\n",
       "  'Link': 'https://lyricspinyin.com/2020/03/30/yuan-ni-yu-sheng-man-zhang-%e9%a1%98%e4%bd%a0%e9%a4%98%e7%94%9f%e6%bc%ab%e9%95%b7-by-wang-er-lang-%e7%8e%8b%e8%b2%b3%e6%b5%aa-pinyin-lyrics-and-english-translation/'},\n",
       " {'Title': 'Ba Hui Yi Pin Hao Gei Ni 把回憶拼好給你',\n",
       "  'Artist': 'Wang Er Lang 王貳浪',\n",
       "  'Understandability': 54,\n",
       "  'Importance': 53,\n",
       "  'Score': -1,\n",
       "  'New Words': ['草虫',\n",
       "   '伤疤',\n",
       "   '尘埃',\n",
       "   '澄',\n",
       "   '心不在焉',\n",
       "   '渐晚',\n",
       "   '隐没',\n",
       "   '妳',\n",
       "   '惨酷',\n",
       "   '无所畏惧',\n",
       "   '逃亡',\n",
       "   '唿叫',\n",
       "   '失神',\n",
       "   '义无反顾',\n",
       "   '谈言',\n",
       "   '紧握',\n",
       "   '牵挂',\n",
       "   '盛夏',\n",
       "   '无限',\n",
       "   '归期',\n",
       "   '拼好',\n",
       "   '集邮',\n",
       "   '妖怪'],\n",
       "  'Link': 'https://lyricspinyin.com/2020/03/23/ba-hui-yi-pin-hao-gei-ni-%e6%8a%8a%e5%9b%9e%e6%86%b6%e6%8b%bc%e5%a5%bd%e7%b5%a6%e4%bd%a0-by-wang-er-lang-%e7%8e%8b%e8%b2%b3%e6%b5%aa-pinyin-lyrics-and-english-translation/'},\n",
       " {'Title': 'Ai Ni 愛你',\n",
       "  'Artist': 'Wang Er Lang 王貳浪',\n",
       "  'Understandability': 61,\n",
       "  'Importance': 58,\n",
       "  'Score': -3,\n",
       "  'New Words': ['纽扣', '互扣', '唿吸', '每一秒', '初吻', '勾', '贴着', '闭上眼睛'],\n",
       "  'Link': 'https://lyricspinyin.com/2020/01/02/ai-ni-%e6%84%9b%e4%bd%a0-by-wang-er-lang-%e7%8e%8b%e8%b2%b3%e6%b5%aa-pinyin-lyrics-and-english-translation/'},\n",
       " {'Title': 'Ni Ye Mei You Cuo 你也沒有錯',\n",
       "  'Artist': 'Wang Er Lang 王貳浪',\n",
       "  'Understandability': 69,\n",
       "  'Importance': 67,\n",
       "  'Score': -2,\n",
       "  'New Words': [],\n",
       "  'Link': 'https://lyricspinyin.com/2019/12/08/ni-ye-mei-you-cuo-%e4%bd%a0%e4%b9%9f%e6%b2%92%e6%9c%89%e9%8c%af-by-wang-er-lang-%e7%8e%8b%e8%b2%b3%e6%b5%aa-pinyin-lyrics-and-english-translation/'},\n",
       " {'Title': 'Wang Hou Yu Sheng 往後餘生',\n",
       "  'Artist': 'Wang Er Lang 王貳浪',\n",
       "  'Understandability': 52,\n",
       "  'Importance': 49,\n",
       "  'Score': -3,\n",
       "  'New Words': ['清贫', '荣华', '春华'],\n",
       "  'Link': 'https://lyricspinyin.com/2019/10/13/wang-hou-yu-sheng-%e5%be%80%e5%be%8c%e9%a4%98%e7%94%9f-by-wang-er-lang-%e7%8e%8b%e8%b2%b3%e6%b5%aa-pinyin-lyrics-and-english-translation/'},\n",
       " {'Title': 'Xiang Yu 像魚',\n",
       "  'Artist': 'Wang Er Lang 王貳浪',\n",
       "  'Understandability': 64,\n",
       "  'Importance': 56,\n",
       "  'Score': -8,\n",
       "  'New Words': ['乞讨', '看透', '顽皮'],\n",
       "  'Link': 'https://lyricspinyin.com/2019/09/29/xiang-yu-%e5%83%8f%e9%ad%9a-by-wang-er-lang-%e7%8e%8b%e8%b2%b3%e6%b5%aa-pinyin-lyrics-and-english-translation/'},\n",
       " {'Title': 'Shan Bian 善變',\n",
       "  'Artist': 'Wang Jing Wen Bu Pang 王靖雯不胖',\n",
       "  'Understandability': 55,\n",
       "  'Importance': 52,\n",
       "  'Score': -3,\n",
       "  'New Words': ['眼泪', '浓烈', '兜圈', '决裂', '一幕幕', '善变', '抛物线'],\n",
       "  'Link': 'https://lyricspinyin.com/2020/10/20/shan-bian-%e5%96%84%e8%ae%8a-by-wang-jing-wen-bu-pang-%e7%8e%8b%e9%9d%96%e9%9b%af%e4%b8%8d%e8%83%96-pinyin-lyrics-and-english-translation/'},\n",
       " {'Title': 'Bu Zhi Suo Cuo 不知所措',\n",
       "  'Artist': 'Wang Jing Wen Bu Pang 王靖雯不胖',\n",
       "  'Understandability': 66,\n",
       "  'Importance': 58,\n",
       "  'Score': -8,\n",
       "  'New Words': ['坠落', '喜怒哀乐', '无可奈何', '懦弱', '枷锁'],\n",
       "  'Link': 'https://lyricspinyin.com/2020/08/05/bu-zhi-suo-cuo-%e4%b8%8d%e7%9f%a5%e6%89%80%e6%8e%aa-by-wang-jing-wen-bu-pang-%e7%8e%8b%e9%9d%96%e9%9b%af%e4%b8%8d%e8%83%96-pinyin-lyrics-and-english-translation/'},\n",
       " {'Title': 'Wo Yuan Yi Ping Fan De Pei Zai Ni Shen Pang 我願意平凡的陪在你身旁',\n",
       "  'Artist': '王七七',\n",
       "  'Understandability': 58,\n",
       "  'Importance': 49,\n",
       "  'Score': -9,\n",
       "  'New Words': ['悠哉悠哉', '大雅之堂', '呜', '避风港', '唿', '哒', '狂妄', '山坡', '旺', '吶'],\n",
       "  'Link': 'https://lyricspinyin.com/2019/11/12/wo-yuan-yi-ping-fan-de-pei-zai-ni-shen-pang-%e6%88%91%e9%a1%98%e6%84%8f%e5%b9%b3%e5%87%a1%e7%9a%84%e9%99%aa%e5%9c%a8%e4%bd%a0%e8%ba%ab%e6%97%81-by-%e7%8e%8b%e4%b8%83%e4%b8%83-pinyin-lyrics/'},\n",
       " {'Title': 'Ni De Ming Zi Jiao Yi Han 你的名字叫遺憾',\n",
       "  'Artist': 'Wang Ying Ying 王瑩瑩',\n",
       "  'Understandability': 58,\n",
       "  'Importance': 54,\n",
       "  'Score': -4,\n",
       "  'New Words': ['孤寂',\n",
       "   '凝望',\n",
       "   '惶恐',\n",
       "   '保持沉默',\n",
       "   '渐渐',\n",
       "   '眼窝',\n",
       "   '祸',\n",
       "   '吞噬',\n",
       "   '空盪',\n",
       "   '哽咽',\n",
       "   '擦肩而过'],\n",
       "  'Link': 'https://lyricspinyin.com/2020/05/08/ni-de-ming-zi-jiao-yi-han-%e4%bd%a0%e7%9a%84%e5%90%8d%e5%ad%97%e5%8f%ab%e9%81%ba%e6%86%be-by-wang-ying-ying-%e7%8e%8b%e7%91%a9%e7%91%a9-pinyin-lyrics-and-english-translation/'},\n",
       " {'Title': 'Chen Yu 沉魚',\n",
       "  'Artist': 'Yin Que Shi Ting 音闕詩聽 feat.趙方婧 王梓鈺',\n",
       "  'Understandability': 45,\n",
       "  'Importance': 39,\n",
       "  'Score': -6,\n",
       "  'New Words': ['相逢',\n",
       "   '一幕',\n",
       "   '青丝',\n",
       "   '熙熙攘攘',\n",
       "   '惊鸿',\n",
       "   '阡陌',\n",
       "   '轻抚',\n",
       "   '风尘',\n",
       "   '纷纷扰扰',\n",
       "   '衣袖',\n",
       "   '晃晃悠悠',\n",
       "   '浑浑噩噩',\n",
       "   '隐隐约约'],\n",
       "  'Link': 'https://lyricspinyin.com/2020/04/13/chen-yu-%e6%b2%89%e9%ad%9a-by-yin-que-shi-ting-%e9%9f%b3%e9%97%95%e8%a9%a9%e8%81%bd-feat-%e8%b6%99%e6%96%b9%e5%a9%a7-%e7%8e%8b%e6%a2%93%e9%88%ba-pinyin-lyrics/'},\n",
       " {'Title': 'Da Xue 大雪',\n",
       "  'Artist': 'Wang Zi Yu 王梓鈺 音闕詩聽',\n",
       "  'Understandability': 35,\n",
       "  'Importance': 30,\n",
       "  'Score': -5,\n",
       "  'New Words': ['荒野',\n",
       "   '归来',\n",
       "   '风骨',\n",
       "   '一竿',\n",
       "   '塞外',\n",
       "   '皑皑',\n",
       "   '潦草',\n",
       "   '异乡',\n",
       "   '传来',\n",
       "   '踉跄',\n",
       "   '深巷',\n",
       "   '掩去',\n",
       "   '跌破',\n",
       "   '发梢',\n",
       "   '犹在',\n",
       "   '小楷',\n",
       "   '抖开',\n",
       "   '琼花',\n",
       "   '瘦竹证',\n",
       "   '跃马',\n",
       "   '第一枝',\n",
       "   '长扣',\n",
       "   '俯仰',\n",
       "   '小红炉',\n",
       "   '银霜',\n",
       "   '柴扉',\n",
       "   '晃荡',\n",
       "   '斜倚',\n",
       "   '从巷',\n",
       "   '时赠',\n",
       "   '撞琼台',\n",
       "   '穿尘过',\n",
       "   '对酌',\n",
       "   '造访',\n",
       "   '赠',\n",
       "   '离愁别绪'],\n",
       "  'Link': 'https://lyricspinyin.com/2020/03/06/da-xue-%e5%a4%a7%e9%9b%aa-by-wang-zi-yu-%e7%8e%8b%e6%a2%93%e9%88%ba-%e9%9f%b3%e9%97%95%e8%a9%a9%e8%81%bd-pinyin-lyrics/'},\n",
       " {'Title': 'Bai Hua Xiang 百花香',\n",
       "  'Artist': 'Wei Xin Yu 魏新雨',\n",
       "  'Understandability': 48,\n",
       "  'Importance': 43,\n",
       "  'Score': -5,\n",
       "  'New Words': ['唿吸', '繁星', '灯泡', '亮晶晶', '品味', '棉袄'],\n",
       "  'Link': 'https://lyricspinyin.com/2020/01/10/bai-hua-xiang-%e7%99%be%e8%8a%b1%e9%a6%99-by-wei-xin-yu-%e9%ad%8f%e6%96%b0%e9%9b%a8-pinyin-lyrics-and-english-translation/'},\n",
       " {'Title': 'Wan Wan De Yue Guang 彎彎的月光',\n",
       "  'Artist': 'Where Chou 周蕙',\n",
       "  'Understandability': 55,\n",
       "  'Importance': 51,\n",
       "  'Score': -4,\n",
       "  'New Words': ['赔上',\n",
       "   '盛大',\n",
       "   '悄悄的',\n",
       "   '马雅',\n",
       "   '丛林中',\n",
       "   '眺望',\n",
       "   '嗜血',\n",
       "   '维多利亚港',\n",
       "   '古拉',\n",
       "   '狮身',\n",
       "   '弯弯的'],\n",
       "  'Link': 'https://lyricspinyin.com/2020/09/08/wan-wan-de-yue-guang-%e5%bd%8e%e5%bd%8e%e7%9a%84%e6%9c%88%e5%85%89-by-where-chou-%e5%91%a8%e8%95%99-pinyin-lyrics-and-english-translation/'},\n",
       " {'Title': 'Wu Ye 午夜',\n",
       "  'Artist': 'Wu La Duo En 烏拉多恩',\n",
       "  'Understandability': 51,\n",
       "  'Importance': 47,\n",
       "  'Score': -4,\n",
       "  'New Words': ['枕边',\n",
       "   '独自一人',\n",
       "   '窗模',\n",
       "   '柠檬',\n",
       "   '辗转反侧',\n",
       "   '玻璃杯',\n",
       "   '煳',\n",
       "   '推开',\n",
       "   '仰头望',\n",
       "   '玻璃窗',\n",
       "   '粉饰'],\n",
       "  'Link': 'https://lyricspinyin.com/2020/08/31/wu-ye-%e5%8d%88%e5%a4%9c-by-wu-la-duo-en-%e7%83%8f%e6%8b%89%e5%a4%9a%e6%81%a9-pinyin-lyrics-and-english-translation/'},\n",
       " {'Title': 'Ren Lei 人累',\n",
       "  'Artist': 'Xi Pu Yu 習譜予',\n",
       "  'Understandability': 46,\n",
       "  'Importance': 46,\n",
       "  'Score': 0,\n",
       "  'New Words': ['难辨', '凋谢', '臣服于', '优雅', '深埋在', '庸庸碌碌', '闭上'],\n",
       "  'Link': 'https://lyricspinyin.com/2019/10/02/ren-lei-%e4%ba%ba%e7%b4%af-by-xi-pu-yu-%e7%bf%92%e8%ad%9c%e4%ba%88-pinyin-lyrics-and-english-translation/'},\n",
       " {'Title': 'Wo Yuan Hua Zuo Miao Xiao De Chen Ai 我願化作渺小的塵埃',\n",
       "  'Artist': 'Xia Wan An 夏婉安',\n",
       "  'Understandability': 56,\n",
       "  'Importance': 54,\n",
       "  'Score': -2,\n",
       "  'New Words': ['怨尤', '沖', '尘埃', '道听途说', '悲不喜'],\n",
       "  'Link': 'https://lyricspinyin.com/2020/05/30/wo-yuan-hua-zuo-miao-xiao-de-chen-ai-%e6%88%91%e9%a1%98%e5%8c%96%e4%bd%9c%e6%b8%ba%e5%b0%8f%e7%9a%84%e5%a1%b5%e5%9f%83-by-xia-wan-an-%e5%a4%8f%e5%a9%89%e5%ae%89-pinyin-lyrics-and-english-translation/'},\n",
       " {'Title': 'Cong Cong 匆匆',\n",
       "  'Artist': 'Xia Wan An 夏婉安',\n",
       "  'Understandability': 60,\n",
       "  'Importance': 50,\n",
       "  'Score': -10,\n",
       "  'New Words': ['指缝', '太沉重'],\n",
       "  'Link': 'https://lyricspinyin.com/2020/02/11/cong-cong-%e5%8c%86%e5%8c%86-by-xia-wan-an-%e5%a4%8f%e5%a9%89%e5%ae%89-pinyin-lyrics-and-english-translation/'},\n",
       " {'Title': 'Ta 她',\n",
       "  'Artist': 'Xia Wan An 夏婉安',\n",
       "  'Understandability': 62,\n",
       "  'Importance': 57,\n",
       "  'Score': -5,\n",
       "  'New Words': ['孤城', '猜不透', '闭上眼', '沉稳', '眼泪', '透漏', '我触', '绽放', '余温'],\n",
       "  'Link': 'https://lyricspinyin.com/2019/12/06/ta-%e5%a5%b9-by-xia-wan-an-%e5%a4%8f%e5%a9%89%e5%ae%89-pinyin-lyrics-and-english-translation/'},\n",
       " {'Title': 'Zhui Luo 墜落',\n",
       "  'Artist': 'Xia Wan An 夏婉安',\n",
       "  'Understandability': 56,\n",
       "  'Importance': 53,\n",
       "  'Score': -3,\n",
       "  'New Words': ['坠落', '舐', '淌', '反覆', '落寞', '死守', '渐渐', '祸', '枷锁'],\n",
       "  'Link': 'https://lyricspinyin.com/2019/11/26/zhui-luo-%e5%a2%9c%e8%90%bd-by-xia-wan-an-%e5%a4%8f%e5%a9%89%e5%ae%89-pinyin-lyrics-and-english-translation/'},\n",
       " {'Title': 'Ceng Ting Guo 曾聽過',\n",
       "  'Artist': 'Xia Wan An 夏婉安',\n",
       "  'Understandability': 42,\n",
       "  'Importance': 37,\n",
       "  'Score': -5,\n",
       "  'New Words': ['青丝',\n",
       "   '红尘',\n",
       "   '脸颊',\n",
       "   '月华',\n",
       "   '袖',\n",
       "   '天涯',\n",
       "   '浮生',\n",
       "   '一言君恩弃',\n",
       "   '发芽',\n",
       "   '窗纱',\n",
       "   '倾尽',\n",
       "   '浊酒',\n",
       "   '牵挂',\n",
       "   '佳话',\n",
       "   '碑',\n",
       "   '风雅',\n",
       "   '未',\n",
       "   '空盈袖'],\n",
       "  'Link': 'https://lyricspinyin.com/2019/11/21/ceng-ting-guo-%e6%9b%be%e8%81%bd%e9%81%8e-by-xia-wan-an-%e5%a4%8f%e5%a9%89%e5%ae%89-pinyin-lyrics/'},\n",
       " {'Title': 'Bei Wei Dao Zui Hou You Duo Tong 卑微到最後有多痛',\n",
       "  'Artist': '夏婉安',\n",
       "  'Understandability': 62,\n",
       "  'Importance': 57,\n",
       "  'Score': -5,\n",
       "  'New Words': ['有多痛', '灰飞烟灭', '幻觉', '卑微'],\n",
       "  'Link': 'https://lyricspinyin.com/2019/11/17/bei-wei-dao-zui-hou-you-duo-tong-%e5%8d%91%e5%be%ae%e5%88%b0%e6%9c%80%e5%be%8c%e6%9c%89%e5%a4%9a%e7%97%9b-by-%e5%a4%8f%e5%a9%89%e5%ae%89-pinyin-lyrics-and-english-translation/'},\n",
       " {'Title': 'Tian Kong Zhi Wai 天空之外',\n",
       "  'Artist': 'Xian Zi 弦子',\n",
       "  'Understandability': 56,\n",
       "  'Importance': 51,\n",
       "  'Score': -5,\n",
       "  'New Words': ['轮转', '低姿态', '落幕'],\n",
       "  'Link': 'https://lyricspinyin.com/2019/12/07/tian-kong-zhi-wai-%e5%a4%a9%e7%a9%ba%e4%b9%8b%e5%a4%96-by-xian-zi-%e5%bc%a6%e5%ad%90-pinyin-lyrics-and-english-translation/'},\n",
       " {'Title': 'Xiang Dui Ni Shuo 想對你說',\n",
       "  'Artist': 'Xiao Pan Pan 小潘潘',\n",
       "  'Understandability': 60,\n",
       "  'Importance': 57,\n",
       "  'Score': -3,\n",
       "  'New Words': ['一分一秒'],\n",
       "  'Link': 'https://lyricspinyin.com/2019/09/30/xiang-dui-ni-shuo-%e6%83%b3%e5%b0%8d%e4%bd%a0%e8%aa%aa-by-xiao-pan-pan-%e5%b0%8f%e6%bd%98%e6%bd%98-pinyin-lyrics-and-english-translation/'},\n",
       " {'Title': 'Peng You Qing Ting Hao 朋友請聽好',\n",
       "  'Artist': '何炅 謝娜 易烊千璽',\n",
       "  'Understandability': 56,\n",
       "  'Importance': 47,\n",
       "  'Score': -9,\n",
       "  'New Words': ['小尾巴',\n",
       "   '楼宇',\n",
       "   '沙哑',\n",
       "   '手帕',\n",
       "   '眺望',\n",
       "   '悄悄话',\n",
       "   '呢喃',\n",
       "   '哑',\n",
       "   '孤单',\n",
       "   '初夏',\n",
       "   '吶',\n",
       "   '蝉声'],\n",
       "  'Link': 'https://lyricspinyin.com/2020/04/14/peng-you-qing-ting-hao-%e6%9c%8b%e5%8f%8b%e8%ab%8b%e8%81%bd%e5%a5%bd-by-%e4%bd%95%e7%82%85-%e8%ac%9d%e5%a8%9c-%e6%98%93%e7%83%8a%e5%8d%83%e7%92%bd-pinyin-lyrics-and-english-translation/'},\n",
       " {'Title': 'De Dao Tai Yang 得到太陽',\n",
       "  'Artist': 'LaLa 徐佳瑩',\n",
       "  'Understandability': 57,\n",
       "  'Importance': 54,\n",
       "  'Score': -3,\n",
       "  'New Words': ['气馁', '清脆', '眼泪', '丰沛', '草稿箱', '鬓角', '初春'],\n",
       "  'Link': 'https://lyricspinyin.com/2020/10/16/de-dao-tai-yang-%e5%be%97%e5%88%b0%e5%a4%aa%e9%99%bd-by-lala-%e5%be%90%e4%bd%b3%e7%91%a9-pinyin-lyrics-and-english-translation/'},\n",
       " {'Title': 'Zai Ni Bu Zhi Dao De Shi Jian Li Ai Ni Hen Jiu 你不知道的時間裡愛你很久',\n",
       "  'Artist': 'Lala 徐佳瑩',\n",
       "  'Understandability': 64,\n",
       "  'Importance': 59,\n",
       "  'Score': -5,\n",
       "  'New Words': ['倾尽', '无限期', '一分一秒', '不分昼夜', '握紧'],\n",
       "  'Link': 'https://lyricspinyin.com/2020/08/02/zai-ni-bu-zhi-dao-de-shi-jian-li-ai-ni-hen-jiu-%e4%bd%a0%e4%b8%8d%e7%9f%a5%e9%81%93%e7%9a%84%e6%99%82%e9%96%93%e8%a3%a1%e6%84%9b%e4%bd%a0%e5%be%88%e4%b9%85-by-lala-%e5%be%90%e4%bd%b3%e7%91%a9-pinyin-l/'},\n",
       " {'Title': 'Yi Wu Suo Zhi 一無所知',\n",
       "  'Artist': 'Chen Li Nong 陳立農 & LaLa 徐佳瑩',\n",
       "  'Understandability': 58,\n",
       "  'Importance': 52,\n",
       "  'Score': -6,\n",
       "  'New Words': ['开窍', '坠落', '尘埃', '眼泪', '酿出'],\n",
       "  'Link': 'https://lyricspinyin.com/2020/05/30/yi-wu-suo-zhi-%e4%b8%80%e7%84%a1%e6%89%80%e7%9f%a5-by-chen-li-nong-%e9%99%b3%e7%ab%8b%e8%be%b2-lala-%e5%be%90%e4%bd%b3%e7%91%a9-pinyin-lyrics-and-english-translation/'},\n",
       " {'Title': 'Xi Huan Ni 喜歡你',\n",
       "  'Artist': 'LaLa 徐佳瑩',\n",
       "  'Understandability': 63,\n",
       "  'Importance': 57,\n",
       "  'Score': -6,\n",
       "  'New Words': ['柔软', '轻触', '彷佛', '唿吸', '言语'],\n",
       "  'Link': 'https://lyricspinyin.com/2020/05/04/xi-huan-ni-%e5%96%9c%e6%ad%a1%e4%bd%a0-by-lala-%e5%be%90%e4%bd%b3%e7%91%a9-pinyin-lyrics-and-english-translation/'},\n",
       " {'Title': 'Ke Bo Le 克卜勒',\n",
       "  'Artist': 'LaLa 徐佳瑩',\n",
       "  'Understandability': 54,\n",
       "  'Importance': 49,\n",
       "  'Score': -5,\n",
       "  'New Words': ['闪亮',\n",
       "   '投射',\n",
       "   '更迭',\n",
       "   '孤寂',\n",
       "   '粼粼',\n",
       "   '亮晶晶',\n",
       "   '一闪',\n",
       "   '源自',\n",
       "   '浩瀚',\n",
       "   '孤星',\n",
       "   '辉映',\n",
       "   '波光'],\n",
       "  'Link': 'https://lyricspinyin.com/2020/04/11/ke-bo-le-%e5%85%8b%e5%8d%9c%e5%8b%92-by-lala-%e5%be%90%e4%bd%b3%e7%91%a9-pinyin-lyrics-and-english-translation/'},\n",
       " {'Title': 'Ban Tu Er Fei\\xa0半途而廢',\n",
       "  'Artist': 'Lala Hsu 徐佳瑩',\n",
       "  'Understandability': 55,\n",
       "  'Importance': 53,\n",
       "  'Score': -2,\n",
       "  'New Words': ['白旗',\n",
       "   '反覆',\n",
       "   '忙忙碌碌',\n",
       "   '贪图享乐',\n",
       "   '昏昏',\n",
       "   '辛辛苦苦',\n",
       "   '痛痛快快',\n",
       "   '愕愕',\n",
       "   '海阔天空',\n",
       "   '义无反顾'],\n",
       "  'Link': 'https://lyricspinyin.com/2020/03/28/ban-tu-er-fei-%e5%8d%8a%e9%80%94%e8%80%8c%e5%bb%a2-by-lala-hsu-%e5%be%90%e4%bd%b3%e7%91%a9-pinyin-lyrics-and-english-translation/'},\n",
       " {'Title': 'Bu Nan 不難',\n",
       "  'Artist': 'LaLa 徐佳瑩',\n",
       "  'Understandability': 57,\n",
       "  'Importance': 55,\n",
       "  'Score': -2,\n",
       "  'New Words': ['欺瞒', '烟消云散', '强悍', '牵绊', '恶性循环'],\n",
       "  'Link': 'https://lyricspinyin.com/2020/03/16/bu-nan-%e4%b8%8d%e9%9b%a3-by-lala-%e5%be%90%e4%bd%b3%e7%91%a9-pinyin-lyrics-and-english-translation/'},\n",
       " {'Title': 'Yan Bu You Zhong 言不由衷',\n",
       "  'Artist': 'LaLa 徐佳瑩',\n",
       "  'Understandability': 52,\n",
       "  'Importance': 49,\n",
       "  'Score': -3,\n",
       "  'New Words': ['言不由衷', '阖上', '懦弱', '逝去', '昇', '愚勇', '不慌不忙', '虔诚', '祷文', '善变'],\n",
       "  'Link': 'https://lyricspinyin.com/2020/03/08/yan-bu-you-zhong-%e8%a8%80%e4%b8%8d%e7%94%b1%e8%a1%b7-by-lala-%e5%be%90%e4%bd%b3%e7%91%a9-pinyin-lyrics-and-english-translation/'},\n",
       " {'Title': 'Wo Hai Nian Qing Wo Hai Nian Qing 我還年輕 我還年輕',\n",
       "  'Artist': 'LaLa 徐佳瑩',\n",
       "  'Understandability': 67,\n",
       "  'Importance': 60,\n",
       "  'Score': -7,\n",
       "  'New Words': ['凝望', '荒芜', '轻狂'],\n",
       "  'Link': 'https://lyricspinyin.com/2020/03/01/wo-hai-nian-qing-wo-hai-nian-qing-%e6%88%91%e9%82%84%e5%b9%b4%e8%bc%95-%e6%88%91%e9%82%84%e5%b9%b4%e8%bc%95-by-pinyin-lyrics-and-english-translation/'},\n",
       " {'Title': 'Hui Se 灰色',\n",
       "  'Artist': 'LaLa 徐佳瑩',\n",
       "  'Understandability': 52,\n",
       "  'Importance': 51,\n",
       "  'Score': -1,\n",
       "  'New Words': ['一触即发',\n",
       "   '尘埃',\n",
       "   '眼泪',\n",
       "   '闇',\n",
       "   '融为一体',\n",
       "   '佈',\n",
       "   '慵懒',\n",
       "   '拂去',\n",
       "   '封印',\n",
       "   '飘飘荡荡',\n",
       "   '云朵',\n",
       "   '栀子花'],\n",
       "  'Link': 'https://lyricspinyin.com/2020/02/27/hui-se-%e7%81%b0%e8%89%b2-by-lala-%e5%be%90%e4%bd%b3%e7%91%a9-pinyin-lyrics-and-english-translation/'},\n",
       " {'Title': 'Shi Mian Fei Hang 失眠飛行',\n",
       "  'Artist': 'Xue Ming Yuan 薛明媛',\n",
       "  'Understandability': 58,\n",
       "  'Importance': 56,\n",
       "  'Score': -2,\n",
       "  'New Words': ['闭眼', '多云', '驻足', '泪流', '潜入', '浮现', '格林威治'],\n",
       "  'Link': 'https://lyricspinyin.com/2019/10/19/shi-mian-fei-hang-%e5%a4%b1%e7%9c%a0%e9%a3%9b%e8%a1%8c-by-xue-ming-yuan-%e8%96%9b%e6%98%8e%e5%aa%9b-pinyin-lyrics-and-english-translation/'},\n",
       " {'Title': 'Dan Lian Yi Zhi Hua 單戀一枝花',\n",
       "  'Artist': 'Ya Dan Dan 丫蛋蛋',\n",
       "  'Understandability': 56,\n",
       "  'Importance': 48,\n",
       "  'Score': -8,\n",
       "  'New Words': ['伪装',\n",
       "   '海枯石烂',\n",
       "   '死守',\n",
       "   '神伤',\n",
       "   '眼泪',\n",
       "   '单恋',\n",
       "   '天涯',\n",
       "   '貌合神离',\n",
       "   '割舍不下',\n",
       "   '曲曲折折',\n",
       "   '恩爱',\n",
       "   '一枝花'],\n",
       "  'Link': 'https://lyricspinyin.com/2020/05/14/dan-lian-yi-zhi-hua-%e5%96%ae%e6%88%80%e4%b8%80%e6%9e%9d%e8%8a%b1-by-ya-dan-dan-%e4%b8%ab%e8%9b%8b%e8%9b%8b-pinyin-lyrics-and-english-translation/'},\n",
       " {'Title': 'Ni Zhen De Ai Guo Wo Ma 你真的愛過我嗎',\n",
       "  'Artist': 'Yan Yu 厭愚',\n",
       "  'Understandability': 58,\n",
       "  'Importance': 53,\n",
       "  'Score': -5,\n",
       "  'New Words': ['迷惘', '心防', '反覆', '会伴', '遥不可及'],\n",
       "  'Link': 'https://lyricspinyin.com/2020/02/04/ni-zhen-de-ai-guo-wo-ma-%e4%bd%a0%e7%9c%9f%e7%9a%84%e6%84%9b%e9%81%8e%e6%88%91%e5%97%8e-by-yan-yu-%e5%8e%ad%e6%84%9a-pinyin-lyrics-and-english-translation/'},\n",
       " {'Title': 'Cui Ruo Xing Qiu 脆弱星球',\n",
       "  'Artist': 'Yang Pang Yu 楊胖雨',\n",
       "  'Understandability': 58,\n",
       "  'Importance': 55,\n",
       "  'Score': -3,\n",
       "  'New Words': ['吻痕', '眼泪', '谎话', '野心勃勃', '额头', '痛不痛', '配搭'],\n",
       "  'Link': 'https://lyricspinyin.com/2020/06/14/cui-ruo-xing-qiu-%e8%84%86%e5%bc%b1%e6%98%9f%e7%90%83-by-yang-pang-yu-%e6%a5%8a%e8%83%96%e9%9b%a8-pinyin-lyrics-and-english-translation/'},\n",
       " {'Title': 'Niu Nai Mian Bao 牛奶面包',\n",
       "  'Artist': 'Yang Zi 楊紫',\n",
       "  'Understandability': 52,\n",
       "  'Importance': 49,\n",
       "  'Score': -3,\n",
       "  'New Words': ['烘焙', '卷起', '矜持', '配方', '一瞬间把', '毒药', '独占'],\n",
       "  'Link': 'https://lyricspinyin.com/2020/04/29/niu-nai-mian-bao-%e7%89%9b%e5%a5%b6%e9%9d%a2%e5%8c%85-by-yang-zi-%e6%a5%8a%e7%b4%ab-pinyin-lyrics-and-english-translation/'},\n",
       " {'Title': 'Ting Wo Shuo Xie Xie Ni 聽我說謝謝你',\n",
       "  'Artist': 'Ye Jia 葉嘉',\n",
       "  'Understandability': 60,\n",
       "  'Importance': 50,\n",
       "  'Score': -10,\n",
       "  'New Words': [],\n",
       "  'Link': 'https://lyricspinyin.com/2019/12/28/ting-wo-shuo-xie-xie-ni-%e8%81%bd%e6%88%91%e8%aa%aa%e8%ac%9d%e8%ac%9d%e4%bd%a0-by-ye-jia-%e8%91%89%e5%98%89-pinyin-lyrics-and-english-translation/'},\n",
       " {'Title': 'Hua 花',\n",
       "  'Artist': 'Ye Xuan Qing 葉炫清',\n",
       "  'Understandability': 54,\n",
       "  'Importance': 49,\n",
       "  'Score': -5,\n",
       "  'New Words': ['寻获', '尘埃', '不忍', '黯淡', '收敛', '遮住', '一盏灯', '一粒', '言不由衷', '踏碎'],\n",
       "  'Link': 'https://lyricspinyin.com/2020/09/05/hua-%e8%8a%b1-by-ye-xuan-qing-%e8%91%89%e7%82%ab%e6%b8%85-pinyin-lyrics-and-english-translation/'},\n",
       " {'Title': 'Xing Guang Zai Ni Shou Shang 星光在你手上',\n",
       "  'Artist': 'Ye Xuan Qing 葉炫清Pinyin Lyrics And English Translation - Lyrics Pinyin',\n",
       "  'Understandability': 53,\n",
       "  'Importance': 50,\n",
       "  'Score': -3,\n",
       "  'New Words': ['一瞬', '浮尘', '星辰', '寂寥', '坠落在', '须臾'],\n",
       "  'Link': 'https://lyricspinyin.com/2020/08/27/xing-guang-zai-ni-shou-shang-%e6%98%9f%e5%85%89%e5%9c%a8%e4%bd%a0%e6%89%8b%e4%b8%8a-by-ye-xuan-qing-%e8%91%89%e7%82%ab%e6%b8%85pinyin-lyrics-and-english-translation/'},\n",
       " {'Title': 'Ta Bi Wo Zhong Yao 她比我重要',\n",
       "  'Artist': 'Ye Xuan Qing 葉炫清',\n",
       "  'Understandability': 56,\n",
       "  'Importance': 54,\n",
       "  'Score': -2,\n",
       "  'New Words': ['三秒', '扛过', '坠落', '狠狠', '在劫难逃', '从未有过', '监牢'],\n",
       "  'Link': 'https://lyricspinyin.com/2020/07/02/ta-bi-wo-zhong-yao-%e5%a5%b9%e6%af%94%e6%88%91%e9%87%8d%e8%a6%81-by-ye-xuan-qing-%e8%91%89%e7%82%ab%e6%b8%85-pinyin-lyrics-and-english-translation/'},\n",
       " {'Title': 'Qing Chun De Bi Hua 青春的筆劃',\n",
       "  'Artist': 'Ye Xuan Qing 葉炫清',\n",
       "  'Understandability': 66,\n",
       "  'Importance': 60,\n",
       "  'Score': -6,\n",
       "  'New Words': ['忍住', '眼泪', '谎话', '玻璃杯', '伤悲'],\n",
       "  'Link': 'https://lyricspinyin.com/2020/05/01/qing-chun-de-bi-hua-%e9%9d%92%e6%98%a5%e7%9a%84%e7%ad%86%e5%8a%83-by-ye-xuan-qing-%e8%91%89%e7%82%ab%e6%b8%85-pinyin-lyrics-and-english-translation/'},\n",
       " {'Title': 'Pian Zhi 偏執',\n",
       "  'Artist': 'Ye Xuan Qing 葉炫清',\n",
       "  'Understandability': 59,\n",
       "  'Importance': 54,\n",
       "  'Score': -5,\n",
       "  'New Words': ['煳', '恶性循环', '癒'],\n",
       "  'Link': 'https://lyricspinyin.com/2020/01/07/pian-zhi-%e5%81%8f%e5%9f%b7-by-ye-xuan-qing-%e8%91%89%e7%82%ab%e6%b8%85-pinyin-lyrics-and-english-translation/'},\n",
       " {'Title': 'Yi Tian 一天',\n",
       "  'Artist': 'YELLOW 黃宣',\n",
       "  'Understandability': 51,\n",
       "  'Importance': 45,\n",
       "  'Score': -6,\n",
       "  'New Words': ['吹拂', '唤醒', '掉泪', '斑驳', '凝结', '漩涡', '孤单', '魔咒', '物归'],\n",
       "  'Link': 'https://lyricspinyin.com/2020/01/31/yi-tian-%e4%b8%80%e5%a4%a9-by-yellow-%e9%bb%83%e5%ae%a3-pinyin-lyrics-and-english-translation/'},\n",
       " {'Title': 'Hao Xiang Yao Qian Ni De Shou 好想要牽你的手',\n",
       "  'Artist': 'Yi Kou Tian 一口甜',\n",
       "  'Understandability': 65,\n",
       "  'Importance': 63,\n",
       "  'Score': -2,\n",
       "  'New Words': ['孤寂'],\n",
       "  'Link': 'https://lyricspinyin.com/2020/03/03/hao-xiang-yao-qian-ni-de-shou-%e5%a5%bd%e6%83%b3%e8%a6%81%e7%89%bd%e4%bd%a0%e7%9a%84%e6%89%8b-by-yi-kou-tian-%e4%b8%80%e5%8f%a3%e7%94%9c-pinyin-lyrics-and-english-translation/'},\n",
       " {'Title': 'Zui Tian Qing Ge 最甜情歌',\n",
       "  'Artist': 'Yi Min 一玟',\n",
       "  'Understandability': 57,\n",
       "  'Importance': 53,\n",
       "  'Score': -4,\n",
       "  'New Words': ['你配', '沉醉在', '嫌弃', '畅快', '沖', '宠爱', '肖'],\n",
       "  'Link': 'https://lyricspinyin.com/2020/01/07/zui-tian-qing-ge-%e6%9c%80%e7%94%9c%e6%83%85%e6%ad%8c-by-yi-min-%e4%b8%80%e7%8e%9f-pinyin-lyrics-and-english-translation/'},\n",
       " {'Title': 'Hai Di 海底',\n",
       "  'Artist': 'Yi Zhi Liu Lian 一支榴槤',\n",
       "  'Understandability': 51,\n",
       "  'Importance': 49,\n",
       "  'Score': -2,\n",
       "  'New Words': ['沙砾', '撒进', '打湿', '湿湿的', '鳞', '手臂', '打捞', '骨灰', '窒息'],\n",
       "  'Link': 'https://lyricspinyin.com/2020/05/17/hai-di-%e6%b5%b7%e5%ba%95-by-yi-zhi-liu-lian-%e4%b8%80%e6%94%af%e6%a6%b4%e6%a7%a4-pinyin-lyrics-and-english-translation/'},\n",
       " {'Title': 'Li Xia 立夏',\n",
       "  'Artist': 'Yin Que Shi Ting 音闕詩聽 feat 昆玉',\n",
       "  'Understandability': 24,\n",
       "  'Importance': 22,\n",
       "  'Score': -2,\n",
       "  'New Words': ['得闲',\n",
       "   '落肩以',\n",
       "   '雁书',\n",
       "   '挑花',\n",
       "   '初绽',\n",
       "   '可托',\n",
       "   '团扇',\n",
       "   '官藤床',\n",
       "   '送君',\n",
       "   '拱黛托',\n",
       "   '山一桿',\n",
       "   '捻',\n",
       "   '槐花',\n",
       "   '长亭',\n",
       "   '挽袖',\n",
       "   '压皱',\n",
       "   '悬月兰桥',\n",
       "   '茶盏',\n",
       "   '牵天',\n",
       "   '船尾',\n",
       "   '笔代簪',\n",
       "   '能聚',\n",
       "   '三斗',\n",
       "   '之涯',\n",
       "   '一泪',\n",
       "   '瓷碗',\n",
       "   '箸',\n",
       "   '玉盘'],\n",
       "  'Link': 'https://lyricspinyin.com/2020/05/06/li-xia-%e7%ab%8b%e5%a4%8f-by-yin-que-shi-ting-%e9%9f%b3%e9%97%95%e8%a9%a9%e8%81%bd-feat-%e6%98%86%e7%8e%89-pinyin-lyrics/'},\n",
       " {'Title': 'Chen Yu 沉魚',\n",
       "  'Artist': 'Yin Que Shi Ting 音闕詩聽 feat.趙方婧 王梓鈺',\n",
       "  'Understandability': 45,\n",
       "  'Importance': 39,\n",
       "  'Score': -6,\n",
       "  'New Words': ['相逢',\n",
       "   '一幕',\n",
       "   '青丝',\n",
       "   '熙熙攘攘',\n",
       "   '惊鸿',\n",
       "   '阡陌',\n",
       "   '轻抚',\n",
       "   '风尘',\n",
       "   '纷纷扰扰',\n",
       "   '衣袖',\n",
       "   '晃晃悠悠',\n",
       "   '浑浑噩噩',\n",
       "   '隐隐约约'],\n",
       "  'Link': 'https://lyricspinyin.com/2020/04/13/chen-yu-%e6%b2%89%e9%ad%9a-by-yin-que-shi-ting-%e9%9f%b3%e9%97%95%e8%a9%a9%e8%81%bd-feat-%e8%b6%99%e6%96%b9%e5%a9%a7-%e7%8e%8b%e6%a2%93%e9%88%ba-pinyin-lyrics/'},\n",
       " {'Title': 'Da Xue 大雪',\n",
       "  'Artist': 'Wang Zi Yu 王梓鈺 音闕詩聽',\n",
       "  'Understandability': 35,\n",
       "  'Importance': 30,\n",
       "  'Score': -5,\n",
       "  'New Words': ['荒野',\n",
       "   '归来',\n",
       "   '风骨',\n",
       "   '一竿',\n",
       "   '塞外',\n",
       "   '皑皑',\n",
       "   '潦草',\n",
       "   '异乡',\n",
       "   '传来',\n",
       "   '踉跄',\n",
       "   '深巷',\n",
       "   '掩去',\n",
       "   '跌破',\n",
       "   '发梢',\n",
       "   '犹在',\n",
       "   '小楷',\n",
       "   '抖开',\n",
       "   '琼花',\n",
       "   '瘦竹证',\n",
       "   '跃马',\n",
       "   '第一枝',\n",
       "   '长扣',\n",
       "   '俯仰',\n",
       "   '小红炉',\n",
       "   '银霜',\n",
       "   '柴扉',\n",
       "   '晃荡',\n",
       "   '斜倚',\n",
       "   '从巷',\n",
       "   '时赠',\n",
       "   '撞琼台',\n",
       "   '穿尘过',\n",
       "   '对酌',\n",
       "   '造访',\n",
       "   '赠',\n",
       "   '离愁别绪'],\n",
       "  'Link': 'https://lyricspinyin.com/2020/03/06/da-xue-%e5%a4%a7%e9%9b%aa-by-wang-zi-yu-%e7%8e%8b%e6%a2%93%e9%88%ba-%e9%9f%b3%e9%97%95%e8%a9%a9%e8%81%bd-pinyin-lyrics/'},\n",
       " {'Title': 'Ru Guo Ni Cong Bu Ceng Ai Guo Wo 如果你從不曾愛過我',\n",
       "  'Artist': '音闕詩聽',\n",
       "  'Understandability': 59,\n",
       "  'Importance': 54,\n",
       "  'Score': -5,\n",
       "  'New Words': ['不忍', '闪躲', '紧握', '心窝'],\n",
       "  'Link': 'https://lyricspinyin.com/2019/12/22/ru-guo-ni-cong-bu-ceng-ai-guo-wo-%e5%a6%82%e6%9e%9c%e4%bd%a0%e5%be%9e%e4%b8%8d%e6%9b%be%e6%84%9b%e9%81%8e%e6%88%91-by-%e9%9f%b3%e9%97%95%e8%a9%a9%e8%81%bd-pinyin-lyrics-and-english-translation/'},\n",
       " {'Title': 'Zai Jian De Bu Jian De 再見的 不見的',\n",
       "  'Artist': 'Yisa Yu 郁可唯',\n",
       "  'Understandability': 54,\n",
       "  'Importance': 49,\n",
       "  'Score': -5,\n",
       "  'New Words': ['巷口',\n",
       "   '榕树下',\n",
       "   '唿唤',\n",
       "   '晚归',\n",
       "   '弯弯',\n",
       "   '年华',\n",
       "   '发芽',\n",
       "   '贪玩',\n",
       "   '盔甲',\n",
       "   '屋檐',\n",
       "   '晚霞',\n",
       "   '宝藏',\n",
       "   '微亮',\n",
       "   '炎夏',\n",
       "   '铁匣'],\n",
       "  'Link': 'https://lyricspinyin.com/2020/10/08/zai-jian-de-bu-jian-de-%e5%86%8d%e8%a6%8b%e7%9a%84-%e4%b8%8d%e8%a6%8b%e7%9a%84-by-yisa-yu-%e9%83%81%e5%8f%af%e5%94%af-pinyin-lyrics-and-english-translation/'},\n",
       " {'Title': 'Wan Cun Tong Hua 頑存童話',\n",
       "  'Artist': 'Yisa Yu 郁可唯',\n",
       "  'Understandability': 52,\n",
       "  'Importance': 49,\n",
       "  'Score': -3,\n",
       "  'New Words': ['收摊',\n",
       "   '伤疤',\n",
       "   '犯傻',\n",
       "   '疯涨',\n",
       "   '浇灌',\n",
       "   '闪若',\n",
       "   '顽存',\n",
       "   '几枚',\n",
       "   '中顽存',\n",
       "   '懦弱',\n",
       "   '盛夏',\n",
       "   '野生',\n",
       "   '人间蒸发',\n",
       "   '盛世'],\n",
       "  'Link': 'https://lyricspinyin.com/2020/07/29/wan-cun-tong-hua-%e9%a0%91%e5%ad%98%e7%ab%a5%e8%a9%b1-by-yisa-yu-%e9%83%81%e5%8f%af%e5%94%af-pinyin-lyrics-and-english-translation/'},\n",
       " {'Title': 'Wo Hang Wo Su Wo Ai Ni 我行我素我愛你',\n",
       "  'Artist': 'Yisa Yu 郁可唯',\n",
       "  'Understandability': 56,\n",
       "  'Importance': 53,\n",
       "  'Score': -3,\n",
       "  'New Words': ['我行我素',\n",
       "   '永恆',\n",
       "   '冥顽不灵',\n",
       "   '天崩地裂',\n",
       "   '同归于尽',\n",
       "   '认命',\n",
       "   '毫不费力',\n",
       "   '赌局',\n",
       "   '孤注一掷'],\n",
       "  'Link': 'https://lyricspinyin.com/2020/07/28/wo-hang-wo-su-wo-ai-ni-%e6%88%91%e8%a1%8c%e6%88%91%e7%b4%a0%e6%88%91%e6%84%9b%e4%bd%a0-by-yisa-yu-%e9%83%81%e5%8f%af%e5%94%af-pinyin-lyrics-and-english-translation/'},\n",
       " {'Title': 'Qing Ren Zhou 情人咒',\n",
       "  'Artist': 'Ayanga 阿雲嘎 & Yisa Yu 郁可唯',\n",
       "  'Understandability': 49,\n",
       "  'Importance': 48,\n",
       "  'Score': -1,\n",
       "  'New Words': ['伤筋',\n",
       "   '执迷',\n",
       "   '扑腾',\n",
       "   '不碌',\n",
       "   '煳',\n",
       "   '夙慕',\n",
       "   '斑驳',\n",
       "   '如火如荼',\n",
       "   '飞蛾',\n",
       "   '彻骨',\n",
       "   '动骨',\n",
       "   '肋骨',\n",
       "   '归宿',\n",
       "   '寒眸',\n",
       "   '执念似',\n",
       "   '掴',\n",
       "   '肺腑',\n",
       "   '恍惑',\n",
       "   '虚度',\n",
       "   '捕获',\n",
       "   '我蒙上',\n",
       "   '未',\n",
       "   '青涩',\n",
       "   '恶'],\n",
       "  'Link': 'https://lyricspinyin.com/2020/07/27/qing-ren-zhou-%e6%83%85%e4%ba%ba%e5%92%92-by-ayanga-%e9%98%bf%e9%9b%b2%e5%98%8e-yisa-yu-%e9%83%81%e5%8f%af%e5%94%af-pinyin-lyrics-and-english-translation/'},\n",
       " {'Title': 'Zhi Fou Zhi Fou 知否知否',\n",
       "  'Artist': 'Hu Xia 胡夏 & Yisa Yu 郁可唯',\n",
       "  'Understandability': 29,\n",
       "  'Importance': 28,\n",
       "  'Score': -1,\n",
       "  'New Words': ['蓦',\n",
       "   '雨疏',\n",
       "   '纵饮',\n",
       "   '风骤',\n",
       "   '亭',\n",
       "   '侯',\n",
       "   '卷帘',\n",
       "   '晖',\n",
       "   '高冰泪',\n",
       "   '宫长',\n",
       "   '骁瘦台',\n",
       "   '傍柳',\n",
       "   '海棠',\n",
       "   '寻香误',\n",
       "   '朝霞',\n",
       "   '流锦书',\n",
       "   '残酒'],\n",
       "  'Link': 'https://lyricspinyin.com/2020/07/13/zhi-fou-zhi-fou-%e7%9f%a5%e5%90%a6%e7%9f%a5%e5%90%a6-by-hu-xia-%e8%83%a1%e5%a4%8f-yisa-yu-%e9%83%81%e5%8f%af%e5%94%af-pinyin-lyrics/'},\n",
       " {'Title': 'Ni Zhi Dao 你知道',\n",
       "  'Artist': 'Yisa Yu 郁可唯',\n",
       "  'Understandability': 55,\n",
       "  'Importance': 53,\n",
       "  'Score': -2,\n",
       "  'New Words': ['绽', '繁星', '捉弄', '铺陈', '冰融', '微小', '重逢', '未'],\n",
       "  'Link': 'https://lyricspinyin.com/2019/12/03/ni-zhi-dao-%e4%bd%a0%e7%9f%a5%e9%81%93-by-yisa-yu-%e9%83%81%e5%8f%af%e5%94%af-pinyin-lyrics-and-english-translation/'},\n",
       " {'Title': 'Lu Guo Ren Jian 路過人間',\n",
       "  'Artist': 'Yisa Yu 郁可唯',\n",
       "  'Understandability': 52,\n",
       "  'Importance': 48,\n",
       "  'Score': -4,\n",
       "  'New Words': ['鍊',\n",
       "   '说来惭愧',\n",
       "   '嘿意',\n",
       "   '昙花',\n",
       "   '眼泪',\n",
       "   '亏欠',\n",
       "   '轮回',\n",
       "   '贪',\n",
       "   '痛过',\n",
       "   '善变',\n",
       "   '蹉跎岁月',\n",
       "   '擦肩',\n",
       "   '嘿要',\n",
       "   '幻觉',\n",
       "   '嘿别',\n",
       "   '瞋',\n",
       "   '痴怨',\n",
       "   '并肩'],\n",
       "  'Link': 'https://lyricspinyin.com/2019/10/10/lu-guo-ren-jian-%e8%b7%af%e9%81%8e%e4%ba%ba%e9%96%93-by-yisa-yu-%e9%83%81%e5%8f%af%e5%94%af-pinyin-lyrics-and-english-translation/'},\n",
       " {'Title': 'Bao Zhe Ni 抱著你',\n",
       "  'Artist': 'Yoyo Sham 岑寧兒',\n",
       "  'Understandability': 64,\n",
       "  'Importance': 60,\n",
       "  'Score': -4,\n",
       "  'New Words': ['坦然'],\n",
       "  'Link': 'https://lyricspinyin.com/2020/09/10/bao-zhe-ni-%e6%8a%b1%e8%91%97%e4%bd%a0-by-yoyo-sham-%e5%b2%91%e5%af%a7%e5%85%92-pinyin-lyrics-and-english-translation/'},\n",
       " {'Title': 'Pu Tong Nu Hai 普通女孩',\n",
       "  'Artist': 'Yu Bao 宇寶',\n",
       "  'Understandability': 62,\n",
       "  'Importance': 53,\n",
       "  'Score': -9,\n",
       "  'New Words': ['夺走', '赐予', '并不等于', '脚踏实地', '仰望'],\n",
       "  'Link': 'https://lyricspinyin.com/2020/02/17/pu-tong-nu-hai-%e6%99%ae%e9%80%9a%e5%a5%b3%e5%ad%a9-by-yu-bao-%e5%ae%87%e5%af%b6-pinyin-lyrics-and-english-translation/'},\n",
       " {'Title': 'Zhong Xin Xi Huan Ni 重新喜歡你',\n",
       "  'Artist': 'Yu Bo Ya 于博雅',\n",
       "  'Understandability': 67,\n",
       "  'Importance': 61,\n",
       "  'Score': -6,\n",
       "  'New Words': ['疯疯'],\n",
       "  'Link': 'https://lyricspinyin.com/2020/04/19/zhong-xin-xi-huan-ni-%e9%87%8d%e6%96%b0%e5%96%9c%e6%ad%a1%e4%bd%a0-by-yu-bo-ya-%e4%ba%8e%e5%8d%9a%e9%9b%85-pinyin-lyrics-and-english-translation/'},\n",
       " {'Title': 'Ce Lian 側臉',\n",
       "  'Artist': 'Yu Guo 于果',\n",
       "  'Understandability': 53,\n",
       "  'Importance': 50,\n",
       "  'Score': -3,\n",
       "  'New Words': ['煳', '蜕变', '决裂', '残破', '不计前嫌', '伤痛', '下模', '不知疲倦'],\n",
       "  'Link': 'https://lyricspinyin.com/2019/11/30/ce-lian-%e5%81%b4%e8%87%89-by-yu-guo-%e4%ba%8e%e6%9e%9c-pinyin-lyrics-and-english-translation/'},\n",
       " {'Title': 'Ji Quang 極光',\n",
       "  'Artist': 'Yu Guo 于果',\n",
       "  'Understandability': 52,\n",
       "  'Importance': 45,\n",
       "  'Score': -7,\n",
       "  'New Words': ['唿唤', '细腻', '触及', '呢喃', '牵绊', '孤单', '领航'],\n",
       "  'Link': 'https://lyricspinyin.com/2019/11/14/ji-quang-%e6%a5%b5%e5%85%89-by-yu-guo-%e4%ba%8e%e6%9e%9c-pinyin-lyrics-and-english-translation/'},\n",
       " {'Title': 'Zui Tian Shi 最天使',\n",
       "  'Artist': 'Yu Tong 于潼 & Kao Qi Zheng 考其正',\n",
       "  'Understandability': 57,\n",
       "  'Importance': 53,\n",
       "  'Score': -4,\n",
       "  'New Words': ['传来', '铭记', '言辞', '刺青'],\n",
       "  'Link': 'https://lyricspinyin.com/2020/05/02/zui-tian-shi-%e6%9c%80%e5%a4%a9%e4%bd%bf-by-yu-tong-%e4%ba%8e%e6%bd%bc-kao-qi-zheng-%e8%80%83%e5%85%b6%e6%ad%a3-pinyin-lyrics-and-english-translation/'},\n",
       " {'Title': 'Cong Ni De Quan Shi Jie Cuo Guo 從你的全世界錯過',\n",
       "  'Artist': 'Yu Tong 于潼',\n",
       "  'Understandability': 61,\n",
       "  'Importance': 59,\n",
       "  'Score': -2,\n",
       "  'New Words': ['自哀', '压垮', '恶魔'],\n",
       "  'Link': 'https://lyricspinyin.com/2020/04/20/cong-ni-de-quan-shi-jie-cuo-guo-%e5%be%9e%e4%bd%a0%e7%9a%84%e5%85%a8%e4%b8%96%e7%95%8c%e9%8c%af%e9%81%8e-by-yu-tong-%e4%ba%8e%e6%bd%bc-pinyin-lyrics-and-english-translation/'},\n",
       " {'Title': 'Qiong Ji Yi Sheng Dao Bu Le De Tian Tang 窮極一生到不了的天堂',\n",
       "  'Artist': '喻言家',\n",
       "  'Understandability': 63,\n",
       "  'Importance': 59,\n",
       "  'Score': -4,\n",
       "  'New Words': ['散谎', '直截了当', '行囊', '伪装', '奢望'],\n",
       "  'Link': 'https://lyricspinyin.com/2020/01/06/qiong-ji-yi-sheng-dao-bu-le-de-tian-tang-%e7%aa%ae%e6%a5%b5%e4%b8%80%e7%94%9f%e5%88%b0%e4%b8%8d%e4%ba%86%e7%9a%84%e5%a4%a9%e5%a0%82-by-%e5%96%bb%e8%a8%80%e5%ae%b6-pinyin-lyrics-and-english-translation/'},\n",
       " {'Title': 'Ru Guo De Shi 如果的事',\n",
       "  'Artist': '李佳歡 feat 許維芳',\n",
       "  'Understandability': 67,\n",
       "  'Importance': 63,\n",
       "  'Score': -4,\n",
       "  'New Words': ['坎坷', '放肆', '矜持'],\n",
       "  'Link': 'https://lyricspinyin.com/2020/04/22/ru-guo-de-shi-%e5%a6%82%e6%9e%9c%e7%9a%84%e4%ba%8b-by-%e6%9d%8e%e4%bd%b3%e6%ad%a1-feat-%e8%a8%b1%e7%b6%ad%e8%8a%b3-pinyin-lyrics-and-english-translation/'},\n",
       " {'Title': 'Liang Liang 凉凉',\n",
       "  'Artist': 'Aska Yang 楊宗緯 Zhang Bi Chen 張碧晨',\n",
       "  'Understandability': 35,\n",
       "  'Importance': 31,\n",
       "  'Score': -4,\n",
       "  'New Words': ['劫难',\n",
       "   '生劫易',\n",
       "   '渡情',\n",
       "   '恍然',\n",
       "   '潋滟',\n",
       "   '拂满',\n",
       "   '春泥',\n",
       "   '暮光',\n",
       "   '繁花',\n",
       "   '成霜',\n",
       "   '凡尘',\n",
       "   '袖',\n",
       "   '还会春盛',\n",
       "   '灼灼',\n",
       "   '芳菲',\n",
       "   '微霜',\n",
       "   '须臾',\n",
       "   '夭夭',\n",
       "   '眺望',\n",
       "   '鬓',\n",
       "   '呵护',\n",
       "   '泪痕',\n",
       "   '牵强',\n",
       "   '落九尘',\n",
       "   '耗尽',\n",
       "   '愈渐',\n",
       "   '悠悠岁月',\n",
       "   '舍下',\n",
       "   '渐微凉',\n",
       "   '折旧',\n",
       "   '凉透',\n",
       "   '一盏'],\n",
       "  'Link': 'https://lyricspinyin.com/2020/03/29/liang-liang-%e5%87%89%e5%87%89-by-aska-yang-%e6%a5%8a%e5%ae%97%e7%b7%af-zhang-bi-chen-%e5%bc%b5%e7%a2%a7%e6%99%a8-pinyin-lyrics/'},\n",
       " {'Title': 'Xin Yu Zhi Shui 心欲止水',\n",
       "  'Artist': 'Zhang Bi Chen 張碧晨',\n",
       "  'Understandability': 44,\n",
       "  'Importance': 42,\n",
       "  'Score': -2,\n",
       "  'New Words': ['轻叩',\n",
       "   '枕边',\n",
       "   '红尘',\n",
       "   '死守',\n",
       "   '眼泪',\n",
       "   '袖',\n",
       "   '这爱欲止',\n",
       "   '佈',\n",
       "   '焚身',\n",
       "   '孑身',\n",
       "   '眼眸',\n",
       "   '执手',\n",
       "   '千劫',\n",
       "   '八荒',\n",
       "   '心如止水',\n",
       "   '一宵',\n",
       "   '生垢',\n",
       "   '深若',\n",
       "   '一霎',\n",
       "   '良人',\n",
       "   '断肠',\n",
       "   '无缘'],\n",
       "  'Link': 'https://lyricspinyin.com/2020/01/29/xin-yu-zhi-shui-%e5%bf%83%e6%ac%b2%e6%ad%a2%e6%b0%b4-by-zhang-bi-chen-%e5%bc%b5%e7%a2%a7%e6%99%a8-pinyin-lyrics/'},\n",
       " {'Title': 'Ri Bu Luo 日不落',\n",
       "  'Artist': 'Zhang Da Lei 張大蕾',\n",
       "  'Understandability': 55,\n",
       "  'Importance': 53,\n",
       "  'Score': -2,\n",
       "  'New Words': ['油画', '和平鸽', '未眠', '爱恋', '慵懒', '韵心', '禁卫军'],\n",
       "  'Link': 'https://lyricspinyin.com/2020/10/03/ri-bu-luo-%e6%97%a5%e4%b8%8d%e8%90%bd-by-zhang-da-lei-%e5%bc%b5%e5%a4%a7%e8%95%be-pinyin-lyrics-and-english-translation/'},\n",
       " {'Title': 'Yue Ban Ai Li Si 月半愛麗絲',\n",
       "  'Artist': 'Angela Zhang 張韶涵',\n",
       "  'Understandability': 56,\n",
       "  'Importance': 54,\n",
       "  'Score': -2,\n",
       "  'New Words': ['註', '跌倒', '年华', '无限', '肩竟'],\n",
       "  'Link': 'https://lyricspinyin.com/2020/10/10/yue-ban-ai-li-si-%e6%9c%88%e5%8d%8a%e6%84%9b%e9%ba%97%e7%b5%b2-by-angela-zhang-%e5%bc%b5%e9%9f%b6%e6%b6%b5-pinyin-lyrics-and-english-translation/'},\n",
       " {'Title': 'Po Jian 破繭',\n",
       "  'Artist': 'Angela Chang 張韶涵',\n",
       "  'Understandability': 47,\n",
       "  'Importance': 44,\n",
       "  'Score': -3,\n",
       "  'New Words': ['出鞘',\n",
       "   '击溃',\n",
       "   '孤勇',\n",
       "   '辗转',\n",
       "   '一腔',\n",
       "   '右锤护',\n",
       "   '深渊',\n",
       "   '武魂',\n",
       "   '洪流',\n",
       "   '无惧',\n",
       "   '挫伤',\n",
       "   '见招拆招',\n",
       "   '放肆',\n",
       "   '绝处逢生',\n",
       "   '诅咒',\n",
       "   '白昼',\n",
       "   '茧',\n",
       "   '羽翼',\n",
       "   '不朽',\n",
       "   '烈焰',\n",
       "   '拨动',\n",
       "   '狂涌'],\n",
       "  'Link': 'https://lyricspinyin.com/2020/06/15/po-jian-%e7%a0%b4%e7%b9%ad-by-angela-chang-%e5%bc%b5%e9%9f%b6%e6%b6%b5-pinyin-lyrics/'},\n",
       " {'Title': 'Ou Ruo La 歐若拉',\n",
       "  'Artist': 'Angela Zhang 張韶涵',\n",
       "  'Understandability': 55,\n",
       "  'Importance': 53,\n",
       "  'Score': -2,\n",
       "  'New Words': ['歌谣',\n",
       "   '欧若拉爱',\n",
       "   '奇幻',\n",
       "   '眼泪',\n",
       "   '红橙',\n",
       "   '山巅',\n",
       "   '展翅高飞',\n",
       "   '招唤',\n",
       "   '古老',\n",
       "   '恋人',\n",
       "   '缤纷',\n",
       "   '一眨眼'],\n",
       "  'Link': 'https://lyricspinyin.com/2020/01/27/ou-ruo-la-%e6%ad%90%e8%8b%a5%e6%8b%89-by-angela-zhang-%e5%bc%b5%e9%9f%b6%e6%b6%b5-pinyin-lyrics-and-english-translation/'},\n",
       " {'Title': 'Zuo Shi Zhuang Qiang 作勢裝腔',\n",
       "  'Artist': 'Angela Chang 張韶涵',\n",
       "  'Understandability': 61,\n",
       "  'Importance': 58,\n",
       "  'Score': -3,\n",
       "  'New Words': ['荒诞', '亦步亦趋', '索求', '蛮横无理', '装腔', '作势', '佯装', '多姿'],\n",
       "  'Link': 'https://lyricspinyin.com/2019/12/30/zuo-shi-zhuang-qiang-%e4%bd%9c%e5%8b%a2%e8%a3%9d%e8%85%94-by-angela-chang-%e5%bc%b5%e9%9f%b6%e6%b6%b5-pinyin-lyrics-and-english-translation/'},\n",
       " {'Title': 'Yin Lu De Feng Zheng 引路的風箏(The Kite Leads the Way)',\n",
       "  'Artist': 'Zhang Shao Han 張韶涵',\n",
       "  'Understandability': 52,\n",
       "  'Importance': 49,\n",
       "  'Score': -3,\n",
       "  'New Words': ['眼泪', '无畏', '牵引', '风筝', '此起彼落', '残破', '焰火', '缓缓的', '领着', '兇狠'],\n",
       "  'Link': 'https://lyricspinyin.com/2019/09/26/yin-lu-de-feng-zheng-%e5%bc%95%e8%b7%af%e7%9a%84%e9%a2%a8%e7%ae%8fthe-kite-leads-the-way-by-zhang-shao-han-%e5%bc%b5%e9%9f%b6%e6%b6%b5-pinyin-lyrics-and-english-translation/'},\n",
       " {'Title': 'Mu Qin De Cao Yuan 母親的草原',\n",
       "  'Artist': 'Zhang Xin 張芯',\n",
       "  'Understandability': 41,\n",
       "  'Importance': 37,\n",
       "  'Score': -4,\n",
       "  'New Words': ['唿唤', '歌谣', '荒漠', '渐渐', '蒙古高原', '苍老', '异乡', '毡房', '吞噬'],\n",
       "  'Link': 'https://lyricspinyin.com/2020/08/17/mu-qin-de-cao-yuan-%e6%af%8d%e8%a6%aa%e7%9a%84%e8%8d%89%e5%8e%9f-by-zhang-xin-%e5%bc%b5%e8%8a%af-pinyin-lyrics-and-english-translation/'},\n",
       " {'Title': 'Ke Han Shan 可汗山',\n",
       "  'Artist': 'Zhang Xin 張芯',\n",
       "  'Understandability': 55,\n",
       "  'Importance': 54,\n",
       "  'Score': -1,\n",
       "  'New Words': ['小鹿', '止息', '绽放'],\n",
       "  'Link': 'https://lyricspinyin.com/2020/07/27/ke-han-shan-%e5%8f%af%e6%b1%97%e5%b1%b1-by-zhang-xin-%e5%bc%b5%e8%8a%af-pinyin-lyrics-and-english-translation/'},\n",
       " {'Title': 'Wo Xiang Wo Bu Yi Yang 我想我不一樣',\n",
       "  'Artist': 'Zhang Zi Ning 張紫寧',\n",
       "  'Understandability': 58,\n",
       "  'Importance': 54,\n",
       "  'Score': -4,\n",
       "  'New Words': ['橱窗',\n",
       "   '旅途',\n",
       "   '枝芽',\n",
       "   '温热',\n",
       "   '绽放',\n",
       "   '闪着光',\n",
       "   '荆棘',\n",
       "   '刺眼',\n",
       "   '王',\n",
       "   '带刺',\n",
       "   '指缝',\n",
       "   '狂妄',\n",
       "   '尘土',\n",
       "   '羽毛',\n",
       "   '没折'],\n",
       "  'Link': 'https://lyricspinyin.com/2020/09/21/wo-xiang-wo-bu-yi-yang-%e6%88%91%e6%83%b3%e6%88%91%e4%b8%8d%e4%b8%80%e6%a8%a3-by-zhang-zi-ning-%e5%bc%b5%e7%b4%ab%e5%af%a7-pinyin-lyrics-and-english-translation/'},\n",
       " {'Title': 'Chen Yu 沉魚',\n",
       "  'Artist': 'Yin Que Shi Ting 音闕詩聽 feat.趙方婧 王梓鈺',\n",
       "  'Understandability': 45,\n",
       "  'Importance': 39,\n",
       "  'Score': -6,\n",
       "  'New Words': ['相逢',\n",
       "   '一幕',\n",
       "   '青丝',\n",
       "   '熙熙攘攘',\n",
       "   '惊鸿',\n",
       "   '阡陌',\n",
       "   '轻抚',\n",
       "   '风尘',\n",
       "   '纷纷扰扰',\n",
       "   '衣袖',\n",
       "   '晃晃悠悠',\n",
       "   '浑浑噩噩',\n",
       "   '隐隐约约'],\n",
       "  'Link': 'https://lyricspinyin.com/2020/04/13/chen-yu-%e6%b2%89%e9%ad%9a-by-yin-que-shi-ting-%e9%9f%b3%e9%97%95%e8%a9%a9%e8%81%bd-feat-%e8%b6%99%e6%96%b9%e5%a9%a7-%e7%8e%8b%e6%a2%93%e9%88%ba-pinyin-lyrics/'},\n",
       " {'Title': 'Mang Zhong 芒種',\n",
       "  'Artist': 'Zhao Fang Jing 趙方婧',\n",
       "  'Understandability': 38,\n",
       "  'Importance': 34,\n",
       "  'Score': -4,\n",
       "  'New Words': ['凋零',\n",
       "   '谓',\n",
       "   '囚新翠',\n",
       "   '红尘',\n",
       "   '枝丫',\n",
       "   '余晖',\n",
       "   '波澜不惊',\n",
       "   '掌心',\n",
       "   '墨若佛',\n",
       "   '无牵无挂',\n",
       "   '情不寿',\n",
       "   '念珠',\n",
       "   '发芽',\n",
       "   '牵挂',\n",
       "   '烟柳',\n",
       "   '山盟',\n",
       "   '谜底',\n",
       "   '旧谓',\n",
       "   '烟波',\n",
       "   '徒留',\n",
       "   '莲花',\n",
       "   '擦肩而过'],\n",
       "  'Link': 'https://lyricspinyin.com/2020/02/20/mang-zhong-%e8%8a%92%e7%a8%ae-by-zhao-fang-jing-%e8%b6%99%e6%96%b9%e5%a9%a7-pinyin-lyrics/'},\n",
       " {'Title': 'Tian Tian Jian Jian 甜甜鹹鹹',\n",
       "  'Artist': 'Zhao Zhi Tong 趙芷彤',\n",
       "  'Understandability': 63,\n",
       "  'Importance': 57,\n",
       "  'Score': -6,\n",
       "  'New Words': ['白昼', '狠狠', '眼泪', '撩', '记牢'],\n",
       "  'Link': 'https://lyricspinyin.com/2020/08/18/tian-tian-jian-jian-%e7%94%9c%e7%94%9c%e9%b9%b9%e9%b9%b9-by-zhao-zhi-tong-%e8%b6%99%e8%8a%b7%e5%bd%a4-pinyin-lyrics-and-english-translation/'},\n",
       " {'Title': 'Hua Pi 畫皮',\n",
       "  'Artist': 'Zhi Yan 紙硯',\n",
       "  'Understandability': 41,\n",
       "  'Importance': 36,\n",
       "  'Score': -5,\n",
       "  'New Words': ['拈花',\n",
       "   '玫瑰',\n",
       "   '巧舌如簧',\n",
       "   '妖冶',\n",
       "   '摇曳',\n",
       "   '遮面',\n",
       "   '漏邪',\n",
       "   '眉眼',\n",
       "   '沉沦',\n",
       "   '犯下',\n",
       "   '指拂来',\n",
       "   '魅莫',\n",
       "   '招惹',\n",
       "   '带刺',\n",
       "   '穿肠',\n",
       "   '瑟瑟',\n",
       "   '不配',\n",
       "   '勾人',\n",
       "   '邪',\n",
       "   '油灯',\n",
       "   '挑灯',\n",
       "   '舞姿'],\n",
       "  'Link': 'https://lyricspinyin.com/2020/06/13/hua-pi-%e7%95%ab%e7%9a%ae-by-zhi-yan-%e7%b4%99%e7%a1%af-pinyin-lyrics/'},\n",
       " {'Title': 'San Geng Ging Shi 三更情詩',\n",
       "  'Artist': 'Zhou Si Han 周思涵',\n",
       "  'Understandability': 48,\n",
       "  'Importance': 38,\n",
       "  'Score': -10,\n",
       "  'New Words': ['衔',\n",
       "   '脸颊',\n",
       "   '篱笆',\n",
       "   '斟上',\n",
       "   '天涯',\n",
       "   '墨色',\n",
       "   '韶华',\n",
       "   '孤影',\n",
       "   '燕子',\n",
       "   '牵挂',\n",
       "   '晚霞',\n",
       "   '朱廊',\n",
       "   '情不自禁',\n",
       "   '泥巴',\n",
       "   '红烛'],\n",
       "  'Link': 'https://lyricspinyin.com/2020/04/19/san-geng-ging-shi-%e4%b8%89%e6%9b%b4%e6%83%85%e8%a9%a9-by-zhou-si-han-%e5%91%a8%e6%80%9d%e6%b6%b5-pinyin-lyrics/'},\n",
       " {'Title': 'Du Ai 獨愛',\n",
       "  'Artist': 'Zhuang Xin Yan 莊心妍',\n",
       "  'Understandability': 61,\n",
       "  'Importance': 54,\n",
       "  'Score': -7,\n",
       "  'New Words': ['惊悚', '独爱', '拐角', '壹个', '妳', '些微', '偏移', '壹'],\n",
       "  'Link': 'https://lyricspinyin.com/2020/10/10/du-ai-%e7%8d%a8%e6%84%9b-by-zhuang-xin-yan-%e8%8e%8a%e5%bf%83%e5%a6%8d-pinyin-lyrics-and-english-translation/'},\n",
       " {'Title': 'Gai Li Kai De Shi Wo 該離開的是我',\n",
       "  'Artist': 'Zhuang Xin Yan 莊心妍',\n",
       "  'Understandability': 53,\n",
       "  'Importance': 48,\n",
       "  'Score': -5,\n",
       "  'New Words': ['宿命', '结疤', '温热', '牵着', '归零', '退缩', '沖', '癒', '挽留', '不痛'],\n",
       "  'Link': 'https://lyricspinyin.com/2020/08/28/gai-li-kai-de-shi-wo-%e8%a9%b2%e9%9b%a2%e9%96%8b%e7%9a%84%e6%98%af%e6%88%91-by-zhuang-xin-yan-%e8%8e%8a%e5%bf%83%e5%a6%8d-pinyin-lyrics-and-english-translation/'},\n",
       " {'Title': 'Ming Yun Ni Hao 命運你好',\n",
       "  'Artist': 'Zhuang Xin Yan 莊心妍',\n",
       "  'Understandability': 49,\n",
       "  'Importance': 45,\n",
       "  'Score': -4,\n",
       "  'New Words': ['拚命',\n",
       "   '逆境',\n",
       "   '跌倒',\n",
       "   '杀招',\n",
       "   '刀锋',\n",
       "   '浮萍',\n",
       "   '明招',\n",
       "   '泪流',\n",
       "   '烈风',\n",
       "   '见招拆招',\n",
       "   '骇浪惊涛',\n",
       "   '暗招',\n",
       "   '招破招',\n",
       "   '狠招',\n",
       "   '赤着',\n",
       "   '狂潮'],\n",
       "  'Link': 'https://lyricspinyin.com/2020/07/17/ming-yun-ni-hao-%e5%91%bd%e9%81%8b%e4%bd%a0%e5%a5%bd-by-zhuang-xin-yan-%e8%8e%8a%e5%bf%83%e5%a6%8d-pinyin-lyrics-and-english-translation/'},\n",
       " {'Title': 'Yi Zhi Xiang Zhe Ta 一直想著他',\n",
       "  'Artist': 'Zhuang Xin Yan 莊心妍',\n",
       "  'Understandability': 64,\n",
       "  'Importance': 56,\n",
       "  'Score': -8,\n",
       "  'New Words': ['伤疤', '牵挂'],\n",
       "  'Link': 'https://lyricspinyin.com/2020/07/09/yi-zhi-xiang-zhe-ta-%e4%b8%80%e7%9b%b4%e6%83%b3%e8%91%97%e4%bb%96-by-zhuang-xin-yan-%e8%8e%8a%e5%bf%83%e5%a6%8d-pinyin-lyrics-and-english-translation/'},\n",
       " {'Title': 'You Zhong Li Kai Jiao She Bu De 有種離開叫捨不得',\n",
       "  'Artist': 'Zhuang Xin Yan 莊心妍',\n",
       "  'Understandability': 62,\n",
       "  'Importance': 59,\n",
       "  'Score': -3,\n",
       "  'New Words': ['缘分', '能永恆', '泪落', '分割'],\n",
       "  'Link': 'https://lyricspinyin.com/2020/05/21/you-zhong-li-kai-jiao-she-bu-de-%e6%9c%89%e7%a8%ae%e9%9b%a2%e9%96%8b%e5%8f%ab%e6%8d%a8%e4%b8%8d%e5%be%97-by-zhuang-xin-yan-%e8%8e%8a%e5%bf%83%e5%a6%8d-pinyin-lyrics-and-english-translation/'},\n",
       " {'Title': 'Quan Ju Zhong 全劇終',\n",
       "  'Artist': 'Zhuang Xin Yan 莊心妍',\n",
       "  'Understandability': 58,\n",
       "  'Importance': 53,\n",
       "  'Score': -5,\n",
       "  'New Words': ['隐隐作痛', '跌宕起伏', '序幕', '伤痛', '缘分'],\n",
       "  'Link': 'https://lyricspinyin.com/2020/05/13/quan-ju-zhong-%e5%85%a8%e5%8a%87%e7%b5%82-by-zhuang-xin-yan-%e8%8e%8a%e5%bf%83%e5%a6%8d-pinyin-lyrics-and-english-translation/'},\n",
       " {'Title': 'Ni Ming Ming Jiu Hen Zai Hu Wo 你明明就很在乎我',\n",
       "  'Artist': 'Zhuang Xin Yan 莊心妍',\n",
       "  'Understandability': 69,\n",
       "  'Importance': 63,\n",
       "  'Score': -6,\n",
       "  'New Words': ['烟熏'],\n",
       "  'Link': 'https://lyricspinyin.com/2020/04/19/ni-ming-ming-jiu-hen-zai-hu-wo-%e4%bd%a0%e6%98%8e%e6%98%8e%e5%b0%b1%e5%be%88%e5%9c%a8%e4%b9%8e%e6%88%91-by-zhuang-xin-yan-%e8%8e%8a%e5%bf%83%e5%a6%8d-pinyin-lyrics-and-english-translation/'},\n",
       " {'Title': 'Zai Jian Zhi Shi Mo Sheng Ren 再見只是陌生人',\n",
       "  'Artist': 'Zhuang Xin Yan 莊心妍',\n",
       "  'Understandability': 62,\n",
       "  'Importance': 55,\n",
       "  'Score': -7,\n",
       "  'New Words': ['无痕', '眼泪', '难舍难分'],\n",
       "  'Link': 'https://lyricspinyin.com/2020/03/30/zai-jian-zhi-shi-mo-sheng-ren-%e5%86%8d%e8%a6%8b%e5%8f%aa%e6%98%af%e9%99%8c%e7%94%9f%e4%ba%ba-by-zhuang-xin-yan-%e8%8e%8a%e5%bf%83%e5%a6%8d-pinyin-lyrics-and-english-translation/'},\n",
       " {'Title': 'Xing Fu Lai Guo 幸福來過',\n",
       "  'Artist': 'Zhuang Xin Yan 莊心妍',\n",
       "  'Understandability': 57,\n",
       "  'Importance': 50,\n",
       "  'Score': -7,\n",
       "  'New Words': ['逝去', '邂逅', '天空海阔', '一瞬', '琥珀', '研磨', '泯灭', '重逢'],\n",
       "  'Link': 'https://lyricspinyin.com/2020/03/02/xing-fu-lai-guo-%e5%b9%b8%e7%a6%8f%e4%be%86%e9%81%8e-by-zhuang-xin-yan-%e8%8e%8a%e5%bf%83%e5%a6%8d-pinyin-lyrics-and-english-translation/'},\n",
       " {'Title': 'Pei Wo Yi Wang 陪我遺忘',\n",
       "  'Artist': 'Zhuang Xin Yan 莊心妍',\n",
       "  'Understandability': 63,\n",
       "  'Importance': 60,\n",
       "  'Score': -3,\n",
       "  'New Words': ['强', '坠落', '捉迷藏', '绽放', '静止'],\n",
       "  'Link': 'https://lyricspinyin.com/2020/02/22/pei-wo-yi-wang-%e9%99%aa%e6%88%91%e9%81%ba%e5%bf%98-by-zhuang-xin-yan-%e8%8e%8a%e5%bf%83%e5%a6%8d-pinyin-lyrics-and-english-translation/'},\n",
       " {'Title': 'Jin Sheng Zhi Neng Zuo Peng You 今生只能做朋友',\n",
       "  'Artist': 'Zi Mo Li 紫茉莉',\n",
       "  'Understandability': 51,\n",
       "  'Importance': 47,\n",
       "  'Score': -4,\n",
       "  'New Words': ['最痛', '泪滴', '挽留', '看透', '手牵手', '欲言又止', '湖边', '奢求', '伤痛', '缘分'],\n",
       "  'Link': 'https://lyricspinyin.com/2020/07/20/jin-sheng-zhi-neng-zuo-peng-you-%e4%bb%8a%e7%94%9f%e5%8f%aa%e8%83%bd%e5%81%9a%e6%9c%8b%e5%8f%8b-by-zi-mo-li-%e7%b4%ab%e8%8c%89%e8%8e%89-pinyin-lyrics-and-english-translation/'},\n",
       " {'Title': 'Zai Bao Jin Yi Dian 再抱緊一點',\n",
       "  'Artist': 'ZJ Hsu 許莉潔',\n",
       "  'Understandability': 60,\n",
       "  'Importance': 58,\n",
       "  'Score': -2,\n",
       "  'New Words': ['抽丝剥茧', '眼泪', '莫非', '凝结', '倖免'],\n",
       "  'Link': 'https://lyricspinyin.com/2019/11/18/zai-bao-jin-yi-dian-%e5%86%8d%e6%8a%b1%e7%b7%8a%e4%b8%80%e9%bb%9e-by-zj-hsu-%e8%a8%b1%e8%8e%89%e6%bd%94-pinyin-lyrics-and-english-translation/'},\n",
       " {'Title': 'Quan Yu 痊癒',\n",
       "  'Artist': 'ZJ Hsu 許莉潔',\n",
       "  'Understandability': 57,\n",
       "  'Importance': 56,\n",
       "  'Score': -1,\n",
       "  'New Words': ['趁泪', '熄', '诱生', '沖', '耗光', '唿吸', '沈溺', '癒', '成瘾'],\n",
       "  'Link': 'https://lyricspinyin.com/2019/11/14/quan-yu-%e7%97%8a%e7%99%92-by-zj-hsu-%e8%a8%b1%e8%8e%89%e6%bd%94-pinyin-lyrics-and-english-translation/'},\n",
       " {'Title': 'Ni Wo Zhi Jian 你我之間',\n",
       "  'Artist': 'A Rong 阿冗',\n",
       "  'Understandability': 52,\n",
       "  'Importance': 50,\n",
       "  'Score': -2,\n",
       "  'New Words': ['叙说', '腼腆', '触碰', '融解', '依恋', '言辞', '欲擒故纵', '越痛', '越丧'],\n",
       "  'Link': 'https://lyricspinyin.com/2020/09/17/ni-wo-zhi-jian-%e4%bd%a0%e6%88%91%e4%b9%8b%e9%96%93-by-a-rong-%e9%98%bf%e5%86%97-pinyin-lyrics-and-english-translation/'},\n",
       " {'Title': 'Kao Chuang 靠窗',\n",
       "  'Artist': 'A Rong 阿冗',\n",
       "  'Understandability': 55,\n",
       "  'Importance': 54,\n",
       "  'Score': -1,\n",
       "  'New Words': ['眼泪',\n",
       "   '芦苇',\n",
       "   '荡过',\n",
       "   '亏欠',\n",
       "   '腼腆',\n",
       "   '消遣',\n",
       "   '略显',\n",
       "   '有恃无恐',\n",
       "   '收敛',\n",
       "   '般配',\n",
       "   '漩涡',\n",
       "   '沈溺'],\n",
       "  'Link': 'https://lyricspinyin.com/2020/08/12/kao-chuang-%e9%9d%a0%e7%aa%97-by-a-rong-%e9%98%bf%e5%86%97-pinyin-lyrics-and-english-translation/'},\n",
       " {'Title': 'Qing Ge Ji Ju 情歌幾句',\n",
       "  'Artist': 'A Rong 阿冗',\n",
       "  'Understandability': 58,\n",
       "  'Importance': 53,\n",
       "  'Score': -5,\n",
       "  'New Words': ['肆意', '伪装', '孤单', '虚情', '涟漪', '叹息'],\n",
       "  'Link': 'https://lyricspinyin.com/2020/07/08/qing-ge-ji-ju-%e6%83%85%e6%ad%8c%e5%b9%be%e5%8f%a5-by-a-rong-%e9%98%bf%e5%86%97-pinyin-lyrics-and-english-translation/'},\n",
       " {'Title': 'Jiu Yao Fang Si 就要放肆',\n",
       "  'Artist': 'A Rong 阿冗',\n",
       "  'Understandability': 54,\n",
       "  'Importance': 48,\n",
       "  'Score': -6,\n",
       "  'New Words': ['若即若离', '哽咽', '幻觉', '忽冷忽热', '放肆'],\n",
       "  'Link': 'https://lyricspinyin.com/2020/04/23/jiu-yao-fang-si-%e5%b0%b1%e8%a6%81%e6%94%be%e8%82%86-by-a-rong-%e9%98%bf%e5%86%97-pinyin-lyrics-and-english-translation/'},\n",
       " {'Title': 'Yu Wo Wu Guan 與我無關',\n",
       "  'Artist': 'A Rong 阿冗',\n",
       "  'Understandability': 53,\n",
       "  'Importance': 51,\n",
       "  'Score': -2,\n",
       "  'New Words': ['沦为', '望眼欲穿', '嘘寒问暖', '自我调侃', '倾心', '旧患', '孤单', '波澜', '圣诞'],\n",
       "  'Link': 'https://lyricspinyin.com/2020/01/26/yu-wo-wu-guan-%e8%88%87%e6%88%91%e7%84%a1%e9%97%9c-by-a-rong-%e9%98%bf%e5%86%97-pinyin-lyrics-and-english-translation/'},\n",
       " {'Title': 'Ni De Da An 你的答案',\n",
       "  'Artist': 'A Rong 阿冗',\n",
       "  'Understandability': 57,\n",
       "  'Importance': 55,\n",
       "  'Score': -2,\n",
       "  'New Words': ['白昼', '懦弱', '孤单', '眼泪', '不甘'],\n",
       "  'Link': 'https://lyricspinyin.com/2019/11/15/ni-de-da-an-%e4%bd%a0%e7%9a%84%e7%ad%94%e6%a1%88-by-a-rong-%e9%98%bf%e5%86%97-pinyin-lyrics-and-english-translation/'},\n",
       " {'Title': 'Nian Nian Bu Wang 念念不忘',\n",
       "  'Artist': 'Ayal Komod 張震嶽',\n",
       "  'Understandability': 56,\n",
       "  'Importance': 54,\n",
       "  'Score': -2,\n",
       "  'New Words': ['宿命', '掌声如雷', '下定义', '痴狂', '麻痺'],\n",
       "  'Link': 'https://lyricspinyin.com/2019/11/25/nian-nian-bu-wang-%e5%bf%b5%e5%bf%b5%e4%b8%8d%e5%bf%98-by-ayal-komod-%e5%bc%b5%e9%9c%87%e5%b6%bd-pinyin-lyrics-and-english-translation/'},\n",
       " {'Title': 'Tan Xin 貪心',\n",
       "  'Artist': 'A-Yue 張震嶽',\n",
       "  'Understandability': 55,\n",
       "  'Importance': 47,\n",
       "  'Score': -8,\n",
       "  'New Words': ['记忆里', '涌出来', '犯了错', '贪心'],\n",
       "  'Link': 'https://lyricspinyin.com/2019/10/23/tan-xin-%e8%b2%aa%e5%bf%83-by-a-yue-%e5%bc%b5%e9%9c%87%e5%b6%bd-pinyin-lyrics-and-english-translation/'},\n",
       " {'Title': 'Jue Dui 絕對',\n",
       "  'Artist': 'A-Yue 張震嶽',\n",
       "  'Understandability': 50,\n",
       "  'Importance': 49,\n",
       "  'Score': -1,\n",
       "  'New Words': ['早晨', '沈甸甸', '闷', '霓虹灯', '疏离', '空荡荡', '水洼', '虚度', '宣洩'],\n",
       "  'Link': 'https://lyricspinyin.com/2019/10/14/jue-dui-%e7%b5%95%e5%b0%8d-by-a-yue-%e5%bc%b5%e9%9c%87%e5%b6%bd-pinyin-lyrics-and-english-translation/'},\n",
       " {'Title': 'Shi Guang Ji Qi 時光機器',\n",
       "  'Artist': 'Abin Fang 方泂鑌',\n",
       "  'Understandability': 59,\n",
       "  'Importance': 52,\n",
       "  'Score': -7,\n",
       "  'New Words': ['一幕', '湮灭', '妳', '穿梭', '浮现', '闭上'],\n",
       "  'Link': 'https://lyricspinyin.com/2019/10/04/shi-guang-ji-qi-%e6%99%82%e5%85%89%e6%a9%9f%e5%99%a8-by-abin-fang-%e6%96%b9%e6%b3%82%e9%91%8c-pinyin-lyrics-and-english-translation/'},\n",
       " {'Title': 'Dai Bu Zou De Shi 帶不走的事',\n",
       "  'Artist': 'Alex Chang Jien 張簡君偉',\n",
       "  'Understandability': 66,\n",
       "  'Importance': 60,\n",
       "  'Score': -6,\n",
       "  'New Words': ['吞食', '孤单', '疯子'],\n",
       "  'Link': 'https://lyricspinyin.com/2020/04/08/dai-bu-zou-de-shi-%e5%b8%b6%e4%b8%8d%e8%b5%b0%e7%9a%84%e4%ba%8b-by-alex-chang-jien-%e5%bc%b5%e7%b0%a1%e5%90%9b%e5%81%89-pinyin-lyrics-and-english-translation/'},\n",
       " {'Title': 'Kang De Zhu 扛得住',\n",
       "  'Artist': 'Alien Huang 黃鴻升 feat. Alan Ko 柯有倫 & Bobby Dou 竇智孔',\n",
       "  'Understandability': 53,\n",
       "  'Importance': 52,\n",
       "  'Score': -1,\n",
       "  'New Words': ['拼个', '退缩', '气馁', '痛算', '越挫', '扛得住', '天塌下来'],\n",
       "  'Link': 'https://lyricspinyin.com/2020/09/28/kang-de-zhu-%e6%89%9b%e5%be%97%e4%bd%8f-by-alien-huang-%e9%bb%83%e9%b4%bb%e5%8d%87-feat-alan-ko-%e6%9f%af%e6%9c%89%e5%80%ab-bobby-dou-%e7%ab%87%e6%99%ba%e5%ad%94-pinyin-lyrics-and-english-translati/'},\n",
       " {'Title': 'Wang Le Zen Me Kuai Le 忘了怎麼快樂',\n",
       "  'Artist': 'Alien Huang 黃鴻升',\n",
       "  'Understandability': 57,\n",
       "  'Importance': 55,\n",
       "  'Score': -2,\n",
       "  'New Words': ['救赎', '拼了命', '破茧', '孤单'],\n",
       "  'Link': 'https://lyricspinyin.com/2020/09/27/wang-le-zen-me-kuai-le-%e5%bf%98%e4%ba%86%e6%80%8e%e9%ba%bc%e5%bf%ab%e6%a8%82-by-alien-huang-%e9%bb%83%e9%b4%bb%e5%8d%87-pinyin-lyrics-and-english-translation/'},\n",
       " {'Title': 'Di Qiu Shang Zui Lang Man De Yi Shou Ge 地球上最浪漫的一首歌',\n",
       "  'Artist': 'Alien Huang 黃鴻升',\n",
       "  'Understandability': 55,\n",
       "  'Importance': 50,\n",
       "  'Score': -5,\n",
       "  'New Words': ['反折', '拥抱着', '哑巴', '妳', '千纸鹤', '猜拳', '依依不舍'],\n",
       "  'Link': 'https://lyricspinyin.com/2020/09/22/di-qiu-shang-zui-lang-man-de-yi-shou-ge-%e5%9c%b0%e7%90%83%e4%b8%8a%e6%9c%80%e6%b5%aa%e6%bc%ab%e7%9a%84%e4%b8%80%e9%a6%96%e6%ad%8c-by-alien-huang-%e9%bb%83%e9%b4%bb%e5%8d%87-pinyin-lyrics-and-english/'},\n",
       " {'Title': 'Bu Xie 不屑',\n",
       "  'Artist': 'Alien Huang 黃鴻升',\n",
       "  'Understandability': 56,\n",
       "  'Importance': 52,\n",
       "  'Score': -4,\n",
       "  'New Words': ['伪装',\n",
       "   '蕨类',\n",
       "   '作祟',\n",
       "   '悄悄的',\n",
       "   '妳',\n",
       "   '偷窃',\n",
       "   '渐渐',\n",
       "   '残废',\n",
       "   '同类',\n",
       "   '虚荣心',\n",
       "   '赦免',\n",
       "   '颓废',\n",
       "   '自我安慰'],\n",
       "  'Link': 'https://lyricspinyin.com/2020/09/19/bu-xie-%e4%b8%8d%e5%b1%91-by-alien-huang-%e9%bb%83%e9%b4%bb%e5%8d%87-pinyin-lyrics-and-english-translation/'},\n",
       " {'Title': 'Wo Zai Shi Jian Jin Tou Deng Ni 我在時間盡頭等你',\n",
       "  'Artist': 'Aska Yang 楊宗緯',\n",
       "  'Understandability': 62,\n",
       "  'Importance': 58,\n",
       "  'Score': -4,\n",
       "  'New Words': ['心守', '交汇', '牵着手', '浩瀚', '擦肩而过'],\n",
       "  'Link': 'https://lyricspinyin.com/2020/08/07/wo-zai-shi-jian-jin-tou-deng-ni-%e6%88%91%e5%9c%a8%e6%99%82%e9%96%93%e7%9b%a1%e9%a0%ad%e7%ad%89%e4%bd%a0-by-aska-yang-%e6%a5%8a%e5%ae%97%e7%b7%af-pinyin-lyrics-and-english-translation/'},\n",
       " {'Title': 'Guo Wang Yu Qi Gai 國王與乞丐',\n",
       "  'Artist': 'Hu Chenyu 華晨宇 & Aska Yang 楊宗緯',\n",
       "  'Understandability': 55,\n",
       "  'Importance': 54,\n",
       "  'Score': -1,\n",
       "  'New Words': ['执迷',\n",
       "   '落魄',\n",
       "   '重返',\n",
       "   '柔软',\n",
       "   '煽风点火',\n",
       "   '坠落',\n",
       "   '刀割',\n",
       "   '痛有',\n",
       "   '打磨',\n",
       "   '分饰',\n",
       "   '一秒钟'],\n",
       "  'Link': 'https://lyricspinyin.com/2020/07/08/guo-wang-yu-qi-gai-%e5%9c%8b%e7%8e%8b%e8%88%87%e4%b9%9e%e4%b8%90-by-hu-chenyu-%e8%8f%af%e6%99%a8%e5%ae%87-aska-yang-%e6%a5%8a%e5%ae%97%e7%b7%af-pinyin-lyrics-and-english-translation/'},\n",
       " {'Title': 'Bei Guang 背光',\n",
       "  'Artist': 'Aska Yang 楊宗緯',\n",
       "  'Understandability': 60,\n",
       "  'Importance': 56,\n",
       "  'Score': -4,\n",
       "  'New Words': ['絶', '璀璨', '迷惘', '眷顾', '星辰', '熬过', '压痕', '赐给', '一盏'],\n",
       "  'Link': 'https://lyricspinyin.com/2020/04/04/bei-guang-%e8%83%8c%e5%85%89-by-aska-yang-%e6%a5%8a%e5%ae%97%e7%b7%af-pinyin-lyrics-and-english-translation/'},\n",
       " {'Title': 'Liang Liang 凉凉',\n",
       "  'Artist': 'Aska Yang 楊宗緯 Zhang Bi Chen 張碧晨',\n",
       "  'Understandability': 35,\n",
       "  'Importance': 31,\n",
       "  'Score': -4,\n",
       "  'New Words': ['劫难',\n",
       "   '生劫易',\n",
       "   '渡情',\n",
       "   '恍然',\n",
       "   '潋滟',\n",
       "   '拂满',\n",
       "   '春泥',\n",
       "   '暮光',\n",
       "   '繁花',\n",
       "   '成霜',\n",
       "   '凡尘',\n",
       "   '袖',\n",
       "   '还会春盛',\n",
       "   '灼灼',\n",
       "   '芳菲',\n",
       "   '微霜',\n",
       "   '须臾',\n",
       "   '夭夭',\n",
       "   '眺望',\n",
       "   '鬓',\n",
       "   '呵护',\n",
       "   '泪痕',\n",
       "   '牵强',\n",
       "   '落九尘',\n",
       "   '耗尽',\n",
       "   '愈渐',\n",
       "   '悠悠岁月',\n",
       "   '舍下',\n",
       "   '渐微凉',\n",
       "   '折旧',\n",
       "   '凉透',\n",
       "   '一盏'],\n",
       "  'Link': 'https://lyricspinyin.com/2020/03/29/liang-liang-%e5%87%89%e5%87%89-by-aska-yang-%e6%a5%8a%e5%ae%97%e7%b7%af-zhang-bi-chen-%e5%bc%b5%e7%a2%a7%e6%99%a8-pinyin-lyrics/'},\n",
       " {'Title': 'Jiu Jie Le 糾結了',\n",
       "  'Artist': 'Austin 李建軒',\n",
       "  'Understandability': 59,\n",
       "  'Importance': 56,\n",
       "  'Score': -3,\n",
       "  'New Words': ['永恆', '退缩'],\n",
       "  'Link': 'https://lyricspinyin.com/2020/05/17/jiu-jie-le-%e7%b3%be%e7%b5%90%e4%ba%86-by-austin-%e6%9d%8e%e5%bb%ba%e8%bb%92-pinyin-lyrics-and-english-translation/'},\n",
       " {'Title': 'Qing Ren Zhou 情人咒',\n",
       "  'Artist': 'Ayanga 阿雲嘎 & Yisa Yu 郁可唯',\n",
       "  'Understandability': 49,\n",
       "  'Importance': 48,\n",
       "  'Score': -1,\n",
       "  'New Words': ['伤筋',\n",
       "   '执迷',\n",
       "   '扑腾',\n",
       "   '不碌',\n",
       "   '煳',\n",
       "   '夙慕',\n",
       "   '斑驳',\n",
       "   '如火如荼',\n",
       "   '飞蛾',\n",
       "   '彻骨',\n",
       "   '动骨',\n",
       "   '肋骨',\n",
       "   '归宿',\n",
       "   '寒眸',\n",
       "   '执念似',\n",
       "   '掴',\n",
       "   '肺腑',\n",
       "   '恍惑',\n",
       "   '虚度',\n",
       "   '捕获',\n",
       "   '我蒙上',\n",
       "   '未',\n",
       "   '青涩',\n",
       "   '恶'],\n",
       "  'Link': 'https://lyricspinyin.com/2020/07/27/qing-ren-zhou-%e6%83%85%e4%ba%ba%e5%92%92-by-ayanga-%e9%98%bf%e9%9b%b2%e5%98%8e-yisa-yu-%e9%83%81%e5%8f%af%e5%94%af-pinyin-lyrics-and-english-translation/'},\n",
       " {'Title': 'Gan Xie Ni Ceng Lai Guo 感謝你曾來過',\n",
       "  'Artist': 'Ayo97 feat. A Han 阿涵',\n",
       "  'Understandability': 57,\n",
       "  'Importance': 51,\n",
       "  'Score': -6,\n",
       "  'New Words': ['淋伤', '痛过', '一幕幕', '游荡', '浮现', '吉他'],\n",
       "  'Link': 'https://lyricspinyin.com/2020/02/21/gan-xie-ni-ceng-lai-guo-%e6%84%9f%e8%ac%9d%e4%bd%a0%e6%9b%be%e4%be%86%e9%81%8e-by-ayo97-feat-a-han-%e9%98%bf%e6%b6%b5-pinyin-lyrics-and-english-translation/'},\n",
       " {'Title': 'Ling Ji Nian Ting De Qing Ge 零幾年聽的情歌',\n",
       "  'Artist': 'AY楊佬叁',\n",
       "  'Understandability': 57,\n",
       "  'Importance': 53,\n",
       "  'Score': -4,\n",
       "  'New Words': ['扑通', '直击', '每秒', '狂风暴雨', '冒泡'],\n",
       "  'Link': 'https://lyricspinyin.com/2020/04/06/ling-ji-nian-ting-de-qing-ge-%e9%9b%b6%e5%b9%be%e5%b9%b4%e8%81%bd%e7%9a%84%e6%83%85%e6%ad%8c-by-ay%e6%a5%8a%e4%bd%ac%e5%8f%81-pinyin-lyrics-and-english-translation/'},\n",
       " {'Title': 'Mei Dang 每當',\n",
       "  'Artist': 'B.K 森白',\n",
       "  'Understandability': 66,\n",
       "  'Importance': 63,\n",
       "  'Score': -3,\n",
       "  'New Words': ['乡愁', '妳', '孤单', '悸动'],\n",
       "  'Link': 'https://lyricspinyin.com/2020/06/19/mei-dang-%e6%af%8f%e7%95%b6-by-b-k-%e6%a3%ae%e7%99%bd-pinyin-lyrics-and-english-translation/'},\n",
       " {'Title': 'Shi Jian Mei Hao Yu Ni Huan Huan Xiang Kou 世間美好與你環環相扣 柏松',\n",
       "  'Artist': 'Pinyin Lyrics And English Translation - Lyrics Pinyin',\n",
       "  'Understandability': 43,\n",
       "  'Importance': 40,\n",
       "  'Score': -3,\n",
       "  'New Words': ['尚算',\n",
       "   '奔走之友',\n",
       "   '陈年',\n",
       "   '救赎',\n",
       "   '皓月当空',\n",
       "   '入喉',\n",
       "   '烈酒',\n",
       "   '已莺',\n",
       "   '失守',\n",
       "   '星辰',\n",
       "   '秉烛夜游',\n",
       "   '日暮',\n",
       "   '樱花',\n",
       "   '额头',\n",
       "   '风雨兼程',\n",
       "   '酿成',\n",
       "   '不赏',\n",
       "   '纷纷扬扬',\n",
       "   '结痂',\n",
       "   '相拥'],\n",
       "  'Link': 'https://lyricspinyin.com/2019/10/28/shi-jian-mei-hao-yu-ni-huan-huan-xiang-kou-%e4%b8%96%e9%96%93%e7%be%8e%e5%a5%bd%e8%88%87%e4%bd%a0%e7%92%b0%e7%92%b0%e7%9b%b8%e6%89%a3-%e6%9f%8f%e6%9d%be-by-pinyin-lyrics-and-english-translation/'},\n",
       " {'Title': 'Wo Ai Ni Bu Wen Gui Qi 我愛你不問歸期',\n",
       "  'Artist': 'Bai Xiao Bai 白小白',\n",
       "  'Understandability': 44,\n",
       "  'Importance': 38,\n",
       "  'Score': -6,\n",
       "  'New Words': ['茫茫无际',\n",
       "   '无所畏惧',\n",
       "   '燃之',\n",
       "   '归期',\n",
       "   '飞蛾扑火',\n",
       "   '荒原',\n",
       "   '江水',\n",
       "   '肆虐',\n",
       "   '朝夕',\n",
       "   '野草',\n",
       "   '连绵不绝'],\n",
       "  'Link': 'https://lyricspinyin.com/2020/08/31/wo-ai-ni-bu-wen-gui-qi-%e6%88%91%e6%84%9b%e4%bd%a0%e4%b8%8d%e5%95%8f%e6%ad%b8%e6%9c%9f-by-bai-xiao-bai-%e7%99%bd%e5%b0%8f%e7%99%bd-pinyin-lyrics-and-english-translation/'},\n",
       " {'Title': 'Wei Ai Liu Xia Shang Xin Lei 為愛流下傷心淚',\n",
       "  'Artist': 'Bao Lin 暴林',\n",
       "  'Understandability': 59,\n",
       "  'Importance': 53,\n",
       "  'Score': -6,\n",
       "  'New Words': ['相守', '泪流', '泪下', '手牵着', '憔悴'],\n",
       "  'Link': 'https://lyricspinyin.com/2019/12/18/wei-ai-liu-xia-shang-xin-lei-%e7%82%ba%e6%84%9b%e6%b5%81%e4%b8%8b%e5%82%b7%e5%bf%83%e6%b7%9a-by-bao-lin-%e6%9a%b4%e6%9e%97-pinyin-lyrics-and-english-translation/'},\n",
       " {'Title': 'Wu Wei De Ming Tian 無畏的明天',\n",
       "  'Artist': 'Bii 畢書盡',\n",
       "  'Understandability': 56,\n",
       "  'Importance': 50,\n",
       "  'Score': -6,\n",
       "  'New Words': ['无畏', '无所畏惧', '无坚不摧', '无惧', '流眼泪', '迎战'],\n",
       "  'Link': 'https://lyricspinyin.com/2020/09/04/wu-wei-de-ming-tian-%e7%84%a1%e7%95%8f%e7%9a%84%e6%98%8e%e5%a4%a9-by-bii-%e7%95%a2%e6%9b%b8%e7%9b%a1-pinyin-lyrics-and-english-translation/'},\n",
       " {'Title': 'Be Alive',\n",
       "  'Artist': 'Bii 畢書盡',\n",
       "  'Understandability': 57,\n",
       "  'Importance': 49,\n",
       "  'Score': -8,\n",
       "  'New Words': ['脸孔', '一幕', '喉待放', '神采', '仰望', '满载'],\n",
       "  'Link': 'https://lyricspinyin.com/2020/07/11/be-alive-by-bii-%e7%95%a2%e6%9b%b8%e7%9b%a1-pinyin-lyrics-and-english-translation/'},\n",
       " {'Title': 'Zhuang 撞',\n",
       "  'Artist': 'Bii 畢書盡',\n",
       "  'Understandability': 61,\n",
       "  'Importance': 59,\n",
       "  'Score': -2,\n",
       "  'New Words': ['无畏', '折射出', '风霜'],\n",
       "  'Link': 'https://lyricspinyin.com/2020/04/16/zhuang-%e6%92%9e-by-bii-%e7%95%a2%e6%9b%b8%e7%9b%a1-pinyin-lyrics-and-english-translation/'},\n",
       " {'Title': 'Ni 你',\n",
       "  'Artist': 'Bii 畢書盡',\n",
       "  'Understandability': 59,\n",
       "  'Importance': 54,\n",
       "  'Score': -5,\n",
       "  'New Words': ['悄悄的'],\n",
       "  'Link': 'https://lyricspinyin.com/2020/03/04/ni-%e4%bd%a0-by-bii-%e7%95%a2%e6%9b%b8%e7%9b%a1-pinyin-lyrics-and-english-translation/'},\n",
       " {'Title': 'Bu Hou Hui 不後悔',\n",
       "  'Artist': 'Bii 畢書盡',\n",
       "  'Understandability': 61,\n",
       "  'Importance': 54,\n",
       "  'Score': -7,\n",
       "  'New Words': ['最痛', '沈默', '眼泪', '干涸', '伪装成'],\n",
       "  'Link': 'https://lyricspinyin.com/2019/11/20/bu-hou-hui-%e4%b8%8d%e5%be%8c%e6%82%94-by-bii-%e7%95%a2%e6%9b%b8%e7%9b%a1-pinyin-lyrics-and-english-translation/'},\n",
       " {'Title': 'Dou Bu Shi Zhen De 都不是真的',\n",
       "  'Artist': 'Bii 畢書盡',\n",
       "  'Understandability': 58,\n",
       "  'Importance': 57,\n",
       "  'Score': -1,\n",
       "  'New Words': ['加不舍', '生涩', '无瑕', '悲欢离合', '喜怒哀乐', '眼泪', '佳偶天成'],\n",
       "  'Link': 'https://lyricspinyin.com/2019/11/18/dou-bu-shi-zhen-de-%e9%83%bd%e4%b8%8d%e6%98%af%e7%9c%9f%e7%9a%84-by-bii-%e7%95%a2%e6%9b%b8%e7%9b%a1-pinyin-lyrics-and-english-translation/'},\n",
       " {'Title': 'Yuan Fang 遠方',\n",
       "  'Artist': 'Bii 畢書盡',\n",
       "  'Understandability': 49,\n",
       "  'Importance': 44,\n",
       "  'Score': -5,\n",
       "  'New Words': ['沈默',\n",
       "   '无畏',\n",
       "   '闪着光',\n",
       "   '无惧',\n",
       "   '残破',\n",
       "   '浑浊',\n",
       "   '眺望',\n",
       "   '聆听',\n",
       "   '佝偻',\n",
       "   '颓废',\n",
       "   '下坠'],\n",
       "  'Link': 'https://lyricspinyin.com/2019/10/08/yuan-fang-%e9%81%a0%e6%96%b9-by-bii-%e7%95%a2%e6%9b%b8%e7%9b%a1-pinyin-lyrics-and-english-translation/'},\n",
       " {'Title': 'Shou Lian 收斂',\n",
       "  'Artist': 'Bu Gou 不夠',\n",
       "  'Understandability': 54,\n",
       "  'Importance': 52,\n",
       "  'Score': -2,\n",
       "  'New Words': ['踮起', '收敛', '有分寸', '无言', '脚尖', '过眼云烟', '恰好'],\n",
       "  'Link': 'https://lyricspinyin.com/2020/07/20/shou-lian-%e6%94%b6%e6%96%82-by-bu-gou-%e4%b8%8d%e5%a4%a0-pinyin-lyrics-and-english-translation/'},\n",
       " {'Title': 'Qing Ren 情人',\n",
       "  'Artist': 'Cai Xu Kun 蔡徐坤',\n",
       "  'Understandability': 55,\n",
       "  'Importance': 52,\n",
       "  'Score': -3,\n",
       "  'New Words': ['枕边',\n",
       "   '勾成线',\n",
       "   '温热',\n",
       "   '小鹿',\n",
       "   '不忍心',\n",
       "   '赐予',\n",
       "   '升温',\n",
       "   '酣欢',\n",
       "   '体温',\n",
       "   '幻觉',\n",
       "   '丘比特'],\n",
       "  'Link': 'https://lyricspinyin.com/2020/05/26/qing-ren-%e6%83%85%e4%ba%ba-by-cai-xu-kun-%e8%94%a1%e5%be%90%e5%9d%a4-pinyin-lyrics-and-english-translation/'},\n",
       " {'Title': 'Si Nian Yi Ge Huang Fei De Ming Zi 思念一個荒廢的名字',\n",
       "  'Artist': 'Chen Chu Sheng 陳楚生',\n",
       "  'Understandability': 59,\n",
       "  'Importance': 52,\n",
       "  'Score': -7,\n",
       "  'New Words': ['摒住', '辗转难眠', '事隔', '唿', '孤单', '一盏', '荒废'],\n",
       "  'Link': 'https://lyricspinyin.com/2020/05/01/si-nian-yi-ge-huang-fei-de-ming-zi-%e6%80%9d%e5%bf%b5%e4%b8%80%e5%80%8b%e8%8d%92%e5%bb%a2%e7%9a%84%e5%90%8d%e5%ad%97-by-chen-chu-sheng-%e9%99%b3%e6%a5%9a%e7%94%9f-pinyin-lyrics-and-english-translation/'},\n",
       " {'Title': 'Sheng Pi Zi 生僻字',\n",
       "  'Artist': 'Chen Ke Yu 陳柯宇',\n",
       "  'Understandability': 27,\n",
       "  'Importance': 26,\n",
       "  'Score': -1,\n",
       "  'New Words': ['囹圄',\n",
       "   '靁',\n",
       "   '踽踽独行',\n",
       "   '奉为圭臬',\n",
       "   '商角征',\n",
       "   '鼯轩',\n",
       "   '翕',\n",
       "   '醍醐灌顶',\n",
       "   '鬾',\n",
       "   '怙恶不悛',\n",
       "   '蘡',\n",
       "   '落谷',\n",
       "   '魑魅魍魉',\n",
       "   '狖',\n",
       "   '娉婷袅娜',\n",
       "   '一捺',\n",
       "   '茕茕孑立',\n",
       "   '宫',\n",
       "   '绵绵',\n",
       "   '龘',\n",
       "   '虔诚',\n",
       "   '沆瀣一气',\n",
       "   '鳞次栉比',\n",
       "   '古人',\n",
       "   '呶呶不休',\n",
       "   '饕餮',\n",
       "   '恶良魃',\n",
       "   '觊觎',\n",
       "   '涕泗滂沱',\n",
       "   '蹀躞',\n",
       "   '腌臜',\n",
       "   '一撇',\n",
       "   '跪举',\n",
       "   '魁',\n",
       "   '一仄',\n",
       "   '耄耋',\n",
       "   '田地',\n",
       "   '象形',\n",
       "   '孑孓',\n",
       "   '卬',\n",
       "   '旮旯',\n",
       "   '陟罚臧否',\n",
       "   '针砭时弊',\n",
       "   '不稂不莠',\n",
       "   '成仓',\n",
       "   '犄角',\n",
       "   '轭',\n",
       "   '咄嗟',\n",
       "   '谱写成'],\n",
       "  'Link': 'https://lyricspinyin.com/2020/02/16/sheng-pi-zi-%e7%94%9f%e5%83%bb%e5%ad%97-by-chen-ke-yu-%e9%99%b3%e6%9f%af%e5%ae%87-pinyin-lyrics/'},\n",
       " {'Title': 'Ge Ge Bu Ru 格格不入',\n",
       "  'Artist': 'Chen Linong 陳立農Pinyin Lyrics And English Translation - Lyrics Pinyin',\n",
       "  'Understandability': 62,\n",
       "  'Importance': 59,\n",
       "  'Score': -3,\n",
       "  'New Words': ['自言自语', '沉默不语', '唿吸', '朗朗上口', '交集'],\n",
       "  'Link': 'https://lyricspinyin.com/2020/08/03/ge-ge-bu-ru-%e6%a0%bc%e6%a0%bc%e4%b8%8d%e5%85%a5-by-chen-linong-%e9%99%b3%e7%ab%8b%e8%be%b2pinyin-lyrics-and-english-translation/'},\n",
       " {'Title': 'Xie Zhuang Xie Zhuang 卸妝卸裝',\n",
       "  'Artist': 'Chen Linong 陳立農',\n",
       "  'Understandability': 50,\n",
       "  'Importance': 46,\n",
       "  'Score': -4,\n",
       "  'New Words': ['自恋', '轻狂', '犯错', '犯傻', '珍藏', '卸', '雀斑', '复燃', '疗伤'],\n",
       "  'Link': 'https://lyricspinyin.com/2020/07/09/xie-zhuang-xie-zhuang-%e5%8d%b8%e5%a6%9d%e5%8d%b8%e8%a3%9d-by-chen-linong-%e9%99%b3%e7%ab%8b%e8%be%b2-pinyin-lyrics-and-english-translation/'},\n",
       " {'Title': 'Wen Rou Shi Kong 溫柔時空',\n",
       "  'Artist': 'Chen Li Nong 陳立農',\n",
       "  'Understandability': 62,\n",
       "  'Importance': 54,\n",
       "  'Score': -8,\n",
       "  'New Words': ['握得', '柔软', '看透', '沉睡', '影踪'],\n",
       "  'Link': 'https://lyricspinyin.com/2020/07/06/wen-rou-shi-kong-%e6%ba%ab%e6%9f%94%e6%99%82%e7%a9%ba-by-chen-li-nong-%e9%99%b3%e7%ab%8b%e8%be%b2-pinyin-lyrics-and-english-translation/'},\n",
       " {'Title': 'Yi Wu Suo Zhi 一無所知',\n",
       "  'Artist': 'Chen Li Nong 陳立農 & LaLa 徐佳瑩',\n",
       "  'Understandability': 58,\n",
       "  'Importance': 52,\n",
       "  'Score': -6,\n",
       "  'New Words': ['开窍', '坠落', '尘埃', '眼泪', '酿出'],\n",
       "  'Link': 'https://lyricspinyin.com/2020/05/30/yi-wu-suo-zhi-%e4%b8%80%e7%84%a1%e6%89%80%e7%9f%a5-by-chen-li-nong-%e9%99%b3%e7%ab%8b%e8%be%b2-lala-%e5%be%90%e4%bd%b3%e7%91%a9-pinyin-lyrics-and-english-translation/'},\n",
       " {'Title': 'Wo Meng Jian Ni 我夢見你',\n",
       "  'Artist': 'Chen Li Nong 陳立農',\n",
       "  'Understandability': 56,\n",
       "  'Importance': 47,\n",
       "  'Score': -9,\n",
       "  'New Words': ['跌倒', '一秒'],\n",
       "  'Link': 'https://lyricspinyin.com/2020/05/16/wo-meng-jian-ni-%e6%88%91%e5%a4%a2%e8%a6%8b%e4%bd%a0-by-chen-li-nong-%e9%99%b3%e7%ab%8b%e8%be%b2-pinyin-lyrics-and-english-translation/'},\n",
       " {'Title': 'Wei Ni Zhan Fang 為你綻放',\n",
       "  'Artist': 'Chen Li Nong 陳立農\\xa0Pinyin Lyrics And English Translation - Lyrics Pinyin',\n",
       "  'Understandability': 64,\n",
       "  'Importance': 61,\n",
       "  'Score': -3,\n",
       "  'New Words': ['绽放'],\n",
       "  'Link': 'https://lyricspinyin.com/2019/09/26/wei-ni-zhan-fang-%e7%82%ba%e4%bd%a0%e7%b6%bb%e6%94%be-by-chen-li-nong-%e9%99%b3%e7%ab%8b%e8%be%b2-pinyin-lyrics-and-english-translation/'},\n",
       " {'Title': 'You Xi Bro 遊戲Bro',\n",
       "  'Artist': 'Chen Ling Jiu 陳零九',\n",
       "  'Understandability': 49,\n",
       "  'Importance': 48,\n",
       "  'Score': -1,\n",
       "  'New Words': ['欧',\n",
       "   '慄',\n",
       "   '魔兽',\n",
       "   '睡眼惺忪',\n",
       "   '恶灵',\n",
       "   '踪',\n",
       "   '屁滚尿流',\n",
       "   '打战',\n",
       "   '格斗',\n",
       "   '恶龙',\n",
       "   '萨尔达',\n",
       "   '尿布',\n",
       "   '返校',\n",
       "   '古堡',\n",
       "   '萤幕',\n",
       "   '不斗',\n",
       "   '拖住',\n",
       "   '模拟',\n",
       "   '腰痛',\n",
       "   '天王',\n",
       "   '荷包'],\n",
       "  'Link': 'https://lyricspinyin.com/2019/10/07/you-xi-bro-%e9%81%8a%e6%88%b2bro-by-chen-ling-jiu-%e9%99%b3%e9%9b%b6%e4%b9%9d-pinyin-lyrics/'},\n",
       " {'Title': 'Wan Jia 玩家',\n",
       "  'Artist': 'Julia Wu 吳卓源 & ChrisFlow 唐仲彣',\n",
       "  'Understandability': 57,\n",
       "  'Importance': 53,\n",
       "  'Score': -4,\n",
       "  'New Words': ['腾云驾雾', '佈', '入神', '牵着手', '星辰', '透彻', '探听', '攀上'],\n",
       "  'Link': 'https://lyricspinyin.com/2020/05/29/wan-jia-%e7%8e%a9%e5%ae%b6-by-julia-wu-%e5%90%b3%e5%8d%93%e6%ba%90-chrisflow-%e5%94%90%e4%bb%b2%e5%bd%a3-pinyin-lyrics-and-english-translation/'},\n",
       " {'Title': 'An Ran Zhi Ge 安然之歌',\n",
       "  'Artist': 'Chyi Chin 齊秦',\n",
       "  'Understandability': 56,\n",
       "  'Importance': 51,\n",
       "  'Score': -5,\n",
       "  'New Words': ['玫瑰', '妳', '回荡', '珍重', '安然无恙', '云烟', '屋檐', '妳自己'],\n",
       "  'Link': 'https://lyricspinyin.com/2020/09/23/an-ran-zhi-ge-%e5%ae%89%e7%84%b6%e4%b9%8b%e6%ad%8c-by-chyi-chin-%e9%bd%8a%e7%a7%a6-pinyin-lyrics-and-english-translation/'},\n",
       " {'Title': '可惜了 Ke Xi Le',\n",
       "  'Artist': '齊秦 莫文蔚',\n",
       "  'Understandability': 60,\n",
       "  'Importance': 56,\n",
       "  'Score': -4,\n",
       "  'New Words': ['棋逢对手', '跌跌撞撞', '坠落在', '沈默', '千推雪', '可悲', '付诸流水', '寸心', '失速'],\n",
       "  'Link': 'https://lyricspinyin.com/2019/11/06/%e5%8f%af%e6%83%9c%e4%ba%86-ke-xi-le-by-%e9%bd%8a%e7%a7%a6-%e8%8e%ab%e6%96%87%e8%94%9a-pinyin-lyrics-and-english-translation/'},\n",
       " {'Title': 'Su 溯 Reverse',\n",
       "  'Artist': 'CORSAK',\n",
       "  'Understandability': 53,\n",
       "  'Importance': 49,\n",
       "  'Score': -4,\n",
       "  'New Words': ['沉溺', '野性', '唿吸', '繁星', '水仙', '蓝丝绒', '一秒', '找寻'],\n",
       "  'Link': 'https://lyricspinyin.com/2020/06/04/su-%e6%ba%af-reverse-by-corsak-pinyin-lyrics-and-english-translation/'},\n",
       " {'Title': 'Ke Zai Wo Xin Di De Ming Zi 刻在我心底的名字',\n",
       "  'Artist': 'Crowd Lu 盧廣仲',\n",
       "  'Understandability': 59,\n",
       "  'Importance': 56,\n",
       "  'Score': -3,\n",
       "  'New Words': ['刻骨铭心', '翱翔', '茫茫人海', '唿吸', '霓虹', '静止'],\n",
       "  'Link': 'https://lyricspinyin.com/2020/08/25/ke-zai-wo-xin-di-de-ming-zi-%e5%88%bb%e5%9c%a8%e6%88%91%e5%bf%83%e5%ba%95%e7%9a%84%e5%90%8d%e5%ad%97-by-crowd-lu-%e7%9b%a7%e5%bb%a3%e4%bb%b2-pinyin-lyrics-and-english-translation/'},\n",
       " {'Title': 'Shan Liang De Yan Jing 善良的眼鏡',\n",
       "  'Artist': 'Crowd Lu 盧廣仲',\n",
       "  'Understandability': 64,\n",
       "  'Importance': 53,\n",
       "  'Score': -11,\n",
       "  'New Words': [],\n",
       "  'Link': 'https://lyricspinyin.com/2019/12/03/shan-liang-de-yan-jing-%e5%96%84%e8%89%af%e7%9a%84%e7%9c%bc%e9%8f%a1-by-crowd-lu-%e7%9b%a7%e5%bb%a3%e4%bb%b2-pinyin-lyrics-and-english-translation/'},\n",
       " {'Title': 'Ji Fen Zhi Ji 幾分之幾',\n",
       "  'Artist': 'Crowd Lu 盧廣仲',\n",
       "  'Understandability': 58,\n",
       "  'Importance': 54,\n",
       "  'Score': -4,\n",
       "  'New Words': ['犯错', '眼泪', '唿吸', '贴着', '闭上眼睛'],\n",
       "  'Link': 'https://lyricspinyin.com/2019/10/09/ji-fen-zhi-ji-%e5%b9%be%e5%88%86%e4%b9%8b%e5%b9%be-by-crowd-lu-%e7%9b%a7%e5%bb%a3%e4%bb%b2-pinyin-lyrics-and-english-translation/'},\n",
       " {'Title': 'Ai Qing Zen Me Le Ma 愛情怎麼了嗎',\n",
       "  'Artist': 'Crowd Lu 盧廣仲',\n",
       "  'Understandability': 61,\n",
       "  'Importance': 59,\n",
       "  'Score': -2,\n",
       "  'New Words': ['一秒', '微风'],\n",
       "  'Link': 'https://lyricspinyin.com/2019/10/07/ai-qing-zen-me-le-ma-%e6%84%9b%e6%83%85%e6%80%8e%e9%ba%bc%e4%ba%86%e5%97%8e-by-%e7%9b%a7%e5%bb%a3%e4%bb%b2-pinyin-lyrics-and-english-translation/'},\n",
       " {'Title': 'Cheng Yin Cheng Feng You Cheng Mo 成癮成瘋又成魔',\n",
       "  'Artist': 'Cui Wei Li 崔偉立',\n",
       "  'Understandability': 51,\n",
       "  'Importance': 48,\n",
       "  'Score': -3,\n",
       "  'New Words': ['受折磨',\n",
       "   '问佛',\n",
       "   '烈火',\n",
       "   '烧灼',\n",
       "   '蹉跎',\n",
       "   '斑驳',\n",
       "   '佛说',\n",
       "   '跪求',\n",
       "   '忍心',\n",
       "   '罪过',\n",
       "   '成疯',\n",
       "   '时光流逝',\n",
       "   '枷锁',\n",
       "   '痴爱',\n",
       "   '无怨无悔',\n",
       "   '成瘾'],\n",
       "  'Link': 'https://lyricspinyin.com/2020/01/24/cheng-yin-cheng-feng-you-cheng-mo-%e6%88%90%e7%99%ae%e6%88%90%e7%98%8b%e5%8f%88%e6%88%90%e9%ad%94-by-cui-wei-li-%e5%b4%94%e5%81%89%e7%ab%8b-pinyin-lyrics-and-english-translation/'},\n",
       " {'Title': 'Jiu Zui De Hu Die 酒醉的蝴蝶',\n",
       "  'Artist': 'Cui Wei Li 崔偉立',\n",
       "  'Understandability': 49,\n",
       "  'Importance': 40,\n",
       "  'Score': -9,\n",
       "  'New Words': ['誓约', '轻描'],\n",
       "  'Link': 'https://lyricspinyin.com/2019/12/23/jiu-zui-de-hu-die-%e9%85%92%e9%86%89%e7%9a%84%e8%9d%b4%e8%9d%b6-by-cui-wei-li-%e5%b4%94%e5%81%89%e7%ab%8b-pinyin-lyrics-and-english-translation/'},\n",
       " {'Title': 'Huo Zhe Wei Shi Me 活著為什麼',\n",
       "  'Artist': 'Da Huan 大歡',\n",
       "  'Understandability': 63,\n",
       "  'Importance': 58,\n",
       "  'Score': -5,\n",
       "  'New Words': ['飞蛾'],\n",
       "  'Link': 'https://lyricspinyin.com/2020/06/23/huo-zhe-wei-shi-me-%e6%b4%bb%e8%91%97%e7%82%ba%e4%bb%80%e9%ba%bc-by-da-huan-%e5%a4%a7%e6%ad%a1-pinyin-lyrics-and-english-translation/'},\n",
       " {'Title': 'Shang Le Nian Ji De Nan Ren 上了年紀的男人',\n",
       "  'Artist': 'Da Zhuang 大壯',\n",
       "  'Understandability': 52,\n",
       "  'Importance': 49,\n",
       "  'Score': -3,\n",
       "  'New Words': ['妆容',\n",
       "   '稳重',\n",
       "   '患难',\n",
       "   '锋芒',\n",
       "   '触碰',\n",
       "   '情有独钟',\n",
       "   '相逢',\n",
       "   '有恃无恐',\n",
       "   '坦荡',\n",
       "   '汗流浃背',\n",
       "   '苦衷',\n",
       "   '聚散',\n",
       "   '难忍',\n",
       "   '指缝',\n",
       "   '慾',\n",
       "   '肩上',\n",
       "   '耍弄',\n",
       "   '顽童',\n",
       "   '不甘'],\n",
       "  'Link': 'https://lyricspinyin.com/2020/06/14/shang-le-nian-ji-de-nan-ren-%e4%b8%8a%e4%ba%86%e5%b9%b4%e7%b4%80%e7%9a%84%e7%94%b7%e4%ba%ba-by-da-zhuang-%e5%a4%a7%e5%a3%af-pinyin-lyrics-and-english-translation/'},\n",
       " {'Title': 'Wo Hai Shi Mei Gai Bian 我還是沒改變',\n",
       "  'Artist': '大壯',\n",
       "  'Understandability': 61,\n",
       "  'Importance': 57,\n",
       "  'Score': -4,\n",
       "  'New Words': ['梳着', '哑巴', '婚纱', '空荡', '那款', '倖', '遮掩'],\n",
       "  'Link': 'https://lyricspinyin.com/2019/10/28/wo-hai-shi-mei-gai-bian-%e6%88%91%e9%82%84%e6%98%af%e6%b2%92%e6%94%b9%e8%ae%8a-by-%e5%a4%a7%e5%a3%af-pinyin-lyrics-and-english-translation/'},\n",
       " {'Title': 'Wei Zhuang 偽裝',\n",
       "  'Artist': '大壯',\n",
       "  'Understandability': 54,\n",
       "  'Importance': 49,\n",
       "  'Score': -5,\n",
       "  'New Words': ['若即若离',\n",
       "   '玫瑰',\n",
       "   '沦为',\n",
       "   '伪装',\n",
       "   '强悍',\n",
       "   '打探',\n",
       "   '作祟',\n",
       "   '伤悲',\n",
       "   '多愁善感',\n",
       "   '宠爱',\n",
       "   '好聚好散',\n",
       "   '坦然',\n",
       "   '听天由命'],\n",
       "  'Link': 'https://lyricspinyin.com/2019/10/28/wei-zhuang-%e5%81%bd%e8%a3%9d-by-%e5%a4%a7%e5%a3%af-pinyin-lyrics-and-english-translation/'},\n",
       " {'Title': 'Wei Shui Er Hua De Zhuang 為誰而化的妝',\n",
       "  'Artist': '大壯',\n",
       "  'Understandability': 52,\n",
       "  'Importance': 48,\n",
       "  'Score': -4,\n",
       "  'New Words': ['摇曳',\n",
       "   '眼泪',\n",
       "   '远走他乡',\n",
       "   '回荡',\n",
       "   '泪流',\n",
       "   '绽放',\n",
       "   '熬过',\n",
       "   '孤单',\n",
       "   '涟漪',\n",
       "   '青涩',\n",
       "   '不甘'],\n",
       "  'Link': 'https://lyricspinyin.com/2019/10/28/wei-shui-er-hua-de-zhuang-%e7%82%ba%e8%aa%b0%e8%80%8c%e5%8c%96%e7%9a%84%e5%a6%9d-by-%e5%a4%a7%e5%a3%af-pinyin-lyrics-and-english-translation/'},\n",
       " {'Title': 'You Yi Zhong Mi Mi 有一種秘密',\n",
       "  'Artist': 'Darren Chiu 邱凱偉 & Janice Yan 閻奕格',\n",
       "  'Understandability': 69,\n",
       "  'Importance': 60,\n",
       "  'Score': -9,\n",
       "  'New Words': ['妳'],\n",
       "  'Link': 'https://lyricspinyin.com/2020/09/18/you-yi-zhong-mi-mi-%e6%9c%89%e4%b8%80%e7%a8%ae%e7%a7%98%e5%af%86-by-darren-chiu-%e9%82%b1%e5%87%b1%e5%81%89-janice-yan-%e9%96%bb%e5%a5%95%e6%a0%bc-pinyin-lyrics-and-english-translation/'},\n",
       " {'Title': 'Liu Sha 流沙',\n",
       "  'Artist': 'David Tao 陶喆',\n",
       "  'Understandability': 61,\n",
       "  'Importance': 56,\n",
       "  'Score': -5,\n",
       "  'New Words': ['无法自拔', '牵挂', '恍恍惚惚', '泪能'],\n",
       "  'Link': 'https://lyricspinyin.com/2020/03/17/liu-sha-%e6%b5%81%e6%b2%99-by-david-tao-%e9%99%b6%e5%96%86-pinyin-lyrics-and-english-translation/'},\n",
       " {'Title': 'Ni Wo Dou Mei You Cuo 你我都沒有錯',\n",
       "  'Artist': '都智文',\n",
       "  'Understandability': 67,\n",
       "  'Importance': 65,\n",
       "  'Score': -2,\n",
       "  'New Words': ['手握', '叉路口', '忍住', '头绪', '眼泪', '刺痛'],\n",
       "  'Link': 'https://lyricspinyin.com/2019/10/14/ni-wo-dou-mei-you-cuo-%e4%bd%a0%e6%88%91%e9%83%bd%e6%b2%92%e6%9c%89%e9%8c%af-by-%e9%83%bd%e6%99%ba%e6%96%87-pinyin-lyrics-and-english-translation/'},\n",
       " {'Title': \"Something I Don't Need\",\n",
       "  'Artist': 'E.SO 瘦子',\n",
       "  'Understandability': 50,\n",
       "  'Importance': 45,\n",
       "  'Score': -5,\n",
       "  'New Words': ['自作孽', '擤', '叠', '唯物主义', '塞满', '摇头晃脑'],\n",
       "  'Link': 'https://lyricspinyin.com/2020/09/04/something-i-dont-need-by-e-so-%e7%98%a6%e5%ad%90-pinyin-lyrics/'},\n",
       " {'Title': \"Don't Worry About Me\",\n",
       "  'Artist': 'E.SO 瘦子',\n",
       "  'Understandability': 59,\n",
       "  'Importance': 56,\n",
       "  'Score': -3,\n",
       "  'New Words': ['昏头', '录个', '木栅', '沖', '宠爱', '偶像崇拜', '权力者', '弱势'],\n",
       "  'Link': 'https://lyricspinyin.com/2020/08/21/dont-worry-about-me-by-e-so-%e7%98%a6%e5%ad%90-pinyin-lyrics/'},\n",
       " {'Title': 'Bo Fu 伯父',\n",
       "  'Artist': 'Pinyin Lyrics And English Translation - Lyrics Pinyin',\n",
       "  'Understandability': 57,\n",
       "  'Importance': 52,\n",
       "  'Score': -5,\n",
       "  'New Words': ['全村', '伯父', '宝贝女儿', '鸡婆', '强', '问心无愧', '显赫', '品味', '刺青'],\n",
       "  'Link': 'https://lyricspinyin.com/2020/08/07/bo-fu-%e4%bc%af%e7%88%b6-by-pinyin-lyrics-and-english-translation/'},\n",
       " {'Title': 'I Wish I Was There',\n",
       "  'Artist': 'E.SO 瘦子',\n",
       "  'Understandability': 55,\n",
       "  'Importance': 49,\n",
       "  'Score': -6,\n",
       "  'New Words': ['妆容', '珠宝', '抛掉', '妳', '糟飞', '妳在', '骚', '动怒'],\n",
       "  'Link': 'https://lyricspinyin.com/2020/07/24/i-wish-i-was-there-by-e-so-%e7%98%a6%e5%ad%90-pinyin-lyrics/'},\n",
       " {'Title': 'WAIT',\n",
       "  'Artist': 'E.SO 瘦子',\n",
       "  'Understandability': 60,\n",
       "  'Importance': 56,\n",
       "  'Score': -4,\n",
       "  'New Words': ['站稳', '天灾人祸', '恁', '盛大', '在盪', '范本', '击退', '善人', '凡人', '罗宾汉'],\n",
       "  'Link': 'https://lyricspinyin.com/2020/07/10/wait-by-e-so-%e7%98%a6%e5%ad%90-pinyin-lyrics/'},\n",
       " {'Title': 'Follow You',\n",
       "  'Artist': 'E.SO 瘦子',\n",
       "  'Understandability': 56,\n",
       "  'Importance': 51,\n",
       "  'Score': -5,\n",
       "  'New Words': ['一幕', '妳', '肌肤', '大波浪', '彿', '露背', '妳在', '一秒钟', '就寝'],\n",
       "  'Link': 'https://lyricspinyin.com/2020/06/26/follow-you-by-e-so-%e7%98%a6%e5%ad%90-pinyin-lyrics-and-english-translation/'},\n",
       " {'Title': 'Cheng Zan Ta De Mei 稱讚她的美',\n",
       "  'Artist': '瘦子E.SO',\n",
       "  'Understandability': 57,\n",
       "  'Importance': 52,\n",
       "  'Score': -5,\n",
       "  'New Words': ['抖音', '沈默', '佔', '週末', '破灭', '餵', '萤幕', '想霸'],\n",
       "  'Link': 'https://lyricspinyin.com/2020/06/12/cheng-zan-ta-de-mei-%e7%a8%b1%e8%ae%9a%e5%a5%b9%e7%9a%84%e7%be%8e-by-%e7%98%a6%e5%ad%90e-so-pinyin-lyrics-and-english-translation/'},\n",
       " {'Title': 'Ta Mei Zai Kan Wo 她沒在看我',\n",
       "  'Artist': 'E.SO 瘦子',\n",
       "  'Understandability': 51,\n",
       "  'Importance': 48,\n",
       "  'Score': -3,\n",
       "  'New Words': ['妆容',\n",
       "   '我握',\n",
       "   '独处',\n",
       "   '妳',\n",
       "   '奢望',\n",
       "   '週末',\n",
       "   '笼统',\n",
       "   '抚媚',\n",
       "   '脸孔',\n",
       "   '妳爱',\n",
       "   '妳会'],\n",
       "  'Link': 'https://lyricspinyin.com/2020/05/15/ta-mei-zai-kan-wo-%e5%a5%b9%e6%b2%92%e5%9c%a8%e7%9c%8b%e6%88%91-by-e-so-%e7%98%a6%e5%ad%90-pinyin-lyrics/'},\n",
       " {'Title': 'CHANGE',\n",
       "  'Artist': 'E.SO 瘦子',\n",
       "  'Understandability': 57,\n",
       "  'Importance': 54,\n",
       "  'Score': -3,\n",
       "  'New Words': ['形同陌路',\n",
       "   '消遣',\n",
       "   '兵马俑',\n",
       "   '灯谜',\n",
       "   '作祟',\n",
       "   '扣子',\n",
       "   '回哩勒公虾',\n",
       "   '妳',\n",
       "   '浮云',\n",
       "   '凝结',\n",
       "   '妳是',\n",
       "   '拢',\n",
       "   '妳会',\n",
       "   '牵着手'],\n",
       "  'Link': 'https://lyricspinyin.com/2020/05/01/change-by-e-so-%e7%98%a6%e5%ad%90-pinyin-lyrics/'},\n",
       " {'Title': 'Shi Jie Shang Bu Cun Zai De Ge 世界上不存在的歌',\n",
       "  'Artist': 'Eason Chan 陳奕迅',\n",
       "  'Understandability': 57,\n",
       "  'Importance': 52,\n",
       "  'Score': -5,\n",
       "  'New Words': ['失恋', '草蜢', '羞涩'],\n",
       "  'Link': 'https://lyricspinyin.com/2020/08/06/shi-jie-shang-bu-cun-zai-de-ge-%e4%b8%96%e7%95%8c%e4%b8%8a%e4%b8%8d%e5%ad%98%e5%9c%a8%e7%9a%84%e6%ad%8c-by-eason-chan-%e9%99%b3%e5%a5%95%e8%bf%85-pinyin-lyrics-and-english-translation/'},\n",
       " {'Title': 'Shi Nian 十年',\n",
       "  'Artist': 'Eason Chan 陳奕迅',\n",
       "  'Understandability': 62,\n",
       "  'Importance': 58,\n",
       "  'Score': -4,\n",
       "  'New Words': ['沦为', '眼泪', '渐渐', '泪流'],\n",
       "  'Link': 'https://lyricspinyin.com/2020/07/18/shi-nian-%e5%8d%81%e5%b9%b4-by-eason-chan-%e9%99%b3%e5%a5%95%e8%bf%85-pinyin-lyrics-and-english-translation/'},\n",
       " {'Title': 'Rang Wo Liu Zai Ni Shen Bian 讓我留在你身邊',\n",
       "  'Artist': 'Eason Chan',\n",
       "  'Understandability': 57,\n",
       "  'Importance': 50,\n",
       "  'Score': -7,\n",
       "  'New Words': ['庸庸碌碌', '纷纷扰扰', '难辨', '卑微', '暴风雨', '纷扰'],\n",
       "  'Link': 'https://lyricspinyin.com/2019/10/11/rang-wo-liu-zai-ni-shen-bian-%e8%ae%93%e6%88%91%e7%95%99%e5%9c%a8%e4%bd%a0%e8%ba%ab%e9%82%8a-by-eason-chan-pinyin-lyrics-and-english-translation/'},\n",
       " {'Title': 'Wo Men 我們',\n",
       "  'Artist': 'Eason Chan 陳奕迅',\n",
       "  'Understandability': 84,\n",
       "  'Importance': 78,\n",
       "  'Score': -6,\n",
       "  'New Words': [],\n",
       "  'Link': 'https://lyricspinyin.com/2019/10/11/wo-men-%e6%88%91%e5%80%91-by-eason-chan-%e9%99%b3%e5%a5%95%e8%bf%85-pinyin-lyrics-and-english-translation/'},\n",
       " {'Title': 'Dai Ming Ci 代名詞',\n",
       "  'Artist': 'en',\n",
       "  'Understandability': 57,\n",
       "  'Importance': 50,\n",
       "  'Score': -7,\n",
       "  'New Words': ['若无其事', '代名词', '沉寂', '休止', '僵持', '忽明忽暗', '熄', '烟丝'],\n",
       "  'Link': 'https://lyricspinyin.com/2020/09/16/dai-ming-ci-%e4%bb%a3%e5%90%8d%e8%a9%9e-by-en-pinyin-lyrics-and-english-translation/'},\n",
       " {'Title': 'Huan Diao 換掉',\n",
       "  'Artist': 'en',\n",
       "  'Understandability': 54,\n",
       "  'Importance': 52,\n",
       "  'Score': -2,\n",
       "  'New Words': ['合巧', '跤', '伪装', '潮水般', '缘分', '庸人自扰', '退潮', '癖好'],\n",
       "  'Link': 'https://lyricspinyin.com/2020/08/22/huan-diao-%e6%8f%9b%e6%8e%89-by-en-pinyin-lyrics-and-english-translation/'},\n",
       " {'Title': 'Feng Quan 奉勸',\n",
       "  'Artist': 'en',\n",
       "  'Understandability': 57,\n",
       "  'Importance': 55,\n",
       "  'Score': -2,\n",
       "  'New Words': ['珍重', '情有独钟', '落寞', '无限', '无邪', '怦然心动', '伤痛', '相拥'],\n",
       "  'Link': 'https://lyricspinyin.com/2020/06/30/feng-quan-%e5%a5%89%e5%8b%b8-by-en-pinyin-lyrics-and-english-translation/'},\n",
       " {'Title': 'Xiao Zhang 囂張',\n",
       "  'Artist': 'en',\n",
       "  'Understandability': 58,\n",
       "  'Importance': 55,\n",
       "  'Score': -3,\n",
       "  'New Words': ['絶', '肆意', '刀疤', '没治', '可悲', '争辩', '癒', '天花乱坠'],\n",
       "  'Link': 'https://lyricspinyin.com/2019/10/14/xiao-zhang-%e5%9b%82%e5%bc%b5-by-en-pinyin-lyrics-and-english-translation/'},\n",
       " {'Title': 'An Shi Fen Li 暗示分離',\n",
       "  'Artist': 'en',\n",
       "  'Understandability': 50,\n",
       "  'Importance': 49,\n",
       "  'Score': -1,\n",
       "  'New Words': ['含蓄', '待续', '间隙', '贪心', '言语', '禁忌', '僵持'],\n",
       "  'Link': 'https://lyricspinyin.com/2019/10/13/an-shi-fen-li-%e6%9a%97%e7%a4%ba%e5%88%86%e9%9b%a2-by-en-pinyin-lyrics-and-english-translation/'},\n",
       " {'Title': 'Ni De Shi Jie 你的世界',\n",
       "  'Artist': 'Eric Wang 王耀楊',\n",
       "  'Understandability': 59,\n",
       "  'Importance': 55,\n",
       "  'Score': -4,\n",
       "  'New Words': ['落魄', '嫌弃', '压垮', '漩涡', '孤单', '我痛'],\n",
       "  'Link': 'https://lyricspinyin.com/2020/06/08/ni-de-shi-jie-%e4%bd%a0%e7%9a%84%e4%b8%96%e7%95%8c-by-eric-wang-%e7%8e%8b%e8%80%80%e6%a5%8a-pinyin-lyrics-and-english-translation/'},\n",
       " {'Title': 'You Are So Beautiful',\n",
       "  'Artist': 'Evan Lin 林彥俊',\n",
       "  'Understandability': 69,\n",
       "  'Importance': 61,\n",
       "  'Score': -8,\n",
       "  'New Words': ['唿唤', '唿吸', '明媚', '被遗弃', '晦暗', '眼泪', '漆黑'],\n",
       "  'Link': 'https://lyricspinyin.com/2020/04/17/you-are-so-beautiful-by-evan-lin-%e6%9e%97%e5%bd%a5%e4%bf%8a-pinyin-lyrics-and-english-translation/'},\n",
       " {'Title': 'Shui Bu Xiang Tai Duo 誰不想太多',\n",
       "  'Artist': '蔡旻佑',\n",
       "  'Understandability': 61,\n",
       "  'Importance': 56,\n",
       "  'Score': -5,\n",
       "  'New Words': ['勐兽', '茍', '电光石火', '佔', '绷开', '犯规', '啰嗦'],\n",
       "  'Link': 'https://lyricspinyin.com/2019/10/25/shui-bu-xiang-tai-duo-%e8%aa%b0%e4%b8%8d%e6%83%b3%e5%a4%aa%e5%a4%9a-by-%e8%94%a1%e6%97%bb%e4%bd%91-pinyin-lyrics-and-english-translation/'},\n",
       " {'Title': 'Tian Zhen De Xie 天真的蠍',\n",
       "  'Artist': 'Evan Yo 蔡旻佑',\n",
       "  'Understandability': 57,\n",
       "  'Importance': 53,\n",
       "  'Score': -4,\n",
       "  'New Words': ['还击', '拥抱着', '看透', '优雅', '盔甲', '死穴', '卸下', '来痛'],\n",
       "  'Link': 'https://lyricspinyin.com/2019/10/05/tian-zhen-de-xie-%e5%a4%a9%e7%9c%9f%e7%9a%84%e8%a0%8d-by-evan-yo-%e8%94%a1%e6%97%bb%e4%bd%91-pinyin-lyrics-and-english-translation/'},\n",
       " {'Title': 'Bu Gai Yong You De Shi Qing 不該擁有的事情',\n",
       "  'Artist': 'Evan Yo 蔡旻佑',\n",
       "  'Understandability': 62,\n",
       "  'Importance': 56,\n",
       "  'Score': -6,\n",
       "  'New Words': ['眼泪', '坠落'],\n",
       "  'Link': 'https://lyricspinyin.com/2019/10/04/bu-gai-yong-you-de-shi-qing-%e4%b8%8d%e8%a9%b2%e6%93%81%e6%9c%89%e7%9a%84%e4%ba%8b%e6%83%85-by-evan-yo-%e8%94%a1%e6%97%bb%e4%bd%91-pinyin-lyrics-and-english-translation/'},\n",
       " {'Title': 'Kun Shou 困獸',\n",
       "  'Artist': 'Fan Cheng Cheng 笵丞丞',\n",
       "  'Understandability': 53,\n",
       "  'Importance': 50,\n",
       "  'Score': -3,\n",
       "  'New Words': ['攻破',\n",
       "   '提线木偶',\n",
       "   '伺机而动',\n",
       "   '猎物',\n",
       "   '皮囊',\n",
       "   '射',\n",
       "   '弓箭',\n",
       "   '刺伤',\n",
       "   '透出',\n",
       "   '躯壳',\n",
       "   '涌动'],\n",
       "  'Link': 'https://lyricspinyin.com/2020/06/18/kun-shou-%e5%9b%b0%e7%8d%b8-by-fan-cheng-cheng-%e7%ac%b5%e4%b8%9e%e4%b8%9e-pinyin-lyrics-and-english-translation/'},\n",
       " {'Title': 'Guo Du Hu Xi 過度呼吸',\n",
       "  'Artist': 'Fan Cheng Cheng 笵丞丞',\n",
       "  'Understandability': 57,\n",
       "  'Importance': 53,\n",
       "  'Score': -4,\n",
       "  'New Words': ['肆意',\n",
       "   '尘埃',\n",
       "   '冰川',\n",
       "   '逞强',\n",
       "   '过速',\n",
       "   '唿吸',\n",
       "   '落幕',\n",
       "   '破绽',\n",
       "   '耗尽',\n",
       "   '望而生畏',\n",
       "   '孤单',\n",
       "   '敌不过'],\n",
       "  'Link': 'https://lyricspinyin.com/2020/06/17/guo-du-hu-xi-%e9%81%8e%e5%ba%a6%e5%91%bc%e5%90%b8-by-fan-cheng-cheng-%e7%ac%b5%e4%b8%9e%e4%b8%9e-pinyin-lyrics/'},\n",
       " {'Title': 'Yi Jian Mei 一剪梅',\n",
       "  'Artist': 'Fei Yu Ching 費玉清',\n",
       "  'Understandability': 38,\n",
       "  'Importance': 35,\n",
       "  'Score': -3,\n",
       "  'New Words': ['掩没',\n",
       "   '一剪',\n",
       "   '无怨无悔',\n",
       "   '寒梅',\n",
       "   '梅花',\n",
       "   '阻隔',\n",
       "   '啸啸',\n",
       "   '枝头',\n",
       "   '云开日出',\n",
       "   '傲立',\n",
       "   '绽放',\n",
       "   '伊人'],\n",
       "  'Link': 'https://lyricspinyin.com/2020/06/30/yi-jian-mei-%e4%b8%80%e5%89%aa%e6%a2%85-by-fei-yu-ching-%e8%b2%bb%e7%8e%89%e6%b8%85-pinyin-lyrics-and-english-translation/'},\n",
       " {'Title': 'Ta Zhi Shi Jing Guo 他只是經過',\n",
       "  'Artist': 'h3R3 / Felix Benn',\n",
       "  'Understandability': 62,\n",
       "  'Importance': 57,\n",
       "  'Score': -5,\n",
       "  'New Words': ['沈默', '眼泪', '闪动', '淋个', '触动', '堆叠'],\n",
       "  'Link': 'https://lyricspinyin.com/2020/10/03/ta-zhi-shi-jing-guo-%e4%bb%96%e5%8f%aa%e6%98%af%e7%b6%93%e9%81%8e-by-h3r3-felix-benn-pinyin-lyrics-and-english-translation/'},\n",
       " {'Title': 'Hei Ka 黑卡',\n",
       "  'Artist': 'Z.TAO 黄子韜 & GAI 周延',\n",
       "  'Understandability': 51,\n",
       "  'Importance': 47,\n",
       "  'Score': -4,\n",
       "  'New Words': ['猎手',\n",
       "   '禁闭',\n",
       "   '笔迹',\n",
       "   '狗屁',\n",
       "   '踏平',\n",
       "   '湾流',\n",
       "   '兵刃',\n",
       "   '怪癖',\n",
       "   '身价',\n",
       "   '买架',\n",
       "   '并茂',\n",
       "   '神情',\n",
       "   '成王',\n",
       "   '珠穆朗玛',\n",
       "   '戴玉爱',\n",
       "   '百尺竿头'],\n",
       "  'Link': 'https://lyricspinyin.com/2020/10/12/hei-ka-%e9%bb%91%e5%8d%a1-by-z-tao-%e9%bb%84%e5%ad%90%e9%9f%9c-gai-%e5%91%a8%e5%bb%b6-pinyin-lyrics/'},\n",
       " {'Title': 'RAPSTAR',\n",
       "  'Artist': '吳亦凡 潘瑋柏 張靚穎 GAI周延 朴宰範',\n",
       "  'Understandability': 46,\n",
       "  'Importance': 44,\n",
       "  'Score': -2,\n",
       "  'New Words': ['执念',\n",
       "   '舰队',\n",
       "   '紫棋',\n",
       "   '呐喊',\n",
       "   '古人',\n",
       "   '万人空巷',\n",
       "   '王者',\n",
       "   '心慌',\n",
       "   '大堂',\n",
       "   '舞剑',\n",
       "   '阿岳',\n",
       "   '无所畏',\n",
       "   '水军',\n",
       "   '入席',\n",
       "   '臣服',\n",
       "   '静止',\n",
       "   '英里',\n",
       "   '朴宰范',\n",
       "   '一触即发',\n",
       "   '玉液琼浆',\n",
       "   '势在必得',\n",
       "   '醍醐灌顶',\n",
       "   '熔断',\n",
       "   '唿唤',\n",
       "   '咽下去',\n",
       "   '好字旗',\n",
       "   '装腔',\n",
       "   '战神',\n",
       "   '掌舵',\n",
       "   '眺望',\n",
       "   '稿子',\n",
       "   '看齐',\n",
       "   '枷锁',\n",
       "   '问价',\n",
       "   '谜题',\n",
       "   '硬骨头',\n",
       "   '託',\n",
       "   '啥子',\n",
       "   '炸',\n",
       "   '孔乙己',\n",
       "   '狂人',\n",
       "   '敬来',\n",
       "   '遮羞布',\n",
       "   '战友',\n",
       "   '旗号',\n",
       "   '随你挑',\n",
       "   '搭理'],\n",
       "  'Link': 'https://lyricspinyin.com/2020/08/11/rapstar-by-%e5%90%b3%e4%ba%a6%e5%87%a1-%e6%bd%98%e7%91%8b%e6%9f%8f-%e5%bc%b5%e9%9d%9a%e7%a9%8e-gai%e5%91%a8%e5%bb%b6-%e6%9c%b4%e5%ae%b0%e7%af%84-pinyin-lyrics/'},\n",
       " {'Title': 'Wo Men Bu Pa 我們不怕',\n",
       "  'Artist': 'Gao Jin 高進',\n",
       "  'Understandability': 53,\n",
       "  'Importance': 45,\n",
       "  'Score': -8,\n",
       "  'New Words': ['无畏', '托起', '手牵手', '年轮', '坚守', '可敬', '扛起'],\n",
       "  'Link': 'https://lyricspinyin.com/2020/03/19/wo-men-bu-pa-%e6%88%91%e5%80%91%e4%b8%8d%e6%80%95-by-gao-jin-%e9%ab%98%e9%80%b2-pinyin-lyrics-and-english-translation/'},\n",
       " {'Title': 'Guo Huo 過活',\n",
       "  'Artist': 'Gao Yu 高魚',\n",
       "  'Understandability': 56,\n",
       "  'Importance': 53,\n",
       "  'Score': -3,\n",
       "  'New Words': ['氤氲', '捻', '指尖', '缠绵', '唿吸', '繁星', '云淡风轻', '相拥'],\n",
       "  'Link': 'https://lyricspinyin.com/2020/04/11/guo-huo-%e9%81%8e%e6%b4%bb-by-gao-yu-%e9%ab%98%e9%ad%9a-pinyin-lyrics-and-english-translation/'},\n",
       " {'Title': 'Zai Jian 再見',\n",
       "  'Artist': 'Ge Bi Lao Fan 隔壁老樊',\n",
       "  'Understandability': 57,\n",
       "  'Importance': 52,\n",
       "  'Score': -5,\n",
       "  'New Words': ['忽远', '忽近', '自作孽', '发芽', '恭维', '坦荡', '缠绵', '痛到', '唯唯诺诺', '伊人'],\n",
       "  'Link': 'https://lyricspinyin.com/2020/05/30/zai-jian-%e5%86%8d%e8%a6%8b-by-ge-bi-lao-fan-%e9%9a%94%e5%a3%81%e8%80%81%e6%a8%8a-pinyin-lyrics-and-english-translation/'},\n",
       " {'Title': 'Fen Shou Tiao Yue 分手跳躍',\n",
       "  'Artist': 'Ge Bi Lao Fan 隔壁老樊',\n",
       "  'Understandability': 56,\n",
       "  'Importance': 50,\n",
       "  'Score': -6,\n",
       "  'New Words': ['污浊', '脸颊', '一搏', '沟壑', '粉红色', '崇山峻岭', '梦魇', '晚霞'],\n",
       "  'Link': 'https://lyricspinyin.com/2020/05/17/fen-shou-tiao-yue-%e5%88%86%e6%89%8b%e8%b7%b3%e8%ba%8d-by-ge-bi-lao-fan-%e9%9a%94%e5%a3%81%e8%80%81%e6%a8%8a-pinyin-lyrics-and-english-translation/'},\n",
       " {'Title': 'Zhong 重',\n",
       "  'Artist': 'Ge Bi Lao Fan 隔壁老樊',\n",
       "  'Understandability': 59,\n",
       "  'Importance': 52,\n",
       "  'Score': -7,\n",
       "  'New Words': ['伤疤', '发芽', '沖', '割断', '自作孽'],\n",
       "  'Link': 'https://lyricspinyin.com/2020/05/10/zhong-%e9%87%8d-by-ge-bi-lao-fan-%e9%9a%94%e5%a3%81%e8%80%81%e6%a8%8a-pinyin-lyrics-and-english-translation/'},\n",
       " {'Title': 'Dan 淡',\n",
       "  'Artist': 'Ge Bi Lao Fan 隔壁老樊',\n",
       "  'Understandability': 40,\n",
       "  'Importance': 40,\n",
       "  'Score': 0,\n",
       "  'New Words': ['虫鸣',\n",
       "   '忘虫',\n",
       "   '当诵',\n",
       "   '掺泪',\n",
       "   '天涯',\n",
       "   '小鹿',\n",
       "   '残破',\n",
       "   '佛心',\n",
       "   '满膛',\n",
       "   '涕泪',\n",
       "   '万里无云',\n",
       "   '心粉',\n",
       "   '横流',\n",
       "   '苍狗白云'],\n",
       "  'Link': 'https://lyricspinyin.com/2020/05/03/dan-%e6%b7%a1-by-ge-bi-lao-fan-%e9%9a%94%e5%a3%81%e8%80%81%e6%a8%8a-pinyin-lyrics/'},\n",
       " {'Title': 'Di San Zhong Ren 第三種人',\n",
       "  'Artist': 'Ge Bi Lao Fan 隔壁老樊',\n",
       "  'Understandability': 59,\n",
       "  'Importance': 54,\n",
       "  'Score': -5,\n",
       "  'New Words': ['深井', '仁心', '吐露', '癒', '蓬勃'],\n",
       "  'Link': 'https://lyricspinyin.com/2020/04/25/di-san-zhong-ren-%e7%ac%ac%e4%b8%89%e7%a8%ae%e4%ba%ba-by-ge-bi-lao-fan-%e9%9a%94%e5%a3%81%e8%80%81%e6%a8%8a-pinyin-lyrics-and-english-translation/'},\n",
       " {'Title': 'Ni Wo Bu Yi 你我不一',\n",
       "  'Artist': 'Ge Bi Lao Fan 隔壁老樊',\n",
       "  'Understandability': 52,\n",
       "  'Importance': 49,\n",
       "  'Score': -3,\n",
       "  'New Words': ['荒野', '自嘲', '从来未', '良药', '每秒', '众星捧月', '璀璨'],\n",
       "  'Link': 'https://lyricspinyin.com/2020/04/18/ni-wo-bu-yi-%e4%bd%a0%e6%88%91%e4%b8%8d%e4%b8%80-by-ge-bi-lao-fan-%e9%9a%94%e5%a3%81%e8%80%81%e6%a8%8a-pinyin-lyrics-and-english-translation/'},\n",
       " {'Title': 'Ba Ai San Luo Zai Ren Jian 把愛散落在人間',\n",
       "  'Artist': 'Ge Bi Lao Fan 隔壁老樊',\n",
       "  'Understandability': 42,\n",
       "  'Importance': 36,\n",
       "  'Score': -6,\n",
       "  'New Words': ['星辰',\n",
       "   '归田',\n",
       "   '赏景',\n",
       "   '恋望',\n",
       "   '云烟',\n",
       "   '日暮',\n",
       "   '闻虫眠',\n",
       "   '迷途',\n",
       "   '入眠',\n",
       "   '梦闻虫眠',\n",
       "   '梦魇'],\n",
       "  'Link': 'https://lyricspinyin.com/2020/03/01/ba-ai-san-luo-zai-ren-jian-%e6%8a%8a%e6%84%9b%e6%95%a3%e8%90%bd%e5%9c%a8%e4%ba%ba%e9%96%93-by-ge-bi-lao-fan-%e9%9a%94%e5%a3%81%e8%80%81%e6%a8%8a-pinyin-lyrics-and-english-translation/'},\n",
       " {'Title': 'Wo De Gu Niang Ta Zai Yuan Fang 我的姑娘 她在遠方',\n",
       "  'Artist': 'Ge Bi Lao Fan 隔壁老樊',\n",
       "  'Understandability': 59,\n",
       "  'Importance': 49,\n",
       "  'Score': -10,\n",
       "  'New Words': ['独自一人', '唿', '一败涂地'],\n",
       "  'Link': 'https://lyricspinyin.com/2020/01/31/wo-de-gu-niang-ta-zai-yuan-fang-%e6%88%91%e7%9a%84%e5%a7%91%e5%a8%98-%e5%a5%b9%e5%9c%a8%e9%81%a0%e6%96%b9-by-ge-bi-lao-fan-%e9%9a%94%e5%a3%81%e8%80%81%e6%a8%8a-pinyin-lyrics-and-english-translation/'},\n",
       " {'Title': 'Zhe Yi Sheng Guan Yu Ni De Feng Jing 這一生關於你的風景',\n",
       "  'Artist': 'Ge Bi Lao Fan 隔壁老樊',\n",
       "  'Understandability': 60,\n",
       "  'Importance': 53,\n",
       "  'Score': -7,\n",
       "  'New Words': ['闪亮', '心慌'],\n",
       "  'Link': 'https://lyricspinyin.com/2020/01/25/zhe-yi-sheng-guan-yu-ni-de-feng-jing-%e9%80%99%e4%b8%80%e7%94%9f%e9%97%9c%e6%96%bc%e4%bd%a0%e7%9a%84%e9%a2%a8%e6%99%af-by-ge-bi-lao-fan-%e9%9a%94%e5%a3%81%e8%80%81%e6%a8%8a-pinyin-lyrics-and-english-t/'},\n",
       " {'Title': 'Guan Yu Gu Du Wo Xiang Shuo De Hua 關於孤獨我想說的話',\n",
       "  'Artist': '隔壁老樊',\n",
       "  'Understandability': 58,\n",
       "  'Importance': 50,\n",
       "  'Score': -8,\n",
       "  'New Words': ['谎话'],\n",
       "  'Link': 'https://lyricspinyin.com/2019/10/24/%e9%97%9c%e6%96%bc%e5%ad%a4%e7%8d%a8%e6%88%91%e6%83%b3%e8%aa%aa%e7%9a%84%e8%a9%b1-by-%e9%9a%94%e5%a3%81%e8%80%81%e6%a8%8a-pinyin-lyrics-and-english-translation/'},\n",
       " {'Title': 'Xi 囍',\n",
       "  'Artist': 'Ge Dong Qi 葛東琪',\n",
       "  'Understandability': 42,\n",
       "  'Importance': 36,\n",
       "  'Score': -6,\n",
       "  'New Words': ['平仄',\n",
       "   '红檀',\n",
       "   '愁字开',\n",
       "   '一尺',\n",
       "   '渐起',\n",
       "   '不归',\n",
       "   '野猫',\n",
       "   '青梅竹马',\n",
       "   '卯时',\n",
       "   '王二狗',\n",
       "   '推门雾',\n",
       "   '马蹄声',\n",
       "   '斩落',\n",
       "   '离人愁',\n",
       "   '黄道吉日',\n",
       "   '玉如意',\n",
       "   '寻思',\n",
       "   '哼唧',\n",
       "   '高粱',\n",
       "   '堂前',\n",
       "   '裁裁',\n",
       "   '良人',\n",
       "   '心窝子',\n",
       "   '轻阴叹',\n",
       "   '村里',\n",
       "   '独留'],\n",
       "  'Link': 'https://lyricspinyin.com/2020/08/06/xi-%e5%9b%8d-by-ge-dong-qi-%e8%91%9b%e6%9d%b1%e7%90%aa-pinyin-lyrics/'},\n",
       " {'Title': 'Xuan Ni 懸溺',\n",
       "  'Artist': 'Ge Dong Qi 葛東琪',\n",
       "  'Understandability': 59,\n",
       "  'Importance': 52,\n",
       "  'Score': -7,\n",
       "  'New Words': ['慾', '喜怒哀乐', '余温', '悬上'],\n",
       "  'Link': 'https://lyricspinyin.com/2019/11/15/xuan-ni-%e6%87%b8%e6%ba%ba-by-ge-dong-qi-%e8%91%9b%e6%9d%b1%e7%90%aa-pinyin-lyrics-and-english-translation/'},\n",
       " {'Title': 'Ai De Qia Qia 愛的恰恰',\n",
       "  'Artist': '寶石Gem & Kozay & Evis Wy',\n",
       "  'Understandability': 50,\n",
       "  'Importance': 46,\n",
       "  'Score': -4,\n",
       "  'New Words': ['炸',\n",
       "   '郭富城',\n",
       "   '恰恰舞',\n",
       "   '英雄好汉',\n",
       "   '尬',\n",
       "   '香槟',\n",
       "   '喷得',\n",
       "   '蹉跎',\n",
       "   '凤飞飞',\n",
       "   '发狂',\n",
       "   '蹦蹦跳',\n",
       "   '小金库',\n",
       "   '朵玫瑰',\n",
       "   '蜜加',\n",
       "   '张信哲'],\n",
       "  'Link': 'https://lyricspinyin.com/2020/09/19/ai-de-qia-qia-%e6%84%9b%e7%9a%84%e6%81%b0%e6%81%b0-by-%e5%af%b6%e7%9f%b3gem-kozay-evis-wy-pinyin-lyrics/'},\n",
       " {'Title': 'Yuan Ju Li 遠距離',\n",
       "  'Artist': 'GJ 蔣卓嘉',\n",
       "  'Understandability': 60,\n",
       "  'Importance': 58,\n",
       "  'Score': -2,\n",
       "  'New Words': ['肩靠肩', '交集', '孤单', '按赞', '吉他'],\n",
       "  'Link': 'https://lyricspinyin.com/2020/08/11/yuan-ju-li-%e9%81%a0%e8%b7%9d%e9%9b%a2-by-gj-%e8%94%a3%e5%8d%93%e5%98%89-pinyin-lyrics-and-english-translation/'},\n",
       " {'Title': 'Wu Qi 無期',\n",
       "  'Artist': 'Guang Tou Hua Xia 光頭華夏',\n",
       "  'Understandability': 41,\n",
       "  'Importance': 36,\n",
       "  'Score': -5,\n",
       "  'New Words': ['若心',\n",
       "   '陷得',\n",
       "   '若爱得',\n",
       "   '缘分',\n",
       "   '前尘',\n",
       "   '虔诚',\n",
       "   '痴痴',\n",
       "   '叩门',\n",
       "   '一盏灯',\n",
       "   '立秋',\n",
       "   '温',\n",
       "   '苦守'],\n",
       "  'Link': 'https://lyricspinyin.com/2020/01/19/wu-qi-%e7%84%a1%e6%9c%9f-by-guang-tou-hua-xia-%e5%85%89%e9%a0%ad%e8%8f%af%e5%a4%8f-pinyin-lyrics-and-english-translation/'},\n",
       " {'Title': 'Shui Xing Ji 水星記',\n",
       "  'Artist': 'Guo Ding 郭頂',\n",
       "  'Understandability': 57,\n",
       "  'Importance': 53,\n",
       "  'Score': -4,\n",
       "  'New Words': ['孤寂', '纹理', '手臂', '咫尺', '有迹可循', '沈溺', '这瞬眼'],\n",
       "  'Link': 'https://lyricspinyin.com/2020/10/04/shui-xing-ji-%e6%b0%b4%e6%98%9f%e8%a8%98-by-guo-ding-%e9%83%ad%e9%a0%82-pinyin-lyrics-and-english-translation/'},\n",
       " {'Title': 'Chui Mie Xiao Shan He 吹滅小山河',\n",
       "  'Artist': 'Guo Feng Tang 國風堂 & Si Nan 司南',\n",
       "  'Understandability': 37,\n",
       "  'Importance': 34,\n",
       "  'Score': -3,\n",
       "  'New Words': ['眼馋',\n",
       "   '撒野',\n",
       "   '星斗',\n",
       "   '寡夕淡',\n",
       "   '苗乍明',\n",
       "   '他绘',\n",
       "   '正挈',\n",
       "   '灯盏',\n",
       "   '贪过',\n",
       "   '横看',\n",
       "   '觅风',\n",
       "   '人杰',\n",
       "   '一席',\n",
       "   '独他',\n",
       "   '山川',\n",
       "   '笔忆话',\n",
       "   '闲云野鹤',\n",
       "   '相伴',\n",
       "   '秉烛',\n",
       "   '缠绵',\n",
       "   '潦倒',\n",
       "   '竖成',\n",
       "   '舍近求远',\n",
       "   '觊觎',\n",
       "   '海纳百川',\n",
       "   '难辨',\n",
       "   '江南',\n",
       "   '山眉海',\n",
       "   '云烟',\n",
       "   '凛冽',\n",
       "   '一株',\n",
       "   '风闲',\n",
       "   '赴宴',\n",
       "   '并肩',\n",
       "   '烛火',\n",
       "   '萦怀',\n",
       "   '轻狂',\n",
       "   '重逢',\n",
       "   '始忆',\n",
       "   '水仙',\n",
       "   '寻到',\n",
       "   '悲欢',\n",
       "   '挑灯'],\n",
       "  'Link': 'https://lyricspinyin.com/2020/07/28/chui-mie-xiao-shan-he-%e5%90%b9%e6%bb%85%e5%b0%8f%e5%b1%b1%e6%b2%b3-by-guo-feng-tang-%e5%9c%8b%e9%a2%a8%e5%a0%82-si-nan-%e5%8f%b8%e5%8d%97-pinyin-lyrics/'},\n",
       " {'Title': 'Ai Qing Zui Zui Zui 愛情醉醉醉',\n",
       "  'Artist': 'Guo Li 郭力',\n",
       "  'Understandability': 66,\n",
       "  'Importance': 60,\n",
       "  'Score': -6,\n",
       "  'New Words': ['伤悲', '眼泪'],\n",
       "  'Link': 'https://lyricspinyin.com/2020/01/13/ai-qing-zui-zui-zui-%e6%84%9b%e6%83%85%e9%86%89%e9%86%89%e9%86%89-by-guo-li-%e9%83%ad%e5%8a%9b-pinyin-lyrics-and-english-translation/'},\n",
       " {'Title': 'Ta Zhi Shi Jing Guo 他只是經過',\n",
       "  'Artist': 'h3R3 / Felix Benn',\n",
       "  'Understandability': 62,\n",
       "  'Importance': 57,\n",
       "  'Score': -5,\n",
       "  'New Words': ['沈默', '眼泪', '闪动', '淋个', '触动', '堆叠'],\n",
       "  'Link': 'https://lyricspinyin.com/2020/10/03/ta-zhi-shi-jing-guo-%e4%bb%96%e5%8f%aa%e6%98%af%e7%b6%93%e9%81%8e-by-h3r3-felix-benn-pinyin-lyrics-and-english-translation/'},\n",
       " {'Title': 'Bu Jian Jiu San 不見就散',\n",
       "  'Artist': 'Hacken Lee 李克勤 Zhou Shen 周深',\n",
       "  'Understandability': 61,\n",
       "  'Importance': 57,\n",
       "  'Score': -4,\n",
       "  'New Words': ['伤疤', '眼泪', '遮', '恶性循环', '等价交换', '孤单', '奉还'],\n",
       "  'Link': 'https://lyricspinyin.com/2020/01/21/bu-jian-jiu-san-%e4%b8%8d%e8%a6%8b%e5%b0%b1%e6%95%a3-by-hacken-lee-%e6%9d%8e%e5%85%8b%e5%8b%a4-zhou-shen-%e5%91%a8%e6%b7%b1-pinyin-lyrics-and-english-translation/'},\n",
       " {'Title': 'Dian Ge De Ren 點歌的人',\n",
       "  'Artist': 'Hai Lai A Mu 海來阿木',\n",
       "  'Understandability': 52,\n",
       "  'Importance': 48,\n",
       "  'Score': -4,\n",
       "  'New Words': ['点到为止', '尘缘', '屋内', '註', '巴巴', '丫丫', '阿巴', '无眠', '坎坷', '屋外'],\n",
       "  'Link': 'https://lyricspinyin.com/2020/05/13/dian-ge-de-ren-%e9%bb%9e%e6%ad%8c%e7%9a%84%e4%ba%ba-by-hai-lai-a-mu-%e6%b5%b7%e4%be%86%e9%98%bf%e6%9c%a8-pinyin-lyrics-and-english-translation/'},\n",
       " {'Title': 'You Jing 遊京',\n",
       "  'Artist': 'Hai Lun 海倫',\n",
       "  'Understandability': 38,\n",
       "  'Importance': 32,\n",
       "  'Score': -6,\n",
       "  'New Words': ['美人奏',\n",
       "   '夜泊',\n",
       "   '奏起',\n",
       "   '朗朗',\n",
       "   '无法自拔',\n",
       "   '悠悠',\n",
       "   '声韵',\n",
       "   '传来',\n",
       "   '君载',\n",
       "   '悠悠的',\n",
       "   '古城',\n",
       "   '天涯',\n",
       "   '不舍',\n",
       "   '郎君',\n",
       "   '铭记',\n",
       "   '跨马',\n",
       "   '抚琴',\n",
       "   '锦袍',\n",
       "   '江边',\n",
       "   '黑骏马',\n",
       "   '烙',\n",
       "   '滔滔',\n",
       "   '蒙纱望',\n",
       "   '货郎',\n",
       "   '勾',\n",
       "   '寻得',\n",
       "   '江水',\n",
       "   '门坡',\n",
       "   '威风凛凛',\n",
       "   '撩',\n",
       "   '纱',\n",
       "   '借宿'],\n",
       "  'Link': 'https://lyricspinyin.com/2020/10/15/you-jing-%e9%81%8a%e4%ba%ac-by-hai-lun-%e6%b5%b7%e5%80%ab-pinyin-lyrics/'},\n",
       " {'Title': 'You Shan Lian 遊山戀',\n",
       "  'Artist': 'Hai Lun 海倫',\n",
       "  'Understandability': 32,\n",
       "  'Importance': 28,\n",
       "  'Score': -4,\n",
       "  'New Words': ['抚琴',\n",
       "   '归来',\n",
       "   '芊芊',\n",
       "   '恋如大梦',\n",
       "   '怎舍',\n",
       "   '天仙',\n",
       "   '仙着',\n",
       "   '冰川',\n",
       "   '敬滴',\n",
       "   '湿衫',\n",
       "   '璀璨',\n",
       "   '悠哉',\n",
       "   '难舍'],\n",
       "  'Link': 'https://lyricspinyin.com/2020/09/29/you-shan-lian-%e9%81%8a%e5%b1%b1%e6%88%80-by-hai-lun-%e6%b5%b7%e5%80%ab-pinyin-lyrics/'},\n",
       " {'Title': 'Ta Hen Gu Du 她很孤獨',\n",
       "  'Artist': 'Hai Lun 海倫',\n",
       "  'Understandability': 57,\n",
       "  'Importance': 53,\n",
       "  'Score': -4,\n",
       "  'New Words': ['不忍', '归宿', '虚荣心', '泪珠', '忍人', '眼泪', '掐断'],\n",
       "  'Link': 'https://lyricspinyin.com/2019/12/31/ta-hen-gu-du-%e5%a5%b9%e5%be%88%e5%ad%a4%e7%8d%a8-by-hai-lun-%e6%b5%b7%e5%80%ab-pinyin-lyrics-and-english-translation/'},\n",
       " {'Title': 'Qiao Bian Gu Hiang 橋邊姑娘',\n",
       "  'Artist': '泡小椒 海倫',\n",
       "  'Understandability': 38,\n",
       "  'Importance': 31,\n",
       "  'Score': -7,\n",
       "  'New Words': ['流淌', '抚琴', '膛', '风华', '小鹿', '小姑娘', '忧伤', '逞强', '芬芳'],\n",
       "  'Link': 'https://lyricspinyin.com/2019/11/28/qiao-bian-gu-hiang-%e6%a9%8b%e9%82%8a%e5%a7%91%e5%a8%98-by-hai-lun-%e6%b5%b7%e5%80%ab-pinyin-lyrics-and-english-translation/'},\n",
       " {'Title': 'Bu Zai 不在',\n",
       "  'Artist': 'Han An Xu 韓安旭',\n",
       "  'Understandability': 59,\n",
       "  'Importance': 55,\n",
       "  'Score': -4,\n",
       "  'New Words': ['抛开', '掏空', '唿吸', '宠爱', '狠狠', '我痛', '屏住'],\n",
       "  'Link': 'https://lyricspinyin.com/2020/03/15/bu-zai-%e4%b8%8d%e5%9c%a8-by-han-an-xu-%e9%9f%93%e5%ae%89%e6%97%ad-pinyin-lyrics-and-english-translation/'},\n",
       " {'Title': 'Zhui 追',\n",
       "  'Artist': 'Tan Wei Wei 譚維維 feat. Han Lei 韓磊',\n",
       "  'Understandability': 40,\n",
       "  'Importance': 41,\n",
       "  'Score': 1,\n",
       "  'New Words': ['嫦娥',\n",
       "   '凤凰',\n",
       "   '涅槃',\n",
       "   '江河',\n",
       "   '彩云',\n",
       "   '帆',\n",
       "   '翱翔',\n",
       "   '土',\n",
       "   '雪莲',\n",
       "   '雄鹰',\n",
       "   '绽放'],\n",
       "  'Link': 'https://lyricspinyin.com/2020/03/09/zhui-%e8%bf%bd-by-tan-wei-wei-%e8%ad%9a%e7%b6%ad%e7%b6%ad-feat-han-lei-%e9%9f%93%e7%a3%8a-pinyin-lyrics/'},\n",
       " {'Title': 'Shi Mian De Ren Mei You Wan An 失眠的人沒有晚安',\n",
       "  'Artist': 'Hao Yu 昊宇',\n",
       "  'Understandability': 62,\n",
       "  'Importance': 55,\n",
       "  'Score': -7,\n",
       "  'New Words': ['左肩',\n",
       "   '伤疤',\n",
       "   '曾疗',\n",
       "   '指尖',\n",
       "   '弧线',\n",
       "   '松懈',\n",
       "   '一叠',\n",
       "   '一剎',\n",
       "   '墻',\n",
       "   '刺痛',\n",
       "   '吉他'],\n",
       "  'Link': 'https://lyricspinyin.com/2020/03/14/shi-mian-de-ren-mei-you-wan-an-%e5%a4%b1%e7%9c%a0%e7%9a%84%e4%ba%ba%e6%b2%92%e6%9c%89%e6%99%9a%e5%ae%89-by-hao-yu-%e6%98%8a%e5%ae%87-pinyin-lyrics-and-english-translation/'},\n",
       " {'Title': 'But She Likes',\n",
       "  'Artist': 'Haor 許書豪',\n",
       "  'Understandability': 55,\n",
       "  'Importance': 52,\n",
       "  'Score': -3,\n",
       "  'New Words': ['坠海', '防总', '想当初', '哀伤', '默契', '累债', '几辈子'],\n",
       "  'Link': 'https://lyricspinyin.com/2020/03/24/but-she-likes-by-haor-%e8%a8%b1%e6%9b%b8%e8%b1%aa-pinyin-lyrics-and-english-translation/'},\n",
       " {'Title': 'Ru Guo Ni Bu Jing Yi Xiang Qi 如果你不經意想起',\n",
       "  'Artist': 'He Jing Xuan 賀敬軒',\n",
       "  'Understandability': 60,\n",
       "  'Importance': 58,\n",
       "  'Score': -2,\n",
       "  'New Words': ['变本加厉', '猜忌'],\n",
       "  'Link': 'https://lyricspinyin.com/2020/02/01/ru-guo-ni-bu-jing-yi-xiang-qi-%e5%a6%82%e6%9e%9c%e4%bd%a0%e4%b8%8d%e7%b6%93%e6%84%8f%e6%83%b3%e8%b5%b7-by-he-jing-xuan-%e8%b3%80%e6%95%ac%e8%bb%92-pinyin-lyrics-and-english-translation/'},\n",
       " {'Title': 'Peng You Qing Ting Hao 朋友請聽好',\n",
       "  'Artist': '何炅 謝娜 易烊千璽',\n",
       "  'Understandability': 56,\n",
       "  'Importance': 47,\n",
       "  'Score': -9,\n",
       "  'New Words': ['小尾巴',\n",
       "   '楼宇',\n",
       "   '沙哑',\n",
       "   '手帕',\n",
       "   '眺望',\n",
       "   '悄悄话',\n",
       "   '呢喃',\n",
       "   '哑',\n",
       "   '孤单',\n",
       "   '初夏',\n",
       "   '吶',\n",
       "   '蝉声'],\n",
       "  'Link': 'https://lyricspinyin.com/2020/04/14/peng-you-qing-ting-hao-%e6%9c%8b%e5%8f%8b%e8%ab%8b%e8%81%bd%e5%a5%bd-by-%e4%bd%95%e7%82%85-%e8%ac%9d%e5%a8%9c-%e6%98%93%e7%83%8a%e5%8d%83%e7%92%bd-pinyin-lyrics-and-english-translation/'},\n",
       " {'Title': 'Yuan Lai Zhan Ju Ni Nei Xin De Ren Bu Shi Wo 原來占據你內心的人不是我',\n",
       "  'Artist': '賀一航',\n",
       "  'Understandability': 65,\n",
       "  'Importance': 61,\n",
       "  'Score': -4,\n",
       "  'New Words': ['註', '沦落'],\n",
       "  'Link': 'https://lyricspinyin.com/2019/12/16/yuan-lai-zhan-ju-ni-nei-xin-de-ren-bu-shi-wo-%e5%8e%9f%e4%be%86%e5%8d%a0%e6%93%9a%e4%bd%a0%e5%85%a7%e5%bf%83%e7%9a%84%e4%ba%ba%e4%b8%8d%e6%98%af%e6%88%91-by-%e8%b3%80%e4%b8%80%e8%88%aa-pinyin-lyrics-a/'},\n",
       " {'Title': 'Better',\n",
       "  'Artist': 'Hsieh Po An 謝博安',\n",
       "  'Understandability': 53,\n",
       "  'Importance': 52,\n",
       "  'Score': -1,\n",
       "  'New Words': ['褪下',\n",
       "   '闇',\n",
       "   '吞噬',\n",
       "   '伪装',\n",
       "   '那不舍',\n",
       "   '涙',\n",
       "   '一扇',\n",
       "   '翻涌',\n",
       "   '逞强',\n",
       "   '泪痕',\n",
       "   '埋藏'],\n",
       "  'Link': 'https://lyricspinyin.com/2020/02/10/better-by-hsieh-po-an-%e8%ac%9d%e5%8d%9a%e5%ae%89-pinyin-lyrics-and-english-translation/'},\n",
       " {'Title': 'Kua Bu Guo De Ju Li 跨不過的距離',\n",
       "  'Artist': 'Hu Er 虎二',\n",
       "  'Understandability': 57,\n",
       "  'Importance': 53,\n",
       "  'Score': -4,\n",
       "  'New Words': ['不遗余力', '追寻', '撕痛', '私信', '三言两语', '很挤'],\n",
       "  'Link': 'https://lyricspinyin.com/2020/06/24/kua-bu-guo-de-ju-li-%e8%b7%a8%e4%b8%8d%e9%81%8e%e7%9a%84%e8%b7%9d%e9%9b%a2-by-hu-er-%e8%99%8e%e4%ba%8c-pinyin-lyrics-and-english-translation/'},\n",
       " {'Title': 'Pei Ni Zou Dao Zui Hou 陪你走到最後',\n",
       "  'Artist': 'Tiger Wang 虎二',\n",
       "  'Understandability': 51,\n",
       "  'Importance': 49,\n",
       "  'Score': -2,\n",
       "  'New Words': ['泪光', '浮华', '扛起', '落幕', '狂奔', '恍恍惚惚', '聚散', '磕磕绊绊', '世尘'],\n",
       "  'Link': 'https://lyricspinyin.com/2020/05/18/pei-ni-zou-dao-zui-hou-%e9%99%aa%e4%bd%a0%e8%b5%b0%e5%88%b0%e6%9c%80%e5%be%8c-by-tiger-wang-%e8%99%8e%e4%ba%8c-pinyin-lyrics-and-english-translation/'},\n",
       " {'Title': 'Hao Hao De 好好的',\n",
       "  'Artist': 'Tiger Wang 虎二',\n",
       "  'Understandability': 58,\n",
       "  'Importance': 53,\n",
       "  'Score': -5,\n",
       "  'New Words': ['记忆里', '却触', '遗落', '忧伤', '纷扰'],\n",
       "  'Link': 'https://lyricspinyin.com/2020/02/09/hao-hao-de-%e5%a5%bd%e5%a5%bd%e7%9a%84-by-tiger-wang-%e8%99%8e%e4%ba%8c-pinyin-lyrics-and-english-translation/'},\n",
       " {'Title': 'Guo Qu Le 過去了',\n",
       "  'Artist': 'Tiger Wang 虎二',\n",
       "  'Understandability': 60,\n",
       "  'Importance': 53,\n",
       "  'Score': -7,\n",
       "  'New Words': ['穿梭', '天空海阔', '山丘'],\n",
       "  'Link': 'https://lyricspinyin.com/2019/12/23/guo-qu-le-%e9%81%8e%e5%8e%bb%e4%ba%86-by-tiger-wang-%e8%99%8e%e4%ba%8c-pinyin-lyrics-and-english-translation/'},\n",
       " {'Title': 'Ni Zen Me She De Wo Nan Guo 你怎麼捨得我難過',\n",
       "  'Artist': '虎二 feat. 戴羽彤',\n",
       "  'Understandability': 67,\n",
       "  'Importance': 62,\n",
       "  'Score': -5,\n",
       "  'New Words': ['孤单'],\n",
       "  'Link': 'https://lyricspinyin.com/2019/11/07/ni-zen-me-she-de-wo-nan-guo-%e4%bd%a0%e6%80%8e%e9%ba%bc%e6%8d%a8%e5%be%97%e6%88%91%e9%9b%a3%e9%81%8e-by-%e8%99%8e%e4%ba%8c-feat-%e6%88%b4%e7%be%bd%e5%bd%a4-pinyin-lyrics-and-english-translation/'},\n",
       " {'Title': 'Ni Yi Ding Yao Xing Fu 你一定要幸福',\n",
       "  'Artist': 'Hu Er 虎二',\n",
       "  'Understandability': 59,\n",
       "  'Importance': 51,\n",
       "  'Score': -8,\n",
       "  'New Words': ['赌', '天涯', '牵挂'],\n",
       "  'Link': 'https://lyricspinyin.com/2019/10/19/ni-yi-ding-yao-xing-fu-%e4%bd%a0%e4%b8%80%e5%ae%9a%e8%a6%81%e5%b9%b8%e7%a6%8f-by-hu-er-%e8%99%8e%e4%ba%8c-pinyin-lyrics-and-english-translation/'},\n",
       " {'Title': '',\n",
       "  'Artist': '',\n",
       "  'Understandability': '',\n",
       "  'Importance': '',\n",
       "  'Score': '',\n",
       "  'New Words': '',\n",
       "  'Link': 'https://lyricspinyin.com/2019/10/09/yuan-lai-%e5%8e%9f%e4%be%86-by-tiger-wang-%e8%99%8e%e4%ba%8c-pinyin-lyrics-and-english-translation/'},\n",
       " {'Title': 'Mei You Da An De Da An 沒有答案的答案',\n",
       "  'Artist': '虎二',\n",
       "  'Understandability': 65,\n",
       "  'Importance': 60,\n",
       "  'Score': -5,\n",
       "  'New Words': ['添彩'],\n",
       "  'Link': 'https://lyricspinyin.com/2019/10/06/mei-you-da-an-de-da-an-%e6%b2%92%e6%9c%89%e7%ad%94%e6%a1%88%e7%9a%84%e7%ad%94%e6%a1%88-by-%e8%99%8e%e4%ba%8c-pinyin-lyrics-and-english-translation/'},\n",
       " {'Title': '',\n",
       "  'Artist': '',\n",
       "  'Understandability': '',\n",
       "  'Importance': '',\n",
       "  'Score': '',\n",
       "  'New Words': '',\n",
       "  'Link': 'https://lyricspinyin.com/2019/10/04/ni-ying-gai-hen-kuai-le-%e4%bd%a0%e6%87%89%e8%a9%b2%e5%be%88%e5%bf%ab%e6%a8%82-by-hu-er-%e8%99%8e%e4%ba%8c-pinyin-lyrics-and-english-translation/'},\n",
       " {'Title': 'Fei Xiang Ba Shao Nian 飛翔吧！少年',\n",
       "  'Artist': 'Hu Xia',\n",
       "  'Understandability': 49,\n",
       "  'Importance': 45,\n",
       "  'Score': -4,\n",
       "  'New Words': ['犯愁',\n",
       "   '歌谣',\n",
       "   '无法控制',\n",
       "   '宿舍楼',\n",
       "   '单恋',\n",
       "   '追寻',\n",
       "   '眉眼',\n",
       "   '一言为定',\n",
       "   '绽放',\n",
       "   '载',\n",
       "   '放肆',\n",
       "   '小猫咪',\n",
       "   '茧',\n",
       "   '涂鸦',\n",
       "   '通宵',\n",
       "   '成蝶'],\n",
       "  'Link': 'https://lyricspinyin.com/2020/06/27/fei-xiang-ba-shao-nian-%e9%a3%9b%e7%bf%94%e5%90%a7%ef%bc%81%e5%b0%91%e5%b9%b4-by-hu-xia-pinyin-lyrics-and-english-translation/'},\n",
       " {'Title': 'Qing Jing De Ni 輕淨的你',\n",
       "  'Artist': 'Hu Xia 胡夏',\n",
       "  'Understandability': 53,\n",
       "  'Importance': 52,\n",
       "  'Score': -1,\n",
       "  'New Words': ['心扉', '掌心', '握住', '温水'],\n",
       "  'Link': 'https://lyricspinyin.com/2020/04/23/qing-jing-de-ni-%e8%bc%95%e6%b7%a8%e7%9a%84%e4%bd%a0-by-hu-xia-%e8%83%a1%e5%a4%8f-pinyin-lyrics-and-english-translation/'},\n",
       " {'Title': 'Nian 念',\n",
       "  'Artist': '胡夏 Hu Xia',\n",
       "  'Understandability': 48,\n",
       "  'Importance': 40,\n",
       "  'Score': -8,\n",
       "  'New Words': ['推开', '潮汐', '执迷', '玉兰香', '梦乡', '落英', '踌躇', '门缝'],\n",
       "  'Link': 'https://lyricspinyin.com/2020/03/22/nian-%e5%bf%b5-by-%e8%83%a1%e5%a4%8f-hu-xia-pinyin-lyrics-and-english-translation/'},\n",
       " {'Title': 'Xin Guang 心光',\n",
       "  'Artist': 'Hu Xia 胡夏',\n",
       "  'Understandability': 52,\n",
       "  'Importance': 51,\n",
       "  'Score': -1,\n",
       "  'New Words': ['表露',\n",
       "   '竹林',\n",
       "   '天荒',\n",
       "   '纷纷扰扰',\n",
       "   '荒岛',\n",
       "   '无邪',\n",
       "   '宝藏',\n",
       "   '孤帆',\n",
       "   '初夏',\n",
       "   '未',\n",
       "   '邂逅'],\n",
       "  'Link': 'https://lyricspinyin.com/2020/02/07/xin-guang-%e5%bf%83%e5%85%89-by-hu-xia-%e8%83%a1%e5%a4%8f-pinyin-lyrics-and-english-translation/'},\n",
       " {'Title': 'Wo Zhi Xi Huan Ni 我只喜歡你',\n",
       "  'Artist': 'Hu Xia 胡夏',\n",
       "  'Understandability': 63,\n",
       "  'Importance': 63,\n",
       "  'Score': 0,\n",
       "  'New Words': ['抛开', '追寻', '峰回路转', '言语', '主题曲', '掠过', '贴心'],\n",
       "  'Link': 'https://lyricspinyin.com/2019/12/25/wo-zhi-xi-huan-ni-%e6%88%91%e5%8f%aa%e5%96%9c%e6%ad%a1%e4%bd%a0-by-hu-xia-%e8%83%a1%e5%a4%8f-pinyin-lyrics-and-english-translation/'},\n",
       " {'Title': 'Na Xie Nian 那些年',\n",
       "  'Artist': 'Hu Xia 胡夏',\n",
       "  'Understandability': 60,\n",
       "  'Importance': 54,\n",
       "  'Score': -6,\n",
       "  'New Words': ['梳成', '妳', '垫下', '领带', '青涩'],\n",
       "  'Link': 'https://lyricspinyin.com/2019/11/02/na-xie-nian-%e9%82%a3%e4%ba%9b%e5%b9%b4-by-hu-xia-%e8%83%a1%e5%a4%8f-pinyin-lyrics-and-english-translation/'},\n",
       " {'Title': 'Wo 我',\n",
       "  'Artist': 'Hua Chenyu 華晨宇',\n",
       "  'Understandability': 63,\n",
       "  'Importance': 57,\n",
       "  'Score': -6,\n",
       "  'New Words': ['蔷薇', '磊落', '闪躲', '天空海阔', '造物者', '盛放', '粉墨'],\n",
       "  'Link': 'https://lyricspinyin.com/2020/08/15/wo-%e6%88%91-by-hua-chenyu-%e8%8f%af%e6%99%a8%e5%ae%87-pinyin-lyrics-and-english-translation/'},\n",
       " {'Title': 'Guo Wang Yu Qi Gai 國王與乞丐',\n",
       "  'Artist': 'Hu Chenyu 華晨宇 & Aska Yang 楊宗緯',\n",
       "  'Understandability': 55,\n",
       "  'Importance': 54,\n",
       "  'Score': -1,\n",
       "  'New Words': ['执迷',\n",
       "   '落魄',\n",
       "   '重返',\n",
       "   '柔软',\n",
       "   '煽风点火',\n",
       "   '坠落',\n",
       "   '刀割',\n",
       "   '痛有',\n",
       "   '打磨',\n",
       "   '分饰',\n",
       "   '一秒钟'],\n",
       "  'Link': 'https://lyricspinyin.com/2020/07/08/guo-wang-yu-qi-gai-%e5%9c%8b%e7%8e%8b%e8%88%87%e4%b9%9e%e4%b8%90-by-hu-chenyu-%e8%8f%af%e6%99%a8%e5%ae%87-aska-yang-%e6%a5%8a%e5%ae%97%e7%b7%af-pinyin-lyrics-and-english-translation/'},\n",
       " {'Title': 'Qi Zhong Ren Ge 七重人格',\n",
       "  'Artist': 'Hu Chenyu 華晨宇',\n",
       "  'Understandability': 45,\n",
       "  'Importance': 45,\n",
       "  'Score': 0,\n",
       "  'New Words': ['宿命',\n",
       "   '更迭',\n",
       "   '麻雀',\n",
       "   '若人',\n",
       "   '古今',\n",
       "   '夺回',\n",
       "   '註',\n",
       "   '尘埃',\n",
       "   '坠毁',\n",
       "   '永恆',\n",
       "   '轮回',\n",
       "   '沉沦',\n",
       "   '清浊',\n",
       "   '浮生',\n",
       "   '鸣叫',\n",
       "   '野兽',\n",
       "   '刺眼',\n",
       "   '描摹',\n",
       "   '亘古',\n",
       "   '不拘一格',\n",
       "   '浩渺',\n",
       "   '漆黑',\n",
       "   '洪荒',\n",
       "   '不言不语',\n",
       "   '狂风暴雨',\n",
       "   '兴衰',\n",
       "   '篡改',\n",
       "   '消逝',\n",
       "   '隐去',\n",
       "   '萌生',\n",
       "   '夜幕低垂',\n",
       "   '闪躲',\n",
       "   '拼图',\n",
       "   '结痂',\n",
       "   '混沌初开',\n",
       "   '鲜血淋漓',\n",
       "   '未'],\n",
       "  'Link': 'https://lyricspinyin.com/2020/04/27/qi-zhong-ren-ge-%e4%b8%83%e9%87%8d%e4%ba%ba%e6%a0%bc-by-hu-chenyu-%e8%8f%af%e6%99%a8%e5%ae%87-pinyin-lyrics/'},\n",
       " {'Title': 'Feng Ren Yuan 瘋人院',\n",
       "  'Artist': 'Hua Chenyu 華晨宇',\n",
       "  'Understandability': 52,\n",
       "  'Importance': 53,\n",
       "  'Score': 1,\n",
       "  'New Words': ['礼赞',\n",
       "   '堂吉诃德',\n",
       "   '幻影',\n",
       "   '聒噪',\n",
       "   '野兽',\n",
       "   '疯言',\n",
       "   '静谧',\n",
       "   '爱因斯坦',\n",
       "   '巴罗克',\n",
       "   '古板',\n",
       "   '狩猎',\n",
       "   '捱过',\n",
       "   '言辞',\n",
       "   '药剂',\n",
       "   '兇狠',\n",
       "   '争辩',\n",
       "   '肢体',\n",
       "   '窒息',\n",
       "   '疯语'],\n",
       "  'Link': 'https://lyricspinyin.com/2020/04/12/feng-ren-yuan-%e7%98%8b%e4%ba%ba%e9%99%a2-by-hua-chenyu-%e8%8f%af%e6%99%a8%e5%ae%87-pinyin-lyrics/'},\n",
       " {'Title': 'Yan Huo Li De Chen Ai 煙火裡的塵埃',\n",
       "  'Artist': 'Hua Chenyu 華晨宇',\n",
       "  'Understandability': 57,\n",
       "  'Importance': 52,\n",
       "  'Score': -5,\n",
       "  'New Words': ['百无聊赖', '尘埃', '苍老', '我守'],\n",
       "  'Link': 'https://lyricspinyin.com/2020/02/26/yan-huo-li-de-chen-ai-%e7%85%99%e7%81%ab%e8%a3%a1%e7%9a%84%e5%a1%b5%e5%9f%83-by-hua-chenyu-%e8%8f%af%e6%99%a8%e5%ae%87-pinyin-lyrics-and-english-translation/'},\n",
       " {'Title': 'Ni Yao Xiang Xin Zhe Bu Shi Zui Hou Yi Tian 你要相信這不是最後一天',\n",
       "  'Artist': '華晨宇',\n",
       "  'Understandability': 58,\n",
       "  'Importance': 52,\n",
       "  'Score': -6,\n",
       "  'New Words': ['拥抱着', '满载', '潮起潮落', '赠予', '微风', '僵在'],\n",
       "  'Link': 'https://lyricspinyin.com/2020/02/22/ni-yao-xiang-xin-zhe-bu-shi-zui-hou-yi-tian-%e4%bd%a0%e8%a6%81%e7%9b%b8%e4%bf%a1%e9%80%99%e4%b8%8d%e6%98%af%e6%9c%80%e5%be%8c%e4%b8%80%e5%a4%a9-by-%e8%8f%af%e6%99%a8%e5%ae%87-pinyin-lyrics-and-english/'},\n",
       " {'Title': 'Hao Xiang Ai Zhe Ge Shi Jie A 好想愛這個世界啊',\n",
       "  'Artist': '華晨宇',\n",
       "  'Understandability': 51,\n",
       "  'Importance': 50,\n",
       "  'Score': -1,\n",
       "  'New Words': ['拚命',\n",
       "   '昏花',\n",
       "   '乌鸦',\n",
       "   '独木桥',\n",
       "   '伤疤',\n",
       "   '失魂',\n",
       "   '凌乱',\n",
       "   '绽开',\n",
       "   '虫鸣',\n",
       "   '推下',\n",
       "   '拨开',\n",
       "   '屋檐',\n",
       "   '夕阳西下',\n",
       "   '彿',\n",
       "   '仰望'],\n",
       "  'Link': 'https://lyricspinyin.com/2019/12/04/hao-xiang-ai-zhe-ge-shi-jie-a-%e5%a5%bd%e6%83%b3%e6%84%9b%e9%80%99%e5%80%8b%e4%b8%96%e7%95%8c%e5%95%8a-by-%e8%8f%af%e6%99%a8%e5%ae%87-pinyin-lyrics-and-english-translation/'},\n",
       " {'Title': 'Yu Huo Xing De Hai Zi Dui Hua 與火星的孩子對話',\n",
       "  'Artist': '華晨宇',\n",
       "  'Understandability': 58,\n",
       "  'Importance': 55,\n",
       "  'Score': -3,\n",
       "  'New Words': ['一幕', '沈默', '猜不透', '渐渐', '退缩', '抚慰', '怯懦', '青睐'],\n",
       "  'Link': 'https://lyricspinyin.com/2019/10/29/yu-huo-xing-de-hai-zi-dui-hua-%e8%88%87%e7%81%ab%e6%98%9f%e7%9a%84%e5%ad%a9%e5%ad%90%e5%b0%8d%e8%a9%b1-by-%e8%8f%af%e6%99%a8%e5%ae%87-pinyin-lyrics-and-english-translation/'},\n",
       " {'Title': 'Zhu Zai Ni De Xin Zang 住在你的心臟',\n",
       "  'Artist': 'Huang Kun 黃鯤',\n",
       "  'Understandability': 59,\n",
       "  'Importance': 53,\n",
       "  'Score': -6,\n",
       "  'New Words': ['温热', '唿吸', '牵着'],\n",
       "  'Link': 'https://lyricspinyin.com/2019/11/24/zhu-zai-ni-de-xin-zang-%e4%bd%8f%e5%9c%a8%e4%bd%a0%e7%9a%84%e5%bf%83%e8%87%9f-by-huang-kun-%e9%bb%83%e9%af%a4-pinyin-lyrics-and-english-translation/'},\n",
       " {'Title': 'Na Nu Hai Dui Wo Shuo 那女孩對我說',\n",
       "  'Artist': 'Huang Yi Da 黃義達/Uu',\n",
       "  'Understandability': 59,\n",
       "  'Importance': 52,\n",
       "  'Score': -7,\n",
       "  'New Words': ['晓得', '孤单', '渐渐', '塞进', '揹', '眼泪'],\n",
       "  'Link': 'https://lyricspinyin.com/2019/09/30/na-nu-hai-dui-wo-shuo-%e9%82%a3%e5%a5%b3%e5%ad%a9%e5%b0%8d%e6%88%91%e8%aa%aa-by-huang-yi-da-%e9%bb%83%e7%be%a9%e9%81%94-uu-pinyin-lyrics-and-english-translation/'},\n",
       " {'Title': 'Min Gan 敏感',\n",
       "  'Artist': 'Lu Han 鹿晗 & Huang Zi Tao 黃子韜',\n",
       "  'Understandability': 57,\n",
       "  'Importance': 52,\n",
       "  'Score': -5,\n",
       "  'New Words': ['凋零', '骨感', '问心无愧', '心肺', '崩坏', '掏空', '光速', '鹿晗'],\n",
       "  'Link': 'https://lyricspinyin.com/2020/07/05/min-gan-%e6%95%8f%e6%84%9f-by-lu-han-%e9%b9%bf%e6%99%97-huang-zi-tao-%e9%bb%83%e5%ad%90%e9%9f%9c-pinyin-lyrics-and-english-translation/'},\n",
       " {'Title': 'Ai Yi Si 愛已死',\n",
       "  'Artist': 'J.Sheon',\n",
       "  'Understandability': 58,\n",
       "  'Importance': 55,\n",
       "  'Score': -3,\n",
       "  'New Words': ['踏入', '圣旨', '浓情蜜意', '传来', '绑住', '誓约', '阉', '破灭', '风云'],\n",
       "  'Link': 'https://lyricspinyin.com/2020/08/06/ai-yi-si-%e6%84%9b%e5%b7%b2%e6%ad%bb-by-j-sheon-pinyin-lyrics-and-english-translation/'},\n",
       " {'Title': 'Peng You Qing Ting Hao 朋友請聽好',\n",
       "  'Artist': '何炅 謝娜 易烊千璽',\n",
       "  'Understandability': 56,\n",
       "  'Importance': 47,\n",
       "  'Score': -9,\n",
       "  'New Words': ['小尾巴',\n",
       "   '楼宇',\n",
       "   '沙哑',\n",
       "   '手帕',\n",
       "   '眺望',\n",
       "   '悄悄话',\n",
       "   '呢喃',\n",
       "   '哑',\n",
       "   '孤单',\n",
       "   '初夏',\n",
       "   '吶',\n",
       "   '蝉声'],\n",
       "  'Link': 'https://lyricspinyin.com/2020/04/14/peng-you-qing-ting-hao-%e6%9c%8b%e5%8f%8b%e8%ab%8b%e8%81%bd%e5%a5%bd-by-%e4%bd%95%e7%82%85-%e8%ac%9d%e5%a8%9c-%e6%98%93%e7%83%8a%e5%8d%83%e7%92%bd-pinyin-lyrics-and-english-translation/'},\n",
       " {'Title': 'Nian Xiang 念想',\n",
       "  'Artist': 'TFBOYS 易烊千璽',\n",
       "  'Understandability': 62,\n",
       "  'Importance': 58,\n",
       "  'Score': -4,\n",
       "  'New Words': ['眼泪', '一瞬', '凄美'],\n",
       "  'Link': 'https://lyricspinyin.com/2019/11/03/nian-xiang-%e5%bf%b5%e6%83%b3-by-tfboys-%e6%98%93%e7%83%8a%e5%8d%83%e7%92%bd-pinyin-lyrics-and-english-translation/'},\n",
       " {'Title': 'I Adore You',\n",
       "  'Artist': 'Jackson Yee 易烊千璽',\n",
       "  'Understandability': 60,\n",
       "  'Importance': 54,\n",
       "  'Score': -6,\n",
       "  'New Words': ['不凡', '微光', '臂弯', '云海', '每一秒', '飘荡', '勾', '天昏地暗', '滑翔'],\n",
       "  'Link': 'https://lyricspinyin.com/2019/10/23/i-adore-you-by-jackson-yee-%e6%98%93%e7%83%8a%e5%8d%83%e7%92%bd-pinyin-lyrics-and-english-translation/'},\n",
       " {'Title': 'Deng Feng Yu Jing Guo 等風雨經過',\n",
       "  'Artist': 'Jacky Cheung 張學友',\n",
       "  'Understandability': 62,\n",
       "  'Importance': 59,\n",
       "  'Score': -3,\n",
       "  'New Words': ['仰望'],\n",
       "  'Link': 'https://lyricspinyin.com/2020/02/24/deng-feng-yu-jing-guo-%e7%ad%89%e9%a2%a8%e9%9b%a8%e7%b6%93%e9%81%8e-by-jacky-cheung-%e5%bc%b5%e5%ad%b8%e5%8f%8b-pinyin-lyrics-and-english-translation/'},\n",
       " {'Title': 'Tian Tang You Duo Yuan 天堂有多遠 (My Dearest Alien)',\n",
       "  'Artist': 'Jacky Wu 吳宗憲',\n",
       "  'Understandability': 60,\n",
       "  'Importance': 57,\n",
       "  'Score': -3,\n",
       "  'New Words': ['最高峰', '孤单'],\n",
       "  'Link': 'https://lyricspinyin.com/2020/09/22/tian-tang-you-duo-yuan-%e5%a4%a9%e5%a0%82%e6%9c%89%e5%a4%9a%e9%81%a0-my-dearest-alien-by-jacky-wu-%e5%90%b3%e5%ae%97%e6%86%b2-pinyin-lyrics-and-english-translation/'},\n",
       " {'Title': 'Hou Long 猴籠',\n",
       "  'Artist': 'Jam Hsiao 蕭敬騰',\n",
       "  'Understandability': 53,\n",
       "  'Importance': 50,\n",
       "  'Score': -3,\n",
       "  'New Words': ['眼珠子',\n",
       "   '骚首',\n",
       "   '万众瞩目',\n",
       "   '移不开',\n",
       "   '笼里',\n",
       "   '中飘闪',\n",
       "   '序幕',\n",
       "   '吶喊',\n",
       "   '欧买尬',\n",
       "   '照射',\n",
       "   '呗'],\n",
       "  'Link': 'https://lyricspinyin.com/2020/06/10/hou-long-%e7%8c%b4%e7%b1%a0-by-jam-hsiao-%e8%95%ad%e6%95%ac%e9%a8%b0-pinyin-lyrics-and-english-translation/'},\n",
       " {'Title': 'Rang Wo Wei Ni Chang Qing Ge 讓我為你唱情歌',\n",
       "  'Artist': 'Jam Hsiao 蕭敬騰',\n",
       "  'Understandability': 59,\n",
       "  'Importance': 54,\n",
       "  'Score': -5,\n",
       "  'New Words': ['妳有',\n",
       "   '妳',\n",
       "   '遮脸',\n",
       "   '天塌',\n",
       "   '沉醉',\n",
       "   '扛下',\n",
       "   '折射',\n",
       "   '落寞',\n",
       "   '琥珀',\n",
       "   '封住',\n",
       "   '孤单',\n",
       "   '隔绝'],\n",
       "  'Link': 'https://lyricspinyin.com/2020/06/01/rang-wo-wei-ni-chang-qing-ge-%e8%ae%93%e6%88%91%e7%82%ba%e4%bd%a0%e5%94%b1%e6%83%85%e6%ad%8c-by-jam-hsiao-%e8%95%ad%e6%95%ac%e9%a8%b0-pinyin-lyrics-and-english-translation/'},\n",
       " {'Title': 'Hello',\n",
       "  'Artist': 'Jam Hsiao 蕭敬騰 & JJ Lin 林俊傑',\n",
       "  'Understandability': 67,\n",
       "  'Importance': 64,\n",
       "  'Score': -3,\n",
       "  'New Words': ['紧握'],\n",
       "  'Link': 'https://lyricspinyin.com/2020/05/27/hello-by-jam-hsiao-%e8%95%ad%e6%95%ac%e9%a8%b0-jj-lin-%e6%9e%97%e4%bf%8a%e5%82%91-pinyin-lyrics-and-english-translation/'},\n",
       " {'Title': 'Jin Chi 矜持',\n",
       "  'Artist': 'Jam Hsiao 蕭敬騰',\n",
       "  'Understandability': 56,\n",
       "  'Importance': 54,\n",
       "  'Score': -2,\n",
       "  'New Words': ['矜持', '闭上眼睛'],\n",
       "  'Link': 'https://lyricspinyin.com/2020/01/22/jin-chi-%e7%9f%9c%e6%8c%81-by-jam-hsiao-%e8%95%ad%e6%95%ac%e9%a8%b0-pinyin-lyrics-and-english-translation/'},\n",
       " {'Title': 'U',\n",
       "  'Artist': 'Jasper Liu 劉以豪',\n",
       "  'Understandability': 54,\n",
       "  'Importance': 52,\n",
       "  'Score': -2,\n",
       "  'New Words': ['沈思', '妳', '遨游', '糗', '沈没', '捉弄', '勾勾', '英文字母'],\n",
       "  'Link': 'https://lyricspinyin.com/2020/09/09/u-by-jasper-liu-%e5%8a%89%e4%bb%a5%e8%b1%aa-pinyin-lyrics-and-english-translation/'},\n",
       " {'Title': 'Qing Tian 晴天',\n",
       "  'Artist': 'Jay Chou 周杰倫',\n",
       "  'Understandability': 60,\n",
       "  'Importance': 56,\n",
       "  'Score': -4,\n",
       "  'New Words': ['的盪', '晃到', '妳', '渐渐', '过握', '妳会'],\n",
       "  'Link': 'https://lyricspinyin.com/2020/10/07/qing-tian-%e6%99%b4%e5%a4%a9-by-jay-chou-%e5%91%a8%e6%9d%b0%e5%80%ab-pinyin-lyrics-and-english-translation/'},\n",
       " {'Title': 'Mojito',\n",
       "  'Artist': 'Jay Chou 周杰倫',\n",
       "  'Understandability': 45,\n",
       "  'Importance': 41,\n",
       "  'Score': -4,\n",
       "  'New Words': ['招牌',\n",
       "   '壁画',\n",
       "   '摇曳',\n",
       "   '私奔',\n",
       "   '雪茄',\n",
       "   '书摊',\n",
       "   '慵懒',\n",
       "   '妳',\n",
       "   '眼眸',\n",
       "   '载',\n",
       "   '一封封',\n",
       "   '棕榈',\n",
       "   '铁铸',\n",
       "   '落幕',\n",
       "   '妳是',\n",
       "   '阁楼',\n",
       "   '涂鸦',\n",
       "   '孤单',\n",
       "   '拱廊',\n",
       "   '上辈子',\n",
       "   '微醺',\n",
       "   '缤纷'],\n",
       "  'Link': 'https://lyricspinyin.com/2020/06/12/mojito-by-jay-chou-%e5%91%a8%e6%9d%b0%e5%80%ab-pinyin-lyrics-and-english-translation/'},\n",
       " {'Title': 'Wo Shi Ru Ci Xiang Xin 我是如此相信',\n",
       "  'Artist': 'Jay Chou 周杰倫',\n",
       "  'Understandability': 55,\n",
       "  'Importance': 50,\n",
       "  'Score': -5,\n",
       "  'New Words': ['玫瑰',\n",
       "   '孤寂',\n",
       "   '璀璨',\n",
       "   '毁坏',\n",
       "   '水晶',\n",
       "   '弹奏出',\n",
       "   '弦月',\n",
       "   '浩瀚',\n",
       "   '并肩而行',\n",
       "   '陨石',\n",
       "   '仰望'],\n",
       "  'Link': 'https://lyricspinyin.com/2019/12/15/wo-shi-ru-ci-xiang-xin-%e6%88%91%e6%98%af%e5%a6%82%e6%ad%a4%e7%9b%b8%e4%bf%a1-by-jay-chou-%e5%91%a8%e6%9d%b0%e5%80%ab-pinyin-lyrics-and-english-translation/'},\n",
       " {'Title': 'Ming Ming Jiu 明明就',\n",
       "  'Artist': 'Jay Chou 周杰倫',\n",
       "  'Understandability': 63,\n",
       "  'Importance': 57,\n",
       "  'Score': -6,\n",
       "  'New Words': ['传来', '勾', '爱守', '罐里', '中古世纪', '风笛', '眷恋', '海鸥'],\n",
       "  'Link': 'https://lyricspinyin.com/2019/10/10/ming-ming-jiu-%e6%98%8e%e6%98%8e%e5%b0%b1-by-jay-chou-%e5%91%a8%e6%9d%b0%e5%80%ab-pinyin-lyrics-and-english-translation/'},\n",
       " {'Title': 'Shi Jie Mo Ri 世界末日',\n",
       "  'Artist': 'Jay Chou 周杰倫',\n",
       "  'Understandability': 62,\n",
       "  'Importance': 56,\n",
       "  'Score': -6,\n",
       "  'New Words': ['伪装', '眼泪', '事与愿违', '颓废', '麻痺'],\n",
       "  'Link': 'https://lyricspinyin.com/2019/10/10/shi-jie-mo-ri-%e4%b8%96%e7%95%8c%e6%9c%ab%e6%97%a5-by-jay-chou-%e5%91%a8%e6%9d%b0%e5%80%ab-pinyin-lyrics-and-english-translation/'},\n",
       " {'Title': 'Deng Ni Xia Ke 等你下課',\n",
       "  'Artist': 'Jay Chou 周杰倫',\n",
       "  'Understandability': 63,\n",
       "  'Importance': 55,\n",
       "  'Score': -8,\n",
       "  'New Words': ['巷子', '爲', '暗恋', '擦肩而过', '找寻'],\n",
       "  'Link': 'https://lyricspinyin.com/2019/10/10/deng-ni-xia-ke-%e7%ad%89%e4%bd%a0%e4%b8%8b%e8%aa%b2-by-jay-chou-%e5%91%a8%e6%9d%b0%e5%80%ab-pinyin-lyrics-and-english-translation/'},\n",
       " {'Title': 'Shuo Hao Bu Ku 說好不哭 by Jay Chou',\n",
       "  'Artist': 'Lyrics And English Translation - Lyrics Pinyin',\n",
       "  'Understandability': 65,\n",
       "  'Importance': 62,\n",
       "  'Score': -3,\n",
       "  'New Words': ['挽留', '妳', '妳会'],\n",
       "  'Link': 'https://lyricspinyin.com/2019/09/23/shuo-hao-bu-ku-%e8%aa%aa%e5%a5%bd%e4%b8%8d%e5%93%ad-by-jay-chou-pinyin-lyrics/'},\n",
       " {'Title': 'RAPSTAR',\n",
       "  'Artist': '吳亦凡 潘瑋柏 張靚穎 GAI周延 朴宰範',\n",
       "  'Understandability': 46,\n",
       "  'Importance': 44,\n",
       "  'Score': -2,\n",
       "  'New Words': ['执念',\n",
       "   '舰队',\n",
       "   '紫棋',\n",
       "   '呐喊',\n",
       "   '古人',\n",
       "   '万人空巷',\n",
       "   '王者',\n",
       "   '心慌',\n",
       "   '大堂',\n",
       "   '舞剑',\n",
       "   '阿岳',\n",
       "   '无所畏',\n",
       "   '水军',\n",
       "   '入席',\n",
       "   '臣服',\n",
       "   '静止',\n",
       "   '英里',\n",
       "   '朴宰范',\n",
       "   '一触即发',\n",
       "   '玉液琼浆',\n",
       "   '势在必得',\n",
       "   '醍醐灌顶',\n",
       "   '熔断',\n",
       "   '唿唤',\n",
       "   '咽下去',\n",
       "   '好字旗',\n",
       "   '装腔',\n",
       "   '战神',\n",
       "   '掌舵',\n",
       "   '眺望',\n",
       "   '稿子',\n",
       "   '看齐',\n",
       "   '枷锁',\n",
       "   '问价',\n",
       "   '谜题',\n",
       "   '硬骨头',\n",
       "   '託',\n",
       "   '啥子',\n",
       "   '炸',\n",
       "   '孔乙己',\n",
       "   '狂人',\n",
       "   '敬来',\n",
       "   '遮羞布',\n",
       "   '战友',\n",
       "   '旗号',\n",
       "   '随你挑',\n",
       "   '搭理'],\n",
       "  'Link': 'https://lyricspinyin.com/2020/08/11/rapstar-by-%e5%90%b3%e4%ba%a6%e5%87%a1-%e6%bd%98%e7%91%8b%e6%9f%8f-%e5%bc%b5%e9%9d%9a%e7%a9%8e-gai%e5%91%a8%e5%bb%b6-%e6%9c%b4%e5%ae%b0%e7%af%84-pinyin-lyrics/'},\n",
       " {'Title': 'Qing Feng Xu Lai 清風徐來',\n",
       "  'Artist': 'Jeff Chang 張信哲',\n",
       "  'Understandability': 55,\n",
       "  'Importance': 53,\n",
       "  'Score': -2,\n",
       "  'New Words': ['清风徐来',\n",
       "   '水波不兴',\n",
       "   '生辰',\n",
       "   '铭心刻骨',\n",
       "   '一意孤行',\n",
       "   '憧憬',\n",
       "   '倾国倾城',\n",
       "   '风雨兼程',\n",
       "   '温存',\n",
       "   '青涩',\n",
       "   '海阔天空'],\n",
       "  'Link': 'https://lyricspinyin.com/2020/08/09/qing-feng-xu-lai-%e6%b8%85%e9%a2%a8%e5%be%90%e4%be%86-by-jeff-chang-%e5%bc%b5%e4%bf%a1%e5%93%b2-pinyin-lyrics-and-english-translation/'},\n",
       " {'Title': 'Xin Yang 信仰',\n",
       "  'Artist': 'Jeff Chang 張信哲',\n",
       "  'Understandability': 57,\n",
       "  'Importance': 55,\n",
       "  'Score': -2,\n",
       "  'New Words': ['迷惘', '勾起', '唿', '牵挂', '忠于'],\n",
       "  'Link': 'https://lyricspinyin.com/2020/07/17/xin-yang-%e4%bf%a1%e4%bb%b0-by-jeff-chang-%e5%bc%b5%e4%bf%a1%e5%93%b2-pinyin-lyrics-and-english-translation/'},\n",
       " {'Title': 'Wo Hao Xi Huan Ni 我好喜歡你',\n",
       "  'Artist': 'Jerry Yan 言承旭 & Shen Yue 沈月',\n",
       "  'Understandability': 56,\n",
       "  'Importance': 52,\n",
       "  'Score': -4,\n",
       "  'New Words': ['推向', '指尖', '微光', '肩', '小鹿', '唿吸', '佔据', '勾'],\n",
       "  'Link': 'https://lyricspinyin.com/2020/08/05/wo-hao-xi-huan-ni-%e6%88%91%e5%a5%bd%e5%96%9c%e6%ad%a1%e4%bd%a0-by-jerry-yan-%e8%a8%80%e6%89%bf%e6%97%ad-shen-yue-%e6%b2%88%e6%9c%88-pinyin-lyrics-and-english-translation/'},\n",
       " {'Title': 'Bu Dong Shi De Nian Ji Yu Jian Bu He Shi De Ni 不懂事的年紀遇見不合適的你',\n",
       "  'Artist': '江磊',\n",
       "  'Understandability': 63,\n",
       "  'Importance': 58,\n",
       "  'Score': -5,\n",
       "  'New Words': ['不值一提', '征兆', '唿'],\n",
       "  'Link': 'https://lyricspinyin.com/2020/02/27/bu-dong-shi-de-nian-ji-yu-jian-bu-he-shi-de-ni-%e4%b8%8d%e6%87%82%e4%ba%8b%e7%9a%84%e5%b9%b4%e7%b4%80%e9%81%87%e8%a6%8b%e4%b8%8d%e5%90%88%e9%81%a9%e7%9a%84%e4%bd%a0-by-%e6%b1%9f%e7%a3%8a-pinyin-lyrics/'},\n",
       " {'Title': 'Xiong Di Xiang Ni Le 兄弟想你了',\n",
       "  'Artist': 'Jiang Peng 姜鵬',\n",
       "  'Understandability': 54,\n",
       "  'Importance': 50,\n",
       "  'Score': -4,\n",
       "  'New Words': ['那嘎达', '异乡', '这嘎达', '大碴子', '为啥', '噶', '玻璃球', '咋样', '巴拉'],\n",
       "  'Link': 'https://lyricspinyin.com/2020/08/25/xiong-di-xiang-ni-le-%e5%85%84%e5%bc%9f%e6%83%b3%e4%bd%a0%e4%ba%86-by-jiang-peng-%e5%a7%9c%e9%b5%ac-pinyin-lyrics-and-english-translation/'},\n",
       " {'Title': 'Ni Shi Ren Jian Si Yue Tian 你是人間四月天',\n",
       "  'Artist': 'Jie You Shao Shuai 解憂邵帥',\n",
       "  'Understandability': 54,\n",
       "  'Importance': 50,\n",
       "  'Score': -4,\n",
       "  'New Words': ['润湿', '柴米', '安然无恙', '油盐酱醋', '一贫如洗', '风霜'],\n",
       "  'Link': 'https://lyricspinyin.com/2020/07/04/ni-shi-ren-jian-si-yue-tian-%e4%bd%a0%e6%98%af%e4%ba%ba%e9%96%93%e5%9b%9b%e6%9c%88%e5%a4%a9-by-jie-you-shao-shuai-%e8%a7%a3%e6%86%82%e9%82%b5%e5%b8%a5-pinyin-lyrics-and-english-translation/'},\n",
       " {'Title': 'Bu Shan 不刪',\n",
       "  'Artist': 'Jing Long 井朧',\n",
       "  'Understandability': 55,\n",
       "  'Importance': 50,\n",
       "  'Score': -5,\n",
       "  'New Words': ['缘分', '参不透', '孤单'],\n",
       "  'Link': 'https://lyricspinyin.com/2020/10/19/bu-shan-%e4%b8%8d%e5%88%aa-by-jing-long-%e4%ba%95%e6%9c%a7-pinyin-lyrics-and-english-translation/'},\n",
       " {'Title': 'Diu Le Ni 丢了你',\n",
       "  'Artist': 'Jing Long 井朧',\n",
       "  'Understandability': 60,\n",
       "  'Importance': 52,\n",
       "  'Score': -8,\n",
       "  'New Words': ['杳无音讯', '眼泪', '沉溺', '唿吸', '闭上眼', '歇斯底里', '成泥'],\n",
       "  'Link': 'https://lyricspinyin.com/2020/04/27/diu-le-ni-%e4%b8%a2%e4%ba%86%e4%bd%a0-by-jing-long-%e4%ba%95%e6%9c%a7-pinyin-lyrics-and-english-translation/'},\n",
       " {'Title': 'Xiang Si Que You Bu Gan 想死卻又不敢',\n",
       "  'Artist': 'Jing Long 井朧',\n",
       "  'Understandability': 55,\n",
       "  'Importance': 52,\n",
       "  'Score': -3,\n",
       "  'New Words': ['幻念', '心甘', '烟消云散', '嚥', '入眠', '不甘'],\n",
       "  'Link': 'https://lyricspinyin.com/2019/10/03/xiang-si-que-you-bu-gan-%e6%83%b3%e6%ad%bb%e5%8d%bb%e5%8f%88%e4%b8%8d%e6%95%a2-by-jing-long-%e4%ba%95%e6%9c%a7-pinyin-lyrics-and-english-translation/'},\n",
       " {'Title': 'Zan Shi De Ji Hao 暫時的記號',\n",
       "  'Artist': 'JJ Lin 林俊傑',\n",
       "  'Understandability': 60,\n",
       "  'Importance': 55,\n",
       "  'Score': -5,\n",
       "  'New Words': ['逝去', '永恆', '孤傲', '一秒', '虚无飘渺', '普照', '沾染'],\n",
       "  'Link': 'https://lyricspinyin.com/2020/10/22/zan-shi-de-ji-hao-%e6%9a%ab%e6%99%82%e7%9a%84%e8%a8%98%e8%99%9f-by-jj-lin-%e6%9e%97%e4%bf%8a%e5%82%91-pinyin-lyrics-and-english-translation/'},\n",
       " {'Title': 'Zui Xiang Wang De Di Fang 最嚮往的地方',\n",
       "  'Artist': 'JJ Lin 林俊傑',\n",
       "  'Understandability': 53,\n",
       "  'Importance': 48,\n",
       "  'Score': -5,\n",
       "  'New Words': ['狂风',\n",
       "   '领航',\n",
       "   '迷惘',\n",
       "   '蹟',\n",
       "   '飘盪',\n",
       "   '潮起潮落',\n",
       "   '脸孔',\n",
       "   '并肩',\n",
       "   '宝藏',\n",
       "   '行囊',\n",
       "   '孤单',\n",
       "   '卸下'],\n",
       "  'Link': 'https://lyricspinyin.com/2020/10/21/zui-xiang-wang-de-di-fang-%e6%9c%80%e5%9a%ae%e5%be%80%e7%9a%84%e5%9c%b0%e6%96%b9-by-jj-lin-%e6%9e%97%e4%bf%8a%e5%82%91-pinyin-lyrics-and-english-translation/'},\n",
       " {'Title': 'Li Kai De Na Yi Xie 離開的那一些',\n",
       "  'Artist': 'JJ Lin 林俊傑',\n",
       "  'Understandability': 55,\n",
       "  'Importance': 52,\n",
       "  'Score': -3,\n",
       "  'New Words': ['亏欠', '伤悲', '霓虹', '聆听', '蛹', '回盪', '成蝶'],\n",
       "  'Link': 'https://lyricspinyin.com/2020/10/20/li-kai-de-na-yi-xie-%e9%9b%a2%e9%96%8b%e7%9a%84%e9%82%a3%e4%b8%80%e4%ba%9b-by-jj-lin-%e6%9e%97%e4%bf%8a%e5%82%91-pinyin-lyrics-and-english-translation/'},\n",
       " {'Title': 'Xing Cun Zhe 倖存者',\n",
       "  'Artist': 'JJ Lin 林俊傑',\n",
       "  'Understandability': 55,\n",
       "  'Importance': 54,\n",
       "  'Score': -1,\n",
       "  'New Words': ['薄荷',\n",
       "   '半折',\n",
       "   '闻名遐迩',\n",
       "   '呜',\n",
       "   '蛋壳',\n",
       "   '忍着',\n",
       "   '坎坷',\n",
       "   '几毫克',\n",
       "   '诱饵',\n",
       "   '灼热',\n",
       "   '招惹',\n",
       "   '倖',\n",
       "   '拔河',\n",
       "   '癒',\n",
       "   '灯蛾',\n",
       "   '全额',\n",
       "   '悄悄地',\n",
       "   '言犹在耳',\n",
       "   '忐忑'],\n",
       "  'Link': 'https://lyricspinyin.com/2020/10/20/xing-cun-zhe-%e5%80%96%e5%ad%98%e8%80%85-by-jj-lin-%e6%9e%97%e4%bf%8a%e5%82%91-pinyin-lyrics-and-english-translation/'},\n",
       " {'Title': 'Guan Jian Ci 關鍵詞',\n",
       "  'Artist': 'JJ Lin 林俊傑',\n",
       "  'Understandability': 60,\n",
       "  'Importance': 57,\n",
       "  'Score': -3,\n",
       "  'New Words': ['氾', '形容词', '聚散', '潜台词', '消逝'],\n",
       "  'Link': 'https://lyricspinyin.com/2020/10/12/guan-jian-ci-%e9%97%9c%e9%8d%b5%e8%a9%9e-by-jj-lin-%e6%9e%97%e4%bf%8a%e5%82%91-pinyin-lyrics-and-english-translation/'},\n",
       " {'Title': 'Mei Ren Yu 美人魚',\n",
       "  'Artist': 'JJ Lin 林俊傑',\n",
       "  'Understandability': 53,\n",
       "  'Importance': 49,\n",
       "  'Score': -4,\n",
       "  'New Words': ['眼泪', '眷恋', '深渊', '忍心', '流言', '飘荡', '鳞片', '沉入', '潜入', '蜚语'],\n",
       "  'Link': 'https://lyricspinyin.com/2020/09/26/mei-ren-yu-%e7%be%8e%e4%ba%ba%e9%ad%9a-by-jj-lin-%e6%9e%97%e4%bf%8a%e5%82%91-pinyin-lyrics-and-english-translation/'},\n",
       " {'Title': 'Jiao Huan Yu Sheng 交換餘生',\n",
       "  'Artist': 'JJ LIN 林俊傑',\n",
       "  'Understandability': 48,\n",
       "  'Importance': 44,\n",
       "  'Score': -4,\n",
       "  'New Words': ['紧扣',\n",
       "   '续命',\n",
       "   '泪眼',\n",
       "   '坠落',\n",
       "   '锚',\n",
       "   '妳',\n",
       "   '穿梭',\n",
       "   '无愧',\n",
       "   '紧握',\n",
       "   '合云',\n",
       "   '静止',\n",
       "   '爲',\n",
       "   '孤单',\n",
       "   '辗过'],\n",
       "  'Link': 'https://lyricspinyin.com/2020/09/16/jiao-huan-yu-sheng-%e4%ba%a4%e6%8f%9b%e9%a4%98%e7%94%9f-by-jj-lin-%e6%9e%97%e4%bf%8a%e5%82%91-pinyin-lyrics-and-english-translation/'},\n",
       " {'Title': 'Wu Lu Jing 無濾鏡',\n",
       "  'Artist': 'JJ Lin 林俊傑 feat. 藤原浩',\n",
       "  'Understandability': 37,\n",
       "  'Importance': 35,\n",
       "  'Score': -2,\n",
       "  'New Words': ['肌肤',\n",
       "   '深邃',\n",
       "   '沈迷',\n",
       "   '泪滴',\n",
       "   '沈醉于',\n",
       "   '盈盈',\n",
       "   '佈',\n",
       "   '褐色',\n",
       "   '捻',\n",
       "   '悄悄的',\n",
       "   '妳',\n",
       "   '藏匿',\n",
       "   '摇曳',\n",
       "   '沈溺',\n",
       "   '茉莉',\n",
       "   '闭',\n",
       "   '发髻',\n",
       "   '纹理',\n",
       "   '忧伤',\n",
       "   '涟漪',\n",
       "   '这瞬眼',\n",
       "   '泛起',\n",
       "   '轻柔',\n",
       "   '对焦',\n",
       "   '泸镜'],\n",
       "  'Link': 'https://lyricspinyin.com/2020/07/30/wu-lu-jing-%e7%84%a1%e6%bf%be%e9%8f%a1-by-jj-lin-%e6%9e%97%e4%bf%8a%e5%82%91-feat-%e8%97%a4%e5%8e%9f%e6%b5%a9-pinyin-lyrics-and-english-translation/'},\n",
       " {'Title': 'Hello',\n",
       "  'Artist': 'Jam Hsiao 蕭敬騰 & JJ Lin 林俊傑',\n",
       "  'Understandability': 67,\n",
       "  'Importance': 64,\n",
       "  'Score': -3,\n",
       "  'New Words': ['紧握'],\n",
       "  'Link': 'https://lyricspinyin.com/2020/05/27/hello-by-jam-hsiao-%e8%95%ad%e6%95%ac%e9%a8%b0-jj-lin-%e6%9e%97%e4%bf%8a%e5%82%91-pinyin-lyrics-and-english-translation/'},\n",
       " {'Title': 'STAY WITH YOU',\n",
       "  'Artist': 'JJ Lin 林俊傑',\n",
       "  'Understandability': 56,\n",
       "  'Importance': 51,\n",
       "  'Score': -5,\n",
       "  'New Words': ['更迭', '缷', '黯然'],\n",
       "  'Link': 'https://lyricspinyin.com/2020/01/29/stay-with-you-by-jj-lin-%e6%9e%97%e4%bf%8a%e5%82%91-pinyin-lyrics-and-english-translation/'},\n",
       " {'Title': 'Bu Yong Qu Cai 不用去猜',\n",
       "  'Artist': 'Youth With You 青春有你 & JONY J',\n",
       "  'Understandability': 57,\n",
       "  'Importance': 53,\n",
       "  'Score': -4,\n",
       "  'New Words': ['大富翁',\n",
       "   '感叹号',\n",
       "   '氾',\n",
       "   '丧气',\n",
       "   '悠然',\n",
       "   '低谷',\n",
       "   '限量',\n",
       "   '归宿',\n",
       "   '加点油',\n",
       "   '沖',\n",
       "   '仗义',\n",
       "   '拼图'],\n",
       "  'Link': 'https://lyricspinyin.com/2020/05/27/bu-yong-qu-cai-%e4%b8%8d%e7%94%a8%e5%8e%bb%e7%8c%9c-by-youth-with-you-%e9%9d%92%e6%98%a5%e6%9c%89%e4%bd%a0-jony-j-pinyin-lyrics-and-english-translation/'},\n",
       " {'Title': 'Jing Luo 鯨落',\n",
       "  'Artist': 'Justin Lin 林亭翰',\n",
       "  'Understandability': 56,\n",
       "  'Importance': 52,\n",
       "  'Score': -4,\n",
       "  'New Words': ['大雨倾盆', '沈', '温热', '坠落', '会永恆', '体温', '慈爱', '躯壳', '眺望'],\n",
       "  'Link': 'https://lyricspinyin.com/2019/12/14/jing-luo-%e9%af%a8%e8%90%bd-by-justin-lin-%e6%9e%97%e4%ba%ad%e7%bf%b0-pinyin-lyrics-and-english-translation/'},\n",
       " {'Title': 'Han Xuan 寒暄',\n",
       "  'Artist': 'Justin Lin 林亭翰',\n",
       "  'Understandability': 61,\n",
       "  'Importance': 57,\n",
       "  'Score': -4,\n",
       "  'New Words': ['眷恋', '那扇'],\n",
       "  'Link': 'https://lyricspinyin.com/2019/11/29/han-xuan-%e5%af%92%e6%9a%84-by-justin-lin-%e6%9e%97%e4%ba%ad%e7%bf%b0-pinyin-lyrics-and-english-translation/'},\n",
       " {'Title': 'Bu Wan Zheng De Zai Jian 不完整的再見',\n",
       "  'Artist': 'Justin Lin 林亭翰',\n",
       "  'Understandability': 52,\n",
       "  'Importance': 50,\n",
       "  'Score': -2,\n",
       "  'New Words': ['深埋在', '妳', '忽快忽慢', '泸出', '闭上眼', '云淡风轻', '浮现'],\n",
       "  'Link': 'https://lyricspinyin.com/2019/11/23/bu-wan-zheng-de-zai-jian-%e4%b8%8d%e5%ae%8c%e6%95%b4%e7%9a%84%e5%86%8d%e8%a6%8b-by-justin-lin-%e6%9e%97%e4%ba%ad%e7%bf%b0-pinyin-lyrics-and-english-translation/'},\n",
       " {'Title': 'Zui Tian Shi 最天使',\n",
       "  'Artist': 'Yu Tong 于潼 & Kao Qi Zheng 考其正',\n",
       "  'Understandability': 57,\n",
       "  'Importance': 53,\n",
       "  'Score': -4,\n",
       "  'New Words': ['传来', '铭记', '言辞', '刺青'],\n",
       "  'Link': 'https://lyricspinyin.com/2020/05/02/zui-tian-shi-%e6%9c%80%e5%a4%a9%e4%bd%bf-by-yu-tong-%e4%ba%8e%e6%bd%bc-kao-qi-zheng-%e8%80%83%e5%85%b6%e6%ad%a3-pinyin-lyrics-and-english-translation/'},\n",
       " {'Title': 'Xin Yin Li 心引力',\n",
       "  'Artist': '王俊凱 蔡依林',\n",
       "  'Understandability': 60,\n",
       "  'Importance': 57,\n",
       "  'Score': -3,\n",
       "  'New Words': ['找寻', '踮起', '脚尖', '窒息'],\n",
       "  'Link': 'https://lyricspinyin.com/2019/11/13/xin-yin-li-%e5%bf%83%e5%bc%95%e5%8a%9b-by-%e7%8e%8b%e4%bf%8a%e5%87%b1-%e8%94%a1%e4%be%9d%e6%9e%97-pinyin-lyrics-and-english-translation/'},\n",
       " {'Title': 'Mo Ca 摩擦',\n",
       "  'Artist': 'Kenji Wu 吳克群',\n",
       "  'Understandability': 65,\n",
       "  'Importance': 57,\n",
       "  'Score': -8,\n",
       "  'New Words': ['一瞬', '石子', '怼'],\n",
       "  'Link': 'https://lyricspinyin.com/2020/07/19/mo-ca-%e6%91%a9%e6%93%a6-by-kenji-wu-%e5%90%b3%e5%85%8b%e7%be%a4-pinyin-lyrics-and-english-translation/'},\n",
       " {'Title': 'Han You Feng Zai Chui\\xa0咁有風在吹',\n",
       "  'Artist': 'Kenji Wu 吳克群',\n",
       "  'Understandability': 60,\n",
       "  'Importance': 54,\n",
       "  'Score': -6,\n",
       "  'New Words': ['苦痛', '梵谷', '耳鸣', '咁', '湍流', '眼泪', '希维', '路德', '无惧'],\n",
       "  'Link': 'https://lyricspinyin.com/2020/04/28/han-you-feng-zai-chui-%e5%92%81%e6%9c%89%e9%a2%a8%e5%9c%a8%e5%90%b9-by-kenji-wu-%e5%90%b3%e5%85%8b%e7%be%a4-pinyin-lyrics-and-english-translation/'},\n",
       " {'Title': 'Shi Jian Deng Guo Shui 時間等過誰',\n",
       "  'Artist': 'Kenji Wu 吳克群',\n",
       "  'Understandability': 56,\n",
       "  'Importance': 51,\n",
       "  'Score': -5,\n",
       "  'New Words': ['叫唤', '唿吸', '白昼'],\n",
       "  'Link': 'https://lyricspinyin.com/2020/01/03/shi-jian-deng-guo-shui-%e6%99%82%e9%96%93%e7%ad%89%e9%81%8e%e8%aa%b0-by-kenji-wu-%e5%90%b3%e5%85%8b%e7%be%a4-pinyin-lyrics-and-english-translation/'},\n",
       " {'Title': 'Wo He Bei Ai Bao Chi Ju Li 我和被愛保持距離',\n",
       "  'Artist': 'Kenji Wu 吳克群',\n",
       "  'Understandability': 54,\n",
       "  'Importance': 48,\n",
       "  'Score': -6,\n",
       "  'New Words': ['伤疤',\n",
       "   '自洽',\n",
       "   '闲杂人等',\n",
       "   '眼泪',\n",
       "   '哇哇',\n",
       "   '柔软',\n",
       "   '哇哇叫',\n",
       "   '贴住',\n",
       "   '铠甲',\n",
       "   '癒',\n",
       "   '结痂',\n",
       "   '疗伤'],\n",
       "  'Link': 'https://lyricspinyin.com/2019/11/23/wo-he-bei-ai-bao-chi-ju-li-%e6%88%91%e5%92%8c%e8%a2%ab%e6%84%9b%e4%bf%9d%e6%8c%81%e8%b7%9d%e9%9b%a2-by-kenji-wu-%e5%90%b3%e5%85%8b%e7%be%a4-pinyin-lyrics-and-english-translation/'},\n",
       " {'Title': 'Hou Jin 後勁',\n",
       "  'Artist': 'Kenji Wu 吳克群',\n",
       "  'Understandability': 60,\n",
       "  'Importance': 58,\n",
       "  'Score': -2,\n",
       "  'New Words': ['天赐', '执念', '扣下', '肩', '每踏', '投出', '每一寸', '谷底', '狠狠', '仰望'],\n",
       "  'Link': 'https://lyricspinyin.com/2019/10/31/hou-jin-%e5%be%8c%e5%8b%81-by-kenji-wu-%e5%90%b3%e5%85%8b%e7%be%a4-pinyin-lyrics-and-english-translation/'},\n",
       " {'Title': 'Ni Shuo Wo Ting Zhe Ne 你說我聽著呢',\n",
       "  'Artist': '吳克群',\n",
       "  'Understandability': 56,\n",
       "  'Importance': 38,\n",
       "  'Score': -18,\n",
       "  'New Words': [],\n",
       "  'Link': 'https://lyricspinyin.com/2019/10/11/ni-shuo-wo-ting-zhe-ne-%e4%bd%a0%e8%aa%aa%e6%88%91%e8%81%bd%e8%91%97%e5%91%a2-by-%e5%90%b3%e5%85%8b%e7%be%a4-pinyin-lyrics-and-english-translation/'},\n",
       " {'Title': 'Tou Fa You Dian Zhang 頭髮有點長',\n",
       "  'Artist': 'Khalil Fong 方大同',\n",
       "  'Understandability': 57,\n",
       "  'Importance': 50,\n",
       "  'Score': -7,\n",
       "  'New Words': ['墙壁', '亏本', '发尾', '不太爽', '绘本', '脚趾头', '剪', '刺痛'],\n",
       "  'Link': 'https://lyricspinyin.com/2020/06/20/tou-fa-you-dian-zhang-%e9%a0%ad%e9%ab%ae%e6%9c%89%e9%bb%9e%e9%95%b7-by-khalil-fong-%e6%96%b9%e5%a4%a7%e5%90%8c-pinyin-lyrics-and-english-translation/'},\n",
       " {'Title': 'Mian Mian Noodles 麵麵',\n",
       "  'Artist': 'Khalil Fong 方大同',\n",
       "  'Understandability': 49,\n",
       "  'Importance': 45,\n",
       "  'Score': -4,\n",
       "  'New Words': ['进意式',\n",
       "   '韩式',\n",
       "   '中式',\n",
       "   '俺',\n",
       "   '芝麻油',\n",
       "   '擀面',\n",
       "   '葱花',\n",
       "   '辣油',\n",
       "   '初榨',\n",
       "   '蒜蓉',\n",
       "   '意式',\n",
       "   '吃素',\n",
       "   '絮说',\n",
       "   '猪油',\n",
       "   '香油',\n",
       "   '橄榄油',\n",
       "   '油里',\n",
       "   '花痴',\n",
       "   '啥事',\n",
       "   '酱'],\n",
       "  'Link': 'https://lyricspinyin.com/2020/06/13/mian-mian-noodles-%e9%ba%b5%e9%ba%b5-by-khalil-fong-%e6%96%b9%e5%a4%a7%e5%90%8c-pinyin-lyrics-and-english-translation/'},\n",
       " {'Title': 'Favorite Stuff',\n",
       "  'Artist': 'Khalil Fong 方大同',\n",
       "  'Understandability': 60,\n",
       "  'Importance': 58,\n",
       "  'Score': -2,\n",
       "  'New Words': ['任督',\n",
       "   '跨过',\n",
       "   '偏头痛',\n",
       "   '喜怒哀乐',\n",
       "   '和弦',\n",
       "   '单曲',\n",
       "   '录音带',\n",
       "   '未眠',\n",
       "   '紧绷',\n",
       "   '吉他'],\n",
       "  'Link': 'https://lyricspinyin.com/2020/05/22/favorite-stuff-by-khalil-fong-%e6%96%b9%e5%a4%a7%e5%90%8c-pinyin-lyrics-and-english-translation/'},\n",
       " {'Title': 'Yue Ding Yi Quan 約定一拳',\n",
       "  'Artist': 'Ko Chen Tung 柯震東',\n",
       "  'Understandability': 54,\n",
       "  'Importance': 54,\n",
       "  'Score': 0,\n",
       "  'New Words': ['强敌', '噼哩', '麻雀', '掌心', '妳', '稚气', '谜题', '叽叽喳喳', '啪啦', '障壁'],\n",
       "  'Link': 'https://lyricspinyin.com/2020/06/27/yue-ding-yi-quan-%e7%b4%84%e5%ae%9a%e4%b8%80%e6%8b%b3-by-ko-chen-tung-%e6%9f%af%e9%9c%87%e6%9d%b1-pinyin-lyrics-and-english-translation/'},\n",
       " {'Title': 'RAPSTAR',\n",
       "  'Artist': '吳亦凡 潘瑋柏 張靚穎 GAI周延 朴宰範',\n",
       "  'Understandability': 46,\n",
       "  'Importance': 44,\n",
       "  'Score': -2,\n",
       "  'New Words': ['执念',\n",
       "   '舰队',\n",
       "   '紫棋',\n",
       "   '呐喊',\n",
       "   '古人',\n",
       "   '万人空巷',\n",
       "   '王者',\n",
       "   '心慌',\n",
       "   '大堂',\n",
       "   '舞剑',\n",
       "   '阿岳',\n",
       "   '无所畏',\n",
       "   '水军',\n",
       "   '入席',\n",
       "   '臣服',\n",
       "   '静止',\n",
       "   '英里',\n",
       "   '朴宰范',\n",
       "   '一触即发',\n",
       "   '玉液琼浆',\n",
       "   '势在必得',\n",
       "   '醍醐灌顶',\n",
       "   '熔断',\n",
       "   '唿唤',\n",
       "   '咽下去',\n",
       "   '好字旗',\n",
       "   '装腔',\n",
       "   '战神',\n",
       "   '掌舵',\n",
       "   '眺望',\n",
       "   '稿子',\n",
       "   '看齐',\n",
       "   '枷锁',\n",
       "   '问价',\n",
       "   '谜题',\n",
       "   '硬骨头',\n",
       "   '託',\n",
       "   '啥子',\n",
       "   '炸',\n",
       "   '孔乙己',\n",
       "   '狂人',\n",
       "   '敬来',\n",
       "   '遮羞布',\n",
       "   '战友',\n",
       "   '旗号',\n",
       "   '随你挑',\n",
       "   '搭理'],\n",
       "  'Link': 'https://lyricspinyin.com/2020/08/11/rapstar-by-%e5%90%b3%e4%ba%a6%e5%87%a1-%e6%bd%98%e7%91%8b%e6%9f%8f-%e5%bc%b5%e9%9d%9a%e7%a9%8e-gai%e5%91%a8%e5%bb%b6-%e6%9c%b4%e5%ae%b0%e7%af%84-pinyin-lyrics/'},\n",
       " {'Title': 'Ka Fei 咖啡',\n",
       "  'Artist': 'Lu Han 鹿晗 feat Kris Wu 吳亦凡',\n",
       "  'Understandability': 51,\n",
       "  'Importance': 48,\n",
       "  'Score': -3,\n",
       "  'New Words': ['吹拂',\n",
       "   '绝配',\n",
       "   '翺',\n",
       "   '街贴',\n",
       "   '美式',\n",
       "   '晃晃悠悠',\n",
       "   '微风',\n",
       "   '绷紧',\n",
       "   '肩上',\n",
       "   '过眼云烟',\n",
       "   '泸镜'],\n",
       "  'Link': 'https://lyricspinyin.com/2020/04/15/ka-fei-%e5%92%96%e5%95%a1-by-lu-han-%e9%b9%bf%e6%99%97-feat-kris-wu-%e5%90%b3%e4%ba%a6%e5%87%a1-pinyin-lyrics-and-english-translation/'},\n",
       " {'Title': 'Er San 貳叁',\n",
       "  'Artist': 'Kris Wu 吳亦凡',\n",
       "  'Understandability': 50,\n",
       "  'Importance': 46,\n",
       "  'Score': -4,\n",
       "  'New Words': ['凋零',\n",
       "   '跌入',\n",
       "   '註',\n",
       "   '无瑕',\n",
       "   '落魄',\n",
       "   '事与愿违',\n",
       "   '不忍',\n",
       "   '蹉跎',\n",
       "   '无措',\n",
       "   '无法挽回',\n",
       "   '坠落',\n",
       "   '心如刀割',\n",
       "   '深渊',\n",
       "   '昙花一现',\n",
       "   '封存',\n",
       "   '如梦初醒',\n",
       "   '落寞',\n",
       "   '歇斯底里',\n",
       "   '流逝',\n",
       "   '初雪',\n",
       "   '空庭雨',\n",
       "   '凋落'],\n",
       "  'Link': 'https://lyricspinyin.com/2019/11/06/er-san-%e8%b2%b3%e5%8f%81-by-kris-wu-%e5%90%b3%e4%ba%a6%e5%87%a1-pinyin-lyrics-and-english-translation/'},\n",
       " {'Title': 'Shi Zhong Xin 市中心',\n",
       "  'Artist': 'Lai Ci Hong 賴慈泓',\n",
       "  'Understandability': 55,\n",
       "  'Importance': 51,\n",
       "  'Score': -4,\n",
       "  'New Words': ['逼不得已'],\n",
       "  'Link': 'https://lyricspinyin.com/2020/04/06/shi-zhong-xin-%e5%b8%82%e4%b8%ad%e5%bf%83-by-lai-ci-hong-%e8%b3%b4%e6%85%88%e6%b3%93-pinyin-lyrics-and-english-translation/'},\n",
       " {'Title': 'Chu Lian 初戀',\n",
       "  'Artist': 'Lai Guan Lin 賴冠霖',\n",
       "  'Understandability': 68,\n",
       "  'Importance': 62,\n",
       "  'Score': -6,\n",
       "  'New Words': ['每秒'],\n",
       "  'Link': 'https://lyricspinyin.com/2019/11/18/chu-lian-%e5%88%9d%e6%88%80-by-lai-guan-lin-%e8%b3%b4%e5%86%a0%e9%9c%96-pinyin-lyrics-and-english-translation/'},\n",
       " {'Title': 'Su Shi Ai Ging 速食愛情',\n",
       "  'Artist': '邱鋒澤 陳零九 黃偉晉 小賴',\n",
       "  'Understandability': 57,\n",
       "  'Importance': 54,\n",
       "  'Score': -3,\n",
       "  'New Words': ['端倪',\n",
       "   '撇开',\n",
       "   '郁热',\n",
       "   '妳',\n",
       "   '速食',\n",
       "   '震颤',\n",
       "   '癫狂',\n",
       "   '躁动',\n",
       "   '萌发',\n",
       "   '绑定',\n",
       "   '狂妄',\n",
       "   '酣畅淋漓',\n",
       "   '情不自禁',\n",
       "   '褪色',\n",
       "   '窒息'],\n",
       "  'Link': 'https://lyricspinyin.com/2020/04/10/su-shi-ai-ging-%e9%80%9f%e9%a3%9f%e6%84%9b%e6%83%85-by-%e9%82%b1%e9%8b%92%e6%be%a4-%e9%99%b3%e9%9b%b6%e4%b9%9d-%e9%bb%83%e5%81%89%e6%99%89-%e5%b0%8f%e8%b3%b4-pinyin-lyrics-and-english-translation/'},\n",
       " {'Title': 'Bing Bian 兵變',\n",
       "  'Artist': '邱鋒澤 陳零九 黃偉晉 小賴',\n",
       "  'Understandability': 52,\n",
       "  'Importance': 49,\n",
       "  'Score': -3,\n",
       "  'New Words': ['焦灼',\n",
       "   '逼问',\n",
       "   '兵变',\n",
       "   '捉摸不定',\n",
       "   '不舍',\n",
       "   '妳',\n",
       "   '造作',\n",
       "   '飘忽',\n",
       "   '食言',\n",
       "   '辗碎',\n",
       "   '浮现',\n",
       "   '消逝',\n",
       "   '紧握着',\n",
       "   '咆哮'],\n",
       "  'Link': 'https://lyricspinyin.com/2019/11/19/bing-bian-%e5%85%b5%e8%ae%8a-by-%e9%82%b1%e9%8b%92%e6%be%a4-%e9%99%b3%e9%9b%b6%e4%b9%9d-%e9%bb%83%e5%81%89%e6%99%89-%e5%b0%8f%e8%b3%b4-pinyin-lyrics-and-english-translation/'},\n",
       " {'Title': 'Su Shi Ai Ging 速食愛情',\n",
       "  'Artist': '邱鋒澤 陳零九 黃偉晉 小賴',\n",
       "  'Understandability': 57,\n",
       "  'Importance': 54,\n",
       "  'Score': -3,\n",
       "  'New Words': ['端倪',\n",
       "   '撇开',\n",
       "   '郁热',\n",
       "   '妳',\n",
       "   '速食',\n",
       "   '震颤',\n",
       "   '癫狂',\n",
       "   '躁动',\n",
       "   '萌发',\n",
       "   '绑定',\n",
       "   '狂妄',\n",
       "   '酣畅淋漓',\n",
       "   '情不自禁',\n",
       "   '褪色',\n",
       "   '窒息'],\n",
       "  'Link': 'https://lyricspinyin.com/2020/04/10/su-shi-ai-ging-%e9%80%9f%e9%a3%9f%e6%84%9b%e6%83%85-by-%e9%82%b1%e9%8b%92%e6%be%a4-%e9%99%b3%e9%9b%b6%e4%b9%9d-%e9%bb%83%e5%81%89%e6%99%89-%e5%b0%8f%e8%b3%b4-pinyin-lyrics-and-english-translation/'},\n",
       " {'Title': 'Xia Ci Wo Hui Ba Ni Zhua Jin 下次我會把你抓緊',\n",
       "  'Artist': 'Lai 賴晏駒',\n",
       "  'Understandability': 60,\n",
       "  'Importance': 56,\n",
       "  'Score': -4,\n",
       "  'New Words': ['指尖', '触碰', '谷底', '彿', '沈淀'],\n",
       "  'Link': 'https://lyricspinyin.com/2020/04/04/xia-ci-wo-hui-ba-ni-zhua-jin-%e4%b8%8b%e6%ac%a1%e6%88%91%e6%9c%83%e6%8a%8a%e4%bd%a0%e6%8a%93%e7%b7%8a-by-lai-%e8%b3%b4%e6%99%8f%e9%a7%92-pinyin-lyrics-and-english-translation/'},\n",
       " {'Title': 'Hui Hao De 會好的',\n",
       "  'Artist': 'LAY 張藝興',\n",
       "  'Understandability': 53,\n",
       "  'Importance': 51,\n",
       "  'Score': -2,\n",
       "  'New Words': ['一抹', '盼望着', '守望', '佈', '沉下来', '祈福', '晨曦', '虔诚地'],\n",
       "  'Link': 'https://lyricspinyin.com/2020/02/24/hui-hao-de-%e6%9c%83%e5%a5%bd%e7%9a%84-by-lay-%e5%bc%b5%e8%97%9d%e8%88%88-pinyin-lyrics-and-english-translation/'},\n",
       " {'Title': 'Wai Po 外婆',\n",
       "  'Artist': 'LAY 張藝興',\n",
       "  'Understandability': 55,\n",
       "  'Importance': 50,\n",
       "  'Score': -5,\n",
       "  'New Words': ['爹爹',\n",
       "   '轻抚',\n",
       "   '糍粑',\n",
       "   '眼泪',\n",
       "   '绣花',\n",
       "   '忍住',\n",
       "   '粑',\n",
       "   '绣杂',\n",
       "   '唿吸',\n",
       "   '额头',\n",
       "   '握紧',\n",
       "   '车载',\n",
       "   '倔强地',\n",
       "   '闭上眼睛'],\n",
       "  'Link': 'https://lyricspinyin.com/2020/01/28/wai-po-%e5%a4%96%e5%a9%86-by-lay-%e5%bc%b5%e8%97%9d%e8%88%88-pinyin-lyrics-and-english-translation/'},\n",
       " {'Title': 'Wan An 晚安',\n",
       "  'Artist': 'LAY 張藝興',\n",
       "  'Understandability': 53,\n",
       "  'Importance': 47,\n",
       "  'Score': -6,\n",
       "  'New Words': ['凝住',\n",
       "   '倾诉',\n",
       "   '旅途',\n",
       "   '独处',\n",
       "   '唐突',\n",
       "   '曲目',\n",
       "   '浮土',\n",
       "   '倾尽',\n",
       "   '卑微',\n",
       "   '情愫',\n",
       "   '将泪'],\n",
       "  'Link': 'https://lyricspinyin.com/2019/11/17/wan-an-%e6%99%9a%e5%ae%89-by-lay-%e5%bc%b5%e8%97%9d%e8%88%88-pinyin-lyrics-and-english-translation/'},\n",
       " {'Title': 'Jeui 追',\n",
       "  'Artist': 'Leslie Cheung 張國榮 Cantonese',\n",
       "  'Understandability': 67,\n",
       "  'Importance': 62,\n",
       "  'Score': -5,\n",
       "  'New Words': ['沈睡', '似幻', '狂风', '不枉过', '疯恋', '渡过', '似虚', '一分一秒', '彿'],\n",
       "  'Link': 'https://lyricspinyin.com/2020/07/26/jeui-%e8%bf%bd-by-leslie-cheung-%e5%bc%b5%e5%9c%8b%e6%a6%ae-cantonese-pinyin-lyrics-and-english-translation/'},\n",
       " {'Title': 'Yan Yu Sui Yue De Wen Rou 掩於歲月的溫柔',\n",
       "  'Artist': 'Li Daimo 李代沫',\n",
       "  'Understandability': 67,\n",
       "  'Importance': 60,\n",
       "  'Score': -7,\n",
       "  'New Words': ['掩于', '牵过'],\n",
       "  'Link': 'https://lyricspinyin.com/2020/10/15/yan-yu-sui-yue-de-wen-rou-%e6%8e%a9%e6%96%bc%e6%ad%b2%e6%9c%88%e7%9a%84%e6%ba%ab%e6%9f%94-by-li-daimo-%e6%9d%8e%e4%bb%a3%e6%b2%ab-pinyin-lyrics-and-english-translation/'},\n",
       " {'Title': 'Yi Qian Ling Yi Ci Wo Ai Ni 一千零一次我愛你',\n",
       "  'Artist': 'Li Hao Ran 李浩然',\n",
       "  'Understandability': 47,\n",
       "  'Importance': 43,\n",
       "  'Score': -4,\n",
       "  'New Words': ['繁星点点', '轻喃', '慵懒', '相伴', '栖身', '眯眼', '微风', '一盏'],\n",
       "  'Link': 'https://lyricspinyin.com/2020/04/30/yi-qian-ling-yi-ci-wo-ai-ni-%e4%b8%80%e5%8d%83%e9%9b%b6%e4%b8%80%e6%ac%a1%e6%88%91%e6%84%9b%e4%bd%a0-by-li-hao-ran-%e6%9d%8e%e6%b5%a9%e7%84%b6-pinyin-lyrics-and-english-translation/'},\n",
       " {'Title': 'Chi Ling 赤伶',\n",
       "  'Artist': 'Li Yu Gang 李玉剛',\n",
       "  'Understandability': 40,\n",
       "  'Importance': 34,\n",
       "  'Score': -6,\n",
       "  'New Words': ['燃',\n",
       "   '莫嘲',\n",
       "   '白骨',\n",
       "   '戏莫笑',\n",
       "   '戏幕起',\n",
       "   '未敢',\n",
       "   '位卑',\n",
       "   '浮萍',\n",
       "   '喜怒哀乐',\n",
       "   '烽火',\n",
       "   '铿锵',\n",
       "   '水袖',\n",
       "   '忘忧国',\n",
       "   '忍看',\n",
       "   '粉墨',\n",
       "   '陈词',\n",
       "   '兴亡',\n",
       "   '一折',\n",
       "   '落墨',\n",
       "   '锣鼓',\n",
       "   '悲欢',\n",
       "   '戏幕落',\n",
       "   '戏幕'],\n",
       "  'Link': 'https://lyricspinyin.com/2020/06/19/chi-ling-%e8%b5%a4%e4%bc%b6-by-li-yu-gang-%e6%9d%8e%e7%8e%89%e5%89%9b-pinyin-lyrics/'},\n",
       " {'Title': 'Zhi Shi Peng You 只是朋友',\n",
       "  'Artist': 'Li Yu Xi 李玉璽',\n",
       "  'Understandability': 75,\n",
       "  'Importance': 48,\n",
       "  'Score': -27,\n",
       "  'New Words': [],\n",
       "  'Link': 'https://lyricspinyin.com/2019/10/04/zhi-shi-peng-you-%e5%8f%aa%e6%98%af%e6%9c%8b%e5%8f%8b-by-li-yu-xi-%e6%9d%8e%e7%8e%89%e7%92%bd-pinyin-lyrics-and-english-translation/'},\n",
       " {'Title': 'Shui 誰',\n",
       "  'Artist': 'Liao Jun Tao 廖俊濤',\n",
       "  'Understandability': 64,\n",
       "  'Importance': 59,\n",
       "  'Score': -5,\n",
       "  'New Words': ['刺猬', '佔', '眼泪', '未卸下', '喜悲'],\n",
       "  'Link': 'https://lyricspinyin.com/2020/06/05/shui-%e8%aa%b0-by-liao-jun-tao-%e5%bb%96%e4%bf%8a%e6%bf%a4-pinyin-lyrics-and-english-translation/'},\n",
       " {'Title': 'Da Tian Hou Sheng Zai 大田後生仔',\n",
       "  'Artist': 'Lin Qi De 林啟得',\n",
       "  'Understandability': 56,\n",
       "  'Importance': 49,\n",
       "  'Score': -7,\n",
       "  'New Words': ['田间', '伊', '大田县', '大田', '餵', '伊哟', '打拼'],\n",
       "  'Link': 'https://lyricspinyin.com/2019/11/24/da-tian-hou-sheng-zai-%e5%a4%a7%e7%94%b0%e5%be%8c%e7%94%9f%e4%bb%94-by-lin-qi-de-%e6%9e%97%e5%95%9f%e5%be%97-pinyin-lyrics-and-english-translation/'},\n",
       " {'Title': 'Wang Chuan Bi An 忘川彼岸',\n",
       "  'Artist': 'Ling Yi Jiu Ling Er 零一九零貳',\n",
       "  'Understandability': 49,\n",
       "  'Importance': 44,\n",
       "  'Score': -5,\n",
       "  'New Words': ['彼岸',\n",
       "   '执念',\n",
       "   '不渡',\n",
       "   '轮回',\n",
       "   '菩提',\n",
       "   '跨过',\n",
       "   '佛渡',\n",
       "   '未见',\n",
       "   '难渡',\n",
       "   '袈裟',\n",
       "   '削发为僧',\n",
       "   '看忘川河',\n",
       "   '牵挂',\n",
       "   '佛前',\n",
       "   '忘川',\n",
       "   '菩提树',\n",
       "   '彼岸花',\n",
       "   '佛生怜',\n",
       "   '参悟',\n",
       "   '佛若'],\n",
       "  'Link': 'https://lyricspinyin.com/2020/10/21/wang-chuan-bi-an-%e5%bf%98%e5%b7%9d%e5%bd%bc%e5%b2%b8-by-ling-yi-jiu-ling-er-%e9%9b%b6%e4%b8%80%e4%b9%9d%e9%9b%b6%e8%b2%b3-pinyin-lyrics/'},\n",
       " {'Title': 'Wang Bu Le De Shi Ni 忘不了的是你',\n",
       "  'Artist': 'Liu Da Zhuang 劉大壯',\n",
       "  'Understandability': 58,\n",
       "  'Importance': 54,\n",
       "  'Score': -4,\n",
       "  'New Words': ['落魄', '唿吸', '失忆', '孤单', '痛到'],\n",
       "  'Link': 'https://lyricspinyin.com/2020/10/05/wang-bu-le-de-shi-ni-%e5%bf%98%e4%b8%8d%e4%ba%86%e7%9a%84%e6%98%af%e4%bd%a0-by-liu-da-zhuang-%e5%8a%89%e5%a4%a7%e5%a3%af-pinyin-lyrics-and-english-translation/'},\n",
       " {'Title': 'Hui Bu Hui 會不會',\n",
       "  'Artist': 'Liu Da Zhuang 劉大壯',\n",
       "  'Understandability': 62,\n",
       "  'Importance': 59,\n",
       "  'Score': -3,\n",
       "  'New Words': ['遗落', '眼泪', '踏足'],\n",
       "  'Link': 'https://lyricspinyin.com/2020/09/24/hui-bu-hui-%e6%9c%83%e4%b8%8d%e6%9c%83-by-liu-da-zhuang-%e5%8a%89%e5%a4%a7%e5%a3%af-pinyin-lyrics-and-english-translation/'},\n",
       " {'Title': 'Tian Shi De Chi Bang 天使的翅膀',\n",
       "  'Artist': 'Liu Da Zhuang 劉大壯',\n",
       "  'Understandability': 54,\n",
       "  'Importance': 53,\n",
       "  'Score': -1,\n",
       "  'New Words': ['芬芳'],\n",
       "  'Link': 'https://lyricspinyin.com/2020/08/07/tian-shi-de-chi-bang-%e5%a4%a9%e4%bd%bf%e7%9a%84%e7%bf%85%e8%86%80-by-liu-da-zhuang-%e5%8a%89%e5%a4%a7%e5%a3%af-pinyin-lyrics-and-english-translation/'},\n",
       " {'Title': 'Wo You Duo Me Ai Ni 我有多麼愛你',\n",
       "  'Artist': 'Liu Da Zhuang 劉大壯',\n",
       "  'Understandability': 61,\n",
       "  'Importance': 58,\n",
       "  'Score': -3,\n",
       "  'New Words': ['拥紧', '藏匿'],\n",
       "  'Link': 'https://lyricspinyin.com/2020/08/01/wo-you-duo-me-ai-ni-%e6%88%91%e6%9c%89%e5%a4%9a%e9%ba%bc%e6%84%9b%e4%bd%a0-by-liu-da-zhuang-%e5%8a%89%e5%a4%a7%e5%a3%af-pinyin-lyrics-and-english-translation/'},\n",
       " {'Title': 'Er Shi 兒時',\n",
       "  'Artist': 'Liu Hao Lin 劉昊霖',\n",
       "  'Understandability': 42,\n",
       "  'Importance': 38,\n",
       "  'Score': -4,\n",
       "  'New Words': ['蝉鸣',\n",
       "   '记忆里',\n",
       "   '榕树下',\n",
       "   '泥渍',\n",
       "   '脸颊',\n",
       "   '黏牙',\n",
       "   '院坝',\n",
       "   '剪头发',\n",
       "   '皮筋',\n",
       "   '嘻嘻',\n",
       "   '茅草屋',\n",
       "   '哗啦啦',\n",
       "   '田埂',\n",
       "   '石桥',\n",
       "   '发芽',\n",
       "   '梧桐',\n",
       "   '银杏',\n",
       "   '中闷',\n",
       "   '微风',\n",
       "   '木吉他',\n",
       "   '萤火虫',\n",
       "   '大白兔',\n",
       "   '憧憬',\n",
       "   '赤脚',\n",
       "   '篮框',\n",
       "   '晚霞',\n",
       "   '宝藏',\n",
       "   '玻璃珠',\n",
       "   '长板凳'],\n",
       "  'Link': 'https://lyricspinyin.com/2020/08/31/er-shi-%e5%85%92%e6%99%82-by-liu-hao-lin-%e5%8a%89%e6%98%8a%e9%9c%96-pinyin-lyrics-and-english-translation/'},\n",
       " {'Title': 'Ba Gu Du Dang Zuo Wan Can 把孤獨當作晚餐',\n",
       "  'Artist': '劉旭陽',\n",
       "  'Understandability': 61,\n",
       "  'Importance': 54,\n",
       "  'Score': -7,\n",
       "  'New Words': ['陷在', '消遣', '嚥', '含着泪', '亏欠', '不值一钱'],\n",
       "  'Link': 'https://lyricspinyin.com/2019/11/10/ba-gu-du-dang-zuo-wan-can-%e6%8a%8a%e5%ad%a4%e7%8d%a8%e7%95%b6%e4%bd%9c%e6%99%9a%e9%a4%90-by-%e5%8a%89%e6%97%ad%e9%99%bd-pinyin-lyrics-and-english-translation/'},\n",
       " {'Title': 'Ao Ye 熬夜',\n",
       "  'Artist': 'Liu Yu Ning 摩登兄弟劉宇寧',\n",
       "  'Understandability': 60,\n",
       "  'Importance': 57,\n",
       "  'Score': -3,\n",
       "  'New Words': ['更迭', '肆意', '一幕幕', '癒', '哽在'],\n",
       "  'Link': 'https://lyricspinyin.com/2020/10/18/ao-ye-%e7%86%ac%e5%a4%9c-by-liu-yu-ning-%e6%91%a9%e7%99%bb%e5%85%84%e5%bc%9f%e5%8a%89%e5%ae%87%e5%af%a7-pinyin-lyrics-and-english-translation/'},\n",
       " {'Title': 'Ni Shuo Ai Qing A 你說愛情啊',\n",
       "  'Artist': 'Liu Yuning 摩登兄弟劉宇寧',\n",
       "  'Understandability': 59,\n",
       "  'Importance': 53,\n",
       "  'Score': -6,\n",
       "  'New Words': ['深陷', '停驻', '放肆', '满载', '聚散', '余温'],\n",
       "  'Link': 'https://lyricspinyin.com/2020/07/22/ni-shuo-ai-qing-a-%e4%bd%a0%e8%aa%aa%e6%84%9b%e6%83%85%e5%95%8a-by-liu-yuning-%e6%91%a9%e7%99%bb%e5%85%84%e5%bc%9f%e5%8a%89%e5%ae%87%e5%af%a7-pinyin-lyrics-and-english-translation/'},\n",
       " {'Title': 'Yao Ti Wo Xing Fu 要替我幸福',\n",
       "  'Artist': 'Liu Yuning 摩登兄弟劉宇寧',\n",
       "  'Understandability': 63,\n",
       "  'Importance': 57,\n",
       "  'Score': -6,\n",
       "  'New Words': ['难言', '褔', '捉弄'],\n",
       "  'Link': 'https://lyricspinyin.com/2020/05/20/yao-ti-wo-xing-fu-%e8%a6%81%e6%9b%bf%e6%88%91%e5%b9%b8%e7%a6%8f-by-liu-yuning-%e6%91%a9%e7%99%bb%e5%85%84%e5%bc%9f%e5%8a%89%e5%ae%87%e5%af%a7-pinyin-lyrics-and-english-translation/'},\n",
       " {'Title': 'Duan Yuan Jue 斷緣訣',\n",
       "  'Artist': 'Liu Yuning 劉宇寧',\n",
       "  'Understandability': 39,\n",
       "  'Importance': 37,\n",
       "  'Score': -2,\n",
       "  'New Words': ['尘事',\n",
       "   '情剑',\n",
       "   '看透',\n",
       "   '遮眼',\n",
       "   '消遣',\n",
       "   '缘不枉',\n",
       "   '枯叶',\n",
       "   '孤影',\n",
       "   '天命',\n",
       "   '孤身',\n",
       "   '孑然一身',\n",
       "   '殇',\n",
       "   '无言',\n",
       "   '凡夫俗子',\n",
       "   '孤帆',\n",
       "   '洒霜',\n",
       "   '我痛',\n",
       "   '相拥',\n",
       "   '剪'],\n",
       "  'Link': 'https://lyricspinyin.com/2020/04/30/duan-yuan-jue-%e6%96%b7%e7%b7%a3%e8%a8%a3-by-liu-yuning-%e5%8a%89%e5%ae%87%e5%af%a7-pinyin-lyrics/'},\n",
       " {'Title': 'Zui Hou De Ye 最後的夜',\n",
       "  'Artist': 'Liu Zhe 六哲',\n",
       "  'Understandability': 58,\n",
       "  'Importance': 52,\n",
       "  'Score': -6,\n",
       "  'New Words': ['食言', '挽留', '凋谢', '拼了命', '狂野', '强吻'],\n",
       "  'Link': 'https://lyricspinyin.com/2020/02/21/zui-hou-de-ye-%e6%9c%80%e5%be%8c%e7%9a%84%e5%a4%9c-by-liu-zhe-%e5%85%ad%e5%93%b2-pinyin-lyrics-and-english-translation/'},\n",
       " {'Title': 'Guo Fen De Ai Ni 過分的愛你',\n",
       "  'Artist': '六哲',\n",
       "  'Understandability': 60,\n",
       "  'Importance': 53,\n",
       "  'Score': -7,\n",
       "  'New Words': ['值得一提', '连根拔起', '泪受', '註', '心有余悸', '命中', '一艘船'],\n",
       "  'Link': 'https://lyricspinyin.com/2019/10/26/guo-fen-de-ai-ni-%e9%81%8e%e5%88%86%e7%9a%84%e6%84%9b%e4%bd%a0-by-%e5%85%ad%e5%93%b2-pinyin-lyrics-and-english-translation/'},\n",
       " {'Title': 'Bi Jing Shen Ai Guo 畢竟深愛過',\n",
       "  'Artist': 'Liu Zhe 六哲',\n",
       "  'Understandability': 67,\n",
       "  'Importance': 62,\n",
       "  'Score': -5,\n",
       "  'New Words': ['眼泪', '彿'],\n",
       "  'Link': 'https://lyricspinyin.com/2019/10/15/bi-jing-shen-ai-guo-%e7%95%a2%e7%ab%9f%e6%b7%b1%e6%84%9b%e9%81%8e-by-liu-zhe-%e5%85%ad%e5%93%b2-pinyin-lyrics-and-english-translation/'},\n",
       " {'Title': 'Min Gan 敏感',\n",
       "  'Artist': 'Lu Han 鹿晗 & Huang Zi Tao 黃子韜',\n",
       "  'Understandability': 57,\n",
       "  'Importance': 52,\n",
       "  'Score': -5,\n",
       "  'New Words': ['凋零', '骨感', '问心无愧', '心肺', '崩坏', '掏空', '光速', '鹿晗'],\n",
       "  'Link': 'https://lyricspinyin.com/2020/07/05/min-gan-%e6%95%8f%e6%84%9f-by-lu-han-%e9%b9%bf%e6%99%97-huang-zi-tao-%e9%bb%83%e5%ad%90%e9%9f%9c-pinyin-lyrics-and-english-translation/'},\n",
       " {'Title': 'Man Man 慢慢',\n",
       "  'Artist': 'Lu Han 鹿晗',\n",
       "  'Understandability': 58,\n",
       "  'Importance': 56,\n",
       "  'Score': -2,\n",
       "  'New Words': ['肩', '烦忧', '风筝', '唿吸', '微风', '白云', '颓废', '丸子', '闭上'],\n",
       "  'Link': 'https://lyricspinyin.com/2020/05/29/man-man-%e6%85%a2%e6%85%a2-by-lu-han-%e9%b9%bf%e6%99%97-pinyin-lyrics-and-english-translation/'},\n",
       " {'Title': 'Ka Fei 咖啡',\n",
       "  'Artist': 'Lu Han 鹿晗 feat Kris Wu 吳亦凡',\n",
       "  'Understandability': 51,\n",
       "  'Importance': 48,\n",
       "  'Score': -3,\n",
       "  'New Words': ['吹拂',\n",
       "   '绝配',\n",
       "   '翺',\n",
       "   '街贴',\n",
       "   '美式',\n",
       "   '晃晃悠悠',\n",
       "   '微风',\n",
       "   '绷紧',\n",
       "   '肩上',\n",
       "   '过眼云烟',\n",
       "   '泸镜'],\n",
       "  'Link': 'https://lyricspinyin.com/2020/04/15/ka-fei-%e5%92%96%e5%95%a1-by-lu-han-%e9%b9%bf%e6%99%97-feat-kris-wu-%e5%90%b3%e4%ba%a6%e5%87%a1-pinyin-lyrics-and-english-translation/'},\n",
       " {'Title': 'Yuan Luo 緣落',\n",
       "  'Artist': 'Zhou Shen 周深 & Lu Hu 陸虎',\n",
       "  'Understandability': 47,\n",
       "  'Importance': 45,\n",
       "  'Score': -2,\n",
       "  'New Words': ['忽远',\n",
       "   '忽近',\n",
       "   '若即若离',\n",
       "   '说痛',\n",
       "   '独守',\n",
       "   '情仇',\n",
       "   '踪影',\n",
       "   '缘落',\n",
       "   '失魂落魄',\n",
       "   '这缘',\n",
       "   '孟婆汤',\n",
       "   '轮回',\n",
       "   '寻寻觅觅',\n",
       "   '奈何桥',\n",
       "   '梧桐'],\n",
       "  'Link': 'https://lyricspinyin.com/2020/05/25/yuan-luo-%e7%b7%a3%e8%90%bd-by-zhou-shen-%e5%91%a8%e6%b7%b1-lu-hu-%e9%99%b8%e8%99%8e-pinyin-lyrics/'},\n",
       " {'Title': 'Wu Wei 無畏',\n",
       "  'Artist': 'Ma Di 馬頔',\n",
       "  'Understandability': 63,\n",
       "  'Importance': 59,\n",
       "  'Score': -4,\n",
       "  'New Words': ['无畏', '呜呜', '孤单', '眼泪'],\n",
       "  'Link': 'https://lyricspinyin.com/2020/09/17/wu-wei-%e7%84%a1%e7%95%8f-by-ma-di-%e9%a6%ac%e9%a0%94-pinyin-lyrics-and-english-translation/'},\n",
       " {'Title': 'Xiao Hang Nang 小行囊',\n",
       "  'Artist': 'Ma Jian Tao 馬健濤',\n",
       "  'Understandability': 57,\n",
       "  'Importance': 53,\n",
       "  'Score': -4,\n",
       "  'New Words': ['袖子', '行囊', '衣袖', '眼泪', '爹娘'],\n",
       "  'Link': 'https://lyricspinyin.com/2020/07/09/xiao-hang-nang-%e5%b0%8f%e8%a1%8c%e5%9b%8a-by-ma-jian-tao-%e9%a6%ac%e5%81%a5%e6%bf%a4-pinyin-lyrics-and-english-translation/'},\n",
       " {'Title': 'Ru Guo Shi Ni 如果是你',\n",
       "  'Artist': 'Mao Bu Yi 毛不易',\n",
       "  'Understandability': 59,\n",
       "  'Importance': 55,\n",
       "  'Score': -4,\n",
       "  'New Words': ['唿唤', '如若', '埋藏', '迷惘'],\n",
       "  'Link': 'https://lyricspinyin.com/2020/08/19/ru-guo-shi-ni-%e5%a6%82%e6%9e%9c%e6%98%af%e4%bd%a0-by-mao-bu-yi-%e6%af%9b%e4%b8%8d%e6%98%93-pinyin-lyrics-and-english-translation/'},\n",
       " {'Title': 'Wo Hui Shou Zai Zhe Li 我會守在這裡',\n",
       "  'Artist': 'Mao Bu Yi\\xa0毛不易',\n",
       "  'Understandability': 52,\n",
       "  'Importance': 46,\n",
       "  'Score': -6,\n",
       "  'New Words': ['相逢', '遥望', '紧握', '渐渐', '树枝'],\n",
       "  'Link': 'https://lyricspinyin.com/2020/08/12/wo-hui-shou-zai-zhe-li-%e6%88%91%e6%9c%83%e5%ae%88%e5%9c%a8%e9%80%99%e8%a3%a1-by-mao-bu-yi-%e6%af%9b%e4%b8%8d%e6%98%93-pinyin-lyrics-and-english-translation/'},\n",
       " {'Title': 'Xia Hang Tian Long 俠行天龍',\n",
       "  'Artist': 'Mao Bu Yi 毛不易',\n",
       "  'Understandability': 32,\n",
       "  'Importance': 29,\n",
       "  'Score': -3,\n",
       "  'New Words': ['荒野',\n",
       "   '更迭',\n",
       "   '乃',\n",
       "   '仁义',\n",
       "   '数载',\n",
       "   '艰险',\n",
       "   '凌冽',\n",
       "   '敌我',\n",
       "   '纠葛',\n",
       "   '问心无愧',\n",
       "   '自古',\n",
       "   '豪情',\n",
       "   '年轮',\n",
       "   '无惧',\n",
       "   '无愧',\n",
       "   '逍遥',\n",
       "   '丰功伟业',\n",
       "   '一撇',\n",
       "   '伏多',\n",
       "   '呈于',\n",
       "   '奉陪',\n",
       "   '壮美',\n",
       "   '皎洁',\n",
       "   '凭忠胆',\n",
       "   '纵马',\n",
       "   '几番',\n",
       "   '兵刃相接',\n",
       "   '跌宕起伏',\n",
       "   '朝晖',\n",
       "   '悲欢'],\n",
       "  'Link': 'https://lyricspinyin.com/2020/07/15/xia-hang-tian-long-%e4%bf%a0%e8%a1%8c%e5%a4%a9%e9%be%8d-by-mao-bu-yi-%e6%af%9b%e4%b8%8d%e6%98%93-pinyin-lyrics/'},\n",
       " {'Title': 'Ru Hai 入海',\n",
       "  'Artist': 'Mao Bu Yi 毛不易',\n",
       "  'Understandability': 59,\n",
       "  'Importance': 54,\n",
       "  'Score': -5,\n",
       "  'New Words': ['跃入', '孤单'],\n",
       "  'Link': 'https://lyricspinyin.com/2020/05/25/ru-hai-%e5%85%a5%e6%b5%b7-by-mao-bu-yi-%e6%af%9b%e4%b8%8d%e6%98%93-pinyin-lyrics-and-english-translation/'},\n",
       " {'Title': 'Shen Ye Yi Jiao 深夜一角',\n",
       "  'Artist': 'Mao Bu Yi 毛不易',\n",
       "  'Understandability': 46,\n",
       "  'Importance': 43,\n",
       "  'Score': -3,\n",
       "  'New Words': ['宝石', '归来', '摇摇晃晃', '小摊', '一丝', '忽明忽暗', '憧憬', '城池'],\n",
       "  'Link': 'https://lyricspinyin.com/2020/04/30/shen-ye-yi-jiao-%e6%b7%b1%e5%a4%9c%e4%b8%80%e8%a7%92-by-mao-bu-yi-%e6%af%9b%e4%b8%8d%e6%98%93-pinyin-lyrics-and-english-translation/'},\n",
       " {'Title': 'Ping Fan De Yi Tian 平凡的一天',\n",
       "  'Artist': 'Mao Bu Yi 毛不易',\n",
       "  'Understandability': 51,\n",
       "  'Importance': 47,\n",
       "  'Score': -4,\n",
       "  'New Words': ['脸颊',\n",
       "   '早晨',\n",
       "   '传来',\n",
       "   '柔软',\n",
       "   '恋曲',\n",
       "   '年华',\n",
       "   '牵挂',\n",
       "   '轻拂',\n",
       "   '和煦',\n",
       "   '融在',\n",
       "   '虚度'],\n",
       "  'Link': 'https://lyricspinyin.com/2020/04/25/ping-fan-de-yi-tian-%e5%b9%b3%e5%87%a1%e7%9a%84%e4%b8%80%e5%a4%a9-by-mao-bu-yi-%e6%af%9b%e4%b8%8d%e6%98%93-pinyin-lyrics-and-english-translation/'},\n",
       " {'Title': 'Jie 借',\n",
       "  'Artist': 'Mao Bu Yi 毛不易',\n",
       "  'Understandability': 43,\n",
       "  'Importance': 39,\n",
       "  'Score': -4,\n",
       "  'New Words': ['刻骨铭心',\n",
       "   '暖阳融',\n",
       "   '一泓',\n",
       "   '悠悠',\n",
       "   '雨淋',\n",
       "   '坎坷路',\n",
       "   '一抹',\n",
       "   '刺骨',\n",
       "   '昏黄',\n",
       "   '一寸',\n",
       "   '九曲回肠',\n",
       "   '婉转',\n",
       "   '添一',\n",
       "   '乐土',\n",
       "   '泪痕',\n",
       "   '古老',\n",
       "   '烛火',\n",
       "   '里冽',\n",
       "   '蒙住',\n",
       "   '一盏'],\n",
       "  'Link': 'https://lyricspinyin.com/2020/03/18/jie-%e5%80%9f-by-mao-bu-yi-%e6%af%9b%e4%b8%8d%e6%98%93-pinyin-lyrics/'},\n",
       " {'Title': 'Xiao Chou 消愁',\n",
       "  'Artist': 'Mao Bu Yi 毛不易',\n",
       "  'Understandability': 55,\n",
       "  'Importance': 53,\n",
       "  'Score': -2,\n",
       "  'New Words': ['有霜', '伪装', '潦草', '迷惘', '巡酒', '躁动不安', '唤醒'],\n",
       "  'Link': 'https://lyricspinyin.com/2020/03/10/xiao-chou-%e6%b6%88%e6%84%81-by-mao-bu-yi-%e6%af%9b%e4%b8%8d%e6%98%93-pinyin-lyrics-and-english-translation/'},\n",
       " {'Title': 'Xiao Wang 小王',\n",
       "  'Artist': 'Mao Bu Yi 毛不易',\n",
       "  'Understandability': 51,\n",
       "  'Importance': 46,\n",
       "  'Score': -5,\n",
       "  'New Words': ['轻抚', '眷恋', '温热', '衣袖', '手掌', '恋恋', '遮住', '温存'],\n",
       "  'Link': 'https://lyricspinyin.com/2020/01/23/xiao-wang-%e5%b0%8f%e7%8e%8b-by-mao-bu-yi-%e6%af%9b%e4%b8%8d%e6%98%93-pinyin-lyrics-and-english-translation/'},\n",
       " {'Title': 'Shi Mian Shi Yi Zhong Bing 失眠是一種病',\n",
       "  'Artist': 'MC HotDog',\n",
       "  'Understandability': 55,\n",
       "  'Importance': 48,\n",
       "  'Score': -7,\n",
       "  'New Words': ['更糟',\n",
       "   '翻来覆去',\n",
       "   '副牌',\n",
       "   '像椎心',\n",
       "   '遐想',\n",
       "   '指尖',\n",
       "   '安眠药',\n",
       "   '梗',\n",
       "   '坎坷',\n",
       "   '亏心事',\n",
       "   '梅花',\n",
       "   '烂额',\n",
       "   '闭上眼',\n",
       "   '闭上嘴',\n",
       "   '母爱',\n",
       "   '到此为止',\n",
       "   '焦头',\n",
       "   '最扯'],\n",
       "  'Link': 'https://lyricspinyin.com/2019/10/22/shi-mian-shi-yi-zhong-bing-%e5%a4%b1%e7%9c%a0%e6%98%af%e4%b8%80%e7%a8%ae%e7%97%85-by-mc-hotdog-pinyin-lyrics-and-english-translation/'},\n",
       " {'Title': 'Shi Wo Bu Dong 是我不懂',\n",
       "  'Artist': 'Michael Wong 光良',\n",
       "  'Understandability': 57,\n",
       "  'Importance': 58,\n",
       "  'Score': 1,\n",
       "  'New Words': ['若无其事',\n",
       "   '猜不透',\n",
       "   '烛光',\n",
       "   '略过',\n",
       "   '退缩',\n",
       "   '张狂',\n",
       "   '默契',\n",
       "   '一拖再拖',\n",
       "   '言不由衷',\n",
       "   '闪躲'],\n",
       "  'Link': 'https://lyricspinyin.com/2020/03/26/shi-wo-bu-dong-%e6%98%af%e6%88%91%e4%b8%8d%e6%87%82-by-michael-wong-%e5%85%89%e8%89%af-pinyin-lyrics-and-english-translation/'},\n",
       " {'Title': 'Yu Zhong De Zan Mei Shi 雨中的讚美詩',\n",
       "  'Artist': 'Michael Wong 光良',\n",
       "  'Understandability': 55,\n",
       "  'Importance': 50,\n",
       "  'Score': -5,\n",
       "  'New Words': ['谎别', '悬日', '情仇', '悬日别', '神灵', '孤单'],\n",
       "  'Link': 'https://lyricspinyin.com/2020/03/25/yu-zhong-de-zan-mei-shi-%e9%9b%a8%e4%b8%ad%e7%9a%84%e8%ae%9a%e7%be%8e%e8%a9%a9-by-michael-wong-%e5%85%89%e8%89%af-pinyin-lyrics-and-english-translation/'},\n",
       " {'Title': 'Xiang Ni Le 想你了',\n",
       "  'Artist': 'Michael Wong',\n",
       "  'Understandability': 60,\n",
       "  'Importance': 55,\n",
       "  'Score': -5,\n",
       "  'New Words': ['虫鸣', '风微凉', '捎来'],\n",
       "  'Link': 'https://lyricspinyin.com/2020/03/21/xiang-ni-le-%e6%83%b3%e4%bd%a0%e4%ba%86-by-michael-wong-pinyin-%e5%85%89%e8%89%af-lyrics-and-english-translation/'},\n",
       " {'Title': 'Fan Fang Xiang 反方向',\n",
       "  'Artist': 'Michael Wong 光良',\n",
       "  'Understandability': 59,\n",
       "  'Importance': 55,\n",
       "  'Score': -4,\n",
       "  'New Words': ['良善', '伪装', '反覆', '优雅', '遥望', '一端'],\n",
       "  'Link': 'https://lyricspinyin.com/2020/03/04/fan-fang-xiang-%e5%8f%8d%e6%96%b9%e5%90%91-by-michael-wong-%e5%85%89%e8%89%af-pinyin-lyrics-and-english-translation/'},\n",
       " {'Title': 'Tong Hua 童話',\n",
       "  'Artist': 'Michael Wong 光良',\n",
       "  'Understandability': 71,\n",
       "  'Importance': 61,\n",
       "  'Score': -10,\n",
       "  'New Words': ['哦哦哦'],\n",
       "  'Link': 'https://lyricspinyin.com/2020/02/04/tong-hua-%e7%ab%a5%e8%a9%b1-by-michael-wong-%e5%85%89%e8%89%af-pinyin-lyrics-and-english-translation/'},\n",
       " {'Title': 'Li Cheng ．Lu Cheng 里程．旅程',\n",
       "  'Artist': 'Michael Wong 光良',\n",
       "  'Understandability': 57,\n",
       "  'Importance': 54,\n",
       "  'Score': -3,\n",
       "  'New Words': ['疤痕', '集满', '小屋', '大半辈子', '陪伴着', '唿吸', '暂宿'],\n",
       "  'Link': 'https://lyricspinyin.com/2020/01/18/li-cheng-%ef%bc%8elu-cheng-%e9%87%8c%e7%a8%8b%ef%bc%8e%e6%97%85%e7%a8%8b-by-michael-wong-%e5%85%89%e8%89%af-pinyin-lyrics-and-english-translation/'},\n",
       " {'Title': 'Dang Wo Shuo Zhen Hua De Shi Hou Wo Gan Dao Zi You 當我說真話的時候我感到自由',\n",
       "  'Artist': 'Mitchell 鍾明軒',\n",
       "  'Understandability': 66,\n",
       "  'Importance': 62,\n",
       "  'Score': -4,\n",
       "  'New Words': ['冷暴力'],\n",
       "  'Link': 'https://lyricspinyin.com/2020/05/16/dang-wo-shuo-zhen-hua-de-shi-hou-wo-gan-dao-zi-you-%e7%95%b6%e6%88%91%e8%aa%aa%e7%9c%9f%e8%a9%b1%e7%9a%84%e6%99%82%e5%80%99%e6%88%91%e6%84%9f%e5%88%b0%e8%87%aa%e7%94%b1-by-mitchell-%e9%8d%be%e6%98%8e/'},\n",
       " {'Title': 'Wu Bai 五百',\n",
       "  'Artist': 'Namewee 黃明志',\n",
       "  'Understandability': 57,\n",
       "  'Importance': 52,\n",
       "  'Score': -5,\n",
       "  'New Words': ['尘埃',\n",
       "   '撑过',\n",
       "   '伍佰',\n",
       "   '欧兜',\n",
       "   '荒芜',\n",
       "   '霓虹灯',\n",
       "   '熬过',\n",
       "   '潮起潮落',\n",
       "   '闪闪烁烁',\n",
       "   '轻狂'],\n",
       "  'Link': 'https://lyricspinyin.com/2020/07/25/wu-bai-%e4%ba%94%e7%99%be-by-namewee-%e9%bb%83%e6%98%8e%e5%bf%97-pinyin-lyrics-and-english-translation/'},\n",
       " {'Title': 'Bu Xiao Xin 不小心',\n",
       "  'Artist': 'Namewee 黃明志',\n",
       "  'Understandability': 51,\n",
       "  'Importance': 45,\n",
       "  'Score': -6,\n",
       "  'New Words': ['草莓',\n",
       "   '伪装',\n",
       "   '啪啪',\n",
       "   '菊花',\n",
       "   '探险',\n",
       "   '龟头',\n",
       "   '海潮',\n",
       "   '拍掌',\n",
       "   '润滑剂',\n",
       "   '我射',\n",
       "   '绽放',\n",
       "   '挖下去',\n",
       "   '载',\n",
       "   '射',\n",
       "   '蝌蚪',\n",
       "   '木瓜',\n",
       "   '爆屏',\n",
       "   '射进',\n",
       "   '坦诚相见',\n",
       "   '鲍鱼'],\n",
       "  'Link': 'https://lyricspinyin.com/2020/06/27/bu-xiao-xin-%e4%b8%8d%e5%b0%8f%e5%bf%83-by-namewee-%e9%bb%83%e6%98%8e%e5%bf%97-pinyin-lyrics-and-english-translation/'},\n",
       " {'Title': 'Ai Nai Ye Ai Ta 愛妳也愛她',\n",
       "  'Artist': 'Namewee 黃明志',\n",
       "  'Understandability': 58,\n",
       "  'Importance': 52,\n",
       "  'Score': -6,\n",
       "  'New Words': ['伪装',\n",
       "   '千刀万剐',\n",
       "   '狂妄自大',\n",
       "   '谎话',\n",
       "   '妳',\n",
       "   '无稽',\n",
       "   '妳们',\n",
       "   '妳是',\n",
       "   '罪过',\n",
       "   '压抑着',\n",
       "   '託',\n",
       "   '太渣',\n",
       "   '口诛笔伐',\n",
       "   '钢索',\n",
       "   '心力交瘁'],\n",
       "  'Link': 'https://lyricspinyin.com/2019/12/09/ai-nai-ye-ai-ta-%e6%84%9b%e5%a6%b3%e4%b9%9f%e6%84%9b%e5%a5%b9-by-namewee-%e9%bb%83%e6%98%8e%e5%bf%97-pinyin-lyrics-and-english-translation/'},\n",
       " {'Title': 'Yamabi 亞麻比',\n",
       "  'Artist': 'Namewee 黃明志',\n",
       "  'Understandability': 63,\n",
       "  'Importance': 61,\n",
       "  'Score': -2,\n",
       "  'New Words': ['倾诉', '亚麻', '妳', '妳会'],\n",
       "  'Link': 'https://lyricspinyin.com/2019/11/16/yamabi-%e4%ba%9e%e9%ba%bb%e6%af%94-by-namewee-%e9%bb%83%e6%98%8e%e5%bf%97-pinyin-lyrics-and-english-translation/'},\n",
       " {'Title': \"Ge Chou Yan 哥抽菸(Ain't A Cigarette)\",\n",
       "  'Artist': 'Namewee 黃明志',\n",
       "  'Understandability': 55,\n",
       "  'Importance': 50,\n",
       "  'Score': -5,\n",
       "  'New Words': ['惆怅', '孤单', '菸', '流言', '争辩', '眷恋'],\n",
       "  'Link': 'https://lyricspinyin.com/2019/10/26/ge-chou-yan-%e5%93%a5%e6%8a%bd%e8%8f%b8aint-a-cigarette-by-namewee-%e9%bb%83%e6%98%8e%e5%bf%97-pinyin-lyrics-and-english-translation/'},\n",
       " {'Title': 'Jiu Shang Kou 舊傷口',\n",
       "  'Artist': 'Namewee 黃明志',\n",
       "  'Understandability': 54,\n",
       "  'Importance': 49,\n",
       "  'Score': -5,\n",
       "  'New Words': ['无怨尤',\n",
       "   '眼泪',\n",
       "   '隐隐作痛',\n",
       "   '妳',\n",
       "   '锥心',\n",
       "   '糗',\n",
       "   '失守',\n",
       "   '癒',\n",
       "   '挽留',\n",
       "   '失措',\n",
       "   '惶然',\n",
       "   '头痛'],\n",
       "  'Link': 'https://lyricspinyin.com/2019/10/05/jiu-shang-kou-%e8%88%8a%e5%82%b7%e5%8f%a3-my-old-wound-by-namewee-%e9%bb%83%e6%98%8e%e5%bf%97-pinyin-lyrics-and-english-translation/'},\n",
       " {'Title': '281 Gong Li\\xa0281公里',\n",
       "  'Artist': 'Nicholas Tse 謝霆鋒',\n",
       "  'Understandability': 59,\n",
       "  'Importance': 56,\n",
       "  'Score': -3,\n",
       "  'New Words': ['眼泪', '缠绵', '一盏', '凐'],\n",
       "  'Link': 'https://lyricspinyin.com/2020/03/18/281-gong-li-281%e5%85%ac%e9%87%8c-by-nicholas-tse-%e8%ac%9d%e9%9c%86%e9%8b%92-pinyin-lyrics-and-english-translation/'},\n",
       " {'Title': 'Sin Leung 善良',\n",
       "  'Artist': 'Nicholas Tse 謝霆鋒 Cantonese',\n",
       "  'Understandability': 47,\n",
       "  'Importance': 42,\n",
       "  'Score': -5,\n",
       "  'New Words': ['伴着',\n",
       "   '熟络',\n",
       "   '未怯',\n",
       "   '抹掉',\n",
       "   '退避',\n",
       "   '静待',\n",
       "   '交织',\n",
       "   '共聚',\n",
       "   '墟',\n",
       "   '搀扶',\n",
       "   '奉陪',\n",
       "   '跌痛',\n",
       "   '狂潮'],\n",
       "  'Link': 'https://lyricspinyin.com/2020/02/18/sin-leung-%e5%96%84%e8%89%af-by-nicholas-tse-%e8%ac%9d%e9%9c%86%e9%8b%92-cantonese-pinyin-lyrics-and-english-translation/'},\n",
       " {'Title': 'THANKS FOR THE LOVE',\n",
       "  'Artist': 'NICKTHEREAL 周湯豪',\n",
       "  'Understandability': 66,\n",
       "  'Importance': 56,\n",
       "  'Score': -10,\n",
       "  'New Words': [],\n",
       "  'Link': 'https://lyricspinyin.com/2020/08/05/thanks-for-the-love-by-nickthereal-%e5%91%a8%e6%b9%af%e8%b1%aa-pinyin-lyrics-and-english-translation/'},\n",
       " {'Title': 'Ren Jian Shi Ge 人間失格',\n",
       "  'Artist': '李玖哲',\n",
       "  'Understandability': 57,\n",
       "  'Importance': 53,\n",
       "  'Score': -4,\n",
       "  'New Words': ['瑟缩', '蠢动', '残破', '罪恶感', '霓虹', '躯壳', '自虐', '吞噬', '闪躲'],\n",
       "  'Link': 'https://lyricspinyin.com/2019/10/21/ren-jian-shi-ge-%e4%ba%ba%e9%96%93%e5%a4%b1%e6%a0%bc-by-%e6%9d%8e%e7%8e%96%e5%93%b2-pinyin-lyrics-and-english-translation/'},\n",
       " {'Title': 'Bie Zai Dui Wo Shuo 別再對我說',\n",
       "  'Artist': 'Niko Sun 孫子涵',\n",
       "  'Understandability': 56,\n",
       "  'Importance': 53,\n",
       "  'Score': -3,\n",
       "  'New Words': ['凋谢', '刺痛'],\n",
       "  'Link': 'https://lyricspinyin.com/2020/05/15/bie-zai-dui-wo-shuo-%e5%88%a5%e5%86%8d%e5%b0%8d%e6%88%91%e8%aa%aa-by-niko-sun-%e5%ad%ab%e5%ad%90%e6%b6%b5-pinyin-lyrics-and-english-translation/'},\n",
       " {'Title': 'Qi Shi 騎士',\n",
       "  'Artist': 'Nine Chen 陳零九',\n",
       "  'Understandability': 57,\n",
       "  'Importance': 56,\n",
       "  'Score': -1,\n",
       "  'New Words': ['推下', '与生俱来', '筑起', '烟霭', '尘埃', '透进来'],\n",
       "  'Link': 'https://lyricspinyin.com/2020/09/06/qi-shi-%e9%a8%8e%e5%a3%ab-by-nine-chen-%e9%99%b3%e9%9b%b6%e4%b9%9d-pinyin-lyrics-and-english-translation/'},\n",
       " {'Title': 'Lian Ren Sha 戀人殺',\n",
       "  'Artist': 'Nine Chen 陳零九 feat Butterfly 愷樂',\n",
       "  'Understandability': 54,\n",
       "  'Importance': 50,\n",
       "  'Score': -4,\n",
       "  'New Words': ['电尬',\n",
       "   '尬',\n",
       "   '无法控制',\n",
       "   '膜拜',\n",
       "   '宣叫',\n",
       "   '梗',\n",
       "   '噗通',\n",
       "   '腻在一起',\n",
       "   '配粥',\n",
       "   '太萌',\n",
       "   '命中',\n",
       "   '掰掰',\n",
       "   '菸',\n",
       "   '爆米花',\n",
       "   '毒药',\n",
       "   '孤单',\n",
       "   '废在'],\n",
       "  'Link': 'https://lyricspinyin.com/2020/09/03/lian-ren-sha-%e6%88%80%e4%ba%ba%e6%ae%ba-by-nine-chen-%e9%99%b3%e9%9b%b6%e4%b9%9d-feat-butterfly-%e6%84%b7%e6%a8%82-pinyin-lyrics-and-english-translation/'},\n",
       " {'Title': 'Jue Dui Fa Yan 絕對發言',\n",
       "  'Artist': 'Nine Chen 陳零九 & FENG ZE 邱鋒澤',\n",
       "  'Understandability': 58,\n",
       "  'Importance': 55,\n",
       "  'Score': -3,\n",
       "  'New Words': ['恍悟', '利与弊', '腼腆', '妳', '高配', '聆听', '釐'],\n",
       "  'Link': 'https://lyricspinyin.com/2020/08/07/jue-dui-fa-yan-%e7%b5%95%e5%b0%8d%e7%99%bc%e8%a8%80-by-nine-chen-%e9%99%b3%e9%9b%b6%e4%b9%9d-feng-ze-%e9%82%b1%e9%8b%92%e6%be%a4-pinyin-lyrics-and-english-translation/'},\n",
       " {'Title': 'Feng Zai 楓在',\n",
       "  'Artist': 'Nine Chen 陳零九',\n",
       "  'Understandability': 59,\n",
       "  'Importance': 57,\n",
       "  'Score': -2,\n",
       "  'New Words': ['枫叶', '尘埃', '坠落', '枫', '衣橱', '斑斓'],\n",
       "  'Link': 'https://lyricspinyin.com/2020/07/22/feng-zai-%e6%a5%93%e5%9c%a8-by-nine-chen-%e9%99%b3%e9%9b%b6%e4%b9%9d-pinyin-lyrics-and-english-translation/'},\n",
       " {'Title': 'Su Shi Ai Ging 速食愛情',\n",
       "  'Artist': '邱鋒澤 陳零九 黃偉晉 小賴',\n",
       "  'Understandability': 57,\n",
       "  'Importance': 54,\n",
       "  'Score': -3,\n",
       "  'New Words': ['端倪',\n",
       "   '撇开',\n",
       "   '郁热',\n",
       "   '妳',\n",
       "   '速食',\n",
       "   '震颤',\n",
       "   '癫狂',\n",
       "   '躁动',\n",
       "   '萌发',\n",
       "   '绑定',\n",
       "   '狂妄',\n",
       "   '酣畅淋漓',\n",
       "   '情不自禁',\n",
       "   '褪色',\n",
       "   '窒息'],\n",
       "  'Link': 'https://lyricspinyin.com/2020/04/10/su-shi-ai-ging-%e9%80%9f%e9%a3%9f%e6%84%9b%e6%83%85-by-%e9%82%b1%e9%8b%92%e6%be%a4-%e9%99%b3%e9%9b%b6%e4%b9%9d-%e9%bb%83%e5%81%89%e6%99%89-%e5%b0%8f%e8%b3%b4-pinyin-lyrics-and-english-translation/'},\n",
       " {'Title': 'Wai Tao 外套',\n",
       "  'Artist': 'Nine Chen 陳零九',\n",
       "  'Understandability': 59,\n",
       "  'Importance': 55,\n",
       "  'Score': -4,\n",
       "  'New Words': ['跌倒', '眼泪', '脑震盪', '代耶'],\n",
       "  'Link': 'https://lyricspinyin.com/2019/12/29/wai-tao-%e5%a4%96%e5%a5%97-by-nine-chen-%e9%99%b3%e9%9b%b6%e4%b9%9d-pinyin-lyrics-and-english-translation/'},\n",
       " {'Title': 'Na Ceng Jing 那曾經',\n",
       "  'Artist': '邱鋒澤 陳零九',\n",
       "  'Understandability': 50,\n",
       "  'Importance': 46,\n",
       "  'Score': -4,\n",
       "  'New Words': ['承载',\n",
       "   '荒情',\n",
       "   '妳',\n",
       "   '逞强',\n",
       "   '白纱',\n",
       "   '稍纵即逝',\n",
       "   '已逝',\n",
       "   '轻狂',\n",
       "   '紧握着',\n",
       "   '痛到',\n",
       "   '绵延'],\n",
       "  'Link': 'https://lyricspinyin.com/2019/12/17/na-ceng-jing-%e9%82%a3%e6%9b%be%e7%b6%93-by-%e9%82%b1%e9%8b%92%e6%be%a4-%e9%99%b3%e9%9b%b6%e4%b9%9d-pinyin-lyrics-and-english-translation/'},\n",
       " {'Title': 'Zai Ye Bu Yao 再也不要',\n",
       "  'Artist': '陳零九feat.韋禮安',\n",
       "  'Understandability': 53,\n",
       "  'Importance': 51,\n",
       "  'Score': -2,\n",
       "  'New Words': ['肩', '风筝', '聚成', '我盪'],\n",
       "  'Link': 'https://lyricspinyin.com/2019/12/11/zai-ye-bu-yao-%e5%86%8d%e4%b9%9f%e4%b8%8d%e8%a6%81-by-%e9%99%b3%e9%9b%b6%e4%b9%9dfeat-%e9%9f%8b%e7%a6%ae%e5%ae%89-pinyin-lyrics-and-english-translation/'},\n",
       " {'Title': 'Kan Jian Nai De Seng Yin 看見妳的聲音',\n",
       "  'Artist': 'Nine Chen 陳零九',\n",
       "  'Understandability': 58,\n",
       "  'Importance': 59,\n",
       "  'Score': 1,\n",
       "  'New Words': ['闪过', '妳', '地裂', '沈默', '天崩'],\n",
       "  'Link': 'https://lyricspinyin.com/2019/12/05/kan-jian-nai-de-seng-yin-%e7%9c%8b%e8%a6%8b%e5%a6%b3%e7%9a%84%e8%81%b2%e9%9f%b3-by-nine-chen-%e9%99%b3%e9%9b%b6%e4%b9%9d-pinyin-lyrics-and-english-translation/'},\n",
       " {'Title': 'Bing Bian 兵變',\n",
       "  'Artist': '邱鋒澤 陳零九 黃偉晉 小賴',\n",
       "  'Understandability': 52,\n",
       "  'Importance': 49,\n",
       "  'Score': -3,\n",
       "  'New Words': ['焦灼',\n",
       "   '逼问',\n",
       "   '兵变',\n",
       "   '捉摸不定',\n",
       "   '不舍',\n",
       "   '妳',\n",
       "   '造作',\n",
       "   '飘忽',\n",
       "   '食言',\n",
       "   '辗碎',\n",
       "   '浮现',\n",
       "   '消逝',\n",
       "   '紧握着',\n",
       "   '咆哮'],\n",
       "  'Link': 'https://lyricspinyin.com/2019/11/19/bing-bian-%e5%85%b5%e8%ae%8a-by-%e9%82%b1%e9%8b%92%e6%be%a4-%e9%99%b3%e9%9b%b6%e4%b9%9d-%e9%bb%83%e5%81%89%e6%99%89-%e5%b0%8f%e8%b3%b4-pinyin-lyrics-and-english-translation/'},\n",
       " {'Title': 'Guan Fang Hui Da 官方回答',\n",
       "  'Artist': 'O.WEN',\n",
       "  'Understandability': 52,\n",
       "  'Importance': 50,\n",
       "  'Score': -2,\n",
       "  'New Words': ['副歌',\n",
       "   '押韵',\n",
       "   '闭嘴',\n",
       "   '胡思乱想',\n",
       "   '高攀不起',\n",
       "   '佈',\n",
       "   '嗡嗡',\n",
       "   '叮咚',\n",
       "   '话语权',\n",
       "   '无言以对',\n",
       "   '腹背受敌',\n",
       "   '盔甲',\n",
       "   '轰鸣',\n",
       "   '向日葵',\n",
       "   '不赖',\n",
       "   '泛黄',\n",
       "   '裁掉',\n",
       "   '父辈',\n",
       "   '憧憬',\n",
       "   '损人利己',\n",
       "   '嘴巴',\n",
       "   '白旗',\n",
       "   '权衡利弊',\n",
       "   '高速公路',\n",
       "   '纽约时报',\n",
       "   '瞳孔'],\n",
       "  'Link': 'https://lyricspinyin.com/2020/07/13/guan-fang-hui-da-%e5%ae%98%e6%96%b9%e5%9b%9e%e7%ad%94-by-o-wen-pinyin-lyrics-and-english-translation/'},\n",
       " {'Title': 'Jie Da 解答',\n",
       "  'Artist': 'Oscar Tong',\n",
       "  'Understandability': 58,\n",
       "  'Importance': 56,\n",
       "  'Score': -2,\n",
       "  'New Words': ['更迭', '註', '图形', '流言蜚语', '追寻', '静待', '雏菊', '命中', '配不起'],\n",
       "  'Link': 'https://lyricspinyin.com/2020/05/14/jie-da-%e8%a7%a3%e7%ad%94-by-oscar-tong-pinyin-lyrics-and-english-translation/'},\n",
       " {'Title': 'So Bad',\n",
       "  'Artist': 'OSN 高爾宣',\n",
       "  'Understandability': 55,\n",
       "  'Importance': 54,\n",
       "  'Score': -1,\n",
       "  'New Words': ['沈默', '露馅', '妳', '药罐', '凡人', '咆哮'],\n",
       "  'Link': 'https://lyricspinyin.com/2020/08/11/so-bad-by-osn-%e9%ab%98%e7%88%be%e5%ae%a3-pinyin-lyrics-and-english-translation/'},\n",
       " {'Title': 'Ai Shang Xian Zai De Wo 愛上現在的我',\n",
       "  'Artist': '閻奕格 feat. 高爾宣OSN',\n",
       "  'Understandability': 59,\n",
       "  'Importance': 54,\n",
       "  'Score': -5,\n",
       "  'New Words': ['麻雀', '问心无愧', '透路', '变凤凰', '我订', '泪痕', '天鹅', '犯了错'],\n",
       "  'Link': 'https://lyricspinyin.com/2020/02/14/ai-shang-xian-zai-de-wo-%e6%84%9b%e4%b8%8a%e7%8f%be%e5%9c%a8%e7%9a%84%e6%88%91-by-%e9%96%bb%e5%a5%95%e6%a0%bc-feat-%e9%ab%98%e7%88%be%e5%ae%a3osn-pinyin-lyrics/'},\n",
       " {'Title': 'Zui Hou Yi Ci 最後一次',\n",
       "  'Artist': 'OSN 高爾宣',\n",
       "  'Understandability': 54,\n",
       "  'Importance': 51,\n",
       "  'Score': -3,\n",
       "  'New Words': ['无期徒刑',\n",
       "   '两败俱伤',\n",
       "   '被判',\n",
       "   '眼泪',\n",
       "   '説',\n",
       "   '佈',\n",
       "   '妳',\n",
       "   '衣袖',\n",
       "   '云彩',\n",
       "   '祸',\n",
       "   '妳在',\n",
       "   '闭上眼睛'],\n",
       "  'Link': 'https://lyricspinyin.com/2020/02/07/zui-hou-yi-ci-%e6%9c%80%e5%be%8c%e4%b8%80%e6%ac%a1-by-osn-%e9%ab%98%e7%88%be%e5%ae%a3-pinyin-lyrics-and-english-translation/'},\n",
       " {'Title': 'Without You',\n",
       "  'Artist': 'OSN 高爾宣',\n",
       "  'Understandability': 55,\n",
       "  'Importance': 54,\n",
       "  'Score': -1,\n",
       "  'New Words': ['榨干', '妳', '覆彻', '振作', '晃晃'],\n",
       "  'Link': 'https://lyricspinyin.com/2019/10/23/without-you-by-osn-%e9%ab%98%e7%88%be%e5%ae%a3-pinyin-lyrics-and-english-translation/'},\n",
       " {'Title': '讓愛高飛',\n",
       "  'Artist': 'Pakho Chau 周柏豪',\n",
       "  'Understandability': 56,\n",
       "  'Importance': 54,\n",
       "  'Score': -2,\n",
       "  'New Words': ['疲累', '荫', '忍如', '降温', '咫尺', '倾讲', '途护'],\n",
       "  'Link': 'https://lyricspinyin.com/2019/10/21/%e8%ae%93%e6%84%9b%e9%ab%98%e9%a3%9b-by-pakho-chau-%e5%91%a8%e6%9f%8f%e8%b1%aa-pinyin-lyrics-and-english-translation/'},\n",
       " {'Title': 'Wang Ji Ni 忘記你',\n",
       "  'Artist': 'Patrick Brasca 派偉俊 & Tyson Yoshi',\n",
       "  'Understandability': 64,\n",
       "  'Importance': 58,\n",
       "  'Score': -6,\n",
       "  'New Words': ['挽留'],\n",
       "  'Link': 'https://lyricspinyin.com/2020/05/16/wang-ji-ni-%e5%bf%98%e8%a8%98%e4%bd%a0-by-patrick-brasca-%e6%b4%be%e5%81%89%e4%bf%8a-tyson-yoshi-pinyin-lyrics-and-english-translation/'},\n",
       " {'Title': 'Shan Yao 山妖',\n",
       "  'Artist': 'Pi Ka Qiu Duo Duo 皮卡丘多多',\n",
       "  'Understandability': 38,\n",
       "  'Importance': 35,\n",
       "  'Score': -3,\n",
       "  'New Words': ['迢迢',\n",
       "   '一盅',\n",
       "   '炊烟袅袅',\n",
       "   '半酣',\n",
       "   '瞒天过海',\n",
       "   '人心惶惶',\n",
       "   '旅途',\n",
       "   '流言蜚语',\n",
       "   '只恋生',\n",
       "   '摇摇晃晃',\n",
       "   '太禧',\n",
       "   '独饮',\n",
       "   '山珍海味',\n",
       "   '此案',\n",
       "   '招摇',\n",
       "   '装模作样',\n",
       "   '作恶多端',\n",
       "   '铜板',\n",
       "   '饥肠辘辘',\n",
       "   '打颤',\n",
       "   '暮色',\n",
       "   '逃之夭夭',\n",
       "   '此番',\n",
       "   '堂堂',\n",
       "   '凄厉',\n",
       "   '羽衣',\n",
       "   '莫再',\n",
       "   '人善'],\n",
       "  'Link': 'https://lyricspinyin.com/2020/07/27/shan-yao-%e5%b1%b1%e5%a6%96-by-pi-ka-qiu-duo-duo-%e7%9a%ae%e5%8d%a1%e4%b8%98%e5%a4%9a%e5%a4%9a-pinyin-lyrics/'},\n",
       " {'Title': 'Wo He Ni 我和你',\n",
       "  'Artist': 'Pi Ka Qiu Duo Duo 皮卡丘多多',\n",
       "  'Understandability': 57,\n",
       "  'Importance': 50,\n",
       "  'Score': -7,\n",
       "  'New Words': ['孤单', '探险', '每秒'],\n",
       "  'Link': 'https://lyricspinyin.com/2020/05/08/wo-he-ni-%e6%88%91%e5%92%8c%e4%bd%a0-by-pi-ka-qiu-duo-duo-%e7%9a%ae%e5%8d%a1%e4%b8%98%e5%a4%9a%e5%a4%9a-pinyin-lyrics-and-english-translation/'},\n",
       " {'Title': 'Jing Lei 惊雷',\n",
       "  'Artist': 'Pi Ka Qiu Duo Duo 皮卡丘多多',\n",
       "  'Understandability': 42,\n",
       "  'Importance': 38,\n",
       "  'Score': -4,\n",
       "  'New Words': ['干坤',\n",
       "   '唿啸',\n",
       "   '君不见',\n",
       "   '颓废',\n",
       "   '无畏',\n",
       "   '红尘',\n",
       "   '尘世',\n",
       "   '命中',\n",
       "   '醉卧',\n",
       "   '八卦',\n",
       "   '千军万马',\n",
       "   '轻叹',\n",
       "   '辗转',\n",
       "   '宝剑',\n",
       "   '漆黑',\n",
       "   '温酒',\n",
       "   '轮回',\n",
       "   '显',\n",
       "   '伤悲'],\n",
       "  'Link': 'https://lyricspinyin.com/2020/05/07/jing-lei-%e6%83%8a%e9%9b%b7-by-pi-ka-qiu-duo-duo-%e7%9a%ae%e5%8d%a1%e4%b8%98%e5%a4%9a%e5%a4%9a-pinyin-lyrics/'},\n",
       " {'Title': 'Rang Wo Shou Hu Nai 讓我守護妳',\n",
       "  'Artist': 'Prince 邱勝翊',\n",
       "  'Understandability': 55,\n",
       "  'Importance': 51,\n",
       "  'Score': -4,\n",
       "  'New Words': ['彼岸', '妳', '恶梦', '逃亡', '稍纵即逝', '诅咒', '穿透'],\n",
       "  'Link': 'https://lyricspinyin.com/2020/04/03/rang-wo-shou-hu-nai-%e8%ae%93%e6%88%91%e5%ae%88%e8%ad%b7%e5%a6%b3-by-prince-%e9%82%b1%e5%8b%9d%e7%bf%8a-pinyin-lyrics-and-english-translation/'},\n",
       " {'Title': 'Xue Xia De Shi Hou 雪下的時候',\n",
       "  'Artist': 'Qiao Jia Xu 喬佳旭',\n",
       "  'Understandability': 53,\n",
       "  'Importance': 50,\n",
       "  'Score': -3,\n",
       "  'New Words': ['肆意', '医治', '冻裂', '拥过', '求饶', '痛学'],\n",
       "  'Link': 'https://lyricspinyin.com/2020/06/14/xue-xia-de-shi-hou-%e9%9b%aa%e4%b8%8b%e7%9a%84%e6%99%82%e5%80%99-by-qiao-jia-xu-%e5%96%ac%e4%bd%b3%e6%97%ad-pinyin-lyrics-and-english-translation/'},\n",
       " {'Title': 'Wo Pian Pian 我偏偏',\n",
       "  'Artist': 'Qiao Jia Xu 喬佳旭',\n",
       "  'Understandability': 69,\n",
       "  'Importance': 63,\n",
       "  'Score': -6,\n",
       "  'New Words': ['温热', '透彻', '怅然若失', '自食', '望尘莫及', '闪烁着', '失忆'],\n",
       "  'Link': 'https://lyricspinyin.com/2020/05/20/wo-pian-pian-%e6%88%91%e5%81%8f%e5%81%8f-by-qiao-jia-xu-%e5%96%ac%e4%bd%b3%e6%97%ad-pinyin-lyrics-and-english-translation/'},\n",
       " {'Title': 'Xi Huan Ni Hen Jiu 喜歡你很久',\n",
       "  'Artist': 'Qiao Xun Cheng 喬浚洆',\n",
       "  'Understandability': 61,\n",
       "  'Importance': 57,\n",
       "  'Score': -4,\n",
       "  'New Words': ['汇总', '暗恋', '伪装', '闪光', '拥入'],\n",
       "  'Link': 'https://lyricspinyin.com/2020/04/15/xi-huan-ni-hen-jiu-%e5%96%9c%e6%ad%a1%e4%bd%a0%e5%be%88%e4%b9%85-by-qiao-xun-cheng-%e5%96%ac%e6%b5%9a%e6%b4%86-pinyin-lyrics-and-english-translation/'},\n",
       " {'Title': 'Bai Chuan 白船',\n",
       "  'Artist': 'Qin Hao 秦昊 & Wang Sheng Di 王聖迪',\n",
       "  'Understandability': 57,\n",
       "  'Importance': 50,\n",
       "  'Score': -7,\n",
       "  'New Words': ['歌谣', '彼岸', '白兔', '沉入', '云天', '帆', '桂花树', '没帆'],\n",
       "  'Link': 'https://lyricspinyin.com/2020/06/28/bai-chuan-%e7%99%bd%e8%88%b9-by-qin-hao-%e7%a7%a6%e6%98%8a-wang-sheng-di-%e7%8e%8b%e8%81%96%e8%bf%aa-pinyin-lyrics-and-english-translation/'},\n",
       " {'Title': 'Ni De Hao Ren 你的好人',\n",
       "  'Artist': 'Feng Ze 邱鋒澤',\n",
       "  'Understandability': 61,\n",
       "  'Importance': 58,\n",
       "  'Score': -3,\n",
       "  'New Words': ['寂寥', '垂怜', '奢求', '捱', '争辩', '仰望'],\n",
       "  'Link': 'https://lyricspinyin.com/2020/10/01/ni-de-hao-ren-%e4%bd%a0%e7%9a%84%e5%a5%bd%e4%ba%ba-by-feng-ze-%e9%82%b1%e9%8b%92%e6%be%a4-pinyin-lyrics-and-english-translation/'},\n",
       " {'Title': 'Messed Up',\n",
       "  'Artist': 'Boon Hui Lu 文慧如 feat. Feng Ze 邱鋒澤',\n",
       "  'Understandability': 62,\n",
       "  'Importance': 57,\n",
       "  'Score': -5,\n",
       "  'New Words': ['妳是', '憧憬', '搞砸'],\n",
       "  'Link': 'https://lyricspinyin.com/2020/09/22/messed-up-by-boon-hui-lu-%e6%96%87%e6%85%a7%e5%a6%82-feat-feng-ze-%e9%82%b1%e9%8b%92%e6%be%a4-pinyin-lyrics-and-english-translation/'},\n",
       " {'Title': 'Jue Dui Fa Yan 絕對發言',\n",
       "  'Artist': 'Nine Chen 陳零九 & FENG ZE 邱鋒澤',\n",
       "  'Understandability': 58,\n",
       "  'Importance': 55,\n",
       "  'Score': -3,\n",
       "  'New Words': ['恍悟', '利与弊', '腼腆', '妳', '高配', '聆听', '釐'],\n",
       "  'Link': 'https://lyricspinyin.com/2020/08/07/jue-dui-fa-yan-%e7%b5%95%e5%b0%8d%e7%99%bc%e8%a8%80-by-nine-chen-%e9%99%b3%e9%9b%b6%e4%b9%9d-feng-ze-%e9%82%b1%e9%8b%92%e6%be%a4-pinyin-lyrics-and-english-translation/'},\n",
       " {'Title': 'Su Shi Ai Ging 速食愛情',\n",
       "  'Artist': '邱鋒澤 陳零九 黃偉晉 小賴',\n",
       "  'Understandability': 57,\n",
       "  'Importance': 54,\n",
       "  'Score': -3,\n",
       "  'New Words': ['端倪',\n",
       "   '撇开',\n",
       "   '郁热',\n",
       "   '妳',\n",
       "   '速食',\n",
       "   '震颤',\n",
       "   '癫狂',\n",
       "   '躁动',\n",
       "   '萌发',\n",
       "   '绑定',\n",
       "   '狂妄',\n",
       "   '酣畅淋漓',\n",
       "   '情不自禁',\n",
       "   '褪色',\n",
       "   '窒息'],\n",
       "  'Link': 'https://lyricspinyin.com/2020/04/10/su-shi-ai-ging-%e9%80%9f%e9%a3%9f%e6%84%9b%e6%83%85-by-%e9%82%b1%e9%8b%92%e6%be%a4-%e9%99%b3%e9%9b%b6%e4%b9%9d-%e9%bb%83%e5%81%89%e6%99%89-%e5%b0%8f%e8%b3%b4-pinyin-lyrics-and-english-translation/'},\n",
       " {'Title': 'Fan Sui Ai Ren 飯隨愛人',\n",
       "  'Artist': 'FENG ZE 邱鋒澤',\n",
       "  'Understandability': 53,\n",
       "  'Importance': 49,\n",
       "  'Score': -4,\n",
       "  'New Words': ['相隔',\n",
       "   '海角天涯',\n",
       "   '眼泪',\n",
       "   '年华',\n",
       "   '徬徨',\n",
       "   '茫茫人海',\n",
       "   '啜泣',\n",
       "   '牵挂',\n",
       "   '随爱豆',\n",
       "   '悬河',\n",
       "   '握紧',\n",
       "   '倾城',\n",
       "   '肩上',\n",
       "   '吉他'],\n",
       "  'Link': 'https://lyricspinyin.com/2020/02/28/fan-sui-ai-ren-%e9%a3%af%e9%9a%a8%e6%84%9b%e4%ba%ba-by-feng-ze-%e9%82%b1%e9%8b%92%e6%be%a4-pinyin-lyrics-and-english-translation/'},\n",
       " {'Title': 'Na Ceng Jing 那曾經',\n",
       "  'Artist': '邱鋒澤 陳零九',\n",
       "  'Understandability': 50,\n",
       "  'Importance': 46,\n",
       "  'Score': -4,\n",
       "  'New Words': ['承载',\n",
       "   '荒情',\n",
       "   '妳',\n",
       "   '逞强',\n",
       "   '白纱',\n",
       "   '稍纵即逝',\n",
       "   '已逝',\n",
       "   '轻狂',\n",
       "   '紧握着',\n",
       "   '痛到',\n",
       "   '绵延'],\n",
       "  'Link': 'https://lyricspinyin.com/2019/12/17/na-ceng-jing-%e9%82%a3%e6%9b%be%e7%b6%93-by-%e9%82%b1%e9%8b%92%e6%be%a4-%e9%99%b3%e9%9b%b6%e4%b9%9d-pinyin-lyrics-and-english-translation/'},\n",
       " {'Title': 'Bing Bian 兵變',\n",
       "  'Artist': '邱鋒澤 陳零九 黃偉晉 小賴',\n",
       "  'Understandability': 52,\n",
       "  'Importance': 49,\n",
       "  'Score': -3,\n",
       "  'New Words': ['焦灼',\n",
       "   '逼问',\n",
       "   '兵变',\n",
       "   '捉摸不定',\n",
       "   '不舍',\n",
       "   '妳',\n",
       "   '造作',\n",
       "   '飘忽',\n",
       "   '食言',\n",
       "   '辗碎',\n",
       "   '浮现',\n",
       "   '消逝',\n",
       "   '紧握着',\n",
       "   '咆哮'],\n",
       "  'Link': 'https://lyricspinyin.com/2019/11/19/bing-bian-%e5%85%b5%e8%ae%8a-by-%e9%82%b1%e9%8b%92%e6%be%a4-%e9%99%b3%e9%9b%b6%e4%b9%9d-%e9%bb%83%e5%81%89%e6%99%89-%e5%b0%8f%e8%b3%b4-pinyin-lyrics-and-english-translation/'},\n",
       " {'Title': 'Bie Dui Wo Shuo Yi Hou 別對我說以後',\n",
       "  'Artist': '邱鋒澤',\n",
       "  'Understandability': 55,\n",
       "  'Importance': 52,\n",
       "  'Score': -3,\n",
       "  'New Words': ['碎屑',\n",
       "   '曾握',\n",
       "   '虚无缥缈',\n",
       "   '指尖',\n",
       "   '退潮',\n",
       "   '余温',\n",
       "   '年华',\n",
       "   '一颦一笑',\n",
       "   '缭绕',\n",
       "   '游移',\n",
       "   '藏匿',\n",
       "   '咆哮'],\n",
       "  'Link': 'https://lyricspinyin.com/2019/10/31/bie-dui-wo-shuo-yi-hou-%e5%88%a5%e5%b0%8d%e6%88%91%e8%aa%aa%e4%bb%a5%e5%be%8c-by-%e9%82%b1%e9%8b%92%e6%be%a4-pinyin-lyrics-and-english-translation/'},\n",
       " {'Title': 'Yu Yan Jia 預言家',\n",
       "  'Artist': 'FENG ZE 邱鋒澤',\n",
       "  'Understandability': 60,\n",
       "  'Importance': 60,\n",
       "  'Score': 0,\n",
       "  'New Words': ['看透', '蒙上', '无所畏惧', '坦荡', '紧握', '回盪', '预言家', '虚实'],\n",
       "  'Link': 'https://lyricspinyin.com/2019/10/31/yu-yan-jia-%e9%a0%90%e8%a8%80%e5%ae%b6-by-feng-ze-%e9%82%b1%e9%8b%92%e6%be%a4-pinyin-lyrics-and-english-translation/'},\n",
       " {'Title': 'Tian Hei Qing Bi Yan 天黑請閉眼',\n",
       "  'Artist': '陳零九 邱鋒澤',\n",
       "  'Understandability': 54,\n",
       "  'Importance': 50,\n",
       "  'Score': -4,\n",
       "  'New Words': ['女巫',\n",
       "   '闭眼',\n",
       "   '亏欠',\n",
       "   '别恍神',\n",
       "   '轮回',\n",
       "   '爱恋',\n",
       "   '沉沦',\n",
       "   '妳',\n",
       "   '测不出',\n",
       "   '手屠神',\n",
       "   '尔虞我诈',\n",
       "   '毒药',\n",
       "   '手牵着'],\n",
       "  'Link': 'https://lyricspinyin.com/2019/10/26/tian-hei-qing-bi-yan-%e5%a4%a9%e9%bb%91%e8%ab%8b%e9%96%89%e7%9c%bc-by-%e9%99%b3%e9%9b%b6%e4%b9%9d-%e9%82%b1%e9%8b%92%e6%be%a4-pinyin-lyrics-and-english-translation/'},\n",
       " {'Title': 'Wu Fang 無妨',\n",
       "  'Artist': 'Pika Chiu 邱振哲',\n",
       "  'Understandability': 61,\n",
       "  'Importance': 61,\n",
       "  'Score': 0,\n",
       "  'New Words': ['逞强', '戏未播', '慌当', '无妨'],\n",
       "  'Link': 'https://lyricspinyin.com/2019/11/29/wu-fang-%e7%84%a1%e5%a6%a8-by-pika-chiu-%e9%82%b1%e6%8c%af%e5%93%b2-pinyin-lyrics-and-english-translation/'},\n",
       " {'Title': 'Na Ceng Jing 那曾經',\n",
       "  'Artist': 'Lyrics',\n",
       "  'Understandability': 50,\n",
       "  'Importance': 46,\n",
       "  'Score': -4,\n",
       "  'New Words': ['承载',\n",
       "   '荒情',\n",
       "   '妳',\n",
       "   '逞强',\n",
       "   '白纱',\n",
       "   '稍纵即逝',\n",
       "   '已逝',\n",
       "   '轻狂',\n",
       "   '紧握着',\n",
       "   '痛到',\n",
       "   '绵延'],\n",
       "  'Link': 'https://lyricspinyin.com/2019/10/31/na-ceng-jing-%e9%82%a3%e6%9b%be%e7%b6%93-pinyin-lyrics-by-%e9%82%b1%e9%8b%92%e6%be%a4-%e9%99%b3%e9%9b%b6%e4%b9%9d-pinyin-lyrics-and-english-translation/'},\n",
       " {'Title': 'Tai Yang 太陽',\n",
       "  'Artist': 'Qiu Zhen Zhe 邱振哲',\n",
       "  'Understandability': 56,\n",
       "  'Importance': 52,\n",
       "  'Score': -4,\n",
       "  'New Words': ['无畏', '伪装', '不痛', '落寞', '触碰', '逞强', '迷惘'],\n",
       "  'Link': 'https://lyricspinyin.com/2019/09/27/tai-yang-%e5%a4%aa%e9%99%bd-by-qiu-zhen-zhe-%e9%82%b1%e6%8c%af%e5%93%b2-pinyin-lyrics-and-english-translation/'},\n",
       " {'Title': 'Gou Ai 夠愛2.0',\n",
       "  'Artist': 'R-chord 謝和弦',\n",
       "  'Understandability': 52,\n",
       "  'Importance': 50,\n",
       "  'Score': -2,\n",
       "  'New Words': ['木星', '眼泪', '追寻', '魂魄', '土星', '穿梭', '退缩', '懦弱', '化为乌有', '指甲油'],\n",
       "  'Link': 'https://lyricspinyin.com/2020/09/23/gou-ai-%e5%a4%a0%e6%84%9b2-0-by-r-chord-%e8%ac%9d%e5%92%8c%e5%bc%a6-pinyin-lyrics-and-english-translation/'},\n",
       " {'Title': 'Xiao Xing Xing 小星星',\n",
       "  'Artist': 'Liya 莉婭 feat R-Chord 謝和弦Pinyin Lyrics And English Translation\\xa0 - Lyrics Pinyin',\n",
       "  'Understandability': 51,\n",
       "  'Importance': 49,\n",
       "  'Score': -2,\n",
       "  'New Words': ['肩', '佔', '亮晶晶', '一闪', '垄罩', '透出', '仰望'],\n",
       "  'Link': 'https://lyricspinyin.com/2020/04/23/xiao-xing-xing-%e5%b0%8f%e6%98%9f%e6%98%9f-by-liya-%e8%8e%89%e5%a9%ad-feat-r-chord-%e8%ac%9d%e5%92%8c%e5%bc%a6pinyin-lyrics-and-english-translation/'},\n",
       " {'Title': 'Shuo Yao Pei Wo 說要陪我',\n",
       "  'Artist': 'R-Chord 謝和弦',\n",
       "  'Understandability': 72,\n",
       "  'Importance': 65,\n",
       "  'Score': -7,\n",
       "  'New Words': [],\n",
       "  'Link': 'https://lyricspinyin.com/2020/04/14/shuo-yao-pei-wo-%e8%aa%aa%e8%a6%81%e9%99%aa%e6%88%91-by-r-chord-%e8%ac%9d%e5%92%8c%e5%bc%a6-pinyin-lyrics-and-english-translation/'},\n",
       " {'Title': 'Nai Ceng Jing Rang Wo Xin Dong 妳曾經讓我心動',\n",
       "  'Artist': 'R-Chord 謝和弦',\n",
       "  'Understandability': 59,\n",
       "  'Importance': 55,\n",
       "  'Score': -4,\n",
       "  'New Words': ['彿', '飘逸', '妳'],\n",
       "  'Link': 'https://lyricspinyin.com/2020/04/07/nai-ceng-jing-rang-wo-xin-dong-%e5%a6%b3%e6%9b%be%e7%b6%93%e8%ae%93%e6%88%91%e5%bf%83%e5%8b%95-by-r-chord-%e8%ac%9d%e5%92%8c%e5%bc%a6-pinyin-lyrics-and-english-translation/'},\n",
       " {'Title': 'Mu Yang Ren 牧羊人',\n",
       "  'Artist': 'R-chord 謝和弦',\n",
       "  'Understandability': 58,\n",
       "  'Importance': 51,\n",
       "  'Score': -7,\n",
       "  'New Words': ['牧羊人', '吶喊', '无止尽', '令人窒息', '唿', '原野', '热忱'],\n",
       "  'Link': 'https://lyricspinyin.com/2019/11/20/mu-yang-ren-%e7%89%a7%e7%be%8a%e4%ba%ba-by-r-chord-%e8%ac%9d%e5%92%8c%e5%bc%a6-pinyin-lyrics-and-english-translation/'},\n",
       " {'Title': 'Xiang Ni La 想你啦',\n",
       "  'Artist': 'Richie Jen 任賢齊',\n",
       "  'Understandability': 55,\n",
       "  'Importance': 52,\n",
       "  'Score': -3,\n",
       "  'New Words': ['天涯海角', '多言', '肩', '时过境迁', '微风', '珍藏', '吉他'],\n",
       "  'Link': 'https://lyricspinyin.com/2020/07/09/xiang-ni-la-%e6%83%b3%e4%bd%a0%e5%95%a6-by-richie-jen-%e4%bb%bb%e8%b3%a2%e9%bd%8a-pinyin-lyrics-and-english-translation/'},\n",
       " {'Title': 'Ru Guo Wo Shi Hai 如果我是海',\n",
       "  'Artist': 'Ronghao Li 李榮浩',\n",
       "  'Understandability': 54,\n",
       "  'Importance': 49,\n",
       "  'Score': -5,\n",
       "  'New Words': ['尘埃', '恢复正常', '嚼', '退潮', '海龟', '扛下来'],\n",
       "  'Link': 'https://lyricspinyin.com/2020/07/30/ru-guo-wo-shi-hai-%e5%a6%82%e6%9e%9c%e6%88%91%e6%98%af%e6%b5%b7-by-ronghao-li-%e6%9d%8e%e6%a6%ae%e6%b5%a9-pinyin-lyrics-and-english-translation/'},\n",
       " {'Title': 'Ba Ba Ma Ma 爸爸媽媽',\n",
       "  'Artist': 'Ronghao Li 李榮浩',\n",
       "  'Understandability': 57,\n",
       "  'Importance': 54,\n",
       "  'Score': -3,\n",
       "  'New Words': ['亏欠', '腼腆', '要强', '渡过', '坎坷', '恩重如山', '轻狂'],\n",
       "  'Link': 'https://lyricspinyin.com/2020/07/24/ba-ba-ma-ma-%e7%88%b8%e7%88%b8%e5%aa%bd%e5%aa%bd-by-ronghao-li-%e6%9d%8e%e6%a6%ae%e6%b5%a9-pinyin-lyrics-and-english-translation/'},\n",
       " {'Title': 'Jie Yan 戒菸',\n",
       "  'Artist': 'Ronghao Li 李榮浩',\n",
       "  'Understandability': 65,\n",
       "  'Importance': 60,\n",
       "  'Score': -5,\n",
       "  'New Words': ['倾诉', '锋芒'],\n",
       "  'Link': 'https://lyricspinyin.com/2020/07/21/jie-yan-%e6%88%92%e8%8f%b8-by-ronghao-li-%e6%9d%8e%e6%a6%ae%e6%b5%a9-pinyin-lyrics-and-english-translation/'},\n",
       " {'Title': 'Yao Wo Zen Me Ban 要我怎麼辦',\n",
       "  'Artist': 'Ronghao Li 李榮浩',\n",
       "  'Understandability': 51,\n",
       "  'Importance': 37,\n",
       "  'Score': -14,\n",
       "  'New Words': ['呵呵'],\n",
       "  'Link': 'https://lyricspinyin.com/2020/07/08/yao-wo-zen-me-ban-%e8%a6%81%e6%88%91%e6%80%8e%e9%ba%bc%e8%be%a6-by-ronghao-li-%e6%9d%8e%e6%a6%ae%e6%b5%a9-pinyin-lyrics-and-english-translation/'},\n",
       " {'Title': 'Zai Yi Qi Ma Hao Bu Hao 在一起嘛好不好',\n",
       "  'Artist': 'Ronghao Li 李榮浩',\n",
       "  'Understandability': 58,\n",
       "  'Importance': 53,\n",
       "  'Score': -5,\n",
       "  'New Words': ['还嘟', '巷子', '爆米花', '聊天记录', '赴约'],\n",
       "  'Link': 'https://lyricspinyin.com/2020/06/03/zai-yi-qi-ma-hao-bu-hao-%e5%9c%a8%e4%b8%80%e8%b5%b7%e5%98%9b%e5%a5%bd%e4%b8%8d%e5%a5%bd-by-ronghao-li-%e6%9d%8e%e6%a6%ae%e6%b5%a9-pinyin-lyrics-and-english-translation/'},\n",
       " {'Title': 'Wo Ai Ni 我愛你',\n",
       "  'Artist': 'Ronghao Li 李榮浩',\n",
       "  'Understandability': 56,\n",
       "  'Importance': 53,\n",
       "  'Score': -3,\n",
       "  'New Words': ['孤寂',\n",
       "   '芦苇',\n",
       "   '剎那短',\n",
       "   '罗密欧',\n",
       "   '风筝',\n",
       "   '下融',\n",
       "   '从头到尾',\n",
       "   '喽',\n",
       "   '野火烧',\n",
       "   '叹息',\n",
       "   '朱丽叶',\n",
       "   '退耶天'],\n",
       "  'Link': 'https://lyricspinyin.com/2020/04/21/wo-ai-ni-%e6%88%91%e6%84%9b%e4%bd%a0-by-ronghao-li-%e6%9d%8e%e6%a6%ae%e6%b5%a9-pinyin-lyrics/'},\n",
       " {'Title': 'Deng Zhe Deng Zhe Jiu Lao Le 等著等著就老了',\n",
       "  'Artist': 'Ronghao Li 李榮浩',\n",
       "  'Understandability': 61,\n",
       "  'Importance': 57,\n",
       "  'Score': -4,\n",
       "  'New Words': ['匆匆忙忙', '海誓山盟'],\n",
       "  'Link': 'https://lyricspinyin.com/2020/03/16/deng-zhe-deng-zhe-jiu-lao-le-%e7%ad%89%e8%91%97%e7%ad%89%e8%91%97%e5%b0%b1%e8%80%81%e4%ba%86-by-ronghao-li-%e6%9d%8e%e6%a6%ae%e6%b5%a9-pinyin-lyrics-and-english-translation/'},\n",
       " {'Title': 'Liang Ge Pu Pu Tong Tong Xiao Qing Nian 兩個普普通通小青年',\n",
       "  'Artist': 'Ronghao Li 李榮浩',\n",
       "  'Understandability': 51,\n",
       "  'Importance': 47,\n",
       "  'Score': -4,\n",
       "  'New Words': ['普普通通', '翻来覆去', '高雅', '哌噪', '抬杠', '姜茶', '和絃', '懂嘻哈', '古典文学'],\n",
       "  'Link': 'https://lyricspinyin.com/2020/02/13/liang-ge-pu-pu-tong-tong-xiao-qing-nian-%e5%85%a9%e5%80%8b%e6%99%ae%e6%99%ae%e9%80%9a%e9%80%9a%e5%b0%8f%e9%9d%92%e5%b9%b4-by-ronghao-li-%e6%9d%8e%e6%a6%ae%e6%b5%a9-pinyin-lyrics/'},\n",
       " {'Title': 'Tong Gen 同根',\n",
       "  'Artist': 'Ronghao Li 李榮浩',\n",
       "  'Understandability': 56,\n",
       "  'Importance': 53,\n",
       "  'Score': -3,\n",
       "  'New Words': ['舍不得你',\n",
       "   '天有不测风云',\n",
       "   '蹟',\n",
       "   '沉沦',\n",
       "   '蠢蠢欲动',\n",
       "   '唿吸',\n",
       "   '舍命',\n",
       "   '海阔天空',\n",
       "   '手牵着'],\n",
       "  'Link': 'https://lyricspinyin.com/2020/02/05/tong-gen-%e5%90%8c%e6%a0%b9-by-ronghao-li-%e6%9d%8e%e6%a6%ae%e6%b5%a9-pinyin-lyrics-and-english-translation/'},\n",
       " {'Title': 'Lao You Ji 老友記',\n",
       "  'Artist': 'Ronghao Li 李榮浩',\n",
       "  'Understandability': 55,\n",
       "  'Importance': 50,\n",
       "  'Score': -5,\n",
       "  'New Words': ['八卦', '把酒言欢', '叙叙旧', '通宵'],\n",
       "  'Link': 'https://lyricspinyin.com/2019/12/21/lao-you-ji-%e8%80%81%e5%8f%8b%e8%a8%98-by-ronghao-li-%e6%9d%8e%e6%a6%ae%e6%b5%a9-pinyin-lyrics-and-english-translation/'},\n",
       " {'Title': 'Yi Ge Ren Xiang Zhe Yi Ge Ren 一個人想著一個人',\n",
       "  'Artist': 'Ru Yi 如懿',\n",
       "  'Understandability': 57,\n",
       "  'Importance': 52,\n",
       "  'Score': -5,\n",
       "  'New Words': ['恍如', '眼泪', '憔悴'],\n",
       "  'Link': 'https://lyricspinyin.com/2020/09/13/yi-ge-ren-xiang-zhe-yi-ge-ren-%e4%b8%80%e5%80%8b%e4%ba%ba%e6%83%b3%e8%91%97%e4%b8%80%e5%80%8b%e4%ba%ba-by-ru-yi-%e5%a6%82%e6%87%bf-pinyin-lyrics-and-english-translation/'},\n",
       " {'Title': 'Yi Lei 異類',\n",
       "  'Artist': 'Ryan.B 永彬',\n",
       "  'Understandability': 61,\n",
       "  'Importance': 58,\n",
       "  'Score': -3,\n",
       "  'New Words': ['左臂', '彪悍', '紧握', '更有意义', '疯子', '桀骜不驯'],\n",
       "  'Link': 'https://lyricspinyin.com/2020/08/24/yi-lei-%e7%95%b0%e9%a1%9e-by-ryan-b-%e6%b0%b8%e5%bd%ac-pinyin-lyrics-and-english-translation/'},\n",
       " {'Title': 'Mei You Li You 沒有理由',\n",
       "  'Artist': 'Ryan.B & Effie 周延英',\n",
       "  'Understandability': 68,\n",
       "  'Importance': 63,\n",
       "  'Score': -5,\n",
       "  'New Words': ['挽留'],\n",
       "  'Link': 'https://lyricspinyin.com/2019/11/21/mei-you-li-you-%e6%b2%92%e6%9c%89%e7%90%86%e7%94%b1-by-ryan-b-effie-%e5%91%a8%e5%bb%b6%e8%8b%b1-pinyin-lyrics-and-english-translation/'},\n",
       " {'Title': 'Fang Ge Da Zhao Gei Ni Kan 放個大招給你看',\n",
       "  'Artist': 'Ryan.B 永彬',\n",
       "  'Understandability': 55,\n",
       "  'Importance': 48,\n",
       "  'Score': -7,\n",
       "  'New Words': ['缺氧', '抓狂', '绝招'],\n",
       "  'Link': 'https://lyricspinyin.com/2019/11/19/fang-ge-da-zhao-gei-ni-kan-%e6%94%be%e5%80%8b%e5%a4%a7%e6%8b%9b%e7%b5%a6%e4%bd%a0%e7%9c%8b-by-ryan-b-%e6%b0%b8%e5%bd%ac-pinyin-lyrics-and-english-translation/'},\n",
       " {'Title': 'Xiang Ji le 像極了',\n",
       "  'Artist': 'Ryan.B 永彬',\n",
       "  'Understandability': 62,\n",
       "  'Importance': 57,\n",
       "  'Score': -5,\n",
       "  'New Words': ['湖面', '记忆犹新', '脸映'],\n",
       "  'Link': 'https://lyricspinyin.com/2019/11/17/xiang-ji-le-%e5%83%8f%e6%a5%b5%e4%ba%86-by-ryan-b-%e6%b0%b8%e5%bd%ac-pinyin-lyrics-and-english-translation/'},\n",
       " {'Title': 'Lu Hang De Ai Qing 旅行的爱情',\n",
       "  'Artist': 'Samuel 사무엘',\n",
       "  'Understandability': 56,\n",
       "  'Importance': 54,\n",
       "  'Score': -2,\n",
       "  'New Words': ['明悟些', '渐渐', '海鸥', '纷乱', '耗尽', '默契', '重逢'],\n",
       "  'Link': 'https://lyricspinyin.com/2019/12/10/lu-hang-de-ai-qing-%e6%97%85%e8%a1%8c%e7%9a%84%e7%88%b1%e6%83%85-by-samuel-%ec%82%ac%eb%ac%b4%ec%97%98-pinyin-lyrics-and-english-translation/'},\n",
       " {'Title': 'Xun Qing De Mo Xiang Jing 殉情的抹香鯨',\n",
       "  'Artist': 'San Kuai Mu Tou 三塊木頭',\n",
       "  'Understandability': 54,\n",
       "  'Importance': 53,\n",
       "  'Score': -1,\n",
       "  'New Words': ['抹香鲸', '历久弥新', '博弈', '孤寂', '殉情', '闪动', '光源'],\n",
       "  'Link': 'https://lyricspinyin.com/2020/09/20/xun-qing-de-mo-xiang-jing-%e6%ae%89%e6%83%85%e7%9a%84%e6%8a%b9%e9%a6%99%e9%af%a8-by-san-kuai-mu-tou-%e4%b8%89%e5%a1%8a%e6%9c%a8%e9%a0%ad-pinyin-lyrics-and-english-translation/'},\n",
       " {'Title': 'Yu 雨',\n",
       "  'Artist': 'Shen Yi Cheng 沈以誠',\n",
       "  'Understandability': 60,\n",
       "  'Importance': 53,\n",
       "  'Score': -7,\n",
       "  'New Words': ['肆意', '淅沥', '流淌'],\n",
       "  'Link': 'https://lyricspinyin.com/2020/09/08/yu-%e9%9b%a8-by-shen-yi-cheng-%e6%b2%88%e4%bb%a5%e8%aa%a0-pinyin-lyrics-and-english-translation/'},\n",
       " {'Title': 'Xing Rong 形容',\n",
       "  'Artist': 'Shen Yi Cheng 沈以誠',\n",
       "  'Understandability': 49,\n",
       "  'Importance': 44,\n",
       "  'Score': -5,\n",
       "  'New Words': ['宿命',\n",
       "   '枝丫',\n",
       "   '冥冥中',\n",
       "   '油画',\n",
       "   '抚平',\n",
       "   '手掌心',\n",
       "   '不可自拔',\n",
       "   '苍苍',\n",
       "   '闪出',\n",
       "   '逆着',\n",
       "   '沖',\n",
       "   '古老',\n",
       "   '擡',\n",
       "   '细腻',\n",
       "   '错综复杂',\n",
       "   '晚霞',\n",
       "   '悠长'],\n",
       "  'Link': 'https://lyricspinyin.com/2020/05/12/xing-rong-%e5%bd%a2%e5%ae%b9-by-shen-yi-cheng-%e6%b2%88%e4%bb%a5%e8%aa%a0-pinyin-lyrics-and-english-translation/'},\n",
       " {'Title': 'Bu Ke Neng Zai Yu Jian 不可能再遇見',\n",
       "  'Artist': 'Sheng Yu 勝嶼',\n",
       "  'Understandability': 62,\n",
       "  'Importance': 59,\n",
       "  'Score': -3,\n",
       "  'New Words': ['伪装', '入木三分', '方寸', '愚笨', '泪流', '言语', '捂住', '哽咽', '强忍'],\n",
       "  'Link': 'https://lyricspinyin.com/2020/07/11/bu-ke-neng-zai-yu-jian-%e4%b8%8d%e5%8f%af%e8%83%bd%e5%86%8d%e9%81%87%e8%a6%8b-by-sheng-yu-%e5%8b%9d%e5%b6%bc-pinyin-lyrics-and-english-translation/'},\n",
       " {'Title': 'Jiang Ge Xiao Hua 講個笑話',\n",
       "  'Artist': 'Silence Wang 汪蘇瀧 & THE9 -謝可寅 Shaking',\n",
       "  'Understandability': 61,\n",
       "  'Importance': 56,\n",
       "  'Score': -5,\n",
       "  'New Words': ['女巫',\n",
       "   '倾诉',\n",
       "   '玫瑰',\n",
       "   '孤寂',\n",
       "   '黑屏',\n",
       "   '小王子',\n",
       "   '弗兰克',\n",
       "   '发芽',\n",
       "   '狐狸',\n",
       "   '唿吸',\n",
       "   '谭市',\n",
       "   '刺痛'],\n",
       "  'Link': 'https://lyricspinyin.com/2020/08/30/jiang-ge-xiao-hua-%e8%ac%9b%e5%80%8b%e7%ac%91%e8%a9%b1-by-silence-wang-%e6%b1%aa%e8%98%87%e7%80%a7-the9-%e8%ac%9d%e5%8f%af%e5%af%85-shaking-pinyin-lyrics-and-english-translation/'},\n",
       " {'Title': 'Yu Le Shi Dai 娛樂世代',\n",
       "  'Artist': 'Silence Wang 汪蘇瀧',\n",
       "  'Understandability': 55,\n",
       "  'Importance': 50,\n",
       "  'Score': -5,\n",
       "  'New Words': ['掌声',\n",
       "   '蹦蹦',\n",
       "   '幻灭',\n",
       "   '永恆',\n",
       "   '这一跃',\n",
       "   '一秒',\n",
       "   '一抹',\n",
       "   '燃起',\n",
       "   '灯灭',\n",
       "   '唿唤',\n",
       "   '炙热',\n",
       "   '蹦蹦跳',\n",
       "   '疯魔',\n",
       "   '一跤',\n",
       "   '扑倒',\n",
       "   '遮住',\n",
       "   '高亢',\n",
       "   '宽阔',\n",
       "   '嘴巴',\n",
       "   '粉墨',\n",
       "   '胡来'],\n",
       "  'Link': 'https://lyricspinyin.com/2020/08/22/yu-le-shi-dai-%e5%a8%9b%e6%a8%82%e4%b8%96%e4%bb%a3-by-silence-wang-%e6%b1%aa%e8%98%87%e7%80%a7-pinyin-lyrics/'},\n",
       " {'Title': 'Zhu Wo Kuai Le 祝我快樂',\n",
       "  'Artist': 'Silence Wang 汪蘇瀧',\n",
       "  'Understandability': 64,\n",
       "  'Importance': 62,\n",
       "  'Score': -2,\n",
       "  'New Words': ['註', '抚平', '孤单'],\n",
       "  'Link': 'https://lyricspinyin.com/2020/08/01/zhu-wo-kuai-le-%e7%a5%9d%e6%88%91%e5%bf%ab%e6%a8%82-by-silence-wang-%e6%b1%aa%e8%98%87%e7%80%a7-pinyin-lyrics-and-english-translation/'},\n",
       " {'Title': 'Bu Fu 不服',\n",
       "  'Artist': 'Youth With You 青春有你 & Silence Wang\\xa0汪蘇瀧',\n",
       "  'Understandability': 49,\n",
       "  'Importance': 48,\n",
       "  'Score': -1,\n",
       "  'New Words': ['傲骨',\n",
       "   '眼泪',\n",
       "   '谜',\n",
       "   '醍醐灌顶',\n",
       "   '煳',\n",
       "   '偏当',\n",
       "   '自言自语',\n",
       "   '尖刺',\n",
       "   '忍住',\n",
       "   '扛起',\n",
       "   '赌',\n",
       "   '悲怆',\n",
       "   '退缩',\n",
       "   '懦弱',\n",
       "   '唿吸',\n",
       "   '不嫉妒',\n",
       "   '歇斯底里',\n",
       "   '嵴',\n",
       "   '双肺',\n",
       "   '反骨',\n",
       "   '疯子',\n",
       "   '暴风雨',\n",
       "   '归途',\n",
       "   '窒息'],\n",
       "  'Link': 'https://lyricspinyin.com/2020/05/26/bu-fu-%e4%b8%8d%e6%9c%8d-by-youth-with-you-%e9%9d%92%e6%98%a5%e6%9c%89%e4%bd%a0-silence-wang-%e6%b1%aa%e8%98%87%e7%80%a7-pinyin-lyrics-and-english-translation/'},\n",
       " {'Title': 'Wan You Yin Li 萬有引力',\n",
       "  'Artist': 'Silence Wang 汪蘇瀧',\n",
       "  'Understandability': 51,\n",
       "  'Importance': 49,\n",
       "  'Score': -2,\n",
       "  'New Words': ['草莓',\n",
       "   '巧克力',\n",
       "   '註',\n",
       "   '圆舞曲',\n",
       "   '闷',\n",
       "   '命中',\n",
       "   '丘比特',\n",
       "   '冰淇淋',\n",
       "   '肖邦',\n",
       "   '眯着',\n",
       "   '撑伞'],\n",
       "  'Link': 'https://lyricspinyin.com/2020/05/14/wan-you-yin-li-%e8%90%ac%e6%9c%89%e5%bc%95%e5%8a%9b-by-silence-wang-%e6%b1%aa%e8%98%87%e7%80%a7-pinyin-lyrics-and-english-translation/'},\n",
       " {'Title': 'You Dian Tian 有點甜',\n",
       "  'Artist': 'Silence Wang 汪蘇瀧 & BY2',\n",
       "  'Understandability': 54,\n",
       "  'Importance': 52,\n",
       "  'Score': -2,\n",
       "  'New Words': ['副歌', '米开朗基罗', '心窝', '週末', '粉红色', '干枯', '癒'],\n",
       "  'Link': 'https://lyricspinyin.com/2020/05/10/you-dian-tian-%e6%9c%89%e9%bb%9e%e7%94%9c-by-silence-wang-%e6%b1%aa%e8%98%87%e7%80%a7-by2-pinyin-lyrics-and-english-translation/'},\n",
       " {'Title': 'Shao Nian Xia 少年俠',\n",
       "  'Artist': 'Silence Wang 汪蘇瀧',\n",
       "  'Understandability': 35,\n",
       "  'Importance': 32,\n",
       "  'Score': -3,\n",
       "  'New Words': ['苍生',\n",
       "   '伤疤',\n",
       "   '万箭于',\n",
       "   '花绽放',\n",
       "   '善恶',\n",
       "   '朱砂',\n",
       "   '沧海',\n",
       "   '征伐',\n",
       "   '风云',\n",
       "   '浮云',\n",
       "   '笑靥',\n",
       "   '阑珊处',\n",
       "   '烟霞',\n",
       "   '有泪',\n",
       "   '天命',\n",
       "   '牵挂',\n",
       "   '作罢',\n",
       "   '浪迹天涯',\n",
       "   '纵马',\n",
       "   '任添',\n",
       "   '为侠',\n",
       "   '一剎'],\n",
       "  'Link': 'https://lyricspinyin.com/2020/04/24/shao-nian-xia-%e5%b0%91%e5%b9%b4%e4%bf%a0-by-silence-wang-%e6%b1%aa%e8%98%87%e7%80%a7-pinyin-lyrics/'},\n",
       " {'Title': 'Pian Pian 偏偏',\n",
       "  'Artist': '迪麗熱巴 汪蘇瀧',\n",
       "  'Understandability': 46,\n",
       "  'Importance': 44,\n",
       "  'Score': -2,\n",
       "  'New Words': ['情亦',\n",
       "   '挂牵',\n",
       "   '更迭',\n",
       "   '未了',\n",
       "   '成茧',\n",
       "   '红尘',\n",
       "   '隔世',\n",
       "   '缠缠绵绵',\n",
       "   '摇曳',\n",
       "   '褪尽',\n",
       "   '亏欠',\n",
       "   '蜕变',\n",
       "   '初见',\n",
       "   '成卷',\n",
       "   '润色',\n",
       "   '重逢',\n",
       "   '孤单',\n",
       "   '心弦'],\n",
       "  'Link': 'https://lyricspinyin.com/2020/03/12/pian-pian-%e5%81%8f%e5%81%8f-by-%e8%bf%aa%e9%ba%97%e7%86%b1%e5%b7%b4-%e6%b1%aa%e8%98%87%e7%80%a7-pinyin-lyrics/'},\n",
       " {'Title': 'Ni Zou 你走',\n",
       "  'Artist': 'Song Jin Xian Sheng 鬆緊先生（李宗錦）Pinyin Lyrics And English Translation - Lyrics Pinyin',\n",
       "  'Understandability': 64,\n",
       "  'Importance': 57,\n",
       "  'Score': -7,\n",
       "  'New Words': ['挽留', '牵住'],\n",
       "  'Link': 'https://lyricspinyin.com/2020/08/02/ni-zou-%e4%bd%a0%e8%b5%b0-by-song-jin-xian-sheng-%e9%ac%86%e7%b7%8a%e5%85%88%e7%94%9f%ef%bc%88%e6%9d%8e%e5%ae%97%e9%8c%a6%ef%bc%89pinyin-lyrics-and-english-translation/'},\n",
       " {'Title': 'Dao Bu Ru Shuo Fen Kai 倒不如說分開',\n",
       "  'Artist': '季彥霖 蘇琛',\n",
       "  'Understandability': 58,\n",
       "  'Importance': 56,\n",
       "  'Score': -2,\n",
       "  'New Words': ['几轮', '退缩', '重温'],\n",
       "  'Link': 'https://lyricspinyin.com/2019/11/29/dao-bu-ru-shuo-fen-kai-%e5%80%92%e4%b8%8d%e5%a6%82%e8%aa%aa%e5%88%86%e9%96%8b-by-%e5%ad%a3%e5%bd%a5%e9%9c%96-%e8%98%87%e7%90%9b-pinyin-lyrics-and-english-translation/'},\n",
       " {'Title': 'Yu Sheng Bu Da Rao 餘生不打擾',\n",
       "  'Artist': 'Su Li 蘇櫟',\n",
       "  'Understandability': 58,\n",
       "  'Importance': 53,\n",
       "  'Score': -5,\n",
       "  'New Words': ['难熬', '肆意', '云散', '良药', '一剂', '攒够'],\n",
       "  'Link': 'https://lyricspinyin.com/2020/01/18/yu-sheng-bu-da-rao-%e9%a4%98%e7%94%9f%e4%b8%8d%e6%89%93%e6%93%be-by-su-li-%e8%98%87%e6%ab%9f-pinyin-lyrics-and-english-translation/'},\n",
       " {'Title': 'Ni De Qing Ge 你的情歌',\n",
       "  'Artist': 'TANK',\n",
       "  'Understandability': 60,\n",
       "  'Importance': 57,\n",
       "  'Score': -3,\n",
       "  'New Words': ['沈默', '心如刀割', '余温', '微风', '吞噬', '褪色'],\n",
       "  'Link': 'https://lyricspinyin.com/2020/01/15/ni-de-qing-ge-%e4%bd%a0%e7%9a%84%e6%83%85%e6%ad%8c-by-tank-pinyin-lyrics-and-english-translation/'},\n",
       " {'Title': 'Zhen Bian Ren 枕邊人',\n",
       "  'Artist': 'Tiger Hu 胡彥斌',\n",
       "  'Understandability': 40,\n",
       "  'Importance': 37,\n",
       "  'Score': -3,\n",
       "  'New Words': ['山盟海誓',\n",
       "   '福祸',\n",
       "   '执念',\n",
       "   '酿于',\n",
       "   '遥梦',\n",
       "   '热泪',\n",
       "   '缘分',\n",
       "   '梦寐',\n",
       "   '无畏',\n",
       "   '天涯',\n",
       "   '呓语',\n",
       "   '枕上',\n",
       "   '逝水',\n",
       "   '八荒',\n",
       "   '怅望',\n",
       "   '天命',\n",
       "   '卑微',\n",
       "   '云朵',\n",
       "   '几辈',\n",
       "   '厮',\n",
       "   '愁味',\n",
       "   '诗碑',\n",
       "   '如绘',\n",
       "   '若何',\n",
       "   '食遍',\n",
       "   '託',\n",
       "   '劫',\n",
       "   '盛放',\n",
       "   '轻描淡写',\n",
       "   '无缘'],\n",
       "  'Link': 'https://lyricspinyin.com/2020/02/08/zhen-bian-ren-%e6%9e%95%e9%82%8a%e4%ba%ba-by-tiger-hu-%e8%83%a1%e5%bd%a5%e6%96%8c-pinyin-lyrics/'},\n",
       " {'Title': 'Ni Yao De Quan Na Zou 你要的全拿走',\n",
       "  'Artist': 'Tiger Hu 胡彥斌',\n",
       "  'Understandability': 56,\n",
       "  'Importance': 55,\n",
       "  'Score': -1,\n",
       "  'New Words': ['贪得无厌', '消遣', '贵贱', '赠品', '好聚好散', '沉默寡言', '加温', '宠', '强求'],\n",
       "  'Link': 'https://lyricspinyin.com/2019/10/17/ni-yao-de-quan-na-zou-%e4%bd%a0%e8%a6%81%e7%9a%84%e5%85%a8%e6%8b%bf%e8%b5%b0-by-tiger-hu-%e8%83%a1%e5%bd%a5%e6%96%8c-pinyin-lyrics-and-english-translation/'},\n",
       " {'Title': 'Peng Ran Xin Dong 怦然心動',\n",
       "  'Artist': 'Ting Ting 蕭秉治',\n",
       "  'Understandability': 53,\n",
       "  'Importance': 50,\n",
       "  'Score': -3,\n",
       "  'New Words': ['喷发',\n",
       "   '翩然',\n",
       "   '屏息',\n",
       "   '潮汐',\n",
       "   '古老',\n",
       "   '神昏',\n",
       "   '全宇宙',\n",
       "   '热恋',\n",
       "   '妳',\n",
       "   '如愿以偿',\n",
       "   '缠绵',\n",
       "   '永恆',\n",
       "   '恆温',\n",
       "   '璀璨',\n",
       "   '怦然心动'],\n",
       "  'Link': 'https://lyricspinyin.com/2020/06/10/peng-ran-xin-dong-%e6%80%a6%e7%84%b6%e5%bf%83%e5%8b%95-by-ting-ting-%e8%95%ad%e7%a7%89%e6%b2%bb-pinyin-lyrics-and-english-translation/'},\n",
       " {'Title': 'Ni Zou Yi Hou 你走以後',\n",
       "  'Artist': '王恩信 Est & 二胖 u',\n",
       "  'Understandability': 54,\n",
       "  'Importance': 52,\n",
       "  'Score': -2,\n",
       "  'New Words': ['雨淋', '空荡', '柜子', '匕首', '静止', '暴躁', '三言两语'],\n",
       "  'Link': 'https://lyricspinyin.com/2020/07/20/ni-zou-yi-hou-%e4%bd%a0%e8%b5%b0%e4%bb%a5%e5%be%8c-by-%e7%8e%8b%e6%81%a9%e4%bf%a1-est-%e4%ba%8c%e8%83%96-u-pinyin-lyrics-and-english-translation/'},\n",
       " {'Title': 'Wo Yi Wei 我以為',\n",
       "  'Artist': 'Victor Wong 品冠',\n",
       "  'Understandability': 64,\n",
       "  'Importance': 62,\n",
       "  'Score': -2,\n",
       "  'New Words': ['蹟', '妳', '奢望', '纵容', '妳会'],\n",
       "  'Link': 'https://lyricspinyin.com/2020/03/02/wo-yi-wei-%e6%88%91%e4%bb%a5%e7%82%ba-by-victor-wong-%e5%93%81%e5%86%a0-pinyin-lyrics-and-english-translation/'},\n",
       " ...]"
      ]
     },
     "execution_count": 31,
     "metadata": {},
     "output_type": "execute_result"
    }
   ],
   "source": [
    "results"
   ]
  },
  {
   "cell_type": "code",
   "execution_count": 420,
   "metadata": {},
   "outputs": [],
   "source": [
    "hhh = website('https://lyricspinyin.com/2020/09/10/ke-le-%e6%b8%b4%e4%ba%86by-%e5%85%ab%e4%b8%89%e5%a4%ad-831-feat-%e6%9f%af%e4%bd%b3%e5%ac%bf-alice-ko-pinyin-lyrics/').site"
   ]
  },
  {
   "cell_type": "code",
   "execution_count": 417,
   "metadata": {},
   "outputs": [
    {
     "name": "stdout",
     "output_type": "stream",
     "text": [
      "<p>空調壞了那個午後 衣服濕透貼在胸口</p>\n",
      "<p>瀏海掩飾忐忑眼神 口紅暈上你的嘴唇</p>\n",
      "<p>烏雲瞬間散了 就像打了一嗝</p>\n",
      "<p>愛情渴了 你用你的獨特</p>\n",
      "<p>愛情渴了 讓我一口乾了</p>\n",
      "<p>身體渴了 脫掉身上的殼</p>\n",
      "<p>讓我一口乾了 陪我跳進冰河</p>\n",
      "<p>快樂不快樂 無關 風格不風格</p>\n",
      "<p>你的機車不機車 載我流覽世界景色</p>\n",
      "<p>獨特不獨特 無關 資格不資格</p>\n",
      "<p>我的 原則不原則 只要抱著你就夠了</p>\n",
      "<p>懶得想的通通累格 當做說bye-bye的過客</p>\n",
      "<p>熱情誰會嫌多 再多都能負荷</p>\n",
      "<p>每條神經都被拉扯 早就不想乖乖坐著</p>\n",
      "<p>心裡那些垃圾 你總有對策 撤</p>\n",
      "<p>手指渴了 指甲油都卸了</p>\n",
      "<p>愛情渴了 還要緊緊握著</p>\n",
      "<p>身體渴了 脫掉身上的殼</p>\n",
      "<p>讓我一口乾了 餵飽我的乾涸</p>\n",
      "<p>快樂不快樂 無關 風格不風格</p>\n",
      "<p>你的機車不機車 載我流覽世界景色</p>\n",
      "<p>獨特不獨特 無關 資格不資格</p>\n",
      "<p>我的 原則不原則 只要抱著你就夠了</p>\n",
      "<p>渴了 渴了 可不可以渴了</p>\n",
      "<p>可不可以渴了 可不可以渴了</p>\n",
      "<p>渴了 渴了 可不可以喝了</p>\n",
      "<p>可不可以渴了</p>\n",
      "<p>快樂不快樂 無關風格不風格</p>\n",
      "<p>你的機車不機車 載我流覽世界景色</p>\n",
      "<p>獨特不獨特 無關資格不資格</p>\n",
      "<p>你想唱歌就唱歌 所有噪音都安靜了</p>\n",
      "<p>快樂不快樂 無關 風格不風格</p>\n",
      "<p>你的機車不機車 載我流覽世界景色</p>\n",
      "<p>獨特不獨特 無關 資格不資格</p>\n",
      "<p>我的 原則不原則 只要抱著你就夠了</p>\n",
      "<p>渴了 渴了 可不可以渴了</p>\n",
      "<p>可不可以渴了 可不可以渴了</p>\n",
      "<p>渴了 渴了 可不可以喝了</p>\n",
      "<p>可不可以渴了</p>\n"
     ]
    }
   ],
   "source": [
    "for a in hhh('p',string=re.compile('[\\u4e00-\\u9fff]+')):\n",
    "    nextText = a.find_next('p').get_text()\n",
    "    if bool(re.match('[a-z]',nextText)):\n",
    "        print(a)"
   ]
  },
  {
   "cell_type": "code",
   "execution_count": 83,
   "metadata": {},
   "outputs": [],
   "source": [
    "categories = ['Place','Sports','Health','Name','People','Music','Body','Math','Science','Academic','Life','Food']\n",
    "clipboard.copy(','.join(chineseV[(chineseV['Purposes'].isin(categories)) & (chineseV['Word'].apply(lambda x: len(x) > 0))]['Word'].apply(tryPinyin).tolist()))\n"
   ]
  },
  {
   "cell_type": "code",
   "execution_count": 52,
   "metadata": {},
   "outputs": [
    {
     "data": {
      "text/plain": [
       "array(['Adjective', 'Adverb', 'Pronoun', 'Verb', 'Noun', 'Conjunction',\n",
       "       'Preposition', 'Name', 'People', 'Counter', 'Math', 'Grammar',\n",
       "       'Science', 'Place', 'Life', 'Expression', 'Time', 'Music',\n",
       "       'Auxiliary', 'Onomatopoeia', 'Body', 'Food', 'Academic', 'Affix',\n",
       "       'Sports', 'Health', nan, 'Idiom', 'Person', 'Spell out'],\n",
       "      dtype=object)"
      ]
     },
     "execution_count": 52,
     "metadata": {},
     "output_type": "execute_result"
    }
   ],
   "source": [
    "chineseV['Purposes'].unique()"
   ]
  },
  {
   "cell_type": "code",
   "execution_count": 47,
   "metadata": {},
   "outputs": [],
   "source": [
    "import clipboard\n",
    "clipboard.copy('|'.join(dddd.tolist()))"
   ]
  },
  {
   "cell_type": "code",
   "execution_count": 46,
   "metadata": {},
   "outputs": [
    {
     "data": {
      "text/plain": [
       "'大家都|影响|影响|一切|不仅|不得不|不管|不管|不过|不过|不过|专业|专门|专门|世纪|严格|严格|严重|丰富|丰富|主动|主意|举办|举行|乘坐|互相|互联网|交流|交通|京剧|亲戚|仍然|仔细|任何|任务|优秀|伤心|估计|作为|作用|作者|使用|例如|依然|保护|保证|保证|信息|修改|修理|偶尔|儿童|允许|允许|免费|全部|共同|关键|关键|兴奋|其实|其次|其次|养成|内容|冷静|准确|凉快|凉快|减肥|出发|出发|出差|出现|出生|到处|到底|到底|到底|到底|力气|功夫|功夫|动作|勇敢|勺子|千万|博士|占线|印象|危险|即使|压力|厕所|原来|原来|原谅|参观|及时|友好|友谊|反对|发展|发展|发生|另外|另外|只好|可怜|可怜|可怜|可惜|可是|叶子|号码|吃惊|合格|合适|同情|后悔|否则|吸引|周围|味道|咱们|咳嗽|售货员|商量|因此|困难|困难|国籍|国际|地址|地点|地球|坚持|垃圾桶|基础|堵车|塑料袋|填空|复印|复杂|大使馆|大夫|大概|大概|大约|失望|失望|失败|奖金|好像|好处|孙子|安全|安全|安排|安排|安排|安排|安排|安排|安排|安排|安排|安排|完全|完全|客厅|害羞|家具|密码|寒假|对于|对话|对面|对面|导游|将来|尊重|小伙子|尽管|尽管|工资|左右|差不多|差不多|师傅|干杯|平时|年龄|幸福|幽默|幽默|广告|广播|座位|建议|开玩笑|开玩笑|引起|弹钢琴|当时|往往|律师|怀疑|怀疑|态度|性格|恐怕|恐怕|情况|愉快|感动|感情|感觉|成为|成功|房东|打扮|打扮|打扰|打针|批评|批评|技术|护士|报名|抱歉|抽烟|拒绝|按时|按照|排列|排列|排队|接受|接着|接着|提供|提前|提前|提醒|摆脱|支持|支持|收入|收拾|收拾|改变|放弃|放暑假|放松|政府|故意|效果|教授|教授|教育|散步|整理|文章|方向|方法|方面|旅行|无聊|无论|既然|日记|景色|暂时|暖和|暖和|本来|本来|杂志|材料|条件|来不及|来得及|来自|果汁|标准|森林|植物|橡皮|正好|正常|正确|比如|毕业|毛巾|民族|永远|污染|污染|沙发|法律|注意|活动|活动|活动|活泼|流利|流行|浪漫|浪漫|浪漫|浪费|浪费|海洋|消息|激动|激动|烤鸭|烦恼|热闹|热闹|照顾|熟悉|爱情|父亲|牙膏|现金|理发|理想|理想|理解|甚至|由于|由于|申请|登机牌|百分之|皮肤|盒子|目的|直接|看法|真正|知识|短信|矿泉水|研究|硕士|确定|确定|确实|确实|礼拜天|礼貌|社会|祝贺|科学|积极|积极|积累|究竟|究竟|空气|窗户|竞争|竞争|竟然|符合|签证|管理|粗心|精彩|紧张|紧张|经历|经历|经济|经验|结果|继续|缺少|缺点|美丽|羡慕|翻译|老虎|考虑|耐心|职业|联系|联系|联系|肚子|肯定|肯定|胳膊|脾气|自由|航班|艺术|节约|获得|著名|葡萄|表扬|表格|表演|表演|表示|表示|袜子|西红柿|观众|规定|解释|警察|计划|认真|认真|讨厌|讨厌|讨论|记者|设计|证名|证名|词语|诚实|详细|说明|说明|调查|负责|责任|质量|购物|超过|距离|距离|轻松|过程|进行|进行|连续|迷路|适合|适应|通知|通知|通过|道歉|邀请|邮局|郊区|部分|重新|钥匙|错误|错误|镜子|长城|阅读|阳光|降低|降落|随便|随便|随着|难受|零钱|顺便|顺利|顺序|顺序|顾客|预习|餐厅|饺子|饼干|首都|马虎|马虎|骄傲|骄傲|麻烦|麻烦|麻烦|鼓励|N 似的|V 得起|V 得过|V 过来|一再|一律|一旦|一旦|一致|一致|一致|万一|万一|万一|上当|不如|不如|不如|不得了|不得了|不耐烦|不要紧|不见得|与其|与其|专家|专心|丝毫|丝绸|严肃|严肃|个别 N|中介|临时|临时|主任|主动|主席|主张|主张|主持|主持|主持|主观|主题|举措|义务|义务|义务|了不起|争取|争论|争论|事先|事先|交往|亲切|亲爱|亲自|从此|从而|代替|以及|以及|以来|以来|仿佛|仿佛|仿佛|企业|休闲|优势|优惠|优美|伙伴|会计|伟大|伟大|似乎|似的|位于|位置|体会|体会|体现|体贴|体验|何不|何况|何况|何尝|何必|何必|何至于|作为|佩服|使劲儿|俱乐部|倒霉|借口|借口|倾斜|假设|假设|傍晚|元旦|兄弟|充电器|光临|光滑|克服|兑换|公主|公寓|其余|兼职|再三|再三|冒险|冰激凌|决赛|凭空|出席|出示|出色|切实|初级|删除|利息|利润|利用|利益|制定|制度|刺激|刻苦|前途|劝告|劳驾|勤奋|包括|包裹|匆忙|华裔|单位|单元|单独|单纯|单纯|单调|卧室|印刷|危害|厘米|去世|叉子|及格|反倒|反正|反正|反而|发愁|发挥|取消|取消|叙述|口味|召开|吃亏|合同|名胜古迹|后果|否认|启发|吸取|吸收|告别|周到|命令|命运|咨询|哪怕|哲学|唯一|喷嚏|嗓子|嘉宾|因素|因素|因而|围巾|围绕|固定|固定|国庆节|土豆|在乎|在乎|在乎|在于|在于|地毯|地道|均匀|坦率|培养|培训|增加|处理|复制|夏令营|外交|外公|多亏|大厦|天真|太极拳|失眠|夸张|夹子|奇迹|好客|如今|妨碍|始终|姑姑|姑娘|委屈|委屈|委屈|姥姥|姿势|威胁|娱乐|娱乐|娱乐|婚姻|媒体|字幕|字母|孝顺|孤独|宁可|宁可|安慰|安慰|安装|完善|完整|实施|实现|实用|实践|实验|宠物|客观|宴会|宿舍|寂寞|密切|密切|密切|密切|对待|对比|对象|寿命|尊敬|小气|小麦|尽量|尾巴|居然|居然|展开|展览|属于|巧妙|干脆|干脆|干脆|平静|幸运|幻想|幼儿园|应付|废话|建筑|建筑|建筑|开幕式|开放|开放|强烈|强调|归纳|形势|形容|形状|形象|影子|彻底|彼此|往返|征求|待遇|忍不住|志愿者|忽视|思考|急诊|性质|怪不得|怪不得|总之|总共|总理|总算|总算|总统|总裁|恢复|恶劣|悄悄|悠久|情绪|想念|意义|感受|愿望|慌张|戏剧|成就|成立|或许|或许|所谓|扇子|手套|手术|手续|打交道|打喷嚏|执照|批准|承担|承担|把握|抓紧|抱怨|押金|抽屉|抽象|拐弯|拐弯|拥抱|拥挤|指挥|挑战|振动|损失|据说|据说|接触|接触|接近|控制|推广|推荐|推辞|措施|描写|描绘|提倡|提纲|握手|搜索|搜索|摄影|摔倒|摩托车|撒谎|操心|收据|效率|救护车|教训|整个|整体|整齐|文件|文具|文明|方案|无奈|无所 V|无所谓|无所谓|日历|日期|时尚|时髦|昆虫|明确|显得|智慧|更何况|曾经|最初|有利|有所 V|朗读|木头|未必|权利|极其|极其|构成|某某|某某|柜台|根本|根本|根本就是|格外|桔子|梳子|梳理|模特|模糊|模糊|次要|欣赏|步骤|毕竟|毛病|毛病|毛病|气氛|沙滩|沙漠|沟通|油炸|注册|活跃|测验|浏览|海关|消化|消极|消费|淘气|深刻|温暖|温柔|游览|满足|激烈|火柴|灰尘|灰心|灵活|照常|照常|熟练|熬夜|燃烧|爱惜|爱护|牙齿|牛仔裤|特征|特殊|状况|状态|犹豫|狡猾|独特|狮子|玉米|珍惜|用功|用功|用途|由此可见|电台|疑问|疲劳|疼爱|痛快|痛苦|的确|的确|相似|相关|相处|相对|相当|相当|相当|相当|相当|相当|盼望|省略|省略|看不起|看望|真到|真实|着凉|着火|矛盾|确认|祝福|神秘|神话|种类|秩序|称呼|称呼|称赞|移动|移民|程度|稳定|突出|突出|窗帘|立刻|立即|竹子|简历|简直|简直|类似|类型|粗糙|粘贴|糟糕|系领带|纠纷|纪念|纷纷|纷纷|纷纷|纷纷|组合|组合|组成|组成|组织|组织|组织|组织|组织|经商|经营|结实|结账|统一|绳子|维修|维修|综合|综合|缓解|缩短|缺乏|老百姓|耳环|耽误|股票|肥皂|胃口|胡说|胶水|能源|脖子|自从|自从|自私|自觉|自豪|至于|至于|至于|至今|舅舅|舍不得|舍不得|舍得|舒适|艰巨|艰涩|色彩|苗条|英俊|营业|落后|蔬菜|虚心|蝴蝶|行人|补充|表达|装修|装饰|要不|要不|见闻|规矩|规矩|角色|讨价还价|议论|讲座|讲究|讽刺|设施|评价|试卷|诚恳|语气|说不定|说不定|说服|调整|调皮|谈判|谦虚|谨慎|象征|象棋|豪华|贡献|财产|责备|贷款|贸易|资格|赔偿|赔偿|赞成|赞美|趋势|身份|身材|车厢|转变|转告|轮替|轻易|轻易|轻易|轻视|辅导|辞职|辞职|辣椒|过分|过敏|过敏|迎接|运气|运用|这般|违反|连忙|迟早|迫切|退休|退步|逐步|逐步|逐渐|逐渐|通常|造成|逻辑|遵守|配合|配合|酒吧|重大|针对|销售|长辈|长途|问候|阶段|陌生|限制|除非|除非|随手|随身|隔壁|难怪|难怪|集中|集体|零件|靠拢|面临|面积|鞭炮|项链|顺着|预报|预订|预订|领域|风俗|风险|驾驶|高档|鲜艳|鼠标|一MM|不妨|不料|不由得|不瞒你说|不禁|乘机|以至于|伴侣|伴随|免得|务必|匆忙|半途而废|即便|唯独|固然|大不了|大不了|奥秘|安宁|安宁|安置|安详|巴不得|巴不得|巴结|并非|恨不得|所在|扒带|扮演|把关|把手|拔苗助长|拜托|拜访|按摩|挨近|摆脱|斑马|无非|时而|昂贵|明明|暗示|暧昧|有关|服饰|未免太|案件|案例|榜样|爱不释手|爱戴|版本|癌症|着呢|统统|罢工|致使|说真的|败坏|败坏|过于|通红|鉴于|雪白|霸道|顿时|颁发|颁布|癌症|暧昧|爱不释手|爱戴|安宁|安详|安置|按摩|暗示|案件|案例|昂贵|凹凸|奥秘|巴不得|巴结|拔苗助长|把关|把手|罢工|霸道|摆脱|拜访|拜年|拜托|败坏|颁布|颁发|版本|伴侣|伴随|半途而废|扮演|榜样|绑架|包庇|包袱|包围|包装|保管|保密|保姆|保守|保卫|保养|保障|保重|饱和|饱经沧桑|报酬|报仇|报答|报复|报警|报销|抱负|暴力|暴露|曝光|爆发|爆炸|卑鄙|悲哀|悲惨|北极|备份|备忘录|背叛|背诵|被动|被告|贝壳|奔波|奔驰|本能|本钱|本人|本身|本事|笨拙|崩溃|迸发|逼迫|鼻涕|比方|比喻|比重|鄙视|弊病|弊端|闭塞|编织|边疆|边界|边境|边缘|鞭策|贬低|贬义|便利|便条|便于|变故|变迁|变质|辨认|辩护|辩解|辩证|辫子|遍布|标本|标记|标题|表决|表态|表彰|别墅|别致|别扭|濒临|冰雹|并非|并列|剥削|播种|波浪|波涛|伯母|博大精深|博览会|搏斗|薄弱|不顾|不愧|不料|不像话|不屑一顾|哺乳|捕捉|补偿|补救|补贴|不得已|不妨|不敢当|不禁|不堪|不可思议|不免|不时|不惜|不相上下|不言而喻|不由得|不择手段|不止|布告|布局|布置|步伐|部署|部位|才干|裁缝|裁判|裁员|财富|财务|财政|彩票|采购|采集|采纳|参谋|参照|残疾|残酷|残留|残忍|灿烂|仓促|仓库|苍白|操劳|操练|操纵|操作|嘈杂|草案|草率|侧面|测量|策划|策略|层出不穷|层次|差别|插座|查获|刹那|诧异|柴油|缠绕|产业|阐述|颤抖|昌盛|偿还|尝试|场合|场面|场所|敞开|倡导|倡议|畅通|畅销|超越|钞票|嘲笑|巢穴|朝代|潮流|撤退|撤销|沉淀|沉闷|沉思|沉重|沉着|陈旧|陈列|陈述|称心如意|衬托|称号|呈现|城堡|惩罚|成本|成交|成天|成效|成心|成员|承办|承包|承诺|澄清|诚挚|吃苦|吃力|持久|迟钝|迟缓|迟疑|赤道|赤字|充当|充沛|充实|充足|冲动|冲击|冲突|崇拜|崇高|崇敬|重叠|稠密|筹备|丑恶|出路|出卖|出身|出神|出息|初步|储备|储存|储蓄|处分|处境|处置|触犯|川流不息|穿越|传达|传单|传授|船舶|喘气|床单|创立|创新|创业|创作|吹牛|吹捧|炊烟|垂直|纯粹|纯洁|慈善|慈祥|磁带|雌雄|伺候|次品|次序|从容|凑合|粗鲁|摧残|脆弱|磋商|挫折|搭档|搭配|答辩|答复|达成|打包|打官司|打击|打架|打量|打猎|打仗|大不了|大臣|大伙儿|大肆|大体|大意|大致|歹徒|代价|代理|带领|怠慢|逮捕|担保|胆怯|淡季|淡水|蛋白质|诞辰|诞生|当场|当初|当代|当面|当前|当事人|当务之急|当选|档案|档次|倒闭|导弹|导航|导向|捣乱|盗窃|稻谷|得不偿失|得力|得天独厚|得罪|灯笼|登录|登陆|等候|等级|堤坝|敌视|抵达|抵抗|抵制|地步|地势|地质|递增|颠簸|颠倒|典礼|典型|点缀|奠定|惦记|电源|雕刻|雕塑|调动|叮嘱|定期|定义|丢人|丢三落四|东道主|东张西望|董事长|冻结|动荡|动机|动静|动力|动脉|动身|动手|动态|动员|陡峭|斗争|督促|毒品|独裁|堵塞|赌博|杜绝|端午节|端正|短促|断定|断绝|堆积|兑现|对策|对称|对付|对抗|对立|对联|对应|对照|队伍|顿时|哆嗦|多元化|堕落|额外|恶心|恶化|遏制|恩怨|而已|二氧化碳|发布|发财|发呆|发动|发觉|发射|发誓|发行|发炎|发扬|发育|法人|凡是|繁华|繁忙|繁体字|繁殖|反驳|反常|反感|反抗|反馈|反面|反射|反思|反问|反之|泛滥|范畴|贩卖|方位|方言|方圆|方针|防守|防御|防止|防治|纺织|访问|放大|放射|非法|飞禽走兽|飞翔|飞跃|肥沃|诽谤|废除|废寝忘食|废墟|沸腾|分辨|分寸|分红|分解|分裂|分泌|分明|分歧|分散|吩咐|坟墓|粉末|粉色|粉碎|分量|愤怒|丰满|丰盛|丰收|封闭|封建|封锁|锋利|风暴|风度|风光|风气|风趣|风土人情|风味|奉献|否决|夫妇|夫人|敷衍|俘虏|幅度|服从|服气|福利|福气|符号|辐射|俯视|抚摸|抚养|腐败|腐烂|腐蚀|腐朽|辅助|复活|复兴|富裕|腹泻|覆盖|负担|赋予|附和|附件|附属|改良|盖章|尴尬|干旱|干扰|干涉|干预|感慨|感染|干劲|纲领|岗位|港口|港湾|杠杆|高超|高潮|高峰|高明|高尚|高涨|稿件|告辞|告诫|歌颂|疙瘩|鸽子|格局|格式|隔阂|隔离|革命|个体|各抒己见|根深蒂固|根源|跟前|跟随|跟踪|更新|更正|耕地|供不应求|供给|公安局|公道|公告|公关|公民|公然|公认|公式|公务|公正|公证|功劳|功效|宫殿|工艺品|恭敬|攻击|攻克|巩固|共和国|共计|共鸣|勾结|钩子|构思|姑且|孤独|孤立|辜负|古董|古怪|股东|股份|骨干|鼓动|固然|固体|固有|固执|故乡|故障|雇佣|顾虑|顾问|拐杖|关怀|关照|官方|观光|管辖|惯例|灌溉|贯彻|光彩|光辉|光芒|光荣|广阔|归根到底|归还|规范|规格|规划|规章|轨道|贵族|棍棒|国防|国务院|果断|过度|过渡|过奖|过滤|过失|过问|过瘾|过于|海拔|海滨|含糊|含义|寒暄|罕见|捍卫|航空|航天|航行|行列|毫米|毫无|豪迈|号召|耗费|合并|合成|合伙|合算|和蔼|和解|和睦|和气|和谐|痕迹|狠心|恨不得|轰动|宏观|宏伟|洪水|喉咙|候选|后代|后顾之忧|后勤|呼唤|呼啸|呼吁|忽略|湖泊|胡乱|胡须|花瓣|花蕾|华丽|华侨|划分|化肥|化石|化验|化妆|画蛇添足|话筒|欢乐|环节|还原|缓和|患者|荒凉|荒谬|荒唐|皇帝|皇后|黄昏|恍然大悟|挥霍|辉煌|回报|回避|回顾|回收|悔恨|毁灭|会晤|汇报|贿赂|昏迷|浑身|混合|混乱|混淆|混浊|活该|活力|火箭|火焰|火药|货币|基地|基金|基因|机动|机构|机灵|机密|机械|机遇|机智|激发|激励|激情|讥笑|饥饿|即便|即将|及早|吉祥|嫉妒|急功近利|急剧|急切|急于求成|急躁|极端|极限|疾病|籍贯|级别|集团|给予|季军|季度|寂静|寄托|忌讳|技巧|纪要|继承|计较|记性|记载|迹象|佳肴|加工|加剧|夹杂|家常|家伙|家属|家喻户晓|坚定|坚固|坚韧|坚实|坚硬|尖端|尖锐|监督|监视|监狱|艰难|剪彩|检讨|检验|简化|简陋|简体字|简要|健全|舰艇|见多识广|见解|见闻|见义勇为|践踏|鉴别|鉴定|鉴于|间谍|间隔|间接|僵硬|将军|将近|将就|奖励|奖赏|降临|交叉|交代|交涉|交易|娇气|焦点|焦急|侥幸|搅拌|缴纳|角落|教养|较量|接连|揭露|阶层|截止|截至|杰出|竭尽全力|结晶|结局|结算|节制|节奏|解除|解放|解雇|解剖|解散|解体|借鉴|借助|戒备|界限|津津有味|金融|紧迫|锦上添花|晋升|浸泡|近来|进而|进攻|进化|进展|兢兢业业|惊动|惊奇|惊讶|精打细算|精华|精简|精密|精确|精通|精心|精益求精|精致|经费|经纬|警告|警惕|颈椎|境界|敬礼|敬业|竞赛|竞选|镜头|纠纷|纠正|酒精|就近|就业|就职|救济|居民|居住|拘留|拘束|鞠躬|局部|局面|局势|局限|举动|举世瞩目|举足轻重|咀嚼|沮丧|剧本|剧烈|据悉|聚精会神|倔强|决策|绝望|觉悟|觉醒|军队|君子|卡通|开采|开除|开阔|开朗|开明|开辟|开拓|开展|开支|刊登|刊物|勘探|侃侃而谈|砍伐|看待|慷慨|抗议|考察|考古|考核|考验|靠拢|科目|可观|可口|可恶|可行|渴望|克制|刻不容缓|客户|课题|恳切|空洞|空前绝后|空想|空虚|恐怖|恐吓|恐惧|空白|空隙|口气|口腔|口头|口音|哭泣|枯萎|枯燥|苦尽甘来|苦涩|快活|宽敞|宽容|款待|款式|况且|旷课|框架|矿产|亏待|亏损|捆绑|扩充|扩散|扩张|喇叭|蜡烛|来历|来源|栏目|懒惰|狼狈|狼吞虎咽|唠叨|牢固|牢骚|乐趣|乐意|雷达|类似|冷酷|冷落|冷却|黎明|理睬|理所当然|理直气壮|理智|礼节|礼尚往来|里程碑|例外|利害|力求|力所能及|力争|历代|历来|立场|立方|立交桥|立体|立足|廉洁|联欢|联络|联盟|联想|连年|连锁|连同|良心|谅解|辽阔|列举|临床|吝啬|伶俐|凌晨|灵感|灵魂|灵敏|零星|领会|领事馆|领土|领悟|领先|领袖|流浪|流露|流氓|流通|留恋|留念|留神|聋哑|隆重|垄断|笼罩|炉灶|轮船|轮廓|轮胎|论坛|论证|啰唆|络绎不绝|落成|落实|屡次|履行|掠夺|麻痹|麻木|麻醉|码头|蚂蚁|埋伏|埋没|埋葬|脉搏|埋怨|慢性|漫长|漫画|蔓延|忙碌|盲目|茫茫|茫然|冒充|冒犯|茂盛|媒介|美观|美满|美妙|萌芽|猛烈|弥补|弥漫|谜语|迷惑|迷人|迷信|密度|密封|棉花|免得|免疫|勉励|勉强|面貌|面子|描绘|瞄准|渺小|藐视|灭亡|蔑视|民间|民主|敏捷|敏锐|名次|名额|名副其实|名誉|明明|明智|命名|摸索|摩擦|模范|模式|模型|磨合|魔鬼|魔术|抹杀|墨水儿|莫名其妙|默默|谋求|模样|母语|沐浴|目睹|目光|拿手|纳闷儿|耐用|南辕北辙|难得|难堪|难能可贵|恼火|内涵|内幕|内在|能量|拟定|逆行|年度|凝固|凝聚|凝视|宁肯|宁愿|扭转|纽扣儿|农历|浓厚|奴隶|虐待|殴打|偶像|呕吐|徘徊|排斥|排除|排放|排练|派别|派遣|攀登|盘旋|判决|庞大|抛弃|泡沫|培育|配备|配偶|配套|盆地|烹饪|批发|批判|疲惫|疲倦|皮革|屁股|譬如|偏差|偏见|偏僻|偏偏|片断|片刻|漂浮|飘扬|拼搏|拼命|贫乏|贫困|频繁|频率|品尝|品德|品质|品种|屏幕|屏障|平凡|平面|平坦|平行|平庸|平原|评估|评论|破例|迫不及待|迫害|魄力|普及|朴实|朴素|瀑布|凄凉|期望|期限|欺负|欺骗|奇妙|旗袍|旗帜|歧视|齐全|齐心协力|乞丐|企图|启程|启蒙|启事|启示|岂有此理|起草|起初|起伏|起哄|起码|起源|器材|器官|气概|气功|气魄|气色|气势|气味|气象|气压|气质|迄今为止|恰当|恰到好处|恰巧|洽谈|千方百计|牵扯|牵制|签署|谦逊|迁就|迁徙|前景|前提|潜力|潜水|潜移默化|谴责|抢劫|强制|强迫|抢救|桥梁|窍门|切实|锲而不舍|亲密|亲热|侵犯|侵略|钦佩|勤俭|勤劳|倾听|倾向|倾斜|清澈|清晨|清除|清洁|清理|清晰|清醒|清真|情报|情节|情理|情形|晴朗|请柬|请教|请示|请帖|丘陵|区分|区域|屈服|曲折|驱逐|渠道|取缔|曲子|趣味|圈套|全局|全力以赴|拳头|权衡|权威|缺口|缺席|缺陷|确保|确立|确切|确信|群众|让步|饶恕|扰乱|惹祸|热泪盈眶|热门|人道|人格|人工|人家|人间|人士|人为|人性|人质|仁慈|忍耐|忍受|任命|任性|任意|任重道远|认定|认可|仍旧|日新月异|日益|容貌|容纳|容器|容忍|溶解|荣幸|荣誉|融化|融洽|柔和|儒家|弱点|若干|撒谎|散文|散布|散发|丧失|骚扰|嫂子|刹车|筛选|山脉|闪烁|擅长|擅自|伤脑筋|商标|上级|上进|上任|上瘾|上游|尚且|奢侈|舌头|摄氏度|涉及|社区|设立|设想|设置|呻吟|深奥|深沉|深情厚谊|申报|绅士|神经|神奇|神气|神圣|神态|神仙|审查|审理|审美|审判|慎重|渗透|声明|声势|声誉|牲畜|生存|生机|生理|生疏|生态|生物|生效|生肖|生锈|生育|省会|盛产|盛开|盛情|盛行|胜负|失事|失误|失踪|尸体|师范|施加|施展|十足|实惠|实力|实施|实事求是|实行|实质|时常|时而|时光|时机|时事|石油|识别|使命|世代|事故|事迹|事件|事态|事务|事项|事业|势必|势力|是非|示范|示威|示意|视力|视频|视线|视野|试图|试验|适宜|逝世|释放|收藏|收缩|收益|收音机|守护|手法|手势|手艺|首饰|首要|受罪|授予|书法|书记|书籍|书面|疏忽|疏远|舒畅|数额|束缚|树立|衰老|衰退|率领|涮火锅|双胞胎|爽快|水利|水龙头|水泥|瞬间|司法|司令|思念|思索|思维|斯文|私自|死亡|四肢|寺庙|肆无忌惮|饲养|苏醒|俗话|塑造|素食|素质|诉讼|算数|随即|随意|岁月|隧道|损坏|索取|索性|踏实|台风|太空|泰斗|瘫痪|贪婪|贪污|弹性|坦白|叹气|探测|探索|探讨|探望|倘若|滔滔不绝|淘汰|陶瓷|陶醉|讨好|特长|特定|特意|提拔|提炼|提示|提议|题材|体裁|体积|体谅|体面|体系|天才|天赋|天伦之乐|天然气|天生|天堂|天文|田径|田野|挑剔|条款|条理|条约|调和|调剂|调节|调解|调料|挑拨|挑衅|跳跃|亭子|停泊|停顿|停滞|挺拔|通货膨胀|通缉|通俗|通讯|通用|同胞|同志|童话|统筹兼顾|统计|统统|统治|投机|投票|投诉|投降|投掷|透露|突破|图案|徒弟|涂抹|途径|土壤|团结|团体|团圆|推测|推翻|推理|推论|推销|吞吞吐吐|托运|拖延|脱离|妥当|妥善|妥协|椭圆|唾弃|挖掘|娃娃|瓦解|歪曲|外表|外行|外界|外向|完备|完毕|玩弄|玩意儿|顽固|顽强|惋惜|挽回|挽救|万分|往常|往事|妄想|危机|威风|威力|威望|威信|微不足道|微观|为难|为期|唯独|维持|维护|维生素|违背|伪造|委托|委员|卫星|慰问|未免|畏惧|蔚蓝|温带|温和|文凭|文物|文献|文雅|文艺|问世|乌黑|污蔑|诬陷|无比|无偿|无耻|无动于衷|无非|无辜|无精打采|无赖|无理取闹|无能为力|无穷无尽|无微不至|无忧无虑|无知|侮辱|武器|武侠|武装|舞蹈|务必|物美价廉|物业|物资|误差|误解|夕阳|昔日|熄灭|牺牲|膝盖|习俗|媳妇|袭击|喜闻乐见|喜悦|系列|细菌|细胞|细致|峡谷|狭隘|狭窄|下属|先进|先前|掀起|纤维|鲜明|嫌疑|衔接|贤惠|闲话|显著|宪法|现场|现成|现状|线索|陷害|陷阱|陷入|馅儿|乡镇|相差|相等|相辅相成|相应|镶嵌|响亮|响应|想方设法|向导|向来|向往|相声|消除|消毒|消防|消耗|消灭|潇洒|销毁|小心翼翼|效益|肖像|协会|协商|协调|协议|协助|携带|泄露|泄气|谢绝|心得|心甘情愿|心灵|心态|心疼|心血|心眼儿|新陈代谢|新郎|新娘|新颖|欣慰|欣欣向荣|薪水|辛勤|信赖|信念|信仰|信誉|兴高采烈|兴隆|兴旺|刑事|形态|行政|兴致勃勃|性感|性命|性能|凶恶|凶手|汹涌|胸怀|胸膛|雄厚|雄伟|修复|修建|修养|羞耻|嗅觉|虚假|虚荣|虚伪|需求|须知|许可|序言|畜牧|酗酒|喧哗|宣誓|宣扬|悬挂|悬念|悬殊|悬崖峭壁|旋律|旋转|选拔|选举|选手|炫耀|削弱|学说|学位|雪上加霜|血压|熏陶|寻觅|巡逻|循环|循序渐进|压迫|压岁钱|压缩|压抑|压榨|压制|鸦雀无声|亚军|淹没|烟花爆竹|严峻|严寒|严禁|严厉|严密|岩石|延期|延伸|延续|沿海|炎热|言论|掩盖|掩护|掩饰|演变|演习|演绎|演奏|眼光|眼色|眼神|厌恶|验收|验证|氧气|样品|摇摆|摇滚|谣言|遥控|遥远|耀眼|要点|要命|要素|野蛮|野心|液体|一流|一如既往|依旧|依据|依靠|依赖|依托|衣裳|一度|一贯|一目了然|一向|仪器|仪式|疑惑|遗产|遗传|遗留|遗失|以便|以免|以往|以至|以致|一帆风顺|一举两得|一丝不苟|异常|意料|意识|意图|意味着|意向|意志|毅力|毅然|阴谋|音响|引导|引擎|引用|隐蔽|隐患|隐瞒|隐私|隐约|饮食|婴儿|英明|英勇|盈利|迎面|应酬|应邀|庸俗|拥护|拥有|勇于|永恒|涌现|踊跃|用户|优胜劣汰|优先|优异|优越|忧郁|油腻|油漆|犹如|有条不紊|幼稚|诱惑|愚蠢|愚昧|渔民|舆论|与日俱增|宇宙|羽绒服|寓言|欲望|预料|预期|预算|预先|预言|预兆|冤枉|元首|元素|元宵节|原告|原理|原始|原先|园林|圆满|源泉|缘故|约束|乐谱|岳母|孕育|蕴藏|运算|运行|酝酿|杂技|杂交|栽培|灾难|再接再厉|在意|暂且|赞叹|赞助|糟蹋|遭受|遭殃|遭遇|噪音|造型|责怪|增添|赠送|扎实|诈骗|摘要|债券|沾光|瞻仰|展示|展望|展现|崭新|斩钉截铁|占据|占领|战斗|战略|战术|战役|章程|帐篷|障碍|招标|招收|朝气蓬勃|着迷|沼泽|照样|照耀|折腾|遮挡|折磨|侦探|斟酌|珍贵|珍稀|珍珠|真理|真相|真挚|枕头|振奋|振兴|镇定|镇静|阵地|阵容|震撼|震惊|争端|争夺|争气|争先恐后|争议|征服|征收|挣扎|正月|蒸发|整顿|政策|政权|正当|正负|正规|正经|正气|正义|正宗|症状|证实|证书|郑重|之际|支撑|支出|支流|支配|支援|支柱|知觉|知足常乐|脂肪|侄子|值班|执行|执着|殖民地|直播|直径|职能|职位|职务|指标|指定|指甲|指令|指南针|指示|指望|指责|制裁|制服|制约|制止|志气|智力|智能|智商|治安|治理|滞留|致辞|致力|致使|中断|中立|中央|忠诚|忠实|终点|终究|终身|终止|衷心|种子|种族|肿瘤|众所周知|种植|重心|周边|周密|周年|周期|周折|周转|昼夜|皱纹|诸位|逐年|主办|主导|主管|主流|主权|主义|嘱咐|住宅|助理|助手|注射|注视|注释|注重|著作|铸造|驻扎|专长|专程|专利|专题|转达|转让|转移|转折|传记|庄稼|庄严|庄重|装备|装卸|壮观|壮丽|壮烈|追悼|追究|准则|卓越|琢磨|着手|着想|着重|姿态|滋润|滋味|资本|资产|资深|资助|子弹|自卑|自发|自力更生|自满|自主|宗教|宗旨|棕色|踪迹|总而言之|总和|纵横|走廊|走漏|走私|租赁|足以|祖父|祖国|祖先|阻碍|阻拦|阻挠|钻研|钻石|嘴唇|罪犯|尊严|遵循|作弊|作废|作风|作息|做主|座右铭|N 般|不愧|以及|传媒|似的|位于|作为|充分|兵役|典型|冷淡|加以|及其|因人而异|地道|处于|大器晚成|头晕|威胁|娱乐|实践|容纳|崇尚|意识到|所 V|换句话说|据我所知|掌握|揠苗助长|显得|显得|望梅止渴|本身|杀鸡儆猴|歪曲|甲乙丙丁|相对来说|相比|纸上谈兵|见仁见智|设备|贡献|逐渐|靠近|骑驴找马|竟然|到底|爱护|爱惜|爱心|安慰|安装|熬夜|把握|办理|傍晚|包裹|包含|包括|保持|保存|保留|保险|宝贝|宝贵|报到|报道|报告|报社|抱怨|悲观|背景|被子|本科|本领|本质|彼此|比例|必然|必要|毕竟|避免|编辑|鞭炮|辩论|标点|标志|表达|表面|表明|表情|表现|冰激凌|病毒|播放|玻璃|博物馆|脖子|不断|不见得|不耐烦|不要紧|补充|不安|不得了|不然|不如|不足|步骤|部门|财产|彩虹|采访|采取|参考|参与|惭愧|操场|操心|测验|曾经|叉子|差距|产品|产生|常识|长途|超级|潮湿|吵架|车库|车厢|彻底|沉默|称呼|称赞|成分|成果|成就|成立|成人|成熟|成语|成长|承担|承认|承受|程度|程序|诚恳|吃亏|持续|池塘|迟早|尺子|翅膀|充电器|充分|充满|重复|宠物|抽屉|抽象|出版|出口|出色|出示|出席|初级|除非|除夕|处理|传播|传染|传说|传统|窗帘|创造|词汇|辞职|此外|刺激|次要|匆忙|从此|从而|从前|从事|粗糙|促进|促使|存在|措施|答应|达到|打工|打交道|打喷嚏|打听|大方|大厦|大象|大型|代表|代替|待遇|贷款|单纯|单调|单独|单位|单元|担任|耽误|胆小鬼|当地|当心|倒霉|导演|导致|岛屿|到达|道德|道理|登记|等待|等于|敌人|的确|地道|地理|地区|地毯|地位|地震|点心|电池|电台|动画片|豆腐|独立|独特|度过|兑换|对比|对待|对方|对手|对象|多亏|多余|躲藏|恶劣|耳环|发表|发愁|发达|发抖|发挥|发明|发票|发言|罚款|法院|繁荣|反而|反复|反应|反映|反正|范围|方案|方式|妨碍|仿佛|肥皂|废话|分别|分布|分配|分手|分析|纷纷|奋斗|疯狂|风格|风景|风俗|风险|讽刺|否定|否认|服装|辅导|复制|妇女|改革|改进|改善|改正|概括|概念|干脆|干燥|感激|感受|感想|赶紧|赶快|干活儿|钢铁|高档|高级|告别|格外|隔壁|个别|个人|个性|各自|根本|公布|公开|公平|公寓|公元|公主|功能|工厂|工程师|工具|工人|工业|恭喜|贡献|沟通|构成|姑姑|姑娘|古代|古典|股票|骨头|鼓舞|鼓掌|固定|挂号|拐弯|怪不得|关闭|观察|观点|观念|管子|冠军|光滑|光临|光明|光盘|广场|广大|广泛|归纳|规矩|规律|规模|规则|柜台|国庆节|国王|果然|果实|过分|过敏|过期|海关|海鲜|行业|豪华|好客|好奇|何必|何况|合法|合理|合同|合影|合作|和平|核心|猴子|后背|后果|呼吸|忽然|忽视|糊涂|胡说|胡同|蝴蝶|花生|华裔|化学|话题|怀念|怀孕|缓解|幻想|慌张|黄金|恢复|灰尘|灰心|汇率|婚礼|婚姻|活跃|伙伴|火柴|或许|基本|机器|激烈|肌肉|及格|急忙|急诊|极其|集合|集体|集中|寂寞|系领带|纪录|纪律|纪念|计算|记录|记忆|嘉宾|夹子|家庭|家务|家乡|假如|假设|假装|价值|驾驶|兼职|坚决|坚强|肩膀|艰巨|艰苦|剪刀|简历|简直|健身|建立|建设|建筑|键盘|讲究|讲座|酱油|交换|交际|交往|胶水|狡猾|角度|教材|教练|教训|接触|接待|接近|结实|阶段|结构|结合|结论|结账|节省|借口|戒指|金属|尽快|紧急|谨慎|尽力|尽量|近代|进步|进口|精力|精神|经典|经商|经营|酒吧|救护车|舅舅|居然|桔子|俱乐部|具备|具体|巨大|据说|决赛|决心|绝对|角色|军事|均匀|卡车|开发|开放|开幕式|开水|看不起|看望|可见|可靠|可怕|克服|刻苦|客观|课程|空间|控制|空闲|口味|夸张|会计|昆虫|扩大|辣椒|朗读|劳动|劳驾|姥姥|老百姓|老板|老婆|老实|老鼠|乐观|类型|冷淡|厘米|离婚|理论|理由|利润|利息|利益|利用|力量|立即|立刻|联合|连忙|连续|恋爱|粮食|良好|了不起|列车|临时|灵活|零件|零食|领导|领域|流传|流泪|浏览|录取|录音|陆地|陆续|轮流|论文|逻辑|落后|麦克风|馒头|满足|毛病|矛盾|冒险|贸易|媒体|煤炭|眉毛|美术|魅力|梦想|密切|秘密|秘书|蜜蜂|面对|面积|面临|描写|苗条|敏感|名牌|名片|名胜古迹|明确|明显|明星|命令|命运|摩托车|模仿|模糊|模特|陌生|木头|目标|目录|目前|哪怕|难怪|难免|脑袋|内部|内科|能干|能源|年代|年纪|宁可|牛仔裤|农村|农民|农业|女士|欧洲|偶然|盼望|培训|培养|赔偿|佩服|配合|批准|疲劳|片面|拼音|频道|平均|平安|平常|平等|平方|平衡|平静|评价|破产|破坏|迫切|期待|期间|其余|奇迹|企业|启发|气氛|汽油|谦虚|前途|强调|强烈|悄悄|巧妙|亲爱|亲切|亲自|勤奋|清淡|轻视|轻易|青春|青少年|情景|情绪|请求|庆祝|球迷|趋势|取消|去世|全面|权利|权力|缺乏|确定|确认|燃烧|热爱|热烈|热心|人才|人口|人类|人民币|人生|人事|人物|人员|忍不住|日常|日程|日历|日期|日用品|日子|如何|如今|软件|嗓子|色彩|沙漠|沙滩|删除|闪电|善良|善于|扇子|伤害|商品|商务|商业|上当|舍不得|射击|摄影|设备|设计|设施|深刻|身材|身份|神话|神秘|声调|生产|生动|生长|绳子|省略|胜利|失眠|失去|失业|湿润|狮子|实话|实践|实习|实现|实验|实用|时差|时代|时刻|时髦|时期|时尚|石头|食物|使劲儿|始终|事实|事物|事先|似的|士兵|市场|试卷|收获|收据|手工|手术|手套|手续|手指|受伤|寿命|书架|梳子|舒适|蔬菜|输入|熟练|属于|鼠标|数据|数码|摔倒|双方|说不定|说服|丝绸|丝毫|思考|思想|私人|似乎|搜索|宿舍|随身|随时|随手|损失|缩短|台阶|太极拳|太太|谈判|坦率|淘气|逃避|讨价还价|特色|特殊|特征|疼爱|提倡|提纲|提问|题目|体会|体贴|体现|体验|天空|天真|调皮|调整|挑战|通常|统一|痛苦|痛快|投入|投资|透明|突出|土地|土豆|兔子|推辞|推广|推荐|退步|退休|外公|外交|完美|完善|完整|玩具|万一|王子|往返|网络|危害|威胁|微笑|唯一|围巾|围绕|维修|违反|伟大|委屈|尾巴|位于|位置|未必|未来|胃口|温暖|温柔|文件|文具|文明|文学|文字|稳定|问候|卧室|握手|屋子|无奈|无数|无所谓|武术|物理|物质|吸取|吸收|戏剧|系统|细节|下载|夏令营|鲜艳|显得|显然|显示|现代|现实|现象|限制|相处|相当|相对|相关|相似|香肠|享受|想念|想象|象棋|象征|项链|项目|消费|消化|消极|消失|销售|小麦|小气|孝顺|效率|写作|心理|心脏|欣赏|信号|信任|形成|形容|形势|形式|形象|形状|行动|行人|行为|幸亏|幸运|性质|兄弟|休闲|修改|虚心|叙述|宣布|宣传|学历|学术|学问|寻找|询问|训练|迅速|押金|牙齿|严肃|延长|演讲|宴会|阳台|样式|要不|业务|业余|依然|一辈子|一旦|一律|一再|一致|疑问|移动|移民|遗憾|以及|以来|义务|意外|意义|议论|因而|因素|印刷|英俊|英雄|营养|营业|迎接|影子|应付|应用|硬件|拥抱|拥挤|勇气|用功|用途|优惠|优美|优势|悠久|油炸|游览|犹豫|有利|幼儿园|娱乐|与其|语气|玉米|预报|预订|预防|元旦|原料|原则|员工|愿望|乐器|运气|运输|运用|灾害|再三|在乎|在于|赞成|赞美|糟糕|造成|责备|粘贴|展开|展览|战争|掌握|长辈|账户|招待|着火|着凉|召开|照常|哲学|珍惜|真实|针对|诊断|振动|争论|争取|征求|整个|整齐|整体|政府|政治|证件|证据|支票|执照|指导|指挥|制定|制度|制造|制作|志愿者|智慧|治疗|秩序|至今|至于|中介|中心|中旬|种类|重大|重量|周到|竹子|逐步|逐渐|主持|主动|主观|主人|主任|主题|主席|主张|注册|祝福|抓紧|专家|专心|转变|转告|装饰|装修|状况|状态|追求|咨询|姿势|资格|资金|资料|资源|字母|字幕|自从|自动|自豪|自觉|自私|自由|自愿|综合|总裁|总共|总理|总算|总统|总之|组成|组合|组织|阻止|最初|尊敬|遵守|作品|作为|作文|爱情|安排|安全|按时|按照|百分之|包子|保护|保证|报名|抱歉|本来|比如|毕业|标准|表格|表示|表演|表扬|饼干|并且|博士|不过|不得不|不管|不仅|部分|材料|参观|餐厅|厕所|差不多|长城|长江|超过|乘坐|成功|成为|诚实|吃惊|重新|抽烟|出差|出发|出生|出现|厨房|传真|窗户|词语|从来|粗心|错误|答案|打扮|打扰|打印|打招呼|打折|打针|大概|大使馆|大约|大夫|当时|导游|到处|到底|道歉|得意|登机牌|地点|地球|地址|调查|动作|堵车|肚子|短信|对话|对面|对于|儿童|发生|发展|法律|翻译|烦恼|反对|方法|方面|方向|房东|放弃|放暑假|放松|丰富|否则|符合|付款|复印|复杂|父亲|负责|改变|干杯|感动|感觉|感情|感谢|高速公路|胳膊|公里|功夫|工资|共同|购物|估计|鼓励|故意|顾客|关键|观众|管理|广播|广告|规定|国籍|国际|果汁|过程|海洋|害羞|寒假|航班|好处|好像|号码|合格|合适|盒子|后悔|互联网|互相|护士|怀疑|回忆|活动|活泼|获得|基础|激动|积极|积累|即使|及时|技术|既然|继续|计划|记者|加班|加油站|家具|价格|坚持|减肥|减少|建议|将来|奖金|降低|降落|交流|交通|郊区|骄傲|饺子|教授|教育|接受|接着|结果|节约|解释|尽管|紧张|禁止|进行|京剧|精彩|经济|经历|经验|景色|警察|竞争|竟然|镜子|究竟|举办|举行|拒绝|聚会|距离|开玩笑|开心|看法|烤鸭|考虑|科学|咳嗽|可怜|可是|可惜|客厅|肯定|空气|恐怕|矿泉水|困难|垃圾桶|来不及|来得及|来自|浪费|浪漫|老虎|冷静|理发|理解|理想|礼拜天|礼貌|例如|力气|厉害|联系|凉快|零钱|另外|流利|流行|旅行|律师|麻烦|马虎|毛巾|美丽|迷路|密码|免费|民族|母亲|目的|耐心|难道|难受|内容|能力|年龄|暖和|偶尔|排队|排列|判断|批评|皮肤|脾气|乒乓球|平时|葡萄|普遍|普通话|其次|其中|气候|千万|签证|巧克力|亲戚|轻松|情况|区别|全部|缺点|缺少|确实|然而|热闹|任何|任务|仍然|日记|入口|散步|森林|沙发|伤心|商量|稍微|勺子|社会|申请|甚至|生活|生命|生意|失败|失望|师傅|十分|实际|实在|使用|世纪|是否|适合|适应|收入|收拾|首都|首先|受不了|受到|售货员|熟悉|数量|数字|顺便|顺利|顺序|说明|硕士|塑料袋|速度|随便|随着|孙子|所有|态度|弹钢琴|讨论|讨厌|特点|提供|提前|提醒|填空|条件|通过|通知|同情|同时|推迟|袜子|完全|往往|网球|网站|危险|卫生间|味道|温度|文章|污染|无聊|无论|误会|吸引|西红柿|现金|羡慕|相反|相同|详细|橡皮|消息|小吃|小伙子|小说|效果|笑话|心情|辛苦|信封|信息|信心|兴奋|幸福|性别|性格|修理|许多|学期|压力|牙膏|亚洲|严格|严重|研究|演出|演员|眼镜|阳光|养成|样子|邀请|要是|钥匙|也许|叶子|一切|以为|意见|艺术|因此|引起|印象|应聘|勇敢|永远|优点|优秀|幽默|尤其|由于|邮局|友好|友谊|有趣|于是|愉快|羽毛球|语法|语言|预习|原来|原谅|原因|约会|阅读|允许|杂志|咱们|暂时|责任|增加|占线|招聘|真正|整理|正常|正好|正确|正式|证明|支持|知识|值得|植物|直接|职业|只好|只要|至少|质量|重点|重视|周围|主意|祝贺|著名|专门|专业|准确|准时|仔细|自然|自信|总结|最好|尊重|左右|作家|作用|作者|座位|什么|什么 N|不是|吗?|(的)|N 呢?|多大|会 V|怎么 V|多少 N|元／块|哪儿？|Q 呢|N 呢？|请 V|(的)|会 V|V 吧。|……啊|都 N|十几|几十|多 A|一下|还 A|怎么|还 V|还没 V|……呢!|再 V|再 V|V V|V一V|可能|V 过|V 好|那也|A 了|V 了|N 呢?|刚 V|刚才|一刻|一刻钟|再 V|又 V|# 左右|什么|A 极了|关于|想起来|刚才|正好|几乎 #|几乎 A|几乎 V|尽管|不管|以为|按照 N|肯定|肯定的|再说|再说|实际的|实际|实际上|特别|特别的|# 倍|值得 V|值/值得|值 $|其中|来不及|要是|可不是！|因此|往往|经常/常|难道|通过|经过|通过|经过|通过|经过|可是|结果|结果……|上 #|不过|不过 V|确实|由于……|由于 N|比如……|否则|然而|同时……|对于 N|关于 N|大概 #|偶尔|进行|进行 O|随着 N|够 A|以 N|既然|于是……|因此……|什么的|V 起来|想起来|不一定|一定的|来 V|# 左右|可 Q|可 V|怕/害怕|恐怕……|到底|到底 Q|敢 V|# 趟|# 次|是否|受不了|接着 V|接着|除此以外|V 上|V 出来|总的来说|在于|究竟 Q|V 起来|V 起来|说起 O|如何|如何|居然|以来|立刻|包括|各自|时刻|至今|顶着|反而|从而|V 起来|说不定|说不定|N 似的|纷纷 V|分别|分别|分别|分别|倒/反倒|彼此 V|彼此|彼此彼此|作为 N|曾经|毕竟|逐渐|或许|V 过来|有所 V|无所 V|相当|相当|以及|程度|何必|多亏|所谓|# 则|V 起|V 得过|迟早|再三|个别 V|个别 N|并非|平常|平常|宁可|极其|其余|N 般|V 不起|V 得起|硬 V|硬 V|偶然的|偶然 V|尽快 V|一旦 V|难免|一致|一致 V|某某|幸亏……|行动|行动|行动|义务|义务|简直|至于|至于|总算|总算|V 下来|舍得|舍不得|从此|假设……|假设|干脆 V|干脆|万一|万一|无意|有利|的确|嗯？|嗯！|轻易 V|密切|密切|密切|逐步|照常|总之|V 过|V 过|V 开|赶快|根本|除非|直到|反正|甲乙丙丁|顺(着)|何不|何尝|何至于|据说……|因而|巴不得|恨不得|顿时|不由得|过于|着呢|乘机|不料|固然|无非|唯独|明明|大不了的|致使|并非|有关 N|不瞒你说|即便|所在|所在|统统|不妨 V|务必|鉴于|便于|难以 V|免得|时而|不禁 V|无不 V|足以|姑且|随即|宁愿|进而|得以 V|偏偏 V|况且|以免|甲乙丙丁|加以 V|紧缩句|特意|即将|别说|一个 N|预先|不时|多多少少|逐 M|归根到底|哪怕|反之|一时|终究|一经|本着 N|暂且|屡次|依据|依据|任意|尚未|不无|帮助|报纸|宾馆|唱歌|打篮球|大家|弟弟|第一|房间|非常|服务员|告诉|哥哥|公共汽车|公司|孩子|好吃|火车站|机场|鸡蛋|教室|姐姐|介绍|觉得|咖啡|开始|考试|可能|可以|快乐|旅游|妹妹|面条|牛奶|旁边|跑步|便宜|妻子|起床|铅笔|去年|上班|身体|生病|生日|时间|事情|手表|手机|说话|踢足球|跳舞|晚上|为什么|问题|希望|西瓜|小时|休息|颜色|眼睛|羊肉|一下|已经|一起|意思|游泳|右边|运动|早上|丈夫|正在|知道|准备|左边|爸爸|杯子|北京|不客气|出租车|打电话|电脑|电视|电影|东西|对不起|多少|儿子|饭店|飞机|分钟|高兴|工作|汉语|后面|今天|看见|老师|妈妈|没关系|没有|米饭|名字|明天|哪儿|女儿|朋友|漂亮|苹果|前面|认识|商店|上午|什么|时候|水果|睡觉|天气|同学|我们|喜欢|下午|下雨|先生|现在|小姐|谢谢|星期|学生|学习|学校|一点儿|医生|医院|衣服|椅子|再见|怎么|怎么样|中国|中午|桌子|昨天|阿姨|爱好|安静|办法|办公室|帮忙|北方|鼻子|比较|比赛|笔记本|必须|变化|别人|冰箱|菜单|参加|超市|衬衫|城市|成绩|迟到|除了|词典|聪明|打扫|打算|担心|蛋糕|当然|地方|地铁|地图|电梯|电子邮件|动物|锻炼|多么|耳朵|发烧|发现|方便|放心|复习|附近|干净|感冒|感兴趣|刚才|个子|根据|公斤|公园|故事|刮风|关系|关心|关于|国家|过去|还是|害怕|黑板|后来|护照|欢迎|环境|黄河|回答|会议|或者|几乎|机会|季节|记得|检查|简单|健康|见面|街道|结婚|结束|节目|节日|解决|经常|经过|经理|句子|决定|可爱|客人|空调|裤子|筷子|离开|礼物|历史|练习|聊天|了解|邻居|留学|马上|满意|帽子|面包|明白|奶奶|难过|年级|年轻|努力|爬山|盘子|啤酒|皮鞋|瓶子|其实|其他|奇怪|起飞|起来|清楚|请假|裙子|然后|热情|认为|认真|容易|如果|上网|声音|生气|世界|叔叔|舒服|数学|刷牙|水平|司机|太阳|特别|提高|体育|同事|同意|头发|突然|图书馆|完成|忘记|为了|文化|习惯|洗手间|洗澡|相信|香蕉|小心|校长|新闻|新鲜|信用卡|行李箱|熊猫|需要|选择|要求|爷爷|一直|一定|一共|一会儿|一样|以前|一般|一边|音乐|银行|饮料|应该|影响|游戏|有名|遇到|愿意|月亮|着急|照顾|照片|照相机|中间|中文|终于|重要|周末|主要|注意|自己|自行车|总是|最后|最近|作业'"
      ]
     },
     "execution_count": 46,
     "metadata": {},
     "output_type": "execute_result"
    }
   ],
   "source": [
    "'|'.join(dddd.tolist())"
   ]
  },
  {
   "cell_type": "code",
   "execution_count": 79,
   "metadata": {},
   "outputs": [
    {
     "data": {
      "text/html": [
       "<div>\n",
       "<style scoped>\n",
       "    .dataframe tbody tr th:only-of-type {\n",
       "        vertical-align: middle;\n",
       "    }\n",
       "\n",
       "    .dataframe tbody tr th {\n",
       "        vertical-align: top;\n",
       "    }\n",
       "\n",
       "    .dataframe thead th {\n",
       "        text-align: right;\n",
       "    }\n",
       "</style>\n",
       "<table border=\"1\" class=\"dataframe\">\n",
       "  <thead>\n",
       "    <tr style=\"text-align: right;\">\n",
       "      <th></th>\n",
       "      <th>Word</th>\n",
       "      <th>Traditional</th>\n",
       "      <th>Word Pinyin</th>\n",
       "      <th>Purposes</th>\n",
       "      <th>Usages</th>\n",
       "      <th>Examples</th>\n",
       "      <th>Example pinyin</th>\n",
       "      <th>Example translation</th>\n",
       "      <th>Level</th>\n",
       "    </tr>\n",
       "  </thead>\n",
       "  <tbody>\n",
       "    <tr>\n",
       "      <th>63</th>\n",
       "      <td>份</td>\n",
       "      <td>份</td>\n",
       "      <td>fèn</td>\n",
       "      <td>Counter</td>\n",
       "      <td>Measure word for copy of something</td>\n",
       "      <td>哦。那给我来一份吧。</td>\n",
       "      <td>ò。nà gěi wǒ lái yī fèn ba。</td>\n",
       "      <td>OK. Well, I'll take one order.</td>\n",
       "      <td>HSK 4</td>\n",
       "    </tr>\n",
       "    <tr>\n",
       "      <th>64</th>\n",
       "      <td>份</td>\n",
       "      <td>份</td>\n",
       "      <td>fèn</td>\n",
       "      <td>Counter</td>\n",
       "      <td>Measure word for portions share</td>\n",
       "      <td>这是你的第一份工作吗？</td>\n",
       "      <td>zhè shì nǐ de dì yī fèn gōngzuò ma？</td>\n",
       "      <td>Is this your first job?</td>\n",
       "      <td>HSK 4</td>\n",
       "    </tr>\n",
       "    <tr>\n",
       "      <th>184</th>\n",
       "      <td>台</td>\n",
       "      <td>颱</td>\n",
       "      <td>tái</td>\n",
       "      <td>Counter</td>\n",
       "      <td>Measure word for certain machinery apparatus a...</td>\n",
       "      <td>您这台是iPhone5是吧？</td>\n",
       "      <td>nín zhè tái shì iPhone 5 shì ba？</td>\n",
       "      <td>Your cell is an iPhone5, right?</td>\n",
       "      <td>HSK 4</td>\n",
       "    </tr>\n",
       "    <tr>\n",
       "      <th>217</th>\n",
       "      <td>场</td>\n",
       "      <td>場</td>\n",
       "      <td>cháng</td>\n",
       "      <td>Counter</td>\n",
       "      <td>Measure word for recreational sports activities</td>\n",
       "      <td>室内滑雪场</td>\n",
       "      <td>shìnèi huáxuěchǎng</td>\n",
       "      <td>indoor ski hill</td>\n",
       "      <td>HSK 4</td>\n",
       "    </tr>\n",
       "    <tr>\n",
       "      <th>345</th>\n",
       "      <td>抬</td>\n",
       "      <td>抬</td>\n",
       "      <td>tái</td>\n",
       "      <td>Counter</td>\n",
       "      <td>Measure word for sth that needs 2 people to carry</td>\n",
       "      <td>所以要让你们放松啊，自然一点。好，弹的时候尽量依靠指关节把手指抬高，然后弹下去。对了，很好，...</td>\n",
       "      <td>suǒyǐ yào ràng nǐmen fàngsōng a，zìrán yīdiǎn。h...</td>\n",
       "      <td>So, I told you all to relax. Be more natural. ...</td>\n",
       "      <td>HSK 4</td>\n",
       "    </tr>\n",
       "    <tr>\n",
       "      <th>...</th>\n",
       "      <td>...</td>\n",
       "      <td>...</td>\n",
       "      <td>...</td>\n",
       "      <td>...</td>\n",
       "      <td>...</td>\n",
       "      <td>...</td>\n",
       "      <td>...</td>\n",
       "      <td>...</td>\n",
       "      <td>...</td>\n",
       "    </tr>\n",
       "    <tr>\n",
       "      <th>21977</th>\n",
       "      <td>顿</td>\n",
       "      <td>頓</td>\n",
       "      <td>dùn</td>\n",
       "      <td>Counter</td>\n",
       "      <td>measure word for frequency</td>\n",
       "      <td>他被老板骂了一顿。</td>\n",
       "      <td>tā bèi lǎobǎn mà le yídùn。</td>\n",
       "      <td>He got a real telling off by his boys.</td>\n",
       "      <td>NaN</td>\n",
       "    </tr>\n",
       "    <tr>\n",
       "      <th>22036</th>\n",
       "      <td>颗</td>\n",
       "      <td>顆</td>\n",
       "      <td>kē</td>\n",
       "      <td>Counter</td>\n",
       "      <td>measure word for round small things</td>\n",
       "      <td>当然咯。你看我手指的方向，那颗就是。</td>\n",
       "      <td>dāngrán lo。nǐ kàn wǒ shǒu zhǐ de fāngxiàng，nà ...</td>\n",
       "      <td>Of course.  Look where I'm pointing. That's it...</td>\n",
       "      <td>NaN</td>\n",
       "    </tr>\n",
       "    <tr>\n",
       "      <th>22125</th>\n",
       "      <td>首</td>\n",
       "      <td>首</td>\n",
       "      <td>shǒu</td>\n",
       "      <td>Counter</td>\n",
       "      <td>Measure word for songs and poems</td>\n",
       "      <td>这是一首新歌，大家都来听听看。</td>\n",
       "      <td>zhè shì yī shǒu xīn gē，dàjiā dōu lái tīngting ...</td>\n",
       "      <td>This is a new song. Come and listen, everyone.</td>\n",
       "      <td>NaN</td>\n",
       "    </tr>\n",
       "    <tr>\n",
       "      <th>22421</th>\n",
       "      <td>磅</td>\n",
       "      <td>NaN</td>\n",
       "      <td>NaN</td>\n",
       "      <td>Counter</td>\n",
       "      <td>measure word for pound</td>\n",
       "      <td>NaN</td>\n",
       "      <td>NaN</td>\n",
       "      <td>NaN</td>\n",
       "      <td>NaN</td>\n",
       "    </tr>\n",
       "    <tr>\n",
       "      <th>22906</th>\n",
       "      <td>栋</td>\n",
       "      <td>NaN</td>\n",
       "      <td>NaN</td>\n",
       "      <td>Counter</td>\n",
       "      <td>measure word for houses or buildings</td>\n",
       "      <td>NaN</td>\n",
       "      <td>NaN</td>\n",
       "      <td>NaN</td>\n",
       "      <td>NaN</td>\n",
       "    </tr>\n",
       "  </tbody>\n",
       "</table>\n",
       "<p>80 rows × 9 columns</p>\n",
       "</div>"
      ],
      "text/plain": [
       "      Word Traditional Word Pinyin Purposes  \\\n",
       "63       份           份         fèn  Counter   \n",
       "64       份           份         fèn  Counter   \n",
       "184      台           颱         tái  Counter   \n",
       "217      场           場       cháng  Counter   \n",
       "345      抬           抬         tái  Counter   \n",
       "...    ...         ...         ...      ...   \n",
       "21977    顿           頓         dùn  Counter   \n",
       "22036    颗           顆          kē  Counter   \n",
       "22125    首           首        shǒu  Counter   \n",
       "22421    磅         NaN         NaN  Counter   \n",
       "22906    栋         NaN         NaN  Counter   \n",
       "\n",
       "                                                  Usages  \\\n",
       "63                    Measure word for copy of something   \n",
       "64                       Measure word for portions share   \n",
       "184    Measure word for certain machinery apparatus a...   \n",
       "217      Measure word for recreational sports activities   \n",
       "345    Measure word for sth that needs 2 people to carry   \n",
       "...                                                  ...   \n",
       "21977                         measure word for frequency   \n",
       "22036                measure word for round small things   \n",
       "22125                   Measure word for songs and poems   \n",
       "22421                             measure word for pound   \n",
       "22906               measure word for houses or buildings   \n",
       "\n",
       "                                                Examples  \\\n",
       "63                                            哦。那给我来一份吧。   \n",
       "64                                           这是你的第一份工作吗？   \n",
       "184                                       您这台是iPhone5是吧？   \n",
       "217                                                室内滑雪场   \n",
       "345    所以要让你们放松啊，自然一点。好，弹的时候尽量依靠指关节把手指抬高，然后弹下去。对了，很好，...   \n",
       "...                                                  ...   \n",
       "21977                                          他被老板骂了一顿。   \n",
       "22036                                 当然咯。你看我手指的方向，那颗就是。   \n",
       "22125                                    这是一首新歌，大家都来听听看。   \n",
       "22421                                                NaN   \n",
       "22906                                                NaN   \n",
       "\n",
       "                                          Example pinyin  \\\n",
       "63                            ò。nà gěi wǒ lái yī fèn ba。   \n",
       "64                   zhè shì nǐ de dì yī fèn gōngzuò ma？   \n",
       "184                     nín zhè tái shì iPhone 5 shì ba？   \n",
       "217                                   shìnèi huáxuěchǎng   \n",
       "345    suǒyǐ yào ràng nǐmen fàngsōng a，zìrán yīdiǎn。h...   \n",
       "...                                                  ...   \n",
       "21977                         tā bèi lǎobǎn mà le yídùn。   \n",
       "22036  dāngrán lo。nǐ kàn wǒ shǒu zhǐ de fāngxiàng，nà ...   \n",
       "22125  zhè shì yī shǒu xīn gē，dàjiā dōu lái tīngting ...   \n",
       "22421                                                NaN   \n",
       "22906                                                NaN   \n",
       "\n",
       "                                     Example translation  Level  \n",
       "63                        OK. Well, I'll take one order.  HSK 4  \n",
       "64                               Is this your first job?  HSK 4  \n",
       "184                      Your cell is an iPhone5, right?  HSK 4  \n",
       "217                                      indoor ski hill  HSK 4  \n",
       "345    So, I told you all to relax. Be more natural. ...  HSK 4  \n",
       "...                                                  ...    ...  \n",
       "21977             He got a real telling off by his boys.    NaN  \n",
       "22036  Of course.  Look where I'm pointing. That's it...    NaN  \n",
       "22125     This is a new song. Come and listen, everyone.    NaN  \n",
       "22421                                                NaN    NaN  \n",
       "22906                                                NaN    NaN  \n",
       "\n",
       "[80 rows x 9 columns]"
      ]
     },
     "execution_count": 79,
     "metadata": {},
     "output_type": "execute_result"
    }
   ],
   "source": [
    "chineseV[chineseV['Purposes']=='Counter']"
   ]
  },
  {
   "cell_type": "code",
   "execution_count": null,
   "metadata": {},
   "outputs": [],
   "source": []
  }
 ],
 "metadata": {
  "kernelspec": {
   "display_name": "Python 3",
   "language": "python",
   "name": "python3"
  },
  "language_info": {
   "codemirror_mode": {
    "name": "ipython",
    "version": 3
   },
   "file_extension": ".py",
   "mimetype": "text/x-python",
   "name": "python",
   "nbconvert_exporter": "python",
   "pygments_lexer": "ipython3",
   "version": "3.7.2"
  }
 },
 "nbformat": 4,
 "nbformat_minor": 4
}
