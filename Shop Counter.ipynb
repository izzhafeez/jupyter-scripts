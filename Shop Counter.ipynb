{
 "cells": [
  {
   "cell_type": "code",
   "execution_count": 24,
   "metadata": {},
   "outputs": [],
   "source": [
    "text = \"\"\"108 Florist#B1-K1\n",
    "8 Medi-Aesthetics#04-19/20\n",
    "82 Own#01-01\n",
    "Air Salon#02-01\n",
    "Astons Specialities#04-03/04\n",
    "Best Imprezzione#02-13\n",
    "Cathay CineplexesLevels 5 & 6\n",
    "Cheers#01-13/14/K1\n",
    "Chota#03-03\n",
    "Darts Legend#02-11\n",
    "Hair Of The Dog#01-11/12\n",
    "Home Nails#01-17\n",
    "IDP Singapore#02-06/07/08\n",
    "Inahamani#03-08\n",
    "J.Lashes#04-02\n",
    "KOOKS Creamery#01-06\n",
    "LiHO TEA 里喝#01-10\n",
    "Lux Aesthetics Face Skin & Body#02-09A\n",
    "Lux Medical Aesthetic Clinic#02-09\n",
    "Maki-San#B1-17/18\n",
    "Matchaya#01-08/09\n",
    "Oblique Eyewear#01-07\n",
    "Overjoyed#B1-11\n",
    "Popeyes#B1-21/22\n",
    "Saizeriya Ristorante E Caffe#B1-25\n",
    "Starbucks Coffee#01-05\n",
    "Strip#02-10\n",
    "The Assembly Ground#01-21\n",
    "The Assembly Ground Store#01-22/23\n",
    "The Bettership#01-03\n",
    "The Cathay Gallery#02-16\n",
    "The Space Hair Salon#04-06\n",
    "The Tree Cafe#02-12/14\n",
    "Training Vision#03-06/07/08\"\"\""
   ]
  },
  {
   "cell_type": "code",
   "execution_count": 25,
   "metadata": {},
   "outputs": [
    {
     "data": {
      "text/plain": [
       "33"
      ]
     },
     "execution_count": 25,
     "metadata": {},
     "output_type": "execute_result"
    }
   ],
   "source": [
    "text.count(\"\\n\")"
   ]
  },
  {
   "cell_type": "code",
   "execution_count": 22,
   "metadata": {},
   "outputs": [
    {
     "data": {
      "text/plain": [
       "'7-Eleven\\n#B1-38\\nServices\\n\\n\\nAn’s Closet\\n#B1-43\\nFashion & Accessories\\n\\n\\nBeauty 21\\n#B1-09A\\nBeauty & Cosmetics\\n\\n\\nbluPort\\n#B1-K8\\nServices\\n\\n\\nBreadtalk\\n#B1-42\\nRestaurants & Cafes\\n\\n\\nbYSI\\n#B1-18-20\\nFashion & Accessories\\n\\n\\nCHARLES & KEITH\\n#B1-32-34\\nFashion Footwear\\n\\n\\nCoffee & Toast\\n#B1-40\\nRestaurants & Cafes\\n\\n\\nCoo.Seoul+\\n#B1-41\\nFashion & Accessories\\n\\n\\nCotton Amour\\n#B1-29\\nFashion & Accessories\\n\\n\\nDBS Bank\\n#B1-28-30\\nServices\\n\\n\\nDMK\\n#B1-59\\nFashion Footwear\\n\\n\\nDollHouse nails\\n#B1-08\\nBeauty & Cosmetics\\n\\n\\nDreamlash\\n#B1-09A\\nBeauty & Cosmetics\\n\\n\\nDuke Bakery\\n#B1-61\\nRestaurants & Cafes\\n\\n\\nFace Shower Bar\\n#B1-17A\\nBeauty & Cosmetics\\n\\n\\nFayth\\n#B1-57\\nFashion & Accessories\\n\\n\\nFun ToAst\\n#B1-04\\nRestaurants & Cafes\\n\\n\\nGarrett Popcorns Shops\\n#B1-26C\\nRestaurants & Cafes\\n\\n\\nGuardian Health & Beauty\\n#B1-67\\nPharmacy & Health\\n\\n\\nHairArt Studio\\n#B1-11\\nBeauty & Cosmetics\\n\\n\\nHer Velvet Vase\\n#B1-55\\nFashion & Accessories\\n\\n\\nIDATEN UDON\\n#B1-21\\nRestaurants & Cafes\\n\\n\\nIMC Dental\\n#B1-03-05\\nPharmacy & Health\\n\\n\\nIMC Medical\\n#B1-03-05\\nPharmacy & Health\\n\\n\\niORA\\n#B1-26-26B\\nFashion & Accessories\\n\\n\\nJamaica Blue\\n#B1-10\\nRestaurants & Cafes\\n\\n\\nJenjudan and Egg Stop\\n#B1-13\\nRestaurants & Cafes\\n\\n\\nKitty Mobile\\n#B1-17A\\nGifts\\n\\n\\nKOI Café\\n#B1-66\\nRestaurants & Cafes\\n\\n\\nKowayo by eMediSpa\\n#01-03B\\nBeauty & Cosmetics\\n\\n\\nKurotaki Chabann\\n#B1-49\\nRestaurants & Cafes\\n\\n\\nLEVI’S\\n#B1-35\\nFashion & Accessories\\n\\n\\nmds\\n#B1-36A\\nFashion & Accessories\\n\\n\\nMixshop\\n#B1-45\\nFashion & Accessories\\n\\n\\nMontip\\n#B1-31\\nFashion & Accessories\\n\\n\\nOKZ\\n#B1-37\\nFashion & Accessories\\n\\n\\nPaik’s Bibim\\n#B1-19\\nRestaurants & Cafes\\n\\n\\nPaik’s Coffee\\n#B1-19\\nRestaurants & Cafes\\n\\n\\nPalola\\n#B1-33\\nFashion Footwear\\n\\n\\nPERFECT FIT\\n#B1-10A\\nGifts\\n\\n\\nPlaydress\\n#B1-36\\nFashion & Accessories\\n\\n\\nPOP Station\\n#B1-K6\\nServices\\n\\n\\nprettyFIT\\n#B1-44-46\\nFashion Footwear\\n\\n\\nPulse TCM Clinic\\n#B1-07\\nPharmacy & Health\\n\\n\\nPure and Well\\n#B1-51\\nPharmacy & Health\\n\\n\\nReward Laundry\\n#B1-06\\nServices\\n\\n\\nRococo\\n#B1-39\\nFashion & Accessories\\n\\n\\nSERIES\\n#B1-53\\nFashion & Accessories\\n\\n\\nsmiggle\\n#B1-48\\nGifts\\n\\n\\nSO Blossom\\n#B1-06A\\nServices\\n\\n\\nSouthaven\\n#B1-25-27\\nFashion & Accessories\\n\\n\\nSTARBUCKS COFFEE\\n#B1-15-17\\nRestaurants & Cafes\\n\\n\\nSuparakki Ramen\\n##B1-65\\nServices\\n\\n\\nSUSHI EXPRESS\\n#B1-23\\nRestaurants & Cafes\\n\\n\\nTap Craft Beer Bar\\n#01-02-02B\\nRestaurants & Cafes\\n\\n\\nThe DENTAL PEARL\\n#01--03\\nPharmacy & Health\\n\\n\\nThe Medical Practice\\n#01-03A\\nPharmacy & Health\\n\\n\\nThe Ogee Clinic\\n#B1-12-14\\nPharmacy & Health\\n\\n\\nThe Sandwich Shop\\n#01-02A\\nRestaurants & Cafes\\n\\n\\nTimHoWan\\n#B1-63-63A\\nRestaurants & Cafes\\n\\n\\nUFC Gym\\n#B1-47-47C\\nServices\\n\\n\\nUOB ATM\\n#B1-K5\\nServices\\n\\n\\nVacanza\\n#B1-24A\\nFashion & Accessories\\n\\n\\nYellow Cab Pizza\\n#B1-01-02\\nRestaurants & Cafes\\n\\n\\nYishu\\n#B1-22\\nFashion & Accessories\\n\\n\\nYomie Rice Yogurt\\n##B1-07A\\nServices'"
      ]
     },
     "execution_count": 22,
     "metadata": {},
     "output_type": "execute_result"
    }
   ],
   "source": [
    "text"
   ]
  },
  {
   "cell_type": "code",
   "execution_count": null,
   "metadata": {},
   "outputs": [],
   "source": []
  }
 ],
 "metadata": {
  "kernelspec": {
   "display_name": "Python 3",
   "language": "python",
   "name": "python3"
  },
  "language_info": {
   "codemirror_mode": {
    "name": "ipython",
    "version": 3
   },
   "file_extension": ".py",
   "mimetype": "text/x-python",
   "name": "python",
   "nbconvert_exporter": "python",
   "pygments_lexer": "ipython3",
   "version": "3.7.2"
  }
 },
 "nbformat": 4,
 "nbformat_minor": 4
}
