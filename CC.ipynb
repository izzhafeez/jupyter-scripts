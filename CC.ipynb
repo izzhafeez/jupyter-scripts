{
 "cells": [
  {
   "cell_type": "code",
   "execution_count": 9,
   "metadata": {},
   "outputs": [],
   "source": [
    "from wilcoxon.spiderman import *\n",
    "from wilcoxon.utils import *\n",
    "from wilcoxon.sheets import *\n",
    "import re\n",
    "from tqdm import tqdm\n",
    "import pandas as pd"
   ]
  },
  {
   "cell_type": "code",
   "execution_count": 2,
   "metadata": {},
   "outputs": [],
   "source": [
    "postcodeMap = getGeo(\"Postcode\").drop_duplicates(\"Postcode\").set_index(\"Postcode\").to_dict(\"index\")"
   ]
  },
  {
   "cell_type": "code",
   "execution_count": 3,
   "metadata": {},
   "outputs": [],
   "source": [
    "site = website(\"https://www.pa.gov.sg/our-network/community-clubs/locate-cc\")"
   ]
  },
  {
   "cell_type": "code",
   "execution_count": 4,
   "metadata": {},
   "outputs": [],
   "source": [
    "names = re.findall(\"'(.*?)'\",str(site.html(\"script\")[-10]))"
   ]
  },
  {
   "cell_type": "code",
   "execution_count": 7,
   "metadata": {},
   "outputs": [
    {
     "name": "stderr",
     "output_type": "stream",
     "text": [
      "100%|██████████| 110/110 [00:15<00:00,  6.98it/s]\n"
     ]
    }
   ],
   "source": [
    "Ls = []\n",
    "for name in tqdm(names):\n",
    "    name = re.sub(\"\\s*@\\s*\",\" \",name)\n",
    "    ccSite = website(\"https://www.pa.gov.sg/our-network/community-clubs/locate-cc/detail/\" + \"-\".join(name.split()))\n",
    "    postcode = re.findall(\"\\d{6}\",strippedStrings(ccSite.html.find(text=\"Contact Information\").find_next())[0])[0]\n",
    "    try:\n",
    "        lat = postcodeMap[int(postcode)][\"Lat\"]\n",
    "        long = postcodeMap[int(postcode)][\"Long\"]\n",
    "    except:\n",
    "        try:\n",
    "            lat,long = postcodeCoords(name)\n",
    "        except:\n",
    "            lat,long=[\"\",\"\"]\n",
    "    try: ccFac = ccSite.html(text=re.compile(\"Facilities:\"))[0].split(\": \")[1]\n",
    "    except: ccFac = \"\"\n",
    "    try: vdFac = ccSite.html(text=re.compile(\"Facilities:\"))[1].split(\": \")[1]\n",
    "    except: vdFac = \"\"\n",
    "    try: ccCount = ccSite.html(text=re.compile(\"Counter Services:\"))[0].split(\": \")[1]\n",
    "    except: ccCount = \"\"\n",
    "    try: vdCount = ccSite.html(text=re.compile(\"Counter Services:\"))[1].split(\": \")[1]\n",
    "    except: vdCount = \"\"\n",
    "    L = {\"Name\":name,\n",
    "        \"Postcode\":postcode,\n",
    "        \"Lat\":lat,\n",
    "        \"Long\":long,\n",
    "        \"CC Facilities\":ccFac,\n",
    "        \"CC Counter Services\":ccCount,\n",
    "        \"Void Deck Facilities\":vdFac,\n",
    "        \"Void Deck Counter Services\":vdCount}\n",
    "    Ls.append(L)"
   ]
  },
  {
   "cell_type": "code",
   "execution_count": 11,
   "metadata": {},
   "outputs": [],
   "source": [
    "pd.DataFrame(Ls).to_clipboard(index=False)"
   ]
  },
  {
   "cell_type": "code",
   "execution_count": null,
   "metadata": {},
   "outputs": [],
   "source": []
  }
 ],
 "metadata": {
  "kernelspec": {
   "display_name": "Python 3",
   "language": "python",
   "name": "python3"
  },
  "language_info": {
   "codemirror_mode": {
    "name": "ipython",
    "version": 3
   },
   "file_extension": ".py",
   "mimetype": "text/x-python",
   "name": "python",
   "nbconvert_exporter": "python",
   "pygments_lexer": "ipython3",
   "version": "3.8.5"
  }
 },
 "nbformat": 4,
 "nbformat_minor": 4
}
