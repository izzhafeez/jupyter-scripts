{
 "cells": [
  {
   "cell_type": "code",
   "execution_count": 42,
   "metadata": {},
   "outputs": [],
   "source": [
    "from wilcoxon.spiderman import *\n",
    "import pandas as pd\n",
    "from tqdm import tqdm\n",
    "import geopandas as gpd\n",
    "import shapely\n",
    "from wilcoxon.utils import *"
   ]
  },
  {
   "cell_type": "code",
   "execution_count": 12,
   "metadata": {},
   "outputs": [],
   "source": [
    "def convertCoords(d,m,s):\n",
    "    return float(d) + float(m)/60 + float(s)/3600"
   ]
  },
  {
   "cell_type": "code",
   "execution_count": 13,
   "metadata": {},
   "outputs": [],
   "source": [
    "# MRT\n",
    "\n",
    "stations = website(\"https://en.wikipedia.org/wiki/List_of_Singapore_MRT_stations\")\n",
    "stations.getTables()\n",
    "stationLinksM = stations.tables[1][\"Links\"].apply(lambda x: x.split(\"\\n\")[0]).tolist()\n",
    "stationLinksM = [x for x in stationLinksM if (\"a\"+x)[-1] == \"n\"]\n",
    "stationLinksM.extend([\"https://en.wikipedia.org/wiki/Changi_Airport_MRT_station\",\n",
    "                     \"https://en.wikipedia.org/wiki/Expo_MRT_station\",\n",
    "                     \"https://en.wikipedia.org/wiki/Tanah_Merah_MRT_station\"])"
   ]
  },
  {
   "cell_type": "code",
   "execution_count": 14,
   "metadata": {},
   "outputs": [],
   "source": [
    "# LRT\n",
    "\n",
    "stations = website(\"https://en.wikipedia.org/wiki/List_of_Singapore_LRT_stations\")\n",
    "stations.getTables()\n",
    "stationLinksL = stations.tables[0][\"Links\"].apply(lambda x: x.split(\"\\n\")[0]).tolist()\n",
    "stationLinksL = [x for x in stationLinksL if (\"a\"+x)[-1] == \"n\"]\n",
    "stationLinksL.extend([\"https://en.wikipedia.org/wiki/Damai_LRT_station_(Singapore)\"])"
   ]
  },
  {
   "cell_type": "code",
   "execution_count": 15,
   "metadata": {},
   "outputs": [],
   "source": [
    "# COMBINED\n",
    "\n",
    "stationLinks = list(set(stationLinksM + stationLinksL))"
   ]
  },
  {
   "cell_type": "code",
   "execution_count": 16,
   "metadata": {},
   "outputs": [],
   "source": [
    "def getMRTFromLink(link):\n",
    "    site = website(link)\n",
    "    try:\n",
    "        stationName = site.html(\"title\")[0].string.split(\" MRT\")[0]\n",
    "    except Exception as e:\n",
    "        print(\"stationName gave the error: \" + str(e) + \"\\n\" + link)\n",
    "        stationName = None\n",
    "    \n",
    "    try:\n",
    "        # stationLabels = \", \".join(list(site.html(class_=\"nobold\")[0].stripped_strings))\n",
    "        \n",
    "        # Station name in different languages, and label\n",
    "        stationDetails = list(site.html.find(class_=\"fn org\").stripped_strings)\n",
    "        chineseIndex = 0\n",
    "        for detail in stationDetails:\n",
    "            if re.compile('[\\u4e00-\\u9fff]+').search(detail):\n",
    "                chineseIndex = stationDetails.index(detail)\n",
    "        stationLabels = \", \".join(stationDetails[:chineseIndex-1])\n",
    "        stationChinese = stationDetails[chineseIndex]\n",
    "    except Exception as e:\n",
    "        print(\"stationLabels gave the error: \" + str(e) + \"\\n\" + link)\n",
    "        stationLabels = None\n",
    "        stationChinese = None\n",
    "    \n",
    "    try:\n",
    "        lat = convertCoords(*re.findall(\"[0-9.]+\", site.html(class_=\"latitude\")[0].text))\n",
    "        long = convertCoords(*re.findall(\"[0-9.]+\", site.html(class_=\"longitude\")[0].text))\n",
    "    except Exception as e:\n",
    "        print(\"latlong gave the error: \" + str(e) + \"\\n\" + link)\n",
    "        lat = None\n",
    "        long = None\n",
    "\n",
    "    try:\n",
    "        fullAddress = list(site.html(class_=\"infobox-data\")[0].strings)\n",
    "        address = fullAddress[0]\n",
    "        postcode = re.findall(r\"\\d{6}\", fullAddress[1])[0]\n",
    "    except Exception as e:\n",
    "        print(\"address gave the error: \" + str(e) + \"\\n\" + link)\n",
    "        address = None\n",
    "        postcode = None\n",
    "    \n",
    "    return {\"Label\": stationLabels, \"Name\": stationName, \"Chinese\": stationChinese, \"Address\": address, \"Postcode\": postcode, \"Lat\": lat, \"Long\": long, \"Link\": link}"
   ]
  },
  {
   "cell_type": "code",
   "execution_count": 17,
   "metadata": {
    "scrolled": true
   },
   "outputs": [
    {
     "name": "stderr",
     "output_type": "stream",
     "text": [
      "  4%|▎         | 8/224 [00:13<06:01,  1.67s/it]"
     ]
    },
    {
     "name": "stdout",
     "output_type": "stream",
     "text": [
      "address gave the error: list index out of range\n",
      "http://wikipedia.org/wiki/Brickland_MRT_station\n"
     ]
    },
    {
     "name": "stderr",
     "output_type": "stream",
     "text": [
      "  9%|▉         | 20/224 [00:31<04:24,  1.30s/it]"
     ]
    },
    {
     "name": "stdout",
     "output_type": "stream",
     "text": [
      "latlong gave the error: list index out of range\n",
      "http://wikipedia.org/wiki/Sungei_Kadut_MRT_station\n",
      "address gave the error: list index out of range\n",
      "http://wikipedia.org/wiki/Sungei_Kadut_MRT_station\n"
     ]
    },
    {
     "name": "stderr",
     "output_type": "stream",
     "text": [
      " 11%|█         | 25/224 [00:40<05:19,  1.61s/it]"
     ]
    },
    {
     "name": "stdout",
     "output_type": "stream",
     "text": [
      "address gave the error: list index out of range\n",
      "http://wikipedia.org/wiki/Hume_MRT_station\n"
     ]
    },
    {
     "name": "stderr",
     "output_type": "stream",
     "text": [
      " 15%|█▍        | 33/224 [00:51<04:57,  1.56s/it]"
     ]
    },
    {
     "name": "stdout",
     "output_type": "stream",
     "text": [
      "address gave the error: list index out of range\n",
      "http://wikipedia.org/wiki/Loyang_MRT_station\n"
     ]
    },
    {
     "name": "stderr",
     "output_type": "stream",
     "text": [
      " 16%|█▌        | 36/224 [00:56<05:00,  1.60s/it]"
     ]
    },
    {
     "name": "stdout",
     "output_type": "stream",
     "text": [
      "address gave the error: list index out of range\n",
      "http://wikipedia.org/wiki/Tengah_MRT_station\n"
     ]
    },
    {
     "name": "stderr",
     "output_type": "stream",
     "text": [
      " 17%|█▋        | 39/224 [01:03<06:27,  2.10s/it]"
     ]
    },
    {
     "name": "stdout",
     "output_type": "stream",
     "text": [
      "address gave the error: list index out of range\n",
      "http://wikipedia.org/wiki/Tukang_MRT_station\n"
     ]
    },
    {
     "name": "stderr",
     "output_type": "stream",
     "text": [
      "\r",
      " 18%|█▊        | 40/224 [01:04<05:10,  1.69s/it]"
     ]
    },
    {
     "name": "stdout",
     "output_type": "stream",
     "text": [
      "address gave the error: list index out of range\n",
      "http://wikipedia.org/wiki/Defu_MRT_station\n"
     ]
    },
    {
     "name": "stderr",
     "output_type": "stream",
     "text": [
      " 19%|█▉        | 43/224 [01:08<04:21,  1.45s/it]"
     ]
    },
    {
     "name": "stdout",
     "output_type": "stream",
     "text": [
      "address gave the error: list index out of range\n",
      "http://wikipedia.org/wiki/Marine_Terrace_MRT_station\n"
     ]
    },
    {
     "name": "stderr",
     "output_type": "stream",
     "text": [
      " 25%|██▌       | 56/224 [01:25<03:44,  1.33s/it]"
     ]
    },
    {
     "name": "stdout",
     "output_type": "stream",
     "text": [
      "address gave the error: list index out of range\n",
      "http://wikipedia.org/wiki/Jurong_Hill_MRT_station\n"
     ]
    },
    {
     "name": "stderr",
     "output_type": "stream",
     "text": [
      " 29%|██▊       | 64/224 [01:40<04:41,  1.76s/it]"
     ]
    },
    {
     "name": "stdout",
     "output_type": "stream",
     "text": [
      "address gave the error: list index out of range\n",
      "http://wikipedia.org/wiki/Hong_Kah_MRT_station\n"
     ]
    },
    {
     "name": "stderr",
     "output_type": "stream",
     "text": [
      " 34%|███▍      | 76/224 [02:01<04:14,  1.72s/it]"
     ]
    },
    {
     "name": "stdout",
     "output_type": "stream",
     "text": [
      "address gave the error: list index out of range\n",
      "http://wikipedia.org/wiki/Nanyang_Gateway_MRT_station\n"
     ]
    },
    {
     "name": "stderr",
     "output_type": "stream",
     "text": [
      " 36%|███▌      | 80/224 [02:05<02:54,  1.21s/it]"
     ]
    },
    {
     "name": "stdout",
     "output_type": "stream",
     "text": [
      "address gave the error: list index out of range\n",
      "http://wikipedia.org/wiki/Tampines_North_MRT_station\n"
     ]
    },
    {
     "name": "stderr",
     "output_type": "stream",
     "text": [
      " 39%|███▉      | 87/224 [02:17<03:27,  1.51s/it]"
     ]
    },
    {
     "name": "stdout",
     "output_type": "stream",
     "text": [
      "address gave the error: list index out of range\n",
      "http://wikipedia.org/wiki/Serangoon_North_MRT_station\n"
     ]
    },
    {
     "name": "stderr",
     "output_type": "stream",
     "text": [
      " 42%|████▏     | 93/224 [02:25<03:18,  1.52s/it]"
     ]
    },
    {
     "name": "stdout",
     "output_type": "stream",
     "text": [
      "address gave the error: list index out of range\n",
      "http://wikipedia.org/wiki/Jurong_Pier_MRT_station\n"
     ]
    },
    {
     "name": "stderr",
     "output_type": "stream",
     "text": [
      " 44%|████▍     | 99/224 [02:33<02:49,  1.36s/it]"
     ]
    },
    {
     "name": "stdout",
     "output_type": "stream",
     "text": [
      "address gave the error: list index out of range\n",
      "http://wikipedia.org/wiki/Corporation_MRT_station\n"
     ]
    },
    {
     "name": "stderr",
     "output_type": "stream",
     "text": [
      " 49%|████▊     | 109/224 [02:47<02:24,  1.25s/it]"
     ]
    },
    {
     "name": "stdout",
     "output_type": "stream",
     "text": [
      "address gave the error: list index out of range\n",
      "http://wikipedia.org/wiki/Siglap_MRT_station\n"
     ]
    },
    {
     "name": "stderr",
     "output_type": "stream",
     "text": [
      " 50%|█████     | 112/224 [02:52<02:42,  1.45s/it]"
     ]
    },
    {
     "name": "stdout",
     "output_type": "stream",
     "text": [
      "address gave the error: list index out of range\n",
      "http://wikipedia.org/wiki/Nanyang_Crescent_MRT_station\n"
     ]
    },
    {
     "name": "stderr",
     "output_type": "stream",
     "text": [
      " 54%|█████▎    | 120/224 [03:02<02:23,  1.38s/it]"
     ]
    },
    {
     "name": "stdout",
     "output_type": "stream",
     "text": [
      "address gave the error: list index out of range\n",
      "http://wikipedia.org/wiki/Pandan_Reservoir_MRT_station\n"
     ]
    },
    {
     "name": "stderr",
     "output_type": "stream",
     "text": [
      "\r",
      " 54%|█████▍    | 121/224 [03:04<02:17,  1.33s/it]"
     ]
    },
    {
     "name": "stdout",
     "output_type": "stream",
     "text": [
      "address gave the error: list index out of range\n",
      "http://wikipedia.org/wiki/Punggol_Coast_MRT_station\n"
     ]
    },
    {
     "name": "stderr",
     "output_type": "stream",
     "text": [
      " 55%|█████▍    | 123/224 [03:08<02:45,  1.64s/it]"
     ]
    },
    {
     "name": "stdout",
     "output_type": "stream",
     "text": [
      "address gave the error: list index out of range\n",
      "http://wikipedia.org/wiki/Sungei_Bedok_MRT_station\n"
     ]
    },
    {
     "name": "stderr",
     "output_type": "stream",
     "text": [
      " 56%|█████▌    | 125/224 [03:09<02:01,  1.23s/it]"
     ]
    },
    {
     "name": "stdout",
     "output_type": "stream",
     "text": [
      "address gave the error: list index out of range\n",
      "http://wikipedia.org/wiki/Elias_MRT_station\n"
     ]
    },
    {
     "name": "stderr",
     "output_type": "stream",
     "text": [
      " 63%|██████▎   | 142/224 [03:34<02:24,  1.77s/it]"
     ]
    },
    {
     "name": "stdout",
     "output_type": "stream",
     "text": [
      "address gave the error: list index out of range\n",
      "http://wikipedia.org/wiki/Gek_Poh_MRT_station\n"
     ]
    },
    {
     "name": "stderr",
     "output_type": "stream",
     "text": [
      " 67%|██████▋   | 151/224 [03:47<01:44,  1.43s/it]"
     ]
    },
    {
     "name": "stdout",
     "output_type": "stream",
     "text": [
      "address gave the error: list index out of range\n",
      "http://wikipedia.org/wiki/Enterprise_MRT_station\n"
     ]
    },
    {
     "name": "stderr",
     "output_type": "stream",
     "text": [
      "\r",
      " 68%|██████▊   | 152/224 [03:50<02:08,  1.78s/it]"
     ]
    },
    {
     "name": "stdout",
     "output_type": "stream",
     "text": [
      "address gave the error: list index out of range\n",
      "http://wikipedia.org/wiki/Aviation_Park_MRT_station\n"
     ]
    },
    {
     "name": "stderr",
     "output_type": "stream",
     "text": [
      " 70%|██████▉   | 156/224 [03:56<01:53,  1.67s/it]"
     ]
    },
    {
     "name": "stdout",
     "output_type": "stream",
     "text": [
      "latlong gave the error: list index out of range\n",
      "http://wikipedia.org/wiki/Choa_Chu_Kang_West_MRT_station\n",
      "address gave the error: list index out of range\n",
      "http://wikipedia.org/wiki/Choa_Chu_Kang_West_MRT_station\n"
     ]
    },
    {
     "name": "stderr",
     "output_type": "stream",
     "text": [
      "\r",
      " 70%|███████   | 157/224 [03:57<01:41,  1.51s/it]"
     ]
    },
    {
     "name": "stdout",
     "output_type": "stream",
     "text": [
      "address gave the error: list index out of range\n",
      "http://wikipedia.org/wiki/Jurong_Town_Hall_MRT_station\n"
     ]
    },
    {
     "name": "stderr",
     "output_type": "stream",
     "text": [
      " 72%|███████▏  | 162/224 [04:06<01:48,  1.74s/it]"
     ]
    },
    {
     "name": "stdout",
     "output_type": "stream",
     "text": [
      "address gave the error: list index out of range\n",
      "http://wikipedia.org/wiki/Bahar_Junction_MRT_station\n"
     ]
    },
    {
     "name": "stderr",
     "output_type": "stream",
     "text": [
      " 78%|███████▊  | 174/224 [04:24<01:19,  1.59s/it]"
     ]
    },
    {
     "name": "stdout",
     "output_type": "stream",
     "text": [
      "address gave the error: list index out of range\n",
      "http://wikipedia.org/wiki/Bedok_South_MRT_station\n"
     ]
    },
    {
     "name": "stderr",
     "output_type": "stream",
     "text": [
      "\r",
      " 78%|███████▊  | 175/224 [04:26<01:22,  1.69s/it]"
     ]
    },
    {
     "name": "stdout",
     "output_type": "stream",
     "text": [
      "address gave the error: list index out of range\n",
      "http://wikipedia.org/wiki/Tengah_Plantation_MRT_station\n"
     ]
    },
    {
     "name": "stderr",
     "output_type": "stream",
     "text": [
      " 79%|███████▉  | 177/224 [04:28<01:05,  1.38s/it]"
     ]
    },
    {
     "name": "stdout",
     "output_type": "stream",
     "text": [
      "address gave the error: list index out of range\n",
      "http://wikipedia.org/wiki/Teck_Ghee_MRT_station\n"
     ]
    },
    {
     "name": "stderr",
     "output_type": "stream",
     "text": [
      " 81%|████████  | 181/224 [04:33<00:54,  1.28s/it]"
     ]
    },
    {
     "name": "stdout",
     "output_type": "stream",
     "text": [
      "address gave the error: list index out of range\n",
      "http://wikipedia.org/wiki/Katong_Park_MRT_station\n"
     ]
    },
    {
     "name": "stderr",
     "output_type": "stream",
     "text": [
      " 83%|████████▎ | 186/224 [04:41<01:02,  1.65s/it]"
     ]
    },
    {
     "name": "stdout",
     "output_type": "stream",
     "text": [
      "address gave the error: list index out of range\n",
      "http://wikipedia.org/wiki/Toh_Guan_MRT_station\n"
     ]
    },
    {
     "name": "stderr",
     "output_type": "stream",
     "text": [
      "\r",
      " 83%|████████▎ | 187/224 [04:42<00:54,  1.48s/it]"
     ]
    },
    {
     "name": "stdout",
     "output_type": "stream",
     "text": [
      "address gave the error: list index out of range\n",
      "http://wikipedia.org/wiki/Tavistock_MRT_station\n"
     ]
    },
    {
     "name": "stderr",
     "output_type": "stream",
     "text": [
      " 86%|████████▌ | 193/224 [04:51<00:43,  1.40s/it]"
     ]
    },
    {
     "name": "stdout",
     "output_type": "stream",
     "text": [
      "address gave the error: list index out of range\n",
      "http://wikipedia.org/wiki/Tawas_MRT_station\n"
     ]
    },
    {
     "name": "stderr",
     "output_type": "stream",
     "text": [
      " 87%|████████▋ | 195/224 [04:54<00:46,  1.62s/it]"
     ]
    },
    {
     "name": "stdout",
     "output_type": "stream",
     "text": [
      "address gave the error: list index out of range\n",
      "http://wikipedia.org/wiki/Marine_Parade_MRT_station\n"
     ]
    },
    {
     "name": "stderr",
     "output_type": "stream",
     "text": [
      " 89%|████████▉ | 199/224 [04:59<00:33,  1.33s/it]"
     ]
    },
    {
     "name": "stdout",
     "output_type": "stream",
     "text": [
      "address gave the error: list index out of range\n",
      "http://wikipedia.org/wiki/Founders%27_Memorial_MRT_station\n"
     ]
    },
    {
     "name": "stderr",
     "output_type": "stream",
     "text": [
      "\r",
      " 89%|████████▉ | 200/224 [05:00<00:27,  1.16s/it]"
     ]
    },
    {
     "name": "stdout",
     "output_type": "stream",
     "text": [
      "address gave the error: list index out of range\n",
      "http://wikipedia.org/wiki/Bayshore_MRT_station\n"
     ]
    },
    {
     "name": "stderr",
     "output_type": "stream",
     "text": [
      " 91%|█████████ | 203/224 [05:05<00:30,  1.45s/it]"
     ]
    },
    {
     "name": "stdout",
     "output_type": "stream",
     "text": [
      "address gave the error: list index out of range\n",
      "http://wikipedia.org/wiki/Xilin_MRT_station\n"
     ]
    },
    {
     "name": "stderr",
     "output_type": "stream",
     "text": [
      " 92%|█████████▏| 205/224 [05:08<00:27,  1.46s/it]"
     ]
    },
    {
     "name": "stdout",
     "output_type": "stream",
     "text": [
      "address gave the error: list index out of range\n",
      "http://wikipedia.org/wiki/Bukit_Batok_West_MRT_station\n"
     ]
    },
    {
     "name": "stderr",
     "output_type": "stream",
     "text": [
      " 96%|█████████▌| 214/224 [05:24<00:16,  1.69s/it]"
     ]
    },
    {
     "name": "stdout",
     "output_type": "stream",
     "text": [
      "address gave the error: list index out of range\n",
      "http://wikipedia.org/wiki/Tengah_Park_MRT_station\n"
     ]
    },
    {
     "name": "stderr",
     "output_type": "stream",
     "text": [
      "\r",
      " 96%|█████████▌| 215/224 [05:25<00:14,  1.61s/it]"
     ]
    },
    {
     "name": "stdout",
     "output_type": "stream",
     "text": [
      "address gave the error: list index out of range\n",
      "http://wikipedia.org/wiki/Pasir_Ris_East_MRT_station\n"
     ]
    },
    {
     "name": "stderr",
     "output_type": "stream",
     "text": [
      " 97%|█████████▋| 218/224 [05:30<00:08,  1.46s/it]"
     ]
    },
    {
     "name": "stdout",
     "output_type": "stream",
     "text": [
      "address gave the error: list index out of range\n",
      "http://wikipedia.org/wiki/Jurong_West_MRT_station\n"
     ]
    },
    {
     "name": "stderr",
     "output_type": "stream",
     "text": [
      "\r",
      " 98%|█████████▊| 219/224 [05:31<00:06,  1.23s/it]"
     ]
    },
    {
     "name": "stdout",
     "output_type": "stream",
     "text": [
      "address gave the error: list index out of range\n",
      "http://wikipedia.org/wiki/Peng_Kang_Hill_MRT_station\n"
     ]
    },
    {
     "name": "stderr",
     "output_type": "stream",
     "text": [
      "100%|█████████▉| 223/224 [05:36<00:01,  1.40s/it]"
     ]
    },
    {
     "name": "stdout",
     "output_type": "stream",
     "text": [
      "address gave the error: list index out of range\n",
      "http://wikipedia.org/wiki/Mount_Pleasant_MRT_station\n"
     ]
    },
    {
     "name": "stderr",
     "output_type": "stream",
     "text": [
      "100%|██████████| 224/224 [05:38<00:00,  1.51s/it]\n"
     ]
    }
   ],
   "source": [
    "mrt = []\n",
    "\n",
    "for link in tqdm(stationLinks):\n",
    "    mrt.append(getMRTFromLink(link))\n",
    "    \n",
    "mrt = pd.DataFrame(mrt)"
   ]
  },
  {
   "cell_type": "code",
   "execution_count": 56,
   "metadata": {},
   "outputs": [],
   "source": [
    "## Abbreviations\n",
    "\n",
    "site = website(\"https://en.wikipedia.org/wiki/List_of_Singapore_MRT_stations\")\n",
    "abbrMapping = {}\n",
    "for t in site.html(\"td\",text=re.compile(\"^[A-Z]{3}$\")):\n",
    "    if t.text != \"TBA\":\n",
    "        abbrMapping[t.find_previous(\"a\",href=True).text.strip()] = t.text\n",
    "abbrMapping\n",
    "\n",
    "def tryAbb(x):\n",
    "    try: return abbrMapping[x]\n",
    "    except: return \"\"\n",
    "\n",
    "mrt[\"Abbreviation\"] = mrt.Name.apply(tryAbb)"
   ]
  },
  {
   "cell_type": "code",
   "execution_count": 57,
   "metadata": {},
   "outputs": [],
   "source": [
    "mrt.Abbreviation.to_clipboard(index=False)"
   ]
  },
  {
   "cell_type": "code",
   "execution_count": 481,
   "metadata": {},
   "outputs": [],
   "source": [
    "exits = gpd.read_file(\"Documents/Geospatial/GEOSPATIAL/TrainStationExit_Jan2020/TrainStationExit06032020.shp\")\n",
    "exits[\"STN_NAME\"] = exits[\"STN_NAME\"].str.replace(\" .RT STATION\",\"\").str.replace(\" STATION\",\"\")\n",
    "exits = exits[[\"STN_NAME\",\"EXIT_CODE\",\"geometry\"]]\n",
    "exits.columns = [\"Name\",\"Exit\",\"geometry\"]\n",
    "\n",
    "stations = gpd.read_file(\"Documents/Geospatial/GEOSPATIAL/TrainStation_Jan2020/MRTLRTStnPtt.shp\")\n",
    "stations[\"geometry\"] = stations.geometry.to_crs(epsg=4326)\n",
    "stations[\"STN_NAME\"] = stations[\"STN_NAME\"].str.replace(\" .RT STATION\",\"\").str.replace(\" STATION\",\"\")\n",
    "stations = stations[[\"STN_NAME\",\"STN_NO\",\"geometry\"]]\n",
    "stations.columns = [\"Name\",\"Exit\",\"geometry\"]\n",
    "\n",
    "mrtFull = mrt.copy()\n",
    "mrtFull[\"Name\"] = mrtFull.Name.str.upper().str.replace(\" .RT STATION.*$\",\"\")\n",
    "mrtFull = pd.concat([mrtFull.merge(stations, how=\"left\"),\n",
    "                     mrtFull.merge(exits, how=\"left\")])\n",
    "\n",
    "mrtFull[\"Exit\"] = mrtFull[[\"Exit\",\"Label\"]].apply(lambda x: x[1] if pd.isna(x[0]) else x[0], axis=1)\n",
    "mrtFull = gpd.GeoDataFrame(mrtFull, geometry=\"geometry\")\n",
    "mrtFull[\"Labels\"] = mrtFull.Label.copy()\n",
    "mrtFull[\"Label\"] = mrtFull[\"Exit\"]\n",
    "mrtFull = mrtFull.drop(\"Exit\",axis=1)\n",
    "\n",
    "mrtFull = mrtFull[[\"Label\",\"Name\",\"Chinese\",\"Address\",\"Postcode\",\"Lat\",\"Long\",\"Labels\",\"geometry\",\"Link\"]]\n",
    "mrtFull[\"Name\"] = mrtFull.Name.str.replace(\" LRT.*?$\",\"\")\n",
    "mrtFull[\"Long\"] = mrtFull[[\"geometry\",\"Long\"]].apply(lambda x: x[1] if pd.isna(x[0]) else x[0].x, axis=1)\n",
    "mrtFull[\"Lat\"] = mrtFull[[\"geometry\",\"Lat\"]].apply(lambda x: x[1] if pd.isna(x[0]) else x[0].y, axis=1)\n",
    "\n",
    "mrtFull[\"Label\"] = mrtFull.Label.str.split(\"[,/]\")\n",
    "mrtFull = gpd.GeoDataFrame(pd.DataFrame(mrtFull).explode(\"Label\"))\n",
    "mrtFull[\"Label\"] = mrtFull.Label.str.strip()\n",
    "mrtFull[\"line\"] = mrtFull.Label.str.extract(\"(\\D+)\").fillna(0)\n",
    "mrtFull = mrtFull[mrtFull.line != 0]\n",
    "\n",
    "passengers = pd.read_csv(\"Documents/Geospatial/GEOSPATIAL/origin_destination_train_202103.csv\")\n",
    "passengers.ORIGIN_PT_CODE = passengers.ORIGIN_PT_CODE.str.split(\"/\")\n",
    "passengers.DESTINATION_PT_CODE = passengers.DESTINATION_PT_CODE.str.split(\"/\")\n",
    "passengers = passengers.explode(\"ORIGIN_PT_CODE\")\n",
    "passengers = passengers.explode(\"DESTINATION_PT_CODE\")\n",
    "passengers.ORIGIN_PT_CODE = passengers.ORIGIN_PT_CODE.str.strip()\n",
    "passengers.DESTINATION_PT_CODE = passengers.DESTINATION_PT_CODE.str.strip()\n",
    "\n",
    "mrtFull = mrtFull.merge(pd.DataFrame(passengers.groupby(\"ORIGIN_PT_CODE\").pipe(lambda x: x.TOTAL_TRIPS.sum())),\n",
    "                        left_on=\"Label\", right_on=\"ORIGIN_PT_CODE\", how=\"left\")\n",
    "mrtFull = mrtFull.merge(pd.DataFrame(passengers.groupby(\"DESTINATION_PT_CODE\").pipe(lambda x: x.TOTAL_TRIPS.sum())),\n",
    "                        left_on=\"Label\", right_on=\"DESTINATION_PT_CODE\", how=\"left\")\n",
    "mrtFull = mrtFull.rename(columns={\"TOTAL_TRIPS_x\":\"Origin\", \"TOTAL_TRIPS_y\":\"Destination\"})\n",
    "\n",
    "colorMap = {\"EW\":\"#009645\",\n",
    "           \"CG\":\"#009645\",\n",
    "           \"NS\":\"#D42E12\",\n",
    "           \"NE\":\"#9900AA\",\n",
    "           \"CC\":\"#FA9E0D\",\n",
    "           \"CE\":\"#FA9E0D\",\n",
    "           \"DT\":\"#005EC4\",\n",
    "           \"TE\":\"#9D5B25\",\n",
    "           \"JE\":\"#0099AA\",\n",
    "           \"JS\":\"#0099AA\",\n",
    "           \"JW\":\"#0099AA\",\n",
    "           \"CR\":\"#97C616\",\n",
    "           \"CP\":\"#97C616\",\n",
    "           \"PE\":\"#748477\",\n",
    "           \"PW\":\"#748477\",\n",
    "           \"PT\":\"#748477\",\n",
    "           \"ST\":\"#748477\",\n",
    "           \"SE\":\"#748477\",\n",
    "           \"SW\":\"#748477\",\n",
    "           \"BP\":\"#748477\",\n",
    "           \"RT\":\"#86CEEB\"}\n",
    "\n",
    "mrtFull[\"color\"] = mrtFull.Label.apply(lambda x: colorMap[x[:2]] if x[:2] in colorMap.keys() else None)\n",
    "mrtFull[\"number\"] = mrtFull.Label.str.extract(\"(\\d+)\").fillna(\"1000\")\n",
    "mrtFull[\"number\"] = mrtFull.number.apply(int)\n",
    "mrtFull[\"Type\"] = mrtFull.line.apply(lambda x: \"Station\" if len(x) > 1 else \"Exit\")\n",
    "\n",
    "mrtFull = mrtFull[['Label', 'Name', 'Chinese', 'Address', 'Postcode', 'Lat', 'Long', \n",
    "                   'Labels', 'Type', 'Origin', 'Destination', 'geometry', 'color', 'line', 'number', 'Link']]"
   ]
  },
  {
   "cell_type": "code",
   "execution_count": 483,
   "metadata": {},
   "outputs": [],
   "source": [
    "mrtFull.sort_values([\"Type\",\"line\",\"number\"], ascending=False).drop([\"line\",\"number\"], axis=1).to_clipboard(index=False)"
   ]
  },
  {
   "cell_type": "code",
   "execution_count": 1,
   "metadata": {},
   "outputs": [],
   "source": [
    "from wilcoxon.geo import *"
   ]
  },
  {
   "cell_type": "code",
   "execution_count": 2,
   "metadata": {},
   "outputs": [
    {
     "name": "stdout",
     "output_type": "stream",
     "text": [
      "Extracting Wikipedia links of MRT and LRT stations.\n"
     ]
    },
    {
     "name": "stderr",
     "output_type": "stream",
     "text": [
      "\r",
      "  0%|          | 0/4 [00:00<?, ?it/s]"
     ]
    },
    {
     "name": "stdout",
     "output_type": "stream",
     "text": [
      "Extracting data from Wikipedia pages.\n"
     ]
    },
    {
     "name": "stderr",
     "output_type": "stream",
     "text": [
      "100%|██████████| 4/4 [00:02<00:00,  1.90it/s]\n"
     ]
    },
    {
     "name": "stdout",
     "output_type": "stream",
     "text": [
      "Mapping station names to their abbreviations.\n"
     ]
    },
    {
     "ename": "AttributeError",
     "evalue": "'list' object has no attribute 'Name'",
     "output_type": "error",
     "traceback": [
      "\u001b[0;31m---------------------------------------------------------------------------\u001b[0m",
      "\u001b[0;31mAttributeError\u001b[0m                            Traceback (most recent call last)",
      "\u001b[0;32m<ipython-input-2-1e19de063ecd>\u001b[0m in \u001b[0;36m<module>\u001b[0;34m\u001b[0m\n\u001b[0;32m----> 1\u001b[0;31m \u001b[0mmrt\u001b[0m \u001b[0;34m=\u001b[0m \u001b[0mgetMRTFromWiki\u001b[0m\u001b[0;34m(\u001b[0m\u001b[0;34m)\u001b[0m\u001b[0;34m\u001b[0m\u001b[0;34m\u001b[0m\u001b[0m\n\u001b[0m",
      "\u001b[0;32m~/opt/anaconda3/lib/python3.8/site-packages/wilcoxon/geo.py\u001b[0m in \u001b[0;36mgetMRTFromWiki\u001b[0;34m()\u001b[0m\n\u001b[1;32m    165\u001b[0m             \u001b[0;32mexcept\u001b[0m\u001b[0;34m:\u001b[0m \u001b[0;32mreturn\u001b[0m \u001b[0;34m\"\"\u001b[0m\u001b[0;34m\u001b[0m\u001b[0;34m\u001b[0m\u001b[0m\n\u001b[1;32m    166\u001b[0m \u001b[0;34m\u001b[0m\u001b[0m\n\u001b[0;32m--> 167\u001b[0;31m         \u001b[0mmrt\u001b[0m\u001b[0;34m[\u001b[0m\u001b[0;34m\"Abbreviation\"\u001b[0m\u001b[0;34m]\u001b[0m \u001b[0;34m=\u001b[0m \u001b[0mmrt\u001b[0m\u001b[0;34m.\u001b[0m\u001b[0mName\u001b[0m\u001b[0;34m.\u001b[0m\u001b[0mapply\u001b[0m\u001b[0;34m(\u001b[0m\u001b[0mtryAbb\u001b[0m\u001b[0;34m)\u001b[0m\u001b[0;34m\u001b[0m\u001b[0;34m\u001b[0m\u001b[0m\n\u001b[0m\u001b[1;32m    168\u001b[0m \u001b[0;34m\u001b[0m\u001b[0m\n\u001b[1;32m    169\u001b[0m         \u001b[0mmrt\u001b[0m \u001b[0;34m=\u001b[0m \u001b[0mpd\u001b[0m\u001b[0;34m.\u001b[0m\u001b[0mDataFrame\u001b[0m\u001b[0;34m(\u001b[0m\u001b[0mmrt\u001b[0m\u001b[0;34m)\u001b[0m\u001b[0;34m\u001b[0m\u001b[0;34m\u001b[0m\u001b[0m\n",
      "\u001b[0;31mAttributeError\u001b[0m: 'list' object has no attribute 'Name'"
     ]
    }
   ],
   "source": [
    "mrt = getMRTFromWiki()"
   ]
  },
  {
   "cell_type": "code",
   "execution_count": 6,
   "metadata": {},
   "outputs": [],
   "source": [
    "stations = website(\"https://en.wikipedia.org/wiki/List_of_Singapore_MRT_stations\")\n",
    "stations.getTables()\n",
    "stationLinksM = stations.tables[1][\"Links\"].apply(lambda x: x.split(\"\\n\")[0]).tolist()\n",
    "stationLinksM = [x for x in stationLinksM if (\"a\"+x)[-1] == \"n\"]\n",
    "stationLinksM.extend([\"https://en.wikipedia.org/wiki/Changi_Airport_MRT_station\",\n",
    "                     \"https://en.wikipedia.org/wiki/Expo_MRT_station\",\n",
    "                     \"https://en.wikipedia.org/wiki/Tanah_Merah_MRT_station\"])\n",
    "\n",
    "stations = website(\"https://en.wikipedia.org/wiki/List_of_Singapore_LRT_stations\")\n",
    "stations.getTables()\n",
    "stationLinksL = stations.tables[0][\"Links\"].apply(lambda x: x.split(\"\\n\")[0]).tolist()\n",
    "stationLinksL = [x for x in stationLinksL if (\"a\"+x)[-1] == \"n\"]\n",
    "stationLinksL.extend([\"https://en.wikipedia.org/wiki/Damai_LRT_station_(Singapore)\"])\n",
    "\n",
    "stationLinks = list(set(stationLinksM + stationLinksL))"
   ]
  },
  {
   "cell_type": "code",
   "execution_count": 12,
   "metadata": {},
   "outputs": [
    {
     "data": {
      "text/plain": [
       "['https://en.wikipedia.org/wiki/Damai_LRT_station_(Singapore)']"
      ]
     },
     "execution_count": 12,
     "metadata": {},
     "output_type": "execute_result"
    }
   ],
   "source": [
    "stationLinksL"
   ]
  },
  {
   "cell_type": "code",
   "execution_count": null,
   "metadata": {},
   "outputs": [],
   "source": []
  }
 ],
 "metadata": {
  "kernelspec": {
   "display_name": "Python 3",
   "language": "python",
   "name": "python3"
  },
  "language_info": {
   "codemirror_mode": {
    "name": "ipython",
    "version": 3
   },
   "file_extension": ".py",
   "mimetype": "text/x-python",
   "name": "python",
   "nbconvert_exporter": "python",
   "pygments_lexer": "ipython3",
   "version": "3.8.2"
  }
 },
 "nbformat": 4,
 "nbformat_minor": 4
}
