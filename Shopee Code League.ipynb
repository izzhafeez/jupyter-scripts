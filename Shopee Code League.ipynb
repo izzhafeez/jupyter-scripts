{
 "cells": [
  {
   "cell_type": "code",
   "execution_count": 13,
   "id": "659f9aab",
   "metadata": {},
   "outputs": [
    {
     "name": "stdout",
     "output_type": "stream",
     "text": [
      "3 4\n",
      "amir 10\n",
      "brenda 10\n",
      "charlie 10\n",
      "amir brenda 5\n",
      "brenda charlie 5\n",
      "charlie amir 20\n",
      "charlie amir 7\n",
      "amir 12\n",
      "brenda 10\n",
      "charlie 8\n"
     ]
    }
   ],
   "source": [
    "NandT = input()\n",
    "N, T = [int(x) for x in NandT.split()]\n",
    "balances = {}\n",
    "\n",
    "for i in range(N):\n",
    "    entry = input()\n",
    "    person, money = entry.split()\n",
    "    balances[person] = int(money)\n",
    "for i in range(T):\n",
    "    entry = input()\n",
    "    person, receiver, money = entry.split()\n",
    "    money = int(money)\n",
    "    if balances[person] >= money:\n",
    "        balances[person] -= money\n",
    "        balances[receiver] += money\n",
    "            \n",
    "for name in sorted(balances):\n",
    "    print(name, balances[name])\n",
    "    "
   ]
  },
  {
   "cell_type": "code",
   "execution_count": 11,
   "id": "c7c200b3",
   "metadata": {},
   "outputs": [
    {
     "name": "stdout",
     "output_type": "stream",
     "text": [
      "amir 12\n",
      "brenda 10\n",
      "charlie 8\n"
     ]
    }
   ],
   "source": [
    "first = input()\n",
    "M, N = [int(x) for x in first]\n",
    "def m_dist(s_row, s_col, e_row, e_col):\n",
    "    return abs(s_row-e_row) + abs(s_col, e_col)\n"
   ]
  },
  {
   "cell_type": "code",
   "execution_count": 17,
   "id": "cdb39df3",
   "metadata": {},
   "outputs": [
    {
     "name": "stdout",
     "output_type": "stream",
     "text": [
      "10 2 1\n",
      "1 500 5\n",
      "9 500 5\n"
     ]
    }
   ],
   "source": [
    "first = input()\n",
    "N, M, D = [int(x) for x in first.split()]\n",
    "entries = {}\n",
    "for i in range(M):\n",
    "    entry = input()\n",
    "    a, b, t = [int(x) for x in entry.split()]\n",
    "    if t not in entries:\n",
    "        entries[t] = [(a,b)]\n",
    "    else:\n",
    "        entries[t].append((a,b))\n",
    "        "
   ]
  },
  {
   "cell_type": "code",
   "execution_count": 20,
   "id": "ef3b123b",
   "metadata": {},
   "outputs": [],
   "source": [
    "e = entries[5]"
   ]
  },
  {
   "cell_type": "code",
   "execution_count": 27,
   "id": "8813db23",
   "metadata": {},
   "outputs": [],
   "source": [
    "f_entries = {}\n",
    "\n",
    "def process_entries(entry):\n",
    "    total = 0\n",
    "    for e in entry:\n",
    "        total += e[1]\n",
    "    mid = 0\n",
    "    for e in entry:\n",
    "        mid += e[0]*(total-e[1])\n",
    "    mid = mid/total\n",
    "    return mid\n"
   ]
  },
  {
   "cell_type": "code",
   "execution_count": 29,
   "id": "dc18aa08",
   "metadata": {},
   "outputs": [
    {
     "data": {
      "text/plain": [
       "5.0"
      ]
     },
     "execution_count": 29,
     "metadata": {},
     "output_type": "execute_result"
    }
   ],
   "source": [
    "mid"
   ]
  },
  {
   "cell_type": "code",
   "execution_count": 167,
   "id": "923ddbd6",
   "metadata": {},
   "outputs": [
    {
     "name": "stdout",
     "output_type": "stream",
     "text": [
      "2\n",
      "3\n",
      "1 2 3 1 2 3\n",
      "3\n",
      "1 2 1 3 2 3\n",
      "no\n",
      "yes\n"
     ]
    }
   ],
   "source": [
    "t = int(input())\n",
    "out = []\n",
    "for i in range(t):\n",
    "    n = int(input())\n",
    "    ints = [int(x) for x in input().split()]\n",
    "    connections = {}\n",
    "    run = False\n",
    "    for i in range(len(ints)):\n",
    "        if ints[i] in connections:\n",
    "            connections[ints[i]] += (i,)\n",
    "        else:\n",
    "            connections[ints[i]] = (i,)\n",
    "    connected = {}\n",
    "    for key, value in connections.items():\n",
    "        temp_con = {}\n",
    "        for i in range(value[0], value[1]+1):\n",
    "            v = ints[i]\n",
    "            if v in connected:\n",
    "                if v in temp_con:\n",
    "                    temp_con.pop(v)\n",
    "                else:\n",
    "                    temp_con[v] = connected[v]\n",
    "        up_down = set()\n",
    "        for k, v in temp_con.items():\n",
    "            up_down.add(v)\n",
    "        if len(up_down) == 2:\n",
    "            out.append(\"no\")\n",
    "            run = True\n",
    "        elif 1 not in up_down:\n",
    "            connected[key] = 1\n",
    "        else:\n",
    "            connected[key] = 2\n",
    "    if not run:\n",
    "        out.append(\"yes\")\n",
    "for i in out:\n",
    "    print(i)\n",
    "        "
   ]
  },
  {
   "cell_type": "code",
   "execution_count": 164,
   "id": "d157811a",
   "metadata": {},
   "outputs": [
    {
     "name": "stdout",
     "output_type": "stream",
     "text": [
      "8 8\n",
      "0 0 0 0 0 0 0 0\n",
      "0 0 0 0 0 0 0 0\n",
      "0 0 0 0 0 0 0 0\n",
      "0 0 0 0 0 0 0 0\n",
      "0 0 0 0 0 0 0 0\n",
      "0 0 0 0 0 0 0 0\n",
      "0 0 0 0 0 0 0 0\n",
      "0 0 0 0 0 0 0 0\n"
     ]
    },
    {
     "data": {
      "text/plain": [
       "14"
      ]
     },
     "execution_count": 164,
     "metadata": {},
     "output_type": "execute_result"
    }
   ],
   "source": [
    "# N, M = [int(x) for x in input().split()]\n",
    "# nodes = []\n",
    "\n",
    "def m_dist(x1, y1, x2, y2):\n",
    "    return abs(x2-x1) + abs(y2-y1)\n",
    "\n",
    "class Node:\n",
    "    def __init__(self, num, x, y):\n",
    "        self.num = num\n",
    "        self.x = x\n",
    "        self.y = y\n",
    "        self.c = []\n",
    "    def add_connection(self, node):\n",
    "        if self.num == node.num:\n",
    "            weight = 0\n",
    "        else:\n",
    "            weight = m_dist(self.x, self.y, node.x, node.y)\n",
    "        self.c.append((node, weight))\n",
    "\n",
    "class Queue:\n",
    "    def __init__(self):\n",
    "        self.q = []\n",
    "        self.len = 0\n",
    "    def enqueue(self, v):\n",
    "        self.q.append(v)\n",
    "        self.len += 1\n",
    "    def dequeue(self):\n",
    "        self.len -= 1\n",
    "        return self.q.pop(0)\n",
    "    def empty(self):\n",
    "        return self.len == 0\n",
    "    \n",
    "N, M = [int(x) for x in input().split()]\n",
    "A = []\n",
    "nodes = []\n",
    "\n",
    "for i in range(M):\n",
    "    a = [int(x) for x in input().split()]\n",
    "    for j in range(len(a)):\n",
    "        if a[j] != 0:\n",
    "            nodes.append(Node(a[j], i, j))\n",
    "    A.append(a)\n",
    "    \n",
    "start_node = Node(0, 0, 0)\n",
    "end_node = Node(-1, M-1, N-1)\n",
    "for i in range(len(nodes)):\n",
    "    for j in range(i+1, len(nodes)):\n",
    "        nodes[i].add_connection(nodes[j])\n",
    "        nodes[j].add_connection(nodes[i])\n",
    "    start_node.add_connection(nodes[i])\n",
    "    nodes[i].add_connection(end_node)\n",
    "start_node.add_connection(end_node)\n",
    "\n",
    "def dijk(start, end):\n",
    "    q = Queue()\n",
    "    res_dict = {}\n",
    "    q.enqueue(start)\n",
    "    res_dict[start] = 0\n",
    "    while not q.empty():\n",
    "        n = q.dequeue()\n",
    "        for neigh, d in n.c:\n",
    "            if neigh not in res_dict:\n",
    "                res_dict[neigh] = d + res_dict[n]\n",
    "                q.enqueue(neigh)\n",
    "            else:\n",
    "                if res_dict[neigh] > d + res_dict[n]:\n",
    "                    res_dict[neigh] = d + res_dict[n]\n",
    "                    if q.not_in(neigh)\n",
    "                    q.enqueue(neigh)\n",
    "    return res_dict[end]\n",
    "\n",
    "dijk(start_node, end_node)"
   ]
  },
  {
   "cell_type": "code",
   "execution_count": 161,
   "id": "71f2ce51",
   "metadata": {},
   "outputs": [
    {
     "data": {
      "text/plain": [
       "14"
      ]
     },
     "execution_count": 161,
     "metadata": {},
     "output_type": "execute_result"
    }
   ],
   "source": [
    "m_dist(0,0,7,7)"
   ]
  },
  {
   "cell_type": "code",
   "execution_count": 139,
   "id": "69b99f92",
   "metadata": {},
   "outputs": [],
   "source": [
    "# inputs = [\"8 8\",\n",
    "#          \"0 0 1 0 0 0 0 0\",\n",
    "#          \"0 0 0 0 0 0 0 0\",\n",
    "#          \"0 0 0 0 0 0 0 0\",\n",
    "#          \"0 0 0 0 0 0 0 0\",\n",
    "#          \"0 0 0 0 0 0 0 0\",\n",
    "#          \"0 0 0 0 0 0 0 0\",\n",
    "#          \"0 0 0 0 0 0 0 1\",\n",
    "#          \"0 0 0 0 0 0 0 0\"]\n",
    "inputs = [\"8 8\",\n",
    "         \"0 0 0 0 0 1 0 0\",\n",
    "         \"0 1 0 0 0 0 2 0\",\n",
    "         \"0 0 0 0 0 0 0 0\",\n",
    "         \"0 0 0 1 0 0 0 0\",\n",
    "         \"0 0 0 0 0 2 0 2\",\n",
    "         \"0 0 0 0 0 0 0 0\",\n",
    "         \"0 0 3 0 0 0 0 3\",\n",
    "         \"0 0 0 2 0 0 0 0\"]"
   ]
  },
  {
   "cell_type": "code",
   "execution_count": null,
   "id": "a3ef2dd4",
   "metadata": {},
   "outputs": [],
   "source": []
  }
 ],
 "metadata": {
  "kernelspec": {
   "display_name": "Python 3",
   "language": "python",
   "name": "python3"
  },
  "language_info": {
   "codemirror_mode": {
    "name": "ipython",
    "version": 3
   },
   "file_extension": ".py",
   "mimetype": "text/x-python",
   "name": "python",
   "nbconvert_exporter": "python",
   "pygments_lexer": "ipython3",
   "version": "3.8.2"
  }
 },
 "nbformat": 4,
 "nbformat_minor": 5
}
