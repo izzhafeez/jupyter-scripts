{
 "cells": [
  {
   "cell_type": "code",
   "execution_count": 2,
   "metadata": {},
   "outputs": [],
   "source": [
    "from wilcoxon.vocab import *"
   ]
  },
  {
   "cell_type": "code",
   "execution_count": 219,
   "metadata": {},
   "outputs": [],
   "source": [
    "getSheets()\n",
    "chinese = getVocab('Chinese')\n",
    "japanese = getVocab('Japanese')\n",
    "korean = getVocab('Korean')"
   ]
  },
  {
   "cell_type": "code",
   "execution_count": 225,
   "metadata": {},
   "outputs": [],
   "source": [
    "chinese['Usage'] = chinese['Usages'].str.split('(,|;)\\s*')\n",
    "chinese['Words'] = chinese['Word'] + '(' + chinese['Word Pinyin'] + ')'\n",
    "cc = chinese.explode('Usage').fillna('')\n",
    "cc = pd.DataFrame(cc.groupby(by='Usage').apply(lambda grp: ', '.join(grp.Words.unique())))\n",
    "\n",
    "japanese['Usage'] = japanese['Usages'].str.split('(,|;)\\s*')\n",
    "japanese['Words'] = japanese['Word'] + '(' + japanese['Transliteration'] + ')'\n",
    "jj = japanese.explode('Usage').fillna('')\n",
    "jj = pd.DataFrame(jj.groupby(by='Usage').apply(lambda grp: ', '.join(grp.Words.unique())))\n",
    "\n",
    "korean['Usage'] = korean['Usages'].str.split('(,|;)\\s*')\n",
    "korean['Words'] = korean['Word'] + '(' + korean['Romanized'] + ')'\n",
    "kk = korean.explode('Usage').fillna('')\n",
    "kk = pd.DataFrame(kk.groupby(by='Usage').apply(lambda grp: ', '.join(grp.Words.unique())))\n",
    "\n",
    "vv = cc.reset_index().merge(jj.reset_index(),on='Usage',how='outer').merge(kk.reset_index(),on='Usage',how='outer')\n",
    "vv = vv.fillna('')\n",
    "\n",
    "vv['Number'] = vv.iloc[:,1:].apply(lambda x: sum(y.count(')') for y in x),axis = 1)\n",
    "vv.sort_values(by = 'Number', ascending = False, inplace=True)\n",
    "vv = vv[vv['Usage'].str.fullmatch('[a-z][a-z\\s]*')]\n",
    "vv.columns = ['Usage','Chinese','Japanese','Korean','Number']\n",
    "vv = vv.set_index('Usage')\n",
    "\n",
    "vv.to_clipboard()\n"
   ]
  },
  {
   "cell_type": "code",
   "execution_count": null,
   "metadata": {},
   "outputs": [],
   "source": []
  }
 ],
 "metadata": {
  "kernelspec": {
   "display_name": "Python 3",
   "language": "python",
   "name": "python3"
  },
  "language_info": {
   "codemirror_mode": {
    "name": "ipython",
    "version": 3
   },
   "file_extension": ".py",
   "mimetype": "text/x-python",
   "name": "python",
   "nbconvert_exporter": "python",
   "pygments_lexer": "ipython3",
   "version": "3.7.2"
  }
 },
 "nbformat": 4,
 "nbformat_minor": 4
}
