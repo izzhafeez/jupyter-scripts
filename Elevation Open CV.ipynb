{
 "cells": [
  {
   "cell_type": "code",
   "execution_count": 52,
   "id": "02516c1f",
   "metadata": {},
   "outputs": [],
   "source": [
    "s = {}\n",
    "for row in arr:\n",
    "    for cell in row:\n",
    "        c = f\"{cell[0]},{cell[1]},{cell[2]}\"\n",
    "        if c not in s:\n",
    "            s[c] = 1\n",
    "        else:\n",
    "            s[c] += 1"
   ]
  },
  {
   "cell_type": "code",
   "execution_count": 169,
   "id": "42f19fbb",
   "metadata": {
    "code_folding": [
     89
    ]
   },
   "outputs": [],
   "source": [
    "import numpy as np\n",
    "from PIL import Image\n",
    "\n",
    "class Color():\n",
    "    def __init__(self, r, g, b):\n",
    "        self.r = r\n",
    "        self.g = g\n",
    "        self.b = b\n",
    "\n",
    "    def get_diff(self, r, g, b):\n",
    "        return abs(r-self.r) + abs(g-self.g) + abs(b-self.b)\n",
    "    \n",
    "class Elevation():\n",
    "    def __init__(self, c, e):\n",
    "        if type(c) != Color:\n",
    "            raise TypeError(\"c should be of type Color\")\n",
    "        self.c = c\n",
    "        self.e = e\n",
    "        self.higher = None\n",
    "        self.lower = None\n",
    "    \n",
    "    def set_higher(self, e):\n",
    "        self.higher = e\n",
    "    \n",
    "    def set_lower(self, e):\n",
    "        self.lower = e\n",
    "        \n",
    "    def get_diff(self, r, g, b):\n",
    "        return self.c.get_diff(r, g, b)\n",
    "\n",
    "class ElevationMap():\n",
    "    MIN_LAT = 1.23776\n",
    "    MIN_LON = 103.61751\n",
    "    MAX_LAT = 1.47066\n",
    "    MAX_LON = 104.04360\n",
    "    D_LAT = MAX_LAT - MIN_LAT\n",
    "    D_LON = MAX_LON - MIN_LON\n",
    "    IMG_H = 1030\n",
    "    IMG_W = 1885\n",
    "        \n",
    "    def __init__(self):\n",
    "        self._set_elevations()\n",
    "        img = Image.open(\"../Geospatial/singapore-elevation.png\")\n",
    "        self.arr = np.array(img.convert('RGB'))\n",
    "        \n",
    "    def _set_elevations(self):\n",
    "        self.elevations = []\n",
    "        \n",
    "        c_map = {\n",
    "            168: Color(255, 255, 255),#\n",
    "            163: Color(219, 203, 201),#\n",
    "            156: Color(216, 191, 186),#\n",
    "            141: Color(217, 153, 151),#\n",
    "            133: Color(224, 147, 145),#\n",
    "            126: Color(214, 143, 135),#\n",
    "            113: Color(218, 162, 132),#\n",
    "            105: Color(185, 134, 118),#\n",
    "            91: Color(179, 218, 146),#\n",
    "            76: Color(202, 220, 139),#\n",
    "            73: Color(180, 219, 130),#\n",
    "            69: Color(178, 221, 130),#\n",
    "            54: Color(167, 231, 139),#\n",
    "            50: Color(164, 223, 150),#\n",
    "            44: Color(149, 220, 142),#\n",
    "            43: Color(147, 225, 134),#\n",
    "            42: Color(145, 224, 152),#\n",
    "            38: Color(148, 225, 171),#\n",
    "            30: Color(146, 219, 197),#\n",
    "            25: Color(140, 212, 221),#\n",
    "            23: Color(167, 221, 230),#\n",
    "            18: Color(136, 185, 220),#\n",
    "            17: Color(148, 191, 223),#\n",
    "            15: Color(162, 196, 228),#\n",
    "            14: Color(153, 196, 241),#\n",
    "            12: Color(135, 168, 218),#\n",
    "            10: Color(157, 195, 249),#\n",
    "            8: Color(137, 168, 216),#\n",
    "            7: Color(138, 156, 219),#\n",
    "            3: Color(130, 129, 219),#\n",
    "            2: Color(143, 136, 222),#\n",
    "            0: Color(134, 122, 239)#\n",
    "        }\n",
    "        \n",
    "        curr_e = None\n",
    "        for key, value in c_map.items():\n",
    "            e = Elevation(value, key)\n",
    "            e.set_higher(curr_e)\n",
    "            curr_e = e\n",
    "            self.elevations.append(e)\n",
    "            \n",
    "        curr_e = None\n",
    "        for e in self.elevations[::-1]:\n",
    "            e.set_lower(curr_e)\n",
    "            curr_e = e\n",
    "            \n",
    "    def get_elevation_from_color(self, r, g, b):\n",
    "        min_diff = float(\"inf\")\n",
    "        result_e = None\n",
    "        for e in self.elevations:\n",
    "            diff = e.get_diff(r, g, b)\n",
    "            if min_diff > diff:\n",
    "                min_diff = diff\n",
    "                result_e = e\n",
    "        lower = float(\"inf\")\n",
    "        higher = float(\"inf\")\n",
    "        if result_e.lower != None:\n",
    "            lower = result_e.lower.get_diff(r, g, b)\n",
    "        if result_e.higher != None:\n",
    "            higher = result_e.higher.get_diff(r, g, b)\n",
    "        if lower < higher:\n",
    "            e = result_e.e\n",
    "            e_2 = result_e.lower.e\n",
    "            return (e*lower + e_2*min_diff)/(lower+min_diff)\n",
    "        else:\n",
    "            e = result_e.e\n",
    "            e_2 = result_e.higher.e\n",
    "            return (e*higher + e_2*min_diff)/(higher+min_diff)\n",
    "        \n",
    "    def get_elevation(self, lat, long):\n",
    "        row = int((lat-ElevationMap.MIN_LAT)\n",
    "                  *ElevationMap.IMG_H\n",
    "                  /ElevationMap.D_LAT)\n",
    "        col = int((long-ElevationMap.MIN_LON)\n",
    "                  *ElevationMap.IMG_W\n",
    "                  /ElevationMap.D_LON)\n",
    "        return round(self.get_elevation_from_color(\n",
    "            *self.arr[row][col]), 1)\n",
    "    "
   ]
  },
  {
   "cell_type": "code",
   "execution_count": 167,
   "id": "8b99ea6f",
   "metadata": {},
   "outputs": [],
   "source": [
    "e = ElevationMap()"
   ]
  },
  {
   "cell_type": "code",
   "execution_count": 168,
   "id": "dd766fa9",
   "metadata": {},
   "outputs": [
    {
     "name": "stdout",
     "output_type": "stream",
     "text": [
      "[167 231 247]\n"
     ]
    },
    {
     "data": {
      "text/plain": [
       "23.5"
      ]
     },
     "execution_count": 168,
     "metadata": {},
     "output_type": "execute_result"
    }
   ],
   "source": [
    "e.get_elevation(1.3510570739548033, 103.88337018948374)"
   ]
  },
  {
   "cell_type": "code",
   "execution_count": null,
   "id": "60d25989",
   "metadata": {},
   "outputs": [],
   "source": []
  }
 ],
 "metadata": {
  "kernelspec": {
   "display_name": "Python 3",
   "language": "python",
   "name": "python3"
  },
  "language_info": {
   "codemirror_mode": {
    "name": "ipython",
    "version": 3
   },
   "file_extension": ".py",
   "mimetype": "text/x-python",
   "name": "python",
   "nbconvert_exporter": "python",
   "pygments_lexer": "ipython3",
   "version": "3.8.2"
  }
 },
 "nbformat": 4,
 "nbformat_minor": 5
}
