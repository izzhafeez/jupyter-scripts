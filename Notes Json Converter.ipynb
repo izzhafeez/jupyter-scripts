{
 "cells": [
  {
   "cell_type": "code",
   "execution_count": 1,
   "id": "1ef836c1",
   "metadata": {},
   "outputs": [],
   "source": [
    "from wilcoxon import spiderman"
   ]
  },
  {
   "cell_type": "code",
   "execution_count": 2,
   "id": "598b1d7d",
   "metadata": {},
   "outputs": [],
   "source": [
    "site = spiderman.website(\"https://docs.google.com/spreadsheets/d/1t4-xHiiYEJlP36R4GPhCINnAVsrp3g8ZsCFsulqaivA/edit?usp=sharing\")"
   ]
  },
  {
   "cell_type": "code",
   "execution_count": 3,
   "id": "2d84c44f",
   "metadata": {},
   "outputs": [
    {
     "data": {
      "text/plain": [
       "<wilcoxon.spiderman.website at 0x7fa1d121f850>"
      ]
     },
     "execution_count": 3,
     "metadata": {},
     "output_type": "execute_result"
    }
   ],
   "source": [
    "site"
   ]
  },
  {
   "cell_type": "code",
   "execution_count": null,
   "id": "3a7a4440",
   "metadata": {},
   "outputs": [],
   "source": []
  }
 ],
 "metadata": {
  "kernelspec": {
   "display_name": "Python 3",
   "language": "python",
   "name": "python3"
  },
  "language_info": {
   "codemirror_mode": {
    "name": "ipython",
    "version": 3
   },
   "file_extension": ".py",
   "mimetype": "text/x-python",
   "name": "python",
   "nbconvert_exporter": "python",
   "pygments_lexer": "ipython3",
   "version": "3.8.2"
  }
 },
 "nbformat": 4,
 "nbformat_minor": 5
}
