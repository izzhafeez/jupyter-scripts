{
 "cells": [
  {
   "cell_type": "code",
   "execution_count": 35,
   "metadata": {},
   "outputs": [],
   "source": [
    "import geopandas as gpd\n",
    "import fiona\n",
    "import contextily as ctx\n",
    "import geopandas as gpd\n",
    "import pandas as pd\n",
    "from shapely import geometry\n",
    "import matplotlib.pyplot as plt\n",
    "from wilcoxon import sheets\n",
    "from tqdm import tqdm"
   ]
  },
  {
   "cell_type": "code",
   "execution_count": 12,
   "metadata": {},
   "outputs": [],
   "source": [
    "gpd.io.file.fiona.drvsupport.supported_drivers['KML'] = 'rw'\n",
    "cadastral = gpd.read_file('Documents/Geospatial/GEOSPATIAL/sla-cadastral-land-parcel/sla-cadastral-land-parcel-kml.kml', driver='KML')\n",
    "malls = sheets.getGeo(\"Malls Alternative\")"
   ]
  },
  {
   "cell_type": "code",
   "execution_count": 21,
   "metadata": {},
   "outputs": [],
   "source": [
    "cadastral[\"Area\"] = cadastral.geometry.to_crs('EPSG:2154').area\n",
    "malls = gpd.GeoDataFrame(malls, geometry=gpd.points_from_xy(malls.Longitude, malls.Latitude))"
   ]
  },
  {
   "cell_type": "code",
   "execution_count": 48,
   "metadata": {},
   "outputs": [],
   "source": [
    "cadastrald = cadastral.values.tolist()\n",
    "\n",
    "def lotArea(x):\n",
    "    area = 0\n",
    "    distance = 100000\n",
    "    for k, desc, geo, a in tqdm(cadastrald):\n",
    "        if x.within(geo):\n",
    "            area = a\n",
    "            distance = 0\n",
    "            lot = geo\n",
    "        else:\n",
    "            try:\n",
    "                dist = geo.exterior.distance(x)\n",
    "                if dist < distance:\n",
    "                    distance = dist\n",
    "                    area = a\n",
    "                    lot = geo\n",
    "            except Exception:\n",
    "                for g in geo:\n",
    "                    dist = g.exterior.distance(x)\n",
    "                    if dist < distance:\n",
    "                        distance = dist\n",
    "                        area = a\n",
    "                        lot = geo\n",
    "    return area, distance, lot"
   ]
  },
  {
   "cell_type": "code",
   "execution_count": 49,
   "metadata": {},
   "outputs": [
    {
     "name": "stderr",
     "output_type": "stream",
     "text": [
      "100%|██████████| 145889/145889 [00:02<00:00, 56742.30it/s]\n",
      "100%|██████████| 145889/145889 [00:02<00:00, 61712.99it/s]\n",
      "100%|██████████| 145889/145889 [00:02<00:00, 57467.61it/s]\n",
      "100%|██████████| 145889/145889 [00:02<00:00, 59042.26it/s]\n",
      "100%|██████████| 145889/145889 [00:02<00:00, 56837.05it/s]\n",
      "100%|██████████| 145889/145889 [00:02<00:00, 57538.53it/s]\n",
      "100%|██████████| 145889/145889 [00:02<00:00, 57316.81it/s]\n",
      "100%|██████████| 145889/145889 [00:02<00:00, 56877.38it/s]\n",
      "100%|██████████| 145889/145889 [00:03<00:00, 48130.17it/s]\n",
      "100%|██████████| 145889/145889 [00:02<00:00, 53149.89it/s]\n",
      "100%|██████████| 145889/145889 [00:02<00:00, 52982.02it/s]\n",
      "100%|██████████| 145889/145889 [00:02<00:00, 54585.26it/s]\n",
      "100%|██████████| 145889/145889 [00:02<00:00, 54338.20it/s]\n",
      "100%|██████████| 145889/145889 [00:02<00:00, 54473.63it/s]\n",
      "100%|██████████| 145889/145889 [00:02<00:00, 54186.49it/s]\n",
      "100%|██████████| 145889/145889 [00:02<00:00, 54262.55it/s]\n",
      "100%|██████████| 145889/145889 [00:02<00:00, 53525.48it/s]\n",
      "100%|██████████| 145889/145889 [00:02<00:00, 53970.06it/s]\n",
      "100%|██████████| 145889/145889 [00:02<00:00, 53268.66it/s]\n",
      "100%|██████████| 145889/145889 [00:03<00:00, 38458.31it/s]\n",
      "100%|██████████| 145889/145889 [00:04<00:00, 32194.59it/s]\n",
      "100%|██████████| 145889/145889 [00:02<00:00, 52730.29it/s]\n",
      "100%|██████████| 145889/145889 [00:02<00:00, 53160.52it/s]\n",
      "100%|██████████| 145889/145889 [00:02<00:00, 49590.72it/s]\n",
      "100%|██████████| 145889/145889 [00:03<00:00, 47782.62it/s]\n",
      "100%|██████████| 145889/145889 [00:04<00:00, 34001.85it/s]\n",
      "100%|██████████| 145889/145889 [00:03<00:00, 38012.21it/s]\n",
      "100%|██████████| 145889/145889 [00:03<00:00, 44325.85it/s]\n",
      "100%|██████████| 145889/145889 [00:02<00:00, 50169.88it/s]\n",
      "100%|██████████| 145889/145889 [00:02<00:00, 49395.65it/s]\n",
      "100%|██████████| 145889/145889 [00:02<00:00, 50601.03it/s]\n",
      "100%|██████████| 145889/145889 [00:02<00:00, 50726.34it/s]\n",
      "100%|██████████| 145889/145889 [00:02<00:00, 51214.18it/s]\n",
      "100%|██████████| 145889/145889 [00:03<00:00, 47130.25it/s]\n",
      "100%|██████████| 145889/145889 [00:03<00:00, 44553.62it/s]\n",
      "100%|██████████| 145889/145889 [00:02<00:00, 53002.67it/s]\n",
      "100%|██████████| 145889/145889 [00:02<00:00, 54092.09it/s]\n",
      "100%|██████████| 145889/145889 [00:02<00:00, 54255.25it/s]\n",
      "100%|██████████| 145889/145889 [00:02<00:00, 53847.64it/s]\n",
      "100%|██████████| 145889/145889 [00:02<00:00, 53551.93it/s]\n",
      "100%|██████████| 145889/145889 [00:02<00:00, 54421.43it/s]\n",
      "100%|██████████| 145889/145889 [00:02<00:00, 54307.15it/s]\n",
      "100%|██████████| 145889/145889 [00:02<00:00, 53880.65it/s]\n",
      "100%|██████████| 145889/145889 [00:02<00:00, 54534.87it/s]\n",
      "100%|██████████| 145889/145889 [00:02<00:00, 53449.94it/s]\n",
      "100%|██████████| 145889/145889 [00:02<00:00, 54810.96it/s]\n",
      "100%|██████████| 145889/145889 [00:02<00:00, 52375.77it/s]\n",
      "100%|██████████| 145889/145889 [00:02<00:00, 54561.68it/s]\n",
      "100%|██████████| 145889/145889 [00:02<00:00, 53720.04it/s]\n",
      "100%|██████████| 145889/145889 [00:02<00:00, 54307.24it/s]\n",
      "100%|██████████| 145889/145889 [00:02<00:00, 53139.34it/s]\n",
      "100%|██████████| 145889/145889 [00:02<00:00, 54248.88it/s]\n",
      "100%|██████████| 145889/145889 [00:02<00:00, 53931.53it/s]\n",
      "100%|██████████| 145889/145889 [00:02<00:00, 54862.75it/s]\n",
      "100%|██████████| 145889/145889 [00:02<00:00, 54938.41it/s]\n",
      "100%|██████████| 145889/145889 [00:02<00:00, 54882.40it/s]\n",
      "100%|██████████| 145889/145889 [00:02<00:00, 53134.38it/s]\n",
      "100%|██████████| 145889/145889 [00:02<00:00, 54835.30it/s]\n",
      "100%|██████████| 145889/145889 [00:02<00:00, 54861.66it/s]\n",
      "100%|██████████| 145889/145889 [00:02<00:00, 54203.95it/s]\n",
      "100%|██████████| 145889/145889 [00:02<00:00, 54474.98it/s]\n",
      "100%|██████████| 145889/145889 [00:02<00:00, 53784.30it/s]\n",
      "100%|██████████| 145889/145889 [00:02<00:00, 54597.62it/s]\n",
      "100%|██████████| 145889/145889 [00:02<00:00, 53294.02it/s]\n",
      "100%|██████████| 145889/145889 [00:02<00:00, 54072.52it/s]\n",
      "100%|██████████| 145889/145889 [00:02<00:00, 54549.59it/s]\n",
      "100%|██████████| 145889/145889 [00:02<00:00, 54269.03it/s]\n",
      "100%|██████████| 145889/145889 [00:02<00:00, 54374.51it/s]\n",
      "100%|██████████| 145889/145889 [00:02<00:00, 54330.69it/s]\n",
      "100%|██████████| 145889/145889 [00:02<00:00, 54607.07it/s]\n",
      "100%|██████████| 145889/145889 [00:02<00:00, 54873.09it/s]\n",
      "100%|██████████| 145889/145889 [00:02<00:00, 53971.23it/s]\n",
      "100%|██████████| 145889/145889 [00:02<00:00, 54379.87it/s]\n",
      "100%|██████████| 145889/145889 [00:02<00:00, 54643.51it/s]\n",
      "100%|██████████| 145889/145889 [00:02<00:00, 54821.76it/s]\n",
      "100%|██████████| 145889/145889 [00:02<00:00, 54417.29it/s]\n",
      "100%|██████████| 145889/145889 [00:02<00:00, 55158.17it/s]\n",
      "100%|██████████| 145889/145889 [00:02<00:00, 54944.43it/s]\n",
      "100%|██████████| 145889/145889 [00:02<00:00, 55010.17it/s]\n",
      "100%|██████████| 145889/145889 [00:03<00:00, 39746.28it/s]\n",
      "100%|██████████| 145889/145889 [00:03<00:00, 48225.49it/s]\n",
      "100%|██████████| 145889/145889 [00:02<00:00, 51682.51it/s]\n",
      "100%|██████████| 145889/145889 [00:02<00:00, 52138.33it/s]\n",
      "100%|██████████| 145889/145889 [00:02<00:00, 51836.49it/s]\n",
      "100%|██████████| 145889/145889 [00:02<00:00, 52270.11it/s]\n",
      "100%|██████████| 145889/145889 [00:02<00:00, 51775.82it/s]\n",
      "100%|██████████| 145889/145889 [00:02<00:00, 52475.47it/s]\n",
      "100%|██████████| 145889/145889 [00:02<00:00, 51363.27it/s]\n",
      "100%|██████████| 145889/145889 [00:02<00:00, 51920.42it/s]\n",
      "100%|██████████| 145889/145889 [00:02<00:00, 51679.58it/s]\n",
      "100%|██████████| 145889/145889 [00:02<00:00, 52416.52it/s]\n",
      "100%|██████████| 145889/145889 [00:02<00:00, 52088.20it/s]\n",
      "100%|██████████| 145889/145889 [00:02<00:00, 51980.28it/s]\n",
      "100%|██████████| 145889/145889 [00:02<00:00, 51368.24it/s]\n",
      "100%|██████████| 145889/145889 [00:02<00:00, 52042.89it/s]\n",
      "100%|██████████| 145889/145889 [00:02<00:00, 51331.06it/s]\n",
      "100%|██████████| 145889/145889 [00:02<00:00, 51988.99it/s]\n",
      "100%|██████████| 145889/145889 [00:02<00:00, 51443.82it/s]\n",
      "100%|██████████| 145889/145889 [00:03<00:00, 39353.93it/s]\n",
      "100%|██████████| 145889/145889 [00:05<00:00, 27204.80it/s]\n",
      "100%|██████████| 145889/145889 [00:04<00:00, 29199.89it/s]\n",
      "100%|██████████| 145889/145889 [00:03<00:00, 41756.89it/s]\n",
      "100%|██████████| 145889/145889 [00:02<00:00, 51002.34it/s]\n",
      "100%|██████████| 145889/145889 [00:02<00:00, 50978.77it/s]\n",
      "100%|██████████| 145889/145889 [00:02<00:00, 50963.90it/s]\n",
      "100%|██████████| 145889/145889 [00:02<00:00, 50171.05it/s]\n",
      "100%|██████████| 145889/145889 [00:02<00:00, 51985.54it/s]\n",
      "100%|██████████| 145889/145889 [00:02<00:00, 52411.25it/s]\n",
      "100%|██████████| 145889/145889 [00:02<00:00, 51165.14it/s]\n",
      "100%|██████████| 145889/145889 [00:02<00:00, 51912.71it/s]\n",
      "100%|██████████| 145889/145889 [00:03<00:00, 43665.53it/s]\n",
      "100%|██████████| 145889/145889 [00:03<00:00, 41785.48it/s]\n",
      "100%|██████████| 145889/145889 [00:02<00:00, 50576.75it/s]\n",
      "100%|██████████| 145889/145889 [00:02<00:00, 51637.68it/s]\n",
      "100%|██████████| 145889/145889 [00:02<00:00, 51236.92it/s]\n",
      "100%|██████████| 145889/145889 [00:02<00:00, 51678.38it/s]\n",
      "100%|██████████| 145889/145889 [00:02<00:00, 51427.82it/s]\n",
      "100%|██████████| 145889/145889 [00:02<00:00, 51674.21it/s]\n",
      "100%|██████████| 145889/145889 [00:02<00:00, 51392.29it/s]\n",
      "100%|██████████| 145889/145889 [00:02<00:00, 51270.22it/s]\n"
     ]
    }
   ],
   "source": [
    "lotArea = malls.geometry.apply(lotArea)"
   ]
  },
  {
   "cell_type": "code",
   "execution_count": 53,
   "metadata": {},
   "outputs": [],
   "source": [
    "malls['lotArea'] = lotArea.apply(lambda x: x[0])\n",
    "malls['dLot'] = lotArea.apply(lambda x: x[1])\n",
    "malls['lot'] = lotArea.apply(lambda x: x[2])"
   ]
  },
  {
   "cell_type": "code",
   "execution_count": 57,
   "metadata": {},
   "outputs": [
    {
     "data": {
      "text/plain": [
       "<AxesSubplot:>"
      ]
     },
     "execution_count": 57,
     "metadata": {},
     "output_type": "execute_result"
    },
    {
     "data": {
      "image/png": "[encoded data removed]",
      "text/plain": [
       "<Figure size 432x288 with 1 Axes>"
      ]
     },
     "metadata": {
      "needs_background": "light"
     },
     "output_type": "display_data"
    }
   ],
   "source": [
    "gpd.GeoDataFrame(malls,geometry=malls.lot).plot()"
   ]
  },
  {
   "cell_type": "code",
   "execution_count": 83,
   "metadata": {},
   "outputs": [],
   "source": [
    "mel = gpd.GeoDataFrame(malls, geometry=malls.lot).set_crs(\"EPSG:4326\")"
   ]
  },
  {
   "cell_type": "code",
   "execution_count": 89,
   "metadata": {},
   "outputs": [],
   "source": [
    "mel.to_crs(epsg=3857).area.to_clipboard(index=False)"
   ]
  },
  {
   "cell_type": "code",
   "execution_count": null,
   "metadata": {},
   "outputs": [],
   "source": []
  }
 ],
 "metadata": {
  "kernelspec": {
   "display_name": "Python 3",
   "language": "python",
   "name": "python3"
  },
  "language_info": {
   "codemirror_mode": {
    "name": "ipython",
    "version": 3
   },
   "file_extension": ".py",
   "mimetype": "text/x-python",
   "name": "python",
   "nbconvert_exporter": "python",
   "pygments_lexer": "ipython3",
   "version": "3.7.2"
  }
 },
 "nbformat": 4,
 "nbformat_minor": 4
}
