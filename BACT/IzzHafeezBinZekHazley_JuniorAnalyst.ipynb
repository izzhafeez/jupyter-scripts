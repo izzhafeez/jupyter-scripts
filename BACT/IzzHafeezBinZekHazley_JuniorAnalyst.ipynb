{
 "cells": [
  {
   "cell_type": "markdown",
   "id": "ifMS0RR7296m",
   "metadata": {
    "id": "ifMS0RR7296m"
   },
   "source": [
    "Please upload your submission into the google forms with the file named in the format of fullname_role.ipynb. For instance, JohnTan_JuniorAnalyst.ipynb"
   ]
  },
  {
   "cell_type": "markdown",
   "id": "d6ef7724",
   "metadata": {
    "id": "d6ef7724"
   },
   "source": [
    "## Question 1"
   ]
  },
  {
   "cell_type": "markdown",
   "id": "9e46a294",
   "metadata": {
    "id": "9e46a294"
   },
   "source": [
    "a. Write a function that generates a list of prime numbers, up till the Nth prime number."
   ]
  },
  {
   "cell_type": "code",
   "execution_count": 7,
   "id": "e531f0ca",
   "metadata": {
    "id": "e531f0ca"
   },
   "outputs": [],
   "source": [
    "import sys\n",
    "sys.setrecursionlimit(10000)\n",
    "\n",
    "def solution_1a(N):\n",
    "    '''\n",
    "    Type your answer below\n",
    "    '''\n",
    "    if N == 1:\n",
    "        return [2]\n",
    "    \n",
    "    previous_primes = solution_1a(N-1)\n",
    "    new_prime = previous_primes[-1] + 1\n",
    "    \n",
    "    while any(new_prime%prime==0 for prime in previous_primes):\n",
    "        new_prime += 1\n",
    "        \n",
    "    return previous_primes + [new_prime]"
   ]
  },
  {
   "cell_type": "markdown",
   "id": "aa18e112",
   "metadata": {
    "id": "aa18e112"
   },
   "source": [
    "b. Write a function that takes in an integer, N, and returns the Nth character in a string of all prime numbers concatenated together (i.e \"23571113...\").\n",
    "<br>\n",
    "<br>\n",
    "<b>NOTE:</b> The string of prime numbers is not provided. <b>DO NOT HARDCODE</b> the string of prime numbers.\n"
   ]
  },
  {
   "cell_type": "code",
   "execution_count": 11,
   "id": "dd7c90d2",
   "metadata": {
    "id": "dd7c90d2"
   },
   "outputs": [],
   "source": [
    "def solution_1b(N):\n",
    "    '''\n",
    "    Type your answer below\n",
    "    '''\n",
    "    return \"\".join(str(prime) for prime in solution_1a(N))"
   ]
  },
  {
   "cell_type": "markdown",
   "id": "284594c1",
   "metadata": {
    "id": "284594c1"
   },
   "source": [
    "## Question 2"
   ]
  },
  {
   "cell_type": "markdown",
   "id": "3876b4e3",
   "metadata": {
    "id": "3876b4e3"
   },
   "source": [
    "The dataset below contains movies from the IMDb database. The dataset is messy and has plenty of errors to be corrected. \n",
    "<br>\n",
    "<br>\n",
    "For this section, pick <b>any 2 </b>messy columns to clean. Some examples may include:\n",
    "<ul>\n",
    "  <li>Ensuring columns are in the right format for use cases, and are standardised across rows</li>\n",
    "  <li>Dealing with NA values or blanks</li>\n",
    "  <li>Ensuring that classes in each column are standardised</li>\n",
    "</ul>\n",
    "<br>\n",
    "<b>NOTE:</b> Indicate clearly which 2 columns are being cleaned, and the steps taken. Points are awarded based on the impact of cleaning. No extra points are awarded for cleaning more than 2 columns."
   ]
  },
  {
   "cell_type": "code",
   "execution_count": 44,
   "id": "f62d0d96",
   "metadata": {
    "id": "f62d0d96"
   },
   "outputs": [],
   "source": [
    "import numpy as np\n",
    "import pandas as pd\n",
    "import re\n",
    "%matplotlib inline"
   ]
  },
  {
   "cell_type": "code",
   "execution_count": 84,
   "id": "23077f14",
   "metadata": {
    "id": "23077f14"
   },
   "outputs": [],
   "source": [
    "df2 = pd.read_csv(\"../../BACT/junioranalyst_q2.csv\", sep=\";\")"
   ]
  },
  {
   "cell_type": "code",
   "execution_count": 19,
   "id": "37ab2c55",
   "metadata": {
    "id": "37ab2c55",
    "outputId": "c68f6421-273e-4c7c-9d31-ace1afa1cd62",
    "scrolled": true
   },
   "outputs": [
    {
     "data": {
      "text/html": [
       "<div>\n",
       "<style scoped>\n",
       "    .dataframe tbody tr th:only-of-type {\n",
       "        vertical-align: middle;\n",
       "    }\n",
       "\n",
       "    .dataframe tbody tr th {\n",
       "        vertical-align: top;\n",
       "    }\n",
       "\n",
       "    .dataframe thead th {\n",
       "        text-align: right;\n",
       "    }\n",
       "</style>\n",
       "<table border=\"1\" class=\"dataframe\">\n",
       "  <thead>\n",
       "    <tr style=\"text-align: right;\">\n",
       "      <th></th>\n",
       "      <th>IMBD title ID</th>\n",
       "      <th>Original title</th>\n",
       "      <th>Release date</th>\n",
       "      <th>Genre</th>\n",
       "      <th>Duration</th>\n",
       "      <th>Country</th>\n",
       "      <th>Content Rating</th>\n",
       "      <th>Director</th>\n",
       "      <th>Unnamed: 8</th>\n",
       "      <th>Income</th>\n",
       "      <th>Votes</th>\n",
       "      <th>Score,,,,</th>\n",
       "    </tr>\n",
       "  </thead>\n",
       "  <tbody>\n",
       "    <tr>\n",
       "      <th>0</th>\n",
       "      <td>tt0111161</td>\n",
       "      <td>The Shawshank Redemption</td>\n",
       "      <td>1995-02-10</td>\n",
       "      <td>Drama</td>\n",
       "      <td>142</td>\n",
       "      <td>USA</td>\n",
       "      <td>R</td>\n",
       "      <td>Frank Darabont</td>\n",
       "      <td>NaN</td>\n",
       "      <td>$ 28815245</td>\n",
       "      <td>2.278.845</td>\n",
       "      <td>9.3,,,,</td>\n",
       "    </tr>\n",
       "    <tr>\n",
       "      <th>1</th>\n",
       "      <td>tt0068646</td>\n",
       "      <td>The Godfather</td>\n",
       "      <td>09 21 1972</td>\n",
       "      <td>Crime, Drama</td>\n",
       "      <td>175</td>\n",
       "      <td>USA</td>\n",
       "      <td>R</td>\n",
       "      <td>Francis Ford Coppola</td>\n",
       "      <td>NaN</td>\n",
       "      <td>$ 246120974</td>\n",
       "      <td>1.572.674</td>\n",
       "      <td>9.2,,,</td>\n",
       "    </tr>\n",
       "    <tr>\n",
       "      <th>2</th>\n",
       "      <td>tt0468569</td>\n",
       "      <td>The Dark Knight</td>\n",
       "      <td>23 -07-2008</td>\n",
       "      <td>Action, Crime, Drama</td>\n",
       "      <td>152</td>\n",
       "      <td>US</td>\n",
       "      <td>PG-13</td>\n",
       "      <td>Christopher Nolan</td>\n",
       "      <td>NaN</td>\n",
       "      <td>$ 1005455211</td>\n",
       "      <td>2.241.615</td>\n",
       "      <td>9.,,</td>\n",
       "    </tr>\n",
       "    <tr>\n",
       "      <th>3</th>\n",
       "      <td>tt0071562</td>\n",
       "      <td>The Godfather: Part II</td>\n",
       "      <td>1975-09-25</td>\n",
       "      <td>Crime, Drama</td>\n",
       "      <td>220</td>\n",
       "      <td>USA</td>\n",
       "      <td>R</td>\n",
       "      <td>Francis Ford Coppola</td>\n",
       "      <td>NaN</td>\n",
       "      <td>$ 4o8,35,783</td>\n",
       "      <td>1.098.714</td>\n",
       "      <td>9,0</td>\n",
       "    </tr>\n",
       "    <tr>\n",
       "      <th>4</th>\n",
       "      <td>tt0110912</td>\n",
       "      <td>Pulp Fiction</td>\n",
       "      <td>1994-10-28</td>\n",
       "      <td>Crime, Drama</td>\n",
       "      <td></td>\n",
       "      <td>USA</td>\n",
       "      <td>R</td>\n",
       "      <td>Quentin Tarantino</td>\n",
       "      <td>NaN</td>\n",
       "      <td>$ 222831817</td>\n",
       "      <td>1.780.147</td>\n",
       "      <td>8,9f,,</td>\n",
       "    </tr>\n",
       "  </tbody>\n",
       "</table>\n",
       "</div>"
      ],
      "text/plain": [
       "  IMBD title ID            Original title  Release date                 Genre  \\\n",
       "0     tt0111161  The Shawshank Redemption    1995-02-10                 Drama   \n",
       "1     tt0068646             The Godfather    09 21 1972          Crime, Drama   \n",
       "2     tt0468569           The Dark Knight   23 -07-2008  Action, Crime, Drama   \n",
       "3     tt0071562    The Godfather: Part II    1975-09-25          Crime, Drama   \n",
       "4     tt0110912              Pulp Fiction    1994-10-28          Crime, Drama   \n",
       "\n",
       "  Duration Country Content Rating              Director  Unnamed: 8  \\\n",
       "0      142     USA              R        Frank Darabont         NaN   \n",
       "1      175     USA              R  Francis Ford Coppola         NaN   \n",
       "2      152      US          PG-13     Christopher Nolan         NaN   \n",
       "3      220     USA              R  Francis Ford Coppola         NaN   \n",
       "4              USA              R     Quentin Tarantino         NaN   \n",
       "\n",
       "         Income      Votes Score,,,,  \n",
       "0    $ 28815245  2.278.845   9.3,,,,  \n",
       "1   $ 246120974  1.572.674    9.2,,,  \n",
       "2  $ 1005455211  2.241.615      9.,,  \n",
       "3  $ 4o8,35,783  1.098.714       9,0  \n",
       "4   $ 222831817  1.780.147    8,9f,,  "
      ]
     },
     "execution_count": 19,
     "metadata": {},
     "output_type": "execute_result"
    }
   ],
   "source": [
    "df2.head()"
   ]
  },
  {
   "cell_type": "markdown",
   "id": "b8528a7f",
   "metadata": {
    "id": "e6d4ddfe"
   },
   "source": [
    "### Release Date"
   ]
  },
  {
   "cell_type": "code",
   "execution_count": 85,
   "id": "31bb6591",
   "metadata": {},
   "outputs": [
    {
     "name": "stdout",
     "output_type": "stream",
     "text": [
      "nan: expected string or bytes-like object\n"
     ]
    }
   ],
   "source": [
    "def pad_year(num: str) -> str:\n",
    "    ## Adds a 19 to the front of the year if it is too short\n",
    "    if len(num) == 2:\n",
    "        return \"19\"+num\n",
    "    return num\n",
    "\n",
    "def pad_number(num: str) -> str:\n",
    "    ## Adds a 0 in front of the month or day if it is too short\n",
    "    if len(num) == 1:\n",
    "        return \"0\"+num\n",
    "    return num\n",
    "\n",
    "def month_mapper(date: str) -> str:\n",
    "    ## Obtains the padded month number based on text\n",
    "    month_list = [\n",
    "        \"JAN\",\n",
    "        \"FEB\",\n",
    "        \"MAR\",\n",
    "        \"APR\",\n",
    "        \"MAY\",\n",
    "        \"JUN\",\n",
    "        \"JUL\",\n",
    "        \"AUG\",\n",
    "        \"SEP\",\n",
    "        \"OCT\",\n",
    "        \"NOV\",\n",
    "        \"DEC\"\n",
    "    ]\n",
    "    month = re.findall(re.compile(\"|\".join(month_list)), date.upper())[0]\n",
    "    return pad_number(str(month_list.index(month)+1))\n",
    "\n",
    "def date_cleaner(date: str) -> str:\n",
    "    try:\n",
    "        numbers = re.findall(\"\\d+\", date)\n",
    "        \n",
    "        ## If not a full regex capture is successful, then likely the date has words\n",
    "        if len(numbers) != 3:\n",
    "            month = month_mapper(date)\n",
    "            numbers.insert(1, month)\n",
    "        \n",
    "        ## Once the above month has been processed, then check where the year is\n",
    "        if len(numbers[2]) == 4:\n",
    "            year = numbers[2]\n",
    "            month = pad_number(numbers[1])\n",
    "            day = pad_number(numbers[0])\n",
    "        ## This handles two scenarios where either the year is the first number, or the year is too short\n",
    "        else:\n",
    "            year = pad_year(numbers[0])\n",
    "            month = pad_number(numbers[1])\n",
    "            day = pad_number(numbers[2])\n",
    "            \n",
    "        ## Returns the data based on the most common format\n",
    "        ## I assume we are just cleaning it, so no need for the datetime shenanigans\n",
    "        return f\"{year}-{month}-{day}\"\n",
    "        \n",
    "    except Exception as e:\n",
    "        print(str(date) + \": \" + str(e))\n",
    "        return date\n",
    "\n",
    "df2[\"Release date\"] = df2[\"Release date\"].apply(date_cleaner)"
   ]
  },
  {
   "cell_type": "markdown",
   "id": "bcff2ecb",
   "metadata": {},
   "source": [
    "### Votes"
   ]
  },
  {
   "cell_type": "code",
   "execution_count": 86,
   "id": "6c70258b",
   "metadata": {},
   "outputs": [
    {
     "name": "stdout",
     "output_type": "stream",
     "text": [
      "nan: expected string or bytes-like object\n"
     ]
    }
   ],
   "source": [
    "def votes_cleaner(votes: str) -> int:\n",
    "    try:\n",
    "        ## Even though it is all fullstops, we cannot assume it's always true, so might as well\n",
    "        numbers = re.findall(\"\\d+\", votes)\n",
    "        return int(\"\".join(numbers))\n",
    "    except Exception as e:\n",
    "        print(str(votes) + \": \" + str(e))\n",
    "        return np.nan\n",
    "\n",
    "df2[\"Votes\"] = df2[\"Votes\"].apply(votes_cleaner)"
   ]
  },
  {
   "cell_type": "markdown",
   "id": "d460d6ff",
   "metadata": {
    "id": "d460d6ff"
   },
   "source": [
    "## Question 3\n",
    "The dataset below contains salaries of people in data-related careers.\n",
    "<br>   \n",
    "Using the dataset below, come up with <b> 2 interesting visualisations </b> and describe the key insights derived from them. "
   ]
  },
  {
   "cell_type": "code",
   "execution_count": 96,
   "id": "8cb159e0",
   "metadata": {
    "id": "8cb159e0"
   },
   "outputs": [],
   "source": [
    "df3 = pd.read_csv(\"../../BACT/junioranalyst_q3.csv\")"
   ]
  },
  {
   "cell_type": "code",
   "execution_count": 97,
   "id": "2c7b09f5",
   "metadata": {
    "id": "2c7b09f5",
    "outputId": "1b611fdb-6481-4ed8-9aa8-034f7f40f645",
    "scrolled": false
   },
   "outputs": [
    {
     "data": {
      "text/html": [
       "<div>\n",
       "<style scoped>\n",
       "    .dataframe tbody tr th:only-of-type {\n",
       "        vertical-align: middle;\n",
       "    }\n",
       "\n",
       "    .dataframe tbody tr th {\n",
       "        vertical-align: top;\n",
       "    }\n",
       "\n",
       "    .dataframe thead th {\n",
       "        text-align: right;\n",
       "    }\n",
       "</style>\n",
       "<table border=\"1\" class=\"dataframe\">\n",
       "  <thead>\n",
       "    <tr style=\"text-align: right;\">\n",
       "      <th></th>\n",
       "      <th>work_year</th>\n",
       "      <th>experience_level</th>\n",
       "      <th>employment_type</th>\n",
       "      <th>job_title</th>\n",
       "      <th>salary</th>\n",
       "      <th>salary_currency</th>\n",
       "      <th>salary_in_usd</th>\n",
       "      <th>employee_residence</th>\n",
       "      <th>remote_ratio</th>\n",
       "      <th>company_location</th>\n",
       "      <th>company_size</th>\n",
       "    </tr>\n",
       "  </thead>\n",
       "  <tbody>\n",
       "    <tr>\n",
       "      <th>0</th>\n",
       "      <td>2020</td>\n",
       "      <td>MI</td>\n",
       "      <td>FT</td>\n",
       "      <td>Data Scientist</td>\n",
       "      <td>70000</td>\n",
       "      <td>EUR</td>\n",
       "      <td>79833</td>\n",
       "      <td>DE</td>\n",
       "      <td>0</td>\n",
       "      <td>DE</td>\n",
       "      <td>L</td>\n",
       "    </tr>\n",
       "    <tr>\n",
       "      <th>1</th>\n",
       "      <td>2020</td>\n",
       "      <td>SE</td>\n",
       "      <td>FT</td>\n",
       "      <td>Machine Learning Scientist</td>\n",
       "      <td>260000</td>\n",
       "      <td>USD</td>\n",
       "      <td>260000</td>\n",
       "      <td>JP</td>\n",
       "      <td>0</td>\n",
       "      <td>JP</td>\n",
       "      <td>S</td>\n",
       "    </tr>\n",
       "    <tr>\n",
       "      <th>2</th>\n",
       "      <td>2020</td>\n",
       "      <td>SE</td>\n",
       "      <td>FT</td>\n",
       "      <td>Big Data Engineer</td>\n",
       "      <td>85000</td>\n",
       "      <td>GBP</td>\n",
       "      <td>109024</td>\n",
       "      <td>GB</td>\n",
       "      <td>50</td>\n",
       "      <td>GB</td>\n",
       "      <td>M</td>\n",
       "    </tr>\n",
       "    <tr>\n",
       "      <th>3</th>\n",
       "      <td>2020</td>\n",
       "      <td>MI</td>\n",
       "      <td>FT</td>\n",
       "      <td>Product Data Analyst</td>\n",
       "      <td>20000</td>\n",
       "      <td>USD</td>\n",
       "      <td>20000</td>\n",
       "      <td>HN</td>\n",
       "      <td>0</td>\n",
       "      <td>HN</td>\n",
       "      <td>S</td>\n",
       "    </tr>\n",
       "    <tr>\n",
       "      <th>4</th>\n",
       "      <td>2020</td>\n",
       "      <td>SE</td>\n",
       "      <td>FT</td>\n",
       "      <td>Machine Learning Engineer</td>\n",
       "      <td>150000</td>\n",
       "      <td>USD</td>\n",
       "      <td>150000</td>\n",
       "      <td>US</td>\n",
       "      <td>50</td>\n",
       "      <td>US</td>\n",
       "      <td>L</td>\n",
       "    </tr>\n",
       "  </tbody>\n",
       "</table>\n",
       "</div>"
      ],
      "text/plain": [
       "   work_year experience_level employment_type                   job_title  \\\n",
       "0       2020               MI              FT              Data Scientist   \n",
       "1       2020               SE              FT  Machine Learning Scientist   \n",
       "2       2020               SE              FT           Big Data Engineer   \n",
       "3       2020               MI              FT        Product Data Analyst   \n",
       "4       2020               SE              FT   Machine Learning Engineer   \n",
       "\n",
       "   salary salary_currency  salary_in_usd employee_residence  remote_ratio  \\\n",
       "0   70000             EUR          79833                 DE             0   \n",
       "1  260000             USD         260000                 JP             0   \n",
       "2   85000             GBP         109024                 GB            50   \n",
       "3   20000             USD          20000                 HN             0   \n",
       "4  150000             USD         150000                 US            50   \n",
       "\n",
       "  company_location company_size  \n",
       "0               DE            L  \n",
       "1               JP            S  \n",
       "2               GB            M  \n",
       "3               HN            S  \n",
       "4               US            L  "
      ]
     },
     "execution_count": 97,
     "metadata": {},
     "output_type": "execute_result"
    }
   ],
   "source": [
    "df3.head()"
   ]
  },
  {
   "cell_type": "code",
   "execution_count": 134,
   "id": "7d1dec1d",
   "metadata": {},
   "outputs": [
    {
     "data": {
      "text/plain": [
       "<matplotlib.legend.Legend at 0x7ff13a64ce20>"
      ]
     },
     "execution_count": 134,
     "metadata": {},
     "output_type": "execute_result"
    },
    {
     "data": {
      "image/png": "[encoded data removed]",
      "text/plain": [
       "<Figure size 432x288 with 1 Axes>"
      ]
     },
     "metadata": {
      "needs_background": "light"
     },
     "output_type": "display_data"
    }
   ],
   "source": [
    "ax = df3[df3.employee_residence.str.contains(\"US|GB|IN\")]\\\n",
    "    .groupby([\"work_year\", \"employee_residence\"])\\\n",
    "    .agg(\"mean\")\\\n",
    "    .salary_in_usd.unstack()\\\n",
    "    .plot.bar(\n",
    "        xlabel=\"Work Year\",\n",
    "        ylabel=\"Salary (USD)\",\n",
    "        title=\"Mean salary trend for US, GB and IN residents\",\n",
    "    )\n",
    "ax.legend(loc=\"lower right\")"
   ]
  },
  {
   "cell_type": "markdown",
   "id": "795a2d5a",
   "metadata": {},
   "source": [
    "### Mean Salary Trend for US, GB and IN residents\n",
    "India sees an sharp upward trend in mean salary while the UK and the US both see downward trends."
   ]
  },
  {
   "cell_type": "code",
   "execution_count": 136,
   "id": "34808146",
   "metadata": {},
   "outputs": [
    {
     "data": {
      "text/plain": [
       "<matplotlib.legend.Legend at 0x7ff13a3bd0d0>"
      ]
     },
     "execution_count": 136,
     "metadata": {},
     "output_type": "execute_result"
    },
    {
     "data": {
      "image/png": "[encoded data removed]",
      "text/plain": [
       "<Figure size 432x288 with 1 Axes>"
      ]
     },
     "metadata": {
      "needs_background": "light"
     },
     "output_type": "display_data"
    }
   ],
   "source": [
    "sorter = [\"S\", \"M\", \"L\"]\n",
    "df3.company_size = df3.company_size.astype(\"category\")\n",
    "df3.company_size.cat.set_categories(sorter)\n",
    "\n",
    "ax = df3.groupby([\"work_year\", \"company_size\"])\\\n",
    "    .job_title\\\n",
    "    .nunique()\\\n",
    "    .unstack()\\\n",
    "    .plot.bar(\n",
    "        xlabel=\"Company Size\",\n",
    "        ylabel=\"Number of Unique Jobs\",\n",
    "        title=\"Number of Unique Jobs by Company Size\"\n",
    "    )\n",
    "ax.legend(loc=\"upper left\")"
   ]
  },
  {
   "cell_type": "markdown",
   "id": "2436803f",
   "metadata": {},
   "source": [
    "### Number of Unique Jobs by Company Size\n",
    "2021 showed the most number of job titles, and larger companies tend to have more unique job titles in general."
   ]
  }
 ],
 "metadata": {
  "colab": {
   "collapsed_sections": [],
   "name": "BACT_JuniorAnalyst.ipynb",
   "provenance": []
  },
  "kernelspec": {
   "display_name": "Python 3",
   "language": "python",
   "name": "python3"
  },
  "language_info": {
   "codemirror_mode": {
    "name": "ipython",
    "version": 3
   },
   "file_extension": ".py",
   "mimetype": "text/x-python",
   "name": "python",
   "nbconvert_exporter": "python",
   "pygments_lexer": "ipython3",
   "version": "3.8.2"
  }
 },
 "nbformat": 4,
 "nbformat_minor": 5
}
