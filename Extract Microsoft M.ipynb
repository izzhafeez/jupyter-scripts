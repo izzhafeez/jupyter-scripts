{
 "cells": [
  {
   "cell_type": "code",
   "execution_count": 1,
   "metadata": {},
   "outputs": [],
   "source": [
    "from wilcoxon.spiderman import *\n",
    "import re\n",
    "import pandas as pd\n",
    "from tqdm import tqdm"
   ]
  },
  {
   "cell_type": "code",
   "execution_count": 28,
   "metadata": {},
   "outputs": [
    {
     "name": "stderr",
     "output_type": "stream",
     "text": [
      "100%|██████████| 24/24 [00:11<00:00,  2.04it/s]\n"
     ]
    }
   ],
   "source": [
    "main = website(\"https://docs.microsoft.com/en-us/powerquery-m/power-query-m-function-reference\")\n",
    "submains = [\"https://docs.microsoft.com/en-us/powerquery-m/\" + x['href'] for x in main.html(attrs={\"data-linktype\":\"relative-path\"})[1:]]\n",
    "subsubmains = []\n",
    "for submain in tqdm(submains):\n",
    "    submain = website(submain)\n",
    "    subsubmains.extend([\"https://docs.microsoft.com/en-us/powerquery-m/\" + x['href'] for x in submain.html(attrs={\"data-linktype\":\"relative-path\"})])\n"
   ]
  },
  {
   "cell_type": "code",
   "execution_count": 86,
   "metadata": {},
   "outputs": [],
   "source": [
    "def getData(link):\n",
    "    site = website(link)\n",
    "    siteInfo = {\"Link\":link}\n",
    "    try:\n",
    "        subject = ''.join(list(site.html.find(\"h2\",text=\"Syntax\").find_next(\"pre\").strings)).replace(\"\\n\",\"\")\n",
    "        siteInfo['Subject'] = subject\n",
    "    except:\n",
    "        siteInfo['Subject'] = site.html.find(\"h1\").text\n",
    "    try:\n",
    "        about = ''.join(list(site.html.find(\"h2\",text=\"About\").find_next(\"p\").strings)).replace(\"\\n\",\"\")\n",
    "        siteInfo['Explanation'] = about\n",
    "    except: None\n",
    "    try:\n",
    "        explanation = ''.join(list(site.html.find(\"h2\",text=re.compile(\"Example\")).find_next(\"p\").strings)).replace(\"\\n\",\"\")\n",
    "        example = ''.join(list(site.html.find(\"h2\",text=re.compile(\"Example\")).find_next(\"pre\").strings)).replace(\"\\n\",\"\")\n",
    "        siteInfo['Example'] = explanation + \"\\n\" + example\n",
    "    except: None\n",
    "    return siteInfo\n"
   ]
  },
  {
   "cell_type": "code",
   "execution_count": 87,
   "metadata": {},
   "outputs": [
    {
     "name": "stderr",
     "output_type": "stream",
     "text": [
      "100%|██████████| 753/753 [05:30<00:00,  2.28it/s]\n"
     ]
    }
   ],
   "source": [
    "data = []\n",
    "for subsubmain in tqdm(subsubmains):\n",
    "    data.append(getData(subsubmain))"
   ]
  },
  {
   "cell_type": "code",
   "execution_count": 90,
   "metadata": {},
   "outputs": [],
   "source": [
    "df = pd.DataFrame(data,columns = ['Software', 'Subject', 'Type', 'Explanation', 'Return', 'Example', 'Remarks', 'Package', 'Level', 'Link'])"
   ]
  },
  {
   "cell_type": "code",
   "execution_count": 94,
   "metadata": {},
   "outputs": [],
   "source": [
    "df['Software'] = \"M\"\n",
    "df['Type'] = \"function\""
   ]
  },
  {
   "cell_type": "code",
   "execution_count": 96,
   "metadata": {},
   "outputs": [],
   "source": [
    "df.to_clipboard()"
   ]
  },
  {
   "cell_type": "code",
   "execution_count": null,
   "metadata": {},
   "outputs": [],
   "source": []
  }
 ],
 "metadata": {
  "kernelspec": {
   "display_name": "Python 3",
   "language": "python",
   "name": "python3"
  },
  "language_info": {
   "codemirror_mode": {
    "name": "ipython",
    "version": 3
   },
   "file_extension": ".py",
   "mimetype": "text/x-python",
   "name": "python",
   "nbconvert_exporter": "python",
   "pygments_lexer": "ipython3",
   "version": "3.8.5"
  }
 },
 "nbformat": 4,
 "nbformat_minor": 4
}
