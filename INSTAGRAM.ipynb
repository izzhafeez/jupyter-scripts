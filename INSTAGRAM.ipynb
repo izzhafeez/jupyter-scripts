{
 "cells": [
  {
   "cell_type": "code",
   "execution_count": 1,
   "metadata": {},
   "outputs": [],
   "source": [
    "from sqlalchemy import create_engine, MetaData, Table, Column, Integer, String, text\n",
    "from sqlalchemy.sql import select\n",
    "from wilcoxon.vocab import *\n",
    "from wilcoxon.language import *\n",
    "import telepot\n",
    "import os\n",
    "import time\n",
    "import pyautogui\n",
    "import webbrowser\n",
    "import re\n",
    "from PIL import Image\n",
    "from telepot.loop import MessageLoop\n",
    "import sys\n",
    "import pandas as pd\n",
    "import numpy as np\n",
    "\n",
    "pathToFolder = 'Documents/Instagram'"
   ]
  },
  {
   "cell_type": "code",
   "execution_count": 9,
   "metadata": {},
   "outputs": [],
   "source": [
    "chineseV = getVocab('Chinese')\n",
    "japaneseV = getVocab('Japanese')\n",
    "koreanV = getVocab('Korean')\n",
    "engine = create_engine(f'sqlite:///{pathToFolder}/vocab.db')"
   ]
  },
  {
   "cell_type": "code",
   "execution_count": 10,
   "metadata": {
    "scrolled": false
   },
   "outputs": [],
   "source": [
    "def setUp():\n",
    "\n",
    "    meta = MetaData()\n",
    "\n",
    "    chineseSQL = Table('chinese', meta,\n",
    "                   Column('id', Integer, primary_key = True),\n",
    "                   Column('Word', String),\n",
    "                   Column('Traditional', String),\n",
    "                   Column('Word Pinyin', String),\n",
    "                   Column('Purposes', String),\n",
    "                   Column('Usages', String),\n",
    "                   Column('Examples', String),\n",
    "                   Column('Example pinyin', String),\n",
    "                   Column('Example translation', String),\n",
    "                   Column('Level', String))\n",
    "\n",
    "    japaneseSQL = Table('japanese', meta,\n",
    "                   Column('id', Integer, primary_key = True),\n",
    "                   Column('Word', String),\n",
    "                   Column('Transliteration', String),\n",
    "                   Column('Chinese', String),\n",
    "                   Column('Purposes', String),\n",
    "                   Column('Usages', String),\n",
    "                   Column('Examples', String),\n",
    "                   Column('English', String),\n",
    "                   Column('Translation', String),\n",
    "                   Column('Level', String),\n",
    "                   Column('Link', String))\n",
    "\n",
    "    koreanSQL = Table('korean', meta,\n",
    "                   Column('id', Integer, primary_key = True),\n",
    "                   Column('Word', String),\n",
    "                   Column('Romanized', String),\n",
    "                   Column('Chinese', String),\n",
    "                   Column('Purposes', String),\n",
    "                   Column('Usages', String),\n",
    "                   Column('Sentences', String),\n",
    "                   Column('Translation', String),\n",
    "                   Column('Lesson', String),\n",
    "                   Column('Link', String))\n",
    "\n",
    "    meta.create_all(engine)\n",
    "    \n",
    "    conn = engine.connect()\n",
    "    conn.execute(text(\"DROP TABLE chinese\"))\n",
    "    conn.execute(text(\"DROP TABLE japanese\"))\n",
    "    conn.execute(text(\"DROP TABLE korean\"))\n",
    "    conn.execute(chineseSQL.insert(), chineseV.to_dict('records'))\n",
    "    conn.execute(japaneseSQL.insert(), japaneseV.to_dict('records'))\n",
    "    conn.execute(koreanSQL.insert(), koreanV.to_dict('records'))\n",
    "    \n",
    "def newVocab():\n",
    "    chinese"
   ]
  },
  {
   "cell_type": "code",
   "execution_count": 3,
   "metadata": {
    "scrolled": true
   },
   "outputs": [
    {
     "name": "stdout",
     "output_type": "stream",
     "text": [
      "2020-11-18 11:38:47,232 INFO sqlalchemy.engine.base.Engine SELECT CAST('test plain returns' AS VARCHAR(60)) AS anon_1\n",
      "2020-11-18 11:38:47,233 INFO sqlalchemy.engine.base.Engine ()\n",
      "2020-11-18 11:38:47,236 INFO sqlalchemy.engine.base.Engine SELECT CAST('test unicode returns' AS VARCHAR(60)) AS anon_1\n",
      "2020-11-18 11:38:47,237 INFO sqlalchemy.engine.base.Engine ()\n",
      "2020-11-18 11:38:47,239 INFO sqlalchemy.engine.base.Engine SELECT name FROM sqlite_master WHERE type='table' ORDER BY name\n",
      "2020-11-18 11:38:47,242 INFO sqlalchemy.engine.base.Engine ()\n",
      "2020-11-18 11:38:47,250 INFO sqlalchemy.engine.base.Engine SELECT name FROM sqlite_master WHERE type='view' ORDER BY name\n",
      "2020-11-18 11:38:47,268 INFO sqlalchemy.engine.base.Engine ()\n",
      "2020-11-18 11:38:47,276 INFO sqlalchemy.engine.base.Engine PRAGMA main.table_info(\"chinese\")\n",
      "2020-11-18 11:38:47,288 INFO sqlalchemy.engine.base.Engine ()\n",
      "2020-11-18 11:38:47,301 INFO sqlalchemy.engine.base.Engine SELECT sql FROM  (SELECT * FROM sqlite_master UNION ALL   SELECT * FROM sqlite_temp_master) WHERE name = 'chinese' AND type = 'table'\n",
      "2020-11-18 11:38:47,311 INFO sqlalchemy.engine.base.Engine ()\n",
      "2020-11-18 11:38:47,323 INFO sqlalchemy.engine.base.Engine PRAGMA main.foreign_key_list(\"chinese\")\n",
      "2020-11-18 11:38:47,330 INFO sqlalchemy.engine.base.Engine ()\n",
      "2020-11-18 11:38:47,339 INFO sqlalchemy.engine.base.Engine PRAGMA temp.foreign_key_list(\"chinese\")\n",
      "2020-11-18 11:38:47,355 INFO sqlalchemy.engine.base.Engine ()\n",
      "2020-11-18 11:38:47,360 INFO sqlalchemy.engine.base.Engine SELECT sql FROM  (SELECT * FROM sqlite_master UNION ALL   SELECT * FROM sqlite_temp_master) WHERE name = 'chinese' AND type = 'table'\n",
      "2020-11-18 11:38:47,362 INFO sqlalchemy.engine.base.Engine ()\n",
      "2020-11-18 11:38:47,368 INFO sqlalchemy.engine.base.Engine PRAGMA main.index_list(\"chinese\")\n",
      "2020-11-18 11:38:47,369 INFO sqlalchemy.engine.base.Engine ()\n",
      "2020-11-18 11:38:47,372 INFO sqlalchemy.engine.base.Engine PRAGMA temp.index_list(\"chinese\")\n",
      "2020-11-18 11:38:47,374 INFO sqlalchemy.engine.base.Engine ()\n",
      "2020-11-18 11:38:47,375 INFO sqlalchemy.engine.base.Engine PRAGMA main.index_list(\"chinese\")\n",
      "2020-11-18 11:38:47,379 INFO sqlalchemy.engine.base.Engine ()\n",
      "2020-11-18 11:38:47,381 INFO sqlalchemy.engine.base.Engine PRAGMA temp.index_list(\"chinese\")\n",
      "2020-11-18 11:38:47,383 INFO sqlalchemy.engine.base.Engine ()\n",
      "2020-11-18 11:38:47,386 INFO sqlalchemy.engine.base.Engine SELECT sql FROM  (SELECT * FROM sqlite_master UNION ALL   SELECT * FROM sqlite_temp_master) WHERE name = 'chinese' AND type = 'table'\n",
      "2020-11-18 11:38:47,388 INFO sqlalchemy.engine.base.Engine ()\n",
      "2020-11-18 11:38:47,401 INFO sqlalchemy.engine.base.OptionEngine SELECT chinese.id, chinese.\"Word\", chinese.\"Traditional\", chinese.\"Word Pinyin\", chinese.\"Purposes\", chinese.\"Usages\", chinese.\"Examples\", chinese.\"Example pinyin\", chinese.\"Example translation\", chinese.\"Level\" \n",
      "FROM chinese\n",
      "2020-11-18 11:38:47,403 INFO sqlalchemy.engine.base.OptionEngine ()\n"
     ]
    }
   ],
   "source": [
    "chineseV2 = pd.read_sql_table('chinese',con=engine)"
   ]
  },
  {
   "cell_type": "code",
   "execution_count": 4,
   "metadata": {},
   "outputs": [],
   "source": [
    "toAdd = chineseV[chineseV['Word'].isin(list(set(chineseV['Word']) - set(chineseV2['Word'])))]"
   ]
  },
  {
   "cell_type": "code",
   "execution_count": 5,
   "metadata": {},
   "outputs": [],
   "source": [
    "results = toAdd[['Word','Usages']].apply(lambda x: tryChineseFullProcess(x[0],x[1]), axis=1)"
   ]
  },
  {
   "cell_type": "code",
   "execution_count": 1,
   "metadata": {},
   "outputs": [],
   "source": [
    "from wilcoxon.language import *\n",
    "from wilcoxon.spiderman import *"
   ]
  },
  {
   "cell_type": "code",
   "execution_count": 6,
   "metadata": {},
   "outputs": [],
   "source": [
    "results = japaneseFull('物', meanings='you')"
   ]
  },
  {
   "cell_type": "code",
   "execution_count": 7,
   "metadata": {},
   "outputs": [
    {
     "data": {
      "text/plain": [
       "{'Word': '物',\n",
       " 'Usages': 'you',\n",
       " 'Transliteration': 'wù',\n",
       " 'Chinese': 'wù',\n",
       " 'Examples': '物は試し。',\n",
       " 'English': 'Mono wa Tameshi。',\n",
       " 'Translation': \"You'll never know unless you try.\"}"
      ]
     },
     "execution_count": 7,
     "metadata": {},
     "output_type": "execute_result"
    }
   ],
   "source": [
    "results"
   ]
  },
  {
   "cell_type": "code",
   "execution_count": 8,
   "metadata": {},
   "outputs": [],
   "source": [
    "site = website('http://www.japaneseverbconjugator.com/VerbDetails.asp?txtVerb=%E9%A3%9F%E3%81%B9%E3%82%8B')"
   ]
  },
  {
   "cell_type": "code",
   "execution_count": 13,
   "metadata": {},
   "outputs": [],
   "source": [
    "from wilcoxon.vocab import *\n",
    "japaneseV = getVocab('Japanese')"
   ]
  },
  {
   "cell_type": "code",
   "execution_count": 49,
   "metadata": {},
   "outputs": [
    {
     "data": {
      "text/plain": [
       "[<div class=\"tatoeba\">\n",
       " <div class=\"fav\">\n",
       " <div><a class=\"logo\" href=\"javascript:show_favorites_warning();\" id=\"link\">\n",
       " <img class=\"star\" src=\"/assets/star_outline-793a47df73b661374bd4f5a6eaafbc572f7ed07edebb74b70f008e45cc58ad2b.png\"/></a></div>\n",
       " </div>\n",
       " <span class=\"tat_audio\" id=\"audio9754\" onclick=\"speakJapanese('ものはためし。')\"><i aria-hidden=\"true\" class=\"fa fa-volume-up\"></i></span>\n",
       " <div class=\"linkbar\"><a class=\"action\" href=\"/example/9754\" id=\"tatdetails_9754\">DETAILS</a></div>\n",
       " <div class=\"tat-tf\" id=\"tf_9754\" onclick=\"toggleFurigana(9754)\"><span class=\"ja-furigana\"></span></div>\n",
       " <a class=\"tatvoc\" onclick='tatDetails(this,9754,\"物\")'><span class=\"f_container\"><div class=\"furigana tf9754\">もの</div><div class=\"f_kanji\">物</div></span></a><span class=\"tatvoc-stop\">は</span><a class=\"tatvoc\" onclick='tatDetails(this,9754,\"試し\")'><span class=\"f_container\"><div class=\"furigana tf9754\">ため</div><div class=\"f_kanji\">試</div></span>し</a><span class=\"tatvoc-stop\">。</span>\n",
       " <br/>\n",
       "       You'll never know unless you try.<br/>\n",
       " <div class=\"tatdd\" id=\"tatdd_9754\"></div>\n",
       " </div>]"
      ]
     },
     "execution_count": 49,
     "metadata": {},
     "output_type": "execute_result"
    }
   ],
   "source": [
    "list(filter(lambda x:re.compile('try').search(x.get_text()),site.html(class_='tatoeba')))"
   ]
  },
  {
   "cell_type": "code",
   "execution_count": 50,
   "metadata": {},
   "outputs": [
    {
     "data": {
      "text/plain": [
       "re.compile(r'(asdf|asrgrg)', re.UNICODE)"
      ]
     },
     "execution_count": 50,
     "metadata": {},
     "output_type": "execute_result"
    }
   ],
   "source": [
    "regOR(['asdf','asrgrg'])"
   ]
  },
  {
   "cell_type": "code",
   "execution_count": null,
   "metadata": {},
   "outputs": [],
   "source": []
  }
 ],
 "metadata": {
  "kernelspec": {
   "display_name": "Python 3",
   "language": "python",
   "name": "python3"
  },
  "language_info": {
   "codemirror_mode": {
    "name": "ipython",
    "version": 3
   },
   "file_extension": ".py",
   "mimetype": "text/x-python",
   "name": "python",
   "nbconvert_exporter": "python",
   "pygments_lexer": "ipython3",
   "version": "3.7.2"
  }
 },
 "nbformat": 4,
 "nbformat_minor": 4
}
